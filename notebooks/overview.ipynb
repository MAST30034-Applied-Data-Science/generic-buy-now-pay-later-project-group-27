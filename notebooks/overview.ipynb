{
 "cells": [
  {
   "cell_type": "code",
   "execution_count": 1,
   "metadata": {},
   "outputs": [
    {
     "name": "stderr",
     "output_type": "stream",
     "text": [
      "Setting default log level to \"WARN\".\n",
      "To adjust logging level use sc.setLogLevel(newLevel). For SparkR, use setLogLevel(newLevel).\n"
     ]
    },
    {
     "name": "stdout",
     "output_type": "stream",
     "text": [
      "22/08/30 01:23:19 WARN NativeCodeLoader: Unable to load native-hadoop library for your platform... using builtin-java classes where applicable\n"
     ]
    }
   ],
   "source": [
    "from pyspark.sql import SparkSession\n",
    "from pyspark.sql.functions import *\n",
    "\n",
    "spark = (\n",
    "    SparkSession.builder.appName(\"ADS project 2\")\n",
    "    .config(\"spark.sql.repl.eagerEval.enabled\", True) \n",
    "    .config(\"spark.sql.parquet.cacheMetadata\", \"true\")\n",
    "    .config(\"spark.sql.session.timeZone\", \"Etc/UTC\")\n",
    "    .config(\"spark.executor.memory\", \"2g\")\n",
    "    .config(\"spark.driver.memory\", \"4g\")\n",
    "    .getOrCreate()\n",
    ")"
   ]
  },
  {
   "cell_type": "code",
   "execution_count": 2,
   "metadata": {},
   "outputs": [
    {
     "name": "stderr",
     "output_type": "stream",
     "text": [
      "                                                                                \r"
     ]
    }
   ],
   "source": [
    "data_loc = \"../data/tables/\"\n",
    "consumer = spark.read.parquet(data_loc+\"consumer_user_details.parquet\")\n",
    "tbl_consumer = spark.read.csv(data_loc+\"tbl_consumer.csv\", sep=\"|\", header=True)\n",
    "tbl_merchant = spark.read.parquet(data_loc+\"tbl_merchants.parquet\")\n",
    "transact = spark.read.parquet(data_loc+\"transactions_20210228_20210827_snapshot/\")"
   ]
  },
  {
   "cell_type": "code",
   "execution_count": 3,
   "metadata": {},
   "outputs": [
    {
     "name": "stderr",
     "output_type": "stream",
     "text": [
      "                                                                                \r"
     ]
    },
    {
     "data": {
      "text/html": [
       "<table border='1'>\n",
       "<tr><th>user_id</th><th>consumer_id</th></tr>\n",
       "<tr><td>1</td><td>1195503</td></tr>\n",
       "<tr><td>2</td><td>179208</td></tr>\n",
       "<tr><td>3</td><td>1194530</td></tr>\n",
       "<tr><td>4</td><td>154128</td></tr>\n",
       "<tr><td>5</td><td>712975</td></tr>\n",
       "</table>\n"
      ],
      "text/plain": [
       "+-------+-----------+\n",
       "|user_id|consumer_id|\n",
       "+-------+-----------+\n",
       "|      1|    1195503|\n",
       "|      2|     179208|\n",
       "|      3|    1194530|\n",
       "|      4|     154128|\n",
       "|      5|     712975|\n",
       "+-------+-----------+"
      ]
     },
     "execution_count": 3,
     "metadata": {},
     "output_type": "execute_result"
    }
   ],
   "source": [
    "consumer.limit(5)"
   ]
  },
  {
   "cell_type": "code",
   "execution_count": 4,
   "metadata": {},
   "outputs": [
    {
     "data": {
      "text/html": [
       "<table border='1'>\n",
       "<tr><th>name</th><th>address</th><th>state</th><th>postcode</th><th>gender</th><th>consumer_id</th></tr>\n",
       "<tr><td>Yolanda Williams</td><td>413 Haney Gardens...</td><td>WA</td><td>6935</td><td>Female</td><td>1195503</td></tr>\n",
       "<tr><td>Mary Smith</td><td>3764 Amber Oval</td><td>NSW</td><td>2782</td><td>Female</td><td>179208</td></tr>\n",
       "<tr><td>Jill Jones MD</td><td>40693 Henry Greens</td><td>NT</td><td>862</td><td>Female</td><td>1194530</td></tr>\n",
       "<tr><td>Lindsay Jimenez</td><td>00653 Davenport C...</td><td>NSW</td><td>2780</td><td>Female</td><td>154128</td></tr>\n",
       "<tr><td>Rebecca Blanchard</td><td>9271 Michael Mano...</td><td>WA</td><td>6355</td><td>Female</td><td>712975</td></tr>\n",
       "</table>\n"
      ],
      "text/plain": [
       "+-----------------+--------------------+-----+--------+------+-----------+\n",
       "|             name|             address|state|postcode|gender|consumer_id|\n",
       "+-----------------+--------------------+-----+--------+------+-----------+\n",
       "| Yolanda Williams|413 Haney Gardens...|   WA|    6935|Female|    1195503|\n",
       "|       Mary Smith|     3764 Amber Oval|  NSW|    2782|Female|     179208|\n",
       "|    Jill Jones MD|  40693 Henry Greens|   NT|     862|Female|    1194530|\n",
       "|  Lindsay Jimenez|00653 Davenport C...|  NSW|    2780|Female|     154128|\n",
       "|Rebecca Blanchard|9271 Michael Mano...|   WA|    6355|Female|     712975|\n",
       "+-----------------+--------------------+-----+--------+------+-----------+"
      ]
     },
     "execution_count": 4,
     "metadata": {},
     "output_type": "execute_result"
    }
   ],
   "source": [
    "tbl_consumer.limit(5)"
   ]
  },
  {
   "cell_type": "code",
   "execution_count": 5,
   "metadata": {},
   "outputs": [
    {
     "data": {
      "text/html": [
       "<table border='1'>\n",
       "<tr><th>name</th><th>tags</th><th>merchant_abn</th></tr>\n",
       "<tr><td>Felis Limited</td><td>((furniture, home...</td><td>10023283211</td></tr>\n",
       "<tr><td>Arcu Ac Orci Corp...</td><td>([cable, satellit...</td><td>10142254217</td></tr>\n",
       "<tr><td>Nunc Sed Company</td><td>([jewelry, watch,...</td><td>10165489824</td></tr>\n",
       "<tr><td>Ultricies Digniss...</td><td>([wAtch, clock, a...</td><td>10187291046</td></tr>\n",
       "<tr><td>Enim Condimentum PC</td><td>([music shops - m...</td><td>10192359162</td></tr>\n",
       "</table>\n"
      ],
      "text/plain": [
       "+--------------------+--------------------+------------+\n",
       "|                name|                tags|merchant_abn|\n",
       "+--------------------+--------------------+------------+\n",
       "|       Felis Limited|((furniture, home...| 10023283211|\n",
       "|Arcu Ac Orci Corp...|([cable, satellit...| 10142254217|\n",
       "|    Nunc Sed Company|([jewelry, watch,...| 10165489824|\n",
       "|Ultricies Digniss...|([wAtch, clock, a...| 10187291046|\n",
       "| Enim Condimentum PC|([music shops - m...| 10192359162|\n",
       "+--------------------+--------------------+------------+"
      ]
     },
     "execution_count": 5,
     "metadata": {},
     "output_type": "execute_result"
    }
   ],
   "source": [
    "tbl_merchant.limit(5)"
   ]
  },
  {
   "cell_type": "code",
   "execution_count": 6,
   "metadata": {},
   "outputs": [
    {
     "name": "stdout",
     "output_type": "stream",
     "text": [
      "+-----------------------------------------------------------------------------------------------------------------+\n",
      "|tags                                                                                                             |\n",
      "+-----------------------------------------------------------------------------------------------------------------+\n",
      "|((furniture, home furnishings and equipment shops, and manufacturers, except appliances), (e), (take rate: 0.18))|\n",
      "|([cable, satellite, and otHer pay television and radio services], [b], [take rate: 4.22])                        |\n",
      "|([jewelry, watch, clock, and silverware shops], [b], [take rate: 4.40])                                          |\n",
      "|([wAtch, clock, and jewelry repair shops], [b], [take rate: 3.29])                                               |\n",
      "|([music shops - musical instruments, pianos, and sheet music], [a], [take rate: 6.33])                           |\n",
      "|[(gift, card, novelty, and souvenir shops), (a), (take rate: 6.34)]                                              |\n",
      "|[(computers, comPUter peripheral equipment, and softwAre), (b), (take rate: 4.32)]                               |\n",
      "|[[watch, clock, and jewelry repair shops], [c], [take rate: 2.39]]                                               |\n",
      "|([computer programming , data processing, and integrated systems design services], [a], [take rate: 5.71])       |\n",
      "|[(furniture, home furnishings and equipment shopS, and manufacturers, except appliances), (a), (take rate: 6.61)]|\n",
      "|([computers, computer peripheral equipment, and software], [a], [take rate: 6.34])                               |\n",
      "|((equipment, tool, furniture, and appliance  rent al and leAsing), (b), (take rate: 3.57))                       |\n",
      "|([music shops - musical instruments, pianos, and sheet music], [b], [take rate: 3.63])                           |\n",
      "|[[artist supply and craft  shops], [b], [take rate: 3.17]]                                                       |\n",
      "|([florists supplies, nursery stock, and flowers], [a], [take rate: 6.61])                                        |\n",
      "|([computers, computer peripheral  equipment, and software], [a], [take rate: 5.54])                              |\n",
      "|[[antique shops - sales, repairs, and restoration serVices], [a], [take rate: 6.93]]                             |\n",
      "|[[motor vehicle supplies and new parts], [b], [take rate: 4.97]]                                                 |\n",
      "|[(moTor vehicle supplies and new parts), (a), (take rate: 5.77)]                                                 |\n",
      "|([gift, card, novelty, and souvenir shops], [c], [take rate: 2.95])                                              |\n",
      "+-----------------------------------------------------------------------------------------------------------------+\n",
      "only showing top 20 rows\n",
      "\n"
     ]
    }
   ],
   "source": [
    "tbl_merchant.select(\"tags\").show(truncate=False)"
   ]
  },
  {
   "cell_type": "markdown",
   "metadata": {},
   "source": [
    "<h2> 1. Standardize column format of table</h2>"
   ]
  },
  {
   "cell_type": "markdown",
   "metadata": {},
   "source": [
    "<h3>1.1 \"tbl_merchants.parquet\"</h3>"
   ]
  },
  {
   "cell_type": "code",
   "execution_count": 7,
   "metadata": {},
   "outputs": [],
   "source": [
    "# separate \"tags\" into \"items\", \"revenue_level\", \"take_rate\"\n",
    "preprocessed_tbl_merchant = tbl_merchant.withColumn(\"split_tags\", split(col(\"tags\"), \",\")) \\\n",
    "            .withColumn(\"take_rate\", element_at(col(\"split_tags\"), -1)) \\\n",
    "            .withColumn(\"revenue_level\", element_at(col(\"split_tags\"), -2)) \\\n",
    "            .withColumn(\"items\", slice(reverse(col(\"split_tags\")), 3, 100)) \\\n",
    "            .withColumn(\"items\", reverse(col(\"items\")))\n"
   ]
  },
  {
   "cell_type": "code",
   "execution_count": 8,
   "metadata": {},
   "outputs": [
    {
     "name": "stdout",
     "output_type": "stream",
     "text": [
      "+---------------------------------------------------------------------------------------------+\n",
      "|items                                                                                        |\n",
      "+---------------------------------------------------------------------------------------------+\n",
      "|[((furniture,  home furnishings and equipment shops,  and manufacturers,  except appliances)]|\n",
      "|[([cable,  satellite,  and otHer pay television and radio services]]                         |\n",
      "|[([jewelry,  watch,  clock,  and silverware shops]]                                          |\n",
      "|[([wAtch,  clock,  and jewelry repair shops]]                                                |\n",
      "|[([music shops - musical instruments,  pianos,  and sheet music]]                            |\n",
      "|[[(gift,  card,  novelty,  and souvenir shops)]                                              |\n",
      "|[[(computers,  comPUter peripheral equipment,  and softwAre)]                                |\n",
      "|[[[watch,  clock,  and jewelry repair shops]]                                                |\n",
      "|[([computer programming ,  data processing,  and integrated systems design services]]        |\n",
      "|[[(furniture,  home furnishings and equipment shopS,  and manufacturers,  except appliances)]|\n",
      "|[([computers,  computer peripheral equipment,  and software]]                                |\n",
      "|[((equipment,  tool,  furniture,  and appliance  rent al and leAsing)]                       |\n",
      "|[([music shops - musical instruments,  pianos,  and sheet music]]                            |\n",
      "|[[[artist supply and craft  shops]]                                                          |\n",
      "|[([florists supplies,  nursery stock,  and flowers]]                                         |\n",
      "|[([computers,  computer peripheral  equipment,  and software]]                               |\n",
      "|[[[antique shops - sales,  repairs,  and restoration serVices]]                              |\n",
      "|[[[motor vehicle supplies and new parts]]                                                    |\n",
      "|[[(moTor vehicle supplies and new parts)]                                                    |\n",
      "|[([gift,  card,  novelty,  and souvenir shops]]                                              |\n",
      "+---------------------------------------------------------------------------------------------+\n",
      "only showing top 20 rows\n",
      "\n"
     ]
    }
   ],
   "source": [
    "preprocessed_tbl_merchant.select(\"items\").show(truncate=False)"
   ]
  },
  {
   "cell_type": "code",
   "execution_count": 9,
   "metadata": {},
   "outputs": [],
   "source": [
    "# remove the special characters of \"revenue_level\" and \"take_rate\"\n",
    "preprocessed_tbl_merchant = preprocessed_tbl_merchant.withColumn(\"revenue_level\", regexp_replace(\"revenue_level\", \"[^a-e]\", \"\")) \\\n",
    "                                                     .withColumn(\"take_rate\", regexp_replace(\"take_rate\", \"[^0-9.]\", \"\"))"
   ]
  },
  {
   "cell_type": "code",
   "execution_count": 10,
   "metadata": {},
   "outputs": [],
   "source": [
    "# convert \"items\" into the bags of word\n",
    "preprocessed_tbl_merchant = preprocessed_tbl_merchant.withColumn(\"items\", concat_ws(\",\", col(\"items\"))) \\\n",
    "                                                     .withColumn(\"items\", regexp_replace(\"items\", \"[^A-Za-z0-9]\", \" \")) \\\n",
    "                                                     .withColumn(\"items\", regexp_replace(\"items\", \"\\s+\", \" \")) \\\n",
    "                                                     .withColumn(\"items\", regexp_replace(\"items\", \"(^\\s+)|(\\s+$)\", \"\")) \\\n",
    "                                                     .withColumn(\"items\", split(col(\"items\"), \" \"))"
   ]
  },
  {
   "cell_type": "code",
   "execution_count": 11,
   "metadata": {},
   "outputs": [
    {
     "data": {
      "text/html": [
       "<table border='1'>\n",
       "<tr><th>name</th><th>items</th><th>revenue_level</th><th>take_rate</th><th>merchant_abn</th></tr>\n",
       "<tr><td>Felis Limited</td><td>[furniture, home,...</td><td>e</td><td>0.18</td><td>10023283211</td></tr>\n",
       "<tr><td>Arcu Ac Orci Corp...</td><td>[cable, satellite...</td><td>b</td><td>4.22</td><td>10142254217</td></tr>\n",
       "<tr><td>Nunc Sed Company</td><td>[jewelry, watch, ...</td><td>b</td><td>4.40</td><td>10165489824</td></tr>\n",
       "<tr><td>Ultricies Digniss...</td><td>[wAtch, clock, an...</td><td>b</td><td>3.29</td><td>10187291046</td></tr>\n",
       "<tr><td>Enim Condimentum PC</td><td>[music, shops, mu...</td><td>a</td><td>6.33</td><td>10192359162</td></tr>\n",
       "<tr><td>Fusce Company</td><td>[gift, card, nove...</td><td>a</td><td>6.34</td><td>10206519221</td></tr>\n",
       "<tr><td>Aliquam Enim Inco...</td><td>[computers, comPU...</td><td>b</td><td>4.32</td><td>10255988167</td></tr>\n",
       "<tr><td>Ipsum Primis Ltd</td><td>[watch, clock, an...</td><td>c</td><td>2.39</td><td>10264435225</td></tr>\n",
       "<tr><td>Pede Ultrices Ind...</td><td>[computer, progra...</td><td>a</td><td>5.71</td><td>10279061213</td></tr>\n",
       "<tr><td>Nunc Inc.</td><td>[furniture, home,...</td><td>a</td><td>6.61</td><td>10323485998</td></tr>\n",
       "<tr><td>Facilisis Facilis...</td><td>[computers, compu...</td><td>a</td><td>6.34</td><td>10342410215</td></tr>\n",
       "<tr><td>Odio Institute</td><td>[equipment, tool,...</td><td>b</td><td>3.57</td><td>10346855916</td></tr>\n",
       "<tr><td>Rutrum Justo Ltd</td><td>[music, shops, mu...</td><td>b</td><td>3.63</td><td>10364012396</td></tr>\n",
       "<tr><td>Tellus Foundation</td><td>[artist, supply, ...</td><td>b</td><td>3.17</td><td>10385011947</td></tr>\n",
       "<tr><td>Sed Et Company</td><td>[florists, suppli...</td><td>a</td><td>6.61</td><td>10385163239</td></tr>\n",
       "<tr><td>Id Ltd</td><td>[computers, compu...</td><td>a</td><td>5.54</td><td>10385250025</td></tr>\n",
       "<tr><td>Consequat Foundation</td><td>[antique, shops, ...</td><td>a</td><td>6.93</td><td>10404542215</td></tr>\n",
       "<tr><td>Sit Amet Nulla Corp.</td><td>[motor, vehicle, ...</td><td>b</td><td>4.97</td><td>10430380319</td></tr>\n",
       "<tr><td>Massa Vestibulum ...</td><td>[moTor, vehicle, ...</td><td>a</td><td>5.77</td><td>10441711491</td></tr>\n",
       "<tr><td>Ut Consulting</td><td>[gift, card, nove...</td><td>c</td><td>2.95</td><td>10462560289</td></tr>\n",
       "</table>\n",
       "only showing top 20 rows\n"
      ],
      "text/plain": [
       "+--------------------+--------------------+-------------+---------+------------+\n",
       "|                name|               items|revenue_level|take_rate|merchant_abn|\n",
       "+--------------------+--------------------+-------------+---------+------------+\n",
       "|       Felis Limited|[furniture, home,...|            e|     0.18| 10023283211|\n",
       "|Arcu Ac Orci Corp...|[cable, satellite...|            b|     4.22| 10142254217|\n",
       "|    Nunc Sed Company|[jewelry, watch, ...|            b|     4.40| 10165489824|\n",
       "|Ultricies Digniss...|[wAtch, clock, an...|            b|     3.29| 10187291046|\n",
       "| Enim Condimentum PC|[music, shops, mu...|            a|     6.33| 10192359162|\n",
       "|       Fusce Company|[gift, card, nove...|            a|     6.34| 10206519221|\n",
       "|Aliquam Enim Inco...|[computers, comPU...|            b|     4.32| 10255988167|\n",
       "|    Ipsum Primis Ltd|[watch, clock, an...|            c|     2.39| 10264435225|\n",
       "|Pede Ultrices Ind...|[computer, progra...|            a|     5.71| 10279061213|\n",
       "|           Nunc Inc.|[furniture, home,...|            a|     6.61| 10323485998|\n",
       "|Facilisis Facilis...|[computers, compu...|            a|     6.34| 10342410215|\n",
       "|      Odio Institute|[equipment, tool,...|            b|     3.57| 10346855916|\n",
       "|    Rutrum Justo Ltd|[music, shops, mu...|            b|     3.63| 10364012396|\n",
       "|   Tellus Foundation|[artist, supply, ...|            b|     3.17| 10385011947|\n",
       "|      Sed Et Company|[florists, suppli...|            a|     6.61| 10385163239|\n",
       "|              Id Ltd|[computers, compu...|            a|     5.54| 10385250025|\n",
       "|Consequat Foundation|[antique, shops, ...|            a|     6.93| 10404542215|\n",
       "|Sit Amet Nulla Corp.|[motor, vehicle, ...|            b|     4.97| 10430380319|\n",
       "|Massa Vestibulum ...|[moTor, vehicle, ...|            a|     5.77| 10441711491|\n",
       "|       Ut Consulting|[gift, card, nove...|            c|     2.95| 10462560289|\n",
       "+--------------------+--------------------+-------------+---------+------------+\n",
       "only showing top 20 rows"
      ]
     },
     "execution_count": 11,
     "metadata": {},
     "output_type": "execute_result"
    }
   ],
   "source": [
    "preprocessed_tbl_merchant.select(\"name\", \"items\", \"revenue_level\", \"take_rate\", \"merchant_abn\")"
   ]
  },
  {
   "cell_type": "markdown",
   "metadata": {},
   "source": [
    "<h3>1.2 \"transactions_20210228_20210827_snapshot\"</h3>"
   ]
  },
  {
   "cell_type": "code",
   "execution_count": 12,
   "metadata": {},
   "outputs": [
    {
     "data": {
      "text/html": [
       "<table border='1'>\n",
       "<tr><th>user_id</th><th>merchant_abn</th><th>dollar_value</th><th>order_id</th><th>order_datetime</th></tr>\n",
       "<tr><td>18478</td><td>62191208634</td><td>63.255848959735246</td><td>949a63c8-29f7-4ab...</td><td>2021-08-20</td></tr>\n",
       "<tr><td>2</td><td>15549624934</td><td>130.3505283105634</td><td>6a84c3cf-612a-457...</td><td>2021-08-20</td></tr>\n",
       "<tr><td>18479</td><td>64403598239</td><td>120.15860593212783</td><td>b10dcc33-e53f-425...</td><td>2021-08-20</td></tr>\n",
       "<tr><td>3</td><td>60956456424</td><td>136.6785200286976</td><td>0f09c5a5-784e-447...</td><td>2021-08-20</td></tr>\n",
       "<tr><td>18479</td><td>94493496784</td><td>72.96316578355305</td><td>f6c78c1a-4600-4c5...</td><td>2021-08-20</td></tr>\n",
       "</table>\n"
      ],
      "text/plain": [
       "+-------+------------+------------------+--------------------+--------------+\n",
       "|user_id|merchant_abn|      dollar_value|            order_id|order_datetime|\n",
       "+-------+------------+------------------+--------------------+--------------+\n",
       "|  18478| 62191208634|63.255848959735246|949a63c8-29f7-4ab...|    2021-08-20|\n",
       "|      2| 15549624934| 130.3505283105634|6a84c3cf-612a-457...|    2021-08-20|\n",
       "|  18479| 64403598239|120.15860593212783|b10dcc33-e53f-425...|    2021-08-20|\n",
       "|      3| 60956456424| 136.6785200286976|0f09c5a5-784e-447...|    2021-08-20|\n",
       "|  18479| 94493496784| 72.96316578355305|f6c78c1a-4600-4c5...|    2021-08-20|\n",
       "+-------+------------+------------------+--------------------+--------------+"
      ]
     },
     "execution_count": 12,
     "metadata": {},
     "output_type": "execute_result"
    }
   ],
   "source": [
    "transact.limit(5)"
   ]
  },
  {
   "cell_type": "code",
   "execution_count": 13,
   "metadata": {},
   "outputs": [],
   "source": [
    "# separate pickup datetime into date, year, month and day\n",
    "preprocessed_transact = transact.withColumn('order_year', year(col('order_datetime')))\n",
    "preprocessed_transact = preprocessed_transact.withColumn('order_month', month(col('order_datetime')))\n",
    "preprocessed_transact = preprocessed_transact.withColumn('order_day', dayofmonth(col('order_datetime')))"
   ]
  },
  {
   "cell_type": "code",
   "execution_count": 14,
   "metadata": {},
   "outputs": [
    {
     "data": {
      "text/html": [
       "<table border='1'>\n",
       "<tr><th>user_id</th><th>merchant_abn</th><th>dollar_value</th><th>order_id</th><th>order_datetime</th><th>order_year</th><th>order_month</th><th>order_day</th></tr>\n",
       "<tr><td>18478</td><td>62191208634</td><td>63.255848959735246</td><td>949a63c8-29f7-4ab...</td><td>2021-08-20</td><td>2021</td><td>8</td><td>20</td></tr>\n",
       "<tr><td>2</td><td>15549624934</td><td>130.3505283105634</td><td>6a84c3cf-612a-457...</td><td>2021-08-20</td><td>2021</td><td>8</td><td>20</td></tr>\n",
       "<tr><td>18479</td><td>64403598239</td><td>120.15860593212783</td><td>b10dcc33-e53f-425...</td><td>2021-08-20</td><td>2021</td><td>8</td><td>20</td></tr>\n",
       "<tr><td>3</td><td>60956456424</td><td>136.6785200286976</td><td>0f09c5a5-784e-447...</td><td>2021-08-20</td><td>2021</td><td>8</td><td>20</td></tr>\n",
       "<tr><td>18479</td><td>94493496784</td><td>72.96316578355305</td><td>f6c78c1a-4600-4c5...</td><td>2021-08-20</td><td>2021</td><td>8</td><td>20</td></tr>\n",
       "<tr><td>3</td><td>76819856970</td><td>448.529684285612</td><td>5ace6a24-cdf0-4aa...</td><td>2021-08-20</td><td>2021</td><td>8</td><td>20</td></tr>\n",
       "<tr><td>18479</td><td>67609108741</td><td>86.4040605836911</td><td>d0e180f0-cb06-42a...</td><td>2021-08-20</td><td>2021</td><td>8</td><td>20</td></tr>\n",
       "<tr><td>3</td><td>34096466752</td><td>301.5793450525113</td><td>6fb1ff48-24bb-4f9...</td><td>2021-08-20</td><td>2021</td><td>8</td><td>20</td></tr>\n",
       "<tr><td>18482</td><td>70501974849</td><td>68.75486276223054</td><td>8505fb33-b69a-412...</td><td>2021-08-20</td><td>2021</td><td>8</td><td>20</td></tr>\n",
       "<tr><td>4</td><td>49891706470</td><td>48.89796461900801</td><td>ed11e477-b09f-4ae...</td><td>2021-08-20</td><td>2021</td><td>8</td><td>20</td></tr>\n",
       "<tr><td>18482</td><td>46804135891</td><td>6.6168976971833615</td><td>05b5edb5-b925-414...</td><td>2021-08-20</td><td>2021</td><td>8</td><td>20</td></tr>\n",
       "<tr><td>7</td><td>33064796871</td><td>373.0873675184212</td><td>fe188788-b89f-4dd...</td><td>2021-08-20</td><td>2021</td><td>8</td><td>20</td></tr>\n",
       "<tr><td>18483</td><td>44160392990</td><td>83.98473054761176</td><td>7c44302d-98b3-48b...</td><td>2021-08-20</td><td>2021</td><td>8</td><td>20</td></tr>\n",
       "<tr><td>7</td><td>68435002949</td><td>232.5364986739752</td><td>b4a89891-a113-45e...</td><td>2021-08-20</td><td>2021</td><td>8</td><td>20</td></tr>\n",
       "<tr><td>18484</td><td>70033549200</td><td>871.7678061729196</td><td>4b1d941a-21a1-43e...</td><td>2021-08-20</td><td>2021</td><td>8</td><td>20</td></tr>\n",
       "<tr><td>7</td><td>41944909975</td><td>30.910755230234322</td><td>302ae628-8eba-4a5...</td><td>2021-08-20</td><td>2021</td><td>8</td><td>20</td></tr>\n",
       "<tr><td>18485</td><td>41705715409</td><td>309.5417224575787</td><td>67f4f98e-3149-4e8...</td><td>2021-08-20</td><td>2021</td><td>8</td><td>20</td></tr>\n",
       "<tr><td>8</td><td>29566626791</td><td>74.15732460440282</td><td>71a81652-cc91-4bf...</td><td>2021-08-20</td><td>2021</td><td>8</td><td>20</td></tr>\n",
       "<tr><td>18487</td><td>32361057556</td><td>119.19055863068847</td><td>15577921-1104-470...</td><td>2021-08-20</td><td>2021</td><td>8</td><td>20</td></tr>\n",
       "<tr><td>9</td><td>47663262928</td><td>36.69873283148887</td><td>c4fcb49a-ce87-4e1...</td><td>2021-08-20</td><td>2021</td><td>8</td><td>20</td></tr>\n",
       "</table>\n",
       "only showing top 20 rows\n"
      ],
      "text/plain": [
       "+-------+------------+------------------+--------------------+--------------+----------+-----------+---------+\n",
       "|user_id|merchant_abn|      dollar_value|            order_id|order_datetime|order_year|order_month|order_day|\n",
       "+-------+------------+------------------+--------------------+--------------+----------+-----------+---------+\n",
       "|  18478| 62191208634|63.255848959735246|949a63c8-29f7-4ab...|    2021-08-20|      2021|          8|       20|\n",
       "|      2| 15549624934| 130.3505283105634|6a84c3cf-612a-457...|    2021-08-20|      2021|          8|       20|\n",
       "|  18479| 64403598239|120.15860593212783|b10dcc33-e53f-425...|    2021-08-20|      2021|          8|       20|\n",
       "|      3| 60956456424| 136.6785200286976|0f09c5a5-784e-447...|    2021-08-20|      2021|          8|       20|\n",
       "|  18479| 94493496784| 72.96316578355305|f6c78c1a-4600-4c5...|    2021-08-20|      2021|          8|       20|\n",
       "|      3| 76819856970|  448.529684285612|5ace6a24-cdf0-4aa...|    2021-08-20|      2021|          8|       20|\n",
       "|  18479| 67609108741|  86.4040605836911|d0e180f0-cb06-42a...|    2021-08-20|      2021|          8|       20|\n",
       "|      3| 34096466752| 301.5793450525113|6fb1ff48-24bb-4f9...|    2021-08-20|      2021|          8|       20|\n",
       "|  18482| 70501974849| 68.75486276223054|8505fb33-b69a-412...|    2021-08-20|      2021|          8|       20|\n",
       "|      4| 49891706470| 48.89796461900801|ed11e477-b09f-4ae...|    2021-08-20|      2021|          8|       20|\n",
       "|  18482| 46804135891|6.6168976971833615|05b5edb5-b925-414...|    2021-08-20|      2021|          8|       20|\n",
       "|      7| 33064796871| 373.0873675184212|fe188788-b89f-4dd...|    2021-08-20|      2021|          8|       20|\n",
       "|  18483| 44160392990| 83.98473054761176|7c44302d-98b3-48b...|    2021-08-20|      2021|          8|       20|\n",
       "|      7| 68435002949| 232.5364986739752|b4a89891-a113-45e...|    2021-08-20|      2021|          8|       20|\n",
       "|  18484| 70033549200| 871.7678061729196|4b1d941a-21a1-43e...|    2021-08-20|      2021|          8|       20|\n",
       "|      7| 41944909975|30.910755230234322|302ae628-8eba-4a5...|    2021-08-20|      2021|          8|       20|\n",
       "|  18485| 41705715409| 309.5417224575787|67f4f98e-3149-4e8...|    2021-08-20|      2021|          8|       20|\n",
       "|      8| 29566626791| 74.15732460440282|71a81652-cc91-4bf...|    2021-08-20|      2021|          8|       20|\n",
       "|  18487| 32361057556|119.19055863068847|15577921-1104-470...|    2021-08-20|      2021|          8|       20|\n",
       "|      9| 47663262928| 36.69873283148887|c4fcb49a-ce87-4e1...|    2021-08-20|      2021|          8|       20|\n",
       "+-------+------------+------------------+--------------------+--------------+----------+-----------+---------+\n",
       "only showing top 20 rows"
      ]
     },
     "execution_count": 14,
     "metadata": {},
     "output_type": "execute_result"
    }
   ],
   "source": [
    "preprocessed_transact"
   ]
  }
 ],
 "metadata": {
  "kernelspec": {
   "display_name": "Python 3.9.12 64-bit",
   "language": "python",
   "name": "python3"
  },
  "language_info": {
   "codemirror_mode": {
    "name": "ipython",
    "version": 3
   },
   "file_extension": ".py",
   "mimetype": "text/x-python",
   "name": "python",
   "nbconvert_exporter": "python",
   "pygments_lexer": "ipython3",
   "version": "3.9.12"
  },
  "orig_nbformat": 4,
  "vscode": {
   "interpreter": {
    "hash": "949777d72b0d2535278d3dc13498b2535136f6dfe0678499012e853ee9abcab1"
   }
  }
 },
 "nbformat": 4,
 "nbformat_minor": 2
}
