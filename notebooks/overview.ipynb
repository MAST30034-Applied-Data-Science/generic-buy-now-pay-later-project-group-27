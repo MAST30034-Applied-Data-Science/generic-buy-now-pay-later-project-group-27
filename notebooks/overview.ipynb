{
 "cells": [
  {
   "cell_type": "code",
   "execution_count": 1,
   "metadata": {},
   "outputs": [
    {
     "name": "stderr",
     "output_type": "stream",
     "text": [
      "Setting default log level to \"WARN\".\n",
      "To adjust logging level use sc.setLogLevel(newLevel). For SparkR, use setLogLevel(newLevel).\n"
     ]
    },
    {
     "name": "stdout",
     "output_type": "stream",
     "text": [
      "22/09/11 23:48:53 WARN NativeCodeLoader: Unable to load native-hadoop library for your platform... using builtin-java classes where applicable\n"
     ]
    }
   ],
   "source": [
    "from pyspark.sql import SparkSession\n",
    "from pyspark.sql.functions import *\n",
    "\n",
    "spark = (\n",
    "    SparkSession.builder.appName(\"ADS project 2\")\n",
    "    .config(\"spark.sql.repl.eagerEval.enabled\", True) \n",
    "    .config(\"spark.sql.parquet.cacheMetadata\", \"true\")\n",
    "    .config(\"spark.sql.session.timeZone\", \"Etc/UTC\")\n",
    "    .config(\"spark.executor.memory\", \"2g\")\n",
    "    .config(\"spark.driver.memory\", \"4g\")\n",
    "    .getOrCreate()\n",
    ")"
   ]
  },
  {
   "cell_type": "code",
   "execution_count": 2,
   "metadata": {},
   "outputs": [
    {
     "name": "stderr",
     "output_type": "stream",
     "text": [
      "                                                                                \r"
     ]
    }
   ],
   "source": [
    "data_loc = \"../data/tables/\"\n",
    "consumer = spark.read.parquet(data_loc+\"consumer_user_details.parquet\")\n",
    "tbl_consumer = spark.read.csv(data_loc+\"tbl_consumer.csv\", sep=\"|\", header=True)\n",
    "tbl_merchant = spark.read.parquet(data_loc+\"tbl_merchants.parquet\")\n",
    "transact = spark.read.parquet(data_loc+\"transactions_20210228_20210827_snapshot/\")"
   ]
  },
  {
   "cell_type": "markdown",
   "metadata": {},
   "source": [
    "<h2> 1. Standardize column format of tables</h2>"
   ]
  },
  {
   "cell_type": "markdown",
   "metadata": {},
   "source": [
    "<h3>1.1 \"tbl_merchants.parquet\"</h3>"
   ]
  },
  {
   "cell_type": "code",
   "execution_count": 3,
   "metadata": {},
   "outputs": [
    {
     "name": "stdout",
     "output_type": "stream",
     "text": [
      "+--------------------+--------------------+------------+\n",
      "|                name|                tags|merchant_abn|\n",
      "+--------------------+--------------------+------------+\n",
      "|       Felis Limited|((furniture, home...| 10023283211|\n",
      "|Arcu Ac Orci Corp...|([cable, satellit...| 10142254217|\n",
      "|    Nunc Sed Company|([jewelry, watch,...| 10165489824|\n",
      "|Ultricies Digniss...|([wAtch, clock, a...| 10187291046|\n",
      "| Enim Condimentum PC|([music shops - m...| 10192359162|\n",
      "+--------------------+--------------------+------------+\n",
      "only showing top 5 rows\n",
      "\n"
     ]
    }
   ],
   "source": [
    "tbl_merchant.show(5)"
   ]
  },
  {
   "cell_type": "code",
   "execution_count": 4,
   "metadata": {},
   "outputs": [],
   "source": [
    "# separate \"tags\" into \"products\", \"revenue_level\", \"take_rate\"\n",
    "preprocessed_tbl_merchant = tbl_merchant.withColumn(\"split_tags\", split(col(\"tags\"), \",\")) \\\n",
    "            .withColumn(\"take_rate\", element_at(col(\"split_tags\"), -1)) \\\n",
    "            .withColumn(\"revenue_level\", element_at(col(\"split_tags\"), -2)) \\\n",
    "            .withColumn(\"products\", slice(reverse(col(\"split_tags\")), 3, 100)) \\\n",
    "            .withColumn(\"products\", reverse(col(\"products\")))\n"
   ]
  },
  {
   "cell_type": "code",
   "execution_count": 5,
   "metadata": {},
   "outputs": [],
   "source": [
    "# remove the special characters of \"revenue_level\" and \"take_rate\"\n",
    "preprocessed_tbl_merchant = preprocessed_tbl_merchant.withColumn(\"revenue_level\", regexp_replace(\"revenue_level\", \"[^a-e]\", \"\")) \\\n",
    "                                                     .withColumn(\"take_rate\", regexp_replace(\"take_rate\", \"[^0-9.]\", \"\"))"
   ]
  },
  {
   "cell_type": "code",
   "execution_count": 6,
   "metadata": {},
   "outputs": [],
   "source": [
    "# standardize the values in \"products\" and vectorize \"products\" into the bags of word\n",
    "preprocessed_tbl_merchant = preprocessed_tbl_merchant.withColumn(\"products\", concat_ws(\",\", col(\"products\"))) \\\n",
    "                                                     .withColumn(\"products\", regexp_replace(\"products\", \"[^A-Za-z0-9]\", \" \")) \\\n",
    "                                                     .withColumn(\"products\", regexp_replace(\"products\", \"\\s+\", \" \")) \\\n",
    "                                                     .withColumn(\"products\", regexp_replace(\"products\", \"(^\\s+)|(\\s+$)\", \"\")) \\\n",
    "                                                     .withColumn(\"products\", lower(col(\"products\"))) \\\n",
    "                                                     .withColumn(\"products\", split(col(\"products\"), \" \"))"
   ]
  },
  {
   "cell_type": "code",
   "execution_count": 31,
   "metadata": {},
   "outputs": [],
   "source": [
    "preprocessed_tbl_merchant = preprocessed_tbl_merchant.withColumnRenamed(\"name\", \"merchant_name\")\n",
    "preprocessed_tbl_merchant = preprocessed_tbl_merchant.select(\"merchant_name\", \"products\", \"revenue_level\",\n",
    "                                                             preprocessed_tbl_merchant.take_rate.cast(\"double\"), \"merchant_abn\")"
   ]
  },
  {
   "cell_type": "code",
   "execution_count": 32,
   "metadata": {},
   "outputs": [
    {
     "name": "stdout",
     "output_type": "stream",
     "text": [
      "+--------------------+--------------------+-------------+---------+------------+\n",
      "|       merchant_name|            products|revenue_level|take_rate|merchant_abn|\n",
      "+--------------------+--------------------+-------------+---------+------------+\n",
      "|       Felis Limited|[furniture, home,...|            e|     0.18| 10023283211|\n",
      "|Arcu Ac Orci Corp...|[cable, satellite...|            b|     4.22| 10142254217|\n",
      "|    Nunc Sed Company|[jewelry, watch, ...|            b|      4.4| 10165489824|\n",
      "|Ultricies Digniss...|[watch, clock, an...|            b|     3.29| 10187291046|\n",
      "| Enim Condimentum PC|[music, shops, mu...|            a|     6.33| 10192359162|\n",
      "+--------------------+--------------------+-------------+---------+------------+\n",
      "only showing top 5 rows\n",
      "\n"
     ]
    }
   ],
   "source": [
    "preprocessed_tbl_merchant.show(5)"
   ]
  },
  {
   "cell_type": "markdown",
   "metadata": {},
   "source": [
    "<h3>1.2 \"transactions_20210228_20210827_snapshot\"</h3>"
   ]
  },
  {
   "cell_type": "code",
   "execution_count": 9,
   "metadata": {},
   "outputs": [
    {
     "name": "stdout",
     "output_type": "stream",
     "text": [
      "+-------+------------+------------------+--------------------+--------------+\n",
      "|user_id|merchant_abn|      dollar_value|            order_id|order_datetime|\n",
      "+-------+------------+------------------+--------------------+--------------+\n",
      "|  18478| 62191208634|63.255848959735246|949a63c8-29f7-4ab...|    2021-08-20|\n",
      "|      2| 15549624934| 130.3505283105634|6a84c3cf-612a-457...|    2021-08-20|\n",
      "|  18479| 64403598239|120.15860593212783|b10dcc33-e53f-425...|    2021-08-20|\n",
      "|      3| 60956456424| 136.6785200286976|0f09c5a5-784e-447...|    2021-08-20|\n",
      "|  18479| 94493496784| 72.96316578355305|f6c78c1a-4600-4c5...|    2021-08-20|\n",
      "+-------+------------+------------------+--------------------+--------------+\n",
      "only showing top 5 rows\n",
      "\n"
     ]
    }
   ],
   "source": [
    "transact.show(5)"
   ]
  },
  {
   "cell_type": "code",
   "execution_count": 10,
   "metadata": {},
   "outputs": [],
   "source": [
    "# separate pickup datetime into date, year, month and day\n",
    "preprocessed_transact = transact.withColumn('order_year', year(col('order_datetime')))\n",
    "preprocessed_transact = preprocessed_transact.withColumn('order_month', month(col('order_datetime')))\n",
    "preprocessed_transact = preprocessed_transact.withColumn('order_day', dayofmonth(col('order_datetime')))\n",
    "preprocessed_transact = preprocessed_transact.withColumnRenamed('merchant_abn', 'merchant_abn_repeat')"
   ]
  },
  {
   "cell_type": "code",
   "execution_count": 15,
   "metadata": {},
   "outputs": [
    {
     "name": "stdout",
     "output_type": "stream",
     "text": [
      "+-------+-------------------+------------------+--------------------+--------------+----------+-----------+---------+\n",
      "|user_id|merchant_abn_repeat|      dollar_value|            order_id|order_datetime|order_year|order_month|order_day|\n",
      "+-------+-------------------+------------------+--------------------+--------------+----------+-----------+---------+\n",
      "|  18478|        62191208634|63.255848959735246|949a63c8-29f7-4ab...|    2021-08-20|      2021|          8|       20|\n",
      "|      2|        15549624934| 130.3505283105634|6a84c3cf-612a-457...|    2021-08-20|      2021|          8|       20|\n",
      "|  18479|        64403598239|120.15860593212783|b10dcc33-e53f-425...|    2021-08-20|      2021|          8|       20|\n",
      "|      3|        60956456424| 136.6785200286976|0f09c5a5-784e-447...|    2021-08-20|      2021|          8|       20|\n",
      "|  18479|        94493496784| 72.96316578355305|f6c78c1a-4600-4c5...|    2021-08-20|      2021|          8|       20|\n",
      "+-------+-------------------+------------------+--------------------+--------------+----------+-----------+---------+\n",
      "only showing top 5 rows\n",
      "\n"
     ]
    }
   ],
   "source": [
    "preprocessed_transact.show(5)"
   ]
  },
  {
   "cell_type": "markdown",
   "metadata": {},
   "source": [
    "<h3>1.3 \"tbl_consumer.csv\"</h3>"
   ]
  },
  {
   "cell_type": "code",
   "execution_count": 16,
   "metadata": {},
   "outputs": [
    {
     "name": "stdout",
     "output_type": "stream",
     "text": [
      "+-----------------+--------------------+-----+--------+------+-----------+\n",
      "|             name|             address|state|postcode|gender|consumer_id|\n",
      "+-----------------+--------------------+-----+--------+------+-----------+\n",
      "| Yolanda Williams|413 Haney Gardens...|   WA|    6935|Female|    1195503|\n",
      "|       Mary Smith|     3764 Amber Oval|  NSW|    2782|Female|     179208|\n",
      "|    Jill Jones MD|  40693 Henry Greens|   NT|     862|Female|    1194530|\n",
      "|  Lindsay Jimenez|00653 Davenport C...|  NSW|    2780|Female|     154128|\n",
      "|Rebecca Blanchard|9271 Michael Mano...|   WA|    6355|Female|     712975|\n",
      "+-----------------+--------------------+-----+--------+------+-----------+\n",
      "only showing top 5 rows\n",
      "\n"
     ]
    }
   ],
   "source": [
    "tbl_consumer.show(5)"
   ]
  },
  {
   "cell_type": "code",
   "execution_count": 17,
   "metadata": {},
   "outputs": [],
   "source": [
    "preprocessed_tbl_consumer = tbl_consumer.withColumnRenamed(\"name\", \"consumer\")\n",
    "preprocessed_tbl_consumer = preprocessed_tbl_consumer.withColumnRenamed(\"address\", \"consumer_address\")\n",
    "preprocessed_tbl_consumer = preprocessed_tbl_consumer.withColumnRenamed(\"state\", \"consumer_state\")\n",
    "preprocessed_tbl_consumer = preprocessed_tbl_consumer.withColumnRenamed(\"postcode\", \"consumer_postcode\")\n",
    "preprocessed_tbl_consumer = preprocessed_tbl_consumer.withColumnRenamed(\"gender\", \"consumer_gender\")"
   ]
  },
  {
   "cell_type": "code",
   "execution_count": 18,
   "metadata": {},
   "outputs": [
    {
     "name": "stdout",
     "output_type": "stream",
     "text": [
      "+-----------------+--------------------+--------------+-----------------+---------------+-----------+\n",
      "|         consumer|    consumer_address|consumer_state|consumer_postcode|consumer_gender|consumer_id|\n",
      "+-----------------+--------------------+--------------+-----------------+---------------+-----------+\n",
      "| Yolanda Williams|413 Haney Gardens...|            WA|             6935|         Female|    1195503|\n",
      "|       Mary Smith|     3764 Amber Oval|           NSW|             2782|         Female|     179208|\n",
      "|    Jill Jones MD|  40693 Henry Greens|            NT|              862|         Female|    1194530|\n",
      "|  Lindsay Jimenez|00653 Davenport C...|           NSW|             2780|         Female|     154128|\n",
      "|Rebecca Blanchard|9271 Michael Mano...|            WA|             6355|         Female|     712975|\n",
      "+-----------------+--------------------+--------------+-----------------+---------------+-----------+\n",
      "only showing top 5 rows\n",
      "\n"
     ]
    }
   ],
   "source": [
    "preprocessed_tbl_consumer.show(5)"
   ]
  },
  {
   "cell_type": "markdown",
   "metadata": {},
   "source": [
    "<h3>1.4 \"consumer.parquet\"</h3>"
   ]
  },
  {
   "cell_type": "code",
   "execution_count": 19,
   "metadata": {},
   "outputs": [
    {
     "name": "stdout",
     "output_type": "stream",
     "text": [
      "+-------+-----------+\n",
      "|user_id|consumer_id|\n",
      "+-------+-----------+\n",
      "|      1|    1195503|\n",
      "|      2|     179208|\n",
      "|      3|    1194530|\n",
      "|      4|     154128|\n",
      "|      5|     712975|\n",
      "+-------+-----------+\n",
      "only showing top 5 rows\n",
      "\n"
     ]
    }
   ],
   "source": [
    "consumer.show(5)"
   ]
  },
  {
   "cell_type": "code",
   "execution_count": 20,
   "metadata": {},
   "outputs": [],
   "source": [
    "preprocessed_consumer = consumer.withColumnRenamed(\"user_id\", \"user_id_repeat\")\n",
    "preprocessed_consumer = preprocessed_consumer.withColumnRenamed(\"consumer_id\", \"consumer_id_repeat\")"
   ]
  },
  {
   "cell_type": "code",
   "execution_count": 21,
   "metadata": {},
   "outputs": [
    {
     "name": "stdout",
     "output_type": "stream",
     "text": [
      "+--------------+------------------+\n",
      "|user_id_repeat|consumer_id_repeat|\n",
      "+--------------+------------------+\n",
      "|             1|           1195503|\n",
      "|             2|            179208|\n",
      "|             3|           1194530|\n",
      "|             4|            154128|\n",
      "|             5|            712975|\n",
      "+--------------+------------------+\n",
      "only showing top 5 rows\n",
      "\n"
     ]
    }
   ],
   "source": [
    "preprocessed_consumer.show(5)"
   ]
  },
  {
   "cell_type": "markdown",
   "metadata": {},
   "source": [
    "<h2>2. Join tables</h2>"
   ]
  },
  {
   "cell_type": "code",
   "execution_count": 68,
   "metadata": {},
   "outputs": [
    {
     "name": "stdout",
     "output_type": "stream",
     "text": [
      "Mismatched (null) transactions dropped: 149228\n"
     ]
    }
   ],
   "source": [
    "preprocessed_tbl_merchant.createOrReplaceTempView('merchant')\n",
    "preprocessed_transact.createOrReplaceTempView('transact')\n",
    "preprocessed_tbl_consumer.createOrReplaceTempView('tbl_consumer')\n",
    "preprocessed_consumer.createOrReplaceTempView('consumer')\n",
    "\n",
    "join = spark.sql(\"\"\"\n",
    "SELECT \n",
    "    *\n",
    "FROM \n",
    "    merchant\n",
    "INNER JOIN\n",
    "    transact\n",
    "ON \n",
    "    transact.merchant_abn_repeat = merchant.merchant_abn\n",
    "INNER JOIN\n",
    "    consumer\n",
    "ON\n",
    "    transact.user_id = consumer.user_id_repeat\n",
    "INNER JOIN\n",
    "    tbl_consumer\n",
    "ON \n",
    "    consumer.consumer_id_repeat = tbl_consumer.consumer_id\n",
    "ORDER BY\n",
    "    revenue_level DESC\n",
    "\"\"\")\n",
    "\n",
    "join = join.drop(\"merchant_abn_repeat\", \"consumer_id_repeat\", \"user_id_repeat\", \"merchant_abn\", \"consumer_id\", \"user_id\", \"order_id\", \"order_datetime\")\n",
    "print(f\"Mismatched (null) transactions dropped: {preprocessed_transact.count() - join.count()}\")"
   ]
  },
  {
   "cell_type": "code",
   "execution_count": 23,
   "metadata": {},
   "outputs": [
    {
     "name": "stderr",
     "output_type": "stream",
     "text": [
      "                                                                                \r"
     ]
    },
    {
     "data": {
      "text/html": [
       "<table border='1'>\n",
       "<tr><th>merchant_name</th><th>products</th><th>revenue_level</th><th>take_rate</th><th>dollar_value</th><th>order_year</th><th>order_month</th><th>order_day</th><th>consumer</th><th>consumer_address</th><th>consumer_state</th><th>consumer_postcode</th><th>consumer_gender</th></tr>\n",
       "<tr><td>Eros Industries</td><td>[computer, progra...</td><td>e</td><td>0.41</td><td>325.21981277272863</td><td>2021</td><td>8</td><td>9</td><td>John Jennings</td><td>6323 Warner Field...</td><td>NSW</td><td>1235</td><td>Male</td></tr>\n",
       "<tr><td>Feugiat Nec Diam LLC</td><td>[computers, compu...</td><td>e</td><td>0.30</td><td>13.989035438501453</td><td>2021</td><td>7</td><td>10</td><td>Jerry Howell</td><td>98491 Jones Spurs</td><td>QLD</td><td>4272</td><td>Undisclosed</td></tr>\n",
       "<tr><td>Augue Eu Tempor A...</td><td>[cable, satellite...</td><td>e</td><td>0.38</td><td>156.2370489731108</td><td>2021</td><td>5</td><td>11</td><td>John Jennings</td><td>6323 Warner Field...</td><td>NSW</td><td>1235</td><td>Male</td></tr>\n",
       "<tr><td>Et Nunc Consulting</td><td>[books, periodica...</td><td>e</td><td>0.16</td><td>216.59526746423708</td><td>2021</td><td>7</td><td>30</td><td>John Jennings</td><td>6323 Warner Field...</td><td>NSW</td><td>1235</td><td>Male</td></tr>\n",
       "<tr><td>Hendrerit Donec L...</td><td>[digital, goods, ...</td><td>e</td><td>0.18</td><td>45.2833743597625</td><td>2021</td><td>4</td><td>2</td><td>John Jennings</td><td>6323 Warner Field...</td><td>NSW</td><td>1235</td><td>Male</td></tr>\n",
       "<tr><td>Felis Limited</td><td>[furniture, home,...</td><td>e</td><td>0.18</td><td>351.2871670330808</td><td>2021</td><td>5</td><td>31</td><td>Christopher Powell</td><td>880 Brandon Stree...</td><td>NT</td><td>852</td><td>Undisclosed</td></tr>\n",
       "<tr><td>Et Nunc Consulting</td><td>[books, periodica...</td><td>e</td><td>0.16</td><td>43.05799394172801</td><td>2021</td><td>3</td><td>5</td><td>John Jennings</td><td>6323 Warner Field...</td><td>NSW</td><td>1235</td><td>Male</td></tr>\n",
       "<tr><td>Augue Eu Tempor A...</td><td>[cable, satellite...</td><td>e</td><td>0.38</td><td>145.74710817228924</td><td>2021</td><td>5</td><td>1</td><td>Thomas Flowers</td><td>06874 Lee Expressway</td><td>VIC</td><td>3013</td><td>Undisclosed</td></tr>\n",
       "<tr><td>Augue Eu Tempor A...</td><td>[cable, satellite...</td><td>e</td><td>0.38</td><td>71.32944241273363</td><td>2021</td><td>6</td><td>17</td><td>Benjamin Olson</td><td>5707 Bryan Port</td><td>VIC</td><td>3727</td><td>Male</td></tr>\n",
       "<tr><td>Lacus Mauris Asso...</td><td>[shoe, shops]</td><td>e</td><td>0.48</td><td>123.51425898726025</td><td>2021</td><td>5</td><td>26</td><td>Alejandro Robinson</td><td>70252 Tapia Hollow</td><td>QLD</td><td>4076</td><td>Male</td></tr>\n",
       "<tr><td>Dis Parturient Co...</td><td>[gift, card, nove...</td><td>e</td><td>0.24</td><td>164.3188609217893</td><td>2021</td><td>4</td><td>9</td><td>Benjamin Olson</td><td>5707 Bryan Port</td><td>VIC</td><td>3727</td><td>Male</td></tr>\n",
       "<tr><td>Dis Parturient Co...</td><td>[gift, card, nove...</td><td>e</td><td>0.24</td><td>71.41919316741999</td><td>2021</td><td>4</td><td>8</td><td>Kimberly Wheeler</td><td>077 Stephen Traff...</td><td>NSW</td><td>2652</td><td>Female</td></tr>\n",
       "<tr><td>Et Nunc Consulting</td><td>[books, periodica...</td><td>e</td><td>0.16</td><td>388.64351689765857</td><td>2021</td><td>3</td><td>16</td><td>Louis Clark Jr.</td><td>813 Vanessa Vista...</td><td>VIC</td><td>3354</td><td>Undisclosed</td></tr>\n",
       "<tr><td>Augue Eu Tempor A...</td><td>[cable, satellite...</td><td>e</td><td>0.38</td><td>85.13104440509295</td><td>2021</td><td>3</td><td>1</td><td>Priscilla Riley</td><td>94302 Mccullough ...</td><td>SA</td><td>5321</td><td>Female</td></tr>\n",
       "<tr><td>Et Nunc Consulting</td><td>[books, periodica...</td><td>e</td><td>0.16</td><td>134.88197527279672</td><td>2021</td><td>3</td><td>18</td><td>Donald Reyes</td><td>612 Alexis Rest</td><td>QLD</td><td>4621</td><td>Undisclosed</td></tr>\n",
       "<tr><td>Massa Suspendisse...</td><td>[art, dealers, an...</td><td>e</td><td>0.40</td><td>1584.7947154059066</td><td>2021</td><td>4</td><td>22</td><td>Alexandria Bridges</td><td>1481 Karen River</td><td>VIC</td><td>3057</td><td>Female</td></tr>\n",
       "<tr><td>Et Nunc Consulting</td><td>[books, periodica...</td><td>e</td><td>0.16</td><td>157.76177420096764</td><td>2021</td><td>6</td><td>16</td><td>Jerry Howell</td><td>98491 Jones Spurs</td><td>QLD</td><td>4272</td><td>Undisclosed</td></tr>\n",
       "<tr><td>Nunc Est LLP</td><td>[watch, clock, an...</td><td>e</td><td>0.22</td><td>135.59105945422542</td><td>2021</td><td>5</td><td>29</td><td>Michael George</td><td>329 Rebecca Mount...</td><td>VIC</td><td>3822</td><td>Male</td></tr>\n",
       "<tr><td>Augue Eu Tempor A...</td><td>[cable, satellite...</td><td>e</td><td>0.38</td><td>63.99534758158501</td><td>2021</td><td>6</td><td>26</td><td>Christopher Powell</td><td>880 Brandon Stree...</td><td>NT</td><td>852</td><td>Undisclosed</td></tr>\n",
       "<tr><td>Et Nunc Consulting</td><td>[books, periodica...</td><td>e</td><td>0.16</td><td>130.7357483756535</td><td>2021</td><td>5</td><td>22</td><td>Jennifer Winters</td><td>5897 Monique Club...</td><td>VIC</td><td>8010</td><td>Female</td></tr>\n",
       "</table>\n",
       "only showing top 20 rows\n"
      ],
      "text/plain": [
       "+--------------------+--------------------+-------------+---------+------------------+----------+-----------+---------+-----------------+--------------------+--------------+-----------------+---------------+\n",
       "|       merchant_name|            products|revenue_level|take_rate|      dollar_value|order_year|order_month|order_day|         consumer|    consumer_address|consumer_state|consumer_postcode|consumer_gender|\n",
       "+--------------------+--------------------+-------------+---------+------------------+----------+-----------+---------+-----------------+--------------------+--------------+-----------------+---------------+\n",
       "|     Eros Industries|[computer, progra...|            e|     0.41| 383.3573250439399|      2021|          6|       28|    Heather Logan| 0780 Daniel Prairie|            WA|             6468|         Female|\n",
       "|A Sollicitudin Or...|[equipment, tool,...|            e|     0.36|   995.26051328706|      2021|          4|       24|      Joshua Beck| 943 Thompson Street|           VIC|             3363|           Male|\n",
       "|Metus Sit Amet In...|[cable, satellite...|            e|     0.38|179.28213264282797|      2021|          7|       31|    Kyle Jennings|  15879 Walker Ports|           VIC|             3852|           Male|\n",
       "|Dis Parturient Co...|[gift, card, nove...|            e|     0.24| 106.4216983216405|      2021|          8|       17|    Heather Logan| 0780 Daniel Prairie|            WA|             6468|         Female|\n",
       "|Non Lobortis Corp...|[computer, progra...|            e|     0.36|334.76503525463414|      2021|          3|        9|    Kyle Jennings|  15879 Walker Ports|           VIC|             3852|           Male|\n",
       "|Metus Sit Amet In...|[cable, satellite...|            e|     0.38| 36.66887729633342|      2021|          7|       21|     Ashley Ellis|08935 Anderson Cr...|           NSW|             1001|         Female|\n",
       "|  Et Nunc Consulting|[books, periodica...|            e|     0.16| 229.4537052638589|      2021|          6|       17|   Jessica Bishop|  95066 Baker Plains|           VIC|             3990|         Female|\n",
       "|  Et Nunc Consulting|[books, periodica...|            e|     0.16|53.020815660452115|      2021|          7|       16|  Theresa Trevino|85895 Smith Heigh...|           QLD|             4881|         Female|\n",
       "|  Et Nunc Consulting|[books, periodica...|            e|     0.16| 21.54763980804047|      2021|          6|       27|    Shannon Ochoa|   8600 Latoya Locks|            WA|             6986|         Female|\n",
       "|Dis Parturient Co...|[gift, card, nove...|            e|     0.24|26.178715394751965|      2021|          5|       23|  Theresa Trevino|85895 Smith Heigh...|           QLD|             4881|         Female|\n",
       "|       Felis Limited|[furniture, home,...|            e|     0.18| 61.66334931961104|      2021|          4|       30|Kenneth Evans Jr.|8934 Catherine Co...|           NSW|             2004|           Male|\n",
       "|         Sed Company|[computer, progra...|            e|     0.41|386.82019421196026|      2021|          4|        8|  Daniel Roberson|102 Anthony Camp ...|           VIC|             3636|           Male|\n",
       "|Metus Sit Amet In...|[cable, satellite...|            e|     0.38| 45.66178829859531|      2021|          5|        7|Kenneth Evans Jr.|8934 Catherine Co...|           NSW|             2004|           Male|\n",
       "|  Et Nunc Consulting|[books, periodica...|            e|     0.16| 392.8140438588228|      2021|          7|        9|    Heather Logan| 0780 Daniel Prairie|            WA|             6468|         Female|\n",
       "|Dis Parturient Co...|[gift, card, nove...|            e|     0.24|57.450570342937304|      2021|          4|       21|Kenneth Evans Jr.|8934 Catherine Co...|           NSW|             2004|           Male|\n",
       "|Tempus Eu Ligula ...|[computers, compu...|            e|     0.33| 14.72317881682177|      2021|          6|        2|       Carol Hall|953 Richard Strav...|            WA|             6327|         Female|\n",
       "|        Nunc Est LLP|[watch, clock, an...|            e|     0.22| 49.50583341789882|      2021|          3|       19|      Joshua Beck| 943 Thompson Street|           VIC|             3363|           Male|\n",
       "|        Nunc Est LLP|[watch, clock, an...|            e|     0.22| 21.98233071875087|      2021|          5|        5|  Nicole Oconnell|8794 Christopher ...|           NSW|             2210|         Female|\n",
       "|  Et Nunc Consulting|[books, periodica...|            e|     0.16| 292.9684371499003|      2021|          3|        3|       Kelly Frey| 98937 Brian Passage|           NSW|             2058|         Female|\n",
       "|Metus Sit Amet In...|[cable, satellite...|            e|     0.38| 92.29376542789018|      2021|          3|       28|        Jose Hale|      342 Mary Lodge|            WA|             6556|           Male|\n",
       "+--------------------+--------------------+-------------+---------+------------------+----------+-----------+---------+-----------------+--------------------+--------------+-----------------+---------------+\n",
       "only showing top 20 rows"
      ]
     },
     "execution_count": 23,
     "metadata": {},
     "output_type": "execute_result"
    }
   ],
   "source": [
    "join"
   ]
  },
  {
   "cell_type": "markdown",
   "metadata": {},
   "source": [
    "<h2>3. Outlier removal</h2>"
   ]
  },
  {
   "cell_type": "markdown",
   "metadata": {},
   "source": [
    "<h3>3.1 Get distribution for each revenue level</h3>"
   ]
  },
  {
   "cell_type": "code",
   "execution_count": 40,
   "metadata": {},
   "outputs": [
    {
     "name": "stderr",
     "output_type": "stream",
     "text": [
      "                                                                                \r"
     ]
    },
    {
     "data": {
      "text/plain": [
       "<AxesSubplot:xlabel='dollar_value', ylabel='revenue_level'>"
      ]
     },
     "execution_count": 40,
     "metadata": {},
     "output_type": "execute_result"
    },
    {
     "data": {
      "image/png": "[encoded data removed]",
      "text/plain": [
       "<Figure size 432x288 with 1 Axes>"
      ]
     },
     "metadata": {
      "needs_background": "light"
     },
     "output_type": "display_data"
    }
   ],
   "source": [
    "import seaborn as sns\n",
    "sns.violinplot(data=join.toPandas(), x=\"dollar_value\", y=\"revenue_level\")"
   ]
  },
  {
   "cell_type": "code",
   "execution_count": 46,
   "metadata": {},
   "outputs": [
    {
     "name": "stderr",
     "output_type": "stream",
     "text": [
      "                                                                                \r"
     ]
    },
    {
     "data": {
      "text/plain": [
       "<AxesSubplot:xlabel='dollar_value', ylabel='revenue_level'>"
      ]
     },
     "execution_count": 46,
     "metadata": {},
     "output_type": "execute_result"
    },
    {
     "data": {
      "image/png": "[encoded data removed]",
      "text/plain": [
       "<Figure size 432x288 with 1 Axes>"
      ]
     },
     "metadata": {
      "needs_background": "light"
     },
     "output_type": "display_data"
    }
   ],
   "source": [
    "sns.boxplot(data=join.toPandas(), x=\"dollar_value\", y=\"revenue_level\")"
   ]
  },
  {
   "cell_type": "markdown",
   "metadata": {},
   "source": [
    "<h4>3.1.1 Remove outliers based on standard deviation</h4>"
   ]
  },
  {
   "cell_type": "code",
   "execution_count": 53,
   "metadata": {},
   "outputs": [
    {
     "data": {
      "text/html": [
       "<table border='1'>\n",
       "<tr><th>revenue_level</th><th>dollar_value_std</th><th>dollar_value_mean</th></tr>\n",
       "<tr><td>e</td><td>398.09440992860766</td><td>205.07215671809263</td></tr>\n",
       "<tr><td>d</td><td>752.4097865676849</td><td>277.9027482625898</td></tr>\n",
       "<tr><td>c</td><td>424.10764099241806</td><td>136.19036030606617</td></tr>\n",
       "<tr><td>b</td><td>615.8068621019021</td><td>197.57629518633377</td></tr>\n",
       "<tr><td>a</td><td>358.29739943649037</td><td>142.21571410099912</td></tr>\n",
       "</table>\n"
      ],
      "text/plain": [
       "+-------------+------------------+------------------+\n",
       "|revenue_level|  dollar_value_std| dollar_value_mean|\n",
       "+-------------+------------------+------------------+\n",
       "|            e|398.09440992860766|205.07215671809263|\n",
       "|            d| 752.4097865676849| 277.9027482625898|\n",
       "|            c|424.10764099241806|136.19036030606617|\n",
       "|            b| 615.8068621019021|197.57629518633377|\n",
       "|            a|358.29739943649037|142.21571410099912|\n",
       "+-------------+------------------+------------------+"
      ]
     },
     "execution_count": 53,
     "metadata": {},
     "output_type": "execute_result"
    }
   ],
   "source": [
    "rev_std = (join.groupBy(\"revenue_level\").agg(stddev_pop(\"dollar_value\").alias(\"dollar_value_std\"),\n",
    "                                             avg(\"dollar_value\").alias(\"dollar_value_mean\")))\n",
    "rev_std"
   ]
  },
  {
   "cell_type": "code",
   "execution_count": 54,
   "metadata": {},
   "outputs": [
    {
     "name": "stdout",
     "output_type": "stream",
     "text": [
      "Outliers based on revenue band removed: 34981\n"
     ]
    }
   ],
   "source": [
    "total = join.count()\n",
    "rev_sdf = (join.join(rev_std, \"revenue_level\", \"left\")\n",
    "               .filter(abs(col(\"dollar_value\") - col(\"dollar_value_mean\")) <= 3 * col(\"dollar_value_std\"))\n",
    "               .drop(\"dollar_value_mean\")\n",
    "               .drop(\"dollar_value_std\"))\n",
    "print(f\"Outliers based on revenue band removed: {total - rev_sdf.count()}\")"
   ]
  },
  {
   "cell_type": "markdown",
   "metadata": {},
   "source": [
    "<h4>3.1.2 Check distribution</h4>"
   ]
  },
  {
   "cell_type": "code",
   "execution_count": 55,
   "metadata": {},
   "outputs": [
    {
     "name": "stderr",
     "output_type": "stream",
     "text": [
      "                                                                                \r"
     ]
    },
    {
     "data": {
      "text/plain": [
       "<AxesSubplot:xlabel='dollar_value', ylabel='revenue_level'>"
      ]
     },
     "execution_count": 55,
     "metadata": {},
     "output_type": "execute_result"
    },
    {
     "data": {
      "image/png": "[encoded data removed]",
      "text/plain": [
       "<Figure size 432x288 with 1 Axes>"
      ]
     },
     "metadata": {
      "needs_background": "light"
     },
     "output_type": "display_data"
    }
   ],
   "source": [
    "sns.violinplot(data=rev_sdf.toPandas(), x=\"dollar_value\", y=\"revenue_level\")"
   ]
  },
  {
   "cell_type": "code",
   "execution_count": 56,
   "metadata": {},
   "outputs": [
    {
     "name": "stderr",
     "output_type": "stream",
     "text": [
      "                                                                                \r"
     ]
    },
    {
     "data": {
      "text/plain": [
       "<AxesSubplot:xlabel='dollar_value', ylabel='revenue_level'>"
      ]
     },
     "execution_count": 56,
     "metadata": {},
     "output_type": "execute_result"
    },
    {
     "data": {
      "image/png": "[encoded data removed]",
      "text/plain": [
       "<Figure size 432x288 with 1 Axes>"
      ]
     },
     "metadata": {
      "needs_background": "light"
     },
     "output_type": "display_data"
    }
   ],
   "source": [
    "sns.boxplot(data=rev_sdf.toPandas(), x=\"dollar_value\", y=\"revenue_level\")"
   ]
  },
  {
   "cell_type": "markdown",
   "metadata": {},
   "source": [
    "<h3>3.2 Get distribution of each merchant</h3>"
   ]
  },
  {
   "cell_type": "code",
   "execution_count": 65,
   "metadata": {},
   "outputs": [
    {
     "name": "stderr",
     "output_type": "stream",
     "text": [
      "                                                                                \r"
     ]
    },
    {
     "data": {
      "text/html": [
       "<table border='1'>\n",
       "<tr><th>merchant_name</th><th>dollar_value_std</th><th>dollar_value_mean</th></tr>\n",
       "<tr><td>Donec Luctus Indu...</td><td>132.34433909880525</td><td>345.84335391960195</td></tr>\n",
       "<tr><td>Elit Company</td><td>110.51547112044194</td><td>164.8865673081395</td></tr>\n",
       "<tr><td>Aliquet Odio Ltd</td><td>468.81972000533193</td><td>811.0558897360265</td></tr>\n",
       "<tr><td>Et Pede Inc.</td><td>409.8569331778463</td><td>725.9647254722089</td></tr>\n",
       "<tr><td>Commodo Auctor Ve...</td><td>50.84746226067416</td><td>59.367369142167334</td></tr>\n",
       "<tr><td>Hendrerit Consect...</td><td>308.63364411302115</td><td>316.30998860156814</td></tr>\n",
       "<tr><td>Libero Nec Ligula...</td><td>358.50312145773313</td><td>786.1461373031286</td></tr>\n",
       "<tr><td>Montes Nascetur Ltd</td><td>208.28039909197162</td><td>377.3328664254842</td></tr>\n",
       "<tr><td>Ut Nisi Limited</td><td>517.218201317942</td><td>665.7171729461087</td></tr>\n",
       "<tr><td>Enim Etiam Institute</td><td>308.60007817038104</td><td>599.6580339255797</td></tr>\n",
       "<tr><td>Ultricies Digniss...</td><td>332.07215812102913</td><td>509.8236365377413</td></tr>\n",
       "<tr><td>At Arcu Vestibulu...</td><td>362.7890978141187</td><td>491.11664161294965</td></tr>\n",
       "<tr><td>Ut Semper Corpora...</td><td>319.19034477277387</td><td>2126.6339601266736</td></tr>\n",
       "<tr><td>Magna Sed Institute</td><td>53.23162969790252</td><td>79.54810257099227</td></tr>\n",
       "<tr><td>Consequat Corp.</td><td>187.51270184520232</td><td>290.1265805473297</td></tr>\n",
       "<tr><td>Ipsum Curabitur LLP</td><td>171.0117092591036</td><td>271.6942400282945</td></tr>\n",
       "<tr><td>Euismod Est Assoc...</td><td>522.7874438658521</td><td>699.8217810926126</td></tr>\n",
       "<tr><td>Ac Fermentum Asso...</td><td>253.17641240821965</td><td>289.95413453412147</td></tr>\n",
       "<tr><td>Dignissim Lacus C...</td><td>38.93792506378057</td><td>36.6600999558127</td></tr>\n",
       "<tr><td>Orci Sem LLP</td><td>57.86106995739307</td><td>99.642860278929</td></tr>\n",
       "</table>\n",
       "only showing top 20 rows\n"
      ],
      "text/plain": [
       "+--------------------+------------------+------------------+\n",
       "|       merchant_name|  dollar_value_std| dollar_value_mean|\n",
       "+--------------------+------------------+------------------+\n",
       "|Donec Luctus Indu...|132.34433909880525|345.84335391960195|\n",
       "|        Elit Company|110.51547112044194| 164.8865673081395|\n",
       "|    Aliquet Odio Ltd|468.81972000533193| 811.0558897360265|\n",
       "|        Et Pede Inc.| 409.8569331778463| 725.9647254722089|\n",
       "|Commodo Auctor Ve...| 50.84746226067416|59.367369142167334|\n",
       "|Hendrerit Consect...|308.63364411302115|316.30998860156814|\n",
       "|Libero Nec Ligula...|358.50312145773313| 786.1461373031286|\n",
       "| Montes Nascetur Ltd|208.28039909197162| 377.3328664254842|\n",
       "|     Ut Nisi Limited|  517.218201317942| 665.7171729461087|\n",
       "|Enim Etiam Institute|308.60007817038104| 599.6580339255797|\n",
       "|Ultricies Digniss...|332.07215812102913| 509.8236365377413|\n",
       "|At Arcu Vestibulu...| 362.7890978141187|491.11664161294965|\n",
       "|Ut Semper Corpora...|319.19034477277387|2126.6339601266736|\n",
       "| Magna Sed Institute| 53.23162969790252| 79.54810257099227|\n",
       "|     Consequat Corp.|187.51270184520232| 290.1265805473297|\n",
       "| Ipsum Curabitur LLP| 171.0117092591036| 271.6942400282945|\n",
       "|Euismod Est Assoc...| 522.7874438658521| 699.8217810926126|\n",
       "|Ac Fermentum Asso...|253.17641240821965|289.95413453412147|\n",
       "|Dignissim Lacus C...| 38.93792506378057|  36.6600999558127|\n",
       "|        Orci Sem LLP| 57.86106995739307|   99.642860278929|\n",
       "+--------------------+------------------+------------------+\n",
       "only showing top 20 rows"
      ]
     },
     "execution_count": 65,
     "metadata": {},
     "output_type": "execute_result"
    }
   ],
   "source": [
    "merch_std = (rev_sdf.groupBy(\"merchant_name\").agg(stddev_pop(\"dollar_value\").alias(\"dollar_value_std\"),\n",
    "                                                  avg(\"dollar_value\").alias(\"dollar_value_mean\")))\n",
    "merch_std"
   ]
  },
  {
   "cell_type": "code",
   "execution_count": 67,
   "metadata": {},
   "outputs": [
    {
     "name": "stderr",
     "output_type": "stream",
     "text": [
      "                                                                                \r"
     ]
    },
    {
     "name": "stdout",
     "output_type": "stream",
     "text": [
      "Outliers based on merchant removed: 44816\n"
     ]
    }
   ],
   "source": [
    "total = rev_sdf.count()\n",
    "merch_sdf = (rev_sdf.join(merch_std, \"merchant_name\", \"left\")\n",
    "                   .filter(abs(col(\"dollar_value\") - col(\"dollar_value_mean\")) <= 3 * col(\"dollar_value_std\"))\n",
    "                   .drop(\"dollar_value_mean\")\n",
    "                   .drop(\"dollar_value_std\"))\n",
    "print(f\"Outliers based on merchant removed: {total - merch_sdf.count()}\")"
   ]
  },
  {
   "cell_type": "code",
   "execution_count": 69,
   "metadata": {},
   "outputs": [
    {
     "name": "stderr",
     "output_type": "stream",
     "text": [
      "                                                                                \r"
     ]
    }
   ],
   "source": [
    "merch_sdf.write.parquet(\"../data/curated/mechant_consumer_info\")"
   ]
  }
 ],
 "metadata": {
  "kernelspec": {
   "display_name": "Python 3.9.12 ('base')",
   "language": "python",
   "name": "python3"
  },
  "language_info": {
   "codemirror_mode": {
    "name": "ipython",
    "version": 3
   },
   "file_extension": ".py",
   "mimetype": "text/x-python",
   "name": "python",
   "nbconvert_exporter": "python",
   "pygments_lexer": "ipython3",
   "version": "3.9.12"
  },
  "orig_nbformat": 4,
  "vscode": {
   "interpreter": {
    "hash": "d2d7e6728612c8fd54cbd36f1913daefb7c7ed6b16dd726696ef300fa27e75d7"
   }
  }
 },
 "nbformat": 4,
 "nbformat_minor": 2
}
