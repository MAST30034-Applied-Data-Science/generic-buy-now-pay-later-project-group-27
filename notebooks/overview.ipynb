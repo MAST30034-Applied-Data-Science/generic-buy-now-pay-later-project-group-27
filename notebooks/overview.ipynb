{
 "cells": [
  {
   "cell_type": "code",
   "execution_count": 1,
   "metadata": {},
   "outputs": [
    {
     "name": "stdout",
     "output_type": "stream",
     "text": [
      "22/10/08 12:03:11 WARN Utils: Your hostname, Lilys-MacBook-Pro.local resolves to a loopback address: 127.0.0.1; using 10.12.104.143 instead (on interface en0)\n",
      "22/10/08 12:03:11 WARN Utils: Set SPARK_LOCAL_IP if you need to bind to another address\n"
     ]
    },
    {
     "name": "stderr",
     "output_type": "stream",
     "text": [
      "Setting default log level to \"WARN\".\n",
      "To adjust logging level use sc.setLogLevel(newLevel). For SparkR, use setLogLevel(newLevel).\n"
     ]
    },
    {
     "name": "stdout",
     "output_type": "stream",
     "text": [
      "22/10/08 12:03:11 WARN NativeCodeLoader: Unable to load native-hadoop library for your platform... using builtin-java classes where applicable\n",
      "22/10/08 12:03:12 WARN Utils: Service 'SparkUI' could not bind on port 4040. Attempting port 4041.\n",
      "22/10/08 12:03:12 WARN Utils: Service 'SparkUI' could not bind on port 4041. Attempting port 4042.\n"
     ]
    }
   ],
   "source": [
    "from pyspark.sql import SparkSession\n",
    "from pyspark.sql.functions import *\n",
    "\n",
    "spark = (\n",
    "    SparkSession.builder.appName(\"ADS project 2\")\n",
    "    .config(\"spark.sql.repl.eagerEval.enabled\", True) \n",
    "    .config(\"spark.sql.parquet.cacheMetadata\", \"true\")\n",
    "    .config(\"spark.sql.session.timeZone\", \"Etc/UTC\")\n",
    "    .config(\"spark.executor.memory\", \"2g\")\n",
    "    .config(\"spark.driver.memory\", \"4g\")\n",
    "    .getOrCreate()\n",
    ")"
   ]
  },
  {
   "cell_type": "code",
   "execution_count": 2,
   "metadata": {},
   "outputs": [
    {
     "name": "stderr",
     "output_type": "stream",
     "text": [
      "                                                                                \r"
     ]
    },
    {
     "name": "stdout",
     "output_type": "stream",
     "text": [
      "['../data/tables/transactions_20210228_20210827_snapshot/', '../data/tables/transactions_20220228_20220828_snapshot/', '../data/tables/transactions_20210828_20220227_snapshot/']\n"
     ]
    },
    {
     "name": "stderr",
     "output_type": "stream",
     "text": [
      "                                                                                \r"
     ]
    }
   ],
   "source": [
    "import os\n",
    "\n",
    "data_loc = \"../data/tables/\"\n",
    "consumer = spark.read.parquet(data_loc+\"consumer_user_details.parquet\")\n",
    "tbl_consumer = spark.read.csv(data_loc+\"tbl_consumer.csv\", sep=\"|\", header=True)\n",
    "tbl_merchant = spark.read.parquet(data_loc+\"tbl_merchants.parquet\")\n",
    "transactions = [data_loc + i + \"/\" for i in os.listdir(data_loc) if \"transactions\" in i]\n",
    "print(transactions)\n",
    "transact = spark.read.parquet('../data/tables/transactions_20210228_20210827_snapshot/')\n",
    "transact = transact.union(spark.read.parquet('../data/tables/transactions_20220228_20220828_snapshot/'))\n",
    "transact = transact.union(spark.read.parquet('../data/tables/transactions_20210828_20220227_snapshot/'))"
   ]
  },
  {
   "cell_type": "markdown",
   "metadata": {},
   "source": [
    "<h2> 1. Standardize column format of tables</h2>"
   ]
  },
  {
   "cell_type": "markdown",
   "metadata": {},
   "source": [
    "<h3>1.1 \"tbl_merchants.parquet\"</h3>"
   ]
  },
  {
   "cell_type": "code",
   "execution_count": 3,
   "metadata": {},
   "outputs": [
    {
     "name": "stdout",
     "output_type": "stream",
     "text": [
      "+--------------------+--------------------+------------+\n",
      "|                name|                tags|merchant_abn|\n",
      "+--------------------+--------------------+------------+\n",
      "|       Felis Limited|((furniture, home...| 10023283211|\n",
      "|Arcu Ac Orci Corp...|([cable, satellit...| 10142254217|\n",
      "|    Nunc Sed Company|([jewelry, watch,...| 10165489824|\n",
      "|Ultricies Digniss...|([wAtch, clock, a...| 10187291046|\n",
      "| Enim Condimentum PC|([music shops - m...| 10192359162|\n",
      "+--------------------+--------------------+------------+\n",
      "only showing top 5 rows\n",
      "\n"
     ]
    }
   ],
   "source": [
    "tbl_merchant.show(5)"
   ]
  },
  {
   "cell_type": "code",
   "execution_count": 4,
   "metadata": {},
   "outputs": [],
   "source": [
    "# separate \"tags\" into \"products\", \"revenue_level\", \"take_rate\"\n",
    "preprocessed_tbl_merchant = tbl_merchant.withColumn(\"split_tags\", split(col(\"tags\"), \",\")) \\\n",
    "            .withColumn(\"take_rate\", element_at(col(\"split_tags\"), -1)) \\\n",
    "            .withColumn(\"revenue_level\", element_at(col(\"split_tags\"), -2)) \\\n",
    "            .withColumn(\"products\", slice(reverse(col(\"split_tags\")), 3, 100)) \\\n",
    "            .withColumn(\"products\", reverse(col(\"products\")))"
   ]
  },
  {
   "cell_type": "code",
   "execution_count": 5,
   "metadata": {},
   "outputs": [],
   "source": [
    "# remove the special characters of \"revenue_level\" and \"take_rate\"\n",
    "preprocessed_tbl_merchant = preprocessed_tbl_merchant.withColumn(\"revenue_level\", regexp_replace(\"revenue_level\", \"[^a-e]\", \"\")) \\\n",
    "                                                     .withColumn(\"take_rate\", regexp_replace(\"take_rate\", \"[^0-9.]\", \"\"))"
   ]
  },
  {
   "cell_type": "code",
   "execution_count": 6,
   "metadata": {},
   "outputs": [],
   "source": [
    "# standardize the values in \"products\" and vectorize \"products\" into the bags of word\n",
    "preprocessed_tbl_merchant = preprocessed_tbl_merchant.withColumn(\"products\", concat_ws(\",\", col(\"products\"))) \\\n",
    "                                                     .withColumn(\"products\", regexp_replace(\"products\", \"[^A-Za-z0-9]\", \" \")) \\\n",
    "                                                     .withColumn(\"products\", regexp_replace(\"products\", \"\\s+\", \" \")) \\\n",
    "                                                     .withColumn(\"products\", regexp_replace(\"products\", \"(^\\s+)|(\\s+$)\", \"\")) \\\n",
    "                                                     .withColumn(\"products\", lower(col(\"products\"))) \\\n",
    "                                                    #  .withColumn(\"products\", split(col(\"products\"), \" \"))"
   ]
  },
  {
   "cell_type": "code",
   "execution_count": 7,
   "metadata": {},
   "outputs": [],
   "source": [
    "preprocessed_tbl_merchant = preprocessed_tbl_merchant.withColumnRenamed(\"name\", \"merchant_name\")\n",
    "preprocessed_tbl_merchant = preprocessed_tbl_merchant.select(\"merchant_name\", \"products\", \"revenue_level\",\n",
    "                                                             preprocessed_tbl_merchant.take_rate.cast(\"double\"), \"merchant_abn\")"
   ]
  },
  {
   "cell_type": "code",
   "execution_count": 8,
   "metadata": {},
   "outputs": [
    {
     "name": "stdout",
     "output_type": "stream",
     "text": [
      "+--------------------+--------------------+-------------+---------+------------+\n",
      "|       merchant_name|            products|revenue_level|take_rate|merchant_abn|\n",
      "+--------------------+--------------------+-------------+---------+------------+\n",
      "|       Felis Limited|furniture home fu...|            e|     0.18| 10023283211|\n",
      "|Arcu Ac Orci Corp...|cable satellite a...|            b|     4.22| 10142254217|\n",
      "|    Nunc Sed Company|jewelry watch clo...|            b|      4.4| 10165489824|\n",
      "|Ultricies Digniss...|watch clock and j...|            b|     3.29| 10187291046|\n",
      "| Enim Condimentum PC|music shops music...|            a|     6.33| 10192359162|\n",
      "+--------------------+--------------------+-------------+---------+------------+\n",
      "only showing top 5 rows\n",
      "\n"
     ]
    }
   ],
   "source": [
    "preprocessed_tbl_merchant.show(5)"
   ]
  },
  {
   "cell_type": "code",
   "execution_count": 9,
   "metadata": {},
   "outputs": [
    {
     "name": "stderr",
     "output_type": "stream",
     "text": [
      "[Stage 11:>                                                         (0 + 1) / 1]\r"
     ]
    },
    {
     "name": "stdout",
     "output_type": "stream",
     "text": [
      "95\n"
     ]
    },
    {
     "name": "stderr",
     "output_type": "stream",
     "text": [
      "                                                                                \r"
     ]
    },
    {
     "data": {
      "text/plain": [
       "['lawn',\n",
       " 'processing',\n",
       " 'newspapers',\n",
       " 'stock',\n",
       " 'silverware',\n",
       " 'cable',\n",
       " 'artist',\n",
       " 'furnishings',\n",
       " 'florists',\n",
       " 'repairs',\n",
       " 'art',\n",
       " 'galleries',\n",
       " 'toy',\n",
       " 'goods',\n",
       " 'al',\n",
       " 'computer',\n",
       " 'novelty',\n",
       " 'service',\n",
       " 'leasing',\n",
       " 'new',\n",
       " 'sales',\n",
       " 'bicycle',\n",
       " 'television',\n",
       " 'hobby',\n",
       " 'integrated',\n",
       " 'peripheral',\n",
       " 'shops',\n",
       " 'periodicals',\n",
       " 'card',\n",
       " 'parts',\n",
       " 'sheet',\n",
       " 'beauty',\n",
       " 'gift',\n",
       " 'vehicle',\n",
       " 'telecom',\n",
       " 'restoration',\n",
       " 'stationery',\n",
       " 'digital',\n",
       " 'supply',\n",
       " 'equipment',\n",
       " 'pianos',\n",
       " 'craft',\n",
       " 'clock',\n",
       " 'satellite',\n",
       " 'dealers',\n",
       " 'musical',\n",
       " 'souvenir',\n",
       " 'nursery',\n",
       " 'systems',\n",
       " 'opticians',\n",
       " 'game',\n",
       " 'rent',\n",
       " 'motor',\n",
       " 'tent',\n",
       " 'writing',\n",
       " 'watch',\n",
       " 'office',\n",
       " 'tool',\n",
       " 'antique',\n",
       " 'furniture',\n",
       " 'instruments',\n",
       " 'spas',\n",
       " 'nurseries',\n",
       " 'optical',\n",
       " 'data',\n",
       " 'awning',\n",
       " 'shoe',\n",
       " 'including',\n",
       " 'software',\n",
       " 'pay',\n",
       " 'garden',\n",
       " 'services',\n",
       " 'printing',\n",
       " 'music',\n",
       " 'and',\n",
       " 'except',\n",
       " 'design',\n",
       " 'home',\n",
       " 'eyeglasses',\n",
       " 'flowers',\n",
       " 'manufacturers',\n",
       " 'programming',\n",
       " 'health',\n",
       " 'radio',\n",
       " 'computers',\n",
       " 'movies',\n",
       " 'outlets',\n",
       " 'jewelry',\n",
       " 'repair',\n",
       " 'other',\n",
       " 'appliance',\n",
       " 'paper',\n",
       " 'supplies',\n",
       " 'books',\n",
       " 'appliances']"
      ]
     },
     "execution_count": 9,
     "metadata": {},
     "output_type": "execute_result"
    }
   ],
   "source": [
    "tags = preprocessed_tbl_merchant.rdd.map(lambda x: x[1]).collect()\n",
    "tags_unique = \" \".join(tags).split()\n",
    "tags_unique = list(set(tags_unique))\n",
    "print(len(tags_unique)) # not too many, can check some by hand, e.g. 'except' is the only word that has negative meaning\n",
    "tags_unique"
   ]
  },
  {
   "cell_type": "code",
   "execution_count": 10,
   "metadata": {},
   "outputs": [],
   "source": [
    "tags_tok = tags\n",
    "for i in range(len(tags)):\n",
    "    tags_tok[i] = tags_tok[i].split()\n",
    "    cur = [tags_tok[i][0]]\n",
    "    for j in range(1, len(tags_tok[i])):\n",
    "        if tags_tok[i][j-1] != \"except\":\n",
    "            if tags_tok[i][j] not in [\"and\", \"except\", \"other\", \"shops\", \"services\"]:\n",
    "                cur += [tags_tok[i][j]]\n",
    "    tags_tok[i] = cur\n",
    "# tags_tok"
   ]
  },
  {
   "cell_type": "code",
   "execution_count": 11,
   "metadata": {},
   "outputs": [
    {
     "name": "stdout",
     "output_type": "stream",
     "text": [
      "25\n"
     ]
    },
    {
     "data": {
      "text/plain": [
       "[['furniture', 'home', 'furnishings', 'equipment', 'manufacturers'],\n",
       " ['cable', 'satellite', 'pay', 'television', 'radio'],\n",
       " ['jewelry', 'watch', 'clock', 'silverware'],\n",
       " ['watch', 'clock', 'jewelry', 'repair'],\n",
       " ['music', 'musical', 'instruments', 'pianos', 'sheet', 'music'],\n",
       " ['gift', 'card', 'novelty', 'souvenir'],\n",
       " ['computers', 'computer', 'peripheral', 'equipment', 'software'],\n",
       " ['computer',\n",
       "  'programming',\n",
       "  'data',\n",
       "  'processing',\n",
       "  'integrated',\n",
       "  'systems',\n",
       "  'design'],\n",
       " ['equipment', 'tool', 'furniture', 'appliance', 'rent', 'al', 'leasing'],\n",
       " ['artist', 'supply', 'craft'],\n",
       " ['florists', 'supplies', 'nursery', 'stock', 'flowers'],\n",
       " ['antique', 'sales', 'repairs', 'restoration'],\n",
       " ['motor', 'vehicle', 'supplies', 'new', 'parts'],\n",
       " ['books', 'periodicals', 'newspapers'],\n",
       " ['stationery', 'office', 'supplies', 'printing', 'writing', 'paper'],\n",
       " ['tent', 'awning'],\n",
       " ['art', 'dealers', 'galleries'],\n",
       " ['bicycle', 'sales', 'service'],\n",
       " ['digital', 'goods', 'books', 'movies', 'music'],\n",
       " ['shoe'],\n",
       " ['opticians', 'optical', 'goods', 'eyeglasses'],\n",
       " ['health', 'beauty', 'spas'],\n",
       " ['hobby', 'toy', 'game'],\n",
       " ['lawn', 'garden', 'supply', 'outlets', 'including', 'nurseries'],\n",
       " ['telecom']]"
      ]
     },
     "execution_count": 11,
     "metadata": {},
     "output_type": "execute_result"
    }
   ],
   "source": [
    "tags_tok_unique = []\n",
    "for i in tags_tok:\n",
    "    if i not in tags_tok_unique:\n",
    "        tags_tok_unique += [i]\n",
    "print(len(tags_tok_unique)) # only 25 unique ones, can categorise manually\n",
    "tags_tok_unique"
   ]
  },
  {
   "cell_type": "code",
   "execution_count": 12,
   "metadata": {},
   "outputs": [
    {
     "data": {
      "text/plain": [
       "[('home and technology', 988),\n",
       " ('outdoors', 832),\n",
       " ('books and music', 829),\n",
       " ('fashion and accessories', 761),\n",
       " ('art and gifts', 616)]"
      ]
     },
     "execution_count": 12,
     "metadata": {},
     "output_type": "execute_result"
    }
   ],
   "source": [
    "import collections\n",
    "\n",
    "categories = [\n",
    "    'home and technology', 'home and technology', 'fashion and accessories', 'fashion and accessories', 'books and music',\n",
    "    'art and gifts', 'home and technology', 'home and technology', 'home and technology', 'art and gifts',\n",
    "    'outdoors', 'art and gifts', 'outdoors', 'books and music', 'books and music',\n",
    "    'outdoors', 'art and gifts', 'outdoors', 'books and music', 'fashion and accessories',\n",
    "    'fashion and accessories', 'fashion and accessories', 'books and music', 'outdoors', 'home and technology'\n",
    "]\n",
    "\n",
    "tag_to_cat = {\" \".join(tags_tok_unique[i]): categories[i] for i in range(len(categories))}\n",
    "cat_list = [tag_to_cat[\" \".join(i)] for i in tags_tok]\n",
    "\n",
    "collections.Counter([i for i in cat_list]).most_common()"
   ]
  },
  {
   "cell_type": "code",
   "execution_count": 37,
   "metadata": {},
   "outputs": [],
   "source": [
    "from pyspark.sql.types import *\n",
    "\n",
    "@udf(ArrayType(StringType()))\n",
    "def tokenise(tag):\n",
    "    tag = tag.split()\n",
    "    cur = [tag[0]]\n",
    "    for i in range(1, len(tag)):\n",
    "        if tag[i-1] != \"except\":\n",
    "            if tag[i] not in [\"and\", \"except\", \"other\", \"shops\", \"services\"]:\n",
    "                cur += [tag[i]]\n",
    "    return cur\n",
    "\n",
    "@udf(StringType())\n",
    "def categorise(tag):\n",
    "    tag = \" \".join(tag)\n",
    "    return tag_to_cat[tag]"
   ]
  },
  {
   "cell_type": "code",
   "execution_count": 44,
   "metadata": {},
   "outputs": [
    {
     "data": {
      "text/html": [
       "<table border='1'>\n",
       "<tr><th>merchant_name</th><th>products</th><th>revenue_level</th><th>take_rate</th><th>merchant_abn</th><th>tag</th><th>category</th></tr>\n",
       "<tr><td>Felis Limited</td><td>furniture home fu...</td><td>e</td><td>0.18</td><td>10023283211</td><td>furniture home fu...</td><td>home and technology</td></tr>\n",
       "<tr><td>Arcu Ac Orci Corp...</td><td>cable satellite a...</td><td>b</td><td>4.22</td><td>10142254217</td><td>cable satellite p...</td><td>home and technology</td></tr>\n",
       "<tr><td>Nunc Sed Company</td><td>jewelry watch clo...</td><td>b</td><td>4.4</td><td>10165489824</td><td>jewelry watch clo...</td><td>fashion and acces...</td></tr>\n",
       "<tr><td>Ultricies Digniss...</td><td>watch clock and j...</td><td>b</td><td>3.29</td><td>10187291046</td><td>watch clock jewel...</td><td>fashion and acces...</td></tr>\n",
       "<tr><td>Enim Condimentum PC</td><td>music shops music...</td><td>a</td><td>6.33</td><td>10192359162</td><td>music musical ins...</td><td>books and music</td></tr>\n",
       "<tr><td>Fusce Company</td><td>gift card novelty...</td><td>a</td><td>6.34</td><td>10206519221</td><td>gift card novelty...</td><td>art and gifts</td></tr>\n",
       "<tr><td>Aliquam Enim Inco...</td><td>computers compute...</td><td>b</td><td>4.32</td><td>10255988167</td><td>computers compute...</td><td>home and technology</td></tr>\n",
       "<tr><td>Ipsum Primis Ltd</td><td>watch clock and j...</td><td>c</td><td>2.39</td><td>10264435225</td><td>watch clock jewel...</td><td>fashion and acces...</td></tr>\n",
       "<tr><td>Pede Ultrices Ind...</td><td>computer programm...</td><td>a</td><td>5.71</td><td>10279061213</td><td>computer programm...</td><td>home and technology</td></tr>\n",
       "<tr><td>Nunc Inc.</td><td>furniture home fu...</td><td>a</td><td>6.61</td><td>10323485998</td><td>furniture home fu...</td><td>home and technology</td></tr>\n",
       "<tr><td>Facilisis Facilis...</td><td>computers compute...</td><td>a</td><td>6.34</td><td>10342410215</td><td>computers compute...</td><td>home and technology</td></tr>\n",
       "<tr><td>Odio Institute</td><td>equipment tool fu...</td><td>b</td><td>3.57</td><td>10346855916</td><td>equipment tool fu...</td><td>home and technology</td></tr>\n",
       "<tr><td>Rutrum Justo Ltd</td><td>music shops music...</td><td>b</td><td>3.63</td><td>10364012396</td><td>music musical ins...</td><td>books and music</td></tr>\n",
       "<tr><td>Tellus Foundation</td><td>artist supply and...</td><td>b</td><td>3.17</td><td>10385011947</td><td>artist supply craft</td><td>art and gifts</td></tr>\n",
       "<tr><td>Sed Et Company</td><td>florists supplies...</td><td>a</td><td>6.61</td><td>10385163239</td><td>florists supplies...</td><td>outdoors</td></tr>\n",
       "<tr><td>Id Ltd</td><td>computers compute...</td><td>a</td><td>5.54</td><td>10385250025</td><td>computers compute...</td><td>home and technology</td></tr>\n",
       "<tr><td>Consequat Foundation</td><td>antique shops sal...</td><td>a</td><td>6.93</td><td>10404542215</td><td>antique sales rep...</td><td>art and gifts</td></tr>\n",
       "<tr><td>Sit Amet Nulla Corp.</td><td>motor vehicle sup...</td><td>b</td><td>4.97</td><td>10430380319</td><td>motor vehicle sup...</td><td>outdoors</td></tr>\n",
       "<tr><td>Massa Vestibulum ...</td><td>motor vehicle sup...</td><td>a</td><td>5.77</td><td>10441711491</td><td>motor vehicle sup...</td><td>outdoors</td></tr>\n",
       "<tr><td>Ut Consulting</td><td>gift card novelty...</td><td>c</td><td>2.95</td><td>10462560289</td><td>gift card novelty...</td><td>art and gifts</td></tr>\n",
       "</table>\n",
       "only showing top 20 rows\n"
      ],
      "text/plain": [
       "+--------------------+--------------------+-------------+---------+------------+--------------------+--------------------+\n",
       "|       merchant_name|            products|revenue_level|take_rate|merchant_abn|                 tag|            category|\n",
       "+--------------------+--------------------+-------------+---------+------------+--------------------+--------------------+\n",
       "|       Felis Limited|furniture home fu...|            e|     0.18| 10023283211|furniture home fu...| home and technology|\n",
       "|Arcu Ac Orci Corp...|cable satellite a...|            b|     4.22| 10142254217|cable satellite p...| home and technology|\n",
       "|    Nunc Sed Company|jewelry watch clo...|            b|      4.4| 10165489824|jewelry watch clo...|fashion and acces...|\n",
       "|Ultricies Digniss...|watch clock and j...|            b|     3.29| 10187291046|watch clock jewel...|fashion and acces...|\n",
       "| Enim Condimentum PC|music shops music...|            a|     6.33| 10192359162|music musical ins...|     books and music|\n",
       "|       Fusce Company|gift card novelty...|            a|     6.34| 10206519221|gift card novelty...|       art and gifts|\n",
       "|Aliquam Enim Inco...|computers compute...|            b|     4.32| 10255988167|computers compute...| home and technology|\n",
       "|    Ipsum Primis Ltd|watch clock and j...|            c|     2.39| 10264435225|watch clock jewel...|fashion and acces...|\n",
       "|Pede Ultrices Ind...|computer programm...|            a|     5.71| 10279061213|computer programm...| home and technology|\n",
       "|           Nunc Inc.|furniture home fu...|            a|     6.61| 10323485998|furniture home fu...| home and technology|\n",
       "|Facilisis Facilis...|computers compute...|            a|     6.34| 10342410215|computers compute...| home and technology|\n",
       "|      Odio Institute|equipment tool fu...|            b|     3.57| 10346855916|equipment tool fu...| home and technology|\n",
       "|    Rutrum Justo Ltd|music shops music...|            b|     3.63| 10364012396|music musical ins...|     books and music|\n",
       "|   Tellus Foundation|artist supply and...|            b|     3.17| 10385011947| artist supply craft|       art and gifts|\n",
       "|      Sed Et Company|florists supplies...|            a|     6.61| 10385163239|florists supplies...|            outdoors|\n",
       "|              Id Ltd|computers compute...|            a|     5.54| 10385250025|computers compute...| home and technology|\n",
       "|Consequat Foundation|antique shops sal...|            a|     6.93| 10404542215|antique sales rep...|       art and gifts|\n",
       "|Sit Amet Nulla Corp.|motor vehicle sup...|            b|     4.97| 10430380319|motor vehicle sup...|            outdoors|\n",
       "|Massa Vestibulum ...|motor vehicle sup...|            a|     5.77| 10441711491|motor vehicle sup...|            outdoors|\n",
       "|       Ut Consulting|gift card novelty...|            c|     2.95| 10462560289|gift card novelty...|       art and gifts|\n",
       "+--------------------+--------------------+-------------+---------+------------+--------------------+--------------------+\n",
       "only showing top 20 rows"
      ]
     },
     "execution_count": 44,
     "metadata": {},
     "output_type": "execute_result"
    }
   ],
   "source": [
    "preprocessed_tbl_merchant_token = preprocessed_tbl_merchant.withColumn(\"tag\", tokenise(col(\"products\")))\n",
    "preprocessed_tbl_merchant_cat = preprocessed_tbl_merchant_token.withColumn(\"category\", categorise(col(\"tag\")))\n",
    "preprocessed_tbl_merchant_cat = preprocessed_tbl_merchant_cat.select(*(preprocessed_tbl_merchant_cat.columns[:5]),\n",
    "                                                                concat_ws(' ', 'tag').alias('tag'), \"category\")\n",
    "preprocessed_tbl_merchant_cat"
   ]
  },
  {
   "cell_type": "markdown",
   "metadata": {},
   "source": [
    "<h3>1.2 \"transactions_20210228_20210827_snapshot\"</h3>"
   ]
  },
  {
   "cell_type": "code",
   "execution_count": 45,
   "metadata": {},
   "outputs": [
    {
     "name": "stdout",
     "output_type": "stream",
     "text": [
      "+-------+------------+------------------+--------------------+--------------+\n",
      "|user_id|merchant_abn|      dollar_value|            order_id|order_datetime|\n",
      "+-------+------------+------------------+--------------------+--------------+\n",
      "|  18478| 62191208634|63.255848959735246|949a63c8-29f7-4ab...|    2021-08-20|\n",
      "|      2| 15549624934| 130.3505283105634|6a84c3cf-612a-457...|    2021-08-20|\n",
      "|  18479| 64403598239|120.15860593212783|b10dcc33-e53f-425...|    2021-08-20|\n",
      "|      3| 60956456424| 136.6785200286976|0f09c5a5-784e-447...|    2021-08-20|\n",
      "|  18479| 94493496784| 72.96316578355305|f6c78c1a-4600-4c5...|    2021-08-20|\n",
      "+-------+------------+------------------+--------------------+--------------+\n",
      "only showing top 5 rows\n",
      "\n"
     ]
    }
   ],
   "source": [
    "transact.show(5)"
   ]
  },
  {
   "cell_type": "code",
   "execution_count": 46,
   "metadata": {},
   "outputs": [],
   "source": [
    "# separate pickup datetime into date, year, month and day\n",
    "preprocessed_transact = transact.withColumn('order_year', year(col('order_datetime')))\n",
    "preprocessed_transact = preprocessed_transact.withColumn('order_month', month(col('order_datetime')))\n",
    "preprocessed_transact = preprocessed_transact.withColumn('order_day', dayofmonth(col('order_datetime')))\n",
    "preprocessed_transact = preprocessed_transact.withColumnRenamed('merchant_abn', 'merchant_abn_repeat')"
   ]
  },
  {
   "cell_type": "markdown",
   "metadata": {},
   "source": [
    "<h3>1.3 \"tbl_consumer.csv\"</h3>"
   ]
  },
  {
   "cell_type": "code",
   "execution_count": 47,
   "metadata": {},
   "outputs": [
    {
     "name": "stdout",
     "output_type": "stream",
     "text": [
      "+-----------------+--------------------+-----+--------+------+-----------+\n",
      "|             name|             address|state|postcode|gender|consumer_id|\n",
      "+-----------------+--------------------+-----+--------+------+-----------+\n",
      "| Yolanda Williams|413 Haney Gardens...|   WA|    6935|Female|    1195503|\n",
      "|       Mary Smith|     3764 Amber Oval|  NSW|    2782|Female|     179208|\n",
      "|    Jill Jones MD|  40693 Henry Greens|   NT|     862|Female|    1194530|\n",
      "|  Lindsay Jimenez|00653 Davenport C...|  NSW|    2780|Female|     154128|\n",
      "|Rebecca Blanchard|9271 Michael Mano...|   WA|    6355|Female|     712975|\n",
      "+-----------------+--------------------+-----+--------+------+-----------+\n",
      "only showing top 5 rows\n",
      "\n"
     ]
    }
   ],
   "source": [
    "tbl_consumer.show(5)"
   ]
  },
  {
   "cell_type": "code",
   "execution_count": 48,
   "metadata": {},
   "outputs": [],
   "source": [
    "preprocessed_tbl_consumer = tbl_consumer.withColumnRenamed(\"name\", \"consumer\")\n",
    "preprocessed_tbl_consumer = preprocessed_tbl_consumer.withColumnRenamed(\"address\", \"consumer_address\")\n",
    "preprocessed_tbl_consumer = preprocessed_tbl_consumer.withColumnRenamed(\"state\", \"consumer_state\")\n",
    "preprocessed_tbl_consumer = preprocessed_tbl_consumer.withColumnRenamed(\"postcode\", \"consumer_postcode\")\n",
    "preprocessed_tbl_consumer = preprocessed_tbl_consumer.withColumnRenamed(\"gender\", \"consumer_gender\")"
   ]
  },
  {
   "cell_type": "code",
   "execution_count": 49,
   "metadata": {},
   "outputs": [
    {
     "name": "stdout",
     "output_type": "stream",
     "text": [
      "+-----------------+--------------------+--------------+-----------------+---------------+-----------+\n",
      "|         consumer|    consumer_address|consumer_state|consumer_postcode|consumer_gender|consumer_id|\n",
      "+-----------------+--------------------+--------------+-----------------+---------------+-----------+\n",
      "| Yolanda Williams|413 Haney Gardens...|            WA|             6935|         Female|    1195503|\n",
      "|       Mary Smith|     3764 Amber Oval|           NSW|             2782|         Female|     179208|\n",
      "|    Jill Jones MD|  40693 Henry Greens|            NT|              862|         Female|    1194530|\n",
      "|  Lindsay Jimenez|00653 Davenport C...|           NSW|             2780|         Female|     154128|\n",
      "|Rebecca Blanchard|9271 Michael Mano...|            WA|             6355|         Female|     712975|\n",
      "+-----------------+--------------------+--------------+-----------------+---------------+-----------+\n",
      "only showing top 5 rows\n",
      "\n"
     ]
    }
   ],
   "source": [
    "preprocessed_tbl_consumer.show(5)"
   ]
  },
  {
   "cell_type": "markdown",
   "metadata": {},
   "source": [
    "<h3>1.4 \"consumer.parquet\"</h3>"
   ]
  },
  {
   "cell_type": "code",
   "execution_count": 50,
   "metadata": {},
   "outputs": [
    {
     "name": "stdout",
     "output_type": "stream",
     "text": [
      "+-------+-----------+\n",
      "|user_id|consumer_id|\n",
      "+-------+-----------+\n",
      "|      1|    1195503|\n",
      "|      2|     179208|\n",
      "|      3|    1194530|\n",
      "|      4|     154128|\n",
      "|      5|     712975|\n",
      "+-------+-----------+\n",
      "only showing top 5 rows\n",
      "\n"
     ]
    }
   ],
   "source": [
    "consumer.show(5)"
   ]
  },
  {
   "cell_type": "code",
   "execution_count": 51,
   "metadata": {},
   "outputs": [],
   "source": [
    "preprocessed_consumer = consumer.withColumnRenamed(\"user_id\", \"user_id_repeat\")\n",
    "preprocessed_consumer = preprocessed_consumer.withColumnRenamed(\"consumer_id\", \"consumer_id_repeat\")"
   ]
  },
  {
   "cell_type": "code",
   "execution_count": 52,
   "metadata": {},
   "outputs": [
    {
     "name": "stdout",
     "output_type": "stream",
     "text": [
      "+--------------+------------------+\n",
      "|user_id_repeat|consumer_id_repeat|\n",
      "+--------------+------------------+\n",
      "|             1|           1195503|\n",
      "|             2|            179208|\n",
      "|             3|           1194530|\n",
      "|             4|            154128|\n",
      "|             5|            712975|\n",
      "+--------------+------------------+\n",
      "only showing top 5 rows\n",
      "\n"
     ]
    }
   ],
   "source": [
    "preprocessed_consumer.show(5)"
   ]
  },
  {
   "cell_type": "markdown",
   "metadata": {},
   "source": [
    "<h2>2. Join tables</h2>"
   ]
  },
  {
   "cell_type": "code",
   "execution_count": 53,
   "metadata": {},
   "outputs": [
    {
     "name": "stderr",
     "output_type": "stream",
     "text": [
      "[Stage 53:======================================>                 (18 + 8) / 26]\r"
     ]
    },
    {
     "name": "stdout",
     "output_type": "stream",
     "text": [
      "Mismatched (null) transactions dropped: 580830\n"
     ]
    },
    {
     "name": "stderr",
     "output_type": "stream",
     "text": [
      "                                                                                \r"
     ]
    }
   ],
   "source": [
    "preprocessed_tbl_merchant_cat.createOrReplaceTempView('merchant')\n",
    "preprocessed_transact.createOrReplaceTempView('transact')\n",
    "preprocessed_tbl_consumer.createOrReplaceTempView('tbl_consumer')\n",
    "preprocessed_consumer.createOrReplaceTempView('consumer')\n",
    "\n",
    "join = spark.sql(\"\"\"\n",
    "SELECT \n",
    "    *\n",
    "FROM \n",
    "    merchant\n",
    "INNER JOIN\n",
    "    transact\n",
    "ON \n",
    "    transact.merchant_abn_repeat = merchant.merchant_abn\n",
    "INNER JOIN\n",
    "    consumer\n",
    "ON\n",
    "    transact.user_id = consumer.user_id_repeat\n",
    "INNER JOIN\n",
    "    tbl_consumer\n",
    "ON \n",
    "    consumer.consumer_id_repeat = tbl_consumer.consumer_id\n",
    "ORDER BY\n",
    "    revenue_level DESC\n",
    "\"\"\")\n",
    "\n",
    "join = join.drop(\"merchant_abn_repeat\", \"consumer_id_repeat\", \"user_id_repeat\", \"merchant_abn\", \"consumer_id\", \"order_id\")\n",
    "print(f\"Mismatched (null) transactions dropped: {preprocessed_transact.count() - join.count()}\")"
   ]
  },
  {
   "cell_type": "code",
   "execution_count": 54,
   "metadata": {},
   "outputs": [
    {
     "name": "stderr",
     "output_type": "stream",
     "text": [
      "                                                                                \r"
     ]
    },
    {
     "data": {
      "text/html": [
       "<table border='1'>\n",
       "<tr><th>merchant_name</th><th>products</th><th>revenue_level</th><th>take_rate</th><th>tag</th><th>category</th><th>user_id</th><th>dollar_value</th><th>order_datetime</th><th>order_year</th><th>order_month</th><th>order_day</th><th>consumer</th><th>consumer_address</th><th>consumer_state</th><th>consumer_postcode</th><th>consumer_gender</th></tr>\n",
       "<tr><td>Nullam Vitae Diam PC</td><td>opticians optical...</td><td>e</td><td>0.22</td><td>opticians optical...</td><td>fashion and acces...</td><td>23679</td><td>72.77954022414646</td><td>2021-09-13</td><td>2021</td><td>9</td><td>13</td><td>Roberto Robbins</td><td>3146 Eric Turnpik...</td><td>NSW</td><td>2396</td><td>Male</td></tr>\n",
       "<tr><td>Et Nunc Consulting</td><td>books periodicals...</td><td>e</td><td>0.16</td><td>books periodicals...</td><td>books and music</td><td>13065</td><td>481.02863662953126</td><td>2021-12-18</td><td>2021</td><td>12</td><td>18</td><td>Mark Mercer</td><td>74588 Erica Roads</td><td>VIC</td><td>3873</td><td>Male</td></tr>\n",
       "<tr><td>Augue Eu Tempor A...</td><td>cable satellite a...</td><td>e</td><td>0.38</td><td>cable satellite p...</td><td>home and technology</td><td>6305</td><td>36.24855550060353</td><td>2022-10-06</td><td>2022</td><td>10</td><td>6</td><td>Allison Stevens</td><td>60866 Miller Avenue</td><td>NSW</td><td>1193</td><td>Female</td></tr>\n",
       "<tr><td>Et Nunc Consulting</td><td>books periodicals...</td><td>e</td><td>0.16</td><td>books periodicals...</td><td>books and music</td><td>3698</td><td>263.7003863435179</td><td>2022-03-27</td><td>2022</td><td>3</td><td>27</td><td>Christopher Rodri...</td><td>30554 Evans Strea...</td><td>NSW</td><td>2299</td><td>Male</td></tr>\n",
       "<tr><td>Et Nunc Consulting</td><td>books periodicals...</td><td>e</td><td>0.16</td><td>books periodicals...</td><td>books and music</td><td>6305</td><td>147.74061765538696</td><td>2021-12-09</td><td>2021</td><td>12</td><td>9</td><td>Allison Stevens</td><td>60866 Miller Avenue</td><td>NSW</td><td>1193</td><td>Female</td></tr>\n",
       "<tr><td>Magna Sed Institute</td><td>cable satellite a...</td><td>e</td><td>0.31</td><td>cable satellite p...</td><td>home and technology</td><td>832</td><td>9.737964095722326</td><td>2021-05-10</td><td>2021</td><td>5</td><td>10</td><td>Brian Barnett</td><td>989 Robinson Street</td><td>NSW</td><td>2323</td><td>Male</td></tr>\n",
       "<tr><td>Dis Parturient Co...</td><td>gift card novelty...</td><td>e</td><td>0.24</td><td>gift card novelty...</td><td>art and gifts</td><td>6305</td><td>140.36239513919142</td><td>2021-11-08</td><td>2021</td><td>11</td><td>8</td><td>Allison Stevens</td><td>60866 Miller Avenue</td><td>NSW</td><td>1193</td><td>Female</td></tr>\n",
       "<tr><td>Nunc Est LLP</td><td>watch clock and j...</td><td>e</td><td>0.22</td><td>watch clock jewel...</td><td>fashion and acces...</td><td>23679</td><td>186.91415986083496</td><td>2021-05-27</td><td>2021</td><td>5</td><td>27</td><td>Roberto Robbins</td><td>3146 Eric Turnpik...</td><td>NSW</td><td>2396</td><td>Male</td></tr>\n",
       "<tr><td>Ante Industries</td><td>motor vehicle sup...</td><td>e</td><td>0.35</td><td>motor vehicle sup...</td><td>outdoors</td><td>2199</td><td>86.65631054124275</td><td>2022-09-21</td><td>2022</td><td>9</td><td>21</td><td>Kelly Krueger</td><td>039 Green Route</td><td>WA</td><td>6935</td><td>Undisclosed</td></tr>\n",
       "<tr><td>Metus Sit Amet In...</td><td>cable satellite a...</td><td>e</td><td>0.38</td><td>cable satellite p...</td><td>home and technology</td><td>23679</td><td>20.49850981713674</td><td>2021-07-04</td><td>2021</td><td>7</td><td>4</td><td>Roberto Robbins</td><td>3146 Eric Turnpik...</td><td>NSW</td><td>2396</td><td>Male</td></tr>\n",
       "<tr><td>Metus Sit Amet In...</td><td>cable satellite a...</td><td>e</td><td>0.38</td><td>cable satellite p...</td><td>home and technology</td><td>2199</td><td>36.97174094574666</td><td>2022-05-27</td><td>2022</td><td>5</td><td>27</td><td>Kelly Krueger</td><td>039 Green Route</td><td>WA</td><td>6935</td><td>Undisclosed</td></tr>\n",
       "<tr><td>Metus Sit Amet In...</td><td>cable satellite a...</td><td>e</td><td>0.38</td><td>cable satellite p...</td><td>home and technology</td><td>23679</td><td>57.27484630595788</td><td>2022-08-20</td><td>2022</td><td>8</td><td>20</td><td>Roberto Robbins</td><td>3146 Eric Turnpik...</td><td>NSW</td><td>2396</td><td>Male</td></tr>\n",
       "<tr><td>Et Nunc Consulting</td><td>books periodicals...</td><td>e</td><td>0.16</td><td>books periodicals...</td><td>books and music</td><td>2199</td><td>35.82192681169296</td><td>2022-06-03</td><td>2022</td><td>6</td><td>3</td><td>Kelly Krueger</td><td>039 Green Route</td><td>WA</td><td>6935</td><td>Undisclosed</td></tr>\n",
       "<tr><td>Nunc Est LLP</td><td>watch clock and j...</td><td>e</td><td>0.22</td><td>watch clock jewel...</td><td>fashion and acces...</td><td>2199</td><td>41.535731595446364</td><td>2021-10-08</td><td>2021</td><td>10</td><td>8</td><td>Kelly Krueger</td><td>039 Green Route</td><td>WA</td><td>6935</td><td>Undisclosed</td></tr>\n",
       "<tr><td>Nunc Est LLP</td><td>watch clock and j...</td><td>e</td><td>0.22</td><td>watch clock jewel...</td><td>fashion and acces...</td><td>13065</td><td>34.987765795653</td><td>2021-11-28</td><td>2021</td><td>11</td><td>28</td><td>Mark Mercer</td><td>74588 Erica Roads</td><td>VIC</td><td>3873</td><td>Male</td></tr>\n",
       "<tr><td>Hendrerit Donec L...</td><td>digital goods boo...</td><td>e</td><td>0.18</td><td>digital goods boo...</td><td>books and music</td><td>9039</td><td>17.760433649199893</td><td>2021-06-01</td><td>2021</td><td>6</td><td>1</td><td>Joseph Lynch</td><td>1730 Christopher ...</td><td>NSW</td><td>2070</td><td>Male</td></tr>\n",
       "<tr><td>Feugiat Nec Diam LLC</td><td>computers compute...</td><td>e</td><td>0.3</td><td>computers compute...</td><td>home and technology</td><td>3698</td><td>1.2741967656358493</td><td>2021-09-01</td><td>2021</td><td>9</td><td>1</td><td>Christopher Rodri...</td><td>30554 Evans Strea...</td><td>NSW</td><td>2299</td><td>Male</td></tr>\n",
       "<tr><td>A Sollicitudin Or...</td><td>equipment tool fu...</td><td>e</td><td>0.36</td><td>equipment tool fu...</td><td>home and technology</td><td>9039</td><td>3875.6697539235956</td><td>2022-09-09</td><td>2022</td><td>9</td><td>9</td><td>Joseph Lynch</td><td>1730 Christopher ...</td><td>NSW</td><td>2070</td><td>Male</td></tr>\n",
       "<tr><td>Felis Limited</td><td>furniture home fu...</td><td>e</td><td>0.18</td><td>furniture home fu...</td><td>home and technology</td><td>23679</td><td>74.68707218671928</td><td>2021-08-11</td><td>2021</td><td>8</td><td>11</td><td>Roberto Robbins</td><td>3146 Eric Turnpik...</td><td>NSW</td><td>2396</td><td>Male</td></tr>\n",
       "<tr><td>Et Nunc Consulting</td><td>books periodicals...</td><td>e</td><td>0.16</td><td>books periodicals...</td><td>books and music</td><td>9039</td><td>200.97347140339807</td><td>2021-10-10</td><td>2021</td><td>10</td><td>10</td><td>Joseph Lynch</td><td>1730 Christopher ...</td><td>NSW</td><td>2070</td><td>Male</td></tr>\n",
       "</table>\n",
       "only showing top 20 rows\n"
      ],
      "text/plain": [
       "+--------------------+--------------------+-------------+---------+--------------------+--------------------+-------+------------------+--------------+----------+-----------+---------+--------------+--------------------+--------------+-----------------+---------------+\n",
       "|       merchant_name|            products|revenue_level|take_rate|                 tag|            category|user_id|      dollar_value|order_datetime|order_year|order_month|order_day|      consumer|    consumer_address|consumer_state|consumer_postcode|consumer_gender|\n",
       "+--------------------+--------------------+-------------+---------+--------------------+--------------------+-------+------------------+--------------+----------+-----------+---------+--------------+--------------------+--------------+-----------------+---------------+\n",
       "|Tempus Eu Ligula ...|computers compute...|            e|     0.33|computers compute...| home and technology|   6124|3.7661762598057638|    2021-06-12|      2021|          6|       12|     Ann Adams|42281 Solomon Gar...|           NSW|             1300|         Female|\n",
       "|  Et Nunc Consulting|books periodicals...|            e|     0.16|books periodicals...|     books and music|  23249| 130.0172467188488|    2022-04-17|      2022|          4|       17|Amber Williams|02501 Thomas Valleys|           QLD|             4415|         Female|\n",
       "|Augue Eu Tempor A...|cable satellite a...|            e|     0.38|cable satellite p...| home and technology|   6124| 88.33736614513714|    2021-11-14|      2021|         11|       14|     Ann Adams|42281 Solomon Gar...|           NSW|             1300|         Female|\n",
       "|Metus Sit Amet In...|cable satellite a...|            e|     0.38|cable satellite p...| home and technology|   9527| 27.74131341513034|    2021-05-20|      2021|          5|       20|  Peter Foster|  126 Anderson Lodge|            WA|             6244|           Male|\n",
       "|Nullam Enim Sed I...|tent and awning s...|            e|     0.27|         tent awning|            outdoors|   6124| 6.042972106248412|    2022-02-12|      2022|          2|       12|     Ann Adams|42281 Solomon Gar...|           NSW|             1300|         Female|\n",
       "|        Orci Sem LLP|music shops music...|            e|     0.37|music musical ins...|     books and music|   9527|139.47218301299438|    2022-03-05|      2022|          3|        5|  Peter Foster|  126 Anderson Lodge|            WA|             6244|           Male|\n",
       "|Tempus Eu Ligula ...|computers compute...|            e|     0.33|computers compute...| home and technology|   6124|13.493707653820685|    2022-02-19|      2022|          2|       19|     Ann Adams|42281 Solomon Gar...|           NSW|             1300|         Female|\n",
       "|Dis Parturient Co...|gift card novelty...|            e|     0.24|gift card novelty...|       art and gifts|   9527| 73.54062497179427|    2021-09-03|      2021|          9|        3|  Peter Foster|  126 Anderson Lodge|            WA|             6244|           Male|\n",
       "|  Et Nunc Consulting|books periodicals...|            e|     0.16|books periodicals...|     books and music|  20178|112.75119796173901|    2021-08-13|      2021|          8|       13| Angela Howard|5632 Bradley Moun...|           NSW|             1158|         Female|\n",
       "|        Dapibus Inc.|equipment tool fu...|            e|     0.33|equipment tool fu...| home and technology|  11485| 641.0431827719036|    2022-07-20|      2022|          7|       20| Robert Watson|618 Smith Coves S...|            SA|             5267|           Male|\n",
       "|  Et Nunc Consulting|books periodicals...|            e|     0.16|books periodicals...|     books and music|  20178|494.63365724984817|    2021-08-25|      2021|          8|       25| Angela Howard|5632 Bradley Moun...|           NSW|             1158|         Female|\n",
       "|Metus Sit Amet In...|cable satellite a...|            e|     0.38|cable satellite p...| home and technology|  11485| 93.18726297146337|    2021-11-30|      2021|         11|       30| Robert Watson|618 Smith Coves S...|            SA|             5267|           Male|\n",
       "|Eget Metus Eu Ins...|          shoe shops|            e|     0.42|                shoe|fashion and acces...|  20178| 589.3637681475365|    2021-07-11|      2021|          7|       11| Angela Howard|5632 Bradley Moun...|           NSW|             1158|         Female|\n",
       "|        Nunc Est LLP|watch clock and j...|            e|     0.22|watch clock jewel...|fashion and acces...|  11485| 66.93582166110191|    2021-09-28|      2021|          9|       28| Robert Watson|618 Smith Coves S...|            SA|             5267|           Male|\n",
       "|Dis Parturient Co...|gift card novelty...|            e|     0.24|gift card novelty...|       art and gifts|  20178|177.46388227419826|    2022-10-20|      2022|         10|       20| Angela Howard|5632 Bradley Moun...|           NSW|             1158|         Female|\n",
       "|        Nunc Est LLP|watch clock and j...|            e|     0.22|watch clock jewel...|fashion and acces...|  20178| 27.01197623046868|    2021-09-18|      2021|          9|       18| Angela Howard|5632 Bradley Moun...|           NSW|             1158|         Female|\n",
       "|Dis Parturient Co...|gift card novelty...|            e|     0.24|gift card novelty...|       art and gifts|  23249|    75.84670111893|    2022-05-19|      2022|          5|       19|Amber Williams|02501 Thomas Valleys|           QLD|             4415|         Female|\n",
       "|        Nunc Est LLP|watch clock and j...|            e|     0.22|watch clock jewel...|fashion and acces...|   7262|211.50521194069412|    2022-09-02|      2022|          9|        2|   Juan Norman|69111 Anna Curve ...|           NSW|             1296|           Male|\n",
       "|Tempus Eu Ligula ...|computers compute...|            e|     0.33|computers compute...| home and technology|   9527|61.124516245217414|    2022-04-16|      2022|          4|       16|  Peter Foster|  126 Anderson Lodge|            WA|             6244|           Male|\n",
       "|Metus Sit Amet In...|cable satellite a...|            e|     0.38|cable satellite p...| home and technology|   7262|110.70152085912497|    2022-09-08|      2022|          9|        8|   Juan Norman|69111 Anna Curve ...|           NSW|             1296|           Male|\n",
       "+--------------------+--------------------+-------------+---------+--------------------+--------------------+-------+------------------+--------------+----------+-----------+---------+--------------+--------------------+--------------+-----------------+---------------+\n",
       "only showing top 20 rows"
      ]
     },
     "execution_count": 54,
     "metadata": {},
     "output_type": "execute_result"
    }
   ],
   "source": [
    "join"
   ]
  },
  {
   "cell_type": "code",
   "execution_count": 56,
   "metadata": {},
   "outputs": [
    {
     "name": "stderr",
     "output_type": "stream",
     "text": [
      "                                                                                \r"
     ]
    },
    {
     "name": "stdout",
     "output_type": "stream",
     "text": [
      "22/10/08 16:19:21 WARN HeartbeatReceiver: Removing executor driver with no recent heartbeats: 830374 ms exceeds timeout 120000 ms\n",
      "22/10/08 16:19:21 WARN SparkContext: Killing executors is not supported by current scheduler.\n",
      "22/10/08 20:33:44 WARN TransportChannelHandler: Exception in connection from /10.12.104.143:57138\n",
      "java.io.IOException: Operation timed out\n",
      "\tat sun.nio.ch.FileDispatcherImpl.read0(Native Method)\n",
      "\tat sun.nio.ch.SocketDispatcher.read(SocketDispatcher.java:39)\n",
      "\tat sun.nio.ch.IOUtil.readIntoNativeBuffer(IOUtil.java:223)\n",
      "\tat sun.nio.ch.IOUtil.read(IOUtil.java:192)\n",
      "\tat sun.nio.ch.SocketChannelImpl.read(SocketChannelImpl.java:379)\n",
      "\tat io.netty.buffer.PooledByteBuf.setBytes(PooledByteBuf.java:258)\n",
      "\tat io.netty.buffer.AbstractByteBuf.writeBytes(AbstractByteBuf.java:1132)\n",
      "\tat io.netty.channel.socket.nio.NioSocketChannel.doReadBytes(NioSocketChannel.java:350)\n",
      "\tat io.netty.channel.nio.AbstractNioByteChannel$NioByteUnsafe.read(AbstractNioByteChannel.java:151)\n",
      "\tat io.netty.channel.nio.NioEventLoop.processSelectedKey(NioEventLoop.java:722)\n",
      "\tat io.netty.channel.nio.NioEventLoop.processSelectedKeysOptimized(NioEventLoop.java:658)\n",
      "\tat io.netty.channel.nio.NioEventLoop.processSelectedKeys(NioEventLoop.java:584)\n",
      "\tat io.netty.channel.nio.NioEventLoop.run(NioEventLoop.java:496)\n",
      "\tat io.netty.util.concurrent.SingleThreadEventExecutor$4.run(SingleThreadEventExecutor.java:986)\n",
      "\tat io.netty.util.internal.ThreadExecutorMap$2.run(ThreadExecutorMap.java:74)\n",
      "\tat io.netty.util.concurrent.FastThreadLocalRunnable.run(FastThreadLocalRunnable.java:30)\n",
      "\tat java.lang.Thread.run(Thread.java:750)\n"
     ]
    }
   ],
   "source": [
    "join.write.parquet(\"../data/curated/raw_join_internal_table\")"
   ]
  }
 ],
 "metadata": {
  "kernelspec": {
   "display_name": "Python 3.9.12 ('base')",
   "language": "python",
   "name": "python3"
  },
  "language_info": {
   "codemirror_mode": {
    "name": "ipython",
    "version": 3
   },
   "file_extension": ".py",
   "mimetype": "text/x-python",
   "name": "python",
   "nbconvert_exporter": "python",
   "pygments_lexer": "ipython3",
   "version": "3.9.12"
  },
  "orig_nbformat": 4,
  "vscode": {
   "interpreter": {
    "hash": "d2d7e6728612c8fd54cbd36f1913daefb7c7ed6b16dd726696ef300fa27e75d7"
   }
  }
 },
 "nbformat": 4,
 "nbformat_minor": 2
}
