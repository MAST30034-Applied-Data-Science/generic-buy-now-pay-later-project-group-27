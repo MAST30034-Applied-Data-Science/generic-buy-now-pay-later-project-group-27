{
 "cells": [
  {
   "cell_type": "code",
   "execution_count": 1,
   "metadata": {},
   "outputs": [
    {
     "name": "stderr",
     "output_type": "stream",
     "text": [
      "Setting default log level to \"WARN\".\n",
      "To adjust logging level use sc.setLogLevel(newLevel). For SparkR, use setLogLevel(newLevel).\n"
     ]
    },
    {
     "name": "stdout",
     "output_type": "stream",
     "text": [
      "22/10/03 19:20:58 WARN NativeCodeLoader: Unable to load native-hadoop library for your platform... using builtin-java classes where applicable\n"
     ]
    }
   ],
   "source": [
    "from pyspark.sql import SparkSession\n",
    "from pyspark.sql.functions import *\n",
    "\n",
    "spark = (\n",
    "    SparkSession.builder.appName(\"ADS project 2\")\n",
    "    .config(\"spark.sql.repl.eagerEval.enabled\", True) \n",
    "    .config(\"spark.sql.parquet.cacheMetadata\", \"true\")\n",
    "    .config(\"spark.sql.session.timeZone\", \"Etc/UTC\")\n",
    "    .config(\"spark.executor.memory\", \"2g\")\n",
    "    .config(\"spark.driver.memory\", \"4g\")\n",
    "    .getOrCreate()\n",
    ")"
   ]
  },
  {
   "cell_type": "code",
   "execution_count": 2,
   "metadata": {},
   "outputs": [
    {
     "name": "stderr",
     "output_type": "stream",
     "text": [
      "                                                                                \r"
     ]
    },
    {
     "name": "stdout",
     "output_type": "stream",
     "text": [
      "['../data/tables/transactions_20210228_20210827_snapshot/', '../data/tables/transactions/', '../data/tables/transactions_20220228_20220828_snapshot/', '../data/tables/transactions_20210828_20220227_snapshot/']\n"
     ]
    },
    {
     "name": "stderr",
     "output_type": "stream",
     "text": [
      "                                                                                \r"
     ]
    }
   ],
   "source": [
    "import os\n",
    "\n",
    "data_loc = \"../data/tables/\"\n",
    "consumer = spark.read.parquet(data_loc+\"consumer_user_details.parquet\")\n",
    "tbl_consumer = spark.read.csv(data_loc+\"tbl_consumer.csv\", sep=\"|\", header=True)\n",
    "tbl_merchant = spark.read.parquet(data_loc+\"tbl_merchants.parquet\")\n",
    "transactions = [data_loc + i + \"/\" for i in os.listdir(data_loc) if \"transactions\" in i]\n",
    "print(transactions)\n",
    "transact = spark.read.parquet('../data/tables/transactions_20210228_20210827_snapshot/')\n",
    "transact = transact.union(spark.read.parquet('../data/tables/transactions_20220228_20220828_snapshot/'))\n",
    "transact = transact.union(spark.read.parquet('../data/tables/transactions_20210828_20220227_snapshot/'))"
   ]
  },
  {
   "cell_type": "markdown",
   "metadata": {},
   "source": [
    "<h2> 1. Standardize column format of tables</h2>"
   ]
  },
  {
   "cell_type": "markdown",
   "metadata": {},
   "source": [
    "<h3>1.1 \"tbl_merchants.parquet\"</h3>"
   ]
  },
  {
   "cell_type": "code",
   "execution_count": 3,
   "metadata": {},
   "outputs": [
    {
     "name": "stdout",
     "output_type": "stream",
     "text": [
      "+--------------------+--------------------+------------+\n",
      "|                name|                tags|merchant_abn|\n",
      "+--------------------+--------------------+------------+\n",
      "|       Felis Limited|((furniture, home...| 10023283211|\n",
      "|Arcu Ac Orci Corp...|([cable, satellit...| 10142254217|\n",
      "|    Nunc Sed Company|([jewelry, watch,...| 10165489824|\n",
      "|Ultricies Digniss...|([wAtch, clock, a...| 10187291046|\n",
      "| Enim Condimentum PC|([music shops - m...| 10192359162|\n",
      "+--------------------+--------------------+------------+\n",
      "only showing top 5 rows\n",
      "\n"
     ]
    },
    {
     "name": "stderr",
     "output_type": "stream",
     "text": [
      "                                                                                \r"
     ]
    }
   ],
   "source": [
    "tbl_merchant.show(5)"
   ]
  },
  {
   "cell_type": "code",
   "execution_count": 4,
   "metadata": {},
   "outputs": [],
   "source": [
    "# separate \"tags\" into \"products\", \"revenue_level\", \"take_rate\"\n",
    "preprocessed_tbl_merchant = tbl_merchant.withColumn(\"split_tags\", split(col(\"tags\"), \",\")) \\\n",
    "            .withColumn(\"take_rate\", element_at(col(\"split_tags\"), -1)) \\\n",
    "            .withColumn(\"revenue_level\", element_at(col(\"split_tags\"), -2)) \\\n",
    "            .withColumn(\"products\", slice(reverse(col(\"split_tags\")), 3, 100)) \\\n",
    "            .withColumn(\"products\", reverse(col(\"products\")))"
   ]
  },
  {
   "cell_type": "code",
   "execution_count": 5,
   "metadata": {},
   "outputs": [],
   "source": [
    "# remove the special characters of \"revenue_level\" and \"take_rate\"\n",
    "preprocessed_tbl_merchant = preprocessed_tbl_merchant.withColumn(\"revenue_level\", regexp_replace(\"revenue_level\", \"[^a-e]\", \"\")) \\\n",
    "                                                     .withColumn(\"take_rate\", regexp_replace(\"take_rate\", \"[^0-9.]\", \"\"))"
   ]
  },
  {
   "cell_type": "code",
   "execution_count": 6,
   "metadata": {},
   "outputs": [],
   "source": [
    "# standardize the values in \"products\" and vectorize \"products\" into the bags of word\n",
    "preprocessed_tbl_merchant = preprocessed_tbl_merchant.withColumn(\"products\", concat_ws(\",\", col(\"products\"))) \\\n",
    "                                                     .withColumn(\"products\", regexp_replace(\"products\", \"[^A-Za-z0-9]\", \" \")) \\\n",
    "                                                     .withColumn(\"products\", regexp_replace(\"products\", \"\\s+\", \" \")) \\\n",
    "                                                     .withColumn(\"products\", regexp_replace(\"products\", \"(^\\s+)|(\\s+$)\", \"\")) \\\n",
    "                                                     .withColumn(\"products\", lower(col(\"products\"))) \\\n",
    "                                                    #  .withColumn(\"products\", split(col(\"products\"), \" \"))"
   ]
  },
  {
   "cell_type": "code",
   "execution_count": 7,
   "metadata": {},
   "outputs": [],
   "source": [
    "preprocessed_tbl_merchant = preprocessed_tbl_merchant.withColumnRenamed(\"name\", \"merchant_name\")\n",
    "preprocessed_tbl_merchant = preprocessed_tbl_merchant.select(\"merchant_name\", \"products\", \"revenue_level\",\n",
    "                                                             preprocessed_tbl_merchant.take_rate.cast(\"double\"), \"merchant_abn\")"
   ]
  },
  {
   "cell_type": "code",
   "execution_count": 8,
   "metadata": {},
   "outputs": [
    {
     "name": "stdout",
     "output_type": "stream",
     "text": [
      "+--------------------+--------------------+-------------+---------+------------+\n",
      "|       merchant_name|            products|revenue_level|take_rate|merchant_abn|\n",
      "+--------------------+--------------------+-------------+---------+------------+\n",
      "|       Felis Limited|furniture home fu...|            e|     0.18| 10023283211|\n",
      "|Arcu Ac Orci Corp...|cable satellite a...|            b|     4.22| 10142254217|\n",
      "|    Nunc Sed Company|jewelry watch clo...|            b|      4.4| 10165489824|\n",
      "|Ultricies Digniss...|watch clock and j...|            b|     3.29| 10187291046|\n",
      "| Enim Condimentum PC|music shops music...|            a|     6.33| 10192359162|\n",
      "+--------------------+--------------------+-------------+---------+------------+\n",
      "only showing top 5 rows\n",
      "\n"
     ]
    }
   ],
   "source": [
    "preprocessed_tbl_merchant.show(5)"
   ]
  },
  {
   "cell_type": "code",
   "execution_count": 9,
   "metadata": {},
   "outputs": [
    {
     "name": "stderr",
     "output_type": "stream",
     "text": [
      "[Stage 11:>                                                         (0 + 1) / 1]\r"
     ]
    },
    {
     "name": "stdout",
     "output_type": "stream",
     "text": [
      "95\n"
     ]
    },
    {
     "name": "stderr",
     "output_type": "stream",
     "text": [
      "                                                                                \r"
     ]
    },
    {
     "data": {
      "text/plain": [
       "['florists',\n",
       " 'novelty',\n",
       " 'home',\n",
       " 'periodicals',\n",
       " 'software',\n",
       " 'systems',\n",
       " 'services',\n",
       " 'antique',\n",
       " 'supplies',\n",
       " 'souvenir',\n",
       " 'card',\n",
       " 'appliance',\n",
       " 'bicycle',\n",
       " 'watch',\n",
       " 'garden',\n",
       " 'sales',\n",
       " 'digital',\n",
       " 'repairs',\n",
       " 'repair',\n",
       " 'sheet',\n",
       " 'furniture',\n",
       " 'art',\n",
       " 'paper',\n",
       " 'stock',\n",
       " 'nursery',\n",
       " 'silverware',\n",
       " 'manufacturers',\n",
       " 'craft',\n",
       " 'shops',\n",
       " 'outlets',\n",
       " 'hobby',\n",
       " 'goods',\n",
       " 'gift',\n",
       " 'except',\n",
       " 'cable',\n",
       " 'peripheral',\n",
       " 'service',\n",
       " 'radio',\n",
       " 'furnishings',\n",
       " 'toy',\n",
       " 'eyeglasses',\n",
       " 'telecom',\n",
       " 'tool',\n",
       " 'galleries',\n",
       " 'flowers',\n",
       " 'computer',\n",
       " 'design',\n",
       " 'including',\n",
       " 'game',\n",
       " 'printing',\n",
       " 'beauty',\n",
       " 'programming',\n",
       " 'books',\n",
       " 'data',\n",
       " 'nurseries',\n",
       " 'opticians',\n",
       " 'instruments',\n",
       " 'integrated',\n",
       " 'processing',\n",
       " 'supply',\n",
       " 'pay',\n",
       " 'satellite',\n",
       " 'music',\n",
       " 'lawn',\n",
       " 'rent',\n",
       " 'office',\n",
       " 'and',\n",
       " 'stationery',\n",
       " 'awning',\n",
       " 'optical',\n",
       " 'shoe',\n",
       " 'new',\n",
       " 'health',\n",
       " 'clock',\n",
       " 'equipment',\n",
       " 'spas',\n",
       " 'movies',\n",
       " 'jewelry',\n",
       " 'vehicle',\n",
       " 'parts',\n",
       " 'television',\n",
       " 'dealers',\n",
       " 'musical',\n",
       " 'restoration',\n",
       " 'newspapers',\n",
       " 'pianos',\n",
       " 'other',\n",
       " 'appliances',\n",
       " 'tent',\n",
       " 'leasing',\n",
       " 'writing',\n",
       " 'al',\n",
       " 'artist',\n",
       " 'motor',\n",
       " 'computers']"
      ]
     },
     "execution_count": 9,
     "metadata": {},
     "output_type": "execute_result"
    }
   ],
   "source": [
    "tags = preprocessed_tbl_merchant.rdd.map(lambda x: x[1]).collect()\n",
    "tags_unique = \" \".join(tags).split()\n",
    "tags_unique = list(set(tags_unique))\n",
    "print(len(tags_unique)) # not too many, can check some by hand, e.g. 'except' is the only word that has negative meaning\n",
    "tags_unique"
   ]
  },
  {
   "cell_type": "code",
   "execution_count": 10,
   "metadata": {},
   "outputs": [],
   "source": [
    "tags_tok = tags\n",
    "for i in range(len(tags)):\n",
    "    tags_tok[i] = tags_tok[i].split()\n",
    "    cur = [tags_tok[i][0]]\n",
    "    for j in range(1, len(tags_tok[i])):\n",
    "        if tags_tok[i][j-1] != \"except\":\n",
    "            if tags_tok[i][j] not in [\"and\", \"except\", \"other\", \"shops\", \"services\"]:\n",
    "                cur += [tags_tok[i][j]]\n",
    "    tags_tok[i] = cur\n",
    "# tags_tok"
   ]
  },
  {
   "cell_type": "code",
   "execution_count": 11,
   "metadata": {},
   "outputs": [
    {
     "name": "stdout",
     "output_type": "stream",
     "text": [
      "25\n"
     ]
    },
    {
     "data": {
      "text/plain": [
       "[['furniture', 'home', 'furnishings', 'equipment', 'manufacturers'],\n",
       " ['cable', 'satellite', 'pay', 'television', 'radio'],\n",
       " ['jewelry', 'watch', 'clock', 'silverware'],\n",
       " ['watch', 'clock', 'jewelry', 'repair'],\n",
       " ['music', 'musical', 'instruments', 'pianos', 'sheet', 'music'],\n",
       " ['gift', 'card', 'novelty', 'souvenir'],\n",
       " ['computers', 'computer', 'peripheral', 'equipment', 'software'],\n",
       " ['computer',\n",
       "  'programming',\n",
       "  'data',\n",
       "  'processing',\n",
       "  'integrated',\n",
       "  'systems',\n",
       "  'design'],\n",
       " ['equipment', 'tool', 'furniture', 'appliance', 'rent', 'al', 'leasing'],\n",
       " ['artist', 'supply', 'craft'],\n",
       " ['florists', 'supplies', 'nursery', 'stock', 'flowers'],\n",
       " ['antique', 'sales', 'repairs', 'restoration'],\n",
       " ['motor', 'vehicle', 'supplies', 'new', 'parts'],\n",
       " ['books', 'periodicals', 'newspapers'],\n",
       " ['stationery', 'office', 'supplies', 'printing', 'writing', 'paper'],\n",
       " ['tent', 'awning'],\n",
       " ['art', 'dealers', 'galleries'],\n",
       " ['bicycle', 'sales', 'service'],\n",
       " ['digital', 'goods', 'books', 'movies', 'music'],\n",
       " ['shoe'],\n",
       " ['opticians', 'optical', 'goods', 'eyeglasses'],\n",
       " ['health', 'beauty', 'spas'],\n",
       " ['hobby', 'toy', 'game'],\n",
       " ['lawn', 'garden', 'supply', 'outlets', 'including', 'nurseries'],\n",
       " ['telecom']]"
      ]
     },
     "execution_count": 11,
     "metadata": {},
     "output_type": "execute_result"
    }
   ],
   "source": [
    "tags_tok_unique = []\n",
    "for i in tags_tok:\n",
    "    if i not in tags_tok_unique:\n",
    "        tags_tok_unique += [i]\n",
    "print(len(tags_tok_unique)) # only 25 unique ones, can categorise manually\n",
    "tags_tok_unique"
   ]
  },
  {
   "cell_type": "code",
   "execution_count": 12,
   "metadata": {},
   "outputs": [
    {
     "data": {
      "text/plain": [
       "[('home and technology', 988),\n",
       " ('outdoors', 832),\n",
       " ('books and music', 829),\n",
       " ('fashion and accessories', 761),\n",
       " ('art and gifts', 616)]"
      ]
     },
     "execution_count": 12,
     "metadata": {},
     "output_type": "execute_result"
    }
   ],
   "source": [
    "import collections\n",
    "\n",
    "categories = [\n",
    "    'home and technology', 'home and technology', 'fashion and accessories', 'fashion and accessories', 'books and music',\n",
    "    'art and gifts', 'home and technology', 'home and technology', 'home and technology', 'art and gifts',\n",
    "    'outdoors', 'art and gifts', 'outdoors', 'books and music', 'books and music',\n",
    "    'outdoors', 'art and gifts', 'outdoors', 'books and music', 'fashion and accessories',\n",
    "    'fashion and accessories', 'fashion and accessories', 'books and music', 'outdoors', 'home and technology'\n",
    "]\n",
    "\n",
    "tag_to_cat = {\" \".join(tags_tok_unique[i]): categories[i] for i in range(len(categories))}\n",
    "cat_list = [tag_to_cat[\" \".join(i)] for i in tags_tok]\n",
    "\n",
    "collections.Counter([i for i in cat_list]).most_common()"
   ]
  },
  {
   "cell_type": "code",
   "execution_count": 13,
   "metadata": {},
   "outputs": [],
   "source": [
    "from pyspark.sql.types import *\n",
    "\n",
    "@udf(ArrayType(StringType()))\n",
    "def tokenise(tag):\n",
    "    tag = tag.split()\n",
    "    cur = [tag[0]]\n",
    "    for i in range(1, len(tag)):\n",
    "        if tag[i-1] != \"except\":\n",
    "            if tag[i] not in [\"and\", \"except\", \"other\", \"shops\", \"services\"]:\n",
    "                cur += [tag[i]]\n",
    "    return cur\n",
    "\n",
    "@udf(StringType())\n",
    "def categorise(tag):\n",
    "    tag = \" \".join(tag)\n",
    "    return tag_to_cat[tag]"
   ]
  },
  {
   "cell_type": "code",
   "execution_count": 14,
   "metadata": {},
   "outputs": [
    {
     "name": "stderr",
     "output_type": "stream",
     "text": [
      "                                                                                \r"
     ]
    },
    {
     "data": {
      "text/html": [
       "<table border='1'>\n",
       "<tr><th>merchant_name</th><th>products</th><th>revenue_level</th><th>take_rate</th><th>merchant_abn</th><th>category</th></tr>\n",
       "<tr><td>Felis Limited</td><td>furniture home fu...</td><td>e</td><td>0.18</td><td>10023283211</td><td>home and technology</td></tr>\n",
       "<tr><td>Arcu Ac Orci Corp...</td><td>cable satellite a...</td><td>b</td><td>4.22</td><td>10142254217</td><td>home and technology</td></tr>\n",
       "<tr><td>Nunc Sed Company</td><td>jewelry watch clo...</td><td>b</td><td>4.4</td><td>10165489824</td><td>fashion and acces...</td></tr>\n",
       "<tr><td>Ultricies Digniss...</td><td>watch clock and j...</td><td>b</td><td>3.29</td><td>10187291046</td><td>fashion and acces...</td></tr>\n",
       "<tr><td>Enim Condimentum PC</td><td>music shops music...</td><td>a</td><td>6.33</td><td>10192359162</td><td>books and music</td></tr>\n",
       "<tr><td>Fusce Company</td><td>gift card novelty...</td><td>a</td><td>6.34</td><td>10206519221</td><td>art and gifts</td></tr>\n",
       "<tr><td>Aliquam Enim Inco...</td><td>computers compute...</td><td>b</td><td>4.32</td><td>10255988167</td><td>home and technology</td></tr>\n",
       "<tr><td>Ipsum Primis Ltd</td><td>watch clock and j...</td><td>c</td><td>2.39</td><td>10264435225</td><td>fashion and acces...</td></tr>\n",
       "<tr><td>Pede Ultrices Ind...</td><td>computer programm...</td><td>a</td><td>5.71</td><td>10279061213</td><td>home and technology</td></tr>\n",
       "<tr><td>Nunc Inc.</td><td>furniture home fu...</td><td>a</td><td>6.61</td><td>10323485998</td><td>home and technology</td></tr>\n",
       "<tr><td>Facilisis Facilis...</td><td>computers compute...</td><td>a</td><td>6.34</td><td>10342410215</td><td>home and technology</td></tr>\n",
       "<tr><td>Odio Institute</td><td>equipment tool fu...</td><td>b</td><td>3.57</td><td>10346855916</td><td>home and technology</td></tr>\n",
       "<tr><td>Rutrum Justo Ltd</td><td>music shops music...</td><td>b</td><td>3.63</td><td>10364012396</td><td>books and music</td></tr>\n",
       "<tr><td>Tellus Foundation</td><td>artist supply and...</td><td>b</td><td>3.17</td><td>10385011947</td><td>art and gifts</td></tr>\n",
       "<tr><td>Sed Et Company</td><td>florists supplies...</td><td>a</td><td>6.61</td><td>10385163239</td><td>outdoors</td></tr>\n",
       "<tr><td>Id Ltd</td><td>computers compute...</td><td>a</td><td>5.54</td><td>10385250025</td><td>home and technology</td></tr>\n",
       "<tr><td>Consequat Foundation</td><td>antique shops sal...</td><td>a</td><td>6.93</td><td>10404542215</td><td>art and gifts</td></tr>\n",
       "<tr><td>Sit Amet Nulla Corp.</td><td>motor vehicle sup...</td><td>b</td><td>4.97</td><td>10430380319</td><td>outdoors</td></tr>\n",
       "<tr><td>Massa Vestibulum ...</td><td>motor vehicle sup...</td><td>a</td><td>5.77</td><td>10441711491</td><td>outdoors</td></tr>\n",
       "<tr><td>Ut Consulting</td><td>gift card novelty...</td><td>c</td><td>2.95</td><td>10462560289</td><td>art and gifts</td></tr>\n",
       "</table>\n",
       "only showing top 20 rows\n"
      ],
      "text/plain": [
       "+--------------------+--------------------+-------------+---------+------------+--------------------+\n",
       "|       merchant_name|            products|revenue_level|take_rate|merchant_abn|            category|\n",
       "+--------------------+--------------------+-------------+---------+------------+--------------------+\n",
       "|       Felis Limited|furniture home fu...|            e|     0.18| 10023283211| home and technology|\n",
       "|Arcu Ac Orci Corp...|cable satellite a...|            b|     4.22| 10142254217| home and technology|\n",
       "|    Nunc Sed Company|jewelry watch clo...|            b|      4.4| 10165489824|fashion and acces...|\n",
       "|Ultricies Digniss...|watch clock and j...|            b|     3.29| 10187291046|fashion and acces...|\n",
       "| Enim Condimentum PC|music shops music...|            a|     6.33| 10192359162|     books and music|\n",
       "|       Fusce Company|gift card novelty...|            a|     6.34| 10206519221|       art and gifts|\n",
       "|Aliquam Enim Inco...|computers compute...|            b|     4.32| 10255988167| home and technology|\n",
       "|    Ipsum Primis Ltd|watch clock and j...|            c|     2.39| 10264435225|fashion and acces...|\n",
       "|Pede Ultrices Ind...|computer programm...|            a|     5.71| 10279061213| home and technology|\n",
       "|           Nunc Inc.|furniture home fu...|            a|     6.61| 10323485998| home and technology|\n",
       "|Facilisis Facilis...|computers compute...|            a|     6.34| 10342410215| home and technology|\n",
       "|      Odio Institute|equipment tool fu...|            b|     3.57| 10346855916| home and technology|\n",
       "|    Rutrum Justo Ltd|music shops music...|            b|     3.63| 10364012396|     books and music|\n",
       "|   Tellus Foundation|artist supply and...|            b|     3.17| 10385011947|       art and gifts|\n",
       "|      Sed Et Company|florists supplies...|            a|     6.61| 10385163239|            outdoors|\n",
       "|              Id Ltd|computers compute...|            a|     5.54| 10385250025| home and technology|\n",
       "|Consequat Foundation|antique shops sal...|            a|     6.93| 10404542215|       art and gifts|\n",
       "|Sit Amet Nulla Corp.|motor vehicle sup...|            b|     4.97| 10430380319|            outdoors|\n",
       "|Massa Vestibulum ...|motor vehicle sup...|            a|     5.77| 10441711491|            outdoors|\n",
       "|       Ut Consulting|gift card novelty...|            c|     2.95| 10462560289|       art and gifts|\n",
       "+--------------------+--------------------+-------------+---------+------------+--------------------+\n",
       "only showing top 20 rows"
      ]
     },
     "execution_count": 14,
     "metadata": {},
     "output_type": "execute_result"
    }
   ],
   "source": [
    "preprocessed_tbl_merchant_token = preprocessed_tbl_merchant.withColumn(\"tag\", tokenise(col(\"products\")))\n",
    "preprocessed_tbl_merchant_cat = preprocessed_tbl_merchant_token.withColumn(\"category\", categorise(col(\"tag\")))\n",
    "preprocessed_tbl_merchant_cat = preprocessed_tbl_merchant_cat.drop(\"tag\")\n",
    "preprocessed_tbl_merchant_cat"
   ]
  },
  {
   "cell_type": "markdown",
   "metadata": {},
   "source": [
    "<h3>1.2 \"transactions_20210228_20210827_snapshot\"</h3>"
   ]
  },
  {
   "cell_type": "code",
   "execution_count": 15,
   "metadata": {},
   "outputs": [
    {
     "name": "stdout",
     "output_type": "stream",
     "text": [
      "+-------+------------+------------------+--------------------+--------------+\n",
      "|user_id|merchant_abn|      dollar_value|            order_id|order_datetime|\n",
      "+-------+------------+------------------+--------------------+--------------+\n",
      "|  18478| 62191208634|63.255848959735246|949a63c8-29f7-4ab...|    2021-08-20|\n",
      "|      2| 15549624934| 130.3505283105634|6a84c3cf-612a-457...|    2021-08-20|\n",
      "|  18479| 64403598239|120.15860593212783|b10dcc33-e53f-425...|    2021-08-20|\n",
      "|      3| 60956456424| 136.6785200286976|0f09c5a5-784e-447...|    2021-08-20|\n",
      "|  18479| 94493496784| 72.96316578355305|f6c78c1a-4600-4c5...|    2021-08-20|\n",
      "+-------+------------+------------------+--------------------+--------------+\n",
      "only showing top 5 rows\n",
      "\n"
     ]
    }
   ],
   "source": [
    "transact.show(5)"
   ]
  },
  {
   "cell_type": "code",
   "execution_count": 16,
   "metadata": {},
   "outputs": [],
   "source": [
    "# separate pickup datetime into date, year, month and day\n",
    "preprocessed_transact = transact.withColumn('order_year', year(col('order_datetime')))\n",
    "preprocessed_transact = preprocessed_transact.withColumn('order_month', month(col('order_datetime')))\n",
    "preprocessed_transact = preprocessed_transact.withColumn('order_day', dayofmonth(col('order_datetime')))\n",
    "preprocessed_transact = preprocessed_transact.withColumnRenamed('merchant_abn', 'merchant_abn_repeat')"
   ]
  },
  {
   "cell_type": "code",
   "execution_count": 17,
   "metadata": {},
   "outputs": [
    {
     "name": "stdout",
     "output_type": "stream",
     "text": [
      "+-------+-------------------+------------------+--------------------+--------------+----------+-----------+---------+\n",
      "|user_id|merchant_abn_repeat|      dollar_value|            order_id|order_datetime|order_year|order_month|order_day|\n",
      "+-------+-------------------+------------------+--------------------+--------------+----------+-----------+---------+\n",
      "|  18478|        62191208634|63.255848959735246|949a63c8-29f7-4ab...|    2021-08-20|      2021|          8|       20|\n",
      "|      2|        15549624934| 130.3505283105634|6a84c3cf-612a-457...|    2021-08-20|      2021|          8|       20|\n",
      "|  18479|        64403598239|120.15860593212783|b10dcc33-e53f-425...|    2021-08-20|      2021|          8|       20|\n",
      "|      3|        60956456424| 136.6785200286976|0f09c5a5-784e-447...|    2021-08-20|      2021|          8|       20|\n",
      "|  18479|        94493496784| 72.96316578355305|f6c78c1a-4600-4c5...|    2021-08-20|      2021|          8|       20|\n",
      "+-------+-------------------+------------------+--------------------+--------------+----------+-----------+---------+\n",
      "only showing top 5 rows\n",
      "\n"
     ]
    }
   ],
   "source": [
    "preprocessed_transact.show(5)"
   ]
  },
  {
   "cell_type": "markdown",
   "metadata": {},
   "source": [
    "<h3>1.3 \"tbl_consumer.csv\"</h3>"
   ]
  },
  {
   "cell_type": "code",
   "execution_count": 18,
   "metadata": {},
   "outputs": [
    {
     "name": "stdout",
     "output_type": "stream",
     "text": [
      "+-----------------+--------------------+-----+--------+------+-----------+\n",
      "|             name|             address|state|postcode|gender|consumer_id|\n",
      "+-----------------+--------------------+-----+--------+------+-----------+\n",
      "| Yolanda Williams|413 Haney Gardens...|   WA|    6935|Female|    1195503|\n",
      "|       Mary Smith|     3764 Amber Oval|  NSW|    2782|Female|     179208|\n",
      "|    Jill Jones MD|  40693 Henry Greens|   NT|     862|Female|    1194530|\n",
      "|  Lindsay Jimenez|00653 Davenport C...|  NSW|    2780|Female|     154128|\n",
      "|Rebecca Blanchard|9271 Michael Mano...|   WA|    6355|Female|     712975|\n",
      "+-----------------+--------------------+-----+--------+------+-----------+\n",
      "only showing top 5 rows\n",
      "\n"
     ]
    }
   ],
   "source": [
    "tbl_consumer.show(5)"
   ]
  },
  {
   "cell_type": "code",
   "execution_count": 19,
   "metadata": {},
   "outputs": [],
   "source": [
    "preprocessed_tbl_consumer = tbl_consumer.withColumnRenamed(\"name\", \"consumer\")\n",
    "preprocessed_tbl_consumer = preprocessed_tbl_consumer.withColumnRenamed(\"address\", \"consumer_address\")\n",
    "preprocessed_tbl_consumer = preprocessed_tbl_consumer.withColumnRenamed(\"state\", \"consumer_state\")\n",
    "preprocessed_tbl_consumer = preprocessed_tbl_consumer.withColumnRenamed(\"postcode\", \"consumer_postcode\")\n",
    "preprocessed_tbl_consumer = preprocessed_tbl_consumer.withColumnRenamed(\"gender\", \"consumer_gender\")"
   ]
  },
  {
   "cell_type": "code",
   "execution_count": 20,
   "metadata": {},
   "outputs": [
    {
     "name": "stdout",
     "output_type": "stream",
     "text": [
      "+-----------------+--------------------+--------------+-----------------+---------------+-----------+\n",
      "|         consumer|    consumer_address|consumer_state|consumer_postcode|consumer_gender|consumer_id|\n",
      "+-----------------+--------------------+--------------+-----------------+---------------+-----------+\n",
      "| Yolanda Williams|413 Haney Gardens...|            WA|             6935|         Female|    1195503|\n",
      "|       Mary Smith|     3764 Amber Oval|           NSW|             2782|         Female|     179208|\n",
      "|    Jill Jones MD|  40693 Henry Greens|            NT|              862|         Female|    1194530|\n",
      "|  Lindsay Jimenez|00653 Davenport C...|           NSW|             2780|         Female|     154128|\n",
      "|Rebecca Blanchard|9271 Michael Mano...|            WA|             6355|         Female|     712975|\n",
      "+-----------------+--------------------+--------------+-----------------+---------------+-----------+\n",
      "only showing top 5 rows\n",
      "\n"
     ]
    }
   ],
   "source": [
    "preprocessed_tbl_consumer.show(5)"
   ]
  },
  {
   "cell_type": "markdown",
   "metadata": {},
   "source": [
    "<h3>1.4 \"consumer.parquet\"</h3>"
   ]
  },
  {
   "cell_type": "code",
   "execution_count": 21,
   "metadata": {},
   "outputs": [
    {
     "name": "stdout",
     "output_type": "stream",
     "text": [
      "+-------+-----------+\n",
      "|user_id|consumer_id|\n",
      "+-------+-----------+\n",
      "|      1|    1195503|\n",
      "|      2|     179208|\n",
      "|      3|    1194530|\n",
      "|      4|     154128|\n",
      "|      5|     712975|\n",
      "+-------+-----------+\n",
      "only showing top 5 rows\n",
      "\n"
     ]
    }
   ],
   "source": [
    "consumer.show(5)"
   ]
  },
  {
   "cell_type": "code",
   "execution_count": 22,
   "metadata": {},
   "outputs": [],
   "source": [
    "preprocessed_consumer = consumer.withColumnRenamed(\"user_id\", \"user_id_repeat\")\n",
    "preprocessed_consumer = preprocessed_consumer.withColumnRenamed(\"consumer_id\", \"consumer_id_repeat\")"
   ]
  },
  {
   "cell_type": "code",
   "execution_count": 23,
   "metadata": {},
   "outputs": [
    {
     "name": "stdout",
     "output_type": "stream",
     "text": [
      "+--------------+------------------+\n",
      "|user_id_repeat|consumer_id_repeat|\n",
      "+--------------+------------------+\n",
      "|             1|           1195503|\n",
      "|             2|            179208|\n",
      "|             3|           1194530|\n",
      "|             4|            154128|\n",
      "|             5|            712975|\n",
      "+--------------+------------------+\n",
      "only showing top 5 rows\n",
      "\n"
     ]
    }
   ],
   "source": [
    "preprocessed_consumer.show(5)"
   ]
  },
  {
   "cell_type": "markdown",
   "metadata": {},
   "source": [
    "<h2>2. Join tables</h2>"
   ]
  },
  {
   "cell_type": "code",
   "execution_count": 24,
   "metadata": {},
   "outputs": [
    {
     "name": "stderr",
     "output_type": "stream",
     "text": [
      "[Stage 26:=============================================>          (21 + 5) / 26]\r"
     ]
    },
    {
     "name": "stdout",
     "output_type": "stream",
     "text": [
      "Mismatched (null) transactions dropped: 580830\n"
     ]
    },
    {
     "name": "stderr",
     "output_type": "stream",
     "text": [
      "                                                                                \r"
     ]
    }
   ],
   "source": [
    "preprocessed_tbl_merchant_cat.createOrReplaceTempView('merchant')\n",
    "preprocessed_transact.createOrReplaceTempView('transact')\n",
    "preprocessed_tbl_consumer.createOrReplaceTempView('tbl_consumer')\n",
    "preprocessed_consumer.createOrReplaceTempView('consumer')\n",
    "\n",
    "join = spark.sql(\"\"\"\n",
    "SELECT \n",
    "    *\n",
    "FROM \n",
    "    merchant\n",
    "INNER JOIN\n",
    "    transact\n",
    "ON \n",
    "    transact.merchant_abn_repeat = merchant.merchant_abn\n",
    "INNER JOIN\n",
    "    consumer\n",
    "ON\n",
    "    transact.user_id = consumer.user_id_repeat\n",
    "INNER JOIN\n",
    "    tbl_consumer\n",
    "ON \n",
    "    consumer.consumer_id_repeat = tbl_consumer.consumer_id\n",
    "ORDER BY\n",
    "    revenue_level DESC\n",
    "\"\"\")\n",
    "\n",
    "join = join.drop(\"merchant_abn_repeat\", \"consumer_id_repeat\", \"user_id_repeat\", \"merchant_abn\", \"consumer_id\", \"order_id\")\n",
    "print(f\"Mismatched (null) transactions dropped: {preprocessed_transact.count() - join.count()}\")"
   ]
  },
  {
   "cell_type": "code",
   "execution_count": 25,
   "metadata": {},
   "outputs": [
    {
     "name": "stderr",
     "output_type": "stream",
     "text": [
      "                                                                                \r"
     ]
    },
    {
     "data": {
      "text/html": [
       "<table border='1'>\n",
       "<tr><th>merchant_name</th><th>products</th><th>revenue_level</th><th>take_rate</th><th>category</th><th>user_id</th><th>dollar_value</th><th>order_datetime</th><th>order_year</th><th>order_month</th><th>order_day</th><th>consumer</th><th>consumer_address</th><th>consumer_state</th><th>consumer_postcode</th><th>consumer_gender</th></tr>\n",
       "<tr><td>Pellentesque Ut I...</td><td>watch clock and j...</td><td>e</td><td>0.38</td><td>fashion and acces...</td><td>895</td><td>38.82438474565778</td><td>2022-03-12</td><td>2022</td><td>3</td><td>12</td><td>Adrian Miller</td><td>9377 Douglas Inle...</td><td>SA</td><td>5572</td><td>Male</td></tr>\n",
       "<tr><td>Nunc Est LLP</td><td>watch clock and j...</td><td>e</td><td>0.22</td><td>fashion and acces...</td><td>8838</td><td>31.377133626975795</td><td>2021-08-29</td><td>2021</td><td>8</td><td>29</td><td>Sabrina Perez</td><td>041 John Meadow S...</td><td>NSW</td><td>2739</td><td>Female</td></tr>\n",
       "<tr><td>Suscipit LLC</td><td>computer programm...</td><td>e</td><td>0.3</td><td>home and technology</td><td>895</td><td>83.2513825984199</td><td>2021-10-01</td><td>2021</td><td>10</td><td>1</td><td>Adrian Miller</td><td>9377 Douglas Inle...</td><td>SA</td><td>5572</td><td>Male</td></tr>\n",
       "<tr><td>Felis Limited</td><td>furniture home fu...</td><td>e</td><td>0.18</td><td>home and technology</td><td>3471</td><td>212.8573179553598</td><td>2021-05-02</td><td>2021</td><td>5</td><td>2</td><td>Todd Long</td><td>883 Patty Mountai...</td><td>NSW</td><td>2021</td><td>Male</td></tr>\n",
       "<tr><td>Et Nunc Consulting</td><td>books periodicals...</td><td>e</td><td>0.16</td><td>books and music</td><td>12051</td><td>34.10819427488384</td><td>2021-07-30</td><td>2021</td><td>7</td><td>30</td><td>Aaron Harvey</td><td>35273 Powell Over...</td><td>TAS</td><td>7171</td><td>Male</td></tr>\n",
       "<tr><td>Nullam Enim Sed I...</td><td>tent and awning s...</td><td>e</td><td>0.27</td><td>outdoors</td><td>3471</td><td>24.224444988836556</td><td>2021-07-29</td><td>2021</td><td>7</td><td>29</td><td>Todd Long</td><td>883 Patty Mountai...</td><td>NSW</td><td>2021</td><td>Male</td></tr>\n",
       "<tr><td>Et Nunc Consulting</td><td>books periodicals...</td><td>e</td><td>0.16</td><td>books and music</td><td>12051</td><td>298.87055406882854</td><td>2021-05-05</td><td>2021</td><td>5</td><td>5</td><td>Aaron Harvey</td><td>35273 Powell Over...</td><td>TAS</td><td>7171</td><td>Male</td></tr>\n",
       "<tr><td>Nunc Est LLP</td><td>watch clock and j...</td><td>e</td><td>0.22</td><td>fashion and acces...</td><td>3471</td><td>110.82143827510362</td><td>2022-06-22</td><td>2022</td><td>6</td><td>22</td><td>Todd Long</td><td>883 Patty Mountai...</td><td>NSW</td><td>2021</td><td>Male</td></tr>\n",
       "<tr><td>Nunc Est LLP</td><td>watch clock and j...</td><td>e</td><td>0.22</td><td>fashion and acces...</td><td>12051</td><td>94.47243574996732</td><td>2021-07-12</td><td>2021</td><td>7</td><td>12</td><td>Aaron Harvey</td><td>35273 Powell Over...</td><td>TAS</td><td>7171</td><td>Male</td></tr>\n",
       "<tr><td>Et Nunc Consulting</td><td>books periodicals...</td><td>e</td><td>0.16</td><td>books and music</td><td>3471</td><td>155.4258076824775</td><td>2021-10-20</td><td>2021</td><td>10</td><td>20</td><td>Todd Long</td><td>883 Patty Mountai...</td><td>NSW</td><td>2021</td><td>Male</td></tr>\n",
       "<tr><td>Metus Sit Amet In...</td><td>cable satellite a...</td><td>e</td><td>0.38</td><td>home and technology</td><td>12051</td><td>76.44204160774505</td><td>2022-09-19</td><td>2022</td><td>9</td><td>19</td><td>Aaron Harvey</td><td>35273 Powell Over...</td><td>TAS</td><td>7171</td><td>Male</td></tr>\n",
       "<tr><td>Felis Limited</td><td>furniture home fu...</td><td>e</td><td>0.18</td><td>home and technology</td><td>667</td><td>102.62436872103531</td><td>2022-08-10</td><td>2022</td><td>8</td><td>10</td><td>Christopher Walsh</td><td>223 Heather Fort</td><td>QLD</td><td>4705</td><td>Male</td></tr>\n",
       "<tr><td>Et Nunc Consulting</td><td>books periodicals...</td><td>e</td><td>0.16</td><td>books and music</td><td>12051</td><td>118.03396587357037</td><td>2022-06-29</td><td>2022</td><td>6</td><td>29</td><td>Aaron Harvey</td><td>35273 Powell Over...</td><td>TAS</td><td>7171</td><td>Male</td></tr>\n",
       "<tr><td>Eget Metus Eu Ins...</td><td>shoe shops</td><td>e</td><td>0.42</td><td>fashion and acces...</td><td>895</td><td>162.5112151486911</td><td>2022-10-16</td><td>2022</td><td>10</td><td>16</td><td>Adrian Miller</td><td>9377 Douglas Inle...</td><td>SA</td><td>5572</td><td>Male</td></tr>\n",
       "<tr><td>Dis Parturient Co...</td><td>gift card novelty...</td><td>e</td><td>0.24</td><td>art and gifts</td><td>12051</td><td>112.74041721557072</td><td>2022-07-04</td><td>2022</td><td>7</td><td>4</td><td>Aaron Harvey</td><td>35273 Powell Over...</td><td>TAS</td><td>7171</td><td>Male</td></tr>\n",
       "<tr><td>Et Nunc Consulting</td><td>books periodicals...</td><td>e</td><td>0.16</td><td>books and music</td><td>895</td><td>443.0150452256141</td><td>2022-07-21</td><td>2022</td><td>7</td><td>21</td><td>Adrian Miller</td><td>9377 Douglas Inle...</td><td>SA</td><td>5572</td><td>Male</td></tr>\n",
       "<tr><td>Metus Sit Amet In...</td><td>cable satellite a...</td><td>e</td><td>0.38</td><td>home and technology</td><td>12051</td><td>128.4557898850293</td><td>2021-12-08</td><td>2021</td><td>12</td><td>8</td><td>Aaron Harvey</td><td>35273 Powell Over...</td><td>TAS</td><td>7171</td><td>Male</td></tr>\n",
       "<tr><td>Eros Industries</td><td>computer programm...</td><td>e</td><td>0.41</td><td>home and technology</td><td>12051</td><td>47.12836182338188</td><td>2021-08-28</td><td>2021</td><td>8</td><td>28</td><td>Aaron Harvey</td><td>35273 Powell Over...</td><td>TAS</td><td>7171</td><td>Male</td></tr>\n",
       "<tr><td>Nunc Est LLP</td><td>watch clock and j...</td><td>e</td><td>0.22</td><td>fashion and acces...</td><td>12051</td><td>100.33882946267089</td><td>2021-10-05</td><td>2021</td><td>10</td><td>5</td><td>Aaron Harvey</td><td>35273 Powell Over...</td><td>TAS</td><td>7171</td><td>Male</td></tr>\n",
       "<tr><td>Et Nunc Consulting</td><td>books periodicals...</td><td>e</td><td>0.16</td><td>books and music</td><td>3471</td><td>439.9426271986114</td><td>2022-08-27</td><td>2022</td><td>8</td><td>27</td><td>Todd Long</td><td>883 Patty Mountai...</td><td>NSW</td><td>2021</td><td>Male</td></tr>\n",
       "</table>\n",
       "only showing top 20 rows\n"
      ],
      "text/plain": [
       "+--------------------+--------------------+-------------+---------+--------------------+-------+------------------+--------------+----------+-----------+---------+--------------------+--------------------+--------------+-----------------+---------------+\n",
       "|       merchant_name|            products|revenue_level|take_rate|            category|user_id|      dollar_value|order_datetime|order_year|order_month|order_day|            consumer|    consumer_address|consumer_state|consumer_postcode|consumer_gender|\n",
       "+--------------------+--------------------+-------------+---------+--------------------+-------+------------------+--------------+----------+-----------+---------+--------------------+--------------------+--------------+-----------------+---------------+\n",
       "|Nullam Vitae Diam PC|opticians optical...|            e|     0.22|fashion and acces...|  23679| 72.77954022414646|    2021-09-13|      2021|          9|       13|     Roberto Robbins|3146 Eric Turnpik...|           NSW|             2396|           Male|\n",
       "|        Nunc Est LLP|watch clock and j...|            e|     0.22|fashion and acces...|   2199|41.535731595446364|    2021-10-08|      2021|         10|        8|       Kelly Krueger|     039 Green Route|            WA|             6935|    Undisclosed|\n",
       "|Augue Eu Tempor A...|cable satellite a...|            e|     0.38| home and technology|   6305| 36.24855550060353|    2022-10-06|      2022|         10|        6|     Allison Stevens| 60866 Miller Avenue|           NSW|             1193|         Female|\n",
       "|  Et Nunc Consulting|books periodicals...|            e|     0.16|     books and music|   3698| 263.7003863435179|    2022-03-27|      2022|          3|       27|Christopher Rodri...|30554 Evans Strea...|           NSW|             2299|           Male|\n",
       "|  Et Nunc Consulting|books periodicals...|            e|     0.16|     books and music|   6305|147.74061765538696|    2021-12-09|      2021|         12|        9|     Allison Stevens| 60866 Miller Avenue|           NSW|             1193|         Female|\n",
       "| Magna Sed Institute|cable satellite a...|            e|     0.31| home and technology|    832| 9.737964095722326|    2021-05-10|      2021|          5|       10|       Brian Barnett| 989 Robinson Street|           NSW|             2323|           Male|\n",
       "|Dis Parturient Co...|gift card novelty...|            e|     0.24|       art and gifts|   6305|140.36239513919142|    2021-11-08|      2021|         11|        8|     Allison Stevens| 60866 Miller Avenue|           NSW|             1193|         Female|\n",
       "|        Nunc Est LLP|watch clock and j...|            e|     0.22|fashion and acces...|  23679|186.91415986083496|    2021-05-27|      2021|          5|       27|     Roberto Robbins|3146 Eric Turnpik...|           NSW|             2396|           Male|\n",
       "|Augue Eu Tempor A...|cable satellite a...|            e|     0.38| home and technology|  12874| 75.15265855364774|    2022-07-03|      2022|          7|        3|      Victoria Colon|   8327 Thomas Fords|           NSW|             2582|         Female|\n",
       "|Metus Sit Amet In...|cable satellite a...|            e|     0.38| home and technology|  23679| 20.49850981713674|    2021-07-04|      2021|          7|        4|     Roberto Robbins|3146 Eric Turnpik...|           NSW|             2396|           Male|\n",
       "|        Nunc Est LLP|watch clock and j...|            e|     0.22|fashion and acces...|  12874| 146.9799947124095|    2022-04-13|      2022|          4|       13|      Victoria Colon|   8327 Thomas Fords|           NSW|             2582|         Female|\n",
       "|Metus Sit Amet In...|cable satellite a...|            e|     0.38| home and technology|  23679| 57.27484630595788|    2022-08-20|      2022|          8|       20|     Roberto Robbins|3146 Eric Turnpik...|           NSW|             2396|           Male|\n",
       "|  Et Nunc Consulting|books periodicals...|            e|     0.16|     books and music|  12874|20.038547486976878|    2021-10-27|      2021|         10|       27|      Victoria Colon|   8327 Thomas Fords|           NSW|             2582|         Female|\n",
       "|Hendrerit Donec L...|digital goods boo...|            e|     0.18|     books and music|  13482|13.015338313506934|    2022-10-16|      2022|         10|       16|      Edward Roberts|650 Park Neck Sui...|            WA|             6151|           Male|\n",
       "|       Felis Limited|furniture home fu...|            e|     0.18| home and technology|   2199| 319.4986425058244|    2021-12-28|      2021|         12|       28|       Kelly Krueger|     039 Green Route|            WA|             6935|    Undisclosed|\n",
       "|  Et Nunc Consulting|books periodicals...|            e|     0.16|     books and music|  13482|109.92743719172442|    2021-12-29|      2021|         12|       29|      Edward Roberts|650 Park Neck Sui...|            WA|             6151|           Male|\n",
       "|Feugiat Nec Diam LLC|computers compute...|            e|      0.3| home and technology|   3698|1.2741967656358493|    2021-09-01|      2021|          9|        1|Christopher Rodri...|30554 Evans Strea...|           NSW|             2299|           Male|\n",
       "|     Ante Industries|motor vehicle sup...|            e|     0.35|            outdoors|   2199| 86.65631054124275|    2022-09-21|      2022|          9|       21|       Kelly Krueger|     039 Green Route|            WA|             6935|    Undisclosed|\n",
       "|       Felis Limited|furniture home fu...|            e|     0.18| home and technology|  23679| 74.68707218671928|    2021-08-11|      2021|          8|       11|     Roberto Robbins|3146 Eric Turnpik...|           NSW|             2396|           Male|\n",
       "|Metus Sit Amet In...|cable satellite a...|            e|     0.38| home and technology|   2199| 36.97174094574666|    2022-05-27|      2022|          5|       27|       Kelly Krueger|     039 Green Route|            WA|             6935|    Undisclosed|\n",
       "+--------------------+--------------------+-------------+---------+--------------------+-------+------------------+--------------+----------+-----------+---------+--------------------+--------------------+--------------+-----------------+---------------+\n",
       "only showing top 20 rows"
      ]
     },
     "execution_count": 25,
     "metadata": {},
     "output_type": "execute_result"
    }
   ],
   "source": [
    "join"
   ]
  },
  {
   "cell_type": "code",
   "execution_count": 26,
   "metadata": {},
   "outputs": [
    {
     "name": "stderr",
     "output_type": "stream",
     "text": [
      "                                                                                \r"
     ]
    },
    {
     "data": {
      "text/plain": [
       "<AxesSubplot:xlabel='dollar_value', ylabel='revenue_level'>"
      ]
     },
     "execution_count": 26,
     "metadata": {},
     "output_type": "execute_result"
    },
    {
     "data": {
      "image/png": "[encoded data removed]",
      "text/plain": [
       "<Figure size 432x288 with 1 Axes>"
      ]
     },
     "metadata": {
      "needs_background": "light"
     },
     "output_type": "display_data"
    }
   ],
   "source": [
    "import seaborn as sns\n",
    "sns.violinplot(data=join.sample(False, 0.1).toPandas(), x=\"dollar_value\", y=\"revenue_level\")"
   ]
  },
  {
   "cell_type": "code",
   "execution_count": 27,
   "metadata": {},
   "outputs": [
    {
     "name": "stderr",
     "output_type": "stream",
     "text": [
      "                                                                                \r"
     ]
    },
    {
     "data": {
      "text/plain": [
       "<AxesSubplot:xlabel='dollar_value', ylabel='revenue_level'>"
      ]
     },
     "execution_count": 27,
     "metadata": {},
     "output_type": "execute_result"
    },
    {
     "data": {
      "image/png": "[encoded data removed]",
      "text/plain": [
       "<Figure size 432x288 with 1 Axes>"
      ]
     },
     "metadata": {
      "needs_background": "light"
     },
     "output_type": "display_data"
    }
   ],
   "source": [
    "sns.boxplot(data=join.sample(False, 0.1).toPandas(), x=\"dollar_value\", y=\"revenue_level\")"
   ]
  },
  {
   "cell_type": "markdown",
   "metadata": {},
   "source": [
    "<h4>3.1.1 Remove outliers based on standard deviation</h4>"
   ]
  },
  {
   "cell_type": "code",
   "execution_count": 28,
   "metadata": {},
   "outputs": [
    {
     "name": "stderr",
     "output_type": "stream",
     "text": [
      "                                                                                \r"
     ]
    },
    {
     "data": {
      "text/html": [
       "<table border='1'>\n",
       "<tr><th>revenue_level</th><th>dollar_value_std</th><th>dollar_value_mean</th></tr>\n",
       "<tr><td>e</td><td>399.0613152439408</td><td>205.8121276388132</td></tr>\n",
       "<tr><td>d</td><td>681.0178374382781</td><td>272.26155837560833</td></tr>\n",
       "<tr><td>c</td><td>434.4194205501614</td><td>136.49983808642475</td></tr>\n",
       "<tr><td>b</td><td>594.2473799043438</td><td>197.1016706119255</td></tr>\n",
       "<tr><td>a</td><td>360.36435354274346</td><td>142.08113719400276</td></tr>\n",
       "</table>\n"
      ],
      "text/plain": [
       "+-------------+------------------+------------------+\n",
       "|revenue_level|  dollar_value_std| dollar_value_mean|\n",
       "+-------------+------------------+------------------+\n",
       "|            e| 399.0613152439408| 205.8121276388132|\n",
       "|            d| 681.0178374382781|272.26155837560833|\n",
       "|            c| 434.4194205501614|136.49983808642475|\n",
       "|            b| 594.2473799043438| 197.1016706119255|\n",
       "|            a|360.36435354274346|142.08113719400276|\n",
       "+-------------+------------------+------------------+"
      ]
     },
     "execution_count": 28,
     "metadata": {},
     "output_type": "execute_result"
    }
   ],
   "source": [
    "rev_std = (join.groupBy(\"revenue_level\").agg(stddev_pop(\"dollar_value\").alias(\"dollar_value_std\"),\n",
    "                                             avg(\"dollar_value\").alias(\"dollar_value_mean\")))\n",
    "rev_std"
   ]
  },
  {
   "cell_type": "code",
   "execution_count": 29,
   "metadata": {},
   "outputs": [
    {
     "name": "stderr",
     "output_type": "stream",
     "text": [
      "[Stage 106:==========================================>              (3 + 1) / 4]\r"
     ]
    },
    {
     "name": "stdout",
     "output_type": "stream",
     "text": [
      "Outliers based on revenue band removed: 136394\n"
     ]
    },
    {
     "name": "stderr",
     "output_type": "stream",
     "text": [
      "                                                                                \r"
     ]
    }
   ],
   "source": [
    "total = join.count()\n",
    "rev_sdf = (join.join(rev_std, \"revenue_level\", \"left\")\n",
    "               .filter(abs(col(\"dollar_value\") - col(\"dollar_value_mean\")) <= 3 * col(\"dollar_value_std\"))\n",
    "               .drop(\"dollar_value_mean\")\n",
    "               .drop(\"dollar_value_std\"))\n",
    "print(f\"Outliers based on revenue band removed: {total - rev_sdf.count()}\")"
   ]
  },
  {
   "cell_type": "markdown",
   "metadata": {},
   "source": [
    "<h4>3.1.2 Check distribution</h4>"
   ]
  },
  {
   "cell_type": "code",
   "execution_count": 30,
   "metadata": {},
   "outputs": [
    {
     "name": "stderr",
     "output_type": "stream",
     "text": [
      "                                                                                \r"
     ]
    },
    {
     "data": {
      "text/plain": [
       "<AxesSubplot:xlabel='dollar_value', ylabel='revenue_level'>"
      ]
     },
     "execution_count": 30,
     "metadata": {},
     "output_type": "execute_result"
    },
    {
     "data": {
      "image/png": "[encoded data removed]",
      "text/plain": [
       "<Figure size 432x288 with 1 Axes>"
      ]
     },
     "metadata": {
      "needs_background": "light"
     },
     "output_type": "display_data"
    }
   ],
   "source": [
    "sns.violinplot(data=rev_sdf.sample(False, 0.1).toPandas(), x=\"dollar_value\", y=\"revenue_level\")"
   ]
  },
  {
   "cell_type": "code",
   "execution_count": 31,
   "metadata": {},
   "outputs": [
    {
     "name": "stderr",
     "output_type": "stream",
     "text": [
      "[Stage 141:=========>      (9 + 7) / 16][Stage 143:====>            (1 + 1) / 4]\r"
     ]
    },
    {
     "name": "stdout",
     "output_type": "stream",
     "text": [
      "22/10/03 19:24:04 WARN RowBasedKeyValueBatch: Calling spill() on RowBasedKeyValueBatch. Will not spill but return 0.\n"
     ]
    },
    {
     "name": "stderr",
     "output_type": "stream",
     "text": [
      "                                                                                \r"
     ]
    },
    {
     "data": {
      "text/plain": [
       "<AxesSubplot:xlabel='dollar_value', ylabel='revenue_level'>"
      ]
     },
     "execution_count": 31,
     "metadata": {},
     "output_type": "execute_result"
    },
    {
     "data": {
      "image/png": "[encoded data removed]",
      "text/plain": [
       "<Figure size 432x288 with 1 Axes>"
      ]
     },
     "metadata": {
      "needs_background": "light"
     },
     "output_type": "display_data"
    }
   ],
   "source": [
    "sns.boxplot(data=rev_sdf.sample(False, 0.1).toPandas(), x=\"dollar_value\", y=\"revenue_level\")"
   ]
  },
  {
   "cell_type": "markdown",
   "metadata": {},
   "source": [
    "<h3>3.2 Get distribution of each merchant</h3>"
   ]
  },
  {
   "cell_type": "code",
   "execution_count": 32,
   "metadata": {},
   "outputs": [
    {
     "name": "stderr",
     "output_type": "stream",
     "text": [
      "[Stage 162:==============>                                          (1 + 3) / 4]\r"
     ]
    },
    {
     "name": "stdout",
     "output_type": "stream",
     "text": [
      "22/10/03 19:24:32 WARN RowBasedKeyValueBatch: Calling spill() on RowBasedKeyValueBatch. Will not spill but return 0.\n"
     ]
    },
    {
     "name": "stderr",
     "output_type": "stream",
     "text": [
      "[Stage 180:==============>                                          (1 + 3) / 4]\r"
     ]
    },
    {
     "name": "stdout",
     "output_type": "stream",
     "text": [
      "22/10/03 19:24:42 WARN RowBasedKeyValueBatch: Calling spill() on RowBasedKeyValueBatch. Will not spill but return 0.\n"
     ]
    },
    {
     "name": "stderr",
     "output_type": "stream",
     "text": [
      "                                                                                \r"
     ]
    },
    {
     "data": {
      "text/html": [
       "<table border='1'>\n",
       "<tr><th>merchant_name</th><th>dollar_value_std</th><th>dollar_value_mean</th></tr>\n",
       "<tr><td>Donec Luctus Indu...</td><td>130.5565015716507</td><td>343.7164090501804</td></tr>\n",
       "<tr><td>Elit Company</td><td>122.96176805496256</td><td>171.59405507134576</td></tr>\n",
       "<tr><td>Aliquet Odio Ltd</td><td>525.5999084080495</td><td>989.9594869027516</td></tr>\n",
       "<tr><td>Et Pede Inc.</td><td>354.5044546463389</td><td>718.4388984070839</td></tr>\n",
       "<tr><td>Commodo Auctor Ve...</td><td>51.08175002355147</td><td>54.94036664642259</td></tr>\n",
       "<tr><td>Hendrerit Consect...</td><td>323.0055122458617</td><td>328.12859457680736</td></tr>\n",
       "<tr><td>Libero Nec Ligula...</td><td>287.0373760898241</td><td>708.8891167985263</td></tr>\n",
       "<tr><td>Montes Nascetur Ltd</td><td>190.52722125221516</td><td>351.7849409696694</td></tr>\n",
       "<tr><td>Ut Nisi Limited</td><td>552.0367734312347</td><td>648.2357732269966</td></tr>\n",
       "<tr><td>Enim Etiam Institute</td><td>349.0376849678728</td><td>734.5491579179835</td></tr>\n",
       "<tr><td>Ultricies Digniss...</td><td>316.8424844599642</td><td>499.67957332690776</td></tr>\n",
       "<tr><td>At Arcu Vestibulu...</td><td>353.11718058943734</td><td>501.0047480984614</td></tr>\n",
       "<tr><td>Nulla Ltd</td><td>0.0</td><td>2279.6704744249646</td></tr>\n",
       "<tr><td>Ut Semper Corpora...</td><td>558.0868238500974</td><td>1401.829055702925</td></tr>\n",
       "<tr><td>Magna Sed Institute</td><td>55.1556266099182</td><td>79.0305598400721</td></tr>\n",
       "<tr><td>Consequat Corp.</td><td>184.4924209547007</td><td>334.0148073124429</td></tr>\n",
       "<tr><td>Ipsum Curabitur LLP</td><td>161.5262113202108</td><td>251.76764818404985</td></tr>\n",
       "<tr><td>Euismod Est Assoc...</td><td>501.4263524706528</td><td>661.7620204476311</td></tr>\n",
       "<tr><td>Ac Fermentum Asso...</td><td>203.0337667359751</td><td>225.77818137201547</td></tr>\n",
       "<tr><td>Orci Ut Institute</td><td>282.5589204661241</td><td>1094.0894090997315</td></tr>\n",
       "</table>\n",
       "only showing top 20 rows\n"
      ],
      "text/plain": [
       "+--------------------+------------------+------------------+\n",
       "|       merchant_name|  dollar_value_std| dollar_value_mean|\n",
       "+--------------------+------------------+------------------+\n",
       "|Donec Luctus Indu...| 130.5565015716507| 343.7164090501804|\n",
       "|        Elit Company|122.96176805496256|171.59405507134576|\n",
       "|    Aliquet Odio Ltd| 525.5999084080495| 989.9594869027516|\n",
       "|        Et Pede Inc.| 354.5044546463389| 718.4388984070839|\n",
       "|Commodo Auctor Ve...| 51.08175002355147| 54.94036664642259|\n",
       "|Hendrerit Consect...| 323.0055122458617|328.12859457680736|\n",
       "|Libero Nec Ligula...| 287.0373760898241| 708.8891167985263|\n",
       "| Montes Nascetur Ltd|190.52722125221516| 351.7849409696694|\n",
       "|     Ut Nisi Limited| 552.0367734312347| 648.2357732269966|\n",
       "|Enim Etiam Institute| 349.0376849678728| 734.5491579179835|\n",
       "|Ultricies Digniss...| 316.8424844599642|499.67957332690776|\n",
       "|At Arcu Vestibulu...|353.11718058943734| 501.0047480984614|\n",
       "|           Nulla Ltd|               0.0|2279.6704744249646|\n",
       "|Ut Semper Corpora...| 558.0868238500974| 1401.829055702925|\n",
       "| Magna Sed Institute|  55.1556266099182|  79.0305598400721|\n",
       "|     Consequat Corp.| 184.4924209547007| 334.0148073124429|\n",
       "| Ipsum Curabitur LLP| 161.5262113202108|251.76764818404985|\n",
       "|Euismod Est Assoc...| 501.4263524706528| 661.7620204476311|\n",
       "|Ac Fermentum Asso...| 203.0337667359751|225.77818137201547|\n",
       "|   Orci Ut Institute| 282.5589204661241|1094.0894090997315|\n",
       "+--------------------+------------------+------------------+\n",
       "only showing top 20 rows"
      ]
     },
     "execution_count": 32,
     "metadata": {},
     "output_type": "execute_result"
    }
   ],
   "source": [
    "merch_std = (rev_sdf.groupBy(\"merchant_name\").agg(stddev_pop(\"dollar_value\").alias(\"dollar_value_std\"),\n",
    "                                                  avg(\"dollar_value\").alias(\"dollar_value_mean\")))\n",
    "merch_std"
   ]
  },
  {
   "cell_type": "code",
   "execution_count": 33,
   "metadata": {},
   "outputs": [
    {
     "name": "stderr",
     "output_type": "stream",
     "text": [
      "[Stage 211:==============>                                          (1 + 3) / 4]\r"
     ]
    },
    {
     "name": "stdout",
     "output_type": "stream",
     "text": [
      "22/10/03 19:24:57 WARN RowBasedKeyValueBatch: Calling spill() on RowBasedKeyValueBatch. Will not spill but return 0.\n",
      "22/10/03 19:24:57 WARN RowBasedKeyValueBatch: Calling spill() on RowBasedKeyValueBatch. Will not spill but return 0.\n",
      "22/10/03 19:24:57 WARN RowBasedKeyValueBatch: Calling spill() on RowBasedKeyValueBatch. Will not spill but return 0.\n"
     ]
    },
    {
     "name": "stderr",
     "output_type": "stream",
     "text": [
      "[Stage 211:====>            (1 + 3) / 4][Stage 212:========>        (3 + 3) / 6]\r"
     ]
    },
    {
     "name": "stdout",
     "output_type": "stream",
     "text": [
      "22/10/03 19:24:58 WARN RowBasedKeyValueBatch: Calling spill() on RowBasedKeyValueBatch. Will not spill but return 0.\n",
      "22/10/03 19:24:58 WARN RowBasedKeyValueBatch: Calling spill() on RowBasedKeyValueBatch. Will not spill but return 0.\n",
      "22/10/03 19:24:58 WARN RowBasedKeyValueBatch: Calling spill() on RowBasedKeyValueBatch. Will not spill but return 0.\n",
      "22/10/03 19:24:58 WARN RowBasedKeyValueBatch: Calling spill() on RowBasedKeyValueBatch. Will not spill but return 0.\n"
     ]
    },
    {
     "name": "stderr",
     "output_type": "stream",
     "text": [
      "[Stage 216:====>            (1 + 3) / 4][Stage 218:====>            (1 + 3) / 4]\r"
     ]
    },
    {
     "name": "stdout",
     "output_type": "stream",
     "text": [
      "22/10/03 19:25:01 WARN RowBasedKeyValueBatch: Calling spill() on RowBasedKeyValueBatch. Will not spill but return 0.\n",
      "22/10/03 19:25:01 WARN RowBasedKeyValueBatch: Calling spill() on RowBasedKeyValueBatch. Will not spill but return 0.\n",
      "22/10/03 19:25:01 WARN RowBasedKeyValueBatch: Calling spill() on RowBasedKeyValueBatch. Will not spill but return 0.\n",
      "22/10/03 19:25:03 WARN RowBasedKeyValueBatch: Calling spill() on RowBasedKeyValueBatch. Will not spill but return 0.\n"
     ]
    },
    {
     "name": "stderr",
     "output_type": "stream",
     "text": [
      "[Stage 226:=====================>                                   (3 + 5) / 8]\r"
     ]
    },
    {
     "name": "stdout",
     "output_type": "stream",
     "text": [
      "Outliers based on merchant removed: 175078\n"
     ]
    },
    {
     "name": "stderr",
     "output_type": "stream",
     "text": [
      "                                                                                \r"
     ]
    }
   ],
   "source": [
    "total = rev_sdf.count()\n",
    "merch_sdf = (rev_sdf.join(merch_std, \"merchant_name\", \"left\")\n",
    "                   .filter(abs(col(\"dollar_value\") - col(\"dollar_value_mean\")) <= 3 * col(\"dollar_value_std\"))\n",
    "                   .drop(\"dollar_value_mean\")\n",
    "                   .drop(\"dollar_value_std\"))\n",
    "print(f\"Outliers based on merchant removed: {total - merch_sdf.count()}\")"
   ]
  },
  {
   "cell_type": "code",
   "execution_count": 35,
   "metadata": {},
   "outputs": [
    {
     "name": "stderr",
     "output_type": "stream",
     "text": [
      "                                                                                \r"
     ]
    }
   ],
   "source": [
    "join.write.parquet(\"../data/curated/raw_join_internal_table\")"
   ]
  },
  {
   "cell_type": "code",
   "execution_count": null,
   "metadata": {},
   "outputs": [],
   "source": []
  }
 ],
 "metadata": {
  "kernelspec": {
   "display_name": "Python 3.9.7 ('base')",
   "language": "python",
   "name": "python3"
  },
  "language_info": {
   "codemirror_mode": {
    "name": "ipython",
    "version": 3
   },
   "file_extension": ".py",
   "mimetype": "text/x-python",
   "name": "python",
   "nbconvert_exporter": "python",
   "pygments_lexer": "ipython3",
   "version": "3.9.7"
  },
  "orig_nbformat": 4,
  "vscode": {
   "interpreter": {
    "hash": "e1394973462801f9f845eb81bd9170baada0d64ff0c26785e5572d6b7ebed440"
   }
  }
 },
 "nbformat": 4,
 "nbformat_minor": 2
}
