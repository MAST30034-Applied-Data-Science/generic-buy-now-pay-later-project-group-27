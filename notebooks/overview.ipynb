{
 "cells": [
  {
   "cell_type": "code",
   "execution_count": 1,
   "metadata": {},
   "outputs": [
    {
     "name": "stderr",
     "output_type": "stream",
     "text": [
      "Setting default log level to \"WARN\".\n",
      "To adjust logging level use sc.setLogLevel(newLevel). For SparkR, use setLogLevel(newLevel).\n"
     ]
    },
    {
     "name": "stdout",
     "output_type": "stream",
     "text": [
      "22/10/07 18:35:46 WARN NativeCodeLoader: Unable to load native-hadoop library for your platform... using builtin-java classes where applicable\n",
      "22/10/07 18:35:53 WARN Utils: Service 'SparkUI' could not bind on port 4040. Attempting port 4041.\n",
      "22/10/07 18:35:53 WARN Utils: Service 'SparkUI' could not bind on port 4041. Attempting port 4042.\n"
     ]
    }
   ],
   "source": [
    "from pyspark.sql import SparkSession\n",
    "from pyspark.sql.functions import *\n",
    "\n",
    "spark = (\n",
    "    SparkSession.builder.appName(\"ADS project 2\")\n",
    "    .config(\"spark.sql.repl.eagerEval.enabled\", True) \n",
    "    .config(\"spark.sql.parquet.cacheMetadata\", \"true\")\n",
    "    .config(\"spark.sql.session.timeZone\", \"Etc/UTC\")\n",
    "    .config(\"spark.executor.memory\", \"2g\")\n",
    "    .config(\"spark.driver.memory\", \"4g\")\n",
    "    .getOrCreate()\n",
    ")"
   ]
  },
  {
   "cell_type": "code",
   "execution_count": 2,
   "metadata": {},
   "outputs": [
    {
     "name": "stderr",
     "output_type": "stream",
     "text": [
      "                                                                                \r"
     ]
    },
    {
     "name": "stdout",
     "output_type": "stream",
     "text": [
      "['../data/tables/transactions_20210228_20210827_snapshot/', '../data/tables/transactions_20220228_20220828_snapshot/', '../data/tables/transactions_20210828_20220227_snapshot/']\n"
     ]
    },
    {
     "name": "stderr",
     "output_type": "stream",
     "text": [
      "                                                                                \r"
     ]
    }
   ],
   "source": [
    "import os\n",
    "\n",
    "data_loc = \"../data/tables/\"\n",
    "consumer = spark.read.parquet(data_loc+\"consumer_user_details.parquet\")\n",
    "tbl_consumer = spark.read.csv(data_loc+\"tbl_consumer.csv\", sep=\"|\", header=True)\n",
    "tbl_merchant = spark.read.parquet(data_loc+\"tbl_merchants.parquet\")\n",
    "transactions = [data_loc + i + \"/\" for i in os.listdir(data_loc) if \"transactions\" in i]\n",
    "print(transactions)\n",
    "transact = spark.read.parquet('../data/tables/transactions_20210228_20210827_snapshot/')\n",
    "transact = transact.union(spark.read.parquet('../data/tables/transactions_20220228_20220828_snapshot/'))\n",
    "transact = transact.union(spark.read.parquet('../data/tables/transactions_20210828_20220227_snapshot/'))"
   ]
  },
  {
   "cell_type": "markdown",
   "metadata": {},
   "source": [
    "<h2> 1. Standardize column format of tables</h2>"
   ]
  },
  {
   "cell_type": "markdown",
   "metadata": {},
   "source": [
    "<h3>1.1 \"tbl_merchants.parquet\"</h3>"
   ]
  },
  {
   "cell_type": "code",
   "execution_count": 3,
   "metadata": {},
   "outputs": [
    {
     "name": "stderr",
     "output_type": "stream",
     "text": [
      "[Stage 9:>                                                          (0 + 1) / 1]\r"
     ]
    },
    {
     "name": "stdout",
     "output_type": "stream",
     "text": [
      "+--------------------+--------------------+------------+\n",
      "|                name|                tags|merchant_abn|\n",
      "+--------------------+--------------------+------------+\n",
      "|       Felis Limited|((furniture, home...| 10023283211|\n",
      "|Arcu Ac Orci Corp...|([cable, satellit...| 10142254217|\n",
      "|    Nunc Sed Company|([jewelry, watch,...| 10165489824|\n",
      "|Ultricies Digniss...|([wAtch, clock, a...| 10187291046|\n",
      "| Enim Condimentum PC|([music shops - m...| 10192359162|\n",
      "+--------------------+--------------------+------------+\n",
      "only showing top 5 rows\n",
      "\n"
     ]
    },
    {
     "name": "stderr",
     "output_type": "stream",
     "text": [
      "                                                                                \r"
     ]
    }
   ],
   "source": [
    "tbl_merchant.show(5)"
   ]
  },
  {
   "cell_type": "code",
   "execution_count": 4,
   "metadata": {},
   "outputs": [],
   "source": [
    "# separate \"tags\" into \"products\", \"revenue_level\", \"take_rate\"\n",
    "preprocessed_tbl_merchant = tbl_merchant.withColumn(\"split_tags\", split(col(\"tags\"), \",\")) \\\n",
    "            .withColumn(\"take_rate\", element_at(col(\"split_tags\"), -1)) \\\n",
    "            .withColumn(\"revenue_level\", element_at(col(\"split_tags\"), -2)) \\\n",
    "            .withColumn(\"products\", slice(reverse(col(\"split_tags\")), 3, 100)) \\\n",
    "            .withColumn(\"products\", reverse(col(\"products\")))"
   ]
  },
  {
   "cell_type": "code",
   "execution_count": 5,
   "metadata": {},
   "outputs": [],
   "source": [
    "# remove the special characters of \"revenue_level\" and \"take_rate\"\n",
    "preprocessed_tbl_merchant = preprocessed_tbl_merchant.withColumn(\"revenue_level\", regexp_replace(\"revenue_level\", \"[^a-e]\", \"\")) \\\n",
    "                                                     .withColumn(\"take_rate\", regexp_replace(\"take_rate\", \"[^0-9.]\", \"\"))"
   ]
  },
  {
   "cell_type": "code",
   "execution_count": 6,
   "metadata": {},
   "outputs": [],
   "source": [
    "# standardize the values in \"products\" and vectorize \"products\" into the bags of word\n",
    "preprocessed_tbl_merchant = preprocessed_tbl_merchant.withColumn(\"products\", concat_ws(\",\", col(\"products\"))) \\\n",
    "                                                     .withColumn(\"products\", regexp_replace(\"products\", \"[^A-Za-z0-9]\", \" \")) \\\n",
    "                                                     .withColumn(\"products\", regexp_replace(\"products\", \"\\s+\", \" \")) \\\n",
    "                                                     .withColumn(\"products\", regexp_replace(\"products\", \"(^\\s+)|(\\s+$)\", \"\")) \\\n",
    "                                                     .withColumn(\"products\", lower(col(\"products\"))) \\\n",
    "                                                    #  .withColumn(\"products\", split(col(\"products\"), \" \"))"
   ]
  },
  {
   "cell_type": "code",
   "execution_count": 7,
   "metadata": {},
   "outputs": [],
   "source": [
    "preprocessed_tbl_merchant = preprocessed_tbl_merchant.withColumnRenamed(\"name\", \"merchant_name\")\n",
    "preprocessed_tbl_merchant = preprocessed_tbl_merchant.select(\"merchant_name\", \"products\", \"revenue_level\",\n",
    "                                                             preprocessed_tbl_merchant.take_rate.cast(\"double\"), \"merchant_abn\")"
   ]
  },
  {
   "cell_type": "code",
   "execution_count": 8,
   "metadata": {},
   "outputs": [
    {
     "name": "stdout",
     "output_type": "stream",
     "text": [
      "+--------------------+--------------------+-------------+---------+------------+\n",
      "|       merchant_name|            products|revenue_level|take_rate|merchant_abn|\n",
      "+--------------------+--------------------+-------------+---------+------------+\n",
      "|       Felis Limited|furniture home fu...|            e|     0.18| 10023283211|\n",
      "|Arcu Ac Orci Corp...|cable satellite a...|            b|     4.22| 10142254217|\n",
      "|    Nunc Sed Company|jewelry watch clo...|            b|      4.4| 10165489824|\n",
      "|Ultricies Digniss...|watch clock and j...|            b|     3.29| 10187291046|\n",
      "| Enim Condimentum PC|music shops music...|            a|     6.33| 10192359162|\n",
      "+--------------------+--------------------+-------------+---------+------------+\n",
      "only showing top 5 rows\n",
      "\n"
     ]
    }
   ],
   "source": [
    "preprocessed_tbl_merchant.show(5)"
   ]
  },
  {
   "cell_type": "code",
   "execution_count": 9,
   "metadata": {},
   "outputs": [
    {
     "name": "stderr",
     "output_type": "stream",
     "text": [
      "[Stage 11:>                                                         (0 + 1) / 1]\r"
     ]
    },
    {
     "name": "stdout",
     "output_type": "stream",
     "text": [
      "95\n"
     ]
    },
    {
     "name": "stderr",
     "output_type": "stream",
     "text": [
      "                                                                                \r"
     ]
    },
    {
     "data": {
      "text/plain": [
       "['repairs',\n",
       " 'manufacturers',\n",
       " 'jewelry',\n",
       " 'gift',\n",
       " 'television',\n",
       " 'motor',\n",
       " 'awning',\n",
       " 'game',\n",
       " 'tent',\n",
       " 'design',\n",
       " 'sheet',\n",
       " 'cable',\n",
       " 'appliance',\n",
       " 'watch',\n",
       " 'music',\n",
       " 'movies',\n",
       " 'other',\n",
       " 'garden',\n",
       " 'lawn',\n",
       " 'parts',\n",
       " 'beauty',\n",
       " 'pay',\n",
       " 'souvenir',\n",
       " 'antique',\n",
       " 'supply',\n",
       " 'pianos',\n",
       " 'systems',\n",
       " 'outlets',\n",
       " 'tool',\n",
       " 'health',\n",
       " 'nurseries',\n",
       " 'newspapers',\n",
       " 'artist',\n",
       " 'shoe',\n",
       " 'eyeglasses',\n",
       " 'satellite',\n",
       " 'office',\n",
       " 'novelty',\n",
       " 'furniture',\n",
       " 'toy',\n",
       " 'goods',\n",
       " 'and',\n",
       " 'rent',\n",
       " 'except',\n",
       " 'telecom',\n",
       " 'flowers',\n",
       " 'appliances',\n",
       " 'peripheral',\n",
       " 'integrated',\n",
       " 'optical',\n",
       " 'new',\n",
       " 'vehicle',\n",
       " 'computers',\n",
       " 'opticians',\n",
       " 'nursery',\n",
       " 'instruments',\n",
       " 'al',\n",
       " 'including',\n",
       " 'spas',\n",
       " 'restoration',\n",
       " 'card',\n",
       " 'craft',\n",
       " 'software',\n",
       " 'shops',\n",
       " 'sales',\n",
       " 'processing',\n",
       " 'galleries',\n",
       " 'silverware',\n",
       " 'bicycle',\n",
       " 'repair',\n",
       " 'programming',\n",
       " 'printing',\n",
       " 'radio',\n",
       " 'home',\n",
       " 'florists',\n",
       " 'musical',\n",
       " 'art',\n",
       " 'furnishings',\n",
       " 'stock',\n",
       " 'services',\n",
       " 'periodicals',\n",
       " 'equipment',\n",
       " 'data',\n",
       " 'paper',\n",
       " 'digital',\n",
       " 'stationery',\n",
       " 'writing',\n",
       " 'books',\n",
       " 'clock',\n",
       " 'hobby',\n",
       " 'leasing',\n",
       " 'service',\n",
       " 'dealers',\n",
       " 'computer',\n",
       " 'supplies']"
      ]
     },
     "execution_count": 9,
     "metadata": {},
     "output_type": "execute_result"
    }
   ],
   "source": [
    "tags = preprocessed_tbl_merchant.rdd.map(lambda x: x[1]).collect()\n",
    "tags_unique = \" \".join(tags).split()\n",
    "tags_unique = list(set(tags_unique))\n",
    "print(len(tags_unique)) # not too many, can check some by hand, e.g. 'except' is the only word that has negative meaning\n",
    "tags_unique"
   ]
  },
  {
   "cell_type": "code",
   "execution_count": 10,
   "metadata": {},
   "outputs": [],
   "source": [
    "tags_tok = tags\n",
    "for i in range(len(tags)):\n",
    "    tags_tok[i] = tags_tok[i].split()\n",
    "    cur = [tags_tok[i][0]]\n",
    "    for j in range(1, len(tags_tok[i])):\n",
    "        if tags_tok[i][j-1] != \"except\":\n",
    "            if tags_tok[i][j] not in [\"and\", \"except\", \"other\", \"shops\", \"services\"]:\n",
    "                cur += [tags_tok[i][j]]\n",
    "    tags_tok[i] = cur\n",
    "# tags_tok"
   ]
  },
  {
   "cell_type": "code",
   "execution_count": 11,
   "metadata": {},
   "outputs": [
    {
     "name": "stdout",
     "output_type": "stream",
     "text": [
      "25\n"
     ]
    },
    {
     "data": {
      "text/plain": [
       "[['furniture', 'home', 'furnishings', 'equipment', 'manufacturers'],\n",
       " ['cable', 'satellite', 'pay', 'television', 'radio'],\n",
       " ['jewelry', 'watch', 'clock', 'silverware'],\n",
       " ['watch', 'clock', 'jewelry', 'repair'],\n",
       " ['music', 'musical', 'instruments', 'pianos', 'sheet', 'music'],\n",
       " ['gift', 'card', 'novelty', 'souvenir'],\n",
       " ['computers', 'computer', 'peripheral', 'equipment', 'software'],\n",
       " ['computer',\n",
       "  'programming',\n",
       "  'data',\n",
       "  'processing',\n",
       "  'integrated',\n",
       "  'systems',\n",
       "  'design'],\n",
       " ['equipment', 'tool', 'furniture', 'appliance', 'rent', 'al', 'leasing'],\n",
       " ['artist', 'supply', 'craft'],\n",
       " ['florists', 'supplies', 'nursery', 'stock', 'flowers'],\n",
       " ['antique', 'sales', 'repairs', 'restoration'],\n",
       " ['motor', 'vehicle', 'supplies', 'new', 'parts'],\n",
       " ['books', 'periodicals', 'newspapers'],\n",
       " ['stationery', 'office', 'supplies', 'printing', 'writing', 'paper'],\n",
       " ['tent', 'awning'],\n",
       " ['art', 'dealers', 'galleries'],\n",
       " ['bicycle', 'sales', 'service'],\n",
       " ['digital', 'goods', 'books', 'movies', 'music'],\n",
       " ['shoe'],\n",
       " ['opticians', 'optical', 'goods', 'eyeglasses'],\n",
       " ['health', 'beauty', 'spas'],\n",
       " ['hobby', 'toy', 'game'],\n",
       " ['lawn', 'garden', 'supply', 'outlets', 'including', 'nurseries'],\n",
       " ['telecom']]"
      ]
     },
     "execution_count": 11,
     "metadata": {},
     "output_type": "execute_result"
    }
   ],
   "source": [
    "tags_tok_unique = []\n",
    "for i in tags_tok:\n",
    "    if i not in tags_tok_unique:\n",
    "        tags_tok_unique += [i]\n",
    "print(len(tags_tok_unique)) # only 25 unique ones, can categorise manually\n",
    "tags_tok_unique"
   ]
  },
  {
   "cell_type": "code",
   "execution_count": 12,
   "metadata": {},
   "outputs": [
    {
     "data": {
      "text/plain": [
       "[('home and technology', 988),\n",
       " ('outdoors', 832),\n",
       " ('books and music', 829),\n",
       " ('fashion and accessories', 761),\n",
       " ('art and gifts', 616)]"
      ]
     },
     "execution_count": 12,
     "metadata": {},
     "output_type": "execute_result"
    }
   ],
   "source": [
    "import collections\n",
    "\n",
    "categories = [\n",
    "    'home and technology', 'home and technology', 'fashion and accessories', 'fashion and accessories', 'books and music',\n",
    "    'art and gifts', 'home and technology', 'home and technology', 'home and technology', 'art and gifts',\n",
    "    'outdoors', 'art and gifts', 'outdoors', 'books and music', 'books and music',\n",
    "    'outdoors', 'art and gifts', 'outdoors', 'books and music', 'fashion and accessories',\n",
    "    'fashion and accessories', 'fashion and accessories', 'books and music', 'outdoors', 'home and technology'\n",
    "]\n",
    "\n",
    "tag_to_cat = {\" \".join(tags_tok_unique[i]): categories[i] for i in range(len(categories))}\n",
    "cat_list = [tag_to_cat[\" \".join(i)] for i in tags_tok]\n",
    "\n",
    "collections.Counter([i for i in cat_list]).most_common()"
   ]
  },
  {
   "cell_type": "code",
   "execution_count": 13,
   "metadata": {},
   "outputs": [],
   "source": [
    "from pyspark.sql.types import *\n",
    "\n",
    "@udf(ArrayType(StringType()))\n",
    "def tokenise(tag):\n",
    "    tag = tag.split()\n",
    "    cur = [tag[0]]\n",
    "    for i in range(1, len(tag)):\n",
    "        if tag[i-1] != \"except\":\n",
    "            if tag[i] not in [\"and\", \"except\", \"other\", \"shops\", \"services\"]:\n",
    "                cur += [tag[i]]\n",
    "    return cur\n",
    "\n",
    "@udf(StringType())\n",
    "def categorise(tag):\n",
    "    tag = \" \".join(tag)\n",
    "    return tag_to_cat[tag]"
   ]
  },
  {
   "cell_type": "code",
   "execution_count": 14,
   "metadata": {},
   "outputs": [
    {
     "name": "stderr",
     "output_type": "stream",
     "text": [
      "                                                                                \r"
     ]
    },
    {
     "data": {
      "text/html": [
       "<table border='1'>\n",
       "<tr><th>merchant_name</th><th>products</th><th>revenue_level</th><th>take_rate</th><th>merchant_abn</th><th>category</th></tr>\n",
       "<tr><td>Felis Limited</td><td>furniture home fu...</td><td>e</td><td>0.18</td><td>10023283211</td><td>home and technology</td></tr>\n",
       "<tr><td>Arcu Ac Orci Corp...</td><td>cable satellite a...</td><td>b</td><td>4.22</td><td>10142254217</td><td>home and technology</td></tr>\n",
       "<tr><td>Nunc Sed Company</td><td>jewelry watch clo...</td><td>b</td><td>4.4</td><td>10165489824</td><td>fashion and acces...</td></tr>\n",
       "<tr><td>Ultricies Digniss...</td><td>watch clock and j...</td><td>b</td><td>3.29</td><td>10187291046</td><td>fashion and acces...</td></tr>\n",
       "<tr><td>Enim Condimentum PC</td><td>music shops music...</td><td>a</td><td>6.33</td><td>10192359162</td><td>books and music</td></tr>\n",
       "<tr><td>Fusce Company</td><td>gift card novelty...</td><td>a</td><td>6.34</td><td>10206519221</td><td>art and gifts</td></tr>\n",
       "<tr><td>Aliquam Enim Inco...</td><td>computers compute...</td><td>b</td><td>4.32</td><td>10255988167</td><td>home and technology</td></tr>\n",
       "<tr><td>Ipsum Primis Ltd</td><td>watch clock and j...</td><td>c</td><td>2.39</td><td>10264435225</td><td>fashion and acces...</td></tr>\n",
       "<tr><td>Pede Ultrices Ind...</td><td>computer programm...</td><td>a</td><td>5.71</td><td>10279061213</td><td>home and technology</td></tr>\n",
       "<tr><td>Nunc Inc.</td><td>furniture home fu...</td><td>a</td><td>6.61</td><td>10323485998</td><td>home and technology</td></tr>\n",
       "<tr><td>Facilisis Facilis...</td><td>computers compute...</td><td>a</td><td>6.34</td><td>10342410215</td><td>home and technology</td></tr>\n",
       "<tr><td>Odio Institute</td><td>equipment tool fu...</td><td>b</td><td>3.57</td><td>10346855916</td><td>home and technology</td></tr>\n",
       "<tr><td>Rutrum Justo Ltd</td><td>music shops music...</td><td>b</td><td>3.63</td><td>10364012396</td><td>books and music</td></tr>\n",
       "<tr><td>Tellus Foundation</td><td>artist supply and...</td><td>b</td><td>3.17</td><td>10385011947</td><td>art and gifts</td></tr>\n",
       "<tr><td>Sed Et Company</td><td>florists supplies...</td><td>a</td><td>6.61</td><td>10385163239</td><td>outdoors</td></tr>\n",
       "<tr><td>Id Ltd</td><td>computers compute...</td><td>a</td><td>5.54</td><td>10385250025</td><td>home and technology</td></tr>\n",
       "<tr><td>Consequat Foundation</td><td>antique shops sal...</td><td>a</td><td>6.93</td><td>10404542215</td><td>art and gifts</td></tr>\n",
       "<tr><td>Sit Amet Nulla Corp.</td><td>motor vehicle sup...</td><td>b</td><td>4.97</td><td>10430380319</td><td>outdoors</td></tr>\n",
       "<tr><td>Massa Vestibulum ...</td><td>motor vehicle sup...</td><td>a</td><td>5.77</td><td>10441711491</td><td>outdoors</td></tr>\n",
       "<tr><td>Ut Consulting</td><td>gift card novelty...</td><td>c</td><td>2.95</td><td>10462560289</td><td>art and gifts</td></tr>\n",
       "</table>\n",
       "only showing top 20 rows\n"
      ],
      "text/plain": [
       "+--------------------+--------------------+-------------+---------+------------+--------------------+\n",
       "|       merchant_name|            products|revenue_level|take_rate|merchant_abn|            category|\n",
       "+--------------------+--------------------+-------------+---------+------------+--------------------+\n",
       "|       Felis Limited|furniture home fu...|            e|     0.18| 10023283211| home and technology|\n",
       "|Arcu Ac Orci Corp...|cable satellite a...|            b|     4.22| 10142254217| home and technology|\n",
       "|    Nunc Sed Company|jewelry watch clo...|            b|      4.4| 10165489824|fashion and acces...|\n",
       "|Ultricies Digniss...|watch clock and j...|            b|     3.29| 10187291046|fashion and acces...|\n",
       "| Enim Condimentum PC|music shops music...|            a|     6.33| 10192359162|     books and music|\n",
       "|       Fusce Company|gift card novelty...|            a|     6.34| 10206519221|       art and gifts|\n",
       "|Aliquam Enim Inco...|computers compute...|            b|     4.32| 10255988167| home and technology|\n",
       "|    Ipsum Primis Ltd|watch clock and j...|            c|     2.39| 10264435225|fashion and acces...|\n",
       "|Pede Ultrices Ind...|computer programm...|            a|     5.71| 10279061213| home and technology|\n",
       "|           Nunc Inc.|furniture home fu...|            a|     6.61| 10323485998| home and technology|\n",
       "|Facilisis Facilis...|computers compute...|            a|     6.34| 10342410215| home and technology|\n",
       "|      Odio Institute|equipment tool fu...|            b|     3.57| 10346855916| home and technology|\n",
       "|    Rutrum Justo Ltd|music shops music...|            b|     3.63| 10364012396|     books and music|\n",
       "|   Tellus Foundation|artist supply and...|            b|     3.17| 10385011947|       art and gifts|\n",
       "|      Sed Et Company|florists supplies...|            a|     6.61| 10385163239|            outdoors|\n",
       "|              Id Ltd|computers compute...|            a|     5.54| 10385250025| home and technology|\n",
       "|Consequat Foundation|antique shops sal...|            a|     6.93| 10404542215|       art and gifts|\n",
       "|Sit Amet Nulla Corp.|motor vehicle sup...|            b|     4.97| 10430380319|            outdoors|\n",
       "|Massa Vestibulum ...|motor vehicle sup...|            a|     5.77| 10441711491|            outdoors|\n",
       "|       Ut Consulting|gift card novelty...|            c|     2.95| 10462560289|       art and gifts|\n",
       "+--------------------+--------------------+-------------+---------+------------+--------------------+\n",
       "only showing top 20 rows"
      ]
     },
     "execution_count": 14,
     "metadata": {},
     "output_type": "execute_result"
    }
   ],
   "source": [
    "preprocessed_tbl_merchant_token = preprocessed_tbl_merchant.withColumn(\"tag\", tokenise(col(\"products\")))\n",
    "preprocessed_tbl_merchant_cat = preprocessed_tbl_merchant_token.withColumn(\"category\", categorise(col(\"tag\")))\n",
    "preprocessed_tbl_merchant_cat = preprocessed_tbl_merchant_cat.drop(\"tag\")\n",
    "preprocessed_tbl_merchant_cat"
   ]
  },
  {
   "cell_type": "markdown",
   "metadata": {},
   "source": [
    "<h3>1.2 \"transactions_20210228_20210827_snapshot\"</h3>"
   ]
  },
  {
   "cell_type": "code",
   "execution_count": 15,
   "metadata": {},
   "outputs": [
    {
     "name": "stdout",
     "output_type": "stream",
     "text": [
      "+-------+------------+------------------+--------------------+--------------+\n",
      "|user_id|merchant_abn|      dollar_value|            order_id|order_datetime|\n",
      "+-------+------------+------------------+--------------------+--------------+\n",
      "|  18478| 62191208634|63.255848959735246|949a63c8-29f7-4ab...|    2021-08-20|\n",
      "|      2| 15549624934| 130.3505283105634|6a84c3cf-612a-457...|    2021-08-20|\n",
      "|  18479| 64403598239|120.15860593212783|b10dcc33-e53f-425...|    2021-08-20|\n",
      "|      3| 60956456424| 136.6785200286976|0f09c5a5-784e-447...|    2021-08-20|\n",
      "|  18479| 94493496784| 72.96316578355305|f6c78c1a-4600-4c5...|    2021-08-20|\n",
      "+-------+------------+------------------+--------------------+--------------+\n",
      "only showing top 5 rows\n",
      "\n"
     ]
    }
   ],
   "source": [
    "transact.show(5)"
   ]
  },
  {
   "cell_type": "code",
   "execution_count": 16,
   "metadata": {},
   "outputs": [],
   "source": [
    "# separate pickup datetime into date, year, month and day\n",
    "preprocessed_transact = transact.withColumn('order_year', year(col('order_datetime')))\n",
    "preprocessed_transact = preprocessed_transact.withColumn('order_month', month(col('order_datetime')))\n",
    "preprocessed_transact = preprocessed_transact.withColumn('order_day', dayofmonth(col('order_datetime')))\n",
    "preprocessed_transact = preprocessed_transact.withColumnRenamed('merchant_abn', 'merchant_abn_repeat')"
   ]
  },
  {
   "cell_type": "markdown",
   "metadata": {},
   "source": [
    "<h3>1.3 \"tbl_consumer.csv\"</h3>"
   ]
  },
  {
   "cell_type": "code",
   "execution_count": 17,
   "metadata": {},
   "outputs": [
    {
     "name": "stdout",
     "output_type": "stream",
     "text": [
      "+-----------------+--------------------+-----+--------+------+-----------+\n",
      "|             name|             address|state|postcode|gender|consumer_id|\n",
      "+-----------------+--------------------+-----+--------+------+-----------+\n",
      "| Yolanda Williams|413 Haney Gardens...|   WA|    6935|Female|    1195503|\n",
      "|       Mary Smith|     3764 Amber Oval|  NSW|    2782|Female|     179208|\n",
      "|    Jill Jones MD|  40693 Henry Greens|   NT|     862|Female|    1194530|\n",
      "|  Lindsay Jimenez|00653 Davenport C...|  NSW|    2780|Female|     154128|\n",
      "|Rebecca Blanchard|9271 Michael Mano...|   WA|    6355|Female|     712975|\n",
      "+-----------------+--------------------+-----+--------+------+-----------+\n",
      "only showing top 5 rows\n",
      "\n"
     ]
    }
   ],
   "source": [
    "tbl_consumer.show(5)"
   ]
  },
  {
   "cell_type": "code",
   "execution_count": 18,
   "metadata": {},
   "outputs": [],
   "source": [
    "preprocessed_tbl_consumer = tbl_consumer.withColumnRenamed(\"name\", \"consumer\")\n",
    "preprocessed_tbl_consumer = preprocessed_tbl_consumer.withColumnRenamed(\"address\", \"consumer_address\")\n",
    "preprocessed_tbl_consumer = preprocessed_tbl_consumer.withColumnRenamed(\"state\", \"consumer_state\")\n",
    "preprocessed_tbl_consumer = preprocessed_tbl_consumer.withColumnRenamed(\"postcode\", \"consumer_postcode\")\n",
    "preprocessed_tbl_consumer = preprocessed_tbl_consumer.withColumnRenamed(\"gender\", \"consumer_gender\")"
   ]
  },
  {
   "cell_type": "code",
   "execution_count": 19,
   "metadata": {},
   "outputs": [
    {
     "name": "stdout",
     "output_type": "stream",
     "text": [
      "+-----------------+--------------------+--------------+-----------------+---------------+-----------+\n",
      "|         consumer|    consumer_address|consumer_state|consumer_postcode|consumer_gender|consumer_id|\n",
      "+-----------------+--------------------+--------------+-----------------+---------------+-----------+\n",
      "| Yolanda Williams|413 Haney Gardens...|            WA|             6935|         Female|    1195503|\n",
      "|       Mary Smith|     3764 Amber Oval|           NSW|             2782|         Female|     179208|\n",
      "|    Jill Jones MD|  40693 Henry Greens|            NT|              862|         Female|    1194530|\n",
      "|  Lindsay Jimenez|00653 Davenport C...|           NSW|             2780|         Female|     154128|\n",
      "|Rebecca Blanchard|9271 Michael Mano...|            WA|             6355|         Female|     712975|\n",
      "+-----------------+--------------------+--------------+-----------------+---------------+-----------+\n",
      "only showing top 5 rows\n",
      "\n"
     ]
    }
   ],
   "source": [
    "preprocessed_tbl_consumer.show(5)"
   ]
  },
  {
   "cell_type": "markdown",
   "metadata": {},
   "source": [
    "<h3>1.4 \"consumer.parquet\"</h3>"
   ]
  },
  {
   "cell_type": "code",
   "execution_count": 20,
   "metadata": {},
   "outputs": [
    {
     "name": "stdout",
     "output_type": "stream",
     "text": [
      "+-------+-----------+\n",
      "|user_id|consumer_id|\n",
      "+-------+-----------+\n",
      "|      1|    1195503|\n",
      "|      2|     179208|\n",
      "|      3|    1194530|\n",
      "|      4|     154128|\n",
      "|      5|     712975|\n",
      "+-------+-----------+\n",
      "only showing top 5 rows\n",
      "\n"
     ]
    }
   ],
   "source": [
    "consumer.show(5)"
   ]
  },
  {
   "cell_type": "code",
   "execution_count": 21,
   "metadata": {},
   "outputs": [],
   "source": [
    "preprocessed_consumer = consumer.withColumnRenamed(\"user_id\", \"user_id_repeat\")\n",
    "preprocessed_consumer = preprocessed_consumer.withColumnRenamed(\"consumer_id\", \"consumer_id_repeat\")"
   ]
  },
  {
   "cell_type": "code",
   "execution_count": 22,
   "metadata": {},
   "outputs": [
    {
     "name": "stdout",
     "output_type": "stream",
     "text": [
      "+--------------+------------------+\n",
      "|user_id_repeat|consumer_id_repeat|\n",
      "+--------------+------------------+\n",
      "|             1|           1195503|\n",
      "|             2|            179208|\n",
      "|             3|           1194530|\n",
      "|             4|            154128|\n",
      "|             5|            712975|\n",
      "+--------------+------------------+\n",
      "only showing top 5 rows\n",
      "\n"
     ]
    }
   ],
   "source": [
    "preprocessed_consumer.show(5)"
   ]
  },
  {
   "cell_type": "markdown",
   "metadata": {},
   "source": [
    "<h2>2. Join tables</h2>"
   ]
  },
  {
   "cell_type": "code",
   "execution_count": 23,
   "metadata": {},
   "outputs": [
    {
     "name": "stderr",
     "output_type": "stream",
     "text": [
      "[Stage 22:=========>        (1 + 1) / 2][Stage 24:====>             (1 + 3) / 4]\r"
     ]
    },
    {
     "name": "stdout",
     "output_type": "stream",
     "text": [
      "22/10/07 18:36:39 WARN TransportClientFactory: DNS resolution succeed for mugis-air/192.168.20.10:61526 took 3776 ms\n",
      "22/10/07 18:36:39 WARN TransportClientFactory: DNS resolution succeed for mugis-air/192.168.20.10:61526 took 5001 ms\n",
      "22/10/07 18:36:39 WARN TransportClientFactory: DNS resolution succeed for mugis-air/192.168.20.10:61526 took 3792 ms\n",
      "22/10/07 18:36:39 WARN TransportClientFactory: DNS resolution succeed for mugis-air/192.168.20.10:61526 took 3712 ms\n"
     ]
    },
    {
     "name": "stderr",
     "output_type": "stream",
     "text": [
      "[Stage 25:=================================================>      (22 + 3) / 25]\r"
     ]
    },
    {
     "name": "stdout",
     "output_type": "stream",
     "text": [
      "Mismatched (null) transactions dropped: 580830\n"
     ]
    },
    {
     "name": "stderr",
     "output_type": "stream",
     "text": [
      "                                                                                \r"
     ]
    }
   ],
   "source": [
    "preprocessed_tbl_merchant_cat.createOrReplaceTempView('merchant')\n",
    "preprocessed_transact.createOrReplaceTempView('transact')\n",
    "preprocessed_tbl_consumer.createOrReplaceTempView('tbl_consumer')\n",
    "preprocessed_consumer.createOrReplaceTempView('consumer')\n",
    "\n",
    "join = spark.sql(\"\"\"\n",
    "SELECT \n",
    "    *\n",
    "FROM \n",
    "    merchant\n",
    "INNER JOIN\n",
    "    transact\n",
    "ON \n",
    "    transact.merchant_abn_repeat = merchant.merchant_abn\n",
    "INNER JOIN\n",
    "    consumer\n",
    "ON\n",
    "    transact.user_id = consumer.user_id_repeat\n",
    "INNER JOIN\n",
    "    tbl_consumer\n",
    "ON \n",
    "    consumer.consumer_id_repeat = tbl_consumer.consumer_id\n",
    "ORDER BY\n",
    "    revenue_level DESC\n",
    "\"\"\")\n",
    "\n",
    "join = join.drop(\"merchant_abn_repeat\", \"consumer_id_repeat\", \"user_id_repeat\", \"merchant_abn\", \"consumer_id\", \"order_id\")\n",
    "print(f\"Mismatched (null) transactions dropped: {preprocessed_transact.count() - join.count()}\")"
   ]
  },
  {
   "cell_type": "code",
   "execution_count": 24,
   "metadata": {},
   "outputs": [
    {
     "name": "stderr",
     "output_type": "stream",
     "text": [
      "                                                                                \r"
     ]
    },
    {
     "data": {
      "text/html": [
       "<table border='1'>\n",
       "<tr><th>merchant_name</th><th>products</th><th>revenue_level</th><th>take_rate</th><th>category</th><th>user_id</th><th>dollar_value</th><th>order_datetime</th><th>order_year</th><th>order_month</th><th>order_day</th><th>consumer</th><th>consumer_address</th><th>consumer_state</th><th>consumer_postcode</th><th>consumer_gender</th></tr>\n",
       "<tr><td>Nunc Est LLP</td><td>watch clock and j...</td><td>e</td><td>0.22</td><td>fashion and acces...</td><td>17114</td><td>43.16144307361286</td><td>2022-09-03</td><td>2022</td><td>9</td><td>3</td><td>Pamela Parker</td><td>93935 Claudia Ove...</td><td>VIC</td><td>3420</td><td>Female</td></tr>\n",
       "<tr><td>Nunc Est LLP</td><td>watch clock and j...</td><td>e</td><td>0.22</td><td>fashion and acces...</td><td>18239</td><td>26.207292804489935</td><td>2021-07-27</td><td>2021</td><td>7</td><td>27</td><td>James Evans</td><td>97131 Hayes Expre...</td><td>WA</td><td>6028</td><td>Undisclosed</td></tr>\n",
       "<tr><td>Massa Suspendisse...</td><td>art dealers and g...</td><td>e</td><td>0.4</td><td>art and gifts</td><td>17114</td><td>4498.748329034502</td><td>2022-04-26</td><td>2022</td><td>4</td><td>26</td><td>Pamela Parker</td><td>93935 Claudia Ove...</td><td>VIC</td><td>3420</td><td>Female</td></tr>\n",
       "<tr><td>Metus Sit Amet In...</td><td>cable satellite a...</td><td>e</td><td>0.38</td><td>home and technology</td><td>722</td><td>48.55637942130284</td><td>2021-03-05</td><td>2021</td><td>3</td><td>5</td><td>Carol Kelley</td><td>79229 Tiffany Str...</td><td>NSW</td><td>2768</td><td>Female</td></tr>\n",
       "<tr><td>Nunc Est LLP</td><td>watch clock and j...</td><td>e</td><td>0.22</td><td>fashion and acces...</td><td>22603</td><td>43.591273089804616</td><td>2021-05-22</td><td>2021</td><td>5</td><td>22</td><td>Robert Duncan</td><td>6287 Shah Spur Su...</td><td>NSW</td><td>2449</td><td>Male</td></tr>\n",
       "<tr><td>Orci Consectetuer...</td><td>shoe shops</td><td>e</td><td>0.42</td><td>fashion and acces...</td><td>722</td><td>82.48752792346217</td><td>2021-11-30</td><td>2021</td><td>11</td><td>30</td><td>Carol Kelley</td><td>79229 Tiffany Str...</td><td>NSW</td><td>2768</td><td>Female</td></tr>\n",
       "<tr><td>Elit Consulting</td><td>antique shops sal...</td><td>e</td><td>0.47</td><td>art and gifts</td><td>22603</td><td>156.34258070283065</td><td>2022-07-23</td><td>2022</td><td>7</td><td>23</td><td>Robert Duncan</td><td>6287 Shah Spur Su...</td><td>NSW</td><td>2449</td><td>Male</td></tr>\n",
       "<tr><td>Felis Limited</td><td>furniture home fu...</td><td>e</td><td>0.18</td><td>home and technology</td><td>722</td><td>294.83093237438436</td><td>2021-12-09</td><td>2021</td><td>12</td><td>9</td><td>Carol Kelley</td><td>79229 Tiffany Str...</td><td>NSW</td><td>2768</td><td>Female</td></tr>\n",
       "<tr><td>Eget Metus Eu Ins...</td><td>shoe shops</td><td>e</td><td>0.42</td><td>fashion and acces...</td><td>22603</td><td>641.2971109480748</td><td>2022-07-23</td><td>2022</td><td>7</td><td>23</td><td>Robert Duncan</td><td>6287 Shah Spur Su...</td><td>NSW</td><td>2449</td><td>Male</td></tr>\n",
       "<tr><td>Augue Eu Tempor A...</td><td>cable satellite a...</td><td>e</td><td>0.38</td><td>home and technology</td><td>17114</td><td>32.38583077052173</td><td>2021-05-14</td><td>2021</td><td>5</td><td>14</td><td>Pamela Parker</td><td>93935 Claudia Ove...</td><td>VIC</td><td>3420</td><td>Female</td></tr>\n",
       "<tr><td>Nunc Est LLP</td><td>watch clock and j...</td><td>e</td><td>0.22</td><td>fashion and acces...</td><td>22603</td><td>72.9929882938332</td><td>2022-07-02</td><td>2022</td><td>7</td><td>2</td><td>Robert Duncan</td><td>6287 Shah Spur Su...</td><td>NSW</td><td>2449</td><td>Male</td></tr>\n",
       "<tr><td>Felis Limited</td><td>furniture home fu...</td><td>e</td><td>0.18</td><td>home and technology</td><td>17114</td><td>235.95016198511814</td><td>2021-04-11</td><td>2021</td><td>4</td><td>11</td><td>Pamela Parker</td><td>93935 Claudia Ove...</td><td>VIC</td><td>3420</td><td>Female</td></tr>\n",
       "<tr><td>Ante Industries</td><td>motor vehicle sup...</td><td>e</td><td>0.35</td><td>outdoors</td><td>22603</td><td>264.8037618296113</td><td>2021-09-22</td><td>2021</td><td>9</td><td>22</td><td>Robert Duncan</td><td>6287 Shah Spur Su...</td><td>NSW</td><td>2449</td><td>Male</td></tr>\n",
       "<tr><td>Tempus Eu Ligula ...</td><td>computers compute...</td><td>e</td><td>0.33</td><td>home and technology</td><td>23611</td><td>26.53666868825559</td><td>2022-10-03</td><td>2022</td><td>10</td><td>3</td><td>Brenda Miller</td><td>42070 Colleen Spring</td><td>NSW</td><td>2359</td><td>Undisclosed</td></tr>\n",
       "<tr><td>Dapibus Inc.</td><td>equipment tool fu...</td><td>e</td><td>0.33</td><td>home and technology</td><td>18239</td><td>4452.584374874312</td><td>2021-07-20</td><td>2021</td><td>7</td><td>20</td><td>James Evans</td><td>97131 Hayes Expre...</td><td>WA</td><td>6028</td><td>Undisclosed</td></tr>\n",
       "<tr><td>Nunc Est LLP</td><td>watch clock and j...</td><td>e</td><td>0.22</td><td>fashion and acces...</td><td>23611</td><td>63.54635961686712</td><td>2022-08-04</td><td>2022</td><td>8</td><td>4</td><td>Brenda Miller</td><td>42070 Colleen Spring</td><td>NSW</td><td>2359</td><td>Undisclosed</td></tr>\n",
       "<tr><td>Lacus Mauris Asso...</td><td>shoe shops</td><td>e</td><td>0.48</td><td>fashion and acces...</td><td>722</td><td>310.20043945437243</td><td>2021-04-07</td><td>2021</td><td>4</td><td>7</td><td>Carol Kelley</td><td>79229 Tiffany Str...</td><td>NSW</td><td>2768</td><td>Female</td></tr>\n",
       "<tr><td>Metus Sit Amet In...</td><td>cable satellite a...</td><td>e</td><td>0.38</td><td>home and technology</td><td>23611</td><td>86.97286760060099</td><td>2021-11-21</td><td>2021</td><td>11</td><td>21</td><td>Brenda Miller</td><td>42070 Colleen Spring</td><td>NSW</td><td>2359</td><td>Undisclosed</td></tr>\n",
       "<tr><td>Nunc Est LLP</td><td>watch clock and j...</td><td>e</td><td>0.22</td><td>fashion and acces...</td><td>722</td><td>69.79220540221618</td><td>2021-09-18</td><td>2021</td><td>9</td><td>18</td><td>Carol Kelley</td><td>79229 Tiffany Str...</td><td>NSW</td><td>2768</td><td>Female</td></tr>\n",
       "<tr><td>Elit Consulting</td><td>antique shops sal...</td><td>e</td><td>0.47</td><td>art and gifts</td><td>15589</td><td>300.6260383848323</td><td>2021-03-27</td><td>2021</td><td>3</td><td>27</td><td>Morgan Powell DVM</td><td>535 Bell Walk Apt...</td><td>NSW</td><td>2879</td><td>Female</td></tr>\n",
       "</table>\n",
       "only showing top 20 rows\n"
      ],
      "text/plain": [
       "+--------------------+--------------------+-------------+---------+--------------------+-------+------------------+--------------+----------+-----------+---------+--------------+--------------------+--------------+-----------------+---------------+\n",
       "|       merchant_name|            products|revenue_level|take_rate|            category|user_id|      dollar_value|order_datetime|order_year|order_month|order_day|      consumer|    consumer_address|consumer_state|consumer_postcode|consumer_gender|\n",
       "+--------------------+--------------------+-------------+---------+--------------------+-------+------------------+--------------+----------+-----------+---------+--------------+--------------------+--------------+-----------------+---------------+\n",
       "|Augue Eu Tempor A...|cable satellite a...|            e|     0.38| home and technology|   1956| 13.21705727136522|    2022-08-31|      2022|          8|       31|    Sara Allen|  92887 Stewart Flat|           NSW|             2798|    Undisclosed|\n",
       "|Metus Sit Amet In...|cable satellite a...|            e|     0.38| home and technology|   7470| 42.02030801312762|    2022-08-24|      2022|          8|       24|  Kenneth Tran|  480 Blanchard Land|            WA|             6915|           Male|\n",
       "|        Nunc Est LLP|watch clock and j...|            e|     0.22|fashion and acces...|   1956|  49.9947162713664|    2022-08-08|      2022|          8|        8|    Sara Allen|  92887 Stewart Flat|           NSW|             2798|    Undisclosed|\n",
       "|Non Lobortis Corp...|computer programm...|            e|     0.36| home and technology|  14409|  168.526052031304|    2021-03-11|      2021|          3|       11|Anthony Bryant| 76494 Derrick Court|           VIC|             3874|           Male|\n",
       "|  Et Nunc Consulting|books periodicals...|            e|     0.16|     books and music|   1956| 37.44004996784164|    2022-07-21|      2022|          7|       21|    Sara Allen|  92887 Stewart Flat|           NSW|             2798|    Undisclosed|\n",
       "|        Nunc Est LLP|watch clock and j...|            e|     0.22|fashion and acces...|  14409| 64.16995069151893|    2021-11-30|      2021|         11|       30|Anthony Bryant| 76494 Derrick Court|           VIC|             3874|           Male|\n",
       "|Metus Sit Amet In...|cable satellite a...|            e|     0.38| home and technology|   1956|5.4621705507676666|    2022-08-05|      2022|          8|        5|    Sara Allen|  92887 Stewart Flat|           NSW|             2798|    Undisclosed|\n",
       "|  Et Nunc Consulting|books periodicals...|            e|     0.16|     books and music|   1956| 979.9787956970662|    2021-08-15|      2021|          8|       15|    Sara Allen|  92887 Stewart Flat|           NSW|             2798|    Undisclosed|\n",
       "|Non Lobortis Corp...|computer programm...|            e|     0.36| home and technology|   1956| 190.3786742869008|    2022-08-02|      2022|          8|        2|    Sara Allen|  92887 Stewart Flat|           NSW|             2798|    Undisclosed|\n",
       "|  Et Nunc Consulting|books periodicals...|            e|     0.16|     books and music|   2461| 609.8125466459371|    2022-09-23|      2022|          9|       23|  Joseph Allen|5872 Nicole Knoll...|            SA|             5291|           Male|\n",
       "|  Et Nunc Consulting|books periodicals...|            e|     0.16|     books and music|   2461| 318.7462897182931|    2022-05-09|      2022|          5|        9|  Joseph Allen|5872 Nicole Knoll...|            SA|             5291|           Male|\n",
       "|Risus Nulla Insti...|bicycle shops sal...|            e|     0.22|            outdoors|  14108| 25.33663463383725|    2022-10-19|      2022|         10|       19| Zachary Evans|947 Mclaughlin Ra...|           NSW|             2293|           Male|\n",
       "|Metus Sit Amet In...|cable satellite a...|            e|     0.38| home and technology|   2461| 36.33910177813248|    2022-05-04|      2022|          5|        4|  Joseph Allen|5872 Nicole Knoll...|            SA|             5291|           Male|\n",
       "|  Et Nunc Consulting|books periodicals...|            e|     0.16|     books and music|  14409| 348.3081370996363|    2022-02-08|      2022|          2|        8|Anthony Bryant| 76494 Derrick Court|           VIC|             3874|           Male|\n",
       "|        Nunc Est LLP|watch clock and j...|            e|     0.22|fashion and acces...|   2461| 74.24813966310627|    2022-04-21|      2022|          4|       21|  Joseph Allen|5872 Nicole Knoll...|            SA|             5291|           Male|\n",
       "|        Nunc Est LLP|watch clock and j...|            e|     0.22|fashion and acces...|   1956|   35.730745879372|    2021-10-29|      2021|         10|       29|    Sara Allen|  92887 Stewart Flat|           NSW|             2798|    Undisclosed|\n",
       "| Magna Sed Institute|cable satellite a...|            e|     0.31| home and technology|   2461|167.28417801674712|    2021-11-15|      2021|         11|       15|  Joseph Allen|5872 Nicole Knoll...|            SA|             5291|           Male|\n",
       "|Dis Parturient Co...|gift card novelty...|            e|     0.24|       art and gifts|   1956|60.756854097474836|    2021-09-01|      2021|          9|        1|    Sara Allen|  92887 Stewart Flat|           NSW|             2798|    Undisclosed|\n",
       "|Metus Sit Amet In...|cable satellite a...|            e|     0.38| home and technology|   2461| 39.75699971405571|    2022-01-29|      2022|          1|       29|  Joseph Allen|5872 Nicole Knoll...|            SA|             5291|           Male|\n",
       "|        Nunc Est LLP|watch clock and j...|            e|     0.22|fashion and acces...|   1956| 69.33602217234242|    2022-01-17|      2022|          1|       17|    Sara Allen|  92887 Stewart Flat|           NSW|             2798|    Undisclosed|\n",
       "+--------------------+--------------------+-------------+---------+--------------------+-------+------------------+--------------+----------+-----------+---------+--------------+--------------------+--------------+-----------------+---------------+\n",
       "only showing top 20 rows"
      ]
     },
     "execution_count": 24,
     "metadata": {},
     "output_type": "execute_result"
    }
   ],
   "source": [
    "join"
   ]
  },
  {
   "cell_type": "code",
   "execution_count": 25,
   "metadata": {},
   "outputs": [
    {
     "name": "stderr",
     "output_type": "stream",
     "text": [
      "                                                                                \r"
     ]
    }
   ],
   "source": [
    "join.write.parquet(\"../data/curated/raw_join_internal_table\")"
   ]
  }
 ],
 "metadata": {
  "kernelspec": {
   "display_name": "Python 3.9.12 64-bit",
   "language": "python",
   "name": "python3"
  },
  "language_info": {
   "codemirror_mode": {
    "name": "ipython",
    "version": 3
   },
   "file_extension": ".py",
   "mimetype": "text/x-python",
   "name": "python",
   "nbconvert_exporter": "python",
   "pygments_lexer": "ipython3",
   "version": "3.9.12"
  },
  "orig_nbformat": 4,
  "vscode": {
   "interpreter": {
    "hash": "949777d72b0d2535278d3dc13498b2535136f6dfe0678499012e853ee9abcab1"
   }
  }
 },
 "nbformat": 4,
 "nbformat_minor": 2
}
