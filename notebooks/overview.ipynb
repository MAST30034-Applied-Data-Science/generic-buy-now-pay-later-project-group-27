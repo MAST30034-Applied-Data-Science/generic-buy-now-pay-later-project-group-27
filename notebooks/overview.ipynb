{
 "cells": [
  {
   "cell_type": "code",
   "execution_count": 1,
   "metadata": {},
   "outputs": [
    {
     "name": "stderr",
     "output_type": "stream",
     "text": [
      "Setting default log level to \"WARN\".\n",
      "To adjust logging level use sc.setLogLevel(newLevel). For SparkR, use setLogLevel(newLevel).\n"
     ]
    },
    {
     "name": "stdout",
     "output_type": "stream",
     "text": [
      "22/09/19 00:45:20 WARN NativeCodeLoader: Unable to load native-hadoop library for your platform... using builtin-java classes where applicable\n",
      "22/09/19 00:45:22 WARN Utils: Service 'SparkUI' could not bind on port 4040. Attempting port 4041.\n"
     ]
    }
   ],
   "source": [
    "from pyspark.sql import SparkSession\n",
    "from pyspark.sql.functions import *\n",
    "\n",
    "spark = (\n",
    "    SparkSession.builder.appName(\"ADS project 2\")\n",
    "    .config(\"spark.sql.repl.eagerEval.enabled\", True) \n",
    "    .config(\"spark.sql.parquet.cacheMetadata\", \"true\")\n",
    "    .config(\"spark.sql.session.timeZone\", \"Etc/UTC\")\n",
    "    .config(\"spark.executor.memory\", \"2g\")\n",
    "    .config(\"spark.driver.memory\", \"4g\")\n",
    "    .getOrCreate()\n",
    ")"
   ]
  },
  {
   "cell_type": "code",
   "execution_count": 2,
   "metadata": {},
   "outputs": [
    {
     "name": "stderr",
     "output_type": "stream",
     "text": [
      "                                                                                \r"
     ]
    },
    {
     "name": "stdout",
     "output_type": "stream",
     "text": [
      "['../data/tables/transactions_20210228_20210827_snapshot/', '../data/tables/transactions_20220228_20220828_snapshot/', '../data/tables/transactions_20210828_20220227_snapshot/']\n"
     ]
    },
    {
     "name": "stderr",
     "output_type": "stream",
     "text": [
      "                                                                                \r"
     ]
    }
   ],
   "source": [
    "import os\n",
    "\n",
    "data_loc = \"../data/tables/\"\n",
    "consumer = spark.read.parquet(data_loc+\"consumer_user_details.parquet\")\n",
    "tbl_consumer = spark.read.csv(data_loc+\"tbl_consumer.csv\", sep=\"|\", header=True)\n",
    "tbl_merchant = spark.read.parquet(data_loc+\"tbl_merchants.parquet\")\n",
    "transactions = [data_loc + i + \"/\" for i in os.listdir(data_loc) if \"transactions\" in i]\n",
    "print(transactions)\n",
    "transact = spark.read.parquet('../data/tables/transactions_20210228_20210827_snapshot/')\n",
    "transact = transact.union(spark.read.parquet('../data/tables/transactions_20220228_20220828_snapshot/'))\n",
    "transact = transact.union(spark.read.parquet('../data/tables/transactions_20210828_20220227_snapshot/'))"
   ]
  },
  {
   "cell_type": "markdown",
   "metadata": {},
   "source": [
    "<h2> 1. Standardize column format of tables</h2>"
   ]
  },
  {
   "cell_type": "markdown",
   "metadata": {},
   "source": [
    "<h3>1.1 \"tbl_merchants.parquet\"</h3>"
   ]
  },
  {
   "cell_type": "code",
   "execution_count": 3,
   "metadata": {},
   "outputs": [
    {
     "name": "stderr",
     "output_type": "stream",
     "text": [
      "                                                                                \r"
     ]
    },
    {
     "name": "stdout",
     "output_type": "stream",
     "text": [
      "+--------------------+--------------------+------------+\n",
      "|                name|                tags|merchant_abn|\n",
      "+--------------------+--------------------+------------+\n",
      "|       Felis Limited|((furniture, home...| 10023283211|\n",
      "|Arcu Ac Orci Corp...|([cable, satellit...| 10142254217|\n",
      "|    Nunc Sed Company|([jewelry, watch,...| 10165489824|\n",
      "|Ultricies Digniss...|([wAtch, clock, a...| 10187291046|\n",
      "| Enim Condimentum PC|([music shops - m...| 10192359162|\n",
      "+--------------------+--------------------+------------+\n",
      "only showing top 5 rows\n",
      "\n"
     ]
    }
   ],
   "source": [
    "tbl_merchant.show(5)"
   ]
  },
  {
   "cell_type": "code",
   "execution_count": 4,
   "metadata": {},
   "outputs": [],
   "source": [
    "# separate \"tags\" into \"products\", \"revenue_level\", \"take_rate\"\n",
    "preprocessed_tbl_merchant = tbl_merchant.withColumn(\"split_tags\", split(col(\"tags\"), \",\")) \\\n",
    "            .withColumn(\"take_rate\", element_at(col(\"split_tags\"), -1)) \\\n",
    "            .withColumn(\"revenue_level\", element_at(col(\"split_tags\"), -2)) \\\n",
    "            .withColumn(\"products\", slice(reverse(col(\"split_tags\")), 3, 100)) \\\n",
    "            .withColumn(\"products\", reverse(col(\"products\")))\n"
   ]
  },
  {
   "cell_type": "code",
   "execution_count": 5,
   "metadata": {},
   "outputs": [],
   "source": [
    "# remove the special characters of \"revenue_level\" and \"take_rate\"\n",
    "preprocessed_tbl_merchant = preprocessed_tbl_merchant.withColumn(\"revenue_level\", regexp_replace(\"revenue_level\", \"[^a-e]\", \"\")) \\\n",
    "                                                     .withColumn(\"take_rate\", regexp_replace(\"take_rate\", \"[^0-9.]\", \"\"))"
   ]
  },
  {
   "cell_type": "code",
   "execution_count": 6,
   "metadata": {},
   "outputs": [],
   "source": [
    "# standardize the values in \"products\" and vectorize \"products\" into the bags of word\n",
    "preprocessed_tbl_merchant = preprocessed_tbl_merchant.withColumn(\"products\", concat_ws(\",\", col(\"products\"))) \\\n",
    "                                                     .withColumn(\"products\", regexp_replace(\"products\", \"[^A-Za-z0-9]\", \" \")) \\\n",
    "                                                     .withColumn(\"products\", regexp_replace(\"products\", \"\\s+\", \" \")) \\\n",
    "                                                     .withColumn(\"products\", regexp_replace(\"products\", \"(^\\s+)|(\\s+$)\", \"\")) \\\n",
    "                                                     .withColumn(\"products\", lower(col(\"products\"))) \\\n",
    "                                                    #  .withColumn(\"products\", split(col(\"products\"), \" \"))"
   ]
  },
  {
   "cell_type": "code",
   "execution_count": 7,
   "metadata": {},
   "outputs": [],
   "source": [
    "preprocessed_tbl_merchant = preprocessed_tbl_merchant.withColumnRenamed(\"name\", \"merchant_name\")\n",
    "preprocessed_tbl_merchant = preprocessed_tbl_merchant.select(\"merchant_name\", \"products\", \"revenue_level\",\n",
    "                                                             preprocessed_tbl_merchant.take_rate.cast(\"double\"), \"merchant_abn\")"
   ]
  },
  {
   "cell_type": "code",
   "execution_count": 8,
   "metadata": {},
   "outputs": [
    {
     "name": "stdout",
     "output_type": "stream",
     "text": [
      "+--------------------+--------------------+-------------+---------+------------+\n",
      "|       merchant_name|            products|revenue_level|take_rate|merchant_abn|\n",
      "+--------------------+--------------------+-------------+---------+------------+\n",
      "|       Felis Limited|furniture home fu...|            e|     0.18| 10023283211|\n",
      "|Arcu Ac Orci Corp...|cable satellite a...|            b|     4.22| 10142254217|\n",
      "|    Nunc Sed Company|jewelry watch clo...|            b|      4.4| 10165489824|\n",
      "|Ultricies Digniss...|watch clock and j...|            b|     3.29| 10187291046|\n",
      "| Enim Condimentum PC|music shops music...|            a|     6.33| 10192359162|\n",
      "+--------------------+--------------------+-------------+---------+------------+\n",
      "only showing top 5 rows\n",
      "\n"
     ]
    }
   ],
   "source": [
    "preprocessed_tbl_merchant.show(5)"
   ]
  },
  {
   "cell_type": "code",
   "execution_count": 9,
   "metadata": {},
   "outputs": [
    {
     "name": "stderr",
     "output_type": "stream",
     "text": [
      "[Stage 11:>                                                         (0 + 1) / 1]\r"
     ]
    },
    {
     "name": "stdout",
     "output_type": "stream",
     "text": [
      "95\n"
     ]
    },
    {
     "name": "stderr",
     "output_type": "stream",
     "text": [
      "                                                                                \r"
     ]
    },
    {
     "data": {
      "text/plain": [
       "['stationery',\n",
       " 'watch',\n",
       " 'computer',\n",
       " 'integrated',\n",
       " 'artist',\n",
       " 'nurseries',\n",
       " 'al',\n",
       " 'equipment',\n",
       " 'appliances',\n",
       " 'jewelry',\n",
       " 'spas',\n",
       " 'eyeglasses',\n",
       " 'satellite',\n",
       " 'restoration',\n",
       " 'printing',\n",
       " 'sheet',\n",
       " 'beauty',\n",
       " 'office',\n",
       " 'and',\n",
       " 'design',\n",
       " 'telecom',\n",
       " 'repair',\n",
       " 'systems',\n",
       " 'opticians',\n",
       " 'parts',\n",
       " 'motor',\n",
       " 'toy',\n",
       " 'health',\n",
       " 'peripheral',\n",
       " 'antique',\n",
       " 'appliance',\n",
       " 'services',\n",
       " 'tool',\n",
       " 'hobby',\n",
       " 'including',\n",
       " 'clock',\n",
       " 'tent',\n",
       " 'outlets',\n",
       " 'pianos',\n",
       " 'cable',\n",
       " 'writing',\n",
       " 'supplies',\n",
       " 'pay',\n",
       " 'novelty',\n",
       " 'musical',\n",
       " 'television',\n",
       " 'shoe',\n",
       " 'goods',\n",
       " 'shops',\n",
       " 'dealers',\n",
       " 'sales',\n",
       " 'newspapers',\n",
       " 'rent',\n",
       " 'furnishings',\n",
       " 'home',\n",
       " 'books',\n",
       " 'bicycle',\n",
       " 'silverware',\n",
       " 'service',\n",
       " 'movies',\n",
       " 'nursery',\n",
       " 'gift',\n",
       " 'craft',\n",
       " 'repairs',\n",
       " 'game',\n",
       " 'periodicals',\n",
       " 'music',\n",
       " 'computers',\n",
       " 'awning',\n",
       " 'lawn',\n",
       " 'optical',\n",
       " 'flowers',\n",
       " 'new',\n",
       " 'programming',\n",
       " 'card',\n",
       " 'souvenir',\n",
       " 'garden',\n",
       " 'vehicle',\n",
       " 'except',\n",
       " 'instruments',\n",
       " 'data',\n",
       " 'software',\n",
       " 'processing',\n",
       " 'manufacturers',\n",
       " 'other',\n",
       " 'art',\n",
       " 'radio',\n",
       " 'stock',\n",
       " 'leasing',\n",
       " 'paper',\n",
       " 'digital',\n",
       " 'supply',\n",
       " 'galleries',\n",
       " 'florists',\n",
       " 'furniture']"
      ]
     },
     "execution_count": 9,
     "metadata": {},
     "output_type": "execute_result"
    }
   ],
   "source": [
    "tags = preprocessed_tbl_merchant.rdd.map(lambda x: x[1]).collect()\n",
    "tags_unique = \" \".join(tags).split()\n",
    "tags_unique = list(set(tags_unique))\n",
    "print(len(tags_unique)) # not too many, can check some by hand, e.g. 'except' is the only word that has negative meaning\n",
    "tags_unique"
   ]
  },
  {
   "cell_type": "code",
   "execution_count": 10,
   "metadata": {},
   "outputs": [],
   "source": [
    "for i in range(len(tags)):\n",
    "    tags[i] = tags[i].split()\n",
    "    cur = [tags[i][0]]\n",
    "    for j in range(1, len(tags[i])):\n",
    "        if tags[i][j-1] != \"except\":\n",
    "            if tags[i][j] != \"and\" and tags[i][j] != \"except\" and tags[i][j] != \"other\" and tags[i][j] != \"shops\":\n",
    "                cur += [tags[i][j]]\n",
    "    tags[i] = cur\n",
    "# tags"
   ]
  },
  {
   "cell_type": "code",
   "execution_count": 11,
   "metadata": {},
   "outputs": [],
   "source": [
    "from pyspark.sql.types import *\n",
    "\n",
    "@udf(ArrayType(StringType()))\n",
    "def tokenise(tag):\n",
    "    tag = tag.split()\n",
    "    cur = [tag[0]]\n",
    "    for i in range(1, len(tag)):\n",
    "        if tag[i-1] != \"except\":\n",
    "            if tag[i] not in [\"and\", \"except\", \"other\", \"shops\"]:\n",
    "                cur += [tag[i]]\n",
    "    return cur"
   ]
  },
  {
   "cell_type": "code",
   "execution_count": 12,
   "metadata": {},
   "outputs": [
    {
     "name": "stderr",
     "output_type": "stream",
     "text": [
      "                                                                                \r"
     ]
    },
    {
     "data": {
      "text/html": [
       "<table border='1'>\n",
       "<tr><th>merchant_name</th><th>products</th><th>revenue_level</th><th>take_rate</th><th>merchant_abn</th><th>tag</th></tr>\n",
       "<tr><td>Felis Limited</td><td>furniture home fu...</td><td>e</td><td>0.18</td><td>10023283211</td><td>[furniture, home,...</td></tr>\n",
       "<tr><td>Arcu Ac Orci Corp...</td><td>cable satellite a...</td><td>b</td><td>4.22</td><td>10142254217</td><td>[cable, satellite...</td></tr>\n",
       "<tr><td>Nunc Sed Company</td><td>jewelry watch clo...</td><td>b</td><td>4.4</td><td>10165489824</td><td>[jewelry, watch, ...</td></tr>\n",
       "<tr><td>Ultricies Digniss...</td><td>watch clock and j...</td><td>b</td><td>3.29</td><td>10187291046</td><td>[watch, clock, je...</td></tr>\n",
       "<tr><td>Enim Condimentum PC</td><td>music shops music...</td><td>a</td><td>6.33</td><td>10192359162</td><td>[music, musical, ...</td></tr>\n",
       "<tr><td>Fusce Company</td><td>gift card novelty...</td><td>a</td><td>6.34</td><td>10206519221</td><td>[gift, card, nove...</td></tr>\n",
       "<tr><td>Aliquam Enim Inco...</td><td>computers compute...</td><td>b</td><td>4.32</td><td>10255988167</td><td>[computers, compu...</td></tr>\n",
       "<tr><td>Ipsum Primis Ltd</td><td>watch clock and j...</td><td>c</td><td>2.39</td><td>10264435225</td><td>[watch, clock, je...</td></tr>\n",
       "<tr><td>Pede Ultrices Ind...</td><td>computer programm...</td><td>a</td><td>5.71</td><td>10279061213</td><td>[computer, progra...</td></tr>\n",
       "<tr><td>Nunc Inc.</td><td>furniture home fu...</td><td>a</td><td>6.61</td><td>10323485998</td><td>[furniture, home,...</td></tr>\n",
       "<tr><td>Facilisis Facilis...</td><td>computers compute...</td><td>a</td><td>6.34</td><td>10342410215</td><td>[computers, compu...</td></tr>\n",
       "<tr><td>Odio Institute</td><td>equipment tool fu...</td><td>b</td><td>3.57</td><td>10346855916</td><td>[equipment, tool,...</td></tr>\n",
       "<tr><td>Rutrum Justo Ltd</td><td>music shops music...</td><td>b</td><td>3.63</td><td>10364012396</td><td>[music, musical, ...</td></tr>\n",
       "<tr><td>Tellus Foundation</td><td>artist supply and...</td><td>b</td><td>3.17</td><td>10385011947</td><td>[artist, supply, ...</td></tr>\n",
       "<tr><td>Sed Et Company</td><td>florists supplies...</td><td>a</td><td>6.61</td><td>10385163239</td><td>[florists, suppli...</td></tr>\n",
       "<tr><td>Id Ltd</td><td>computers compute...</td><td>a</td><td>5.54</td><td>10385250025</td><td>[computers, compu...</td></tr>\n",
       "<tr><td>Consequat Foundation</td><td>antique shops sal...</td><td>a</td><td>6.93</td><td>10404542215</td><td>[antique, sales, ...</td></tr>\n",
       "<tr><td>Sit Amet Nulla Corp.</td><td>motor vehicle sup...</td><td>b</td><td>4.97</td><td>10430380319</td><td>[motor, vehicle, ...</td></tr>\n",
       "<tr><td>Massa Vestibulum ...</td><td>motor vehicle sup...</td><td>a</td><td>5.77</td><td>10441711491</td><td>[motor, vehicle, ...</td></tr>\n",
       "<tr><td>Ut Consulting</td><td>gift card novelty...</td><td>c</td><td>2.95</td><td>10462560289</td><td>[gift, card, nove...</td></tr>\n",
       "</table>\n",
       "only showing top 20 rows\n"
      ],
      "text/plain": [
       "+--------------------+--------------------+-------------+---------+------------+--------------------+\n",
       "|       merchant_name|            products|revenue_level|take_rate|merchant_abn|                 tag|\n",
       "+--------------------+--------------------+-------------+---------+------------+--------------------+\n",
       "|       Felis Limited|furniture home fu...|            e|     0.18| 10023283211|[furniture, home,...|\n",
       "|Arcu Ac Orci Corp...|cable satellite a...|            b|     4.22| 10142254217|[cable, satellite...|\n",
       "|    Nunc Sed Company|jewelry watch clo...|            b|      4.4| 10165489824|[jewelry, watch, ...|\n",
       "|Ultricies Digniss...|watch clock and j...|            b|     3.29| 10187291046|[watch, clock, je...|\n",
       "| Enim Condimentum PC|music shops music...|            a|     6.33| 10192359162|[music, musical, ...|\n",
       "|       Fusce Company|gift card novelty...|            a|     6.34| 10206519221|[gift, card, nove...|\n",
       "|Aliquam Enim Inco...|computers compute...|            b|     4.32| 10255988167|[computers, compu...|\n",
       "|    Ipsum Primis Ltd|watch clock and j...|            c|     2.39| 10264435225|[watch, clock, je...|\n",
       "|Pede Ultrices Ind...|computer programm...|            a|     5.71| 10279061213|[computer, progra...|\n",
       "|           Nunc Inc.|furniture home fu...|            a|     6.61| 10323485998|[furniture, home,...|\n",
       "|Facilisis Facilis...|computers compute...|            a|     6.34| 10342410215|[computers, compu...|\n",
       "|      Odio Institute|equipment tool fu...|            b|     3.57| 10346855916|[equipment, tool,...|\n",
       "|    Rutrum Justo Ltd|music shops music...|            b|     3.63| 10364012396|[music, musical, ...|\n",
       "|   Tellus Foundation|artist supply and...|            b|     3.17| 10385011947|[artist, supply, ...|\n",
       "|      Sed Et Company|florists supplies...|            a|     6.61| 10385163239|[florists, suppli...|\n",
       "|              Id Ltd|computers compute...|            a|     5.54| 10385250025|[computers, compu...|\n",
       "|Consequat Foundation|antique shops sal...|            a|     6.93| 10404542215|[antique, sales, ...|\n",
       "|Sit Amet Nulla Corp.|motor vehicle sup...|            b|     4.97| 10430380319|[motor, vehicle, ...|\n",
       "|Massa Vestibulum ...|motor vehicle sup...|            a|     5.77| 10441711491|[motor, vehicle, ...|\n",
       "|       Ut Consulting|gift card novelty...|            c|     2.95| 10462560289|[gift, card, nove...|\n",
       "+--------------------+--------------------+-------------+---------+------------+--------------------+\n",
       "only showing top 20 rows"
      ]
     },
     "execution_count": 12,
     "metadata": {},
     "output_type": "execute_result"
    }
   ],
   "source": [
    "preprocessed_tbl_merchant_token = preprocessed_tbl_merchant.withColumn(\"tag\", tokenise(col(\"products\")))\n",
    "preprocessed_tbl_merchant_token"
   ]
  },
  {
   "cell_type": "code",
   "execution_count": 13,
   "metadata": {},
   "outputs": [
    {
     "data": {
      "text/html": [
       "<table border='1'>\n",
       "<tr><th>merchant_name</th><th>products</th><th>revenue_level</th><th>take_rate</th><th>merchant_abn</th><th>tag</th><th>features</th></tr>\n",
       "<tr><td>Felis Limited</td><td>furniture home fu...</td><td>e</td><td>0.18</td><td>10023283211</td><td>[furniture, home,...</td><td>(20,[3,5,6,12,13]...</td></tr>\n",
       "<tr><td>Arcu Ac Orci Corp...</td><td>cable satellite a...</td><td>b</td><td>4.22</td><td>10142254217</td><td>[cable, satellite...</td><td>(20,[6,7,13,16,17...</td></tr>\n",
       "<tr><td>Nunc Sed Company</td><td>jewelry watch clo...</td><td>b</td><td>4.4</td><td>10165489824</td><td>[jewelry, watch, ...</td><td>(20,[8,9,17,18],[...</td></tr>\n",
       "<tr><td>Ultricies Digniss...</td><td>watch clock and j...</td><td>b</td><td>3.29</td><td>10187291046</td><td>[watch, clock, je...</td><td>(20,[2,8,17,18],[...</td></tr>\n",
       "<tr><td>Enim Condimentum PC</td><td>music shops music...</td><td>a</td><td>6.33</td><td>10192359162</td><td>[music, musical, ...</td><td>(20,[3,5,6,10,18]...</td></tr>\n",
       "<tr><td>Fusce Company</td><td>gift card novelty...</td><td>a</td><td>6.34</td><td>10206519221</td><td>[gift, card, nove...</td><td>(20,[4,14,18],[1....</td></tr>\n",
       "<tr><td>Aliquam Enim Inco...</td><td>computers compute...</td><td>b</td><td>4.32</td><td>10255988167</td><td>[computers, compu...</td><td>(20,[3,4,6,11,13]...</td></tr>\n",
       "<tr><td>Ipsum Primis Ltd</td><td>watch clock and j...</td><td>c</td><td>2.39</td><td>10264435225</td><td>[watch, clock, je...</td><td>(20,[2,8,17,18],[...</td></tr>\n",
       "<tr><td>Pede Ultrices Ind...</td><td>computer programm...</td><td>a</td><td>5.71</td><td>10279061213</td><td>[computer, progra...</td><td>(20,[1,2,6,9,11,1...</td></tr>\n",
       "<tr><td>Nunc Inc.</td><td>furniture home fu...</td><td>a</td><td>6.61</td><td>10323485998</td><td>[furniture, home,...</td><td>(20,[3,5,6,12,13]...</td></tr>\n",
       "<tr><td>Facilisis Facilis...</td><td>computers compute...</td><td>a</td><td>6.34</td><td>10342410215</td><td>[computers, compu...</td><td>(20,[3,4,6,11,13]...</td></tr>\n",
       "<tr><td>Odio Institute</td><td>equipment tool fu...</td><td>b</td><td>3.57</td><td>10346855916</td><td>[equipment, tool,...</td><td>(20,[3,7,10,11,12...</td></tr>\n",
       "<tr><td>Rutrum Justo Ltd</td><td>music shops music...</td><td>b</td><td>3.63</td><td>10364012396</td><td>[music, musical, ...</td><td>(20,[3,5,6,10,18]...</td></tr>\n",
       "<tr><td>Tellus Foundation</td><td>artist supply and...</td><td>b</td><td>3.17</td><td>10385011947</td><td>[artist, supply, ...</td><td>(20,[11,16],[2.0,...</td></tr>\n",
       "<tr><td>Sed Et Company</td><td>florists supplies...</td><td>a</td><td>6.61</td><td>10385163239</td><td>[florists, suppli...</td><td>(20,[2,3,4,7,13],...</td></tr>\n",
       "<tr><td>Id Ltd</td><td>computers compute...</td><td>a</td><td>5.54</td><td>10385250025</td><td>[computers, compu...</td><td>(20,[3,4,6,11,13]...</td></tr>\n",
       "<tr><td>Consequat Foundation</td><td>antique shops sal...</td><td>a</td><td>6.93</td><td>10404542215</td><td>[antique, sales, ...</td><td>(20,[6,7,9,16],[1...</td></tr>\n",
       "<tr><td>Sit Amet Nulla Corp.</td><td>motor vehicle sup...</td><td>b</td><td>4.97</td><td>10430380319</td><td>[motor, vehicle, ...</td><td>(20,[3,5,14,17,18...</td></tr>\n",
       "<tr><td>Massa Vestibulum ...</td><td>motor vehicle sup...</td><td>a</td><td>5.77</td><td>10441711491</td><td>[motor, vehicle, ...</td><td>(20,[3,5,14,17,18...</td></tr>\n",
       "<tr><td>Ut Consulting</td><td>gift card novelty...</td><td>c</td><td>2.95</td><td>10462560289</td><td>[gift, card, nove...</td><td>(20,[4,14,18],[1....</td></tr>\n",
       "</table>\n",
       "only showing top 20 rows\n"
      ],
      "text/plain": [
       "+--------------------+--------------------+-------------+---------+------------+--------------------+--------------------+\n",
       "|       merchant_name|            products|revenue_level|take_rate|merchant_abn|                 tag|            features|\n",
       "+--------------------+--------------------+-------------+---------+------------+--------------------+--------------------+\n",
       "|       Felis Limited|furniture home fu...|            e|     0.18| 10023283211|[furniture, home,...|(20,[3,5,6,12,13]...|\n",
       "|Arcu Ac Orci Corp...|cable satellite a...|            b|     4.22| 10142254217|[cable, satellite...|(20,[6,7,13,16,17...|\n",
       "|    Nunc Sed Company|jewelry watch clo...|            b|      4.4| 10165489824|[jewelry, watch, ...|(20,[8,9,17,18],[...|\n",
       "|Ultricies Digniss...|watch clock and j...|            b|     3.29| 10187291046|[watch, clock, je...|(20,[2,8,17,18],[...|\n",
       "| Enim Condimentum PC|music shops music...|            a|     6.33| 10192359162|[music, musical, ...|(20,[3,5,6,10,18]...|\n",
       "|       Fusce Company|gift card novelty...|            a|     6.34| 10206519221|[gift, card, nove...|(20,[4,14,18],[1....|\n",
       "|Aliquam Enim Inco...|computers compute...|            b|     4.32| 10255988167|[computers, compu...|(20,[3,4,6,11,13]...|\n",
       "|    Ipsum Primis Ltd|watch clock and j...|            c|     2.39| 10264435225|[watch, clock, je...|(20,[2,8,17,18],[...|\n",
       "|Pede Ultrices Ind...|computer programm...|            a|     5.71| 10279061213|[computer, progra...|(20,[1,2,6,9,11,1...|\n",
       "|           Nunc Inc.|furniture home fu...|            a|     6.61| 10323485998|[furniture, home,...|(20,[3,5,6,12,13]...|\n",
       "|Facilisis Facilis...|computers compute...|            a|     6.34| 10342410215|[computers, compu...|(20,[3,4,6,11,13]...|\n",
       "|      Odio Institute|equipment tool fu...|            b|     3.57| 10346855916|[equipment, tool,...|(20,[3,7,10,11,12...|\n",
       "|    Rutrum Justo Ltd|music shops music...|            b|     3.63| 10364012396|[music, musical, ...|(20,[3,5,6,10,18]...|\n",
       "|   Tellus Foundation|artist supply and...|            b|     3.17| 10385011947|[artist, supply, ...|(20,[11,16],[2.0,...|\n",
       "|      Sed Et Company|florists supplies...|            a|     6.61| 10385163239|[florists, suppli...|(20,[2,3,4,7,13],...|\n",
       "|              Id Ltd|computers compute...|            a|     5.54| 10385250025|[computers, compu...|(20,[3,4,6,11,13]...|\n",
       "|Consequat Foundation|antique shops sal...|            a|     6.93| 10404542215|[antique, sales, ...|(20,[6,7,9,16],[1...|\n",
       "|Sit Amet Nulla Corp.|motor vehicle sup...|            b|     4.97| 10430380319|[motor, vehicle, ...|(20,[3,5,14,17,18...|\n",
       "|Massa Vestibulum ...|motor vehicle sup...|            a|     5.77| 10441711491|[motor, vehicle, ...|(20,[3,5,14,17,18...|\n",
       "|       Ut Consulting|gift card novelty...|            c|     2.95| 10462560289|[gift, card, nove...|(20,[4,14,18],[1....|\n",
       "+--------------------+--------------------+-------------+---------+------------+--------------------+--------------------+\n",
       "only showing top 20 rows"
      ]
     },
     "execution_count": 13,
     "metadata": {},
     "output_type": "execute_result"
    }
   ],
   "source": [
    "from pyspark.ml.feature import HashingTF, IDF, Tokenizer\n",
    "\n",
    "hashingTF = HashingTF(inputCol=\"tag\", outputCol=\"features\", numFeatures=20)\n",
    "preprocessed_tbl_merchant_bow = hashingTF.transform(preprocessed_tbl_merchant_token)\n",
    "preprocessed_tbl_merchant_bow"
   ]
  },
  {
   "cell_type": "code",
   "execution_count": 14,
   "metadata": {},
   "outputs": [
    {
     "name": "stderr",
     "output_type": "stream",
     "text": [
      "                                                                                \r"
     ]
    },
    {
     "data": {
      "text/html": [
       "<table border='1'>\n",
       "<tr><th>merchant_name</th><th>products</th><th>revenue_level</th><th>take_rate</th><th>merchant_abn</th><th>category</th></tr>\n",
       "<tr><td>Felis Limited</td><td>furniture home fu...</td><td>e</td><td>0.18</td><td>10023283211</td><td>0</td></tr>\n",
       "<tr><td>Arcu Ac Orci Corp...</td><td>cable satellite a...</td><td>b</td><td>4.22</td><td>10142254217</td><td>0</td></tr>\n",
       "<tr><td>Nunc Sed Company</td><td>jewelry watch clo...</td><td>b</td><td>4.4</td><td>10165489824</td><td>0</td></tr>\n",
       "<tr><td>Ultricies Digniss...</td><td>watch clock and j...</td><td>b</td><td>3.29</td><td>10187291046</td><td>0</td></tr>\n",
       "<tr><td>Enim Condimentum PC</td><td>music shops music...</td><td>a</td><td>6.33</td><td>10192359162</td><td>3</td></tr>\n",
       "<tr><td>Fusce Company</td><td>gift card novelty...</td><td>a</td><td>6.34</td><td>10206519221</td><td>1</td></tr>\n",
       "<tr><td>Aliquam Enim Inco...</td><td>computers compute...</td><td>b</td><td>4.32</td><td>10255988167</td><td>2</td></tr>\n",
       "<tr><td>Ipsum Primis Ltd</td><td>watch clock and j...</td><td>c</td><td>2.39</td><td>10264435225</td><td>0</td></tr>\n",
       "<tr><td>Pede Ultrices Ind...</td><td>computer programm...</td><td>a</td><td>5.71</td><td>10279061213</td><td>4</td></tr>\n",
       "<tr><td>Nunc Inc.</td><td>furniture home fu...</td><td>a</td><td>6.61</td><td>10323485998</td><td>0</td></tr>\n",
       "<tr><td>Facilisis Facilis...</td><td>computers compute...</td><td>a</td><td>6.34</td><td>10342410215</td><td>2</td></tr>\n",
       "<tr><td>Odio Institute</td><td>equipment tool fu...</td><td>b</td><td>3.57</td><td>10346855916</td><td>0</td></tr>\n",
       "<tr><td>Rutrum Justo Ltd</td><td>music shops music...</td><td>b</td><td>3.63</td><td>10364012396</td><td>3</td></tr>\n",
       "<tr><td>Tellus Foundation</td><td>artist supply and...</td><td>b</td><td>3.17</td><td>10385011947</td><td>0</td></tr>\n",
       "<tr><td>Sed Et Company</td><td>florists supplies...</td><td>a</td><td>6.61</td><td>10385163239</td><td>2</td></tr>\n",
       "<tr><td>Id Ltd</td><td>computers compute...</td><td>a</td><td>5.54</td><td>10385250025</td><td>2</td></tr>\n",
       "<tr><td>Consequat Foundation</td><td>antique shops sal...</td><td>a</td><td>6.93</td><td>10404542215</td><td>4</td></tr>\n",
       "<tr><td>Sit Amet Nulla Corp.</td><td>motor vehicle sup...</td><td>b</td><td>4.97</td><td>10430380319</td><td>0</td></tr>\n",
       "<tr><td>Massa Vestibulum ...</td><td>motor vehicle sup...</td><td>a</td><td>5.77</td><td>10441711491</td><td>0</td></tr>\n",
       "<tr><td>Ut Consulting</td><td>gift card novelty...</td><td>c</td><td>2.95</td><td>10462560289</td><td>1</td></tr>\n",
       "</table>\n",
       "only showing top 20 rows\n"
      ],
      "text/plain": [
       "+--------------------+--------------------+-------------+---------+------------+--------+\n",
       "|       merchant_name|            products|revenue_level|take_rate|merchant_abn|category|\n",
       "+--------------------+--------------------+-------------+---------+------------+--------+\n",
       "|       Felis Limited|furniture home fu...|            e|     0.18| 10023283211|       0|\n",
       "|Arcu Ac Orci Corp...|cable satellite a...|            b|     4.22| 10142254217|       0|\n",
       "|    Nunc Sed Company|jewelry watch clo...|            b|      4.4| 10165489824|       0|\n",
       "|Ultricies Digniss...|watch clock and j...|            b|     3.29| 10187291046|       0|\n",
       "| Enim Condimentum PC|music shops music...|            a|     6.33| 10192359162|       3|\n",
       "|       Fusce Company|gift card novelty...|            a|     6.34| 10206519221|       1|\n",
       "|Aliquam Enim Inco...|computers compute...|            b|     4.32| 10255988167|       2|\n",
       "|    Ipsum Primis Ltd|watch clock and j...|            c|     2.39| 10264435225|       0|\n",
       "|Pede Ultrices Ind...|computer programm...|            a|     5.71| 10279061213|       4|\n",
       "|           Nunc Inc.|furniture home fu...|            a|     6.61| 10323485998|       0|\n",
       "|Facilisis Facilis...|computers compute...|            a|     6.34| 10342410215|       2|\n",
       "|      Odio Institute|equipment tool fu...|            b|     3.57| 10346855916|       0|\n",
       "|    Rutrum Justo Ltd|music shops music...|            b|     3.63| 10364012396|       3|\n",
       "|   Tellus Foundation|artist supply and...|            b|     3.17| 10385011947|       0|\n",
       "|      Sed Et Company|florists supplies...|            a|     6.61| 10385163239|       2|\n",
       "|              Id Ltd|computers compute...|            a|     5.54| 10385250025|       2|\n",
       "|Consequat Foundation|antique shops sal...|            a|     6.93| 10404542215|       4|\n",
       "|Sit Amet Nulla Corp.|motor vehicle sup...|            b|     4.97| 10430380319|       0|\n",
       "|Massa Vestibulum ...|motor vehicle sup...|            a|     5.77| 10441711491|       0|\n",
       "|       Ut Consulting|gift card novelty...|            c|     2.95| 10462560289|       1|\n",
       "+--------------------+--------------------+-------------+---------+------------+--------+\n",
       "only showing top 20 rows"
      ]
     },
     "execution_count": 14,
     "metadata": {},
     "output_type": "execute_result"
    }
   ],
   "source": [
    "from pyspark.ml.clustering import KMeans\n",
    "\n",
    "kmeans = KMeans(k=5)\n",
    "model = kmeans.fit(preprocessed_tbl_merchant_bow.select(\"features\"))\n",
    "preprocessed_tbl_merchant_cat = model.transform(preprocessed_tbl_merchant_bow)\n",
    "preprocessed_tbl_merchant_cat = preprocessed_tbl_merchant_cat.select(\"merchant_name\", \"products\", \"revenue_level\", \"take_rate\", \"merchant_abn\", col(\"prediction\").alias(\"category\"))\n",
    "preprocessed_tbl_merchant_cat"
   ]
  },
  {
   "cell_type": "markdown",
   "metadata": {},
   "source": [
    "<h3>1.2 \"transactions_20210228_20210827_snapshot\"</h3>"
   ]
  },
  {
   "cell_type": "code",
   "execution_count": 15,
   "metadata": {},
   "outputs": [
    {
     "name": "stdout",
     "output_type": "stream",
     "text": [
      "+-------+------------+------------------+--------------------+--------------+\n",
      "|user_id|merchant_abn|      dollar_value|            order_id|order_datetime|\n",
      "+-------+------------+------------------+--------------------+--------------+\n",
      "|  18478| 62191208634|63.255848959735246|949a63c8-29f7-4ab...|    2021-08-20|\n",
      "|      2| 15549624934| 130.3505283105634|6a84c3cf-612a-457...|    2021-08-20|\n",
      "|  18479| 64403598239|120.15860593212783|b10dcc33-e53f-425...|    2021-08-20|\n",
      "|      3| 60956456424| 136.6785200286976|0f09c5a5-784e-447...|    2021-08-20|\n",
      "|  18479| 94493496784| 72.96316578355305|f6c78c1a-4600-4c5...|    2021-08-20|\n",
      "+-------+------------+------------------+--------------------+--------------+\n",
      "only showing top 5 rows\n",
      "\n"
     ]
    }
   ],
   "source": [
    "transact.show(5)"
   ]
  },
  {
   "cell_type": "code",
   "execution_count": 16,
   "metadata": {},
   "outputs": [],
   "source": [
    "# separate pickup datetime into date, year, month and day\n",
    "# preprocessed_transact = transact.withColumn('order_year', year(col('order_datetime')))\n",
    "# preprocessed_transact = preprocessed_transact.withColumn('order_month', month(col('order_datetime')))\n",
    "# preprocessed_transact = preprocessed_transact.withColumn('order_day', dayofmonth(col('order_datetime')))\n",
    "preprocessed_transact = transact.withColumnRenamed('merchant_abn', 'merchant_abn_repeat')"
   ]
  },
  {
   "cell_type": "code",
   "execution_count": 17,
   "metadata": {},
   "outputs": [
    {
     "name": "stdout",
     "output_type": "stream",
     "text": [
      "+-------+-------------------+------------------+--------------------+--------------+\n",
      "|user_id|merchant_abn_repeat|      dollar_value|            order_id|order_datetime|\n",
      "+-------+-------------------+------------------+--------------------+--------------+\n",
      "|  18478|        62191208634|63.255848959735246|949a63c8-29f7-4ab...|    2021-08-20|\n",
      "|      2|        15549624934| 130.3505283105634|6a84c3cf-612a-457...|    2021-08-20|\n",
      "|  18479|        64403598239|120.15860593212783|b10dcc33-e53f-425...|    2021-08-20|\n",
      "|      3|        60956456424| 136.6785200286976|0f09c5a5-784e-447...|    2021-08-20|\n",
      "|  18479|        94493496784| 72.96316578355305|f6c78c1a-4600-4c5...|    2021-08-20|\n",
      "+-------+-------------------+------------------+--------------------+--------------+\n",
      "only showing top 5 rows\n",
      "\n"
     ]
    }
   ],
   "source": [
    "preprocessed_transact.show(5)"
   ]
  },
  {
   "cell_type": "markdown",
   "metadata": {},
   "source": [
    "<h3>1.3 \"tbl_consumer.csv\"</h3>"
   ]
  },
  {
   "cell_type": "code",
   "execution_count": 18,
   "metadata": {},
   "outputs": [
    {
     "name": "stdout",
     "output_type": "stream",
     "text": [
      "+-----------------+--------------------+-----+--------+------+-----------+\n",
      "|             name|             address|state|postcode|gender|consumer_id|\n",
      "+-----------------+--------------------+-----+--------+------+-----------+\n",
      "| Yolanda Williams|413 Haney Gardens...|   WA|    6935|Female|    1195503|\n",
      "|       Mary Smith|     3764 Amber Oval|  NSW|    2782|Female|     179208|\n",
      "|    Jill Jones MD|  40693 Henry Greens|   NT|     862|Female|    1194530|\n",
      "|  Lindsay Jimenez|00653 Davenport C...|  NSW|    2780|Female|     154128|\n",
      "|Rebecca Blanchard|9271 Michael Mano...|   WA|    6355|Female|     712975|\n",
      "+-----------------+--------------------+-----+--------+------+-----------+\n",
      "only showing top 5 rows\n",
      "\n"
     ]
    }
   ],
   "source": [
    "tbl_consumer.show(5)"
   ]
  },
  {
   "cell_type": "code",
   "execution_count": 19,
   "metadata": {},
   "outputs": [],
   "source": [
    "preprocessed_tbl_consumer = tbl_consumer.withColumnRenamed(\"name\", \"consumer\")\n",
    "preprocessed_tbl_consumer = preprocessed_tbl_consumer.withColumnRenamed(\"address\", \"consumer_address\")\n",
    "preprocessed_tbl_consumer = preprocessed_tbl_consumer.withColumnRenamed(\"state\", \"consumer_state\")\n",
    "preprocessed_tbl_consumer = preprocessed_tbl_consumer.withColumnRenamed(\"postcode\", \"consumer_postcode\")\n",
    "preprocessed_tbl_consumer = preprocessed_tbl_consumer.withColumnRenamed(\"gender\", \"consumer_gender\")"
   ]
  },
  {
   "cell_type": "code",
   "execution_count": 20,
   "metadata": {},
   "outputs": [
    {
     "name": "stdout",
     "output_type": "stream",
     "text": [
      "+-----------------+--------------------+--------------+-----------------+---------------+-----------+\n",
      "|         consumer|    consumer_address|consumer_state|consumer_postcode|consumer_gender|consumer_id|\n",
      "+-----------------+--------------------+--------------+-----------------+---------------+-----------+\n",
      "| Yolanda Williams|413 Haney Gardens...|            WA|             6935|         Female|    1195503|\n",
      "|       Mary Smith|     3764 Amber Oval|           NSW|             2782|         Female|     179208|\n",
      "|    Jill Jones MD|  40693 Henry Greens|            NT|              862|         Female|    1194530|\n",
      "|  Lindsay Jimenez|00653 Davenport C...|           NSW|             2780|         Female|     154128|\n",
      "|Rebecca Blanchard|9271 Michael Mano...|            WA|             6355|         Female|     712975|\n",
      "+-----------------+--------------------+--------------+-----------------+---------------+-----------+\n",
      "only showing top 5 rows\n",
      "\n"
     ]
    }
   ],
   "source": [
    "preprocessed_tbl_consumer.show(5)"
   ]
  },
  {
   "cell_type": "markdown",
   "metadata": {},
   "source": [
    "<h3>1.4 \"consumer.parquet\"</h3>"
   ]
  },
  {
   "cell_type": "code",
   "execution_count": 21,
   "metadata": {},
   "outputs": [
    {
     "name": "stdout",
     "output_type": "stream",
     "text": [
      "+-------+-----------+\n",
      "|user_id|consumer_id|\n",
      "+-------+-----------+\n",
      "|      1|    1195503|\n",
      "|      2|     179208|\n",
      "|      3|    1194530|\n",
      "|      4|     154128|\n",
      "|      5|     712975|\n",
      "+-------+-----------+\n",
      "only showing top 5 rows\n",
      "\n"
     ]
    }
   ],
   "source": [
    "consumer.show(5)"
   ]
  },
  {
   "cell_type": "code",
   "execution_count": 22,
   "metadata": {},
   "outputs": [],
   "source": [
    "preprocessed_consumer = consumer.withColumnRenamed(\"user_id\", \"user_id_repeat\")\n",
    "preprocessed_consumer = preprocessed_consumer.withColumnRenamed(\"consumer_id\", \"consumer_id_repeat\")"
   ]
  },
  {
   "cell_type": "code",
   "execution_count": 23,
   "metadata": {},
   "outputs": [
    {
     "name": "stdout",
     "output_type": "stream",
     "text": [
      "+--------------+------------------+\n",
      "|user_id_repeat|consumer_id_repeat|\n",
      "+--------------+------------------+\n",
      "|             1|           1195503|\n",
      "|             2|            179208|\n",
      "|             3|           1194530|\n",
      "|             4|            154128|\n",
      "|             5|            712975|\n",
      "+--------------+------------------+\n",
      "only showing top 5 rows\n",
      "\n"
     ]
    }
   ],
   "source": [
    "preprocessed_consumer.show(5)"
   ]
  },
  {
   "cell_type": "markdown",
   "metadata": {},
   "source": [
    "<h2>2. Join tables</h2>"
   ]
  },
  {
   "cell_type": "code",
   "execution_count": 36,
   "metadata": {},
   "outputs": [
    {
     "name": "stderr",
     "output_type": "stream",
     "text": [
      "[Stage 295:=======================================>               (18 + 4) / 25]\r"
     ]
    },
    {
     "name": "stdout",
     "output_type": "stream",
     "text": [
      "Mismatched (null) transactions dropped: 580830\n"
     ]
    },
    {
     "name": "stderr",
     "output_type": "stream",
     "text": [
      "                                                                                \r"
     ]
    }
   ],
   "source": [
    "preprocessed_tbl_merchant_cat.createOrReplaceTempView('merchant')\n",
    "preprocessed_transact.createOrReplaceTempView('transact')\n",
    "preprocessed_tbl_consumer.createOrReplaceTempView('tbl_consumer')\n",
    "preprocessed_consumer.createOrReplaceTempView('consumer')\n",
    "\n",
    "join = spark.sql(\"\"\"\n",
    "SELECT \n",
    "    *\n",
    "FROM \n",
    "    merchant\n",
    "INNER JOIN\n",
    "    transact\n",
    "ON \n",
    "    transact.merchant_abn_repeat = merchant.merchant_abn\n",
    "INNER JOIN\n",
    "    consumer\n",
    "ON\n",
    "    transact.user_id = consumer.user_id_repeat\n",
    "INNER JOIN\n",
    "    tbl_consumer\n",
    "ON \n",
    "    consumer.consumer_id_repeat = tbl_consumer.consumer_id\n",
    "ORDER BY\n",
    "    revenue_level DESC\n",
    "\"\"\")\n",
    "\n",
    "join = join.drop(\"merchant_abn_repeat\", \"consumer_id_repeat\", \"user_id_repeat\", \"merchant_abn\", \"consumer_id\", \"order_id\")\n",
    "print(f\"Mismatched (null) transactions dropped: {preprocessed_transact.count() - join.count()}\")"
   ]
  },
  {
   "cell_type": "code",
   "execution_count": 37,
   "metadata": {},
   "outputs": [
    {
     "name": "stderr",
     "output_type": "stream",
     "text": [
      "                                                                                \r"
     ]
    },
    {
     "data": {
      "text/html": [
       "<table border='1'>\n",
       "<tr><th>merchant_name</th><th>products</th><th>revenue_level</th><th>take_rate</th><th>category</th><th>user_id</th><th>dollar_value</th><th>order_datetime</th><th>consumer</th><th>consumer_address</th><th>consumer_state</th><th>consumer_postcode</th><th>consumer_gender</th></tr>\n",
       "<tr><td>Augue Eu Tempor A...</td><td>cable satellite a...</td><td>e</td><td>0.38</td><td>0</td><td>9460</td><td>46.65691800037062</td><td>2021-10-20</td><td>Carrie Mcguire</td><td>418 Shields Alley...</td><td>WA</td><td>6572</td><td>Female</td></tr>\n",
       "<tr><td>Metus Sit Amet In...</td><td>cable satellite a...</td><td>e</td><td>0.38</td><td>0</td><td>8865</td><td>29.961454395276977</td><td>2021-07-09</td><td>Ricky Henry</td><td>982 Patrick Flats</td><td>QLD</td><td>4515</td><td>Male</td></tr>\n",
       "<tr><td>Augue Eu Tempor A...</td><td>cable satellite a...</td><td>e</td><td>0.38</td><td>0</td><td>17114</td><td>32.38583077052173</td><td>2021-05-14</td><td>Pamela Parker</td><td>93935 Claudia Ove...</td><td>VIC</td><td>3420</td><td>Female</td></tr>\n",
       "<tr><td>Dis Parturient Co...</td><td>gift card novelty...</td><td>e</td><td>0.24</td><td>1</td><td>21422</td><td>165.5520999710788</td><td>2022-09-20</td><td>Joseph Smith</td><td>620 Gardner Divide</td><td>VIC</td><td>3958</td><td>Male</td></tr>\n",
       "<tr><td>Non Lobortis Corp...</td><td>computer programm...</td><td>e</td><td>0.36</td><td>4</td><td>17114</td><td>108.35386326892124</td><td>2021-04-21</td><td>Pamela Parker</td><td>93935 Claudia Ove...</td><td>VIC</td><td>3420</td><td>Female</td></tr>\n",
       "<tr><td>Nunc Est LLP</td><td>watch clock and j...</td><td>e</td><td>0.22</td><td>0</td><td>4396</td><td>119.10880470862027</td><td>2021-03-27</td><td>Lucas Payne</td><td>2153 Bell Club Ap...</td><td>NSW</td><td>1236</td><td>Male</td></tr>\n",
       "<tr><td>Felis Limited</td><td>furniture home fu...</td><td>e</td><td>0.18</td><td>0</td><td>17114</td><td>235.95016198511814</td><td>2021-04-11</td><td>Pamela Parker</td><td>93935 Claudia Ove...</td><td>VIC</td><td>3420</td><td>Female</td></tr>\n",
       "<tr><td>Metus Sit Amet In...</td><td>cable satellite a...</td><td>e</td><td>0.38</td><td>0</td><td>4396</td><td>68.5834757881405</td><td>2022-09-11</td><td>Lucas Payne</td><td>2153 Bell Club Ap...</td><td>NSW</td><td>1236</td><td>Male</td></tr>\n",
       "<tr><td>Nunc Est LLP</td><td>watch clock and j...</td><td>e</td><td>0.22</td><td>0</td><td>17114</td><td>43.16144307361286</td><td>2022-09-03</td><td>Pamela Parker</td><td>93935 Claudia Ove...</td><td>VIC</td><td>3420</td><td>Female</td></tr>\n",
       "<tr><td>Et Nunc Consulting</td><td>books periodicals...</td><td>e</td><td>0.16</td><td>0</td><td>9460</td><td>47.692738168026644</td><td>2021-05-22</td><td>Carrie Mcguire</td><td>418 Shields Alley...</td><td>WA</td><td>6572</td><td>Female</td></tr>\n",
       "<tr><td>Massa Suspendisse...</td><td>art dealers and g...</td><td>e</td><td>0.4</td><td>0</td><td>17114</td><td>4498.748329034502</td><td>2022-04-26</td><td>Pamela Parker</td><td>93935 Claudia Ove...</td><td>VIC</td><td>3420</td><td>Female</td></tr>\n",
       "<tr><td>Lacus Mauris Asso...</td><td>shoe shops</td><td>e</td><td>0.48</td><td>0</td><td>22040</td><td>381.09874303152606</td><td>2021-06-20</td><td>Janice Payne</td><td>397 Dudley Cliff ...</td><td>WA</td><td>6514</td><td>Female</td></tr>\n",
       "<tr><td>Et Nunc Consulting</td><td>books periodicals...</td><td>e</td><td>0.16</td><td>0</td><td>22040</td><td>189.21922669721005</td><td>2021-05-19</td><td>Janice Payne</td><td>397 Dudley Cliff ...</td><td>WA</td><td>6514</td><td>Female</td></tr>\n",
       "<tr><td>Eros Industries</td><td>computer programm...</td><td>e</td><td>0.41</td><td>4</td><td>21422</td><td>408.7639609983193</td><td>2022-10-15</td><td>Joseph Smith</td><td>620 Gardner Divide</td><td>VIC</td><td>3958</td><td>Male</td></tr>\n",
       "<tr><td>Lacus Mauris Asso...</td><td>shoe shops</td><td>e</td><td>0.48</td><td>0</td><td>22040</td><td>306.2836044736155</td><td>2021-06-07</td><td>Janice Payne</td><td>397 Dudley Cliff ...</td><td>WA</td><td>6514</td><td>Female</td></tr>\n",
       "<tr><td>Et Nunc Consulting</td><td>books periodicals...</td><td>e</td><td>0.16</td><td>0</td><td>4396</td><td>167.87528233397012</td><td>2022-10-15</td><td>Lucas Payne</td><td>2153 Bell Club Ap...</td><td>NSW</td><td>1236</td><td>Male</td></tr>\n",
       "<tr><td>Et Nunc Consulting</td><td>books periodicals...</td><td>e</td><td>0.16</td><td>0</td><td>22040</td><td>756.9627386621075</td><td>2021-05-03</td><td>Janice Payne</td><td>397 Dudley Cliff ...</td><td>WA</td><td>6514</td><td>Female</td></tr>\n",
       "<tr><td>Augue Eu Tempor A...</td><td>cable satellite a...</td><td>e</td><td>0.38</td><td>0</td><td>9460</td><td>66.38842815972941</td><td>2021-05-23</td><td>Carrie Mcguire</td><td>418 Shields Alley...</td><td>WA</td><td>6572</td><td>Female</td></tr>\n",
       "<tr><td>Nunc Est LLP</td><td>watch clock and j...</td><td>e</td><td>0.22</td><td>0</td><td>22040</td><td>33.48513906817208</td><td>2022-09-23</td><td>Janice Payne</td><td>397 Dudley Cliff ...</td><td>WA</td><td>6514</td><td>Female</td></tr>\n",
       "<tr><td>Et Nunc Consulting</td><td>books periodicals...</td><td>e</td><td>0.16</td><td>0</td><td>19621</td><td>19.078139995358068</td><td>2021-08-27</td><td>Katherine Warren</td><td>66643 Chambers Me...</td><td>WA</td><td>6152</td><td>Undisclosed</td></tr>\n",
       "</table>\n",
       "only showing top 20 rows\n"
      ],
      "text/plain": [
       "+--------------------+--------------------+-------------+---------+--------+-------+------------------+--------------+----------------+--------------------+--------------+-----------------+---------------+\n",
       "|       merchant_name|            products|revenue_level|take_rate|category|user_id|      dollar_value|order_datetime|        consumer|    consumer_address|consumer_state|consumer_postcode|consumer_gender|\n",
       "+--------------------+--------------------+-------------+---------+--------+-------+------------------+--------------+----------------+--------------------+--------------+-----------------+---------------+\n",
       "|Augue Eu Tempor A...|cable satellite a...|            e|     0.38|       0|   9460| 46.65691800037062|    2021-10-20|  Carrie Mcguire|418 Shields Alley...|            WA|             6572|         Female|\n",
       "|Metus Sit Amet In...|cable satellite a...|            e|     0.38|       0|   8865|29.961454395276977|    2021-07-09|     Ricky Henry|   982 Patrick Flats|           QLD|             4515|           Male|\n",
       "|Augue Eu Tempor A...|cable satellite a...|            e|     0.38|       0|  17114| 32.38583077052173|    2021-05-14|   Pamela Parker|93935 Claudia Ove...|           VIC|             3420|         Female|\n",
       "|Dis Parturient Co...|gift card novelty...|            e|     0.24|       1|  21422| 165.5520999710788|    2022-09-20|    Joseph Smith|  620 Gardner Divide|           VIC|             3958|           Male|\n",
       "|Non Lobortis Corp...|computer programm...|            e|     0.36|       4|  17114|108.35386326892124|    2021-04-21|   Pamela Parker|93935 Claudia Ove...|           VIC|             3420|         Female|\n",
       "|        Nunc Est LLP|watch clock and j...|            e|     0.22|       0|   4396|119.10880470862027|    2021-03-27|     Lucas Payne|2153 Bell Club Ap...|           NSW|             1236|           Male|\n",
       "|       Felis Limited|furniture home fu...|            e|     0.18|       0|  17114|235.95016198511814|    2021-04-11|   Pamela Parker|93935 Claudia Ove...|           VIC|             3420|         Female|\n",
       "|Metus Sit Amet In...|cable satellite a...|            e|     0.38|       0|   4396|  68.5834757881405|    2022-09-11|     Lucas Payne|2153 Bell Club Ap...|           NSW|             1236|           Male|\n",
       "|        Nunc Est LLP|watch clock and j...|            e|     0.22|       0|  17114| 43.16144307361286|    2022-09-03|   Pamela Parker|93935 Claudia Ove...|           VIC|             3420|         Female|\n",
       "|  Et Nunc Consulting|books periodicals...|            e|     0.16|       0|   9460|47.692738168026644|    2021-05-22|  Carrie Mcguire|418 Shields Alley...|            WA|             6572|         Female|\n",
       "|Massa Suspendisse...|art dealers and g...|            e|      0.4|       0|  17114| 4498.748329034502|    2022-04-26|   Pamela Parker|93935 Claudia Ove...|           VIC|             3420|         Female|\n",
       "|Lacus Mauris Asso...|          shoe shops|            e|     0.48|       0|  22040|381.09874303152606|    2021-06-20|    Janice Payne|397 Dudley Cliff ...|            WA|             6514|         Female|\n",
       "|  Et Nunc Consulting|books periodicals...|            e|     0.16|       0|  22040|189.21922669721005|    2021-05-19|    Janice Payne|397 Dudley Cliff ...|            WA|             6514|         Female|\n",
       "|     Eros Industries|computer programm...|            e|     0.41|       4|  21422| 408.7639609983193|    2022-10-15|    Joseph Smith|  620 Gardner Divide|           VIC|             3958|           Male|\n",
       "|Lacus Mauris Asso...|          shoe shops|            e|     0.48|       0|  22040| 306.2836044736155|    2021-06-07|    Janice Payne|397 Dudley Cliff ...|            WA|             6514|         Female|\n",
       "|  Et Nunc Consulting|books periodicals...|            e|     0.16|       0|   4396|167.87528233397012|    2022-10-15|     Lucas Payne|2153 Bell Club Ap...|           NSW|             1236|           Male|\n",
       "|  Et Nunc Consulting|books periodicals...|            e|     0.16|       0|  22040| 756.9627386621075|    2021-05-03|    Janice Payne|397 Dudley Cliff ...|            WA|             6514|         Female|\n",
       "|Augue Eu Tempor A...|cable satellite a...|            e|     0.38|       0|   9460| 66.38842815972941|    2021-05-23|  Carrie Mcguire|418 Shields Alley...|            WA|             6572|         Female|\n",
       "|        Nunc Est LLP|watch clock and j...|            e|     0.22|       0|  22040| 33.48513906817208|    2022-09-23|    Janice Payne|397 Dudley Cliff ...|            WA|             6514|         Female|\n",
       "|  Et Nunc Consulting|books periodicals...|            e|     0.16|       0|  19621|19.078139995358068|    2021-08-27|Katherine Warren|66643 Chambers Me...|            WA|             6152|    Undisclosed|\n",
       "+--------------------+--------------------+-------------+---------+--------+-------+------------------+--------------+----------------+--------------------+--------------+-----------------+---------------+\n",
       "only showing top 20 rows"
      ]
     },
     "execution_count": 37,
     "metadata": {},
     "output_type": "execute_result"
    }
   ],
   "source": [
    "join"
   ]
  },
  {
   "cell_type": "code",
   "execution_count": 47,
   "metadata": {},
   "outputs": [
    {
     "name": "stderr",
     "output_type": "stream",
     "text": [
      "                                                                                \r"
     ]
    }
   ],
   "source": [
    "join.write.parquet(\"../data/curated/raw_join_internal_table\")"
   ]
  },
  {
   "cell_type": "markdown",
   "metadata": {},
   "source": [
    "<h2>3. Outlier removal</h2>"
   ]
  },
  {
   "cell_type": "markdown",
   "metadata": {},
   "source": [
    "<h3>3.1 Get distribution for each revenue level</h3>"
   ]
  },
  {
   "cell_type": "code",
   "execution_count": 38,
   "metadata": {},
   "outputs": [
    {
     "name": "stderr",
     "output_type": "stream",
     "text": [
      "                                                                                \r"
     ]
    },
    {
     "data": {
      "text/plain": [
       "<AxesSubplot:xlabel='dollar_value', ylabel='revenue_level'>"
      ]
     },
     "execution_count": 38,
     "metadata": {},
     "output_type": "execute_result"
    },
    {
     "data": {
      "image/png": "[encoded data removed]",
      "text/plain": [
       "<Figure size 432x288 with 1 Axes>"
      ]
     },
     "metadata": {
      "needs_background": "light"
     },
     "output_type": "display_data"
    }
   ],
   "source": [
    "import seaborn as sns\n",
    "sns.violinplot(data=join.sample(False, 0.1).toPandas(), x=\"dollar_value\", y=\"revenue_level\")"
   ]
  },
  {
   "cell_type": "code",
   "execution_count": 39,
   "metadata": {},
   "outputs": [
    {
     "name": "stderr",
     "output_type": "stream",
     "text": [
      "                                                                                \r"
     ]
    },
    {
     "data": {
      "text/plain": [
       "<AxesSubplot:xlabel='dollar_value', ylabel='revenue_level'>"
      ]
     },
     "execution_count": 39,
     "metadata": {},
     "output_type": "execute_result"
    },
    {
     "data": {
      "image/png": "[encoded data removed]",
      "text/plain": [
       "<Figure size 432x288 with 1 Axes>"
      ]
     },
     "metadata": {
      "needs_background": "light"
     },
     "output_type": "display_data"
    }
   ],
   "source": [
    "sns.boxplot(data=join.sample(False, 0.1).toPandas(), x=\"dollar_value\", y=\"revenue_level\")"
   ]
  },
  {
   "cell_type": "markdown",
   "metadata": {},
   "source": [
    "<h4>3.1.1 Remove outliers based on standard deviation</h4>"
   ]
  },
  {
   "cell_type": "code",
   "execution_count": 40,
   "metadata": {},
   "outputs": [
    {
     "name": "stderr",
     "output_type": "stream",
     "text": [
      "                                                                                \r"
     ]
    },
    {
     "data": {
      "text/html": [
       "<table border='1'>\n",
       "<tr><th>revenue_level</th><th>dollar_value_std</th><th>dollar_value_mean</th></tr>\n",
       "<tr><td>e</td><td>399.0613152439408</td><td>205.8121276388132</td></tr>\n",
       "<tr><td>d</td><td>681.0178374382781</td><td>272.26155837560833</td></tr>\n",
       "<tr><td>c</td><td>434.4194205501614</td><td>136.49983808642475</td></tr>\n",
       "<tr><td>b</td><td>594.2473799043438</td><td>197.1016706119255</td></tr>\n",
       "<tr><td>a</td><td>360.36435354274346</td><td>142.08113719400276</td></tr>\n",
       "</table>\n"
      ],
      "text/plain": [
       "+-------------+------------------+------------------+\n",
       "|revenue_level|  dollar_value_std| dollar_value_mean|\n",
       "+-------------+------------------+------------------+\n",
       "|            e| 399.0613152439408| 205.8121276388132|\n",
       "|            d| 681.0178374382781|272.26155837560833|\n",
       "|            c| 434.4194205501614|136.49983808642475|\n",
       "|            b| 594.2473799043438| 197.1016706119255|\n",
       "|            a|360.36435354274346|142.08113719400276|\n",
       "+-------------+------------------+------------------+"
      ]
     },
     "execution_count": 40,
     "metadata": {},
     "output_type": "execute_result"
    }
   ],
   "source": [
    "rev_std = (join.groupBy(\"revenue_level\").agg(stddev_pop(\"dollar_value\").alias(\"dollar_value_std\"),\n",
    "                                             avg(\"dollar_value\").alias(\"dollar_value_mean\")))\n",
    "rev_std"
   ]
  },
  {
   "cell_type": "code",
   "execution_count": 41,
   "metadata": {},
   "outputs": [
    {
     "name": "stderr",
     "output_type": "stream",
     "text": [
      "[Stage 371:==============>                                          (1 + 3) / 4]\r"
     ]
    },
    {
     "name": "stdout",
     "output_type": "stream",
     "text": [
      "22/09/19 01:07:20 WARN RowBasedKeyValueBatch: Calling spill() on RowBasedKeyValueBatch. Will not spill but return 0.\n"
     ]
    },
    {
     "name": "stderr",
     "output_type": "stream",
     "text": [
      "[Stage 375:==========================================>              (3 + 1) / 4]\r"
     ]
    },
    {
     "name": "stdout",
     "output_type": "stream",
     "text": [
      "Outliers based on revenue band removed: 136394\n"
     ]
    },
    {
     "name": "stderr",
     "output_type": "stream",
     "text": [
      "                                                                                \r"
     ]
    }
   ],
   "source": [
    "total = join.count()\n",
    "rev_sdf = (join.join(rev_std, \"revenue_level\", \"left\")\n",
    "               .filter(abs(col(\"dollar_value\") - col(\"dollar_value_mean\")) <= 3 * col(\"dollar_value_std\"))\n",
    "               .drop(\"dollar_value_mean\")\n",
    "               .drop(\"dollar_value_std\"))\n",
    "print(f\"Outliers based on revenue band removed: {total - rev_sdf.count()}\")"
   ]
  },
  {
   "cell_type": "markdown",
   "metadata": {},
   "source": [
    "<h4>3.1.2 Check distribution</h4>"
   ]
  },
  {
   "cell_type": "code",
   "execution_count": 42,
   "metadata": {},
   "outputs": [
    {
     "name": "stderr",
     "output_type": "stream",
     "text": [
      "                                                                                \r"
     ]
    },
    {
     "data": {
      "text/plain": [
       "<AxesSubplot:xlabel='dollar_value', ylabel='revenue_level'>"
      ]
     },
     "execution_count": 42,
     "metadata": {},
     "output_type": "execute_result"
    },
    {
     "data": {
      "image/png": "[encoded data removed]",
      "text/plain": [
       "<Figure size 432x288 with 1 Axes>"
      ]
     },
     "metadata": {
      "needs_background": "light"
     },
     "output_type": "display_data"
    }
   ],
   "source": [
    "sns.violinplot(data=rev_sdf.sample(False, 0.1).toPandas(), x=\"dollar_value\", y=\"revenue_level\")"
   ]
  },
  {
   "cell_type": "code",
   "execution_count": 43,
   "metadata": {},
   "outputs": [
    {
     "name": "stderr",
     "output_type": "stream",
     "text": [
      "                                                                                \r"
     ]
    },
    {
     "data": {
      "text/plain": [
       "<AxesSubplot:xlabel='dollar_value', ylabel='revenue_level'>"
      ]
     },
     "execution_count": 43,
     "metadata": {},
     "output_type": "execute_result"
    },
    {
     "data": {
      "image/png": "[encoded data removed]",
      "text/plain": [
       "<Figure size 432x288 with 1 Axes>"
      ]
     },
     "metadata": {
      "needs_background": "light"
     },
     "output_type": "display_data"
    }
   ],
   "source": [
    "sns.boxplot(data=rev_sdf.sample(False, 0.1).toPandas(), x=\"dollar_value\", y=\"revenue_level\")"
   ]
  },
  {
   "cell_type": "markdown",
   "metadata": {},
   "source": [
    "<h3>3.2 Get distribution of each merchant</h3>"
   ]
  },
  {
   "cell_type": "code",
   "execution_count": 44,
   "metadata": {},
   "outputs": [
    {
     "name": "stderr",
     "output_type": "stream",
     "text": [
      "[Stage 427:==============>                                          (1 + 3) / 4]\r"
     ]
    },
    {
     "name": "stdout",
     "output_type": "stream",
     "text": [
      "22/09/19 01:10:27 WARN RowBasedKeyValueBatch: Calling spill() on RowBasedKeyValueBatch. Will not spill but return 0.\n"
     ]
    },
    {
     "name": "stderr",
     "output_type": "stream",
     "text": [
      "[Stage 431:==============>                                          (1 + 3) / 4]\r"
     ]
    },
    {
     "name": "stdout",
     "output_type": "stream",
     "text": [
      "22/09/19 01:10:36 WARN RowBasedKeyValueBatch: Calling spill() on RowBasedKeyValueBatch. Will not spill but return 0.\n"
     ]
    },
    {
     "name": "stderr",
     "output_type": "stream",
     "text": [
      "[Stage 445:==============>                                          (1 + 3) / 4]\r"
     ]
    },
    {
     "name": "stdout",
     "output_type": "stream",
     "text": [
      "22/09/19 01:10:59 WARN RowBasedKeyValueBatch: Calling spill() on RowBasedKeyValueBatch. Will not spill but return 0.\n"
     ]
    },
    {
     "name": "stderr",
     "output_type": "stream",
     "text": [
      "[Stage 449:==============>                                          (1 + 3) / 4]\r"
     ]
    },
    {
     "name": "stdout",
     "output_type": "stream",
     "text": [
      "22/09/19 01:11:04 WARN RowBasedKeyValueBatch: Calling spill() on RowBasedKeyValueBatch. Will not spill but return 0.\n"
     ]
    },
    {
     "name": "stderr",
     "output_type": "stream",
     "text": [
      "                                                                                \r"
     ]
    },
    {
     "data": {
      "text/html": [
       "<table border='1'>\n",
       "<tr><th>merchant_name</th><th>dollar_value_std</th><th>dollar_value_mean</th></tr>\n",
       "<tr><td>Donec Luctus Indu...</td><td>130.5565015716507</td><td>343.7164090501804</td></tr>\n",
       "<tr><td>Elit Company</td><td>122.96176805496256</td><td>171.59405507134576</td></tr>\n",
       "<tr><td>Aliquet Odio Ltd</td><td>525.5999084080495</td><td>989.9594869027516</td></tr>\n",
       "<tr><td>Et Pede Inc.</td><td>354.5044546463389</td><td>718.4388984070839</td></tr>\n",
       "<tr><td>Commodo Auctor Ve...</td><td>51.08175002355147</td><td>54.94036664642259</td></tr>\n",
       "<tr><td>Hendrerit Consect...</td><td>323.0055122458617</td><td>328.12859457680736</td></tr>\n",
       "<tr><td>Libero Nec Ligula...</td><td>287.0373760898241</td><td>708.8891167985263</td></tr>\n",
       "<tr><td>Montes Nascetur Ltd</td><td>190.52722125221516</td><td>351.7849409696694</td></tr>\n",
       "<tr><td>Ut Nisi Limited</td><td>552.0367734312347</td><td>648.2357732269966</td></tr>\n",
       "<tr><td>Enim Etiam Institute</td><td>349.0376849678728</td><td>734.5491579179835</td></tr>\n",
       "<tr><td>Ultricies Digniss...</td><td>316.8424844599642</td><td>499.67957332690776</td></tr>\n",
       "<tr><td>At Arcu Vestibulu...</td><td>353.11718058943734</td><td>501.0047480984614</td></tr>\n",
       "<tr><td>Nulla Ltd</td><td>0.0</td><td>2279.6704744249646</td></tr>\n",
       "<tr><td>Ut Semper Corpora...</td><td>558.0868238500974</td><td>1401.829055702925</td></tr>\n",
       "<tr><td>Magna Sed Institute</td><td>55.1556266099182</td><td>79.0305598400721</td></tr>\n",
       "<tr><td>Consequat Corp.</td><td>184.4924209547007</td><td>334.0148073124429</td></tr>\n",
       "<tr><td>Ipsum Curabitur LLP</td><td>161.5262113202108</td><td>251.76764818404985</td></tr>\n",
       "<tr><td>Euismod Est Assoc...</td><td>501.4263524706528</td><td>661.7620204476311</td></tr>\n",
       "<tr><td>Ac Fermentum Asso...</td><td>203.0337667359751</td><td>225.77818137201547</td></tr>\n",
       "<tr><td>Orci Ut Institute</td><td>282.5589204661241</td><td>1094.0894090997315</td></tr>\n",
       "</table>\n",
       "only showing top 20 rows\n"
      ],
      "text/plain": [
       "+--------------------+------------------+------------------+\n",
       "|       merchant_name|  dollar_value_std| dollar_value_mean|\n",
       "+--------------------+------------------+------------------+\n",
       "|Donec Luctus Indu...| 130.5565015716507| 343.7164090501804|\n",
       "|        Elit Company|122.96176805496256|171.59405507134576|\n",
       "|    Aliquet Odio Ltd| 525.5999084080495| 989.9594869027516|\n",
       "|        Et Pede Inc.| 354.5044546463389| 718.4388984070839|\n",
       "|Commodo Auctor Ve...| 51.08175002355147| 54.94036664642259|\n",
       "|Hendrerit Consect...| 323.0055122458617|328.12859457680736|\n",
       "|Libero Nec Ligula...| 287.0373760898241| 708.8891167985263|\n",
       "| Montes Nascetur Ltd|190.52722125221516| 351.7849409696694|\n",
       "|     Ut Nisi Limited| 552.0367734312347| 648.2357732269966|\n",
       "|Enim Etiam Institute| 349.0376849678728| 734.5491579179835|\n",
       "|Ultricies Digniss...| 316.8424844599642|499.67957332690776|\n",
       "|At Arcu Vestibulu...|353.11718058943734| 501.0047480984614|\n",
       "|           Nulla Ltd|               0.0|2279.6704744249646|\n",
       "|Ut Semper Corpora...| 558.0868238500974| 1401.829055702925|\n",
       "| Magna Sed Institute|  55.1556266099182|  79.0305598400721|\n",
       "|     Consequat Corp.| 184.4924209547007| 334.0148073124429|\n",
       "| Ipsum Curabitur LLP| 161.5262113202108|251.76764818404985|\n",
       "|Euismod Est Assoc...| 501.4263524706528| 661.7620204476311|\n",
       "|Ac Fermentum Asso...| 203.0337667359751|225.77818137201547|\n",
       "|   Orci Ut Institute| 282.5589204661241|1094.0894090997315|\n",
       "+--------------------+------------------+------------------+\n",
       "only showing top 20 rows"
      ]
     },
     "execution_count": 44,
     "metadata": {},
     "output_type": "execute_result"
    }
   ],
   "source": [
    "merch_std = (rev_sdf.groupBy(\"merchant_name\").agg(stddev_pop(\"dollar_value\").alias(\"dollar_value_std\"),\n",
    "                                                  avg(\"dollar_value\").alias(\"dollar_value_mean\")))\n",
    "merch_std"
   ]
  },
  {
   "cell_type": "code",
   "execution_count": 45,
   "metadata": {},
   "outputs": [
    {
     "name": "stderr",
     "output_type": "stream",
     "text": [
      "[Stage 462:==============>                                          (1 + 3) / 4]\r"
     ]
    },
    {
     "name": "stdout",
     "output_type": "stream",
     "text": [
      "22/09/19 01:11:25 WARN RowBasedKeyValueBatch: Calling spill() on RowBasedKeyValueBatch. Will not spill but return 0.\n"
     ]
    },
    {
     "name": "stderr",
     "output_type": "stream",
     "text": [
      "[Stage 480:====>            (1 + 3) / 4][Stage 481:=====>           (2 + 1) / 6]\r"
     ]
    },
    {
     "name": "stdout",
     "output_type": "stream",
     "text": [
      "22/09/19 01:11:50 WARN RowBasedKeyValueBatch: Calling spill() on RowBasedKeyValueBatch. Will not spill but return 0.\n"
     ]
    },
    {
     "name": "stderr",
     "output_type": "stream",
     "text": [
      "[Stage 484:============>    (3 + 1) / 4][Stage 486:========>        (2 + 2) / 4]\r"
     ]
    },
    {
     "name": "stdout",
     "output_type": "stream",
     "text": [
      "22/09/19 01:12:05 WARN RowBasedKeyValueBatch: Calling spill() on RowBasedKeyValueBatch. Will not spill but return 0.\n"
     ]
    },
    {
     "name": "stderr",
     "output_type": "stream",
     "text": [
      "[Stage 496:==========================================>              (3 + 1) / 4]\r"
     ]
    },
    {
     "name": "stdout",
     "output_type": "stream",
     "text": [
      "Outliers based on merchant removed: 175078\n"
     ]
    },
    {
     "name": "stderr",
     "output_type": "stream",
     "text": [
      "                                                                                \r"
     ]
    }
   ],
   "source": [
    "total = rev_sdf.count()\n",
    "merch_sdf = (rev_sdf.join(merch_std, \"merchant_name\", \"left\")\n",
    "                   .filter(abs(col(\"dollar_value\") - col(\"dollar_value_mean\")) <= 3 * col(\"dollar_value_std\"))\n",
    "                   .drop(\"dollar_value_mean\")\n",
    "                   .drop(\"dollar_value_std\"))\n",
    "print(f\"Outliers based on merchant removed: {total - merch_sdf.count()}\")"
   ]
  },
  {
   "cell_type": "code",
   "execution_count": 46,
   "metadata": {},
   "outputs": [
    {
     "name": "stderr",
     "output_type": "stream",
     "text": [
      "[Stage 517:========>        (2 + 2) / 4][Stage 518:=====>           (2 + 2) / 6]\r"
     ]
    },
    {
     "name": "stdout",
     "output_type": "stream",
     "text": [
      "22/09/19 01:13:06 WARN RowBasedKeyValueBatch: Calling spill() on RowBasedKeyValueBatch. Will not spill but return 0.\n"
     ]
    },
    {
     "name": "stderr",
     "output_type": "stream",
     "text": [
      "                                                                                \r"
     ]
    }
   ],
   "source": [
    "merch_sdf.write.parquet(\"../data/curated/merchant_consumer_info\")"
   ]
  }
 ],
 "metadata": {
  "kernelspec": {
   "display_name": "Python 3.9.12 64-bit",
   "language": "python",
   "name": "python3"
  },
  "language_info": {
   "codemirror_mode": {
    "name": "ipython",
    "version": 3
   },
   "file_extension": ".py",
   "mimetype": "text/x-python",
   "name": "python",
   "nbconvert_exporter": "python",
   "pygments_lexer": "ipython3",
   "version": "3.9.12"
  },
  "orig_nbformat": 4,
  "vscode": {
   "interpreter": {
    "hash": "949777d72b0d2535278d3dc13498b2535136f6dfe0678499012e853ee9abcab1"
   }
  }
 },
 "nbformat": 4,
 "nbformat_minor": 2
}
