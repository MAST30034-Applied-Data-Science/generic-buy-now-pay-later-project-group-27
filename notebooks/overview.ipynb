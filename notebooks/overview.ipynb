{
 "cells": [
  {
   "cell_type": "code",
   "execution_count": 1,
   "metadata": {},
   "outputs": [
    {
     "name": "stdout",
     "output_type": "stream",
     "text": [
      "22/09/19 15:30:23 WARN Utils: Your hostname, mugis-MacBook-Air.local resolves to a loopback address: 127.0.0.1; using 172.20.10.3 instead (on interface en0)\n",
      "22/09/19 15:30:23 WARN Utils: Set SPARK_LOCAL_IP if you need to bind to another address\n"
     ]
    },
    {
     "name": "stderr",
     "output_type": "stream",
     "text": [
      "Setting default log level to \"WARN\".\n",
      "To adjust logging level use sc.setLogLevel(newLevel). For SparkR, use setLogLevel(newLevel).\n"
     ]
    },
    {
     "name": "stdout",
     "output_type": "stream",
     "text": [
      "22/09/19 15:30:24 WARN NativeCodeLoader: Unable to load native-hadoop library for your platform... using builtin-java classes where applicable\n"
     ]
    }
   ],
   "source": [
    "from pyspark.sql import SparkSession\n",
    "from pyspark.sql.functions import *\n",
    "\n",
    "spark = (\n",
    "    SparkSession.builder.appName(\"ADS project 2\")\n",
    "    .config(\"spark.sql.repl.eagerEval.enabled\", True) \n",
    "    .config(\"spark.sql.parquet.cacheMetadata\", \"true\")\n",
    "    .config(\"spark.sql.session.timeZone\", \"Etc/UTC\")\n",
    "    .config(\"spark.executor.memory\", \"2g\")\n",
    "    .config(\"spark.driver.memory\", \"4g\")\n",
    "    .getOrCreate()\n",
    ")"
   ]
  },
  {
   "cell_type": "code",
   "execution_count": 2,
   "metadata": {},
   "outputs": [
    {
     "name": "stderr",
     "output_type": "stream",
     "text": [
      "                                                                                \r"
     ]
    },
    {
     "name": "stdout",
     "output_type": "stream",
     "text": [
      "['../data/tables/transactions_20210228_20210827_snapshot/', '../data/tables/transactions_20220228_20220828_snapshot/', '../data/tables/transactions_20210828_20220227_snapshot/']\n"
     ]
    },
    {
     "name": "stderr",
     "output_type": "stream",
     "text": [
      "                                                                                \r"
     ]
    }
   ],
   "source": [
    "import os\n",
    "\n",
    "data_loc = \"../data/tables/\"\n",
    "consumer = spark.read.parquet(data_loc+\"consumer_user_details.parquet\")\n",
    "tbl_consumer = spark.read.csv(data_loc+\"tbl_consumer.csv\", sep=\"|\", header=True)\n",
    "tbl_merchant = spark.read.parquet(data_loc+\"tbl_merchants.parquet\")\n",
    "transactions = [data_loc + i + \"/\" for i in os.listdir(data_loc) if \"transactions\" in i]\n",
    "print(transactions)\n",
    "transact = spark.read.parquet('../data/tables/transactions_20210228_20210827_snapshot/')\n",
    "transact = transact.union(spark.read.parquet('../data/tables/transactions_20220228_20220828_snapshot/'))\n",
    "transact = transact.union(spark.read.parquet('../data/tables/transactions_20210828_20220227_snapshot/'))"
   ]
  },
  {
   "cell_type": "markdown",
   "metadata": {},
   "source": [
    "<h2> 1. Standardize column format of tables</h2>"
   ]
  },
  {
   "cell_type": "markdown",
   "metadata": {},
   "source": [
    "<h3>1.1 \"tbl_merchants.parquet\"</h3>"
   ]
  },
  {
   "cell_type": "code",
   "execution_count": 3,
   "metadata": {},
   "outputs": [
    {
     "name": "stderr",
     "output_type": "stream",
     "text": [
      "[Stage 9:>                                                          (0 + 1) / 1]\r"
     ]
    },
    {
     "name": "stdout",
     "output_type": "stream",
     "text": [
      "+--------------------+--------------------+------------+\n",
      "|                name|                tags|merchant_abn|\n",
      "+--------------------+--------------------+------------+\n",
      "|       Felis Limited|((furniture, home...| 10023283211|\n",
      "|Arcu Ac Orci Corp...|([cable, satellit...| 10142254217|\n",
      "|    Nunc Sed Company|([jewelry, watch,...| 10165489824|\n",
      "|Ultricies Digniss...|([wAtch, clock, a...| 10187291046|\n",
      "| Enim Condimentum PC|([music shops - m...| 10192359162|\n",
      "+--------------------+--------------------+------------+\n",
      "only showing top 5 rows\n",
      "\n"
     ]
    },
    {
     "name": "stderr",
     "output_type": "stream",
     "text": [
      "                                                                                \r"
     ]
    }
   ],
   "source": [
    "tbl_merchant.show(5)"
   ]
  },
  {
   "cell_type": "code",
   "execution_count": 4,
   "metadata": {},
   "outputs": [],
   "source": [
    "# separate \"tags\" into \"products\", \"revenue_level\", \"take_rate\"\n",
    "preprocessed_tbl_merchant = tbl_merchant.withColumn(\"split_tags\", split(col(\"tags\"), \",\")) \\\n",
    "            .withColumn(\"take_rate\", element_at(col(\"split_tags\"), -1)) \\\n",
    "            .withColumn(\"revenue_level\", element_at(col(\"split_tags\"), -2)) \\\n",
    "            .withColumn(\"products\", slice(reverse(col(\"split_tags\")), 3, 100)) \\\n",
    "            .withColumn(\"products\", reverse(col(\"products\")))\n"
   ]
  },
  {
   "cell_type": "code",
   "execution_count": 5,
   "metadata": {},
   "outputs": [],
   "source": [
    "# remove the special characters of \"revenue_level\" and \"take_rate\"\n",
    "preprocessed_tbl_merchant = preprocessed_tbl_merchant.withColumn(\"revenue_level\", regexp_replace(\"revenue_level\", \"[^a-e]\", \"\")) \\\n",
    "                                                     .withColumn(\"take_rate\", regexp_replace(\"take_rate\", \"[^0-9.]\", \"\"))"
   ]
  },
  {
   "cell_type": "code",
   "execution_count": 6,
   "metadata": {},
   "outputs": [],
   "source": [
    "# standardize the values in \"products\" and vectorize \"products\" into the bags of word\n",
    "preprocessed_tbl_merchant = preprocessed_tbl_merchant.withColumn(\"products\", concat_ws(\",\", col(\"products\"))) \\\n",
    "                                                     .withColumn(\"products\", regexp_replace(\"products\", \"[^A-Za-z0-9]\", \" \")) \\\n",
    "                                                     .withColumn(\"products\", regexp_replace(\"products\", \"\\s+\", \" \")) \\\n",
    "                                                     .withColumn(\"products\", regexp_replace(\"products\", \"(^\\s+)|(\\s+$)\", \"\")) \\\n",
    "                                                     .withColumn(\"products\", lower(col(\"products\"))) \\\n",
    "                                                    #  .withColumn(\"products\", split(col(\"products\"), \" \"))"
   ]
  },
  {
   "cell_type": "code",
   "execution_count": 7,
   "metadata": {},
   "outputs": [],
   "source": [
    "preprocessed_tbl_merchant = preprocessed_tbl_merchant.withColumnRenamed(\"name\", \"merchant_name\")\n",
    "preprocessed_tbl_merchant = preprocessed_tbl_merchant.select(\"merchant_name\", \"products\", \"revenue_level\",\n",
    "                                                             preprocessed_tbl_merchant.take_rate.cast(\"double\"), \"merchant_abn\")"
   ]
  },
  {
   "cell_type": "code",
   "execution_count": 8,
   "metadata": {},
   "outputs": [
    {
     "name": "stdout",
     "output_type": "stream",
     "text": [
      "+--------------------+--------------------+-------------+---------+------------+\n",
      "|       merchant_name|            products|revenue_level|take_rate|merchant_abn|\n",
      "+--------------------+--------------------+-------------+---------+------------+\n",
      "|       Felis Limited|furniture home fu...|            e|     0.18| 10023283211|\n",
      "|Arcu Ac Orci Corp...|cable satellite a...|            b|     4.22| 10142254217|\n",
      "|    Nunc Sed Company|jewelry watch clo...|            b|      4.4| 10165489824|\n",
      "|Ultricies Digniss...|watch clock and j...|            b|     3.29| 10187291046|\n",
      "| Enim Condimentum PC|music shops music...|            a|     6.33| 10192359162|\n",
      "+--------------------+--------------------+-------------+---------+------------+\n",
      "only showing top 5 rows\n",
      "\n"
     ]
    }
   ],
   "source": [
    "preprocessed_tbl_merchant.show(5)"
   ]
  },
  {
   "cell_type": "code",
   "execution_count": 9,
   "metadata": {},
   "outputs": [
    {
     "name": "stderr",
     "output_type": "stream",
     "text": [
      "[Stage 11:>                                                         (0 + 1) / 1]\r"
     ]
    },
    {
     "name": "stdout",
     "output_type": "stream",
     "text": [
      "95\n"
     ]
    },
    {
     "name": "stderr",
     "output_type": "stream",
     "text": [
      "                                                                                \r"
     ]
    },
    {
     "data": {
      "text/plain": [
       "['systems',\n",
       " 'goods',\n",
       " 'opticians',\n",
       " 'art',\n",
       " 'parts',\n",
       " 'health',\n",
       " 'including',\n",
       " 'bicycle',\n",
       " 'repair',\n",
       " 'furniture',\n",
       " 'cable',\n",
       " 'equipment',\n",
       " 'souvenir',\n",
       " 'and',\n",
       " 'supply',\n",
       " 'pay',\n",
       " 'beauty',\n",
       " 'music',\n",
       " 'leasing',\n",
       " 'garden',\n",
       " 'instruments',\n",
       " 'flowers',\n",
       " 'game',\n",
       " 'programming',\n",
       " 'paper',\n",
       " 'stock',\n",
       " 'digital',\n",
       " 'artist',\n",
       " 'spas',\n",
       " 'hobby',\n",
       " 'books',\n",
       " 'pianos',\n",
       " 'sales',\n",
       " 'services',\n",
       " 'design',\n",
       " 'appliances',\n",
       " 'processing',\n",
       " 'manufacturers',\n",
       " 'motor',\n",
       " 'furnishings',\n",
       " 'repairs',\n",
       " 'watch',\n",
       " 'al',\n",
       " 'radio',\n",
       " 'vehicle',\n",
       " 'office',\n",
       " 'television',\n",
       " 'clock',\n",
       " 'telecom',\n",
       " 'software',\n",
       " 'except',\n",
       " 'rent',\n",
       " 'writing',\n",
       " 'restoration',\n",
       " 'outlets',\n",
       " 'home',\n",
       " 'gift',\n",
       " 'tent',\n",
       " 'eyeglasses',\n",
       " 'antique',\n",
       " 'lawn',\n",
       " 'florists',\n",
       " 'satellite',\n",
       " 'newspapers',\n",
       " 'nurseries',\n",
       " 'toy',\n",
       " 'peripheral',\n",
       " 'appliance',\n",
       " 'service',\n",
       " 'movies',\n",
       " 'other',\n",
       " 'dealers',\n",
       " 'tool',\n",
       " 'shoe',\n",
       " 'jewelry',\n",
       " 'card',\n",
       " 'novelty',\n",
       " 'supplies',\n",
       " 'integrated',\n",
       " 'periodicals',\n",
       " 'nursery',\n",
       " 'computers',\n",
       " 'printing',\n",
       " 'stationery',\n",
       " 'craft',\n",
       " 'shops',\n",
       " 'new',\n",
       " 'awning',\n",
       " 'galleries',\n",
       " 'musical',\n",
       " 'optical',\n",
       " 'data',\n",
       " 'silverware',\n",
       " 'sheet',\n",
       " 'computer']"
      ]
     },
     "execution_count": 9,
     "metadata": {},
     "output_type": "execute_result"
    }
   ],
   "source": [
    "tags = preprocessed_tbl_merchant.rdd.map(lambda x: x[1]).collect()\n",
    "tags_unique = \" \".join(tags).split()\n",
    "tags_unique = list(set(tags_unique))\n",
    "print(len(tags_unique)) # not too many, can check some by hand, e.g. 'except' is the only word that has negative meaning\n",
    "tags_unique"
   ]
  },
  {
   "cell_type": "code",
   "execution_count": 10,
   "metadata": {},
   "outputs": [],
   "source": [
    "for i in range(len(tags)):\n",
    "    tags[i] = tags[i].split()\n",
    "    cur = [tags[i][0]]\n",
    "    for j in range(1, len(tags[i])):\n",
    "        if tags[i][j-1] != \"except\":\n",
    "            if tags[i][j] != \"and\" and tags[i][j] != \"except\" and tags[i][j] != \"other\" and tags[i][j] != \"shops\":\n",
    "                cur += [tags[i][j]]\n",
    "    tags[i] = cur\n",
    "# tags"
   ]
  },
  {
   "cell_type": "code",
   "execution_count": 11,
   "metadata": {},
   "outputs": [],
   "source": [
    "from pyspark.sql.types import *\n",
    "\n",
    "@udf(ArrayType(StringType()))\n",
    "def tokenise(tag):\n",
    "    tag = tag.split()\n",
    "    cur = [tag[0]]\n",
    "    for i in range(1, len(tag)):\n",
    "        if tag[i-1] != \"except\":\n",
    "            if tag[i] not in [\"and\", \"except\", \"other\", \"shops\"]:\n",
    "                cur += [tag[i]]\n",
    "    return cur"
   ]
  },
  {
   "cell_type": "code",
   "execution_count": 12,
   "metadata": {},
   "outputs": [
    {
     "name": "stderr",
     "output_type": "stream",
     "text": [
      "                                                                                \r"
     ]
    },
    {
     "data": {
      "text/html": [
       "<table border='1'>\n",
       "<tr><th>merchant_name</th><th>products</th><th>revenue_level</th><th>take_rate</th><th>merchant_abn</th><th>tag</th></tr>\n",
       "<tr><td>Felis Limited</td><td>furniture home fu...</td><td>e</td><td>0.18</td><td>10023283211</td><td>[furniture, home,...</td></tr>\n",
       "<tr><td>Arcu Ac Orci Corp...</td><td>cable satellite a...</td><td>b</td><td>4.22</td><td>10142254217</td><td>[cable, satellite...</td></tr>\n",
       "<tr><td>Nunc Sed Company</td><td>jewelry watch clo...</td><td>b</td><td>4.4</td><td>10165489824</td><td>[jewelry, watch, ...</td></tr>\n",
       "<tr><td>Ultricies Digniss...</td><td>watch clock and j...</td><td>b</td><td>3.29</td><td>10187291046</td><td>[watch, clock, je...</td></tr>\n",
       "<tr><td>Enim Condimentum PC</td><td>music shops music...</td><td>a</td><td>6.33</td><td>10192359162</td><td>[music, musical, ...</td></tr>\n",
       "<tr><td>Fusce Company</td><td>gift card novelty...</td><td>a</td><td>6.34</td><td>10206519221</td><td>[gift, card, nove...</td></tr>\n",
       "<tr><td>Aliquam Enim Inco...</td><td>computers compute...</td><td>b</td><td>4.32</td><td>10255988167</td><td>[computers, compu...</td></tr>\n",
       "<tr><td>Ipsum Primis Ltd</td><td>watch clock and j...</td><td>c</td><td>2.39</td><td>10264435225</td><td>[watch, clock, je...</td></tr>\n",
       "<tr><td>Pede Ultrices Ind...</td><td>computer programm...</td><td>a</td><td>5.71</td><td>10279061213</td><td>[computer, progra...</td></tr>\n",
       "<tr><td>Nunc Inc.</td><td>furniture home fu...</td><td>a</td><td>6.61</td><td>10323485998</td><td>[furniture, home,...</td></tr>\n",
       "<tr><td>Facilisis Facilis...</td><td>computers compute...</td><td>a</td><td>6.34</td><td>10342410215</td><td>[computers, compu...</td></tr>\n",
       "<tr><td>Odio Institute</td><td>equipment tool fu...</td><td>b</td><td>3.57</td><td>10346855916</td><td>[equipment, tool,...</td></tr>\n",
       "<tr><td>Rutrum Justo Ltd</td><td>music shops music...</td><td>b</td><td>3.63</td><td>10364012396</td><td>[music, musical, ...</td></tr>\n",
       "<tr><td>Tellus Foundation</td><td>artist supply and...</td><td>b</td><td>3.17</td><td>10385011947</td><td>[artist, supply, ...</td></tr>\n",
       "<tr><td>Sed Et Company</td><td>florists supplies...</td><td>a</td><td>6.61</td><td>10385163239</td><td>[florists, suppli...</td></tr>\n",
       "<tr><td>Id Ltd</td><td>computers compute...</td><td>a</td><td>5.54</td><td>10385250025</td><td>[computers, compu...</td></tr>\n",
       "<tr><td>Consequat Foundation</td><td>antique shops sal...</td><td>a</td><td>6.93</td><td>10404542215</td><td>[antique, sales, ...</td></tr>\n",
       "<tr><td>Sit Amet Nulla Corp.</td><td>motor vehicle sup...</td><td>b</td><td>4.97</td><td>10430380319</td><td>[motor, vehicle, ...</td></tr>\n",
       "<tr><td>Massa Vestibulum ...</td><td>motor vehicle sup...</td><td>a</td><td>5.77</td><td>10441711491</td><td>[motor, vehicle, ...</td></tr>\n",
       "<tr><td>Ut Consulting</td><td>gift card novelty...</td><td>c</td><td>2.95</td><td>10462560289</td><td>[gift, card, nove...</td></tr>\n",
       "</table>\n",
       "only showing top 20 rows\n"
      ],
      "text/plain": [
       "+--------------------+--------------------+-------------+---------+------------+--------------------+\n",
       "|       merchant_name|            products|revenue_level|take_rate|merchant_abn|                 tag|\n",
       "+--------------------+--------------------+-------------+---------+------------+--------------------+\n",
       "|       Felis Limited|furniture home fu...|            e|     0.18| 10023283211|[furniture, home,...|\n",
       "|Arcu Ac Orci Corp...|cable satellite a...|            b|     4.22| 10142254217|[cable, satellite...|\n",
       "|    Nunc Sed Company|jewelry watch clo...|            b|      4.4| 10165489824|[jewelry, watch, ...|\n",
       "|Ultricies Digniss...|watch clock and j...|            b|     3.29| 10187291046|[watch, clock, je...|\n",
       "| Enim Condimentum PC|music shops music...|            a|     6.33| 10192359162|[music, musical, ...|\n",
       "|       Fusce Company|gift card novelty...|            a|     6.34| 10206519221|[gift, card, nove...|\n",
       "|Aliquam Enim Inco...|computers compute...|            b|     4.32| 10255988167|[computers, compu...|\n",
       "|    Ipsum Primis Ltd|watch clock and j...|            c|     2.39| 10264435225|[watch, clock, je...|\n",
       "|Pede Ultrices Ind...|computer programm...|            a|     5.71| 10279061213|[computer, progra...|\n",
       "|           Nunc Inc.|furniture home fu...|            a|     6.61| 10323485998|[furniture, home,...|\n",
       "|Facilisis Facilis...|computers compute...|            a|     6.34| 10342410215|[computers, compu...|\n",
       "|      Odio Institute|equipment tool fu...|            b|     3.57| 10346855916|[equipment, tool,...|\n",
       "|    Rutrum Justo Ltd|music shops music...|            b|     3.63| 10364012396|[music, musical, ...|\n",
       "|   Tellus Foundation|artist supply and...|            b|     3.17| 10385011947|[artist, supply, ...|\n",
       "|      Sed Et Company|florists supplies...|            a|     6.61| 10385163239|[florists, suppli...|\n",
       "|              Id Ltd|computers compute...|            a|     5.54| 10385250025|[computers, compu...|\n",
       "|Consequat Foundation|antique shops sal...|            a|     6.93| 10404542215|[antique, sales, ...|\n",
       "|Sit Amet Nulla Corp.|motor vehicle sup...|            b|     4.97| 10430380319|[motor, vehicle, ...|\n",
       "|Massa Vestibulum ...|motor vehicle sup...|            a|     5.77| 10441711491|[motor, vehicle, ...|\n",
       "|       Ut Consulting|gift card novelty...|            c|     2.95| 10462560289|[gift, card, nove...|\n",
       "+--------------------+--------------------+-------------+---------+------------+--------------------+\n",
       "only showing top 20 rows"
      ]
     },
     "execution_count": 12,
     "metadata": {},
     "output_type": "execute_result"
    }
   ],
   "source": [
    "preprocessed_tbl_merchant_token = preprocessed_tbl_merchant.withColumn(\"tag\", tokenise(col(\"products\")))\n",
    "preprocessed_tbl_merchant_token"
   ]
  },
  {
   "cell_type": "code",
   "execution_count": 13,
   "metadata": {},
   "outputs": [
    {
     "data": {
      "text/html": [
       "<table border='1'>\n",
       "<tr><th>merchant_name</th><th>products</th><th>revenue_level</th><th>take_rate</th><th>merchant_abn</th><th>tag</th><th>features</th></tr>\n",
       "<tr><td>Felis Limited</td><td>furniture home fu...</td><td>e</td><td>0.18</td><td>10023283211</td><td>[furniture, home,...</td><td>(20,[3,5,6,12,13]...</td></tr>\n",
       "<tr><td>Arcu Ac Orci Corp...</td><td>cable satellite a...</td><td>b</td><td>4.22</td><td>10142254217</td><td>[cable, satellite...</td><td>(20,[6,7,13,16,17...</td></tr>\n",
       "<tr><td>Nunc Sed Company</td><td>jewelry watch clo...</td><td>b</td><td>4.4</td><td>10165489824</td><td>[jewelry, watch, ...</td><td>(20,[8,9,17,18],[...</td></tr>\n",
       "<tr><td>Ultricies Digniss...</td><td>watch clock and j...</td><td>b</td><td>3.29</td><td>10187291046</td><td>[watch, clock, je...</td><td>(20,[2,8,17,18],[...</td></tr>\n",
       "<tr><td>Enim Condimentum PC</td><td>music shops music...</td><td>a</td><td>6.33</td><td>10192359162</td><td>[music, musical, ...</td><td>(20,[3,5,6,10,18]...</td></tr>\n",
       "<tr><td>Fusce Company</td><td>gift card novelty...</td><td>a</td><td>6.34</td><td>10206519221</td><td>[gift, card, nove...</td><td>(20,[4,14,18],[1....</td></tr>\n",
       "<tr><td>Aliquam Enim Inco...</td><td>computers compute...</td><td>b</td><td>4.32</td><td>10255988167</td><td>[computers, compu...</td><td>(20,[3,4,6,11,13]...</td></tr>\n",
       "<tr><td>Ipsum Primis Ltd</td><td>watch clock and j...</td><td>c</td><td>2.39</td><td>10264435225</td><td>[watch, clock, je...</td><td>(20,[2,8,17,18],[...</td></tr>\n",
       "<tr><td>Pede Ultrices Ind...</td><td>computer programm...</td><td>a</td><td>5.71</td><td>10279061213</td><td>[computer, progra...</td><td>(20,[1,2,6,9,11,1...</td></tr>\n",
       "<tr><td>Nunc Inc.</td><td>furniture home fu...</td><td>a</td><td>6.61</td><td>10323485998</td><td>[furniture, home,...</td><td>(20,[3,5,6,12,13]...</td></tr>\n",
       "<tr><td>Facilisis Facilis...</td><td>computers compute...</td><td>a</td><td>6.34</td><td>10342410215</td><td>[computers, compu...</td><td>(20,[3,4,6,11,13]...</td></tr>\n",
       "<tr><td>Odio Institute</td><td>equipment tool fu...</td><td>b</td><td>3.57</td><td>10346855916</td><td>[equipment, tool,...</td><td>(20,[3,7,10,11,12...</td></tr>\n",
       "<tr><td>Rutrum Justo Ltd</td><td>music shops music...</td><td>b</td><td>3.63</td><td>10364012396</td><td>[music, musical, ...</td><td>(20,[3,5,6,10,18]...</td></tr>\n",
       "<tr><td>Tellus Foundation</td><td>artist supply and...</td><td>b</td><td>3.17</td><td>10385011947</td><td>[artist, supply, ...</td><td>(20,[11,16],[2.0,...</td></tr>\n",
       "<tr><td>Sed Et Company</td><td>florists supplies...</td><td>a</td><td>6.61</td><td>10385163239</td><td>[florists, suppli...</td><td>(20,[2,3,4,7,13],...</td></tr>\n",
       "<tr><td>Id Ltd</td><td>computers compute...</td><td>a</td><td>5.54</td><td>10385250025</td><td>[computers, compu...</td><td>(20,[3,4,6,11,13]...</td></tr>\n",
       "<tr><td>Consequat Foundation</td><td>antique shops sal...</td><td>a</td><td>6.93</td><td>10404542215</td><td>[antique, sales, ...</td><td>(20,[6,7,9,16],[1...</td></tr>\n",
       "<tr><td>Sit Amet Nulla Corp.</td><td>motor vehicle sup...</td><td>b</td><td>4.97</td><td>10430380319</td><td>[motor, vehicle, ...</td><td>(20,[3,5,14,17,18...</td></tr>\n",
       "<tr><td>Massa Vestibulum ...</td><td>motor vehicle sup...</td><td>a</td><td>5.77</td><td>10441711491</td><td>[motor, vehicle, ...</td><td>(20,[3,5,14,17,18...</td></tr>\n",
       "<tr><td>Ut Consulting</td><td>gift card novelty...</td><td>c</td><td>2.95</td><td>10462560289</td><td>[gift, card, nove...</td><td>(20,[4,14,18],[1....</td></tr>\n",
       "</table>\n",
       "only showing top 20 rows\n"
      ],
      "text/plain": [
       "+--------------------+--------------------+-------------+---------+------------+--------------------+--------------------+\n",
       "|       merchant_name|            products|revenue_level|take_rate|merchant_abn|                 tag|            features|\n",
       "+--------------------+--------------------+-------------+---------+------------+--------------------+--------------------+\n",
       "|       Felis Limited|furniture home fu...|            e|     0.18| 10023283211|[furniture, home,...|(20,[3,5,6,12,13]...|\n",
       "|Arcu Ac Orci Corp...|cable satellite a...|            b|     4.22| 10142254217|[cable, satellite...|(20,[6,7,13,16,17...|\n",
       "|    Nunc Sed Company|jewelry watch clo...|            b|      4.4| 10165489824|[jewelry, watch, ...|(20,[8,9,17,18],[...|\n",
       "|Ultricies Digniss...|watch clock and j...|            b|     3.29| 10187291046|[watch, clock, je...|(20,[2,8,17,18],[...|\n",
       "| Enim Condimentum PC|music shops music...|            a|     6.33| 10192359162|[music, musical, ...|(20,[3,5,6,10,18]...|\n",
       "|       Fusce Company|gift card novelty...|            a|     6.34| 10206519221|[gift, card, nove...|(20,[4,14,18],[1....|\n",
       "|Aliquam Enim Inco...|computers compute...|            b|     4.32| 10255988167|[computers, compu...|(20,[3,4,6,11,13]...|\n",
       "|    Ipsum Primis Ltd|watch clock and j...|            c|     2.39| 10264435225|[watch, clock, je...|(20,[2,8,17,18],[...|\n",
       "|Pede Ultrices Ind...|computer programm...|            a|     5.71| 10279061213|[computer, progra...|(20,[1,2,6,9,11,1...|\n",
       "|           Nunc Inc.|furniture home fu...|            a|     6.61| 10323485998|[furniture, home,...|(20,[3,5,6,12,13]...|\n",
       "|Facilisis Facilis...|computers compute...|            a|     6.34| 10342410215|[computers, compu...|(20,[3,4,6,11,13]...|\n",
       "|      Odio Institute|equipment tool fu...|            b|     3.57| 10346855916|[equipment, tool,...|(20,[3,7,10,11,12...|\n",
       "|    Rutrum Justo Ltd|music shops music...|            b|     3.63| 10364012396|[music, musical, ...|(20,[3,5,6,10,18]...|\n",
       "|   Tellus Foundation|artist supply and...|            b|     3.17| 10385011947|[artist, supply, ...|(20,[11,16],[2.0,...|\n",
       "|      Sed Et Company|florists supplies...|            a|     6.61| 10385163239|[florists, suppli...|(20,[2,3,4,7,13],...|\n",
       "|              Id Ltd|computers compute...|            a|     5.54| 10385250025|[computers, compu...|(20,[3,4,6,11,13]...|\n",
       "|Consequat Foundation|antique shops sal...|            a|     6.93| 10404542215|[antique, sales, ...|(20,[6,7,9,16],[1...|\n",
       "|Sit Amet Nulla Corp.|motor vehicle sup...|            b|     4.97| 10430380319|[motor, vehicle, ...|(20,[3,5,14,17,18...|\n",
       "|Massa Vestibulum ...|motor vehicle sup...|            a|     5.77| 10441711491|[motor, vehicle, ...|(20,[3,5,14,17,18...|\n",
       "|       Ut Consulting|gift card novelty...|            c|     2.95| 10462560289|[gift, card, nove...|(20,[4,14,18],[1....|\n",
       "+--------------------+--------------------+-------------+---------+------------+--------------------+--------------------+\n",
       "only showing top 20 rows"
      ]
     },
     "execution_count": 13,
     "metadata": {},
     "output_type": "execute_result"
    }
   ],
   "source": [
    "from pyspark.ml.feature import HashingTF, IDF, Tokenizer\n",
    "\n",
    "hashingTF = HashingTF(inputCol=\"tag\", outputCol=\"features\", numFeatures=20)\n",
    "preprocessed_tbl_merchant_bow = hashingTF.transform(preprocessed_tbl_merchant_token)\n",
    "preprocessed_tbl_merchant_bow"
   ]
  },
  {
   "cell_type": "code",
   "execution_count": 14,
   "metadata": {},
   "outputs": [
    {
     "name": "stderr",
     "output_type": "stream",
     "text": [
      "                                                                                \r"
     ]
    },
    {
     "data": {
      "text/html": [
       "<table border='1'>\n",
       "<tr><th>merchant_name</th><th>products</th><th>revenue_level</th><th>take_rate</th><th>merchant_abn</th><th>category</th></tr>\n",
       "<tr><td>Felis Limited</td><td>furniture home fu...</td><td>e</td><td>0.18</td><td>10023283211</td><td>4</td></tr>\n",
       "<tr><td>Arcu Ac Orci Corp...</td><td>cable satellite a...</td><td>b</td><td>4.22</td><td>10142254217</td><td>0</td></tr>\n",
       "<tr><td>Nunc Sed Company</td><td>jewelry watch clo...</td><td>b</td><td>4.4</td><td>10165489824</td><td>0</td></tr>\n",
       "<tr><td>Ultricies Digniss...</td><td>watch clock and j...</td><td>b</td><td>3.29</td><td>10187291046</td><td>0</td></tr>\n",
       "<tr><td>Enim Condimentum PC</td><td>music shops music...</td><td>a</td><td>6.33</td><td>10192359162</td><td>0</td></tr>\n",
       "<tr><td>Fusce Company</td><td>gift card novelty...</td><td>a</td><td>6.34</td><td>10206519221</td><td>0</td></tr>\n",
       "<tr><td>Aliquam Enim Inco...</td><td>computers compute...</td><td>b</td><td>4.32</td><td>10255988167</td><td>4</td></tr>\n",
       "<tr><td>Ipsum Primis Ltd</td><td>watch clock and j...</td><td>c</td><td>2.39</td><td>10264435225</td><td>0</td></tr>\n",
       "<tr><td>Pede Ultrices Ind...</td><td>computer programm...</td><td>a</td><td>5.71</td><td>10279061213</td><td>2</td></tr>\n",
       "<tr><td>Nunc Inc.</td><td>furniture home fu...</td><td>a</td><td>6.61</td><td>10323485998</td><td>4</td></tr>\n",
       "<tr><td>Facilisis Facilis...</td><td>computers compute...</td><td>a</td><td>6.34</td><td>10342410215</td><td>4</td></tr>\n",
       "<tr><td>Odio Institute</td><td>equipment tool fu...</td><td>b</td><td>3.57</td><td>10346855916</td><td>1</td></tr>\n",
       "<tr><td>Rutrum Justo Ltd</td><td>music shops music...</td><td>b</td><td>3.63</td><td>10364012396</td><td>0</td></tr>\n",
       "<tr><td>Tellus Foundation</td><td>artist supply and...</td><td>b</td><td>3.17</td><td>10385011947</td><td>1</td></tr>\n",
       "<tr><td>Sed Et Company</td><td>florists supplies...</td><td>a</td><td>6.61</td><td>10385163239</td><td>3</td></tr>\n",
       "<tr><td>Id Ltd</td><td>computers compute...</td><td>a</td><td>5.54</td><td>10385250025</td><td>4</td></tr>\n",
       "<tr><td>Consequat Foundation</td><td>antique shops sal...</td><td>a</td><td>6.93</td><td>10404542215</td><td>0</td></tr>\n",
       "<tr><td>Sit Amet Nulla Corp.</td><td>motor vehicle sup...</td><td>b</td><td>4.97</td><td>10430380319</td><td>0</td></tr>\n",
       "<tr><td>Massa Vestibulum ...</td><td>motor vehicle sup...</td><td>a</td><td>5.77</td><td>10441711491</td><td>0</td></tr>\n",
       "<tr><td>Ut Consulting</td><td>gift card novelty...</td><td>c</td><td>2.95</td><td>10462560289</td><td>0</td></tr>\n",
       "</table>\n",
       "only showing top 20 rows\n"
      ],
      "text/plain": [
       "+--------------------+--------------------+-------------+---------+------------+--------+\n",
       "|       merchant_name|            products|revenue_level|take_rate|merchant_abn|category|\n",
       "+--------------------+--------------------+-------------+---------+------------+--------+\n",
       "|       Felis Limited|furniture home fu...|            e|     0.18| 10023283211|       4|\n",
       "|Arcu Ac Orci Corp...|cable satellite a...|            b|     4.22| 10142254217|       0|\n",
       "|    Nunc Sed Company|jewelry watch clo...|            b|      4.4| 10165489824|       0|\n",
       "|Ultricies Digniss...|watch clock and j...|            b|     3.29| 10187291046|       0|\n",
       "| Enim Condimentum PC|music shops music...|            a|     6.33| 10192359162|       0|\n",
       "|       Fusce Company|gift card novelty...|            a|     6.34| 10206519221|       0|\n",
       "|Aliquam Enim Inco...|computers compute...|            b|     4.32| 10255988167|       4|\n",
       "|    Ipsum Primis Ltd|watch clock and j...|            c|     2.39| 10264435225|       0|\n",
       "|Pede Ultrices Ind...|computer programm...|            a|     5.71| 10279061213|       2|\n",
       "|           Nunc Inc.|furniture home fu...|            a|     6.61| 10323485998|       4|\n",
       "|Facilisis Facilis...|computers compute...|            a|     6.34| 10342410215|       4|\n",
       "|      Odio Institute|equipment tool fu...|            b|     3.57| 10346855916|       1|\n",
       "|    Rutrum Justo Ltd|music shops music...|            b|     3.63| 10364012396|       0|\n",
       "|   Tellus Foundation|artist supply and...|            b|     3.17| 10385011947|       1|\n",
       "|      Sed Et Company|florists supplies...|            a|     6.61| 10385163239|       3|\n",
       "|              Id Ltd|computers compute...|            a|     5.54| 10385250025|       4|\n",
       "|Consequat Foundation|antique shops sal...|            a|     6.93| 10404542215|       0|\n",
       "|Sit Amet Nulla Corp.|motor vehicle sup...|            b|     4.97| 10430380319|       0|\n",
       "|Massa Vestibulum ...|motor vehicle sup...|            a|     5.77| 10441711491|       0|\n",
       "|       Ut Consulting|gift card novelty...|            c|     2.95| 10462560289|       0|\n",
       "+--------------------+--------------------+-------------+---------+------------+--------+\n",
       "only showing top 20 rows"
      ]
     },
     "execution_count": 14,
     "metadata": {},
     "output_type": "execute_result"
    }
   ],
   "source": [
    "from pyspark.ml.clustering import KMeans\n",
    "\n",
    "kmeans = KMeans(k=5)\n",
    "model = kmeans.fit(preprocessed_tbl_merchant_bow.select(\"features\"))\n",
    "preprocessed_tbl_merchant_cat = model.transform(preprocessed_tbl_merchant_bow)\n",
    "preprocessed_tbl_merchant_cat = preprocessed_tbl_merchant_cat.select(\"merchant_name\", \"products\", \"revenue_level\", \"take_rate\", \"merchant_abn\", col(\"prediction\").alias(\"category\"))\n",
    "preprocessed_tbl_merchant_cat"
   ]
  },
  {
   "cell_type": "markdown",
   "metadata": {},
   "source": [
    "<h3>1.2 \"transactions_20210228_20210827_snapshot\"</h3>"
   ]
  },
  {
   "cell_type": "code",
   "execution_count": 15,
   "metadata": {},
   "outputs": [
    {
     "name": "stdout",
     "output_type": "stream",
     "text": [
      "+-------+------------+------------------+--------------------+--------------+\n",
      "|user_id|merchant_abn|      dollar_value|            order_id|order_datetime|\n",
      "+-------+------------+------------------+--------------------+--------------+\n",
      "|  18478| 62191208634|63.255848959735246|949a63c8-29f7-4ab...|    2021-08-20|\n",
      "|      2| 15549624934| 130.3505283105634|6a84c3cf-612a-457...|    2021-08-20|\n",
      "|  18479| 64403598239|120.15860593212783|b10dcc33-e53f-425...|    2021-08-20|\n",
      "|      3| 60956456424| 136.6785200286976|0f09c5a5-784e-447...|    2021-08-20|\n",
      "|  18479| 94493496784| 72.96316578355305|f6c78c1a-4600-4c5...|    2021-08-20|\n",
      "+-------+------------+------------------+--------------------+--------------+\n",
      "only showing top 5 rows\n",
      "\n"
     ]
    }
   ],
   "source": [
    "transact.show(5)"
   ]
  },
  {
   "cell_type": "code",
   "execution_count": 22,
   "metadata": {},
   "outputs": [],
   "source": [
    "# separate pickup datetime into date, year, month and day\n",
    "preprocessed_transact = transact.withColumn('order_year', year(col('order_datetime')))\n",
    "preprocessed_transact = preprocessed_transact.withColumn('order_month', month(col('order_datetime')))\n",
    "preprocessed_transact = preprocessed_transact.withColumn('order_day', dayofmonth(col('order_datetime')))\n",
    "preprocessed_transact = preprocessed_transact.withColumnRenamed('merchant_abn', 'merchant_abn_repeat')"
   ]
  },
  {
   "cell_type": "code",
   "execution_count": 23,
   "metadata": {},
   "outputs": [
    {
     "name": "stdout",
     "output_type": "stream",
     "text": [
      "+-------+-------------------+------------------+--------------------+--------------+----------+-----------+---------+\n",
      "|user_id|merchant_abn_repeat|      dollar_value|            order_id|order_datetime|order_year|order_month|order_day|\n",
      "+-------+-------------------+------------------+--------------------+--------------+----------+-----------+---------+\n",
      "|  18478|        62191208634|63.255848959735246|949a63c8-29f7-4ab...|    2021-08-20|      2021|          8|       20|\n",
      "|      2|        15549624934| 130.3505283105634|6a84c3cf-612a-457...|    2021-08-20|      2021|          8|       20|\n",
      "|  18479|        64403598239|120.15860593212783|b10dcc33-e53f-425...|    2021-08-20|      2021|          8|       20|\n",
      "|      3|        60956456424| 136.6785200286976|0f09c5a5-784e-447...|    2021-08-20|      2021|          8|       20|\n",
      "|  18479|        94493496784| 72.96316578355305|f6c78c1a-4600-4c5...|    2021-08-20|      2021|          8|       20|\n",
      "+-------+-------------------+------------------+--------------------+--------------+----------+-----------+---------+\n",
      "only showing top 5 rows\n",
      "\n"
     ]
    }
   ],
   "source": [
    "preprocessed_transact.show(5)"
   ]
  },
  {
   "cell_type": "markdown",
   "metadata": {},
   "source": [
    "<h3>1.3 \"tbl_consumer.csv\"</h3>"
   ]
  },
  {
   "cell_type": "code",
   "execution_count": 24,
   "metadata": {},
   "outputs": [
    {
     "name": "stdout",
     "output_type": "stream",
     "text": [
      "+-----------------+--------------------+-----+--------+------+-----------+\n",
      "|             name|             address|state|postcode|gender|consumer_id|\n",
      "+-----------------+--------------------+-----+--------+------+-----------+\n",
      "| Yolanda Williams|413 Haney Gardens...|   WA|    6935|Female|    1195503|\n",
      "|       Mary Smith|     3764 Amber Oval|  NSW|    2782|Female|     179208|\n",
      "|    Jill Jones MD|  40693 Henry Greens|   NT|     862|Female|    1194530|\n",
      "|  Lindsay Jimenez|00653 Davenport C...|  NSW|    2780|Female|     154128|\n",
      "|Rebecca Blanchard|9271 Michael Mano...|   WA|    6355|Female|     712975|\n",
      "+-----------------+--------------------+-----+--------+------+-----------+\n",
      "only showing top 5 rows\n",
      "\n"
     ]
    }
   ],
   "source": [
    "tbl_consumer.show(5)"
   ]
  },
  {
   "cell_type": "code",
   "execution_count": 25,
   "metadata": {},
   "outputs": [],
   "source": [
    "preprocessed_tbl_consumer = tbl_consumer.withColumnRenamed(\"name\", \"consumer\")\n",
    "preprocessed_tbl_consumer = preprocessed_tbl_consumer.withColumnRenamed(\"address\", \"consumer_address\")\n",
    "preprocessed_tbl_consumer = preprocessed_tbl_consumer.withColumnRenamed(\"state\", \"consumer_state\")\n",
    "preprocessed_tbl_consumer = preprocessed_tbl_consumer.withColumnRenamed(\"postcode\", \"consumer_postcode\")\n",
    "preprocessed_tbl_consumer = preprocessed_tbl_consumer.withColumnRenamed(\"gender\", \"consumer_gender\")"
   ]
  },
  {
   "cell_type": "code",
   "execution_count": 26,
   "metadata": {},
   "outputs": [
    {
     "name": "stdout",
     "output_type": "stream",
     "text": [
      "+-----------------+--------------------+--------------+-----------------+---------------+-----------+\n",
      "|         consumer|    consumer_address|consumer_state|consumer_postcode|consumer_gender|consumer_id|\n",
      "+-----------------+--------------------+--------------+-----------------+---------------+-----------+\n",
      "| Yolanda Williams|413 Haney Gardens...|            WA|             6935|         Female|    1195503|\n",
      "|       Mary Smith|     3764 Amber Oval|           NSW|             2782|         Female|     179208|\n",
      "|    Jill Jones MD|  40693 Henry Greens|            NT|              862|         Female|    1194530|\n",
      "|  Lindsay Jimenez|00653 Davenport C...|           NSW|             2780|         Female|     154128|\n",
      "|Rebecca Blanchard|9271 Michael Mano...|            WA|             6355|         Female|     712975|\n",
      "+-----------------+--------------------+--------------+-----------------+---------------+-----------+\n",
      "only showing top 5 rows\n",
      "\n"
     ]
    }
   ],
   "source": [
    "preprocessed_tbl_consumer.show(5)"
   ]
  },
  {
   "cell_type": "markdown",
   "metadata": {},
   "source": [
    "<h3>1.4 \"consumer.parquet\"</h3>"
   ]
  },
  {
   "cell_type": "code",
   "execution_count": 27,
   "metadata": {},
   "outputs": [
    {
     "name": "stdout",
     "output_type": "stream",
     "text": [
      "+-------+-----------+\n",
      "|user_id|consumer_id|\n",
      "+-------+-----------+\n",
      "|      1|    1195503|\n",
      "|      2|     179208|\n",
      "|      3|    1194530|\n",
      "|      4|     154128|\n",
      "|      5|     712975|\n",
      "+-------+-----------+\n",
      "only showing top 5 rows\n",
      "\n"
     ]
    }
   ],
   "source": [
    "consumer.show(5)"
   ]
  },
  {
   "cell_type": "code",
   "execution_count": 28,
   "metadata": {},
   "outputs": [],
   "source": [
    "preprocessed_consumer = consumer.withColumnRenamed(\"user_id\", \"user_id_repeat\")\n",
    "preprocessed_consumer = preprocessed_consumer.withColumnRenamed(\"consumer_id\", \"consumer_id_repeat\")"
   ]
  },
  {
   "cell_type": "code",
   "execution_count": 29,
   "metadata": {},
   "outputs": [
    {
     "name": "stdout",
     "output_type": "stream",
     "text": [
      "+--------------+------------------+\n",
      "|user_id_repeat|consumer_id_repeat|\n",
      "+--------------+------------------+\n",
      "|             1|           1195503|\n",
      "|             2|            179208|\n",
      "|             3|           1194530|\n",
      "|             4|            154128|\n",
      "|             5|            712975|\n",
      "+--------------+------------------+\n",
      "only showing top 5 rows\n",
      "\n"
     ]
    }
   ],
   "source": [
    "preprocessed_consumer.show(5)"
   ]
  },
  {
   "cell_type": "markdown",
   "metadata": {},
   "source": [
    "<h2>2. Join tables</h2>"
   ]
  },
  {
   "cell_type": "code",
   "execution_count": 30,
   "metadata": {},
   "outputs": [
    {
     "name": "stderr",
     "output_type": "stream",
     "text": [
      "[Stage 49:=================================================>      (22 + 3) / 25]\r"
     ]
    },
    {
     "name": "stdout",
     "output_type": "stream",
     "text": [
      "Mismatched (null) transactions dropped: 580830\n"
     ]
    },
    {
     "name": "stderr",
     "output_type": "stream",
     "text": [
      "                                                                                \r"
     ]
    }
   ],
   "source": [
    "preprocessed_tbl_merchant_cat.createOrReplaceTempView('merchant')\n",
    "preprocessed_transact.createOrReplaceTempView('transact')\n",
    "preprocessed_tbl_consumer.createOrReplaceTempView('tbl_consumer')\n",
    "preprocessed_consumer.createOrReplaceTempView('consumer')\n",
    "\n",
    "join = spark.sql(\"\"\"\n",
    "SELECT \n",
    "    *\n",
    "FROM \n",
    "    merchant\n",
    "INNER JOIN\n",
    "    transact\n",
    "ON \n",
    "    transact.merchant_abn_repeat = merchant.merchant_abn\n",
    "INNER JOIN\n",
    "    consumer\n",
    "ON\n",
    "    transact.user_id = consumer.user_id_repeat\n",
    "INNER JOIN\n",
    "    tbl_consumer\n",
    "ON \n",
    "    consumer.consumer_id_repeat = tbl_consumer.consumer_id\n",
    "ORDER BY\n",
    "    revenue_level DESC\n",
    "\"\"\")\n",
    "\n",
    "join = join.drop(\"merchant_abn_repeat\", \"consumer_id_repeat\", \"user_id_repeat\", \"merchant_abn\", \"consumer_id\", \"order_id\")\n",
    "print(f\"Mismatched (null) transactions dropped: {preprocessed_transact.count() - join.count()}\")"
   ]
  },
  {
   "cell_type": "code",
   "execution_count": 31,
   "metadata": {},
   "outputs": [
    {
     "name": "stderr",
     "output_type": "stream",
     "text": [
      "                                                                                \r"
     ]
    },
    {
     "data": {
      "text/html": [
       "<table border='1'>\n",
       "<tr><th>merchant_name</th><th>products</th><th>revenue_level</th><th>take_rate</th><th>category</th><th>user_id</th><th>dollar_value</th><th>order_datetime</th><th>order_year</th><th>order_month</th><th>order_day</th><th>consumer</th><th>consumer_address</th><th>consumer_state</th><th>consumer_postcode</th><th>consumer_gender</th></tr>\n",
       "<tr><td>Augue Eu Tempor A...</td><td>cable satellite a...</td><td>e</td><td>0.38</td><td>0</td><td>1956</td><td>13.21705727136522</td><td>2022-08-31</td><td>2022</td><td>8</td><td>31</td><td>Sara Allen</td><td>92887 Stewart Flat</td><td>NSW</td><td>2798</td><td>Undisclosed</td></tr>\n",
       "<tr><td>Ante Industries</td><td>motor vehicle sup...</td><td>e</td><td>0.35</td><td>0</td><td>11844</td><td>161.697065437933</td><td>2021-09-04</td><td>2021</td><td>9</td><td>4</td><td>Antonio Trevino</td><td>134 Wolf Rue</td><td>SA</td><td>5322</td><td>Undisclosed</td></tr>\n",
       "<tr><td>Nunc Est LLP</td><td>watch clock and j...</td><td>e</td><td>0.22</td><td>0</td><td>1956</td><td>49.9947162713664</td><td>2022-08-08</td><td>2022</td><td>8</td><td>8</td><td>Sara Allen</td><td>92887 Stewart Flat</td><td>NSW</td><td>2798</td><td>Undisclosed</td></tr>\n",
       "<tr><td>Non Lobortis Corp...</td><td>computer programm...</td><td>e</td><td>0.36</td><td>2</td><td>14409</td><td>168.526052031304</td><td>2021-03-11</td><td>2021</td><td>3</td><td>11</td><td>Anthony Bryant</td><td>76494 Derrick Court</td><td>VIC</td><td>3874</td><td>Male</td></tr>\n",
       "<tr><td>Et Nunc Consulting</td><td>books periodicals...</td><td>e</td><td>0.16</td><td>0</td><td>1956</td><td>37.44004996784164</td><td>2022-07-21</td><td>2022</td><td>7</td><td>21</td><td>Sara Allen</td><td>92887 Stewart Flat</td><td>NSW</td><td>2798</td><td>Undisclosed</td></tr>\n",
       "<tr><td>Nunc Est LLP</td><td>watch clock and j...</td><td>e</td><td>0.22</td><td>0</td><td>14409</td><td>64.16995069151893</td><td>2021-11-30</td><td>2021</td><td>11</td><td>30</td><td>Anthony Bryant</td><td>76494 Derrick Court</td><td>VIC</td><td>3874</td><td>Male</td></tr>\n",
       "<tr><td>Metus Sit Amet In...</td><td>cable satellite a...</td><td>e</td><td>0.38</td><td>0</td><td>1956</td><td>5.4621705507676666</td><td>2022-08-05</td><td>2022</td><td>8</td><td>5</td><td>Sara Allen</td><td>92887 Stewart Flat</td><td>NSW</td><td>2798</td><td>Undisclosed</td></tr>\n",
       "<tr><td>Et Nunc Consulting</td><td>books periodicals...</td><td>e</td><td>0.16</td><td>0</td><td>1956</td><td>979.9787956970662</td><td>2021-08-15</td><td>2021</td><td>8</td><td>15</td><td>Sara Allen</td><td>92887 Stewart Flat</td><td>NSW</td><td>2798</td><td>Undisclosed</td></tr>\n",
       "<tr><td>Non Lobortis Corp...</td><td>computer programm...</td><td>e</td><td>0.36</td><td>2</td><td>1956</td><td>190.3786742869008</td><td>2022-08-02</td><td>2022</td><td>8</td><td>2</td><td>Sara Allen</td><td>92887 Stewart Flat</td><td>NSW</td><td>2798</td><td>Undisclosed</td></tr>\n",
       "<tr><td>Nunc Est LLP</td><td>watch clock and j...</td><td>e</td><td>0.22</td><td>0</td><td>12178</td><td>170.2571495605144</td><td>2021-05-21</td><td>2021</td><td>5</td><td>21</td><td>Christopher Patte...</td><td>701 Rivers Pine</td><td>VIC</td><td>3882</td><td>Undisclosed</td></tr>\n",
       "<tr><td>Augue Eu Tempor A...</td><td>cable satellite a...</td><td>e</td><td>0.38</td><td>0</td><td>12178</td><td>68.52164340358037</td><td>2021-12-22</td><td>2021</td><td>12</td><td>22</td><td>Christopher Patte...</td><td>701 Rivers Pine</td><td>VIC</td><td>3882</td><td>Undisclosed</td></tr>\n",
       "<tr><td>Risus Nulla Insti...</td><td>bicycle shops sal...</td><td>e</td><td>0.22</td><td>0</td><td>14108</td><td>25.33663463383725</td><td>2022-10-19</td><td>2022</td><td>10</td><td>19</td><td>Zachary Evans</td><td>947 Mclaughlin Ra...</td><td>NSW</td><td>2293</td><td>Male</td></tr>\n",
       "<tr><td>Nunc Est LLP</td><td>watch clock and j...</td><td>e</td><td>0.22</td><td>0</td><td>14891</td><td>41.19678980118359</td><td>2021-10-24</td><td>2021</td><td>10</td><td>24</td><td>Jennifer Rodriguez</td><td>03338 Natasha Courts</td><td>VIC</td><td>3064</td><td>Female</td></tr>\n",
       "<tr><td>Et Nunc Consulting</td><td>books periodicals...</td><td>e</td><td>0.16</td><td>0</td><td>14409</td><td>348.3081370996363</td><td>2022-02-08</td><td>2022</td><td>2</td><td>8</td><td>Anthony Bryant</td><td>76494 Derrick Court</td><td>VIC</td><td>3874</td><td>Male</td></tr>\n",
       "<tr><td>Orci Consectetuer...</td><td>shoe shops</td><td>e</td><td>0.42</td><td>0</td><td>11844</td><td>736.7666297048411</td><td>2021-06-25</td><td>2021</td><td>6</td><td>25</td><td>Antonio Trevino</td><td>134 Wolf Rue</td><td>SA</td><td>5322</td><td>Undisclosed</td></tr>\n",
       "<tr><td>Nunc Est LLP</td><td>watch clock and j...</td><td>e</td><td>0.22</td><td>0</td><td>1956</td><td>35.730745879372</td><td>2021-10-29</td><td>2021</td><td>10</td><td>29</td><td>Sara Allen</td><td>92887 Stewart Flat</td><td>NSW</td><td>2798</td><td>Undisclosed</td></tr>\n",
       "<tr><td>Et Nunc Consulting</td><td>books periodicals...</td><td>e</td><td>0.16</td><td>0</td><td>11844</td><td>266.20267083027665</td><td>2021-03-19</td><td>2021</td><td>3</td><td>19</td><td>Antonio Trevino</td><td>134 Wolf Rue</td><td>SA</td><td>5322</td><td>Undisclosed</td></tr>\n",
       "<tr><td>Dis Parturient Co...</td><td>gift card novelty...</td><td>e</td><td>0.24</td><td>0</td><td>1956</td><td>60.756854097474836</td><td>2021-09-01</td><td>2021</td><td>9</td><td>1</td><td>Sara Allen</td><td>92887 Stewart Flat</td><td>NSW</td><td>2798</td><td>Undisclosed</td></tr>\n",
       "<tr><td>Eget Metus Eu Ins...</td><td>shoe shops</td><td>e</td><td>0.42</td><td>0</td><td>11844</td><td>525.4154343799258</td><td>2021-06-19</td><td>2021</td><td>6</td><td>19</td><td>Antonio Trevino</td><td>134 Wolf Rue</td><td>SA</td><td>5322</td><td>Undisclosed</td></tr>\n",
       "<tr><td>Nunc Est LLP</td><td>watch clock and j...</td><td>e</td><td>0.22</td><td>0</td><td>1956</td><td>69.33602217234242</td><td>2022-01-17</td><td>2022</td><td>1</td><td>17</td><td>Sara Allen</td><td>92887 Stewart Flat</td><td>NSW</td><td>2798</td><td>Undisclosed</td></tr>\n",
       "</table>\n",
       "only showing top 20 rows\n"
      ],
      "text/plain": [
       "+--------------------+--------------------+-------------+---------+--------+-------+------------------+--------------+----------+-----------+---------+--------------+--------------------+--------------+-----------------+---------------+\n",
       "|       merchant_name|            products|revenue_level|take_rate|category|user_id|      dollar_value|order_datetime|order_year|order_month|order_day|      consumer|    consumer_address|consumer_state|consumer_postcode|consumer_gender|\n",
       "+--------------------+--------------------+-------------+---------+--------+-------+------------------+--------------+----------+-----------+---------+--------------+--------------------+--------------+-----------------+---------------+\n",
       "|Augue Eu Tempor A...|cable satellite a...|            e|     0.38|       0|   9460| 46.65691800037062|    2021-10-20|      2021|         10|       20|Carrie Mcguire|418 Shields Alley...|            WA|             6572|         Female|\n",
       "|Metus Sit Amet In...|cable satellite a...|            e|     0.38|       0|  23611| 86.97286760060099|    2021-11-21|      2021|         11|       21| Brenda Miller|42070 Colleen Spring|           NSW|             2359|    Undisclosed|\n",
       "|Metus Sit Amet In...|cable satellite a...|            e|     0.38|       0|    722| 48.55637942130284|    2021-03-05|      2021|          3|        5|  Carol Kelley|79229 Tiffany Str...|           NSW|             2768|         Female|\n",
       "|Dis Parturient Co...|gift card novelty...|            e|     0.24|       0|  21422| 165.5520999710788|    2022-09-20|      2022|          9|       20|  Joseph Smith|  620 Gardner Divide|           VIC|             3958|           Male|\n",
       "|Lacus Mauris Asso...|          shoe shops|            e|     0.48|       0|    722|310.20043945437243|    2021-04-07|      2021|          4|        7|  Carol Kelley|79229 Tiffany Str...|           NSW|             2768|         Female|\n",
       "|        Nunc Est LLP|watch clock and j...|            e|     0.22|       0|   4396|119.10880470862027|    2021-03-27|      2021|          3|       27|   Lucas Payne|2153 Bell Club Ap...|           NSW|             1236|           Male|\n",
       "|Orci Consectetuer...|          shoe shops|            e|     0.42|       0|    722| 82.48752792346217|    2021-11-30|      2021|         11|       30|  Carol Kelley|79229 Tiffany Str...|           NSW|             2768|         Female|\n",
       "|Metus Sit Amet In...|cable satellite a...|            e|     0.38|       0|   4396|  68.5834757881405|    2022-09-11|      2022|          9|       11|   Lucas Payne|2153 Bell Club Ap...|           NSW|             1236|           Male|\n",
       "|Augue Eu Tempor A...|cable satellite a...|            e|     0.38|       0|    722|111.10109077411116|    2021-12-12|      2021|         12|       12|  Carol Kelley|79229 Tiffany Str...|           NSW|             2768|         Female|\n",
       "|  Et Nunc Consulting|books periodicals...|            e|     0.16|       0|   9460|47.692738168026644|    2021-05-22|      2021|          5|       22|Carrie Mcguire|418 Shields Alley...|            WA|             6572|         Female|\n",
       "|       Felis Limited|furniture home fu...|            e|     0.18|       4|    722|294.83093237438436|    2021-12-09|      2021|         12|        9|  Carol Kelley|79229 Tiffany Str...|           NSW|             2768|         Female|\n",
       "|        Nunc Est LLP|watch clock and j...|            e|     0.22|       0|  17114| 43.16144307361286|    2022-09-03|      2022|          9|        3| Pamela Parker|93935 Claudia Ove...|           VIC|             3420|         Female|\n",
       "|Massa Suspendisse...|art dealers and g...|            e|      0.4|       4|  17114| 4498.748329034502|    2022-04-26|      2022|          4|       26| Pamela Parker|93935 Claudia Ove...|           VIC|             3420|         Female|\n",
       "|     Eros Industries|computer programm...|            e|     0.41|       2|  21422| 408.7639609983193|    2022-10-15|      2022|         10|       15|  Joseph Smith|  620 Gardner Divide|           VIC|             3958|           Male|\n",
       "|        Nunc Est LLP|watch clock and j...|            e|     0.22|       0|  22603|43.591273089804616|    2021-05-22|      2021|          5|       22| Robert Duncan|6287 Shah Spur Su...|           NSW|             2449|           Male|\n",
       "|  Et Nunc Consulting|books periodicals...|            e|     0.16|       0|   4396|167.87528233397012|    2022-10-15|      2022|         10|       15|   Lucas Payne|2153 Bell Club Ap...|           NSW|             1236|           Male|\n",
       "|     Elit Consulting|antique shops sal...|            e|     0.47|       0|  22603|156.34258070283065|    2022-07-23|      2022|          7|       23| Robert Duncan|6287 Shah Spur Su...|           NSW|             2449|           Male|\n",
       "|Augue Eu Tempor A...|cable satellite a...|            e|     0.38|       0|   9460| 66.38842815972941|    2021-05-23|      2021|          5|       23|Carrie Mcguire|418 Shields Alley...|            WA|             6572|         Female|\n",
       "|Eget Metus Eu Ins...|          shoe shops|            e|     0.42|       0|  22603| 641.2971109480748|    2022-07-23|      2022|          7|       23| Robert Duncan|6287 Shah Spur Su...|           NSW|             2449|           Male|\n",
       "|Augue Eu Tempor A...|cable satellite a...|            e|     0.38|       0|  17114| 32.38583077052173|    2021-05-14|      2021|          5|       14| Pamela Parker|93935 Claudia Ove...|           VIC|             3420|         Female|\n",
       "+--------------------+--------------------+-------------+---------+--------+-------+------------------+--------------+----------+-----------+---------+--------------+--------------------+--------------+-----------------+---------------+\n",
       "only showing top 20 rows"
      ]
     },
     "execution_count": 31,
     "metadata": {},
     "output_type": "execute_result"
    }
   ],
   "source": [
    "join"
   ]
  },
  {
   "cell_type": "code",
   "execution_count": 32,
   "metadata": {},
   "outputs": [
    {
     "name": "stderr",
     "output_type": "stream",
     "text": [
      "                                                                                \r"
     ]
    }
   ],
   "source": [
    "join.write.parquet(\"../data/curated/raw_join_internal_table\")"
   ]
  }
 ],
 "metadata": {
  "kernelspec": {
   "display_name": "Python 3.9.12 64-bit",
   "language": "python",
   "name": "python3"
  },
  "language_info": {
   "codemirror_mode": {
    "name": "ipython",
    "version": 3
   },
   "file_extension": ".py",
   "mimetype": "text/x-python",
   "name": "python",
   "nbconvert_exporter": "python",
   "pygments_lexer": "ipython3",
   "version": "3.9.12"
  },
  "orig_nbformat": 4,
  "vscode": {
   "interpreter": {
    "hash": "949777d72b0d2535278d3dc13498b2535136f6dfe0678499012e853ee9abcab1"
   }
  }
 },
 "nbformat": 4,
 "nbformat_minor": 2
}
