{
 "cells": [
  {
   "cell_type": "code",
   "execution_count": 1,
   "metadata": {},
   "outputs": [
    {
     "name": "stderr",
     "output_type": "stream",
     "text": [
      "Setting default log level to \"WARN\".\n",
      "To adjust logging level use sc.setLogLevel(newLevel). For SparkR, use setLogLevel(newLevel).\n"
     ]
    },
    {
     "name": "stdout",
     "output_type": "stream",
     "text": [
      "22/09/01 01:13:52 WARN NativeCodeLoader: Unable to load native-hadoop library for your platform... using builtin-java classes where applicable\n"
     ]
    }
   ],
   "source": [
    "from pyspark.sql import SparkSession\n",
    "from pyspark.sql.functions import *\n",
    "\n",
    "spark = (\n",
    "    SparkSession.builder.appName(\"ADS project 2\")\n",
    "    .config(\"spark.sql.repl.eagerEval.enabled\", True) \n",
    "    .config(\"spark.sql.parquet.cacheMetadata\", \"true\")\n",
    "    .config(\"spark.sql.session.timeZone\", \"Etc/UTC\")\n",
    "    .config(\"spark.executor.memory\", \"2g\")\n",
    "    .config(\"spark.driver.memory\", \"4g\")\n",
    "    .getOrCreate()\n",
    ")"
   ]
  },
  {
   "cell_type": "code",
   "execution_count": 2,
   "metadata": {},
   "outputs": [
    {
     "name": "stderr",
     "output_type": "stream",
     "text": [
      "                                                                                \r"
     ]
    }
   ],
   "source": [
    "data_loc = \"../data/tables/\"\n",
    "consumer = spark.read.parquet(data_loc+\"consumer_user_details.parquet\")\n",
    "tbl_consumer = spark.read.csv(data_loc+\"tbl_consumer.csv\", sep=\"|\", header=True)\n",
    "tbl_merchant = spark.read.parquet(data_loc+\"tbl_merchants.parquet\")\n",
    "transact = spark.read.parquet(data_loc+\"transactions_20210228_20210827_snapshot/\")"
   ]
  },
  {
   "cell_type": "markdown",
   "metadata": {},
   "source": [
    "<h2> 1. Standardize column format of tables</h2>"
   ]
  },
  {
   "cell_type": "markdown",
   "metadata": {},
   "source": [
    "<h3>1.1 \"tbl_merchants.parquet\"</h3>"
   ]
  },
  {
   "cell_type": "code",
   "execution_count": 3,
   "metadata": {},
   "outputs": [
    {
     "name": "stderr",
     "output_type": "stream",
     "text": [
      "                                                                                \r"
     ]
    },
    {
     "name": "stdout",
     "output_type": "stream",
     "text": [
      "+--------------------+--------------------+------------+\n",
      "|                name|                tags|merchant_abn|\n",
      "+--------------------+--------------------+------------+\n",
      "|       Felis Limited|((furniture, home...| 10023283211|\n",
      "|Arcu Ac Orci Corp...|([cable, satellit...| 10142254217|\n",
      "|    Nunc Sed Company|([jewelry, watch,...| 10165489824|\n",
      "|Ultricies Digniss...|([wAtch, clock, a...| 10187291046|\n",
      "| Enim Condimentum PC|([music shops - m...| 10192359162|\n",
      "+--------------------+--------------------+------------+\n",
      "only showing top 5 rows\n",
      "\n"
     ]
    }
   ],
   "source": [
    "tbl_merchant.show(5)"
   ]
  },
  {
   "cell_type": "code",
   "execution_count": 4,
   "metadata": {},
   "outputs": [],
   "source": [
    "# separate \"tags\" into \"products\", \"revenue_level\", \"take_rate\"\n",
    "preprocessed_tbl_merchant = tbl_merchant.withColumn(\"split_tags\", split(col(\"tags\"), \",\")) \\\n",
    "            .withColumn(\"take_rate\", element_at(col(\"split_tags\"), -1)) \\\n",
    "            .withColumn(\"revenue_level\", element_at(col(\"split_tags\"), -2)) \\\n",
    "            .withColumn(\"products\", slice(reverse(col(\"split_tags\")), 3, 100)) \\\n",
    "            .withColumn(\"products\", reverse(col(\"products\")))\n"
   ]
  },
  {
   "cell_type": "code",
   "execution_count": 5,
   "metadata": {},
   "outputs": [],
   "source": [
    "# remove the special characters of \"revenue_level\" and \"take_rate\"\n",
    "preprocessed_tbl_merchant = preprocessed_tbl_merchant.withColumn(\"revenue_level\", regexp_replace(\"revenue_level\", \"[^a-e]\", \"\")) \\\n",
    "                                                     .withColumn(\"take_rate\", regexp_replace(\"take_rate\", \"[^0-9.]\", \"\"))"
   ]
  },
  {
   "cell_type": "code",
   "execution_count": 6,
   "metadata": {},
   "outputs": [],
   "source": [
    "# standardize the values in \"products\" and vectorize \"products\" into the bags of word\n",
    "preprocessed_tbl_merchant = preprocessed_tbl_merchant.withColumn(\"products\", concat_ws(\",\", col(\"products\"))) \\\n",
    "                                                     .withColumn(\"products\", regexp_replace(\"products\", \"[^A-Za-z0-9]\", \" \")) \\\n",
    "                                                     .withColumn(\"products\", regexp_replace(\"products\", \"\\s+\", \" \")) \\\n",
    "                                                     .withColumn(\"products\", regexp_replace(\"products\", \"(^\\s+)|(\\s+$)\", \"\")) \\\n",
    "                                                     .withColumn(\"products\", lower(col(\"products\"))) \\\n",
    "                                                     .withColumn(\"products\", split(col(\"products\"), \" \"))"
   ]
  },
  {
   "cell_type": "code",
   "execution_count": 7,
   "metadata": {},
   "outputs": [],
   "source": [
    "preprocessed_tbl_merchant = preprocessed_tbl_merchant.withColumnRenamed(\"name\", \"merchant_name\")\n",
    "preprocessed_tbl_merchant = preprocessed_tbl_merchant.select(\"merchant_name\", \"products\", \"revenue_level\", \"take_rate\", \"merchant_abn\")"
   ]
  },
  {
   "cell_type": "code",
   "execution_count": 8,
   "metadata": {},
   "outputs": [
    {
     "name": "stdout",
     "output_type": "stream",
     "text": [
      "+--------------------+--------------------+-------------+---------+------------+\n",
      "|       merchant_name|            products|revenue_level|take_rate|merchant_abn|\n",
      "+--------------------+--------------------+-------------+---------+------------+\n",
      "|       Felis Limited|[furniture, home,...|            e|     0.18| 10023283211|\n",
      "|Arcu Ac Orci Corp...|[cable, satellite...|            b|     4.22| 10142254217|\n",
      "|    Nunc Sed Company|[jewelry, watch, ...|            b|     4.40| 10165489824|\n",
      "|Ultricies Digniss...|[watch, clock, an...|            b|     3.29| 10187291046|\n",
      "| Enim Condimentum PC|[music, shops, mu...|            a|     6.33| 10192359162|\n",
      "+--------------------+--------------------+-------------+---------+------------+\n",
      "only showing top 5 rows\n",
      "\n"
     ]
    }
   ],
   "source": [
    "preprocessed_tbl_merchant.show(5)"
   ]
  },
  {
   "cell_type": "markdown",
   "metadata": {},
   "source": [
    "<h3>1.2 \"transactions_20210228_20210827_snapshot\"</h3>"
   ]
  },
  {
   "cell_type": "code",
   "execution_count": 9,
   "metadata": {},
   "outputs": [
    {
     "name": "stdout",
     "output_type": "stream",
     "text": [
      "+-------+------------+------------------+--------------------+--------------+\n",
      "|user_id|merchant_abn|      dollar_value|            order_id|order_datetime|\n",
      "+-------+------------+------------------+--------------------+--------------+\n",
      "|  18478| 62191208634|63.255848959735246|949a63c8-29f7-4ab...|    2021-08-20|\n",
      "|      2| 15549624934| 130.3505283105634|6a84c3cf-612a-457...|    2021-08-20|\n",
      "|  18479| 64403598239|120.15860593212783|b10dcc33-e53f-425...|    2021-08-20|\n",
      "|      3| 60956456424| 136.6785200286976|0f09c5a5-784e-447...|    2021-08-20|\n",
      "|  18479| 94493496784| 72.96316578355305|f6c78c1a-4600-4c5...|    2021-08-20|\n",
      "+-------+------------+------------------+--------------------+--------------+\n",
      "only showing top 5 rows\n",
      "\n"
     ]
    }
   ],
   "source": [
    "transact.show(5)"
   ]
  },
  {
   "cell_type": "code",
   "execution_count": 10,
   "metadata": {},
   "outputs": [],
   "source": [
    "# separate pickup datetime into date, year, month and day\n",
    "preprocessed_transact = transact.withColumn('order_year', year(col('order_datetime')))\n",
    "preprocessed_transact = preprocessed_transact.withColumn('order_month', month(col('order_datetime')))\n",
    "preprocessed_transact = preprocessed_transact.withColumn('order_day', dayofmonth(col('order_datetime')))\n",
    "preprocessed_transact = preprocessed_transact.withColumnRenamed('merchant_abn', 'merchant_abn_repeat')"
   ]
  },
  {
   "cell_type": "code",
   "execution_count": 11,
   "metadata": {},
   "outputs": [
    {
     "name": "stdout",
     "output_type": "stream",
     "text": [
      "+-------+-------------------+------------------+--------------------+--------------+----------+-----------+---------+\n",
      "|user_id|merchant_abn_repeat|      dollar_value|            order_id|order_datetime|order_year|order_month|order_day|\n",
      "+-------+-------------------+------------------+--------------------+--------------+----------+-----------+---------+\n",
      "|  18478|        62191208634|63.255848959735246|949a63c8-29f7-4ab...|    2021-08-20|      2021|          8|       20|\n",
      "|      2|        15549624934| 130.3505283105634|6a84c3cf-612a-457...|    2021-08-20|      2021|          8|       20|\n",
      "|  18479|        64403598239|120.15860593212783|b10dcc33-e53f-425...|    2021-08-20|      2021|          8|       20|\n",
      "|      3|        60956456424| 136.6785200286976|0f09c5a5-784e-447...|    2021-08-20|      2021|          8|       20|\n",
      "|  18479|        94493496784| 72.96316578355305|f6c78c1a-4600-4c5...|    2021-08-20|      2021|          8|       20|\n",
      "+-------+-------------------+------------------+--------------------+--------------+----------+-----------+---------+\n",
      "only showing top 5 rows\n",
      "\n"
     ]
    }
   ],
   "source": [
    "preprocessed_transact.show(5)"
   ]
  },
  {
   "cell_type": "markdown",
   "metadata": {},
   "source": [
    "<h3>1.3 \"tbl_consumer.csv\"</h3>"
   ]
  },
  {
   "cell_type": "code",
   "execution_count": 12,
   "metadata": {},
   "outputs": [
    {
     "name": "stdout",
     "output_type": "stream",
     "text": [
      "+-----------------+--------------------+-----+--------+------+-----------+\n",
      "|             name|             address|state|postcode|gender|consumer_id|\n",
      "+-----------------+--------------------+-----+--------+------+-----------+\n",
      "| Yolanda Williams|413 Haney Gardens...|   WA|    6935|Female|    1195503|\n",
      "|       Mary Smith|     3764 Amber Oval|  NSW|    2782|Female|     179208|\n",
      "|    Jill Jones MD|  40693 Henry Greens|   NT|     862|Female|    1194530|\n",
      "|  Lindsay Jimenez|00653 Davenport C...|  NSW|    2780|Female|     154128|\n",
      "|Rebecca Blanchard|9271 Michael Mano...|   WA|    6355|Female|     712975|\n",
      "+-----------------+--------------------+-----+--------+------+-----------+\n",
      "only showing top 5 rows\n",
      "\n"
     ]
    }
   ],
   "source": [
    "tbl_consumer.show(5)"
   ]
  },
  {
   "cell_type": "code",
   "execution_count": 13,
   "metadata": {},
   "outputs": [],
   "source": [
    "preprocessed_tbl_consumer = tbl_consumer.withColumnRenamed(\"name\", \"consumer\")\n",
    "preprocessed_tbl_consumer = preprocessed_tbl_consumer.withColumnRenamed(\"address\", \"consumer_address\")\n",
    "preprocessed_tbl_consumer = preprocessed_tbl_consumer.withColumnRenamed(\"state\", \"consumer_state\")\n",
    "preprocessed_tbl_consumer = preprocessed_tbl_consumer.withColumnRenamed(\"postcode\", \"consumer_postcode\")\n",
    "preprocessed_tbl_consumer = preprocessed_tbl_consumer.withColumnRenamed(\"gender\", \"consumer_gender\")"
   ]
  },
  {
   "cell_type": "code",
   "execution_count": 14,
   "metadata": {},
   "outputs": [
    {
     "name": "stdout",
     "output_type": "stream",
     "text": [
      "+-----------------+--------------------+--------------+-----------------+---------------+-----------+\n",
      "|         consumer|    consumer_address|consumer_state|consumer_postcode|consumer_gender|consumer_id|\n",
      "+-----------------+--------------------+--------------+-----------------+---------------+-----------+\n",
      "| Yolanda Williams|413 Haney Gardens...|            WA|             6935|         Female|    1195503|\n",
      "|       Mary Smith|     3764 Amber Oval|           NSW|             2782|         Female|     179208|\n",
      "|    Jill Jones MD|  40693 Henry Greens|            NT|              862|         Female|    1194530|\n",
      "|  Lindsay Jimenez|00653 Davenport C...|           NSW|             2780|         Female|     154128|\n",
      "|Rebecca Blanchard|9271 Michael Mano...|            WA|             6355|         Female|     712975|\n",
      "+-----------------+--------------------+--------------+-----------------+---------------+-----------+\n",
      "only showing top 5 rows\n",
      "\n"
     ]
    }
   ],
   "source": [
    "preprocessed_tbl_consumer.show(5)"
   ]
  },
  {
   "cell_type": "markdown",
   "metadata": {},
   "source": [
    "<h3>1.4 \"consumer.parquet\"</h3>"
   ]
  },
  {
   "cell_type": "code",
   "execution_count": 15,
   "metadata": {},
   "outputs": [
    {
     "name": "stdout",
     "output_type": "stream",
     "text": [
      "+-------+-----------+\n",
      "|user_id|consumer_id|\n",
      "+-------+-----------+\n",
      "|      1|    1195503|\n",
      "|      2|     179208|\n",
      "|      3|    1194530|\n",
      "|      4|     154128|\n",
      "|      5|     712975|\n",
      "+-------+-----------+\n",
      "only showing top 5 rows\n",
      "\n"
     ]
    }
   ],
   "source": [
    "consumer.show(5)"
   ]
  },
  {
   "cell_type": "code",
   "execution_count": 16,
   "metadata": {},
   "outputs": [],
   "source": [
    "preprocessed_consumer = consumer.withColumnRenamed(\"user_id\", \"user_id_repeat\")\n",
    "preprocessed_consumer = preprocessed_consumer.withColumnRenamed(\"consumer_id\", \"consumer_id_repeat\")"
   ]
  },
  {
   "cell_type": "code",
   "execution_count": 17,
   "metadata": {},
   "outputs": [
    {
     "name": "stdout",
     "output_type": "stream",
     "text": [
      "+--------------+------------------+\n",
      "|user_id_repeat|consumer_id_repeat|\n",
      "+--------------+------------------+\n",
      "|             1|           1195503|\n",
      "|             2|            179208|\n",
      "|             3|           1194530|\n",
      "|             4|            154128|\n",
      "|             5|            712975|\n",
      "+--------------+------------------+\n",
      "only showing top 5 rows\n",
      "\n"
     ]
    }
   ],
   "source": [
    "preprocessed_consumer.show(5)"
   ]
  },
  {
   "cell_type": "markdown",
   "metadata": {},
   "source": [
    "<h2>2. Join tables</h2>"
   ]
  },
  {
   "cell_type": "code",
   "execution_count": 22,
   "metadata": {},
   "outputs": [],
   "source": [
    "preprocessed_tbl_merchant.createOrReplaceTempView('merchant')\n",
    "preprocessed_transact.createOrReplaceTempView('transact')\n",
    "preprocessed_tbl_consumer.createOrReplaceTempView('tbl_consumer')\n",
    "preprocessed_consumer.createOrReplaceTempView('consumer')\n",
    "\n",
    "join = spark.sql(\"\"\"\n",
    "SELECT \n",
    "    *\n",
    "FROM \n",
    "    merchant\n",
    "INNER JOIN\n",
    "    transact\n",
    "ON \n",
    "    transact.merchant_abn_repeat = merchant.merchant_abn\n",
    "INNER JOIN\n",
    "    consumer\n",
    "ON\n",
    "    transact.user_id = consumer.user_id_repeat\n",
    "INNER JOIN\n",
    "    tbl_consumer\n",
    "ON \n",
    "    consumer.consumer_id_repeat = tbl_consumer.consumer_id\n",
    "ORDER BY\n",
    "    revenue_level DESC\n",
    "\"\"\")\n",
    "\n",
    "join = join.drop(\"merchant_abn_repeat\", \"consumer_id_repeat\", \"user_id_repeat\", \"merchant_abn\", \"consumer_id\", \"user_id\", \"order_id\", \"order_datetime\")"
   ]
  },
  {
   "cell_type": "code",
   "execution_count": 23,
   "metadata": {},
   "outputs": [
    {
     "name": "stderr",
     "output_type": "stream",
     "text": [
      "                                                                                \r"
     ]
    },
    {
     "data": {
      "text/html": [
       "<table border='1'>\n",
       "<tr><th>merchant_name</th><th>products</th><th>revenue_level</th><th>take_rate</th><th>dollar_value</th><th>order_year</th><th>order_month</th><th>order_day</th><th>consumer</th><th>consumer_address</th><th>consumer_state</th><th>consumer_postcode</th><th>consumer_gender</th></tr>\n",
       "<tr><td>Ante Ipsum Ltd</td><td>[motor, vehicle, ...</td><td>e</td><td>0.40</td><td>89.45608913706383</td><td>2021</td><td>7</td><td>25</td><td>Denise Carlson</td><td>264 Mckee Fork</td><td>NSW</td><td>2365</td><td>Undisclosed</td></tr>\n",
       "<tr><td>Suscipit LLC</td><td>[computer, progra...</td><td>e</td><td>0.30</td><td>168.85177062560598</td><td>2021</td><td>5</td><td>28</td><td>Mitchell Anderson</td><td>96440 Jason Junct...</td><td>WA</td><td>6571</td><td>Male</td></tr>\n",
       "<tr><td>Et Nunc Consulting</td><td>[books, periodica...</td><td>e</td><td>0.16</td><td>216.42430445264182</td><td>2021</td><td>5</td><td>4</td><td>Denise Carlson</td><td>264 Mckee Fork</td><td>NSW</td><td>2365</td><td>Undisclosed</td></tr>\n",
       "<tr><td>Augue Eu Tempor A...</td><td>[cable, satellite...</td><td>e</td><td>0.38</td><td>148.40373962283525</td><td>2021</td><td>6</td><td>20</td><td>Denise Carlson</td><td>264 Mckee Fork</td><td>NSW</td><td>2365</td><td>Undisclosed</td></tr>\n",
       "<tr><td>Et Nunc Consulting</td><td>[books, periodica...</td><td>e</td><td>0.16</td><td>19.451929403055264</td><td>2021</td><td>8</td><td>16</td><td>John Jacobson</td><td>8591 Joseph Spurs</td><td>SA</td><td>5075</td><td>Male</td></tr>\n",
       "<tr><td>Metus Sit Amet In...</td><td>[cable, satellite...</td><td>e</td><td>0.38</td><td>36.66887729633342</td><td>2021</td><td>7</td><td>21</td><td>Ashley Ellis</td><td>08935 Anderson Cr...</td><td>NSW</td><td>1001</td><td>Female</td></tr>\n",
       "<tr><td>Lacus Mauris Asso...</td><td>[shoe, shops]</td><td>e</td><td>0.48</td><td>230.25819931082708</td><td>2021</td><td>7</td><td>10</td><td>John Jacobson</td><td>8591 Joseph Spurs</td><td>SA</td><td>5075</td><td>Male</td></tr>\n",
       "<tr><td>Nunc Est LLP</td><td>[watch, clock, an...</td><td>e</td><td>0.22</td><td>28.73494624499277</td><td>2021</td><td>8</td><td>14</td><td>Faith Arnold</td><td>697 Jensen Square...</td><td>QLD</td><td>4825</td><td>Female</td></tr>\n",
       "<tr><td>Lacus Mauris Asso...</td><td>[shoe, shops]</td><td>e</td><td>0.48</td><td>355.5670800016783</td><td>2021</td><td>5</td><td>3</td><td>John Jacobson</td><td>8591 Joseph Spurs</td><td>SA</td><td>5075</td><td>Male</td></tr>\n",
       "<tr><td>Et Nunc Consulting</td><td>[books, periodica...</td><td>e</td><td>0.16</td><td>515.2212425798289</td><td>2021</td><td>8</td><td>26</td><td>Daniel Roberson</td><td>102 Anthony Camp ...</td><td>VIC</td><td>3636</td><td>Male</td></tr>\n",
       "<tr><td>Et Nunc Consulting</td><td>[books, periodica...</td><td>e</td><td>0.16</td><td>514.8071773720885</td><td>2021</td><td>5</td><td>23</td><td>Douglas Hall</td><td>121 Sandra Loaf A...</td><td>VIC</td><td>3928</td><td>Male</td></tr>\n",
       "<tr><td>Sed Company</td><td>[computer, progra...</td><td>e</td><td>0.41</td><td>386.82019421196026</td><td>2021</td><td>4</td><td>8</td><td>Daniel Roberson</td><td>102 Anthony Camp ...</td><td>VIC</td><td>3636</td><td>Male</td></tr>\n",
       "<tr><td>Et Nunc Consulting</td><td>[books, periodica...</td><td>e</td><td>0.16</td><td>292.9684371499003</td><td>2021</td><td>3</td><td>3</td><td>Kelly Frey</td><td>98937 Brian Passage</td><td>NSW</td><td>2058</td><td>Female</td></tr>\n",
       "<tr><td>Hendrerit Donec L...</td><td>[digital, goods, ...</td><td>e</td><td>0.18</td><td>56.79767527131681</td><td>2021</td><td>3</td><td>12</td><td>Daniel Roberson</td><td>102 Anthony Camp ...</td><td>VIC</td><td>3636</td><td>Male</td></tr>\n",
       "<tr><td>Augue Eu Tempor A...</td><td>[cable, satellite...</td><td>e</td><td>0.38</td><td>37.99905644126924</td><td>2021</td><td>5</td><td>6</td><td>Miguel Farley</td><td>71899 Christine R...</td><td>WA</td><td>6754</td><td>Male</td></tr>\n",
       "<tr><td>Et Nunc Consulting</td><td>[books, periodica...</td><td>e</td><td>0.16</td><td>392.8140438588228</td><td>2021</td><td>7</td><td>9</td><td>Heather Logan</td><td>0780 Daniel Prairie</td><td>WA</td><td>6468</td><td>Female</td></tr>\n",
       "<tr><td>Et Nunc Consulting</td><td>[books, periodica...</td><td>e</td><td>0.16</td><td>408.7741619624538</td><td>2021</td><td>7</td><td>1</td><td>Heather Gomez</td><td>7210 Cordova Manors</td><td>VIC</td><td>3930</td><td>Female</td></tr>\n",
       "<tr><td>Dis Parturient Co...</td><td>[gift, card, nove...</td><td>e</td><td>0.24</td><td>106.4216983216405</td><td>2021</td><td>8</td><td>17</td><td>Heather Logan</td><td>0780 Daniel Prairie</td><td>WA</td><td>6468</td><td>Female</td></tr>\n",
       "<tr><td>Augue Eu Tempor A...</td><td>[cable, satellite...</td><td>e</td><td>0.38</td><td>278.5861611242512</td><td>2021</td><td>7</td><td>18</td><td>Theresa Trevino</td><td>85895 Smith Heigh...</td><td>QLD</td><td>4881</td><td>Female</td></tr>\n",
       "<tr><td>Eros Industries</td><td>[computer, progra...</td><td>e</td><td>0.41</td><td>383.3573250439399</td><td>2021</td><td>6</td><td>28</td><td>Heather Logan</td><td>0780 Daniel Prairie</td><td>WA</td><td>6468</td><td>Female</td></tr>\n",
       "</table>\n",
       "only showing top 20 rows\n"
      ],
      "text/plain": [
       "+--------------------+--------------------+-------------+---------+------------------+----------+-----------+---------+----------------+--------------------+--------------+-----------------+---------------+\n",
       "|       merchant_name|            products|revenue_level|take_rate|      dollar_value|order_year|order_month|order_day|        consumer|    consumer_address|consumer_state|consumer_postcode|consumer_gender|\n",
       "+--------------------+--------------------+-------------+---------+------------------+----------+-----------+---------+----------------+--------------------+--------------+-----------------+---------------+\n",
       "|Metus Sit Amet In...|[cable, satellite...|            e|     0.38| 48.55637942130284|      2021|          3|        5|    Carol Kelley|79229 Tiffany Str...|           NSW|             2768|         Female|\n",
       "|Lacus Mauris Asso...|       [shoe, shops]|            e|     0.48| 306.2836044736155|      2021|          6|        7|    Janice Payne|397 Dudley Cliff ...|            WA|             6514|         Female|\n",
       "|Lacus Mauris Asso...|       [shoe, shops]|            e|     0.48|310.20043945437243|      2021|          4|        7|    Carol Kelley|79229 Tiffany Str...|           NSW|             2768|         Female|\n",
       "|Metus Sit Amet In...|[cable, satellite...|            e|     0.38| 76.89269476929852|      2021|          7|        4| Courtney Torres| 6945 Higgins Brooks|            SA|             5581|         Female|\n",
       "|Augue Eu Tempor A...|[cable, satellite...|            e|     0.38| 32.38583077052173|      2021|          5|       14|   Pamela Parker|93935 Claudia Ove...|           VIC|             3420|         Female|\n",
       "|        Nunc Est LLP|[watch, clock, an...|            e|     0.22|34.991830355501236|      2021|          7|       30|  Devin Martinez|6431 Morrison Par...|           VIC|             3793|           Male|\n",
       "|Non Lobortis Corp...|[computer, progra...|            e|     0.36|108.35386326892124|      2021|          4|       21|   Pamela Parker|93935 Claudia Ove...|           VIC|             3420|         Female|\n",
       "|Augue Eu Tempor A...|[cable, satellite...|            e|     0.38| 86.99620793477416|      2021|          8|       23|  Rachel Stevens|2093 Valenzuela K...|           NSW|             2163|         Female|\n",
       "|       Felis Limited|[furniture, home,...|            e|     0.18|235.95016198511814|      2021|          4|       11|   Pamela Parker|93935 Claudia Ove...|           VIC|             3420|         Female|\n",
       "|   Quis Turpis Corp.|[tent, and, awnin...|            e|     0.48|1400.4149012702117|      2021|          6|        4|    Joshua Clark|539 Robert Mill S...|           NSW|             2559|           Male|\n",
       "|        Nunc Est LLP|[watch, clock, an...|            e|     0.22|27.072040438748342|      2021|          5|       24|    Kelly Thomas|6248 Holt Points ...|           NSW|             2477|         Female|\n",
       "|  Et Nunc Consulting|[books, periodica...|            e|     0.16|47.692738168026644|      2021|          5|       22|  Carrie Mcguire|418 Shields Alley...|            WA|             6572|         Female|\n",
       "|Metus Sit Amet In...|[cable, satellite...|            e|     0.38|53.612312220810715|      2021|          6|        1|    Kelly Thomas|6248 Holt Points ...|           NSW|             2477|         Female|\n",
       "|Non Lobortis Corp...|[computer, progra...|            e|     0.36| 186.8460977820335|      2021|          5|       18| Denise Jennings|  56970 Chavez Manor|           TAS|             7185|         Female|\n",
       "|  Et Nunc Consulting|[books, periodica...|            e|     0.16| 40.21657290471898|      2021|          5|        7|    David Barker|     006 Joanne Glen|           TAS|             7320|           Male|\n",
       "|Non Lobortis Corp...|[computer, progra...|            e|     0.36| 63.09527788110735|      2021|          5|       25|    Phyllis Cole|53835 Cisneros Un...|           VIC|             3336|         Female|\n",
       "|  Et Nunc Consulting|[books, periodica...|            e|     0.16| 61.16440675562517|      2021|          6|        8|   Brenda Miller|42070 Colleen Spring|           NSW|             2359|    Undisclosed|\n",
       "|Metus Sit Amet In...|[cable, satellite...|            e|     0.38|17.710122522919047|      2021|          7|       30|  Rachel Stevens|2093 Valenzuela K...|           NSW|             2163|         Female|\n",
       "|  Et Nunc Consulting|[books, periodica...|            e|     0.16|19.078139995358068|      2021|          8|       27|Katherine Warren|66643 Chambers Me...|            WA|             6152|    Undisclosed|\n",
       "|        Nunc Est LLP|[watch, clock, an...|            e|     0.22|119.10880470862027|      2021|          3|       27|     Lucas Payne|2153 Bell Club Ap...|           NSW|             1236|           Male|\n",
       "+--------------------+--------------------+-------------+---------+------------------+----------+-----------+---------+----------------+--------------------+--------------+-----------------+---------------+\n",
       "only showing top 20 rows"
      ]
     },
     "execution_count": 23,
     "metadata": {},
     "output_type": "execute_result"
    }
   ],
   "source": [
    "join"
   ]
  }
 ],
 "metadata": {
  "kernelspec": {
   "display_name": "Python 3.9.12 64-bit",
   "language": "python",
   "name": "python3"
  },
  "language_info": {
   "codemirror_mode": {
    "name": "ipython",
    "version": 3
   },
   "file_extension": ".py",
   "mimetype": "text/x-python",
   "name": "python",
   "nbconvert_exporter": "python",
   "pygments_lexer": "ipython3",
   "version": "3.9.12"
  },
  "orig_nbformat": 4,
  "vscode": {
   "interpreter": {
    "hash": "949777d72b0d2535278d3dc13498b2535136f6dfe0678499012e853ee9abcab1"
   }
  }
 },
 "nbformat": 4,
 "nbformat_minor": 2
}
