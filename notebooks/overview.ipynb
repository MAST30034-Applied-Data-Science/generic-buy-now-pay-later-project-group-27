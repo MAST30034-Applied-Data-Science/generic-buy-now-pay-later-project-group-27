{
 "cells": [
  {
   "cell_type": "code",
   "execution_count": 27,
   "metadata": {},
   "outputs": [],
   "source": [
    "from pyspark.sql import SparkSession\n",
    "from pyspark.sql.functions import *\n",
    "\n",
    "spark = (\n",
    "    SparkSession.builder.appName(\"ADS project 2\")\n",
    "    .config(\"spark.sql.repl.eagerEval.enabled\", True) \n",
    "    .config(\"spark.sql.parquet.cacheMetadata\", \"true\")\n",
    "    .config(\"spark.sql.session.timeZone\", \"Etc/UTC\")\n",
    "    .config(\"spark.executor.memory\", \"2g\")\n",
    "    .config(\"spark.driver.memory\", \"4g\")\n",
    "    .getOrCreate()\n",
    ")"
   ]
  },
  {
   "cell_type": "code",
   "execution_count": 28,
   "metadata": {},
   "outputs": [
    {
     "name": "stdout",
     "output_type": "stream",
     "text": [
      "['../data/tables/transactions_20210228_20210827_snapshot/', '../data/tables/transactions_20220228_20220828_snapshot/', '../data/tables/transactions_20210828_20220227_snapshot/']\n"
     ]
    },
    {
     "name": "stderr",
     "output_type": "stream",
     "text": [
      "                                                                                \r"
     ]
    }
   ],
   "source": [
    "import os\n",
    "\n",
    "data_loc = \"../data/tables/\"\n",
    "consumer = spark.read.parquet(data_loc+\"consumer_user_details.parquet\")\n",
    "tbl_consumer = spark.read.csv(data_loc+\"tbl_consumer.csv\", sep=\"|\", header=True)\n",
    "tbl_merchant = spark.read.parquet(data_loc+\"tbl_merchants.parquet\")\n",
    "transactions = [data_loc + i + \"/\" for i in os.listdir(data_loc) if \"transactions\" in i]\n",
    "print(transactions)\n",
    "transact = spark.read.parquet('../data/tables/transactions_20210228_20210827_snapshot/')\n",
    "transact = transact.union(spark.read.parquet('../data/tables/transactions_20220228_20220828_snapshot/'))\n",
    "transact = transact.union(spark.read.parquet('../data/tables/transactions_20210828_20220227_snapshot/'))"
   ]
  },
  {
   "cell_type": "markdown",
   "metadata": {},
   "source": [
    "<h2> 1. Standardize column format of tables</h2>"
   ]
  },
  {
   "cell_type": "markdown",
   "metadata": {},
   "source": [
    "<h3>1.1 \"tbl_merchants.parquet\"</h3>"
   ]
  },
  {
   "cell_type": "code",
   "execution_count": 29,
   "metadata": {},
   "outputs": [
    {
     "name": "stdout",
     "output_type": "stream",
     "text": [
      "+--------------------+--------------------+------------+\n",
      "|                name|                tags|merchant_abn|\n",
      "+--------------------+--------------------+------------+\n",
      "|       Felis Limited|((furniture, home...| 10023283211|\n",
      "|Arcu Ac Orci Corp...|([cable, satellit...| 10142254217|\n",
      "|    Nunc Sed Company|([jewelry, watch,...| 10165489824|\n",
      "|Ultricies Digniss...|([wAtch, clock, a...| 10187291046|\n",
      "| Enim Condimentum PC|([music shops - m...| 10192359162|\n",
      "+--------------------+--------------------+------------+\n",
      "only showing top 5 rows\n",
      "\n"
     ]
    }
   ],
   "source": [
    "tbl_merchant.show(5)"
   ]
  },
  {
   "cell_type": "code",
   "execution_count": 30,
   "metadata": {},
   "outputs": [],
   "source": [
    "# separate \"tags\" into \"products\", \"revenue_level\", \"take_rate\"\n",
    "preprocessed_tbl_merchant = tbl_merchant.withColumn(\"split_tags\", split(col(\"tags\"), \",\")) \\\n",
    "            .withColumn(\"take_rate\", element_at(col(\"split_tags\"), -1)) \\\n",
    "            .withColumn(\"revenue_level\", element_at(col(\"split_tags\"), -2)) \\\n",
    "            .withColumn(\"products\", slice(reverse(col(\"split_tags\")), 3, 100)) \\\n",
    "            .withColumn(\"products\", reverse(col(\"products\")))"
   ]
  },
  {
   "cell_type": "code",
   "execution_count": 31,
   "metadata": {},
   "outputs": [],
   "source": [
    "# remove the special characters of \"revenue_level\" and \"take_rate\"\n",
    "preprocessed_tbl_merchant = preprocessed_tbl_merchant.withColumn(\"revenue_level\", regexp_replace(\"revenue_level\", \"[^a-e]\", \"\")) \\\n",
    "                                                     .withColumn(\"take_rate\", regexp_replace(\"take_rate\", \"[^0-9.]\", \"\"))"
   ]
  },
  {
   "cell_type": "code",
   "execution_count": 32,
   "metadata": {},
   "outputs": [],
   "source": [
    "# standardize the values in \"products\" and vectorize \"products\" into the bags of word\n",
    "preprocessed_tbl_merchant = preprocessed_tbl_merchant.withColumn(\"products\", concat_ws(\",\", col(\"products\"))) \\\n",
    "                                                     .withColumn(\"products\", regexp_replace(\"products\", \"[^A-Za-z0-9]\", \" \")) \\\n",
    "                                                     .withColumn(\"products\", regexp_replace(\"products\", \"\\s+\", \" \")) \\\n",
    "                                                     .withColumn(\"products\", regexp_replace(\"products\", \"(^\\s+)|(\\s+$)\", \"\")) \\\n",
    "                                                     .withColumn(\"products\", lower(col(\"products\"))) \\\n",
    "                                                    #  .withColumn(\"products\", split(col(\"products\"), \" \"))"
   ]
  },
  {
   "cell_type": "code",
   "execution_count": 33,
   "metadata": {},
   "outputs": [],
   "source": [
    "preprocessed_tbl_merchant = preprocessed_tbl_merchant.withColumnRenamed(\"name\", \"merchant_name\")\n",
    "preprocessed_tbl_merchant = preprocessed_tbl_merchant.select(\"merchant_name\", \"products\", \"revenue_level\",\n",
    "                                                             preprocessed_tbl_merchant.take_rate.cast(\"double\"), \"merchant_abn\")"
   ]
  },
  {
   "cell_type": "code",
   "execution_count": 34,
   "metadata": {},
   "outputs": [
    {
     "name": "stdout",
     "output_type": "stream",
     "text": [
      "+--------------------+--------------------+-------------+---------+------------+\n",
      "|       merchant_name|            products|revenue_level|take_rate|merchant_abn|\n",
      "+--------------------+--------------------+-------------+---------+------------+\n",
      "|       Felis Limited|furniture home fu...|            e|     0.18| 10023283211|\n",
      "|Arcu Ac Orci Corp...|cable satellite a...|            b|     4.22| 10142254217|\n",
      "|    Nunc Sed Company|jewelry watch clo...|            b|      4.4| 10165489824|\n",
      "|Ultricies Digniss...|watch clock and j...|            b|     3.29| 10187291046|\n",
      "| Enim Condimentum PC|music shops music...|            a|     6.33| 10192359162|\n",
      "+--------------------+--------------------+-------------+---------+------------+\n",
      "only showing top 5 rows\n",
      "\n"
     ]
    }
   ],
   "source": [
    "preprocessed_tbl_merchant.show(5)"
   ]
  },
  {
   "cell_type": "code",
   "execution_count": 35,
   "metadata": {},
   "outputs": [
    {
     "name": "stdout",
     "output_type": "stream",
     "text": [
      "95\n"
     ]
    },
    {
     "data": {
      "text/plain": [
       "['dealers',\n",
       " 'cable',\n",
       " 'systems',\n",
       " 'supplies',\n",
       " 'service',\n",
       " 'books',\n",
       " 'nursery',\n",
       " 'souvenir',\n",
       " 'spas',\n",
       " 'sales',\n",
       " 'al',\n",
       " 'computers',\n",
       " 'shoe',\n",
       " 'supply',\n",
       " 'leasing',\n",
       " 'eyeglasses',\n",
       " 'services',\n",
       " 'satellite',\n",
       " 'newspapers',\n",
       " 'antique',\n",
       " 'restoration',\n",
       " 'novelty',\n",
       " 'software',\n",
       " 'goods',\n",
       " 'other',\n",
       " 'tent',\n",
       " 'pay',\n",
       " 'appliance',\n",
       " 'periodicals',\n",
       " 'new',\n",
       " 'opticians',\n",
       " 'rent',\n",
       " 'digital',\n",
       " 'watch',\n",
       " 'toy',\n",
       " 'manufacturers',\n",
       " 'garden',\n",
       " 'florists',\n",
       " 'motor',\n",
       " 'telecom',\n",
       " 'optical',\n",
       " 'programming',\n",
       " 'music',\n",
       " 'design',\n",
       " 'jewelry',\n",
       " 'awning',\n",
       " 'galleries',\n",
       " 'including',\n",
       " 'gift',\n",
       " 'stock',\n",
       " 'beauty',\n",
       " 'musical',\n",
       " 'processing',\n",
       " 'movies',\n",
       " 'repair',\n",
       " 'lawn',\n",
       " 'computer',\n",
       " 'printing',\n",
       " 'parts',\n",
       " 'craft',\n",
       " 'furnishings',\n",
       " 'sheet',\n",
       " 'repairs',\n",
       " 'tool',\n",
       " 'equipment',\n",
       " 'radio',\n",
       " 'stationery',\n",
       " 'vehicle',\n",
       " 'appliances',\n",
       " 'peripheral',\n",
       " 'game',\n",
       " 'home',\n",
       " 'furniture',\n",
       " 'silverware',\n",
       " 'television',\n",
       " 'paper',\n",
       " 'nurseries',\n",
       " 'flowers',\n",
       " 'artist',\n",
       " 'bicycle',\n",
       " 'health',\n",
       " 'hobby',\n",
       " 'instruments',\n",
       " 'and',\n",
       " 'office',\n",
       " 'writing',\n",
       " 'outlets',\n",
       " 'clock',\n",
       " 'shops',\n",
       " 'art',\n",
       " 'integrated',\n",
       " 'pianos',\n",
       " 'card',\n",
       " 'data',\n",
       " 'except']"
      ]
     },
     "execution_count": 35,
     "metadata": {},
     "output_type": "execute_result"
    }
   ],
   "source": [
    "tags = preprocessed_tbl_merchant.rdd.map(lambda x: x[1]).collect()\n",
    "tags_unique = \" \".join(tags).split()\n",
    "tags_unique = list(set(tags_unique))\n",
    "print(len(tags_unique)) # not too many, can check some by hand, e.g. 'except' is the only word that has negative meaning\n",
    "tags_unique"
   ]
  },
  {
   "cell_type": "code",
   "execution_count": 36,
   "metadata": {},
   "outputs": [],
   "source": [
    "tags_tok = tags\n",
    "for i in range(len(tags)):\n",
    "    tags_tok[i] = tags_tok[i].split()\n",
    "    cur = [tags_tok[i][0]]\n",
    "    for j in range(1, len(tags_tok[i])):\n",
    "        if tags_tok[i][j-1] != \"except\":\n",
    "            if tags_tok[i][j] not in [\"and\", \"except\", \"other\", \"shops\", \"services\"]:\n",
    "                cur += [tags_tok[i][j]]\n",
    "    tags_tok[i] = cur\n",
    "# tags_tok"
   ]
  },
  {
   "cell_type": "code",
   "execution_count": 37,
   "metadata": {},
   "outputs": [
    {
     "name": "stdout",
     "output_type": "stream",
     "text": [
      "25\n"
     ]
    },
    {
     "data": {
      "text/plain": [
       "[['furniture', 'home', 'furnishings', 'equipment', 'manufacturers'],\n",
       " ['cable', 'satellite', 'pay', 'television', 'radio'],\n",
       " ['jewelry', 'watch', 'clock', 'silverware'],\n",
       " ['watch', 'clock', 'jewelry', 'repair'],\n",
       " ['music', 'musical', 'instruments', 'pianos', 'sheet', 'music'],\n",
       " ['gift', 'card', 'novelty', 'souvenir'],\n",
       " ['computers', 'computer', 'peripheral', 'equipment', 'software'],\n",
       " ['computer',\n",
       "  'programming',\n",
       "  'data',\n",
       "  'processing',\n",
       "  'integrated',\n",
       "  'systems',\n",
       "  'design'],\n",
       " ['equipment', 'tool', 'furniture', 'appliance', 'rent', 'al', 'leasing'],\n",
       " ['artist', 'supply', 'craft'],\n",
       " ['florists', 'supplies', 'nursery', 'stock', 'flowers'],\n",
       " ['antique', 'sales', 'repairs', 'restoration'],\n",
       " ['motor', 'vehicle', 'supplies', 'new', 'parts'],\n",
       " ['books', 'periodicals', 'newspapers'],\n",
       " ['stationery', 'office', 'supplies', 'printing', 'writing', 'paper'],\n",
       " ['tent', 'awning'],\n",
       " ['art', 'dealers', 'galleries'],\n",
       " ['bicycle', 'sales', 'service'],\n",
       " ['digital', 'goods', 'books', 'movies', 'music'],\n",
       " ['shoe'],\n",
       " ['opticians', 'optical', 'goods', 'eyeglasses'],\n",
       " ['health', 'beauty', 'spas'],\n",
       " ['hobby', 'toy', 'game'],\n",
       " ['lawn', 'garden', 'supply', 'outlets', 'including', 'nurseries'],\n",
       " ['telecom']]"
      ]
     },
     "execution_count": 37,
     "metadata": {},
     "output_type": "execute_result"
    }
   ],
   "source": [
    "tags_tok_unique = []\n",
    "for i in tags_tok:\n",
    "    if i not in tags_tok_unique:\n",
    "        tags_tok_unique += [i]\n",
    "print(len(tags_tok_unique)) # only 25 unique ones, can categorise manually\n",
    "tags_tok_unique"
   ]
  },
  {
   "cell_type": "code",
   "execution_count": 38,
   "metadata": {},
   "outputs": [
    {
     "data": {
      "text/plain": [
       "[('home and technology', 988),\n",
       " ('outdoors', 832),\n",
       " ('books and music', 829),\n",
       " ('fashion and accessories', 761),\n",
       " ('art and gifts', 616)]"
      ]
     },
     "execution_count": 38,
     "metadata": {},
     "output_type": "execute_result"
    }
   ],
   "source": [
    "import collections\n",
    "\n",
    "categories = [\n",
    "    'home and technology', 'home and technology', 'fashion and accessories', 'fashion and accessories', 'books and music',\n",
    "    'art and gifts', 'home and technology', 'home and technology', 'home and technology', 'art and gifts',\n",
    "    'outdoors', 'art and gifts', 'outdoors', 'books and music', 'books and music',\n",
    "    'outdoors', 'art and gifts', 'outdoors', 'books and music', 'fashion and accessories',\n",
    "    'fashion and accessories', 'fashion and accessories', 'books and music', 'outdoors', 'home and technology'\n",
    "]\n",
    "\n",
    "tag_to_cat = {\" \".join(tags_tok_unique[i]): categories[i] for i in range(len(categories))}\n",
    "cat_list = [tag_to_cat[\" \".join(i)] for i in tags_tok]\n",
    "\n",
    "collections.Counter([i for i in cat_list]).most_common()"
   ]
  },
  {
   "cell_type": "code",
   "execution_count": 39,
   "metadata": {},
   "outputs": [],
   "source": [
    "from pyspark.sql.types import *\n",
    "\n",
    "@udf(ArrayType(StringType()))\n",
    "def tokenise(tag):\n",
    "    tag = tag.split()\n",
    "    cur = [tag[0]]\n",
    "    for i in range(1, len(tag)):\n",
    "        if tag[i-1] != \"except\":\n",
    "            if tag[i] not in [\"and\", \"except\", \"other\", \"shops\", \"services\"]:\n",
    "                cur += [tag[i]]\n",
    "    return cur\n",
    "\n",
    "@udf(StringType())\n",
    "def categorise(tag):\n",
    "    tag = \" \".join(tag)\n",
    "    return tag_to_cat[tag]"
   ]
  },
  {
   "cell_type": "code",
   "execution_count": 40,
   "metadata": {},
   "outputs": [
    {
     "data": {
      "text/html": [
       "<table border='1'>\n",
       "<tr><th>merchant_name</th><th>products</th><th>revenue_level</th><th>take_rate</th><th>merchant_abn</th><th>tag</th><th>category</th></tr>\n",
       "<tr><td>Felis Limited</td><td>furniture home fu...</td><td>e</td><td>0.18</td><td>10023283211</td><td>furniture home fu...</td><td>home and technology</td></tr>\n",
       "<tr><td>Arcu Ac Orci Corp...</td><td>cable satellite a...</td><td>b</td><td>4.22</td><td>10142254217</td><td>cable satellite p...</td><td>home and technology</td></tr>\n",
       "<tr><td>Nunc Sed Company</td><td>jewelry watch clo...</td><td>b</td><td>4.4</td><td>10165489824</td><td>jewelry watch clo...</td><td>fashion and acces...</td></tr>\n",
       "<tr><td>Ultricies Digniss...</td><td>watch clock and j...</td><td>b</td><td>3.29</td><td>10187291046</td><td>watch clock jewel...</td><td>fashion and acces...</td></tr>\n",
       "<tr><td>Enim Condimentum PC</td><td>music shops music...</td><td>a</td><td>6.33</td><td>10192359162</td><td>music musical ins...</td><td>books and music</td></tr>\n",
       "<tr><td>Fusce Company</td><td>gift card novelty...</td><td>a</td><td>6.34</td><td>10206519221</td><td>gift card novelty...</td><td>art and gifts</td></tr>\n",
       "<tr><td>Aliquam Enim Inco...</td><td>computers compute...</td><td>b</td><td>4.32</td><td>10255988167</td><td>computers compute...</td><td>home and technology</td></tr>\n",
       "<tr><td>Ipsum Primis Ltd</td><td>watch clock and j...</td><td>c</td><td>2.39</td><td>10264435225</td><td>watch clock jewel...</td><td>fashion and acces...</td></tr>\n",
       "<tr><td>Pede Ultrices Ind...</td><td>computer programm...</td><td>a</td><td>5.71</td><td>10279061213</td><td>computer programm...</td><td>home and technology</td></tr>\n",
       "<tr><td>Nunc Inc.</td><td>furniture home fu...</td><td>a</td><td>6.61</td><td>10323485998</td><td>furniture home fu...</td><td>home and technology</td></tr>\n",
       "<tr><td>Facilisis Facilis...</td><td>computers compute...</td><td>a</td><td>6.34</td><td>10342410215</td><td>computers compute...</td><td>home and technology</td></tr>\n",
       "<tr><td>Odio Institute</td><td>equipment tool fu...</td><td>b</td><td>3.57</td><td>10346855916</td><td>equipment tool fu...</td><td>home and technology</td></tr>\n",
       "<tr><td>Rutrum Justo Ltd</td><td>music shops music...</td><td>b</td><td>3.63</td><td>10364012396</td><td>music musical ins...</td><td>books and music</td></tr>\n",
       "<tr><td>Tellus Foundation</td><td>artist supply and...</td><td>b</td><td>3.17</td><td>10385011947</td><td>artist supply craft</td><td>art and gifts</td></tr>\n",
       "<tr><td>Sed Et Company</td><td>florists supplies...</td><td>a</td><td>6.61</td><td>10385163239</td><td>florists supplies...</td><td>outdoors</td></tr>\n",
       "<tr><td>Id Ltd</td><td>computers compute...</td><td>a</td><td>5.54</td><td>10385250025</td><td>computers compute...</td><td>home and technology</td></tr>\n",
       "<tr><td>Consequat Foundation</td><td>antique shops sal...</td><td>a</td><td>6.93</td><td>10404542215</td><td>antique sales rep...</td><td>art and gifts</td></tr>\n",
       "<tr><td>Sit Amet Nulla Corp.</td><td>motor vehicle sup...</td><td>b</td><td>4.97</td><td>10430380319</td><td>motor vehicle sup...</td><td>outdoors</td></tr>\n",
       "<tr><td>Massa Vestibulum ...</td><td>motor vehicle sup...</td><td>a</td><td>5.77</td><td>10441711491</td><td>motor vehicle sup...</td><td>outdoors</td></tr>\n",
       "<tr><td>Ut Consulting</td><td>gift card novelty...</td><td>c</td><td>2.95</td><td>10462560289</td><td>gift card novelty...</td><td>art and gifts</td></tr>\n",
       "</table>\n",
       "only showing top 20 rows\n"
      ],
      "text/plain": [
       "+--------------------+--------------------+-------------+---------+------------+--------------------+--------------------+\n",
       "|       merchant_name|            products|revenue_level|take_rate|merchant_abn|                 tag|            category|\n",
       "+--------------------+--------------------+-------------+---------+------------+--------------------+--------------------+\n",
       "|       Felis Limited|furniture home fu...|            e|     0.18| 10023283211|furniture home fu...| home and technology|\n",
       "|Arcu Ac Orci Corp...|cable satellite a...|            b|     4.22| 10142254217|cable satellite p...| home and technology|\n",
       "|    Nunc Sed Company|jewelry watch clo...|            b|      4.4| 10165489824|jewelry watch clo...|fashion and acces...|\n",
       "|Ultricies Digniss...|watch clock and j...|            b|     3.29| 10187291046|watch clock jewel...|fashion and acces...|\n",
       "| Enim Condimentum PC|music shops music...|            a|     6.33| 10192359162|music musical ins...|     books and music|\n",
       "|       Fusce Company|gift card novelty...|            a|     6.34| 10206519221|gift card novelty...|       art and gifts|\n",
       "|Aliquam Enim Inco...|computers compute...|            b|     4.32| 10255988167|computers compute...| home and technology|\n",
       "|    Ipsum Primis Ltd|watch clock and j...|            c|     2.39| 10264435225|watch clock jewel...|fashion and acces...|\n",
       "|Pede Ultrices Ind...|computer programm...|            a|     5.71| 10279061213|computer programm...| home and technology|\n",
       "|           Nunc Inc.|furniture home fu...|            a|     6.61| 10323485998|furniture home fu...| home and technology|\n",
       "|Facilisis Facilis...|computers compute...|            a|     6.34| 10342410215|computers compute...| home and technology|\n",
       "|      Odio Institute|equipment tool fu...|            b|     3.57| 10346855916|equipment tool fu...| home and technology|\n",
       "|    Rutrum Justo Ltd|music shops music...|            b|     3.63| 10364012396|music musical ins...|     books and music|\n",
       "|   Tellus Foundation|artist supply and...|            b|     3.17| 10385011947| artist supply craft|       art and gifts|\n",
       "|      Sed Et Company|florists supplies...|            a|     6.61| 10385163239|florists supplies...|            outdoors|\n",
       "|              Id Ltd|computers compute...|            a|     5.54| 10385250025|computers compute...| home and technology|\n",
       "|Consequat Foundation|antique shops sal...|            a|     6.93| 10404542215|antique sales rep...|       art and gifts|\n",
       "|Sit Amet Nulla Corp.|motor vehicle sup...|            b|     4.97| 10430380319|motor vehicle sup...|            outdoors|\n",
       "|Massa Vestibulum ...|motor vehicle sup...|            a|     5.77| 10441711491|motor vehicle sup...|            outdoors|\n",
       "|       Ut Consulting|gift card novelty...|            c|     2.95| 10462560289|gift card novelty...|       art and gifts|\n",
       "+--------------------+--------------------+-------------+---------+------------+--------------------+--------------------+\n",
       "only showing top 20 rows"
      ]
     },
     "execution_count": 40,
     "metadata": {},
     "output_type": "execute_result"
    }
   ],
   "source": [
    "preprocessed_tbl_merchant_token = preprocessed_tbl_merchant.withColumn(\"tag\", tokenise(col(\"products\")))\n",
    "preprocessed_tbl_merchant_cat = preprocessed_tbl_merchant_token.withColumn(\"category\", categorise(col(\"tag\")))\n",
    "preprocessed_tbl_merchant_cat = preprocessed_tbl_merchant_cat.select(*(preprocessed_tbl_merchant_cat.columns[:5]),\n",
    "                                                                concat_ws(' ', 'tag').alias('tag'), \"category\")\n",
    "preprocessed_tbl_merchant_cat"
   ]
  },
  {
   "cell_type": "markdown",
   "metadata": {},
   "source": [
    "<h3>1.2 \"transactions_20210228_20210827_snapshot\"</h3>"
   ]
  },
  {
   "cell_type": "code",
   "execution_count": 41,
   "metadata": {},
   "outputs": [
    {
     "name": "stdout",
     "output_type": "stream",
     "text": [
      "+-------+------------+------------------+--------------------+--------------+\n",
      "|user_id|merchant_abn|      dollar_value|            order_id|order_datetime|\n",
      "+-------+------------+------------------+--------------------+--------------+\n",
      "|  18478| 62191208634|63.255848959735246|949a63c8-29f7-4ab...|    2021-08-20|\n",
      "|      2| 15549624934| 130.3505283105634|6a84c3cf-612a-457...|    2021-08-20|\n",
      "|  18479| 64403598239|120.15860593212783|b10dcc33-e53f-425...|    2021-08-20|\n",
      "|      3| 60956456424| 136.6785200286976|0f09c5a5-784e-447...|    2021-08-20|\n",
      "|  18479| 94493496784| 72.96316578355305|f6c78c1a-4600-4c5...|    2021-08-20|\n",
      "+-------+------------+------------------+--------------------+--------------+\n",
      "only showing top 5 rows\n",
      "\n"
     ]
    }
   ],
   "source": [
    "transact.show(5)"
   ]
  },
  {
   "cell_type": "code",
   "execution_count": 42,
   "metadata": {},
   "outputs": [],
   "source": [
    "# separate pickup datetime into date, year, month and day\n",
    "preprocessed_transact = transact.withColumn('order_year', year(col('order_datetime')))\n",
    "preprocessed_transact = preprocessed_transact.withColumn('order_month', month(col('order_datetime')))\n",
    "preprocessed_transact = preprocessed_transact.withColumn('order_day', dayofmonth(col('order_datetime')))\n",
    "preprocessed_transact = preprocessed_transact.withColumnRenamed('merchant_abn', 'merchant_abn_repeat')"
   ]
  },
  {
   "cell_type": "markdown",
   "metadata": {},
   "source": [
    "<h3>1.3 \"tbl_consumer.csv\"</h3>"
   ]
  },
  {
   "cell_type": "code",
   "execution_count": 43,
   "metadata": {},
   "outputs": [
    {
     "name": "stdout",
     "output_type": "stream",
     "text": [
      "+-----------------+--------------------+-----+--------+------+-----------+\n",
      "|             name|             address|state|postcode|gender|consumer_id|\n",
      "+-----------------+--------------------+-----+--------+------+-----------+\n",
      "| Yolanda Williams|413 Haney Gardens...|   WA|    6935|Female|    1195503|\n",
      "|       Mary Smith|     3764 Amber Oval|  NSW|    2782|Female|     179208|\n",
      "|    Jill Jones MD|  40693 Henry Greens|   NT|     862|Female|    1194530|\n",
      "|  Lindsay Jimenez|00653 Davenport C...|  NSW|    2780|Female|     154128|\n",
      "|Rebecca Blanchard|9271 Michael Mano...|   WA|    6355|Female|     712975|\n",
      "+-----------------+--------------------+-----+--------+------+-----------+\n",
      "only showing top 5 rows\n",
      "\n"
     ]
    }
   ],
   "source": [
    "tbl_consumer.show(5)"
   ]
  },
  {
   "cell_type": "code",
   "execution_count": 44,
   "metadata": {},
   "outputs": [],
   "source": [
    "preprocessed_tbl_consumer = tbl_consumer.withColumnRenamed(\"name\", \"consumer\")\n",
    "preprocessed_tbl_consumer = preprocessed_tbl_consumer.withColumnRenamed(\"address\", \"consumer_address\")\n",
    "preprocessed_tbl_consumer = preprocessed_tbl_consumer.withColumnRenamed(\"state\", \"consumer_state\")\n",
    "preprocessed_tbl_consumer = preprocessed_tbl_consumer.withColumnRenamed(\"postcode\", \"consumer_postcode\")\n",
    "preprocessed_tbl_consumer = preprocessed_tbl_consumer.withColumnRenamed(\"gender\", \"consumer_gender\")"
   ]
  },
  {
   "cell_type": "code",
   "execution_count": 45,
   "metadata": {},
   "outputs": [
    {
     "name": "stdout",
     "output_type": "stream",
     "text": [
      "+-----------------+--------------------+--------------+-----------------+---------------+-----------+\n",
      "|         consumer|    consumer_address|consumer_state|consumer_postcode|consumer_gender|consumer_id|\n",
      "+-----------------+--------------------+--------------+-----------------+---------------+-----------+\n",
      "| Yolanda Williams|413 Haney Gardens...|            WA|             6935|         Female|    1195503|\n",
      "|       Mary Smith|     3764 Amber Oval|           NSW|             2782|         Female|     179208|\n",
      "|    Jill Jones MD|  40693 Henry Greens|            NT|              862|         Female|    1194530|\n",
      "|  Lindsay Jimenez|00653 Davenport C...|           NSW|             2780|         Female|     154128|\n",
      "|Rebecca Blanchard|9271 Michael Mano...|            WA|             6355|         Female|     712975|\n",
      "+-----------------+--------------------+--------------+-----------------+---------------+-----------+\n",
      "only showing top 5 rows\n",
      "\n"
     ]
    }
   ],
   "source": [
    "preprocessed_tbl_consumer.show(5)"
   ]
  },
  {
   "cell_type": "markdown",
   "metadata": {},
   "source": [
    "<h3>1.4 \"consumer.parquet\"</h3>"
   ]
  },
  {
   "cell_type": "code",
   "execution_count": 46,
   "metadata": {},
   "outputs": [
    {
     "name": "stdout",
     "output_type": "stream",
     "text": [
      "+-------+-----------+\n",
      "|user_id|consumer_id|\n",
      "+-------+-----------+\n",
      "|      1|    1195503|\n",
      "|      2|     179208|\n",
      "|      3|    1194530|\n",
      "|      4|     154128|\n",
      "|      5|     712975|\n",
      "+-------+-----------+\n",
      "only showing top 5 rows\n",
      "\n"
     ]
    }
   ],
   "source": [
    "consumer.show(5)"
   ]
  },
  {
   "cell_type": "code",
   "execution_count": 47,
   "metadata": {},
   "outputs": [],
   "source": [
    "preprocessed_consumer = consumer.withColumnRenamed(\"user_id\", \"user_id_repeat\")\n",
    "preprocessed_consumer = preprocessed_consumer.withColumnRenamed(\"consumer_id\", \"consumer_id_repeat\")"
   ]
  },
  {
   "cell_type": "code",
   "execution_count": 48,
   "metadata": {},
   "outputs": [
    {
     "name": "stdout",
     "output_type": "stream",
     "text": [
      "+--------------+------------------+\n",
      "|user_id_repeat|consumer_id_repeat|\n",
      "+--------------+------------------+\n",
      "|             1|           1195503|\n",
      "|             2|            179208|\n",
      "|             3|           1194530|\n",
      "|             4|            154128|\n",
      "|             5|            712975|\n",
      "+--------------+------------------+\n",
      "only showing top 5 rows\n",
      "\n"
     ]
    }
   ],
   "source": [
    "preprocessed_consumer.show(5)"
   ]
  },
  {
   "cell_type": "markdown",
   "metadata": {},
   "source": [
    "<h2>2. Join tables</h2>"
   ]
  },
  {
   "cell_type": "code",
   "execution_count": 49,
   "metadata": {},
   "outputs": [
    {
     "name": "stderr",
     "output_type": "stream",
     "text": [
      "[Stage 81:=================================================>      (22 + 3) / 25]\r"
     ]
    },
    {
     "name": "stdout",
     "output_type": "stream",
     "text": [
      "Mismatched (null) transactions dropped: 580830\n"
     ]
    },
    {
     "name": "stderr",
     "output_type": "stream",
     "text": [
      "                                                                                \r"
     ]
    }
   ],
   "source": [
    "preprocessed_tbl_merchant_cat.createOrReplaceTempView('merchant')\n",
    "preprocessed_transact.createOrReplaceTempView('transact')\n",
    "preprocessed_tbl_consumer.createOrReplaceTempView('tbl_consumer')\n",
    "preprocessed_consumer.createOrReplaceTempView('consumer')\n",
    "\n",
    "join = spark.sql(\"\"\"\n",
    "SELECT \n",
    "    *\n",
    "FROM \n",
    "    merchant\n",
    "INNER JOIN\n",
    "    transact\n",
    "ON \n",
    "    transact.merchant_abn_repeat = merchant.merchant_abn\n",
    "INNER JOIN\n",
    "    consumer\n",
    "ON\n",
    "    transact.user_id = consumer.user_id_repeat\n",
    "INNER JOIN\n",
    "    tbl_consumer\n",
    "ON \n",
    "    consumer.consumer_id_repeat = tbl_consumer.consumer_id\n",
    "ORDER BY\n",
    "    revenue_level DESC\n",
    "\"\"\")\n",
    "\n",
    "join = join.drop(\"merchant_abn_repeat\", \"consumer_id_repeat\", \"user_id_repeat\", \"merchant_abn\", \"consumer_id\", \"order_id\")\n",
    "print(f\"Mismatched (null) transactions dropped: {preprocessed_transact.count() - join.count()}\")"
   ]
  },
  {
   "cell_type": "code",
   "execution_count": 50,
   "metadata": {},
   "outputs": [
    {
     "name": "stderr",
     "output_type": "stream",
     "text": [
      "                                                                                \r"
     ]
    },
    {
     "data": {
      "text/html": [
       "<table border='1'>\n",
       "<tr><th>merchant_name</th><th>products</th><th>revenue_level</th><th>take_rate</th><th>tag</th><th>category</th><th>user_id</th><th>dollar_value</th><th>order_datetime</th><th>order_year</th><th>order_month</th><th>order_day</th><th>consumer</th><th>consumer_address</th><th>consumer_state</th><th>consumer_postcode</th><th>consumer_gender</th></tr>\n",
       "<tr><td>Nullam Vitae Diam PC</td><td>opticians optical...</td><td>e</td><td>0.22</td><td>opticians optical...</td><td>fashion and acces...</td><td>23679</td><td>72.77954022414646</td><td>2021-09-13</td><td>2021</td><td>9</td><td>13</td><td>Roberto Robbins</td><td>3146 Eric Turnpik...</td><td>NSW</td><td>2396</td><td>Male</td></tr>\n",
       "<tr><td>Et Nunc Consulting</td><td>books periodicals...</td><td>e</td><td>0.16</td><td>books periodicals...</td><td>books and music</td><td>13065</td><td>481.02863662953126</td><td>2021-12-18</td><td>2021</td><td>12</td><td>18</td><td>Mark Mercer</td><td>74588 Erica Roads</td><td>VIC</td><td>3873</td><td>Male</td></tr>\n",
       "<tr><td>Augue Eu Tempor A...</td><td>cable satellite a...</td><td>e</td><td>0.38</td><td>cable satellite p...</td><td>home and technology</td><td>6305</td><td>36.24855550060353</td><td>2022-10-06</td><td>2022</td><td>10</td><td>6</td><td>Allison Stevens</td><td>60866 Miller Avenue</td><td>NSW</td><td>1193</td><td>Female</td></tr>\n",
       "<tr><td>Et Nunc Consulting</td><td>books periodicals...</td><td>e</td><td>0.16</td><td>books periodicals...</td><td>books and music</td><td>3698</td><td>263.7003863435179</td><td>2022-03-27</td><td>2022</td><td>3</td><td>27</td><td>Christopher Rodri...</td><td>30554 Evans Strea...</td><td>NSW</td><td>2299</td><td>Male</td></tr>\n",
       "<tr><td>Et Nunc Consulting</td><td>books periodicals...</td><td>e</td><td>0.16</td><td>books periodicals...</td><td>books and music</td><td>6305</td><td>147.74061765538696</td><td>2021-12-09</td><td>2021</td><td>12</td><td>9</td><td>Allison Stevens</td><td>60866 Miller Avenue</td><td>NSW</td><td>1193</td><td>Female</td></tr>\n",
       "<tr><td>Magna Sed Institute</td><td>cable satellite a...</td><td>e</td><td>0.31</td><td>cable satellite p...</td><td>home and technology</td><td>832</td><td>9.737964095722326</td><td>2021-05-10</td><td>2021</td><td>5</td><td>10</td><td>Brian Barnett</td><td>989 Robinson Street</td><td>NSW</td><td>2323</td><td>Male</td></tr>\n",
       "<tr><td>Dis Parturient Co...</td><td>gift card novelty...</td><td>e</td><td>0.24</td><td>gift card novelty...</td><td>art and gifts</td><td>6305</td><td>140.36239513919142</td><td>2021-11-08</td><td>2021</td><td>11</td><td>8</td><td>Allison Stevens</td><td>60866 Miller Avenue</td><td>NSW</td><td>1193</td><td>Female</td></tr>\n",
       "<tr><td>Nunc Est LLP</td><td>watch clock and j...</td><td>e</td><td>0.22</td><td>watch clock jewel...</td><td>fashion and acces...</td><td>23679</td><td>186.91415986083496</td><td>2021-05-27</td><td>2021</td><td>5</td><td>27</td><td>Roberto Robbins</td><td>3146 Eric Turnpik...</td><td>NSW</td><td>2396</td><td>Male</td></tr>\n",
       "<tr><td>Ante Industries</td><td>motor vehicle sup...</td><td>e</td><td>0.35</td><td>motor vehicle sup...</td><td>outdoors</td><td>2199</td><td>86.65631054124275</td><td>2022-09-21</td><td>2022</td><td>9</td><td>21</td><td>Kelly Krueger</td><td>039 Green Route</td><td>WA</td><td>6935</td><td>Undisclosed</td></tr>\n",
       "<tr><td>Metus Sit Amet In...</td><td>cable satellite a...</td><td>e</td><td>0.38</td><td>cable satellite p...</td><td>home and technology</td><td>23679</td><td>20.49850981713674</td><td>2021-07-04</td><td>2021</td><td>7</td><td>4</td><td>Roberto Robbins</td><td>3146 Eric Turnpik...</td><td>NSW</td><td>2396</td><td>Male</td></tr>\n",
       "<tr><td>Metus Sit Amet In...</td><td>cable satellite a...</td><td>e</td><td>0.38</td><td>cable satellite p...</td><td>home and technology</td><td>2199</td><td>36.97174094574666</td><td>2022-05-27</td><td>2022</td><td>5</td><td>27</td><td>Kelly Krueger</td><td>039 Green Route</td><td>WA</td><td>6935</td><td>Undisclosed</td></tr>\n",
       "<tr><td>Metus Sit Amet In...</td><td>cable satellite a...</td><td>e</td><td>0.38</td><td>cable satellite p...</td><td>home and technology</td><td>23679</td><td>57.27484630595788</td><td>2022-08-20</td><td>2022</td><td>8</td><td>20</td><td>Roberto Robbins</td><td>3146 Eric Turnpik...</td><td>NSW</td><td>2396</td><td>Male</td></tr>\n",
       "<tr><td>Et Nunc Consulting</td><td>books periodicals...</td><td>e</td><td>0.16</td><td>books periodicals...</td><td>books and music</td><td>2199</td><td>35.82192681169296</td><td>2022-06-03</td><td>2022</td><td>6</td><td>3</td><td>Kelly Krueger</td><td>039 Green Route</td><td>WA</td><td>6935</td><td>Undisclosed</td></tr>\n",
       "<tr><td>Nunc Est LLP</td><td>watch clock and j...</td><td>e</td><td>0.22</td><td>watch clock jewel...</td><td>fashion and acces...</td><td>2199</td><td>41.535731595446364</td><td>2021-10-08</td><td>2021</td><td>10</td><td>8</td><td>Kelly Krueger</td><td>039 Green Route</td><td>WA</td><td>6935</td><td>Undisclosed</td></tr>\n",
       "<tr><td>Nunc Est LLP</td><td>watch clock and j...</td><td>e</td><td>0.22</td><td>watch clock jewel...</td><td>fashion and acces...</td><td>13065</td><td>34.987765795653</td><td>2021-11-28</td><td>2021</td><td>11</td><td>28</td><td>Mark Mercer</td><td>74588 Erica Roads</td><td>VIC</td><td>3873</td><td>Male</td></tr>\n",
       "<tr><td>Hendrerit Donec L...</td><td>digital goods boo...</td><td>e</td><td>0.18</td><td>digital goods boo...</td><td>books and music</td><td>9039</td><td>17.760433649199893</td><td>2021-06-01</td><td>2021</td><td>6</td><td>1</td><td>Joseph Lynch</td><td>1730 Christopher ...</td><td>NSW</td><td>2070</td><td>Male</td></tr>\n",
       "<tr><td>Feugiat Nec Diam LLC</td><td>computers compute...</td><td>e</td><td>0.3</td><td>computers compute...</td><td>home and technology</td><td>3698</td><td>1.2741967656358493</td><td>2021-09-01</td><td>2021</td><td>9</td><td>1</td><td>Christopher Rodri...</td><td>30554 Evans Strea...</td><td>NSW</td><td>2299</td><td>Male</td></tr>\n",
       "<tr><td>A Sollicitudin Or...</td><td>equipment tool fu...</td><td>e</td><td>0.36</td><td>equipment tool fu...</td><td>home and technology</td><td>9039</td><td>3875.6697539235956</td><td>2022-09-09</td><td>2022</td><td>9</td><td>9</td><td>Joseph Lynch</td><td>1730 Christopher ...</td><td>NSW</td><td>2070</td><td>Male</td></tr>\n",
       "<tr><td>Felis Limited</td><td>furniture home fu...</td><td>e</td><td>0.18</td><td>furniture home fu...</td><td>home and technology</td><td>23679</td><td>74.68707218671928</td><td>2021-08-11</td><td>2021</td><td>8</td><td>11</td><td>Roberto Robbins</td><td>3146 Eric Turnpik...</td><td>NSW</td><td>2396</td><td>Male</td></tr>\n",
       "<tr><td>Et Nunc Consulting</td><td>books periodicals...</td><td>e</td><td>0.16</td><td>books periodicals...</td><td>books and music</td><td>9039</td><td>200.97347140339807</td><td>2021-10-10</td><td>2021</td><td>10</td><td>10</td><td>Joseph Lynch</td><td>1730 Christopher ...</td><td>NSW</td><td>2070</td><td>Male</td></tr>\n",
       "</table>\n",
       "only showing top 20 rows\n"
      ],
      "text/plain": [
       "+--------------------+--------------------+-------------+---------+--------------------+--------------------+-------+------------------+--------------+----------+-----------+---------+------------------+--------------------+--------------+-----------------+---------------+\n",
       "|       merchant_name|            products|revenue_level|take_rate|                 tag|            category|user_id|      dollar_value|order_datetime|order_year|order_month|order_day|          consumer|    consumer_address|consumer_state|consumer_postcode|consumer_gender|\n",
       "+--------------------+--------------------+-------------+---------+--------------------+--------------------+-------+------------------+--------------+----------+-----------+---------+------------------+--------------------+--------------+-----------------+---------------+\n",
       "|        Nunc Est LLP|watch clock and j...|            e|     0.22|watch clock jewel...|fashion and acces...|  14891| 41.19678980118359|    2021-10-24|      2021|         10|       24|Jennifer Rodriguez|03338 Natasha Courts|           VIC|             3064|         Female|\n",
       "|     Ante Industries|motor vehicle sup...|            e|     0.35|motor vehicle sup...|            outdoors|  17262|57.050655521094015|    2021-12-24|      2021|         12|       24|   Edward Mitchell| 5978 Phillips Wells|           VIC|             3799|           Male|\n",
       "|Metus Sit Amet In...|cable satellite a...|            e|     0.38|cable satellite p...| home and technology|  14901| 73.51628686156663|    2022-09-04|      2022|          9|        4|   William Mcmahon|83574 Jackson Cam...|           NSW|             2372|    Undisclosed|\n",
       "|Tempus Eu Ligula ...|computers compute...|            e|     0.33|computers compute...| home and technology|   1956| 44.88294919989074|    2021-06-05|      2021|          6|        5|        Sara Allen|  92887 Stewart Flat|           NSW|             2798|    Undisclosed|\n",
       "|        Nunc Est LLP|watch clock and j...|            e|     0.22|watch clock jewel...|fashion and acces...|  14901| 74.20193370888776|    2022-06-29|      2022|          6|       29|   William Mcmahon|83574 Jackson Cam...|           NSW|             2372|    Undisclosed|\n",
       "|        Nunc Est LLP|watch clock and j...|            e|     0.22|watch clock jewel...|fashion and acces...|   1956|  49.9947162713664|    2022-08-08|      2022|          8|        8|        Sara Allen|  92887 Stewart Flat|           NSW|             2798|    Undisclosed|\n",
       "|        Nunc Est LLP|watch clock and j...|            e|     0.22|watch clock jewel...|fashion and acces...|  14901| 97.99199718923033|    2022-07-12|      2022|          7|       12|   William Mcmahon|83574 Jackson Cam...|           NSW|             2372|    Undisclosed|\n",
       "|Metus Sit Amet In...|cable satellite a...|            e|     0.38|cable satellite p...| home and technology|   1956|5.4621705507676666|    2022-08-05|      2022|          8|        5|        Sara Allen|  92887 Stewart Flat|           NSW|             2798|    Undisclosed|\n",
       "|        Nunc Est LLP|watch clock and j...|            e|     0.22|watch clock jewel...|fashion and acces...|  14901|157.22508716360966|    2022-02-28|      2022|          2|       28|   William Mcmahon|83574 Jackson Cam...|           NSW|             2372|    Undisclosed|\n",
       "|        Nunc Est LLP|watch clock and j...|            e|     0.22|watch clock jewel...|fashion and acces...|   1956|   35.730745879372|    2021-10-29|      2021|         10|       29|        Sara Allen|  92887 Stewart Flat|           NSW|             2798|    Undisclosed|\n",
       "|  Et Nunc Consulting|books periodicals...|            e|     0.16|books periodicals...|     books and music|  18847| 426.5552165562589|    2022-10-10|      2022|         10|       10|   William Maxwell|      068 Bowman Run|           NSW|             2120|           Male|\n",
       "|Dis Parturient Co...|gift card novelty...|            e|     0.24|gift card novelty...|       art and gifts|   1956|60.756854097474836|    2021-09-01|      2021|          9|        1|        Sara Allen|  92887 Stewart Flat|           NSW|             2798|    Undisclosed|\n",
       "|        Nunc Est LLP|watch clock and j...|            e|     0.22|watch clock jewel...|fashion and acces...|  18847| 94.23870550881225|    2022-09-22|      2022|          9|       22|   William Maxwell|      068 Bowman Run|           NSW|             2120|           Male|\n",
       "|        Nunc Est LLP|watch clock and j...|            e|     0.22|watch clock jewel...|fashion and acces...|   1956| 69.33602217234242|    2022-01-17|      2022|          1|       17|        Sara Allen|  92887 Stewart Flat|           NSW|             2798|    Undisclosed|\n",
       "|Non Lobortis Corp...|computer programm...|            e|     0.36|computer programm...| home and technology|  18847|46.972423532029886|    2022-06-25|      2022|          6|       25|   William Maxwell|      068 Bowman Run|           NSW|             2120|           Male|\n",
       "|Non Lobortis Corp...|computer programm...|            e|     0.36|computer programm...| home and technology|   7688| 186.8460977820335|    2021-05-18|      2021|          5|       18|   Denise Jennings|  56970 Chavez Manor|           TAS|             7185|         Female|\n",
       "|Augue Eu Tempor A...|cable satellite a...|            e|     0.38|cable satellite p...| home and technology|  17262|138.87168863221336|    2021-12-13|      2021|         12|       13|   Edward Mitchell| 5978 Phillips Wells|           VIC|             3799|           Male|\n",
       "|        Nunc Est LLP|watch clock and j...|            e|     0.22|watch clock jewel...|fashion and acces...|   7688| 122.0985652835697|    2022-10-22|      2022|         10|       22|   Denise Jennings|  56970 Chavez Manor|           TAS|             7185|         Female|\n",
       "|Augue Eu Tempor A...|cable satellite a...|            e|     0.38|cable satellite p...| home and technology|   1956| 13.21705727136522|    2022-08-31|      2022|          8|       31|        Sara Allen|  92887 Stewart Flat|           NSW|             2798|    Undisclosed|\n",
       "|  Et Nunc Consulting|books periodicals...|            e|     0.16|books periodicals...|     books and music|   7688|31.432964793114003|    2021-12-16|      2021|         12|       16|   Denise Jennings|  56970 Chavez Manor|           TAS|             7185|         Female|\n",
       "+--------------------+--------------------+-------------+---------+--------------------+--------------------+-------+------------------+--------------+----------+-----------+---------+------------------+--------------------+--------------+-----------------+---------------+\n",
       "only showing top 20 rows"
      ]
     },
     "execution_count": 50,
     "metadata": {},
     "output_type": "execute_result"
    }
   ],
   "source": [
    "join"
   ]
  },
  {
   "cell_type": "code",
   "execution_count": 53,
   "metadata": {},
   "outputs": [
    {
     "name": "stderr",
     "output_type": "stream",
     "text": [
      "                                                                                \r"
     ]
    }
   ],
   "source": [
    "join.write.parquet(\"../data/curated/raw_join_internal_table\")"
   ]
  }
 ],
 "metadata": {
  "kernelspec": {
   "display_name": "Python 3.9.12 ('base')",
   "language": "python",
   "name": "python3"
  },
  "language_info": {
   "codemirror_mode": {
    "name": "ipython",
    "version": 3
   },
   "file_extension": ".py",
   "mimetype": "text/x-python",
   "name": "python",
   "nbconvert_exporter": "python",
   "pygments_lexer": "ipython3",
   "version": "3.9.12"
  },
  "orig_nbformat": 4,
  "vscode": {
   "interpreter": {
    "hash": "d2d7e6728612c8fd54cbd36f1913daefb7c7ed6b16dd726696ef300fa27e75d7"
   }
  }
 },
 "nbformat": 4,
 "nbformat_minor": 2
}
