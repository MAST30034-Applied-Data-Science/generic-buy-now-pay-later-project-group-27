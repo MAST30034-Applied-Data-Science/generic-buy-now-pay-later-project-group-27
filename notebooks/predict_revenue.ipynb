{
 "cells": [
  {
   "cell_type": "code",
   "execution_count": 236,
   "metadata": {},
   "outputs": [],
   "source": [
    "from pyspark.sql import SparkSession\n",
    "from pyspark.sql.functions import *\n",
    "from pyspark.sql.window import Window\n",
    "from pyspark.ml.regression import GBTRegressor\n",
    "import numpy as np\n",
    "import time\n",
    "import datetime\n",
    "import os\n",
    "\n",
    "spark = (\n",
    "    SparkSession.builder.appName(\"ADS project 2\")\n",
    "    .config(\"spark.sql.repl.eagerEval.enabled\", True) \n",
    "    .config(\"spark.sql.parquet.cacheMetadata\", \"true\")\n",
    "    .config(\"spark.sql.session.timeZone\", \"Etc/UTC\")\n",
    "    .config(\"spark.executor.memory\", \"2g\")\n",
    "    .config(\"spark.driver.memory\", \"4g\")\n",
    "    .getOrCreate()\n",
    ")"
   ]
  },
  {
   "cell_type": "code",
   "execution_count": 326,
   "metadata": {},
   "outputs": [
    {
     "data": {
      "text/html": [
       "<table border='1'>\n",
       "<tr><th>median_age</th><th>merchant_name</th><th>revenue_level</th><th>order_datetime</th><th>tag</th><th>dollar_value</th><th>order_year</th><th>order_month</th><th>consumer_gender</th></tr>\n",
       "<tr><td>33.00000004463053</td><td>Elit Sed Consequa...</td><td>a</td><td>2022-04-27</td><td>artist supply craft</td><td>375.16773164703153</td><td>2022</td><td>4</td><td>Female</td></tr>\n",
       "<tr><td>33.00000004463053</td><td>Mollis Integer Co...</td><td>b</td><td>2022-05-02</td><td>digital goods boo...</td><td>83.63154755239155</td><td>2022</td><td>5</td><td>Female</td></tr>\n",
       "<tr><td>33.00000004463053</td><td>Hendrerit A Corpo...</td><td>a</td><td>2022-07-14</td><td>watch clock jewel...</td><td>100.80643267043831</td><td>2022</td><td>7</td><td>Male</td></tr>\n",
       "<tr><td>33.00000004463053</td><td>Hendrerit A Corpo...</td><td>a</td><td>2022-05-19</td><td>watch clock jewel...</td><td>276.12651679041534</td><td>2022</td><td>5</td><td>Female</td></tr>\n",
       "<tr><td>33.00000004463053</td><td>Hendrerit A Corpo...</td><td>a</td><td>2022-03-29</td><td>watch clock jewel...</td><td>169.4756116760845</td><td>2022</td><td>3</td><td>Undisclosed</td></tr>\n",
       "<tr><td>33.00000004463053</td><td>Faucibus Leo In C...</td><td>a</td><td>2022-07-08</td><td>bicycle sales ser...</td><td>193.05534617191876</td><td>2022</td><td>7</td><td>Male</td></tr>\n",
       "<tr><td>33.00000004463053</td><td>Eros Limited</td><td>c</td><td>2022-06-26</td><td>digital goods boo...</td><td>4.123199407915545</td><td>2022</td><td>6</td><td>Undisclosed</td></tr>\n",
       "<tr><td>33.00000004463053</td><td>Eros Limited</td><td>c</td><td>2022-08-11</td><td>digital goods boo...</td><td>0.11306688998348746</td><td>2022</td><td>8</td><td>Female</td></tr>\n",
       "<tr><td>33.00000004463053</td><td>Eget Metus In Cor...</td><td>a</td><td>2022-03-15</td><td>tent awning</td><td>24.60325749514622</td><td>2022</td><td>3</td><td>Undisclosed</td></tr>\n",
       "<tr><td>33.00000004463053</td><td>Mi Lorem Inc.</td><td>b</td><td>2022-09-06</td><td>watch clock jewel...</td><td>69.96821111498734</td><td>2022</td><td>9</td><td>Male</td></tr>\n",
       "<tr><td>33.00000004463053</td><td>Eget Metus In Cor...</td><td>a</td><td>2022-05-19</td><td>tent awning</td><td>5.487924046075619</td><td>2022</td><td>5</td><td>Male</td></tr>\n",
       "<tr><td>33.00000004463053</td><td>Eget Metus In Cor...</td><td>a</td><td>2022-08-10</td><td>tent awning</td><td>14.11754327125119</td><td>2022</td><td>8</td><td>Male</td></tr>\n",
       "<tr><td>33.00000004463053</td><td>Mauris Erat Ltd</td><td>b</td><td>2022-08-14</td><td>motor vehicle sup...</td><td>116.26659441108839</td><td>2022</td><td>8</td><td>Male</td></tr>\n",
       "<tr><td>33.00000004463053</td><td>Fringilla Industries</td><td>a</td><td>2022-06-05</td><td>gift card novelty...</td><td>35.736732085288</td><td>2022</td><td>6</td><td>Undisclosed</td></tr>\n",
       "<tr><td>33.00000004463053</td><td>Enim Etiam Indust...</td><td>b</td><td>2022-07-01</td><td>opticians optical...</td><td>69.19573802135656</td><td>2022</td><td>7</td><td>Female</td></tr>\n",
       "<tr><td>33.00000004463053</td><td>Ullamcorper Velit...</td><td>b</td><td>2022-08-14</td><td>cable satellite p...</td><td>174.71288844572527</td><td>2022</td><td>8</td><td>Female</td></tr>\n",
       "<tr><td>33.00000004463053</td><td>Integer LLC</td><td>a</td><td>2022-07-28</td><td>shoe</td><td>17.462098045940092</td><td>2022</td><td>7</td><td>Female</td></tr>\n",
       "<tr><td>33.00000004463053</td><td>Tellus Id LLC</td><td>b</td><td>2022-05-28</td><td>watch clock jewel...</td><td>3.953710155232977</td><td>2022</td><td>5</td><td>Undisclosed</td></tr>\n",
       "<tr><td>33.00000004463053</td><td>Dictum Phasellus ...</td><td>a</td><td>2022-04-26</td><td>gift card novelty...</td><td>44.99063827168601</td><td>2022</td><td>4</td><td>Female</td></tr>\n",
       "<tr><td>33.00000004463053</td><td>Dictum Phasellus ...</td><td>a</td><td>2022-09-06</td><td>gift card novelty...</td><td>23.606936827205665</td><td>2022</td><td>9</td><td>Male</td></tr>\n",
       "</table>\n",
       "only showing top 20 rows\n"
      ],
      "text/plain": [
       "+-----------------+--------------------+-------------+--------------+--------------------+-------------------+----------+-----------+---------------+\n",
       "|       median_age|       merchant_name|revenue_level|order_datetime|                 tag|       dollar_value|order_year|order_month|consumer_gender|\n",
       "+-----------------+--------------------+-------------+--------------+--------------------+-------------------+----------+-----------+---------------+\n",
       "|33.00000004463053|Elit Sed Consequa...|            a|    2022-04-27| artist supply craft| 375.16773164703153|      2022|          4|         Female|\n",
       "|33.00000004463053|Mollis Integer Co...|            b|    2022-05-02|digital goods boo...|  83.63154755239155|      2022|          5|         Female|\n",
       "|33.00000004463053|Hendrerit A Corpo...|            a|    2022-07-14|watch clock jewel...| 100.80643267043831|      2022|          7|           Male|\n",
       "|33.00000004463053|Hendrerit A Corpo...|            a|    2022-05-19|watch clock jewel...| 276.12651679041534|      2022|          5|         Female|\n",
       "|33.00000004463053|Hendrerit A Corpo...|            a|    2022-03-29|watch clock jewel...|  169.4756116760845|      2022|          3|    Undisclosed|\n",
       "|33.00000004463053|Faucibus Leo In C...|            a|    2022-07-08|bicycle sales ser...| 193.05534617191876|      2022|          7|           Male|\n",
       "|33.00000004463053|        Eros Limited|            c|    2022-06-26|digital goods boo...|  4.123199407915545|      2022|          6|    Undisclosed|\n",
       "|33.00000004463053|        Eros Limited|            c|    2022-08-11|digital goods boo...|0.11306688998348746|      2022|          8|         Female|\n",
       "|33.00000004463053|Eget Metus In Cor...|            a|    2022-03-15|         tent awning|  24.60325749514622|      2022|          3|    Undisclosed|\n",
       "|33.00000004463053|       Mi Lorem Inc.|            b|    2022-09-06|watch clock jewel...|  69.96821111498734|      2022|          9|           Male|\n",
       "|33.00000004463053|Eget Metus In Cor...|            a|    2022-05-19|         tent awning|  5.487924046075619|      2022|          5|           Male|\n",
       "|33.00000004463053|Eget Metus In Cor...|            a|    2022-08-10|         tent awning|  14.11754327125119|      2022|          8|           Male|\n",
       "|33.00000004463053|     Mauris Erat Ltd|            b|    2022-08-14|motor vehicle sup...| 116.26659441108839|      2022|          8|           Male|\n",
       "|33.00000004463053|Fringilla Industries|            a|    2022-06-05|gift card novelty...|    35.736732085288|      2022|          6|    Undisclosed|\n",
       "|33.00000004463053|Enim Etiam Indust...|            b|    2022-07-01|opticians optical...|  69.19573802135656|      2022|          7|         Female|\n",
       "|33.00000004463053|Ullamcorper Velit...|            b|    2022-08-14|cable satellite p...| 174.71288844572527|      2022|          8|         Female|\n",
       "|33.00000004463053|         Integer LLC|            a|    2022-07-28|                shoe| 17.462098045940092|      2022|          7|         Female|\n",
       "|33.00000004463053|       Tellus Id LLC|            b|    2022-05-28|watch clock jewel...|  3.953710155232977|      2022|          5|    Undisclosed|\n",
       "|33.00000004463053|Dictum Phasellus ...|            a|    2022-04-26|gift card novelty...|  44.99063827168601|      2022|          4|         Female|\n",
       "|33.00000004463053|Dictum Phasellus ...|            a|    2022-09-06|gift card novelty...| 23.606936827205665|      2022|          9|           Male|\n",
       "+-----------------+--------------------+-------------+--------------+--------------------+-------------------+----------+-----------+---------------+\n",
       "only showing top 20 rows"
      ]
     },
     "execution_count": 326,
     "metadata": {},
     "output_type": "execute_result"
    }
   ],
   "source": [
    "sdf = spark.read.parquet('../data/curated/merchant_consumer_abs')\n",
    "categories = sdf.select(col(\"merchant_name\").alias(\"merchant_name_copy\"), \"category\", \"take_rate\").distinct()\n",
    "sdf = sdf.drop(*['postcode', 'products', 'take_rate', 'category', 'fraud_group',\n",
    "                 'user_id', 'consumer', 'consumer_address', 'consumer_state', 'consumer_postcode', 'order_day',\n",
    "                 '__index_level_0__']).where((col(\"order_datetime\") > \"2022-02-28\")).where((col(\"order_datetime\") < \"2022-10-01\"))\n",
    "for i in sdf.columns[:8]:\n",
    "    if i != \"median_age\":\n",
    "        sdf = sdf.drop(i)\n",
    "# for i in sdf.columns[:4]:\n",
    "#     sdf = sdf.withColumn(f\"log_{i}\", when(log(col(i)) > 0, log(col(i))).otherwise(0)).drop(i).withColumnRenamed(f\"log_{i}\", i)\n",
    "# sdf = sdf.select(*(sdf.columns[-4:]), *(sdf.columns[:-4]))\n",
    "order = sdf.columns\n",
    "sdf = sdf.withColumn(\"year\", col(\"order_year\").cast(\"int\")).drop(\"order_year\").withColumnRenamed(\"year\", \"order_year\").select(*order)\n",
    "sdf"
   ]
  },
  {
   "cell_type": "code",
   "execution_count": 327,
   "metadata": {},
   "outputs": [
    {
     "name": "stderr",
     "output_type": "stream",
     "text": [
      "                                                                                \r"
     ]
    },
    {
     "data": {
      "text/html": [
       "<table border='1'>\n",
       "<tr><th>median_age</th><th>merchant_name</th><th>revenue_level</th><th>order_datetime</th><th>tag</th><th>dollar_value</th><th>order_year</th><th>order_month</th><th>consumer_gender</th></tr>\n",
       "<tr><td>33.00000004463053</td><td>Elit Sed Consequa...</td><td>a</td><td>2022-04-27</td><td>artist supply craft</td><td>375.16773164703153</td><td>2022</td><td>4</td><td>Female</td></tr>\n",
       "<tr><td>33.00000004463053</td><td>Mollis Integer Co...</td><td>b</td><td>2022-05-02</td><td>digital goods boo...</td><td>83.63154755239155</td><td>2022</td><td>5</td><td>Female</td></tr>\n",
       "<tr><td>33.00000004463053</td><td>Hendrerit A Corpo...</td><td>a</td><td>2022-07-14</td><td>watch clock jewel...</td><td>100.80643267043831</td><td>2022</td><td>7</td><td>Male</td></tr>\n",
       "<tr><td>33.00000004463053</td><td>Hendrerit A Corpo...</td><td>a</td><td>2022-05-19</td><td>watch clock jewel...</td><td>276.12651679041534</td><td>2022</td><td>5</td><td>Female</td></tr>\n",
       "<tr><td>33.00000004463053</td><td>Hendrerit A Corpo...</td><td>a</td><td>2022-03-29</td><td>watch clock jewel...</td><td>169.4756116760845</td><td>2022</td><td>3</td><td>Undisclosed</td></tr>\n",
       "<tr><td>33.00000004463053</td><td>Faucibus Leo In C...</td><td>a</td><td>2022-07-08</td><td>bicycle sales ser...</td><td>193.05534617191876</td><td>2022</td><td>7</td><td>Male</td></tr>\n",
       "<tr><td>33.00000004463053</td><td>Eros Limited</td><td>c</td><td>2022-06-26</td><td>digital goods boo...</td><td>4.123199407915545</td><td>2022</td><td>6</td><td>Undisclosed</td></tr>\n",
       "<tr><td>33.00000004463053</td><td>Eros Limited</td><td>c</td><td>2022-08-11</td><td>digital goods boo...</td><td>0.11306688998348746</td><td>2022</td><td>8</td><td>Female</td></tr>\n",
       "<tr><td>33.00000004463053</td><td>Eget Metus In Cor...</td><td>a</td><td>2022-03-15</td><td>tent awning</td><td>24.60325749514622</td><td>2022</td><td>3</td><td>Undisclosed</td></tr>\n",
       "<tr><td>33.00000004463053</td><td>Mi Lorem Inc.</td><td>b</td><td>2022-09-06</td><td>watch clock jewel...</td><td>69.96821111498734</td><td>2022</td><td>9</td><td>Male</td></tr>\n",
       "<tr><td>33.00000004463053</td><td>Eget Metus In Cor...</td><td>a</td><td>2022-05-19</td><td>tent awning</td><td>5.487924046075619</td><td>2022</td><td>5</td><td>Male</td></tr>\n",
       "<tr><td>33.00000004463053</td><td>Eget Metus In Cor...</td><td>a</td><td>2022-08-10</td><td>tent awning</td><td>14.11754327125119</td><td>2022</td><td>8</td><td>Male</td></tr>\n",
       "<tr><td>33.00000004463053</td><td>Mauris Erat Ltd</td><td>b</td><td>2022-08-14</td><td>motor vehicle sup...</td><td>116.26659441108839</td><td>2022</td><td>8</td><td>Male</td></tr>\n",
       "<tr><td>33.00000004463053</td><td>Fringilla Industries</td><td>a</td><td>2022-06-05</td><td>gift card novelty...</td><td>35.736732085288</td><td>2022</td><td>6</td><td>Undisclosed</td></tr>\n",
       "<tr><td>33.00000004463053</td><td>Enim Etiam Indust...</td><td>b</td><td>2022-07-01</td><td>opticians optical...</td><td>69.19573802135656</td><td>2022</td><td>7</td><td>Female</td></tr>\n",
       "<tr><td>33.00000004463053</td><td>Ullamcorper Velit...</td><td>b</td><td>2022-08-14</td><td>cable satellite p...</td><td>174.71288844572527</td><td>2022</td><td>8</td><td>Female</td></tr>\n",
       "<tr><td>33.00000004463053</td><td>Integer LLC</td><td>a</td><td>2022-07-28</td><td>shoe</td><td>17.462098045940092</td><td>2022</td><td>7</td><td>Female</td></tr>\n",
       "<tr><td>33.00000004463053</td><td>Tellus Id LLC</td><td>b</td><td>2022-05-28</td><td>watch clock jewel...</td><td>3.953710155232977</td><td>2022</td><td>5</td><td>Undisclosed</td></tr>\n",
       "<tr><td>33.00000004463053</td><td>Dictum Phasellus ...</td><td>a</td><td>2022-04-26</td><td>gift card novelty...</td><td>44.99063827168601</td><td>2022</td><td>4</td><td>Female</td></tr>\n",
       "<tr><td>33.00000004463053</td><td>Dictum Phasellus ...</td><td>a</td><td>2022-09-06</td><td>gift card novelty...</td><td>23.606936827205665</td><td>2022</td><td>9</td><td>Male</td></tr>\n",
       "</table>\n",
       "only showing top 20 rows\n"
      ],
      "text/plain": [
       "+-----------------+--------------------+-------------+--------------+--------------------+-------------------+----------+-----------+---------------+\n",
       "|       median_age|       merchant_name|revenue_level|order_datetime|                 tag|       dollar_value|order_year|order_month|consumer_gender|\n",
       "+-----------------+--------------------+-------------+--------------+--------------------+-------------------+----------+-----------+---------------+\n",
       "|33.00000004463053|Elit Sed Consequa...|            a|    2022-04-27| artist supply craft| 375.16773164703153|      2022|          4|         Female|\n",
       "|33.00000004463053|Mollis Integer Co...|            b|    2022-05-02|digital goods boo...|  83.63154755239155|      2022|          5|         Female|\n",
       "|33.00000004463053|Hendrerit A Corpo...|            a|    2022-07-14|watch clock jewel...| 100.80643267043831|      2022|          7|           Male|\n",
       "|33.00000004463053|Hendrerit A Corpo...|            a|    2022-05-19|watch clock jewel...| 276.12651679041534|      2022|          5|         Female|\n",
       "|33.00000004463053|Hendrerit A Corpo...|            a|    2022-03-29|watch clock jewel...|  169.4756116760845|      2022|          3|    Undisclosed|\n",
       "|33.00000004463053|Faucibus Leo In C...|            a|    2022-07-08|bicycle sales ser...| 193.05534617191876|      2022|          7|           Male|\n",
       "|33.00000004463053|        Eros Limited|            c|    2022-06-26|digital goods boo...|  4.123199407915545|      2022|          6|    Undisclosed|\n",
       "|33.00000004463053|        Eros Limited|            c|    2022-08-11|digital goods boo...|0.11306688998348746|      2022|          8|         Female|\n",
       "|33.00000004463053|Eget Metus In Cor...|            a|    2022-03-15|         tent awning|  24.60325749514622|      2022|          3|    Undisclosed|\n",
       "|33.00000004463053|       Mi Lorem Inc.|            b|    2022-09-06|watch clock jewel...|  69.96821111498734|      2022|          9|           Male|\n",
       "|33.00000004463053|Eget Metus In Cor...|            a|    2022-05-19|         tent awning|  5.487924046075619|      2022|          5|           Male|\n",
       "|33.00000004463053|Eget Metus In Cor...|            a|    2022-08-10|         tent awning|  14.11754327125119|      2022|          8|           Male|\n",
       "|33.00000004463053|     Mauris Erat Ltd|            b|    2022-08-14|motor vehicle sup...| 116.26659441108839|      2022|          8|           Male|\n",
       "|33.00000004463053|Fringilla Industries|            a|    2022-06-05|gift card novelty...|    35.736732085288|      2022|          6|    Undisclosed|\n",
       "|33.00000004463053|Enim Etiam Indust...|            b|    2022-07-01|opticians optical...|  69.19573802135656|      2022|          7|         Female|\n",
       "|33.00000004463053|Ullamcorper Velit...|            b|    2022-08-14|cable satellite p...| 174.71288844572527|      2022|          8|         Female|\n",
       "|33.00000004463053|         Integer LLC|            a|    2022-07-28|                shoe| 17.462098045940092|      2022|          7|         Female|\n",
       "|33.00000004463053|       Tellus Id LLC|            b|    2022-05-28|watch clock jewel...|  3.953710155232977|      2022|          5|    Undisclosed|\n",
       "|33.00000004463053|Dictum Phasellus ...|            a|    2022-04-26|gift card novelty...|  44.99063827168601|      2022|          4|         Female|\n",
       "|33.00000004463053|Dictum Phasellus ...|            a|    2022-09-06|gift card novelty...| 23.606936827205665|      2022|          9|           Male|\n",
       "+-----------------+--------------------+-------------+--------------+--------------------+-------------------+----------+-----------+---------------+\n",
       "only showing top 20 rows"
      ]
     },
     "execution_count": 327,
     "metadata": {},
     "output_type": "execute_result"
    }
   ],
   "source": [
    "to_do = {'2022': [11, 12],\n",
    "         '2023': range(1,13)}\n",
    "merchs = sdf.select(\"merchant_name\", \"revenue_level\", \"tag\").distinct()\n",
    "cols = [\"median_age\", \"order_datetime_str\", \"dollar_value\", \"order_year\", \"order_month\", \"consumer_gender\"]\n",
    "vals = [(0, f\"{year}-{str(month).rjust(2, '0')}-01\", 0, int(year), month, \"Female\") for year in to_do for month in to_do[year]]\n",
    "months = spark.createDataFrame(vals, cols)\n",
    "cols.remove(\"order_datetime_str\")\n",
    "months = months.select(*cols, to_date(col(\"order_datetime_str\"), \"yyyy-MM-dd\").alias(\"order_datetime\"))\n",
    "predict = merchs.join(months).select(sdf.columns)\n",
    "sdf = sdf.union(predict)\n",
    "sdf"
   ]
  },
  {
   "cell_type": "code",
   "execution_count": 328,
   "metadata": {},
   "outputs": [
    {
     "name": "stderr",
     "output_type": "stream",
     "text": [
      "                                                                                \r"
     ]
    }
   ],
   "source": [
    "genders = sdf.select(\"consumer_gender\").distinct().rdd.flatMap(lambda x: x).collect()\n",
    "exprs = [when(col(\"consumer_gender\") == category, 1).otherwise(0).alias(category)\n",
    "         for category in genders]\n",
    "sdf = sdf.select(*(sdf.columns), *exprs).drop(\"consumer_gender\")"
   ]
  },
  {
   "cell_type": "code",
   "execution_count": 329,
   "metadata": {},
   "outputs": [],
   "source": [
    "train = sdf.where((col(\"order_datetime\") < \"2022-10-01\")).drop(\"order_datetime\")\n",
    "test = sdf.where((col(\"order_datetime\") > \"2022-10-31\")).drop(\"order_datetime\")"
   ]
  },
  {
   "cell_type": "code",
   "execution_count": 330,
   "metadata": {},
   "outputs": [],
   "source": [
    "train_group = train\n",
    "w = Window.partitionBy('merchant_name')\n",
    "train_group = train_group.withColumn(\"avg(median_age)\", avg(\"median_age\").over(w)).drop(\"median_age\")"
   ]
  },
  {
   "cell_type": "code",
   "execution_count": 331,
   "metadata": {},
   "outputs": [],
   "source": [
    "agg_cols = train_group.columns\n",
    "for i in [\"dollar_value\", \"Female\", \"Male\", \"Undisclosed\"]:\n",
    "    agg_cols.remove(i)\n",
    "train_group = train_group.groupBy(agg_cols).agg(sum(\"dollar_value\"), sum(\"Female\"), sum(\"Male\"), sum(\"Undisclosed\"))"
   ]
  },
  {
   "cell_type": "code",
   "execution_count": 332,
   "metadata": {},
   "outputs": [],
   "source": [
    "fill = {'2021': range(3,13),\n",
    "        '2022': range(1,11)}\n",
    "merchs = train_group.select(\"merchant_name\", \"revenue_level\", \"tag\", \"avg(median_age)\").distinct()\n",
    "cols = [\"order_year\", \"order_month\", \"sum(dollar_value)\", \"sum(Female)\", \"sum(Male)\", \"sum(Undisclosed)\"]\n",
    "vals = [(int(year), month, 0, 0, 0, 0) for year in fill for month in fill[year]]\n",
    "months = spark.createDataFrame(vals, cols)\n",
    "months = merchs.join(months).select(train_group.columns)\n",
    "train_agg = train_group.union(months)"
   ]
  },
  {
   "cell_type": "code",
   "execution_count": 333,
   "metadata": {},
   "outputs": [],
   "source": [
    "group_cols = [i for i in train_agg.columns if \"sum\" not in i]\n",
    "agg_cols = [i for i in train_agg.columns if \"sum\" in i]\n",
    "train_agg = train_agg.groupBy(group_cols).max()\n",
    "train_agg = train_agg.drop(*[\"max(order_month)\", \"max(avg(median_age))\", \"max(order_year)\"])\n",
    "for i in agg_cols:\n",
    "    train_agg = train_agg.withColumnRenamed(f\"max({i})\", i)\n",
    "train_agg = train_agg.withColumnRenamed(\"sum(dollar_value)\", \"dollar_value\")\n",
    "\n",
    "w = Window.partitionBy('merchant_name')\n",
    "for i in genders:\n",
    "    train_agg = train_agg.withColumn(f\"avg(sum({i}))\", avg(f\"sum({i})\").over(w)).drop(f\"sum({i})\")"
   ]
  },
  {
   "cell_type": "code",
   "execution_count": 334,
   "metadata": {},
   "outputs": [],
   "source": [
    "test_agg = test.select(test.columns[1:7])\n",
    "merch_agg = train_agg.select(col(\"merchant_name\").alias(\"merchant_name_copy\"), *(train_agg.columns[4:])).drop(\"order_month\", \"dollar_value\").distinct()\n",
    "test_agg = test_agg.join(merch_agg, test_agg.merchant_name == merch_agg.merchant_name_copy, \"left\").drop(\"merchant_name_copy\")\n",
    "test_agg = test_agg.select(*(train_agg.columns))"
   ]
  },
  {
   "cell_type": "code",
   "execution_count": 335,
   "metadata": {},
   "outputs": [
    {
     "name": "stderr",
     "output_type": "stream",
     "text": [
      "                                                                                \r"
     ]
    }
   ],
   "source": [
    "merch_meta = train_agg.select('merchant_name', 'revenue_level', 'avg(median_age)',\n",
    "                              'avg(sum(Undisclosed))', 'avg(sum(Female))', 'avg(sum(Male))').distinct()\n",
    "merch_meta = merch_meta.join(categories, merch_meta.merchant_name == categories.merchant_name_copy).drop(\"merchant_name_copy\")\n",
    "merch_meta.write.parquet('../data/meta/merchant_metadata.parquet')"
   ]
  },
  {
   "cell_type": "code",
   "execution_count": 336,
   "metadata": {},
   "outputs": [
    {
     "name": "stderr",
     "output_type": "stream",
     "text": [
      "                                                                                \r"
     ]
    }
   ],
   "source": [
    "from pyspark.ml.feature import OneHotEncoder, StringIndexer, VectorAssembler, Interaction\n",
    "\n",
    "interact = [\"tag\", \"revenue_level\", \"order_month\"]\n",
    "for i in interact:\n",
    "    stringIndexer = StringIndexer(inputCol=i, outputCol=f\"{i}_num\")\n",
    "    train_agg = stringIndexer.fit(train_agg).transform(train_agg).drop(i)\n",
    "    test_agg = stringIndexer.fit(test_agg).transform(test_agg)\n",
    "    encoder = OneHotEncoder(inputCol=f\"{i}_num\", outputCol=i+\"_vec\")\n",
    "    train_agg = encoder.fit(train_agg).transform(train_agg).drop(f\"{i}_num\")\n",
    "    test_agg = encoder.fit(test_agg).transform(test_agg).drop(f\"{i}_num\")\n",
    "interaction = Interaction(inputCols=[f\"{i}_vec\" for i in interact], outputCol=\"interact\")\n",
    "train_agg = interaction.transform(train_agg)\n",
    "test_agg = interaction.transform(test_agg)"
   ]
  },
  {
   "cell_type": "code",
   "execution_count": 337,
   "metadata": {},
   "outputs": [],
   "source": [
    "from pyspark.sql import Row\n",
    "from pyspark.ml.linalg import Vectors\n",
    "\n",
    "feats = train_agg.columns\n",
    "feats.remove('merchant_name')\n",
    "feats.remove('dollar_value')\n",
    "assembler = VectorAssembler(inputCols=feats, outputCol=\"features\")\n",
    "train_vec = assembler.transform(train_agg)\n",
    "test_vec = assembler.transform(test_agg)"
   ]
  },
  {
   "cell_type": "code",
   "execution_count": 338,
   "metadata": {},
   "outputs": [],
   "source": [
    "train_gbt = train_vec.select(\"features\", col(\"dollar_value\").alias(\"label\"))\n",
    "test_gbt = test_vec.select('merchant_name', 'order_year', 'order_month', \"features\")"
   ]
  },
  {
   "cell_type": "code",
   "execution_count": 339,
   "metadata": {},
   "outputs": [
    {
     "name": "stderr",
     "output_type": "stream",
     "text": [
      "                                                                                \r"
     ]
    }
   ],
   "source": [
    "from pyspark.ml.regression import GBTRegressor\n",
    "\n",
    "GBT = GBTRegressor(featuresCol=\"features\")\n",
    "gbt = GBT.fit(train_gbt)\n",
    "gbt_predict = gbt.transform(test_gbt)\n",
    "# print(\"Root Mean Squared Error (RMSE) = %g\" % rmse_evaluator.evaluate(gbt_predict))\n",
    "# print(\"R Squared (R2) = %g\" % r2_evaluator.evaluate(gbt_predict))"
   ]
  },
  {
   "cell_type": "code",
   "execution_count": 340,
   "metadata": {},
   "outputs": [
    {
     "name": "stderr",
     "output_type": "stream",
     "text": [
      "                                                                                \r"
     ]
    },
    {
     "data": {
      "text/html": [
       "<table border='1'>\n",
       "<tr><th>merchant_name</th><th>order_year</th><th>order_month</th><th>features</th><th>prediction</th></tr>\n",
       "<tr><td>Varius Orci Insti...</td><td>2022</td><td>11</td><td>(1100,[0,1,2,3,4,...</td><td>4473.089115791361</td></tr>\n",
       "<tr><td>Semper Incorporated</td><td>2022</td><td>11</td><td>(1100,[0,1,2,3,4,...</td><td>-4162.136124455534</td></tr>\n",
       "<tr><td>Hendrerit Consect...</td><td>2022</td><td>11</td><td>(1100,[0,1,2,3,4,...</td><td>-11699.946724869978</td></tr>\n",
       "<tr><td>Erat Semper Ltd</td><td>2022</td><td>11</td><td>(1100,[0,1,2,3,4,...</td><td>-4854.805910209342</td></tr>\n",
       "<tr><td>Vel Turpis Company</td><td>2022</td><td>11</td><td>(1100,[0,1,2,3,4,...</td><td>4087.8404028149953</td></tr>\n",
       "<tr><td>Curabitur Vel LLC</td><td>2022</td><td>11</td><td>(1100,[0,1,2,3,4,...</td><td>736.6430777362441</td></tr>\n",
       "<tr><td>Vulputate Velit E...</td><td>2022</td><td>11</td><td>(1100,[0,1,2,3,4,...</td><td>681.8223443507804</td></tr>\n",
       "<tr><td>Porttitor Eros In...</td><td>2022</td><td>11</td><td>(1100,[0,1,2,3,4,...</td><td>-5715.928514035324</td></tr>\n",
       "<tr><td>Dictum Mi Incorpo...</td><td>2022</td><td>11</td><td>(1100,[0,1,2,3,4,...</td><td>2588.9021356246676</td></tr>\n",
       "<tr><td>Pede Praesent Ltd</td><td>2022</td><td>11</td><td>(1100,[0,1,2,3,4,...</td><td>-637.7269496538365</td></tr>\n",
       "<tr><td>Dictum Mi Limited</td><td>2022</td><td>11</td><td>(1100,[0,1,2,3,4,...</td><td>4100.4339166684385</td></tr>\n",
       "<tr><td>Mollis Integer Co...</td><td>2022</td><td>11</td><td>(1100,[0,1,2,3,4,...</td><td>-1009.1505732615842</td></tr>\n",
       "<tr><td>Volutpat Nulla In...</td><td>2022</td><td>11</td><td>(1100,[0,1,2,3,4,...</td><td>9017.047502296196</td></tr>\n",
       "<tr><td>Arcu Vestibulum C...</td><td>2022</td><td>11</td><td>(1100,[0,1,2,3,4,...</td><td>855.9770303806067</td></tr>\n",
       "<tr><td>Amet Nulla Ltd</td><td>2022</td><td>11</td><td>(1100,[0,1,2,3,4,...</td><td>-4281.470077099897</td></tr>\n",
       "<tr><td>Montes Limited</td><td>2022</td><td>11</td><td>(1100,[0,1,2,3,4,...</td><td>-518.3929970094737</td></tr>\n",
       "<tr><td>Elit Sed Consequa...</td><td>2022</td><td>11</td><td>(1100,[0,1,2,3,4,...</td><td>84994.99673588139</td></tr>\n",
       "<tr><td>Malesuada Vel Ltd</td><td>2022</td><td>11</td><td>(1100,[0,1,2,3,4,...</td><td>-518.3929970094737</td></tr>\n",
       "<tr><td>At Augue Corporation</td><td>2022</td><td>11</td><td>(1100,[0,1,2,3,4,...</td><td>343.50512191970546</td></tr>\n",
       "<tr><td>Donec Luctus Indu...</td><td>2022</td><td>11</td><td>(1100,[0,1,2,3,4,...</td><td>-5740.876863765468</td></tr>\n",
       "</table>\n",
       "only showing top 20 rows\n"
      ],
      "text/plain": [
       "+--------------------+----------+-----------+--------------------+-------------------+\n",
       "|       merchant_name|order_year|order_month|            features|         prediction|\n",
       "+--------------------+----------+-----------+--------------------+-------------------+\n",
       "|Varius Orci Insti...|      2022|         11|(1100,[0,1,2,3,4,...|  4473.089115791361|\n",
       "| Semper Incorporated|      2022|         11|(1100,[0,1,2,3,4,...| -4162.136124455534|\n",
       "|Hendrerit Consect...|      2022|         11|(1100,[0,1,2,3,4,...|-11699.946724869978|\n",
       "|     Erat Semper Ltd|      2022|         11|(1100,[0,1,2,3,4,...| -4854.805910209342|\n",
       "|  Vel Turpis Company|      2022|         11|(1100,[0,1,2,3,4,...| 4087.8404028149953|\n",
       "|   Curabitur Vel LLC|      2022|         11|(1100,[0,1,2,3,4,...|  736.6430777362441|\n",
       "|Vulputate Velit E...|      2022|         11|(1100,[0,1,2,3,4,...|  681.8223443507804|\n",
       "|Porttitor Eros In...|      2022|         11|(1100,[0,1,2,3,4,...| -5715.928514035324|\n",
       "|Dictum Mi Incorpo...|      2022|         11|(1100,[0,1,2,3,4,...| 2588.9021356246676|\n",
       "|   Pede Praesent Ltd|      2022|         11|(1100,[0,1,2,3,4,...| -637.7269496538365|\n",
       "|   Dictum Mi Limited|      2022|         11|(1100,[0,1,2,3,4,...| 4100.4339166684385|\n",
       "|Mollis Integer Co...|      2022|         11|(1100,[0,1,2,3,4,...|-1009.1505732615842|\n",
       "|Volutpat Nulla In...|      2022|         11|(1100,[0,1,2,3,4,...|  9017.047502296196|\n",
       "|Arcu Vestibulum C...|      2022|         11|(1100,[0,1,2,3,4,...|  855.9770303806067|\n",
       "|      Amet Nulla Ltd|      2022|         11|(1100,[0,1,2,3,4,...| -4281.470077099897|\n",
       "|      Montes Limited|      2022|         11|(1100,[0,1,2,3,4,...| -518.3929970094737|\n",
       "|Elit Sed Consequa...|      2022|         11|(1100,[0,1,2,3,4,...|  84994.99673588139|\n",
       "|   Malesuada Vel Ltd|      2022|         11|(1100,[0,1,2,3,4,...| -518.3929970094737|\n",
       "|At Augue Corporation|      2022|         11|(1100,[0,1,2,3,4,...| 343.50512191970546|\n",
       "|Donec Luctus Indu...|      2022|         11|(1100,[0,1,2,3,4,...| -5740.876863765468|\n",
       "+--------------------+----------+-----------+--------------------+-------------------+\n",
       "only showing top 20 rows"
      ]
     },
     "execution_count": 340,
     "metadata": {},
     "output_type": "execute_result"
    }
   ],
   "source": [
    "gbt_predict"
   ]
  },
  {
   "cell_type": "code",
   "execution_count": 342,
   "metadata": {},
   "outputs": [
    {
     "name": "stderr",
     "output_type": "stream",
     "text": [
      "                                                                                \r"
     ]
    }
   ],
   "source": [
    "os.makedirs(\"../data/results/\", exist_ok=True)\n",
    "gbt_predict.select(\"merchant_name\", \"order_year\", \"order_month\", \"prediction\").write.parquet(\"../data/results/predictions.parquet\")"
   ]
  }
 ],
 "metadata": {
  "kernelspec": {
   "display_name": "Python 3.9.12 ('base')",
   "language": "python",
   "name": "python3"
  },
  "language_info": {
   "codemirror_mode": {
    "name": "ipython",
    "version": 3
   },
   "file_extension": ".py",
   "mimetype": "text/x-python",
   "name": "python",
   "nbconvert_exporter": "python",
   "pygments_lexer": "ipython3",
   "version": "3.9.12"
  },
  "orig_nbformat": 4,
  "vscode": {
   "interpreter": {
    "hash": "d2d7e6728612c8fd54cbd36f1913daefb7c7ed6b16dd726696ef300fa27e75d7"
   }
  }
 },
 "nbformat": 4,
 "nbformat_minor": 2
}
