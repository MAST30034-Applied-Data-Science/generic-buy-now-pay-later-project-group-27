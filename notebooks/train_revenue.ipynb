{
 "cells": [
  {
   "cell_type": "code",
   "execution_count": 1,
   "metadata": {},
   "outputs": [
    {
     "name": "stderr",
     "output_type": "stream",
     "text": [
      "Setting default log level to \"WARN\".\n",
      "To adjust logging level use sc.setLogLevel(newLevel). For SparkR, use setLogLevel(newLevel).\n"
     ]
    },
    {
     "name": "stdout",
     "output_type": "stream",
     "text": [
      "22/10/16 21:55:59 WARN NativeCodeLoader: Unable to load native-hadoop library for your platform... using builtin-java classes where applicable\n",
      "22/10/16 21:56:00 WARN Utils: Service 'SparkUI' could not bind on port 4040. Attempting port 4041.\n",
      "22/10/16 21:56:00 WARN Utils: Service 'SparkUI' could not bind on port 4041. Attempting port 4042.\n",
      "22/10/16 21:56:00 WARN Utils: Service 'SparkUI' could not bind on port 4042. Attempting port 4043.\n"
     ]
    }
   ],
   "source": [
    "from pyspark.sql import SparkSession\n",
    "from pyspark.sql.functions import *\n",
    "from pyspark.sql.window import Window\n",
    "from pyspark.ml.regression import GBTRegressor\n",
    "import seaborn as sns\n",
    "import matplotlib.pyplot as plt\n",
    "import numpy as np\n",
    "import pandas as pd\n",
    "import time\n",
    "import datetime\n",
    "\n",
    "spark = (\n",
    "    SparkSession.builder.appName(\"ADS project 2\")\n",
    "    .config(\"spark.sql.repl.eagerEval.enabled\", True) \n",
    "    .config(\"spark.sql.parquet.cacheMetadata\", \"true\")\n",
    "    .config(\"spark.sql.session.timeZone\", \"Etc/UTC\")\n",
    "    .config(\"spark.executor.memory\", \"2g\")\n",
    "    .config(\"spark.driver.memory\", \"4g\")\n",
    "    .getOrCreate()\n",
    ")"
   ]
  },
  {
   "cell_type": "markdown",
   "metadata": {},
   "source": [
    "<h2>Aim: Determine a model for predicting revenue in the future. </h2>"
   ]
  },
  {
   "cell_type": "markdown",
   "metadata": {},
   "source": [
    "<h2>1. Data preprocessing</h2>"
   ]
  },
  {
   "cell_type": "markdown",
   "metadata": {},
   "source": [
    "<h3>1.1 Feature Selection: discard all external features since their high correlation to each other. </h3>"
   ]
  },
  {
   "cell_type": "code",
   "execution_count": 2,
   "metadata": {},
   "outputs": [
    {
     "data": {
      "text/html": [
       "<table border='1'>\n",
       "<tr><th>median_age</th><th>persons/km2</th><th>merchant_name</th><th>revenue_level</th><th>order_datetime</th><th>tag</th><th>dollar_value</th><th>order_year</th><th>order_month</th><th>consumer_gender</th></tr>\n",
       "<tr><td>33.00000004463053</td><td>2419.9999940679677</td><td>Elit Sed Consequa...</td><td>a</td><td>2022-04-27</td><td>artist supply craft</td><td>375.16773164703153</td><td>2022</td><td>4</td><td>Female</td></tr>\n",
       "<tr><td>33.00000004463053</td><td>2419.9999940679677</td><td>Elit Sed Consequa...</td><td>a</td><td>2022-10-07</td><td>artist supply craft</td><td>617.8791313462011</td><td>2022</td><td>10</td><td>Male</td></tr>\n",
       "<tr><td>33.00000004463053</td><td>2419.9999940679677</td><td>Elit Sed Consequa...</td><td>a</td><td>2022-02-28</td><td>artist supply craft</td><td>766.5077067424303</td><td>2022</td><td>2</td><td>Female</td></tr>\n",
       "<tr><td>33.00000004463053</td><td>2419.9999940679677</td><td>Malesuada Vel Ltd</td><td>b</td><td>2021-07-24</td><td>books periodicals...</td><td>258.86595899218753</td><td>2021</td><td>7</td><td>Female</td></tr>\n",
       "<tr><td>33.00000004463053</td><td>2419.9999940679677</td><td>Varius Orci Insti...</td><td>a</td><td>2021-08-08</td><td>tent awning</td><td>4.159037931172075</td><td>2021</td><td>8</td><td>Female</td></tr>\n",
       "<tr><td>33.00000004463053</td><td>2419.9999940679677</td><td>Volutpat Nulla In...</td><td>a</td><td>2022-10-11</td><td>furniture home fu...</td><td>8.26105405068297</td><td>2022</td><td>10</td><td>Male</td></tr>\n",
       "<tr><td>33.00000004463053</td><td>2419.9999940679677</td><td>Mollis Integer Co...</td><td>b</td><td>2022-05-02</td><td>digital goods boo...</td><td>83.63154755239155</td><td>2022</td><td>5</td><td>Female</td></tr>\n",
       "<tr><td>33.00000004463053</td><td>2419.9999940679677</td><td>Elit Sed Consequa...</td><td>a</td><td>2021-04-08</td><td>artist supply craft</td><td>87.00495112586256</td><td>2021</td><td>4</td><td>Female</td></tr>\n",
       "<tr><td>33.00000004463053</td><td>2419.9999940679677</td><td>Eros Limited</td><td>c</td><td>2021-12-18</td><td>digital goods boo...</td><td>8.26187754879106</td><td>2021</td><td>12</td><td>Female</td></tr>\n",
       "<tr><td>33.00000004463053</td><td>2419.9999940679677</td><td>Hendrerit A Corpo...</td><td>a</td><td>2022-07-14</td><td>watch clock jewel...</td><td>100.80643267043831</td><td>2022</td><td>7</td><td>Male</td></tr>\n",
       "<tr><td>33.00000004463053</td><td>2419.9999940679677</td><td>Pede Cras Vulputa...</td><td>a</td><td>2021-07-18</td><td>health beauty spas</td><td>326.46199407890373</td><td>2021</td><td>7</td><td>Male</td></tr>\n",
       "<tr><td>33.00000004463053</td><td>2419.9999940679677</td><td>Hendrerit A Corpo...</td><td>a</td><td>2021-08-16</td><td>watch clock jewel...</td><td>204.40538957685413</td><td>2021</td><td>8</td><td>Undisclosed</td></tr>\n",
       "<tr><td>33.00000004463053</td><td>2419.9999940679677</td><td>Eros Limited</td><td>c</td><td>2021-12-13</td><td>digital goods boo...</td><td>37.1880940325229</td><td>2021</td><td>12</td><td>Female</td></tr>\n",
       "<tr><td>33.00000004463053</td><td>2419.9999940679677</td><td>Eros Limited</td><td>c</td><td>2022-10-10</td><td>digital goods boo...</td><td>5.247567221175345</td><td>2022</td><td>10</td><td>Female</td></tr>\n",
       "<tr><td>33.00000004463053</td><td>2419.9999940679677</td><td>Eros Limited</td><td>c</td><td>2021-06-14</td><td>digital goods boo...</td><td>31.204086659483615</td><td>2021</td><td>6</td><td>Undisclosed</td></tr>\n",
       "<tr><td>33.00000004463053</td><td>2419.9999940679677</td><td>Eros Limited</td><td>c</td><td>2021-11-27</td><td>digital goods boo...</td><td>12.918096138910116</td><td>2021</td><td>11</td><td>Female</td></tr>\n",
       "<tr><td>33.00000004463053</td><td>2419.9999940679677</td><td>Hendrerit A Corpo...</td><td>a</td><td>2022-05-19</td><td>watch clock jewel...</td><td>276.12651679041534</td><td>2022</td><td>5</td><td>Female</td></tr>\n",
       "<tr><td>33.00000004463053</td><td>2419.9999940679677</td><td>Hendrerit A Corpo...</td><td>a</td><td>2022-03-29</td><td>watch clock jewel...</td><td>169.4756116760845</td><td>2022</td><td>3</td><td>Undisclosed</td></tr>\n",
       "<tr><td>33.00000004463053</td><td>2419.9999940679677</td><td>Pede Cras Vulputa...</td><td>a</td><td>2021-06-29</td><td>health beauty spas</td><td>400.61345601101743</td><td>2021</td><td>6</td><td>Female</td></tr>\n",
       "<tr><td>33.00000004463053</td><td>2419.9999940679677</td><td>Pede Cras Vulputa...</td><td>a</td><td>2021-04-03</td><td>health beauty spas</td><td>444.1022321713573</td><td>2021</td><td>4</td><td>Male</td></tr>\n",
       "</table>\n",
       "only showing top 20 rows\n"
      ],
      "text/plain": [
       "+-----------------+------------------+--------------------+-------------+--------------+--------------------+------------------+----------+-----------+---------------+\n",
       "|       median_age|       persons/km2|       merchant_name|revenue_level|order_datetime|                 tag|      dollar_value|order_year|order_month|consumer_gender|\n",
       "+-----------------+------------------+--------------------+-------------+--------------+--------------------+------------------+----------+-----------+---------------+\n",
       "|33.00000004463053|2419.9999940679677|Elit Sed Consequa...|            a|    2022-04-27| artist supply craft|375.16773164703153|      2022|          4|         Female|\n",
       "|33.00000004463053|2419.9999940679677|Elit Sed Consequa...|            a|    2022-10-07| artist supply craft| 617.8791313462011|      2022|         10|           Male|\n",
       "|33.00000004463053|2419.9999940679677|Elit Sed Consequa...|            a|    2022-02-28| artist supply craft| 766.5077067424303|      2022|          2|         Female|\n",
       "|33.00000004463053|2419.9999940679677|   Malesuada Vel Ltd|            b|    2021-07-24|books periodicals...|258.86595899218753|      2021|          7|         Female|\n",
       "|33.00000004463053|2419.9999940679677|Varius Orci Insti...|            a|    2021-08-08|         tent awning| 4.159037931172075|      2021|          8|         Female|\n",
       "|33.00000004463053|2419.9999940679677|Volutpat Nulla In...|            a|    2022-10-11|furniture home fu...|  8.26105405068297|      2022|         10|           Male|\n",
       "|33.00000004463053|2419.9999940679677|Mollis Integer Co...|            b|    2022-05-02|digital goods boo...| 83.63154755239155|      2022|          5|         Female|\n",
       "|33.00000004463053|2419.9999940679677|Elit Sed Consequa...|            a|    2021-04-08| artist supply craft| 87.00495112586256|      2021|          4|         Female|\n",
       "|33.00000004463053|2419.9999940679677|        Eros Limited|            c|    2021-12-18|digital goods boo...|  8.26187754879106|      2021|         12|         Female|\n",
       "|33.00000004463053|2419.9999940679677|Hendrerit A Corpo...|            a|    2022-07-14|watch clock jewel...|100.80643267043831|      2022|          7|           Male|\n",
       "|33.00000004463053|2419.9999940679677|Pede Cras Vulputa...|            a|    2021-07-18|  health beauty spas|326.46199407890373|      2021|          7|           Male|\n",
       "|33.00000004463053|2419.9999940679677|Hendrerit A Corpo...|            a|    2021-08-16|watch clock jewel...|204.40538957685413|      2021|          8|    Undisclosed|\n",
       "|33.00000004463053|2419.9999940679677|        Eros Limited|            c|    2021-12-13|digital goods boo...|  37.1880940325229|      2021|         12|         Female|\n",
       "|33.00000004463053|2419.9999940679677|        Eros Limited|            c|    2022-10-10|digital goods boo...| 5.247567221175345|      2022|         10|         Female|\n",
       "|33.00000004463053|2419.9999940679677|        Eros Limited|            c|    2021-06-14|digital goods boo...|31.204086659483615|      2021|          6|    Undisclosed|\n",
       "|33.00000004463053|2419.9999940679677|        Eros Limited|            c|    2021-11-27|digital goods boo...|12.918096138910116|      2021|         11|         Female|\n",
       "|33.00000004463053|2419.9999940679677|Hendrerit A Corpo...|            a|    2022-05-19|watch clock jewel...|276.12651679041534|      2022|          5|         Female|\n",
       "|33.00000004463053|2419.9999940679677|Hendrerit A Corpo...|            a|    2022-03-29|watch clock jewel...| 169.4756116760845|      2022|          3|    Undisclosed|\n",
       "|33.00000004463053|2419.9999940679677|Pede Cras Vulputa...|            a|    2021-06-29|  health beauty spas|400.61345601101743|      2021|          6|         Female|\n",
       "|33.00000004463053|2419.9999940679677|Pede Cras Vulputa...|            a|    2021-04-03|  health beauty spas| 444.1022321713573|      2021|          4|           Male|\n",
       "+-----------------+------------------+--------------------+-------------+--------------+--------------------+------------------+----------+-----------+---------------+\n",
       "only showing top 20 rows"
      ]
     },
     "execution_count": 2,
     "metadata": {},
     "output_type": "execute_result"
    }
   ],
   "source": [
    "sdf = spark.read.parquet('../data/curated/merchant_consumer_abs')\n",
    "sdf = sdf.drop(*['postcode', 'products', 'take_rate', 'category', 'fraud_group',\n",
    "                 'user_id', 'consumer', 'consumer_address', 'consumer_state', 'consumer_postcode', 'order_day',\n",
    "                 '__index_level_0__'])\n",
    "for i in sdf.columns[:7]:\n",
    "    if i != \"median_age\":\n",
    "        sdf = sdf.drop(i)\n",
    "# for i in sdf.columns[:4]:\n",
    "#     sdf = sdf.withColumn(f\"log_{i}\", when(log(col(i)) > 0, log(col(i))).otherwise(0)).drop(i).withColumnRenamed(f\"log_{i}\", i)\n",
    "# sdf = sdf.select(*(sdf.columns[-4:]), *(sdf.columns[:-4]))\n",
    "sdf"
   ]
  },
  {
   "cell_type": "code",
   "execution_count": 3,
   "metadata": {},
   "outputs": [],
   "source": [
    "graph = pd.read_parquet('../data/curated/merchant_consumer_abs')"
   ]
  },
  {
   "cell_type": "code",
   "execution_count": 4,
   "metadata": {},
   "outputs": [
    {
     "data": {
      "image/png": "[encoded data removed]",
      "text/plain": [
       "<Figure size 1008x576 with 2 Axes>"
      ]
     },
     "metadata": {
      "needs_background": "light"
     },
     "output_type": "display_data"
    }
   ],
   "source": [
    "plt.figure(figsize=(14,8))\n",
    "sns.set_theme(style=\"white\")\n",
    "corr = graph.corr()\n",
    "heatmap = sns.heatmap(corr, annot=True, cmap=\"Blues\", fmt='.1g')\n",
    "\n",
    "heatmap.get_figure().savefig(\"../plots/corr.png\")"
   ]
  },
  {
   "cell_type": "markdown",
   "metadata": {},
   "source": [
    "<h3>1.2 Feature Interaction: consider the interaction between some features. </h3>"
   ]
  },
  {
   "cell_type": "code",
   "execution_count": 5,
   "metadata": {},
   "outputs": [
    {
     "name": "stderr",
     "output_type": "stream",
     "text": [
      "                                                                                \r"
     ]
    }
   ],
   "source": [
    "from pyspark.ml.feature import OneHotEncoder, StringIndexer, VectorAssembler, Interaction\n",
    "\n",
    "interact = [\"tag\", \"revenue_level\", \"order_month\", \"order_year\"]\n",
    "for i in interact:\n",
    "    stringIndexer = StringIndexer(inputCol=i, outputCol=f\"{i}_num\")\n",
    "    sdf = stringIndexer.fit(sdf).transform(sdf).drop(i)\n",
    "    encoder = OneHotEncoder(inputCol=f\"{i}_num\", outputCol=i+\"_vec\")\n",
    "    sdf = encoder.fit(sdf).transform(sdf).drop(f\"{i}_num\")\n",
    "\n",
    "interaction = Interaction(inputCols=[f\"{i}_vec\" for i in interact], outputCol=\"interact\")\n",
    "sdf = interaction.transform(sdf)"
   ]
  },
  {
   "cell_type": "markdown",
   "metadata": {},
   "source": [
    "<h3>1.3 Vectorize the categorical feature (gender). </h3>"
   ]
  },
  {
   "cell_type": "code",
   "execution_count": 6,
   "metadata": {},
   "outputs": [
    {
     "name": "stderr",
     "output_type": "stream",
     "text": [
      "                                                                                \r"
     ]
    }
   ],
   "source": [
    "genders = sdf.select(\"consumer_gender\").distinct().rdd.flatMap(lambda x: x).collect()\n",
    "exprs = [when(col(\"consumer_gender\") == category, 1).otherwise(0).alias(category)\n",
    "         for category in genders]\n",
    "sdf = sdf.select(*(sdf.columns), *exprs).drop(\"consumer_gender\")"
   ]
  },
  {
   "cell_type": "markdown",
   "metadata": {},
   "source": [
    "<h3>1.4 Split data (ratio of 0.2). </h3>"
   ]
  },
  {
   "cell_type": "code",
   "execution_count": 7,
   "metadata": {},
   "outputs": [],
   "source": [
    "train = sdf.where((col(\"order_datetime\") <= \"2022-07-31\")).where((col(\"order_datetime\") > \"2022-02-28\")).drop(\"order_datetime\")\n",
    "test = sdf.where((col(\"order_datetime\") > \"2022-07-31\")).drop(\"order_datetime\")"
   ]
  },
  {
   "cell_type": "markdown",
   "metadata": {},
   "source": [
    "<h3>1.5 Aggregate data based on merchants. </h3>"
   ]
  },
  {
   "cell_type": "code",
   "execution_count": 8,
   "metadata": {},
   "outputs": [],
   "source": [
    "train_agg = train\n",
    "w = Window.partitionBy('merchant_name')\n",
    "train_agg = train_agg.withColumn(\"avg(median_age)\", avg(\"median_age\").over(w)).drop(\"median_age\")"
   ]
  },
  {
   "cell_type": "code",
   "execution_count": 9,
   "metadata": {},
   "outputs": [],
   "source": [
    "agg_cols = train_agg.columns\n",
    "for i in [\"dollar_value\", \"Female\", \"Male\", \"Undisclosed\"]:\n",
    "    agg_cols.remove(i)\n",
    "train_agg = train_agg.groupBy(agg_cols).agg(sum(\"dollar_value\"), sum(\"Female\"), sum(\"Male\"), sum(\"Undisclosed\"))\n",
    "w = Window.partitionBy(\"merchant_name\")\n",
    "for i in [\"Female\", \"Male\", \"Undisclosed\"]:\n",
    "    train_agg = train_agg.withColumn(f\"avg({i.lower()})\", avg(f\"sum({i})\").over(w)).drop(f\"sum({i})\")\n",
    "train_agg = train_agg.withColumnRenamed(\"sum(dollar_value)\", \"dollar_value\")"
   ]
  },
  {
   "cell_type": "code",
   "execution_count": 10,
   "metadata": {},
   "outputs": [
    {
     "name": "stderr",
     "output_type": "stream",
     "text": [
      "                                                                                \r"
     ]
    },
    {
     "data": {
      "text/html": [
       "<table border='1'>\n",
       "<tr><th>persons/km2</th><th>merchant_name</th><th>tag_vec</th><th>revenue_level_vec</th><th>order_month_vec</th><th>dollar_value</th><th>order_year_vec</th><th>interact</th><th>avg(median_age)</th><th>avg(female)</th><th>avg(male)</th><th>avg(undisclosed)</th></tr>\n",
       "<tr><td>554.1509663972762</td><td>Adipiscing Enim LLC</td><td>(24,[2],[1.0])</td><td>(4,[0],[1.0])</td><td>(11,[1],[1.0])</td><td>47.14608934153825</td><td>(1,[0],[1.0])</td><td>(1056,[93],[1.0])</td><td>42.30835807332568</td><td>0.5612215499855949</td><td>0.5859982713915298</td><td>0.1264765197349467</td></tr>\n",
       "<tr><td>554.1509663972762</td><td>Adipiscing Enim LLC</td><td>(24,[2],[1.0])</td><td>(4,[0],[1.0])</td><td>(11,[1],[1.0])</td><td>47.14608934153825</td><td>(1,[0],[1.0])</td><td>(1056,[92],[1.0])</td><td>42.30835807332568</td><td>0.5612215499855949</td><td>0.5859982713915298</td><td>0.1264765197349467</td></tr>\n",
       "<tr><td>554.1509663972762</td><td>Adipiscing Enim LLC</td><td>(24,[2],[1.0])</td><td>(4,[0],[1.0])</td><td>(11,[1],[1.0])</td><td>47.14608934153825</td><td>(1,[0],[1.0])</td><td>(1056,[91],[1.0])</td><td>42.30835807332568</td><td>0.5612215499855949</td><td>0.5859982713915298</td><td>0.1264765197349467</td></tr>\n",
       "<tr><td>554.1509663972762</td><td>Adipiscing Enim LLC</td><td>(24,[2],[1.0])</td><td>(4,[0],[1.0])</td><td>(11,[1],[1.0])</td><td>47.14608934153825</td><td>(1,[0],[1.0])</td><td>(1056,[94],[1.0])</td><td>42.30835807332568</td><td>0.5612215499855949</td><td>0.5859982713915298</td><td>0.1264765197349467</td></tr>\n",
       "<tr><td>554.1509663972762</td><td>Adipiscing Enim LLC</td><td>(24,[2],[1.0])</td><td>(4,[0],[1.0])</td><td>(11,[1],[1.0])</td><td>47.14608934153825</td><td>(1,[0],[1.0])</td><td>(1056,[95],[1.0])</td><td>42.30835807332568</td><td>0.5612215499855949</td><td>0.5859982713915298</td><td>0.1264765197349467</td></tr>\n",
       "<tr><td>541.6573730991709</td><td>Adipiscing Enim LLC</td><td>(24,[2],[1.0])</td><td>(4,[0],[1.0])</td><td>(11,[2],[1.0])</td><td>7.790893751110889</td><td>(1,[0],[1.0])</td><td>(1056,[93],[1.0])</td><td>42.30835807332568</td><td>0.5612215499855949</td><td>0.5859982713915298</td><td>0.1264765197349467</td></tr>\n",
       "<tr><td>541.6573730991709</td><td>Adipiscing Enim LLC</td><td>(24,[2],[1.0])</td><td>(4,[0],[1.0])</td><td>(11,[2],[1.0])</td><td>7.790893751110889</td><td>(1,[0],[1.0])</td><td>(1056,[92],[1.0])</td><td>42.30835807332568</td><td>0.5612215499855949</td><td>0.5859982713915298</td><td>0.1264765197349467</td></tr>\n",
       "<tr><td>541.6573730991709</td><td>Adipiscing Enim LLC</td><td>(24,[2],[1.0])</td><td>(4,[0],[1.0])</td><td>(11,[2],[1.0])</td><td>7.790893751110889</td><td>(1,[0],[1.0])</td><td>(1056,[91],[1.0])</td><td>42.30835807332568</td><td>0.5612215499855949</td><td>0.5859982713915298</td><td>0.1264765197349467</td></tr>\n",
       "<tr><td>541.6573730991709</td><td>Adipiscing Enim LLC</td><td>(24,[2],[1.0])</td><td>(4,[0],[1.0])</td><td>(11,[2],[1.0])</td><td>7.790893751110889</td><td>(1,[0],[1.0])</td><td>(1056,[94],[1.0])</td><td>42.30835807332568</td><td>0.5612215499855949</td><td>0.5859982713915298</td><td>0.1264765197349467</td></tr>\n",
       "<tr><td>541.6573730991709</td><td>Adipiscing Enim LLC</td><td>(24,[2],[1.0])</td><td>(4,[0],[1.0])</td><td>(11,[2],[1.0])</td><td>7.790893751110889</td><td>(1,[0],[1.0])</td><td>(1056,[95],[1.0])</td><td>42.30835807332568</td><td>0.5612215499855949</td><td>0.5859982713915298</td><td>0.1264765197349467</td></tr>\n",
       "<tr><td>59.999999974984526</td><td>Adipiscing Enim LLC</td><td>(24,[2],[1.0])</td><td>(4,[0],[1.0])</td><td>(11,[2],[1.0])</td><td>73.62897207619658</td><td>(1,[0],[1.0])</td><td>(1056,[93],[1.0])</td><td>42.30835807332568</td><td>0.5612215499855949</td><td>0.5859982713915298</td><td>0.1264765197349467</td></tr>\n",
       "<tr><td>59.999999974984526</td><td>Adipiscing Enim LLC</td><td>(24,[2],[1.0])</td><td>(4,[0],[1.0])</td><td>(11,[2],[1.0])</td><td>73.62897207619658</td><td>(1,[0],[1.0])</td><td>(1056,[92],[1.0])</td><td>42.30835807332568</td><td>0.5612215499855949</td><td>0.5859982713915298</td><td>0.1264765197349467</td></tr>\n",
       "<tr><td>59.999999974984526</td><td>Adipiscing Enim LLC</td><td>(24,[2],[1.0])</td><td>(4,[0],[1.0])</td><td>(11,[2],[1.0])</td><td>73.62897207619658</td><td>(1,[0],[1.0])</td><td>(1056,[91],[1.0])</td><td>42.30835807332568</td><td>0.5612215499855949</td><td>0.5859982713915298</td><td>0.1264765197349467</td></tr>\n",
       "<tr><td>59.999999974984526</td><td>Adipiscing Enim LLC</td><td>(24,[2],[1.0])</td><td>(4,[0],[1.0])</td><td>(11,[2],[1.0])</td><td>73.62897207619658</td><td>(1,[0],[1.0])</td><td>(1056,[94],[1.0])</td><td>42.30835807332568</td><td>0.5612215499855949</td><td>0.5859982713915298</td><td>0.1264765197349467</td></tr>\n",
       "<tr><td>59.999999974984526</td><td>Adipiscing Enim LLC</td><td>(24,[2],[1.0])</td><td>(4,[0],[1.0])</td><td>(11,[2],[1.0])</td><td>73.62897207619658</td><td>(1,[0],[1.0])</td><td>(1056,[95],[1.0])</td><td>42.30835807332568</td><td>0.5612215499855949</td><td>0.5859982713915298</td><td>0.1264765197349467</td></tr>\n",
       "<tr><td>1482.5699261627756</td><td>Aliquam Gravida M...</td><td>(24,[2],[1.0])</td><td>(4,[0],[1.0])</td><td>(11,[1],[1.0])</td><td>228.37082377427365</td><td>(1,[0],[1.0])</td><td>(1056,[94],[1.0])</td><td>42.499373308425305</td><td>0.5212064090480678</td><td>0.5080113100848256</td><td>0.1234684260131951</td></tr>\n",
       "<tr><td>1482.5699261627756</td><td>Aliquam Gravida M...</td><td>(24,[2],[1.0])</td><td>(4,[0],[1.0])</td><td>(11,[1],[1.0])</td><td>228.37082377427365</td><td>(1,[0],[1.0])</td><td>(1056,[91],[1.0])</td><td>42.499373308425305</td><td>0.5212064090480678</td><td>0.5080113100848256</td><td>0.1234684260131951</td></tr>\n",
       "<tr><td>1482.5699261627756</td><td>Aliquam Gravida M...</td><td>(24,[2],[1.0])</td><td>(4,[0],[1.0])</td><td>(11,[1],[1.0])</td><td>228.37082377427365</td><td>(1,[0],[1.0])</td><td>(1056,[93],[1.0])</td><td>42.499373308425305</td><td>0.5212064090480678</td><td>0.5080113100848256</td><td>0.1234684260131951</td></tr>\n",
       "<tr><td>1482.5699261627756</td><td>Aliquam Gravida M...</td><td>(24,[2],[1.0])</td><td>(4,[0],[1.0])</td><td>(11,[1],[1.0])</td><td>228.37082377427365</td><td>(1,[0],[1.0])</td><td>(1056,[95],[1.0])</td><td>42.499373308425305</td><td>0.5212064090480678</td><td>0.5080113100848256</td><td>0.1234684260131951</td></tr>\n",
       "<tr><td>1482.5699261627756</td><td>Aliquam Gravida M...</td><td>(24,[2],[1.0])</td><td>(4,[0],[1.0])</td><td>(11,[1],[1.0])</td><td>228.37082377427365</td><td>(1,[0],[1.0])</td><td>(1056,[92],[1.0])</td><td>42.499373308425305</td><td>0.5212064090480678</td><td>0.5080113100848256</td><td>0.1234684260131951</td></tr>\n",
       "</table>\n",
       "only showing top 20 rows\n"
      ],
      "text/plain": [
       "+------------------+--------------------+--------------+-----------------+---------------+------------------+--------------+-----------------+------------------+------------------+------------------+------------------+\n",
       "|       persons/km2|       merchant_name|       tag_vec|revenue_level_vec|order_month_vec|      dollar_value|order_year_vec|         interact|   avg(median_age)|       avg(female)|         avg(male)|  avg(undisclosed)|\n",
       "+------------------+--------------------+--------------+-----------------+---------------+------------------+--------------+-----------------+------------------+------------------+------------------+------------------+\n",
       "| 554.1509663972762| Adipiscing Enim LLC|(24,[2],[1.0])|    (4,[0],[1.0])| (11,[1],[1.0])| 47.14608934153825| (1,[0],[1.0])|(1056,[93],[1.0])| 42.30835807332568|0.5612215499855949|0.5859982713915298|0.1264765197349467|\n",
       "| 554.1509663972762| Adipiscing Enim LLC|(24,[2],[1.0])|    (4,[0],[1.0])| (11,[1],[1.0])| 47.14608934153825| (1,[0],[1.0])|(1056,[92],[1.0])| 42.30835807332568|0.5612215499855949|0.5859982713915298|0.1264765197349467|\n",
       "| 554.1509663972762| Adipiscing Enim LLC|(24,[2],[1.0])|    (4,[0],[1.0])| (11,[1],[1.0])| 47.14608934153825| (1,[0],[1.0])|(1056,[91],[1.0])| 42.30835807332568|0.5612215499855949|0.5859982713915298|0.1264765197349467|\n",
       "| 554.1509663972762| Adipiscing Enim LLC|(24,[2],[1.0])|    (4,[0],[1.0])| (11,[1],[1.0])| 47.14608934153825| (1,[0],[1.0])|(1056,[94],[1.0])| 42.30835807332568|0.5612215499855949|0.5859982713915298|0.1264765197349467|\n",
       "| 554.1509663972762| Adipiscing Enim LLC|(24,[2],[1.0])|    (4,[0],[1.0])| (11,[1],[1.0])| 47.14608934153825| (1,[0],[1.0])|(1056,[95],[1.0])| 42.30835807332568|0.5612215499855949|0.5859982713915298|0.1264765197349467|\n",
       "| 541.6573730991709| Adipiscing Enim LLC|(24,[2],[1.0])|    (4,[0],[1.0])| (11,[2],[1.0])| 7.790893751110889| (1,[0],[1.0])|(1056,[93],[1.0])| 42.30835807332568|0.5612215499855949|0.5859982713915298|0.1264765197349467|\n",
       "| 541.6573730991709| Adipiscing Enim LLC|(24,[2],[1.0])|    (4,[0],[1.0])| (11,[2],[1.0])| 7.790893751110889| (1,[0],[1.0])|(1056,[92],[1.0])| 42.30835807332568|0.5612215499855949|0.5859982713915298|0.1264765197349467|\n",
       "| 541.6573730991709| Adipiscing Enim LLC|(24,[2],[1.0])|    (4,[0],[1.0])| (11,[2],[1.0])| 7.790893751110889| (1,[0],[1.0])|(1056,[91],[1.0])| 42.30835807332568|0.5612215499855949|0.5859982713915298|0.1264765197349467|\n",
       "| 541.6573730991709| Adipiscing Enim LLC|(24,[2],[1.0])|    (4,[0],[1.0])| (11,[2],[1.0])| 7.790893751110889| (1,[0],[1.0])|(1056,[94],[1.0])| 42.30835807332568|0.5612215499855949|0.5859982713915298|0.1264765197349467|\n",
       "| 541.6573730991709| Adipiscing Enim LLC|(24,[2],[1.0])|    (4,[0],[1.0])| (11,[2],[1.0])| 7.790893751110889| (1,[0],[1.0])|(1056,[95],[1.0])| 42.30835807332568|0.5612215499855949|0.5859982713915298|0.1264765197349467|\n",
       "|59.999999974984526| Adipiscing Enim LLC|(24,[2],[1.0])|    (4,[0],[1.0])| (11,[2],[1.0])| 73.62897207619658| (1,[0],[1.0])|(1056,[93],[1.0])| 42.30835807332568|0.5612215499855949|0.5859982713915298|0.1264765197349467|\n",
       "|59.999999974984526| Adipiscing Enim LLC|(24,[2],[1.0])|    (4,[0],[1.0])| (11,[2],[1.0])| 73.62897207619658| (1,[0],[1.0])|(1056,[92],[1.0])| 42.30835807332568|0.5612215499855949|0.5859982713915298|0.1264765197349467|\n",
       "|59.999999974984526| Adipiscing Enim LLC|(24,[2],[1.0])|    (4,[0],[1.0])| (11,[2],[1.0])| 73.62897207619658| (1,[0],[1.0])|(1056,[91],[1.0])| 42.30835807332568|0.5612215499855949|0.5859982713915298|0.1264765197349467|\n",
       "|59.999999974984526| Adipiscing Enim LLC|(24,[2],[1.0])|    (4,[0],[1.0])| (11,[2],[1.0])| 73.62897207619658| (1,[0],[1.0])|(1056,[94],[1.0])| 42.30835807332568|0.5612215499855949|0.5859982713915298|0.1264765197349467|\n",
       "|59.999999974984526| Adipiscing Enim LLC|(24,[2],[1.0])|    (4,[0],[1.0])| (11,[2],[1.0])| 73.62897207619658| (1,[0],[1.0])|(1056,[95],[1.0])| 42.30835807332568|0.5612215499855949|0.5859982713915298|0.1264765197349467|\n",
       "|1482.5699261627756|Aliquam Gravida M...|(24,[2],[1.0])|    (4,[0],[1.0])| (11,[1],[1.0])|228.37082377427365| (1,[0],[1.0])|(1056,[94],[1.0])|42.499373308425305|0.5212064090480678|0.5080113100848256|0.1234684260131951|\n",
       "|1482.5699261627756|Aliquam Gravida M...|(24,[2],[1.0])|    (4,[0],[1.0])| (11,[1],[1.0])|228.37082377427365| (1,[0],[1.0])|(1056,[91],[1.0])|42.499373308425305|0.5212064090480678|0.5080113100848256|0.1234684260131951|\n",
       "|1482.5699261627756|Aliquam Gravida M...|(24,[2],[1.0])|    (4,[0],[1.0])| (11,[1],[1.0])|228.37082377427365| (1,[0],[1.0])|(1056,[93],[1.0])|42.499373308425305|0.5212064090480678|0.5080113100848256|0.1234684260131951|\n",
       "|1482.5699261627756|Aliquam Gravida M...|(24,[2],[1.0])|    (4,[0],[1.0])| (11,[1],[1.0])|228.37082377427365| (1,[0],[1.0])|(1056,[95],[1.0])|42.499373308425305|0.5212064090480678|0.5080113100848256|0.1234684260131951|\n",
       "|1482.5699261627756|Aliquam Gravida M...|(24,[2],[1.0])|    (4,[0],[1.0])| (11,[1],[1.0])|228.37082377427365| (1,[0],[1.0])|(1056,[92],[1.0])|42.499373308425305|0.5212064090480678|0.5080113100848256|0.1234684260131951|\n",
       "+------------------+--------------------+--------------+-----------------+---------------+------------------+--------------+-----------------+------------------+------------------+------------------+------------------+\n",
       "only showing top 20 rows"
      ]
     },
     "execution_count": 10,
     "metadata": {},
     "output_type": "execute_result"
    }
   ],
   "source": [
    "test_agg = test.groupBy(train_agg.columns[:5]).agg(sum(\"dollar_value\").alias(\"dollar_value\"))\n",
    "train_agg.columns[5:]\n",
    "merch_agg = train_agg.select(col(\"merchant_name\").alias(\"merchant_name_copy\"), *(train_agg.columns[5:])).drop(\"dollar_value\").distinct()\n",
    "test_agg = test_agg.join(merch_agg, test_agg.merchant_name == merch_agg.merchant_name_copy, \"left\").drop(\"merchant_name_copy\")\n",
    "test_agg"
   ]
  },
  {
   "cell_type": "markdown",
   "metadata": {},
   "source": [
    "<h2>2. Train and evaluate models. </h2>"
   ]
  },
  {
   "cell_type": "code",
   "execution_count": 11,
   "metadata": {},
   "outputs": [],
   "source": [
    "from pyspark.sql import Row\n",
    "from pyspark.ml.linalg import Vectors\n",
    "\n",
    "feats = train_agg.columns\n",
    "feats.remove('merchant_name')\n",
    "feats.remove('dollar_value')\n",
    "assembler = VectorAssembler(inputCols=feats, outputCol=\"features\")\n",
    "train_vec = assembler.transform(train_agg)\n",
    "test_vec = assembler.transform(test_agg)"
   ]
  },
  {
   "cell_type": "markdown",
   "metadata": {},
   "source": [
    "<h3>2.1 Linear Regression </h3>"
   ]
  },
  {
   "cell_type": "code",
   "execution_count": 12,
   "metadata": {},
   "outputs": [
    {
     "name": "stderr",
     "output_type": "stream",
     "text": [
      "[Stage 37:==================================================>       (7 + 1) / 8]\r"
     ]
    },
    {
     "name": "stdout",
     "output_type": "stream",
     "text": [
      "22/10/16 21:57:23 WARN Instrumentation: [a59aa3a0] regParam is zero, which might cause numerical instability and overfitting.\n"
     ]
    },
    {
     "name": "stderr",
     "output_type": "stream",
     "text": [
      "[Stage 39:>                                                         (0 + 8) / 9]\r"
     ]
    },
    {
     "name": "stdout",
     "output_type": "stream",
     "text": [
      "22/10/16 21:57:27 WARN InstanceBuilder$NativeBLAS: Failed to load implementation from:dev.ludovic.netlib.blas.JNIBLAS\n",
      "22/10/16 21:57:27 WARN InstanceBuilder$NativeBLAS: Failed to load implementation from:dev.ludovic.netlib.blas.ForeignLinkerBLAS\n"
     ]
    },
    {
     "name": "stderr",
     "output_type": "stream",
     "text": [
      "                                                                                \r"
     ]
    },
    {
     "name": "stdout",
     "output_type": "stream",
     "text": [
      "22/10/16 21:57:27 WARN InstanceBuilder$NativeLAPACK: Failed to load implementation from:dev.ludovic.netlib.lapack.JNILAPACK\n",
      "22/10/16 21:57:27 WARN Instrumentation: [a59aa3a0] Cholesky solver failed due to singular covariance matrix. Retrying with Quasi-Newton solver.\n",
      "22/10/16 21:57:28 WARN BLAS: Failed to load implementation from: com.github.fommil.netlib.NativeSystemBLAS\n",
      "22/10/16 21:57:28 WARN BLAS: Failed to load implementation from: com.github.fommil.netlib.NativeRefBLAS\n"
     ]
    },
    {
     "name": "stderr",
     "output_type": "stream",
     "text": [
      "                                                                                \r"
     ]
    }
   ],
   "source": [
    "from pyspark.ml.regression import LinearRegression\n",
    "\n",
    "# fit lr model\n",
    "\n",
    "train_lm = train_vec.select(\"features\", col(\"dollar_value\").alias(\"label\"))\n",
    "test_lm = train_vec.select(\"features\", col(\"dollar_value\").alias(\"label\"))\n",
    "\n",
    "lr = LinearRegression()\n",
    "lm = lr.fit(train_lm)"
   ]
  },
  {
   "cell_type": "code",
   "execution_count": 13,
   "metadata": {},
   "outputs": [],
   "source": [
    "lm_predict = lm.transform(test_lm)"
   ]
  },
  {
   "cell_type": "code",
   "execution_count": 14,
   "metadata": {},
   "outputs": [
    {
     "name": "stderr",
     "output_type": "stream",
     "text": [
      "                                                                                \r"
     ]
    },
    {
     "name": "stdout",
     "output_type": "stream",
     "text": [
      "Root Mean Squared Error (RMSE) = 228.585\n"
     ]
    },
    {
     "name": "stderr",
     "output_type": "stream",
     "text": [
      "[Stage 51:>                                                         (0 + 8) / 9]\r"
     ]
    },
    {
     "name": "stdout",
     "output_type": "stream",
     "text": [
      "R Squared (R2) = 0.163105\n"
     ]
    },
    {
     "name": "stderr",
     "output_type": "stream",
     "text": [
      "                                                                                \r"
     ]
    }
   ],
   "source": [
    "from pyspark.ml.evaluation import RegressionEvaluator\n",
    "\n",
    "rmse_evaluator = RegressionEvaluator(labelCol=\"label\",\n",
    "                                    predictionCol=\"prediction\",\n",
    "                                    metricName=\"rmse\")\n",
    "r2_evaluator = RegressionEvaluator(labelCol=\"label\",\n",
    "                                   predictionCol=\"prediction\",\n",
    "                                   metricName=\"r2\")\n",
    "rmse = rmse_evaluator.evaluate(lm_predict)\n",
    "print(\"Root Mean Squared Error (RMSE) = %g\" % rmse)\n",
    "r2 = r2_evaluator.evaluate(lm_predict)\n",
    "print(\"R Squared (R2) = %g\" % r2)"
   ]
  },
  {
   "cell_type": "code",
   "execution_count": 15,
   "metadata": {},
   "outputs": [
    {
     "name": "stderr",
     "output_type": "stream",
     "text": [
      "                                                                                \r"
     ]
    },
    {
     "data": {
      "text/html": [
       "<table border='1'>\n",
       "<tr><th>features</th><th>label</th><th>prediction</th></tr>\n",
       "<tr><td>(1101,[0,7,26,36,...</td><td>201.08786837396272</td><td>113.73483390205325</td></tr>\n",
       "<tr><td>(1101,[0,7,26,32,...</td><td>347.86377381210417</td><td>122.17780820617895</td></tr>\n",
       "<tr><td>(1101,[0,7,26,35,...</td><td>534.6800084579394</td><td>118.097585727065</td></tr>\n",
       "<tr><td>(1101,[0,7,26,36,...</td><td>85.43466554412305</td><td>116.15202567417185</td></tr>\n",
       "<tr><td>(1101,[0,7,26,35,...</td><td>399.4625577204659</td><td>116.91652916031097</td></tr>\n",
       "<tr><td>(1101,[0,7,26,34,...</td><td>108.53869793757973</td><td>118.1755607823278</td></tr>\n",
       "<tr><td>(1101,[0,7,26,36,...</td><td>749.2584835936165</td><td>115.9591659330967</td></tr>\n",
       "<tr><td>(1101,[0,7,26,33,...</td><td>346.0760144246462</td><td>120.56531740138553</td></tr>\n",
       "<tr><td>(1101,[0,7,26,36,...</td><td>654.2949609884379</td><td>116.09570132526164</td></tr>\n",
       "<tr><td>(1101,[0,7,26,32,...</td><td>442.5661527554534</td><td>122.17790572864163</td></tr>\n",
       "<tr><td>(1101,[0,7,26,34,...</td><td>291.6197620274536</td><td>117.6889022254071</td></tr>\n",
       "<tr><td>(1101,[0,7,26,36,...</td><td>100.29352846281594</td><td>116.18615853594122</td></tr>\n",
       "<tr><td>(1101,[0,7,26,33,...</td><td>322.9303312868929</td><td>120.54873858264705</td></tr>\n",
       "<tr><td>(1101,[0,7,26,35,...</td><td>210.82169652685099</td><td>117.58586319166665</td></tr>\n",
       "<tr><td>(1101,[0,7,26,36,...</td><td>330.98927682577965</td><td>116.18716796959376</td></tr>\n",
       "<tr><td>(1101,[0,1,26,35,...</td><td>1720.6065689986235</td><td>206.81442836348288</td></tr>\n",
       "<tr><td>(1101,[0,1,26,35,...</td><td>1272.9916080865191</td><td>209.49637424378284</td></tr>\n",
       "<tr><td>(1101,[0,1,26,36,...</td><td>1164.5467955206482</td><td>215.2484218273229</td></tr>\n",
       "<tr><td>(1101,[0,1,26,32,...</td><td>461.99374931500097</td><td>222.4681577552713</td></tr>\n",
       "<tr><td>(1101,[0,1,26,34,...</td><td>177.36969473295574</td><td>212.02414743051514</td></tr>\n",
       "</table>\n",
       "only showing top 20 rows\n"
      ],
      "text/plain": [
       "+--------------------+------------------+------------------+\n",
       "|            features|             label|        prediction|\n",
       "+--------------------+------------------+------------------+\n",
       "|(1101,[0,7,26,36,...|201.08786837396272|113.73483390205325|\n",
       "|(1101,[0,7,26,32,...|347.86377381210417|122.17780820617895|\n",
       "|(1101,[0,7,26,35,...| 534.6800084579394|  118.097585727065|\n",
       "|(1101,[0,7,26,36,...| 85.43466554412305|116.15202567417185|\n",
       "|(1101,[0,7,26,35,...| 399.4625577204659|116.91652916031097|\n",
       "|(1101,[0,7,26,34,...|108.53869793757973| 118.1755607823278|\n",
       "|(1101,[0,7,26,36,...| 749.2584835936165| 115.9591659330967|\n",
       "|(1101,[0,7,26,33,...| 346.0760144246462|120.56531740138553|\n",
       "|(1101,[0,7,26,36,...| 654.2949609884379|116.09570132526164|\n",
       "|(1101,[0,7,26,32,...| 442.5661527554534|122.17790572864163|\n",
       "|(1101,[0,7,26,34,...| 291.6197620274536| 117.6889022254071|\n",
       "|(1101,[0,7,26,36,...|100.29352846281594|116.18615853594122|\n",
       "|(1101,[0,7,26,33,...| 322.9303312868929|120.54873858264705|\n",
       "|(1101,[0,7,26,35,...|210.82169652685099|117.58586319166665|\n",
       "|(1101,[0,7,26,36,...|330.98927682577965|116.18716796959376|\n",
       "|(1101,[0,1,26,35,...|1720.6065689986235|206.81442836348288|\n",
       "|(1101,[0,1,26,35,...|1272.9916080865191|209.49637424378284|\n",
       "|(1101,[0,1,26,36,...|1164.5467955206482| 215.2484218273229|\n",
       "|(1101,[0,1,26,32,...|461.99374931500097| 222.4681577552713|\n",
       "|(1101,[0,1,26,34,...|177.36969473295574|212.02414743051514|\n",
       "+--------------------+------------------+------------------+\n",
       "only showing top 20 rows"
      ]
     },
     "execution_count": 15,
     "metadata": {},
     "output_type": "execute_result"
    }
   ],
   "source": [
    "lm_predict"
   ]
  },
  {
   "cell_type": "markdown",
   "metadata": {},
   "source": [
    "<h3>2.2 Decision Tree Regressor </h3>"
   ]
  },
  {
   "cell_type": "code",
   "execution_count": 17,
   "metadata": {},
   "outputs": [
    {
     "name": "stderr",
     "output_type": "stream",
     "text": [
      "[Stage 79:>                                                         (0 + 8) / 9]\r"
     ]
    },
    {
     "name": "stdout",
     "output_type": "stream",
     "text": [
      "22/10/16 22:00:27 WARN MemoryStore: Not enough space to cache rdd_254_2 in memory! (computed 154.4 MiB so far)\n",
      "22/10/16 22:00:27 WARN BlockManager: Persisting block rdd_254_2 to disk instead.\n",
      "22/10/16 22:00:27 WARN MemoryStore: Not enough space to cache rdd_254_5 in memory! (computed 99.5 MiB so far)\n",
      "22/10/16 22:00:27 WARN BlockManager: Persisting block rdd_254_5 to disk instead.\n",
      "22/10/16 22:00:27 WARN MemoryStore: Not enough space to cache rdd_254_6 in memory! (computed 99.5 MiB so far)\n",
      "22/10/16 22:00:27 WARN BlockManager: Persisting block rdd_254_6 to disk instead.\n",
      "22/10/16 22:00:29 WARN MemoryStore: Not enough space to cache rdd_254_4 in memory! (computed 99.5 MiB so far)\n",
      "22/10/16 22:00:29 WARN BlockManager: Persisting block rdd_254_4 to disk instead.\n",
      "22/10/16 22:00:29 WARN MemoryStore: Not enough space to cache rdd_254_7 in memory! (computed 99.5 MiB so far)\n",
      "22/10/16 22:00:29 WARN BlockManager: Persisting block rdd_254_7 to disk instead.\n",
      "22/10/16 22:00:36 WARN MemoryStore: Not enough space to cache rdd_254_0 in memory! (computed 353.8 MiB so far)\n",
      "22/10/16 22:00:36 WARN BlockManager: Persisting block rdd_254_0 to disk instead.\n",
      "22/10/16 22:00:36 WARN MemoryStore: Not enough space to cache rdd_254_3 in memory! (computed 353.8 MiB so far)\n",
      "22/10/16 22:00:36 WARN BlockManager: Persisting block rdd_254_3 to disk instead.\n",
      "22/10/16 22:00:37 WARN MemoryStore: Not enough space to cache rdd_254_1 in memory! (computed 530.8 MiB so far)\n",
      "22/10/16 22:00:37 WARN BlockManager: Persisting block rdd_254_1 to disk instead.\n",
      "22/10/16 22:00:43 WARN MemoryStore: Not enough space to cache rdd_254_5 in memory! (computed 355.5 MiB so far)\n",
      "22/10/16 22:00:43 WARN MemoryStore: Not enough space to cache rdd_254_4 in memory! (computed 155.0 MiB so far)\n",
      "22/10/16 22:00:43 WARN MemoryStore: Not enough space to cache rdd_254_6 in memory! (computed 237.0 MiB so far)\n",
      "22/10/16 22:00:43 WARN MemoryStore: Not enough space to cache rdd_254_1 in memory! (computed 100.0 MiB so far)\n",
      "22/10/16 22:00:44 WARN MemoryStore: Not enough space to cache rdd_254_7 in memory! (computed 100.0 MiB so far)\n",
      "22/10/16 22:00:45 WARN MemoryStore: Not enough space to cache rdd_254_2 in memory! (computed 801.8 MiB so far)\n",
      "22/10/16 22:00:46 WARN MemoryStore: Not enough space to cache rdd_254_3 in memory! (computed 801.8 MiB so far)\n",
      "22/10/16 22:00:46 WARN MemoryStore: Not enough space to cache rdd_254_0 in memory! (computed 355.5 MiB so far)\n"
     ]
    },
    {
     "name": "stderr",
     "output_type": "stream",
     "text": [
      "[Stage 82:>                                                         (0 + 8) / 9]\r"
     ]
    },
    {
     "name": "stdout",
     "output_type": "stream",
     "text": [
      "22/10/16 22:00:50 WARN MemoryStore: Not enough space to cache rdd_254_7 in memory! (computed 155.0 MiB so far)\n",
      "22/10/16 22:00:51 WARN MemoryStore: Not enough space to cache rdd_254_5 in memory! (computed 237.0 MiB so far)\n",
      "22/10/16 22:00:51 WARN MemoryStore: Not enough space to cache rdd_254_2 in memory! (computed 237.0 MiB so far)\n",
      "22/10/16 22:00:51 WARN MemoryStore: Not enough space to cache rdd_254_3 in memory! (computed 237.0 MiB so far)\n",
      "22/10/16 22:00:51 WARN MemoryStore: Not enough space to cache rdd_254_6 in memory! (computed 237.0 MiB so far)\n",
      "22/10/16 22:00:51 WARN MemoryStore: Not enough space to cache rdd_254_4 in memory! (computed 237.0 MiB so far)\n",
      "22/10/16 22:00:51 WARN MemoryStore: Not enough space to cache rdd_254_1 in memory! (computed 237.0 MiB so far)\n",
      "22/10/16 22:00:54 WARN MemoryStore: Not enough space to cache rdd_254_0 in memory! (computed 1242.6 MiB so far)\n"
     ]
    },
    {
     "name": "stderr",
     "output_type": "stream",
     "text": [
      "[Stage 85:>                                                         (0 + 8) / 9]\r"
     ]
    },
    {
     "name": "stdout",
     "output_type": "stream",
     "text": [
      "22/10/16 22:00:56 WARN MemoryStore: Not enough space to cache rdd_254_7 in memory! (computed 155.0 MiB so far)\n",
      "22/10/16 22:00:57 WARN MemoryStore: Not enough space to cache rdd_254_2 in memory! (computed 237.0 MiB so far)\n",
      "22/10/16 22:00:57 WARN MemoryStore: Not enough space to cache rdd_254_1 in memory! (computed 237.0 MiB so far)\n",
      "22/10/16 22:00:57 WARN MemoryStore: Not enough space to cache rdd_254_3 in memory! (computed 237.0 MiB so far)\n",
      "22/10/16 22:00:57 WARN MemoryStore: Not enough space to cache rdd_254_6 in memory! (computed 237.0 MiB so far)\n",
      "22/10/16 22:00:57 WARN MemoryStore: Not enough space to cache rdd_254_0 in memory! (computed 237.0 MiB so far)\n",
      "22/10/16 22:00:57 WARN MemoryStore: Not enough space to cache rdd_254_5 in memory! (computed 237.0 MiB so far)\n",
      "22/10/16 22:01:00 WARN MemoryStore: Not enough space to cache rdd_254_4 in memory! (computed 1242.6 MiB so far)\n"
     ]
    },
    {
     "name": "stderr",
     "output_type": "stream",
     "text": [
      "[Stage 88:>                                                         (0 + 8) / 9]\r"
     ]
    },
    {
     "name": "stdout",
     "output_type": "stream",
     "text": [
      "22/10/16 22:01:02 WARN MemoryStore: Not enough space to cache rdd_254_1 in memory! (computed 155.0 MiB so far)\n",
      "22/10/16 22:01:03 WARN MemoryStore: Not enough space to cache rdd_254_3 in memory! (computed 237.0 MiB so far)\n",
      "22/10/16 22:01:03 WARN MemoryStore: Not enough space to cache rdd_254_2 in memory! (computed 237.0 MiB so far)\n",
      "22/10/16 22:01:03 WARN MemoryStore: Not enough space to cache rdd_254_0 in memory! (computed 237.0 MiB so far)\n",
      "22/10/16 22:01:03 WARN MemoryStore: Not enough space to cache rdd_254_6 in memory! (computed 237.0 MiB so far)\n",
      "22/10/16 22:01:03 WARN MemoryStore: Not enough space to cache rdd_254_4 in memory! (computed 237.0 MiB so far)\n",
      "22/10/16 22:01:03 WARN MemoryStore: Not enough space to cache rdd_254_7 in memory! (computed 237.0 MiB so far)\n"
     ]
    },
    {
     "name": "stderr",
     "output_type": "stream",
     "text": [
      "                                                                                \r"
     ]
    },
    {
     "name": "stdout",
     "output_type": "stream",
     "text": [
      "22/10/16 22:01:07 WARN MemoryStore: Not enough space to cache rdd_254_2 in memory! (computed 100.0 MiB so far)\n",
      "22/10/16 22:01:07 WARN MemoryStore: Not enough space to cache rdd_254_3 in memory! (computed 100.0 MiB so far)\n",
      "22/10/16 22:01:07 WARN MemoryStore: Not enough space to cache rdd_254_0 in memory! (computed 100.0 MiB so far)\n",
      "22/10/16 22:01:07 WARN MemoryStore: Not enough space to cache rdd_254_6 in memory! (computed 100.0 MiB so far)\n",
      "22/10/16 22:01:07 WARN MemoryStore: Not enough space to cache rdd_254_7 in memory! (computed 100.0 MiB so far)\n",
      "22/10/16 22:01:07 WARN MemoryStore: Not enough space to cache rdd_254_1 in memory! (computed 100.0 MiB so far)\n",
      "22/10/16 22:01:07 WARN MemoryStore: Not enough space to cache rdd_254_4 in memory! (computed 100.0 MiB so far)\n"
     ]
    },
    {
     "name": "stderr",
     "output_type": "stream",
     "text": [
      "                                                                                \r"
     ]
    }
   ],
   "source": [
    "from pyspark.ml.regression import DecisionTreeRegressor\n",
    "\n",
    "DTR = DecisionTreeRegressor(featuresCol=\"features\")\n",
    "dt = DTR.fit(train_lm)"
   ]
  },
  {
   "cell_type": "code",
   "execution_count": 18,
   "metadata": {},
   "outputs": [],
   "source": [
    "dt_predict = dt.transform(test_lm)"
   ]
  },
  {
   "cell_type": "code",
   "execution_count": 19,
   "metadata": {},
   "outputs": [
    {
     "name": "stderr",
     "output_type": "stream",
     "text": [
      "                                                                                \r"
     ]
    },
    {
     "name": "stdout",
     "output_type": "stream",
     "text": [
      "Root Mean Squared Error (RMSE) = 233.41\n"
     ]
    },
    {
     "name": "stderr",
     "output_type": "stream",
     "text": [
      "[Stage 99:>                                                         (0 + 8) / 9]\r"
     ]
    },
    {
     "name": "stdout",
     "output_type": "stream",
     "text": [
      "R Squared (R2) = 0.127407\n"
     ]
    },
    {
     "name": "stderr",
     "output_type": "stream",
     "text": [
      "                                                                                \r"
     ]
    }
   ],
   "source": [
    "print(\"Root Mean Squared Error (RMSE) = %g\" % rmse_evaluator.evaluate(dt_predict))\n",
    "print(\"R Squared (R2) = %g\" % r2_evaluator.evaluate(dt_predict))"
   ]
  },
  {
   "cell_type": "markdown",
   "metadata": {},
   "source": [
    "<h3>2.3 Random Forest Regressor </h3>"
   ]
  },
  {
   "cell_type": "code",
   "execution_count": 20,
   "metadata": {},
   "outputs": [
    {
     "name": "stderr",
     "output_type": "stream",
     "text": [
      "[Stage 110:>                                                        (0 + 8) / 9]\r"
     ]
    },
    {
     "name": "stdout",
     "output_type": "stream",
     "text": [
      "22/10/16 22:02:24 WARN MemoryStore: Not enough space to cache rdd_330_7 in memory! (computed 67.2 MiB so far)\n",
      "22/10/16 22:02:24 WARN BlockManager: Persisting block rdd_330_7 to disk instead.\n",
      "22/10/16 22:02:24 WARN MemoryStore: Not enough space to cache rdd_330_2 in memory! (computed 101.7 MiB so far)\n",
      "22/10/16 22:02:24 WARN BlockManager: Persisting block rdd_330_2 to disk instead.\n",
      "22/10/16 22:02:24 WARN MemoryStore: Not enough space to cache rdd_330_1 in memory! (computed 67.2 MiB so far)\n",
      "22/10/16 22:02:24 WARN BlockManager: Persisting block rdd_330_1 to disk instead.\n",
      "22/10/16 22:02:24 WARN MemoryStore: Not enough space to cache rdd_330_3 in memory! (computed 157.7 MiB so far)\n",
      "22/10/16 22:02:24 WARN BlockManager: Persisting block rdd_330_3 to disk instead.\n",
      "22/10/16 22:02:24 WARN MemoryStore: Not enough space to cache rdd_330_4 in memory! (computed 101.7 MiB so far)\n",
      "22/10/16 22:02:24 WARN BlockManager: Persisting block rdd_330_4 to disk instead.\n",
      "22/10/16 22:02:24 WARN MemoryStore: Not enough space to cache rdd_330_6 in memory! (computed 101.7 MiB so far)\n",
      "22/10/16 22:02:24 WARN BlockManager: Persisting block rdd_330_6 to disk instead.\n",
      "22/10/16 22:02:24 WARN MemoryStore: Not enough space to cache rdd_330_5 in memory! (computed 101.7 MiB so far)\n",
      "22/10/16 22:02:24 WARN BlockManager: Persisting block rdd_330_5 to disk instead.\n",
      "22/10/16 22:02:33 WARN MemoryStore: Not enough space to cache rdd_330_0 in memory! (computed 814.6 MiB so far)\n",
      "22/10/16 22:02:33 WARN BlockManager: Persisting block rdd_330_0 to disk instead.\n",
      "22/10/16 22:02:39 WARN MemoryStore: Not enough space to cache rdd_330_3 in memory! (computed 814.6 MiB so far)\n",
      "22/10/16 22:02:39 WARN MemoryStore: Not enough space to cache rdd_330_2 in memory! (computed 240.8 MiB so far)\n",
      "22/10/16 22:02:40 WARN MemoryStore: Not enough space to cache rdd_330_6 in memory! (computed 157.7 MiB so far)\n",
      "22/10/16 22:02:40 WARN MemoryStore: Not enough space to cache rdd_330_5 in memory! (computed 361.4 MiB so far)\n",
      "22/10/16 22:02:40 WARN MemoryStore: Not enough space to cache rdd_330_7 in memory! (computed 44.8 MiB so far)\n",
      "22/10/16 22:02:40 WARN MemoryStore: Not enough space to cache rdd_330_1 in memory! (computed 240.8 MiB so far)\n",
      "22/10/16 22:02:40 WARN MemoryStore: Not enough space to cache rdd_330_4 in memory! (computed 157.7 MiB so far)\n",
      "22/10/16 22:02:43 WARN MemoryStore: Not enough space to cache rdd_330_0 in memory! (computed 5.6 MiB so far)\n"
     ]
    },
    {
     "name": "stderr",
     "output_type": "stream",
     "text": [
      "[Stage 113:>                                                        (0 + 8) / 9]\r"
     ]
    },
    {
     "name": "stdout",
     "output_type": "stream",
     "text": [
      "22/10/16 22:02:54 WARN MemoryStore: Not enough space to cache rdd_330_1 in memory! (computed 157.7 MiB so far)\n",
      "22/10/16 22:02:54 WARN MemoryStore: Not enough space to cache rdd_330_7 in memory! (computed 157.7 MiB so far)\n",
      "22/10/16 22:02:54 WARN MemoryStore: Not enough space to cache rdd_330_6 in memory! (computed 240.8 MiB so far)\n",
      "22/10/16 22:02:54 WARN MemoryStore: Not enough space to cache rdd_330_5 in memory! (computed 240.8 MiB so far)\n",
      "22/10/16 22:02:54 WARN MemoryStore: Not enough space to cache rdd_330_3 in memory! (computed 240.8 MiB so far)\n",
      "22/10/16 22:02:54 WARN MemoryStore: Not enough space to cache rdd_330_2 in memory! (computed 240.8 MiB so far)\n",
      "22/10/16 22:02:54 WARN MemoryStore: Not enough space to cache rdd_330_0 in memory! (computed 240.8 MiB so far)\n",
      "22/10/16 22:02:54 WARN MemoryStore: Not enough space to cache rdd_330_4 in memory! (computed 240.8 MiB so far)\n"
     ]
    },
    {
     "name": "stderr",
     "output_type": "stream",
     "text": [
      "[Stage 116:>                                                        (0 + 8) / 9]\r"
     ]
    },
    {
     "name": "stdout",
     "output_type": "stream",
     "text": [
      "22/10/16 22:03:05 WARN MemoryStore: Not enough space to cache rdd_330_6 in memory! (computed 157.7 MiB so far)\n",
      "22/10/16 22:03:05 WARN MemoryStore: Not enough space to cache rdd_330_2 in memory! (computed 157.7 MiB so far)\n",
      "22/10/16 22:03:05 WARN MemoryStore: Not enough space to cache rdd_330_4 in memory! (computed 240.8 MiB so far)\n",
      "22/10/16 22:03:05 WARN MemoryStore: Not enough space to cache rdd_330_3 in memory! (computed 240.8 MiB so far)\n",
      "22/10/16 22:03:05 WARN MemoryStore: Not enough space to cache rdd_330_5 in memory! (computed 240.8 MiB so far)\n",
      "22/10/16 22:03:05 WARN MemoryStore: Not enough space to cache rdd_330_0 in memory! (computed 240.8 MiB so far)\n",
      "22/10/16 22:03:05 WARN MemoryStore: Not enough space to cache rdd_330_7 in memory! (computed 240.8 MiB so far)\n",
      "22/10/16 22:03:05 WARN MemoryStore: Not enough space to cache rdd_330_1 in memory! (computed 240.8 MiB so far)\n"
     ]
    },
    {
     "name": "stderr",
     "output_type": "stream",
     "text": [
      "[Stage 119:>                                                        (0 + 8) / 9]\r"
     ]
    },
    {
     "name": "stdout",
     "output_type": "stream",
     "text": [
      "22/10/16 22:03:16 WARN MemoryStore: Not enough space to cache rdd_330_4 in memory! (computed 157.7 MiB so far)\n",
      "22/10/16 22:03:16 WARN MemoryStore: Not enough space to cache rdd_330_2 in memory! (computed 157.7 MiB so far)\n",
      "22/10/16 22:03:17 WARN MemoryStore: Not enough space to cache rdd_330_1 in memory! (computed 240.8 MiB so far)\n",
      "22/10/16 22:03:17 WARN MemoryStore: Not enough space to cache rdd_330_5 in memory! (computed 240.8 MiB so far)\n",
      "22/10/16 22:03:17 WARN MemoryStore: Not enough space to cache rdd_330_7 in memory! (computed 240.8 MiB so far)\n",
      "22/10/16 22:03:17 WARN MemoryStore: Not enough space to cache rdd_330_6 in memory! (computed 240.8 MiB so far)\n",
      "22/10/16 22:03:17 WARN MemoryStore: Not enough space to cache rdd_330_3 in memory! (computed 240.8 MiB so far)\n",
      "22/10/16 22:03:17 WARN MemoryStore: Not enough space to cache rdd_330_0 in memory! (computed 240.8 MiB so far)\n"
     ]
    },
    {
     "name": "stderr",
     "output_type": "stream",
     "text": [
      "                                                                                \r"
     ]
    },
    {
     "name": "stdout",
     "output_type": "stream",
     "text": [
      "22/10/16 22:03:26 WARN DAGScheduler: Broadcasting large task binary with size 1121.1 KiB\n"
     ]
    },
    {
     "name": "stderr",
     "output_type": "stream",
     "text": [
      "[Stage 122:>                                                        (0 + 8) / 9]\r"
     ]
    },
    {
     "name": "stdout",
     "output_type": "stream",
     "text": [
      "22/10/16 22:03:27 WARN MemoryStore: Not enough space to cache rdd_330_3 in memory! (computed 157.7 MiB so far)\n",
      "22/10/16 22:03:27 WARN MemoryStore: Not enough space to cache rdd_330_2 in memory! (computed 157.7 MiB so far)\n",
      "22/10/16 22:03:28 WARN MemoryStore: Not enough space to cache rdd_330_6 in memory! (computed 240.8 MiB so far)\n",
      "22/10/16 22:03:28 WARN MemoryStore: Not enough space to cache rdd_330_4 in memory! (computed 240.8 MiB so far)\n",
      "22/10/16 22:03:28 WARN MemoryStore: Not enough space to cache rdd_330_5 in memory! (computed 240.8 MiB so far)\n",
      "22/10/16 22:03:28 WARN MemoryStore: Not enough space to cache rdd_330_7 in memory! (computed 240.8 MiB so far)\n",
      "22/10/16 22:03:28 WARN MemoryStore: Not enough space to cache rdd_330_0 in memory! (computed 240.8 MiB so far)\n",
      "22/10/16 22:03:28 WARN MemoryStore: Not enough space to cache rdd_330_1 in memory! (computed 240.8 MiB so far)\n"
     ]
    },
    {
     "name": "stderr",
     "output_type": "stream",
     "text": [
      "                                                                                \r"
     ]
    },
    {
     "name": "stdout",
     "output_type": "stream",
     "text": [
      "Root Mean Squared Error (RMSE) = 231.081\n"
     ]
    },
    {
     "name": "stderr",
     "output_type": "stream",
     "text": [
      "[Stage 130:===================>                                     (3 + 6) / 9]\r"
     ]
    },
    {
     "name": "stdout",
     "output_type": "stream",
     "text": [
      "R Squared (R2) = 0.144727\n"
     ]
    },
    {
     "name": "stderr",
     "output_type": "stream",
     "text": [
      "                                                                                \r"
     ]
    }
   ],
   "source": [
    "from pyspark.ml.regression import RandomForestRegressor\n",
    "\n",
    "RFR = RandomForestRegressor(featuresCol=\"features\")\n",
    "rf = RFR.fit(train_lm)\n",
    "rf_predict = rf.transform(test_lm)\n",
    "print(\"Root Mean Squared Error (RMSE) = %g\" % rmse_evaluator.evaluate(rf_predict))\n",
    "print(\"R Squared (R2) = %g\" % r2_evaluator.evaluate(rf_predict))"
   ]
  },
  {
   "cell_type": "markdown",
   "metadata": {},
   "source": [
    "<h3>2.4 Gradient Boost Regressor</h3>"
   ]
  },
  {
   "cell_type": "code",
   "execution_count": 21,
   "metadata": {},
   "outputs": [
    {
     "name": "stderr",
     "output_type": "stream",
     "text": [
      "[Stage 142:>                                                        (0 + 8) / 9]\r"
     ]
    },
    {
     "name": "stdout",
     "output_type": "stream",
     "text": [
      "22/10/16 22:05:02 WARN MemoryStore: Not enough space to cache rdd_417_1 in memory! (computed 98.8 MiB so far)\n",
      "22/10/16 22:05:02 WARN BlockManager: Persisting block rdd_417_1 to disk instead.\n",
      "22/10/16 22:05:02 WARN MemoryStore: Not enough space to cache rdd_417_4 in memory! (computed 98.8 MiB so far)\n",
      "22/10/16 22:05:02 WARN BlockManager: Persisting block rdd_417_4 to disk instead.\n",
      "22/10/16 22:05:02 WARN MemoryStore: Not enough space to cache rdd_417_3 in memory! (computed 153.3 MiB so far)\n",
      "22/10/16 22:05:02 WARN BlockManager: Persisting block rdd_417_3 to disk instead.\n",
      "22/10/16 22:05:02 WARN MemoryStore: Not enough space to cache rdd_417_7 in memory! (computed 65.3 MiB so far)\n",
      "22/10/16 22:05:02 WARN BlockManager: Persisting block rdd_417_7 to disk instead.\n",
      "22/10/16 22:05:02 WARN MemoryStore: Not enough space to cache rdd_417_0 in memory! (computed 65.3 MiB so far)\n",
      "22/10/16 22:05:02 WARN BlockManager: Persisting block rdd_417_0 to disk instead.\n",
      "22/10/16 22:05:02 WARN MemoryStore: Not enough space to cache rdd_417_2 in memory! (computed 153.3 MiB so far)\n",
      "22/10/16 22:05:02 WARN BlockManager: Persisting block rdd_417_2 to disk instead.\n",
      "22/10/16 22:05:04 WARN MemoryStore: Not enough space to cache rdd_417_5 in memory! (computed 527.0 MiB so far)\n",
      "22/10/16 22:05:04 WARN BlockManager: Persisting block rdd_417_5 to disk instead.\n",
      "22/10/16 22:05:10 WARN MemoryStore: Not enough space to cache rdd_417_2 in memory! (computed 43.5 MiB so far)\n",
      "22/10/16 22:05:10 WARN MemoryStore: Not enough space to cache rdd_417_5 in memory! (computed 3.6 MiB so far)\n",
      "22/10/16 22:05:10 WARN MemoryStore: Not enough space to cache rdd_417_2 in memory! (computed 3.6 MiB so far)\n",
      "22/10/16 22:05:10 WARN MemoryStore: Failed to reserve initial memory threshold of 1024.0 KiB for computing block rdd_417_5 in memory.\n",
      "22/10/16 22:05:10 WARN MemoryStore: Not enough space to cache rdd_417_5 in memory! (computed 384.0 B so far)\n",
      "22/10/16 22:05:10 WARN MemoryStore: Failed to reserve initial memory threshold of 1024.0 KiB for computing block rdd_417_4 in memory.\n",
      "22/10/16 22:05:10 WARN MemoryStore: Not enough space to cache rdd_417_4 in memory! (computed 384.0 B so far)\n",
      "22/10/16 22:05:10 WARN MemoryStore: Failed to reserve initial memory threshold of 1024.0 KiB for computing block rdd_417_4 in memory.\n",
      "22/10/16 22:05:10 WARN MemoryStore: Not enough space to cache rdd_417_4 in memory! (computed 384.0 B so far)\n",
      "22/10/16 22:05:10 WARN MemoryStore: Failed to reserve initial memory threshold of 1024.0 KiB for computing block rdd_419_4 in memory.\n",
      "22/10/16 22:05:10 WARN MemoryStore: Not enough space to cache rdd_419_4 in memory! (computed 384.0 B so far)\n",
      "22/10/16 22:05:10 WARN BlockManager: Persisting block rdd_419_4 to disk instead.\n"
     ]
    },
    {
     "name": "stderr",
     "output_type": "stream",
     "text": [
      "[Stage 142:======>                                                  (1 + 8) / 9]\r"
     ]
    },
    {
     "name": "stdout",
     "output_type": "stream",
     "text": [
      "22/10/16 22:05:15 WARN MemoryStore: Not enough space to cache rdd_417_8 in memory! (computed 98.8 MiB so far)\n",
      "22/10/16 22:05:15 WARN BlockManager: Persisting block rdd_417_8 to disk instead.\n",
      "22/10/16 22:05:15 WARN MemoryStore: Not enough space to cache rdd_417_7 in memory! (computed 351.3 MiB so far)\n",
      "22/10/16 22:05:15 WARN MemoryStore: Not enough space to cache rdd_417_1 in memory! (computed 351.3 MiB so far)\n",
      "22/10/16 22:05:15 WARN MemoryStore: Not enough space to cache rdd_417_0 in memory! (computed 234.1 MiB so far)\n",
      "22/10/16 22:05:15 WARN MemoryStore: Not enough space to cache rdd_417_1 in memory! (computed 5.4 MiB so far)\n",
      "22/10/16 22:05:15 WARN MemoryStore: Not enough space to cache rdd_417_7 in memory! (computed 5.4 MiB so far)\n",
      "22/10/16 22:05:15 WARN MemoryStore: Failed to reserve initial memory threshold of 1024.0 KiB for computing block rdd_419_1 in memory.\n",
      "22/10/16 22:05:15 WARN MemoryStore: Not enough space to cache rdd_417_0 in memory! (computed 3.6 MiB so far)\n",
      "22/10/16 22:05:15 WARN MemoryStore: Failed to reserve initial memory threshold of 1024.0 KiB for computing block rdd_419_0 in memory.\n",
      "22/10/16 22:05:15 WARN MemoryStore: Not enough space to cache rdd_419_0 in memory! (computed 384.0 B so far)\n",
      "22/10/16 22:05:15 WARN MemoryStore: Not enough space to cache rdd_419_1 in memory! (computed 384.0 B so far)\n",
      "22/10/16 22:05:15 WARN MemoryStore: Failed to reserve initial memory threshold of 1024.0 KiB for computing block rdd_419_7 in memory.\n",
      "22/10/16 22:05:15 WARN BlockManager: Persisting block rdd_419_1 to disk instead.\n",
      "22/10/16 22:05:15 WARN MemoryStore: Not enough space to cache rdd_419_7 in memory! (computed 384.0 B so far)\n",
      "22/10/16 22:05:15 WARN BlockManager: Persisting block rdd_419_0 to disk instead.\n",
      "22/10/16 22:05:15 WARN BlockManager: Persisting block rdd_419_7 to disk instead.\n"
     ]
    },
    {
     "name": "stderr",
     "output_type": "stream",
     "text": [
      "[Stage 142:============>                                            (2 + 7) / 9]\r"
     ]
    },
    {
     "name": "stdout",
     "output_type": "stream",
     "text": [
      "22/10/16 22:05:17 WARN MemoryStore: Not enough space to cache rdd_417_8 in memory! (computed 153.3 MiB so far)\n",
      "22/10/16 22:05:17 WARN MemoryStore: Not enough space to cache rdd_417_8 in memory! (computed 43.5 MiB so far)\n"
     ]
    },
    {
     "name": "stderr",
     "output_type": "stream",
     "text": [
      "[Stage 145:>                                                        (0 + 8) / 9]\r"
     ]
    },
    {
     "name": "stdout",
     "output_type": "stream",
     "text": [
      "22/10/16 22:05:21 WARN MemoryStore: Not enough space to cache rdd_417_2 in memory! (computed 153.3 MiB so far)\n",
      "22/10/16 22:05:21 WARN MemoryStore: Not enough space to cache rdd_417_1 in memory! (computed 153.3 MiB so far)\n",
      "22/10/16 22:05:21 WARN MemoryStore: Not enough space to cache rdd_417_5 in memory! (computed 153.3 MiB so far)\n",
      "22/10/16 22:05:21 WARN MemoryStore: Not enough space to cache rdd_417_4 in memory! (computed 153.3 MiB so far)\n",
      "22/10/16 22:05:21 WARN MemoryStore: Not enough space to cache rdd_417_0 in memory! (computed 153.3 MiB so far)\n",
      "22/10/16 22:05:21 WARN MemoryStore: Not enough space to cache rdd_417_6 in memory! (computed 153.3 MiB so far)\n"
     ]
    },
    {
     "name": "stderr",
     "output_type": "stream",
     "text": [
      "[Stage 145:======>                                                  (1 + 8) / 9]\r"
     ]
    },
    {
     "name": "stdout",
     "output_type": "stream",
     "text": [
      "22/10/16 22:05:23 WARN MemoryStore: Not enough space to cache rdd_417_7 in memory! (computed 791.9 MiB so far)\n"
     ]
    },
    {
     "name": "stderr",
     "output_type": "stream",
     "text": [
      "                                                                                \r"
     ]
    },
    {
     "name": "stdout",
     "output_type": "stream",
     "text": [
      "22/10/16 22:05:25 WARN MemoryStore: Not enough space to cache rdd_417_2 in memory! (computed 98.8 MiB so far)\n",
      "22/10/16 22:05:25 WARN MemoryStore: Not enough space to cache rdd_417_5 in memory! (computed 98.8 MiB so far)\n",
      "22/10/16 22:05:25 WARN MemoryStore: Not enough space to cache rdd_417_0 in memory! (computed 98.8 MiB so far)\n",
      "22/10/16 22:05:25 WARN MemoryStore: Not enough space to cache rdd_417_6 in memory! (computed 153.3 MiB so far)\n",
      "22/10/16 22:05:25 WARN MemoryStore: Not enough space to cache rdd_417_1 in memory! (computed 153.3 MiB so far)\n"
     ]
    },
    {
     "name": "stderr",
     "output_type": "stream",
     "text": [
      "[Stage 148:>                                                        (0 + 8) / 9]\r"
     ]
    },
    {
     "name": "stdout",
     "output_type": "stream",
     "text": [
      "22/10/16 22:05:27 WARN MemoryStore: Not enough space to cache rdd_417_7 in memory! (computed 351.3 MiB so far)\n"
     ]
    },
    {
     "name": "stderr",
     "output_type": "stream",
     "text": [
      "[Stage 148:======>                                                  (1 + 8) / 9]\r"
     ]
    },
    {
     "name": "stdout",
     "output_type": "stream",
     "text": [
      "22/10/16 22:05:27 WARN MemoryStore: Not enough space to cache rdd_417_4 in memory! (computed 527.0 MiB so far)\n"
     ]
    },
    {
     "name": "stderr",
     "output_type": "stream",
     "text": [
      "[Stage 151:>                                                        (0 + 8) / 9]\r"
     ]
    },
    {
     "name": "stdout",
     "output_type": "stream",
     "text": [
      "22/10/16 22:05:30 WARN MemoryStore: Not enough space to cache rdd_417_7 in memory! (computed 98.8 MiB so far)\n",
      "22/10/16 22:05:30 WARN MemoryStore: Not enough space to cache rdd_417_6 in memory! (computed 98.8 MiB so far)\n",
      "22/10/16 22:05:30 WARN MemoryStore: Not enough space to cache rdd_417_2 in memory! (computed 98.8 MiB so far)\n",
      "22/10/16 22:05:30 WARN MemoryStore: Not enough space to cache rdd_417_5 in memory! (computed 153.3 MiB so far)\n",
      "22/10/16 22:05:30 WARN MemoryStore: Not enough space to cache rdd_417_4 in memory! (computed 153.3 MiB so far)\n",
      "22/10/16 22:05:30 WARN MemoryStore: Not enough space to cache rdd_417_1 in memory! (computed 153.3 MiB so far)\n",
      "22/10/16 22:05:30 WARN MemoryStore: Not enough space to cache rdd_417_0 in memory! (computed 153.3 MiB so far)\n"
     ]
    },
    {
     "name": "stderr",
     "output_type": "stream",
     "text": [
      "                                                                                \r"
     ]
    },
    {
     "name": "stdout",
     "output_type": "stream",
     "text": [
      "22/10/16 22:05:33 WARN MemoryStore: Not enough space to cache rdd_417_7 in memory! (computed 98.8 MiB so far)\n",
      "22/10/16 22:05:33 WARN MemoryStore: Not enough space to cache rdd_417_5 in memory! (computed 98.8 MiB so far)\n",
      "22/10/16 22:05:33 WARN MemoryStore: Not enough space to cache rdd_417_6 in memory! (computed 98.8 MiB so far)\n"
     ]
    },
    {
     "name": "stderr",
     "output_type": "stream",
     "text": [
      "[Stage 154:>                                                        (0 + 8) / 9]\r"
     ]
    },
    {
     "name": "stdout",
     "output_type": "stream",
     "text": [
      "22/10/16 22:05:34 WARN MemoryStore: Not enough space to cache rdd_417_4 in memory! (computed 153.3 MiB so far)\n",
      "22/10/16 22:05:34 WARN MemoryStore: Not enough space to cache rdd_417_1 in memory! (computed 153.3 MiB so far)\n",
      "22/10/16 22:05:34 WARN MemoryStore: Not enough space to cache rdd_417_2 in memory! (computed 351.3 MiB so far)\n"
     ]
    },
    {
     "name": "stderr",
     "output_type": "stream",
     "text": [
      "[Stage 154:============>                                            (2 + 7) / 9]\r"
     ]
    },
    {
     "name": "stdout",
     "output_type": "stream",
     "text": [
      "22/10/16 22:05:35 WARN MemoryStore: Not enough space to cache rdd_417_0 in memory! (computed 527.0 MiB so far)\n"
     ]
    },
    {
     "name": "stderr",
     "output_type": "stream",
     "text": [
      "                                                                                \r"
     ]
    },
    {
     "name": "stdout",
     "output_type": "stream",
     "text": [
      "22/10/16 22:05:38 WARN MemoryStore: Not enough space to cache rdd_417_0 in memory! (computed 98.8 MiB so far)\n",
      "22/10/16 22:05:38 WARN MemoryStore: Not enough space to cache rdd_417_6 in memory! (computed 98.8 MiB so far)\n",
      "22/10/16 22:05:38 WARN MemoryStore: Not enough space to cache rdd_417_1 in memory! (computed 98.8 MiB so far)\n",
      "22/10/16 22:05:38 WARN MemoryStore: Not enough space to cache rdd_417_5 in memory! (computed 153.3 MiB so far)\n",
      "22/10/16 22:05:38 WARN MemoryStore: Not enough space to cache rdd_417_2 in memory! (computed 153.3 MiB so far)\n",
      "22/10/16 22:05:38 WARN MemoryStore: Not enough space to cache rdd_417_7 in memory! (computed 153.3 MiB so far)\n",
      "22/10/16 22:05:38 WARN MemoryStore: Not enough space to cache rdd_417_1 in memory! (computed 5.4 MiB so far)\n",
      "22/10/16 22:05:38 WARN MemoryStore: Not enough space to cache rdd_417_4 in memory! (computed 153.3 MiB so far)\n",
      "22/10/16 22:05:38 WARN MemoryStore: Failed to reserve initial memory threshold of 1024.0 KiB for computing block rdd_417_7 in memory.\n",
      "22/10/16 22:05:38 WARN MemoryStore: Not enough space to cache rdd_417_7 in memory! (computed 384.0 B so far)\n",
      "22/10/16 22:05:38 WARN MemoryStore: Failed to reserve initial memory threshold of 1024.0 KiB for computing block rdd_417_2 in memory.\n",
      "22/10/16 22:05:38 WARN MemoryStore: Failed to reserve initial memory threshold of 1024.0 KiB for computing block rdd_417_5 in memory.\n",
      "22/10/16 22:05:38 WARN MemoryStore: Not enough space to cache rdd_417_5 in memory! (computed 384.0 B so far)\n",
      "22/10/16 22:05:38 WARN MemoryStore: Not enough space to cache rdd_417_2 in memory! (computed 384.0 B so far)\n",
      "22/10/16 22:05:38 WARN MemoryStore: Failed to reserve initial memory threshold of 1024.0 KiB for computing block rdd_417_4 in memory.\n",
      "22/10/16 22:05:38 WARN MemoryStore: Not enough space to cache rdd_417_4 in memory! (computed 384.0 B so far)\n",
      "22/10/16 22:05:38 WARN MemoryStore: Failed to reserve initial memory threshold of 1024.0 KiB for computing block rdd_417_1 in memory.\n",
      "22/10/16 22:05:38 WARN MemoryStore: Not enough space to cache rdd_417_1 in memory! (computed 384.0 B so far)\n",
      "22/10/16 22:05:38 WARN MemoryStore: Failed to reserve initial memory threshold of 1024.0 KiB for computing block rdd_417_5 in memory.\n",
      "22/10/16 22:05:38 WARN MemoryStore: Failed to reserve initial memory threshold of 1024.0 KiB for computing block rdd_417_7 in memory.\n",
      "22/10/16 22:05:38 WARN MemoryStore: Not enough space to cache rdd_417_5 in memory! (computed 384.0 B so far)\n",
      "22/10/16 22:05:38 WARN MemoryStore: Not enough space to cache rdd_417_7 in memory! (computed 384.0 B so far)\n",
      "22/10/16 22:05:38 WARN MemoryStore: Failed to reserve initial memory threshold of 1024.0 KiB for computing block rdd_417_2 in memory.\n",
      "22/10/16 22:05:38 WARN MemoryStore: Not enough space to cache rdd_417_2 in memory! (computed 384.0 B so far)\n",
      "22/10/16 22:05:38 WARN MemoryStore: Failed to reserve initial memory threshold of 1024.0 KiB for computing block rdd_417_4 in memory.\n",
      "22/10/16 22:05:38 WARN MemoryStore: Not enough space to cache rdd_417_4 in memory! (computed 384.0 B so far)\n"
     ]
    },
    {
     "name": "stderr",
     "output_type": "stream",
     "text": [
      "[Stage 157:>                                                        (0 + 8) / 9]\r"
     ]
    },
    {
     "name": "stdout",
     "output_type": "stream",
     "text": [
      "22/10/16 22:05:38 WARN MemoryStore: Not enough space to cache rdd_417_6 in memory! (computed 98.8 MiB so far)\n",
      "22/10/16 22:05:38 WARN MemoryStore: Not enough space to cache rdd_417_0 in memory! (computed 98.8 MiB so far)\n",
      "22/10/16 22:05:38 WARN MemoryStore: Not enough space to cache rdd_417_0 in memory! (computed 19.0 MiB so far)\n",
      "22/10/16 22:05:38 WARN MemoryStore: Failed to reserve initial memory threshold of 1024.0 KiB for computing block rdd_437_0 in memory.\n",
      "22/10/16 22:05:38 WARN MemoryStore: Not enough space to cache rdd_437_0 in memory! (computed 384.0 B so far)\n",
      "22/10/16 22:05:38 WARN BlockManager: Persisting block rdd_437_0 to disk instead.\n",
      "22/10/16 22:05:38 WARN MemoryStore: Not enough space to cache rdd_437_7 in memory! (computed 1035.4 KiB so far)\n",
      "22/10/16 22:05:38 WARN MemoryStore: Not enough space to cache rdd_417_6 in memory! (computed 19.0 MiB so far)\n",
      "22/10/16 22:05:38 WARN MemoryStore: Failed to reserve initial memory threshold of 1024.0 KiB for computing block rdd_437_6 in memory.\n",
      "22/10/16 22:05:38 WARN MemoryStore: Not enough space to cache rdd_437_6 in memory! (computed 384.0 B so far)\n",
      "22/10/16 22:05:38 WARN BlockManager: Persisting block rdd_437_6 to disk instead.\n",
      "22/10/16 22:05:38 WARN BlockManager: Persisting block rdd_437_7 to disk instead.\n"
     ]
    },
    {
     "name": "stderr",
     "output_type": "stream",
     "text": [
      "[Stage 157:======>                                                  (1 + 8) / 9]\r"
     ]
    },
    {
     "name": "stdout",
     "output_type": "stream",
     "text": [
      "22/10/16 22:05:39 WARN MemoryStore: Not enough space to cache rdd_417_8 in memory! (computed 29.0 MiB so far)\n",
      "22/10/16 22:05:39 WARN MemoryStore: Not enough space to cache rdd_417_8 in memory! (computed 1050.0 KiB so far)\n",
      "22/10/16 22:05:39 WARN MemoryStore: Failed to reserve initial memory threshold of 1024.0 KiB for computing block rdd_417_8 in memory.\n",
      "22/10/16 22:05:39 WARN MemoryStore: Not enough space to cache rdd_417_8 in memory! (computed 384.0 B so far)\n"
     ]
    },
    {
     "name": "stderr",
     "output_type": "stream",
     "text": [
      "[Stage 160:>                                                        (0 + 8) / 9]\r"
     ]
    },
    {
     "name": "stdout",
     "output_type": "stream",
     "text": [
      "22/10/16 22:05:48 WARN MemoryStore: Not enough space to cache rdd_417_0 in memory! (computed 234.1 MiB so far)\n",
      "22/10/16 22:05:48 WARN MemoryStore: Not enough space to cache rdd_417_7 in memory! (computed 234.1 MiB so far)\n",
      "22/10/16 22:05:48 WARN MemoryStore: Not enough space to cache rdd_417_2 in memory! (computed 234.1 MiB so far)\n",
      "22/10/16 22:05:48 WARN MemoryStore: Not enough space to cache rdd_417_3 in memory! (computed 234.1 MiB so far)\n",
      "22/10/16 22:05:48 WARN MemoryStore: Not enough space to cache rdd_417_5 in memory! (computed 234.1 MiB so far)\n",
      "22/10/16 22:05:48 WARN MemoryStore: Not enough space to cache rdd_417_4 in memory! (computed 234.1 MiB so far)\n",
      "22/10/16 22:05:48 WARN MemoryStore: Not enough space to cache rdd_417_1 in memory! (computed 234.1 MiB so far)\n",
      "22/10/16 22:05:48 WARN MemoryStore: Not enough space to cache rdd_440_1 in memory! (computed 1024.6 KiB so far)\n",
      "22/10/16 22:05:48 WARN MemoryStore: Not enough space to cache rdd_440_3 in memory! (computed 1537.3 KiB so far)\n",
      "22/10/16 22:05:48 WARN MemoryStore: Not enough space to cache rdd_440_2 in memory! (computed 1537.3 KiB so far)\n",
      "22/10/16 22:05:48 WARN MemoryStore: Not enough space to cache rdd_440_5 in memory! (computed 1537.3 KiB so far)\n"
     ]
    },
    {
     "name": "stderr",
     "output_type": "stream",
     "text": [
      "                                                                                \r"
     ]
    },
    {
     "name": "stdout",
     "output_type": "stream",
     "text": [
      "22/10/16 22:05:52 WARN MemoryStore: Not enough space to cache rdd_417_4 in memory! (computed 98.8 MiB so far)\n",
      "22/10/16 22:05:52 WARN MemoryStore: Not enough space to cache rdd_417_1 in memory! (computed 98.8 MiB so far)\n",
      "22/10/16 22:05:52 WARN MemoryStore: Not enough space to cache rdd_417_2 in memory! (computed 98.8 MiB so far)\n",
      "22/10/16 22:05:52 WARN MemoryStore: Not enough space to cache rdd_417_7 in memory! (computed 98.8 MiB so far)\n",
      "22/10/16 22:05:52 WARN MemoryStore: Not enough space to cache rdd_417_0 in memory! (computed 65.3 MiB so far)\n",
      "22/10/16 22:05:52 WARN MemoryStore: Not enough space to cache rdd_417_5 in memory! (computed 65.3 MiB so far)\n"
     ]
    },
    {
     "name": "stderr",
     "output_type": "stream",
     "text": [
      "[Stage 163:======>                                                  (1 + 8) / 9]\r"
     ]
    },
    {
     "name": "stdout",
     "output_type": "stream",
     "text": [
      "22/10/16 22:05:54 WARN MemoryStore: Not enough space to cache rdd_417_3 in memory! (computed 527.0 MiB so far)\n"
     ]
    },
    {
     "name": "stderr",
     "output_type": "stream",
     "text": [
      "                                                                                \r"
     ]
    },
    {
     "name": "stdout",
     "output_type": "stream",
     "text": [
      "22/10/16 22:05:57 WARN MemoryStore: Not enough space to cache rdd_417_1 in memory! (computed 65.3 MiB so far)\n",
      "22/10/16 22:05:57 WARN MemoryStore: Not enough space to cache rdd_417_3 in memory! (computed 65.3 MiB so far)\n",
      "22/10/16 22:05:57 WARN MemoryStore: Not enough space to cache rdd_417_7 in memory! (computed 98.8 MiB so far)\n",
      "22/10/16 22:05:57 WARN MemoryStore: Not enough space to cache rdd_417_4 in memory! (computed 98.8 MiB so far)\n",
      "22/10/16 22:05:57 WARN MemoryStore: Not enough space to cache rdd_417_0 in memory! (computed 98.8 MiB so far)\n",
      "22/10/16 22:05:57 WARN MemoryStore: Not enough space to cache rdd_417_5 in memory! (computed 153.3 MiB so far)\n",
      "22/10/16 22:05:57 WARN MemoryStore: Not enough space to cache rdd_417_2 in memory! (computed 153.3 MiB so far)\n"
     ]
    },
    {
     "name": "stderr",
     "output_type": "stream",
     "text": [
      "[Stage 169:>                                                        (0 + 8) / 9]\r"
     ]
    },
    {
     "name": "stdout",
     "output_type": "stream",
     "text": [
      "22/10/16 22:06:02 WARN MemoryStore: Not enough space to cache rdd_417_0 in memory! (computed 65.3 MiB so far)\n",
      "22/10/16 22:06:02 WARN MemoryStore: Not enough space to cache rdd_417_3 in memory! (computed 65.3 MiB so far)\n",
      "22/10/16 22:06:02 WARN MemoryStore: Not enough space to cache rdd_417_4 in memory! (computed 98.8 MiB so far)\n",
      "22/10/16 22:06:02 WARN MemoryStore: Not enough space to cache rdd_440_4 in memory! (computed 2.7 MiB so far)\n",
      "22/10/16 22:06:02 WARN MemoryStore: Not enough space to cache rdd_417_1 in memory! (computed 153.3 MiB so far)\n",
      "22/10/16 22:06:02 WARN MemoryStore: Failed to reserve initial memory threshold of 1024.0 KiB for computing block rdd_440_1 in memory.\n",
      "22/10/16 22:06:02 WARN MemoryStore: Not enough space to cache rdd_440_1 in memory! (computed 384.0 B so far)\n",
      "22/10/16 22:06:02 WARN MemoryStore: Not enough space to cache rdd_417_5 in memory! (computed 153.3 MiB so far)\n",
      "22/10/16 22:06:02 WARN MemoryStore: Failed to reserve initial memory threshold of 1024.0 KiB for computing block rdd_440_5 in memory.\n",
      "22/10/16 22:06:02 WARN MemoryStore: Not enough space to cache rdd_440_5 in memory! (computed 384.0 B so far)\n",
      "22/10/16 22:06:02 WARN MemoryStore: Not enough space to cache rdd_417_2 in memory! (computed 153.3 MiB so far)\n",
      "22/10/16 22:06:02 WARN MemoryStore: Failed to reserve initial memory threshold of 1024.0 KiB for computing block rdd_440_2 in memory.\n",
      "22/10/16 22:06:02 WARN MemoryStore: Not enough space to cache rdd_440_2 in memory! (computed 384.0 B so far)\n",
      "22/10/16 22:06:02 WARN MemoryStore: Not enough space to cache rdd_417_7 in memory! (computed 153.3 MiB so far)\n"
     ]
    },
    {
     "name": "stderr",
     "output_type": "stream",
     "text": [
      "                                                                                \r"
     ]
    },
    {
     "name": "stdout",
     "output_type": "stream",
     "text": [
      "22/10/16 22:06:06 WARN MemoryStore: Not enough space to cache rdd_417_5 in memory! (computed 65.3 MiB so far)\n",
      "22/10/16 22:06:06 WARN MemoryStore: Not enough space to cache rdd_417_7 in memory! (computed 65.3 MiB so far)\n",
      "22/10/16 22:06:06 WARN MemoryStore: Not enough space to cache rdd_417_5 in memory! (computed 1591.6 KiB so far)\n",
      "22/10/16 22:06:06 WARN MemoryStore: Not enough space to cache rdd_417_1 in memory! (computed 98.8 MiB so far)\n",
      "22/10/16 22:06:06 WARN MemoryStore: Not enough space to cache rdd_417_0 in memory! (computed 98.8 MiB so far)\n",
      "22/10/16 22:06:06 WARN MemoryStore: Not enough space to cache rdd_417_5 in memory! (computed 19.0 MiB so far)\n"
     ]
    },
    {
     "name": "stderr",
     "output_type": "stream",
     "text": [
      "[Stage 172:>                                                        (0 + 8) / 9]\r"
     ]
    },
    {
     "name": "stdout",
     "output_type": "stream",
     "text": [
      "22/10/16 22:06:06 WARN MemoryStore: Not enough space to cache rdd_417_1 in memory! (computed 8.2 MiB so far)\n",
      "22/10/16 22:06:06 WARN MemoryStore: Failed to reserve initial memory threshold of 1024.0 KiB for computing block rdd_417_1 in memory.\n",
      "22/10/16 22:06:06 WARN MemoryStore: Not enough space to cache rdd_417_1 in memory! (computed 384.0 B so far)\n",
      "22/10/16 22:06:06 WARN MemoryStore: Failed to reserve initial memory threshold of 1024.0 KiB for computing block rdd_437_1 in memory.\n",
      "22/10/16 22:06:06 WARN MemoryStore: Not enough space to cache rdd_437_1 in memory! (computed 384.0 B so far)\n",
      "22/10/16 22:06:06 WARN MemoryStore: Failed to reserve initial memory threshold of 1024.0 KiB for computing block rdd_459_1 in memory.\n",
      "22/10/16 22:06:06 WARN MemoryStore: Not enough space to cache rdd_459_1 in memory! (computed 384.0 B so far)\n",
      "22/10/16 22:06:06 WARN BlockManager: Persisting block rdd_459_1 to disk instead.\n",
      "22/10/16 22:06:06 WARN MemoryStore: Not enough space to cache rdd_417_0 in memory! (computed 2.4 MiB so far)\n",
      "22/10/16 22:06:06 WARN MemoryStore: Not enough space to cache rdd_417_7 in memory! (computed 29.0 MiB so far)\n",
      "22/10/16 22:06:06 WARN MemoryStore: Failed to reserve initial memory threshold of 1024.0 KiB for computing block rdd_417_0 in memory.\n",
      "22/10/16 22:06:06 WARN MemoryStore: Not enough space to cache rdd_417_0 in memory! (computed 384.0 B so far)\n",
      "22/10/16 22:06:06 WARN MemoryStore: Failed to reserve initial memory threshold of 1024.0 KiB for computing block rdd_437_0 in memory.\n",
      "22/10/16 22:06:06 WARN MemoryStore: Not enough space to cache rdd_437_0 in memory! (computed 384.0 B so far)\n",
      "22/10/16 22:06:06 WARN MemoryStore: Failed to reserve initial memory threshold of 1024.0 KiB for computing block rdd_459_0 in memory.\n",
      "22/10/16 22:06:06 WARN MemoryStore: Not enough space to cache rdd_459_0 in memory! (computed 384.0 B so far)\n",
      "22/10/16 22:06:06 WARN BlockManager: Persisting block rdd_459_0 to disk instead.\n",
      "22/10/16 22:06:06 WARN MemoryStore: Failed to reserve initial memory threshold of 1024.0 KiB for computing block rdd_417_7 in memory.\n",
      "22/10/16 22:06:06 WARN MemoryStore: Not enough space to cache rdd_417_7 in memory! (computed 384.0 B so far)\n",
      "22/10/16 22:06:06 WARN MemoryStore: Failed to reserve initial memory threshold of 1024.0 KiB for computing block rdd_437_7 in memory.\n",
      "22/10/16 22:06:06 WARN MemoryStore: Not enough space to cache rdd_437_7 in memory! (computed 384.0 B so far)\n",
      "22/10/16 22:06:06 WARN MemoryStore: Failed to reserve initial memory threshold of 1024.0 KiB for computing block rdd_459_7 in memory.\n",
      "22/10/16 22:06:06 WARN MemoryStore: Not enough space to cache rdd_459_7 in memory! (computed 384.0 B so far)\n",
      "22/10/16 22:06:06 WARN BlockManager: Persisting block rdd_459_7 to disk instead.\n",
      "22/10/16 22:06:06 WARN MemoryStore: Not enough space to cache rdd_437_5 in memory! (computed 1663.4 KiB so far)\n",
      "22/10/16 22:06:06 WARN MemoryStore: Failed to reserve initial memory threshold of 1024.0 KiB for computing block rdd_459_5 in memory.\n",
      "22/10/16 22:06:06 WARN MemoryStore: Not enough space to cache rdd_459_5 in memory! (computed 384.0 B so far)\n",
      "22/10/16 22:06:06 WARN BlockManager: Persisting block rdd_459_5 to disk instead.\n",
      "22/10/16 22:06:06 WARN MemoryStore: Not enough space to cache rdd_417_4 in memory! (computed 153.3 MiB so far)\n",
      "22/10/16 22:06:06 WARN MemoryStore: Not enough space to cache rdd_417_3 in memory! (computed 153.3 MiB so far)\n",
      "22/10/16 22:06:06 WARN MemoryStore: Not enough space to cache rdd_459_6 in memory! (computed 13.0 MiB so far)\n",
      "22/10/16 22:06:06 WARN BlockManager: Persisting block rdd_459_6 to disk instead.\n",
      "22/10/16 22:06:06 WARN MemoryStore: Not enough space to cache rdd_417_3 in memory! (computed 2.4 MiB so far)\n",
      "22/10/16 22:06:06 WARN MemoryStore: Failed to reserve initial memory threshold of 1024.0 KiB for computing block rdd_417_3 in memory.\n",
      "22/10/16 22:06:06 WARN MemoryStore: Not enough space to cache rdd_417_3 in memory! (computed 384.0 B so far)\n",
      "22/10/16 22:06:06 WARN MemoryStore: Failed to reserve initial memory threshold of 1024.0 KiB for computing block rdd_437_3 in memory.\n",
      "22/10/16 22:06:06 WARN MemoryStore: Not enough space to cache rdd_437_3 in memory! (computed 384.0 B so far)\n",
      "22/10/16 22:06:06 WARN MemoryStore: Failed to reserve initial memory threshold of 1024.0 KiB for computing block rdd_459_3 in memory.\n",
      "22/10/16 22:06:06 WARN MemoryStore: Not enough space to cache rdd_459_3 in memory! (computed 384.0 B so far)\n",
      "22/10/16 22:06:06 WARN BlockManager: Persisting block rdd_459_3 to disk instead.\n",
      "22/10/16 22:06:06 WARN MemoryStore: Not enough space to cache rdd_417_4 in memory! (computed 12.5 MiB so far)\n",
      "22/10/16 22:06:06 WARN MemoryStore: Not enough space to cache rdd_417_2 in memory! (computed 153.3 MiB so far)\n",
      "22/10/16 22:06:06 WARN MemoryStore: Failed to reserve initial memory threshold of 1024.0 KiB for computing block rdd_417_2 in memory.\n",
      "22/10/16 22:06:06 WARN MemoryStore: Not enough space to cache rdd_417_2 in memory! (computed 384.0 B so far)\n",
      "22/10/16 22:06:06 WARN MemoryStore: Failed to reserve initial memory threshold of 1024.0 KiB for computing block rdd_417_2 in memory.\n",
      "22/10/16 22:06:06 WARN MemoryStore: Not enough space to cache rdd_417_2 in memory! (computed 384.0 B so far)\n",
      "22/10/16 22:06:06 WARN MemoryStore: Failed to reserve initial memory threshold of 1024.0 KiB for computing block rdd_437_2 in memory.\n",
      "22/10/16 22:06:06 WARN MemoryStore: Not enough space to cache rdd_437_2 in memory! (computed 384.0 B so far)\n",
      "22/10/16 22:06:06 WARN MemoryStore: Failed to reserve initial memory threshold of 1024.0 KiB for computing block rdd_417_4 in memory.\n",
      "22/10/16 22:06:06 WARN MemoryStore: Failed to reserve initial memory threshold of 1024.0 KiB for computing block rdd_459_2 in memory.\n",
      "22/10/16 22:06:06 WARN MemoryStore: Not enough space to cache rdd_459_2 in memory! (computed 384.0 B so far)\n",
      "22/10/16 22:06:06 WARN MemoryStore: Not enough space to cache rdd_417_4 in memory! (computed 384.0 B so far)\n",
      "22/10/16 22:06:06 WARN BlockManager: Persisting block rdd_459_2 to disk instead.\n",
      "22/10/16 22:06:06 WARN MemoryStore: Failed to reserve initial memory threshold of 1024.0 KiB for computing block rdd_437_4 in memory.\n",
      "22/10/16 22:06:06 WARN MemoryStore: Not enough space to cache rdd_437_4 in memory! (computed 384.0 B so far)\n",
      "22/10/16 22:06:06 WARN MemoryStore: Failed to reserve initial memory threshold of 1024.0 KiB for computing block rdd_459_4 in memory.\n",
      "22/10/16 22:06:06 WARN MemoryStore: Not enough space to cache rdd_459_4 in memory! (computed 384.0 B so far)\n",
      "22/10/16 22:06:06 WARN BlockManager: Persisting block rdd_459_4 to disk instead.\n",
      "22/10/16 22:06:07 WARN MemoryStore: Not enough space to cache rdd_462_6 in memory! (computed 10.8 MiB so far)\n",
      "22/10/16 22:06:07 WARN BlockManager: Persisting block rdd_462_6 to disk instead.\n"
     ]
    },
    {
     "name": "stderr",
     "output_type": "stream",
     "text": [
      "[Stage 172:======>                                                  (1 + 8) / 9]\r"
     ]
    },
    {
     "name": "stdout",
     "output_type": "stream",
     "text": [
      "22/10/16 22:06:08 WARN MemoryStore: Not enough space to cache rdd_417_8 in memory! (computed 19.0 MiB so far)\n",
      "22/10/16 22:06:08 WARN MemoryStore: Not enough space to cache rdd_417_8 in memory! (computed 5.4 MiB so far)\n",
      "22/10/16 22:06:08 WARN MemoryStore: Not enough space to cache rdd_417_8 in memory! (computed 1050.0 KiB so far)\n"
     ]
    },
    {
     "name": "stderr",
     "output_type": "stream",
     "text": [
      "[Stage 175:>                                                        (0 + 8) / 9]\r"
     ]
    },
    {
     "name": "stdout",
     "output_type": "stream",
     "text": [
      "22/10/16 22:06:16 WARN MemoryStore: Not enough space to cache rdd_417_3 in memory! (computed 234.1 MiB so far)\n",
      "22/10/16 22:06:16 WARN MemoryStore: Not enough space to cache rdd_417_7 in memory! (computed 234.1 MiB so far)\n",
      "22/10/16 22:06:16 WARN MemoryStore: Not enough space to cache rdd_417_0 in memory! (computed 234.1 MiB so far)\n",
      "22/10/16 22:06:16 WARN MemoryStore: Not enough space to cache rdd_417_1 in memory! (computed 234.1 MiB so far)\n",
      "22/10/16 22:06:16 WARN MemoryStore: Not enough space to cache rdd_417_5 in memory! (computed 234.1 MiB so far)\n",
      "22/10/16 22:06:16 WARN MemoryStore: Not enough space to cache rdd_417_2 in memory! (computed 234.1 MiB so far)\n",
      "22/10/16 22:06:16 WARN MemoryStore: Not enough space to cache rdd_417_4 in memory! (computed 234.1 MiB so far)\n",
      "22/10/16 22:06:16 WARN MemoryStore: Not enough space to cache rdd_462_5 in memory! (computed 1537.3 KiB so far)\n",
      "22/10/16 22:06:16 WARN MemoryStore: Not enough space to cache rdd_462_3 in memory! (computed 1537.3 KiB so far)\n",
      "22/10/16 22:06:16 WARN MemoryStore: Not enough space to cache rdd_462_2 in memory! (computed 2.7 MiB so far)\n"
     ]
    },
    {
     "name": "stderr",
     "output_type": "stream",
     "text": [
      "                                                                                \r"
     ]
    },
    {
     "name": "stdout",
     "output_type": "stream",
     "text": [
      "22/10/16 22:06:20 WARN MemoryStore: Not enough space to cache rdd_417_0 in memory! (computed 98.8 MiB so far)\n",
      "22/10/16 22:06:20 WARN MemoryStore: Not enough space to cache rdd_417_7 in memory! (computed 98.8 MiB so far)\n",
      "22/10/16 22:06:20 WARN MemoryStore: Not enough space to cache rdd_417_4 in memory! (computed 98.8 MiB so far)\n",
      "22/10/16 22:06:20 WARN MemoryStore: Not enough space to cache rdd_417_2 in memory! (computed 98.8 MiB so far)\n",
      "22/10/16 22:06:20 WARN MemoryStore: Not enough space to cache rdd_417_3 in memory! (computed 65.3 MiB so far)\n",
      "22/10/16 22:06:20 WARN MemoryStore: Not enough space to cache rdd_417_5 in memory! (computed 65.3 MiB so far)\n"
     ]
    },
    {
     "name": "stderr",
     "output_type": "stream",
     "text": [
      "[Stage 178:======>                                                  (1 + 8) / 9]\r"
     ]
    },
    {
     "name": "stdout",
     "output_type": "stream",
     "text": [
      "22/10/16 22:06:22 WARN MemoryStore: Not enough space to cache rdd_417_1 in memory! (computed 527.0 MiB so far)\n"
     ]
    },
    {
     "name": "stderr",
     "output_type": "stream",
     "text": [
      "                                                                                \r"
     ]
    },
    {
     "name": "stdout",
     "output_type": "stream",
     "text": [
      "22/10/16 22:06:25 WARN MemoryStore: Not enough space to cache rdd_417_1 in memory! (computed 65.3 MiB so far)\n",
      "22/10/16 22:06:25 WARN MemoryStore: Not enough space to cache rdd_417_0 in memory! (computed 65.3 MiB so far)\n",
      "22/10/16 22:06:25 WARN MemoryStore: Not enough space to cache rdd_417_7 in memory! (computed 98.8 MiB so far)\n",
      "22/10/16 22:06:25 WARN MemoryStore: Not enough space to cache rdd_417_4 in memory! (computed 98.8 MiB so far)\n",
      "22/10/16 22:06:25 WARN MemoryStore: Not enough space to cache rdd_417_5 in memory! (computed 98.8 MiB so far)\n"
     ]
    },
    {
     "name": "stderr",
     "output_type": "stream",
     "text": [
      "[Stage 181:>                                                        (0 + 8) / 9]\r"
     ]
    },
    {
     "name": "stdout",
     "output_type": "stream",
     "text": [
      "22/10/16 22:06:25 WARN MemoryStore: Not enough space to cache rdd_462_7 in memory! (computed 4.0 MiB so far)\n",
      "22/10/16 22:06:25 WARN MemoryStore: Not enough space to cache rdd_462_1 in memory! (computed 10.8 MiB so far)\n",
      "22/10/16 22:06:25 WARN MemoryStore: Not enough space to cache rdd_462_4 in memory! (computed 6.2 MiB so far)\n",
      "22/10/16 22:06:25 WARN MemoryStore: Not enough space to cache rdd_462_0 in memory! (computed 10.8 MiB so far)\n",
      "22/10/16 22:06:25 WARN MemoryStore: Not enough space to cache rdd_417_2 in memory! (computed 153.3 MiB so far)\n"
     ]
    },
    {
     "name": "stderr",
     "output_type": "stream",
     "text": [
      "[Stage 181:======>                                                  (1 + 8) / 9]\r"
     ]
    },
    {
     "name": "stdout",
     "output_type": "stream",
     "text": [
      "22/10/16 22:06:27 WARN MemoryStore: Not enough space to cache rdd_417_8 in memory! (computed 12.5 MiB so far)\n",
      "22/10/16 22:06:27 WARN MemoryStore: Not enough space to cache rdd_417_3 in memory! (computed 791.9 MiB so far)\n"
     ]
    },
    {
     "name": "stderr",
     "output_type": "stream",
     "text": [
      "                                                                                \r"
     ]
    },
    {
     "name": "stdout",
     "output_type": "stream",
     "text": [
      "22/10/16 22:06:30 WARN MemoryStore: Not enough space to cache rdd_417_2 in memory! (computed 98.8 MiB so far)\n",
      "22/10/16 22:06:30 WARN MemoryStore: Not enough space to cache rdd_417_4 in memory! (computed 98.8 MiB so far)\n",
      "22/10/16 22:06:30 WARN MemoryStore: Not enough space to cache rdd_417_1 in memory! (computed 98.8 MiB so far)\n",
      "22/10/16 22:06:30 WARN MemoryStore: Not enough space to cache rdd_417_5 in memory! (computed 98.8 MiB so far)\n",
      "22/10/16 22:06:30 WARN MemoryStore: Not enough space to cache rdd_462_4 in memory! (computed 1537.3 KiB so far)\n",
      "22/10/16 22:06:30 WARN MemoryStore: Not enough space to cache rdd_462_1 in memory! (computed 1024.6 KiB so far)\n",
      "22/10/16 22:06:30 WARN MemoryStore: Not enough space to cache rdd_462_5 in memory! (computed 1537.3 KiB so far)\n",
      "22/10/16 22:06:30 WARN MemoryStore: Not enough space to cache rdd_462_2 in memory! (computed 1537.3 KiB so far)\n",
      "22/10/16 22:06:30 WARN MemoryStore: Not enough space to cache rdd_417_3 in memory! (computed 153.3 MiB so far)\n",
      "22/10/16 22:06:30 WARN MemoryStore: Failed to reserve initial memory threshold of 1024.0 KiB for computing block rdd_462_3 in memory.\n",
      "22/10/16 22:06:30 WARN MemoryStore: Not enough space to cache rdd_462_3 in memory! (computed 384.0 B so far)\n",
      "22/10/16 22:06:30 WARN MemoryStore: Not enough space to cache rdd_417_0 in memory! (computed 153.3 MiB so far)\n",
      "22/10/16 22:06:30 WARN MemoryStore: Failed to reserve initial memory threshold of 1024.0 KiB for computing block rdd_462_0 in memory.\n",
      "22/10/16 22:06:30 WARN MemoryStore: Not enough space to cache rdd_462_0 in memory! (computed 384.0 B so far)\n",
      "22/10/16 22:06:30 WARN MemoryStore: Not enough space to cache rdd_417_7 in memory! (computed 153.3 MiB so far)\n",
      "22/10/16 22:06:30 WARN MemoryStore: Failed to reserve initial memory threshold of 1024.0 KiB for computing block rdd_462_7 in memory.\n",
      "22/10/16 22:06:30 WARN MemoryStore: Not enough space to cache rdd_462_7 in memory! (computed 384.0 B so far)\n"
     ]
    },
    {
     "name": "stderr",
     "output_type": "stream",
     "text": [
      "[Stage 187:>                                                        (0 + 8) / 9]\r"
     ]
    },
    {
     "name": "stdout",
     "output_type": "stream",
     "text": [
      "22/10/16 22:06:34 WARN MemoryStore: Not enough space to cache rdd_417_0 in memory! (computed 98.8 MiB so far)\n",
      "22/10/16 22:06:34 WARN MemoryStore: Not enough space to cache rdd_417_0 in memory! (computed 1050.0 KiB so far)\n",
      "22/10/16 22:06:34 WARN MemoryStore: Failed to reserve initial memory threshold of 1024.0 KiB for computing block rdd_417_0 in memory.\n",
      "22/10/16 22:06:34 WARN MemoryStore: Not enough space to cache rdd_417_0 in memory! (computed 384.0 B so far)\n",
      "22/10/16 22:06:34 WARN MemoryStore: Failed to reserve initial memory threshold of 1024.0 KiB for computing block rdd_459_0 in memory.\n",
      "22/10/16 22:06:34 WARN MemoryStore: Not enough space to cache rdd_459_0 in memory! (computed 384.0 B so far)\n",
      "22/10/16 22:06:34 WARN MemoryStore: Failed to reserve initial memory threshold of 1024.0 KiB for computing block rdd_481_0 in memory.\n",
      "22/10/16 22:06:34 WARN MemoryStore: Not enough space to cache rdd_481_0 in memory! (computed 384.0 B so far)\n",
      "22/10/16 22:06:34 WARN BlockManager: Persisting block rdd_481_0 to disk instead.\n",
      "22/10/16 22:06:34 WARN MemoryStore: Not enough space to cache rdd_417_2 in memory! (computed 98.8 MiB so far)\n",
      "22/10/16 22:06:34 WARN MemoryStore: Not enough space to cache rdd_481_6 in memory! (computed 2.4 MiB so far)\n",
      "22/10/16 22:06:34 WARN BlockManager: Persisting block rdd_481_6 to disk instead.\n",
      "22/10/16 22:06:34 WARN MemoryStore: Failed to reserve initial memory threshold of 1024.0 KiB for computing block rdd_417_2 in memory.\n",
      "22/10/16 22:06:34 WARN MemoryStore: Not enough space to cache rdd_417_2 in memory! (computed 384.0 B so far)\n",
      "22/10/16 22:06:34 WARN MemoryStore: Failed to reserve initial memory threshold of 1024.0 KiB for computing block rdd_417_2 in memory.\n",
      "22/10/16 22:06:34 WARN MemoryStore: Not enough space to cache rdd_417_2 in memory! (computed 384.0 B so far)\n",
      "22/10/16 22:06:34 WARN MemoryStore: Failed to reserve initial memory threshold of 1024.0 KiB for computing block rdd_459_2 in memory.\n",
      "22/10/16 22:06:34 WARN MemoryStore: Not enough space to cache rdd_459_2 in memory! (computed 384.0 B so far)\n",
      "22/10/16 22:06:34 WARN MemoryStore: Failed to reserve initial memory threshold of 1024.0 KiB for computing block rdd_481_2 in memory.\n",
      "22/10/16 22:06:34 WARN MemoryStore: Not enough space to cache rdd_481_2 in memory! (computed 384.0 B so far)\n",
      "22/10/16 22:06:34 WARN BlockManager: Persisting block rdd_481_2 to disk instead.\n",
      "22/10/16 22:06:34 WARN MemoryStore: Not enough space to cache rdd_417_3 in memory! (computed 98.8 MiB so far)\n",
      "22/10/16 22:06:34 WARN MemoryStore: Not enough space to cache rdd_417_3 in memory! (computed 2.4 MiB so far)\n",
      "22/10/16 22:06:34 WARN MemoryStore: Failed to reserve initial memory threshold of 1024.0 KiB for computing block rdd_417_3 in memory.\n",
      "22/10/16 22:06:34 WARN MemoryStore: Not enough space to cache rdd_417_3 in memory! (computed 384.0 B so far)\n",
      "22/10/16 22:06:34 WARN MemoryStore: Failed to reserve initial memory threshold of 1024.0 KiB for computing block rdd_459_3 in memory.\n",
      "22/10/16 22:06:34 WARN MemoryStore: Not enough space to cache rdd_459_3 in memory! (computed 384.0 B so far)\n",
      "22/10/16 22:06:34 WARN MemoryStore: Failed to reserve initial memory threshold of 1024.0 KiB for computing block rdd_481_3 in memory.\n",
      "22/10/16 22:06:34 WARN MemoryStore: Not enough space to cache rdd_481_3 in memory! (computed 384.0 B so far)\n",
      "22/10/16 22:06:34 WARN BlockManager: Persisting block rdd_481_3 to disk instead.\n",
      "22/10/16 22:06:34 WARN MemoryStore: Not enough space to cache rdd_417_4 in memory! (computed 98.8 MiB so far)\n",
      "22/10/16 22:06:34 WARN MemoryStore: Failed to reserve initial memory threshold of 1024.0 KiB for computing block rdd_417_4 in memory.\n",
      "22/10/16 22:06:34 WARN MemoryStore: Not enough space to cache rdd_417_4 in memory! (computed 384.0 B so far)\n",
      "22/10/16 22:06:34 WARN MemoryStore: Failed to reserve initial memory threshold of 1024.0 KiB for computing block rdd_417_4 in memory.\n",
      "22/10/16 22:06:34 WARN MemoryStore: Not enough space to cache rdd_417_4 in memory! (computed 384.0 B so far)\n",
      "22/10/16 22:06:34 WARN MemoryStore: Failed to reserve initial memory threshold of 1024.0 KiB for computing block rdd_459_4 in memory.\n",
      "22/10/16 22:06:34 WARN MemoryStore: Not enough space to cache rdd_459_4 in memory! (computed 384.0 B so far)\n",
      "22/10/16 22:06:34 WARN MemoryStore: Failed to reserve initial memory threshold of 1024.0 KiB for computing block rdd_481_4 in memory.\n",
      "22/10/16 22:06:34 WARN MemoryStore: Not enough space to cache rdd_481_4 in memory! (computed 384.0 B so far)\n",
      "22/10/16 22:06:34 WARN BlockManager: Persisting block rdd_481_4 to disk instead.\n",
      "22/10/16 22:06:34 WARN MemoryStore: Not enough space to cache rdd_417_5 in memory! (computed 153.3 MiB so far)\n",
      "22/10/16 22:06:34 WARN MemoryStore: Failed to reserve initial memory threshold of 1024.0 KiB for computing block rdd_417_5 in memory.\n",
      "22/10/16 22:06:34 WARN MemoryStore: Not enough space to cache rdd_417_5 in memory! (computed 384.0 B so far)\n",
      "22/10/16 22:06:34 WARN MemoryStore: Failed to reserve initial memory threshold of 1024.0 KiB for computing block rdd_417_5 in memory.\n",
      "22/10/16 22:06:34 WARN MemoryStore: Not enough space to cache rdd_417_5 in memory! (computed 384.0 B so far)\n",
      "22/10/16 22:06:34 WARN MemoryStore: Failed to reserve initial memory threshold of 1024.0 KiB for computing block rdd_459_5 in memory.\n",
      "22/10/16 22:06:34 WARN MemoryStore: Not enough space to cache rdd_459_5 in memory! (computed 384.0 B so far)\n",
      "22/10/16 22:06:34 WARN MemoryStore: Failed to reserve initial memory threshold of 1024.0 KiB for computing block rdd_481_5 in memory.\n",
      "22/10/16 22:06:34 WARN MemoryStore: Not enough space to cache rdd_481_5 in memory! (computed 384.0 B so far)\n",
      "22/10/16 22:06:34 WARN BlockManager: Persisting block rdd_481_5 to disk instead.\n",
      "22/10/16 22:06:34 WARN MemoryStore: Not enough space to cache rdd_417_1 in memory! (computed 153.3 MiB so far)\n",
      "22/10/16 22:06:34 WARN MemoryStore: Not enough space to cache rdd_417_7 in memory! (computed 153.3 MiB so far)\n",
      "22/10/16 22:06:34 WARN MemoryStore: Failed to reserve initial memory threshold of 1024.0 KiB for computing block rdd_417_1 in memory.\n",
      "22/10/16 22:06:34 WARN MemoryStore: Not enough space to cache rdd_417_1 in memory! (computed 384.0 B so far)\n",
      "22/10/16 22:06:34 WARN MemoryStore: Failed to reserve initial memory threshold of 1024.0 KiB for computing block rdd_417_7 in memory.\n",
      "22/10/16 22:06:34 WARN MemoryStore: Failed to reserve initial memory threshold of 1024.0 KiB for computing block rdd_417_1 in memory.\n",
      "22/10/16 22:06:34 WARN MemoryStore: Not enough space to cache rdd_417_7 in memory! (computed 384.0 B so far)\n",
      "22/10/16 22:06:34 WARN MemoryStore: Not enough space to cache rdd_417_1 in memory! (computed 384.0 B so far)\n",
      "22/10/16 22:06:34 WARN MemoryStore: Failed to reserve initial memory threshold of 1024.0 KiB for computing block rdd_459_1 in memory.\n",
      "22/10/16 22:06:34 WARN MemoryStore: Not enough space to cache rdd_459_1 in memory! (computed 384.0 B so far)\n",
      "22/10/16 22:06:34 WARN MemoryStore: Failed to reserve initial memory threshold of 1024.0 KiB for computing block rdd_481_1 in memory.\n",
      "22/10/16 22:06:34 WARN MemoryStore: Not enough space to cache rdd_481_1 in memory! (computed 384.0 B so far)\n",
      "22/10/16 22:06:34 WARN MemoryStore: Failed to reserve initial memory threshold of 1024.0 KiB for computing block rdd_417_7 in memory.\n",
      "22/10/16 22:06:34 WARN MemoryStore: Not enough space to cache rdd_417_7 in memory! (computed 384.0 B so far)\n",
      "22/10/16 22:06:34 WARN BlockManager: Persisting block rdd_481_1 to disk instead.\n",
      "22/10/16 22:06:34 WARN MemoryStore: Failed to reserve initial memory threshold of 1024.0 KiB for computing block rdd_459_7 in memory.\n",
      "22/10/16 22:06:34 WARN MemoryStore: Not enough space to cache rdd_459_7 in memory! (computed 384.0 B so far)\n",
      "22/10/16 22:06:34 WARN MemoryStore: Failed to reserve initial memory threshold of 1024.0 KiB for computing block rdd_481_7 in memory.\n",
      "22/10/16 22:06:34 WARN MemoryStore: Not enough space to cache rdd_481_7 in memory! (computed 384.0 B so far)\n",
      "22/10/16 22:06:34 WARN BlockManager: Persisting block rdd_481_7 to disk instead.\n",
      "22/10/16 22:06:34 WARN MemoryStore: Not enough space to cache rdd_481_6 in memory! (computed 8.2 MiB so far)\n",
      "22/10/16 22:06:34 WARN MemoryStore: Not enough space to cache rdd_484_6 in memory! (computed 2.7 MiB so far)\n",
      "22/10/16 22:06:34 WARN BlockManager: Persisting block rdd_484_6 to disk instead.\n",
      "22/10/16 22:06:35 WARN MemoryStore: Not enough space to cache rdd_484_6 in memory! (computed 10.8 MiB so far)\n",
      "22/10/16 22:06:36 WARN MemoryStore: Not enough space to cache rdd_417_8 in memory! (computed 8.2 MiB so far)\n",
      "22/10/16 22:06:36 WARN MemoryStore: Not enough space to cache rdd_417_8 in memory! (computed 3.6 MiB so far)\n",
      "22/10/16 22:06:36 WARN MemoryStore: Failed to reserve initial memory threshold of 1024.0 KiB for computing block rdd_417_8 in memory.\n",
      "22/10/16 22:06:36 WARN MemoryStore: Not enough space to cache rdd_417_8 in memory! (computed 384.0 B so far)\n"
     ]
    },
    {
     "name": "stderr",
     "output_type": "stream",
     "text": [
      "[Stage 190:>                                                        (0 + 8) / 9]\r"
     ]
    },
    {
     "name": "stdout",
     "output_type": "stream",
     "text": [
      "22/10/16 22:06:46 WARN MemoryStore: Not enough space to cache rdd_417_4 in memory! (computed 234.1 MiB so far)\n",
      "22/10/16 22:06:46 WARN MemoryStore: Not enough space to cache rdd_417_1 in memory! (computed 234.1 MiB so far)\n",
      "22/10/16 22:06:46 WARN MemoryStore: Not enough space to cache rdd_417_6 in memory! (computed 234.1 MiB so far)\n",
      "22/10/16 22:06:46 WARN MemoryStore: Not enough space to cache rdd_417_0 in memory! (computed 234.1 MiB so far)\n",
      "22/10/16 22:06:46 WARN MemoryStore: Not enough space to cache rdd_417_7 in memory! (computed 234.1 MiB so far)\n",
      "22/10/16 22:06:46 WARN MemoryStore: Not enough space to cache rdd_417_5 in memory! (computed 234.1 MiB so far)\n",
      "22/10/16 22:06:46 WARN MemoryStore: Not enough space to cache rdd_417_3 in memory! (computed 234.1 MiB so far)\n",
      "22/10/16 22:06:46 WARN MemoryStore: Not enough space to cache rdd_484_4 in memory! (computed 2.7 MiB so far)\n",
      "22/10/16 22:06:46 WARN MemoryStore: Not enough space to cache rdd_484_3 in memory! (computed 1537.3 KiB so far)\n",
      "22/10/16 22:06:46 WARN MemoryStore: Not enough space to cache rdd_484_6 in memory! (computed 2.7 MiB so far)\n",
      "22/10/16 22:06:46 WARN MemoryStore: Not enough space to cache rdd_417_2 in memory! (computed 351.3 MiB so far)\n"
     ]
    },
    {
     "name": "stderr",
     "output_type": "stream",
     "text": [
      "[Stage 193:>                                                        (0 + 8) / 9]\r"
     ]
    },
    {
     "name": "stdout",
     "output_type": "stream",
     "text": [
      "22/10/16 22:06:51 WARN MemoryStore: Not enough space to cache rdd_417_3 in memory! (computed 234.1 MiB so far)\n",
      "22/10/16 22:06:51 WARN MemoryStore: Not enough space to cache rdd_417_6 in memory! (computed 234.1 MiB so far)\n",
      "22/10/16 22:06:51 WARN MemoryStore: Not enough space to cache rdd_417_4 in memory! (computed 234.1 MiB so far)\n",
      "22/10/16 22:06:51 WARN MemoryStore: Not enough space to cache rdd_417_0 in memory! (computed 234.1 MiB so far)\n",
      "22/10/16 22:06:51 WARN MemoryStore: Not enough space to cache rdd_417_1 in memory! (computed 153.3 MiB so far)\n",
      "22/10/16 22:06:51 WARN MemoryStore: Not enough space to cache rdd_417_5 in memory! (computed 234.1 MiB so far)\n",
      "22/10/16 22:06:51 WARN MemoryStore: Not enough space to cache rdd_417_7 in memory! (computed 234.1 MiB so far)\n"
     ]
    },
    {
     "name": "stderr",
     "output_type": "stream",
     "text": [
      "                                                                                \r"
     ]
    },
    {
     "name": "stdout",
     "output_type": "stream",
     "text": [
      "22/10/16 22:06:56 WARN MemoryStore: Not enough space to cache rdd_417_3 in memory! (computed 98.8 MiB so far)\n",
      "22/10/16 22:06:56 WARN MemoryStore: Not enough space to cache rdd_417_7 in memory! (computed 98.8 MiB so far)\n",
      "22/10/16 22:06:56 WARN MemoryStore: Not enough space to cache rdd_417_5 in memory! (computed 98.8 MiB so far)\n",
      "22/10/16 22:06:56 WARN MemoryStore: Not enough space to cache rdd_417_0 in memory! (computed 98.8 MiB so far)\n",
      "22/10/16 22:06:56 WARN MemoryStore: Not enough space to cache rdd_417_6 in memory! (computed 98.8 MiB so far)\n",
      "22/10/16 22:06:56 WARN MemoryStore: Not enough space to cache rdd_417_4 in memory! (computed 98.8 MiB so far)\n"
     ]
    },
    {
     "name": "stderr",
     "output_type": "stream",
     "text": [
      "[Stage 196:======>                                                  (1 + 8) / 9]\r"
     ]
    },
    {
     "name": "stdout",
     "output_type": "stream",
     "text": [
      "22/10/16 22:06:58 WARN MemoryStore: Not enough space to cache rdd_417_1 in memory! (computed 527.0 MiB so far)\n"
     ]
    },
    {
     "name": "stderr",
     "output_type": "stream",
     "text": [
      "                                                                                \r"
     ]
    },
    {
     "name": "stdout",
     "output_type": "stream",
     "text": [
      "22/10/16 22:07:00 WARN MemoryStore: Not enough space to cache rdd_417_1 in memory! (computed 98.8 MiB so far)\n",
      "22/10/16 22:07:00 WARN MemoryStore: Not enough space to cache rdd_417_0 in memory! (computed 98.8 MiB so far)\n",
      "22/10/16 22:07:00 WARN MemoryStore: Not enough space to cache rdd_417_7 in memory! (computed 98.8 MiB so far)\n",
      "22/10/16 22:07:00 WARN MemoryStore: Not enough space to cache rdd_417_3 in memory! (computed 98.8 MiB so far)\n",
      "22/10/16 22:07:00 WARN MemoryStore: Not enough space to cache rdd_417_4 in memory! (computed 98.8 MiB so far)\n",
      "22/10/16 22:07:00 WARN MemoryStore: Not enough space to cache rdd_417_5 in memory! (computed 98.8 MiB so far)\n",
      "22/10/16 22:07:00 WARN MemoryStore: Not enough space to cache rdd_417_6 in memory! (computed 98.8 MiB so far)\n"
     ]
    },
    {
     "name": "stderr",
     "output_type": "stream",
     "text": [
      "                                                                                \r"
     ]
    },
    {
     "name": "stdout",
     "output_type": "stream",
     "text": [
      "22/10/16 22:07:06 WARN MemoryStore: Not enough space to cache rdd_417_0 in memory! (computed 98.8 MiB so far)\n",
      "22/10/16 22:07:06 WARN MemoryStore: Not enough space to cache rdd_417_1 in memory! (computed 98.8 MiB so far)\n",
      "22/10/16 22:07:06 WARN MemoryStore: Not enough space to cache rdd_417_5 in memory! (computed 98.8 MiB so far)\n",
      "22/10/16 22:07:06 WARN MemoryStore: Not enough space to cache rdd_417_6 in memory! (computed 98.8 MiB so far)\n",
      "22/10/16 22:07:06 WARN MemoryStore: Not enough space to cache rdd_417_5 in memory! (computed 8.2 MiB so far)\n",
      "22/10/16 22:07:06 WARN MemoryStore: Failed to reserve initial memory threshold of 1024.0 KiB for computing block rdd_417_6 in memory.\n",
      "22/10/16 22:07:06 WARN MemoryStore: Not enough space to cache rdd_417_6 in memory! (computed 384.0 B so far)\n",
      "22/10/16 22:07:06 WARN MemoryStore: Failed to reserve initial memory threshold of 1024.0 KiB for computing block rdd_417_5 in memory.\n",
      "22/10/16 22:07:06 WARN MemoryStore: Not enough space to cache rdd_417_5 in memory! (computed 384.0 B so far)\n",
      "22/10/16 22:07:06 WARN MemoryStore: Failed to reserve initial memory threshold of 1024.0 KiB for computing block rdd_417_6 in memory.\n",
      "22/10/16 22:07:06 WARN MemoryStore: Not enough space to cache rdd_417_6 in memory! (computed 384.0 B so far)\n"
     ]
    },
    {
     "name": "stderr",
     "output_type": "stream",
     "text": [
      "[Stage 202:>                                                        (0 + 8) / 9]\r"
     ]
    },
    {
     "name": "stdout",
     "output_type": "stream",
     "text": [
      "22/10/16 22:07:07 WARN MemoryStore: Not enough space to cache rdd_417_1 in memory! (computed 29.0 MiB so far)\n",
      "22/10/16 22:07:07 WARN MemoryStore: Not enough space to cache rdd_417_1 in memory! (computed 5.4 MiB so far)\n",
      "22/10/16 22:07:07 WARN MemoryStore: Not enough space to cache rdd_417_0 in memory! (computed 43.5 MiB so far)\n",
      "22/10/16 22:07:07 WARN MemoryStore: Not enough space to cache rdd_481_5 in memory! (computed 3.7 MiB so far)\n",
      "22/10/16 22:07:07 WARN MemoryStore: Failed to reserve initial memory threshold of 1024.0 KiB for computing block rdd_503_5 in memory.\n",
      "22/10/16 22:07:07 WARN MemoryStore: Not enough space to cache rdd_503_5 in memory! (computed 384.0 B so far)\n",
      "22/10/16 22:07:07 WARN BlockManager: Persisting block rdd_503_5 to disk instead.\n",
      "22/10/16 22:07:07 WARN MemoryStore: Failed to reserve initial memory threshold of 1024.0 KiB for computing block rdd_417_0 in memory.\n",
      "22/10/16 22:07:07 WARN MemoryStore: Not enough space to cache rdd_417_0 in memory! (computed 384.0 B so far)\n",
      "22/10/16 22:07:07 WARN MemoryStore: Failed to reserve initial memory threshold of 1024.0 KiB for computing block rdd_481_0 in memory.\n",
      "22/10/16 22:07:07 WARN MemoryStore: Not enough space to cache rdd_481_0 in memory! (computed 384.0 B so far)\n",
      "22/10/16 22:07:07 WARN MemoryStore: Failed to reserve initial memory threshold of 1024.0 KiB for computing block rdd_503_0 in memory.\n",
      "22/10/16 22:07:07 WARN MemoryStore: Not enough space to cache rdd_503_0 in memory! (computed 384.0 B so far)\n",
      "22/10/16 22:07:07 WARN BlockManager: Persisting block rdd_503_0 to disk instead.\n",
      "22/10/16 22:07:07 WARN MemoryStore: Not enough space to cache rdd_481_6 in memory! (computed 5.5 MiB so far)\n",
      "22/10/16 22:07:07 WARN MemoryStore: Failed to reserve initial memory threshold of 1024.0 KiB for computing block rdd_503_6 in memory.\n",
      "22/10/16 22:07:07 WARN MemoryStore: Not enough space to cache rdd_503_6 in memory! (computed 384.0 B so far)\n",
      "22/10/16 22:07:07 WARN BlockManager: Persisting block rdd_503_6 to disk instead.\n",
      "22/10/16 22:07:07 WARN MemoryStore: Not enough space to cache rdd_503_2 in memory! (computed 8.2 MiB so far)\n",
      "22/10/16 22:07:07 WARN BlockManager: Persisting block rdd_503_2 to disk instead.\n",
      "22/10/16 22:07:07 WARN MemoryStore: Not enough space to cache rdd_481_1 in memory! (computed 1035.4 KiB so far)\n",
      "22/10/16 22:07:07 WARN MemoryStore: Failed to reserve initial memory threshold of 1024.0 KiB for computing block rdd_503_1 in memory.\n",
      "22/10/16 22:07:07 WARN MemoryStore: Not enough space to cache rdd_503_1 in memory! (computed 384.0 B so far)\n",
      "22/10/16 22:07:07 WARN BlockManager: Persisting block rdd_503_1 to disk instead.\n",
      "22/10/16 22:07:07 WARN MemoryStore: Not enough space to cache rdd_417_7 in memory! (computed 153.3 MiB so far)\n",
      "22/10/16 22:07:07 WARN MemoryStore: Not enough space to cache rdd_417_4 in memory! (computed 153.3 MiB so far)\n",
      "22/10/16 22:07:07 WARN MemoryStore: Not enough space to cache rdd_417_7 in memory! (computed 3.6 MiB so far)\n",
      "22/10/16 22:07:07 WARN MemoryStore: Not enough space to cache rdd_417_4 in memory! (computed 1050.0 KiB so far)\n",
      "22/10/16 22:07:07 WARN MemoryStore: Failed to reserve initial memory threshold of 1024.0 KiB for computing block rdd_417_4 in memory.\n",
      "22/10/16 22:07:07 WARN MemoryStore: Not enough space to cache rdd_417_4 in memory! (computed 384.0 B so far)\n",
      "22/10/16 22:07:07 WARN MemoryStore: Failed to reserve initial memory threshold of 1024.0 KiB for computing block rdd_481_4 in memory.\n",
      "22/10/16 22:07:07 WARN MemoryStore: Not enough space to cache rdd_481_4 in memory! (computed 384.0 B so far)\n",
      "22/10/16 22:07:07 WARN MemoryStore: Failed to reserve initial memory threshold of 1024.0 KiB for computing block rdd_503_4 in memory.\n",
      "22/10/16 22:07:07 WARN MemoryStore: Not enough space to cache rdd_503_4 in memory! (computed 384.0 B so far)\n",
      "22/10/16 22:07:07 WARN BlockManager: Persisting block rdd_503_4 to disk instead.\n",
      "22/10/16 22:07:07 WARN MemoryStore: Not enough space to cache rdd_417_7 in memory! (computed 1050.0 KiB so far)\n",
      "22/10/16 22:07:07 WARN MemoryStore: Failed to reserve initial memory threshold of 1024.0 KiB for computing block rdd_481_7 in memory.\n",
      "22/10/16 22:07:07 WARN MemoryStore: Not enough space to cache rdd_481_7 in memory! (computed 384.0 B so far)\n",
      "22/10/16 22:07:07 WARN MemoryStore: Failed to reserve initial memory threshold of 1024.0 KiB for computing block rdd_503_7 in memory.\n",
      "22/10/16 22:07:07 WARN MemoryStore: Not enough space to cache rdd_503_7 in memory! (computed 384.0 B so far)\n",
      "22/10/16 22:07:07 WARN BlockManager: Persisting block rdd_503_7 to disk instead.\n",
      "22/10/16 22:07:07 WARN MemoryStore: Not enough space to cache rdd_417_3 in memory! (computed 153.3 MiB so far)\n",
      "22/10/16 22:07:07 WARN MemoryStore: Not enough space to cache rdd_417_3 in memory! (computed 1050.0 KiB so far)\n",
      "22/10/16 22:07:07 WARN MemoryStore: Failed to reserve initial memory threshold of 1024.0 KiB for computing block rdd_417_3 in memory.\n",
      "22/10/16 22:07:07 WARN MemoryStore: Not enough space to cache rdd_417_3 in memory! (computed 384.0 B so far)\n",
      "22/10/16 22:07:07 WARN MemoryStore: Failed to reserve initial memory threshold of 1024.0 KiB for computing block rdd_481_3 in memory.\n",
      "22/10/16 22:07:07 WARN MemoryStore: Not enough space to cache rdd_481_3 in memory! (computed 384.0 B so far)\n",
      "22/10/16 22:07:07 WARN MemoryStore: Failed to reserve initial memory threshold of 1024.0 KiB for computing block rdd_503_3 in memory.\n",
      "22/10/16 22:07:07 WARN MemoryStore: Not enough space to cache rdd_503_3 in memory! (computed 384.0 B so far)\n",
      "22/10/16 22:07:07 WARN BlockManager: Persisting block rdd_503_3 to disk instead.\n"
     ]
    },
    {
     "name": "stderr",
     "output_type": "stream",
     "text": [
      "[Stage 202:======>                                                  (1 + 8) / 9]\r"
     ]
    },
    {
     "name": "stdout",
     "output_type": "stream",
     "text": [
      "22/10/16 22:07:09 WARN MemoryStore: Not enough space to cache rdd_417_8 in memory! (computed 29.0 MiB so far)\n",
      "22/10/16 22:07:09 WARN MemoryStore: Failed to reserve initial memory threshold of 1024.0 KiB for computing block rdd_417_8 in memory.\n",
      "22/10/16 22:07:09 WARN MemoryStore: Not enough space to cache rdd_417_8 in memory! (computed 384.0 B so far)\n",
      "22/10/16 22:07:09 WARN MemoryStore: Failed to reserve initial memory threshold of 1024.0 KiB for computing block rdd_417_8 in memory.\n",
      "22/10/16 22:07:09 WARN MemoryStore: Not enough space to cache rdd_417_8 in memory! (computed 384.0 B so far)\n"
     ]
    },
    {
     "name": "stderr",
     "output_type": "stream",
     "text": [
      "[Stage 205:>                                                        (0 + 8) / 9]\r"
     ]
    },
    {
     "name": "stdout",
     "output_type": "stream",
     "text": [
      "22/10/16 22:07:17 WARN MemoryStore: Not enough space to cache rdd_417_1 in memory! (computed 234.1 MiB so far)\n",
      "22/10/16 22:07:17 WARN MemoryStore: Not enough space to cache rdd_417_3 in memory! (computed 234.1 MiB so far)\n",
      "22/10/16 22:07:17 WARN MemoryStore: Not enough space to cache rdd_417_6 in memory! (computed 234.1 MiB so far)\n",
      "22/10/16 22:07:17 WARN MemoryStore: Not enough space to cache rdd_417_0 in memory! (computed 234.1 MiB so far)\n",
      "22/10/16 22:07:17 WARN MemoryStore: Not enough space to cache rdd_417_5 in memory! (computed 234.1 MiB so far)\n",
      "22/10/16 22:07:17 WARN MemoryStore: Not enough space to cache rdd_417_4 in memory! (computed 234.1 MiB so far)\n",
      "22/10/16 22:07:17 WARN MemoryStore: Not enough space to cache rdd_417_7 in memory! (computed 234.1 MiB so far)\n",
      "22/10/16 22:07:18 WARN MemoryStore: Not enough space to cache rdd_506_1 in memory! (computed 1537.3 KiB so far)\n",
      "22/10/16 22:07:18 WARN MemoryStore: Not enough space to cache rdd_506_3 in memory! (computed 2.7 MiB so far)\n",
      "22/10/16 22:07:18 WARN MemoryStore: Not enough space to cache rdd_506_5 in memory! (computed 1537.3 KiB so far)\n"
     ]
    },
    {
     "name": "stderr",
     "output_type": "stream",
     "text": [
      "                                                                                \r"
     ]
    },
    {
     "name": "stdout",
     "output_type": "stream",
     "text": [
      "22/10/16 22:07:22 WARN MemoryStore: Not enough space to cache rdd_417_3 in memory! (computed 98.8 MiB so far)\n",
      "22/10/16 22:07:22 WARN MemoryStore: Not enough space to cache rdd_417_7 in memory! (computed 98.8 MiB so far)\n",
      "22/10/16 22:07:22 WARN MemoryStore: Not enough space to cache rdd_417_1 in memory! (computed 98.8 MiB so far)\n",
      "22/10/16 22:07:22 WARN MemoryStore: Not enough space to cache rdd_417_5 in memory! (computed 153.3 MiB so far)\n",
      "22/10/16 22:07:22 WARN MemoryStore: Not enough space to cache rdd_417_4 in memory! (computed 153.3 MiB so far)\n",
      "22/10/16 22:07:23 WARN MemoryStore: Not enough space to cache rdd_417_0 in memory! (computed 153.3 MiB so far)\n"
     ]
    },
    {
     "name": "stderr",
     "output_type": "stream",
     "text": [
      "[Stage 208:======>                                                  (1 + 8) / 9]\r"
     ]
    },
    {
     "name": "stdout",
     "output_type": "stream",
     "text": [
      "22/10/16 22:07:24 WARN MemoryStore: Not enough space to cache rdd_417_8 in memory! (computed 98.8 MiB so far)\n"
     ]
    },
    {
     "name": "stderr",
     "output_type": "stream",
     "text": [
      "                                                                                \r"
     ]
    },
    {
     "name": "stdout",
     "output_type": "stream",
     "text": [
      "22/10/16 22:07:27 WARN MemoryStore: Not enough space to cache rdd_417_3 in memory! (computed 153.3 MiB so far)\n",
      "22/10/16 22:07:27 WARN MemoryStore: Not enough space to cache rdd_417_5 in memory! (computed 153.3 MiB so far)\n",
      "22/10/16 22:07:27 WARN MemoryStore: Not enough space to cache rdd_417_7 in memory! (computed 98.8 MiB so far)\n",
      "22/10/16 22:07:27 WARN MemoryStore: Not enough space to cache rdd_417_0 in memory! (computed 98.8 MiB so far)\n",
      "22/10/16 22:07:27 WARN MemoryStore: Not enough space to cache rdd_417_2 in memory! (computed 98.8 MiB so far)\n",
      "22/10/16 22:07:27 WARN MemoryStore: Not enough space to cache rdd_417_4 in memory! (computed 98.8 MiB so far)\n",
      "22/10/16 22:07:27 WARN MemoryStore: Failed to reserve initial memory threshold of 1024.0 KiB for computing block rdd_506_0 in memory.\n",
      "22/10/16 22:07:27 WARN MemoryStore: Not enough space to cache rdd_506_0 in memory! (computed 384.0 B so far)\n",
      "22/10/16 22:07:27 WARN MemoryStore: Failed to reserve initial memory threshold of 1024.0 KiB for computing block rdd_506_2 in memory.\n",
      "22/10/16 22:07:27 WARN MemoryStore: Not enough space to cache rdd_506_2 in memory! (computed 384.0 B so far)\n",
      "22/10/16 22:07:27 WARN MemoryStore: Failed to reserve initial memory threshold of 1024.0 KiB for computing block rdd_506_4 in memory.\n",
      "22/10/16 22:07:27 WARN MemoryStore: Not enough space to cache rdd_506_4 in memory! (computed 384.0 B so far)\n"
     ]
    },
    {
     "name": "stderr",
     "output_type": "stream",
     "text": [
      "[Stage 211:>                                                        (0 + 8) / 9]\r"
     ]
    },
    {
     "name": "stdout",
     "output_type": "stream",
     "text": [
      "22/10/16 22:07:28 WARN MemoryStore: Not enough space to cache rdd_506_7 in memory! (computed 1024.6 KiB so far)\n",
      "22/10/16 22:07:28 WARN MemoryStore: Not enough space to cache rdd_506_5 in memory! (computed 1024.6 KiB so far)\n",
      "22/10/16 22:07:28 WARN MemoryStore: Not enough space to cache rdd_506_3 in memory! (computed 1537.3 KiB so far)\n"
     ]
    },
    {
     "name": "stderr",
     "output_type": "stream",
     "text": [
      "[Stage 211:======>                                                  (1 + 8) / 9]\r"
     ]
    },
    {
     "name": "stdout",
     "output_type": "stream",
     "text": [
      "22/10/16 22:07:29 WARN MemoryStore: Not enough space to cache rdd_417_1 in memory! (computed 527.0 MiB so far)\n"
     ]
    },
    {
     "name": "stderr",
     "output_type": "stream",
     "text": [
      "                                                                                \r"
     ]
    },
    {
     "name": "stdout",
     "output_type": "stream",
     "text": [
      "22/10/16 22:07:33 WARN MemoryStore: Not enough space to cache rdd_417_7 in memory! (computed 65.3 MiB so far)\n",
      "22/10/16 22:07:33 WARN MemoryStore: Not enough space to cache rdd_417_0 in memory! (computed 65.3 MiB so far)\n",
      "22/10/16 22:07:33 WARN MemoryStore: Not enough space to cache rdd_417_1 in memory! (computed 98.8 MiB so far)\n",
      "22/10/16 22:07:33 WARN MemoryStore: Not enough space to cache rdd_417_4 in memory! (computed 98.8 MiB so far)\n",
      "22/10/16 22:07:33 WARN MemoryStore: Not enough space to cache rdd_417_5 in memory! (computed 98.8 MiB so far)\n"
     ]
    },
    {
     "name": "stderr",
     "output_type": "stream",
     "text": [
      "[Stage 214:>                                                        (0 + 8) / 9]\r"
     ]
    },
    {
     "name": "stdout",
     "output_type": "stream",
     "text": [
      "22/10/16 22:07:33 WARN MemoryStore: Not enough space to cache rdd_417_2 in memory! (computed 153.3 MiB so far)\n",
      "22/10/16 22:07:33 WARN MemoryStore: Not enough space to cache rdd_417_3 in memory! (computed 153.3 MiB so far)\n"
     ]
    },
    {
     "name": "stderr",
     "output_type": "stream",
     "text": [
      "                                                                                \r"
     ]
    },
    {
     "name": "stdout",
     "output_type": "stream",
     "text": [
      "22/10/16 22:07:37 WARN MemoryStore: Not enough space to cache rdd_417_5 in memory! (computed 98.8 MiB so far)\n",
      "22/10/16 22:07:37 WARN MemoryStore: Failed to reserve initial memory threshold of 1024.0 KiB for computing block rdd_417_5 in memory.\n",
      "22/10/16 22:07:37 WARN MemoryStore: Not enough space to cache rdd_417_5 in memory! (computed 384.0 B so far)\n",
      "22/10/16 22:07:37 WARN MemoryStore: Failed to reserve initial memory threshold of 1024.0 KiB for computing block rdd_417_5 in memory.\n",
      "22/10/16 22:07:37 WARN MemoryStore: Not enough space to cache rdd_417_5 in memory! (computed 384.0 B so far)\n",
      "22/10/16 22:07:37 WARN MemoryStore: Failed to reserve initial memory threshold of 1024.0 KiB for computing block rdd_503_5 in memory.\n",
      "22/10/16 22:07:37 WARN MemoryStore: Not enough space to cache rdd_503_5 in memory! (computed 384.0 B so far)\n",
      "22/10/16 22:07:37 WARN MemoryStore: Not enough space to cache rdd_417_1 in memory! (computed 98.8 MiB so far)\n",
      "22/10/16 22:07:37 WARN MemoryStore: Failed to reserve initial memory threshold of 1024.0 KiB for computing block rdd_525_5 in memory.\n",
      "22/10/16 22:07:37 WARN MemoryStore: Not enough space to cache rdd_525_5 in memory! (computed 384.0 B so far)\n",
      "22/10/16 22:07:37 WARN BlockManager: Persisting block rdd_525_5 to disk instead.\n",
      "22/10/16 22:07:37 WARN MemoryStore: Not enough space to cache rdd_417_0 in memory! (computed 98.8 MiB so far)\n",
      "22/10/16 22:07:37 WARN MemoryStore: Failed to reserve initial memory threshold of 1024.0 KiB for computing block rdd_417_1 in memory.\n",
      "22/10/16 22:07:37 WARN MemoryStore: Not enough space to cache rdd_417_1 in memory! (computed 384.0 B so far)\n",
      "22/10/16 22:07:37 WARN MemoryStore: Failed to reserve initial memory threshold of 1024.0 KiB for computing block rdd_417_0 in memory.\n",
      "22/10/16 22:07:37 WARN MemoryStore: Not enough space to cache rdd_417_0 in memory! (computed 384.0 B so far)\n",
      "22/10/16 22:07:37 WARN MemoryStore: Failed to reserve initial memory threshold of 1024.0 KiB for computing block rdd_417_0 in memory.\n",
      "22/10/16 22:07:37 WARN MemoryStore: Not enough space to cache rdd_417_0 in memory! (computed 384.0 B so far)\n",
      "22/10/16 22:07:37 WARN MemoryStore: Failed to reserve initial memory threshold of 1024.0 KiB for computing block rdd_503_0 in memory.\n",
      "22/10/16 22:07:37 WARN MemoryStore: Not enough space to cache rdd_503_0 in memory! (computed 384.0 B so far)\n",
      "22/10/16 22:07:37 WARN MemoryStore: Failed to reserve initial memory threshold of 1024.0 KiB for computing block rdd_525_0 in memory.\n",
      "22/10/16 22:07:37 WARN MemoryStore: Not enough space to cache rdd_525_0 in memory! (computed 384.0 B so far)\n",
      "22/10/16 22:07:37 WARN BlockManager: Persisting block rdd_525_0 to disk instead.\n",
      "22/10/16 22:07:37 WARN MemoryStore: Failed to reserve initial memory threshold of 1024.0 KiB for computing block rdd_417_1 in memory.\n",
      "22/10/16 22:07:37 WARN MemoryStore: Not enough space to cache rdd_417_1 in memory! (computed 384.0 B so far)\n",
      "22/10/16 22:07:37 WARN MemoryStore: Failed to reserve initial memory threshold of 1024.0 KiB for computing block rdd_503_1 in memory.\n",
      "22/10/16 22:07:37 WARN MemoryStore: Not enough space to cache rdd_503_1 in memory! (computed 384.0 B so far)\n",
      "22/10/16 22:07:37 WARN MemoryStore: Failed to reserve initial memory threshold of 1024.0 KiB for computing block rdd_525_1 in memory.\n",
      "22/10/16 22:07:37 WARN MemoryStore: Not enough space to cache rdd_525_1 in memory! (computed 384.0 B so far)\n",
      "22/10/16 22:07:37 WARN BlockManager: Persisting block rdd_525_1 to disk instead.\n",
      "22/10/16 22:07:37 WARN MemoryStore: Not enough space to cache rdd_417_7 in memory! (computed 98.8 MiB so far)\n",
      "22/10/16 22:07:37 WARN MemoryStore: Failed to reserve initial memory threshold of 1024.0 KiB for computing block rdd_417_7 in memory.\n",
      "22/10/16 22:07:37 WARN MemoryStore: Not enough space to cache rdd_417_7 in memory! (computed 384.0 B so far)\n",
      "22/10/16 22:07:37 WARN MemoryStore: Failed to reserve initial memory threshold of 1024.0 KiB for computing block rdd_417_7 in memory.\n",
      "22/10/16 22:07:37 WARN MemoryStore: Not enough space to cache rdd_417_7 in memory! (computed 384.0 B so far)\n",
      "22/10/16 22:07:37 WARN MemoryStore: Failed to reserve initial memory threshold of 1024.0 KiB for computing block rdd_503_7 in memory.\n",
      "22/10/16 22:07:37 WARN MemoryStore: Not enough space to cache rdd_503_7 in memory! (computed 384.0 B so far)\n",
      "22/10/16 22:07:37 WARN MemoryStore: Failed to reserve initial memory threshold of 1024.0 KiB for computing block rdd_525_7 in memory.\n",
      "22/10/16 22:07:37 WARN MemoryStore: Not enough space to cache rdd_525_7 in memory! (computed 384.0 B so far)\n",
      "22/10/16 22:07:37 WARN BlockManager: Persisting block rdd_525_7 to disk instead.\n",
      "22/10/16 22:07:37 WARN MemoryStore: Not enough space to cache rdd_525_6 in memory! (computed 3.7 MiB so far)\n",
      "22/10/16 22:07:37 WARN BlockManager: Persisting block rdd_525_6 to disk instead.\n"
     ]
    },
    {
     "name": "stderr",
     "output_type": "stream",
     "text": [
      "[Stage 217:>                                                        (0 + 8) / 9]\r"
     ]
    },
    {
     "name": "stdout",
     "output_type": "stream",
     "text": [
      "22/10/16 22:07:37 WARN MemoryStore: Not enough space to cache rdd_417_4 in memory! (computed 153.3 MiB so far)\n",
      "22/10/16 22:07:37 WARN MemoryStore: Not enough space to cache rdd_417_4 in memory! (computed 3.6 MiB so far)\n",
      "22/10/16 22:07:37 WARN MemoryStore: Failed to reserve initial memory threshold of 1024.0 KiB for computing block rdd_417_4 in memory.\n",
      "22/10/16 22:07:37 WARN MemoryStore: Not enough space to cache rdd_417_4 in memory! (computed 384.0 B so far)\n",
      "22/10/16 22:07:37 WARN MemoryStore: Failed to reserve initial memory threshold of 1024.0 KiB for computing block rdd_503_4 in memory.\n",
      "22/10/16 22:07:37 WARN MemoryStore: Not enough space to cache rdd_503_4 in memory! (computed 384.0 B so far)\n",
      "22/10/16 22:07:37 WARN MemoryStore: Failed to reserve initial memory threshold of 1024.0 KiB for computing block rdd_525_4 in memory.\n",
      "22/10/16 22:07:37 WARN MemoryStore: Not enough space to cache rdd_525_4 in memory! (computed 384.0 B so far)\n",
      "22/10/16 22:07:37 WARN BlockManager: Persisting block rdd_525_4 to disk instead.\n",
      "22/10/16 22:07:37 WARN MemoryStore: Not enough space to cache rdd_417_3 in memory! (computed 153.3 MiB so far)\n",
      "22/10/16 22:07:37 WARN MemoryStore: Not enough space to cache rdd_417_2 in memory! (computed 153.3 MiB so far)\n",
      "22/10/16 22:07:37 WARN MemoryStore: Failed to reserve initial memory threshold of 1024.0 KiB for computing block rdd_417_3 in memory.\n",
      "22/10/16 22:07:37 WARN MemoryStore: Not enough space to cache rdd_417_3 in memory! (computed 384.0 B so far)\n",
      "22/10/16 22:07:37 WARN MemoryStore: Failed to reserve initial memory threshold of 1024.0 KiB for computing block rdd_417_2 in memory.\n",
      "22/10/16 22:07:37 WARN MemoryStore: Not enough space to cache rdd_417_2 in memory! (computed 384.0 B so far)\n",
      "22/10/16 22:07:37 WARN MemoryStore: Failed to reserve initial memory threshold of 1024.0 KiB for computing block rdd_417_3 in memory.\n",
      "22/10/16 22:07:37 WARN MemoryStore: Not enough space to cache rdd_417_3 in memory! (computed 384.0 B so far)\n",
      "22/10/16 22:07:37 WARN MemoryStore: Failed to reserve initial memory threshold of 1024.0 KiB for computing block rdd_503_3 in memory.\n",
      "22/10/16 22:07:37 WARN MemoryStore: Not enough space to cache rdd_503_3 in memory! (computed 384.0 B so far)\n",
      "22/10/16 22:07:37 WARN MemoryStore: Failed to reserve initial memory threshold of 1024.0 KiB for computing block rdd_525_3 in memory.\n",
      "22/10/16 22:07:37 WARN MemoryStore: Not enough space to cache rdd_525_3 in memory! (computed 384.0 B so far)\n",
      "22/10/16 22:07:37 WARN BlockManager: Persisting block rdd_525_3 to disk instead.\n",
      "22/10/16 22:07:37 WARN MemoryStore: Failed to reserve initial memory threshold of 1024.0 KiB for computing block rdd_417_2 in memory.\n",
      "22/10/16 22:07:37 WARN MemoryStore: Not enough space to cache rdd_417_2 in memory! (computed 384.0 B so far)\n",
      "22/10/16 22:07:37 WARN MemoryStore: Failed to reserve initial memory threshold of 1024.0 KiB for computing block rdd_503_2 in memory.\n",
      "22/10/16 22:07:37 WARN MemoryStore: Not enough space to cache rdd_503_2 in memory! (computed 384.0 B so far)\n",
      "22/10/16 22:07:37 WARN MemoryStore: Failed to reserve initial memory threshold of 1024.0 KiB for computing block rdd_525_2 in memory.\n",
      "22/10/16 22:07:37 WARN MemoryStore: Not enough space to cache rdd_525_2 in memory! (computed 384.0 B so far)\n",
      "22/10/16 22:07:37 WARN BlockManager: Persisting block rdd_525_2 to disk instead.\n",
      "22/10/16 22:07:38 WARN MemoryStore: Not enough space to cache rdd_525_6 in memory! (computed 8.2 MiB so far)\n",
      "22/10/16 22:07:38 WARN MemoryStore: Not enough space to cache rdd_528_6 in memory! (computed 2.7 MiB so far)\n",
      "22/10/16 22:07:38 WARN BlockManager: Persisting block rdd_528_6 to disk instead.\n",
      "22/10/16 22:07:39 WARN MemoryStore: Not enough space to cache rdd_528_6 in memory! (computed 10.8 MiB so far)\n",
      "22/10/16 22:07:40 WARN MemoryStore: Not enough space to cache rdd_525_3 in memory! (computed 1663.4 KiB so far)\n",
      "22/10/16 22:07:40 WARN MemoryStore: Failed to reserve initial memory threshold of 1024.0 KiB for computing block rdd_528_3 in memory.\n",
      "22/10/16 22:07:40 WARN MemoryStore: Not enough space to cache rdd_528_3 in memory! (computed 384.0 B so far)\n",
      "22/10/16 22:07:40 WARN BlockManager: Persisting block rdd_528_3 to disk instead.\n",
      "22/10/16 22:07:40 WARN MemoryStore: Not enough space to cache rdd_417_8 in memory! (computed 8.2 MiB so far)\n",
      "22/10/16 22:07:40 WARN MemoryStore: Not enough space to cache rdd_417_8 in memory! (computed 1591.6 KiB so far)\n",
      "22/10/16 22:07:40 WARN MemoryStore: Failed to reserve initial memory threshold of 1024.0 KiB for computing block rdd_417_8 in memory.\n",
      "22/10/16 22:07:40 WARN MemoryStore: Not enough space to cache rdd_417_8 in memory! (computed 384.0 B so far)\n"
     ]
    },
    {
     "name": "stderr",
     "output_type": "stream",
     "text": [
      "[Stage 220:>                                                        (0 + 8) / 9]\r"
     ]
    },
    {
     "name": "stdout",
     "output_type": "stream",
     "text": [
      "22/10/16 22:07:48 WARN MemoryStore: Not enough space to cache rdd_417_2 in memory! (computed 234.1 MiB so far)\n",
      "22/10/16 22:07:48 WARN MemoryStore: Not enough space to cache rdd_417_0 in memory! (computed 234.1 MiB so far)\n",
      "22/10/16 22:07:48 WARN MemoryStore: Not enough space to cache rdd_417_4 in memory! (computed 234.1 MiB so far)\n",
      "22/10/16 22:07:48 WARN MemoryStore: Not enough space to cache rdd_417_1 in memory! (computed 234.1 MiB so far)\n",
      "22/10/16 22:07:48 WARN MemoryStore: Not enough space to cache rdd_417_3 in memory! (computed 234.1 MiB so far)\n",
      "22/10/16 22:07:48 WARN MemoryStore: Not enough space to cache rdd_417_5 in memory! (computed 234.1 MiB so far)\n",
      "22/10/16 22:07:48 WARN MemoryStore: Not enough space to cache rdd_417_7 in memory! (computed 234.1 MiB so far)\n",
      "22/10/16 22:07:48 WARN MemoryStore: Not enough space to cache rdd_528_5 in memory! (computed 1537.3 KiB so far)\n",
      "22/10/16 22:07:48 WARN MemoryStore: Not enough space to cache rdd_528_2 in memory! (computed 2.7 MiB so far)\n",
      "22/10/16 22:07:48 WARN MemoryStore: Not enough space to cache rdd_528_3 in memory! (computed 1537.3 KiB so far)\n"
     ]
    },
    {
     "name": "stderr",
     "output_type": "stream",
     "text": [
      "                                                                                \r"
     ]
    },
    {
     "name": "stdout",
     "output_type": "stream",
     "text": [
      "22/10/16 22:07:53 WARN MemoryStore: Not enough space to cache rdd_417_1 in memory! (computed 98.8 MiB so far)\n",
      "22/10/16 22:07:53 WARN MemoryStore: Not enough space to cache rdd_417_0 in memory! (computed 98.8 MiB so far)\n",
      "22/10/16 22:07:53 WARN MemoryStore: Not enough space to cache rdd_417_5 in memory! (computed 98.8 MiB so far)\n",
      "22/10/16 22:07:53 WARN MemoryStore: Not enough space to cache rdd_417_2 in memory! (computed 98.8 MiB so far)\n",
      "22/10/16 22:07:53 WARN MemoryStore: Not enough space to cache rdd_417_7 in memory! (computed 65.3 MiB so far)\n",
      "22/10/16 22:07:53 WARN MemoryStore: Not enough space to cache rdd_417_4 in memory! (computed 65.3 MiB so far)\n"
     ]
    },
    {
     "name": "stderr",
     "output_type": "stream",
     "text": [
      "[Stage 223:======>                                                  (1 + 8) / 9]\r"
     ]
    },
    {
     "name": "stdout",
     "output_type": "stream",
     "text": [
      "22/10/16 22:07:55 WARN MemoryStore: Not enough space to cache rdd_417_3 in memory! (computed 527.0 MiB so far)\n"
     ]
    },
    {
     "name": "stderr",
     "output_type": "stream",
     "text": [
      "                                                                                \r"
     ]
    },
    {
     "name": "stdout",
     "output_type": "stream",
     "text": [
      "22/10/16 22:07:57 WARN MemoryStore: Not enough space to cache rdd_417_2 in memory! (computed 65.3 MiB so far)\n",
      "22/10/16 22:07:57 WARN MemoryStore: Not enough space to cache rdd_417_7 in memory! (computed 65.3 MiB so far)\n",
      "22/10/16 22:07:57 WARN MemoryStore: Not enough space to cache rdd_417_1 in memory! (computed 98.8 MiB so far)\n",
      "22/10/16 22:07:57 WARN MemoryStore: Not enough space to cache rdd_417_4 in memory! (computed 98.8 MiB so far)\n",
      "22/10/16 22:07:57 WARN MemoryStore: Not enough space to cache rdd_417_5 in memory! (computed 98.8 MiB so far)\n"
     ]
    },
    {
     "name": "stderr",
     "output_type": "stream",
     "text": [
      "[Stage 226:>                                                        (0 + 8) / 9]\r"
     ]
    },
    {
     "name": "stdout",
     "output_type": "stream",
     "text": [
      "22/10/16 22:07:58 WARN MemoryStore: Not enough space to cache rdd_417_0 in memory! (computed 153.3 MiB so far)\n",
      "22/10/16 22:07:58 WARN MemoryStore: Not enough space to cache rdd_417_3 in memory! (computed 153.3 MiB so far)\n"
     ]
    },
    {
     "name": "stderr",
     "output_type": "stream",
     "text": [
      "                                                                                \r"
     ]
    },
    {
     "name": "stdout",
     "output_type": "stream",
     "text": [
      "22/10/16 22:08:02 WARN MemoryStore: Not enough space to cache rdd_417_4 in memory! (computed 65.3 MiB so far)\n",
      "22/10/16 22:08:02 WARN MemoryStore: Not enough space to cache rdd_417_5 in memory! (computed 65.3 MiB so far)\n",
      "22/10/16 22:08:02 WARN MemoryStore: Not enough space to cache rdd_417_1 in memory! (computed 98.8 MiB so far)\n",
      "22/10/16 22:08:02 WARN MemoryStore: Not enough space to cache rdd_417_3 in memory! (computed 98.8 MiB so far)\n",
      "22/10/16 22:08:02 WARN MemoryStore: Not enough space to cache rdd_417_0 in memory! (computed 98.8 MiB so far)\n",
      "22/10/16 22:08:02 WARN MemoryStore: Not enough space to cache rdd_417_2 in memory! (computed 153.3 MiB so far)\n"
     ]
    },
    {
     "name": "stderr",
     "output_type": "stream",
     "text": [
      "[Stage 229:>                                                        (0 + 8) / 9]\r"
     ]
    },
    {
     "name": "stdout",
     "output_type": "stream",
     "text": [
      "22/10/16 22:08:02 WARN MemoryStore: Not enough space to cache rdd_417_7 in memory! (computed 153.3 MiB so far)\n"
     ]
    },
    {
     "name": "stderr",
     "output_type": "stream",
     "text": [
      "                                                                                \r"
     ]
    },
    {
     "name": "stdout",
     "output_type": "stream",
     "text": [
      "22/10/16 22:08:06 WARN MemoryStore: Not enough space to cache rdd_417_3 in memory! (computed 65.3 MiB so far)\n",
      "22/10/16 22:08:06 WARN MemoryStore: Not enough space to cache rdd_417_7 in memory! (computed 65.3 MiB so far)\n",
      "22/10/16 22:08:06 WARN MemoryStore: Not enough space to cache rdd_417_7 in memory! (computed 1050.0 KiB so far)\n",
      "22/10/16 22:08:06 WARN MemoryStore: Failed to reserve initial memory threshold of 1024.0 KiB for computing block rdd_417_7 in memory.\n",
      "22/10/16 22:08:06 WARN MemoryStore: Not enough space to cache rdd_417_7 in memory! (computed 384.0 B so far)\n",
      "22/10/16 22:08:06 WARN MemoryStore: Not enough space to cache rdd_417_3 in memory! (computed 1591.6 KiB so far)\n",
      "22/10/16 22:08:06 WARN MemoryStore: Not enough space to cache rdd_417_2 in memory! (computed 98.8 MiB so far)\n",
      "22/10/16 22:08:06 WARN MemoryStore: Not enough space to cache rdd_417_4 in memory! (computed 98.8 MiB so far)\n",
      "22/10/16 22:08:06 WARN MemoryStore: Not enough space to cache rdd_417_3 in memory! (computed 29.0 MiB so far)\n",
      "22/10/16 22:08:06 WARN MemoryStore: Not enough space to cache rdd_417_2 in memory! (computed 12.5 MiB so far)\n",
      "22/10/16 22:08:06 WARN MemoryStore: Not enough space to cache rdd_417_2 in memory! (computed 2.4 MiB so far)\n",
      "22/10/16 22:08:06 WARN MemoryStore: Failed to reserve initial memory threshold of 1024.0 KiB for computing block rdd_525_2 in memory.\n",
      "22/10/16 22:08:06 WARN MemoryStore: Not enough space to cache rdd_525_2 in memory! (computed 384.0 B so far)\n",
      "22/10/16 22:08:06 WARN MemoryStore: Failed to reserve initial memory threshold of 1024.0 KiB for computing block rdd_547_2 in memory.\n",
      "22/10/16 22:08:06 WARN MemoryStore: Not enough space to cache rdd_547_2 in memory! (computed 384.0 B so far)\n",
      "22/10/16 22:08:06 WARN BlockManager: Persisting block rdd_547_2 to disk instead.\n",
      "22/10/16 22:08:06 WARN MemoryStore: Not enough space to cache rdd_417_4 in memory! (computed 12.5 MiB so far)\n",
      "22/10/16 22:08:06 WARN MemoryStore: Not enough space to cache rdd_417_0 in memory! (computed 153.3 MiB so far)\n",
      "22/10/16 22:08:06 WARN MemoryStore: Not enough space to cache rdd_525_7 in memory! (computed 5.5 MiB so far)\n",
      "22/10/16 22:08:06 WARN MemoryStore: Not enough space to cache rdd_417_1 in memory! (computed 153.3 MiB so far)\n",
      "22/10/16 22:08:06 WARN MemoryStore: Failed to reserve initial memory threshold of 1024.0 KiB for computing block rdd_417_1 in memory.\n",
      "22/10/16 22:08:06 WARN MemoryStore: Not enough space to cache rdd_417_1 in memory! (computed 384.0 B so far)\n",
      "22/10/16 22:08:06 WARN MemoryStore: Not enough space to cache rdd_547_6 in memory! (computed 3.7 MiB so far)\n",
      "22/10/16 22:08:06 WARN BlockManager: Persisting block rdd_547_6 to disk instead.\n",
      "22/10/16 22:08:06 WARN MemoryStore: Not enough space to cache rdd_417_4 in memory! (computed 1050.0 KiB so far)\n",
      "22/10/16 22:08:06 WARN MemoryStore: Failed to reserve initial memory threshold of 1024.0 KiB for computing block rdd_417_1 in memory.\n",
      "22/10/16 22:08:06 WARN MemoryStore: Not enough space to cache rdd_417_1 in memory! (computed 384.0 B so far)\n",
      "22/10/16 22:08:06 WARN MemoryStore: Failed to reserve initial memory threshold of 1024.0 KiB for computing block rdd_525_1 in memory.\n",
      "22/10/16 22:08:06 WARN MemoryStore: Not enough space to cache rdd_525_1 in memory! (computed 384.0 B so far)\n",
      "22/10/16 22:08:06 WARN MemoryStore: Failed to reserve initial memory threshold of 1024.0 KiB for computing block rdd_525_4 in memory.\n",
      "22/10/16 22:08:06 WARN MemoryStore: Not enough space to cache rdd_525_4 in memory! (computed 384.0 B so far)\n",
      "22/10/16 22:08:06 WARN MemoryStore: Failed to reserve initial memory threshold of 1024.0 KiB for computing block rdd_547_1 in memory.\n",
      "22/10/16 22:08:06 WARN MemoryStore: Not enough space to cache rdd_547_1 in memory! (computed 384.0 B so far)\n",
      "22/10/16 22:08:06 WARN BlockManager: Persisting block rdd_547_1 to disk instead.\n",
      "22/10/16 22:08:06 WARN MemoryStore: Not enough space to cache rdd_417_0 in memory! (computed 1050.0 KiB so far)\n",
      "22/10/16 22:08:06 WARN MemoryStore: Failed to reserve initial memory threshold of 1024.0 KiB for computing block rdd_547_4 in memory.\n",
      "22/10/16 22:08:06 WARN MemoryStore: Not enough space to cache rdd_547_4 in memory! (computed 384.0 B so far)\n",
      "22/10/16 22:08:06 WARN BlockManager: Persisting block rdd_547_4 to disk instead.\n",
      "22/10/16 22:08:07 WARN MemoryStore: Failed to reserve initial memory threshold of 1024.0 KiB for computing block rdd_417_0 in memory.\n",
      "22/10/16 22:08:07 WARN MemoryStore: Not enough space to cache rdd_417_0 in memory! (computed 384.0 B so far)\n",
      "22/10/16 22:08:07 WARN MemoryStore: Not enough space to cache rdd_525_3 in memory! (computed 1035.4 KiB so far)\n",
      "22/10/16 22:08:07 WARN MemoryStore: Failed to reserve initial memory threshold of 1024.0 KiB for computing block rdd_547_3 in memory.\n",
      "22/10/16 22:08:07 WARN MemoryStore: Not enough space to cache rdd_547_3 in memory! (computed 384.0 B so far)\n",
      "22/10/16 22:08:07 WARN BlockManager: Persisting block rdd_547_3 to disk instead.\n",
      "22/10/16 22:08:07 WARN MemoryStore: Not enough space to cache rdd_417_5 in memory! (computed 153.3 MiB so far)\n",
      "22/10/16 22:08:07 WARN MemoryStore: Not enough space to cache rdd_417_5 in memory! (computed 19.0 MiB so far)\n",
      "22/10/16 22:08:07 WARN MemoryStore: Not enough space to cache rdd_417_5 in memory! (computed 5.4 MiB so far)\n",
      "22/10/16 22:08:07 WARN MemoryStore: Not enough space to cache rdd_525_0 in memory! (computed 8.2 MiB so far)\n",
      "22/10/16 22:08:07 WARN MemoryStore: Failed to reserve initial memory threshold of 1024.0 KiB for computing block rdd_547_0 in memory.\n",
      "22/10/16 22:08:07 WARN MemoryStore: Not enough space to cache rdd_547_0 in memory! (computed 384.0 B so far)\n",
      "22/10/16 22:08:07 WARN BlockManager: Persisting block rdd_547_0 to disk instead.\n",
      "22/10/16 22:08:07 WARN MemoryStore: Not enough space to cache rdd_525_5 in memory! (computed 1035.4 KiB so far)\n",
      "22/10/16 22:08:07 WARN MemoryStore: Failed to reserve initial memory threshold of 1024.0 KiB for computing block rdd_547_5 in memory.\n",
      "22/10/16 22:08:07 WARN MemoryStore: Not enough space to cache rdd_547_5 in memory! (computed 384.0 B so far)\n",
      "22/10/16 22:08:07 WARN BlockManager: Persisting block rdd_547_5 to disk instead.\n"
     ]
    },
    {
     "name": "stderr",
     "output_type": "stream",
     "text": [
      "[Stage 232:>                                                        (0 + 8) / 9]\r"
     ]
    },
    {
     "name": "stdout",
     "output_type": "stream",
     "text": [
      "22/10/16 22:08:07 WARN MemoryStore: Not enough space to cache rdd_547_6 in memory! (computed 13.0 MiB so far)\n",
      "22/10/16 22:08:07 WARN MemoryStore: Not enough space to cache rdd_547_7 in memory! (computed 2.4 MiB so far)\n",
      "22/10/16 22:08:07 WARN BlockManager: Persisting block rdd_547_7 to disk instead.\n",
      "22/10/16 22:08:07 WARN MemoryStore: Not enough space to cache rdd_550_6 in memory! (computed 4.0 MiB so far)\n",
      "22/10/16 22:08:07 WARN BlockManager: Persisting block rdd_550_6 to disk instead.\n",
      "22/10/16 22:08:09 WARN MemoryStore: Not enough space to cache rdd_417_8 in memory! (computed 29.0 MiB so far)\n",
      "22/10/16 22:08:09 WARN MemoryStore: Not enough space to cache rdd_417_8 in memory! (computed 2.4 MiB so far)\n",
      "22/10/16 22:08:09 WARN MemoryStore: Failed to reserve initial memory threshold of 1024.0 KiB for computing block rdd_417_8 in memory.\n",
      "22/10/16 22:08:09 WARN MemoryStore: Not enough space to cache rdd_417_8 in memory! (computed 384.0 B so far)\n"
     ]
    },
    {
     "name": "stderr",
     "output_type": "stream",
     "text": [
      "[Stage 235:>                                                        (0 + 8) / 9]\r"
     ]
    },
    {
     "name": "stdout",
     "output_type": "stream",
     "text": [
      "22/10/16 22:08:16 WARN MemoryStore: Not enough space to cache rdd_417_5 in memory! (computed 234.1 MiB so far)\n",
      "22/10/16 22:08:16 WARN MemoryStore: Not enough space to cache rdd_417_0 in memory! (computed 234.1 MiB so far)\n",
      "22/10/16 22:08:16 WARN MemoryStore: Not enough space to cache rdd_417_6 in memory! (computed 234.1 MiB so far)\n",
      "22/10/16 22:08:16 WARN MemoryStore: Not enough space to cache rdd_417_4 in memory! (computed 234.1 MiB so far)\n",
      "22/10/16 22:08:16 WARN MemoryStore: Not enough space to cache rdd_417_3 in memory! (computed 234.1 MiB so far)\n",
      "22/10/16 22:08:16 WARN MemoryStore: Not enough space to cache rdd_417_1 in memory! (computed 234.1 MiB so far)\n",
      "22/10/16 22:08:16 WARN MemoryStore: Not enough space to cache rdd_417_7 in memory! (computed 234.1 MiB so far)\n",
      "22/10/16 22:08:16 WARN MemoryStore: Not enough space to cache rdd_550_3 in memory! (computed 1537.3 KiB so far)\n",
      "22/10/16 22:08:16 WARN MemoryStore: Not enough space to cache rdd_550_5 in memory! (computed 2.7 MiB so far)\n",
      "22/10/16 22:08:16 WARN MemoryStore: Not enough space to cache rdd_550_6 in memory! (computed 1537.3 KiB so far)\n"
     ]
    },
    {
     "name": "stderr",
     "output_type": "stream",
     "text": [
      "                                                                                \r"
     ]
    },
    {
     "name": "stdout",
     "output_type": "stream",
     "text": [
      "22/10/16 22:08:20 WARN MemoryStore: Not enough space to cache rdd_417_7 in memory! (computed 98.8 MiB so far)\n",
      "22/10/16 22:08:20 WARN MemoryStore: Not enough space to cache rdd_417_0 in memory! (computed 98.8 MiB so far)\n",
      "22/10/16 22:08:20 WARN MemoryStore: Not enough space to cache rdd_417_1 in memory! (computed 98.8 MiB so far)\n",
      "22/10/16 22:08:21 WARN MemoryStore: Not enough space to cache rdd_417_4 in memory! (computed 98.8 MiB so far)\n",
      "22/10/16 22:08:21 WARN MemoryStore: Not enough space to cache rdd_417_3 in memory! (computed 98.8 MiB so far)\n",
      "22/10/16 22:08:21 WARN MemoryStore: Not enough space to cache rdd_417_6 in memory! (computed 98.8 MiB so far)\n",
      "22/10/16 22:08:21 WARN MemoryStore: Not enough space to cache rdd_417_5 in memory! (computed 98.8 MiB so far)\n"
     ]
    },
    {
     "name": "stderr",
     "output_type": "stream",
     "text": [
      "                                                                                \r"
     ]
    },
    {
     "name": "stdout",
     "output_type": "stream",
     "text": [
      "22/10/16 22:08:25 WARN MemoryStore: Not enough space to cache rdd_417_7 in memory! (computed 98.8 MiB so far)\n",
      "22/10/16 22:08:25 WARN MemoryStore: Not enough space to cache rdd_417_3 in memory! (computed 98.8 MiB so far)\n",
      "22/10/16 22:08:25 WARN MemoryStore: Not enough space to cache rdd_417_4 in memory! (computed 98.8 MiB so far)\n",
      "22/10/16 22:08:25 WARN MemoryStore: Not enough space to cache rdd_417_1 in memory! (computed 98.8 MiB so far)\n",
      "22/10/16 22:08:25 WARN MemoryStore: Not enough space to cache rdd_417_6 in memory! (computed 98.8 MiB so far)\n",
      "22/10/16 22:08:25 WARN MemoryStore: Not enough space to cache rdd_417_5 in memory! (computed 98.8 MiB so far)\n"
     ]
    },
    {
     "name": "stderr",
     "output_type": "stream",
     "text": [
      "[Stage 241:======>                                                  (1 + 8) / 9]\r"
     ]
    },
    {
     "name": "stdout",
     "output_type": "stream",
     "text": [
      "22/10/16 22:08:26 WARN MemoryStore: Not enough space to cache rdd_417_0 in memory! (computed 527.0 MiB so far)\n"
     ]
    },
    {
     "name": "stderr",
     "output_type": "stream",
     "text": [
      "                                                                                \r"
     ]
    },
    {
     "name": "stdout",
     "output_type": "stream",
     "text": [
      "22/10/16 22:08:29 WARN MemoryStore: Not enough space to cache rdd_417_7 in memory! (computed 98.8 MiB so far)\n",
      "22/10/16 22:08:29 WARN MemoryStore: Not enough space to cache rdd_417_5 in memory! (computed 98.8 MiB so far)\n",
      "22/10/16 22:08:29 WARN MemoryStore: Not enough space to cache rdd_417_1 in memory! (computed 98.8 MiB so far)\n",
      "22/10/16 22:08:29 WARN MemoryStore: Not enough space to cache rdd_417_6 in memory! (computed 98.8 MiB so far)\n",
      "22/10/16 22:08:29 WARN MemoryStore: Not enough space to cache rdd_417_3 in memory! (computed 98.8 MiB so far)\n",
      "22/10/16 22:08:29 WARN MemoryStore: Not enough space to cache rdd_417_0 in memory! (computed 98.8 MiB so far)\n"
     ]
    },
    {
     "name": "stderr",
     "output_type": "stream",
     "text": [
      "[Stage 244:======>                                                  (1 + 8) / 9]\r"
     ]
    },
    {
     "name": "stdout",
     "output_type": "stream",
     "text": [
      "22/10/16 22:08:31 WARN MemoryStore: Not enough space to cache rdd_417_8 in memory! (computed 98.8 MiB so far)\n"
     ]
    },
    {
     "name": "stderr",
     "output_type": "stream",
     "text": [
      "[Stage 247:>                                                        (0 + 8) / 9]\r"
     ]
    },
    {
     "name": "stdout",
     "output_type": "stream",
     "text": [
      "22/10/16 22:08:34 WARN MemoryStore: Not enough space to cache rdd_417_1 in memory! (computed 98.8 MiB so far)\n",
      "22/10/16 22:08:34 WARN MemoryStore: Not enough space to cache rdd_417_5 in memory! (computed 98.8 MiB so far)\n",
      "22/10/16 22:08:34 WARN MemoryStore: Not enough space to cache rdd_417_3 in memory! (computed 98.8 MiB so far)\n",
      "22/10/16 22:08:34 WARN MemoryStore: Not enough space to cache rdd_417_2 in memory! (computed 98.8 MiB so far)\n",
      "22/10/16 22:08:35 WARN MemoryStore: Not enough space to cache rdd_417_5 in memory! (computed 5.4 MiB so far)\n",
      "22/10/16 22:08:35 WARN MemoryStore: Not enough space to cache rdd_417_2 in memory! (computed 1050.0 KiB so far)\n",
      "22/10/16 22:08:35 WARN MemoryStore: Failed to reserve initial memory threshold of 1024.0 KiB for computing block rdd_417_5 in memory.\n",
      "22/10/16 22:08:35 WARN MemoryStore: Not enough space to cache rdd_417_5 in memory! (computed 384.0 B so far)\n",
      "22/10/16 22:08:35 WARN MemoryStore: Not enough space to cache rdd_417_3 in memory! (computed 1591.6 KiB so far)\n",
      "22/10/16 22:08:35 WARN MemoryStore: Not enough space to cache rdd_417_1 in memory! (computed 8.2 MiB so far)\n",
      "22/10/16 22:08:35 WARN MemoryStore: Failed to reserve initial memory threshold of 1024.0 KiB for computing block rdd_547_5 in memory.\n",
      "22/10/16 22:08:35 WARN MemoryStore: Not enough space to cache rdd_547_5 in memory! (computed 384.0 B so far)\n",
      "22/10/16 22:08:35 WARN MemoryStore: Failed to reserve initial memory threshold of 1024.0 KiB for computing block rdd_569_5 in memory.\n",
      "22/10/16 22:08:35 WARN MemoryStore: Not enough space to cache rdd_569_5 in memory! (computed 384.0 B so far)\n",
      "22/10/16 22:08:35 WARN BlockManager: Persisting block rdd_569_5 to disk instead.\n",
      "22/10/16 22:08:35 WARN MemoryStore: Failed to reserve initial memory threshold of 1024.0 KiB for computing block rdd_417_2 in memory.\n",
      "22/10/16 22:08:35 WARN MemoryStore: Failed to reserve initial memory threshold of 1024.0 KiB for computing block rdd_417_3 in memory.\n",
      "22/10/16 22:08:35 WARN MemoryStore: Not enough space to cache rdd_417_3 in memory! (computed 384.0 B so far)\n",
      "22/10/16 22:08:35 WARN MemoryStore: Not enough space to cache rdd_417_2 in memory! (computed 384.0 B so far)\n",
      "22/10/16 22:08:35 WARN MemoryStore: Failed to reserve initial memory threshold of 1024.0 KiB for computing block rdd_547_3 in memory.\n",
      "22/10/16 22:08:35 WARN MemoryStore: Not enough space to cache rdd_547_3 in memory! (computed 384.0 B so far)\n",
      "22/10/16 22:08:35 WARN MemoryStore: Failed to reserve initial memory threshold of 1024.0 KiB for computing block rdd_547_2 in memory.\n",
      "22/10/16 22:08:35 WARN MemoryStore: Not enough space to cache rdd_547_2 in memory! (computed 384.0 B so far)\n",
      "22/10/16 22:08:35 WARN MemoryStore: Failed to reserve initial memory threshold of 1024.0 KiB for computing block rdd_569_2 in memory.\n",
      "22/10/16 22:08:35 WARN MemoryStore: Not enough space to cache rdd_569_2 in memory! (computed 384.0 B so far)\n",
      "22/10/16 22:08:35 WARN BlockManager: Persisting block rdd_569_2 to disk instead.\n",
      "22/10/16 22:08:35 WARN MemoryStore: Failed to reserve initial memory threshold of 1024.0 KiB for computing block rdd_569_3 in memory.\n",
      "22/10/16 22:08:35 WARN MemoryStore: Not enough space to cache rdd_569_3 in memory! (computed 384.0 B so far)\n",
      "22/10/16 22:08:35 WARN BlockManager: Persisting block rdd_569_3 to disk instead.\n",
      "22/10/16 22:08:35 WARN MemoryStore: Failed to reserve initial memory threshold of 1024.0 KiB for computing block rdd_417_1 in memory.\n",
      "22/10/16 22:08:35 WARN MemoryStore: Not enough space to cache rdd_417_1 in memory! (computed 384.0 B so far)\n",
      "22/10/16 22:08:35 WARN MemoryStore: Failed to reserve initial memory threshold of 1024.0 KiB for computing block rdd_547_1 in memory.\n",
      "22/10/16 22:08:35 WARN MemoryStore: Not enough space to cache rdd_547_1 in memory! (computed 384.0 B so far)\n",
      "22/10/16 22:08:35 WARN MemoryStore: Failed to reserve initial memory threshold of 1024.0 KiB for computing block rdd_569_1 in memory.\n",
      "22/10/16 22:08:35 WARN MemoryStore: Not enough space to cache rdd_569_1 in memory! (computed 384.0 B so far)\n",
      "22/10/16 22:08:35 WARN BlockManager: Persisting block rdd_569_1 to disk instead.\n",
      "22/10/16 22:08:35 WARN MemoryStore: Not enough space to cache rdd_569_4 in memory! (computed 13.0 MiB so far)\n",
      "22/10/16 22:08:35 WARN BlockManager: Persisting block rdd_569_4 to disk instead.\n",
      "22/10/16 22:08:35 WARN MemoryStore: Not enough space to cache rdd_417_6 in memory! (computed 153.3 MiB so far)\n",
      "22/10/16 22:08:35 WARN MemoryStore: Not enough space to cache rdd_417_7 in memory! (computed 153.3 MiB so far)\n",
      "22/10/16 22:08:35 WARN MemoryStore: Failed to reserve initial memory threshold of 1024.0 KiB for computing block rdd_417_7 in memory.\n",
      "22/10/16 22:08:35 WARN MemoryStore: Not enough space to cache rdd_417_7 in memory! (computed 384.0 B so far)\n",
      "22/10/16 22:08:35 WARN MemoryStore: Failed to reserve initial memory threshold of 1024.0 KiB for computing block rdd_417_6 in memory.\n",
      "22/10/16 22:08:35 WARN MemoryStore: Not enough space to cache rdd_417_6 in memory! (computed 384.0 B so far)\n",
      "22/10/16 22:08:35 WARN MemoryStore: Failed to reserve initial memory threshold of 1024.0 KiB for computing block rdd_417_7 in memory.\n",
      "22/10/16 22:08:35 WARN MemoryStore: Not enough space to cache rdd_417_7 in memory! (computed 384.0 B so far)\n",
      "22/10/16 22:08:35 WARN MemoryStore: Failed to reserve initial memory threshold of 1024.0 KiB for computing block rdd_417_6 in memory.\n",
      "22/10/16 22:08:35 WARN MemoryStore: Not enough space to cache rdd_417_6 in memory! (computed 384.0 B so far)\n",
      "22/10/16 22:08:35 WARN MemoryStore: Failed to reserve initial memory threshold of 1024.0 KiB for computing block rdd_547_7 in memory.\n",
      "22/10/16 22:08:35 WARN MemoryStore: Not enough space to cache rdd_547_7 in memory! (computed 384.0 B so far)\n",
      "22/10/16 22:08:35 WARN MemoryStore: Failed to reserve initial memory threshold of 1024.0 KiB for computing block rdd_547_6 in memory.\n",
      "22/10/16 22:08:35 WARN MemoryStore: Not enough space to cache rdd_547_6 in memory! (computed 384.0 B so far)\n",
      "22/10/16 22:08:35 WARN MemoryStore: Failed to reserve initial memory threshold of 1024.0 KiB for computing block rdd_569_6 in memory.\n",
      "22/10/16 22:08:35 WARN MemoryStore: Not enough space to cache rdd_569_6 in memory! (computed 384.0 B so far)\n",
      "22/10/16 22:08:35 WARN BlockManager: Persisting block rdd_569_6 to disk instead.\n",
      "22/10/16 22:08:35 WARN MemoryStore: Failed to reserve initial memory threshold of 1024.0 KiB for computing block rdd_569_7 in memory.\n",
      "22/10/16 22:08:35 WARN MemoryStore: Not enough space to cache rdd_569_7 in memory! (computed 384.0 B so far)\n",
      "22/10/16 22:08:35 WARN BlockManager: Persisting block rdd_569_7 to disk instead.\n",
      "22/10/16 22:08:35 WARN MemoryStore: Not enough space to cache rdd_417_0 in memory! (computed 153.3 MiB so far)\n",
      "22/10/16 22:08:35 WARN MemoryStore: Failed to reserve initial memory threshold of 1024.0 KiB for computing block rdd_417_0 in memory.\n",
      "22/10/16 22:08:35 WARN MemoryStore: Not enough space to cache rdd_417_0 in memory! (computed 384.0 B so far)\n",
      "22/10/16 22:08:35 WARN MemoryStore: Failed to reserve initial memory threshold of 1024.0 KiB for computing block rdd_417_0 in memory.\n",
      "22/10/16 22:08:35 WARN MemoryStore: Not enough space to cache rdd_417_0 in memory! (computed 384.0 B so far)\n",
      "22/10/16 22:08:35 WARN MemoryStore: Failed to reserve initial memory threshold of 1024.0 KiB for computing block rdd_547_0 in memory.\n",
      "22/10/16 22:08:35 WARN MemoryStore: Not enough space to cache rdd_547_0 in memory! (computed 384.0 B so far)\n",
      "22/10/16 22:08:35 WARN MemoryStore: Failed to reserve initial memory threshold of 1024.0 KiB for computing block rdd_569_0 in memory.\n",
      "22/10/16 22:08:35 WARN MemoryStore: Not enough space to cache rdd_569_0 in memory! (computed 384.0 B so far)\n",
      "22/10/16 22:08:35 WARN BlockManager: Persisting block rdd_569_0 to disk instead.\n",
      "22/10/16 22:08:35 WARN MemoryStore: Not enough space to cache rdd_572_4 in memory! (computed 10.8 MiB so far)\n",
      "22/10/16 22:08:35 WARN BlockManager: Persisting block rdd_572_4 to disk instead.\n",
      "22/10/16 22:08:36 WARN MemoryStore: Not enough space to cache rdd_417_8 in memory! (computed 19.0 MiB so far)\n",
      "22/10/16 22:08:36 WARN MemoryStore: Not enough space to cache rdd_417_8 in memory! (computed 3.6 MiB so far)\n",
      "22/10/16 22:08:36 WARN MemoryStore: Not enough space to cache rdd_417_8 in memory! (computed 1050.0 KiB so far)\n"
     ]
    },
    {
     "name": "stderr",
     "output_type": "stream",
     "text": [
      "[Stage 250:>                                                        (0 + 8) / 9]\r"
     ]
    },
    {
     "name": "stdout",
     "output_type": "stream",
     "text": [
      "22/10/16 22:08:44 WARN MemoryStore: Not enough space to cache rdd_417_2 in memory! (computed 234.1 MiB so far)\n",
      "22/10/16 22:08:44 WARN MemoryStore: Not enough space to cache rdd_417_0 in memory! (computed 234.1 MiB so far)\n",
      "22/10/16 22:08:44 WARN MemoryStore: Not enough space to cache rdd_417_4 in memory! (computed 234.1 MiB so far)\n",
      "22/10/16 22:08:44 WARN MemoryStore: Not enough space to cache rdd_417_6 in memory! (computed 234.1 MiB so far)\n",
      "22/10/16 22:08:44 WARN MemoryStore: Not enough space to cache rdd_417_5 in memory! (computed 234.1 MiB so far)\n",
      "22/10/16 22:08:44 WARN MemoryStore: Not enough space to cache rdd_417_1 in memory! (computed 234.1 MiB so far)\n",
      "22/10/16 22:08:44 WARN MemoryStore: Not enough space to cache rdd_417_7 in memory! (computed 234.1 MiB so far)\n",
      "22/10/16 22:08:44 WARN MemoryStore: Not enough space to cache rdd_572_2 in memory! (computed 1537.3 KiB so far)\n",
      "22/10/16 22:08:44 WARN MemoryStore: Not enough space to cache rdd_572_5 in memory! (computed 1537.3 KiB so far)\n",
      "22/10/16 22:08:44 WARN MemoryStore: Not enough space to cache rdd_572_4 in memory! (computed 2.7 MiB so far)\n"
     ]
    },
    {
     "name": "stderr",
     "output_type": "stream",
     "text": [
      "                                                                                \r"
     ]
    },
    {
     "name": "stdout",
     "output_type": "stream",
     "text": [
      "22/10/16 22:08:49 WARN MemoryStore: Not enough space to cache rdd_417_6 in memory! (computed 153.3 MiB so far)\n",
      "22/10/16 22:08:49 WARN MemoryStore: Not enough space to cache rdd_417_1 in memory! (computed 98.8 MiB so far)\n",
      "22/10/16 22:08:49 WARN MemoryStore: Not enough space to cache rdd_417_7 in memory! (computed 98.8 MiB so far)\n",
      "22/10/16 22:08:49 WARN MemoryStore: Not enough space to cache rdd_417_4 in memory! (computed 153.3 MiB so far)\n",
      "22/10/16 22:08:49 WARN MemoryStore: Not enough space to cache rdd_417_5 in memory! (computed 98.8 MiB so far)\n",
      "22/10/16 22:08:49 WARN MemoryStore: Not enough space to cache rdd_417_2 in memory! (computed 153.3 MiB so far)\n"
     ]
    },
    {
     "name": "stderr",
     "output_type": "stream",
     "text": [
      "[Stage 253:============>                                            (2 + 7) / 9]\r"
     ]
    },
    {
     "name": "stdout",
     "output_type": "stream",
     "text": [
      "22/10/16 22:08:51 WARN MemoryStore: Not enough space to cache rdd_417_0 in memory! (computed 791.9 MiB so far)\n"
     ]
    },
    {
     "name": "stderr",
     "output_type": "stream",
     "text": [
      "[Stage 256:>                                                        (0 + 8) / 9]\r"
     ]
    },
    {
     "name": "stdout",
     "output_type": "stream",
     "text": [
      "22/10/16 22:08:54 WARN MemoryStore: Not enough space to cache rdd_417_4 in memory! (computed 153.3 MiB so far)\n",
      "22/10/16 22:08:54 WARN MemoryStore: Not enough space to cache rdd_417_6 in memory! (computed 153.3 MiB so far)\n",
      "22/10/16 22:08:54 WARN MemoryStore: Not enough space to cache rdd_417_7 in memory! (computed 153.3 MiB so far)\n",
      "22/10/16 22:08:54 WARN MemoryStore: Not enough space to cache rdd_417_5 in memory! (computed 98.8 MiB so far)\n",
      "22/10/16 22:08:54 WARN MemoryStore: Not enough space to cache rdd_417_2 in memory! (computed 98.8 MiB so far)\n",
      "22/10/16 22:08:54 WARN MemoryStore: Not enough space to cache rdd_417_0 in memory! (computed 98.8 MiB so far)\n"
     ]
    },
    {
     "name": "stderr",
     "output_type": "stream",
     "text": [
      "[Stage 256:============>                                            (2 + 7) / 9]\r"
     ]
    },
    {
     "name": "stdout",
     "output_type": "stream",
     "text": [
      "22/10/16 22:08:57 WARN MemoryStore: Not enough space to cache rdd_417_1 in memory! (computed 791.9 MiB so far)\n"
     ]
    },
    {
     "name": "stderr",
     "output_type": "stream",
     "text": [
      "                                                                                \r"
     ]
    },
    {
     "name": "stdout",
     "output_type": "stream",
     "text": [
      "22/10/16 22:08:59 WARN MemoryStore: Not enough space to cache rdd_417_2 in memory! (computed 153.3 MiB so far)\n",
      "22/10/16 22:08:59 WARN MemoryStore: Not enough space to cache rdd_417_7 in memory! (computed 153.3 MiB so far)\n",
      "22/10/16 22:08:59 WARN MemoryStore: Not enough space to cache rdd_417_1 in memory! (computed 153.3 MiB so far)\n",
      "22/10/16 22:08:59 WARN MemoryStore: Not enough space to cache rdd_417_5 in memory! (computed 98.8 MiB so far)\n",
      "22/10/16 22:08:59 WARN MemoryStore: Not enough space to cache rdd_417_4 in memory! (computed 98.8 MiB so far)\n",
      "22/10/16 22:08:59 WARN MemoryStore: Not enough space to cache rdd_417_0 in memory! (computed 98.8 MiB so far)\n"
     ]
    },
    {
     "name": "stderr",
     "output_type": "stream",
     "text": [
      "[Stage 259:============>                                            (2 + 7) / 9]\r"
     ]
    },
    {
     "name": "stdout",
     "output_type": "stream",
     "text": [
      "22/10/16 22:09:02 WARN MemoryStore: Not enough space to cache rdd_417_6 in memory! (computed 791.9 MiB so far)\n"
     ]
    },
    {
     "name": "stderr",
     "output_type": "stream",
     "text": [
      "                                                                                \r"
     ]
    },
    {
     "name": "stdout",
     "output_type": "stream",
     "text": [
      "22/10/16 22:09:05 WARN MemoryStore: Not enough space to cache rdd_417_2 in memory! (computed 98.8 MiB so far)\n",
      "22/10/16 22:09:05 WARN MemoryStore: Not enough space to cache rdd_417_7 in memory! (computed 98.8 MiB so far)\n",
      "22/10/16 22:09:05 WARN MemoryStore: Not enough space to cache rdd_417_1 in memory! (computed 98.8 MiB so far)\n",
      "22/10/16 22:09:05 WARN MemoryStore: Not enough space to cache rdd_417_2 in memory! (computed 12.5 MiB so far)\n",
      "22/10/16 22:09:05 WARN MemoryStore: Not enough space to cache rdd_417_7 in memory! (computed 5.4 MiB so far)\n",
      "22/10/16 22:09:05 WARN MemoryStore: Not enough space to cache rdd_417_1 in memory! (computed 5.4 MiB so far)\n",
      "22/10/16 22:09:05 WARN MemoryStore: Not enough space to cache rdd_417_2 in memory! (computed 2.4 MiB so far)\n"
     ]
    },
    {
     "name": "stderr",
     "output_type": "stream",
     "text": [
      "[Stage 262:>                                                        (0 + 8) / 9]\r"
     ]
    },
    {
     "name": "stdout",
     "output_type": "stream",
     "text": [
      "22/10/16 22:09:06 WARN MemoryStore: Not enough space to cache rdd_417_0 in memory! (computed 153.3 MiB so far)\n",
      "22/10/16 22:09:06 WARN MemoryStore: Not enough space to cache rdd_417_5 in memory! (computed 153.3 MiB so far)\n",
      "22/10/16 22:09:06 WARN MemoryStore: Not enough space to cache rdd_417_7 in memory! (computed 12.5 MiB so far)\n",
      "22/10/16 22:09:06 WARN MemoryStore: Not enough space to cache rdd_417_0 in memory! (computed 5.4 MiB so far)\n",
      "22/10/16 22:09:06 WARN MemoryStore: Not enough space to cache rdd_417_1 in memory! (computed 19.0 MiB so far)\n",
      "22/10/16 22:09:06 WARN MemoryStore: Not enough space to cache rdd_569_2 in memory! (computed 2.4 MiB so far)\n",
      "22/10/16 22:09:06 WARN MemoryStore: Failed to reserve initial memory threshold of 1024.0 KiB for computing block rdd_591_2 in memory.\n",
      "22/10/16 22:09:06 WARN MemoryStore: Not enough space to cache rdd_591_2 in memory! (computed 384.0 B so far)\n",
      "22/10/16 22:09:06 WARN BlockManager: Persisting block rdd_591_2 to disk instead.\n",
      "22/10/16 22:09:06 WARN MemoryStore: Not enough space to cache rdd_417_5 in memory! (computed 5.4 MiB so far)\n",
      "22/10/16 22:09:06 WARN MemoryStore: Not enough space to cache rdd_417_5 in memory! (computed 1050.0 KiB so far)\n",
      "22/10/16 22:09:06 WARN MemoryStore: Failed to reserve initial memory threshold of 1024.0 KiB for computing block rdd_569_5 in memory.\n",
      "22/10/16 22:09:06 WARN MemoryStore: Not enough space to cache rdd_569_5 in memory! (computed 384.0 B so far)\n",
      "22/10/16 22:09:06 WARN MemoryStore: Failed to reserve initial memory threshold of 1024.0 KiB for computing block rdd_591_5 in memory.\n",
      "22/10/16 22:09:06 WARN MemoryStore: Not enough space to cache rdd_591_5 in memory! (computed 384.0 B so far)\n",
      "22/10/16 22:09:06 WARN BlockManager: Persisting block rdd_591_5 to disk instead.\n",
      "22/10/16 22:09:06 WARN MemoryStore: Not enough space to cache rdd_417_0 in memory! (computed 3.6 MiB so far)\n",
      "22/10/16 22:09:06 WARN MemoryStore: Failed to reserve initial memory threshold of 1024.0 KiB for computing block rdd_569_0 in memory.\n",
      "22/10/16 22:09:06 WARN MemoryStore: Not enough space to cache rdd_569_0 in memory! (computed 384.0 B so far)\n",
      "22/10/16 22:09:06 WARN MemoryStore: Failed to reserve initial memory threshold of 1024.0 KiB for computing block rdd_591_0 in memory.\n",
      "22/10/16 22:09:06 WARN MemoryStore: Not enough space to cache rdd_591_0 in memory! (computed 384.0 B so far)\n",
      "22/10/16 22:09:06 WARN BlockManager: Persisting block rdd_591_0 to disk instead.\n",
      "22/10/16 22:09:06 WARN MemoryStore: Not enough space to cache rdd_591_3 in memory! (computed 8.2 MiB so far)\n",
      "22/10/16 22:09:06 WARN BlockManager: Persisting block rdd_591_3 to disk instead.\n",
      "22/10/16 22:09:06 WARN MemoryStore: Not enough space to cache rdd_569_7 in memory! (computed 2.4 MiB so far)\n",
      "22/10/16 22:09:06 WARN MemoryStore: Failed to reserve initial memory threshold of 1024.0 KiB for computing block rdd_591_7 in memory.\n",
      "22/10/16 22:09:06 WARN MemoryStore: Not enough space to cache rdd_591_7 in memory! (computed 384.0 B so far)\n",
      "22/10/16 22:09:06 WARN BlockManager: Persisting block rdd_591_7 to disk instead.\n",
      "22/10/16 22:09:06 WARN MemoryStore: Not enough space to cache rdd_569_1 in memory! (computed 13.0 MiB so far)\n",
      "22/10/16 22:09:06 WARN MemoryStore: Not enough space to cache rdd_417_6 in memory! (computed 234.1 MiB so far)\n",
      "22/10/16 22:09:06 WARN MemoryStore: Not enough space to cache rdd_417_4 in memory! (computed 234.1 MiB so far)\n",
      "22/10/16 22:09:06 WARN MemoryStore: Not enough space to cache rdd_417_6 in memory! (computed 12.5 MiB so far)\n",
      "22/10/16 22:09:06 WARN MemoryStore: Not enough space to cache rdd_591_3 in memory! (computed 8.2 MiB so far)\n",
      "22/10/16 22:09:06 WARN MemoryStore: Not enough space to cache rdd_417_4 in memory! (computed 12.5 MiB so far)\n",
      "22/10/16 22:09:06 WARN MemoryStore: Failed to reserve initial memory threshold of 1024.0 KiB for computing block rdd_417_4 in memory.\n",
      "22/10/16 22:09:06 WARN MemoryStore: Not enough space to cache rdd_417_4 in memory! (computed 384.0 B so far)\n",
      "22/10/16 22:09:06 WARN MemoryStore: Failed to reserve initial memory threshold of 1024.0 KiB for computing block rdd_569_4 in memory.\n",
      "22/10/16 22:09:06 WARN MemoryStore: Not enough space to cache rdd_569_4 in memory! (computed 384.0 B so far)\n",
      "22/10/16 22:09:06 WARN MemoryStore: Failed to reserve initial memory threshold of 1024.0 KiB for computing block rdd_591_4 in memory.\n",
      "22/10/16 22:09:06 WARN MemoryStore: Not enough space to cache rdd_591_4 in memory! (computed 384.0 B so far)\n",
      "22/10/16 22:09:06 WARN BlockManager: Persisting block rdd_591_4 to disk instead.\n",
      "22/10/16 22:09:06 WARN MemoryStore: Not enough space to cache rdd_417_6 in memory! (computed 3.6 MiB so far)\n",
      "22/10/16 22:09:06 WARN MemoryStore: Failed to reserve initial memory threshold of 1024.0 KiB for computing block rdd_569_6 in memory.\n",
      "22/10/16 22:09:06 WARN MemoryStore: Not enough space to cache rdd_569_6 in memory! (computed 384.0 B so far)\n",
      "22/10/16 22:09:06 WARN MemoryStore: Failed to reserve initial memory threshold of 1024.0 KiB for computing block rdd_591_6 in memory.\n",
      "22/10/16 22:09:06 WARN MemoryStore: Not enough space to cache rdd_591_6 in memory! (computed 384.0 B so far)\n",
      "22/10/16 22:09:06 WARN BlockManager: Persisting block rdd_591_6 to disk instead.\n",
      "22/10/16 22:09:06 WARN MemoryStore: Not enough space to cache rdd_594_3 in memory! (computed 4.0 MiB so far)\n",
      "22/10/16 22:09:06 WARN BlockManager: Persisting block rdd_594_3 to disk instead.\n"
     ]
    },
    {
     "name": "stderr",
     "output_type": "stream",
     "text": [
      "[Stage 262:======>                                                  (1 + 8) / 9]\r"
     ]
    },
    {
     "name": "stdout",
     "output_type": "stream",
     "text": [
      "22/10/16 22:09:08 WARN MemoryStore: Not enough space to cache rdd_417_8 in memory! (computed 8.2 MiB so far)\n",
      "22/10/16 22:09:08 WARN MemoryStore: Not enough space to cache rdd_417_8 in memory! (computed 2.4 MiB so far)\n",
      "22/10/16 22:09:08 WARN MemoryStore: Failed to reserve initial memory threshold of 1024.0 KiB for computing block rdd_417_8 in memory.\n",
      "22/10/16 22:09:08 WARN MemoryStore: Not enough space to cache rdd_417_8 in memory! (computed 384.0 B so far)\n"
     ]
    },
    {
     "name": "stderr",
     "output_type": "stream",
     "text": [
      "[Stage 265:>                                                        (0 + 8) / 9]\r"
     ]
    },
    {
     "name": "stdout",
     "output_type": "stream",
     "text": [
      "22/10/16 22:09:18 WARN MemoryStore: Not enough space to cache rdd_417_6 in memory! (computed 234.1 MiB so far)\n",
      "22/10/16 22:09:18 WARN MemoryStore: Not enough space to cache rdd_417_3 in memory! (computed 234.1 MiB so far)\n",
      "22/10/16 22:09:18 WARN MemoryStore: Not enough space to cache rdd_417_4 in memory! (computed 234.1 MiB so far)\n",
      "22/10/16 22:09:18 WARN MemoryStore: Not enough space to cache rdd_417_5 in memory! (computed 234.1 MiB so far)\n",
      "22/10/16 22:09:18 WARN MemoryStore: Not enough space to cache rdd_417_1 in memory! (computed 234.1 MiB so far)\n",
      "22/10/16 22:09:18 WARN MemoryStore: Not enough space to cache rdd_417_2 in memory! (computed 234.1 MiB so far)\n",
      "22/10/16 22:09:18 WARN MemoryStore: Not enough space to cache rdd_417_0 in memory! (computed 234.1 MiB so far)\n",
      "22/10/16 22:09:18 WARN MemoryStore: Not enough space to cache rdd_594_5 in memory! (computed 1024.6 KiB so far)\n",
      "22/10/16 22:09:18 WARN MemoryStore: Not enough space to cache rdd_594_1 in memory! (computed 1537.3 KiB so far)\n",
      "22/10/16 22:09:18 WARN MemoryStore: Not enough space to cache rdd_594_2 in memory! (computed 1537.3 KiB so far)\n",
      "22/10/16 22:09:18 WARN MemoryStore: Not enough space to cache rdd_594_3 in memory! (computed 1024.6 KiB so far)\n",
      "22/10/16 22:09:18 WARN MemoryStore: Not enough space to cache rdd_417_7 in memory! (computed 351.3 MiB so far)\n"
     ]
    },
    {
     "name": "stderr",
     "output_type": "stream",
     "text": [
      "[Stage 268:>                                                        (0 + 8) / 9]\r"
     ]
    },
    {
     "name": "stdout",
     "output_type": "stream",
     "text": [
      "22/10/16 22:09:23 WARN MemoryStore: Not enough space to cache rdd_417_3 in memory! (computed 234.1 MiB so far)\n",
      "22/10/16 22:09:23 WARN MemoryStore: Not enough space to cache rdd_417_4 in memory! (computed 234.1 MiB so far)\n",
      "22/10/16 22:09:23 WARN MemoryStore: Not enough space to cache rdd_417_5 in memory! (computed 234.1 MiB so far)\n",
      "22/10/16 22:09:23 WARN MemoryStore: Not enough space to cache rdd_417_1 in memory! (computed 153.3 MiB so far)\n",
      "22/10/16 22:09:23 WARN MemoryStore: Not enough space to cache rdd_417_7 in memory! (computed 234.1 MiB so far)\n",
      "22/10/16 22:09:23 WARN MemoryStore: Not enough space to cache rdd_417_2 in memory! (computed 234.1 MiB so far)\n",
      "22/10/16 22:09:23 WARN MemoryStore: Not enough space to cache rdd_417_0 in memory! (computed 234.1 MiB so far)\n"
     ]
    },
    {
     "name": "stderr",
     "output_type": "stream",
     "text": [
      "                                                                                \r"
     ]
    },
    {
     "name": "stdout",
     "output_type": "stream",
     "text": [
      "22/10/16 22:09:28 WARN MemoryStore: Not enough space to cache rdd_417_3 in memory! (computed 98.8 MiB so far)\n",
      "22/10/16 22:09:28 WARN MemoryStore: Not enough space to cache rdd_417_5 in memory! (computed 98.8 MiB so far)\n",
      "22/10/16 22:09:28 WARN MemoryStore: Not enough space to cache rdd_417_7 in memory! (computed 98.8 MiB so far)\n"
     ]
    },
    {
     "name": "stderr",
     "output_type": "stream",
     "text": [
      "[Stage 271:>                                                        (0 + 8) / 9]\r"
     ]
    },
    {
     "name": "stdout",
     "output_type": "stream",
     "text": [
      "22/10/16 22:09:29 WARN MemoryStore: Not enough space to cache rdd_417_4 in memory! (computed 65.3 MiB so far)\n",
      "22/10/16 22:09:29 WARN MemoryStore: Not enough space to cache rdd_417_2 in memory! (computed 65.3 MiB so far)\n",
      "22/10/16 22:09:29 WARN MemoryStore: Not enough space to cache rdd_417_1 in memory! (computed 98.8 MiB so far)\n"
     ]
    },
    {
     "name": "stderr",
     "output_type": "stream",
     "text": [
      "[Stage 271:======>                                                  (1 + 8) / 9]\r"
     ]
    },
    {
     "name": "stdout",
     "output_type": "stream",
     "text": [
      "22/10/16 22:09:31 WARN MemoryStore: Not enough space to cache rdd_417_0 in memory! (computed 527.0 MiB so far)\n"
     ]
    },
    {
     "name": "stderr",
     "output_type": "stream",
     "text": [
      "                                                                                \r"
     ]
    },
    {
     "name": "stdout",
     "output_type": "stream",
     "text": [
      "22/10/16 22:09:35 WARN MemoryStore: Not enough space to cache rdd_417_1 in memory! (computed 98.8 MiB so far)\n",
      "22/10/16 22:09:35 WARN MemoryStore: Not enough space to cache rdd_417_5 in memory! (computed 98.8 MiB so far)\n",
      "22/10/16 22:09:35 WARN MemoryStore: Not enough space to cache rdd_417_7 in memory! (computed 65.3 MiB so far)\n",
      "22/10/16 22:09:35 WARN MemoryStore: Not enough space to cache rdd_417_0 in memory! (computed 65.3 MiB so far)\n",
      "22/10/16 22:09:35 WARN MemoryStore: Not enough space to cache rdd_417_4 in memory! (computed 98.8 MiB so far)\n"
     ]
    },
    {
     "name": "stderr",
     "output_type": "stream",
     "text": [
      "[Stage 274:>                                                        (0 + 8) / 9]\r"
     ]
    },
    {
     "name": "stdout",
     "output_type": "stream",
     "text": [
      "22/10/16 22:09:35 WARN MemoryStore: Not enough space to cache rdd_417_2 in memory! (computed 153.3 MiB so far)\n",
      "22/10/16 22:09:35 WARN MemoryStore: Not enough space to cache rdd_417_3 in memory! (computed 153.3 MiB so far)\n"
     ]
    },
    {
     "name": "stderr",
     "output_type": "stream",
     "text": [
      "[Stage 277:>                                                        (0 + 8) / 9]\r"
     ]
    },
    {
     "name": "stdout",
     "output_type": "stream",
     "text": [
      "22/10/16 22:09:40 WARN MemoryStore: Not enough space to cache rdd_417_0 in memory! (computed 65.3 MiB so far)\n",
      "22/10/16 22:09:40 WARN MemoryStore: Not enough space to cache rdd_417_7 in memory! (computed 65.3 MiB so far)\n",
      "22/10/16 22:09:40 WARN MemoryStore: Not enough space to cache rdd_417_7 in memory! (computed 1050.0 KiB so far)\n",
      "22/10/16 22:09:40 WARN MemoryStore: Failed to reserve initial memory threshold of 1024.0 KiB for computing block rdd_417_7 in memory.\n",
      "22/10/16 22:09:40 WARN MemoryStore: Not enough space to cache rdd_417_7 in memory! (computed 384.0 B so far)\n",
      "22/10/16 22:09:40 WARN MemoryStore: Not enough space to cache rdd_417_4 in memory! (computed 98.8 MiB so far)\n",
      "22/10/16 22:09:40 WARN MemoryStore: Not enough space to cache rdd_417_1 in memory! (computed 98.8 MiB so far)\n",
      "22/10/16 22:09:40 WARN MemoryStore: Not enough space to cache rdd_417_4 in memory! (computed 8.2 MiB so far)\n",
      "22/10/16 22:09:40 WARN MemoryStore: Not enough space to cache rdd_417_1 in memory! (computed 5.4 MiB so far)\n",
      "22/10/16 22:09:40 WARN MemoryStore: Failed to reserve initial memory threshold of 1024.0 KiB for computing block rdd_417_1 in memory.\n",
      "22/10/16 22:09:40 WARN MemoryStore: Not enough space to cache rdd_417_1 in memory! (computed 384.0 B so far)\n",
      "22/10/16 22:09:40 WARN MemoryStore: Failed to reserve initial memory threshold of 1024.0 KiB for computing block rdd_591_1 in memory.\n",
      "22/10/16 22:09:40 WARN MemoryStore: Not enough space to cache rdd_591_1 in memory! (computed 384.0 B so far)\n",
      "22/10/16 22:09:40 WARN MemoryStore: Failed to reserve initial memory threshold of 1024.0 KiB for computing block rdd_613_1 in memory.\n",
      "22/10/16 22:09:40 WARN MemoryStore: Not enough space to cache rdd_613_1 in memory! (computed 384.0 B so far)\n",
      "22/10/16 22:09:40 WARN MemoryStore: Failed to reserve initial memory threshold of 1024.0 KiB for computing block rdd_417_4 in memory.\n",
      "22/10/16 22:09:40 WARN MemoryStore: Not enough space to cache rdd_417_4 in memory! (computed 384.0 B so far)\n",
      "22/10/16 22:09:40 WARN MemoryStore: Failed to reserve initial memory threshold of 1024.0 KiB for computing block rdd_591_4 in memory.\n",
      "22/10/16 22:09:40 WARN MemoryStore: Not enough space to cache rdd_591_4 in memory! (computed 384.0 B so far)\n",
      "22/10/16 22:09:40 WARN MemoryStore: Failed to reserve initial memory threshold of 1024.0 KiB for computing block rdd_613_4 in memory.\n",
      "22/10/16 22:09:40 WARN MemoryStore: Not enough space to cache rdd_613_4 in memory! (computed 384.0 B so far)\n",
      "22/10/16 22:09:40 WARN BlockManager: Persisting block rdd_613_4 to disk instead.\n",
      "22/10/16 22:09:40 WARN MemoryStore: Not enough space to cache rdd_591_7 in memory! (computed 5.5 MiB so far)\n",
      "22/10/16 22:09:40 WARN MemoryStore: Failed to reserve initial memory threshold of 1024.0 KiB for computing block rdd_613_7 in memory.\n",
      "22/10/16 22:09:40 WARN MemoryStore: Not enough space to cache rdd_613_7 in memory! (computed 384.0 B so far)\n",
      "22/10/16 22:09:40 WARN BlockManager: Persisting block rdd_613_7 to disk instead.\n",
      "22/10/16 22:09:40 WARN BlockManager: Persisting block rdd_613_1 to disk instead.\n",
      "22/10/16 22:09:40 WARN MemoryStore: Not enough space to cache rdd_417_0 in memory! (computed 43.5 MiB so far)\n",
      "22/10/16 22:09:40 WARN MemoryStore: Not enough space to cache rdd_613_6 in memory! (computed 5.5 MiB so far)\n",
      "22/10/16 22:09:40 WARN BlockManager: Persisting block rdd_613_6 to disk instead.\n",
      "22/10/16 22:09:40 WARN MemoryStore: Failed to reserve initial memory threshold of 1024.0 KiB for computing block rdd_417_0 in memory.\n",
      "22/10/16 22:09:40 WARN MemoryStore: Not enough space to cache rdd_417_0 in memory! (computed 384.0 B so far)\n",
      "22/10/16 22:09:40 WARN MemoryStore: Failed to reserve initial memory threshold of 1024.0 KiB for computing block rdd_591_0 in memory.\n",
      "22/10/16 22:09:40 WARN MemoryStore: Not enough space to cache rdd_591_0 in memory! (computed 384.0 B so far)\n",
      "22/10/16 22:09:40 WARN MemoryStore: Failed to reserve initial memory threshold of 1024.0 KiB for computing block rdd_613_0 in memory.\n",
      "22/10/16 22:09:40 WARN MemoryStore: Not enough space to cache rdd_613_0 in memory! (computed 384.0 B so far)\n",
      "22/10/16 22:09:40 WARN BlockManager: Persisting block rdd_613_0 to disk instead.\n",
      "22/10/16 22:09:40 WARN MemoryStore: Not enough space to cache rdd_417_5 in memory! (computed 153.3 MiB so far)\n",
      "22/10/16 22:09:40 WARN MemoryStore: Not enough space to cache rdd_417_2 in memory! (computed 153.3 MiB so far)\n",
      "22/10/16 22:09:40 WARN MemoryStore: Failed to reserve initial memory threshold of 1024.0 KiB for computing block rdd_417_2 in memory.\n",
      "22/10/16 22:09:40 WARN MemoryStore: Failed to reserve initial memory threshold of 1024.0 KiB for computing block rdd_417_5 in memory.\n",
      "22/10/16 22:09:40 WARN MemoryStore: Not enough space to cache rdd_417_5 in memory! (computed 384.0 B so far)\n",
      "22/10/16 22:09:40 WARN MemoryStore: Not enough space to cache rdd_417_2 in memory! (computed 384.0 B so far)\n",
      "22/10/16 22:09:40 WARN MemoryStore: Failed to reserve initial memory threshold of 1024.0 KiB for computing block rdd_417_5 in memory.\n",
      "22/10/16 22:09:40 WARN MemoryStore: Not enough space to cache rdd_417_5 in memory! (computed 384.0 B so far)\n",
      "22/10/16 22:09:40 WARN MemoryStore: Failed to reserve initial memory threshold of 1024.0 KiB for computing block rdd_417_2 in memory.\n",
      "22/10/16 22:09:40 WARN MemoryStore: Not enough space to cache rdd_417_2 in memory! (computed 384.0 B so far)\n",
      "22/10/16 22:09:40 WARN MemoryStore: Failed to reserve initial memory threshold of 1024.0 KiB for computing block rdd_591_5 in memory.\n",
      "22/10/16 22:09:40 WARN MemoryStore: Not enough space to cache rdd_591_5 in memory! (computed 384.0 B so far)\n",
      "22/10/16 22:09:40 WARN MemoryStore: Failed to reserve initial memory threshold of 1024.0 KiB for computing block rdd_613_5 in memory.\n",
      "22/10/16 22:09:40 WARN MemoryStore: Not enough space to cache rdd_613_5 in memory! (computed 384.0 B so far)\n",
      "22/10/16 22:09:40 WARN BlockManager: Persisting block rdd_613_5 to disk instead.\n",
      "22/10/16 22:09:40 WARN MemoryStore: Failed to reserve initial memory threshold of 1024.0 KiB for computing block rdd_591_2 in memory.\n",
      "22/10/16 22:09:40 WARN MemoryStore: Not enough space to cache rdd_591_2 in memory! (computed 384.0 B so far)\n",
      "22/10/16 22:09:40 WARN MemoryStore: Failed to reserve initial memory threshold of 1024.0 KiB for computing block rdd_613_2 in memory.\n",
      "22/10/16 22:09:40 WARN MemoryStore: Not enough space to cache rdd_613_2 in memory! (computed 384.0 B so far)\n",
      "22/10/16 22:09:40 WARN BlockManager: Persisting block rdd_613_2 to disk instead.\n",
      "22/10/16 22:09:40 WARN MemoryStore: Not enough space to cache rdd_417_3 in memory! (computed 153.3 MiB so far)\n",
      "22/10/16 22:09:40 WARN MemoryStore: Failed to reserve initial memory threshold of 1024.0 KiB for computing block rdd_417_3 in memory.\n",
      "22/10/16 22:09:40 WARN MemoryStore: Not enough space to cache rdd_417_3 in memory! (computed 384.0 B so far)\n",
      "22/10/16 22:09:40 WARN MemoryStore: Failed to reserve initial memory threshold of 1024.0 KiB for computing block rdd_417_3 in memory.\n",
      "22/10/16 22:09:40 WARN MemoryStore: Not enough space to cache rdd_417_3 in memory! (computed 384.0 B so far)\n",
      "22/10/16 22:09:40 WARN MemoryStore: Failed to reserve initial memory threshold of 1024.0 KiB for computing block rdd_591_3 in memory.\n",
      "22/10/16 22:09:40 WARN MemoryStore: Not enough space to cache rdd_591_3 in memory! (computed 384.0 B so far)\n",
      "22/10/16 22:09:40 WARN MemoryStore: Failed to reserve initial memory threshold of 1024.0 KiB for computing block rdd_613_3 in memory.\n",
      "22/10/16 22:09:40 WARN MemoryStore: Not enough space to cache rdd_613_3 in memory! (computed 384.0 B so far)\n",
      "22/10/16 22:09:40 WARN BlockManager: Persisting block rdd_613_3 to disk instead.\n",
      "22/10/16 22:09:41 WARN MemoryStore: Not enough space to cache rdd_613_6 in memory! (computed 13.0 MiB so far)\n",
      "22/10/16 22:09:41 WARN MemoryStore: Not enough space to cache rdd_616_6 in memory! (computed 4.0 MiB so far)\n",
      "22/10/16 22:09:41 WARN BlockManager: Persisting block rdd_616_6 to disk instead.\n"
     ]
    },
    {
     "name": "stderr",
     "output_type": "stream",
     "text": [
      "[Stage 277:======>                                                  (1 + 8) / 9]\r"
     ]
    },
    {
     "name": "stdout",
     "output_type": "stream",
     "text": [
      "22/10/16 22:09:43 WARN MemoryStore: Not enough space to cache rdd_417_8 in memory! (computed 19.0 MiB so far)\n",
      "22/10/16 22:09:43 WARN MemoryStore: Not enough space to cache rdd_417_8 in memory! (computed 3.6 MiB so far)\n",
      "22/10/16 22:09:43 WARN MemoryStore: Failed to reserve initial memory threshold of 1024.0 KiB for computing block rdd_417_8 in memory.\n",
      "22/10/16 22:09:43 WARN MemoryStore: Not enough space to cache rdd_417_8 in memory! (computed 384.0 B so far)\n"
     ]
    },
    {
     "name": "stderr",
     "output_type": "stream",
     "text": [
      "[Stage 280:>                                                        (0 + 8) / 9]\r"
     ]
    },
    {
     "name": "stdout",
     "output_type": "stream",
     "text": [
      "22/10/16 22:09:52 WARN MemoryStore: Not enough space to cache rdd_417_1 in memory! (computed 234.1 MiB so far)\n",
      "22/10/16 22:09:52 WARN MemoryStore: Not enough space to cache rdd_417_0 in memory! (computed 234.1 MiB so far)\n",
      "22/10/16 22:09:52 WARN MemoryStore: Not enough space to cache rdd_417_6 in memory! (computed 234.1 MiB so far)\n",
      "22/10/16 22:09:52 WARN MemoryStore: Not enough space to cache rdd_417_4 in memory! (computed 234.1 MiB so far)\n",
      "22/10/16 22:09:52 WARN MemoryStore: Not enough space to cache rdd_417_5 in memory! (computed 234.1 MiB so far)\n",
      "22/10/16 22:09:52 WARN MemoryStore: Not enough space to cache rdd_417_2 in memory! (computed 234.1 MiB so far)\n",
      "22/10/16 22:09:52 WARN MemoryStore: Not enough space to cache rdd_417_7 in memory! (computed 234.1 MiB so far)\n",
      "22/10/16 22:09:52 WARN MemoryStore: Not enough space to cache rdd_616_6 in memory! (computed 2.7 MiB so far)\n",
      "22/10/16 22:09:52 WARN MemoryStore: Not enough space to cache rdd_616_5 in memory! (computed 1537.3 KiB so far)\n",
      "22/10/16 22:09:52 WARN MemoryStore: Not enough space to cache rdd_616_2 in memory! (computed 1537.3 KiB so far)\n",
      "22/10/16 22:09:52 WARN MemoryStore: Not enough space to cache rdd_417_3 in memory! (computed 351.3 MiB so far)\n",
      "22/10/16 22:09:52 WARN MemoryStore: Failed to reserve initial memory threshold of 1024.0 KiB for computing block rdd_616_3 in memory.\n",
      "22/10/16 22:09:52 WARN MemoryStore: Not enough space to cache rdd_616_3 in memory! (computed 384.0 B so far)\n"
     ]
    },
    {
     "name": "stderr",
     "output_type": "stream",
     "text": [
      "[Stage 283:>                                                        (0 + 8) / 9]\r"
     ]
    },
    {
     "name": "stdout",
     "output_type": "stream",
     "text": [
      "22/10/16 22:09:57 WARN MemoryStore: Not enough space to cache rdd_417_3 in memory! (computed 153.3 MiB so far)\n",
      "22/10/16 22:09:57 WARN MemoryStore: Not enough space to cache rdd_417_6 in memory! (computed 351.3 MiB so far)\n",
      "22/10/16 22:09:57 WARN MemoryStore: Not enough space to cache rdd_417_1 in memory! (computed 234.1 MiB so far)\n",
      "22/10/16 22:09:57 WARN MemoryStore: Not enough space to cache rdd_417_0 in memory! (computed 234.1 MiB so far)\n",
      "22/10/16 22:09:57 WARN MemoryStore: Not enough space to cache rdd_417_4 in memory! (computed 234.1 MiB so far)\n",
      "22/10/16 22:09:57 WARN MemoryStore: Not enough space to cache rdd_417_5 in memory! (computed 234.1 MiB so far)\n",
      "22/10/16 22:09:57 WARN MemoryStore: Not enough space to cache rdd_417_2 in memory! (computed 234.1 MiB so far)\n",
      "22/10/16 22:09:57 WARN MemoryStore: Failed to reserve initial memory threshold of 1024.0 KiB for computing block rdd_616_2 in memory.\n",
      "22/10/16 22:09:57 WARN MemoryStore: Not enough space to cache rdd_616_2 in memory! (computed 384.0 B so far)\n",
      "22/10/16 22:09:57 WARN MemoryStore: Failed to reserve initial memory threshold of 1024.0 KiB for computing block rdd_616_5 in memory.\n",
      "22/10/16 22:09:57 WARN MemoryStore: Failed to reserve initial memory threshold of 1024.0 KiB for computing block rdd_616_0 in memory.\n",
      "22/10/16 22:09:57 WARN MemoryStore: Not enough space to cache rdd_616_0 in memory! (computed 384.0 B so far)\n",
      "22/10/16 22:09:57 WARN MemoryStore: Not enough space to cache rdd_616_5 in memory! (computed 384.0 B so far)\n",
      "22/10/16 22:09:57 WARN MemoryStore: Failed to reserve initial memory threshold of 1024.0 KiB for computing block rdd_616_4 in memory.\n",
      "22/10/16 22:09:57 WARN MemoryStore: Not enough space to cache rdd_616_4 in memory! (computed 384.0 B so far)\n",
      "22/10/16 22:09:57 WARN MemoryStore: Failed to reserve initial memory threshold of 1024.0 KiB for computing block rdd_616_1 in memory.\n",
      "22/10/16 22:09:57 WARN MemoryStore: Failed to reserve initial memory threshold of 1024.0 KiB for computing block rdd_616_6 in memory.\n",
      "22/10/16 22:09:57 WARN MemoryStore: Not enough space to cache rdd_616_1 in memory! (computed 384.0 B so far)\n",
      "22/10/16 22:09:57 WARN MemoryStore: Not enough space to cache rdd_616_6 in memory! (computed 384.0 B so far)\n",
      "22/10/16 22:09:57 WARN MemoryStore: Not enough space to cache rdd_616_3 in memory! (computed 2.7 MiB so far)\n",
      "22/10/16 22:09:58 WARN MemoryStore: Not enough space to cache rdd_417_7 in memory! (computed 351.3 MiB so far)\n"
     ]
    },
    {
     "name": "stderr",
     "output_type": "stream",
     "text": [
      "[Stage 286:>                                                        (0 + 8) / 9]\r"
     ]
    },
    {
     "name": "stdout",
     "output_type": "stream",
     "text": [
      "22/10/16 22:10:02 WARN MemoryStore: Not enough space to cache rdd_417_3 in memory! (computed 153.3 MiB so far)\n",
      "22/10/16 22:10:02 WARN MemoryStore: Not enough space to cache rdd_417_6 in memory! (computed 234.1 MiB so far)\n",
      "22/10/16 22:10:02 WARN MemoryStore: Not enough space to cache rdd_417_5 in memory! (computed 234.1 MiB so far)\n",
      "22/10/16 22:10:02 WARN MemoryStore: Not enough space to cache rdd_417_7 in memory! (computed 234.1 MiB so far)\n",
      "22/10/16 22:10:02 WARN MemoryStore: Not enough space to cache rdd_417_2 in memory! (computed 234.1 MiB so far)\n",
      "22/10/16 22:10:02 WARN MemoryStore: Not enough space to cache rdd_417_0 in memory! (computed 234.1 MiB so far)\n",
      "22/10/16 22:10:02 WARN MemoryStore: Not enough space to cache rdd_417_4 in memory! (computed 234.1 MiB so far)\n",
      "22/10/16 22:10:02 WARN MemoryStore: Not enough space to cache rdd_417_1 in memory! (computed 234.1 MiB so far)\n"
     ]
    },
    {
     "name": "stderr",
     "output_type": "stream",
     "text": [
      "[Stage 289:>                                                        (0 + 8) / 9]\r"
     ]
    },
    {
     "name": "stdout",
     "output_type": "stream",
     "text": [
      "22/10/16 22:10:08 WARN MemoryStore: Not enough space to cache rdd_417_6 in memory! (computed 153.3 MiB so far)\n",
      "22/10/16 22:10:08 WARN MemoryStore: Not enough space to cache rdd_417_7 in memory! (computed 234.1 MiB so far)\n",
      "22/10/16 22:10:08 WARN MemoryStore: Not enough space to cache rdd_417_5 in memory! (computed 234.1 MiB so far)\n",
      "22/10/16 22:10:08 WARN MemoryStore: Not enough space to cache rdd_417_1 in memory! (computed 234.1 MiB so far)\n",
      "22/10/16 22:10:08 WARN MemoryStore: Not enough space to cache rdd_417_3 in memory! (computed 234.1 MiB so far)\n",
      "22/10/16 22:10:08 WARN MemoryStore: Not enough space to cache rdd_417_0 in memory! (computed 234.1 MiB so far)\n",
      "22/10/16 22:10:08 WARN MemoryStore: Not enough space to cache rdd_417_2 in memory! (computed 234.1 MiB so far)\n"
     ]
    },
    {
     "name": "stderr",
     "output_type": "stream",
     "text": [
      "                                                                                \r"
     ]
    },
    {
     "name": "stdout",
     "output_type": "stream",
     "text": [
      "22/10/16 22:10:13 WARN MemoryStore: Not enough space to cache rdd_417_0 in memory! (computed 65.3 MiB so far)\n",
      "22/10/16 22:10:13 WARN MemoryStore: Not enough space to cache rdd_417_2 in memory! (computed 65.3 MiB so far)\n",
      "22/10/16 22:10:13 WARN MemoryStore: Not enough space to cache rdd_417_2 in memory! (computed 5.4 MiB so far)\n",
      "22/10/16 22:10:13 WARN MemoryStore: Not enough space to cache rdd_417_0 in memory! (computed 19.0 MiB so far)\n",
      "22/10/16 22:10:13 WARN MemoryStore: Failed to reserve initial memory threshold of 1024.0 KiB for computing block rdd_417_0 in memory.\n",
      "22/10/16 22:10:13 WARN MemoryStore: Not enough space to cache rdd_417_0 in memory! (computed 384.0 B so far)\n",
      "22/10/16 22:10:13 WARN MemoryStore: Not enough space to cache rdd_417_6 in memory! (computed 98.8 MiB so far)\n",
      "22/10/16 22:10:13 WARN MemoryStore: Not enough space to cache rdd_417_1 in memory! (computed 98.8 MiB so far)\n"
     ]
    },
    {
     "name": "stderr",
     "output_type": "stream",
     "text": [
      "[Stage 292:>                                                        (0 + 8) / 9]\r"
     ]
    },
    {
     "name": "stdout",
     "output_type": "stream",
     "text": [
      "22/10/16 22:10:13 WARN MemoryStore: Not enough space to cache rdd_417_2 in memory! (computed 29.0 MiB so far)\n",
      "22/10/16 22:10:13 WARN MemoryStore: Not enough space to cache rdd_417_6 in memory! (computed 19.0 MiB so far)\n",
      "22/10/16 22:10:13 WARN MemoryStore: Not enough space to cache rdd_417_1 in memory! (computed 8.2 MiB so far)\n",
      "22/10/16 22:10:13 WARN MemoryStore: Not enough space to cache rdd_417_1 in memory! (computed 1591.6 KiB so far)\n",
      "22/10/16 22:10:13 WARN MemoryStore: Failed to reserve initial memory threshold of 1024.0 KiB for computing block rdd_613_1 in memory.\n",
      "22/10/16 22:10:13 WARN MemoryStore: Not enough space to cache rdd_613_1 in memory! (computed 384.0 B so far)\n",
      "22/10/16 22:10:13 WARN MemoryStore: Not enough space to cache rdd_417_6 in memory! (computed 2.4 MiB so far)\n",
      "22/10/16 22:10:13 WARN MemoryStore: Failed to reserve initial memory threshold of 1024.0 KiB for computing block rdd_635_1 in memory.\n",
      "22/10/16 22:10:13 WARN MemoryStore: Not enough space to cache rdd_635_1 in memory! (computed 384.0 B so far)\n",
      "22/10/16 22:10:13 WARN BlockManager: Persisting block rdd_635_1 to disk instead.\n",
      "22/10/16 22:10:13 WARN MemoryStore: Not enough space to cache rdd_613_0 in memory! (computed 3.7 MiB so far)\n",
      "22/10/16 22:10:13 WARN MemoryStore: Failed to reserve initial memory threshold of 1024.0 KiB for computing block rdd_635_0 in memory.\n",
      "22/10/16 22:10:13 WARN MemoryStore: Not enough space to cache rdd_635_0 in memory! (computed 384.0 B so far)\n",
      "22/10/16 22:10:13 WARN BlockManager: Persisting block rdd_635_0 to disk instead.\n",
      "22/10/16 22:10:13 WARN MemoryStore: Not enough space to cache rdd_613_2 in memory! (computed 1663.4 KiB so far)\n",
      "22/10/16 22:10:13 WARN MemoryStore: Failed to reserve initial memory threshold of 1024.0 KiB for computing block rdd_635_2 in memory.\n",
      "22/10/16 22:10:13 WARN MemoryStore: Not enough space to cache rdd_635_2 in memory! (computed 384.0 B so far)\n",
      "22/10/16 22:10:13 WARN BlockManager: Persisting block rdd_635_2 to disk instead.\n",
      "22/10/16 22:10:13 WARN MemoryStore: Not enough space to cache rdd_417_7 in memory! (computed 153.3 MiB so far)\n",
      "22/10/16 22:10:13 WARN MemoryStore: Not enough space to cache rdd_417_5 in memory! (computed 153.3 MiB so far)\n",
      "22/10/16 22:10:13 WARN MemoryStore: Not enough space to cache rdd_417_3 in memory! (computed 153.3 MiB so far)\n",
      "22/10/16 22:10:13 WARN MemoryStore: Not enough space to cache rdd_417_3 in memory! (computed 2.4 MiB so far)\n",
      "22/10/16 22:10:13 WARN MemoryStore: Not enough space to cache rdd_417_7 in memory! (computed 8.2 MiB so far)\n",
      "22/10/16 22:10:13 WARN MemoryStore: Not enough space to cache rdd_613_6 in memory! (computed 3.7 MiB so far)\n",
      "22/10/16 22:10:13 WARN MemoryStore: Failed to reserve initial memory threshold of 1024.0 KiB for computing block rdd_417_3 in memory.\n",
      "22/10/16 22:10:13 WARN MemoryStore: Not enough space to cache rdd_417_3 in memory! (computed 384.0 B so far)\n",
      "22/10/16 22:10:13 WARN MemoryStore: Failed to reserve initial memory threshold of 1024.0 KiB for computing block rdd_417_7 in memory.\n",
      "22/10/16 22:10:13 WARN MemoryStore: Not enough space to cache rdd_417_7 in memory! (computed 384.0 B so far)\n",
      "22/10/16 22:10:13 WARN MemoryStore: Failed to reserve initial memory threshold of 1024.0 KiB for computing block rdd_613_3 in memory.\n",
      "22/10/16 22:10:13 WARN MemoryStore: Not enough space to cache rdd_613_3 in memory! (computed 384.0 B so far)\n",
      "22/10/16 22:10:13 WARN MemoryStore: Failed to reserve initial memory threshold of 1024.0 KiB for computing block rdd_635_3 in memory.\n",
      "22/10/16 22:10:13 WARN MemoryStore: Not enough space to cache rdd_635_3 in memory! (computed 384.0 B so far)\n",
      "22/10/16 22:10:13 WARN BlockManager: Persisting block rdd_635_3 to disk instead.\n",
      "22/10/16 22:10:13 WARN MemoryStore: Failed to reserve initial memory threshold of 1024.0 KiB for computing block rdd_613_7 in memory.\n",
      "22/10/16 22:10:13 WARN MemoryStore: Not enough space to cache rdd_613_7 in memory! (computed 384.0 B so far)\n",
      "22/10/16 22:10:13 WARN MemoryStore: Failed to reserve initial memory threshold of 1024.0 KiB for computing block rdd_635_7 in memory.\n",
      "22/10/16 22:10:13 WARN MemoryStore: Not enough space to cache rdd_635_7 in memory! (computed 384.0 B so far)\n",
      "22/10/16 22:10:13 WARN BlockManager: Persisting block rdd_635_7 to disk instead.\n",
      "22/10/16 22:10:13 WARN MemoryStore: Not enough space to cache rdd_417_5 in memory! (computed 12.5 MiB so far)\n",
      "22/10/16 22:10:13 WARN MemoryStore: Not enough space to cache rdd_417_5 in memory! (computed 2.4 MiB so far)\n",
      "22/10/16 22:10:13 WARN MemoryStore: Failed to reserve initial memory threshold of 1024.0 KiB for computing block rdd_613_5 in memory.\n",
      "22/10/16 22:10:13 WARN MemoryStore: Not enough space to cache rdd_613_5 in memory! (computed 384.0 B so far)\n",
      "22/10/16 22:10:13 WARN MemoryStore: Failed to reserve initial memory threshold of 1024.0 KiB for computing block rdd_635_5 in memory.\n",
      "22/10/16 22:10:13 WARN MemoryStore: Not enough space to cache rdd_635_5 in memory! (computed 384.0 B so far)\n",
      "22/10/16 22:10:13 WARN BlockManager: Persisting block rdd_635_5 to disk instead.\n",
      "22/10/16 22:10:13 WARN MemoryStore: Not enough space to cache rdd_635_4 in memory! (computed 8.2 MiB so far)\n",
      "22/10/16 22:10:13 WARN BlockManager: Persisting block rdd_635_4 to disk instead.\n",
      "22/10/16 22:10:15 WARN MemoryStore: Not enough space to cache rdd_638_4 in memory! (computed 10.8 MiB so far)\n",
      "22/10/16 22:10:15 WARN BlockManager: Persisting block rdd_638_4 to disk instead.\n",
      "22/10/16 22:10:16 WARN MemoryStore: Not enough space to cache rdd_417_8 in memory! (computed 19.0 MiB so far)\n",
      "22/10/16 22:10:16 WARN MemoryStore: Failed to reserve initial memory threshold of 1024.0 KiB for computing block rdd_417_8 in memory.\n",
      "22/10/16 22:10:16 WARN MemoryStore: Not enough space to cache rdd_417_8 in memory! (computed 384.0 B so far)\n",
      "22/10/16 22:10:16 WARN MemoryStore: Failed to reserve initial memory threshold of 1024.0 KiB for computing block rdd_417_8 in memory.\n",
      "22/10/16 22:10:16 WARN MemoryStore: Not enough space to cache rdd_417_8 in memory! (computed 384.0 B so far)\n"
     ]
    },
    {
     "name": "stderr",
     "output_type": "stream",
     "text": [
      "[Stage 295:>                                                        (0 + 8) / 9]\r"
     ]
    },
    {
     "name": "stdout",
     "output_type": "stream",
     "text": [
      "22/10/16 22:10:25 WARN MemoryStore: Not enough space to cache rdd_417_1 in memory! (computed 234.1 MiB so far)\n",
      "22/10/16 22:10:25 WARN MemoryStore: Not enough space to cache rdd_417_0 in memory! (computed 234.1 MiB so far)\n",
      "22/10/16 22:10:25 WARN MemoryStore: Not enough space to cache rdd_417_7 in memory! (computed 234.1 MiB so far)\n",
      "22/10/16 22:10:25 WARN MemoryStore: Not enough space to cache rdd_417_6 in memory! (computed 234.1 MiB so far)\n",
      "22/10/16 22:10:25 WARN MemoryStore: Not enough space to cache rdd_417_5 in memory! (computed 234.1 MiB so far)\n",
      "22/10/16 22:10:25 WARN MemoryStore: Not enough space to cache rdd_417_4 in memory! (computed 234.1 MiB so far)\n",
      "22/10/16 22:10:25 WARN MemoryStore: Not enough space to cache rdd_417_3 in memory! (computed 234.1 MiB so far)\n",
      "22/10/16 22:10:25 WARN MemoryStore: Not enough space to cache rdd_638_4 in memory! (computed 1537.3 KiB so far)\n",
      "22/10/16 22:10:25 WARN MemoryStore: Not enough space to cache rdd_638_3 in memory! (computed 2.7 MiB so far)\n",
      "22/10/16 22:10:25 WARN MemoryStore: Not enough space to cache rdd_638_6 in memory! (computed 2.7 MiB so far)\n",
      "22/10/16 22:10:25 WARN MemoryStore: Not enough space to cache rdd_417_2 in memory! (computed 351.3 MiB so far)\n"
     ]
    },
    {
     "name": "stderr",
     "output_type": "stream",
     "text": [
      "[Stage 298:>                                                        (0 + 8) / 9]\r"
     ]
    },
    {
     "name": "stdout",
     "output_type": "stream",
     "text": [
      "22/10/16 22:10:30 WARN MemoryStore: Not enough space to cache rdd_417_5 in memory! (computed 234.1 MiB so far)\n",
      "22/10/16 22:10:30 WARN MemoryStore: Not enough space to cache rdd_417_0 in memory! (computed 234.1 MiB so far)\n",
      "22/10/16 22:10:30 WARN MemoryStore: Not enough space to cache rdd_417_1 in memory! (computed 234.1 MiB so far)\n",
      "22/10/16 22:10:30 WARN MemoryStore: Not enough space to cache rdd_417_7 in memory! (computed 234.1 MiB so far)\n",
      "22/10/16 22:10:30 WARN MemoryStore: Not enough space to cache rdd_417_2 in memory! (computed 234.1 MiB so far)\n",
      "22/10/16 22:10:30 WARN MemoryStore: Not enough space to cache rdd_417_6 in memory! (computed 153.3 MiB so far)\n",
      "22/10/16 22:10:30 WARN MemoryStore: Not enough space to cache rdd_417_4 in memory! (computed 234.1 MiB so far)\n"
     ]
    },
    {
     "name": "stderr",
     "output_type": "stream",
     "text": [
      "                                                                                \r"
     ]
    },
    {
     "name": "stdout",
     "output_type": "stream",
     "text": [
      "22/10/16 22:10:35 WARN MemoryStore: Not enough space to cache rdd_417_0 in memory! (computed 153.3 MiB so far)\n",
      "22/10/16 22:10:35 WARN MemoryStore: Not enough space to cache rdd_417_4 in memory! (computed 153.3 MiB so far)\n",
      "22/10/16 22:10:35 WARN MemoryStore: Not enough space to cache rdd_417_1 in memory! (computed 98.8 MiB so far)\n",
      "22/10/16 22:10:35 WARN MemoryStore: Not enough space to cache rdd_417_7 in memory! (computed 153.3 MiB so far)\n",
      "22/10/16 22:10:35 WARN MemoryStore: Not enough space to cache rdd_417_2 in memory! (computed 98.8 MiB so far)\n",
      "22/10/16 22:10:35 WARN MemoryStore: Not enough space to cache rdd_417_5 in memory! (computed 98.8 MiB so far)\n"
     ]
    },
    {
     "name": "stderr",
     "output_type": "stream",
     "text": [
      "[Stage 301:============>                                            (2 + 7) / 9]\r"
     ]
    },
    {
     "name": "stdout",
     "output_type": "stream",
     "text": [
      "22/10/16 22:10:37 WARN MemoryStore: Not enough space to cache rdd_417_6 in memory! (computed 791.9 MiB so far)\n"
     ]
    },
    {
     "name": "stderr",
     "output_type": "stream",
     "text": [
      "                                                                                \r"
     ]
    },
    {
     "name": "stdout",
     "output_type": "stream",
     "text": [
      "22/10/16 22:10:40 WARN MemoryStore: Not enough space to cache rdd_417_4 in memory! (computed 98.8 MiB so far)\n",
      "22/10/16 22:10:40 WARN MemoryStore: Not enough space to cache rdd_417_0 in memory! (computed 98.8 MiB so far)\n",
      "22/10/16 22:10:40 WARN MemoryStore: Not enough space to cache rdd_417_2 in memory! (computed 98.8 MiB so far)\n"
     ]
    },
    {
     "name": "stderr",
     "output_type": "stream",
     "text": [
      "[Stage 304:>                                                        (0 + 8) / 9]\r"
     ]
    },
    {
     "name": "stdout",
     "output_type": "stream",
     "text": [
      "22/10/16 22:10:41 WARN MemoryStore: Not enough space to cache rdd_417_6 in memory! (computed 153.3 MiB so far)\n",
      "22/10/16 22:10:41 WARN MemoryStore: Not enough space to cache rdd_417_7 in memory! (computed 351.3 MiB so far)\n",
      "22/10/16 22:10:41 WARN MemoryStore: Not enough space to cache rdd_417_5 in memory! (computed 351.3 MiB so far)\n",
      "22/10/16 22:10:41 WARN MemoryStore: Not enough space to cache rdd_417_1 in memory! (computed 351.3 MiB so far)\n",
      "22/10/16 22:10:42 WARN MemoryStore: Not enough space to cache rdd_417_8 in memory! (computed 19.0 MiB so far)\n"
     ]
    },
    {
     "name": "stderr",
     "output_type": "stream",
     "text": [
      "[Stage 307:>                                                        (0 + 8) / 9]\r"
     ]
    },
    {
     "name": "stdout",
     "output_type": "stream",
     "text": [
      "22/10/16 22:10:46 WARN MemoryStore: Not enough space to cache rdd_417_0 in memory! (computed 153.3 MiB so far)\n",
      "22/10/16 22:10:46 WARN MemoryStore: Not enough space to cache rdd_417_0 in memory! (computed 3.6 MiB so far)\n",
      "22/10/16 22:10:46 WARN MemoryStore: Not enough space to cache rdd_417_4 in memory! (computed 153.3 MiB so far)\n",
      "22/10/16 22:10:46 WARN MemoryStore: Failed to reserve initial memory threshold of 1024.0 KiB for computing block rdd_417_0 in memory.\n",
      "22/10/16 22:10:46 WARN MemoryStore: Not enough space to cache rdd_417_0 in memory! (computed 384.0 B so far)\n",
      "22/10/16 22:10:46 WARN MemoryStore: Failed to reserve initial memory threshold of 1024.0 KiB for computing block rdd_417_4 in memory.\n",
      "22/10/16 22:10:46 WARN MemoryStore: Not enough space to cache rdd_417_5 in memory! (computed 153.3 MiB so far)\n",
      "22/10/16 22:10:46 WARN MemoryStore: Not enough space to cache rdd_417_4 in memory! (computed 384.0 B so far)\n",
      "22/10/16 22:10:46 WARN MemoryStore: Failed to reserve initial memory threshold of 1024.0 KiB for computing block rdd_635_0 in memory.\n",
      "22/10/16 22:10:46 WARN MemoryStore: Not enough space to cache rdd_635_0 in memory! (computed 384.0 B so far)\n",
      "22/10/16 22:10:46 WARN MemoryStore: Failed to reserve initial memory threshold of 1024.0 KiB for computing block rdd_657_0 in memory.\n",
      "22/10/16 22:10:46 WARN MemoryStore: Not enough space to cache rdd_657_0 in memory! (computed 384.0 B so far)\n",
      "22/10/16 22:10:46 WARN BlockManager: Persisting block rdd_657_0 to disk instead.\n",
      "22/10/16 22:10:46 WARN MemoryStore: Failed to reserve initial memory threshold of 1024.0 KiB for computing block rdd_417_4 in memory.\n",
      "22/10/16 22:10:46 WARN MemoryStore: Not enough space to cache rdd_417_4 in memory! (computed 384.0 B so far)\n",
      "22/10/16 22:10:46 WARN MemoryStore: Not enough space to cache rdd_657_3 in memory! (computed 8.2 MiB so far)\n",
      "22/10/16 22:10:46 WARN MemoryStore: Failed to reserve initial memory threshold of 1024.0 KiB for computing block rdd_635_4 in memory.\n",
      "22/10/16 22:10:46 WARN MemoryStore: Failed to reserve initial memory threshold of 1024.0 KiB for computing block rdd_417_5 in memory.\n",
      "22/10/16 22:10:46 WARN MemoryStore: Not enough space to cache rdd_635_4 in memory! (computed 384.0 B so far)\n",
      "22/10/16 22:10:46 WARN MemoryStore: Not enough space to cache rdd_417_5 in memory! (computed 384.0 B so far)\n",
      "22/10/16 22:10:46 WARN MemoryStore: Failed to reserve initial memory threshold of 1024.0 KiB for computing block rdd_657_4 in memory.\n",
      "22/10/16 22:10:46 WARN MemoryStore: Not enough space to cache rdd_657_4 in memory! (computed 384.0 B so far)\n",
      "22/10/16 22:10:46 WARN BlockManager: Persisting block rdd_657_4 to disk instead.\n",
      "22/10/16 22:10:46 WARN BlockManager: Persisting block rdd_657_3 to disk instead.\n",
      "22/10/16 22:10:46 WARN MemoryStore: Failed to reserve initial memory threshold of 1024.0 KiB for computing block rdd_417_5 in memory.\n",
      "22/10/16 22:10:46 WARN MemoryStore: Not enough space to cache rdd_417_5 in memory! (computed 384.0 B so far)\n",
      "22/10/16 22:10:46 WARN MemoryStore: Failed to reserve initial memory threshold of 1024.0 KiB for computing block rdd_635_5 in memory.\n",
      "22/10/16 22:10:46 WARN MemoryStore: Not enough space to cache rdd_635_5 in memory! (computed 384.0 B so far)\n",
      "22/10/16 22:10:46 WARN MemoryStore: Failed to reserve initial memory threshold of 1024.0 KiB for computing block rdd_657_5 in memory.\n",
      "22/10/16 22:10:46 WARN MemoryStore: Not enough space to cache rdd_657_5 in memory! (computed 384.0 B so far)\n",
      "22/10/16 22:10:46 WARN BlockManager: Persisting block rdd_657_5 to disk instead.\n",
      "22/10/16 22:10:46 WARN MemoryStore: Not enough space to cache rdd_417_2 in memory! (computed 153.3 MiB so far)\n",
      "22/10/16 22:10:46 WARN MemoryStore: Failed to reserve initial memory threshold of 1024.0 KiB for computing block rdd_417_2 in memory.\n",
      "22/10/16 22:10:46 WARN MemoryStore: Not enough space to cache rdd_417_2 in memory! (computed 384.0 B so far)\n",
      "22/10/16 22:10:46 WARN MemoryStore: Failed to reserve initial memory threshold of 1024.0 KiB for computing block rdd_417_2 in memory.\n",
      "22/10/16 22:10:46 WARN MemoryStore: Not enough space to cache rdd_417_2 in memory! (computed 384.0 B so far)\n",
      "22/10/16 22:10:46 WARN MemoryStore: Failed to reserve initial memory threshold of 1024.0 KiB for computing block rdd_635_2 in memory.\n",
      "22/10/16 22:10:46 WARN MemoryStore: Not enough space to cache rdd_635_2 in memory! (computed 384.0 B so far)\n",
      "22/10/16 22:10:46 WARN MemoryStore: Failed to reserve initial memory threshold of 1024.0 KiB for computing block rdd_657_2 in memory.\n",
      "22/10/16 22:10:46 WARN MemoryStore: Not enough space to cache rdd_657_2 in memory! (computed 384.0 B so far)\n",
      "22/10/16 22:10:46 WARN BlockManager: Persisting block rdd_657_2 to disk instead.\n",
      "22/10/16 22:10:46 WARN MemoryStore: Not enough space to cache rdd_417_6 in memory! (computed 153.3 MiB so far)\n",
      "22/10/16 22:10:46 WARN MemoryStore: Failed to reserve initial memory threshold of 1024.0 KiB for computing block rdd_417_6 in memory.\n",
      "22/10/16 22:10:46 WARN MemoryStore: Not enough space to cache rdd_417_6 in memory! (computed 384.0 B so far)\n",
      "22/10/16 22:10:46 WARN MemoryStore: Failed to reserve initial memory threshold of 1024.0 KiB for computing block rdd_417_6 in memory.\n",
      "22/10/16 22:10:46 WARN MemoryStore: Not enough space to cache rdd_417_6 in memory! (computed 384.0 B so far)\n",
      "22/10/16 22:10:46 WARN MemoryStore: Failed to reserve initial memory threshold of 1024.0 KiB for computing block rdd_635_6 in memory.\n",
      "22/10/16 22:10:46 WARN MemoryStore: Not enough space to cache rdd_635_6 in memory! (computed 384.0 B so far)\n",
      "22/10/16 22:10:46 WARN MemoryStore: Failed to reserve initial memory threshold of 1024.0 KiB for computing block rdd_657_6 in memory.\n",
      "22/10/16 22:10:46 WARN MemoryStore: Not enough space to cache rdd_657_6 in memory! (computed 384.0 B so far)\n",
      "22/10/16 22:10:46 WARN BlockManager: Persisting block rdd_657_6 to disk instead.\n",
      "22/10/16 22:10:46 WARN MemoryStore: Not enough space to cache rdd_417_1 in memory! (computed 153.3 MiB so far)\n",
      "22/10/16 22:10:46 WARN MemoryStore: Failed to reserve initial memory threshold of 1024.0 KiB for computing block rdd_417_1 in memory.\n",
      "22/10/16 22:10:46 WARN MemoryStore: Not enough space to cache rdd_417_1 in memory! (computed 384.0 B so far)\n",
      "22/10/16 22:10:46 WARN MemoryStore: Failed to reserve initial memory threshold of 1024.0 KiB for computing block rdd_417_1 in memory.\n",
      "22/10/16 22:10:46 WARN MemoryStore: Not enough space to cache rdd_417_1 in memory! (computed 384.0 B so far)\n",
      "22/10/16 22:10:46 WARN MemoryStore: Failed to reserve initial memory threshold of 1024.0 KiB for computing block rdd_635_1 in memory.\n",
      "22/10/16 22:10:46 WARN MemoryStore: Not enough space to cache rdd_635_1 in memory! (computed 384.0 B so far)\n",
      "22/10/16 22:10:46 WARN MemoryStore: Failed to reserve initial memory threshold of 1024.0 KiB for computing block rdd_657_1 in memory.\n",
      "22/10/16 22:10:46 WARN MemoryStore: Not enough space to cache rdd_657_1 in memory! (computed 384.0 B so far)\n",
      "22/10/16 22:10:46 WARN BlockManager: Persisting block rdd_657_1 to disk instead.\n",
      "22/10/16 22:10:46 WARN MemoryStore: Not enough space to cache rdd_417_7 in memory! (computed 234.1 MiB so far)\n",
      "22/10/16 22:10:47 WARN MemoryStore: Not enough space to cache rdd_417_7 in memory! (computed 8.2 MiB so far)\n",
      "22/10/16 22:10:47 WARN MemoryStore: Failed to reserve initial memory threshold of 1024.0 KiB for computing block rdd_417_7 in memory.\n",
      "22/10/16 22:10:47 WARN MemoryStore: Not enough space to cache rdd_417_7 in memory! (computed 384.0 B so far)\n",
      "22/10/16 22:10:47 WARN MemoryStore: Failed to reserve initial memory threshold of 1024.0 KiB for computing block rdd_635_7 in memory.\n",
      "22/10/16 22:10:47 WARN MemoryStore: Not enough space to cache rdd_635_7 in memory! (computed 384.0 B so far)\n",
      "22/10/16 22:10:47 WARN MemoryStore: Failed to reserve initial memory threshold of 1024.0 KiB for computing block rdd_657_7 in memory.\n",
      "22/10/16 22:10:47 WARN MemoryStore: Not enough space to cache rdd_657_7 in memory! (computed 384.0 B so far)\n",
      "22/10/16 22:10:47 WARN BlockManager: Persisting block rdd_657_7 to disk instead.\n",
      "22/10/16 22:10:47 WARN MemoryStore: Not enough space to cache rdd_657_3 in memory! (computed 8.2 MiB so far)\n",
      "22/10/16 22:10:47 WARN MemoryStore: Failed to reserve initial memory threshold of 1024.0 KiB for computing block rdd_660_3 in memory.\n",
      "22/10/16 22:10:47 WARN MemoryStore: Not enough space to cache rdd_660_3 in memory! (computed 384.0 B so far)\n",
      "22/10/16 22:10:47 WARN BlockManager: Persisting block rdd_660_3 to disk instead.\n",
      "22/10/16 22:10:47 WARN MemoryStore: Not enough space to cache rdd_660_3 in memory! (computed 6.2 MiB so far)\n",
      "22/10/16 22:10:48 WARN MemoryStore: Not enough space to cache rdd_417_8 in memory! (computed 8.2 MiB so far)\n",
      "22/10/16 22:10:48 WARN MemoryStore: Failed to reserve initial memory threshold of 1024.0 KiB for computing block rdd_417_8 in memory.\n",
      "22/10/16 22:10:48 WARN MemoryStore: Not enough space to cache rdd_417_8 in memory! (computed 384.0 B so far)\n",
      "22/10/16 22:10:48 WARN MemoryStore: Failed to reserve initial memory threshold of 1024.0 KiB for computing block rdd_417_8 in memory.\n",
      "22/10/16 22:10:48 WARN MemoryStore: Not enough space to cache rdd_417_8 in memory! (computed 384.0 B so far)\n"
     ]
    },
    {
     "name": "stderr",
     "output_type": "stream",
     "text": [
      "[Stage 310:>                                                        (0 + 8) / 9]\r"
     ]
    },
    {
     "name": "stdout",
     "output_type": "stream",
     "text": [
      "22/10/16 22:10:56 WARN MemoryStore: Not enough space to cache rdd_417_2 in memory! (computed 234.1 MiB so far)\n",
      "22/10/16 22:10:56 WARN MemoryStore: Not enough space to cache rdd_417_4 in memory! (computed 234.1 MiB so far)\n",
      "22/10/16 22:10:56 WARN MemoryStore: Not enough space to cache rdd_417_3 in memory! (computed 234.1 MiB so far)\n",
      "22/10/16 22:10:56 WARN MemoryStore: Not enough space to cache rdd_417_5 in memory! (computed 234.1 MiB so far)\n",
      "22/10/16 22:10:56 WARN MemoryStore: Not enough space to cache rdd_417_7 in memory! (computed 234.1 MiB so far)\n",
      "22/10/16 22:10:56 WARN MemoryStore: Not enough space to cache rdd_417_1 in memory! (computed 234.1 MiB so far)\n",
      "22/10/16 22:10:56 WARN MemoryStore: Not enough space to cache rdd_417_6 in memory! (computed 234.1 MiB so far)\n",
      "22/10/16 22:10:56 WARN MemoryStore: Not enough space to cache rdd_660_2 in memory! (computed 1024.6 KiB so far)\n",
      "22/10/16 22:10:56 WARN MemoryStore: Not enough space to cache rdd_660_1 in memory! (computed 1024.6 KiB so far)\n",
      "22/10/16 22:10:56 WARN MemoryStore: Not enough space to cache rdd_660_3 in memory! (computed 1537.3 KiB so far)\n",
      "22/10/16 22:10:56 WARN MemoryStore: Not enough space to cache rdd_660_5 in memory! (computed 1537.3 KiB so far)\n"
     ]
    },
    {
     "name": "stderr",
     "output_type": "stream",
     "text": [
      "                                                                                \r"
     ]
    },
    {
     "name": "stdout",
     "output_type": "stream",
     "text": [
      "22/10/16 22:11:01 WARN MemoryStore: Not enough space to cache rdd_417_2 in memory! (computed 98.8 MiB so far)\n",
      "22/10/16 22:11:01 WARN MemoryStore: Not enough space to cache rdd_417_4 in memory! (computed 98.8 MiB so far)\n",
      "22/10/16 22:11:01 WARN MemoryStore: Not enough space to cache rdd_417_5 in memory! (computed 98.8 MiB so far)\n",
      "22/10/16 22:11:01 WARN MemoryStore: Not enough space to cache rdd_417_6 in memory! (computed 98.8 MiB so far)\n",
      "22/10/16 22:11:01 WARN MemoryStore: Not enough space to cache rdd_417_3 in memory! (computed 65.3 MiB so far)\n",
      "22/10/16 22:11:01 WARN MemoryStore: Not enough space to cache rdd_417_1 in memory! (computed 65.3 MiB so far)\n"
     ]
    },
    {
     "name": "stderr",
     "output_type": "stream",
     "text": [
      "[Stage 313:======>                                                  (1 + 8) / 9]\r"
     ]
    },
    {
     "name": "stdout",
     "output_type": "stream",
     "text": [
      "22/10/16 22:11:03 WARN MemoryStore: Not enough space to cache rdd_417_7 in memory! (computed 527.0 MiB so far)\n"
     ]
    },
    {
     "name": "stderr",
     "output_type": "stream",
     "text": [
      "                                                                                \r"
     ]
    },
    {
     "name": "stdout",
     "output_type": "stream",
     "text": [
      "22/10/16 22:11:06 WARN MemoryStore: Not enough space to cache rdd_417_2 in memory! (computed 65.3 MiB so far)\n",
      "22/10/16 22:11:06 WARN MemoryStore: Not enough space to cache rdd_417_5 in memory! (computed 65.3 MiB so far)\n",
      "22/10/16 22:11:06 WARN MemoryStore: Not enough space to cache rdd_417_3 in memory! (computed 98.8 MiB so far)\n",
      "22/10/16 22:11:06 WARN MemoryStore: Not enough space to cache rdd_660_5 in memory! (computed 4.0 MiB so far)\n",
      "22/10/16 22:11:06 WARN MemoryStore: Not enough space to cache rdd_417_4 in memory! (computed 153.3 MiB so far)\n",
      "22/10/16 22:11:06 WARN MemoryStore: Not enough space to cache rdd_417_7 in memory! (computed 153.3 MiB so far)\n",
      "22/10/16 22:11:06 WARN MemoryStore: Failed to reserve initial memory threshold of 1024.0 KiB for computing block rdd_660_7 in memory.\n",
      "22/10/16 22:11:06 WARN MemoryStore: Not enough space to cache rdd_660_7 in memory! (computed 384.0 B so far)\n",
      "22/10/16 22:11:06 WARN MemoryStore: Not enough space to cache rdd_660_2 in memory! (computed 4.0 MiB so far)\n",
      "22/10/16 22:11:06 WARN MemoryStore: Not enough space to cache rdd_417_6 in memory! (computed 153.3 MiB so far)\n",
      "22/10/16 22:11:06 WARN MemoryStore: Failed to reserve initial memory threshold of 1024.0 KiB for computing block rdd_660_6 in memory.\n",
      "22/10/16 22:11:06 WARN MemoryStore: Not enough space to cache rdd_660_6 in memory! (computed 384.0 B so far)\n",
      "22/10/16 22:11:06 WARN MemoryStore: Not enough space to cache rdd_660_3 in memory! (computed 6.2 MiB so far)\n",
      "22/10/16 22:11:06 WARN MemoryStore: Not enough space to cache rdd_660_4 in memory! (computed 1537.3 KiB so far)\n"
     ]
    },
    {
     "name": "stderr",
     "output_type": "stream",
     "text": [
      "[Stage 316:======>                                                  (1 + 8) / 9]\r"
     ]
    },
    {
     "name": "stdout",
     "output_type": "stream",
     "text": [
      "22/10/16 22:11:08 WARN MemoryStore: Not enough space to cache rdd_417_8 in memory! (computed 29.0 MiB so far)\n",
      "22/10/16 22:11:09 WARN MemoryStore: Not enough space to cache rdd_417_1 in memory! (computed 791.9 MiB so far)\n"
     ]
    },
    {
     "name": "stderr",
     "output_type": "stream",
     "text": [
      "                                                                                \r"
     ]
    },
    {
     "name": "stdout",
     "output_type": "stream",
     "text": [
      "22/10/16 22:11:11 WARN MemoryStore: Not enough space to cache rdd_417_1 in memory! (computed 98.8 MiB so far)\n",
      "22/10/16 22:11:11 WARN MemoryStore: Failed to reserve initial memory threshold of 1024.0 KiB for computing block rdd_660_1 in memory.\n",
      "22/10/16 22:11:11 WARN MemoryStore: Not enough space to cache rdd_660_1 in memory! (computed 384.0 B so far)\n",
      "22/10/16 22:11:11 WARN MemoryStore: Not enough space to cache rdd_417_7 in memory! (computed 98.8 MiB so far)\n",
      "22/10/16 22:11:11 WARN MemoryStore: Failed to reserve initial memory threshold of 1024.0 KiB for computing block rdd_660_7 in memory.\n",
      "22/10/16 22:11:11 WARN MemoryStore: Not enough space to cache rdd_660_7 in memory! (computed 384.0 B so far)\n",
      "22/10/16 22:11:11 WARN MemoryStore: Not enough space to cache rdd_417_6 in memory! (computed 98.8 MiB so far)\n",
      "22/10/16 22:11:11 WARN MemoryStore: Failed to reserve initial memory threshold of 1024.0 KiB for computing block rdd_660_6 in memory.\n",
      "22/10/16 22:11:11 WARN MemoryStore: Not enough space to cache rdd_660_6 in memory! (computed 384.0 B so far)\n",
      "22/10/16 22:11:11 WARN MemoryStore: Not enough space to cache rdd_417_3 in memory! (computed 98.8 MiB so far)\n",
      "22/10/16 22:11:11 WARN MemoryStore: Failed to reserve initial memory threshold of 1024.0 KiB for computing block rdd_660_3 in memory.\n",
      "22/10/16 22:11:11 WARN MemoryStore: Not enough space to cache rdd_660_3 in memory! (computed 384.0 B so far)\n"
     ]
    },
    {
     "name": "stderr",
     "output_type": "stream",
     "text": [
      "[Stage 319:>                                                        (0 + 8) / 9]\r"
     ]
    },
    {
     "name": "stdout",
     "output_type": "stream",
     "text": [
      "22/10/16 22:11:12 WARN MemoryStore: Not enough space to cache rdd_417_4 in memory! (computed 153.3 MiB so far)\n",
      "22/10/16 22:11:12 WARN MemoryStore: Not enough space to cache rdd_417_2 in memory! (computed 153.3 MiB so far)\n",
      "22/10/16 22:11:12 WARN MemoryStore: Failed to reserve initial memory threshold of 1024.0 KiB for computing block rdd_660_2 in memory.\n",
      "22/10/16 22:11:12 WARN MemoryStore: Not enough space to cache rdd_660_2 in memory! (computed 384.0 B so far)\n",
      "22/10/16 22:11:12 WARN MemoryStore: Failed to reserve initial memory threshold of 1024.0 KiB for computing block rdd_660_4 in memory.\n",
      "22/10/16 22:11:12 WARN MemoryStore: Not enough space to cache rdd_660_4 in memory! (computed 384.0 B so far)\n",
      "22/10/16 22:11:13 WARN MemoryStore: Not enough space to cache rdd_417_8 in memory! (computed 43.5 MiB so far)\n"
     ]
    },
    {
     "name": "stderr",
     "output_type": "stream",
     "text": [
      "[Stage 319:======>                                                  (1 + 8) / 9]\r"
     ]
    },
    {
     "name": "stdout",
     "output_type": "stream",
     "text": [
      "22/10/16 22:11:14 WARN MemoryStore: Not enough space to cache rdd_417_5 in memory! (computed 791.9 MiB so far)\n"
     ]
    },
    {
     "name": "stderr",
     "output_type": "stream",
     "text": [
      "                                                                                \r"
     ]
    },
    {
     "name": "stdout",
     "output_type": "stream",
     "text": [
      "22/10/16 22:11:17 WARN MemoryStore: Not enough space to cache rdd_417_6 in memory! (computed 98.8 MiB so far)\n",
      "22/10/16 22:11:17 WARN MemoryStore: Not enough space to cache rdd_417_5 in memory! (computed 98.8 MiB so far)\n",
      "22/10/16 22:11:17 WARN MemoryStore: Not enough space to cache rdd_417_3 in memory! (computed 98.8 MiB so far)\n",
      "22/10/16 22:11:17 WARN MemoryStore: Not enough space to cache rdd_417_1 in memory! (computed 98.8 MiB so far)\n",
      "22/10/16 22:11:17 WARN MemoryStore: Not enough space to cache rdd_417_7 in memory! (computed 98.8 MiB so far)\n"
     ]
    },
    {
     "name": "stderr",
     "output_type": "stream",
     "text": [
      "[Stage 322:>                                                        (0 + 8) / 9]\r"
     ]
    },
    {
     "name": "stdout",
     "output_type": "stream",
     "text": [
      "22/10/16 22:11:18 WARN MemoryStore: Not enough space to cache rdd_679_0 in memory! (computed 3.7 MiB so far)\n",
      "22/10/16 22:11:18 WARN MemoryStore: Not enough space to cache rdd_417_7 in memory! (computed 2.4 MiB so far)\n",
      "22/10/16 22:11:18 WARN MemoryStore: Not enough space to cache rdd_417_1 in memory! (computed 12.5 MiB so far)\n",
      "22/10/16 22:11:18 WARN MemoryStore: Not enough space to cache rdd_417_3 in memory! (computed 5.4 MiB so far)\n",
      "22/10/16 22:11:18 WARN BlockManager: Persisting block rdd_679_0 to disk instead.\n",
      "22/10/16 22:11:18 WARN MemoryStore: Not enough space to cache rdd_417_6 in memory! (computed 12.5 MiB so far)\n",
      "22/10/16 22:11:18 WARN MemoryStore: Failed to reserve initial memory threshold of 1024.0 KiB for computing block rdd_417_3 in memory.\n",
      "22/10/16 22:11:18 WARN MemoryStore: Not enough space to cache rdd_417_3 in memory! (computed 384.0 B so far)\n",
      "22/10/16 22:11:18 WARN MemoryStore: Failed to reserve initial memory threshold of 1024.0 KiB for computing block rdd_417_1 in memory.\n",
      "22/10/16 22:11:18 WARN MemoryStore: Not enough space to cache rdd_417_1 in memory! (computed 384.0 B so far)\n",
      "22/10/16 22:11:18 WARN MemoryStore: Failed to reserve initial memory threshold of 1024.0 KiB for computing block rdd_417_7 in memory.\n",
      "22/10/16 22:11:18 WARN MemoryStore: Not enough space to cache rdd_417_7 in memory! (computed 384.0 B so far)\n",
      "22/10/16 22:11:18 WARN MemoryStore: Failed to reserve initial memory threshold of 1024.0 KiB for computing block rdd_657_1 in memory.\n",
      "22/10/16 22:11:18 WARN MemoryStore: Not enough space to cache rdd_657_1 in memory! (computed 384.0 B so far)\n",
      "22/10/16 22:11:18 WARN MemoryStore: Failed to reserve initial memory threshold of 1024.0 KiB for computing block rdd_679_1 in memory.\n",
      "22/10/16 22:11:18 WARN MemoryStore: Not enough space to cache rdd_679_1 in memory! (computed 384.0 B so far)\n",
      "22/10/16 22:11:18 WARN BlockManager: Persisting block rdd_679_1 to disk instead.\n",
      "22/10/16 22:11:18 WARN MemoryStore: Failed to reserve initial memory threshold of 1024.0 KiB for computing block rdd_657_7 in memory.\n",
      "22/10/16 22:11:18 WARN MemoryStore: Not enough space to cache rdd_657_7 in memory! (computed 384.0 B so far)\n",
      "22/10/16 22:11:18 WARN MemoryStore: Failed to reserve initial memory threshold of 1024.0 KiB for computing block rdd_679_7 in memory.\n",
      "22/10/16 22:11:18 WARN MemoryStore: Not enough space to cache rdd_679_7 in memory! (computed 384.0 B so far)\n",
      "22/10/16 22:11:18 WARN BlockManager: Persisting block rdd_679_7 to disk instead.\n",
      "22/10/16 22:11:18 WARN MemoryStore: Failed to reserve initial memory threshold of 1024.0 KiB for computing block rdd_417_6 in memory.\n",
      "22/10/16 22:11:18 WARN MemoryStore: Not enough space to cache rdd_417_6 in memory! (computed 384.0 B so far)\n",
      "22/10/16 22:11:18 WARN MemoryStore: Failed to reserve initial memory threshold of 1024.0 KiB for computing block rdd_657_3 in memory.\n",
      "22/10/16 22:11:18 WARN MemoryStore: Not enough space to cache rdd_657_3 in memory! (computed 384.0 B so far)\n",
      "22/10/16 22:11:18 WARN MemoryStore: Failed to reserve initial memory threshold of 1024.0 KiB for computing block rdd_679_3 in memory.\n",
      "22/10/16 22:11:18 WARN MemoryStore: Not enough space to cache rdd_679_3 in memory! (computed 384.0 B so far)\n",
      "22/10/16 22:11:18 WARN BlockManager: Persisting block rdd_679_3 to disk instead.\n",
      "22/10/16 22:11:18 WARN MemoryStore: Failed to reserve initial memory threshold of 1024.0 KiB for computing block rdd_657_6 in memory.\n",
      "22/10/16 22:11:18 WARN MemoryStore: Not enough space to cache rdd_657_6 in memory! (computed 384.0 B so far)\n",
      "22/10/16 22:11:18 WARN MemoryStore: Failed to reserve initial memory threshold of 1024.0 KiB for computing block rdd_679_6 in memory.\n",
      "22/10/16 22:11:18 WARN MemoryStore: Not enough space to cache rdd_679_6 in memory! (computed 384.0 B so far)\n",
      "22/10/16 22:11:18 WARN BlockManager: Persisting block rdd_679_6 to disk instead.\n",
      "22/10/16 22:11:18 WARN MemoryStore: Not enough space to cache rdd_417_5 in memory! (computed 12.5 MiB so far)\n",
      "22/10/16 22:11:18 WARN MemoryStore: Failed to reserve initial memory threshold of 1024.0 KiB for computing block rdd_417_5 in memory.\n",
      "22/10/16 22:11:18 WARN MemoryStore: Not enough space to cache rdd_417_5 in memory! (computed 384.0 B so far)\n",
      "22/10/16 22:11:18 WARN MemoryStore: Failed to reserve initial memory threshold of 1024.0 KiB for computing block rdd_657_5 in memory.\n",
      "22/10/16 22:11:18 WARN MemoryStore: Not enough space to cache rdd_657_5 in memory! (computed 384.0 B so far)\n",
      "22/10/16 22:11:18 WARN MemoryStore: Failed to reserve initial memory threshold of 1024.0 KiB for computing block rdd_679_5 in memory.\n",
      "22/10/16 22:11:18 WARN MemoryStore: Not enough space to cache rdd_679_5 in memory! (computed 384.0 B so far)\n",
      "22/10/16 22:11:18 WARN BlockManager: Persisting block rdd_679_5 to disk instead.\n",
      "22/10/16 22:11:18 WARN MemoryStore: Not enough space to cache rdd_417_4 in memory! (computed 153.3 MiB so far)\n",
      "22/10/16 22:11:18 WARN MemoryStore: Not enough space to cache rdd_417_2 in memory! (computed 153.3 MiB so far)\n",
      "22/10/16 22:11:18 WARN MemoryStore: Not enough space to cache rdd_417_4 in memory! (computed 2.4 MiB so far)\n",
      "22/10/16 22:11:18 WARN MemoryStore: Failed to reserve initial memory threshold of 1024.0 KiB for computing block rdd_417_4 in memory.\n",
      "22/10/16 22:11:18 WARN MemoryStore: Not enough space to cache rdd_417_4 in memory! (computed 384.0 B so far)\n",
      "22/10/16 22:11:18 WARN MemoryStore: Failed to reserve initial memory threshold of 1024.0 KiB for computing block rdd_657_4 in memory.\n",
      "22/10/16 22:11:18 WARN MemoryStore: Not enough space to cache rdd_657_4 in memory! (computed 384.0 B so far)\n",
      "22/10/16 22:11:18 WARN MemoryStore: Failed to reserve initial memory threshold of 1024.0 KiB for computing block rdd_679_4 in memory.\n",
      "22/10/16 22:11:18 WARN MemoryStore: Not enough space to cache rdd_679_4 in memory! (computed 384.0 B so far)\n",
      "22/10/16 22:11:18 WARN BlockManager: Persisting block rdd_679_4 to disk instead.\n",
      "22/10/16 22:11:18 WARN MemoryStore: Not enough space to cache rdd_417_2 in memory! (computed 1591.6 KiB so far)\n",
      "22/10/16 22:11:18 WARN MemoryStore: Failed to reserve initial memory threshold of 1024.0 KiB for computing block rdd_417_2 in memory.\n",
      "22/10/16 22:11:18 WARN MemoryStore: Not enough space to cache rdd_417_2 in memory! (computed 384.0 B so far)\n",
      "22/10/16 22:11:18 WARN MemoryStore: Failed to reserve initial memory threshold of 1024.0 KiB for computing block rdd_657_2 in memory.\n",
      "22/10/16 22:11:18 WARN MemoryStore: Not enough space to cache rdd_657_2 in memory! (computed 384.0 B so far)\n",
      "22/10/16 22:11:18 WARN MemoryStore: Failed to reserve initial memory threshold of 1024.0 KiB for computing block rdd_679_2 in memory.\n",
      "22/10/16 22:11:18 WARN MemoryStore: Not enough space to cache rdd_679_2 in memory! (computed 384.0 B so far)\n",
      "22/10/16 22:11:18 WARN BlockManager: Persisting block rdd_679_2 to disk instead.\n",
      "22/10/16 22:11:18 WARN MemoryStore: Not enough space to cache rdd_679_0 in memory! (computed 8.2 MiB so far)\n",
      "22/10/16 22:11:18 WARN MemoryStore: Not enough space to cache rdd_682_0 in memory! (computed 2.7 MiB so far)\n",
      "22/10/16 22:11:18 WARN BlockManager: Persisting block rdd_682_0 to disk instead.\n",
      "22/10/16 22:11:19 WARN MemoryStore: Not enough space to cache rdd_682_0 in memory! (computed 10.8 MiB so far)\n",
      "22/10/16 22:11:20 WARN MemoryStore: Not enough space to cache rdd_417_8 in memory! (computed 8.2 MiB so far)\n",
      "22/10/16 22:11:20 WARN MemoryStore: Not enough space to cache rdd_417_8 in memory! (computed 2.4 MiB so far)\n",
      "22/10/16 22:11:20 WARN MemoryStore: Not enough space to cache rdd_417_8 in memory! (computed 1050.0 KiB so far)\n"
     ]
    },
    {
     "name": "stderr",
     "output_type": "stream",
     "text": [
      "[Stage 325:>                                                        (0 + 8) / 9]\r"
     ]
    },
    {
     "name": "stdout",
     "output_type": "stream",
     "text": [
      "22/10/16 22:11:28 WARN MemoryStore: Not enough space to cache rdd_417_0 in memory! (computed 234.1 MiB so far)\n",
      "22/10/16 22:11:28 WARN MemoryStore: Not enough space to cache rdd_417_5 in memory! (computed 234.1 MiB so far)\n",
      "22/10/16 22:11:28 WARN MemoryStore: Not enough space to cache rdd_417_2 in memory! (computed 234.1 MiB so far)\n",
      "22/10/16 22:11:28 WARN MemoryStore: Not enough space to cache rdd_417_3 in memory! (computed 234.1 MiB so far)\n",
      "22/10/16 22:11:28 WARN MemoryStore: Not enough space to cache rdd_417_6 in memory! (computed 234.1 MiB so far)\n",
      "22/10/16 22:11:28 WARN MemoryStore: Not enough space to cache rdd_417_7 in memory! (computed 234.1 MiB so far)\n",
      "22/10/16 22:11:28 WARN MemoryStore: Not enough space to cache rdd_417_1 in memory! (computed 234.1 MiB so far)\n",
      "22/10/16 22:11:28 WARN MemoryStore: Not enough space to cache rdd_682_0 in memory! (computed 1024.6 KiB so far)\n",
      "22/10/16 22:11:28 WARN MemoryStore: Not enough space to cache rdd_682_5 in memory! (computed 1537.3 KiB so far)\n",
      "22/10/16 22:11:28 WARN MemoryStore: Not enough space to cache rdd_682_2 in memory! (computed 1024.6 KiB so far)\n",
      "22/10/16 22:11:28 WARN MemoryStore: Not enough space to cache rdd_682_3 in memory! (computed 2.7 MiB so far)\n"
     ]
    },
    {
     "name": "stderr",
     "output_type": "stream",
     "text": [
      "                                                                                \r"
     ]
    },
    {
     "name": "stdout",
     "output_type": "stream",
     "text": [
      "22/10/16 22:11:33 WARN MemoryStore: Not enough space to cache rdd_417_2 in memory! (computed 65.3 MiB so far)\n",
      "22/10/16 22:11:33 WARN MemoryStore: Not enough space to cache rdd_417_5 in memory! (computed 65.3 MiB so far)\n"
     ]
    },
    {
     "name": "stderr",
     "output_type": "stream",
     "text": [
      "[Stage 328:>                                                        (0 + 8) / 9]\r"
     ]
    },
    {
     "name": "stdout",
     "output_type": "stream",
     "text": [
      "22/10/16 22:11:33 WARN MemoryStore: Not enough space to cache rdd_417_6 in memory! (computed 98.8 MiB so far)\n",
      "22/10/16 22:11:33 WARN MemoryStore: Not enough space to cache rdd_682_5 in memory! (computed 6.2 MiB so far)\n",
      "22/10/16 22:11:33 WARN MemoryStore: Not enough space to cache rdd_417_7 in memory! (computed 153.3 MiB so far)\n",
      "22/10/16 22:11:33 WARN MemoryStore: Not enough space to cache rdd_417_3 in memory! (computed 153.3 MiB so far)\n",
      "22/10/16 22:11:33 WARN MemoryStore: Failed to reserve initial memory threshold of 1024.0 KiB for computing block rdd_682_3 in memory.\n",
      "22/10/16 22:11:33 WARN MemoryStore: Not enough space to cache rdd_682_3 in memory! (computed 384.0 B so far)\n",
      "22/10/16 22:11:33 WARN MemoryStore: Not enough space to cache rdd_417_1 in memory! (computed 153.3 MiB so far)\n",
      "22/10/16 22:11:33 WARN MemoryStore: Not enough space to cache rdd_417_0 in memory! (computed 153.3 MiB so far)\n"
     ]
    },
    {
     "name": "stderr",
     "output_type": "stream",
     "text": [
      "                                                                                \r"
     ]
    },
    {
     "name": "stdout",
     "output_type": "stream",
     "text": [
      "22/10/16 22:11:38 WARN MemoryStore: Not enough space to cache rdd_417_0 in memory! (computed 98.8 MiB so far)\n",
      "22/10/16 22:11:38 WARN MemoryStore: Not enough space to cache rdd_417_3 in memory! (computed 98.8 MiB so far)\n",
      "22/10/16 22:11:38 WARN MemoryStore: Not enough space to cache rdd_417_7 in memory! (computed 98.8 MiB so far)\n",
      "22/10/16 22:11:38 WARN MemoryStore: Not enough space to cache rdd_417_6 in memory! (computed 98.8 MiB so far)\n",
      "22/10/16 22:11:38 WARN MemoryStore: Not enough space to cache rdd_417_2 in memory! (computed 65.3 MiB so far)\n",
      "22/10/16 22:11:38 WARN MemoryStore: Not enough space to cache rdd_417_1 in memory! (computed 65.3 MiB so far)\n"
     ]
    },
    {
     "name": "stderr",
     "output_type": "stream",
     "text": [
      "[Stage 331:======>                                                  (1 + 8) / 9]\r"
     ]
    },
    {
     "name": "stdout",
     "output_type": "stream",
     "text": [
      "22/10/16 22:11:39 WARN MemoryStore: Not enough space to cache rdd_417_5 in memory! (computed 527.0 MiB so far)\n"
     ]
    },
    {
     "name": "stderr",
     "output_type": "stream",
     "text": [
      "                                                                                \r"
     ]
    },
    {
     "name": "stdout",
     "output_type": "stream",
     "text": [
      "22/10/16 22:11:42 WARN MemoryStore: Not enough space to cache rdd_417_7 in memory! (computed 98.8 MiB so far)\n",
      "22/10/16 22:11:42 WARN MemoryStore: Not enough space to cache rdd_417_2 in memory! (computed 65.3 MiB so far)\n",
      "22/10/16 22:11:42 WARN MemoryStore: Not enough space to cache rdd_417_5 in memory! (computed 98.8 MiB so far)\n",
      "22/10/16 22:11:42 WARN MemoryStore: Not enough space to cache rdd_417_1 in memory! (computed 98.8 MiB so far)\n",
      "22/10/16 22:11:42 WARN MemoryStore: Not enough space to cache rdd_417_3 in memory! (computed 98.8 MiB so far)\n",
      "22/10/16 22:11:42 WARN MemoryStore: Not enough space to cache rdd_417_0 in memory! (computed 65.3 MiB so far)\n"
     ]
    },
    {
     "name": "stderr",
     "output_type": "stream",
     "text": [
      "[Stage 334:======>                                                  (1 + 8) / 9]\r"
     ]
    },
    {
     "name": "stdout",
     "output_type": "stream",
     "text": [
      "22/10/16 22:11:45 WARN MemoryStore: Not enough space to cache rdd_417_8 in memory! (computed 29.0 MiB so far)\n",
      "22/10/16 22:11:45 WARN MemoryStore: Not enough space to cache rdd_417_6 in memory! (computed 791.9 MiB so far)\n"
     ]
    },
    {
     "name": "stderr",
     "output_type": "stream",
     "text": [
      "                                                                                \r"
     ]
    },
    {
     "name": "stdout",
     "output_type": "stream",
     "text": [
      "22/10/16 22:11:49 WARN MemoryStore: Not enough space to cache rdd_417_6 in memory! (computed 98.8 MiB so far)\n",
      "22/10/16 22:11:49 WARN MemoryStore: Not enough space to cache rdd_417_0 in memory! (computed 98.8 MiB so far)\n",
      "22/10/16 22:11:49 WARN MemoryStore: Not enough space to cache rdd_417_5 in memory! (computed 98.8 MiB so far)\n",
      "22/10/16 22:11:49 WARN MemoryStore: Not enough space to cache rdd_417_7 in memory! (computed 98.8 MiB so far)\n",
      "22/10/16 22:11:49 WARN MemoryStore: Not enough space to cache rdd_417_0 in memory! (computed 3.6 MiB so far)\n",
      "22/10/16 22:11:49 WARN MemoryStore: Not enough space to cache rdd_417_6 in memory! (computed 12.5 MiB so far)\n",
      "22/10/16 22:11:49 WARN MemoryStore: Not enough space to cache rdd_417_7 in memory! (computed 1591.6 KiB so far)\n",
      "22/10/16 22:11:49 WARN MemoryStore: Failed to reserve initial memory threshold of 1024.0 KiB for computing block rdd_417_7 in memory.\n",
      "22/10/16 22:11:49 WARN MemoryStore: Not enough space to cache rdd_417_7 in memory! (computed 384.0 B so far)\n",
      "22/10/16 22:11:49 WARN MemoryStore: Failed to reserve initial memory threshold of 1024.0 KiB for computing block rdd_417_6 in memory.\n",
      "22/10/16 22:11:49 WARN MemoryStore: Not enough space to cache rdd_417_6 in memory! (computed 384.0 B so far)\n",
      "22/10/16 22:11:49 WARN MemoryStore: Failed to reserve initial memory threshold of 1024.0 KiB for computing block rdd_679_7 in memory.\n",
      "22/10/16 22:11:49 WARN MemoryStore: Not enough space to cache rdd_679_7 in memory! (computed 384.0 B so far)\n",
      "22/10/16 22:11:49 WARN MemoryStore: Failed to reserve initial memory threshold of 1024.0 KiB for computing block rdd_679_6 in memory.\n",
      "22/10/16 22:11:49 WARN MemoryStore: Not enough space to cache rdd_679_6 in memory! (computed 384.0 B so far)\n",
      "22/10/16 22:11:49 WARN MemoryStore: Failed to reserve initial memory threshold of 1024.0 KiB for computing block rdd_701_7 in memory.\n",
      "22/10/16 22:11:49 WARN MemoryStore: Not enough space to cache rdd_701_7 in memory! (computed 384.0 B so far)\n",
      "22/10/16 22:11:49 WARN BlockManager: Persisting block rdd_701_7 to disk instead.\n",
      "22/10/16 22:11:49 WARN MemoryStore: Not enough space to cache rdd_417_5 in memory! (computed 8.2 MiB so far)\n",
      "22/10/16 22:11:49 WARN MemoryStore: Failed to reserve initial memory threshold of 1024.0 KiB for computing block rdd_417_0 in memory.\n",
      "22/10/16 22:11:49 WARN MemoryStore: Not enough space to cache rdd_417_0 in memory! (computed 384.0 B so far)\n",
      "22/10/16 22:11:49 WARN MemoryStore: Failed to reserve initial memory threshold of 1024.0 KiB for computing block rdd_701_6 in memory.\n",
      "22/10/16 22:11:49 WARN MemoryStore: Not enough space to cache rdd_701_6 in memory! (computed 384.0 B so far)\n",
      "22/10/16 22:11:49 WARN BlockManager: Persisting block rdd_701_6 to disk instead.\n",
      "22/10/16 22:11:49 WARN MemoryStore: Failed to reserve initial memory threshold of 1024.0 KiB for computing block rdd_417_5 in memory.\n",
      "22/10/16 22:11:49 WARN MemoryStore: Not enough space to cache rdd_417_5 in memory! (computed 384.0 B so far)\n",
      "22/10/16 22:11:49 WARN MemoryStore: Failed to reserve initial memory threshold of 1024.0 KiB for computing block rdd_679_5 in memory.\n",
      "22/10/16 22:11:49 WARN MemoryStore: Not enough space to cache rdd_679_5 in memory! (computed 384.0 B so far)\n",
      "22/10/16 22:11:49 WARN MemoryStore: Failed to reserve initial memory threshold of 1024.0 KiB for computing block rdd_701_5 in memory.\n",
      "22/10/16 22:11:49 WARN MemoryStore: Not enough space to cache rdd_701_5 in memory! (computed 384.0 B so far)\n",
      "22/10/16 22:11:49 WARN BlockManager: Persisting block rdd_701_5 to disk instead.\n",
      "22/10/16 22:11:49 WARN MemoryStore: Failed to reserve initial memory threshold of 1024.0 KiB for computing block rdd_679_0 in memory.\n",
      "22/10/16 22:11:49 WARN MemoryStore: Not enough space to cache rdd_679_0 in memory! (computed 384.0 B so far)\n",
      "22/10/16 22:11:49 WARN MemoryStore: Failed to reserve initial memory threshold of 1024.0 KiB for computing block rdd_701_0 in memory.\n",
      "22/10/16 22:11:49 WARN MemoryStore: Not enough space to cache rdd_701_0 in memory! (computed 384.0 B so far)\n",
      "22/10/16 22:11:49 WARN BlockManager: Persisting block rdd_701_0 to disk instead.\n"
     ]
    },
    {
     "name": "stderr",
     "output_type": "stream",
     "text": [
      "[Stage 337:>                                                        (0 + 8) / 9]\r"
     ]
    },
    {
     "name": "stdout",
     "output_type": "stream",
     "text": [
      "22/10/16 22:11:50 WARN MemoryStore: Not enough space to cache rdd_701_4 in memory! (computed 2.4 MiB so far)\n",
      "22/10/16 22:11:50 WARN BlockManager: Persisting block rdd_701_4 to disk instead.\n",
      "22/10/16 22:11:50 WARN MemoryStore: Not enough space to cache rdd_417_2 in memory! (computed 153.3 MiB so far)\n",
      "22/10/16 22:11:50 WARN MemoryStore: Not enough space to cache rdd_417_3 in memory! (computed 153.3 MiB so far)\n",
      "22/10/16 22:11:50 WARN MemoryStore: Not enough space to cache rdd_417_3 in memory! (computed 1050.0 KiB so far)\n",
      "22/10/16 22:11:50 WARN MemoryStore: Failed to reserve initial memory threshold of 1024.0 KiB for computing block rdd_417_3 in memory.\n",
      "22/10/16 22:11:50 WARN MemoryStore: Not enough space to cache rdd_417_3 in memory! (computed 384.0 B so far)\n",
      "22/10/16 22:11:50 WARN MemoryStore: Not enough space to cache rdd_417_2 in memory! (computed 1591.6 KiB so far)\n",
      "22/10/16 22:11:50 WARN MemoryStore: Failed to reserve initial memory threshold of 1024.0 KiB for computing block rdd_679_3 in memory.\n",
      "22/10/16 22:11:50 WARN MemoryStore: Failed to reserve initial memory threshold of 1024.0 KiB for computing block rdd_417_2 in memory.\n",
      "22/10/16 22:11:50 WARN MemoryStore: Not enough space to cache rdd_417_2 in memory! (computed 384.0 B so far)\n",
      "22/10/16 22:11:50 WARN MemoryStore: Not enough space to cache rdd_679_3 in memory! (computed 384.0 B so far)\n",
      "22/10/16 22:11:50 WARN MemoryStore: Failed to reserve initial memory threshold of 1024.0 KiB for computing block rdd_679_2 in memory.\n",
      "22/10/16 22:11:50 WARN MemoryStore: Not enough space to cache rdd_679_2 in memory! (computed 384.0 B so far)\n",
      "22/10/16 22:11:50 WARN MemoryStore: Failed to reserve initial memory threshold of 1024.0 KiB for computing block rdd_701_3 in memory.\n",
      "22/10/16 22:11:50 WARN MemoryStore: Not enough space to cache rdd_701_3 in memory! (computed 384.0 B so far)\n",
      "22/10/16 22:11:50 WARN BlockManager: Persisting block rdd_701_3 to disk instead.\n",
      "22/10/16 22:11:50 WARN MemoryStore: Failed to reserve initial memory threshold of 1024.0 KiB for computing block rdd_701_2 in memory.\n",
      "22/10/16 22:11:50 WARN MemoryStore: Not enough space to cache rdd_701_2 in memory! (computed 384.0 B so far)\n",
      "22/10/16 22:11:50 WARN BlockManager: Persisting block rdd_701_2 to disk instead.\n",
      "22/10/16 22:11:50 WARN MemoryStore: Not enough space to cache rdd_417_1 in memory! (computed 153.3 MiB so far)\n",
      "22/10/16 22:11:50 WARN MemoryStore: Failed to reserve initial memory threshold of 1024.0 KiB for computing block rdd_417_1 in memory.\n",
      "22/10/16 22:11:50 WARN MemoryStore: Not enough space to cache rdd_417_1 in memory! (computed 384.0 B so far)\n",
      "22/10/16 22:11:50 WARN MemoryStore: Failed to reserve initial memory threshold of 1024.0 KiB for computing block rdd_417_1 in memory.\n",
      "22/10/16 22:11:50 WARN MemoryStore: Not enough space to cache rdd_417_1 in memory! (computed 384.0 B so far)\n",
      "22/10/16 22:11:50 WARN MemoryStore: Failed to reserve initial memory threshold of 1024.0 KiB for computing block rdd_679_1 in memory.\n",
      "22/10/16 22:11:50 WARN MemoryStore: Not enough space to cache rdd_679_1 in memory! (computed 384.0 B so far)\n",
      "22/10/16 22:11:50 WARN MemoryStore: Failed to reserve initial memory threshold of 1024.0 KiB for computing block rdd_701_1 in memory.\n",
      "22/10/16 22:11:50 WARN MemoryStore: Not enough space to cache rdd_701_1 in memory! (computed 384.0 B so far)\n",
      "22/10/16 22:11:50 WARN BlockManager: Persisting block rdd_701_1 to disk instead.\n",
      "22/10/16 22:11:50 WARN MemoryStore: Not enough space to cache rdd_701_4 in memory! (computed 8.2 MiB so far)\n",
      "22/10/16 22:11:50 WARN MemoryStore: Not enough space to cache rdd_704_4 in memory! (computed 2.7 MiB so far)\n",
      "22/10/16 22:11:50 WARN BlockManager: Persisting block rdd_704_4 to disk instead.\n",
      "22/10/16 22:11:51 WARN MemoryStore: Not enough space to cache rdd_704_4 in memory! (computed 10.8 MiB so far)\n",
      "22/10/16 22:11:52 WARN MemoryStore: Not enough space to cache rdd_417_8 in memory! (computed 8.2 MiB so far)\n",
      "22/10/16 22:11:52 WARN MemoryStore: Not enough space to cache rdd_417_8 in memory! (computed 2.4 MiB so far)\n",
      "22/10/16 22:11:52 WARN MemoryStore: Failed to reserve initial memory threshold of 1024.0 KiB for computing block rdd_417_8 in memory.\n",
      "22/10/16 22:11:52 WARN MemoryStore: Not enough space to cache rdd_417_8 in memory! (computed 384.0 B so far)\n"
     ]
    },
    {
     "name": "stderr",
     "output_type": "stream",
     "text": [
      "[Stage 340:>                                                        (0 + 8) / 9]\r"
     ]
    },
    {
     "name": "stdout",
     "output_type": "stream",
     "text": [
      "22/10/16 22:12:00 WARN MemoryStore: Not enough space to cache rdd_417_1 in memory! (computed 234.1 MiB so far)\n",
      "22/10/16 22:12:00 WARN MemoryStore: Not enough space to cache rdd_417_6 in memory! (computed 234.1 MiB so far)\n",
      "22/10/16 22:12:00 WARN MemoryStore: Not enough space to cache rdd_417_7 in memory! (computed 234.1 MiB so far)\n",
      "22/10/16 22:12:00 WARN MemoryStore: Not enough space to cache rdd_417_3 in memory! (computed 234.1 MiB so far)\n",
      "22/10/16 22:12:00 WARN MemoryStore: Not enough space to cache rdd_417_2 in memory! (computed 234.1 MiB so far)\n",
      "22/10/16 22:12:00 WARN MemoryStore: Not enough space to cache rdd_417_4 in memory! (computed 234.1 MiB so far)\n",
      "22/10/16 22:12:00 WARN MemoryStore: Not enough space to cache rdd_417_0 in memory! (computed 234.1 MiB so far)\n",
      "22/10/16 22:12:00 WARN MemoryStore: Not enough space to cache rdd_704_3 in memory! (computed 1537.3 KiB so far)\n",
      "22/10/16 22:12:00 WARN MemoryStore: Not enough space to cache rdd_704_2 in memory! (computed 1537.3 KiB so far)\n",
      "22/10/16 22:12:00 WARN MemoryStore: Not enough space to cache rdd_704_4 in memory! (computed 2.7 MiB so far)\n"
     ]
    },
    {
     "name": "stderr",
     "output_type": "stream",
     "text": [
      "                                                                                \r"
     ]
    },
    {
     "name": "stdout",
     "output_type": "stream",
     "text": [
      "22/10/16 22:12:04 WARN MemoryStore: Not enough space to cache rdd_417_0 in memory! (computed 98.8 MiB so far)\n",
      "22/10/16 22:12:04 WARN MemoryStore: Not enough space to cache rdd_417_6 in memory! (computed 98.8 MiB so far)\n",
      "22/10/16 22:12:04 WARN MemoryStore: Not enough space to cache rdd_417_1 in memory! (computed 98.8 MiB so far)\n",
      "22/10/16 22:12:04 WARN MemoryStore: Not enough space to cache rdd_417_3 in memory! (computed 98.8 MiB so far)\n",
      "22/10/16 22:12:04 WARN MemoryStore: Not enough space to cache rdd_417_7 in memory! (computed 98.8 MiB so far)\n",
      "22/10/16 22:12:04 WARN MemoryStore: Not enough space to cache rdd_417_4 in memory! (computed 98.8 MiB so far)\n"
     ]
    },
    {
     "name": "stderr",
     "output_type": "stream",
     "text": [
      "[Stage 343:======>                                                  (1 + 8) / 9]\r"
     ]
    },
    {
     "name": "stdout",
     "output_type": "stream",
     "text": [
      "22/10/16 22:12:07 WARN MemoryStore: Not enough space to cache rdd_417_2 in memory! (computed 527.0 MiB so far)\n"
     ]
    },
    {
     "name": "stderr",
     "output_type": "stream",
     "text": [
      "                                                                                \r"
     ]
    },
    {
     "name": "stdout",
     "output_type": "stream",
     "text": [
      "22/10/16 22:12:10 WARN MemoryStore: Not enough space to cache rdd_417_4 in memory! (computed 98.8 MiB so far)\n",
      "22/10/16 22:12:10 WARN MemoryStore: Not enough space to cache rdd_417_3 in memory! (computed 98.8 MiB so far)\n",
      "22/10/16 22:12:10 WARN MemoryStore: Not enough space to cache rdd_417_1 in memory! (computed 98.8 MiB so far)\n",
      "22/10/16 22:12:10 WARN MemoryStore: Not enough space to cache rdd_417_7 in memory! (computed 98.8 MiB so far)\n",
      "22/10/16 22:12:10 WARN MemoryStore: Not enough space to cache rdd_417_2 in memory! (computed 65.3 MiB so far)\n"
     ]
    },
    {
     "name": "stderr",
     "output_type": "stream",
     "text": [
      "[Stage 346:>                                                        (0 + 8) / 9]\r"
     ]
    },
    {
     "name": "stdout",
     "output_type": "stream",
     "text": [
      "22/10/16 22:12:10 WARN MemoryStore: Not enough space to cache rdd_417_6 in memory! (computed 234.1 MiB so far)\n"
     ]
    },
    {
     "name": "stderr",
     "output_type": "stream",
     "text": [
      "[Stage 346:======>                                                  (1 + 8) / 9]\r"
     ]
    },
    {
     "name": "stdout",
     "output_type": "stream",
     "text": [
      "22/10/16 22:12:12 WARN MemoryStore: Not enough space to cache rdd_417_8 in memory! (computed 98.8 MiB so far)\n"
     ]
    },
    {
     "name": "stderr",
     "output_type": "stream",
     "text": [
      "                                                                                \r"
     ]
    },
    {
     "name": "stdout",
     "output_type": "stream",
     "text": [
      "22/10/16 22:12:15 WARN MemoryStore: Not enough space to cache rdd_417_2 in memory! (computed 98.8 MiB so far)\n",
      "22/10/16 22:12:15 WARN MemoryStore: Not enough space to cache rdd_417_7 in memory! (computed 98.8 MiB so far)\n",
      "22/10/16 22:12:15 WARN MemoryStore: Not enough space to cache rdd_417_3 in memory! (computed 98.8 MiB so far)\n",
      "22/10/16 22:12:15 WARN MemoryStore: Failed to reserve initial memory threshold of 1024.0 KiB for computing block rdd_704_3 in memory.\n",
      "22/10/16 22:12:15 WARN MemoryStore: Failed to reserve initial memory threshold of 1024.0 KiB for computing block rdd_704_7 in memory.\n",
      "22/10/16 22:12:15 WARN MemoryStore: Not enough space to cache rdd_417_4 in memory! (computed 98.8 MiB so far)\n",
      "22/10/16 22:12:15 WARN MemoryStore: Not enough space to cache rdd_704_3 in memory! (computed 384.0 B so far)\n",
      "22/10/16 22:12:15 WARN MemoryStore: Failed to reserve initial memory threshold of 1024.0 KiB for computing block rdd_704_2 in memory.\n",
      "22/10/16 22:12:15 WARN MemoryStore: Not enough space to cache rdd_704_2 in memory! (computed 384.0 B so far)\n",
      "22/10/16 22:12:15 WARN MemoryStore: Not enough space to cache rdd_704_7 in memory! (computed 384.0 B so far)\n",
      "22/10/16 22:12:15 WARN MemoryStore: Failed to reserve initial memory threshold of 1024.0 KiB for computing block rdd_704_4 in memory.\n",
      "22/10/16 22:12:15 WARN MemoryStore: Not enough space to cache rdd_704_4 in memory! (computed 384.0 B so far)\n"
     ]
    },
    {
     "name": "stderr",
     "output_type": "stream",
     "text": [
      "[Stage 349:>                                                        (0 + 8) / 9]\r"
     ]
    },
    {
     "name": "stdout",
     "output_type": "stream",
     "text": [
      "22/10/16 22:12:17 WARN MemoryStore: Not enough space to cache rdd_417_6 in memory! (computed 153.3 MiB so far)\n",
      "22/10/16 22:12:17 WARN MemoryStore: Not enough space to cache rdd_417_1 in memory! (computed 153.3 MiB so far)\n",
      "22/10/16 22:12:17 WARN MemoryStore: Not enough space to cache rdd_417_5 in memory! (computed 153.3 MiB so far)\n",
      "22/10/16 22:12:17 WARN MemoryStore: Failed to reserve initial memory threshold of 1024.0 KiB for computing block rdd_704_1 in memory.\n",
      "22/10/16 22:12:17 WARN MemoryStore: Not enough space to cache rdd_704_1 in memory! (computed 384.0 B so far)\n",
      "22/10/16 22:12:17 WARN MemoryStore: Failed to reserve initial memory threshold of 1024.0 KiB for computing block rdd_704_5 in memory.\n",
      "22/10/16 22:12:17 WARN MemoryStore: Not enough space to cache rdd_704_5 in memory! (computed 384.0 B so far)\n",
      "22/10/16 22:12:17 WARN MemoryStore: Failed to reserve initial memory threshold of 1024.0 KiB for computing block rdd_704_6 in memory.\n",
      "22/10/16 22:12:17 WARN MemoryStore: Not enough space to cache rdd_704_6 in memory! (computed 384.0 B so far)\n"
     ]
    },
    {
     "name": "stderr",
     "output_type": "stream",
     "text": [
      "                                                                                \r"
     ]
    },
    {
     "name": "stdout",
     "output_type": "stream",
     "text": [
      "22/10/16 22:12:20 WARN MemoryStore: Not enough space to cache rdd_417_3 in memory! (computed 65.3 MiB so far)\n",
      "22/10/16 22:12:20 WARN MemoryStore: Not enough space to cache rdd_417_1 in memory! (computed 65.3 MiB so far)\n",
      "22/10/16 22:12:20 WARN MemoryStore: Not enough space to cache rdd_417_7 in memory! (computed 65.3 MiB so far)\n"
     ]
    },
    {
     "name": "stderr",
     "output_type": "stream",
     "text": [
      "[Stage 352:>                                                        (0 + 8) / 9]\r"
     ]
    },
    {
     "name": "stdout",
     "output_type": "stream",
     "text": [
      "22/10/16 22:12:21 WARN MemoryStore: Not enough space to cache rdd_417_3 in memory! (computed 12.5 MiB so far)\n",
      "22/10/16 22:12:21 WARN MemoryStore: Not enough space to cache rdd_417_1 in memory! (computed 8.2 MiB so far)\n",
      "22/10/16 22:12:21 WARN MemoryStore: Not enough space to cache rdd_417_3 in memory! (computed 1050.0 KiB so far)\n",
      "22/10/16 22:12:21 WARN MemoryStore: Not enough space to cache rdd_417_7 in memory! (computed 8.2 MiB so far)\n",
      "22/10/16 22:12:22 WARN MemoryStore: Failed to reserve initial memory threshold of 1024.0 KiB for computing block rdd_417_7 in memory.\n",
      "22/10/16 22:12:22 WARN MemoryStore: Not enough space to cache rdd_417_7 in memory! (computed 384.0 B so far)\n",
      "22/10/16 22:12:22 WARN MemoryStore: Not enough space to cache rdd_417_4 in memory! (computed 98.8 MiB so far)\n",
      "22/10/16 22:12:22 WARN MemoryStore: Not enough space to cache rdd_417_1 in memory! (computed 29.0 MiB so far)\n",
      "22/10/16 22:12:22 WARN MemoryStore: Not enough space to cache rdd_417_4 in memory! (computed 19.0 MiB so far)\n",
      "22/10/16 22:12:22 WARN MemoryStore: Not enough space to cache rdd_701_7 in memory! (computed 5.5 MiB so far)\n",
      "22/10/16 22:12:22 WARN MemoryStore: Not enough space to cache rdd_417_4 in memory! (computed 1050.0 KiB so far)\n",
      "22/10/16 22:12:22 WARN MemoryStore: Failed to reserve initial memory threshold of 1024.0 KiB for computing block rdd_701_4 in memory.\n",
      "22/10/16 22:12:22 WARN MemoryStore: Not enough space to cache rdd_701_4 in memory! (computed 384.0 B so far)\n",
      "22/10/16 22:12:22 WARN MemoryStore: Failed to reserve initial memory threshold of 1024.0 KiB for computing block rdd_723_4 in memory.\n",
      "22/10/16 22:12:22 WARN MemoryStore: Not enough space to cache rdd_723_4 in memory! (computed 384.0 B so far)\n",
      "22/10/16 22:12:22 WARN BlockManager: Persisting block rdd_723_4 to disk instead.\n",
      "22/10/16 22:12:22 WARN MemoryStore: Not enough space to cache rdd_701_3 in memory! (computed 5.5 MiB so far)\n",
      "22/10/16 22:12:22 WARN MemoryStore: Not enough space to cache rdd_417_6 in memory! (computed 153.3 MiB so far)\n",
      "22/10/16 22:12:22 WARN MemoryStore: Not enough space to cache rdd_723_0 in memory! (computed 5.5 MiB so far)\n",
      "22/10/16 22:12:22 WARN BlockManager: Persisting block rdd_723_0 to disk instead.\n",
      "22/10/16 22:12:22 WARN MemoryStore: Not enough space to cache rdd_417_6 in memory! (computed 1050.0 KiB so far)\n",
      "22/10/16 22:12:22 WARN MemoryStore: Failed to reserve initial memory threshold of 1024.0 KiB for computing block rdd_417_6 in memory.\n",
      "22/10/16 22:12:22 WARN MemoryStore: Not enough space to cache rdd_417_6 in memory! (computed 384.0 B so far)\n",
      "22/10/16 22:12:22 WARN MemoryStore: Failed to reserve initial memory threshold of 1024.0 KiB for computing block rdd_701_6 in memory.\n",
      "22/10/16 22:12:22 WARN MemoryStore: Not enough space to cache rdd_701_6 in memory! (computed 384.0 B so far)\n",
      "22/10/16 22:12:22 WARN MemoryStore: Failed to reserve initial memory threshold of 1024.0 KiB for computing block rdd_723_6 in memory.\n",
      "22/10/16 22:12:22 WARN MemoryStore: Not enough space to cache rdd_723_6 in memory! (computed 384.0 B so far)\n",
      "22/10/16 22:12:22 WARN BlockManager: Persisting block rdd_723_6 to disk instead.\n",
      "22/10/16 22:12:22 WARN MemoryStore: Not enough space to cache rdd_701_1 in memory! (computed 1035.4 KiB so far)\n",
      "22/10/16 22:12:22 WARN MemoryStore: Failed to reserve initial memory threshold of 1024.0 KiB for computing block rdd_723_1 in memory.\n",
      "22/10/16 22:12:22 WARN MemoryStore: Not enough space to cache rdd_723_1 in memory! (computed 384.0 B so far)\n",
      "22/10/16 22:12:22 WARN BlockManager: Persisting block rdd_723_1 to disk instead.\n",
      "22/10/16 22:12:22 WARN MemoryStore: Not enough space to cache rdd_417_5 in memory! (computed 153.3 MiB so far)\n",
      "22/10/16 22:12:22 WARN MemoryStore: Not enough space to cache rdd_417_2 in memory! (computed 153.3 MiB so far)\n",
      "22/10/16 22:12:22 WARN MemoryStore: Not enough space to cache rdd_417_5 in memory! (computed 19.0 MiB so far)\n",
      "22/10/16 22:12:22 WARN MemoryStore: Not enough space to cache rdd_417_2 in memory! (computed 12.5 MiB so far)\n",
      "22/10/16 22:12:22 WARN MemoryStore: Not enough space to cache rdd_417_5 in memory! (computed 1050.0 KiB so far)\n",
      "22/10/16 22:12:22 WARN MemoryStore: Failed to reserve initial memory threshold of 1024.0 KiB for computing block rdd_701_5 in memory.\n",
      "22/10/16 22:12:22 WARN MemoryStore: Not enough space to cache rdd_701_5 in memory! (computed 384.0 B so far)\n",
      "22/10/16 22:12:22 WARN MemoryStore: Failed to reserve initial memory threshold of 1024.0 KiB for computing block rdd_723_5 in memory.\n",
      "22/10/16 22:12:22 WARN MemoryStore: Not enough space to cache rdd_723_5 in memory! (computed 384.0 B so far)\n",
      "22/10/16 22:12:22 WARN BlockManager: Persisting block rdd_723_5 to disk instead.\n",
      "22/10/16 22:12:22 WARN MemoryStore: Not enough space to cache rdd_417_2 in memory! (computed 2.4 MiB so far)\n",
      "22/10/16 22:12:22 WARN MemoryStore: Not enough space to cache rdd_701_2 in memory! (computed 1035.4 KiB so far)\n",
      "22/10/16 22:12:22 WARN MemoryStore: Failed to reserve initial memory threshold of 1024.0 KiB for computing block rdd_723_2 in memory.\n",
      "22/10/16 22:12:22 WARN MemoryStore: Not enough space to cache rdd_723_2 in memory! (computed 384.0 B so far)\n",
      "22/10/16 22:12:22 WARN BlockManager: Persisting block rdd_723_2 to disk instead.\n",
      "22/10/16 22:12:22 WARN MemoryStore: Not enough space to cache rdd_723_0 in memory! (computed 13.0 MiB so far)\n",
      "22/10/16 22:12:22 WARN MemoryStore: Failed to reserve initial memory threshold of 1024.0 KiB for computing block rdd_726_0 in memory.\n",
      "22/10/16 22:12:22 WARN MemoryStore: Not enough space to cache rdd_726_0 in memory! (computed 384.0 B so far)\n",
      "22/10/16 22:12:22 WARN BlockManager: Persisting block rdd_726_0 to disk instead.\n",
      "22/10/16 22:12:23 WARN MemoryStore: Not enough space to cache rdd_726_0 in memory! (computed 10.8 MiB so far)\n",
      "22/10/16 22:12:23 WARN MemoryStore: Not enough space to cache rdd_723_3 in memory! (computed 3.7 MiB so far)\n",
      "22/10/16 22:12:23 WARN BlockManager: Persisting block rdd_723_3 to disk instead.\n",
      "22/10/16 22:12:24 WARN MemoryStore: Not enough space to cache rdd_417_8 in memory! (computed 12.5 MiB so far)\n"
     ]
    },
    {
     "name": "stderr",
     "output_type": "stream",
     "text": [
      "[Stage 355:>                                                        (0 + 8) / 9]\r"
     ]
    },
    {
     "name": "stdout",
     "output_type": "stream",
     "text": [
      "22/10/16 22:12:32 WARN MemoryStore: Not enough space to cache rdd_417_1 in memory! (computed 234.1 MiB so far)\n",
      "22/10/16 22:12:32 WARN MemoryStore: Not enough space to cache rdd_417_2 in memory! (computed 234.1 MiB so far)\n",
      "22/10/16 22:12:32 WARN MemoryStore: Not enough space to cache rdd_417_7 in memory! (computed 234.1 MiB so far)\n",
      "22/10/16 22:12:32 WARN MemoryStore: Not enough space to cache rdd_417_6 in memory! (computed 234.1 MiB so far)\n",
      "22/10/16 22:12:32 WARN MemoryStore: Not enough space to cache rdd_417_3 in memory! (computed 234.1 MiB so far)\n",
      "22/10/16 22:12:32 WARN MemoryStore: Not enough space to cache rdd_417_5 in memory! (computed 234.1 MiB so far)\n",
      "22/10/16 22:12:32 WARN MemoryStore: Not enough space to cache rdd_417_4 in memory! (computed 153.3 MiB so far)\n"
     ]
    },
    {
     "name": "stderr",
     "output_type": "stream",
     "text": [
      "                                                                                \r"
     ]
    },
    {
     "name": "stdout",
     "output_type": "stream",
     "text": [
      "22/10/16 22:12:39 WARN MemoryStore: Not enough space to cache rdd_417_3 in memory! (computed 98.8 MiB so far)\n",
      "22/10/16 22:12:39 WARN MemoryStore: Not enough space to cache rdd_417_4 in memory! (computed 98.8 MiB so far)\n",
      "22/10/16 22:12:39 WARN MemoryStore: Not enough space to cache rdd_417_6 in memory! (computed 98.8 MiB so far)\n",
      "22/10/16 22:12:39 WARN MemoryStore: Not enough space to cache rdd_417_5 in memory! (computed 65.3 MiB so far)\n",
      "22/10/16 22:12:39 WARN MemoryStore: Not enough space to cache rdd_417_7 in memory! (computed 65.3 MiB so far)\n"
     ]
    },
    {
     "name": "stderr",
     "output_type": "stream",
     "text": [
      "[Stage 358:>                                                        (0 + 8) / 9]\r"
     ]
    },
    {
     "name": "stdout",
     "output_type": "stream",
     "text": [
      "22/10/16 22:12:39 WARN MemoryStore: Not enough space to cache rdd_417_2 in memory! (computed 153.3 MiB so far)\n",
      "22/10/16 22:12:39 WARN MemoryStore: Not enough space to cache rdd_417_1 in memory! (computed 153.3 MiB so far)\n"
     ]
    },
    {
     "name": "stderr",
     "output_type": "stream",
     "text": [
      "                                                                                \r"
     ]
    },
    {
     "name": "stdout",
     "output_type": "stream",
     "text": [
      "22/10/16 22:12:44 WARN MemoryStore: Not enough space to cache rdd_417_2 in memory! (computed 65.3 MiB so far)\n",
      "22/10/16 22:12:44 WARN MemoryStore: Not enough space to cache rdd_417_7 in memory! (computed 65.3 MiB so far)\n",
      "22/10/16 22:12:44 WARN MemoryStore: Not enough space to cache rdd_417_6 in memory! (computed 98.8 MiB so far)\n"
     ]
    },
    {
     "name": "stderr",
     "output_type": "stream",
     "text": [
      "[Stage 361:>                                                        (0 + 8) / 9]\r"
     ]
    },
    {
     "name": "stdout",
     "output_type": "stream",
     "text": [
      "22/10/16 22:12:44 WARN MemoryStore: Not enough space to cache rdd_417_5 in memory! (computed 153.3 MiB so far)\n",
      "22/10/16 22:12:44 WARN MemoryStore: Not enough space to cache rdd_417_3 in memory! (computed 153.3 MiB so far)\n",
      "22/10/16 22:12:44 WARN MemoryStore: Not enough space to cache rdd_726_2 in memory! (computed 6.2 MiB so far)\n",
      "22/10/16 22:12:44 WARN MemoryStore: Not enough space to cache rdd_417_1 in memory! (computed 153.3 MiB so far)\n",
      "22/10/16 22:12:44 WARN MemoryStore: Failed to reserve initial memory threshold of 1024.0 KiB for computing block rdd_726_1 in memory.\n",
      "22/10/16 22:12:44 WARN MemoryStore: Not enough space to cache rdd_726_1 in memory! (computed 384.0 B so far)\n",
      "22/10/16 22:12:44 WARN MemoryStore: Not enough space to cache rdd_726_5 in memory! (computed 1024.6 KiB so far)\n",
      "22/10/16 22:12:44 WARN MemoryStore: Not enough space to cache rdd_726_7 in memory! (computed 6.2 MiB so far)\n",
      "22/10/16 22:12:44 WARN MemoryStore: Not enough space to cache rdd_726_6 in memory! (computed 1537.3 KiB so far)\n",
      "22/10/16 22:12:44 WARN MemoryStore: Not enough space to cache rdd_726_3 in memory! (computed 1024.6 KiB so far)\n",
      "22/10/16 22:12:44 WARN MemoryStore: Not enough space to cache rdd_417_4 in memory! (computed 153.3 MiB so far)\n",
      "22/10/16 22:12:44 WARN MemoryStore: Failed to reserve initial memory threshold of 1024.0 KiB for computing block rdd_726_4 in memory.\n",
      "22/10/16 22:12:44 WARN MemoryStore: Not enough space to cache rdd_726_4 in memory! (computed 384.0 B so far)\n"
     ]
    },
    {
     "name": "stderr",
     "output_type": "stream",
     "text": [
      "                                                                                \r"
     ]
    },
    {
     "name": "stdout",
     "output_type": "stream",
     "text": [
      "22/10/16 22:12:48 WARN MemoryStore: Not enough space to cache rdd_417_5 in memory! (computed 65.3 MiB so far)\n",
      "22/10/16 22:12:48 WARN MemoryStore: Not enough space to cache rdd_417_7 in memory! (computed 65.3 MiB so far)\n",
      "22/10/16 22:12:48 WARN MemoryStore: Not enough space to cache rdd_417_3 in memory! (computed 98.8 MiB so far)\n"
     ]
    },
    {
     "name": "stderr",
     "output_type": "stream",
     "text": [
      "[Stage 364:>                                                        (0 + 8) / 9]\r"
     ]
    },
    {
     "name": "stdout",
     "output_type": "stream",
     "text": [
      "22/10/16 22:12:49 WARN MemoryStore: Not enough space to cache rdd_726_5 in memory! (computed 6.2 MiB so far)\n",
      "22/10/16 22:12:49 WARN MemoryStore: Not enough space to cache rdd_726_3 in memory! (computed 2.7 MiB so far)\n",
      "22/10/16 22:12:49 WARN MemoryStore: Not enough space to cache rdd_726_7 in memory! (computed 6.2 MiB so far)\n",
      "22/10/16 22:12:49 WARN MemoryStore: Not enough space to cache rdd_417_1 in memory! (computed 153.3 MiB so far)\n",
      "22/10/16 22:12:49 WARN MemoryStore: Not enough space to cache rdd_417_2 in memory! (computed 153.3 MiB so far)\n",
      "22/10/16 22:12:49 WARN MemoryStore: Failed to reserve initial memory threshold of 1024.0 KiB for computing block rdd_726_2 in memory.\n",
      "22/10/16 22:12:49 WARN MemoryStore: Not enough space to cache rdd_726_2 in memory! (computed 384.0 B so far)\n",
      "22/10/16 22:12:49 WARN MemoryStore: Not enough space to cache rdd_417_6 in memory! (computed 153.3 MiB so far)\n",
      "22/10/16 22:12:49 WARN MemoryStore: Failed to reserve initial memory threshold of 1024.0 KiB for computing block rdd_726_6 in memory.\n",
      "22/10/16 22:12:49 WARN MemoryStore: Not enough space to cache rdd_726_6 in memory! (computed 384.0 B so far)\n",
      "22/10/16 22:12:49 WARN MemoryStore: Not enough space to cache rdd_417_4 in memory! (computed 153.3 MiB so far)\n",
      "22/10/16 22:12:49 WARN MemoryStore: Not enough space to cache rdd_726_1 in memory! (computed 1024.6 KiB so far)\n",
      "22/10/16 22:12:49 WARN MemoryStore: Failed to reserve initial memory threshold of 1024.0 KiB for computing block rdd_726_4 in memory.\n",
      "22/10/16 22:12:49 WARN MemoryStore: Not enough space to cache rdd_726_4 in memory! (computed 384.0 B so far)\n"
     ]
    },
    {
     "name": "stderr",
     "output_type": "stream",
     "text": [
      "                                                                                \r"
     ]
    },
    {
     "name": "stdout",
     "output_type": "stream",
     "text": [
      "22/10/16 22:12:53 WARN MemoryStore: Not enough space to cache rdd_417_3 in memory! (computed 65.3 MiB so far)\n",
      "22/10/16 22:12:53 WARN MemoryStore: Not enough space to cache rdd_417_7 in memory! (computed 65.3 MiB so far)\n",
      "22/10/16 22:12:53 WARN MemoryStore: Not enough space to cache rdd_417_6 in memory! (computed 65.3 MiB so far)\n",
      "22/10/16 22:12:53 WARN MemoryStore: Not enough space to cache rdd_417_7 in memory! (computed 8.2 MiB so far)\n",
      "22/10/16 22:12:53 WARN MemoryStore: Not enough space to cache rdd_417_6 in memory! (computed 8.2 MiB so far)\n"
     ]
    },
    {
     "name": "stderr",
     "output_type": "stream",
     "text": [
      "[Stage 367:>                                                        (0 + 8) / 9]\r"
     ]
    },
    {
     "name": "stdout",
     "output_type": "stream",
     "text": [
      "22/10/16 22:12:54 WARN MemoryStore: Not enough space to cache rdd_417_6 in memory! (computed 3.6 MiB so far)\n",
      "22/10/16 22:12:54 WARN MemoryStore: Failed to reserve initial memory threshold of 1024.0 KiB for computing block rdd_723_6 in memory.\n",
      "22/10/16 22:12:54 WARN MemoryStore: Not enough space to cache rdd_723_6 in memory! (computed 384.0 B so far)\n",
      "22/10/16 22:12:54 WARN MemoryStore: Failed to reserve initial memory threshold of 1024.0 KiB for computing block rdd_745_6 in memory.\n",
      "22/10/16 22:12:54 WARN MemoryStore: Not enough space to cache rdd_745_6 in memory! (computed 384.0 B so far)\n",
      "22/10/16 22:12:54 WARN BlockManager: Persisting block rdd_745_6 to disk instead.\n",
      "22/10/16 22:12:54 WARN MemoryStore: Not enough space to cache rdd_417_3 in memory! (computed 19.0 MiB so far)\n",
      "22/10/16 22:12:54 WARN MemoryStore: Failed to reserve initial memory threshold of 1024.0 KiB for computing block rdd_417_3 in memory.\n",
      "22/10/16 22:12:54 WARN MemoryStore: Not enough space to cache rdd_417_3 in memory! (computed 384.0 B so far)\n",
      "22/10/16 22:12:54 WARN MemoryStore: Not enough space to cache rdd_417_7 in memory! (computed 5.4 MiB so far)\n",
      "22/10/16 22:12:54 WARN MemoryStore: Not enough space to cache rdd_745_0 in memory! (computed 3.7 MiB so far)\n",
      "22/10/16 22:12:54 WARN BlockManager: Persisting block rdd_745_0 to disk instead.\n",
      "22/10/16 22:12:54 WARN MemoryStore: Not enough space to cache rdd_723_3 in memory! (computed 1035.4 KiB so far)\n",
      "22/10/16 22:12:54 WARN MemoryStore: Failed to reserve initial memory threshold of 1024.0 KiB for computing block rdd_745_3 in memory.\n",
      "22/10/16 22:12:54 WARN MemoryStore: Not enough space to cache rdd_745_3 in memory! (computed 384.0 B so far)\n",
      "22/10/16 22:12:54 WARN BlockManager: Persisting block rdd_745_3 to disk instead.\n",
      "22/10/16 22:12:54 WARN MemoryStore: Not enough space to cache rdd_723_7 in memory! (computed 1035.4 KiB so far)\n",
      "22/10/16 22:12:54 WARN MemoryStore: Failed to reserve initial memory threshold of 1024.0 KiB for computing block rdd_745_7 in memory.\n",
      "22/10/16 22:12:54 WARN MemoryStore: Not enough space to cache rdd_745_7 in memory! (computed 384.0 B so far)\n",
      "22/10/16 22:12:54 WARN BlockManager: Persisting block rdd_745_7 to disk instead.\n",
      "22/10/16 22:12:54 WARN MemoryStore: Not enough space to cache rdd_417_1 in memory! (computed 153.3 MiB so far)\n",
      "22/10/16 22:12:54 WARN MemoryStore: Not enough space to cache rdd_417_5 in memory! (computed 153.3 MiB so far)\n",
      "22/10/16 22:12:54 WARN MemoryStore: Not enough space to cache rdd_417_2 in memory! (computed 153.3 MiB so far)\n",
      "22/10/16 22:12:54 WARN MemoryStore: Not enough space to cache rdd_417_5 in memory! (computed 2.4 MiB so far)\n",
      "22/10/16 22:12:54 WARN MemoryStore: Not enough space to cache rdd_417_4 in memory! (computed 153.3 MiB so far)\n",
      "22/10/16 22:12:54 WARN MemoryStore: Failed to reserve initial memory threshold of 1024.0 KiB for computing block rdd_417_5 in memory.\n",
      "22/10/16 22:12:54 WARN MemoryStore: Not enough space to cache rdd_417_5 in memory! (computed 384.0 B so far)\n",
      "22/10/16 22:12:54 WARN MemoryStore: Failed to reserve initial memory threshold of 1024.0 KiB for computing block rdd_723_5 in memory.\n",
      "22/10/16 22:12:54 WARN MemoryStore: Not enough space to cache rdd_723_5 in memory! (computed 384.0 B so far)\n",
      "22/10/16 22:12:54 WARN MemoryStore: Failed to reserve initial memory threshold of 1024.0 KiB for computing block rdd_745_5 in memory.\n",
      "22/10/16 22:12:54 WARN MemoryStore: Failed to reserve initial memory threshold of 1024.0 KiB for computing block rdd_417_4 in memory.\n",
      "22/10/16 22:12:54 WARN MemoryStore: Not enough space to cache rdd_745_5 in memory! (computed 384.0 B so far)\n",
      "22/10/16 22:12:54 WARN MemoryStore: Not enough space to cache rdd_417_4 in memory! (computed 384.0 B so far)\n",
      "22/10/16 22:12:54 WARN BlockManager: Persisting block rdd_745_5 to disk instead.\n",
      "22/10/16 22:12:54 WARN MemoryStore: Failed to reserve initial memory threshold of 1024.0 KiB for computing block rdd_417_4 in memory.\n",
      "22/10/16 22:12:54 WARN MemoryStore: Not enough space to cache rdd_417_4 in memory! (computed 384.0 B so far)\n",
      "22/10/16 22:12:54 WARN MemoryStore: Failed to reserve initial memory threshold of 1024.0 KiB for computing block rdd_723_4 in memory.\n",
      "22/10/16 22:12:54 WARN MemoryStore: Not enough space to cache rdd_723_4 in memory! (computed 384.0 B so far)\n",
      "22/10/16 22:12:54 WARN MemoryStore: Failed to reserve initial memory threshold of 1024.0 KiB for computing block rdd_745_4 in memory.\n",
      "22/10/16 22:12:54 WARN MemoryStore: Not enough space to cache rdd_745_4 in memory! (computed 384.0 B so far)\n",
      "22/10/16 22:12:54 WARN MemoryStore: Not enough space to cache rdd_417_1 in memory! (computed 5.4 MiB so far)\n",
      "22/10/16 22:12:54 WARN BlockManager: Persisting block rdd_745_4 to disk instead.\n",
      "22/10/16 22:12:54 WARN MemoryStore: Not enough space to cache rdd_417_2 in memory! (computed 1591.6 KiB so far)\n",
      "22/10/16 22:12:54 WARN MemoryStore: Failed to reserve initial memory threshold of 1024.0 KiB for computing block rdd_417_1 in memory.\n",
      "22/10/16 22:12:54 WARN MemoryStore: Not enough space to cache rdd_417_1 in memory! (computed 384.0 B so far)\n",
      "22/10/16 22:12:54 WARN MemoryStore: Failed to reserve initial memory threshold of 1024.0 KiB for computing block rdd_417_2 in memory.\n",
      "22/10/16 22:12:54 WARN MemoryStore: Not enough space to cache rdd_417_2 in memory! (computed 384.0 B so far)\n",
      "22/10/16 22:12:54 WARN MemoryStore: Failed to reserve initial memory threshold of 1024.0 KiB for computing block rdd_723_1 in memory.\n",
      "22/10/16 22:12:54 WARN MemoryStore: Not enough space to cache rdd_723_1 in memory! (computed 384.0 B so far)\n",
      "22/10/16 22:12:54 WARN MemoryStore: Failed to reserve initial memory threshold of 1024.0 KiB for computing block rdd_723_2 in memory.\n",
      "22/10/16 22:12:54 WARN MemoryStore: Not enough space to cache rdd_723_2 in memory! (computed 384.0 B so far)\n",
      "22/10/16 22:12:54 WARN MemoryStore: Failed to reserve initial memory threshold of 1024.0 KiB for computing block rdd_745_2 in memory.\n",
      "22/10/16 22:12:54 WARN MemoryStore: Failed to reserve initial memory threshold of 1024.0 KiB for computing block rdd_745_1 in memory.\n",
      "22/10/16 22:12:54 WARN MemoryStore: Not enough space to cache rdd_745_1 in memory! (computed 384.0 B so far)\n",
      "22/10/16 22:12:54 WARN MemoryStore: Not enough space to cache rdd_745_2 in memory! (computed 384.0 B so far)\n",
      "22/10/16 22:12:54 WARN BlockManager: Persisting block rdd_745_2 to disk instead.\n",
      "22/10/16 22:12:54 WARN BlockManager: Persisting block rdd_745_1 to disk instead.\n",
      "22/10/16 22:12:54 WARN MemoryStore: Not enough space to cache rdd_745_0 in memory! (computed 13.0 MiB so far)\n",
      "22/10/16 22:12:54 WARN MemoryStore: Not enough space to cache rdd_748_0 in memory! (computed 1024.6 KiB so far)\n",
      "22/10/16 22:12:54 WARN BlockManager: Persisting block rdd_748_0 to disk instead.\n",
      "22/10/16 22:12:55 WARN MemoryStore: Not enough space to cache rdd_748_0 in memory! (computed 10.8 MiB so far)\n"
     ]
    },
    {
     "name": "stderr",
     "output_type": "stream",
     "text": [
      "[Stage 370:>                                                        (0 + 8) / 9]\r"
     ]
    },
    {
     "name": "stdout",
     "output_type": "stream",
     "text": [
      "22/10/16 22:13:04 WARN MemoryStore: Not enough space to cache rdd_417_2 in memory! (computed 234.1 MiB so far)\n",
      "22/10/16 22:13:04 WARN MemoryStore: Not enough space to cache rdd_417_3 in memory! (computed 153.3 MiB so far)\n",
      "22/10/16 22:13:04 WARN MemoryStore: Not enough space to cache rdd_417_4 in memory! (computed 234.1 MiB so far)\n",
      "22/10/16 22:13:04 WARN MemoryStore: Not enough space to cache rdd_417_7 in memory! (computed 234.1 MiB so far)\n",
      "22/10/16 22:13:04 WARN MemoryStore: Not enough space to cache rdd_417_6 in memory! (computed 234.1 MiB so far)\n",
      "22/10/16 22:13:04 WARN MemoryStore: Not enough space to cache rdd_417_1 in memory! (computed 234.1 MiB so far)\n",
      "22/10/16 22:13:04 WARN MemoryStore: Not enough space to cache rdd_417_5 in memory! (computed 234.1 MiB so far)\n"
     ]
    },
    {
     "name": "stderr",
     "output_type": "stream",
     "text": [
      "                                                                                \r"
     ]
    },
    {
     "name": "stdout",
     "output_type": "stream",
     "text": [
      "22/10/16 22:13:10 WARN MemoryStore: Not enough space to cache rdd_417_2 in memory! (computed 98.8 MiB so far)\n",
      "22/10/16 22:13:10 WARN MemoryStore: Not enough space to cache rdd_417_7 in memory! (computed 65.3 MiB so far)\n",
      "22/10/16 22:13:10 WARN MemoryStore: Not enough space to cache rdd_417_1 in memory! (computed 98.8 MiB so far)\n",
      "22/10/16 22:13:10 WARN MemoryStore: Not enough space to cache rdd_417_5 in memory! (computed 43.5 MiB so far)\n",
      "22/10/16 22:13:10 WARN MemoryStore: Not enough space to cache rdd_417_3 in memory! (computed 98.8 MiB so far)\n"
     ]
    },
    {
     "name": "stderr",
     "output_type": "stream",
     "text": [
      "[Stage 373:>                                                        (0 + 8) / 9]\r"
     ]
    },
    {
     "name": "stdout",
     "output_type": "stream",
     "text": [
      "22/10/16 22:13:10 WARN MemoryStore: Not enough space to cache rdd_748_1 in memory! (computed 10.8 MiB so far)\n",
      "22/10/16 22:13:10 WARN MemoryStore: Not enough space to cache rdd_417_6 in memory! (computed 153.3 MiB so far)\n"
     ]
    },
    {
     "name": "stderr",
     "output_type": "stream",
     "text": [
      "[Stage 373:======>                                                  (1 + 8) / 9]\r"
     ]
    },
    {
     "name": "stdout",
     "output_type": "stream",
     "text": [
      "22/10/16 22:13:12 WARN MemoryStore: Not enough space to cache rdd_417_4 in memory! (computed 527.0 MiB so far)\n"
     ]
    },
    {
     "name": "stderr",
     "output_type": "stream",
     "text": [
      "                                                                                \r"
     ]
    },
    {
     "name": "stdout",
     "output_type": "stream",
     "text": [
      "22/10/16 22:13:14 WARN MemoryStore: Not enough space to cache rdd_417_3 in memory! (computed 65.3 MiB so far)\n",
      "22/10/16 22:13:14 WARN MemoryStore: Not enough space to cache rdd_417_2 in memory! (computed 65.3 MiB so far)\n",
      "22/10/16 22:13:14 WARN MemoryStore: Not enough space to cache rdd_417_4 in memory! (computed 98.8 MiB so far)\n",
      "22/10/16 22:13:14 WARN MemoryStore: Not enough space to cache rdd_748_3 in memory! (computed 6.2 MiB so far)\n",
      "22/10/16 22:13:14 WARN MemoryStore: Not enough space to cache rdd_417_7 in memory! (computed 153.3 MiB so far)\n",
      "22/10/16 22:13:14 WARN MemoryStore: Not enough space to cache rdd_417_1 in memory! (computed 153.3 MiB so far)\n",
      "22/10/16 22:13:14 WARN MemoryStore: Not enough space to cache rdd_748_4 in memory! (computed 1537.3 KiB so far)\n",
      "22/10/16 22:13:14 WARN MemoryStore: Not enough space to cache rdd_748_2 in memory! (computed 6.2 MiB so far)\n",
      "22/10/16 22:13:14 WARN MemoryStore: Not enough space to cache rdd_417_6 in memory! (computed 153.3 MiB so far)\n",
      "22/10/16 22:13:14 WARN MemoryStore: Failed to reserve initial memory threshold of 1024.0 KiB for computing block rdd_748_6 in memory.\n",
      "22/10/16 22:13:14 WARN MemoryStore: Not enough space to cache rdd_748_6 in memory! (computed 384.0 B so far)\n",
      "22/10/16 22:13:14 WARN MemoryStore: Not enough space to cache rdd_748_7 in memory! (computed 1024.6 KiB so far)\n",
      "22/10/16 22:13:14 WARN MemoryStore: Not enough space to cache rdd_748_1 in memory! (computed 1024.6 KiB so far)\n",
      "22/10/16 22:13:14 WARN MemoryStore: Not enough space to cache rdd_417_5 in memory! (computed 153.3 MiB so far)\n",
      "22/10/16 22:13:14 WARN MemoryStore: Failed to reserve initial memory threshold of 1024.0 KiB for computing block rdd_748_5 in memory.\n",
      "22/10/16 22:13:14 WARN MemoryStore: Not enough space to cache rdd_748_5 in memory! (computed 384.0 B so far)\n"
     ]
    },
    {
     "name": "stderr",
     "output_type": "stream",
     "text": [
      "                                                                                \r"
     ]
    },
    {
     "name": "stdout",
     "output_type": "stream",
     "text": [
      "22/10/16 22:13:20 WARN MemoryStore: Not enough space to cache rdd_417_7 in memory! (computed 43.5 MiB so far)\n",
      "22/10/16 22:13:20 WARN MemoryStore: Not enough space to cache rdd_417_4 in memory! (computed 98.8 MiB so far)\n",
      "22/10/16 22:13:20 WARN MemoryStore: Not enough space to cache rdd_417_2 in memory! (computed 65.3 MiB so far)\n",
      "22/10/16 22:13:20 WARN MemoryStore: Not enough space to cache rdd_417_1 in memory! (computed 65.3 MiB so far)\n",
      "22/10/16 22:13:20 WARN MemoryStore: Not enough space to cache rdd_417_3 in memory! (computed 153.3 MiB so far)\n"
     ]
    },
    {
     "name": "stderr",
     "output_type": "stream",
     "text": [
      "[Stage 379:>                                                        (0 + 8) / 9]\r"
     ]
    },
    {
     "name": "stdout",
     "output_type": "stream",
     "text": [
      "22/10/16 22:13:21 WARN MemoryStore: Not enough space to cache rdd_748_1 in memory! (computed 6.2 MiB so far)\n",
      "22/10/16 22:13:21 WARN MemoryStore: Not enough space to cache rdd_417_5 in memory! (computed 153.3 MiB so far)\n",
      "22/10/16 22:13:21 WARN MemoryStore: Not enough space to cache rdd_748_3 in memory! (computed 1537.3 KiB so far)\n",
      "22/10/16 22:13:21 WARN MemoryStore: Not enough space to cache rdd_748_7 in memory! (computed 10.8 MiB so far)\n"
     ]
    },
    {
     "name": "stderr",
     "output_type": "stream",
     "text": [
      "[Stage 379:======>                                                  (1 + 8) / 9]\r"
     ]
    },
    {
     "name": "stdout",
     "output_type": "stream",
     "text": [
      "22/10/16 22:13:22 WARN MemoryStore: Not enough space to cache rdd_417_8 in memory! (computed 12.5 MiB so far)\n",
      "22/10/16 22:13:23 WARN MemoryStore: Not enough space to cache rdd_417_6 in memory! (computed 791.9 MiB so far)\n"
     ]
    },
    {
     "name": "stderr",
     "output_type": "stream",
     "text": [
      "[Stage 382:>                                                        (0 + 8) / 9]\r"
     ]
    },
    {
     "name": "stdout",
     "output_type": "stream",
     "text": [
      "22/10/16 22:13:28 WARN MemoryStore: Not enough space to cache rdd_417_6 in memory! (computed 234.1 MiB so far)\n",
      "22/10/16 22:13:28 WARN MemoryStore: Not enough space to cache rdd_417_7 in memory! (computed 234.1 MiB so far)\n",
      "22/10/16 22:13:28 WARN MemoryStore: Not enough space to cache rdd_417_0 in memory! (computed 234.1 MiB so far)\n",
      "22/10/16 22:13:28 WARN MemoryStore: Not enough space to cache rdd_417_4 in memory! (computed 234.1 MiB so far)\n",
      "22/10/16 22:13:28 WARN MemoryStore: Not enough space to cache rdd_417_5 in memory! (computed 234.1 MiB so far)\n",
      "22/10/16 22:13:28 WARN MemoryStore: Not enough space to cache rdd_417_2 in memory! (computed 234.1 MiB so far)\n",
      "22/10/16 22:13:28 WARN MemoryStore: Not enough space to cache rdd_417_6 in memory! (computed 8.2 MiB so far)\n",
      "22/10/16 22:13:28 WARN MemoryStore: Not enough space to cache rdd_417_5 in memory! (computed 5.4 MiB so far)\n",
      "22/10/16 22:13:28 WARN MemoryStore: Not enough space to cache rdd_417_0 in memory! (computed 8.2 MiB so far)\n",
      "22/10/16 22:13:28 WARN MemoryStore: Not enough space to cache rdd_417_4 in memory! (computed 5.4 MiB so far)\n",
      "22/10/16 22:13:28 WARN MemoryStore: Not enough space to cache rdd_417_3 in memory! (computed 234.1 MiB so far)\n",
      "22/10/16 22:13:28 WARN MemoryStore: Failed to reserve initial memory threshold of 1024.0 KiB for computing block rdd_417_6 in memory.\n",
      "22/10/16 22:13:28 WARN MemoryStore: Not enough space to cache rdd_417_6 in memory! (computed 384.0 B so far)\n",
      "22/10/16 22:13:28 WARN MemoryStore: Failed to reserve initial memory threshold of 1024.0 KiB for computing block rdd_417_3 in memory.\n",
      "22/10/16 22:13:28 WARN MemoryStore: Not enough space to cache rdd_417_3 in memory! (computed 384.0 B so far)\n",
      "22/10/16 22:13:28 WARN MemoryStore: Failed to reserve initial memory threshold of 1024.0 KiB for computing block rdd_417_0 in memory.\n",
      "22/10/16 22:13:28 WARN MemoryStore: Failed to reserve initial memory threshold of 1024.0 KiB for computing block rdd_417_4 in memory.\n",
      "22/10/16 22:13:28 WARN MemoryStore: Not enough space to cache rdd_417_4 in memory! (computed 384.0 B so far)\n",
      "22/10/16 22:13:28 WARN MemoryStore: Failed to reserve initial memory threshold of 1024.0 KiB for computing block rdd_745_6 in memory.\n",
      "22/10/16 22:13:28 WARN MemoryStore: Not enough space to cache rdd_745_6 in memory! (computed 384.0 B so far)\n",
      "22/10/16 22:13:28 WARN MemoryStore: Not enough space to cache rdd_417_0 in memory! (computed 384.0 B so far)\n",
      "22/10/16 22:13:28 WARN MemoryStore: Not enough space to cache rdd_417_2 in memory! (computed 2.4 MiB so far)\n",
      "22/10/16 22:13:28 WARN MemoryStore: Failed to reserve initial memory threshold of 1024.0 KiB for computing block rdd_767_6 in memory.\n",
      "22/10/16 22:13:28 WARN MemoryStore: Not enough space to cache rdd_767_6 in memory! (computed 384.0 B so far)\n",
      "22/10/16 22:13:28 WARN MemoryStore: Failed to reserve initial memory threshold of 1024.0 KiB for computing block rdd_745_4 in memory.\n",
      "22/10/16 22:13:28 WARN BlockManager: Persisting block rdd_767_6 to disk instead.\n",
      "22/10/16 22:13:28 WARN MemoryStore: Not enough space to cache rdd_745_4 in memory! (computed 384.0 B so far)\n",
      "22/10/16 22:13:28 WARN MemoryStore: Failed to reserve initial memory threshold of 1024.0 KiB for computing block rdd_417_3 in memory.\n",
      "22/10/16 22:13:28 WARN MemoryStore: Not enough space to cache rdd_417_3 in memory! (computed 384.0 B so far)\n",
      "22/10/16 22:13:28 WARN MemoryStore: Failed to reserve initial memory threshold of 1024.0 KiB for computing block rdd_745_0 in memory.\n",
      "22/10/16 22:13:28 WARN MemoryStore: Failed to reserve initial memory threshold of 1024.0 KiB for computing block rdd_767_4 in memory.\n",
      "22/10/16 22:13:28 WARN MemoryStore: Not enough space to cache rdd_745_0 in memory! (computed 384.0 B so far)\n",
      "22/10/16 22:13:28 WARN MemoryStore: Not enough space to cache rdd_767_4 in memory! (computed 384.0 B so far)\n",
      "22/10/16 22:13:28 WARN MemoryStore: Failed to reserve initial memory threshold of 1024.0 KiB for computing block rdd_767_0 in memory.\n",
      "22/10/16 22:13:28 WARN BlockManager: Persisting block rdd_767_4 to disk instead.\n",
      "22/10/16 22:13:28 WARN MemoryStore: Failed to reserve initial memory threshold of 1024.0 KiB for computing block rdd_417_2 in memory.\n",
      "22/10/16 22:13:28 WARN MemoryStore: Not enough space to cache rdd_767_0 in memory! (computed 384.0 B so far)\n",
      "22/10/16 22:13:28 WARN MemoryStore: Not enough space to cache rdd_417_2 in memory! (computed 384.0 B so far)\n",
      "22/10/16 22:13:28 WARN BlockManager: Persisting block rdd_767_0 to disk instead.\n",
      "22/10/16 22:13:28 WARN MemoryStore: Failed to reserve initial memory threshold of 1024.0 KiB for computing block rdd_745_3 in memory.\n",
      "22/10/16 22:13:28 WARN MemoryStore: Not enough space to cache rdd_745_3 in memory! (computed 384.0 B so far)\n",
      "22/10/16 22:13:28 WARN MemoryStore: Failed to reserve initial memory threshold of 1024.0 KiB for computing block rdd_767_3 in memory.\n",
      "22/10/16 22:13:28 WARN MemoryStore: Not enough space to cache rdd_767_3 in memory! (computed 384.0 B so far)\n",
      "22/10/16 22:13:28 WARN BlockManager: Persisting block rdd_767_3 to disk instead.\n",
      "22/10/16 22:13:28 WARN MemoryStore: Not enough space to cache rdd_417_5 in memory! (computed 1050.0 KiB so far)\n",
      "22/10/16 22:13:28 WARN MemoryStore: Failed to reserve initial memory threshold of 1024.0 KiB for computing block rdd_745_5 in memory.\n",
      "22/10/16 22:13:28 WARN MemoryStore: Not enough space to cache rdd_745_5 in memory! (computed 384.0 B so far)\n",
      "22/10/16 22:13:28 WARN MemoryStore: Failed to reserve initial memory threshold of 1024.0 KiB for computing block rdd_745_2 in memory.\n",
      "22/10/16 22:13:28 WARN MemoryStore: Not enough space to cache rdd_745_2 in memory! (computed 384.0 B so far)\n",
      "22/10/16 22:13:28 WARN MemoryStore: Failed to reserve initial memory threshold of 1024.0 KiB for computing block rdd_767_2 in memory.\n",
      "22/10/16 22:13:28 WARN MemoryStore: Not enough space to cache rdd_767_2 in memory! (computed 384.0 B so far)\n",
      "22/10/16 22:13:28 WARN BlockManager: Persisting block rdd_767_2 to disk instead.\n",
      "22/10/16 22:13:28 WARN MemoryStore: Failed to reserve initial memory threshold of 1024.0 KiB for computing block rdd_767_5 in memory.\n",
      "22/10/16 22:13:28 WARN MemoryStore: Not enough space to cache rdd_767_5 in memory! (computed 384.0 B so far)\n",
      "22/10/16 22:13:28 WARN BlockManager: Persisting block rdd_767_5 to disk instead.\n",
      "22/10/16 22:13:28 WARN MemoryStore: Not enough space to cache rdd_417_7 in memory! (computed 12.5 MiB so far)\n",
      "22/10/16 22:13:28 WARN MemoryStore: Not enough space to cache rdd_417_7 in memory! (computed 1050.0 KiB so far)\n",
      "22/10/16 22:13:28 WARN MemoryStore: Failed to reserve initial memory threshold of 1024.0 KiB for computing block rdd_745_7 in memory.\n",
      "22/10/16 22:13:28 WARN MemoryStore: Not enough space to cache rdd_745_7 in memory! (computed 384.0 B so far)\n",
      "22/10/16 22:13:28 WARN MemoryStore: Failed to reserve initial memory threshold of 1024.0 KiB for computing block rdd_767_7 in memory.\n",
      "22/10/16 22:13:28 WARN MemoryStore: Not enough space to cache rdd_767_7 in memory! (computed 384.0 B so far)\n",
      "22/10/16 22:13:28 WARN BlockManager: Persisting block rdd_767_7 to disk instead.\n",
      "22/10/16 22:13:28 WARN MemoryStore: Not enough space to cache rdd_417_1 in memory! (computed 351.3 MiB so far)\n",
      "22/10/16 22:13:28 WARN MemoryStore: Not enough space to cache rdd_417_1 in memory! (computed 1050.0 KiB so far)\n",
      "22/10/16 22:13:28 WARN MemoryStore: Failed to reserve initial memory threshold of 1024.0 KiB for computing block rdd_417_1 in memory.\n",
      "22/10/16 22:13:28 WARN MemoryStore: Not enough space to cache rdd_417_1 in memory! (computed 384.0 B so far)\n",
      "22/10/16 22:13:28 WARN MemoryStore: Failed to reserve initial memory threshold of 1024.0 KiB for computing block rdd_745_1 in memory.\n",
      "22/10/16 22:13:28 WARN MemoryStore: Not enough space to cache rdd_745_1 in memory! (computed 384.0 B so far)\n",
      "22/10/16 22:13:28 WARN MemoryStore: Failed to reserve initial memory threshold of 1024.0 KiB for computing block rdd_767_1 in memory.\n",
      "22/10/16 22:13:28 WARN MemoryStore: Not enough space to cache rdd_767_1 in memory! (computed 384.0 B so far)\n",
      "22/10/16 22:13:28 WARN BlockManager: Persisting block rdd_767_1 to disk instead.\n",
      "22/10/16 22:13:30 WARN MemoryStore: Failed to reserve initial memory threshold of 1024.0 KiB for computing block rdd_767_3 in memory.\n",
      "22/10/16 22:13:30 WARN MemoryStore: Not enough space to cache rdd_767_3 in memory! (computed 384.0 B so far)\n",
      "22/10/16 22:13:30 WARN MemoryStore: Failed to reserve initial memory threshold of 1024.0 KiB for computing block rdd_770_3 in memory.\n",
      "22/10/16 22:13:30 WARN MemoryStore: Not enough space to cache rdd_770_3 in memory! (computed 384.0 B so far)\n",
      "22/10/16 22:13:30 WARN BlockManager: Persisting block rdd_770_3 to disk instead.\n",
      "22/10/16 22:13:30 WARN MemoryStore: Failed to reserve initial memory threshold of 1024.0 KiB for computing block rdd_767_5 in memory.\n",
      "22/10/16 22:13:30 WARN MemoryStore: Not enough space to cache rdd_767_5 in memory! (computed 384.0 B so far)\n",
      "22/10/16 22:13:30 WARN MemoryStore: Failed to reserve initial memory threshold of 1024.0 KiB for computing block rdd_770_5 in memory.\n",
      "22/10/16 22:13:30 WARN MemoryStore: Not enough space to cache rdd_770_5 in memory! (computed 384.0 B so far)\n",
      "22/10/16 22:13:30 WARN BlockManager: Persisting block rdd_770_5 to disk instead.\n",
      "22/10/16 22:13:30 WARN MemoryStore: Not enough space to cache rdd_767_2 in memory! (computed 3.7 MiB so far)\n",
      "22/10/16 22:13:30 WARN MemoryStore: Not enough space to cache rdd_767_4 in memory! (computed 2.4 MiB so far)\n",
      "22/10/16 22:13:30 WARN MemoryStore: Failed to reserve initial memory threshold of 1024.0 KiB for computing block rdd_770_4 in memory.\n",
      "22/10/16 22:13:30 WARN MemoryStore: Not enough space to cache rdd_770_4 in memory! (computed 384.0 B so far)\n",
      "22/10/16 22:13:30 WARN BlockManager: Persisting block rdd_770_4 to disk instead.\n",
      "22/10/16 22:13:30 WARN MemoryStore: Not enough space to cache rdd_767_6 in memory! (computed 3.7 MiB so far)\n",
      "22/10/16 22:13:31 WARN MemoryStore: Failed to reserve initial memory threshold of 1024.0 KiB for computing block rdd_767_1 in memory.\n",
      "22/10/16 22:13:31 WARN MemoryStore: Not enough space to cache rdd_767_1 in memory! (computed 384.0 B so far)\n",
      "22/10/16 22:13:31 WARN MemoryStore: Failed to reserve initial memory threshold of 1024.0 KiB for computing block rdd_770_1 in memory.\n",
      "22/10/16 22:13:31 WARN MemoryStore: Not enough space to cache rdd_770_1 in memory! (computed 384.0 B so far)\n",
      "22/10/16 22:13:31 WARN BlockManager: Persisting block rdd_770_1 to disk instead.\n",
      "22/10/16 22:13:31 WARN MemoryStore: Not enough space to cache rdd_767_7 in memory! (computed 1663.4 KiB so far)\n",
      "22/10/16 22:13:31 WARN MemoryStore: Failed to reserve initial memory threshold of 1024.0 KiB for computing block rdd_770_7 in memory.\n",
      "22/10/16 22:13:31 WARN MemoryStore: Not enough space to cache rdd_770_7 in memory! (computed 384.0 B so far)\n",
      "22/10/16 22:13:31 WARN BlockManager: Persisting block rdd_770_7 to disk instead.\n",
      "22/10/16 22:13:32 WARN MemoryStore: Not enough space to cache rdd_770_0 in memory! (computed 6.2 MiB so far)\n",
      "22/10/16 22:13:32 WARN BlockManager: Persisting block rdd_770_0 to disk instead.\n"
     ]
    },
    {
     "name": "stderr",
     "output_type": "stream",
     "text": [
      "[Stage 385:>                                                        (0 + 8) / 9]\r"
     ]
    },
    {
     "name": "stdout",
     "output_type": "stream",
     "text": [
      "22/10/16 22:13:38 WARN MemoryStore: Not enough space to cache rdd_417_3 in memory! (computed 234.1 MiB so far)\n",
      "22/10/16 22:13:38 WARN MemoryStore: Not enough space to cache rdd_417_6 in memory! (computed 234.1 MiB so far)\n",
      "22/10/16 22:13:38 WARN MemoryStore: Not enough space to cache rdd_417_2 in memory! (computed 234.1 MiB so far)\n",
      "22/10/16 22:13:38 WARN MemoryStore: Not enough space to cache rdd_417_0 in memory! (computed 234.1 MiB so far)\n",
      "22/10/16 22:13:38 WARN MemoryStore: Not enough space to cache rdd_417_4 in memory! (computed 234.1 MiB so far)\n",
      "22/10/16 22:13:38 WARN MemoryStore: Not enough space to cache rdd_417_1 in memory! (computed 234.1 MiB so far)\n",
      "22/10/16 22:13:38 WARN MemoryStore: Not enough space to cache rdd_417_7 in memory! (computed 153.3 MiB so far)\n"
     ]
    },
    {
     "name": "stderr",
     "output_type": "stream",
     "text": [
      "                                                                                \r"
     ]
    },
    {
     "name": "stdout",
     "output_type": "stream",
     "text": [
      "22/10/16 22:13:45 WARN MemoryStore: Not enough space to cache rdd_417_2 in memory! (computed 98.8 MiB so far)\n",
      "22/10/16 22:13:45 WARN MemoryStore: Not enough space to cache rdd_417_0 in memory! (computed 98.8 MiB so far)\n",
      "22/10/16 22:13:45 WARN MemoryStore: Not enough space to cache rdd_417_6 in memory! (computed 65.3 MiB so far)\n",
      "22/10/16 22:13:45 WARN MemoryStore: Not enough space to cache rdd_417_4 in memory! (computed 98.8 MiB so far)\n",
      "22/10/16 22:13:45 WARN MemoryStore: Not enough space to cache rdd_417_3 in memory! (computed 98.8 MiB so far)\n"
     ]
    },
    {
     "name": "stderr",
     "output_type": "stream",
     "text": [
      "[Stage 388:>                                                        (0 + 8) / 9]\r"
     ]
    },
    {
     "name": "stdout",
     "output_type": "stream",
     "text": [
      "22/10/16 22:13:46 WARN MemoryStore: Not enough space to cache rdd_417_7 in memory! (computed 351.3 MiB so far)\n",
      "22/10/16 22:13:46 WARN MemoryStore: Not enough space to cache rdd_770_7 in memory! (computed 10.8 MiB so far)\n",
      "22/10/16 22:13:46 WARN MemoryStore: Not enough space to cache rdd_417_8 in memory! (computed 8.2 MiB so far)\n",
      "22/10/16 22:13:47 WARN MemoryStore: Not enough space to cache rdd_417_1 in memory! (computed 527.0 MiB so far)\n"
     ]
    },
    {
     "name": "stderr",
     "output_type": "stream",
     "text": [
      "                                                                                \r"
     ]
    },
    {
     "name": "stdout",
     "output_type": "stream",
     "text": [
      "22/10/16 22:13:49 WARN MemoryStore: Not enough space to cache rdd_417_2 in memory! (computed 98.8 MiB so far)\n",
      "22/10/16 22:13:49 WARN MemoryStore: Not enough space to cache rdd_417_6 in memory! (computed 98.8 MiB so far)\n",
      "22/10/16 22:13:49 WARN MemoryStore: Not enough space to cache rdd_417_0 in memory! (computed 98.8 MiB so far)\n",
      "22/10/16 22:13:49 WARN MemoryStore: Not enough space to cache rdd_417_1 in memory! (computed 153.3 MiB so far)\n",
      "22/10/16 22:13:49 WARN MemoryStore: Not enough space to cache rdd_417_4 in memory! (computed 153.3 MiB so far)\n",
      "22/10/16 22:13:49 WARN MemoryStore: Failed to reserve initial memory threshold of 1024.0 KiB for computing block rdd_770_4 in memory.\n",
      "22/10/16 22:13:49 WARN MemoryStore: Not enough space to cache rdd_770_4 in memory! (computed 384.0 B so far)\n",
      "22/10/16 22:13:49 WARN MemoryStore: Not enough space to cache rdd_417_7 in memory! (computed 153.3 MiB so far)\n",
      "22/10/16 22:13:49 WARN MemoryStore: Failed to reserve initial memory threshold of 1024.0 KiB for computing block rdd_770_7 in memory.\n",
      "22/10/16 22:13:49 WARN MemoryStore: Not enough space to cache rdd_770_7 in memory! (computed 384.0 B so far)\n"
     ]
    },
    {
     "name": "stderr",
     "output_type": "stream",
     "text": [
      "[Stage 391:======>                                                  (1 + 8) / 9]\r"
     ]
    },
    {
     "name": "stdout",
     "output_type": "stream",
     "text": [
      "22/10/16 22:13:51 WARN MemoryStore: Not enough space to cache rdd_417_8 in memory! (computed 98.8 MiB so far)\n",
      "22/10/16 22:13:51 WARN MemoryStore: Not enough space to cache rdd_417_3 in memory! (computed 791.9 MiB so far)\n"
     ]
    },
    {
     "name": "stderr",
     "output_type": "stream",
     "text": [
      "                                                                                \r"
     ]
    },
    {
     "name": "stdout",
     "output_type": "stream",
     "text": [
      "22/10/16 22:13:54 WARN MemoryStore: Not enough space to cache rdd_417_7 in memory! (computed 98.8 MiB so far)\n",
      "22/10/16 22:13:54 WARN MemoryStore: Failed to reserve initial memory threshold of 1024.0 KiB for computing block rdd_770_7 in memory.\n",
      "22/10/16 22:13:54 WARN MemoryStore: Not enough space to cache rdd_770_7 in memory! (computed 384.0 B so far)\n",
      "22/10/16 22:13:54 WARN MemoryStore: Not enough space to cache rdd_417_1 in memory! (computed 98.8 MiB so far)\n",
      "22/10/16 22:13:54 WARN MemoryStore: Not enough space to cache rdd_417_3 in memory! (computed 98.8 MiB so far)\n",
      "22/10/16 22:13:54 WARN MemoryStore: Not enough space to cache rdd_417_6 in memory! (computed 153.3 MiB so far)\n",
      "22/10/16 22:13:54 WARN MemoryStore: Not enough space to cache rdd_417_0 in memory! (computed 153.3 MiB so far)\n",
      "22/10/16 22:13:54 WARN MemoryStore: Not enough space to cache rdd_417_4 in memory! (computed 153.3 MiB so far)\n",
      "22/10/16 22:13:54 WARN MemoryStore: Failed to reserve initial memory threshold of 1024.0 KiB for computing block rdd_770_4 in memory.\n",
      "22/10/16 22:13:54 WARN MemoryStore: Not enough space to cache rdd_770_4 in memory! (computed 384.0 B so far)\n"
     ]
    },
    {
     "name": "stderr",
     "output_type": "stream",
     "text": [
      "[Stage 394:======>                                                  (1 + 8) / 9]\r"
     ]
    },
    {
     "name": "stdout",
     "output_type": "stream",
     "text": [
      "22/10/16 22:13:56 WARN MemoryStore: Not enough space to cache rdd_417_8 in memory! (computed 98.8 MiB so far)\n",
      "22/10/16 22:13:56 WARN MemoryStore: Not enough space to cache rdd_417_2 in memory! (computed 791.9 MiB so far)\n"
     ]
    },
    {
     "name": "stderr",
     "output_type": "stream",
     "text": [
      "[Stage 397:>                                                        (0 + 8) / 9]\r"
     ]
    },
    {
     "name": "stdout",
     "output_type": "stream",
     "text": [
      "22/10/16 22:13:59 WARN MemoryStore: Not enough space to cache rdd_417_7 in memory! (computed 98.8 MiB so far)\n",
      "22/10/16 22:13:59 WARN MemoryStore: Not enough space to cache rdd_417_4 in memory! (computed 98.8 MiB so far)\n",
      "22/10/16 22:13:59 WARN MemoryStore: Not enough space to cache rdd_417_1 in memory! (computed 153.3 MiB so far)\n",
      "22/10/16 22:13:59 WARN MemoryStore: Not enough space to cache rdd_417_2 in memory! (computed 98.8 MiB so far)\n",
      "22/10/16 22:13:59 WARN MemoryStore: Not enough space to cache rdd_417_1 in memory! (computed 2.4 MiB so far)\n",
      "22/10/16 22:13:59 WARN MemoryStore: Not enough space to cache rdd_417_2 in memory! (computed 1591.6 KiB so far)\n",
      "22/10/16 22:13:59 WARN MemoryStore: Failed to reserve initial memory threshold of 1024.0 KiB for computing block rdd_417_1 in memory.\n",
      "22/10/16 22:13:59 WARN MemoryStore: Not enough space to cache rdd_417_1 in memory! (computed 384.0 B so far)\n",
      "22/10/16 22:13:59 WARN MemoryStore: Failed to reserve initial memory threshold of 1024.0 KiB for computing block rdd_417_2 in memory.\n",
      "22/10/16 22:13:59 WARN MemoryStore: Not enough space to cache rdd_417_2 in memory! (computed 384.0 B so far)\n",
      "22/10/16 22:13:59 WARN MemoryStore: Failed to reserve initial memory threshold of 1024.0 KiB for computing block rdd_767_2 in memory.\n",
      "22/10/16 22:13:59 WARN MemoryStore: Failed to reserve initial memory threshold of 1024.0 KiB for computing block rdd_767_1 in memory.\n",
      "22/10/16 22:13:59 WARN MemoryStore: Not enough space to cache rdd_767_2 in memory! (computed 384.0 B so far)\n",
      "22/10/16 22:13:59 WARN MemoryStore: Not enough space to cache rdd_767_1 in memory! (computed 384.0 B so far)\n",
      "22/10/16 22:13:59 WARN MemoryStore: Failed to reserve initial memory threshold of 1024.0 KiB for computing block rdd_789_2 in memory.\n",
      "22/10/16 22:13:59 WARN MemoryStore: Not enough space to cache rdd_789_2 in memory! (computed 384.0 B so far)\n",
      "22/10/16 22:13:59 WARN BlockManager: Persisting block rdd_789_2 to disk instead.\n",
      "22/10/16 22:13:59 WARN MemoryStore: Failed to reserve initial memory threshold of 1024.0 KiB for computing block rdd_789_1 in memory.\n",
      "22/10/16 22:13:59 WARN MemoryStore: Not enough space to cache rdd_789_1 in memory! (computed 384.0 B so far)\n",
      "22/10/16 22:13:59 WARN BlockManager: Persisting block rdd_789_1 to disk instead.\n",
      "22/10/16 22:13:59 WARN MemoryStore: Not enough space to cache rdd_417_7 in memory! (computed 19.0 MiB so far)\n",
      "22/10/16 22:13:59 WARN MemoryStore: Failed to reserve initial memory threshold of 1024.0 KiB for computing block rdd_417_7 in memory.\n",
      "22/10/16 22:13:59 WARN MemoryStore: Not enough space to cache rdd_417_7 in memory! (computed 384.0 B so far)\n",
      "22/10/16 22:13:59 WARN MemoryStore: Failed to reserve initial memory threshold of 1024.0 KiB for computing block rdd_767_7 in memory.\n",
      "22/10/16 22:13:59 WARN MemoryStore: Not enough space to cache rdd_767_7 in memory! (computed 384.0 B so far)\n",
      "22/10/16 22:13:59 WARN MemoryStore: Failed to reserve initial memory threshold of 1024.0 KiB for computing block rdd_789_7 in memory.\n",
      "22/10/16 22:13:59 WARN MemoryStore: Not enough space to cache rdd_789_7 in memory! (computed 384.0 B so far)\n",
      "22/10/16 22:13:59 WARN BlockManager: Persisting block rdd_789_7 to disk instead.\n",
      "22/10/16 22:13:59 WARN MemoryStore: Not enough space to cache rdd_417_4 in memory! (computed 12.5 MiB so far)\n",
      "22/10/16 22:13:59 WARN MemoryStore: Failed to reserve initial memory threshold of 1024.0 KiB for computing block rdd_417_4 in memory.\n",
      "22/10/16 22:13:59 WARN MemoryStore: Not enough space to cache rdd_417_4 in memory! (computed 384.0 B so far)\n",
      "22/10/16 22:13:59 WARN MemoryStore: Failed to reserve initial memory threshold of 1024.0 KiB for computing block rdd_767_4 in memory.\n",
      "22/10/16 22:13:59 WARN MemoryStore: Not enough space to cache rdd_767_4 in memory! (computed 384.0 B so far)\n",
      "22/10/16 22:13:59 WARN MemoryStore: Failed to reserve initial memory threshold of 1024.0 KiB for computing block rdd_789_4 in memory.\n",
      "22/10/16 22:13:59 WARN MemoryStore: Not enough space to cache rdd_789_4 in memory! (computed 384.0 B so far)\n",
      "22/10/16 22:13:59 WARN BlockManager: Persisting block rdd_789_4 to disk instead.\n",
      "22/10/16 22:14:00 WARN MemoryStore: Not enough space to cache rdd_789_5 in memory! (computed 8.2 MiB so far)\n",
      "22/10/16 22:14:00 WARN BlockManager: Persisting block rdd_789_5 to disk instead.\n",
      "22/10/16 22:14:00 WARN MemoryStore: Not enough space to cache rdd_417_0 in memory! (computed 153.3 MiB so far)\n",
      "22/10/16 22:14:00 WARN MemoryStore: Not enough space to cache rdd_417_3 in memory! (computed 153.3 MiB so far)\n",
      "22/10/16 22:14:00 WARN MemoryStore: Not enough space to cache rdd_417_6 in memory! (computed 153.3 MiB so far)\n",
      "22/10/16 22:14:00 WARN MemoryStore: Failed to reserve initial memory threshold of 1024.0 KiB for computing block rdd_417_0 in memory.\n",
      "22/10/16 22:14:00 WARN MemoryStore: Failed to reserve initial memory threshold of 1024.0 KiB for computing block rdd_417_3 in memory.\n",
      "22/10/16 22:14:00 WARN MemoryStore: Not enough space to cache rdd_417_3 in memory! (computed 384.0 B so far)\n",
      "22/10/16 22:14:00 WARN MemoryStore: Not enough space to cache rdd_417_0 in memory! (computed 384.0 B so far)\n",
      "22/10/16 22:14:00 WARN MemoryStore: Failed to reserve initial memory threshold of 1024.0 KiB for computing block rdd_417_0 in memory.\n",
      "22/10/16 22:14:00 WARN MemoryStore: Failed to reserve initial memory threshold of 1024.0 KiB for computing block rdd_417_3 in memory.\n",
      "22/10/16 22:14:00 WARN MemoryStore: Not enough space to cache rdd_417_3 in memory! (computed 384.0 B so far)\n",
      "22/10/16 22:14:00 WARN MemoryStore: Failed to reserve initial memory threshold of 1024.0 KiB for computing block rdd_767_3 in memory.\n",
      "22/10/16 22:14:00 WARN MemoryStore: Not enough space to cache rdd_767_3 in memory! (computed 384.0 B so far)\n",
      "22/10/16 22:14:00 WARN MemoryStore: Failed to reserve initial memory threshold of 1024.0 KiB for computing block rdd_789_3 in memory.\n",
      "22/10/16 22:14:00 WARN MemoryStore: Not enough space to cache rdd_789_3 in memory! (computed 384.0 B so far)\n",
      "22/10/16 22:14:00 WARN BlockManager: Persisting block rdd_789_3 to disk instead.\n",
      "22/10/16 22:14:00 WARN MemoryStore: Failed to reserve initial memory threshold of 1024.0 KiB for computing block rdd_417_6 in memory.\n",
      "22/10/16 22:14:00 WARN MemoryStore: Not enough space to cache rdd_417_6 in memory! (computed 384.0 B so far)\n",
      "22/10/16 22:14:00 WARN MemoryStore: Not enough space to cache rdd_417_0 in memory! (computed 384.0 B so far)\n",
      "22/10/16 22:14:00 WARN MemoryStore: Failed to reserve initial memory threshold of 1024.0 KiB for computing block rdd_767_0 in memory.\n",
      "22/10/16 22:14:00 WARN MemoryStore: Not enough space to cache rdd_767_0 in memory! (computed 384.0 B so far)\n",
      "22/10/16 22:14:00 WARN MemoryStore: Failed to reserve initial memory threshold of 1024.0 KiB for computing block rdd_789_0 in memory.\n",
      "22/10/16 22:14:00 WARN MemoryStore: Not enough space to cache rdd_789_0 in memory! (computed 384.0 B so far)\n",
      "22/10/16 22:14:00 WARN BlockManager: Persisting block rdd_789_0 to disk instead.\n",
      "22/10/16 22:14:00 WARN MemoryStore: Failed to reserve initial memory threshold of 1024.0 KiB for computing block rdd_417_6 in memory.\n",
      "22/10/16 22:14:00 WARN MemoryStore: Not enough space to cache rdd_417_6 in memory! (computed 384.0 B so far)\n",
      "22/10/16 22:14:00 WARN MemoryStore: Failed to reserve initial memory threshold of 1024.0 KiB for computing block rdd_767_6 in memory.\n",
      "22/10/16 22:14:00 WARN MemoryStore: Not enough space to cache rdd_767_6 in memory! (computed 384.0 B so far)\n",
      "22/10/16 22:14:00 WARN MemoryStore: Failed to reserve initial memory threshold of 1024.0 KiB for computing block rdd_789_6 in memory.\n",
      "22/10/16 22:14:00 WARN MemoryStore: Not enough space to cache rdd_789_6 in memory! (computed 384.0 B so far)\n",
      "22/10/16 22:14:00 WARN BlockManager: Persisting block rdd_789_6 to disk instead.\n",
      "22/10/16 22:14:00 WARN MemoryStore: Not enough space to cache rdd_792_5 in memory! (computed 6.2 MiB so far)\n",
      "22/10/16 22:14:00 WARN BlockManager: Persisting block rdd_792_5 to disk instead.\n"
     ]
    },
    {
     "name": "stderr",
     "output_type": "stream",
     "text": [
      "[Stage 397:======>                                                  (1 + 8) / 9]\r"
     ]
    },
    {
     "name": "stdout",
     "output_type": "stream",
     "text": [
      "22/10/16 22:14:02 WARN MemoryStore: Not enough space to cache rdd_417_8 in memory! (computed 19.0 MiB so far)\n",
      "22/10/16 22:14:02 WARN MemoryStore: Failed to reserve initial memory threshold of 1024.0 KiB for computing block rdd_417_8 in memory.\n",
      "22/10/16 22:14:02 WARN MemoryStore: Not enough space to cache rdd_417_8 in memory! (computed 384.0 B so far)\n",
      "22/10/16 22:14:02 WARN MemoryStore: Failed to reserve initial memory threshold of 1024.0 KiB for computing block rdd_417_8 in memory.\n",
      "22/10/16 22:14:02 WARN MemoryStore: Not enough space to cache rdd_417_8 in memory! (computed 384.0 B so far)\n"
     ]
    },
    {
     "name": "stderr",
     "output_type": "stream",
     "text": [
      "[Stage 400:>                                                        (0 + 8) / 9]\r"
     ]
    },
    {
     "name": "stdout",
     "output_type": "stream",
     "text": [
      "22/10/16 22:14:10 WARN MemoryStore: Not enough space to cache rdd_417_6 in memory! (computed 234.1 MiB so far)\n",
      "22/10/16 22:14:10 WARN MemoryStore: Not enough space to cache rdd_417_1 in memory! (computed 234.1 MiB so far)\n",
      "22/10/16 22:14:10 WARN MemoryStore: Not enough space to cache rdd_417_3 in memory! (computed 234.1 MiB so far)\n",
      "22/10/16 22:14:10 WARN MemoryStore: Not enough space to cache rdd_417_2 in memory! (computed 234.1 MiB so far)\n",
      "22/10/16 22:14:10 WARN MemoryStore: Not enough space to cache rdd_417_5 in memory! (computed 234.1 MiB so far)\n",
      "22/10/16 22:14:10 WARN MemoryStore: Not enough space to cache rdd_417_0 in memory! (computed 234.1 MiB so far)\n",
      "22/10/16 22:14:10 WARN MemoryStore: Not enough space to cache rdd_417_7 in memory! (computed 234.1 MiB so far)\n",
      "22/10/16 22:14:10 WARN MemoryStore: Not enough space to cache rdd_792_5 in memory! (computed 2.7 MiB so far)\n",
      "22/10/16 22:14:10 WARN MemoryStore: Not enough space to cache rdd_792_3 in memory! (computed 1537.3 KiB so far)\n",
      "22/10/16 22:14:10 WARN MemoryStore: Not enough space to cache rdd_792_2 in memory! (computed 1537.3 KiB so far)\n"
     ]
    },
    {
     "name": "stderr",
     "output_type": "stream",
     "text": [
      "                                                                                \r"
     ]
    },
    {
     "name": "stdout",
     "output_type": "stream",
     "text": [
      "22/10/16 22:14:16 WARN MemoryStore: Not enough space to cache rdd_417_6 in memory! (computed 98.8 MiB so far)\n",
      "22/10/16 22:14:16 WARN MemoryStore: Not enough space to cache rdd_417_7 in memory! (computed 98.8 MiB so far)\n",
      "22/10/16 22:14:16 WARN MemoryStore: Not enough space to cache rdd_417_0 in memory! (computed 98.8 MiB so far)\n",
      "22/10/16 22:14:16 WARN MemoryStore: Not enough space to cache rdd_417_3 in memory! (computed 98.8 MiB so far)\n",
      "22/10/16 22:14:16 WARN MemoryStore: Not enough space to cache rdd_417_5 in memory! (computed 65.3 MiB so far)\n",
      "22/10/16 22:14:16 WARN MemoryStore: Not enough space to cache rdd_417_1 in memory! (computed 65.3 MiB so far)\n"
     ]
    },
    {
     "name": "stderr",
     "output_type": "stream",
     "text": [
      "[Stage 403:>                                                        (0 + 8) / 9]\r"
     ]
    },
    {
     "name": "stdout",
     "output_type": "stream",
     "text": [
      "22/10/16 22:14:17 WARN MemoryStore: Not enough space to cache rdd_417_2 in memory! (computed 527.0 MiB so far)\n"
     ]
    },
    {
     "name": "stderr",
     "output_type": "stream",
     "text": [
      "                                                                                \r"
     ]
    },
    {
     "name": "stdout",
     "output_type": "stream",
     "text": [
      "22/10/16 22:14:21 WARN MemoryStore: Not enough space to cache rdd_417_5 in memory! (computed 98.8 MiB so far)\n",
      "22/10/16 22:14:21 WARN MemoryStore: Not enough space to cache rdd_417_3 in memory! (computed 98.8 MiB so far)\n",
      "22/10/16 22:14:21 WARN MemoryStore: Not enough space to cache rdd_417_2 in memory! (computed 98.8 MiB so far)\n",
      "22/10/16 22:14:21 WARN MemoryStore: Not enough space to cache rdd_417_0 in memory! (computed 65.3 MiB so far)\n",
      "22/10/16 22:14:21 WARN MemoryStore: Not enough space to cache rdd_417_6 in memory! (computed 98.8 MiB so far)\n",
      "22/10/16 22:14:21 WARN MemoryStore: Not enough space to cache rdd_417_7 in memory! (computed 65.3 MiB so far)\n"
     ]
    },
    {
     "name": "stderr",
     "output_type": "stream",
     "text": [
      "[Stage 406:======>                                                  (1 + 8) / 9]\r"
     ]
    },
    {
     "name": "stdout",
     "output_type": "stream",
     "text": [
      "22/10/16 22:14:23 WARN MemoryStore: Not enough space to cache rdd_417_1 in memory! (computed 527.0 MiB so far)\n"
     ]
    },
    {
     "name": "stderr",
     "output_type": "stream",
     "text": [
      "                                                                                \r"
     ]
    },
    {
     "name": "stdout",
     "output_type": "stream",
     "text": [
      "22/10/16 22:14:27 WARN MemoryStore: Not enough space to cache rdd_417_2 in memory! (computed 65.3 MiB so far)\n",
      "22/10/16 22:14:27 WARN MemoryStore: Not enough space to cache rdd_417_1 in memory! (computed 65.3 MiB so far)\n",
      "22/10/16 22:14:27 WARN MemoryStore: Not enough space to cache rdd_417_3 in memory! (computed 98.8 MiB so far)\n"
     ]
    },
    {
     "name": "stderr",
     "output_type": "stream",
     "text": [
      "[Stage 409:>                                                        (0 + 8) / 9]\r"
     ]
    },
    {
     "name": "stdout",
     "output_type": "stream",
     "text": [
      "22/10/16 22:14:27 WARN MemoryStore: Not enough space to cache rdd_417_5 in memory! (computed 153.3 MiB so far)\n",
      "22/10/16 22:14:27 WARN MemoryStore: Not enough space to cache rdd_417_0 in memory! (computed 153.3 MiB so far)\n",
      "22/10/16 22:14:27 WARN MemoryStore: Not enough space to cache rdd_417_7 in memory! (computed 153.3 MiB so far)\n",
      "22/10/16 22:14:27 WARN MemoryStore: Not enough space to cache rdd_792_5 in memory! (computed 1537.3 KiB so far)\n",
      "22/10/16 22:14:27 WARN MemoryStore: Not enough space to cache rdd_792_0 in memory! (computed 1537.3 KiB so far)\n",
      "22/10/16 22:14:27 WARN MemoryStore: Not enough space to cache rdd_792_7 in memory! (computed 1537.3 KiB so far)\n"
     ]
    },
    {
     "name": "stderr",
     "output_type": "stream",
     "text": [
      "[Stage 409:======>                                                  (1 + 8) / 9]\r"
     ]
    },
    {
     "name": "stdout",
     "output_type": "stream",
     "text": [
      "22/10/16 22:14:30 WARN MemoryStore: Not enough space to cache rdd_417_8 in memory! (computed 43.5 MiB so far)\n",
      "22/10/16 22:14:30 WARN MemoryStore: Not enough space to cache rdd_417_6 in memory! (computed 791.9 MiB so far)\n"
     ]
    },
    {
     "name": "stderr",
     "output_type": "stream",
     "text": [
      "                                                                                \r"
     ]
    },
    {
     "name": "stdout",
     "output_type": "stream",
     "text": [
      "22/10/16 22:14:32 WARN MemoryStore: Not enough space to cache rdd_417_1 in memory! (computed 98.8 MiB so far)\n",
      "22/10/16 22:14:32 WARN MemoryStore: Not enough space to cache rdd_417_3 in memory! (computed 98.8 MiB so far)\n",
      "22/10/16 22:14:32 WARN MemoryStore: Not enough space to cache rdd_417_5 in memory! (computed 98.8 MiB so far)\n",
      "22/10/16 22:14:32 WARN MemoryStore: Not enough space to cache rdd_417_2 in memory! (computed 98.8 MiB so far)\n",
      "22/10/16 22:14:32 WARN MemoryStore: Not enough space to cache rdd_417_0 in memory! (computed 153.3 MiB so far)\n",
      "22/10/16 22:14:32 WARN MemoryStore: Not enough space to cache rdd_417_7 in memory! (computed 153.3 MiB so far)\n",
      "22/10/16 22:14:32 WARN MemoryStore: Not enough space to cache rdd_417_3 in memory! (computed 8.2 MiB so far)\n",
      "22/10/16 22:14:32 WARN MemoryStore: Failed to reserve initial memory threshold of 1024.0 KiB for computing block rdd_417_7 in memory.\n",
      "22/10/16 22:14:32 WARN MemoryStore: Not enough space to cache rdd_417_5 in memory! (computed 3.6 MiB so far)\n",
      "22/10/16 22:14:32 WARN MemoryStore: Not enough space to cache rdd_417_7 in memory! (computed 384.0 B so far)\n",
      "22/10/16 22:14:32 WARN MemoryStore: Failed to reserve initial memory threshold of 1024.0 KiB for computing block rdd_417_3 in memory.\n",
      "22/10/16 22:14:32 WARN MemoryStore: Not enough space to cache rdd_417_3 in memory! (computed 384.0 B so far)\n",
      "22/10/16 22:14:32 WARN MemoryStore: Not enough space to cache rdd_417_0 in memory! (computed 1050.0 KiB so far)\n",
      "22/10/16 22:14:32 WARN MemoryStore: Not enough space to cache rdd_417_1 in memory! (computed 12.5 MiB so far)\n",
      "22/10/16 22:14:32 WARN MemoryStore: Failed to reserve initial memory threshold of 1024.0 KiB for computing block rdd_417_7 in memory.\n",
      "22/10/16 22:14:32 WARN MemoryStore: Not enough space to cache rdd_417_7 in memory! (computed 384.0 B so far)\n",
      "22/10/16 22:14:32 WARN MemoryStore: Failed to reserve initial memory threshold of 1024.0 KiB for computing block rdd_417_0 in memory.\n",
      "22/10/16 22:14:32 WARN MemoryStore: Not enough space to cache rdd_417_0 in memory! (computed 384.0 B so far)\n",
      "22/10/16 22:14:32 WARN MemoryStore: Failed to reserve initial memory threshold of 1024.0 KiB for computing block rdd_417_1 in memory.\n",
      "22/10/16 22:14:32 WARN MemoryStore: Not enough space to cache rdd_417_1 in memory! (computed 384.0 B so far)\n",
      "22/10/16 22:14:32 WARN MemoryStore: Failed to reserve initial memory threshold of 1024.0 KiB for computing block rdd_417_5 in memory.\n",
      "22/10/16 22:14:32 WARN MemoryStore: Not enough space to cache rdd_417_5 in memory! (computed 384.0 B so far)\n",
      "22/10/16 22:14:32 WARN MemoryStore: Failed to reserve initial memory threshold of 1024.0 KiB for computing block rdd_789_3 in memory.\n",
      "22/10/16 22:14:32 WARN MemoryStore: Not enough space to cache rdd_789_3 in memory! (computed 384.0 B so far)\n",
      "22/10/16 22:14:32 WARN MemoryStore: Failed to reserve initial memory threshold of 1024.0 KiB for computing block rdd_811_3 in memory.\n",
      "22/10/16 22:14:32 WARN MemoryStore: Not enough space to cache rdd_811_3 in memory! (computed 384.0 B so far)\n",
      "22/10/16 22:14:32 WARN BlockManager: Persisting block rdd_811_3 to disk instead.\n",
      "22/10/16 22:14:32 WARN MemoryStore: Failed to reserve initial memory threshold of 1024.0 KiB for computing block rdd_789_5 in memory.\n",
      "22/10/16 22:14:32 WARN MemoryStore: Not enough space to cache rdd_789_5 in memory! (computed 384.0 B so far)\n",
      "22/10/16 22:14:32 WARN MemoryStore: Failed to reserve initial memory threshold of 1024.0 KiB for computing block rdd_811_5 in memory.\n",
      "22/10/16 22:14:32 WARN MemoryStore: Not enough space to cache rdd_811_5 in memory! (computed 384.0 B so far)\n",
      "22/10/16 22:14:32 WARN BlockManager: Persisting block rdd_811_5 to disk instead.\n",
      "22/10/16 22:14:32 WARN MemoryStore: Failed to reserve initial memory threshold of 1024.0 KiB for computing block rdd_789_7 in memory.\n",
      "22/10/16 22:14:32 WARN MemoryStore: Not enough space to cache rdd_789_7 in memory! (computed 384.0 B so far)\n",
      "22/10/16 22:14:32 WARN MemoryStore: Failed to reserve initial memory threshold of 1024.0 KiB for computing block rdd_811_7 in memory.\n",
      "22/10/16 22:14:32 WARN MemoryStore: Not enough space to cache rdd_811_7 in memory! (computed 384.0 B so far)\n",
      "22/10/16 22:14:32 WARN BlockManager: Persisting block rdd_811_7 to disk instead.\n",
      "22/10/16 22:14:32 WARN MemoryStore: Not enough space to cache rdd_417_2 in memory! (computed 2.4 MiB so far)\n",
      "22/10/16 22:14:32 WARN MemoryStore: Failed to reserve initial memory threshold of 1024.0 KiB for computing block rdd_789_0 in memory.\n",
      "22/10/16 22:14:32 WARN MemoryStore: Not enough space to cache rdd_789_0 in memory! (computed 384.0 B so far)\n",
      "22/10/16 22:14:32 WARN MemoryStore: Failed to reserve initial memory threshold of 1024.0 KiB for computing block rdd_811_0 in memory.\n",
      "22/10/16 22:14:32 WARN MemoryStore: Not enough space to cache rdd_811_0 in memory! (computed 384.0 B so far)\n",
      "22/10/16 22:14:32 WARN MemoryStore: Failed to reserve initial memory threshold of 1024.0 KiB for computing block rdd_789_1 in memory.\n",
      "22/10/16 22:14:32 WARN MemoryStore: Not enough space to cache rdd_789_1 in memory! (computed 384.0 B so far)\n",
      "22/10/16 22:14:32 WARN BlockManager: Persisting block rdd_811_0 to disk instead.\n",
      "22/10/16 22:14:32 WARN MemoryStore: Failed to reserve initial memory threshold of 1024.0 KiB for computing block rdd_811_1 in memory.\n",
      "22/10/16 22:14:32 WARN MemoryStore: Not enough space to cache rdd_811_1 in memory! (computed 384.0 B so far)\n",
      "22/10/16 22:14:32 WARN BlockManager: Persisting block rdd_811_1 to disk instead.\n",
      "22/10/16 22:14:32 WARN MemoryStore: Failed to reserve initial memory threshold of 1024.0 KiB for computing block rdd_417_2 in memory.\n",
      "22/10/16 22:14:32 WARN MemoryStore: Not enough space to cache rdd_417_2 in memory! (computed 384.0 B so far)\n",
      "22/10/16 22:14:32 WARN MemoryStore: Failed to reserve initial memory threshold of 1024.0 KiB for computing block rdd_789_2 in memory.\n",
      "22/10/16 22:14:32 WARN MemoryStore: Not enough space to cache rdd_789_2 in memory! (computed 384.0 B so far)\n",
      "22/10/16 22:14:32 WARN MemoryStore: Failed to reserve initial memory threshold of 1024.0 KiB for computing block rdd_811_2 in memory.\n",
      "22/10/16 22:14:32 WARN MemoryStore: Not enough space to cache rdd_811_2 in memory! (computed 384.0 B so far)\n",
      "22/10/16 22:14:32 WARN BlockManager: Persisting block rdd_811_2 to disk instead.\n",
      "22/10/16 22:14:32 WARN MemoryStore: Not enough space to cache rdd_811_4 in memory! (computed 1035.4 KiB so far)\n",
      "22/10/16 22:14:32 WARN BlockManager: Persisting block rdd_811_4 to disk instead.\n",
      "22/10/16 22:14:32 WARN MemoryStore: Not enough space to cache rdd_417_6 in memory! (computed 153.3 MiB so far)\n",
      "22/10/16 22:14:32 WARN MemoryStore: Not enough space to cache rdd_417_6 in memory! (computed 1050.0 KiB so far)\n",
      "22/10/16 22:14:32 WARN MemoryStore: Failed to reserve initial memory threshold of 1024.0 KiB for computing block rdd_417_6 in memory.\n",
      "22/10/16 22:14:32 WARN MemoryStore: Not enough space to cache rdd_417_6 in memory! (computed 384.0 B so far)\n",
      "22/10/16 22:14:32 WARN MemoryStore: Failed to reserve initial memory threshold of 1024.0 KiB for computing block rdd_789_6 in memory.\n",
      "22/10/16 22:14:32 WARN MemoryStore: Not enough space to cache rdd_789_6 in memory! (computed 384.0 B so far)\n",
      "22/10/16 22:14:32 WARN MemoryStore: Failed to reserve initial memory threshold of 1024.0 KiB for computing block rdd_811_6 in memory.\n",
      "22/10/16 22:14:32 WARN MemoryStore: Not enough space to cache rdd_811_6 in memory! (computed 384.0 B so far)\n",
      "22/10/16 22:14:32 WARN BlockManager: Persisting block rdd_811_6 to disk instead.\n"
     ]
    },
    {
     "name": "stderr",
     "output_type": "stream",
     "text": [
      "[Stage 412:>                                                        (0 + 8) / 9]\r"
     ]
    },
    {
     "name": "stdout",
     "output_type": "stream",
     "text": [
      "22/10/16 22:14:34 WARN MemoryStore: Not enough space to cache rdd_811_4 in memory! (computed 8.2 MiB so far)\n",
      "22/10/16 22:14:34 WARN MemoryStore: Not enough space to cache rdd_814_4 in memory! (computed 2.7 MiB so far)\n",
      "22/10/16 22:14:34 WARN BlockManager: Persisting block rdd_814_4 to disk instead.\n",
      "22/10/16 22:14:35 WARN MemoryStore: Not enough space to cache rdd_814_4 in memory! (computed 10.8 MiB so far)\n",
      "22/10/16 22:14:35 WARN MemoryStore: Not enough space to cache rdd_417_8 in memory! (computed 8.2 MiB so far)\n",
      "22/10/16 22:14:35 WARN MemoryStore: Not enough space to cache rdd_417_8 in memory! (computed 2.4 MiB so far)\n",
      "22/10/16 22:14:35 WARN MemoryStore: Failed to reserve initial memory threshold of 1024.0 KiB for computing block rdd_417_8 in memory.\n",
      "22/10/16 22:14:35 WARN MemoryStore: Not enough space to cache rdd_417_8 in memory! (computed 384.0 B so far)\n"
     ]
    },
    {
     "name": "stderr",
     "output_type": "stream",
     "text": [
      "[Stage 415:>                                                        (0 + 8) / 9]\r"
     ]
    },
    {
     "name": "stdout",
     "output_type": "stream",
     "text": [
      "22/10/16 22:14:44 WARN MemoryStore: Not enough space to cache rdd_417_1 in memory! (computed 234.1 MiB so far)\n",
      "22/10/16 22:14:44 WARN MemoryStore: Not enough space to cache rdd_417_0 in memory! (computed 234.1 MiB so far)\n",
      "22/10/16 22:14:44 WARN MemoryStore: Not enough space to cache rdd_417_7 in memory! (computed 234.1 MiB so far)\n",
      "22/10/16 22:14:44 WARN MemoryStore: Not enough space to cache rdd_417_4 in memory! (computed 234.1 MiB so far)\n",
      "22/10/16 22:14:44 WARN MemoryStore: Not enough space to cache rdd_417_6 in memory! (computed 234.1 MiB so far)\n",
      "22/10/16 22:14:44 WARN MemoryStore: Not enough space to cache rdd_417_3 in memory! (computed 234.1 MiB so far)\n",
      "22/10/16 22:14:44 WARN MemoryStore: Not enough space to cache rdd_417_2 in memory! (computed 234.1 MiB so far)\n",
      "22/10/16 22:14:44 WARN MemoryStore: Not enough space to cache rdd_814_3 in memory! (computed 1537.3 KiB so far)\n",
      "22/10/16 22:14:44 WARN MemoryStore: Not enough space to cache rdd_814_2 in memory! (computed 2.7 MiB so far)\n",
      "22/10/16 22:14:44 WARN MemoryStore: Not enough space to cache rdd_814_4 in memory! (computed 1537.3 KiB so far)\n"
     ]
    },
    {
     "name": "stderr",
     "output_type": "stream",
     "text": [
      "                                                                                \r"
     ]
    },
    {
     "name": "stdout",
     "output_type": "stream",
     "text": [
      "22/10/16 22:14:49 WARN MemoryStore: Not enough space to cache rdd_417_2 in memory! (computed 65.3 MiB so far)\n",
      "22/10/16 22:14:49 WARN MemoryStore: Not enough space to cache rdd_417_0 in memory! (computed 98.8 MiB so far)\n",
      "22/10/16 22:14:49 WARN MemoryStore: Not enough space to cache rdd_417_3 in memory! (computed 98.8 MiB so far)\n",
      "22/10/16 22:14:49 WARN MemoryStore: Not enough space to cache rdd_417_4 in memory! (computed 98.8 MiB so far)\n",
      "22/10/16 22:14:49 WARN MemoryStore: Not enough space to cache rdd_417_1 in memory! (computed 98.8 MiB so far)\n",
      "22/10/16 22:14:49 WARN MemoryStore: Not enough space to cache rdd_417_7 in memory! (computed 98.8 MiB so far)\n"
     ]
    },
    {
     "name": "stderr",
     "output_type": "stream",
     "text": [
      "[Stage 418:======>                                                  (1 + 8) / 9]\r"
     ]
    },
    {
     "name": "stdout",
     "output_type": "stream",
     "text": [
      "22/10/16 22:14:51 WARN MemoryStore: Not enough space to cache rdd_417_6 in memory! (computed 527.0 MiB so far)\n"
     ]
    },
    {
     "name": "stderr",
     "output_type": "stream",
     "text": [
      "                                                                                \r"
     ]
    },
    {
     "name": "stdout",
     "output_type": "stream",
     "text": [
      "22/10/16 22:14:53 WARN MemoryStore: Not enough space to cache rdd_417_6 in memory! (computed 98.8 MiB so far)\n",
      "22/10/16 22:14:54 WARN MemoryStore: Not enough space to cache rdd_417_2 in memory! (computed 98.8 MiB so far)\n",
      "22/10/16 22:14:54 WARN MemoryStore: Not enough space to cache rdd_417_4 in memory! (computed 98.8 MiB so far)\n"
     ]
    },
    {
     "name": "stderr",
     "output_type": "stream",
     "text": [
      "[Stage 421:>                                                        (0 + 8) / 9]\r"
     ]
    },
    {
     "name": "stdout",
     "output_type": "stream",
     "text": [
      "22/10/16 22:14:54 WARN MemoryStore: Not enough space to cache rdd_417_7 in memory! (computed 153.3 MiB so far)\n",
      "22/10/16 22:14:54 WARN MemoryStore: Failed to reserve initial memory threshold of 1024.0 KiB for computing block rdd_814_7 in memory.\n",
      "22/10/16 22:14:54 WARN MemoryStore: Not enough space to cache rdd_814_7 in memory! (computed 384.0 B so far)\n",
      "22/10/16 22:14:54 WARN MemoryStore: Not enough space to cache rdd_417_0 in memory! (computed 153.3 MiB so far)\n",
      "22/10/16 22:14:54 WARN MemoryStore: Not enough space to cache rdd_417_3 in memory! (computed 153.3 MiB so far)\n"
     ]
    },
    {
     "name": "stderr",
     "output_type": "stream",
     "text": [
      "[Stage 421:======>                                                  (1 + 8) / 9]\r"
     ]
    },
    {
     "name": "stdout",
     "output_type": "stream",
     "text": [
      "22/10/16 22:14:56 WARN MemoryStore: Not enough space to cache rdd_417_8 in memory! (computed 98.8 MiB so far)\n"
     ]
    },
    {
     "name": "stderr",
     "output_type": "stream",
     "text": [
      "                                                                                \r"
     ]
    },
    {
     "name": "stdout",
     "output_type": "stream",
     "text": [
      "22/10/16 22:14:59 WARN MemoryStore: Not enough space to cache rdd_417_3 in memory! (computed 153.3 MiB so far)\n",
      "22/10/16 22:14:59 WARN MemoryStore: Not enough space to cache rdd_417_4 in memory! (computed 98.8 MiB so far)\n",
      "22/10/16 22:14:59 WARN MemoryStore: Not enough space to cache rdd_417_5 in memory! (computed 153.3 MiB so far)\n",
      "22/10/16 22:14:59 WARN MemoryStore: Not enough space to cache rdd_417_2 in memory! (computed 98.8 MiB so far)\n",
      "22/10/16 22:14:59 WARN MemoryStore: Not enough space to cache rdd_417_0 in memory! (computed 98.8 MiB so far)\n",
      "22/10/16 22:14:59 WARN MemoryStore: Not enough space to cache rdd_417_6 in memory! (computed 98.8 MiB so far)\n"
     ]
    },
    {
     "name": "stderr",
     "output_type": "stream",
     "text": [
      "[Stage 424:>                                                        (0 + 8) / 9]\r"
     ]
    },
    {
     "name": "stdout",
     "output_type": "stream",
     "text": [
      "22/10/16 22:15:00 WARN MemoryStore: Not enough space to cache rdd_814_6 in memory! (computed 1024.6 KiB so far)\n",
      "22/10/16 22:15:00 WARN MemoryStore: Not enough space to cache rdd_814_5 in memory! (computed 1024.6 KiB so far)\n",
      "22/10/16 22:15:00 WARN MemoryStore: Not enough space to cache rdd_417_7 in memory! (computed 153.3 MiB so far)\n",
      "22/10/16 22:15:00 WARN MemoryStore: Failed to reserve initial memory threshold of 1024.0 KiB for computing block rdd_814_7 in memory.\n",
      "22/10/16 22:15:00 WARN MemoryStore: Not enough space to cache rdd_814_7 in memory! (computed 384.0 B so far)\n"
     ]
    },
    {
     "name": "stderr",
     "output_type": "stream",
     "text": [
      "                                                                                \r"
     ]
    },
    {
     "name": "stdout",
     "output_type": "stream",
     "text": [
      "22/10/16 22:15:04 WARN MemoryStore: Not enough space to cache rdd_417_5 in memory! (computed 65.3 MiB so far)\n",
      "22/10/16 22:15:04 WARN MemoryStore: Not enough space to cache rdd_417_5 in memory! (computed 1591.6 KiB so far)\n",
      "22/10/16 22:15:04 WARN MemoryStore: Failed to reserve initial memory threshold of 1024.0 KiB for computing block rdd_417_5 in memory.\n",
      "22/10/16 22:15:04 WARN MemoryStore: Not enough space to cache rdd_417_5 in memory! (computed 384.0 B so far)\n",
      "22/10/16 22:15:04 WARN MemoryStore: Not enough space to cache rdd_417_0 in memory! (computed 98.8 MiB so far)\n",
      "22/10/16 22:15:04 WARN MemoryStore: Not enough space to cache rdd_417_7 in memory! (computed 98.8 MiB so far)\n",
      "22/10/16 22:15:04 WARN MemoryStore: Not enough space to cache rdd_833_1 in memory! (computed 3.7 MiB so far)\n",
      "22/10/16 22:15:04 WARN BlockManager: Persisting block rdd_833_1 to disk instead.\n",
      "22/10/16 22:15:04 WARN MemoryStore: Not enough space to cache rdd_417_7 in memory! (computed 5.4 MiB so far)\n",
      "22/10/16 22:15:04 WARN MemoryStore: Not enough space to cache rdd_417_0 in memory! (computed 3.6 MiB so far)\n",
      "22/10/16 22:15:04 WARN MemoryStore: Not enough space to cache rdd_811_5 in memory! (computed 3.7 MiB so far)\n",
      "22/10/16 22:15:04 WARN MemoryStore: Failed to reserve initial memory threshold of 1024.0 KiB for computing block rdd_417_0 in memory.\n",
      "22/10/16 22:15:04 WARN MemoryStore: Not enough space to cache rdd_417_0 in memory! (computed 384.0 B so far)\n",
      "22/10/16 22:15:04 WARN MemoryStore: Failed to reserve initial memory threshold of 1024.0 KiB for computing block rdd_417_7 in memory.\n",
      "22/10/16 22:15:04 WARN MemoryStore: Not enough space to cache rdd_417_7 in memory! (computed 384.0 B so far)\n",
      "22/10/16 22:15:04 WARN MemoryStore: Failed to reserve initial memory threshold of 1024.0 KiB for computing block rdd_833_5 in memory.\n",
      "22/10/16 22:15:04 WARN MemoryStore: Not enough space to cache rdd_833_5 in memory! (computed 384.0 B so far)\n",
      "22/10/16 22:15:04 WARN BlockManager: Persisting block rdd_833_5 to disk instead.\n",
      "22/10/16 22:15:04 WARN MemoryStore: Failed to reserve initial memory threshold of 1024.0 KiB for computing block rdd_811_0 in memory.\n",
      "22/10/16 22:15:04 WARN MemoryStore: Failed to reserve initial memory threshold of 1024.0 KiB for computing block rdd_811_7 in memory.\n",
      "22/10/16 22:15:04 WARN MemoryStore: Not enough space to cache rdd_811_0 in memory! (computed 384.0 B so far)\n",
      "22/10/16 22:15:04 WARN MemoryStore: Not enough space to cache rdd_811_7 in memory! (computed 384.0 B so far)\n",
      "22/10/16 22:15:04 WARN MemoryStore: Failed to reserve initial memory threshold of 1024.0 KiB for computing block rdd_833_0 in memory.\n",
      "22/10/16 22:15:04 WARN MemoryStore: Not enough space to cache rdd_833_0 in memory! (computed 384.0 B so far)\n",
      "22/10/16 22:15:04 WARN BlockManager: Persisting block rdd_833_0 to disk instead.\n",
      "22/10/16 22:15:04 WARN MemoryStore: Failed to reserve initial memory threshold of 1024.0 KiB for computing block rdd_833_7 in memory.\n",
      "22/10/16 22:15:04 WARN MemoryStore: Not enough space to cache rdd_833_7 in memory! (computed 384.0 B so far)\n",
      "22/10/16 22:15:04 WARN BlockManager: Persisting block rdd_833_7 to disk instead.\n",
      "22/10/16 22:15:04 WARN MemoryStore: Not enough space to cache rdd_417_6 in memory! (computed 153.3 MiB so far)\n",
      "22/10/16 22:15:04 WARN MemoryStore: Not enough space to cache rdd_417_3 in memory! (computed 153.3 MiB so far)\n",
      "22/10/16 22:15:04 WARN MemoryStore: Not enough space to cache rdd_417_3 in memory! (computed 1591.6 KiB so far)\n",
      "22/10/16 22:15:04 WARN MemoryStore: Not enough space to cache rdd_417_6 in memory! (computed 2.4 MiB so far)\n",
      "22/10/16 22:15:04 WARN MemoryStore: Failed to reserve initial memory threshold of 1024.0 KiB for computing block rdd_417_3 in memory.\n",
      "22/10/16 22:15:04 WARN MemoryStore: Not enough space to cache rdd_417_3 in memory! (computed 384.0 B so far)\n",
      "22/10/16 22:15:04 WARN MemoryStore: Failed to reserve initial memory threshold of 1024.0 KiB for computing block rdd_811_3 in memory.\n",
      "22/10/16 22:15:04 WARN MemoryStore: Not enough space to cache rdd_811_3 in memory! (computed 384.0 B so far)\n",
      "22/10/16 22:15:04 WARN MemoryStore: Failed to reserve initial memory threshold of 1024.0 KiB for computing block rdd_833_3 in memory.\n",
      "22/10/16 22:15:04 WARN MemoryStore: Not enough space to cache rdd_833_3 in memory! (computed 384.0 B so far)\n",
      "22/10/16 22:15:04 WARN BlockManager: Persisting block rdd_833_3 to disk instead.\n",
      "22/10/16 22:15:04 WARN MemoryStore: Failed to reserve initial memory threshold of 1024.0 KiB for computing block rdd_417_6 in memory.\n",
      "22/10/16 22:15:04 WARN MemoryStore: Not enough space to cache rdd_417_6 in memory! (computed 384.0 B so far)\n",
      "22/10/16 22:15:04 WARN MemoryStore: Failed to reserve initial memory threshold of 1024.0 KiB for computing block rdd_811_6 in memory.\n",
      "22/10/16 22:15:04 WARN MemoryStore: Not enough space to cache rdd_811_6 in memory! (computed 384.0 B so far)\n",
      "22/10/16 22:15:04 WARN MemoryStore: Failed to reserve initial memory threshold of 1024.0 KiB for computing block rdd_833_6 in memory.\n",
      "22/10/16 22:15:04 WARN MemoryStore: Not enough space to cache rdd_833_6 in memory! (computed 384.0 B so far)\n",
      "22/10/16 22:15:04 WARN BlockManager: Persisting block rdd_833_6 to disk instead.\n",
      "22/10/16 22:15:04 WARN MemoryStore: Not enough space to cache rdd_417_4 in memory! (computed 153.3 MiB so far)\n",
      "22/10/16 22:15:04 WARN MemoryStore: Failed to reserve initial memory threshold of 1024.0 KiB for computing block rdd_417_4 in memory.\n",
      "22/10/16 22:15:04 WARN MemoryStore: Not enough space to cache rdd_417_4 in memory! (computed 384.0 B so far)\n",
      "22/10/16 22:15:04 WARN MemoryStore: Not enough space to cache rdd_417_2 in memory! (computed 153.3 MiB so far)\n",
      "22/10/16 22:15:05 WARN MemoryStore: Failed to reserve initial memory threshold of 1024.0 KiB for computing block rdd_417_4 in memory.\n",
      "22/10/16 22:15:05 WARN MemoryStore: Not enough space to cache rdd_417_4 in memory! (computed 384.0 B so far)\n",
      "22/10/16 22:15:05 WARN MemoryStore: Failed to reserve initial memory threshold of 1024.0 KiB for computing block rdd_417_2 in memory.\n",
      "22/10/16 22:15:05 WARN MemoryStore: Not enough space to cache rdd_417_2 in memory! (computed 384.0 B so far)\n",
      "22/10/16 22:15:05 WARN MemoryStore: Failed to reserve initial memory threshold of 1024.0 KiB for computing block rdd_811_4 in memory.\n",
      "22/10/16 22:15:05 WARN MemoryStore: Not enough space to cache rdd_811_4 in memory! (computed 384.0 B so far)\n",
      "22/10/16 22:15:05 WARN MemoryStore: Failed to reserve initial memory threshold of 1024.0 KiB for computing block rdd_833_4 in memory.\n",
      "22/10/16 22:15:05 WARN MemoryStore: Not enough space to cache rdd_833_4 in memory! (computed 384.0 B so far)\n",
      "22/10/16 22:15:05 WARN BlockManager: Persisting block rdd_833_4 to disk instead.\n",
      "22/10/16 22:15:05 WARN MemoryStore: Failed to reserve initial memory threshold of 1024.0 KiB for computing block rdd_417_2 in memory.\n",
      "22/10/16 22:15:05 WARN MemoryStore: Not enough space to cache rdd_417_2 in memory! (computed 384.0 B so far)\n",
      "22/10/16 22:15:05 WARN MemoryStore: Failed to reserve initial memory threshold of 1024.0 KiB for computing block rdd_811_2 in memory.\n",
      "22/10/16 22:15:05 WARN MemoryStore: Not enough space to cache rdd_811_2 in memory! (computed 384.0 B so far)\n",
      "22/10/16 22:15:05 WARN MemoryStore: Failed to reserve initial memory threshold of 1024.0 KiB for computing block rdd_833_2 in memory.\n",
      "22/10/16 22:15:05 WARN MemoryStore: Not enough space to cache rdd_833_2 in memory! (computed 384.0 B so far)\n",
      "22/10/16 22:15:05 WARN BlockManager: Persisting block rdd_833_2 to disk instead.\n"
     ]
    },
    {
     "name": "stderr",
     "output_type": "stream",
     "text": [
      "[Stage 427:>                                                        (0 + 8) / 9]\r"
     ]
    },
    {
     "name": "stdout",
     "output_type": "stream",
     "text": [
      "22/10/16 22:15:05 WARN MemoryStore: Not enough space to cache rdd_833_1 in memory! (computed 8.2 MiB so far)\n",
      "22/10/16 22:15:05 WARN MemoryStore: Not enough space to cache rdd_836_1 in memory! (computed 2.7 MiB so far)\n",
      "22/10/16 22:15:05 WARN BlockManager: Persisting block rdd_836_1 to disk instead.\n",
      "22/10/16 22:15:05 WARN MemoryStore: Not enough space to cache rdd_836_1 in memory! (computed 10.8 MiB so far)\n"
     ]
    },
    {
     "name": "stderr",
     "output_type": "stream",
     "text": [
      "[Stage 427:======>                                                  (1 + 8) / 9]\r"
     ]
    },
    {
     "name": "stdout",
     "output_type": "stream",
     "text": [
      "22/10/16 22:15:06 WARN MemoryStore: Not enough space to cache rdd_417_8 in memory! (computed 12.5 MiB so far)\n",
      "22/10/16 22:15:06 WARN MemoryStore: Not enough space to cache rdd_417_8 in memory! (computed 2.4 MiB so far)\n",
      "22/10/16 22:15:06 WARN MemoryStore: Failed to reserve initial memory threshold of 1024.0 KiB for computing block rdd_417_8 in memory.\n",
      "22/10/16 22:15:06 WARN MemoryStore: Not enough space to cache rdd_417_8 in memory! (computed 384.0 B so far)\n"
     ]
    },
    {
     "name": "stderr",
     "output_type": "stream",
     "text": [
      "[Stage 430:>                                                        (0 + 8) / 9]\r"
     ]
    },
    {
     "name": "stdout",
     "output_type": "stream",
     "text": [
      "22/10/16 22:15:15 WARN MemoryStore: Not enough space to cache rdd_417_0 in memory! (computed 234.1 MiB so far)\n",
      "22/10/16 22:15:15 WARN MemoryStore: Not enough space to cache rdd_417_7 in memory! (computed 234.1 MiB so far)\n",
      "22/10/16 22:15:15 WARN MemoryStore: Not enough space to cache rdd_417_5 in memory! (computed 234.1 MiB so far)\n",
      "22/10/16 22:15:15 WARN MemoryStore: Not enough space to cache rdd_417_4 in memory! (computed 234.1 MiB so far)\n",
      "22/10/16 22:15:15 WARN MemoryStore: Not enough space to cache rdd_417_3 in memory! (computed 234.1 MiB so far)\n",
      "22/10/16 22:15:15 WARN MemoryStore: Not enough space to cache rdd_417_2 in memory! (computed 234.1 MiB so far)\n",
      "22/10/16 22:15:15 WARN MemoryStore: Not enough space to cache rdd_417_6 in memory! (computed 234.1 MiB so far)\n",
      "22/10/16 22:15:15 WARN MemoryStore: Not enough space to cache rdd_836_3 in memory! (computed 1537.3 KiB so far)\n",
      "22/10/16 22:15:15 WARN MemoryStore: Not enough space to cache rdd_836_2 in memory! (computed 2.7 MiB so far)\n",
      "22/10/16 22:15:15 WARN MemoryStore: Not enough space to cache rdd_836_5 in memory! (computed 1537.3 KiB so far)\n",
      "22/10/16 22:15:15 WARN MemoryStore: Not enough space to cache rdd_417_1 in memory! (computed 351.3 MiB so far)\n",
      "22/10/16 22:15:15 WARN MemoryStore: Not enough space to cache rdd_836_1 in memory! (computed 1537.3 KiB so far)\n"
     ]
    },
    {
     "name": "stderr",
     "output_type": "stream",
     "text": [
      "[Stage 433:>                                                        (0 + 8) / 9]\r"
     ]
    },
    {
     "name": "stdout",
     "output_type": "stream",
     "text": [
      "22/10/16 22:15:20 WARN MemoryStore: Not enough space to cache rdd_417_1 in memory! (computed 153.3 MiB so far)\n",
      "22/10/16 22:15:20 WARN MemoryStore: Not enough space to cache rdd_417_5 in memory! (computed 351.3 MiB so far)\n",
      "22/10/16 22:15:20 WARN MemoryStore: Not enough space to cache rdd_417_0 in memory! (computed 234.1 MiB so far)\n",
      "22/10/16 22:15:20 WARN MemoryStore: Not enough space to cache rdd_417_2 in memory! (computed 234.1 MiB so far)\n",
      "22/10/16 22:15:20 WARN MemoryStore: Not enough space to cache rdd_836_1 in memory! (computed 1024.6 KiB so far)\n",
      "22/10/16 22:15:20 WARN MemoryStore: Not enough space to cache rdd_417_6 in memory! (computed 234.1 MiB so far)\n",
      "22/10/16 22:15:20 WARN MemoryStore: Not enough space to cache rdd_417_3 in memory! (computed 234.1 MiB so far)\n",
      "22/10/16 22:15:20 WARN MemoryStore: Not enough space to cache rdd_417_7 in memory! (computed 234.1 MiB so far)\n",
      "22/10/16 22:15:20 WARN MemoryStore: Failed to reserve initial memory threshold of 1024.0 KiB for computing block rdd_836_5 in memory.\n",
      "22/10/16 22:15:20 WARN MemoryStore: Not enough space to cache rdd_836_5 in memory! (computed 384.0 B so far)\n",
      "22/10/16 22:15:20 WARN MemoryStore: Failed to reserve initial memory threshold of 1024.0 KiB for computing block rdd_836_0 in memory.\n",
      "22/10/16 22:15:20 WARN MemoryStore: Failed to reserve initial memory threshold of 1024.0 KiB for computing block rdd_836_2 in memory.\n",
      "22/10/16 22:15:20 WARN MemoryStore: Not enough space to cache rdd_836_0 in memory! (computed 384.0 B so far)\n",
      "22/10/16 22:15:20 WARN MemoryStore: Not enough space to cache rdd_836_2 in memory! (computed 384.0 B so far)\n",
      "22/10/16 22:15:20 WARN MemoryStore: Failed to reserve initial memory threshold of 1024.0 KiB for computing block rdd_836_6 in memory.\n",
      "22/10/16 22:15:20 WARN MemoryStore: Not enough space to cache rdd_836_6 in memory! (computed 384.0 B so far)\n",
      "22/10/16 22:15:20 WARN MemoryStore: Failed to reserve initial memory threshold of 1024.0 KiB for computing block rdd_836_7 in memory.\n",
      "22/10/16 22:15:20 WARN MemoryStore: Not enough space to cache rdd_836_7 in memory! (computed 384.0 B so far)\n",
      "22/10/16 22:15:20 WARN MemoryStore: Failed to reserve initial memory threshold of 1024.0 KiB for computing block rdd_836_3 in memory.\n",
      "22/10/16 22:15:20 WARN MemoryStore: Not enough space to cache rdd_836_3 in memory! (computed 384.0 B so far)\n",
      "22/10/16 22:15:21 WARN MemoryStore: Not enough space to cache rdd_417_4 in memory! (computed 351.3 MiB so far)\n"
     ]
    },
    {
     "name": "stderr",
     "output_type": "stream",
     "text": [
      "                                                                                \r"
     ]
    },
    {
     "name": "stdout",
     "output_type": "stream",
     "text": [
      "22/10/16 22:15:25 WARN MemoryStore: Not enough space to cache rdd_417_0 in memory! (computed 153.3 MiB so far)\n"
     ]
    },
    {
     "name": "stderr",
     "output_type": "stream",
     "text": [
      "[Stage 436:>                                                        (0 + 8) / 9]\r"
     ]
    },
    {
     "name": "stdout",
     "output_type": "stream",
     "text": [
      "22/10/16 22:15:25 WARN MemoryStore: Not enough space to cache rdd_417_6 in memory! (computed 234.1 MiB so far)\n",
      "22/10/16 22:15:25 WARN MemoryStore: Not enough space to cache rdd_417_2 in memory! (computed 234.1 MiB so far)\n",
      "22/10/16 22:15:25 WARN MemoryStore: Not enough space to cache rdd_417_7 in memory! (computed 234.1 MiB so far)\n",
      "22/10/16 22:15:25 WARN MemoryStore: Not enough space to cache rdd_417_5 in memory! (computed 234.1 MiB so far)\n",
      "22/10/16 22:15:25 WARN MemoryStore: Not enough space to cache rdd_417_1 in memory! (computed 234.1 MiB so far)\n",
      "22/10/16 22:15:26 WARN MemoryStore: Not enough space to cache rdd_417_4 in memory! (computed 234.1 MiB so far)\n"
     ]
    },
    {
     "name": "stderr",
     "output_type": "stream",
     "text": [
      "                                                                                \r"
     ]
    },
    {
     "name": "stdout",
     "output_type": "stream",
     "text": [
      "22/10/16 22:15:30 WARN MemoryStore: Not enough space to cache rdd_417_2 in memory! (computed 98.8 MiB so far)\n",
      "22/10/16 22:15:30 WARN MemoryStore: Not enough space to cache rdd_417_4 in memory! (computed 98.8 MiB so far)\n",
      "22/10/16 22:15:30 WARN MemoryStore: Not enough space to cache rdd_417_1 in memory! (computed 98.8 MiB so far)\n"
     ]
    },
    {
     "name": "stderr",
     "output_type": "stream",
     "text": [
      "[Stage 439:>                                                        (0 + 8) / 9]\r"
     ]
    },
    {
     "name": "stdout",
     "output_type": "stream",
     "text": [
      "22/10/16 22:15:30 WARN MemoryStore: Not enough space to cache rdd_417_7 in memory! (computed 153.3 MiB so far)\n",
      "22/10/16 22:15:30 WARN MemoryStore: Not enough space to cache rdd_417_6 in memory! (computed 153.3 MiB so far)\n",
      "22/10/16 22:15:32 WARN MemoryStore: Not enough space to cache rdd_417_5 in memory! (computed 527.0 MiB so far)\n",
      "22/10/16 22:15:32 WARN MemoryStore: Not enough space to cache rdd_417_8 in memory! (computed 29.0 MiB so far)\n",
      "22/10/16 22:15:32 WARN MemoryStore: Not enough space to cache rdd_417_0 in memory! (computed 527.0 MiB so far)\n"
     ]
    },
    {
     "name": "stderr",
     "output_type": "stream",
     "text": [
      "                                                                                \r"
     ]
    },
    {
     "name": "stdout",
     "output_type": "stream",
     "text": [
      "Root Mean Squared Error (RMSE) = 211.463\n"
     ]
    },
    {
     "name": "stderr",
     "output_type": "stream",
     "text": [
      "[Stage 447:============>                                            (2 + 7) / 9]\r"
     ]
    },
    {
     "name": "stdout",
     "output_type": "stream",
     "text": [
      "R Squared (R2) = 0.283783\n"
     ]
    },
    {
     "name": "stderr",
     "output_type": "stream",
     "text": [
      "                                                                                \r"
     ]
    }
   ],
   "source": [
    "from pyspark.ml.regression import GBTRegressor\n",
    "\n",
    "GBT = GBTRegressor(featuresCol=\"features\")\n",
    "gbt = GBT.fit(train_lm)\n",
    "gbt_predict = gbt.transform(test_lm)\n",
    "print(\"Root Mean Squared Error (RMSE) = %g\" % rmse_evaluator.evaluate(gbt_predict))\n",
    "print(\"R Squared (R2) = %g\" % r2_evaluator.evaluate(gbt_predict))"
   ]
  },
  {
   "cell_type": "markdown",
   "metadata": {},
   "source": [
    "<h4>Therefore, we select Gradient Boost Regressor as its R2 is the highest.</h4>"
   ]
  },
  {
   "cell_type": "markdown",
   "metadata": {},
   "source": [
    "<h2>3. Error Analysis</h2>"
   ]
  },
  {
   "cell_type": "code",
   "execution_count": 22,
   "metadata": {},
   "outputs": [
    {
     "name": "stderr",
     "output_type": "stream",
     "text": [
      "                                                                                \r"
     ]
    },
    {
     "data": {
      "text/html": [
       "<table border='1'>\n",
       "<tr><th>summary</th><th>label</th><th>prediction</th><th>error</th></tr>\n",
       "<tr><td>count</td><td>2098938</td><td>2098938</td><td>2098938</td></tr>\n",
       "<tr><td>mean</td><td>183.63190723379</td><td>183.6319072338664</td><td>-1.19247420327760...</td></tr>\n",
       "<tr><td>stddev</td><td>249.86921327900387</td><td>112.76226663886763</td><td>211.4633089658343</td></tr>\n",
       "<tr><td>min</td><td>1.084598898997395...</td><td>-4.673380344513751</td><td>-7557.012516955543</td></tr>\n",
       "<tr><td>25%</td><td>40.99240350564626</td><td>104.09711353377288</td><td>-42.44136978854681</td></tr>\n",
       "<tr><td>50%</td><td>99.01875035670699</td><td>147.1825851774698</td><td>40.52884255050164</td></tr>\n",
       "<tr><td>75%</td><td>221.18661204978224</td><td>266.4252855538141</td><td>93.94367702318996</td></tr>\n",
       "<tr><td>max</td><td>7862.70454235039</td><td>1125.545232322387</td><td>884.0367810574851</td></tr>\n",
       "</table>\n"
      ],
      "text/plain": [
       "+-------+--------------------+------------------+--------------------+\n",
       "|summary|               label|        prediction|               error|\n",
       "+-------+--------------------+------------------+--------------------+\n",
       "|  count|             2098938|           2098938|             2098938|\n",
       "|   mean|     183.63190723379| 183.6319072338664|-1.19247420327760...|\n",
       "| stddev|  249.86921327900387|112.76226663886763|   211.4633089658343|\n",
       "|    min|1.084598898997395...|-4.673380344513751|  -7557.012516955543|\n",
       "|    25%|   40.99240350564626|104.09711353377288|  -42.44136978854681|\n",
       "|    50%|   99.01875035670699| 147.1825851774698|   40.52884255050164|\n",
       "|    75%|  221.18661204978224| 266.4252855538141|   93.94367702318996|\n",
       "|    max|    7862.70454235039| 1125.545232322387|   884.0367810574851|\n",
       "+-------+--------------------+------------------+--------------------+"
      ]
     },
     "execution_count": 22,
     "metadata": {},
     "output_type": "execute_result"
    }
   ],
   "source": [
    "gbt_predict = gbt_predict.withColumn(\"error\", col(\"prediction\") - col(\"label\"))\n",
    "gbt_predict.summary()"
   ]
  },
  {
   "cell_type": "code",
   "execution_count": 23,
   "metadata": {},
   "outputs": [],
   "source": [
    "import pandas as pd\n",
    "import matplotlib.pyplot as plt\n",
    "\n",
    "def plot_real_vs_pred(model_name, y_real, y_pred, out):\n",
    "    plt.style.use('ggplot')\n",
    "    reg_real_vs_pred = pd.concat([y_real, y_pred], axis = 1)\n",
    "    reg_real_vs_pred = reg_real_vs_pred.head(40)\n",
    "    reg_real_vs_pred.plot(kind='bar', title='MODEL: '+model_name, figsize=(16,5))\n",
    "    plt.show()\n",
    "    plt.savefig(out)"
   ]
  },
  {
   "cell_type": "code",
   "execution_count": 24,
   "metadata": {},
   "outputs": [
    {
     "name": "stderr",
     "output_type": "stream",
     "text": [
      "                                                                                \r"
     ]
    },
    {
     "data": {
      "image/png": "[encoded data removed]",
      "text/plain": [
       "<Figure size 1152x360 with 1 Axes>"
      ]
     },
     "metadata": {},
     "output_type": "display_data"
    },
    {
     "data": {
      "text/plain": [
       "<Figure size 432x288 with 0 Axes>"
      ]
     },
     "metadata": {},
     "output_type": "display_data"
    }
   ],
   "source": [
    "y_true_all = gbt_predict.select(\"label\").toPandas()\n",
    "y_pred_all = gbt_predict.select(\"prediction\").toPandas()\n",
    "plot_real_vs_pred(\"Gradient boost tree\", y_true_all, y_pred_all, \"../plots/true_pred.png\")"
   ]
  },
  {
   "cell_type": "code",
   "execution_count": 25,
   "metadata": {},
   "outputs": [
    {
     "name": "stderr",
     "output_type": "stream",
     "text": [
      "                                                                                \r"
     ]
    },
    {
     "data": {
      "text/plain": [
       "1272263"
      ]
     },
     "execution_count": 25,
     "metadata": {},
     "output_type": "execute_result"
    }
   ],
   "source": [
    "gbt_predict.filter(abs(col(\"error\")) <= 100).count()"
   ]
  },
  {
   "cell_type": "code",
   "execution_count": 26,
   "metadata": {},
   "outputs": [
    {
     "name": "stderr",
     "output_type": "stream",
     "text": [
      "                                                                                \r"
     ]
    }
   ],
   "source": [
    "import seaborn as sns\n",
    "import matplotlib.pyplot as plt\n",
    "\n",
    "tmp = train_agg.toPandas()"
   ]
  },
  {
   "cell_type": "code",
   "execution_count": 27,
   "metadata": {},
   "outputs": [
    {
     "data": {
      "image/png": "[encoded data removed]",
      "text/plain": [
       "<Figure size 1008x576 with 2 Axes>"
      ]
     },
     "metadata": {},
     "output_type": "display_data"
    }
   ],
   "source": [
    "plt.figure(figsize=(14,8))\n",
    "sns.set_theme(style=\"white\")\n",
    "corr = tmp.corr()\n",
    "heatmap = sns.heatmap(corr, annot=True, cmap=\"Blues\", fmt='.1g')\n",
    "\n",
    "heatmap.get_figure().savefig(\"../plots/corr_final.png\")"
   ]
  },
  {
   "cell_type": "code",
   "execution_count": 28,
   "metadata": {},
   "outputs": [
    {
     "data": {
      "text/plain": [
       "persons/km2        -0.004712\n",
       "avg(median_age)    -0.014848\n",
       "dollar_value        1.000000\n",
       "avg(female)        -0.068685\n",
       "avg(male)          -0.067800\n",
       "avg(undisclosed)   -0.068960\n",
       "Name: dollar_value, dtype: float64"
      ]
     },
     "execution_count": 28,
     "metadata": {},
     "output_type": "execute_result"
    }
   ],
   "source": [
    "corr.dollar_value"
   ]
  }
 ],
 "metadata": {
  "kernelspec": {
   "display_name": "Python 3.9.12 64-bit",
   "language": "python",
   "name": "python3"
  },
  "language_info": {
   "codemirror_mode": {
    "name": "ipython",
    "version": 3
   },
   "file_extension": ".py",
   "mimetype": "text/x-python",
   "name": "python",
   "nbconvert_exporter": "python",
   "pygments_lexer": "ipython3",
   "version": "3.9.12"
  },
  "orig_nbformat": 4,
  "vscode": {
   "interpreter": {
    "hash": "949777d72b0d2535278d3dc13498b2535136f6dfe0678499012e853ee9abcab1"
   }
  }
 },
 "nbformat": 4,
 "nbformat_minor": 2
}
