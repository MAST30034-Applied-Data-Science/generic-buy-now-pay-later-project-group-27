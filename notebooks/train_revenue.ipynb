{
 "cells": [
  {
   "cell_type": "code",
   "execution_count": 31,
   "metadata": {},
   "outputs": [],
   "source": [
    "from pyspark.sql import SparkSession\n",
    "from pyspark.sql.functions import *\n",
    "from pyspark.sql.window import Window\n",
    "from pyspark.ml.regression import GBTRegressor\n",
    "import numpy as np\n",
    "import time\n",
    "import datetime\n",
    "\n",
    "spark = (\n",
    "    SparkSession.builder.appName(\"ADS project 2\")\n",
    "    .config(\"spark.sql.repl.eagerEval.enabled\", True) \n",
    "    .config(\"spark.sql.parquet.cacheMetadata\", \"true\")\n",
    "    .config(\"spark.sql.session.timeZone\", \"Etc/UTC\")\n",
    "    .config(\"spark.executor.memory\", \"2g\")\n",
    "    .config(\"spark.driver.memory\", \"4g\")\n",
    "    .getOrCreate()\n",
    ")"
   ]
  },
  {
   "cell_type": "code",
   "execution_count": 32,
   "metadata": {},
   "outputs": [
    {
     "name": "stderr",
     "output_type": "stream",
     "text": [
      "                                                                                \r"
     ]
    },
    {
     "data": {
      "text/html": [
       "<table border='1'>\n",
       "<tr><th>median_age</th><th>merchant_name</th><th>revenue_level</th><th>order_datetime</th><th>tag</th><th>dollar_value</th><th>order_year</th><th>order_month</th><th>consumer_gender</th></tr>\n",
       "<tr><td>36.75</td><td>Elit Sed Consequa...</td><td>a</td><td>2022-04-27</td><td>artist supply craft</td><td>375.16773164703153</td><td>2022</td><td>4</td><td>Female</td></tr>\n",
       "<tr><td>36.75</td><td>Elit Sed Consequa...</td><td>a</td><td>2022-10-07</td><td>artist supply craft</td><td>617.8791313462011</td><td>2022</td><td>10</td><td>Male</td></tr>\n",
       "<tr><td>36.75</td><td>Elit Sed Consequa...</td><td>a</td><td>2022-02-28</td><td>artist supply craft</td><td>766.5077067424303</td><td>2022</td><td>2</td><td>Female</td></tr>\n",
       "<tr><td>36.75</td><td>Malesuada Vel Ltd</td><td>b</td><td>2021-07-24</td><td>books periodicals...</td><td>258.86595899218753</td><td>2021</td><td>7</td><td>Female</td></tr>\n",
       "<tr><td>36.75</td><td>Varius Orci Insti...</td><td>a</td><td>2021-08-08</td><td>tent awning</td><td>4.159037931172075</td><td>2021</td><td>8</td><td>Female</td></tr>\n",
       "<tr><td>36.75</td><td>Volutpat Nulla In...</td><td>a</td><td>2022-10-11</td><td>furniture home fu...</td><td>8.26105405068297</td><td>2022</td><td>10</td><td>Male</td></tr>\n",
       "<tr><td>36.75</td><td>Mollis Integer Co...</td><td>b</td><td>2022-05-02</td><td>digital goods boo...</td><td>83.63154755239155</td><td>2022</td><td>5</td><td>Female</td></tr>\n",
       "<tr><td>36.75</td><td>Elit Sed Consequa...</td><td>a</td><td>2021-04-08</td><td>artist supply craft</td><td>87.00495112586256</td><td>2021</td><td>4</td><td>Female</td></tr>\n",
       "<tr><td>36.75</td><td>Eros Limited</td><td>c</td><td>2021-12-18</td><td>digital goods boo...</td><td>8.26187754879106</td><td>2021</td><td>12</td><td>Female</td></tr>\n",
       "<tr><td>36.75</td><td>Hendrerit A Corpo...</td><td>a</td><td>2022-07-14</td><td>watch clock jewel...</td><td>100.80643267043831</td><td>2022</td><td>7</td><td>Male</td></tr>\n",
       "<tr><td>36.75</td><td>Pede Cras Vulputa...</td><td>a</td><td>2021-07-18</td><td>health beauty spas</td><td>326.46199407890373</td><td>2021</td><td>7</td><td>Male</td></tr>\n",
       "<tr><td>36.75</td><td>Hendrerit A Corpo...</td><td>a</td><td>2021-08-16</td><td>watch clock jewel...</td><td>204.40538957685413</td><td>2021</td><td>8</td><td>Undisclosed</td></tr>\n",
       "<tr><td>36.75</td><td>Eros Limited</td><td>c</td><td>2021-12-13</td><td>digital goods boo...</td><td>37.1880940325229</td><td>2021</td><td>12</td><td>Female</td></tr>\n",
       "<tr><td>36.75</td><td>Eros Limited</td><td>c</td><td>2022-10-10</td><td>digital goods boo...</td><td>5.247567221175345</td><td>2022</td><td>10</td><td>Female</td></tr>\n",
       "<tr><td>36.75</td><td>Eros Limited</td><td>c</td><td>2021-06-14</td><td>digital goods boo...</td><td>31.204086659483615</td><td>2021</td><td>6</td><td>Undisclosed</td></tr>\n",
       "<tr><td>36.75</td><td>Eros Limited</td><td>c</td><td>2021-11-27</td><td>digital goods boo...</td><td>12.918096138910116</td><td>2021</td><td>11</td><td>Female</td></tr>\n",
       "<tr><td>36.75</td><td>Hendrerit A Corpo...</td><td>a</td><td>2022-05-19</td><td>watch clock jewel...</td><td>276.12651679041534</td><td>2022</td><td>5</td><td>Female</td></tr>\n",
       "<tr><td>36.75</td><td>Hendrerit A Corpo...</td><td>a</td><td>2022-03-29</td><td>watch clock jewel...</td><td>169.4756116760845</td><td>2022</td><td>3</td><td>Undisclosed</td></tr>\n",
       "<tr><td>36.75</td><td>Pede Cras Vulputa...</td><td>a</td><td>2021-06-29</td><td>health beauty spas</td><td>400.61345601101743</td><td>2021</td><td>6</td><td>Female</td></tr>\n",
       "<tr><td>36.75</td><td>Pede Cras Vulputa...</td><td>a</td><td>2021-04-03</td><td>health beauty spas</td><td>444.1022321713573</td><td>2021</td><td>4</td><td>Male</td></tr>\n",
       "</table>\n",
       "only showing top 20 rows\n"
      ],
      "text/plain": [
       "+----------+--------------------+-------------+--------------+--------------------+------------------+----------+-----------+---------------+\n",
       "|median_age|       merchant_name|revenue_level|order_datetime|                 tag|      dollar_value|order_year|order_month|consumer_gender|\n",
       "+----------+--------------------+-------------+--------------+--------------------+------------------+----------+-----------+---------------+\n",
       "|     36.75|Elit Sed Consequa...|            a|    2022-04-27| artist supply craft|375.16773164703153|      2022|          4|         Female|\n",
       "|     36.75|Elit Sed Consequa...|            a|    2022-10-07| artist supply craft| 617.8791313462011|      2022|         10|           Male|\n",
       "|     36.75|Elit Sed Consequa...|            a|    2022-02-28| artist supply craft| 766.5077067424303|      2022|          2|         Female|\n",
       "|     36.75|   Malesuada Vel Ltd|            b|    2021-07-24|books periodicals...|258.86595899218753|      2021|          7|         Female|\n",
       "|     36.75|Varius Orci Insti...|            a|    2021-08-08|         tent awning| 4.159037931172075|      2021|          8|         Female|\n",
       "|     36.75|Volutpat Nulla In...|            a|    2022-10-11|furniture home fu...|  8.26105405068297|      2022|         10|           Male|\n",
       "|     36.75|Mollis Integer Co...|            b|    2022-05-02|digital goods boo...| 83.63154755239155|      2022|          5|         Female|\n",
       "|     36.75|Elit Sed Consequa...|            a|    2021-04-08| artist supply craft| 87.00495112586256|      2021|          4|         Female|\n",
       "|     36.75|        Eros Limited|            c|    2021-12-18|digital goods boo...|  8.26187754879106|      2021|         12|         Female|\n",
       "|     36.75|Hendrerit A Corpo...|            a|    2022-07-14|watch clock jewel...|100.80643267043831|      2022|          7|           Male|\n",
       "|     36.75|Pede Cras Vulputa...|            a|    2021-07-18|  health beauty spas|326.46199407890373|      2021|          7|           Male|\n",
       "|     36.75|Hendrerit A Corpo...|            a|    2021-08-16|watch clock jewel...|204.40538957685413|      2021|          8|    Undisclosed|\n",
       "|     36.75|        Eros Limited|            c|    2021-12-13|digital goods boo...|  37.1880940325229|      2021|         12|         Female|\n",
       "|     36.75|        Eros Limited|            c|    2022-10-10|digital goods boo...| 5.247567221175345|      2022|         10|         Female|\n",
       "|     36.75|        Eros Limited|            c|    2021-06-14|digital goods boo...|31.204086659483615|      2021|          6|    Undisclosed|\n",
       "|     36.75|        Eros Limited|            c|    2021-11-27|digital goods boo...|12.918096138910116|      2021|         11|         Female|\n",
       "|     36.75|Hendrerit A Corpo...|            a|    2022-05-19|watch clock jewel...|276.12651679041534|      2022|          5|         Female|\n",
       "|     36.75|Hendrerit A Corpo...|            a|    2022-03-29|watch clock jewel...| 169.4756116760845|      2022|          3|    Undisclosed|\n",
       "|     36.75|Pede Cras Vulputa...|            a|    2021-06-29|  health beauty spas|400.61345601101743|      2021|          6|         Female|\n",
       "|     36.75|Pede Cras Vulputa...|            a|    2021-04-03|  health beauty spas| 444.1022321713573|      2021|          4|           Male|\n",
       "+----------+--------------------+-------------+--------------+--------------------+------------------+----------+-----------+---------------+\n",
       "only showing top 20 rows"
      ]
     },
     "execution_count": 32,
     "metadata": {},
     "output_type": "execute_result"
    }
   ],
   "source": [
    "sdf = spark.read.parquet('../data/curated/merchant_consumer_abs')\n",
    "sdf = sdf.drop(*['postcode', 'products', 'take_rate', 'category', 'fraud_group',\n",
    "                 'user_id', 'consumer', 'consumer_address', 'consumer_state', 'consumer_postcode', 'order_day',\n",
    "                 '__index_level_0__'])\n",
    "for i in sdf.columns[:7]:\n",
    "    if i != \"median_age\":\n",
    "        sdf = sdf.drop(i)\n",
    "# for i in sdf.columns[:4]:\n",
    "#     sdf = sdf.withColumn(f\"log_{i}\", when(log(col(i)) > 0, log(col(i))).otherwise(0)).drop(i).withColumnRenamed(f\"log_{i}\", i)\n",
    "# sdf = sdf.select(*(sdf.columns[-4:]), *(sdf.columns[:-4]))\n",
    "sdf"
   ]
  },
  {
   "cell_type": "code",
   "execution_count": 33,
   "metadata": {},
   "outputs": [
    {
     "name": "stderr",
     "output_type": "stream",
     "text": [
      "                                                                                \r"
     ]
    }
   ],
   "source": [
    "from pyspark.ml.feature import OneHotEncoder, StringIndexer, VectorAssembler, Interaction\n",
    "\n",
    "interact = [\"tag\", \"revenue_level\", \"order_month\", \"order_year\"]\n",
    "for i in interact:\n",
    "    stringIndexer = StringIndexer(inputCol=i, outputCol=f\"{i}_num\")\n",
    "    sdf = stringIndexer.fit(sdf).transform(sdf).drop(i)\n",
    "    encoder = OneHotEncoder(inputCol=f\"{i}_num\", outputCol=i+\"_vec\")\n",
    "    sdf = encoder.fit(sdf).transform(sdf).drop(f\"{i}_num\")\n",
    "\n",
    "interaction = Interaction(inputCols=[f\"{i}_vec\" for i in interact], outputCol=\"interact\")\n",
    "sdf = interaction.transform(sdf)"
   ]
  },
  {
   "cell_type": "code",
   "execution_count": 34,
   "metadata": {},
   "outputs": [
    {
     "name": "stderr",
     "output_type": "stream",
     "text": [
      "                                                                                \r"
     ]
    }
   ],
   "source": [
    "genders = sdf.select(\"consumer_gender\").distinct().rdd.flatMap(lambda x: x).collect()\n",
    "exprs = [when(col(\"consumer_gender\") == category, 1).otherwise(0).alias(category)\n",
    "         for category in genders]\n",
    "sdf = sdf.select(*(sdf.columns), *exprs).drop(\"consumer_gender\")"
   ]
  },
  {
   "cell_type": "code",
   "execution_count": 35,
   "metadata": {},
   "outputs": [],
   "source": [
    "train = sdf.where((col(\"order_datetime\") <= \"2022-07-31\")).where((col(\"order_datetime\") > \"2022-02-28\")).drop(\"order_datetime\")\n",
    "test = sdf.where((col(\"order_datetime\") > \"2022-07-31\")).drop(\"order_datetime\")"
   ]
  },
  {
   "cell_type": "code",
   "execution_count": 36,
   "metadata": {},
   "outputs": [],
   "source": [
    "train_agg = train\n",
    "w = Window.partitionBy('merchant_name')\n",
    "train_agg = train_agg.withColumn(\"avg(median_age)\", avg(\"median_age\").over(w)).drop(\"median_age\")"
   ]
  },
  {
   "cell_type": "code",
   "execution_count": 37,
   "metadata": {},
   "outputs": [],
   "source": [
    "agg_cols = train_agg.columns\n",
    "for i in [\"dollar_value\", \"Female\", \"Male\", \"Undisclosed\"]:\n",
    "    agg_cols.remove(i)\n",
    "train_agg = train_agg.groupBy(agg_cols).agg(sum(\"dollar_value\"), sum(\"Female\"), sum(\"Male\"), sum(\"Undisclosed\"))\n",
    "w = Window.partitionBy(\"merchant_name\")\n",
    "for i in [\"Female\", \"Male\", \"Undisclosed\"]:\n",
    "    train_agg = train_agg.withColumn(f\"avg({i.lower()})\", avg(f\"sum({i})\").over(w)).drop(f\"sum({i})\")\n",
    "train_agg = train_agg.withColumnRenamed(\"sum(dollar_value)\", \"dollar_value\")"
   ]
  },
  {
   "cell_type": "code",
   "execution_count": 38,
   "metadata": {},
   "outputs": [
    {
     "name": "stderr",
     "output_type": "stream",
     "text": [
      "                                                                                \r"
     ]
    },
    {
     "data": {
      "text/html": [
       "<table border='1'>\n",
       "<tr><th>merchant_name</th><th>tag_vec</th><th>revenue_level_vec</th><th>order_month_vec</th><th>order_year_vec</th><th>dollar_value</th><th>interact</th><th>avg(median_age)</th><th>avg(female)</th><th>avg(male)</th><th>avg(undisclosed)</th></tr>\n",
       "<tr><td>Congue Turpis In LLC</td><td>(24,[18],[1.0])</td><td>(4,[0],[1.0])</td><td>(11,[0],[1.0])</td><td>(1,[0],[1.0])</td><td>30614.810375708013</td><td>(1056,[797],[1.0])</td><td>45.22752445931588</td><td>159.8</td><td>167.6</td><td>35.2</td></tr>\n",
       "<tr><td>Congue Turpis In LLC</td><td>(24,[18],[1.0])</td><td>(4,[0],[1.0])</td><td>(11,[0],[1.0])</td><td>(1,[0],[1.0])</td><td>30614.810375708013</td><td>(1056,[795],[1.0])</td><td>45.22752445931588</td><td>159.8</td><td>167.6</td><td>35.2</td></tr>\n",
       "<tr><td>Congue Turpis In LLC</td><td>(24,[18],[1.0])</td><td>(4,[0],[1.0])</td><td>(11,[0],[1.0])</td><td>(1,[0],[1.0])</td><td>30614.810375708013</td><td>(1056,[798],[1.0])</td><td>45.22752445931588</td><td>159.8</td><td>167.6</td><td>35.2</td></tr>\n",
       "<tr><td>Congue Turpis In LLC</td><td>(24,[18],[1.0])</td><td>(4,[0],[1.0])</td><td>(11,[0],[1.0])</td><td>(1,[0],[1.0])</td><td>30614.810375708013</td><td>(1056,[799],[1.0])</td><td>45.22752445931588</td><td>159.8</td><td>167.6</td><td>35.2</td></tr>\n",
       "<tr><td>Congue Turpis In LLC</td><td>(24,[18],[1.0])</td><td>(4,[0],[1.0])</td><td>(11,[0],[1.0])</td><td>(1,[0],[1.0])</td><td>30614.810375708013</td><td>(1056,[796],[1.0])</td><td>45.22752445931588</td><td>159.8</td><td>167.6</td><td>35.2</td></tr>\n",
       "<tr><td>Nullam Scelerisqu...</td><td>(24,[13],[1.0])</td><td>(4,[0],[1.0])</td><td>(11,[2],[1.0])</td><td>(1,[0],[1.0])</td><td>71192.67870948215</td><td>(1056,[575],[1.0])</td><td>45.276285318741714</td><td>57.0</td><td>58.2</td><td>14.2</td></tr>\n",
       "<tr><td>Nullam Scelerisqu...</td><td>(24,[13],[1.0])</td><td>(4,[0],[1.0])</td><td>(11,[2],[1.0])</td><td>(1,[0],[1.0])</td><td>71192.67870948215</td><td>(1056,[579],[1.0])</td><td>45.276285318741714</td><td>57.0</td><td>58.2</td><td>14.2</td></tr>\n",
       "<tr><td>Nullam Scelerisqu...</td><td>(24,[13],[1.0])</td><td>(4,[0],[1.0])</td><td>(11,[2],[1.0])</td><td>(1,[0],[1.0])</td><td>71192.67870948215</td><td>(1056,[576],[1.0])</td><td>45.276285318741714</td><td>57.0</td><td>58.2</td><td>14.2</td></tr>\n",
       "<tr><td>Nullam Scelerisqu...</td><td>(24,[13],[1.0])</td><td>(4,[0],[1.0])</td><td>(11,[2],[1.0])</td><td>(1,[0],[1.0])</td><td>71192.67870948215</td><td>(1056,[578],[1.0])</td><td>45.276285318741714</td><td>57.0</td><td>58.2</td><td>14.2</td></tr>\n",
       "<tr><td>Nullam Scelerisqu...</td><td>(24,[13],[1.0])</td><td>(4,[0],[1.0])</td><td>(11,[2],[1.0])</td><td>(1,[0],[1.0])</td><td>71192.67870948215</td><td>(1056,[577],[1.0])</td><td>45.276285318741714</td><td>57.0</td><td>58.2</td><td>14.2</td></tr>\n",
       "<tr><td>Est Nunc Consulting</td><td>(24,[0],[1.0])</td><td>(4,[0],[1.0])</td><td>(11,[2],[1.0])</td><td>(1,[0],[1.0])</td><td>409128.0541184787</td><td>(1056,[4],[1.0])</td><td>45.15004342684725</td><td>4333.6</td><td>4428.4</td><td>992.6</td></tr>\n",
       "<tr><td>Est Nunc Consulting</td><td>(24,[0],[1.0])</td><td>(4,[0],[1.0])</td><td>(11,[2],[1.0])</td><td>(1,[0],[1.0])</td><td>409128.0541184787</td><td>(1056,[5],[1.0])</td><td>45.15004342684725</td><td>4333.6</td><td>4428.4</td><td>992.6</td></tr>\n",
       "<tr><td>Est Nunc Consulting</td><td>(24,[0],[1.0])</td><td>(4,[0],[1.0])</td><td>(11,[2],[1.0])</td><td>(1,[0],[1.0])</td><td>409128.0541184787</td><td>(1056,[6],[1.0])</td><td>45.15004342684725</td><td>4333.6</td><td>4428.4</td><td>992.6</td></tr>\n",
       "<tr><td>Est Nunc Consulting</td><td>(24,[0],[1.0])</td><td>(4,[0],[1.0])</td><td>(11,[2],[1.0])</td><td>(1,[0],[1.0])</td><td>409128.0541184787</td><td>(1056,[7],[1.0])</td><td>45.15004342684725</td><td>4333.6</td><td>4428.4</td><td>992.6</td></tr>\n",
       "<tr><td>Est Nunc Consulting</td><td>(24,[0],[1.0])</td><td>(4,[0],[1.0])</td><td>(11,[2],[1.0])</td><td>(1,[0],[1.0])</td><td>409128.0541184787</td><td>(1056,[3],[1.0])</td><td>45.15004342684725</td><td>4333.6</td><td>4428.4</td><td>992.6</td></tr>\n",
       "<tr><td>Libero Et Inc.</td><td>(24,[8],[1.0])</td><td>(4,[2],[1.0])</td><td>(11,[0],[1.0])</td><td>(1,[0],[1.0])</td><td>62793.664050863714</td><td>(1056,[380],[1.0])</td><td>45.28824001687048</td><td>88.2</td><td>95.4</td><td>20.2</td></tr>\n",
       "<tr><td>Libero Et Inc.</td><td>(24,[8],[1.0])</td><td>(4,[2],[1.0])</td><td>(11,[0],[1.0])</td><td>(1,[0],[1.0])</td><td>62793.664050863714</td><td>(1056,[381],[1.0])</td><td>45.28824001687048</td><td>88.2</td><td>95.4</td><td>20.2</td></tr>\n",
       "<tr><td>Libero Et Inc.</td><td>(24,[8],[1.0])</td><td>(4,[2],[1.0])</td><td>(11,[0],[1.0])</td><td>(1,[0],[1.0])</td><td>62793.664050863714</td><td>(1056,[377],[1.0])</td><td>45.28824001687048</td><td>88.2</td><td>95.4</td><td>20.2</td></tr>\n",
       "<tr><td>Libero Et Inc.</td><td>(24,[8],[1.0])</td><td>(4,[2],[1.0])</td><td>(11,[0],[1.0])</td><td>(1,[0],[1.0])</td><td>62793.664050863714</td><td>(1056,[378],[1.0])</td><td>45.28824001687048</td><td>88.2</td><td>95.4</td><td>20.2</td></tr>\n",
       "<tr><td>Libero Et Inc.</td><td>(24,[8],[1.0])</td><td>(4,[2],[1.0])</td><td>(11,[0],[1.0])</td><td>(1,[0],[1.0])</td><td>62793.664050863714</td><td>(1056,[379],[1.0])</td><td>45.28824001687048</td><td>88.2</td><td>95.4</td><td>20.2</td></tr>\n",
       "</table>\n",
       "only showing top 20 rows\n"
      ],
      "text/plain": [
       "+--------------------+---------------+-----------------+---------------+--------------+------------------+------------------+------------------+-----------+---------+----------------+\n",
       "|       merchant_name|        tag_vec|revenue_level_vec|order_month_vec|order_year_vec|      dollar_value|          interact|   avg(median_age)|avg(female)|avg(male)|avg(undisclosed)|\n",
       "+--------------------+---------------+-----------------+---------------+--------------+------------------+------------------+------------------+-----------+---------+----------------+\n",
       "|Congue Turpis In LLC|(24,[18],[1.0])|    (4,[0],[1.0])| (11,[0],[1.0])| (1,[0],[1.0])|30614.810375708013|(1056,[797],[1.0])| 45.22752445931588|      159.8|    167.6|            35.2|\n",
       "|Congue Turpis In LLC|(24,[18],[1.0])|    (4,[0],[1.0])| (11,[0],[1.0])| (1,[0],[1.0])|30614.810375708013|(1056,[795],[1.0])| 45.22752445931588|      159.8|    167.6|            35.2|\n",
       "|Congue Turpis In LLC|(24,[18],[1.0])|    (4,[0],[1.0])| (11,[0],[1.0])| (1,[0],[1.0])|30614.810375708013|(1056,[798],[1.0])| 45.22752445931588|      159.8|    167.6|            35.2|\n",
       "|Congue Turpis In LLC|(24,[18],[1.0])|    (4,[0],[1.0])| (11,[0],[1.0])| (1,[0],[1.0])|30614.810375708013|(1056,[799],[1.0])| 45.22752445931588|      159.8|    167.6|            35.2|\n",
       "|Congue Turpis In LLC|(24,[18],[1.0])|    (4,[0],[1.0])| (11,[0],[1.0])| (1,[0],[1.0])|30614.810375708013|(1056,[796],[1.0])| 45.22752445931588|      159.8|    167.6|            35.2|\n",
       "|Nullam Scelerisqu...|(24,[13],[1.0])|    (4,[0],[1.0])| (11,[2],[1.0])| (1,[0],[1.0])| 71192.67870948215|(1056,[575],[1.0])|45.276285318741714|       57.0|     58.2|            14.2|\n",
       "|Nullam Scelerisqu...|(24,[13],[1.0])|    (4,[0],[1.0])| (11,[2],[1.0])| (1,[0],[1.0])| 71192.67870948215|(1056,[579],[1.0])|45.276285318741714|       57.0|     58.2|            14.2|\n",
       "|Nullam Scelerisqu...|(24,[13],[1.0])|    (4,[0],[1.0])| (11,[2],[1.0])| (1,[0],[1.0])| 71192.67870948215|(1056,[576],[1.0])|45.276285318741714|       57.0|     58.2|            14.2|\n",
       "|Nullam Scelerisqu...|(24,[13],[1.0])|    (4,[0],[1.0])| (11,[2],[1.0])| (1,[0],[1.0])| 71192.67870948215|(1056,[578],[1.0])|45.276285318741714|       57.0|     58.2|            14.2|\n",
       "|Nullam Scelerisqu...|(24,[13],[1.0])|    (4,[0],[1.0])| (11,[2],[1.0])| (1,[0],[1.0])| 71192.67870948215|(1056,[577],[1.0])|45.276285318741714|       57.0|     58.2|            14.2|\n",
       "| Est Nunc Consulting| (24,[0],[1.0])|    (4,[0],[1.0])| (11,[2],[1.0])| (1,[0],[1.0])| 409128.0541184787|  (1056,[4],[1.0])| 45.15004342684725|     4333.6|   4428.4|           992.6|\n",
       "| Est Nunc Consulting| (24,[0],[1.0])|    (4,[0],[1.0])| (11,[2],[1.0])| (1,[0],[1.0])| 409128.0541184787|  (1056,[5],[1.0])| 45.15004342684725|     4333.6|   4428.4|           992.6|\n",
       "| Est Nunc Consulting| (24,[0],[1.0])|    (4,[0],[1.0])| (11,[2],[1.0])| (1,[0],[1.0])| 409128.0541184787|  (1056,[6],[1.0])| 45.15004342684725|     4333.6|   4428.4|           992.6|\n",
       "| Est Nunc Consulting| (24,[0],[1.0])|    (4,[0],[1.0])| (11,[2],[1.0])| (1,[0],[1.0])| 409128.0541184787|  (1056,[7],[1.0])| 45.15004342684725|     4333.6|   4428.4|           992.6|\n",
       "| Est Nunc Consulting| (24,[0],[1.0])|    (4,[0],[1.0])| (11,[2],[1.0])| (1,[0],[1.0])| 409128.0541184787|  (1056,[3],[1.0])| 45.15004342684725|     4333.6|   4428.4|           992.6|\n",
       "|      Libero Et Inc.| (24,[8],[1.0])|    (4,[2],[1.0])| (11,[0],[1.0])| (1,[0],[1.0])|62793.664050863714|(1056,[380],[1.0])| 45.28824001687048|       88.2|     95.4|            20.2|\n",
       "|      Libero Et Inc.| (24,[8],[1.0])|    (4,[2],[1.0])| (11,[0],[1.0])| (1,[0],[1.0])|62793.664050863714|(1056,[381],[1.0])| 45.28824001687048|       88.2|     95.4|            20.2|\n",
       "|      Libero Et Inc.| (24,[8],[1.0])|    (4,[2],[1.0])| (11,[0],[1.0])| (1,[0],[1.0])|62793.664050863714|(1056,[377],[1.0])| 45.28824001687048|       88.2|     95.4|            20.2|\n",
       "|      Libero Et Inc.| (24,[8],[1.0])|    (4,[2],[1.0])| (11,[0],[1.0])| (1,[0],[1.0])|62793.664050863714|(1056,[378],[1.0])| 45.28824001687048|       88.2|     95.4|            20.2|\n",
       "|      Libero Et Inc.| (24,[8],[1.0])|    (4,[2],[1.0])| (11,[0],[1.0])| (1,[0],[1.0])|62793.664050863714|(1056,[379],[1.0])| 45.28824001687048|       88.2|     95.4|            20.2|\n",
       "+--------------------+---------------+-----------------+---------------+--------------+------------------+------------------+------------------+-----------+---------+----------------+\n",
       "only showing top 20 rows"
      ]
     },
     "execution_count": 38,
     "metadata": {},
     "output_type": "execute_result"
    }
   ],
   "source": [
    "test_agg = test.groupBy(train_agg.columns[:5]).agg(sum(\"dollar_value\").alias(\"dollar_value\"))\n",
    "train_agg.columns[5:]\n",
    "merch_agg = train_agg.select(col(\"merchant_name\").alias(\"merchant_name_copy\"), *(train_agg.columns[5:])).drop(\"dollar_value\").distinct()\n",
    "test_agg = test_agg.join(merch_agg, test_agg.merchant_name == merch_agg.merchant_name_copy, \"left\").drop(\"merchant_name_copy\")\n",
    "test_agg"
   ]
  },
  {
   "cell_type": "code",
   "execution_count": 39,
   "metadata": {},
   "outputs": [],
   "source": [
    "from pyspark.sql import Row\n",
    "from pyspark.ml.linalg import Vectors\n",
    "\n",
    "feats = train_agg.columns\n",
    "feats.remove('merchant_name')\n",
    "feats.remove('dollar_value')\n",
    "assembler = VectorAssembler(inputCols=feats, outputCol=\"features\")\n",
    "train_vec = assembler.transform(train_agg)\n",
    "test_vec = assembler.transform(test_agg)"
   ]
  },
  {
   "cell_type": "code",
   "execution_count": 40,
   "metadata": {},
   "outputs": [
    {
     "name": "stderr",
     "output_type": "stream",
     "text": [
      "[Stage 522:==========================================>              (3 + 1) / 4]\r"
     ]
    },
    {
     "name": "stdout",
     "output_type": "stream",
     "text": [
      "22/10/09 18:53:08 WARN Instrumentation: [ee88257d] regParam is zero, which might cause numerical instability and overfitting.\n"
     ]
    },
    {
     "name": "stderr",
     "output_type": "stream",
     "text": [
      "                                                                                \r"
     ]
    },
    {
     "name": "stdout",
     "output_type": "stream",
     "text": [
      "22/10/09 18:53:25 WARN Instrumentation: [ee88257d] Cholesky solver failed due to singular covariance matrix. Retrying with Quasi-Newton solver.\n"
     ]
    },
    {
     "name": "stderr",
     "output_type": "stream",
     "text": [
      "                                                                                \r"
     ]
    }
   ],
   "source": [
    "from pyspark.ml.regression import LinearRegression\n",
    "\n",
    "# fit lr model\n",
    "\n",
    "train_lm = train_vec.select(\"features\", col(\"dollar_value\").alias(\"label\"))\n",
    "test_lm = train_vec.select(\"features\", col(\"dollar_value\").alias(\"label\"))\n",
    "\n",
    "lr = LinearRegression()\n",
    "lm = lr.fit(train_lm)"
   ]
  },
  {
   "cell_type": "code",
   "execution_count": 41,
   "metadata": {},
   "outputs": [],
   "source": [
    "lm_predict = lm.transform(test_lm)"
   ]
  },
  {
   "cell_type": "code",
   "execution_count": 42,
   "metadata": {},
   "outputs": [
    {
     "name": "stderr",
     "output_type": "stream",
     "text": [
      "                                                                                \r"
     ]
    },
    {
     "name": "stdout",
     "output_type": "stream",
     "text": [
      "Root Mean Squared Error (RMSE) = 38616.9\n"
     ]
    },
    {
     "name": "stderr",
     "output_type": "stream",
     "text": [
      "[Stage 533:=============================================>           (4 + 1) / 5]\r"
     ]
    },
    {
     "name": "stdout",
     "output_type": "stream",
     "text": [
      "R Squared (R2) = 0.427465\n"
     ]
    },
    {
     "name": "stderr",
     "output_type": "stream",
     "text": [
      "                                                                                \r"
     ]
    }
   ],
   "source": [
    "from pyspark.ml.evaluation import RegressionEvaluator\n",
    "\n",
    "rmse_evaluator = RegressionEvaluator(labelCol=\"label\",\n",
    "                                    predictionCol=\"prediction\",\n",
    "                                    metricName=\"rmse\")\n",
    "r2_evaluator = RegressionEvaluator(labelCol=\"label\",\n",
    "                                   predictionCol=\"prediction\",\n",
    "                                   metricName=\"r2\")\n",
    "rmse = rmse_evaluator.evaluate(lm_predict)\n",
    "print(\"Root Mean Squared Error (RMSE) = %g\" % rmse)\n",
    "r2 = r2_evaluator.evaluate(lm_predict)\n",
    "print(\"R Squared (R2) = %g\" % r2)"
   ]
  },
  {
   "cell_type": "code",
   "execution_count": 43,
   "metadata": {},
   "outputs": [
    {
     "name": "stderr",
     "output_type": "stream",
     "text": [
      "                                                                                \r"
     ]
    },
    {
     "data": {
      "text/html": [
       "<table border='1'>\n",
       "<tr><th>features</th><th>label</th><th>prediction</th></tr>\n",
       "<tr><td>(1100,[6,25,35,39...</td><td>2121.3587837887358</td><td>6808.205879004589</td></tr>\n",
       "<tr><td>(1100,[6,25,31,39...</td><td>790.4299265675576</td><td>9905.158676493807</td></tr>\n",
       "<tr><td>(1100,[6,25,34,39...</td><td>1144.9642627052563</td><td>7079.539441406234</td></tr>\n",
       "<tr><td>(1100,[6,25,33,39...</td><td>400.15845996503333</td><td>9066.269658201354</td></tr>\n",
       "<tr><td>(1100,[6,25,32,39...</td><td>669.0063457115391</td><td>9127.640921987706</td></tr>\n",
       "<tr><td>(1100,[0,25,34,39...</td><td>2993.5981770851427</td><td>23860.054276780796</td></tr>\n",
       "<tr><td>(1100,[0,25,35,39...</td><td>2399.3904726601404</td><td>24975.795182365437</td></tr>\n",
       "<tr><td>(1100,[0,25,31,39...</td><td>1622.9228507696537</td><td>30503.107474403827</td></tr>\n",
       "<tr><td>(1100,[0,25,33,39...</td><td>1302.76610253612</td><td>27631.11359769864</td></tr>\n",
       "<tr><td>(1100,[0,25,32,39...</td><td>1439.240784198248</td><td>27778.857768431455</td></tr>\n",
       "<tr><td>(1100,[9,26,31,39...</td><td>1407.1390892568888</td><td>27873.967765474445</td></tr>\n",
       "<tr><td>(1100,[9,26,35,39...</td><td>1530.9619364884968</td><td>21937.913748274543</td></tr>\n",
       "<tr><td>(1100,[9,26,33,39...</td><td>2031.850986653982</td><td>28601.671696970236</td></tr>\n",
       "<tr><td>(1100,[9,26,32,39...</td><td>1058.8451743713747</td><td>27424.33425854586</td></tr>\n",
       "<tr><td>(1100,[9,26,34,39...</td><td>1706.5181777061887</td><td>23099.124746190955</td></tr>\n",
       "<tr><td>(1100,[16,26,34,3...</td><td>55221.495656097526</td><td>27168.02648623365</td></tr>\n",
       "<tr><td>(1100,[16,26,33,3...</td><td>57127.72011206378</td><td>29679.105786952383</td></tr>\n",
       "<tr><td>(1100,[16,26,35,3...</td><td>49230.29402911401</td><td>28094.43244095815</td></tr>\n",
       "<tr><td>(1100,[16,26,31,3...</td><td>58743.80216485341</td><td>29238.94091213562</td></tr>\n",
       "<tr><td>(1100,[16,26,32,3...</td><td>45328.109406193034</td><td>29226.68774860793</td></tr>\n",
       "</table>\n",
       "only showing top 20 rows\n"
      ],
      "text/plain": [
       "+--------------------+------------------+------------------+\n",
       "|            features|             label|        prediction|\n",
       "+--------------------+------------------+------------------+\n",
       "|(1100,[6,25,35,39...|2121.3587837887358| 6808.205879004589|\n",
       "|(1100,[6,25,31,39...| 790.4299265675576| 9905.158676493807|\n",
       "|(1100,[6,25,34,39...|1144.9642627052563| 7079.539441406234|\n",
       "|(1100,[6,25,33,39...|400.15845996503333| 9066.269658201354|\n",
       "|(1100,[6,25,32,39...| 669.0063457115391| 9127.640921987706|\n",
       "|(1100,[0,25,34,39...|2993.5981770851427|23860.054276780796|\n",
       "|(1100,[0,25,35,39...|2399.3904726601404|24975.795182365437|\n",
       "|(1100,[0,25,31,39...|1622.9228507696537|30503.107474403827|\n",
       "|(1100,[0,25,33,39...|  1302.76610253612| 27631.11359769864|\n",
       "|(1100,[0,25,32,39...| 1439.240784198248|27778.857768431455|\n",
       "|(1100,[9,26,31,39...|1407.1390892568888|27873.967765474445|\n",
       "|(1100,[9,26,35,39...|1530.9619364884968|21937.913748274543|\n",
       "|(1100,[9,26,33,39...| 2031.850986653982|28601.671696970236|\n",
       "|(1100,[9,26,32,39...|1058.8451743713747| 27424.33425854586|\n",
       "|(1100,[9,26,34,39...|1706.5181777061887|23099.124746190955|\n",
       "|(1100,[16,26,34,3...|55221.495656097526| 27168.02648623365|\n",
       "|(1100,[16,26,33,3...| 57127.72011206378|29679.105786952383|\n",
       "|(1100,[16,26,35,3...| 49230.29402911401| 28094.43244095815|\n",
       "|(1100,[16,26,31,3...| 58743.80216485341| 29238.94091213562|\n",
       "|(1100,[16,26,32,3...|45328.109406193034| 29226.68774860793|\n",
       "+--------------------+------------------+------------------+\n",
       "only showing top 20 rows"
      ]
     },
     "execution_count": 43,
     "metadata": {},
     "output_type": "execute_result"
    }
   ],
   "source": [
    "lm_predict"
   ]
  },
  {
   "cell_type": "code",
   "execution_count": 44,
   "metadata": {},
   "outputs": [
    {
     "name": "stderr",
     "output_type": "stream",
     "text": [
      "                                                                                \r"
     ]
    }
   ],
   "source": [
    "from pyspark.ml.regression import DecisionTreeRegressor\n",
    "\n",
    "DTR = DecisionTreeRegressor(featuresCol=\"features\")\n",
    "dt = DTR.fit(train_lm)"
   ]
  },
  {
   "cell_type": "code",
   "execution_count": 45,
   "metadata": {},
   "outputs": [],
   "source": [
    "dt_predict = dt.transform(test_lm)"
   ]
  },
  {
   "cell_type": "code",
   "execution_count": 46,
   "metadata": {},
   "outputs": [
    {
     "name": "stderr",
     "output_type": "stream",
     "text": [
      "                                                                                \r"
     ]
    },
    {
     "name": "stdout",
     "output_type": "stream",
     "text": [
      "Root Mean Squared Error (RMSE) = 31556\n"
     ]
    },
    {
     "name": "stderr",
     "output_type": "stream",
     "text": [
      "[Stage 568:=============================================>           (4 + 1) / 5]\r"
     ]
    },
    {
     "name": "stdout",
     "output_type": "stream",
     "text": [
      "R Squared (R2) = 0.617694\n"
     ]
    },
    {
     "name": "stderr",
     "output_type": "stream",
     "text": [
      "                                                                                \r"
     ]
    }
   ],
   "source": [
    "print(\"Root Mean Squared Error (RMSE) = %g\" % rmse_evaluator.evaluate(dt_predict))\n",
    "print(\"R Squared (R2) = %g\" % r2_evaluator.evaluate(dt_predict))"
   ]
  },
  {
   "cell_type": "code",
   "execution_count": 47,
   "metadata": {},
   "outputs": [
    {
     "name": "stderr",
     "output_type": "stream",
     "text": [
      "                                                                                \r"
     ]
    },
    {
     "name": "stdout",
     "output_type": "stream",
     "text": [
      "22/10/09 19:05:07 WARN DAGScheduler: Broadcasting large task binary with size 1086.2 KiB\n"
     ]
    },
    {
     "name": "stderr",
     "output_type": "stream",
     "text": [
      "                                                                                \r"
     ]
    },
    {
     "name": "stdout",
     "output_type": "stream",
     "text": [
      "Root Mean Squared Error (RMSE) = 32283\n"
     ]
    },
    {
     "name": "stderr",
     "output_type": "stream",
     "text": [
      "[Stage 597:=============================================>           (4 + 1) / 5]\r"
     ]
    },
    {
     "name": "stdout",
     "output_type": "stream",
     "text": [
      "R Squared (R2) = 0.599875\n"
     ]
    },
    {
     "name": "stderr",
     "output_type": "stream",
     "text": [
      "                                                                                \r"
     ]
    }
   ],
   "source": [
    "from pyspark.ml.regression import RandomForestRegressor\n",
    "\n",
    "RFR = RandomForestRegressor(featuresCol=\"features\")\n",
    "rf = RFR.fit(train_lm)\n",
    "rf_predict = rf.transform(test_lm)\n",
    "print(\"Root Mean Squared Error (RMSE) = %g\" % rmse_evaluator.evaluate(rf_predict))\n",
    "print(\"R Squared (R2) = %g\" % r2_evaluator.evaluate(rf_predict))"
   ]
  },
  {
   "cell_type": "code",
   "execution_count": 48,
   "metadata": {},
   "outputs": [
    {
     "name": "stderr",
     "output_type": "stream",
     "text": [
      "                                                                                \r"
     ]
    },
    {
     "name": "stdout",
     "output_type": "stream",
     "text": [
      "Root Mean Squared Error (RMSE) = 24451.3\n"
     ]
    },
    {
     "name": "stderr",
     "output_type": "stream",
     "text": [
      "[Stage 912:=============================================>           (4 + 1) / 5]\r"
     ]
    },
    {
     "name": "stdout",
     "output_type": "stream",
     "text": [
      "R Squared (R2) = 0.770464\n"
     ]
    },
    {
     "name": "stderr",
     "output_type": "stream",
     "text": [
      "                                                                                \r"
     ]
    }
   ],
   "source": [
    "from pyspark.ml.regression import GBTRegressor\n",
    "\n",
    "GBT = GBTRegressor(featuresCol=\"features\")\n",
    "gbt = GBT.fit(train_lm)\n",
    "gbt_predict = gbt.transform(test_lm)\n",
    "print(\"Root Mean Squared Error (RMSE) = %g\" % rmse_evaluator.evaluate(gbt_predict))\n",
    "print(\"R Squared (R2) = %g\" % r2_evaluator.evaluate(gbt_predict))"
   ]
  },
  {
   "cell_type": "code",
   "execution_count": 49,
   "metadata": {},
   "outputs": [
    {
     "name": "stderr",
     "output_type": "stream",
     "text": [
      "                                                                                \r"
     ]
    },
    {
     "data": {
      "text/html": [
       "<table border='1'>\n",
       "<tr><th>summary</th><th>label</th><th>prediction</th><th>error</th></tr>\n",
       "<tr><td>count</td><td>17698</td><td>17698</td><td>17698</td></tr>\n",
       "<tr><td>mean</td><td>21778.27935955932</td><td>21778.279359559278</td><td>-3.28894004483373...</td></tr>\n",
       "<tr><td>stddev</td><td>51037.39330430412</td><td>41931.6555416364</td><td>24451.95973767448</td></tr>\n",
       "<tr><td>min</td><td>4.002351071059291</td><td>-8110.36043579547</td><td>-311747.99218058336</td></tr>\n",
       "<tr><td>25%</td><td>1514.0704157956382</td><td>2415.877017155687</td><td>-1821.0114573205356</td></tr>\n",
       "<tr><td>50%</td><td>5431.4398469527505</td><td>6426.525238524072</td><td>726.6643734760544</td></tr>\n",
       "<tr><td>75%</td><td>23928.897852264417</td><td>26203.24265359087</td><td>3339.1210917530625</td></tr>\n",
       "<tr><td>max</td><td>490024.0787984033</td><td>501502.67003427574</td><td>238570.51867785008</td></tr>\n",
       "</table>\n"
      ],
      "text/plain": [
       "+-------+------------------+------------------+--------------------+\n",
       "|summary|             label|        prediction|               error|\n",
       "+-------+------------------+------------------+--------------------+\n",
       "|  count|             17698|             17698|               17698|\n",
       "|   mean| 21778.27935955932|21778.279359559278|-3.28894004483373...|\n",
       "| stddev| 51037.39330430412|  41931.6555416364|   24451.95973767448|\n",
       "|    min| 4.002351071059291| -8110.36043579547| -311747.99218058336|\n",
       "|    25%|1514.0704157956382| 2415.877017155687| -1821.0114573205356|\n",
       "|    50%|5431.4398469527505| 6426.525238524072|   726.6643734760544|\n",
       "|    75%|23928.897852264417| 26203.24265359087|  3339.1210917530625|\n",
       "|    max| 490024.0787984033|501502.67003427574|  238570.51867785008|\n",
       "+-------+------------------+------------------+--------------------+"
      ]
     },
     "execution_count": 49,
     "metadata": {},
     "output_type": "execute_result"
    }
   ],
   "source": [
    "gbt_predict = gbt_predict.withColumn(\"error\", col(\"prediction\") - col(\"label\"))\n",
    "gbt_predict.summary()"
   ]
  },
  {
   "cell_type": "code",
   "execution_count": 56,
   "metadata": {},
   "outputs": [],
   "source": [
    "import pandas as pd\n",
    "import matplotlib.pyplot as plt\n",
    "\n",
    "def plot_real_vs_pred(model_name, y_real, y_pred):\n",
    "    plt.style.use('ggplot')\n",
    "    reg_real_vs_pred = pd.concat([y_real, y_pred], axis = 1)\n",
    "    reg_real_vs_pred = reg_real_vs_pred.head(40)\n",
    "    reg_real_vs_pred.plot(kind='bar', title='MODEL: '+model_name, figsize=(16,5))\n",
    "    plt.show()"
   ]
  },
  {
   "cell_type": "code",
   "execution_count": 57,
   "metadata": {},
   "outputs": [
    {
     "name": "stderr",
     "output_type": "stream",
     "text": [
      "                                                                                \r"
     ]
    },
    {
     "data": {
      "image/png": "[encoded data removed]",
      "text/plain": [
       "<Figure size 1152x360 with 1 Axes>"
      ]
     },
     "metadata": {},
     "output_type": "display_data"
    }
   ],
   "source": [
    "y_true_all = gbt_predict.select(\"label\").toPandas()\n",
    "y_pred_all = gbt_predict.select(\"prediction\").toPandas()\n",
    "plot_real_vs_pred(\"Gradient boost tree\", y_true_all, y_pred_all)"
   ]
  },
  {
   "cell_type": "code",
   "execution_count": 52,
   "metadata": {},
   "outputs": [
    {
     "name": "stderr",
     "output_type": "stream",
     "text": [
      "                                                                                \r"
     ]
    },
    {
     "data": {
      "text/plain": [
       "393"
      ]
     },
     "execution_count": 52,
     "metadata": {},
     "output_type": "execute_result"
    }
   ],
   "source": [
    "gbt_predict.filter(abs(col(\"error\")) <= 100).count()"
   ]
  },
  {
   "cell_type": "code",
   "execution_count": 59,
   "metadata": {},
   "outputs": [
    {
     "name": "stderr",
     "output_type": "stream",
     "text": [
      "                                                                                \r"
     ]
    },
    {
     "name": "stdout",
     "output_type": "stream",
     "text": [
      "22/10/09 20:25:18 WARN NettyRpcEnv: Ignored failure: java.util.concurrent.TimeoutException: Cannot receive any reply from dongmensmacbook:53256 in 10000 milliseconds\n",
      "22/10/09 20:25:18 ERROR Utils: Uncaught exception in thread executor-heartbeater\n",
      "java.lang.OutOfMemoryError: GC overhead limit exceeded\n",
      "\tat java.util.Arrays.copyOfRange(Arrays.java:3664)\n",
      "\tat java.lang.String.<init>(String.java:207)\n",
      "\tat java.lang.String.substring(String.java:1969)\n",
      "\tat javax.management.ObjectName.getDomain(ObjectName.java:1566)\n",
      "\tat com.sun.jmx.mbeanserver.Repository.retrieveNamedObject(Repository.java:292)\n",
      "\tat com.sun.jmx.mbeanserver.Repository.retrieve(Repository.java:489)\n",
      "\tat com.sun.jmx.interceptor.DefaultMBeanServerInterceptor.getMBean(DefaultMBeanServerInterceptor.java:1088)\n",
      "\tat com.sun.jmx.interceptor.DefaultMBeanServerInterceptor.getAttribute(DefaultMBeanServerInterceptor.java:643)\n",
      "\tat com.sun.jmx.mbeanserver.JmxMBeanServer.getAttribute(JmxMBeanServer.java:678)\n",
      "\tat com.sun.jmx.mbeanserver.MXBeanProxy$GetHandler.invoke(MXBeanProxy.java:122)\n",
      "\tat com.sun.jmx.mbeanserver.MXBeanProxy.invoke(MXBeanProxy.java:167)\n",
      "\tat javax.management.MBeanServerInvocationHandler.invoke(MBeanServerInvocationHandler.java:258)\n",
      "\tat com.sun.proxy.$Proxy24.getMemoryUsed(Unknown Source)\n",
      "\tat org.apache.spark.metrics.MBeanExecutorMetricType.getMetricValue(ExecutorMetricType.scala:67)\n",
      "\tat org.apache.spark.metrics.SingleValueExecutorMetricType.getMetricValues(ExecutorMetricType.scala:46)\n",
      "\tat org.apache.spark.metrics.SingleValueExecutorMetricType.getMetricValues$(ExecutorMetricType.scala:44)\n",
      "\tat org.apache.spark.metrics.MBeanExecutorMetricType.getMetricValues(ExecutorMetricType.scala:60)\n",
      "\tat org.apache.spark.executor.ExecutorMetrics$.$anonfun$getCurrentMetrics$1(ExecutorMetrics.scala:103)\n",
      "\tat org.apache.spark.executor.ExecutorMetrics$.$anonfun$getCurrentMetrics$1$adapted(ExecutorMetrics.scala:102)\n",
      "\tat org.apache.spark.executor.ExecutorMetrics$$$Lambda$2110/1996842743.apply(Unknown Source)\n",
      "\tat scala.collection.Iterator.foreach(Iterator.scala:943)\n",
      "\tat scala.collection.Iterator.foreach$(Iterator.scala:943)\n",
      "\tat scala.collection.AbstractIterator.foreach(Iterator.scala:1431)\n",
      "\tat scala.collection.IterableLike.foreach(IterableLike.scala:74)\n",
      "\tat scala.collection.IterableLike.foreach$(IterableLike.scala:73)\n",
      "\tat scala.collection.AbstractIterable.foreach(Iterable.scala:56)\n",
      "\tat org.apache.spark.executor.ExecutorMetrics$.getCurrentMetrics(ExecutorMetrics.scala:102)\n",
      "\tat org.apache.spark.executor.ExecutorMetricsPoller.poll(ExecutorMetricsPoller.scala:82)\n",
      "\tat org.apache.spark.executor.Executor.reportHeartBeat(Executor.scala:1031)\n",
      "\tat org.apache.spark.executor.Executor.$anonfun$heartbeater$1(Executor.scala:238)\n",
      "\tat org.apache.spark.executor.Executor$$Lambda$598/1695793310.apply$mcV$sp(Unknown Source)\n",
      "\tat scala.runtime.java8.JFunction0$mcV$sp.apply(JFunction0$mcV$sp.java:23)\n",
      "22/10/09 20:25:18 WARN HeartbeatReceiver: Removing executor driver with no recent heartbeats: 177989 ms exceeds timeout 120000 ms\n",
      "22/10/09 20:25:18 WARN SparkContext: Killing executors is not supported by current scheduler.\n"
     ]
    },
    {
     "ename": "Py4JJavaError",
     "evalue": "An error occurred while calling o1651.collectToPython.\n: java.lang.OutOfMemoryError: GC overhead limit exceeded\n\tat org.apache.spark.sql.execution.SparkPlan$$anon$1._next(SparkPlan.scala:393)\n\tat org.apache.spark.sql.execution.SparkPlan$$anon$1.getNext(SparkPlan.scala:402)\n\tat org.apache.spark.sql.execution.SparkPlan$$anon$1.getNext(SparkPlan.scala:388)\n\tat org.apache.spark.util.NextIterator.hasNext(NextIterator.scala:73)\n\tat scala.collection.Iterator.foreach(Iterator.scala:943)\n\tat scala.collection.Iterator.foreach$(Iterator.scala:943)\n\tat org.apache.spark.util.NextIterator.foreach(NextIterator.scala:21)\n\tat org.apache.spark.sql.execution.SparkPlan.$anonfun$executeCollect$1(SparkPlan.scala:425)\n\tat org.apache.spark.sql.execution.SparkPlan.$anonfun$executeCollect$1$adapted(SparkPlan.scala:424)\n\tat org.apache.spark.sql.execution.SparkPlan$$Lambda$3378/1407783494.apply(Unknown Source)\n\tat scala.collection.IndexedSeqOptimized.foreach(IndexedSeqOptimized.scala:36)\n\tat scala.collection.IndexedSeqOptimized.foreach$(IndexedSeqOptimized.scala:33)\n\tat scala.collection.mutable.ArrayOps$ofRef.foreach(ArrayOps.scala:198)\n\tat org.apache.spark.sql.execution.SparkPlan.executeCollect(SparkPlan.scala:424)\n\tat org.apache.spark.sql.Dataset.$anonfun$collectToPython$1(Dataset.scala:3688)\n\tat org.apache.spark.sql.Dataset$$Lambda$4944/331611394.apply(Unknown Source)\n\tat org.apache.spark.sql.Dataset.$anonfun$withAction$2(Dataset.scala:3858)\n\tat org.apache.spark.sql.Dataset$$Lambda$2493/912047155.apply(Unknown Source)\n\tat org.apache.spark.sql.execution.QueryExecution$.withInternalError(QueryExecution.scala:510)\n\tat org.apache.spark.sql.Dataset.$anonfun$withAction$1(Dataset.scala:3856)\n\tat org.apache.spark.sql.Dataset$$Lambda$2183/1153343815.apply(Unknown Source)\n\tat org.apache.spark.sql.execution.SQLExecution$.$anonfun$withNewExecutionId$6(SQLExecution.scala:109)\n\tat org.apache.spark.sql.execution.SQLExecution$$$Lambda$2191/194214240.apply(Unknown Source)\n\tat org.apache.spark.sql.execution.SQLExecution$.withSQLConfPropagated(SQLExecution.scala:169)\n\tat org.apache.spark.sql.execution.SQLExecution$.$anonfun$withNewExecutionId$1(SQLExecution.scala:95)\n\tat org.apache.spark.sql.execution.SQLExecution$$$Lambda$2184/694321712.apply(Unknown Source)\n\tat org.apache.spark.sql.SparkSession.withActive(SparkSession.scala:779)\n\tat org.apache.spark.sql.execution.SQLExecution$.withNewExecutionId(SQLExecution.scala:64)\n\tat org.apache.spark.sql.Dataset.withAction(Dataset.scala:3856)\n\tat org.apache.spark.sql.Dataset.collectToPython(Dataset.scala:3685)\n\tat sun.reflect.NativeMethodAccessorImpl.invoke0(Native Method)\n\tat sun.reflect.NativeMethodAccessorImpl.invoke(NativeMethodAccessorImpl.java:62)\n",
     "output_type": "error",
     "traceback": [
      "\u001b[0;31m---------------------------------------------------------------------------\u001b[0m",
      "\u001b[0;31mPy4JJavaError\u001b[0m                             Traceback (most recent call last)",
      "\u001b[1;32m/Users/dongmenghan/Desktop/2022 yr3 s2/ads/project 2/generic-buy-now-pay-later-project-group-27/notebooks/train_revenue.ipynb Cell 23\u001b[0m in \u001b[0;36m<cell line: 5>\u001b[0;34m()\u001b[0m\n\u001b[1;32m      <a href='vscode-notebook-cell:/Users/dongmenghan/Desktop/2022%20yr3%20s2/ads/project%202/generic-buy-now-pay-later-project-group-27/notebooks/train_revenue.ipynb#Y100sZmlsZQ%3D%3D?line=1'>2</a>\u001b[0m \u001b[39mimport\u001b[39;00m \u001b[39mmatplotlib\u001b[39;00m\u001b[39m.\u001b[39;00m\u001b[39mpyplot\u001b[39;00m \u001b[39mas\u001b[39;00m \u001b[39mplt\u001b[39;00m\n\u001b[1;32m      <a href='vscode-notebook-cell:/Users/dongmenghan/Desktop/2022%20yr3%20s2/ads/project%202/generic-buy-now-pay-later-project-group-27/notebooks/train_revenue.ipynb#Y100sZmlsZQ%3D%3D?line=3'>4</a>\u001b[0m tmp \u001b[39m=\u001b[39m train_agg\u001b[39m.\u001b[39mtoPandas()\n\u001b[0;32m----> <a href='vscode-notebook-cell:/Users/dongmenghan/Desktop/2022%20yr3%20s2/ads/project%202/generic-buy-now-pay-later-project-group-27/notebooks/train_revenue.ipynb#Y100sZmlsZQ%3D%3D?line=4'>5</a>\u001b[0m tmp_full \u001b[39m=\u001b[39m sdf\u001b[39m.\u001b[39;49mtoPandas()\n",
      "File \u001b[0;32m~/Library/Python/3.8/lib/python/site-packages/pyspark/sql/pandas/conversion.py:205\u001b[0m, in \u001b[0;36mPandasConversionMixin.toPandas\u001b[0;34m(self)\u001b[0m\n\u001b[1;32m    202\u001b[0m             \u001b[39mraise\u001b[39;00m\n\u001b[1;32m    204\u001b[0m \u001b[39m# Below is toPandas without Arrow optimization.\u001b[39;00m\n\u001b[0;32m--> 205\u001b[0m pdf \u001b[39m=\u001b[39m pd\u001b[39m.\u001b[39mDataFrame\u001b[39m.\u001b[39mfrom_records(\u001b[39mself\u001b[39;49m\u001b[39m.\u001b[39;49mcollect(), columns\u001b[39m=\u001b[39m\u001b[39mself\u001b[39m\u001b[39m.\u001b[39mcolumns)\n\u001b[1;32m    206\u001b[0m column_counter \u001b[39m=\u001b[39m Counter(\u001b[39mself\u001b[39m\u001b[39m.\u001b[39mcolumns)\n\u001b[1;32m    208\u001b[0m corrected_dtypes: List[Optional[Type]] \u001b[39m=\u001b[39m [\u001b[39mNone\u001b[39;00m] \u001b[39m*\u001b[39m \u001b[39mlen\u001b[39m(\u001b[39mself\u001b[39m\u001b[39m.\u001b[39mschema)\n",
      "File \u001b[0;32m~/Library/Python/3.8/lib/python/site-packages/pyspark/sql/dataframe.py:817\u001b[0m, in \u001b[0;36mDataFrame.collect\u001b[0;34m(self)\u001b[0m\n\u001b[1;32m    807\u001b[0m \u001b[39m\"\"\"Returns all the records as a list of :class:`Row`.\u001b[39;00m\n\u001b[1;32m    808\u001b[0m \n\u001b[1;32m    809\u001b[0m \u001b[39m.. versionadded:: 1.3.0\u001b[39;00m\n\u001b[0;32m   (...)\u001b[0m\n\u001b[1;32m    814\u001b[0m \u001b[39m[Row(age=2, name='Alice'), Row(age=5, name='Bob')]\u001b[39;00m\n\u001b[1;32m    815\u001b[0m \u001b[39m\"\"\"\u001b[39;00m\n\u001b[1;32m    816\u001b[0m \u001b[39mwith\u001b[39;00m SCCallSiteSync(\u001b[39mself\u001b[39m\u001b[39m.\u001b[39m_sc):\n\u001b[0;32m--> 817\u001b[0m     sock_info \u001b[39m=\u001b[39m \u001b[39mself\u001b[39;49m\u001b[39m.\u001b[39;49m_jdf\u001b[39m.\u001b[39;49mcollectToPython()\n\u001b[1;32m    818\u001b[0m \u001b[39mreturn\u001b[39;00m \u001b[39mlist\u001b[39m(_load_from_socket(sock_info, BatchedSerializer(CPickleSerializer())))\n",
      "File \u001b[0;32m~/Library/Python/3.8/lib/python/site-packages/py4j/java_gateway.py:1321\u001b[0m, in \u001b[0;36mJavaMember.__call__\u001b[0;34m(self, *args)\u001b[0m\n\u001b[1;32m   1315\u001b[0m command \u001b[39m=\u001b[39m proto\u001b[39m.\u001b[39mCALL_COMMAND_NAME \u001b[39m+\u001b[39m\\\n\u001b[1;32m   1316\u001b[0m     \u001b[39mself\u001b[39m\u001b[39m.\u001b[39mcommand_header \u001b[39m+\u001b[39m\\\n\u001b[1;32m   1317\u001b[0m     args_command \u001b[39m+\u001b[39m\\\n\u001b[1;32m   1318\u001b[0m     proto\u001b[39m.\u001b[39mEND_COMMAND_PART\n\u001b[1;32m   1320\u001b[0m answer \u001b[39m=\u001b[39m \u001b[39mself\u001b[39m\u001b[39m.\u001b[39mgateway_client\u001b[39m.\u001b[39msend_command(command)\n\u001b[0;32m-> 1321\u001b[0m return_value \u001b[39m=\u001b[39m get_return_value(\n\u001b[1;32m   1322\u001b[0m     answer, \u001b[39mself\u001b[39;49m\u001b[39m.\u001b[39;49mgateway_client, \u001b[39mself\u001b[39;49m\u001b[39m.\u001b[39;49mtarget_id, \u001b[39mself\u001b[39;49m\u001b[39m.\u001b[39;49mname)\n\u001b[1;32m   1324\u001b[0m \u001b[39mfor\u001b[39;00m temp_arg \u001b[39min\u001b[39;00m temp_args:\n\u001b[1;32m   1325\u001b[0m     temp_arg\u001b[39m.\u001b[39m_detach()\n",
      "File \u001b[0;32m~/Library/Python/3.8/lib/python/site-packages/pyspark/sql/utils.py:190\u001b[0m, in \u001b[0;36mcapture_sql_exception.<locals>.deco\u001b[0;34m(*a, **kw)\u001b[0m\n\u001b[1;32m    188\u001b[0m \u001b[39mdef\u001b[39;00m \u001b[39mdeco\u001b[39m(\u001b[39m*\u001b[39ma: Any, \u001b[39m*\u001b[39m\u001b[39m*\u001b[39mkw: Any) \u001b[39m-\u001b[39m\u001b[39m>\u001b[39m Any:\n\u001b[1;32m    189\u001b[0m     \u001b[39mtry\u001b[39;00m:\n\u001b[0;32m--> 190\u001b[0m         \u001b[39mreturn\u001b[39;00m f(\u001b[39m*\u001b[39;49ma, \u001b[39m*\u001b[39;49m\u001b[39m*\u001b[39;49mkw)\n\u001b[1;32m    191\u001b[0m     \u001b[39mexcept\u001b[39;00m Py4JJavaError \u001b[39mas\u001b[39;00m e:\n\u001b[1;32m    192\u001b[0m         converted \u001b[39m=\u001b[39m convert_exception(e\u001b[39m.\u001b[39mjava_exception)\n",
      "File \u001b[0;32m~/Library/Python/3.8/lib/python/site-packages/py4j/protocol.py:326\u001b[0m, in \u001b[0;36mget_return_value\u001b[0;34m(answer, gateway_client, target_id, name)\u001b[0m\n\u001b[1;32m    324\u001b[0m value \u001b[39m=\u001b[39m OUTPUT_CONVERTER[\u001b[39mtype\u001b[39m](answer[\u001b[39m2\u001b[39m:], gateway_client)\n\u001b[1;32m    325\u001b[0m \u001b[39mif\u001b[39;00m answer[\u001b[39m1\u001b[39m] \u001b[39m==\u001b[39m REFERENCE_TYPE:\n\u001b[0;32m--> 326\u001b[0m     \u001b[39mraise\u001b[39;00m Py4JJavaError(\n\u001b[1;32m    327\u001b[0m         \u001b[39m\"\u001b[39m\u001b[39mAn error occurred while calling \u001b[39m\u001b[39m{0}\u001b[39;00m\u001b[39m{1}\u001b[39;00m\u001b[39m{2}\u001b[39;00m\u001b[39m.\u001b[39m\u001b[39m\\n\u001b[39;00m\u001b[39m\"\u001b[39m\u001b[39m.\u001b[39m\n\u001b[1;32m    328\u001b[0m         \u001b[39mformat\u001b[39m(target_id, \u001b[39m\"\u001b[39m\u001b[39m.\u001b[39m\u001b[39m\"\u001b[39m, name), value)\n\u001b[1;32m    329\u001b[0m \u001b[39melse\u001b[39;00m:\n\u001b[1;32m    330\u001b[0m     \u001b[39mraise\u001b[39;00m Py4JError(\n\u001b[1;32m    331\u001b[0m         \u001b[39m\"\u001b[39m\u001b[39mAn error occurred while calling \u001b[39m\u001b[39m{0}\u001b[39;00m\u001b[39m{1}\u001b[39;00m\u001b[39m{2}\u001b[39;00m\u001b[39m. Trace:\u001b[39m\u001b[39m\\n\u001b[39;00m\u001b[39m{3}\u001b[39;00m\u001b[39m\\n\u001b[39;00m\u001b[39m\"\u001b[39m\u001b[39m.\u001b[39m\n\u001b[1;32m    332\u001b[0m         \u001b[39mformat\u001b[39m(target_id, \u001b[39m\"\u001b[39m\u001b[39m.\u001b[39m\u001b[39m\"\u001b[39m, name, value))\n",
      "\u001b[0;31mPy4JJavaError\u001b[0m: An error occurred while calling o1651.collectToPython.\n: java.lang.OutOfMemoryError: GC overhead limit exceeded\n\tat org.apache.spark.sql.execution.SparkPlan$$anon$1._next(SparkPlan.scala:393)\n\tat org.apache.spark.sql.execution.SparkPlan$$anon$1.getNext(SparkPlan.scala:402)\n\tat org.apache.spark.sql.execution.SparkPlan$$anon$1.getNext(SparkPlan.scala:388)\n\tat org.apache.spark.util.NextIterator.hasNext(NextIterator.scala:73)\n\tat scala.collection.Iterator.foreach(Iterator.scala:943)\n\tat scala.collection.Iterator.foreach$(Iterator.scala:943)\n\tat org.apache.spark.util.NextIterator.foreach(NextIterator.scala:21)\n\tat org.apache.spark.sql.execution.SparkPlan.$anonfun$executeCollect$1(SparkPlan.scala:425)\n\tat org.apache.spark.sql.execution.SparkPlan.$anonfun$executeCollect$1$adapted(SparkPlan.scala:424)\n\tat org.apache.spark.sql.execution.SparkPlan$$Lambda$3378/1407783494.apply(Unknown Source)\n\tat scala.collection.IndexedSeqOptimized.foreach(IndexedSeqOptimized.scala:36)\n\tat scala.collection.IndexedSeqOptimized.foreach$(IndexedSeqOptimized.scala:33)\n\tat scala.collection.mutable.ArrayOps$ofRef.foreach(ArrayOps.scala:198)\n\tat org.apache.spark.sql.execution.SparkPlan.executeCollect(SparkPlan.scala:424)\n\tat org.apache.spark.sql.Dataset.$anonfun$collectToPython$1(Dataset.scala:3688)\n\tat org.apache.spark.sql.Dataset$$Lambda$4944/331611394.apply(Unknown Source)\n\tat org.apache.spark.sql.Dataset.$anonfun$withAction$2(Dataset.scala:3858)\n\tat org.apache.spark.sql.Dataset$$Lambda$2493/912047155.apply(Unknown Source)\n\tat org.apache.spark.sql.execution.QueryExecution$.withInternalError(QueryExecution.scala:510)\n\tat org.apache.spark.sql.Dataset.$anonfun$withAction$1(Dataset.scala:3856)\n\tat org.apache.spark.sql.Dataset$$Lambda$2183/1153343815.apply(Unknown Source)\n\tat org.apache.spark.sql.execution.SQLExecution$.$anonfun$withNewExecutionId$6(SQLExecution.scala:109)\n\tat org.apache.spark.sql.execution.SQLExecution$$$Lambda$2191/194214240.apply(Unknown Source)\n\tat org.apache.spark.sql.execution.SQLExecution$.withSQLConfPropagated(SQLExecution.scala:169)\n\tat org.apache.spark.sql.execution.SQLExecution$.$anonfun$withNewExecutionId$1(SQLExecution.scala:95)\n\tat org.apache.spark.sql.execution.SQLExecution$$$Lambda$2184/694321712.apply(Unknown Source)\n\tat org.apache.spark.sql.SparkSession.withActive(SparkSession.scala:779)\n\tat org.apache.spark.sql.execution.SQLExecution$.withNewExecutionId(SQLExecution.scala:64)\n\tat org.apache.spark.sql.Dataset.withAction(Dataset.scala:3856)\n\tat org.apache.spark.sql.Dataset.collectToPython(Dataset.scala:3685)\n\tat sun.reflect.NativeMethodAccessorImpl.invoke0(Native Method)\n\tat sun.reflect.NativeMethodAccessorImpl.invoke(NativeMethodAccessorImpl.java:62)\n"
     ]
    }
   ],
   "source": [
    "import seaborn as sns\n",
    "import matplotlib.pyplot as plt\n",
    "\n",
    "tmp = train_agg.toPandas()\n",
    "tmp_full = sdf.toPandas()"
   ]
  },
  {
   "cell_type": "code",
   "execution_count": null,
   "metadata": {},
   "outputs": [
    {
     "ename": "NameError",
     "evalue": "name 'tmp_full' is not defined",
     "output_type": "error",
     "traceback": [
      "\u001b[0;31m---------------------------------------------------------------------------\u001b[0m",
      "\u001b[0;31mNameError\u001b[0m                                 Traceback (most recent call last)",
      "\u001b[1;32m/Users/dongmenghan/Desktop/2022 yr3 s2/ads/project 2/generic-buy-now-pay-later-project-group-27/notebooks/train_revenue.ipynb Cell 24\u001b[0m in \u001b[0;36m<cell line: 3>\u001b[0;34m()\u001b[0m\n\u001b[1;32m      <a href='vscode-notebook-cell:/Users/dongmenghan/Desktop/2022%20yr3%20s2/ads/project%202/generic-buy-now-pay-later-project-group-27/notebooks/train_revenue.ipynb#Y105sZmlsZQ%3D%3D?line=0'>1</a>\u001b[0m plt\u001b[39m.\u001b[39mfigure(figsize\u001b[39m=\u001b[39m(\u001b[39m14\u001b[39m,\u001b[39m8\u001b[39m))\n\u001b[1;32m      <a href='vscode-notebook-cell:/Users/dongmenghan/Desktop/2022%20yr3%20s2/ads/project%202/generic-buy-now-pay-later-project-group-27/notebooks/train_revenue.ipynb#Y105sZmlsZQ%3D%3D?line=1'>2</a>\u001b[0m sns\u001b[39m.\u001b[39mset_theme(style\u001b[39m=\u001b[39m\u001b[39m\"\u001b[39m\u001b[39mwhite\u001b[39m\u001b[39m\"\u001b[39m)\n\u001b[0;32m----> <a href='vscode-notebook-cell:/Users/dongmenghan/Desktop/2022%20yr3%20s2/ads/project%202/generic-buy-now-pay-later-project-group-27/notebooks/train_revenue.ipynb#Y105sZmlsZQ%3D%3D?line=2'>3</a>\u001b[0m corr_full \u001b[39m=\u001b[39m tmp_full\u001b[39m.\u001b[39mcorr()\n\u001b[1;32m      <a href='vscode-notebook-cell:/Users/dongmenghan/Desktop/2022%20yr3%20s2/ads/project%202/generic-buy-now-pay-later-project-group-27/notebooks/train_revenue.ipynb#Y105sZmlsZQ%3D%3D?line=3'>4</a>\u001b[0m heatmap \u001b[39m=\u001b[39m sns\u001b[39m.\u001b[39mheatmap(corr_full, annot\u001b[39m=\u001b[39m\u001b[39mTrue\u001b[39;00m, cmap\u001b[39m=\u001b[39m\u001b[39m\"\u001b[39m\u001b[39mBlues\u001b[39m\u001b[39m\"\u001b[39m, fmt\u001b[39m=\u001b[39m\u001b[39m'\u001b[39m\u001b[39m.1g\u001b[39m\u001b[39m'\u001b[39m)\n",
      "\u001b[0;31mNameError\u001b[0m: name 'tmp_full' is not defined"
     ]
    },
    {
     "data": {
      "text/plain": [
       "<Figure size 1008x576 with 0 Axes>"
      ]
     },
     "metadata": {},
     "output_type": "display_data"
    }
   ],
   "source": [
    "plt.figure(figsize=(14,8))\n",
    "sns.set_theme(style=\"white\")\n",
    "corr_full = tmp_full.corr()\n",
    "heatmap = sns.heatmap(corr_full, annot=True, cmap=\"Blues\", fmt='.1g')"
   ]
  },
  {
   "cell_type": "code",
   "execution_count": 54,
   "metadata": {},
   "outputs": [
    {
     "data": {
      "image/png": "[encoded data removed]",
      "text/plain": [
       "<Figure size 1008x576 with 2 Axes>"
      ]
     },
     "metadata": {},
     "output_type": "display_data"
    }
   ],
   "source": [
    "plt.figure(figsize=(14,8))\n",
    "sns.set_theme(style=\"white\")\n",
    "corr = tmp.corr()\n",
    "heatmap = sns.heatmap(corr, annot=True, cmap=\"Blues\", fmt='.1g')"
   ]
  },
  {
   "cell_type": "code",
   "execution_count": 55,
   "metadata": {},
   "outputs": [
    {
     "data": {
      "text/plain": [
       "avg(median_age)     0.003398\n",
       "dollar_value        1.000000\n",
       "avg(female)         0.630953\n",
       "avg(male)           0.630904\n",
       "avg(undisclosed)    0.630430\n",
       "Name: dollar_value, dtype: float64"
      ]
     },
     "execution_count": 55,
     "metadata": {},
     "output_type": "execute_result"
    }
   ],
   "source": [
    "corr.dollar_value"
   ]
  }
 ],
 "metadata": {
  "kernelspec": {
   "display_name": "Python 3.9.12 ('base')",
   "language": "python",
   "name": "python3"
  },
  "language_info": {
   "codemirror_mode": {
    "name": "ipython",
    "version": 3
   },
   "file_extension": ".py",
   "mimetype": "text/x-python",
   "name": "python",
   "nbconvert_exporter": "python",
   "pygments_lexer": "ipython3",
   "version": "3.9.12"
  },
  "orig_nbformat": 4,
  "vscode": {
   "interpreter": {
    "hash": "d2d7e6728612c8fd54cbd36f1913daefb7c7ed6b16dd726696ef300fa27e75d7"
   }
  }
 },
 "nbformat": 4,
 "nbformat_minor": 2
}
