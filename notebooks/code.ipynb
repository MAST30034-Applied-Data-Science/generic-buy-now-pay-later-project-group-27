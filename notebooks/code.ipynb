{
 "cells": [
  {
   "cell_type": "code",
   "execution_count": 1,
   "metadata": {},
   "outputs": [
    {
     "name": "stderr",
     "output_type": "stream",
     "text": [
      "Setting default log level to \"WARN\".\n",
      "To adjust logging level use sc.setLogLevel(newLevel). For SparkR, use setLogLevel(newLevel).\n"
     ]
    },
    {
     "name": "stdout",
     "output_type": "stream",
     "text": [
      "22/08/29 14:45:09 WARN NativeCodeLoader: Unable to load native-hadoop library for your platform... using builtin-java classes where applicable\n"
     ]
    }
   ],
   "source": [
    "import pandas as pd\n",
    "from pyspark.sql import SparkSession, functions as F\n",
    "from pyspark.sql.functions import *\n",
    "\n",
    "# Create a spark session (which will run spark jobs)\n",
    "spark = (\n",
    "    SparkSession.builder.appName(\"Assignment 1\")\n",
    "    .config(\"spark.sql.repl.eagerEval.enabled\", True) \n",
    "    .config(\"spark.sql.parquet.cacheMetadata\", \"true\")\n",
    "    .config(\"spark.sql.session.timeZone\", \"Etc/UTC\")\n",
    "    .getOrCreate()\n",
    ")"
   ]
  },
  {
   "cell_type": "code",
   "execution_count": 15,
   "metadata": {},
   "outputs": [
    {
     "name": "stderr",
     "output_type": "stream",
     "text": [
      "                                                                                \r"
     ]
    }
   ],
   "source": [
    "consumer_user_details = spark.read.parquet('../data/tables/consumer_user_details.parquet')\n",
    "consumer = spark.read.csv('../data/tables/tbl_consumer.csv')\n",
    "merchants = spark.read.parquet('../data/tables/tbl_merchants.parquet')"
   ]
  },
  {
   "cell_type": "code",
   "execution_count": 16,
   "metadata": {},
   "outputs": [
    {
     "name": "stderr",
     "output_type": "stream",
     "text": [
      "                                                                                \r"
     ]
    },
    {
     "data": {
      "text/html": [
       "<table border='1'>\n",
       "<tr><th>user_id</th><th>consumer_id</th></tr>\n",
       "<tr><td>1</td><td>1195503</td></tr>\n",
       "<tr><td>2</td><td>179208</td></tr>\n",
       "<tr><td>3</td><td>1194530</td></tr>\n",
       "<tr><td>4</td><td>154128</td></tr>\n",
       "<tr><td>5</td><td>712975</td></tr>\n",
       "<tr><td>6</td><td>407340</td></tr>\n",
       "<tr><td>7</td><td>511685</td></tr>\n",
       "<tr><td>8</td><td>448088</td></tr>\n",
       "<tr><td>9</td><td>650435</td></tr>\n",
       "<tr><td>10</td><td>1058499</td></tr>\n",
       "<tr><td>11</td><td>428325</td></tr>\n",
       "<tr><td>12</td><td>1494640</td></tr>\n",
       "<tr><td>13</td><td>1146717</td></tr>\n",
       "<tr><td>14</td><td>1343547</td></tr>\n",
       "<tr><td>15</td><td>1463076</td></tr>\n",
       "<tr><td>16</td><td>1356405</td></tr>\n",
       "<tr><td>17</td><td>1331093</td></tr>\n",
       "<tr><td>18</td><td>80965</td></tr>\n",
       "<tr><td>19</td><td>1226530</td></tr>\n",
       "<tr><td>20</td><td>1390367</td></tr>\n",
       "</table>\n",
       "only showing top 20 rows\n"
      ],
      "text/plain": [
       "+-------+-----------+\n",
       "|user_id|consumer_id|\n",
       "+-------+-----------+\n",
       "|      1|    1195503|\n",
       "|      2|     179208|\n",
       "|      3|    1194530|\n",
       "|      4|     154128|\n",
       "|      5|     712975|\n",
       "|      6|     407340|\n",
       "|      7|     511685|\n",
       "|      8|     448088|\n",
       "|      9|     650435|\n",
       "|     10|    1058499|\n",
       "|     11|     428325|\n",
       "|     12|    1494640|\n",
       "|     13|    1146717|\n",
       "|     14|    1343547|\n",
       "|     15|    1463076|\n",
       "|     16|    1356405|\n",
       "|     17|    1331093|\n",
       "|     18|      80965|\n",
       "|     19|    1226530|\n",
       "|     20|    1390367|\n",
       "+-------+-----------+\n",
       "only showing top 20 rows"
      ]
     },
     "execution_count": 16,
     "metadata": {},
     "output_type": "execute_result"
    }
   ],
   "source": [
    "consumer_user_details"
   ]
  },
  {
   "cell_type": "code",
   "execution_count": 21,
   "metadata": {},
   "outputs": [
    {
     "name": "stdout",
     "output_type": "stream",
     "text": [
      "-RECORD 0-------------------\n",
      " _c0 | name|address|stat... \n",
      "-RECORD 1-------------------\n",
      " _c0 | Yolanda Williams|... \n",
      "-RECORD 2-------------------\n",
      " _c0 | Mary Smith|3764 A... \n",
      "-RECORD 3-------------------\n",
      " _c0 | Jill Jones MD|406... \n",
      "-RECORD 4-------------------\n",
      " _c0 | Lindsay Jimenez|0... \n",
      "-RECORD 5-------------------\n",
      " _c0 | Rebecca Blanchard... \n",
      "-RECORD 6-------------------\n",
      " _c0 | Karen Chapman|270... \n",
      "-RECORD 7-------------------\n",
      " _c0 | Andrea Jones|122 ... \n",
      "-RECORD 8-------------------\n",
      " _c0 | Stephen Williams|... \n",
      "-RECORD 9-------------------\n",
      " _c0 | Stephanie Reyes|5... \n",
      "-RECORD 10------------------\n",
      " _c0 | Jillian Gonzales|... \n",
      "-RECORD 11------------------\n",
      " _c0 | Eugene Lucas|3398... \n",
      "-RECORD 12------------------\n",
      " _c0 | Melissa Jones|137... \n",
      "-RECORD 13------------------\n",
      " _c0 | Angela Brown PhD|... \n",
      "-RECORD 14------------------\n",
      " _c0 | Lance Butler|8943... \n",
      "-RECORD 15------------------\n",
      " _c0 | Paul Abbott|60495... \n",
      "-RECORD 16------------------\n",
      " _c0 | Tracy Hart|9671 J... \n",
      "-RECORD 17------------------\n",
      " _c0 | Alyssa Wilson|443... \n",
      "-RECORD 18------------------\n",
      " _c0 | Michael Burnett|8... \n",
      "-RECORD 19------------------\n",
      " _c0 | Victoria Gonzalez... \n",
      "only showing top 20 rows\n",
      "\n"
     ]
    }
   ],
   "source": [
    "consumer"
   ]
  },
  {
   "cell_type": "code",
   "execution_count": 18,
   "metadata": {},
   "outputs": [
    {
     "data": {
      "text/html": [
       "<table border='1'>\n",
       "<tr><th>name</th><th>tags</th><th>merchant_abn</th></tr>\n",
       "<tr><td>Felis Limited</td><td>((furniture, home...</td><td>10023283211</td></tr>\n",
       "<tr><td>Arcu Ac Orci Corp...</td><td>([cable, satellit...</td><td>10142254217</td></tr>\n",
       "<tr><td>Nunc Sed Company</td><td>([jewelry, watch,...</td><td>10165489824</td></tr>\n",
       "<tr><td>Ultricies Digniss...</td><td>([wAtch, clock, a...</td><td>10187291046</td></tr>\n",
       "<tr><td>Enim Condimentum PC</td><td>([music shops - m...</td><td>10192359162</td></tr>\n",
       "<tr><td>Fusce Company</td><td>[(gift, card, nov...</td><td>10206519221</td></tr>\n",
       "<tr><td>Aliquam Enim Inco...</td><td>[(computers, comP...</td><td>10255988167</td></tr>\n",
       "<tr><td>Ipsum Primis Ltd</td><td>[[watch, clock, a...</td><td>10264435225</td></tr>\n",
       "<tr><td>Pede Ultrices Ind...</td><td>([computer progra...</td><td>10279061213</td></tr>\n",
       "<tr><td>Nunc Inc.</td><td>[(furniture, home...</td><td>10323485998</td></tr>\n",
       "<tr><td>Facilisis Facilis...</td><td>([computers, comp...</td><td>10342410215</td></tr>\n",
       "<tr><td>Odio Institute</td><td>((equipment, tool...</td><td>10346855916</td></tr>\n",
       "<tr><td>Rutrum Justo Ltd</td><td>([music shops - m...</td><td>10364012396</td></tr>\n",
       "<tr><td>Tellus Foundation</td><td>[[artist supply a...</td><td>10385011947</td></tr>\n",
       "<tr><td>Sed Et Company</td><td>([florists suppli...</td><td>10385163239</td></tr>\n",
       "<tr><td>Id Ltd</td><td>([computers, comp...</td><td>10385250025</td></tr>\n",
       "<tr><td>Consequat Foundation</td><td>[[antique shops -...</td><td>10404542215</td></tr>\n",
       "<tr><td>Sit Amet Nulla Corp.</td><td>[[motor vehicle s...</td><td>10430380319</td></tr>\n",
       "<tr><td>Massa Vestibulum ...</td><td>[(moTor vehicle s...</td><td>10441711491</td></tr>\n",
       "<tr><td>Ut Consulting</td><td>([gift, card, nov...</td><td>10462560289</td></tr>\n",
       "</table>\n",
       "only showing top 20 rows\n"
      ],
      "text/plain": [
       "+--------------------+--------------------+------------+\n",
       "|                name|                tags|merchant_abn|\n",
       "+--------------------+--------------------+------------+\n",
       "|       Felis Limited|((furniture, home...| 10023283211|\n",
       "|Arcu Ac Orci Corp...|([cable, satellit...| 10142254217|\n",
       "|    Nunc Sed Company|([jewelry, watch,...| 10165489824|\n",
       "|Ultricies Digniss...|([wAtch, clock, a...| 10187291046|\n",
       "| Enim Condimentum PC|([music shops - m...| 10192359162|\n",
       "|       Fusce Company|[(gift, card, nov...| 10206519221|\n",
       "|Aliquam Enim Inco...|[(computers, comP...| 10255988167|\n",
       "|    Ipsum Primis Ltd|[[watch, clock, a...| 10264435225|\n",
       "|Pede Ultrices Ind...|([computer progra...| 10279061213|\n",
       "|           Nunc Inc.|[(furniture, home...| 10323485998|\n",
       "|Facilisis Facilis...|([computers, comp...| 10342410215|\n",
       "|      Odio Institute|((equipment, tool...| 10346855916|\n",
       "|    Rutrum Justo Ltd|([music shops - m...| 10364012396|\n",
       "|   Tellus Foundation|[[artist supply a...| 10385011947|\n",
       "|      Sed Et Company|([florists suppli...| 10385163239|\n",
       "|              Id Ltd|([computers, comp...| 10385250025|\n",
       "|Consequat Foundation|[[antique shops -...| 10404542215|\n",
       "|Sit Amet Nulla Corp.|[[motor vehicle s...| 10430380319|\n",
       "|Massa Vestibulum ...|[(moTor vehicle s...| 10441711491|\n",
       "|       Ut Consulting|([gift, card, nov...| 10462560289|\n",
       "+--------------------+--------------------+------------+\n",
       "only showing top 20 rows"
      ]
     },
     "execution_count": 18,
     "metadata": {},
     "output_type": "execute_result"
    }
   ],
   "source": [
    "merchants"
   ]
  }
 ],
 "metadata": {
  "kernelspec": {
   "display_name": "Python 3.9.12 64-bit",
   "language": "python",
   "name": "python3"
  },
  "language_info": {
   "codemirror_mode": {
    "name": "ipython",
    "version": 3
   },
   "file_extension": ".py",
   "mimetype": "text/x-python",
   "name": "python",
   "nbconvert_exporter": "python",
   "pygments_lexer": "ipython3",
   "version": "3.9.12"
  },
  "orig_nbformat": 4,
  "vscode": {
   "interpreter": {
    "hash": "949777d72b0d2535278d3dc13498b2535136f6dfe0678499012e853ee9abcab1"
   }
  }
 },
 "nbformat": 4,
 "nbformat_minor": 2
}
