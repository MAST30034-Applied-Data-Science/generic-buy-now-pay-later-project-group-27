{
 "cells": [
  {
   "cell_type": "code",
   "execution_count": 1,
   "metadata": {},
   "outputs": [
    {
     "name": "stderr",
     "output_type": "stream",
     "text": [
      "Setting default log level to \"WARN\".\n",
      "To adjust logging level use sc.setLogLevel(newLevel). For SparkR, use setLogLevel(newLevel).\n"
     ]
    },
    {
     "name": "stdout",
     "output_type": "stream",
     "text": [
      "22/09/18 19:10:36 WARN NativeCodeLoader: Unable to load native-hadoop library for your platform... using builtin-java classes where applicable\n"
     ]
    }
   ],
   "source": [
    "from pyspark.sql import SparkSession\n",
    "from pyspark.sql.functions import *\n",
    "\n",
    "spark = (\n",
    "    SparkSession.builder.appName(\"ADS project 2\")\n",
    "    .config(\"spark.sql.repl.eagerEval.enabled\", True) \n",
    "    .config(\"spark.sql.parquet.cacheMetadata\", \"true\")\n",
    "    .config(\"spark.sql.session.timeZone\", \"Etc/UTC\")\n",
    "    .config(\"spark.executor.memory\", \"2g\")\n",
    "    .config(\"spark.driver.memory\", \"4g\")\n",
    "    .getOrCreate()\n",
    ")"
   ]
  },
  {
   "cell_type": "code",
   "execution_count": 2,
   "metadata": {},
   "outputs": [],
   "source": [
    "import pandas as pd\n",
    "import numpy as np\n",
    "\n",
    "raw_data = \"../data/ABS/\"\n",
    "curated_data = \"../data/curated/\"\n",
    "\n",
    "tbl_income = pd.read_excel(raw_data+\"annual income by SA2 regions.xlsx\")\n",
    "tbl_population = pd.read_excel(raw_data+\"population estimates by SA2 regions.xlsx\")\n"
   ]
  },
  {
   "cell_type": "markdown",
   "metadata": {},
   "source": [
    "<h2>1. Clean external data</h2>"
   ]
  },
  {
   "cell_type": "markdown",
   "metadata": {},
   "source": [
    "<h3>1.1 Clean \"annual income\"</h3>"
   ]
  },
  {
   "cell_type": "code",
   "execution_count": 3,
   "metadata": {},
   "outputs": [],
   "source": [
    "tbl_income.drop(np.arange(0,8), inplace=True)\n",
    "tbl_income.drop(np.arange(2303,2306), inplace=True)\n",
    "\n",
    "tbl_income.drop(tbl_income.columns[[2,3,4,5,7,8,9,10,12,13,14,15,17,18,19,20,22,23,24,25,27]], axis=1, inplace=True)\n",
    "tbl_income = tbl_income.reset_index(drop=True)\n",
    "tbl_income.columns = ['sa2', 'sa2_name', 'total_earners', 'median_age', 'income_sum', 'income_median', 'income_mean']"
   ]
  },
  {
   "cell_type": "code",
   "execution_count": 4,
   "metadata": {},
   "outputs": [],
   "source": [
    "tbl_income = tbl_income[tbl_income[\"total_earners\"] != \"np\"]\n",
    "tbl_income[\"total_earners\"] = pd.to_numeric(tbl_income[\"total_earners\"])\n",
    "tbl_income[\"median_age\"] = pd.to_numeric(tbl_income[\"median_age\"])\n",
    "tbl_income[\"income_sum\"] = pd.to_numeric(tbl_income[\"income_sum\"])\n",
    "tbl_income[\"income_median\"] = pd.to_numeric(tbl_income[\"income_median\"])\n",
    "tbl_income[\"income_mean\"] = pd.to_numeric(tbl_income[\"income_mean\"])"
   ]
  },
  {
   "cell_type": "code",
   "execution_count": 5,
   "metadata": {},
   "outputs": [],
   "source": [
    "tbl_income.to_csv(curated_data+\"clean_annual.csv\")"
   ]
  },
  {
   "cell_type": "markdown",
   "metadata": {},
   "source": [
    "<h3>1.2 Clean \"population\"</h3>"
   ]
  },
  {
   "cell_type": "code",
   "execution_count": 6,
   "metadata": {},
   "outputs": [],
   "source": [
    "tbl_population.drop(tbl_population.columns[0:8], axis=1, inplace=True)\n",
    "tbl_population.drop(tbl_population.columns[1:22], axis=1, inplace=True)\n",
    "tbl_population.drop(tbl_population.columns[2:6], axis=1, inplace=True)"
   ]
  },
  {
   "cell_type": "code",
   "execution_count": 7,
   "metadata": {},
   "outputs": [
    {
     "data": {
      "text/html": [
       "<div>\n",
       "<style scoped>\n",
       "    .dataframe tbody tr th:only-of-type {\n",
       "        vertical-align: middle;\n",
       "    }\n",
       "\n",
       "    .dataframe tbody tr th {\n",
       "        vertical-align: top;\n",
       "    }\n",
       "\n",
       "    .dataframe thead th {\n",
       "        text-align: right;\n",
       "    }\n",
       "</style>\n",
       "<table border=\"1\" class=\"dataframe\">\n",
       "  <thead>\n",
       "    <tr style=\"text-align: right;\">\n",
       "      <th></th>\n",
       "      <th>sa2</th>\n",
       "      <th>2021_population</th>\n",
       "      <th>km2</th>\n",
       "      <th>persons/km2</th>\n",
       "    </tr>\n",
       "  </thead>\n",
       "  <tbody>\n",
       "    <tr>\n",
       "      <th>0</th>\n",
       "      <td>101021007</td>\n",
       "      <td>4330.0</td>\n",
       "      <td>3418.4</td>\n",
       "      <td>1.3</td>\n",
       "    </tr>\n",
       "    <tr>\n",
       "      <th>1</th>\n",
       "      <td>101021008</td>\n",
       "      <td>8546.0</td>\n",
       "      <td>7.0</td>\n",
       "      <td>1223.9</td>\n",
       "    </tr>\n",
       "    <tr>\n",
       "      <th>2</th>\n",
       "      <td>101021009</td>\n",
       "      <td>11370.0</td>\n",
       "      <td>4.8</td>\n",
       "      <td>2387.7</td>\n",
       "    </tr>\n",
       "    <tr>\n",
       "      <th>3</th>\n",
       "      <td>101021010</td>\n",
       "      <td>5093.0</td>\n",
       "      <td>13.0</td>\n",
       "      <td>391.7</td>\n",
       "    </tr>\n",
       "    <tr>\n",
       "      <th>4</th>\n",
       "      <td>101021012</td>\n",
       "      <td>12743.0</td>\n",
       "      <td>13.7</td>\n",
       "      <td>931.9</td>\n",
       "    </tr>\n",
       "    <tr>\n",
       "      <th>...</th>\n",
       "      <td>...</td>\n",
       "      <td>...</td>\n",
       "      <td>...</td>\n",
       "      <td>...</td>\n",
       "    </tr>\n",
       "    <tr>\n",
       "      <th>2449</th>\n",
       "      <td>801111141</td>\n",
       "      <td>67.0</td>\n",
       "      <td>1202.8</td>\n",
       "      <td>0.1</td>\n",
       "    </tr>\n",
       "    <tr>\n",
       "      <th>2450</th>\n",
       "      <td>901011001</td>\n",
       "      <td>1716.0</td>\n",
       "      <td>136.1</td>\n",
       "      <td>12.6</td>\n",
       "    </tr>\n",
       "    <tr>\n",
       "      <th>2451</th>\n",
       "      <td>901021002</td>\n",
       "      <td>602.0</td>\n",
       "      <td>13.7</td>\n",
       "      <td>43.9</td>\n",
       "    </tr>\n",
       "    <tr>\n",
       "      <th>2452</th>\n",
       "      <td>901031003</td>\n",
       "      <td>310.0</td>\n",
       "      <td>67.2</td>\n",
       "      <td>4.6</td>\n",
       "    </tr>\n",
       "    <tr>\n",
       "      <th>2453</th>\n",
       "      <td>901041004</td>\n",
       "      <td>2220.0</td>\n",
       "      <td>38.7</td>\n",
       "      <td>57.4</td>\n",
       "    </tr>\n",
       "  </tbody>\n",
       "</table>\n",
       "<p>2454 rows × 4 columns</p>\n",
       "</div>"
      ],
      "text/plain": [
       "            sa2  2021_population     km2  persons/km2\n",
       "0     101021007           4330.0  3418.4          1.3\n",
       "1     101021008           8546.0     7.0       1223.9\n",
       "2     101021009          11370.0     4.8       2387.7\n",
       "3     101021010           5093.0    13.0        391.7\n",
       "4     101021012          12743.0    13.7        931.9\n",
       "...         ...              ...     ...          ...\n",
       "2449  801111141             67.0  1202.8          0.1\n",
       "2450  901011001           1716.0   136.1         12.6\n",
       "2451  901021002            602.0    13.7         43.9\n",
       "2452  901031003            310.0    67.2          4.6\n",
       "2453  901041004           2220.0    38.7         57.4\n",
       "\n",
       "[2454 rows x 4 columns]"
      ]
     },
     "execution_count": 7,
     "metadata": {},
     "output_type": "execute_result"
    }
   ],
   "source": [
    "tbl_population.columns = [\"sa2\", \"2021_population\", \"km2\", \"persons/km2\"]\n",
    "tbl_population = tbl_population.dropna(axis=0, how='any', thresh=None, subset=\"sa2\", inplace=False)\n",
    "tbl_population['sa2'] = tbl_population['sa2'].astype(float).astype(int)\n",
    "tbl_population"
   ]
  },
  {
   "cell_type": "code",
   "execution_count": 8,
   "metadata": {},
   "outputs": [],
   "source": [
    "tbl_population.to_csv(curated_data+\"clean_population.csv\")"
   ]
  },
  {
   "cell_type": "markdown",
   "metadata": {},
   "source": [
    "<h3>1.3 Clean \"postcode_sa2\"</h3>"
   ]
  },
  {
   "cell_type": "code",
   "execution_count": 9,
   "metadata": {},
   "outputs": [],
   "source": [
    "postcode_2011_SA2_2011 = pd.ExcelFile(raw_data+\"1270055006_CG_POSTCODE_2011_SA2_2011.xls\")\n",
    "postcode_sa2 = pd.read_excel(postcode_2011_SA2_2011, \"Table 3\")"
   ]
  },
  {
   "cell_type": "code",
   "execution_count": 10,
   "metadata": {},
   "outputs": [],
   "source": [
    "postcode_sa2.drop(np.arange(0,6), inplace=True)\n",
    "postcode_sa2.drop(np.arange(5994,5997), inplace=True)\n",
    "\n",
    "postcode_sa2.drop(postcode_sa2.columns[3:6], axis=1, inplace=True)\n",
    "postcode_sa2.drop(postcode_sa2.columns[0], axis=1, inplace=True)\n",
    "postcode_sa2 = postcode_sa2.reset_index(drop=True)\n",
    "\n",
    "postcode_sa2.columns = ['postcode', 'sa2']\n",
    "postcode_sa2['sa2'] = pd.to_numeric(postcode_sa2['sa2'])"
   ]
  },
  {
   "cell_type": "code",
   "execution_count": 11,
   "metadata": {},
   "outputs": [],
   "source": [
    "postcode_sa2.to_csv(curated_data+\"postcode_sa2.csv\")"
   ]
  },
  {
   "cell_type": "markdown",
   "metadata": {},
   "source": [
    "<h2>2. Join external data</h2>"
   ]
  },
  {
   "cell_type": "markdown",
   "metadata": {},
   "source": [
    "<h3>2.1 Join \"annual income\" and \"population\"</h3>"
   ]
  },
  {
   "cell_type": "code",
   "execution_count": 12,
   "metadata": {},
   "outputs": [],
   "source": [
    "merge_income_population = tbl_income.merge(tbl_population, on='sa2', how='inner')"
   ]
  },
  {
   "cell_type": "code",
   "execution_count": 13,
   "metadata": {},
   "outputs": [
    {
     "data": {
      "text/html": [
       "<div>\n",
       "<style scoped>\n",
       "    .dataframe tbody tr th:only-of-type {\n",
       "        vertical-align: middle;\n",
       "    }\n",
       "\n",
       "    .dataframe tbody tr th {\n",
       "        vertical-align: top;\n",
       "    }\n",
       "\n",
       "    .dataframe thead th {\n",
       "        text-align: right;\n",
       "    }\n",
       "</style>\n",
       "<table border=\"1\" class=\"dataframe\">\n",
       "  <thead>\n",
       "    <tr style=\"text-align: right;\">\n",
       "      <th></th>\n",
       "      <th>sa2</th>\n",
       "      <th>sa2_name</th>\n",
       "      <th>total_earners</th>\n",
       "      <th>median_age</th>\n",
       "      <th>income_sum</th>\n",
       "      <th>income_median</th>\n",
       "      <th>income_mean</th>\n",
       "      <th>2021_population</th>\n",
       "      <th>km2</th>\n",
       "      <th>persons/km2</th>\n",
       "    </tr>\n",
       "  </thead>\n",
       "  <tbody>\n",
       "    <tr>\n",
       "      <th>0</th>\n",
       "      <td>101021007</td>\n",
       "      <td>Braidwood</td>\n",
       "      <td>2361</td>\n",
       "      <td>51</td>\n",
       "      <td>120763285</td>\n",
       "      <td>41593</td>\n",
       "      <td>51149</td>\n",
       "      <td>4330.0</td>\n",
       "      <td>3418.4</td>\n",
       "      <td>1.3</td>\n",
       "    </tr>\n",
       "    <tr>\n",
       "      <th>1</th>\n",
       "      <td>101021008</td>\n",
       "      <td>Karabar</td>\n",
       "      <td>5100</td>\n",
       "      <td>42</td>\n",
       "      <td>338308979</td>\n",
       "      <td>61777</td>\n",
       "      <td>66335</td>\n",
       "      <td>8546.0</td>\n",
       "      <td>7.0</td>\n",
       "      <td>1223.9</td>\n",
       "    </tr>\n",
       "    <tr>\n",
       "      <th>2</th>\n",
       "      <td>101021009</td>\n",
       "      <td>Queanbeyan</td>\n",
       "      <td>6697</td>\n",
       "      <td>39</td>\n",
       "      <td>441160946</td>\n",
       "      <td>60119</td>\n",
       "      <td>65874</td>\n",
       "      <td>11370.0</td>\n",
       "      <td>4.8</td>\n",
       "      <td>2387.7</td>\n",
       "    </tr>\n",
       "    <tr>\n",
       "      <th>3</th>\n",
       "      <td>101021010</td>\n",
       "      <td>Queanbeyan - East</td>\n",
       "      <td>3393</td>\n",
       "      <td>40</td>\n",
       "      <td>237035656</td>\n",
       "      <td>63051</td>\n",
       "      <td>69860</td>\n",
       "      <td>5093.0</td>\n",
       "      <td>13.0</td>\n",
       "      <td>391.7</td>\n",
       "    </tr>\n",
       "    <tr>\n",
       "      <th>4</th>\n",
       "      <td>101021012</td>\n",
       "      <td>Queanbeyan West - Jerrabomberra</td>\n",
       "      <td>8476</td>\n",
       "      <td>44</td>\n",
       "      <td>725602722</td>\n",
       "      <td>73851</td>\n",
       "      <td>85607</td>\n",
       "      <td>12743.0</td>\n",
       "      <td>13.7</td>\n",
       "      <td>931.9</td>\n",
       "    </tr>\n",
       "    <tr>\n",
       "      <th>...</th>\n",
       "      <td>...</td>\n",
       "      <td>...</td>\n",
       "      <td>...</td>\n",
       "      <td>...</td>\n",
       "      <td>...</td>\n",
       "      <td>...</td>\n",
       "      <td>...</td>\n",
       "      <td>...</td>\n",
       "      <td>...</td>\n",
       "      <td>...</td>\n",
       "    </tr>\n",
       "    <tr>\n",
       "      <th>2099</th>\n",
       "      <td>801101135</td>\n",
       "      <td>Coombs</td>\n",
       "      <td>2270</td>\n",
       "      <td>35</td>\n",
       "      <td>179834174</td>\n",
       "      <td>74179</td>\n",
       "      <td>79222</td>\n",
       "      <td>4834.0</td>\n",
       "      <td>2.3</td>\n",
       "      <td>2085.6</td>\n",
       "    </tr>\n",
       "    <tr>\n",
       "      <th>2100</th>\n",
       "      <td>801101136</td>\n",
       "      <td>Denman Prospect</td>\n",
       "      <td>416</td>\n",
       "      <td>38</td>\n",
       "      <td>41056005</td>\n",
       "      <td>90337</td>\n",
       "      <td>98692</td>\n",
       "      <td>2719.0</td>\n",
       "      <td>4.7</td>\n",
       "      <td>573.2</td>\n",
       "    </tr>\n",
       "    <tr>\n",
       "      <th>2101</th>\n",
       "      <td>801101139</td>\n",
       "      <td>Wright</td>\n",
       "      <td>2121</td>\n",
       "      <td>35</td>\n",
       "      <td>182421537</td>\n",
       "      <td>79150</td>\n",
       "      <td>86007</td>\n",
       "      <td>3806.0</td>\n",
       "      <td>1.3</td>\n",
       "      <td>2993.1</td>\n",
       "    </tr>\n",
       "    <tr>\n",
       "      <th>2102</th>\n",
       "      <td>801111140</td>\n",
       "      <td>ACT - South West</td>\n",
       "      <td>355</td>\n",
       "      <td>40</td>\n",
       "      <td>26069449</td>\n",
       "      <td>64227</td>\n",
       "      <td>73435</td>\n",
       "      <td>554.0</td>\n",
       "      <td>416.8</td>\n",
       "      <td>1.3</td>\n",
       "    </tr>\n",
       "    <tr>\n",
       "      <th>2103</th>\n",
       "      <td>801111141</td>\n",
       "      <td>Namadgi</td>\n",
       "      <td>18</td>\n",
       "      <td>27</td>\n",
       "      <td>706999</td>\n",
       "      <td>40479</td>\n",
       "      <td>39278</td>\n",
       "      <td>67.0</td>\n",
       "      <td>1202.8</td>\n",
       "      <td>0.1</td>\n",
       "    </tr>\n",
       "  </tbody>\n",
       "</table>\n",
       "<p>2104 rows × 10 columns</p>\n",
       "</div>"
      ],
      "text/plain": [
       "            sa2                         sa2_name  total_earners  median_age  \\\n",
       "0     101021007                        Braidwood           2361          51   \n",
       "1     101021008                          Karabar           5100          42   \n",
       "2     101021009                       Queanbeyan           6697          39   \n",
       "3     101021010                Queanbeyan - East           3393          40   \n",
       "4     101021012  Queanbeyan West - Jerrabomberra           8476          44   \n",
       "...         ...                              ...            ...         ...   \n",
       "2099  801101135                           Coombs           2270          35   \n",
       "2100  801101136                  Denman Prospect            416          38   \n",
       "2101  801101139                           Wright           2121          35   \n",
       "2102  801111140                 ACT - South West            355          40   \n",
       "2103  801111141                          Namadgi             18          27   \n",
       "\n",
       "      income_sum  income_median  income_mean  2021_population     km2  \\\n",
       "0      120763285          41593        51149           4330.0  3418.4   \n",
       "1      338308979          61777        66335           8546.0     7.0   \n",
       "2      441160946          60119        65874          11370.0     4.8   \n",
       "3      237035656          63051        69860           5093.0    13.0   \n",
       "4      725602722          73851        85607          12743.0    13.7   \n",
       "...          ...            ...          ...              ...     ...   \n",
       "2099   179834174          74179        79222           4834.0     2.3   \n",
       "2100    41056005          90337        98692           2719.0     4.7   \n",
       "2101   182421537          79150        86007           3806.0     1.3   \n",
       "2102    26069449          64227        73435            554.0   416.8   \n",
       "2103      706999          40479        39278             67.0  1202.8   \n",
       "\n",
       "      persons/km2  \n",
       "0             1.3  \n",
       "1          1223.9  \n",
       "2          2387.7  \n",
       "3           391.7  \n",
       "4           931.9  \n",
       "...           ...  \n",
       "2099       2085.6  \n",
       "2100        573.2  \n",
       "2101       2993.1  \n",
       "2102          1.3  \n",
       "2103          0.1  \n",
       "\n",
       "[2104 rows x 10 columns]"
      ]
     },
     "execution_count": 13,
     "metadata": {},
     "output_type": "execute_result"
    }
   ],
   "source": [
    "merge_income_population"
   ]
  },
  {
   "cell_type": "markdown",
   "metadata": {},
   "source": [
    "<h3>2.2 Join \"merge_income_population\" and \"postcode_sa2\"</h3>"
   ]
  },
  {
   "cell_type": "code",
   "execution_count": 14,
   "metadata": {},
   "outputs": [],
   "source": [
    "merge_income_population_postcode = merge_income_population.merge(postcode_sa2, on='sa2', how='left')\n",
    "merge_income_population_postcode = merge_income_population_postcode.dropna(axis=0, how='any', thresh=None, subset=\"postcode\", inplace=False)"
   ]
  },
  {
   "cell_type": "code",
   "execution_count": 15,
   "metadata": {},
   "outputs": [],
   "source": [
    "agg_income_population_postcode = merge_income_population_postcode.groupby(\"postcode\").agg(\n",
    "    {\n",
    "    \"total_earners\": \"sum\",\n",
    "    \"median_age\": \"mean\",\n",
    "    \"income_sum\": \"sum\",\n",
    "    \"2021_population\": \"sum\",\n",
    "    \"km2\": \"sum\"\n",
    "    }\n",
    ").reset_index()"
   ]
  },
  {
   "cell_type": "code",
   "execution_count": 16,
   "metadata": {},
   "outputs": [
    {
     "data": {
      "text/html": [
       "<div>\n",
       "<style scoped>\n",
       "    .dataframe tbody tr th:only-of-type {\n",
       "        vertical-align: middle;\n",
       "    }\n",
       "\n",
       "    .dataframe tbody tr th {\n",
       "        vertical-align: top;\n",
       "    }\n",
       "\n",
       "    .dataframe thead th {\n",
       "        text-align: right;\n",
       "    }\n",
       "</style>\n",
       "<table border=\"1\" class=\"dataframe\">\n",
       "  <thead>\n",
       "    <tr style=\"text-align: right;\">\n",
       "      <th></th>\n",
       "      <th>postcode</th>\n",
       "      <th>total_earners</th>\n",
       "      <th>median_age</th>\n",
       "      <th>income_sum</th>\n",
       "      <th>2021_population</th>\n",
       "      <th>km2</th>\n",
       "    </tr>\n",
       "  </thead>\n",
       "  <tbody>\n",
       "    <tr>\n",
       "      <th>0</th>\n",
       "      <td>0800</td>\n",
       "      <td>5632</td>\n",
       "      <td>33.000000</td>\n",
       "      <td>420609031</td>\n",
       "      <td>7679.0</td>\n",
       "      <td>3.2</td>\n",
       "    </tr>\n",
       "    <tr>\n",
       "      <th>1</th>\n",
       "      <td>0810</td>\n",
       "      <td>21932</td>\n",
       "      <td>39.583333</td>\n",
       "      <td>1574969237</td>\n",
       "      <td>36216.0</td>\n",
       "      <td>24.3</td>\n",
       "    </tr>\n",
       "    <tr>\n",
       "      <th>2</th>\n",
       "      <td>0812</td>\n",
       "      <td>11443</td>\n",
       "      <td>42.000000</td>\n",
       "      <td>801236575</td>\n",
       "      <td>19888.0</td>\n",
       "      <td>12.0</td>\n",
       "    </tr>\n",
       "    <tr>\n",
       "      <th>3</th>\n",
       "      <td>0820</td>\n",
       "      <td>15219</td>\n",
       "      <td>39.555556</td>\n",
       "      <td>1235996605</td>\n",
       "      <td>22877.0</td>\n",
       "      <td>67.8</td>\n",
       "    </tr>\n",
       "    <tr>\n",
       "      <th>4</th>\n",
       "      <td>0822</td>\n",
       "      <td>21869</td>\n",
       "      <td>40.142857</td>\n",
       "      <td>1425664118</td>\n",
       "      <td>61406.0</td>\n",
       "      <td>248437.3</td>\n",
       "    </tr>\n",
       "    <tr>\n",
       "      <th>...</th>\n",
       "      <td>...</td>\n",
       "      <td>...</td>\n",
       "      <td>...</td>\n",
       "      <td>...</td>\n",
       "      <td>...</td>\n",
       "      <td>...</td>\n",
       "    </tr>\n",
       "    <tr>\n",
       "      <th>2416</th>\n",
       "      <td>7466</td>\n",
       "      <td>1985</td>\n",
       "      <td>45.000000</td>\n",
       "      <td>115705864</td>\n",
       "      <td>4373.0</td>\n",
       "      <td>3931.6</td>\n",
       "    </tr>\n",
       "    <tr>\n",
       "      <th>2417</th>\n",
       "      <td>7467</td>\n",
       "      <td>1985</td>\n",
       "      <td>45.000000</td>\n",
       "      <td>115705864</td>\n",
       "      <td>4373.0</td>\n",
       "      <td>3931.6</td>\n",
       "    </tr>\n",
       "    <tr>\n",
       "      <th>2418</th>\n",
       "      <td>7468</td>\n",
       "      <td>1985</td>\n",
       "      <td>45.000000</td>\n",
       "      <td>115705864</td>\n",
       "      <td>4373.0</td>\n",
       "      <td>3931.6</td>\n",
       "    </tr>\n",
       "    <tr>\n",
       "      <th>2419</th>\n",
       "      <td>7469</td>\n",
       "      <td>1985</td>\n",
       "      <td>45.000000</td>\n",
       "      <td>115705864</td>\n",
       "      <td>4373.0</td>\n",
       "      <td>3931.6</td>\n",
       "    </tr>\n",
       "    <tr>\n",
       "      <th>2420</th>\n",
       "      <td>7470</td>\n",
       "      <td>1985</td>\n",
       "      <td>45.000000</td>\n",
       "      <td>115705864</td>\n",
       "      <td>4373.0</td>\n",
       "      <td>3931.6</td>\n",
       "    </tr>\n",
       "  </tbody>\n",
       "</table>\n",
       "<p>2421 rows × 6 columns</p>\n",
       "</div>"
      ],
      "text/plain": [
       "     postcode  total_earners  median_age  income_sum  2021_population  \\\n",
       "0        0800           5632   33.000000   420609031           7679.0   \n",
       "1        0810          21932   39.583333  1574969237          36216.0   \n",
       "2        0812          11443   42.000000   801236575          19888.0   \n",
       "3        0820          15219   39.555556  1235996605          22877.0   \n",
       "4        0822          21869   40.142857  1425664118          61406.0   \n",
       "...       ...            ...         ...         ...              ...   \n",
       "2416     7466           1985   45.000000   115705864           4373.0   \n",
       "2417     7467           1985   45.000000   115705864           4373.0   \n",
       "2418     7468           1985   45.000000   115705864           4373.0   \n",
       "2419     7469           1985   45.000000   115705864           4373.0   \n",
       "2420     7470           1985   45.000000   115705864           4373.0   \n",
       "\n",
       "           km2  \n",
       "0          3.2  \n",
       "1         24.3  \n",
       "2         12.0  \n",
       "3         67.8  \n",
       "4     248437.3  \n",
       "...        ...  \n",
       "2416    3931.6  \n",
       "2417    3931.6  \n",
       "2418    3931.6  \n",
       "2419    3931.6  \n",
       "2420    3931.6  \n",
       "\n",
       "[2421 rows x 6 columns]"
      ]
     },
     "execution_count": 16,
     "metadata": {},
     "output_type": "execute_result"
    }
   ],
   "source": [
    "agg_income_population_postcode"
   ]
  },
  {
   "cell_type": "markdown",
   "metadata": {},
   "source": [
    "<h3>2.3 Join \"agg_income_population_postcode\" and \"mechant_consumer_info\" (internal data)</h3>"
   ]
  },
  {
   "cell_type": "code",
   "execution_count": 17,
   "metadata": {},
   "outputs": [
    {
     "name": "stderr",
     "output_type": "stream",
     "text": [
      "                                                                                \r"
     ]
    }
   ],
   "source": [
    "merchant_consumer_info = spark.read.parquet(curated_data+\"mechant_consumer_info\")"
   ]
  },
  {
   "cell_type": "code",
   "execution_count": 18,
   "metadata": {},
   "outputs": [],
   "source": [
    "# merchant_consumer_info[\"consumer_postcode\"] = merchant_consumer_info[\"consumer_postcode\"].str.pad(width=4, fillchar=\"0\", side=\"left\")\n",
    "merchant_consumer_info = merchant_consumer_info.withColumn(\"consumer_postcode\", lpad(col(\"consumer_postcode\"), 4, \"0\"))"
   ]
  },
  {
   "cell_type": "code",
   "execution_count": 19,
   "metadata": {},
   "outputs": [],
   "source": [
    "agg_income_population_postcode = spark.createDataFrame(agg_income_population_postcode) "
   ]
  },
  {
   "cell_type": "code",
   "execution_count": 21,
   "metadata": {},
   "outputs": [],
   "source": [
    "agg_income_population_postcode.createOrReplaceTempView('agg_income_population_postcode')\n",
    "merchant_consumer_info.createOrReplaceTempView('merchant_consumer_info')\n",
    "\n",
    "final_table = spark.sql(\"\"\"\n",
    "SELECT \n",
    "    *\n",
    "FROM \n",
    "    agg_income_population_postcode\n",
    "RIGHT JOIN\n",
    "    merchant_consumer_info\n",
    "ON \n",
    "    agg_income_population_postcode.postcode = merchant_consumer_info.consumer_postcode\n",
    "\"\"\")"
   ]
  },
  {
   "cell_type": "code",
   "execution_count": 32,
   "metadata": {},
   "outputs": [
    {
     "name": "stderr",
     "output_type": "stream",
     "text": [
      "                                                                                \r"
     ]
    },
    {
     "data": {
      "text/html": [
       "<table border='1'>\n",
       "<tr><th>count(DISTINCT consumer_postcode)</th></tr>\n",
       "<tr><td>746</td></tr>\n",
       "</table>\n"
      ],
      "text/plain": [
       "+---------------------------------+\n",
       "|count(DISTINCT consumer_postcode)|\n",
       "+---------------------------------+\n",
       "|                              746|\n",
       "+---------------------------------+"
      ]
     },
     "execution_count": 32,
     "metadata": {},
     "output_type": "execute_result"
    }
   ],
   "source": [
    "(final_table.where(col(\"income_sum\").isNull())).select(countDistinct(\"consumer_postcode\"))\n",
    "# print(f\"Mismatched (null) transactions dropped: {merchant_consumer_info.shape[0] - final_table.shape[0]}\")"
   ]
  },
  {
   "cell_type": "code",
   "execution_count": 33,
   "metadata": {},
   "outputs": [
    {
     "data": {
      "text/html": [
       "<table border='1'>\n",
       "<tr><th>postcode</th><th>total_earners</th><th>median_age</th><th>income_sum</th><th>2021_population</th><th>km2</th><th>merchant_name</th><th>products</th><th>revenue_level</th><th>take_rate</th><th>dollar_value</th><th>order_datetime</th><th>consumer</th><th>consumer_address</th><th>consumer_state</th><th>consumer_postcode</th><th>consumer_gender</th><th>__index_level_0__</th></tr>\n",
       "<tr><td>2323</td><td>17295</td><td>42.666666666666664</td><td>1016410771</td><td>35881.0</td><td>1933.0</td><td>Magna Sed Institute</td><td>[cable, satellite...</td><td>e</td><td>0.31</td><td>9.737964095722326</td><td>2021-05-10</td><td>Brian Barnett</td><td>989 Robinson Street</td><td>NSW</td><td>2323</td><td>Male</td><td>3</td></tr>\n",
       "<tr><td>2323</td><td>17295</td><td>42.666666666666664</td><td>1016410771</td><td>35881.0</td><td>1933.0</td><td>Et Nunc Consulting</td><td>[books, periodica...</td><td>e</td><td>0.16</td><td>770.1754014299855</td><td>2021-11-19</td><td>Brian Barnett</td><td>989 Robinson Street</td><td>NSW</td><td>2323</td><td>Male</td><td>4</td></tr>\n",
       "<tr><td>2396</td><td>3642</td><td>49.0</td><td>137575970</td><td>7946.0</td><td>10474.1</td><td>Nunc Est LLP</td><td>[watch, clock, an...</td><td>e</td><td>0.22</td><td>186.91415986083496</td><td>2021-05-27</td><td>Roberto Robbins</td><td>3146 Eric Turnpik...</td><td>NSW</td><td>2396</td><td>Male</td><td>5</td></tr>\n",
       "<tr><td>2396</td><td>3642</td><td>49.0</td><td>137575970</td><td>7946.0</td><td>10474.1</td><td>Felis Limited</td><td>[furniture, home,...</td><td>e</td><td>0.18</td><td>74.68707218671928</td><td>2021-08-11</td><td>Roberto Robbins</td><td>3146 Eric Turnpik...</td><td>NSW</td><td>2396</td><td>Male</td><td>6</td></tr>\n",
       "<tr><td>2396</td><td>3642</td><td>49.0</td><td>137575970</td><td>7946.0</td><td>10474.1</td><td>Metus Sit Amet In...</td><td>[cable, satellite...</td><td>e</td><td>0.38</td><td>20.49850981713674</td><td>2021-07-04</td><td>Roberto Robbins</td><td>3146 Eric Turnpik...</td><td>NSW</td><td>2396</td><td>Male</td><td>7</td></tr>\n",
       "<tr><td>2396</td><td>3642</td><td>49.0</td><td>137575970</td><td>7946.0</td><td>10474.1</td><td>Elit Consulting</td><td>[antique, shops, ...</td><td>e</td><td>0.47</td><td>316.7257267436573</td><td>2021-03-05</td><td>Roberto Robbins</td><td>3146 Eric Turnpik...</td><td>NSW</td><td>2396</td><td>Male</td><td>8</td></tr>\n",
       "<tr><td>2396</td><td>3642</td><td>49.0</td><td>137575970</td><td>7946.0</td><td>10474.1</td><td>Nullam Vitae Diam PC</td><td>[opticians, optic...</td><td>e</td><td>0.22</td><td>72.77954022414646</td><td>2021-09-13</td><td>Roberto Robbins</td><td>3146 Eric Turnpik...</td><td>NSW</td><td>2396</td><td>Male</td><td>9</td></tr>\n",
       "<tr><td>2396</td><td>3642</td><td>49.0</td><td>137575970</td><td>7946.0</td><td>10474.1</td><td>Metus Sit Amet In...</td><td>[cable, satellite...</td><td>e</td><td>0.38</td><td>57.27484630595788</td><td>2022-08-20</td><td>Roberto Robbins</td><td>3146 Eric Turnpik...</td><td>NSW</td><td>2396</td><td>Male</td><td>10</td></tr>\n",
       "<tr><td>null</td><td>null</td><td>null</td><td>null</td><td>null</td><td>null</td><td>Et Nunc Consulting</td><td>[books, periodica...</td><td>e</td><td>0.16</td><td>147.74061765538696</td><td>2021-12-09</td><td>Allison Stevens</td><td>60866 Miller Avenue</td><td>NSW</td><td>1193</td><td>Female</td><td>11</td></tr>\n",
       "<tr><td>null</td><td>null</td><td>null</td><td>null</td><td>null</td><td>null</td><td>Dis Parturient Co...</td><td>[gift, card, nove...</td><td>e</td><td>0.24</td><td>140.36239513919142</td><td>2021-11-08</td><td>Allison Stevens</td><td>60866 Miller Avenue</td><td>NSW</td><td>1193</td><td>Female</td><td>12</td></tr>\n",
       "<tr><td>null</td><td>null</td><td>null</td><td>null</td><td>null</td><td>null</td><td>Augue Eu Tempor A...</td><td>[cable, satellite...</td><td>e</td><td>0.38</td><td>36.24855550060353</td><td>2022-10-06</td><td>Allison Stevens</td><td>60866 Miller Avenue</td><td>NSW</td><td>1193</td><td>Female</td><td>13</td></tr>\n",
       "<tr><td>2299</td><td>32828</td><td>38.75</td><td>2002030033</td><td>64000.0</td><td>49.8</td><td>Eget Metus Eu Ins...</td><td>[shoe, shops]</td><td>e</td><td>0.42</td><td>328.2580328433202</td><td>2021-07-02</td><td>Christopher Rodri...</td><td>30554 Evans Strea...</td><td>NSW</td><td>2299</td><td>Male</td><td>0</td></tr>\n",
       "<tr><td>2299</td><td>32828</td><td>38.75</td><td>2002030033</td><td>64000.0</td><td>49.8</td><td>Feugiat Nec Diam LLC</td><td>[computers, compu...</td><td>e</td><td>0.3</td><td>1.2741967656358493</td><td>2021-09-01</td><td>Christopher Rodri...</td><td>30554 Evans Strea...</td><td>NSW</td><td>2299</td><td>Male</td><td>1</td></tr>\n",
       "<tr><td>2299</td><td>32828</td><td>38.75</td><td>2002030033</td><td>64000.0</td><td>49.8</td><td>Et Nunc Consulting</td><td>[books, periodica...</td><td>e</td><td>0.16</td><td>263.7003863435179</td><td>2022-03-27</td><td>Christopher Rodri...</td><td>30554 Evans Strea...</td><td>NSW</td><td>2299</td><td>Male</td><td>2</td></tr>\n",
       "<tr><td>null</td><td>null</td><td>null</td><td>null</td><td>null</td><td>null</td><td>Et Nunc Consulting</td><td>[books, periodica...</td><td>e</td><td>0.16</td><td>32.008018380323975</td><td>2021-11-28</td><td>Kelly Krueger</td><td>039 Green Route</td><td>WA</td><td>6935</td><td>Undisclosed</td><td>14</td></tr>\n",
       "<tr><td>null</td><td>null</td><td>null</td><td>null</td><td>null</td><td>null</td><td>Felis Limited</td><td>[furniture, home,...</td><td>e</td><td>0.18</td><td>319.4986425058244</td><td>2021-12-28</td><td>Kelly Krueger</td><td>039 Green Route</td><td>WA</td><td>6935</td><td>Undisclosed</td><td>15</td></tr>\n",
       "<tr><td>null</td><td>null</td><td>null</td><td>null</td><td>null</td><td>null</td><td>Nunc Est LLP</td><td>[watch, clock, an...</td><td>e</td><td>0.22</td><td>41.535731595446364</td><td>2021-10-08</td><td>Kelly Krueger</td><td>039 Green Route</td><td>WA</td><td>6935</td><td>Undisclosed</td><td>16</td></tr>\n",
       "<tr><td>null</td><td>null</td><td>null</td><td>null</td><td>null</td><td>null</td><td>Ante Industries</td><td>[motor, vehicle, ...</td><td>e</td><td>0.35</td><td>86.65631054124275</td><td>2022-09-21</td><td>Kelly Krueger</td><td>039 Green Route</td><td>WA</td><td>6935</td><td>Undisclosed</td><td>17</td></tr>\n",
       "<tr><td>null</td><td>null</td><td>null</td><td>null</td><td>null</td><td>null</td><td>Metus Sit Amet In...</td><td>[cable, satellite...</td><td>e</td><td>0.38</td><td>36.97174094574666</td><td>2022-05-27</td><td>Kelly Krueger</td><td>039 Green Route</td><td>WA</td><td>6935</td><td>Undisclosed</td><td>18</td></tr>\n",
       "<tr><td>null</td><td>null</td><td>null</td><td>null</td><td>null</td><td>null</td><td>Et Nunc Consulting</td><td>[books, periodica...</td><td>e</td><td>0.16</td><td>35.82192681169296</td><td>2022-06-03</td><td>Kelly Krueger</td><td>039 Green Route</td><td>WA</td><td>6935</td><td>Undisclosed</td><td>19</td></tr>\n",
       "</table>\n",
       "only showing top 20 rows\n"
      ],
      "text/plain": [
       "DataFrame[postcode: string, total_earners: bigint, median_age: double, income_sum: bigint, 2021_population: double, km2: double, merchant_name: string, products: array<string>, revenue_level: string, take_rate: double, dollar_value: double, order_datetime: date, consumer: string, consumer_address: string, consumer_state: string, consumer_postcode: string, consumer_gender: string, __index_level_0__: bigint]"
      ]
     },
     "execution_count": 33,
     "metadata": {},
     "output_type": "execute_result"
    }
   ],
   "source": [
    "final_table"
   ]
  },
  {
   "cell_type": "code",
   "execution_count": 26,
   "metadata": {},
   "outputs": [
    {
     "name": "stderr",
     "output_type": "stream",
     "text": [
      "                                                                                \r"
     ]
    }
   ],
   "source": [
    "final_table.write.parquet(curated_data+\"transact_abs.parquet\")"
   ]
  }
 ],
 "metadata": {
  "kernelspec": {
   "display_name": "Python 3.9.12 64-bit",
   "language": "python",
   "name": "python3"
  },
  "language_info": {
   "codemirror_mode": {
    "name": "ipython",
    "version": 3
   },
   "file_extension": ".py",
   "mimetype": "text/x-python",
   "name": "python",
   "nbconvert_exporter": "python",
   "pygments_lexer": "ipython3",
   "version": "3.9.12"
  },
  "orig_nbformat": 4,
  "vscode": {
   "interpreter": {
    "hash": "949777d72b0d2535278d3dc13498b2535136f6dfe0678499012e853ee9abcab1"
   }
  }
 },
 "nbformat": 4,
 "nbformat_minor": 2
}
