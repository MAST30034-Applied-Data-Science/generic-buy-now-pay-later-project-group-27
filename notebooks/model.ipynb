{
 "cells": [
  {
   "cell_type": "code",
   "execution_count": 1,
   "metadata": {},
   "outputs": [
    {
     "name": "stderr",
     "output_type": "stream",
     "text": [
      "Setting default log level to \"WARN\".\n",
      "To adjust logging level use sc.setLogLevel(newLevel). For SparkR, use setLogLevel(newLevel).\n"
     ]
    },
    {
     "name": "stdout",
     "output_type": "stream",
     "text": [
      "22/10/07 23:05:55 WARN NativeCodeLoader: Unable to load native-hadoop library for your platform... using builtin-java classes where applicable\n",
      "22/10/07 23:06:01 WARN Utils: Service 'SparkUI' could not bind on port 4040. Attempting port 4041.\n",
      "22/10/07 23:06:01 WARN Utils: Service 'SparkUI' could not bind on port 4041. Attempting port 4042.\n"
     ]
    }
   ],
   "source": [
    "from pyspark.sql import SparkSession, functions as F\n",
    "from pyspark.sql.functions import *\n",
    "from pyspark.ml.regression import GBTRegressor\n",
    "import numpy as np\n",
    "\n",
    "spark = (\n",
    "    SparkSession.builder.appName(\"ADS project 2\")\n",
    "    .config(\"spark.sql.repl.eagerEval.enabled\", True) \n",
    "    .config(\"spark.sql.parquet.cacheMetadata\", \"true\")\n",
    "    .config(\"spark.sql.session.timeZone\", \"Etc/UTC\")\n",
    "    .config(\"spark.executor.memory\", \"2g\")\n",
    "    .config(\"spark.driver.memory\", \"4g\")\n",
    "    .getOrCreate()\n",
    ")"
   ]
  },
  {
   "cell_type": "code",
   "execution_count": 2,
   "metadata": {},
   "outputs": [
    {
     "name": "stderr",
     "output_type": "stream",
     "text": [
      "                                                                                \r"
     ]
    }
   ],
   "source": [
    "df = spark.read.parquet('../data/curated/merchant_consumer_abs')"
   ]
  },
  {
   "cell_type": "code",
   "execution_count": 3,
   "metadata": {},
   "outputs": [
    {
     "name": "stdout",
     "output_type": "stream",
     "text": [
      "22/10/07 23:06:13 WARN package: Truncated the string representation of a plan since it was too large. This behavior can be adjusted by setting 'spark.sql.debug.maxToStringFields'.\n"
     ]
    },
    {
     "name": "stderr",
     "output_type": "stream",
     "text": [
      "                                                                                \r"
     ]
    },
    {
     "data": {
      "text/html": [
       "<table border='1'>\n",
       "<tr><th>postcode</th><th>total_earners</th><th>median_age</th><th>income_sum</th><th>2021_population</th><th>km2</th><th>income_mean</th><th>persons/km2</th><th>merchant_name</th><th>revenue_level</th><th>user_id</th><th>order_datetime</th><th>products</th><th>take_rate</th><th>category</th><th>dollar_value</th><th>order_year</th><th>order_month</th><th>order_day</th><th>consumer</th><th>consumer_address</th><th>consumer_state</th><th>consumer_postcode</th><th>consumer_gender</th><th>fraud_group</th><th>__index_level_0__</th></tr>\n",
       "<tr><td>0800</td><td>5631.999973601934</td><td>36.75</td><td>4.20609029345557E8</td><td>7678.999968193022</td><td>3.199999994700948</td><td>74682.00129918633</td><td>2399.687494034091</td><td>Elit Sed Consequa...</td><td>a</td><td>10413</td><td>2022-04-27</td><td>artist supply and...</td><td>5.89</td><td>art and gifts</td><td>375.16773164703153</td><td>2022</td><td>4</td><td>27</td><td>Kelly Clayton</td><td>4211 Rodney Tunne...</td><td>NT</td><td>0800</td><td>Female</td><td>0</td><td>0</td></tr>\n",
       "<tr><td>0800</td><td>5631.999973601934</td><td>36.75</td><td>4.20609029345557E8</td><td>7678.999968193022</td><td>3.199999994700948</td><td>74682.00129918633</td><td>2399.687494034091</td><td>Elit Sed Consequa...</td><td>a</td><td>22246</td><td>2022-10-07</td><td>artist supply and...</td><td>5.89</td><td>art and gifts</td><td>617.8791313462011</td><td>2022</td><td>10</td><td>7</td><td>Corey Estrada</td><td>1703 Boyd Shore</td><td>NT</td><td>0800</td><td>Male</td><td>0</td><td>1</td></tr>\n",
       "<tr><td>0800</td><td>5631.999973601934</td><td>36.75</td><td>4.20609029345557E8</td><td>7678.999968193022</td><td>3.199999994700948</td><td>74682.00129918633</td><td>2399.687494034091</td><td>Elit Sed Consequa...</td><td>a</td><td>2681</td><td>2022-02-28</td><td>artist supply and...</td><td>5.89</td><td>art and gifts</td><td>766.5077067424303</td><td>2022</td><td>2</td><td>28</td><td>Nicole Bishop</td><td>467 Robert Island...</td><td>NT</td><td>0800</td><td>Female</td><td>0</td><td>2</td></tr>\n",
       "<tr><td>0800</td><td>5631.999973601934</td><td>36.75</td><td>4.20609029345557E8</td><td>7678.999968193022</td><td>3.199999994700948</td><td>74682.00129918633</td><td>2399.687494034091</td><td>Malesuada Vel Ltd</td><td>b</td><td>13454</td><td>2021-07-24</td><td>books periodicals...</td><td>3.56</td><td>books and music</td><td>258.86595899218753</td><td>2021</td><td>7</td><td>24</td><td>Natalie Herrera</td><td>88798 Saunders Hi...</td><td>NT</td><td>0800</td><td>Female</td><td>0</td><td>3</td></tr>\n",
       "<tr><td>0800</td><td>5631.999973601934</td><td>36.75</td><td>4.20609029345557E8</td><td>7678.999968193022</td><td>3.199999994700948</td><td>74682.00129918633</td><td>2399.687494034091</td><td>Varius Orci Insti...</td><td>a</td><td>10146</td><td>2021-08-08</td><td>tent and awning s...</td><td>6.3</td><td>outdoors</td><td>4.159037931172075</td><td>2021</td><td>8</td><td>8</td><td>Shannon Mann</td><td>00817 Owens Circle</td><td>NT</td><td>0800</td><td>Female</td><td>0</td><td>4</td></tr>\n",
       "<tr><td>0800</td><td>5631.999973601934</td><td>36.75</td><td>4.20609029345557E8</td><td>7678.999968193022</td><td>3.199999994700948</td><td>74682.00129918633</td><td>2399.687494034091</td><td>Volutpat Nulla In...</td><td>a</td><td>23093</td><td>2022-10-11</td><td>furniture home fu...</td><td>6.59</td><td>home and technology</td><td>8.26105405068297</td><td>2022</td><td>10</td><td>11</td><td>Robert Walker</td><td>646 Allison Ranch...</td><td>NT</td><td>0800</td><td>Male</td><td>0</td><td>5</td></tr>\n",
       "<tr><td>0800</td><td>5631.999973601934</td><td>36.75</td><td>4.20609029345557E8</td><td>7678.999968193022</td><td>3.199999994700948</td><td>74682.00129918633</td><td>2399.687494034091</td><td>Mollis Integer Co...</td><td>b</td><td>13454</td><td>2022-05-02</td><td>digital goods boo...</td><td>3.96</td><td>books and music</td><td>83.63154755239155</td><td>2022</td><td>5</td><td>2</td><td>Natalie Herrera</td><td>88798 Saunders Hi...</td><td>NT</td><td>0800</td><td>Female</td><td>0</td><td>6</td></tr>\n",
       "<tr><td>0800</td><td>5631.999973601934</td><td>36.75</td><td>4.20609029345557E8</td><td>7678.999968193022</td><td>3.199999994700948</td><td>74682.00129918633</td><td>2399.687494034091</td><td>Elit Sed Consequa...</td><td>a</td><td>13454</td><td>2021-04-08</td><td>artist supply and...</td><td>5.89</td><td>art and gifts</td><td>87.00495112586256</td><td>2021</td><td>4</td><td>8</td><td>Natalie Herrera</td><td>88798 Saunders Hi...</td><td>NT</td><td>0800</td><td>Female</td><td>0</td><td>7</td></tr>\n",
       "<tr><td>0800</td><td>5631.999973601934</td><td>36.75</td><td>4.20609029345557E8</td><td>7678.999968193022</td><td>3.199999994700948</td><td>74682.00129918633</td><td>2399.687494034091</td><td>Eros Limited</td><td>c</td><td>8092</td><td>2021-12-18</td><td>digital goods boo...</td><td>2.52</td><td>books and music</td><td>8.26187754879106</td><td>2021</td><td>12</td><td>18</td><td>Rebecca Owens</td><td>92579 Keith Neck ...</td><td>NT</td><td>0800</td><td>Female</td><td>0</td><td>8</td></tr>\n",
       "<tr><td>0800</td><td>5631.999973601934</td><td>36.75</td><td>4.20609029345557E8</td><td>7678.999968193022</td><td>3.199999994700948</td><td>74682.00129918633</td><td>2399.687494034091</td><td>Hendrerit A Corpo...</td><td>a</td><td>11203</td><td>2022-07-14</td><td>watch clock and j...</td><td>6.64</td><td>fashion and acces...</td><td>100.80643267043831</td><td>2022</td><td>7</td><td>14</td><td>John Rodriguez</td><td>563 Wallace Rue</td><td>NT</td><td>0800</td><td>Male</td><td>0</td><td>9</td></tr>\n",
       "<tr><td>0800</td><td>5631.999973601934</td><td>36.75</td><td>4.20609029345557E8</td><td>7678.999968193022</td><td>3.199999994700948</td><td>74682.00129918633</td><td>2399.687494034091</td><td>Pede Cras Vulputa...</td><td>a</td><td>22246</td><td>2021-07-18</td><td>health and beauty...</td><td>6.2</td><td>fashion and acces...</td><td>326.46199407890373</td><td>2021</td><td>7</td><td>18</td><td>Corey Estrada</td><td>1703 Boyd Shore</td><td>NT</td><td>0800</td><td>Male</td><td>0</td><td>10</td></tr>\n",
       "<tr><td>0800</td><td>5631.999973601934</td><td>36.75</td><td>4.20609029345557E8</td><td>7678.999968193022</td><td>3.199999994700948</td><td>74682.00129918633</td><td>2399.687494034091</td><td>Hendrerit A Corpo...</td><td>a</td><td>12972</td><td>2021-08-16</td><td>watch clock and j...</td><td>6.64</td><td>fashion and acces...</td><td>204.40538957685413</td><td>2021</td><td>8</td><td>16</td><td>Peter Brennan</td><td>13276 Vazquez Rap...</td><td>NT</td><td>0800</td><td>Undisclosed</td><td>0</td><td>11</td></tr>\n",
       "<tr><td>0800</td><td>5631.999973601934</td><td>36.75</td><td>4.20609029345557E8</td><td>7678.999968193022</td><td>3.199999994700948</td><td>74682.00129918633</td><td>2399.687494034091</td><td>Eros Limited</td><td>c</td><td>12972</td><td>2021-06-14</td><td>digital goods boo...</td><td>2.52</td><td>books and music</td><td>31.204086659483615</td><td>2021</td><td>6</td><td>14</td><td>Peter Brennan</td><td>13276 Vazquez Rap...</td><td>NT</td><td>0800</td><td>Undisclosed</td><td>0</td><td>12</td></tr>\n",
       "<tr><td>0800</td><td>5631.999973601934</td><td>36.75</td><td>4.20609029345557E8</td><td>7678.999968193022</td><td>3.199999994700948</td><td>74682.00129918633</td><td>2399.687494034091</td><td>Eros Limited</td><td>c</td><td>8092</td><td>2021-12-13</td><td>digital goods boo...</td><td>2.52</td><td>books and music</td><td>37.1880940325229</td><td>2021</td><td>12</td><td>13</td><td>Rebecca Owens</td><td>92579 Keith Neck ...</td><td>NT</td><td>0800</td><td>Female</td><td>0</td><td>13</td></tr>\n",
       "<tr><td>0800</td><td>5631.999973601934</td><td>36.75</td><td>4.20609029345557E8</td><td>7678.999968193022</td><td>3.199999994700948</td><td>74682.00129918633</td><td>2399.687494034091</td><td>Eros Limited</td><td>c</td><td>10146</td><td>2022-10-10</td><td>digital goods boo...</td><td>2.52</td><td>books and music</td><td>5.247567221175345</td><td>2022</td><td>10</td><td>10</td><td>Shannon Mann</td><td>00817 Owens Circle</td><td>NT</td><td>0800</td><td>Female</td><td>0</td><td>14</td></tr>\n",
       "<tr><td>0800</td><td>5631.999973601934</td><td>36.75</td><td>4.20609029345557E8</td><td>7678.999968193022</td><td>3.199999994700948</td><td>74682.00129918633</td><td>2399.687494034091</td><td>Eros Limited</td><td>c</td><td>10413</td><td>2021-11-27</td><td>digital goods boo...</td><td>2.52</td><td>books and music</td><td>12.918096138910116</td><td>2021</td><td>11</td><td>27</td><td>Kelly Clayton</td><td>4211 Rodney Tunne...</td><td>NT</td><td>0800</td><td>Female</td><td>0</td><td>15</td></tr>\n",
       "<tr><td>0800</td><td>5631.999973601934</td><td>36.75</td><td>4.20609029345557E8</td><td>7678.999968193022</td><td>3.199999994700948</td><td>74682.00129918633</td><td>2399.687494034091</td><td>Hendrerit A Corpo...</td><td>a</td><td>2681</td><td>2022-05-19</td><td>watch clock and j...</td><td>6.64</td><td>fashion and acces...</td><td>276.12651679041534</td><td>2022</td><td>5</td><td>19</td><td>Nicole Bishop</td><td>467 Robert Island...</td><td>NT</td><td>0800</td><td>Female</td><td>0</td><td>16</td></tr>\n",
       "<tr><td>0800</td><td>5631.999973601934</td><td>36.75</td><td>4.20609029345557E8</td><td>7678.999968193022</td><td>3.199999994700948</td><td>74682.00129918633</td><td>2399.687494034091</td><td>Hendrerit A Corpo...</td><td>a</td><td>12972</td><td>2022-03-29</td><td>watch clock and j...</td><td>6.64</td><td>fashion and acces...</td><td>169.4756116760845</td><td>2022</td><td>3</td><td>29</td><td>Peter Brennan</td><td>13276 Vazquez Rap...</td><td>NT</td><td>0800</td><td>Undisclosed</td><td>0</td><td>17</td></tr>\n",
       "<tr><td>0800</td><td>5631.999973601934</td><td>36.75</td><td>4.20609029345557E8</td><td>7678.999968193022</td><td>3.199999994700948</td><td>74682.00129918633</td><td>2399.687494034091</td><td>Pede Cras Vulputa...</td><td>a</td><td>2681</td><td>2021-06-29</td><td>health and beauty...</td><td>6.2</td><td>fashion and acces...</td><td>400.61345601101743</td><td>2021</td><td>6</td><td>29</td><td>Nicole Bishop</td><td>467 Robert Island...</td><td>NT</td><td>0800</td><td>Female</td><td>0</td><td>18</td></tr>\n",
       "<tr><td>0800</td><td>5631.999973601934</td><td>36.75</td><td>4.20609029345557E8</td><td>7678.999968193022</td><td>3.199999994700948</td><td>74682.00129918633</td><td>2399.687494034091</td><td>Pede Cras Vulputa...</td><td>a</td><td>4597</td><td>2021-04-03</td><td>health and beauty...</td><td>6.2</td><td>fashion and acces...</td><td>444.1022321713573</td><td>2021</td><td>4</td><td>3</td><td>Andre Chandler</td><td>5546 Joseph Plain...</td><td>NT</td><td>0800</td><td>Male</td><td>0</td><td>19</td></tr>\n",
       "</table>\n",
       "only showing top 20 rows\n"
      ],
      "text/plain": [
       "+--------+-----------------+----------+------------------+-----------------+-----------------+-----------------+-----------------+--------------------+-------------+-------+--------------+--------------------+---------+--------------------+------------------+----------+-----------+---------+---------------+--------------------+--------------+-----------------+---------------+-----------+-----------------+\n",
       "|postcode|    total_earners|median_age|        income_sum|  2021_population|              km2|      income_mean|      persons/km2|       merchant_name|revenue_level|user_id|order_datetime|            products|take_rate|            category|      dollar_value|order_year|order_month|order_day|       consumer|    consumer_address|consumer_state|consumer_postcode|consumer_gender|fraud_group|__index_level_0__|\n",
       "+--------+-----------------+----------+------------------+-----------------+-----------------+-----------------+-----------------+--------------------+-------------+-------+--------------+--------------------+---------+--------------------+------------------+----------+-----------+---------+---------------+--------------------+--------------+-----------------+---------------+-----------+-----------------+\n",
       "|    0800|5631.999973601934|     36.75|4.20609029345557E8|7678.999968193022|3.199999994700948|74682.00129918633|2399.687494034091|Elit Sed Consequa...|            a|  10413|    2022-04-27|artist supply and...|     5.89|       art and gifts|375.16773164703153|      2022|          4|       27|  Kelly Clayton|4211 Rodney Tunne...|            NT|             0800|         Female|          0|                0|\n",
       "|    0800|5631.999973601934|     36.75|4.20609029345557E8|7678.999968193022|3.199999994700948|74682.00129918633|2399.687494034091|Elit Sed Consequa...|            a|  22246|    2022-10-07|artist supply and...|     5.89|       art and gifts| 617.8791313462011|      2022|         10|        7|  Corey Estrada|     1703 Boyd Shore|            NT|             0800|           Male|          0|                1|\n",
       "|    0800|5631.999973601934|     36.75|4.20609029345557E8|7678.999968193022|3.199999994700948|74682.00129918633|2399.687494034091|Elit Sed Consequa...|            a|   2681|    2022-02-28|artist supply and...|     5.89|       art and gifts| 766.5077067424303|      2022|          2|       28|  Nicole Bishop|467 Robert Island...|            NT|             0800|         Female|          0|                2|\n",
       "|    0800|5631.999973601934|     36.75|4.20609029345557E8|7678.999968193022|3.199999994700948|74682.00129918633|2399.687494034091|   Malesuada Vel Ltd|            b|  13454|    2021-07-24|books periodicals...|     3.56|     books and music|258.86595899218753|      2021|          7|       24|Natalie Herrera|88798 Saunders Hi...|            NT|             0800|         Female|          0|                3|\n",
       "|    0800|5631.999973601934|     36.75|4.20609029345557E8|7678.999968193022|3.199999994700948|74682.00129918633|2399.687494034091|Varius Orci Insti...|            a|  10146|    2021-08-08|tent and awning s...|      6.3|            outdoors| 4.159037931172075|      2021|          8|        8|   Shannon Mann|  00817 Owens Circle|            NT|             0800|         Female|          0|                4|\n",
       "|    0800|5631.999973601934|     36.75|4.20609029345557E8|7678.999968193022|3.199999994700948|74682.00129918633|2399.687494034091|Volutpat Nulla In...|            a|  23093|    2022-10-11|furniture home fu...|     6.59| home and technology|  8.26105405068297|      2022|         10|       11|  Robert Walker|646 Allison Ranch...|            NT|             0800|           Male|          0|                5|\n",
       "|    0800|5631.999973601934|     36.75|4.20609029345557E8|7678.999968193022|3.199999994700948|74682.00129918633|2399.687494034091|Mollis Integer Co...|            b|  13454|    2022-05-02|digital goods boo...|     3.96|     books and music| 83.63154755239155|      2022|          5|        2|Natalie Herrera|88798 Saunders Hi...|            NT|             0800|         Female|          0|                6|\n",
       "|    0800|5631.999973601934|     36.75|4.20609029345557E8|7678.999968193022|3.199999994700948|74682.00129918633|2399.687494034091|Elit Sed Consequa...|            a|  13454|    2021-04-08|artist supply and...|     5.89|       art and gifts| 87.00495112586256|      2021|          4|        8|Natalie Herrera|88798 Saunders Hi...|            NT|             0800|         Female|          0|                7|\n",
       "|    0800|5631.999973601934|     36.75|4.20609029345557E8|7678.999968193022|3.199999994700948|74682.00129918633|2399.687494034091|        Eros Limited|            c|   8092|    2021-12-18|digital goods boo...|     2.52|     books and music|  8.26187754879106|      2021|         12|       18|  Rebecca Owens|92579 Keith Neck ...|            NT|             0800|         Female|          0|                8|\n",
       "|    0800|5631.999973601934|     36.75|4.20609029345557E8|7678.999968193022|3.199999994700948|74682.00129918633|2399.687494034091|Hendrerit A Corpo...|            a|  11203|    2022-07-14|watch clock and j...|     6.64|fashion and acces...|100.80643267043831|      2022|          7|       14| John Rodriguez|     563 Wallace Rue|            NT|             0800|           Male|          0|                9|\n",
       "|    0800|5631.999973601934|     36.75|4.20609029345557E8|7678.999968193022|3.199999994700948|74682.00129918633|2399.687494034091|Pede Cras Vulputa...|            a|  22246|    2021-07-18|health and beauty...|      6.2|fashion and acces...|326.46199407890373|      2021|          7|       18|  Corey Estrada|     1703 Boyd Shore|            NT|             0800|           Male|          0|               10|\n",
       "|    0800|5631.999973601934|     36.75|4.20609029345557E8|7678.999968193022|3.199999994700948|74682.00129918633|2399.687494034091|Hendrerit A Corpo...|            a|  12972|    2021-08-16|watch clock and j...|     6.64|fashion and acces...|204.40538957685413|      2021|          8|       16|  Peter Brennan|13276 Vazquez Rap...|            NT|             0800|    Undisclosed|          0|               11|\n",
       "|    0800|5631.999973601934|     36.75|4.20609029345557E8|7678.999968193022|3.199999994700948|74682.00129918633|2399.687494034091|        Eros Limited|            c|  12972|    2021-06-14|digital goods boo...|     2.52|     books and music|31.204086659483615|      2021|          6|       14|  Peter Brennan|13276 Vazquez Rap...|            NT|             0800|    Undisclosed|          0|               12|\n",
       "|    0800|5631.999973601934|     36.75|4.20609029345557E8|7678.999968193022|3.199999994700948|74682.00129918633|2399.687494034091|        Eros Limited|            c|   8092|    2021-12-13|digital goods boo...|     2.52|     books and music|  37.1880940325229|      2021|         12|       13|  Rebecca Owens|92579 Keith Neck ...|            NT|             0800|         Female|          0|               13|\n",
       "|    0800|5631.999973601934|     36.75|4.20609029345557E8|7678.999968193022|3.199999994700948|74682.00129918633|2399.687494034091|        Eros Limited|            c|  10146|    2022-10-10|digital goods boo...|     2.52|     books and music| 5.247567221175345|      2022|         10|       10|   Shannon Mann|  00817 Owens Circle|            NT|             0800|         Female|          0|               14|\n",
       "|    0800|5631.999973601934|     36.75|4.20609029345557E8|7678.999968193022|3.199999994700948|74682.00129918633|2399.687494034091|        Eros Limited|            c|  10413|    2021-11-27|digital goods boo...|     2.52|     books and music|12.918096138910116|      2021|         11|       27|  Kelly Clayton|4211 Rodney Tunne...|            NT|             0800|         Female|          0|               15|\n",
       "|    0800|5631.999973601934|     36.75|4.20609029345557E8|7678.999968193022|3.199999994700948|74682.00129918633|2399.687494034091|Hendrerit A Corpo...|            a|   2681|    2022-05-19|watch clock and j...|     6.64|fashion and acces...|276.12651679041534|      2022|          5|       19|  Nicole Bishop|467 Robert Island...|            NT|             0800|         Female|          0|               16|\n",
       "|    0800|5631.999973601934|     36.75|4.20609029345557E8|7678.999968193022|3.199999994700948|74682.00129918633|2399.687494034091|Hendrerit A Corpo...|            a|  12972|    2022-03-29|watch clock and j...|     6.64|fashion and acces...| 169.4756116760845|      2022|          3|       29|  Peter Brennan|13276 Vazquez Rap...|            NT|             0800|    Undisclosed|          0|               17|\n",
       "|    0800|5631.999973601934|     36.75|4.20609029345557E8|7678.999968193022|3.199999994700948|74682.00129918633|2399.687494034091|Pede Cras Vulputa...|            a|   2681|    2021-06-29|health and beauty...|      6.2|fashion and acces...|400.61345601101743|      2021|          6|       29|  Nicole Bishop|467 Robert Island...|            NT|             0800|         Female|          0|               18|\n",
       "|    0800|5631.999973601934|     36.75|4.20609029345557E8|7678.999968193022|3.199999994700948|74682.00129918633|2399.687494034091|Pede Cras Vulputa...|            a|   4597|    2021-04-03|health and beauty...|      6.2|fashion and acces...| 444.1022321713573|      2021|          4|        3| Andre Chandler|5546 Joseph Plain...|            NT|             0800|           Male|          0|               19|\n",
       "+--------+-----------------+----------+------------------+-----------------+-----------------+-----------------+-----------------+--------------------+-------------+-------+--------------+--------------------+---------+--------------------+------------------+----------+-----------+---------+---------------+--------------------+--------------+-----------------+---------------+-----------+-----------------+\n",
       "only showing top 20 rows"
      ]
     },
     "execution_count": 3,
     "metadata": {},
     "output_type": "execute_result"
    }
   ],
   "source": [
    "df"
   ]
  },
  {
   "cell_type": "markdown",
   "metadata": {},
   "source": [
    "<h2>1. Split dataset</h2>"
   ]
  },
  {
   "cell_type": "code",
   "execution_count": 4,
   "metadata": {},
   "outputs": [],
   "source": [
    "import time\n",
    "import datetime\n",
    "date = \"2022-08-28\" # 2022 week34\n",
    "date_time = datetime.datetime.strptime(date, '%Y-%m-%d')"
   ]
  },
  {
   "cell_type": "code",
   "execution_count": 5,
   "metadata": {},
   "outputs": [
    {
     "data": {
      "text/plain": [
       "10547891"
      ]
     },
     "execution_count": 5,
     "metadata": {},
     "output_type": "execute_result"
    }
   ],
   "source": [
    "df_train = df.where((col(\"order_datetime\") <= date_time.date()))\n",
    "df_train.count()"
   ]
  },
  {
   "cell_type": "code",
   "execution_count": 6,
   "metadata": {},
   "outputs": [
    {
     "data": {
      "text/plain": [
       "1372562"
      ]
     },
     "execution_count": 6,
     "metadata": {},
     "output_type": "execute_result"
    }
   ],
   "source": [
    "df_test = df.where((col(\"order_datetime\") > date_time.date()))\n",
    "df_test.count()"
   ]
  },
  {
   "cell_type": "markdown",
   "metadata": {},
   "source": [
    "<h2>2. Aggregate dataset</h2>"
   ]
  },
  {
   "cell_type": "code",
   "execution_count": 7,
   "metadata": {},
   "outputs": [],
   "source": [
    "df_train_agg = df_train.groupBy([\"merchant_name\", \"order_year\", \"order_month\"]).agg(\n",
    "    sum(\"dollar_value\").alias(\"total_revenue\"), # response variable\n",
    "    \n",
    "    max(\"take_rate\").alias(\"take_rate\"),\n",
    "    avg(\"total_earners\").alias(\"total_earners\"),\n",
    "    avg(\"median_age\").alias(\"median_age\"),\n",
    "    avg(\"income_mean\").alias(\"income_mean\"),\n",
    "    avg(\"persons/km2\").alias(\"population_density\"),\n",
    "    max(\"category\").alias(\"category\"),\n",
    "    max(\"revenue_level\").alias(\"revenue_level\")\n",
    "    )\n",
    "\n",
    "df_test_agg = df_test.groupBy([\"merchant_name\", \"order_year\", \"order_month\"]).agg(\n",
    "    sum(\"dollar_value\").alias(\"total_revenue\"), # response variable\n",
    "\n",
    "    max(\"take_rate\").alias(\"take_rate\"),\n",
    "    avg(\"total_earners\").alias(\"total_earners\"),\n",
    "    avg(\"median_age\").alias(\"median_age\"),\n",
    "    avg(\"income_mean\").alias(\"income_mean\"),\n",
    "    avg(\"persons/km2\").alias(\"population_density\"),\n",
    "    max(\"category\").alias(\"category\"),\n",
    "    max(\"revenue_level\").alias(\"revenue_level\")\n",
    "    )"
   ]
  },
  {
   "cell_type": "code",
   "execution_count": 8,
   "metadata": {},
   "outputs": [],
   "source": [
    "df_all = df.groupBy([\"merchant_name\", \"order_year\", \"order_month\"]).agg(\n",
    "    sum(\"dollar_value\").alias(\"total_revenue\"), # response variable\n",
    "\n",
    "    max(\"take_rate\").alias(\"take_rate\"),\n",
    "    avg(\"total_earners\").alias(\"total_earners\"),\n",
    "    avg(\"median_age\").alias(\"median_age\"),\n",
    "    avg(\"income_mean\").alias(\"income_mean\"),\n",
    "    avg(\"persons/km2\").alias(\"population_density\"),\n",
    "    max(\"category\").alias(\"category\"),\n",
    "    max(\"revenue_level\").alias(\"revenue_level\")\n",
    "    )"
   ]
  },
  {
   "cell_type": "code",
   "execution_count": 9,
   "metadata": {},
   "outputs": [],
   "source": [
    "df_train_agg = df_train_agg.withColumn(\"revenue_taken\", F.col(\"total_revenue\") * (F.col(\"take_rate\") / 100))\n",
    "df_test_agg = df_test_agg.withColumn(\"revenue_taken\", F.col(\"total_revenue\") * (F.col(\"take_rate\") / 100))\n",
    "df_all = df_all.withColumn(\"revenue_taken\", F.col(\"total_revenue\") * (F.col(\"take_rate\") / 100))"
   ]
  },
  {
   "cell_type": "code",
   "execution_count": 10,
   "metadata": {},
   "outputs": [],
   "source": [
    "df_train_agg = df_train_agg.drop(\"total_revenue\", \"take_rate\")\n",
    "df_test_agg = df_test_agg.drop(\"total_revenue\", \"take_rate\")\n",
    "df_all = df_all.drop(\"total_revenue\", \"take_rate\")"
   ]
  },
  {
   "cell_type": "code",
   "execution_count": 11,
   "metadata": {},
   "outputs": [
    {
     "name": "stderr",
     "output_type": "stream",
     "text": [
      "                                                                                \r"
     ]
    },
    {
     "data": {
      "text/html": [
       "<table border='1'>\n",
       "<tr><th>merchant_name</th><th>order_year</th><th>order_month</th><th>total_earners</th><th>median_age</th><th>income_mean</th><th>population_density</th><th>category</th><th>revenue_level</th><th>revenue_taken</th></tr>\n",
       "<tr><td>A Aliquet Ltd</td><td>2021</td><td>3</td><td>4963.535710919874</td><td>46.28955171812314</td><td>57913.51803834353</td><td>862.8285103360431</td><td>home and technology</td><td>b</td><td>373.77697013949444</td></tr>\n",
       "<tr><td>A Aliquet Ltd</td><td>2021</td><td>4</td><td>5378.752132336274</td><td>45.423016497391494</td><td>62253.6709383582</td><td>864.9509643464004</td><td>home and technology</td><td>b</td><td>372.1116611140632</td></tr>\n",
       "<tr><td>A Aliquet Ltd</td><td>2021</td><td>7</td><td>4455.927321143453</td><td>46.131816028136775</td><td>59517.415987420754</td><td>724.9177384229837</td><td>home and technology</td><td>b</td><td>496.0554179068632</td></tr>\n",
       "<tr><td>A Aliquet Ltd</td><td>2021</td><td>8</td><td>5357.976855749735</td><td>45.23299791225323</td><td>60204.26622857647</td><td>816.452153604271</td><td>home and technology</td><td>b</td><td>390.589791792713</td></tr>\n",
       "<tr><td>A Aliquet Ltd</td><td>2021</td><td>12</td><td>4393.274654220205</td><td>45.51620695777413</td><td>67688.91633932825</td><td>837.3796476776628</td><td>home and technology</td><td>b</td><td>575.4017982179806</td></tr>\n",
       "<tr><td>A Aliquet Ltd</td><td>2022</td><td>6</td><td>4985.763543623209</td><td>45.277045531300836</td><td>64525.12409994341</td><td>544.2014361286423</td><td>home and technology</td><td>b</td><td>422.6733449554339</td></tr>\n",
       "<tr><td>A Aliquet Ltd</td><td>2022</td><td>8</td><td>4270.419475515142</td><td>45.937046939988115</td><td>61522.15947903654</td><td>601.7347438561001</td><td>home and technology</td><td>b</td><td>479.1037508352853</td></tr>\n",
       "<tr><td>A Arcu Industries</td><td>2021</td><td>2</td><td>3464.1233178609377</td><td>46.65873015873016</td><td>61669.384381820455</td><td>5.0625991530171195</td><td>outdoors</td><td>c</td><td>21.744568393051882</td></tr>\n",
       "<tr><td>A Arcu Industries</td><td>2021</td><td>12</td><td>4637.594326362481</td><td>45.62602565787575</td><td>67956.54853821809</td><td>719.6061210540767</td><td>outdoors</td><td>c</td><td>1662.3730804995278</td></tr>\n",
       "<tr><td>A Arcu Industries</td><td>2022</td><td>5</td><td>5092.47781939494</td><td>44.44866689337308</td><td>63950.030918709184</td><td>1095.7006288729813</td><td>outdoors</td><td>c</td><td>1314.1422199135288</td></tr>\n",
       "<tr><td>A Arcu Industries</td><td>2022</td><td>6</td><td>4841.445028639817</td><td>45.53461173638412</td><td>60789.95515354641</td><td>538.1389530498307</td><td>outdoors</td><td>c</td><td>1522.3332574197618</td></tr>\n",
       "<tr><td>A Arcu Sed Company</td><td>2022</td><td>8</td><td>4990.2049503243625</td><td>45.25435685332998</td><td>62403.49263951158</td><td>781.44543422248</td><td>fashion and acces...</td><td>c</td><td>182.3184117948598</td></tr>\n",
       "<tr><td>A Arcu Sed Corpor...</td><td>2021</td><td>7</td><td>5023.5</td><td>47.5</td><td>50850.44384728512</td><td>14.909568184170427</td><td>books and music</td><td>c</td><td>21.978148597716995</td></tr>\n",
       "<tr><td>A Arcu Sed Corpor...</td><td>2021</td><td>10</td><td>5349.034019515486</td><td>46.666666666666664</td><td>54317.28539730213</td><td>1.3868482384449927</td><td>books and music</td><td>c</td><td>18.525218218704357</td></tr>\n",
       "<tr><td>A Arcu Sed Corpor...</td><td>2022</td><td>2</td><td>1991.000002001133</td><td>46.0</td><td>78679.4454838812</td><td>0.07430120630070969</td><td>books and music</td><td>c</td><td>6.192477552935265</td></tr>\n",
       "<tr><td>A Arcu Sed Corpor...</td><td>2022</td><td>5</td><td>5233.999998360157</td><td>47.0</td><td>48504.41975560099</td><td>1.9548212005950627</td><td>books and music</td><td>c</td><td>22.590067125541005</td></tr>\n",
       "<tr><td>A Associates</td><td>2021</td><td>3</td><td>4035.9999993720544</td><td>47.04</td><td>46369.30467164123</td><td>2.932295418264617</td><td>fashion and acces...</td><td>b</td><td>78.95860752978314</td></tr>\n",
       "<tr><td>A Associates</td><td>2021</td><td>6</td><td>9168.0</td><td>55.0</td><td>50645.365183246075</td><td>143.19119669876204</td><td>fashion and acces...</td><td>b</td><td>15.683284998150128</td></tr>\n",
       "<tr><td>A Associates</td><td>2021</td><td>7</td><td>7989.806454944793</td><td>40.75</td><td>66691.2446163336</td><td>1194.7565068650727</td><td>fashion and acces...</td><td>b</td><td>17.144569924080127</td></tr>\n",
       "<tr><td>A Associates</td><td>2021</td><td>8</td><td>3213.7993906821102</td><td>55.0</td><td>44536.064390174986</td><td>0.9909093829963306</td><td>fashion and acces...</td><td>b</td><td>27.92804735505248</td></tr>\n",
       "</table>\n",
       "only showing top 20 rows\n"
      ],
      "text/plain": [
       "+--------------------+----------+-----------+------------------+------------------+------------------+-------------------+--------------------+-------------+------------------+\n",
       "|       merchant_name|order_year|order_month|     total_earners|        median_age|       income_mean| population_density|            category|revenue_level|     revenue_taken|\n",
       "+--------------------+----------+-----------+------------------+------------------+------------------+-------------------+--------------------+-------------+------------------+\n",
       "|       A Aliquet Ltd|      2021|          3| 4963.535710919874| 46.28955171812314| 57913.51803834353|  862.8285103360431| home and technology|            b|373.77697013949444|\n",
       "|       A Aliquet Ltd|      2021|          4| 5378.752132336274|45.423016497391494|  62253.6709383582|  864.9509643464004| home and technology|            b| 372.1116611140632|\n",
       "|       A Aliquet Ltd|      2021|          7| 4455.927321143453|46.131816028136775|59517.415987420754|  724.9177384229837| home and technology|            b| 496.0554179068632|\n",
       "|       A Aliquet Ltd|      2021|          8| 5357.976855749735| 45.23299791225323| 60204.26622857647|   816.452153604271| home and technology|            b|  390.589791792713|\n",
       "|       A Aliquet Ltd|      2021|         12| 4393.274654220205| 45.51620695777413| 67688.91633932825|  837.3796476776628| home and technology|            b| 575.4017982179806|\n",
       "|       A Aliquet Ltd|      2022|          6| 4985.763543623209|45.277045531300836| 64525.12409994341|  544.2014361286423| home and technology|            b| 422.6733449554339|\n",
       "|       A Aliquet Ltd|      2022|          8| 4270.419475515142|45.937046939988115| 61522.15947903654|  601.7347438561001| home and technology|            b| 479.1037508352853|\n",
       "|   A Arcu Industries|      2021|          2|3464.1233178609377| 46.65873015873016|61669.384381820455| 5.0625991530171195|            outdoors|            c|21.744568393051882|\n",
       "|   A Arcu Industries|      2021|         12| 4637.594326362481| 45.62602565787575| 67956.54853821809|  719.6061210540767|            outdoors|            c|1662.3730804995278|\n",
       "|   A Arcu Industries|      2022|          5|  5092.47781939494| 44.44866689337308|63950.030918709184| 1095.7006288729813|            outdoors|            c|1314.1422199135288|\n",
       "|   A Arcu Industries|      2022|          6| 4841.445028639817| 45.53461173638412| 60789.95515354641|  538.1389530498307|            outdoors|            c|1522.3332574197618|\n",
       "|  A Arcu Sed Company|      2022|          8|4990.2049503243625| 45.25435685332998| 62403.49263951158|    781.44543422248|fashion and acces...|            c| 182.3184117948598|\n",
       "|A Arcu Sed Corpor...|      2021|          7|            5023.5|              47.5| 50850.44384728512| 14.909568184170427|     books and music|            c|21.978148597716995|\n",
       "|A Arcu Sed Corpor...|      2021|         10| 5349.034019515486|46.666666666666664| 54317.28539730213| 1.3868482384449927|     books and music|            c|18.525218218704357|\n",
       "|A Arcu Sed Corpor...|      2022|          2| 1991.000002001133|              46.0|  78679.4454838812|0.07430120630070969|     books and music|            c| 6.192477552935265|\n",
       "|A Arcu Sed Corpor...|      2022|          5| 5233.999998360157|              47.0| 48504.41975560099| 1.9548212005950627|     books and music|            c|22.590067125541005|\n",
       "|        A Associates|      2021|          3|4035.9999993720544|             47.04| 46369.30467164123|  2.932295418264617|fashion and acces...|            b| 78.95860752978314|\n",
       "|        A Associates|      2021|          6|            9168.0|              55.0|50645.365183246075| 143.19119669876204|fashion and acces...|            b|15.683284998150128|\n",
       "|        A Associates|      2021|          7| 7989.806454944793|             40.75|  66691.2446163336| 1194.7565068650727|fashion and acces...|            b|17.144569924080127|\n",
       "|        A Associates|      2021|          8|3213.7993906821102|              55.0|44536.064390174986| 0.9909093829963306|fashion and acces...|            b| 27.92804735505248|\n",
       "+--------------------+----------+-----------+------------------+------------------+------------------+-------------------+--------------------+-------------+------------------+\n",
       "only showing top 20 rows"
      ]
     },
     "execution_count": 11,
     "metadata": {},
     "output_type": "execute_result"
    }
   ],
   "source": [
    "df_train_agg"
   ]
  },
  {
   "cell_type": "code",
   "execution_count": 12,
   "metadata": {},
   "outputs": [
    {
     "name": "stdout",
     "output_type": "stream",
     "text": [
      "root\n",
      " |-- merchant_name: string (nullable = true)\n",
      " |-- order_year: integer (nullable = true)\n",
      " |-- order_month: integer (nullable = true)\n",
      " |-- total_earners: double (nullable = true)\n",
      " |-- median_age: double (nullable = true)\n",
      " |-- income_mean: double (nullable = true)\n",
      " |-- population_density: double (nullable = true)\n",
      " |-- category: string (nullable = true)\n",
      " |-- revenue_level: string (nullable = true)\n",
      " |-- revenue_taken: double (nullable = true)\n",
      "\n"
     ]
    }
   ],
   "source": [
    "df_train_agg.printSchema()"
   ]
  },
  {
   "cell_type": "code",
   "execution_count": 13,
   "metadata": {},
   "outputs": [
    {
     "name": "stderr",
     "output_type": "stream",
     "text": [
      "                                                                                \r"
     ]
    }
   ],
   "source": [
    "from xxlimited import Str\n",
    "from pyspark.ml.feature import OneHotEncoder, StringIndexer\n",
    "\n",
    "stringIndexer = StringIndexer(inputCols=[\"category\", \"revenue_level\"], outputCols=[\"category_num\", \"revenue_num\"])\n",
    "model = stringIndexer.fit(df_train_agg)\n",
    "train1 = model.transform(df_train_agg)\n",
    "\n",
    "model = stringIndexer.fit(df_test_agg)\n",
    "test1 = model.transform(df_test_agg)\n"
   ]
  },
  {
   "cell_type": "code",
   "execution_count": 14,
   "metadata": {},
   "outputs": [],
   "source": [
    "\n",
    "encoder = OneHotEncoder(inputCols=[\"category_num\", \"revenue_num\"], outputCols=[\"category_vec\", \"revenue_vec\"])\n",
    "train = encoder.fit(train1).transform(train1).drop(\"category_num\", \"revenue_num\")\n",
    "test = encoder.fit(test1).transform(test1).drop(\"category_num\", \"revenue_num\")\n"
   ]
  },
  {
   "cell_type": "code",
   "execution_count": 15,
   "metadata": {},
   "outputs": [
    {
     "name": "stderr",
     "output_type": "stream",
     "text": [
      "                                                                                \r"
     ]
    },
    {
     "data": {
      "text/html": [
       "<table border='1'>\n",
       "<tr><th>merchant_name</th><th>order_year</th><th>order_month</th><th>total_earners</th><th>median_age</th><th>income_mean</th><th>population_density</th><th>category</th><th>revenue_level</th><th>revenue_taken</th><th>category_vec</th><th>revenue_vec</th></tr>\n",
       "<tr><td>A Aliquet Ltd</td><td>2021</td><td>3</td><td>4963.535710919874</td><td>46.28955171812314</td><td>57913.51803834353</td><td>862.8285103360431</td><td>home and technology</td><td>b</td><td>373.77697013949444</td><td>(4,[0],[1.0])</td><td>(4,[1],[1.0])</td></tr>\n",
       "<tr><td>A Aliquet Ltd</td><td>2021</td><td>4</td><td>5378.752132336274</td><td>45.423016497391494</td><td>62253.6709383582</td><td>864.9509643464004</td><td>home and technology</td><td>b</td><td>372.1116611140632</td><td>(4,[0],[1.0])</td><td>(4,[1],[1.0])</td></tr>\n",
       "<tr><td>A Aliquet Ltd</td><td>2021</td><td>7</td><td>4455.927321143453</td><td>46.131816028136775</td><td>59517.415987420754</td><td>724.9177384229837</td><td>home and technology</td><td>b</td><td>496.0554179068632</td><td>(4,[0],[1.0])</td><td>(4,[1],[1.0])</td></tr>\n",
       "<tr><td>A Aliquet Ltd</td><td>2021</td><td>8</td><td>5357.976855749735</td><td>45.23299791225323</td><td>60204.26622857647</td><td>816.452153604271</td><td>home and technology</td><td>b</td><td>390.589791792713</td><td>(4,[0],[1.0])</td><td>(4,[1],[1.0])</td></tr>\n",
       "<tr><td>A Aliquet Ltd</td><td>2021</td><td>12</td><td>4393.274654220205</td><td>45.51620695777413</td><td>67688.91633932825</td><td>837.3796476776628</td><td>home and technology</td><td>b</td><td>575.4017982179806</td><td>(4,[0],[1.0])</td><td>(4,[1],[1.0])</td></tr>\n",
       "<tr><td>A Aliquet Ltd</td><td>2022</td><td>6</td><td>4985.763543623209</td><td>45.277045531300836</td><td>64525.12409994341</td><td>544.2014361286423</td><td>home and technology</td><td>b</td><td>422.6733449554339</td><td>(4,[0],[1.0])</td><td>(4,[1],[1.0])</td></tr>\n",
       "<tr><td>A Aliquet Ltd</td><td>2022</td><td>8</td><td>4270.419475515142</td><td>45.937046939988115</td><td>61522.15947903654</td><td>601.7347438561001</td><td>home and technology</td><td>b</td><td>479.1037508352853</td><td>(4,[0],[1.0])</td><td>(4,[1],[1.0])</td></tr>\n",
       "<tr><td>A Arcu Industries</td><td>2021</td><td>2</td><td>3464.1233178609377</td><td>46.65873015873016</td><td>61669.384381820455</td><td>5.0625991530171195</td><td>outdoors</td><td>c</td><td>21.744568393051882</td><td>(4,[2],[1.0])</td><td>(4,[2],[1.0])</td></tr>\n",
       "<tr><td>A Arcu Industries</td><td>2021</td><td>12</td><td>4637.594326362481</td><td>45.62602565787575</td><td>67956.54853821809</td><td>719.6061210540767</td><td>outdoors</td><td>c</td><td>1662.3730804995278</td><td>(4,[2],[1.0])</td><td>(4,[2],[1.0])</td></tr>\n",
       "<tr><td>A Arcu Industries</td><td>2022</td><td>5</td><td>5092.47781939494</td><td>44.44866689337308</td><td>63950.030918709184</td><td>1095.7006288729813</td><td>outdoors</td><td>c</td><td>1314.1422199135288</td><td>(4,[2],[1.0])</td><td>(4,[2],[1.0])</td></tr>\n",
       "<tr><td>A Arcu Industries</td><td>2022</td><td>6</td><td>4841.445028639817</td><td>45.53461173638412</td><td>60789.95515354641</td><td>538.1389530498307</td><td>outdoors</td><td>c</td><td>1522.3332574197618</td><td>(4,[2],[1.0])</td><td>(4,[2],[1.0])</td></tr>\n",
       "<tr><td>A Arcu Sed Company</td><td>2022</td><td>8</td><td>4990.2049503243625</td><td>45.25435685332998</td><td>62403.49263951158</td><td>781.44543422248</td><td>fashion and acces...</td><td>c</td><td>182.3184117948598</td><td>(4,[3],[1.0])</td><td>(4,[2],[1.0])</td></tr>\n",
       "<tr><td>A Arcu Sed Corpor...</td><td>2021</td><td>7</td><td>5023.5</td><td>47.5</td><td>50850.44384728512</td><td>14.909568184170427</td><td>books and music</td><td>c</td><td>21.978148597716995</td><td>(4,[1],[1.0])</td><td>(4,[2],[1.0])</td></tr>\n",
       "<tr><td>A Arcu Sed Corpor...</td><td>2021</td><td>10</td><td>5349.034019515486</td><td>46.666666666666664</td><td>54317.28539730213</td><td>1.3868482384449927</td><td>books and music</td><td>c</td><td>18.525218218704357</td><td>(4,[1],[1.0])</td><td>(4,[2],[1.0])</td></tr>\n",
       "<tr><td>A Arcu Sed Corpor...</td><td>2022</td><td>2</td><td>1991.000002001133</td><td>46.0</td><td>78679.4454838812</td><td>0.07430120630070969</td><td>books and music</td><td>c</td><td>6.192477552935265</td><td>(4,[1],[1.0])</td><td>(4,[2],[1.0])</td></tr>\n",
       "<tr><td>A Arcu Sed Corpor...</td><td>2022</td><td>5</td><td>5233.999998360157</td><td>47.0</td><td>48504.41975560099</td><td>1.9548212005950627</td><td>books and music</td><td>c</td><td>22.590067125541005</td><td>(4,[1],[1.0])</td><td>(4,[2],[1.0])</td></tr>\n",
       "<tr><td>A Associates</td><td>2021</td><td>3</td><td>4035.9999993720544</td><td>47.04</td><td>46369.30467164123</td><td>2.932295418264617</td><td>fashion and acces...</td><td>b</td><td>78.95860752978314</td><td>(4,[3],[1.0])</td><td>(4,[1],[1.0])</td></tr>\n",
       "<tr><td>A Associates</td><td>2021</td><td>6</td><td>9168.0</td><td>55.0</td><td>50645.365183246075</td><td>143.19119669876204</td><td>fashion and acces...</td><td>b</td><td>15.683284998150128</td><td>(4,[3],[1.0])</td><td>(4,[1],[1.0])</td></tr>\n",
       "<tr><td>A Associates</td><td>2021</td><td>7</td><td>7989.806454944793</td><td>40.75</td><td>66691.2446163336</td><td>1194.7565068650727</td><td>fashion and acces...</td><td>b</td><td>17.144569924080127</td><td>(4,[3],[1.0])</td><td>(4,[1],[1.0])</td></tr>\n",
       "<tr><td>A Associates</td><td>2021</td><td>8</td><td>3213.7993906821102</td><td>55.0</td><td>44536.064390174986</td><td>0.9909093829963306</td><td>fashion and acces...</td><td>b</td><td>27.92804735505248</td><td>(4,[3],[1.0])</td><td>(4,[1],[1.0])</td></tr>\n",
       "</table>\n",
       "only showing top 20 rows\n"
      ],
      "text/plain": [
       "+--------------------+----------+-----------+------------------+------------------+------------------+-------------------+--------------------+-------------+------------------+-------------+-------------+\n",
       "|       merchant_name|order_year|order_month|     total_earners|        median_age|       income_mean| population_density|            category|revenue_level|     revenue_taken| category_vec|  revenue_vec|\n",
       "+--------------------+----------+-----------+------------------+------------------+------------------+-------------------+--------------------+-------------+------------------+-------------+-------------+\n",
       "|       A Aliquet Ltd|      2021|          3| 4963.535710919874| 46.28955171812314| 57913.51803834353|  862.8285103360431| home and technology|            b|373.77697013949444|(4,[0],[1.0])|(4,[1],[1.0])|\n",
       "|       A Aliquet Ltd|      2021|          4| 5378.752132336274|45.423016497391494|  62253.6709383582|  864.9509643464004| home and technology|            b| 372.1116611140632|(4,[0],[1.0])|(4,[1],[1.0])|\n",
       "|       A Aliquet Ltd|      2021|          7| 4455.927321143453|46.131816028136775|59517.415987420754|  724.9177384229837| home and technology|            b| 496.0554179068632|(4,[0],[1.0])|(4,[1],[1.0])|\n",
       "|       A Aliquet Ltd|      2021|          8| 5357.976855749735| 45.23299791225323| 60204.26622857647|   816.452153604271| home and technology|            b|  390.589791792713|(4,[0],[1.0])|(4,[1],[1.0])|\n",
       "|       A Aliquet Ltd|      2021|         12| 4393.274654220205| 45.51620695777413| 67688.91633932825|  837.3796476776628| home and technology|            b| 575.4017982179806|(4,[0],[1.0])|(4,[1],[1.0])|\n",
       "|       A Aliquet Ltd|      2022|          6| 4985.763543623209|45.277045531300836| 64525.12409994341|  544.2014361286423| home and technology|            b| 422.6733449554339|(4,[0],[1.0])|(4,[1],[1.0])|\n",
       "|       A Aliquet Ltd|      2022|          8| 4270.419475515142|45.937046939988115| 61522.15947903654|  601.7347438561001| home and technology|            b| 479.1037508352853|(4,[0],[1.0])|(4,[1],[1.0])|\n",
       "|   A Arcu Industries|      2021|          2|3464.1233178609377| 46.65873015873016|61669.384381820455| 5.0625991530171195|            outdoors|            c|21.744568393051882|(4,[2],[1.0])|(4,[2],[1.0])|\n",
       "|   A Arcu Industries|      2021|         12| 4637.594326362481| 45.62602565787575| 67956.54853821809|  719.6061210540767|            outdoors|            c|1662.3730804995278|(4,[2],[1.0])|(4,[2],[1.0])|\n",
       "|   A Arcu Industries|      2022|          5|  5092.47781939494| 44.44866689337308|63950.030918709184| 1095.7006288729813|            outdoors|            c|1314.1422199135288|(4,[2],[1.0])|(4,[2],[1.0])|\n",
       "|   A Arcu Industries|      2022|          6| 4841.445028639817| 45.53461173638412| 60789.95515354641|  538.1389530498307|            outdoors|            c|1522.3332574197618|(4,[2],[1.0])|(4,[2],[1.0])|\n",
       "|  A Arcu Sed Company|      2022|          8|4990.2049503243625| 45.25435685332998| 62403.49263951158|    781.44543422248|fashion and acces...|            c| 182.3184117948598|(4,[3],[1.0])|(4,[2],[1.0])|\n",
       "|A Arcu Sed Corpor...|      2021|          7|            5023.5|              47.5| 50850.44384728512| 14.909568184170427|     books and music|            c|21.978148597716995|(4,[1],[1.0])|(4,[2],[1.0])|\n",
       "|A Arcu Sed Corpor...|      2021|         10| 5349.034019515486|46.666666666666664| 54317.28539730213| 1.3868482384449927|     books and music|            c|18.525218218704357|(4,[1],[1.0])|(4,[2],[1.0])|\n",
       "|A Arcu Sed Corpor...|      2022|          2| 1991.000002001133|              46.0|  78679.4454838812|0.07430120630070969|     books and music|            c| 6.192477552935265|(4,[1],[1.0])|(4,[2],[1.0])|\n",
       "|A Arcu Sed Corpor...|      2022|          5| 5233.999998360157|              47.0| 48504.41975560099| 1.9548212005950627|     books and music|            c|22.590067125541005|(4,[1],[1.0])|(4,[2],[1.0])|\n",
       "|        A Associates|      2021|          3|4035.9999993720544|             47.04| 46369.30467164123|  2.932295418264617|fashion and acces...|            b| 78.95860752978314|(4,[3],[1.0])|(4,[1],[1.0])|\n",
       "|        A Associates|      2021|          6|            9168.0|              55.0|50645.365183246075| 143.19119669876204|fashion and acces...|            b|15.683284998150128|(4,[3],[1.0])|(4,[1],[1.0])|\n",
       "|        A Associates|      2021|          7| 7989.806454944793|             40.75|  66691.2446163336| 1194.7565068650727|fashion and acces...|            b|17.144569924080127|(4,[3],[1.0])|(4,[1],[1.0])|\n",
       "|        A Associates|      2021|          8|3213.7993906821102|              55.0|44536.064390174986| 0.9909093829963306|fashion and acces...|            b| 27.92804735505248|(4,[3],[1.0])|(4,[1],[1.0])|\n",
       "+--------------------+----------+-----------+------------------+------------------+------------------+-------------------+--------------------+-------------+------------------+-------------+-------------+\n",
       "only showing top 20 rows"
      ]
     },
     "execution_count": 15,
     "metadata": {},
     "output_type": "execute_result"
    }
   ],
   "source": [
    "train"
   ]
  },
  {
   "cell_type": "code",
   "execution_count": 16,
   "metadata": {},
   "outputs": [],
   "source": [
    "# vectorized the features for model training\n",
    "from pyspark.ml.feature import VectorAssembler\n",
    "\n",
    "features = 'features'\n",
    "internal_cols = [\"order_year\", \"order_month\", \"category_vec\", \"revenue_vec\"]\n",
    "external_cols = [\"total_earners\", \"median_age\", \"income_mean\", \"population_density\"]\n",
    "\n",
    "assembler = VectorAssembler(\n",
    "    # which column to combine\n",
    "    inputCols=internal_cols, \n",
    "    # How should the combined columns be named\n",
    "    outputCol=\"internal\"\n",
    ")\n",
    "train = assembler.transform(train.dropna('any'))\n",
    "test = assembler.transform(test.dropna('any'))\n",
    "\n",
    "assembler = VectorAssembler(\n",
    "    # which column to combine\n",
    "    inputCols=external_cols, \n",
    "    # How should the combined columns be named\n",
    "    outputCol=\"external\"\n",
    ")\n",
    "train = assembler.transform(train.dropna('any'))\n",
    "test = assembler.transform(test.dropna('any'))"
   ]
  },
  {
   "cell_type": "code",
   "execution_count": 17,
   "metadata": {},
   "outputs": [],
   "source": [
    "from pyspark.ml.feature import Interaction\n",
    "\n",
    "interaction1 = Interaction(inputCols=internal_cols, outputCol=\"internal_interact\")\n",
    "train = interaction1.transform(train)\n",
    "test = interaction1.transform(test)"
   ]
  },
  {
   "cell_type": "code",
   "execution_count": 18,
   "metadata": {},
   "outputs": [
    {
     "name": "stderr",
     "output_type": "stream",
     "text": [
      "[Stage 35:===========================================>              (3 + 1) / 4]\r"
     ]
    },
    {
     "name": "stdout",
     "output_type": "stream",
     "text": [
      "+-------------------+------------------------------------+\n",
      "|internal_interact  |internal                            |\n",
      "+-------------------+------------------------------------+\n",
      "|(16,[1],[6063.0])  |(10,[0,1,2,7],[2021.0,3.0,1.0,1.0]) |\n",
      "|(16,[1],[8084.0])  |(10,[0,1,2,7],[2021.0,4.0,1.0,1.0]) |\n",
      "|(16,[1],[14147.0]) |(10,[0,1,2,7],[2021.0,7.0,1.0,1.0]) |\n",
      "|(16,[1],[16168.0]) |(10,[0,1,2,7],[2021.0,8.0,1.0,1.0]) |\n",
      "|(16,[1],[24252.0]) |(10,[0,1,2,7],[2021.0,12.0,1.0,1.0])|\n",
      "|(16,[1],[12132.0]) |(10,[0,1,2,7],[2022.0,6.0,1.0,1.0]) |\n",
      "|(16,[1],[16176.0]) |(10,[0,1,2,7],[2022.0,8.0,1.0,1.0]) |\n",
      "|(16,[10],[4042.0]) |(10,[0,1,4,8],[2021.0,2.0,1.0,1.0]) |\n",
      "|(16,[10],[24252.0])|(10,[0,1,4,8],[2021.0,12.0,1.0,1.0])|\n",
      "|(16,[10],[10110.0])|(10,[0,1,4,8],[2022.0,5.0,1.0,1.0]) |\n",
      "|(16,[10],[12132.0])|(10,[0,1,4,8],[2022.0,6.0,1.0,1.0]) |\n",
      "|(16,[14],[16176.0])|(10,[0,1,5,8],[2022.0,8.0,1.0,1.0]) |\n",
      "|(16,[6],[14147.0]) |(10,[0,1,3,8],[2021.0,7.0,1.0,1.0]) |\n",
      "|(16,[6],[20210.0]) |(10,[0,1,3,8],[2021.0,10.0,1.0,1.0])|\n",
      "|(16,[6],[4044.0])  |(10,[0,1,3,8],[2022.0,2.0,1.0,1.0]) |\n",
      "|(16,[6],[10110.0]) |(10,[0,1,3,8],[2022.0,5.0,1.0,1.0]) |\n",
      "|(16,[13],[6063.0]) |(10,[0,1,5,7],[2021.0,3.0,1.0,1.0]) |\n",
      "|(16,[13],[12126.0])|(10,[0,1,5,7],[2021.0,6.0,1.0,1.0]) |\n",
      "|(16,[13],[14147.0])|(10,[0,1,5,7],[2021.0,7.0,1.0,1.0]) |\n",
      "|(16,[13],[16168.0])|(10,[0,1,5,7],[2021.0,8.0,1.0,1.0]) |\n",
      "+-------------------+------------------------------------+\n",
      "only showing top 20 rows\n",
      "\n"
     ]
    },
    {
     "name": "stderr",
     "output_type": "stream",
     "text": [
      "                                                                                \r"
     ]
    }
   ],
   "source": [
    "train.select(\"internal_interact\", \"internal\").show(truncate=False)"
   ]
  },
  {
   "cell_type": "code",
   "execution_count": 19,
   "metadata": {},
   "outputs": [],
   "source": [
    "from pyspark.ml.feature import Interaction\n",
    "\n",
    "interaction2 = Interaction(inputCols=[\"internal\", \"external\"], outputCol=\"external_interact\")\n",
    "train = interaction2.transform(train)\n",
    "test = interaction2.transform(test)"
   ]
  },
  {
   "cell_type": "code",
   "execution_count": 20,
   "metadata": {},
   "outputs": [],
   "source": [
    "assembler1 = VectorAssembler(\n",
    "    # which column to combine\n",
    "    inputCols=external_cols + internal_cols, \n",
    "    # How should the combined columns be named\n",
    "    outputCol=\"feature_additive\"\n",
    ")\n",
    "\n",
    "train = assembler1.transform(train)\n",
    "test = assembler1.transform(test)"
   ]
  },
  {
   "cell_type": "code",
   "execution_count": 21,
   "metadata": {},
   "outputs": [],
   "source": [
    "\n",
    "assembler2 = VectorAssembler(\n",
    "    # which column to combine\n",
    "    inputCols=external_cols + internal_cols + [\"internal_interact\"], \n",
    "    # How should the combined columns be named\n",
    "    outputCol=\"feature_internal\"\n",
    ")\n",
    "\n",
    "train = assembler2.transform(train)\n",
    "test = assembler2.transform(test)"
   ]
  },
  {
   "cell_type": "code",
   "execution_count": 22,
   "metadata": {},
   "outputs": [],
   "source": [
    "assembler3 = VectorAssembler(\n",
    "    # which column to combine\n",
    "    inputCols=external_cols + internal_cols + [\"internal_interact\"] + [\"external_interact\"], \n",
    "    # How should the combined columns be named\n",
    "    outputCol=\"feature_all\"\n",
    ")\n",
    "\n",
    "train = assembler3.transform(train)\n",
    "test = assembler3.transform(test)"
   ]
  },
  {
   "cell_type": "code",
   "execution_count": 23,
   "metadata": {},
   "outputs": [],
   "source": [
    "import pandas as pd\n",
    "import matplotlib.pyplot as plt\n",
    "\n",
    "def plot_real_vs_pred(model_name, y_real, y_pred):\n",
    "    plt.style.use('ggplot')\n",
    "    reg_real_vs_pred = pd.concat([y_real, y_pred], axis = 1)\n",
    "    reg_real_vs_pred = reg_real_vs_pred.head(60)\n",
    "    reg_real_vs_pred.plot(kind='bar', title='MODEL: '+model_name, figsize=(16,5))\n",
    "    plt.show()"
   ]
  },
  {
   "cell_type": "markdown",
   "metadata": {},
   "source": [
    "## 3. Gradient Boost Tree"
   ]
  },
  {
   "cell_type": "code",
   "execution_count": 24,
   "metadata": {},
   "outputs": [
    {
     "name": "stderr",
     "output_type": "stream",
     "text": [
      "                                                                                \r"
     ]
    }
   ],
   "source": [
    "from pyspark.ml.regression import GBTRegressor\n",
    "\n",
    "# Define Gradient boosted tree regression algorithm\n",
    "rf_additive = GBTRegressor(maxDepth=6, \n",
    "                            featuresCol='feature_additive', \n",
    "                            labelCol='revenue_taken',\n",
    "                            ).fit(train)\n",
    "\n",
    "rf_internal = GBTRegressor(maxDepth=6, \n",
    "                  featuresCol='feature_internal', \n",
    "                  labelCol='revenue_taken',\n",
    "                  ).fit(train)\n",
    "\n",
    "rf_all = GBTRegressor(maxDepth=7, \n",
    "                  featuresCol='feature_all', \n",
    "                  labelCol='revenue_taken',\n",
    "                  ).fit(train)"
   ]
  },
  {
   "cell_type": "code",
   "execution_count": 25,
   "metadata": {},
   "outputs": [],
   "source": [
    "predictions_additive = rf_additive.transform(test)\n",
    "predictions_internal = rf_internal.transform(test)\n",
    "predictions_all = rf_all.transform(test)"
   ]
  },
  {
   "cell_type": "code",
   "execution_count": 26,
   "metadata": {},
   "outputs": [
    {
     "name": "stderr",
     "output_type": "stream",
     "text": [
      "[Stage 1205:==========================================>             (3 + 1) / 4]\r"
     ]
    },
    {
     "name": "stdout",
     "output_type": "stream",
     "text": [
      "22/10/07 23:15:28 WARN InstanceBuilder$NativeBLAS: Failed to load implementation from:dev.ludovic.netlib.blas.JNIBLAS\n",
      "22/10/07 23:15:28 WARN InstanceBuilder$NativeBLAS: Failed to load implementation from:dev.ludovic.netlib.blas.ForeignLinkerBLAS\n"
     ]
    },
    {
     "name": "stderr",
     "output_type": "stream",
     "text": [
      "[Stage 1211:==========================================>             (3 + 1) / 4]\r"
     ]
    },
    {
     "name": "stdout",
     "output_type": "stream",
     "text": [
      "Root Mean Squared Error (RMSE) for additive model = 1772.07\n",
      "Root Mean Squared Error (RMSE) for internal interaction model = 1774.32\n",
      "Root Mean Squared Error (RMSE) for full model = 1785.35\n"
     ]
    },
    {
     "name": "stderr",
     "output_type": "stream",
     "text": [
      "                                                                                \r"
     ]
    }
   ],
   "source": [
    "from pyspark.ml.evaluation import RegressionEvaluator\n",
    "# Select (prediction, true label) and compute test error\n",
    "evaluator = RegressionEvaluator(labelCol=\"revenue_taken\",\n",
    "                                predictionCol=\"prediction\",\n",
    "                                metricName=\"rmse\")\n",
    "\n",
    "\n",
    "rmse_addtive = evaluator.evaluate(predictions_additive)\n",
    "rmse_internal = evaluator.evaluate(predictions_internal)\n",
    "rmse_all = evaluator.evaluate(predictions_all)\n",
    "print(\"Root Mean Squared Error (RMSE) for additive model = %g\" % rmse_addtive)\n",
    "print(\"Root Mean Squared Error (RMSE) for internal interaction model = %g\" % rmse_internal)\n",
    "print(\"Root Mean Squared Error (RMSE) for full model = %g\" % rmse_all)"
   ]
  },
  {
   "cell_type": "code",
   "execution_count": 27,
   "metadata": {},
   "outputs": [
    {
     "name": "stderr",
     "output_type": "stream",
     "text": [
      "                                                                                \r"
     ]
    },
    {
     "name": "stdout",
     "output_type": "stream",
     "text": [
      "r2_score_additive: 0.365\n",
      "r2_score_internal: 0.363\n",
      "r2_score_all: 0.355\n"
     ]
    }
   ],
   "source": [
    "y_true_additive = predictions_additive.select(\"revenue_taken\").toPandas()\n",
    "y_pred_additive = predictions_additive.select(\"prediction\").toPandas()\n",
    "\n",
    "y_true_internal = predictions_internal.select(\"revenue_taken\").toPandas()\n",
    "y_pred_internal = predictions_internal.select(\"prediction\").toPandas()\n",
    "\n",
    "y_true_all = predictions_all.select(\"revenue_taken\").toPandas()\n",
    "y_pred_all = predictions_all.select(\"prediction\").toPandas()\n",
    "\n",
    "import sklearn.metrics\n",
    "r2_score_additive = sklearn.metrics.r2_score(y_true_additive, y_pred_additive)\n",
    "r2_score_internal = sklearn.metrics.r2_score(y_true_internal, y_pred_internal)\n",
    "r2_score_all = sklearn.metrics.r2_score(y_true_all, y_pred_all)\n",
    "print('r2_score_additive: {:4.3f}'.format(r2_score_additive))\n",
    "print('r2_score_internal: {:4.3f}'.format(r2_score_internal))\n",
    "print('r2_score_all: {:4.3f}'.format(r2_score_all))"
   ]
  },
  {
   "cell_type": "code",
   "execution_count": 28,
   "metadata": {},
   "outputs": [
    {
     "data": {
      "image/png": "[encoded data removed]",
      "text/plain": [
       "<Figure size 1152x360 with 1 Axes>"
      ]
     },
     "metadata": {
      "needs_background": "light"
     },
     "output_type": "display_data"
    }
   ],
   "source": [
    "plot_real_vs_pred(\"Gradient boost tree\", y_true_all, y_pred_all)"
   ]
  },
  {
   "cell_type": "markdown",
   "metadata": {},
   "source": [
    "## 4. Random Forest Regressor"
   ]
  },
  {
   "cell_type": "code",
   "execution_count": 29,
   "metadata": {},
   "outputs": [
    {
     "name": "stderr",
     "output_type": "stream",
     "text": [
      "                                                                                \r"
     ]
    }
   ],
   "source": [
    "# Import Random Forest Regressor\n",
    "from pyspark.ml.regression import RandomForestRegressor\n",
    "\n",
    "\n",
    "rfR_additive = RandomForestRegressor(maxDepth=6, \n",
    "                  featuresCol='feature_additive', \n",
    "                  labelCol='revenue_taken',\n",
    "                  ).fit(train)\n",
    "\n",
    "rfR_internal = RandomForestRegressor(maxDepth=6, \n",
    "                  featuresCol='feature_internal', \n",
    "                  labelCol='revenue_taken',\n",
    "                  ).fit(train)\n",
    "\n",
    "rfR_all = RandomForestRegressor(maxDepth=7, \n",
    "                  featuresCol='feature_all', \n",
    "                  labelCol='revenue_taken',\n",
    "                  ).fit(train)"
   ]
  },
  {
   "cell_type": "code",
   "execution_count": 30,
   "metadata": {},
   "outputs": [],
   "source": [
    "predictions_additive_R = rfR_additive.transform(test)\n",
    "predictions_internal_R = rfR_internal.transform(test)\n",
    "predictions_all_R = rfR_all.transform(test)"
   ]
  },
  {
   "cell_type": "code",
   "execution_count": 31,
   "metadata": {},
   "outputs": [
    {
     "name": "stderr",
     "output_type": "stream",
     "text": [
      "[Stage 1319:==========================================>             (3 + 1) / 4]\r"
     ]
    },
    {
     "name": "stdout",
     "output_type": "stream",
     "text": [
      "Root Mean Squared Error (RMSE) for additive model = 1906.1\n",
      "Root Mean Squared Error (RMSE) for internal interaction model = 1917.54\n",
      "Root Mean Squared Error (RMSE) for full model = 1827.76\n"
     ]
    },
    {
     "name": "stderr",
     "output_type": "stream",
     "text": [
      "                                                                                \r"
     ]
    }
   ],
   "source": [
    "rmse_addtive_R = evaluator.evaluate(predictions_additive_R)\n",
    "rmse_internal_R = evaluator.evaluate(predictions_internal_R)\n",
    "rmse_all_R = evaluator.evaluate(predictions_all_R)\n",
    "print(\"Root Mean Squared Error (RMSE) for additive model = %g\" % rmse_addtive_R)\n",
    "print(\"Root Mean Squared Error (RMSE) for internal interaction model = %g\" % rmse_internal_R)\n",
    "print(\"Root Mean Squared Error (RMSE) for full model = %g\" % rmse_all_R)"
   ]
  },
  {
   "cell_type": "code",
   "execution_count": 32,
   "metadata": {},
   "outputs": [
    {
     "name": "stderr",
     "output_type": "stream",
     "text": [
      "[Stage 1337:==========================================>             (3 + 1) / 4]\r"
     ]
    },
    {
     "name": "stdout",
     "output_type": "stream",
     "text": [
      "r2_score_additive: 0.265\n",
      "r2_score_internal: 0.256\n",
      "r2_score_all: 0.324\n"
     ]
    },
    {
     "name": "stderr",
     "output_type": "stream",
     "text": [
      "                                                                                \r"
     ]
    }
   ],
   "source": [
    "y_true_additive_R = predictions_additive_R.select(\"revenue_taken\").toPandas()\n",
    "y_pred_additive_R = predictions_additive_R.select(\"prediction\").toPandas()\n",
    "\n",
    "y_true_internal_R = predictions_internal_R.select(\"revenue_taken\").toPandas()\n",
    "y_pred_internal_R = predictions_internal_R.select(\"prediction\").toPandas()\n",
    "\n",
    "y_true_all_R = predictions_all_R.select(\"revenue_taken\").toPandas()\n",
    "y_pred_all_R = predictions_all_R.select(\"prediction\").toPandas()\n",
    "\n",
    "\n",
    "r2_score_additive_R = sklearn.metrics.r2_score(y_true_additive_R, y_pred_additive_R)\n",
    "r2_score_internal_R = sklearn.metrics.r2_score(y_true_internal_R, y_pred_internal_R)\n",
    "r2_score_all_R = sklearn.metrics.r2_score(y_true_all_R, y_pred_all_R)\n",
    "print('r2_score_additive: {:4.3f}'.format(r2_score_additive_R))\n",
    "print('r2_score_internal: {:4.3f}'.format(r2_score_internal_R))\n",
    "print('r2_score_all: {:4.3f}'.format(r2_score_all_R))"
   ]
  },
  {
   "cell_type": "markdown",
   "metadata": {},
   "source": [
    "## 5. Transform the total revenue to score"
   ]
  },
  {
   "cell_type": "code",
   "execution_count": 33,
   "metadata": {},
   "outputs": [
    {
     "name": "stderr",
     "output_type": "stream",
     "text": [
      "                                                                                \r"
     ]
    },
    {
     "data": {
      "text/html": [
       "<table border='1'>\n",
       "<tr><th>merchant_name</th><th>order_year</th><th>order_month</th><th>total_earners</th><th>median_age</th><th>income_mean</th><th>population_density</th><th>category</th><th>revenue_level</th><th>revenue_taken</th></tr>\n",
       "<tr><td>A Aliquet Ltd</td><td>2021</td><td>3</td><td>4963.535710919874</td><td>46.28955171812316</td><td>57913.51803834353</td><td>862.8285103360431</td><td>home and technology</td><td>b</td><td>373.7769701394945</td></tr>\n",
       "<tr><td>A Aliquet Ltd</td><td>2021</td><td>4</td><td>5378.7521323362735</td><td>45.4230164973915</td><td>62253.6709383582</td><td>864.9509643464004</td><td>home and technology</td><td>b</td><td>372.1116611140632</td></tr>\n",
       "<tr><td>A Aliquet Ltd</td><td>2021</td><td>7</td><td>4455.927321143454</td><td>46.131816028136775</td><td>59517.41598742075</td><td>724.9177384229837</td><td>home and technology</td><td>b</td><td>496.0554179068631</td></tr>\n",
       "<tr><td>A Aliquet Ltd</td><td>2021</td><td>8</td><td>5357.976855749735</td><td>45.23299791225323</td><td>60204.266228576475</td><td>816.4521536042711</td><td>home and technology</td><td>b</td><td>390.5897917927129</td></tr>\n",
       "<tr><td>A Aliquet Ltd</td><td>2021</td><td>12</td><td>4393.274654220204</td><td>45.51620695777413</td><td>67688.91633932824</td><td>837.3796476776628</td><td>home and technology</td><td>b</td><td>575.4017982179806</td></tr>\n",
       "<tr><td>A Aliquet Ltd</td><td>2022</td><td>6</td><td>4985.7635436232085</td><td>45.27704553130086</td><td>64525.12409994342</td><td>544.2014361286423</td><td>home and technology</td><td>b</td><td>422.67334495543383</td></tr>\n",
       "<tr><td>A Aliquet Ltd</td><td>2022</td><td>8</td><td>4450.017605152951</td><td>45.85536948431685</td><td>63998.28124203042</td><td>646.7015709015924</td><td>home and technology</td><td>b</td><td>543.1068713493326</td></tr>\n",
       "<tr><td>A Arcu Industries</td><td>2021</td><td>2</td><td>3464.1233178609377</td><td>46.65873015873016</td><td>61669.384381820455</td><td>5.0625991530171195</td><td>outdoors</td><td>c</td><td>21.744568393051882</td></tr>\n",
       "<tr><td>A Arcu Industries</td><td>2021</td><td>12</td><td>4637.594326362481</td><td>45.62602565787575</td><td>67956.54853821806</td><td>719.6061210540763</td><td>outdoors</td><td>c</td><td>1662.373080499528</td></tr>\n",
       "<tr><td>A Arcu Industries</td><td>2022</td><td>5</td><td>5092.47781939494</td><td>44.44866689337308</td><td>63950.03091870917</td><td>1095.7006288729817</td><td>outdoors</td><td>c</td><td>1314.142219913529</td></tr>\n",
       "<tr><td>A Arcu Industries</td><td>2022</td><td>6</td><td>4841.445028639818</td><td>45.53461173638413</td><td>60789.955153546405</td><td>538.1389530498308</td><td>outdoors</td><td>c</td><td>1522.3332574197625</td></tr>\n",
       "<tr><td>A Arcu Sed Company</td><td>2022</td><td>8</td><td>4832.182256980594</td><td>45.33688493533317</td><td>62017.9124849792</td><td>741.4853262418629</td><td>fashion and acces...</td><td>c</td><td>217.4115544697922</td></tr>\n",
       "<tr><td>A Arcu Sed Corpor...</td><td>2021</td><td>7</td><td>5023.5</td><td>47.5</td><td>50850.44384728512</td><td>14.909568184170427</td><td>books and music</td><td>c</td><td>21.978148597716995</td></tr>\n",
       "<tr><td>A Arcu Sed Corpor...</td><td>2021</td><td>10</td><td>5349.034019515486</td><td>46.666666666666664</td><td>54317.28539730213</td><td>1.3868482384449927</td><td>books and music</td><td>c</td><td>18.525218218704357</td></tr>\n",
       "<tr><td>A Arcu Sed Corpor...</td><td>2022</td><td>2</td><td>1991.000002001133</td><td>46.0</td><td>78679.4454838812</td><td>0.07430120630070969</td><td>books and music</td><td>c</td><td>6.192477552935265</td></tr>\n",
       "<tr><td>A Arcu Sed Corpor...</td><td>2022</td><td>5</td><td>5233.999998360157</td><td>47.0</td><td>48504.41975560099</td><td>1.9548212005950627</td><td>books and music</td><td>c</td><td>22.590067125541005</td></tr>\n",
       "<tr><td>A Arcu Sed Corpor...</td><td>2022</td><td>8</td><td>3486.0</td><td>53.0</td><td>53242.25157773953</td><td>2.0854312609457093</td><td>books and music</td><td>c</td><td>28.8037844882498</td></tr>\n",
       "<tr><td>A Associates</td><td>2021</td><td>3</td><td>4035.9999993720544</td><td>47.04</td><td>46369.30467164123</td><td>2.932295418264617</td><td>fashion and acces...</td><td>b</td><td>78.95860752978314</td></tr>\n",
       "<tr><td>A Associates</td><td>2021</td><td>6</td><td>9168.0</td><td>55.0</td><td>50645.365183246075</td><td>143.19119669876204</td><td>fashion and acces...</td><td>b</td><td>15.683284998150128</td></tr>\n",
       "<tr><td>A Associates</td><td>2021</td><td>7</td><td>7989.806454944793</td><td>40.75</td><td>66691.2446163336</td><td>1194.7565068650727</td><td>fashion and acces...</td><td>b</td><td>17.144569924080127</td></tr>\n",
       "</table>\n",
       "only showing top 20 rows\n"
      ],
      "text/plain": [
       "+--------------------+----------+-----------+------------------+------------------+------------------+-------------------+--------------------+-------------+------------------+\n",
       "|       merchant_name|order_year|order_month|     total_earners|        median_age|       income_mean| population_density|            category|revenue_level|     revenue_taken|\n",
       "+--------------------+----------+-----------+------------------+------------------+------------------+-------------------+--------------------+-------------+------------------+\n",
       "|       A Aliquet Ltd|      2021|          3| 4963.535710919874| 46.28955171812316| 57913.51803834353|  862.8285103360431| home and technology|            b| 373.7769701394945|\n",
       "|       A Aliquet Ltd|      2021|          4|5378.7521323362735|  45.4230164973915|  62253.6709383582|  864.9509643464004| home and technology|            b| 372.1116611140632|\n",
       "|       A Aliquet Ltd|      2021|          7| 4455.927321143454|46.131816028136775| 59517.41598742075|  724.9177384229837| home and technology|            b| 496.0554179068631|\n",
       "|       A Aliquet Ltd|      2021|          8| 5357.976855749735| 45.23299791225323|60204.266228576475|  816.4521536042711| home and technology|            b| 390.5897917927129|\n",
       "|       A Aliquet Ltd|      2021|         12| 4393.274654220204| 45.51620695777413| 67688.91633932824|  837.3796476776628| home and technology|            b| 575.4017982179806|\n",
       "|       A Aliquet Ltd|      2022|          6|4985.7635436232085| 45.27704553130086| 64525.12409994342|  544.2014361286423| home and technology|            b|422.67334495543383|\n",
       "|       A Aliquet Ltd|      2022|          8| 4450.017605152951| 45.85536948431685| 63998.28124203042|  646.7015709015924| home and technology|            b| 543.1068713493326|\n",
       "|   A Arcu Industries|      2021|          2|3464.1233178609377| 46.65873015873016|61669.384381820455| 5.0625991530171195|            outdoors|            c|21.744568393051882|\n",
       "|   A Arcu Industries|      2021|         12| 4637.594326362481| 45.62602565787575| 67956.54853821806|  719.6061210540763|            outdoors|            c| 1662.373080499528|\n",
       "|   A Arcu Industries|      2022|          5|  5092.47781939494| 44.44866689337308| 63950.03091870917| 1095.7006288729817|            outdoors|            c| 1314.142219913529|\n",
       "|   A Arcu Industries|      2022|          6| 4841.445028639818| 45.53461173638413|60789.955153546405|  538.1389530498308|            outdoors|            c|1522.3332574197625|\n",
       "|  A Arcu Sed Company|      2022|          8| 4832.182256980594| 45.33688493533317|  62017.9124849792|  741.4853262418629|fashion and acces...|            c| 217.4115544697922|\n",
       "|A Arcu Sed Corpor...|      2021|          7|            5023.5|              47.5| 50850.44384728512| 14.909568184170427|     books and music|            c|21.978148597716995|\n",
       "|A Arcu Sed Corpor...|      2021|         10| 5349.034019515486|46.666666666666664| 54317.28539730213| 1.3868482384449927|     books and music|            c|18.525218218704357|\n",
       "|A Arcu Sed Corpor...|      2022|          2| 1991.000002001133|              46.0|  78679.4454838812|0.07430120630070969|     books and music|            c| 6.192477552935265|\n",
       "|A Arcu Sed Corpor...|      2022|          5| 5233.999998360157|              47.0| 48504.41975560099| 1.9548212005950627|     books and music|            c|22.590067125541005|\n",
       "|A Arcu Sed Corpor...|      2022|          8|            3486.0|              53.0| 53242.25157773953| 2.0854312609457093|     books and music|            c|  28.8037844882498|\n",
       "|        A Associates|      2021|          3|4035.9999993720544|             47.04| 46369.30467164123|  2.932295418264617|fashion and acces...|            b| 78.95860752978314|\n",
       "|        A Associates|      2021|          6|            9168.0|              55.0|50645.365183246075| 143.19119669876204|fashion and acces...|            b|15.683284998150128|\n",
       "|        A Associates|      2021|          7| 7989.806454944793|             40.75|  66691.2446163336| 1194.7565068650727|fashion and acces...|            b|17.144569924080127|\n",
       "+--------------------+----------+-----------+------------------+------------------+------------------+-------------------+--------------------+-------------+------------------+\n",
       "only showing top 20 rows"
      ]
     },
     "execution_count": 33,
     "metadata": {},
     "output_type": "execute_result"
    }
   ],
   "source": [
    "df_all"
   ]
  },
  {
   "cell_type": "code",
   "execution_count": 34,
   "metadata": {},
   "outputs": [],
   "source": [
    "revenue_score = df_all.groupBy([\"merchant_name\"]).agg(\n",
    "    sum(\"revenue_taken\").alias(\"total_revenue\")\n",
    "    )"
   ]
  },
  {
   "cell_type": "code",
   "execution_count": 35,
   "metadata": {},
   "outputs": [
    {
     "name": "stderr",
     "output_type": "stream",
     "text": [
      "                                                                                \r"
     ]
    },
    {
     "data": {
      "text/html": [
       "<table border='1'>\n",
       "<tr><th>merchant_name</th><th>total_revenue</th></tr>\n",
       "<tr><td>Consectetuer Ipsu...</td><td>3.250765585109828</td></tr>\n",
       "<tr><td>Faucibus Ltd</td><td>3.5512344419012583</td></tr>\n",
       "<tr><td>Ac Eleifend Vitae...</td><td>3.9167039023366743</td></tr>\n",
       "<tr><td>Velit Inc.</td><td>5.111416773814975</td></tr>\n",
       "<tr><td>Magna Sed Associates</td><td>6.039746046534802</td></tr>\n",
       "<tr><td>Nulla Limited</td><td>6.881752409537095</td></tr>\n",
       "<tr><td>Egestas A Dui Corp.</td><td>7.733799649708853</td></tr>\n",
       "<tr><td>Enim Etiam Institute</td><td>7.9729906258318834</td></tr>\n",
       "<tr><td>Lacus LLP</td><td>8.36329741086963</td></tr>\n",
       "<tr><td>Hendrerit Id Ante...</td><td>10.781037338047874</td></tr>\n",
       "<tr><td>Aliquet Sem Corp.</td><td>11.007923666084915</td></tr>\n",
       "<tr><td>Nunc Institute</td><td>11.918503023081666</td></tr>\n",
       "<tr><td>Tellus Ltd</td><td>12.439154109101443</td></tr>\n",
       "<tr><td>Massa Vestibulum Ltd</td><td>12.499892879002422</td></tr>\n",
       "<tr><td>Sem Egestas Bland...</td><td>12.76577738778319</td></tr>\n",
       "<tr><td>Orci Ut Institute</td><td>13.129072909196777</td></tr>\n",
       "<tr><td>Velit Eget Institute</td><td>13.4480926574094</td></tr>\n",
       "<tr><td>Magnis Dis Partur...</td><td>14.265110913776994</td></tr>\n",
       "<tr><td>Nulla Ltd</td><td>14.589891036319774</td></tr>\n",
       "<tr><td>Ipsum Suspendisse...</td><td>16.01965645471988</td></tr>\n",
       "</table>\n",
       "only showing top 20 rows\n"
      ],
      "text/plain": [
       "+--------------------+------------------+\n",
       "|       merchant_name|     total_revenue|\n",
       "+--------------------+------------------+\n",
       "|Consectetuer Ipsu...| 3.250765585109828|\n",
       "|        Faucibus Ltd|3.5512344419012583|\n",
       "|Ac Eleifend Vitae...|3.9167039023366743|\n",
       "|          Velit Inc.| 5.111416773814975|\n",
       "|Magna Sed Associates| 6.039746046534802|\n",
       "|       Nulla Limited| 6.881752409537095|\n",
       "| Egestas A Dui Corp.| 7.733799649708853|\n",
       "|Enim Etiam Institute|7.9729906258318834|\n",
       "|           Lacus LLP|  8.36329741086963|\n",
       "|Hendrerit Id Ante...|10.781037338047874|\n",
       "|   Aliquet Sem Corp.|11.007923666084915|\n",
       "|      Nunc Institute|11.918503023081666|\n",
       "|          Tellus Ltd|12.439154109101443|\n",
       "|Massa Vestibulum Ltd|12.499892879002422|\n",
       "|Sem Egestas Bland...| 12.76577738778319|\n",
       "|   Orci Ut Institute|13.129072909196777|\n",
       "|Velit Eget Institute|  13.4480926574094|\n",
       "|Magnis Dis Partur...|14.265110913776994|\n",
       "|           Nulla Ltd|14.589891036319774|\n",
       "|Ipsum Suspendisse...| 16.01965645471988|\n",
       "+--------------------+------------------+\n",
       "only showing top 20 rows"
      ]
     },
     "execution_count": 35,
     "metadata": {},
     "output_type": "execute_result"
    }
   ],
   "source": [
    "revenue_score.orderBy(\"total_revenue\")"
   ]
  },
  {
   "cell_type": "code",
   "execution_count": 36,
   "metadata": {},
   "outputs": [],
   "source": [
    "revenue_score = revenue_score.withColumn(\"a\", lit(\"a\"))"
   ]
  },
  {
   "cell_type": "code",
   "execution_count": 37,
   "metadata": {},
   "outputs": [],
   "source": [
    "from pyspark.sql.window import Window\n",
    "from pyspark.sql.functions import percent_rank"
   ]
  },
  {
   "cell_type": "code",
   "execution_count": 38,
   "metadata": {},
   "outputs": [],
   "source": [
    "# Use the rank as the score\n",
    "Window_Spec  = Window.partitionBy(\"a\").orderBy(\"total_revenue\")\n",
    "revenue_score = revenue_score.withColumn(\"percent_rank\", percent_rank().over(Window_Spec)) \n"
   ]
  },
  {
   "cell_type": "code",
   "execution_count": 39,
   "metadata": {},
   "outputs": [
    {
     "name": "stderr",
     "output_type": "stream",
     "text": [
      "                                                                                \r"
     ]
    },
    {
     "data": {
      "text/html": [
       "<table border='1'>\n",
       "<tr><th>merchant_name</th><th>total_revenue</th><th>a</th><th>percent_rank</th></tr>\n",
       "<tr><td>Consectetuer Ipsu...</td><td>3.250765585109828</td><td>a</td><td>0.0</td></tr>\n",
       "<tr><td>Faucibus Ltd</td><td>3.5512344419012583</td><td>a</td><td>2.568053415511042...</td></tr>\n",
       "<tr><td>Ac Eleifend Vitae...</td><td>3.9167039023366743</td><td>a</td><td>5.136106831022085E-4</td></tr>\n",
       "<tr><td>Velit Inc.</td><td>5.111416773814975</td><td>a</td><td>7.704160246533128E-4</td></tr>\n",
       "<tr><td>Magna Sed Associates</td><td>6.039746046534802</td><td>a</td><td>0.001027221366204417</td></tr>\n",
       "<tr><td>Nulla Limited</td><td>6.881752409537095</td><td>a</td><td>0.001284026707755...</td></tr>\n",
       "<tr><td>Egestas A Dui Corp.</td><td>7.733799649708853</td><td>a</td><td>0.001540832049306...</td></tr>\n",
       "<tr><td>Enim Etiam Institute</td><td>7.9729906258318834</td><td>a</td><td>0.001797637390857...</td></tr>\n",
       "<tr><td>Lacus LLP</td><td>8.36329741086963</td><td>a</td><td>0.002054442732408834</td></tr>\n",
       "<tr><td>Hendrerit Id Ante...</td><td>10.781037338047874</td><td>a</td><td>0.002311248073959...</td></tr>\n",
       "<tr><td>Aliquet Sem Corp.</td><td>11.007923666084915</td><td>a</td><td>0.002568053415511...</td></tr>\n",
       "<tr><td>Nunc Institute</td><td>11.918503023081666</td><td>a</td><td>0.002824858757062147</td></tr>\n",
       "<tr><td>Tellus Ltd</td><td>12.439154109101443</td><td>a</td><td>0.003081664098613...</td></tr>\n",
       "<tr><td>Massa Vestibulum Ltd</td><td>12.499892879002422</td><td>a</td><td>0.003338469440164355</td></tr>\n",
       "<tr><td>Sem Egestas Bland...</td><td>12.76577738778319</td><td>a</td><td>0.003595274781715...</td></tr>\n",
       "<tr><td>Orci Ut Institute</td><td>13.129072909196777</td><td>a</td><td>0.003852080123266564</td></tr>\n",
       "<tr><td>Velit Eget Institute</td><td>13.4480926574094</td><td>a</td><td>0.004108885464817668</td></tr>\n",
       "<tr><td>Magnis Dis Partur...</td><td>14.265110913776994</td><td>a</td><td>0.004365690806368772</td></tr>\n",
       "<tr><td>Nulla Ltd</td><td>14.589891036319774</td><td>a</td><td>0.004622496147919877</td></tr>\n",
       "<tr><td>Ipsum Suspendisse...</td><td>16.01965645471988</td><td>a</td><td>0.004879301489470981</td></tr>\n",
       "</table>\n",
       "only showing top 20 rows\n"
      ],
      "text/plain": [
       "+--------------------+------------------+---+--------------------+\n",
       "|       merchant_name|     total_revenue|  a|        percent_rank|\n",
       "+--------------------+------------------+---+--------------------+\n",
       "|Consectetuer Ipsu...| 3.250765585109828|  a|                 0.0|\n",
       "|        Faucibus Ltd|3.5512344419012583|  a|2.568053415511042...|\n",
       "|Ac Eleifend Vitae...|3.9167039023366743|  a|5.136106831022085E-4|\n",
       "|          Velit Inc.| 5.111416773814975|  a|7.704160246533128E-4|\n",
       "|Magna Sed Associates| 6.039746046534802|  a|0.001027221366204417|\n",
       "|       Nulla Limited| 6.881752409537095|  a|0.001284026707755...|\n",
       "| Egestas A Dui Corp.| 7.733799649708853|  a|0.001540832049306...|\n",
       "|Enim Etiam Institute|7.9729906258318834|  a|0.001797637390857...|\n",
       "|           Lacus LLP|  8.36329741086963|  a|0.002054442732408834|\n",
       "|Hendrerit Id Ante...|10.781037338047874|  a|0.002311248073959...|\n",
       "|   Aliquet Sem Corp.|11.007923666084915|  a|0.002568053415511...|\n",
       "|      Nunc Institute|11.918503023081666|  a|0.002824858757062147|\n",
       "|          Tellus Ltd|12.439154109101443|  a|0.003081664098613...|\n",
       "|Massa Vestibulum Ltd|12.499892879002422|  a|0.003338469440164355|\n",
       "|Sem Egestas Bland...| 12.76577738778319|  a|0.003595274781715...|\n",
       "|   Orci Ut Institute|13.129072909196777|  a|0.003852080123266564|\n",
       "|Velit Eget Institute|  13.4480926574094|  a|0.004108885464817668|\n",
       "|Magnis Dis Partur...|14.265110913776994|  a|0.004365690806368772|\n",
       "|           Nulla Ltd|14.589891036319774|  a|0.004622496147919877|\n",
       "|Ipsum Suspendisse...| 16.01965645471988|  a|0.004879301489470981|\n",
       "+--------------------+------------------+---+--------------------+\n",
       "only showing top 20 rows"
      ]
     },
     "execution_count": 39,
     "metadata": {},
     "output_type": "execute_result"
    }
   ],
   "source": [
    "revenue_score"
   ]
  },
  {
   "cell_type": "code",
   "execution_count": 40,
   "metadata": {},
   "outputs": [],
   "source": [
    "revenue_score = revenue_score.withColumn(\"revenue_score\", F.col(\"percent_rank\")).drop(\"a\",\"percent_rank\", \"total_revenue\")"
   ]
  },
  {
   "cell_type": "markdown",
   "metadata": {},
   "source": [
    "#### Add variance as one metrics"
   ]
  },
  {
   "cell_type": "code",
   "execution_count": 41,
   "metadata": {},
   "outputs": [],
   "source": [
    "df_variance = df.groupBy([\"merchant_name\"]).agg(\n",
    "    variance(\"dollar_value\").alias(\"variance\")\n",
    "    )"
   ]
  },
  {
   "cell_type": "code",
   "execution_count": 42,
   "metadata": {},
   "outputs": [],
   "source": [
    "df_variance = df_variance.fillna(value = 0)"
   ]
  },
  {
   "cell_type": "code",
   "execution_count": 43,
   "metadata": {},
   "outputs": [
    {
     "name": "stderr",
     "output_type": "stream",
     "text": [
      "                                                                                \r"
     ]
    }
   ],
   "source": [
    "from pyspark.ml.feature import StandardScaler\n",
    "\n",
    "\n",
    "# VectorAssembler Transformation - Converting column to vector type\n",
    "assembler_vec = VectorAssembler(inputCols=[\"variance\"],outputCol=\"variance_Vect\")\n",
    "variance_score = assembler_vec.transform(df_variance)\n",
    "\n",
    "scaler = StandardScaler(inputCol=\"variance_Vect\", outputCol=\"variance_score\",\n",
    "                        withStd=True, withMean=False)\n",
    "\n",
    "\n",
    "# Standardise the trend score (since it contain negative value) as score\n",
    "\n",
    "from pyspark.ml.functions import vector_to_array\n",
    "variance_score = scaler.fit(variance_score).transform(variance_score).drop(\"variance\",\"variance_Vect\").withColumn(\"variance_score\", vector_to_array(\"variance_score\")[0])\n"
   ]
  },
  {
   "cell_type": "code",
   "execution_count": 44,
   "metadata": {},
   "outputs": [],
   "source": [
    "variance_score = variance_score.withColumnRenamed(\"merchant_name\", \"name\")\n",
    "\n",
    "revenue_score = revenue_score.join(variance_score, variance_score.name ==  revenue_score.merchant_name,\"inner\").drop(\"name\")"
   ]
  },
  {
   "cell_type": "code",
   "execution_count": 45,
   "metadata": {},
   "outputs": [
    {
     "name": "stderr",
     "output_type": "stream",
     "text": [
      "                                                                                \r"
     ]
    },
    {
     "data": {
      "text/html": [
       "<table border='1'>\n",
       "<tr><th>merchant_name</th><th>revenue_score</th><th>variance_score</th></tr>\n",
       "<tr><td>Consectetuer Ipsu...</td><td>0.0</td><td>0.0</td></tr>\n",
       "<tr><td>Faucibus Ltd</td><td>2.568053415511042...</td><td>0.0</td></tr>\n",
       "<tr><td>Ac Eleifend Vitae...</td><td>5.136106831022085E-4</td><td>0.0</td></tr>\n",
       "<tr><td>Velit Inc.</td><td>7.704160246533128E-4</td><td>0.0</td></tr>\n",
       "<tr><td>Magna Sed Associates</td><td>0.001027221366204417</td><td>0.0</td></tr>\n",
       "<tr><td>Nulla Limited</td><td>0.001284026707755...</td><td>0.0</td></tr>\n",
       "<tr><td>Egestas A Dui Corp.</td><td>0.001540832049306...</td><td>3.2898949522111685</td></tr>\n",
       "<tr><td>Enim Etiam Institute</td><td>0.001797637390857...</td><td>1.958919765612116</td></tr>\n",
       "<tr><td>Lacus LLP</td><td>0.002054442732408834</td><td>0.6446990488357244</td></tr>\n",
       "<tr><td>Hendrerit Id Ante...</td><td>0.002311248073959...</td><td>0.0</td></tr>\n",
       "<tr><td>Aliquet Sem Corp.</td><td>0.002568053415511...</td><td>0.0</td></tr>\n",
       "<tr><td>Nunc Institute</td><td>0.002824858757062147</td><td>0.0</td></tr>\n",
       "<tr><td>Tellus Ltd</td><td>0.003081664098613...</td><td>0.0</td></tr>\n",
       "<tr><td>Massa Vestibulum Ltd</td><td>0.003338469440164355</td><td>0.0473774111656327</td></tr>\n",
       "<tr><td>Sem Egestas Bland...</td><td>0.003595274781715...</td><td>0.0</td></tr>\n",
       "<tr><td>Orci Ut Institute</td><td>0.003852080123266564</td><td>1.3228589828610553</td></tr>\n",
       "<tr><td>Velit Eget Institute</td><td>0.004108885464817668</td><td>0.0</td></tr>\n",
       "<tr><td>Magnis Dis Partur...</td><td>0.004365690806368772</td><td>0.0</td></tr>\n",
       "<tr><td>Nulla Ltd</td><td>0.004622496147919877</td><td>0.0</td></tr>\n",
       "<tr><td>Ipsum Suspendisse...</td><td>0.004879301489470981</td><td>0.0</td></tr>\n",
       "</table>\n",
       "only showing top 20 rows\n"
      ],
      "text/plain": [
       "+--------------------+--------------------+------------------+\n",
       "|       merchant_name|       revenue_score|    variance_score|\n",
       "+--------------------+--------------------+------------------+\n",
       "|Consectetuer Ipsu...|                 0.0|               0.0|\n",
       "|        Faucibus Ltd|2.568053415511042...|               0.0|\n",
       "|Ac Eleifend Vitae...|5.136106831022085E-4|               0.0|\n",
       "|          Velit Inc.|7.704160246533128E-4|               0.0|\n",
       "|Magna Sed Associates|0.001027221366204417|               0.0|\n",
       "|       Nulla Limited|0.001284026707755...|               0.0|\n",
       "| Egestas A Dui Corp.|0.001540832049306...|3.2898949522111685|\n",
       "|Enim Etiam Institute|0.001797637390857...| 1.958919765612116|\n",
       "|           Lacus LLP|0.002054442732408834|0.6446990488357244|\n",
       "|Hendrerit Id Ante...|0.002311248073959...|               0.0|\n",
       "|   Aliquet Sem Corp.|0.002568053415511...|               0.0|\n",
       "|      Nunc Institute|0.002824858757062147|               0.0|\n",
       "|          Tellus Ltd|0.003081664098613...|               0.0|\n",
       "|Massa Vestibulum Ltd|0.003338469440164355|0.0473774111656327|\n",
       "|Sem Egestas Bland...|0.003595274781715...|               0.0|\n",
       "|   Orci Ut Institute|0.003852080123266564|1.3228589828610553|\n",
       "|Velit Eget Institute|0.004108885464817668|               0.0|\n",
       "|Magnis Dis Partur...|0.004365690806368772|               0.0|\n",
       "|           Nulla Ltd|0.004622496147919877|               0.0|\n",
       "|Ipsum Suspendisse...|0.004879301489470981|               0.0|\n",
       "+--------------------+--------------------+------------------+\n",
       "only showing top 20 rows"
      ]
     },
     "execution_count": 45,
     "metadata": {},
     "output_type": "execute_result"
    }
   ],
   "source": [
    "revenue_score"
   ]
  },
  {
   "cell_type": "markdown",
   "metadata": {},
   "source": [
    "#### Combined with train score"
   ]
  },
  {
   "cell_type": "code",
   "execution_count": 47,
   "metadata": {},
   "outputs": [
    {
     "name": "stderr",
     "output_type": "stream",
     "text": [
      "                                                                                \r"
     ]
    }
   ],
   "source": [
    "trend = spark.read.option(\"header\", \"true\").csv(\"../data/curated/increasing.csv\")"
   ]
  },
  {
   "cell_type": "code",
   "execution_count": 51,
   "metadata": {},
   "outputs": [],
   "source": [
    "trend = trend.withColumn(\"monthly_increase_rate\", F.col(\"monthly_increase_rate\").cast(\"double\"))"
   ]
  },
  {
   "cell_type": "code",
   "execution_count": 52,
   "metadata": {},
   "outputs": [
    {
     "data": {
      "text/html": [
       "<table border='1'>\n",
       "<tr><th>merchant_name</th><th>monthly_increase_rate</th></tr>\n",
       "<tr><td>Dis Parturient Mo...</td><td>-89.23230623260663</td></tr>\n",
       "<tr><td>Posuere At Velit ...</td><td>-2188.963037874791</td></tr>\n",
       "<tr><td>Sed Pharetra Ltd</td><td>-126.06630122868519</td></tr>\n",
       "<tr><td>A Magna Lorem Ltd</td><td>2517.521237796379</td></tr>\n",
       "<tr><td>Accumsan Corporation</td><td>-22.824730059282366</td></tr>\n",
       "<tr><td>Tellus Imperdiet LLP</td><td>-101.33981334742475</td></tr>\n",
       "<tr><td>A Company</td><td>-208.22641438607835</td></tr>\n",
       "<tr><td>Ut Nec Urna LLP</td><td>-304.73665282602667</td></tr>\n",
       "<tr><td>Aliquam Ornare Inc.</td><td>165.02416637129028</td></tr>\n",
       "<tr><td>Odio Etiam Corpor...</td><td>564.9147457557135</td></tr>\n",
       "<tr><td>Mauris Nulla Inte...</td><td>504.23490505279517</td></tr>\n",
       "<tr><td>Iaculis Odio LLP</td><td>-310.29201994266475</td></tr>\n",
       "<tr><td>Tempus Eu Ligula ...</td><td>-42.19045269030321</td></tr>\n",
       "<tr><td>Eget Laoreet Inc.</td><td>-1066.7235709602812</td></tr>\n",
       "<tr><td>Quis Turpis Corpo...</td><td>53.96150891468653</td></tr>\n",
       "<tr><td>Lobortis Ultrices...</td><td>988.0746388515457</td></tr>\n",
       "<tr><td>Enim Non LLC</td><td>-1175.996222534887</td></tr>\n",
       "<tr><td>Sociis Natoque Pe...</td><td>-393.2362379856019</td></tr>\n",
       "<tr><td>Lectus Justo Eu Ltd</td><td>5.322690784953193</td></tr>\n",
       "<tr><td>Convallis Convall...</td><td>1919.4464585236042</td></tr>\n",
       "</table>\n",
       "only showing top 20 rows\n"
      ],
      "text/plain": [
       "+--------------------+---------------------+\n",
       "|       merchant_name|monthly_increase_rate|\n",
       "+--------------------+---------------------+\n",
       "|Dis Parturient Mo...|   -89.23230623260663|\n",
       "|Posuere At Velit ...|   -2188.963037874791|\n",
       "|    Sed Pharetra Ltd|  -126.06630122868519|\n",
       "|   A Magna Lorem Ltd|    2517.521237796379|\n",
       "|Accumsan Corporation|  -22.824730059282366|\n",
       "|Tellus Imperdiet LLP|  -101.33981334742475|\n",
       "|           A Company|  -208.22641438607835|\n",
       "|     Ut Nec Urna LLP|  -304.73665282602667|\n",
       "| Aliquam Ornare Inc.|   165.02416637129028|\n",
       "|Odio Etiam Corpor...|    564.9147457557135|\n",
       "|Mauris Nulla Inte...|   504.23490505279517|\n",
       "|    Iaculis Odio LLP|  -310.29201994266475|\n",
       "|Tempus Eu Ligula ...|   -42.19045269030321|\n",
       "|   Eget Laoreet Inc.|  -1066.7235709602812|\n",
       "|Quis Turpis Corpo...|    53.96150891468653|\n",
       "|Lobortis Ultrices...|    988.0746388515457|\n",
       "|        Enim Non LLC|   -1175.996222534887|\n",
       "|Sociis Natoque Pe...|   -393.2362379856019|\n",
       "| Lectus Justo Eu Ltd|    5.322690784953193|\n",
       "|Convallis Convall...|   1919.4464585236042|\n",
       "+--------------------+---------------------+\n",
       "only showing top 20 rows"
      ]
     },
     "execution_count": 52,
     "metadata": {},
     "output_type": "execute_result"
    }
   ],
   "source": [
    "trend"
   ]
  },
  {
   "cell_type": "code",
   "execution_count": 54,
   "metadata": {},
   "outputs": [
    {
     "name": "stderr",
     "output_type": "stream",
     "text": [
      "                                                                                \r"
     ]
    }
   ],
   "source": [
    "from pyspark.ml.feature import StandardScaler\n",
    "\n",
    "\n",
    "# VectorAssembler Transformation - Converting column to vector type\n",
    "assembler_vec = VectorAssembler(inputCols=[\"monthly_increase_rate\"],outputCol=\"increasing_Vect\")\n",
    "trend_score = assembler_vec.transform(trend)\n",
    "\n",
    "scaler = StandardScaler(inputCol=\"increasing_Vect\", outputCol=\"trend_score\",\n",
    "                        withStd=True, withMean=False)\n",
    "\n",
    "\n",
    "# Standardise the trend score (since it contain negative value) as score\n",
    "\n",
    "from pyspark.ml.functions import vector_to_array\n",
    "trend_score = scaler.fit(trend_score).transform(trend_score).drop(\"increasing\",\"increasing_Vect\").withColumn(\"trend_score\", vector_to_array(\"trend_score\")[0])\n",
    "\n"
   ]
  },
  {
   "cell_type": "code",
   "execution_count": 55,
   "metadata": {},
   "outputs": [],
   "source": [
    "trend_score = trend_score.withColumnRenamed(\"merchant_name\", \"name\")"
   ]
  },
  {
   "cell_type": "code",
   "execution_count": 56,
   "metadata": {},
   "outputs": [],
   "source": [
    "trend_revenue_final = revenue_score.join(trend_score, trend_score.name ==  revenue_score.merchant_name,\"inner\").drop(\"name\")"
   ]
  },
  {
   "cell_type": "code",
   "execution_count": 57,
   "metadata": {},
   "outputs": [
    {
     "name": "stderr",
     "output_type": "stream",
     "text": [
      "                                                                                \r"
     ]
    },
    {
     "data": {
      "text/html": [
       "<table border='1'>\n",
       "<tr><th>merchant_name</th><th>revenue_score</th><th>variance_score</th><th>monthly_increase_rate</th><th>trend_score</th></tr>\n",
       "<tr><td>Consectetuer Ipsu...</td><td>0.0</td><td>0.0</td><td>15.935125417205038</td><td>0.011874444528407297</td></tr>\n",
       "<tr><td>Faucibus Ltd</td><td>2.568053415511042...</td><td>0.0</td><td>-15.241349536056902</td><td>-0.0113574606327584</td></tr>\n",
       "<tr><td>Ac Eleifend Vitae...</td><td>5.136106831022085E-4</td><td>0.0</td><td>14.038365241350087</td><td>0.010461027758711603</td></tr>\n",
       "<tr><td>Velit Inc.</td><td>7.704160246533128E-4</td><td>0.0</td><td>-10.141699948045586</td><td>-0.00755733326872...</td></tr>\n",
       "<tr><td>Magna Sed Associates</td><td>0.001027221366204417</td><td>0.0</td><td>16.777072351485558</td><td>0.012501841671838765</td></tr>\n",
       "<tr><td>Nulla Limited</td><td>0.001284026707755...</td><td>0.0</td><td>-39.32429948306911</td><td>-0.02930345388596...</td></tr>\n",
       "<tr><td>Egestas A Dui Corp.</td><td>0.001540832049306...</td><td>3.2898949522111685</td><td>-72.76585369598567</td><td>-0.05422323769992234</td></tr>\n",
       "<tr><td>Enim Etiam Institute</td><td>0.001797637390857...</td><td>1.958919765612116</td><td>-398.51005677187663</td><td>-0.2969594175920883</td></tr>\n",
       "<tr><td>Lacus LLP</td><td>0.002054442732408834</td><td>0.6446990488357244</td><td>230.52474813545177</td><td>0.17178109757479443</td></tr>\n",
       "<tr><td>Hendrerit Id Ante...</td><td>0.002311248073959...</td><td>0.0</td><td>-73.34039005474744</td><td>-0.05465136737841...</td></tr>\n",
       "<tr><td>Aliquet Sem Corp.</td><td>0.002568053415511...</td><td>0.0</td><td>-36.450078364519584</td><td>-0.02716165842838...</td></tr>\n",
       "<tr><td>Nunc Institute</td><td>0.002824858757062147</td><td>0.0</td><td>-72.2333516550404</td><td>-0.05382643091108833</td></tr>\n",
       "<tr><td>Tellus Ltd</td><td>0.003081664098613...</td><td>0.0</td><td>50.56566711016846</td><td>0.03768023115107176</td></tr>\n",
       "<tr><td>Massa Vestibulum Ltd</td><td>0.003338469440164355</td><td>0.0473774111656327</td><td>8.73217189669449</td><td>0.006506989313548976</td></tr>\n",
       "<tr><td>Sem Egestas Bland...</td><td>0.003595274781715...</td><td>0.0</td><td>134.37660408192832</td><td>0.10013398007924044</td></tr>\n",
       "<tr><td>Orci Ut Institute</td><td>0.003852080123266564</td><td>1.3228589828610553</td><td>437.6357636398926</td><td>0.3261148853825934</td></tr>\n",
       "<tr><td>Velit Eget Institute</td><td>0.004108885464817668</td><td>0.0</td><td>86.76188811231872</td><td>0.06465272161945186</td></tr>\n",
       "<tr><td>Magnis Dis Partur...</td><td>0.004365690806368772</td><td>0.0</td><td>56.607582991178546</td><td>0.04218251105762935</td></tr>\n",
       "<tr><td>Nulla Ltd</td><td>0.004622496147919877</td><td>0.0</td><td>-227.96704744249647</td><td>-0.16987516497598507</td></tr>\n",
       "<tr><td>Ipsum Suspendisse...</td><td>0.004879301489470981</td><td>0.0</td><td>-36.243566639637734</td><td>-0.02700777121649396</td></tr>\n",
       "</table>\n",
       "only showing top 20 rows\n"
      ],
      "text/plain": [
       "+--------------------+--------------------+------------------+---------------------+--------------------+\n",
       "|       merchant_name|       revenue_score|    variance_score|monthly_increase_rate|         trend_score|\n",
       "+--------------------+--------------------+------------------+---------------------+--------------------+\n",
       "|Consectetuer Ipsu...|                 0.0|               0.0|   15.935125417205038|0.011874444528407297|\n",
       "|        Faucibus Ltd|2.568053415511042...|               0.0|  -15.241349536056902| -0.0113574606327584|\n",
       "|Ac Eleifend Vitae...|5.136106831022085E-4|               0.0|   14.038365241350087|0.010461027758711603|\n",
       "|          Velit Inc.|7.704160246533128E-4|               0.0|  -10.141699948045586|-0.00755733326872...|\n",
       "|Magna Sed Associates|0.001027221366204417|               0.0|   16.777072351485558|0.012501841671838765|\n",
       "|       Nulla Limited|0.001284026707755...|               0.0|   -39.32429948306911|-0.02930345388596...|\n",
       "| Egestas A Dui Corp.|0.001540832049306...|3.2898949522111685|   -72.76585369598567|-0.05422323769992234|\n",
       "|Enim Etiam Institute|0.001797637390857...| 1.958919765612116|  -398.51005677187663| -0.2969594175920883|\n",
       "|           Lacus LLP|0.002054442732408834|0.6446990488357244|   230.52474813545177| 0.17178109757479443|\n",
       "|Hendrerit Id Ante...|0.002311248073959...|               0.0|   -73.34039005474744|-0.05465136737841...|\n",
       "|   Aliquet Sem Corp.|0.002568053415511...|               0.0|  -36.450078364519584|-0.02716165842838...|\n",
       "|      Nunc Institute|0.002824858757062147|               0.0|    -72.2333516550404|-0.05382643091108833|\n",
       "|          Tellus Ltd|0.003081664098613...|               0.0|    50.56566711016846| 0.03768023115107176|\n",
       "|Massa Vestibulum Ltd|0.003338469440164355|0.0473774111656327|     8.73217189669449|0.006506989313548976|\n",
       "|Sem Egestas Bland...|0.003595274781715...|               0.0|   134.37660408192832| 0.10013398007924044|\n",
       "|   Orci Ut Institute|0.003852080123266564|1.3228589828610553|    437.6357636398926|  0.3261148853825934|\n",
       "|Velit Eget Institute|0.004108885464817668|               0.0|    86.76188811231872| 0.06465272161945186|\n",
       "|Magnis Dis Partur...|0.004365690806368772|               0.0|   56.607582991178546| 0.04218251105762935|\n",
       "|           Nulla Ltd|0.004622496147919877|               0.0|  -227.96704744249647|-0.16987516497598507|\n",
       "|Ipsum Suspendisse...|0.004879301489470981|               0.0|  -36.243566639637734|-0.02700777121649396|\n",
       "+--------------------+--------------------+------------------+---------------------+--------------------+\n",
       "only showing top 20 rows"
      ]
     },
     "execution_count": 57,
     "metadata": {},
     "output_type": "execute_result"
    }
   ],
   "source": [
    "trend_revenue_final"
   ]
  },
  {
   "cell_type": "code",
   "execution_count": 58,
   "metadata": {},
   "outputs": [
    {
     "name": "stderr",
     "output_type": "stream",
     "text": [
      "                                                                                \r"
     ]
    },
    {
     "data": {
      "text/plain": [
       "3895"
      ]
     },
     "execution_count": 58,
     "metadata": {},
     "output_type": "execute_result"
    }
   ],
   "source": [
    "trend_revenue_final.count()"
   ]
  },
  {
   "cell_type": "code",
   "execution_count": 59,
   "metadata": {},
   "outputs": [
    {
     "name": "stderr",
     "output_type": "stream",
     "text": [
      "                                                                                \r"
     ]
    }
   ],
   "source": [
    "trend_revenue_final.write.parquet(\"../data/curated/revenue_trend_score\")"
   ]
  },
  {
   "cell_type": "code",
   "execution_count": null,
   "metadata": {},
   "outputs": [],
   "source": []
  }
 ],
 "metadata": {
  "kernelspec": {
   "display_name": "Python 3.9.12 64-bit",
   "language": "python",
   "name": "python3"
  },
  "language_info": {
   "codemirror_mode": {
    "name": "ipython",
    "version": 3
   },
   "file_extension": ".py",
   "mimetype": "text/x-python",
   "name": "python",
   "nbconvert_exporter": "python",
   "pygments_lexer": "ipython3",
   "version": "3.9.12"
  },
  "orig_nbformat": 4,
  "vscode": {
   "interpreter": {
    "hash": "949777d72b0d2535278d3dc13498b2535136f6dfe0678499012e853ee9abcab1"
   }
  }
 },
 "nbformat": 4,
 "nbformat_minor": 2
}
