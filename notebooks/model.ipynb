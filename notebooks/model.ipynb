{
 "cells": [
  {
   "cell_type": "code",
   "execution_count": 1,
   "metadata": {},
   "outputs": [
    {
     "name": "stderr",
     "output_type": "stream",
     "text": [
      "Setting default log level to \"WARN\".\n",
      "To adjust logging level use sc.setLogLevel(newLevel). For SparkR, use setLogLevel(newLevel).\n"
     ]
    },
    {
     "name": "stdout",
     "output_type": "stream",
     "text": [
      "22/10/07 02:47:39 WARN NativeCodeLoader: Unable to load native-hadoop library for your platform... using builtin-java classes where applicable\n",
      "22/10/07 02:47:39 WARN Utils: Service 'SparkUI' could not bind on port 4040. Attempting port 4041.\n"
     ]
    }
   ],
   "source": [
    "from pyspark.sql import SparkSession, functions as F\n",
    "from pyspark.sql.functions import *\n",
    "from pyspark.ml.regression import GBTRegressor\n",
    "import numpy as np\n",
    "\n",
    "spark = (\n",
    "    SparkSession.builder.appName(\"ADS project 2\")\n",
    "    .config(\"spark.sql.repl.eagerEval.enabled\", True) \n",
    "    .config(\"spark.sql.parquet.cacheMetadata\", \"true\")\n",
    "    .config(\"spark.sql.session.timeZone\", \"Etc/UTC\")\n",
    "    .config(\"spark.executor.memory\", \"2g\")\n",
    "    .config(\"spark.driver.memory\", \"4g\")\n",
    "    .getOrCreate()\n",
    ")"
   ]
  },
  {
   "cell_type": "code",
   "execution_count": 2,
   "metadata": {},
   "outputs": [
    {
     "name": "stderr",
     "output_type": "stream",
     "text": [
      "                                                                                \r"
     ]
    }
   ],
   "source": [
    "df = spark.read.parquet('../data/curated/merchant_consumer_abs')"
   ]
  },
  {
   "cell_type": "code",
   "execution_count": 3,
   "metadata": {},
   "outputs": [
    {
     "name": "stderr",
     "output_type": "stream",
     "text": [
      "                                                                                \r"
     ]
    },
    {
     "data": {
      "text/html": [
       "<table border='1'>\n",
       "<tr><th>postcode</th><th>total_earners</th><th>median_age</th><th>income_sum</th><th>income_median</th><th>income_mean</th><th>2021_population</th><th>km2</th><th>persons/km2</th><th>merchant_name</th><th>revenue_level</th><th>take_rate</th><th>category</th><th>dollar_value</th><th>order_year</th><th>order_month</th><th>order_day</th><th>consumer</th><th>consumer_address</th><th>consumer_state</th><th>consumer_postcode</th><th>consumer_gender</th><th>__index_level_0__</th></tr>\n",
       "<tr><td>0800</td><td>5631.999973601934</td><td>33.00000004463053</td><td>4.20609029345557E8</td><td>57789.00008173299</td><td>74682.00012457666</td><td>7678.999968193022</td><td>3.199999994700948</td><td>2419.9999940679677</td><td>Et Nunc Consulting</td><td>e</td><td>0.16</td><td>books and music</td><td>342.96279330022617</td><td>2021</td><td>7</td><td>28</td><td>Peter Brennan</td><td>13276 Vazquez Rap...</td><td>NT</td><td>0800</td><td>Undisclosed</td><td>0</td></tr>\n",
       "<tr><td>0800</td><td>5631.999973601934</td><td>33.00000004463053</td><td>4.20609029345557E8</td><td>57789.00008173299</td><td>74682.00012457666</td><td>7678.999968193022</td><td>3.199999994700948</td><td>2419.9999940679677</td><td>Et Nunc Consulting</td><td>e</td><td>0.16</td><td>books and music</td><td>136.99894252186246</td><td>2021</td><td>7</td><td>3</td><td>Peter Brennan</td><td>13276 Vazquez Rap...</td><td>NT</td><td>0800</td><td>Undisclosed</td><td>1</td></tr>\n",
       "<tr><td>0800</td><td>5631.999973601934</td><td>33.00000004463053</td><td>4.20609029345557E8</td><td>57789.00008173299</td><td>74682.00012457666</td><td>7678.999968193022</td><td>3.199999994700948</td><td>2419.9999940679677</td><td>Et Nunc Consulting</td><td>e</td><td>0.16</td><td>books and music</td><td>177.75368173476977</td><td>2021</td><td>4</td><td>24</td><td>Peter Brennan</td><td>13276 Vazquez Rap...</td><td>NT</td><td>0800</td><td>Undisclosed</td><td>2</td></tr>\n",
       "<tr><td>0800</td><td>5631.999973601934</td><td>33.00000004463053</td><td>4.20609029345557E8</td><td>57789.00008173299</td><td>74682.00012457666</td><td>7678.999968193022</td><td>3.199999994700948</td><td>2419.9999940679677</td><td>Eros Industries</td><td>e</td><td>0.41</td><td>home and technology</td><td>479.9895071820776</td><td>2022</td><td>10</td><td>15</td><td>Peter Brennan</td><td>13276 Vazquez Rap...</td><td>NT</td><td>0800</td><td>Undisclosed</td><td>3</td></tr>\n",
       "<tr><td>0800</td><td>5631.999973601934</td><td>33.00000004463053</td><td>4.20609029345557E8</td><td>57789.00008173299</td><td>74682.00012457666</td><td>7678.999968193022</td><td>3.199999994700948</td><td>2419.9999940679677</td><td>Et Nunc Consulting</td><td>e</td><td>0.16</td><td>books and music</td><td>379.98044657170163</td><td>2022</td><td>8</td><td>13</td><td>Peter Brennan</td><td>13276 Vazquez Rap...</td><td>NT</td><td>0800</td><td>Undisclosed</td><td>4</td></tr>\n",
       "<tr><td>0800</td><td>5631.999973601934</td><td>33.00000004463053</td><td>4.20609029345557E8</td><td>57789.00008173299</td><td>74682.00012457666</td><td>7678.999968193022</td><td>3.199999994700948</td><td>2419.9999940679677</td><td>Et Nunc Consulting</td><td>e</td><td>0.16</td><td>books and music</td><td>109.58880832350144</td><td>2022</td><td>7</td><td>7</td><td>Peter Brennan</td><td>13276 Vazquez Rap...</td><td>NT</td><td>0800</td><td>Undisclosed</td><td>5</td></tr>\n",
       "<tr><td>0800</td><td>5631.999973601934</td><td>33.00000004463053</td><td>4.20609029345557E8</td><td>57789.00008173299</td><td>74682.00012457666</td><td>7678.999968193022</td><td>3.199999994700948</td><td>2419.9999940679677</td><td>Eros Industries</td><td>e</td><td>0.41</td><td>home and technology</td><td>68.01352266651773</td><td>2022</td><td>3</td><td>11</td><td>Peter Brennan</td><td>13276 Vazquez Rap...</td><td>NT</td><td>0800</td><td>Undisclosed</td><td>6</td></tr>\n",
       "<tr><td>0800</td><td>5631.999973601934</td><td>33.00000004463053</td><td>4.20609029345557E8</td><td>57789.00008173299</td><td>74682.00012457666</td><td>7678.999968193022</td><td>3.199999994700948</td><td>2419.9999940679677</td><td>Quis Turpis Corp.</td><td>e</td><td>0.48</td><td>outdoors</td><td>2385.412594085288</td><td>2021</td><td>11</td><td>28</td><td>Peter Brennan</td><td>13276 Vazquez Rap...</td><td>NT</td><td>0800</td><td>Undisclosed</td><td>7</td></tr>\n",
       "<tr><td>0800</td><td>5631.999973601934</td><td>33.00000004463053</td><td>4.20609029345557E8</td><td>57789.00008173299</td><td>74682.00012457666</td><td>7678.999968193022</td><td>3.199999994700948</td><td>2419.9999940679677</td><td>Et Nunc Consulting</td><td>e</td><td>0.16</td><td>books and music</td><td>100.81395268964151</td><td>2021</td><td>11</td><td>10</td><td>Peter Brennan</td><td>13276 Vazquez Rap...</td><td>NT</td><td>0800</td><td>Undisclosed</td><td>8</td></tr>\n",
       "<tr><td>0800</td><td>5631.999973601934</td><td>33.00000004463053</td><td>4.20609029345557E8</td><td>57789.00008173299</td><td>74682.00012457666</td><td>7678.999968193022</td><td>3.199999994700948</td><td>2419.9999940679677</td><td>Eget Metus Eu Ins...</td><td>e</td><td>0.42</td><td>fashion and acces...</td><td>213.9312766603582</td><td>2022</td><td>5</td><td>22</td><td>Corey Estrada</td><td>1703 Boyd Shore</td><td>NT</td><td>0800</td><td>Male</td><td>9</td></tr>\n",
       "<tr><td>0800</td><td>5631.999973601934</td><td>33.00000004463053</td><td>4.20609029345557E8</td><td>57789.00008173299</td><td>74682.00012457666</td><td>7678.999968193022</td><td>3.199999994700948</td><td>2419.9999940679677</td><td>Et Nunc Consulting</td><td>e</td><td>0.16</td><td>books and music</td><td>131.91911552398736</td><td>2021</td><td>12</td><td>1</td><td>Corey Estrada</td><td>1703 Boyd Shore</td><td>NT</td><td>0800</td><td>Male</td><td>10</td></tr>\n",
       "<tr><td>0800</td><td>5631.999973601934</td><td>33.00000004463053</td><td>4.20609029345557E8</td><td>57789.00008173299</td><td>74682.00012457666</td><td>7678.999968193022</td><td>3.199999994700948</td><td>2419.9999940679677</td><td>Et Nunc Consulting</td><td>e</td><td>0.16</td><td>books and music</td><td>104.72841712285454</td><td>2021</td><td>12</td><td>5</td><td>Corey Estrada</td><td>1703 Boyd Shore</td><td>NT</td><td>0800</td><td>Male</td><td>11</td></tr>\n",
       "<tr><td>0800</td><td>5631.999973601934</td><td>33.00000004463053</td><td>4.20609029345557E8</td><td>57789.00008173299</td><td>74682.00012457666</td><td>7678.999968193022</td><td>3.199999994700948</td><td>2419.9999940679677</td><td>Nunc Est LLP</td><td>e</td><td>0.22</td><td>fashion and acces...</td><td>71.37258526040347</td><td>2021</td><td>11</td><td>6</td><td>Corey Estrada</td><td>1703 Boyd Shore</td><td>NT</td><td>0800</td><td>Male</td><td>12</td></tr>\n",
       "<tr><td>0800</td><td>5631.999973601934</td><td>33.00000004463053</td><td>4.20609029345557E8</td><td>57789.00008173299</td><td>74682.00012457666</td><td>7678.999968193022</td><td>3.199999994700948</td><td>2419.9999940679677</td><td>Et Nunc Consulting</td><td>e</td><td>0.16</td><td>books and music</td><td>316.85658597928943</td><td>2022</td><td>1</td><td>6</td><td>Corey Estrada</td><td>1703 Boyd Shore</td><td>NT</td><td>0800</td><td>Male</td><td>13</td></tr>\n",
       "<tr><td>0800</td><td>5631.999973601934</td><td>33.00000004463053</td><td>4.20609029345557E8</td><td>57789.00008173299</td><td>74682.00012457666</td><td>7678.999968193022</td><td>3.199999994700948</td><td>2419.9999940679677</td><td>Et Nunc Consulting</td><td>e</td><td>0.16</td><td>books and music</td><td>279.566905598154</td><td>2022</td><td>8</td><td>21</td><td>Kelly Clayton</td><td>4211 Rodney Tunne...</td><td>NT</td><td>0800</td><td>Female</td><td>14</td></tr>\n",
       "<tr><td>0800</td><td>5631.999973601934</td><td>33.00000004463053</td><td>4.20609029345557E8</td><td>57789.00008173299</td><td>74682.00012457666</td><td>7678.999968193022</td><td>3.199999994700948</td><td>2419.9999940679677</td><td>Eget Metus Eu Ins...</td><td>e</td><td>0.42</td><td>fashion and acces...</td><td>597.9121382310731</td><td>2022</td><td>8</td><td>14</td><td>Kelly Clayton</td><td>4211 Rodney Tunne...</td><td>NT</td><td>0800</td><td>Female</td><td>15</td></tr>\n",
       "<tr><td>0800</td><td>5631.999973601934</td><td>33.00000004463053</td><td>4.20609029345557E8</td><td>57789.00008173299</td><td>74682.00012457666</td><td>7678.999968193022</td><td>3.199999994700948</td><td>2419.9999940679677</td><td>Et Nunc Consulting</td><td>e</td><td>0.16</td><td>books and music</td><td>408.7562454527824</td><td>2022</td><td>10</td><td>23</td><td>Kelly Clayton</td><td>4211 Rodney Tunne...</td><td>NT</td><td>0800</td><td>Female</td><td>16</td></tr>\n",
       "<tr><td>0800</td><td>5631.999973601934</td><td>33.00000004463053</td><td>4.20609029345557E8</td><td>57789.00008173299</td><td>74682.00012457666</td><td>7678.999968193022</td><td>3.199999994700948</td><td>2419.9999940679677</td><td>Et Nunc Consulting</td><td>e</td><td>0.16</td><td>books and music</td><td>414.0162016652221</td><td>2022</td><td>10</td><td>10</td><td>Kelly Clayton</td><td>4211 Rodney Tunne...</td><td>NT</td><td>0800</td><td>Female</td><td>17</td></tr>\n",
       "<tr><td>0800</td><td>5631.999973601934</td><td>33.00000004463053</td><td>4.20609029345557E8</td><td>57789.00008173299</td><td>74682.00012457666</td><td>7678.999968193022</td><td>3.199999994700948</td><td>2419.9999940679677</td><td>Quis Turpis Corp.</td><td>e</td><td>0.48</td><td>outdoors</td><td>193.99308732652273</td><td>2022</td><td>5</td><td>20</td><td>Kelly Clayton</td><td>4211 Rodney Tunne...</td><td>NT</td><td>0800</td><td>Female</td><td>18</td></tr>\n",
       "<tr><td>0800</td><td>5631.999973601934</td><td>33.00000004463053</td><td>4.20609029345557E8</td><td>57789.00008173299</td><td>74682.00012457666</td><td>7678.999968193022</td><td>3.199999994700948</td><td>2419.9999940679677</td><td>Metus Sit Amet In...</td><td>e</td><td>0.38</td><td>home and technology</td><td>13.612872528851176</td><td>2021</td><td>11</td><td>25</td><td>Kelly Clayton</td><td>4211 Rodney Tunne...</td><td>NT</td><td>0800</td><td>Female</td><td>19</td></tr>\n",
       "</table>\n",
       "only showing top 20 rows\n"
      ],
      "text/plain": [
       "+--------+-----------------+-----------------+------------------+-----------------+-----------------+-----------------+-----------------+------------------+--------------------+-------------+---------+--------------------+------------------+----------+-----------+---------+-------------+--------------------+--------------+-----------------+---------------+-----------------+\n",
       "|postcode|    total_earners|       median_age|        income_sum|    income_median|      income_mean|  2021_population|              km2|       persons/km2|       merchant_name|revenue_level|take_rate|            category|      dollar_value|order_year|order_month|order_day|     consumer|    consumer_address|consumer_state|consumer_postcode|consumer_gender|__index_level_0__|\n",
       "+--------+-----------------+-----------------+------------------+-----------------+-----------------+-----------------+-----------------+------------------+--------------------+-------------+---------+--------------------+------------------+----------+-----------+---------+-------------+--------------------+--------------+-----------------+---------------+-----------------+\n",
       "|    0800|5631.999973601934|33.00000004463053|4.20609029345557E8|57789.00008173299|74682.00012457666|7678.999968193022|3.199999994700948|2419.9999940679677|  Et Nunc Consulting|            e|     0.16|     books and music|342.96279330022617|      2021|          7|       28|Peter Brennan|13276 Vazquez Rap...|            NT|             0800|    Undisclosed|                0|\n",
       "|    0800|5631.999973601934|33.00000004463053|4.20609029345557E8|57789.00008173299|74682.00012457666|7678.999968193022|3.199999994700948|2419.9999940679677|  Et Nunc Consulting|            e|     0.16|     books and music|136.99894252186246|      2021|          7|        3|Peter Brennan|13276 Vazquez Rap...|            NT|             0800|    Undisclosed|                1|\n",
       "|    0800|5631.999973601934|33.00000004463053|4.20609029345557E8|57789.00008173299|74682.00012457666|7678.999968193022|3.199999994700948|2419.9999940679677|  Et Nunc Consulting|            e|     0.16|     books and music|177.75368173476977|      2021|          4|       24|Peter Brennan|13276 Vazquez Rap...|            NT|             0800|    Undisclosed|                2|\n",
       "|    0800|5631.999973601934|33.00000004463053|4.20609029345557E8|57789.00008173299|74682.00012457666|7678.999968193022|3.199999994700948|2419.9999940679677|     Eros Industries|            e|     0.41| home and technology| 479.9895071820776|      2022|         10|       15|Peter Brennan|13276 Vazquez Rap...|            NT|             0800|    Undisclosed|                3|\n",
       "|    0800|5631.999973601934|33.00000004463053|4.20609029345557E8|57789.00008173299|74682.00012457666|7678.999968193022|3.199999994700948|2419.9999940679677|  Et Nunc Consulting|            e|     0.16|     books and music|379.98044657170163|      2022|          8|       13|Peter Brennan|13276 Vazquez Rap...|            NT|             0800|    Undisclosed|                4|\n",
       "|    0800|5631.999973601934|33.00000004463053|4.20609029345557E8|57789.00008173299|74682.00012457666|7678.999968193022|3.199999994700948|2419.9999940679677|  Et Nunc Consulting|            e|     0.16|     books and music|109.58880832350144|      2022|          7|        7|Peter Brennan|13276 Vazquez Rap...|            NT|             0800|    Undisclosed|                5|\n",
       "|    0800|5631.999973601934|33.00000004463053|4.20609029345557E8|57789.00008173299|74682.00012457666|7678.999968193022|3.199999994700948|2419.9999940679677|     Eros Industries|            e|     0.41| home and technology| 68.01352266651773|      2022|          3|       11|Peter Brennan|13276 Vazquez Rap...|            NT|             0800|    Undisclosed|                6|\n",
       "|    0800|5631.999973601934|33.00000004463053|4.20609029345557E8|57789.00008173299|74682.00012457666|7678.999968193022|3.199999994700948|2419.9999940679677|   Quis Turpis Corp.|            e|     0.48|            outdoors| 2385.412594085288|      2021|         11|       28|Peter Brennan|13276 Vazquez Rap...|            NT|             0800|    Undisclosed|                7|\n",
       "|    0800|5631.999973601934|33.00000004463053|4.20609029345557E8|57789.00008173299|74682.00012457666|7678.999968193022|3.199999994700948|2419.9999940679677|  Et Nunc Consulting|            e|     0.16|     books and music|100.81395268964151|      2021|         11|       10|Peter Brennan|13276 Vazquez Rap...|            NT|             0800|    Undisclosed|                8|\n",
       "|    0800|5631.999973601934|33.00000004463053|4.20609029345557E8|57789.00008173299|74682.00012457666|7678.999968193022|3.199999994700948|2419.9999940679677|Eget Metus Eu Ins...|            e|     0.42|fashion and acces...| 213.9312766603582|      2022|          5|       22|Corey Estrada|     1703 Boyd Shore|            NT|             0800|           Male|                9|\n",
       "|    0800|5631.999973601934|33.00000004463053|4.20609029345557E8|57789.00008173299|74682.00012457666|7678.999968193022|3.199999994700948|2419.9999940679677|  Et Nunc Consulting|            e|     0.16|     books and music|131.91911552398736|      2021|         12|        1|Corey Estrada|     1703 Boyd Shore|            NT|             0800|           Male|               10|\n",
       "|    0800|5631.999973601934|33.00000004463053|4.20609029345557E8|57789.00008173299|74682.00012457666|7678.999968193022|3.199999994700948|2419.9999940679677|  Et Nunc Consulting|            e|     0.16|     books and music|104.72841712285454|      2021|         12|        5|Corey Estrada|     1703 Boyd Shore|            NT|             0800|           Male|               11|\n",
       "|    0800|5631.999973601934|33.00000004463053|4.20609029345557E8|57789.00008173299|74682.00012457666|7678.999968193022|3.199999994700948|2419.9999940679677|        Nunc Est LLP|            e|     0.22|fashion and acces...| 71.37258526040347|      2021|         11|        6|Corey Estrada|     1703 Boyd Shore|            NT|             0800|           Male|               12|\n",
       "|    0800|5631.999973601934|33.00000004463053|4.20609029345557E8|57789.00008173299|74682.00012457666|7678.999968193022|3.199999994700948|2419.9999940679677|  Et Nunc Consulting|            e|     0.16|     books and music|316.85658597928943|      2022|          1|        6|Corey Estrada|     1703 Boyd Shore|            NT|             0800|           Male|               13|\n",
       "|    0800|5631.999973601934|33.00000004463053|4.20609029345557E8|57789.00008173299|74682.00012457666|7678.999968193022|3.199999994700948|2419.9999940679677|  Et Nunc Consulting|            e|     0.16|     books and music|  279.566905598154|      2022|          8|       21|Kelly Clayton|4211 Rodney Tunne...|            NT|             0800|         Female|               14|\n",
       "|    0800|5631.999973601934|33.00000004463053|4.20609029345557E8|57789.00008173299|74682.00012457666|7678.999968193022|3.199999994700948|2419.9999940679677|Eget Metus Eu Ins...|            e|     0.42|fashion and acces...| 597.9121382310731|      2022|          8|       14|Kelly Clayton|4211 Rodney Tunne...|            NT|             0800|         Female|               15|\n",
       "|    0800|5631.999973601934|33.00000004463053|4.20609029345557E8|57789.00008173299|74682.00012457666|7678.999968193022|3.199999994700948|2419.9999940679677|  Et Nunc Consulting|            e|     0.16|     books and music| 408.7562454527824|      2022|         10|       23|Kelly Clayton|4211 Rodney Tunne...|            NT|             0800|         Female|               16|\n",
       "|    0800|5631.999973601934|33.00000004463053|4.20609029345557E8|57789.00008173299|74682.00012457666|7678.999968193022|3.199999994700948|2419.9999940679677|  Et Nunc Consulting|            e|     0.16|     books and music| 414.0162016652221|      2022|         10|       10|Kelly Clayton|4211 Rodney Tunne...|            NT|             0800|         Female|               17|\n",
       "|    0800|5631.999973601934|33.00000004463053|4.20609029345557E8|57789.00008173299|74682.00012457666|7678.999968193022|3.199999994700948|2419.9999940679677|   Quis Turpis Corp.|            e|     0.48|            outdoors|193.99308732652273|      2022|          5|       20|Kelly Clayton|4211 Rodney Tunne...|            NT|             0800|         Female|               18|\n",
       "|    0800|5631.999973601934|33.00000004463053|4.20609029345557E8|57789.00008173299|74682.00012457666|7678.999968193022|3.199999994700948|2419.9999940679677|Metus Sit Amet In...|            e|     0.38| home and technology|13.612872528851176|      2021|         11|       25|Kelly Clayton|4211 Rodney Tunne...|            NT|             0800|         Female|               19|\n",
       "+--------+-----------------+-----------------+------------------+-----------------+-----------------+-----------------+-----------------+------------------+--------------------+-------------+---------+--------------------+------------------+----------+-----------+---------+-------------+--------------------+--------------+-----------------+---------------+-----------------+\n",
       "only showing top 20 rows"
      ]
     },
     "execution_count": 3,
     "metadata": {},
     "output_type": "execute_result"
    }
   ],
   "source": [
    "df"
   ]
  },
  {
   "cell_type": "markdown",
   "metadata": {},
   "source": [
    "<h2>1. Split dataset</h2>"
   ]
  },
  {
   "cell_type": "code",
   "execution_count": 4,
   "metadata": {},
   "outputs": [],
   "source": [
    "import time\n",
    "import datetime\n",
    "date = \"2022-08-28\" # 2022 week34\n",
    "date_time = datetime.datetime.strptime(date, '%Y-%m-%d')"
   ]
  },
  {
   "cell_type": "code",
   "execution_count": 5,
   "metadata": {},
   "outputs": [
    {
     "data": {
      "text/plain": [
       "9811158"
      ]
     },
     "execution_count": 5,
     "metadata": {},
     "output_type": "execute_result"
    }
   ],
   "source": [
    "df_train = df.where((col(\"order_datetime\") <= date_time.date()))\n",
    "df_train.count()"
   ]
  },
  {
   "cell_type": "code",
   "execution_count": 6,
   "metadata": {},
   "outputs": [
    {
     "data": {
      "text/plain": [
       "1276767"
      ]
     },
     "execution_count": 6,
     "metadata": {},
     "output_type": "execute_result"
    }
   ],
   "source": [
    "df_test = df.where((col(\"order_datetime\") > date_time.date()))\n",
    "df_test.count()"
   ]
  },
  {
   "cell_type": "markdown",
   "metadata": {},
   "source": [
    "<h2>2. Aggregate dataset</h2>"
   ]
  },
  {
   "cell_type": "code",
   "execution_count": 7,
   "metadata": {},
   "outputs": [],
   "source": [
    "df_train_agg = df_train.groupBy([\"merchant_name\", \"order_year\", \"order_month\", \"order_week\"]).agg(\n",
    "    sum(\"dollar_value\").alias(\"total_revenue\"), # response variable\n",
    "    \n",
    "    max(\"take_rate\").alias(\"take_rate\"),\n",
    "    avg(\"total_earners\").alias(\"total_earners\"),\n",
    "    avg(\"median_age\").alias(\"median_age\"),\n",
    "    avg(\"income_median\").alias(\"income_median\"),\n",
    "    avg(\"persons/km2\").alias(\"population_density\"),\n",
    "    max(\"category\").alias(\"category\"),\n",
    "    max(\"revenue_level\").alias(\"revenue_level\")\n",
    "    )\n",
    "\n",
    "df_test_agg = df_test.groupBy([\"merchant_name\", \"order_year\", \"order_month\", \"order_week\"]).agg(\n",
    "    sum(\"dollar_value\").alias(\"total_revenue\"), # response variable\n",
    "\n",
    "    max(\"take_rate\").alias(\"take_rate\"),\n",
    "    avg(\"total_earners\").alias(\"total_earners\"),\n",
    "    avg(\"median_age\").alias(\"median_age\"),\n",
    "    avg(\"income_median\").alias(\"income_median\"),\n",
    "    avg(\"persons/km2\").alias(\"population_density\"),\n",
    "    max(\"category\").alias(\"category\"),\n",
    "    max(\"revenue_level\").alias(\"revenue_level\")\n",
    "    )"
   ]
  },
  {
   "cell_type": "code",
   "execution_count": 8,
   "metadata": {},
   "outputs": [],
   "source": [
    "df_all = df.groupBy([\"merchant_name\", \"order_year\", \"order_month\", \"order_week\"]).agg(\n",
    "    sum(\"dollar_value\").alias(\"total_revenue\"), # response variable\n",
    "\n",
    "    max(\"take_rate\").alias(\"take_rate\"),\n",
    "    avg(\"total_earners\").alias(\"total_earners\"),\n",
    "    avg(\"median_age\").alias(\"median_age\"),\n",
    "    avg(\"income_median\").alias(\"income_median\"),\n",
    "    avg(\"persons/km2\").alias(\"population_density\"),\n",
    "    max(\"category\").alias(\"category\"),\n",
    "    max(\"revenue_level\").alias(\"revenue_level\")\n",
    "    )"
   ]
  },
  {
   "cell_type": "code",
   "execution_count": 9,
   "metadata": {},
   "outputs": [],
   "source": [
    "df_train_agg = df_train_agg.withColumn(\"revenue_taken\", F.col(\"total_revenue\") * (F.col(\"take_rate\") / 100))\n",
    "df_test_agg = df_test_agg.withColumn(\"revenue_taken\", F.col(\"total_revenue\") * (F.col(\"take_rate\") / 100))\n",
    "df_all = df_all.withColumn(\"revenue_taken\", F.col(\"total_revenue\") * (F.col(\"take_rate\") / 100))"
   ]
  },
  {
   "cell_type": "code",
   "execution_count": 10,
   "metadata": {},
   "outputs": [],
   "source": [
    "df_train_agg = df_train_agg.drop(\"total_revenue\", \"take_rate\")\n",
    "df_test_agg = df_test_agg.drop(\"total_revenue\", \"take_rate\")\n",
    "df_all = df_all.drop(\"total_revenue\", \"take_rate\")"
   ]
  },
  {
   "cell_type": "code",
   "execution_count": 11,
   "metadata": {},
   "outputs": [
    {
     "name": "stderr",
     "output_type": "stream",
     "text": [
      "                                                                                \r"
     ]
    },
    {
     "data": {
      "text/html": [
       "<table border='1'>\n",
       "<tr><th>merchant_name</th><th>order_year</th><th>order_month</th><th>total_earners</th><th>median_age</th><th>income_median</th><th>population_density</th><th>category</th><th>revenue_level</th><th>revenue_taken</th></tr>\n",
       "<tr><td>A Aliquet Ltd</td><td>2021</td><td>3</td><td>4980.623604961794</td><td>45.955320262557386</td><td>44348.234836395015</td><td>446.43100140347246</td><td>home and technology</td><td>b</td><td>349.5484134530372</td></tr>\n",
       "<tr><td>A Aliquet Ltd</td><td>2021</td><td>4</td><td>5354.985464077088</td><td>44.957488804012904</td><td>47087.020093628846</td><td>661.3048628221844</td><td>home and technology</td><td>b</td><td>338.07536243758386</td></tr>\n",
       "<tr><td>A Aliquet Ltd</td><td>2021</td><td>7</td><td>4388.982031619088</td><td>44.56853448053012</td><td>44286.808317322975</td><td>322.56914352472995</td><td>home and technology</td><td>b</td><td>475.18502622308233</td></tr>\n",
       "<tr><td>A Aliquet Ltd</td><td>2021</td><td>8</td><td>5281.06502903092</td><td>41.808178897353294</td><td>44432.17706152081</td><td>674.1575473010176</td><td>home and technology</td><td>b</td><td>375.8536740741011</td></tr>\n",
       "<tr><td>A Aliquet Ltd</td><td>2021</td><td>12</td><td>4218.068045625177</td><td>44.00092016580645</td><td>45702.003770359916</td><td>633.7586224746047</td><td>home and technology</td><td>b</td><td>486.47663958043245</td></tr>\n",
       "<tr><td>A Aliquet Ltd</td><td>2022</td><td>6</td><td>4907.6821031588515</td><td>44.52282551974433</td><td>46859.1278088761</td><td>506.7066383636061</td><td>home and technology</td><td>b</td><td>383.8019227224976</td></tr>\n",
       "<tr><td>A Aliquet Ltd</td><td>2022</td><td>8</td><td>4587.962567801989</td><td>43.09698805802131</td><td>45936.13593995373</td><td>564.2479724970453</td><td>home and technology</td><td>b</td><td>537.5835117882583</td></tr>\n",
       "<tr><td>A Arcu Industries</td><td>2021</td><td>2</td><td>3464.1233178609377</td><td>46.506422301920416</td><td>51956.04631148328</td><td>12.921544307761414</td><td>outdoors</td><td>c</td><td>21.744568393051882</td></tr>\n",
       "<tr><td>A Arcu Industries</td><td>2021</td><td>12</td><td>4631.073949176494</td><td>43.00178251688292</td><td>45797.775562465315</td><td>590.2452906166948</td><td>outdoors</td><td>c</td><td>1582.2315307816057</td></tr>\n",
       "<tr><td>A Arcu Industries</td><td>2022</td><td>5</td><td>4953.264665124492</td><td>41.985087824662386</td><td>46570.62536428412</td><td>839.7026423642426</td><td>outdoors</td><td>c</td><td>1203.3213130052611</td></tr>\n",
       "<tr><td>A Arcu Industries</td><td>2022</td><td>6</td><td>4770.525472823367</td><td>44.13508031319623</td><td>46263.953992811774</td><td>439.45201957696486</td><td>outdoors</td><td>c</td><td>1488.332961841242</td></tr>\n",
       "<tr><td>A Arcu Sed Company</td><td>2022</td><td>8</td><td>4873.956983949013</td><td>44.03634565497028</td><td>46842.44706871208</td><td>616.690762429152</td><td>fashion and acces...</td><td>c</td><td>202.0072445906398</td></tr>\n",
       "<tr><td>A Arcu Sed Corpor...</td><td>2021</td><td>7</td><td>5023.5</td><td>47.5</td><td>43662.5</td><td>14.95</td><td>books and music</td><td>c</td><td>21.978148597716995</td></tr>\n",
       "<tr><td>A Arcu Sed Corpor...</td><td>2021</td><td>10</td><td>5349.034019515486</td><td>46.94499080809525</td><td>42227.33971980946</td><td>1.4199603095297617</td><td>books and music</td><td>c</td><td>18.525218218704357</td></tr>\n",
       "<tr><td>A Arcu Sed Corpor...</td><td>2022</td><td>2</td><td>1991.000002001133</td><td>46.0</td><td>53440.99999854395</td><td>0.10000000966965378</td><td>books and music</td><td>c</td><td>6.192477552935265</td></tr>\n",
       "<tr><td>A Arcu Sed Corpor...</td><td>2022</td><td>5</td><td>5233.999998360157</td><td>48.00000000011362</td><td>41938.999999736334</td><td>2.000000003477454</td><td>books and music</td><td>c</td><td>22.590067125541005</td></tr>\n",
       "<tr><td>A Arcu Sed Corpor...</td><td>2022</td><td>8</td><td>3486.0</td><td>53.0</td><td>41140.0</td><td>2.1</td><td>books and music</td><td>c</td><td>28.8037844882498</td></tr>\n",
       "<tr><td>A Associates</td><td>2021</td><td>3</td><td>4035.9999993720544</td><td>47.79999999897406</td><td>40354.6000001081</td><td>2.920000027671273</td><td>fashion and acces...</td><td>b</td><td>78.95860752978314</td></tr>\n",
       "<tr><td>A Associates</td><td>2021</td><td>6</td><td>9168.0</td><td>55.0</td><td>38476.0</td><td>143.2</td><td>fashion and acces...</td><td>b</td><td>15.683284998150128</td></tr>\n",
       "<tr><td>A Associates</td><td>2021</td><td>7</td><td>7989.806454944793</td><td>43.20363630960536</td><td>55311.55687083746</td><td>1210.7668326520588</td><td>fashion and acces...</td><td>b</td><td>17.144569924080127</td></tr>\n",
       "</table>\n",
       "only showing top 20 rows\n"
      ],
      "text/plain": [
       "+--------------------+----------+-----------+------------------+------------------+------------------+-------------------+--------------------+-------------+------------------+\n",
       "|       merchant_name|order_year|order_month|     total_earners|        median_age|     income_median| population_density|            category|revenue_level|     revenue_taken|\n",
       "+--------------------+----------+-----------+------------------+------------------+------------------+-------------------+--------------------+-------------+------------------+\n",
       "|       A Aliquet Ltd|      2021|          3| 4980.623604961794|45.955320262557386|44348.234836395015| 446.43100140347246| home and technology|            b| 349.5484134530372|\n",
       "|       A Aliquet Ltd|      2021|          4| 5354.985464077088|44.957488804012904|47087.020093628846|  661.3048628221844| home and technology|            b|338.07536243758386|\n",
       "|       A Aliquet Ltd|      2021|          7| 4388.982031619088| 44.56853448053012|44286.808317322975| 322.56914352472995| home and technology|            b|475.18502622308233|\n",
       "|       A Aliquet Ltd|      2021|          8|  5281.06502903092|41.808178897353294| 44432.17706152081|  674.1575473010176| home and technology|            b| 375.8536740741011|\n",
       "|       A Aliquet Ltd|      2021|         12| 4218.068045625177| 44.00092016580645|45702.003770359916|  633.7586224746047| home and technology|            b|486.47663958043245|\n",
       "|       A Aliquet Ltd|      2022|          6|4907.6821031588515| 44.52282551974433|  46859.1278088761|  506.7066383636061| home and technology|            b| 383.8019227224976|\n",
       "|       A Aliquet Ltd|      2022|          8| 4587.962567801989| 43.09698805802131| 45936.13593995373|  564.2479724970453| home and technology|            b| 537.5835117882583|\n",
       "|   A Arcu Industries|      2021|          2|3464.1233178609377|46.506422301920416| 51956.04631148328| 12.921544307761414|            outdoors|            c|21.744568393051882|\n",
       "|   A Arcu Industries|      2021|         12| 4631.073949176494| 43.00178251688292|45797.775562465315|  590.2452906166948|            outdoors|            c|1582.2315307816057|\n",
       "|   A Arcu Industries|      2022|          5| 4953.264665124492|41.985087824662386| 46570.62536428412|  839.7026423642426|            outdoors|            c|1203.3213130052611|\n",
       "|   A Arcu Industries|      2022|          6| 4770.525472823367| 44.13508031319623|46263.953992811774| 439.45201957696486|            outdoors|            c| 1488.332961841242|\n",
       "|  A Arcu Sed Company|      2022|          8| 4873.956983949013| 44.03634565497028| 46842.44706871208|   616.690762429152|fashion and acces...|            c| 202.0072445906398|\n",
       "|A Arcu Sed Corpor...|      2021|          7|            5023.5|              47.5|           43662.5|              14.95|     books and music|            c|21.978148597716995|\n",
       "|A Arcu Sed Corpor...|      2021|         10| 5349.034019515486| 46.94499080809525| 42227.33971980946| 1.4199603095297617|     books and music|            c|18.525218218704357|\n",
       "|A Arcu Sed Corpor...|      2022|          2| 1991.000002001133|              46.0| 53440.99999854395|0.10000000966965378|     books and music|            c| 6.192477552935265|\n",
       "|A Arcu Sed Corpor...|      2022|          5| 5233.999998360157| 48.00000000011362|41938.999999736334|  2.000000003477454|     books and music|            c|22.590067125541005|\n",
       "|A Arcu Sed Corpor...|      2022|          8|            3486.0|              53.0|           41140.0|                2.1|     books and music|            c|  28.8037844882498|\n",
       "|        A Associates|      2021|          3|4035.9999993720544| 47.79999999897406|  40354.6000001081|  2.920000027671273|fashion and acces...|            b| 78.95860752978314|\n",
       "|        A Associates|      2021|          6|            9168.0|              55.0|           38476.0|              143.2|fashion and acces...|            b|15.683284998150128|\n",
       "|        A Associates|      2021|          7| 7989.806454944793| 43.20363630960536| 55311.55687083746| 1210.7668326520588|fashion and acces...|            b|17.144569924080127|\n",
       "+--------------------+----------+-----------+------------------+------------------+------------------+-------------------+--------------------+-------------+------------------+\n",
       "only showing top 20 rows"
      ]
     },
     "execution_count": 11,
     "metadata": {},
     "output_type": "execute_result"
    }
   ],
   "source": [
    "df_train_agg"
   ]
  },
  {
   "cell_type": "code",
   "execution_count": 12,
   "metadata": {},
   "outputs": [
    {
     "name": "stdout",
     "output_type": "stream",
     "text": [
      "root\n",
      " |-- merchant_name: string (nullable = true)\n",
      " |-- order_year: integer (nullable = true)\n",
      " |-- order_month: integer (nullable = true)\n",
      " |-- total_earners: double (nullable = true)\n",
      " |-- median_age: double (nullable = true)\n",
      " |-- income_median: double (nullable = true)\n",
      " |-- population_density: double (nullable = true)\n",
      " |-- category: string (nullable = true)\n",
      " |-- revenue_level: string (nullable = true)\n",
      " |-- revenue_taken: double (nullable = true)\n",
      "\n"
     ]
    }
   ],
   "source": [
    "df_train_agg.printSchema()"
   ]
  },
  {
   "cell_type": "code",
   "execution_count": 13,
   "metadata": {},
   "outputs": [
    {
     "name": "stderr",
     "output_type": "stream",
     "text": [
      "                                                                                \r"
     ]
    }
   ],
   "source": [
    "from xxlimited import Str\n",
    "from pyspark.ml.feature import OneHotEncoder, StringIndexer\n",
    "\n",
    "stringIndexer = StringIndexer(inputCols=[\"category\", \"revenue_level\"], outputCols=[\"category_num\", \"revenue_num\"])\n",
    "model = stringIndexer.fit(df_train_agg)\n",
    "train1 = model.transform(df_train_agg)\n",
    "\n",
    "model = stringIndexer.fit(df_test_agg)\n",
    "test1 = model.transform(df_test_agg)\n"
   ]
  },
  {
   "cell_type": "code",
   "execution_count": 14,
   "metadata": {},
   "outputs": [],
   "source": [
    "\n",
    "encoder = OneHotEncoder(inputCols=[\"category_num\", \"revenue_num\"], outputCols=[\"category_vec\", \"revenue_vec\"])\n",
    "train = encoder.fit(train1).transform(train1).drop(\"category_num\", \"revenue_num\")\n",
    "test = encoder.fit(test1).transform(test1).drop(\"category_num\", \"revenue_num\")\n"
   ]
  },
  {
   "cell_type": "code",
   "execution_count": 15,
   "metadata": {},
   "outputs": [
    {
     "name": "stderr",
     "output_type": "stream",
     "text": [
      "                                                                                \r"
     ]
    },
    {
     "data": {
      "text/html": [
       "<table border='1'>\n",
       "<tr><th>merchant_name</th><th>order_year</th><th>order_month</th><th>total_earners</th><th>median_age</th><th>income_median</th><th>population_density</th><th>category</th><th>revenue_level</th><th>revenue_taken</th><th>category_vec</th><th>revenue_vec</th></tr>\n",
       "<tr><td>A Aliquet Ltd</td><td>2021</td><td>3</td><td>4980.623604961794</td><td>45.955320262557386</td><td>44348.234836395015</td><td>446.43100140347246</td><td>home and technology</td><td>b</td><td>349.5484134530372</td><td>(4,[0],[1.0])</td><td>(4,[1],[1.0])</td></tr>\n",
       "<tr><td>A Aliquet Ltd</td><td>2021</td><td>4</td><td>5354.985464077088</td><td>44.957488804012904</td><td>47087.020093628846</td><td>661.3048628221844</td><td>home and technology</td><td>b</td><td>338.07536243758386</td><td>(4,[0],[1.0])</td><td>(4,[1],[1.0])</td></tr>\n",
       "<tr><td>A Aliquet Ltd</td><td>2021</td><td>7</td><td>4388.982031619088</td><td>44.56853448053012</td><td>44286.808317322975</td><td>322.56914352472995</td><td>home and technology</td><td>b</td><td>475.18502622308233</td><td>(4,[0],[1.0])</td><td>(4,[1],[1.0])</td></tr>\n",
       "<tr><td>A Aliquet Ltd</td><td>2021</td><td>8</td><td>5281.06502903092</td><td>41.808178897353294</td><td>44432.17706152081</td><td>674.1575473010176</td><td>home and technology</td><td>b</td><td>375.8536740741011</td><td>(4,[0],[1.0])</td><td>(4,[1],[1.0])</td></tr>\n",
       "<tr><td>A Aliquet Ltd</td><td>2021</td><td>12</td><td>4218.068045625177</td><td>44.00092016580645</td><td>45702.003770359916</td><td>633.7586224746047</td><td>home and technology</td><td>b</td><td>486.47663958043245</td><td>(4,[0],[1.0])</td><td>(4,[1],[1.0])</td></tr>\n",
       "<tr><td>A Aliquet Ltd</td><td>2022</td><td>6</td><td>4907.6821031588515</td><td>44.52282551974433</td><td>46859.1278088761</td><td>506.7066383636061</td><td>home and technology</td><td>b</td><td>383.8019227224976</td><td>(4,[0],[1.0])</td><td>(4,[1],[1.0])</td></tr>\n",
       "<tr><td>A Aliquet Ltd</td><td>2022</td><td>8</td><td>4587.962567801989</td><td>43.09698805802131</td><td>45936.13593995373</td><td>564.2479724970453</td><td>home and technology</td><td>b</td><td>537.5835117882583</td><td>(4,[0],[1.0])</td><td>(4,[1],[1.0])</td></tr>\n",
       "<tr><td>A Arcu Industries</td><td>2021</td><td>2</td><td>3464.1233178609377</td><td>46.506422301920416</td><td>51956.04631148328</td><td>12.921544307761414</td><td>outdoors</td><td>c</td><td>21.744568393051882</td><td>(4,[2],[1.0])</td><td>(4,[2],[1.0])</td></tr>\n",
       "<tr><td>A Arcu Industries</td><td>2021</td><td>12</td><td>4631.073949176494</td><td>43.00178251688292</td><td>45797.775562465315</td><td>590.2452906166948</td><td>outdoors</td><td>c</td><td>1582.2315307816057</td><td>(4,[2],[1.0])</td><td>(4,[2],[1.0])</td></tr>\n",
       "<tr><td>A Arcu Industries</td><td>2022</td><td>5</td><td>4953.264665124492</td><td>41.985087824662386</td><td>46570.62536428412</td><td>839.7026423642426</td><td>outdoors</td><td>c</td><td>1203.3213130052611</td><td>(4,[2],[1.0])</td><td>(4,[2],[1.0])</td></tr>\n",
       "<tr><td>A Arcu Industries</td><td>2022</td><td>6</td><td>4770.525472823367</td><td>44.13508031319623</td><td>46263.953992811774</td><td>439.45201957696486</td><td>outdoors</td><td>c</td><td>1488.332961841242</td><td>(4,[2],[1.0])</td><td>(4,[2],[1.0])</td></tr>\n",
       "<tr><td>A Arcu Sed Company</td><td>2022</td><td>8</td><td>4873.956983949013</td><td>44.03634565497028</td><td>46842.44706871208</td><td>616.690762429152</td><td>fashion and acces...</td><td>c</td><td>202.0072445906398</td><td>(4,[3],[1.0])</td><td>(4,[2],[1.0])</td></tr>\n",
       "<tr><td>A Arcu Sed Corpor...</td><td>2021</td><td>7</td><td>5023.5</td><td>47.5</td><td>43662.5</td><td>14.95</td><td>books and music</td><td>c</td><td>21.978148597716995</td><td>(4,[1],[1.0])</td><td>(4,[2],[1.0])</td></tr>\n",
       "<tr><td>A Arcu Sed Corpor...</td><td>2021</td><td>10</td><td>5349.034019515486</td><td>46.94499080809525</td><td>42227.33971980946</td><td>1.4199603095297617</td><td>books and music</td><td>c</td><td>18.525218218704357</td><td>(4,[1],[1.0])</td><td>(4,[2],[1.0])</td></tr>\n",
       "<tr><td>A Arcu Sed Corpor...</td><td>2022</td><td>2</td><td>1991.000002001133</td><td>46.0</td><td>53440.99999854395</td><td>0.10000000966965378</td><td>books and music</td><td>c</td><td>6.192477552935265</td><td>(4,[1],[1.0])</td><td>(4,[2],[1.0])</td></tr>\n",
       "<tr><td>A Arcu Sed Corpor...</td><td>2022</td><td>5</td><td>5233.999998360157</td><td>48.00000000011362</td><td>41938.999999736334</td><td>2.000000003477454</td><td>books and music</td><td>c</td><td>22.590067125541005</td><td>(4,[1],[1.0])</td><td>(4,[2],[1.0])</td></tr>\n",
       "<tr><td>A Arcu Sed Corpor...</td><td>2022</td><td>8</td><td>3486.0</td><td>53.0</td><td>41140.0</td><td>2.1</td><td>books and music</td><td>c</td><td>28.8037844882498</td><td>(4,[1],[1.0])</td><td>(4,[2],[1.0])</td></tr>\n",
       "<tr><td>A Associates</td><td>2021</td><td>3</td><td>4035.9999993720544</td><td>47.79999999897406</td><td>40354.6000001081</td><td>2.920000027671273</td><td>fashion and acces...</td><td>b</td><td>78.95860752978314</td><td>(4,[3],[1.0])</td><td>(4,[1],[1.0])</td></tr>\n",
       "<tr><td>A Associates</td><td>2021</td><td>6</td><td>9168.0</td><td>55.0</td><td>38476.0</td><td>143.2</td><td>fashion and acces...</td><td>b</td><td>15.683284998150128</td><td>(4,[3],[1.0])</td><td>(4,[1],[1.0])</td></tr>\n",
       "<tr><td>A Associates</td><td>2021</td><td>7</td><td>7989.806454944793</td><td>43.20363630960536</td><td>55311.55687083746</td><td>1210.7668326520588</td><td>fashion and acces...</td><td>b</td><td>17.144569924080127</td><td>(4,[3],[1.0])</td><td>(4,[1],[1.0])</td></tr>\n",
       "</table>\n",
       "only showing top 20 rows\n"
      ],
      "text/plain": [
       "+--------------------+----------+-----------+------------------+------------------+------------------+-------------------+--------------------+-------------+------------------+-------------+-------------+\n",
       "|       merchant_name|order_year|order_month|     total_earners|        median_age|     income_median| population_density|            category|revenue_level|     revenue_taken| category_vec|  revenue_vec|\n",
       "+--------------------+----------+-----------+------------------+------------------+------------------+-------------------+--------------------+-------------+------------------+-------------+-------------+\n",
       "|       A Aliquet Ltd|      2021|          3| 4980.623604961794|45.955320262557386|44348.234836395015| 446.43100140347246| home and technology|            b| 349.5484134530372|(4,[0],[1.0])|(4,[1],[1.0])|\n",
       "|       A Aliquet Ltd|      2021|          4| 5354.985464077088|44.957488804012904|47087.020093628846|  661.3048628221844| home and technology|            b|338.07536243758386|(4,[0],[1.0])|(4,[1],[1.0])|\n",
       "|       A Aliquet Ltd|      2021|          7| 4388.982031619088| 44.56853448053012|44286.808317322975| 322.56914352472995| home and technology|            b|475.18502622308233|(4,[0],[1.0])|(4,[1],[1.0])|\n",
       "|       A Aliquet Ltd|      2021|          8|  5281.06502903092|41.808178897353294| 44432.17706152081|  674.1575473010176| home and technology|            b| 375.8536740741011|(4,[0],[1.0])|(4,[1],[1.0])|\n",
       "|       A Aliquet Ltd|      2021|         12| 4218.068045625177| 44.00092016580645|45702.003770359916|  633.7586224746047| home and technology|            b|486.47663958043245|(4,[0],[1.0])|(4,[1],[1.0])|\n",
       "|       A Aliquet Ltd|      2022|          6|4907.6821031588515| 44.52282551974433|  46859.1278088761|  506.7066383636061| home and technology|            b| 383.8019227224976|(4,[0],[1.0])|(4,[1],[1.0])|\n",
       "|       A Aliquet Ltd|      2022|          8| 4587.962567801989| 43.09698805802131| 45936.13593995373|  564.2479724970453| home and technology|            b| 537.5835117882583|(4,[0],[1.0])|(4,[1],[1.0])|\n",
       "|   A Arcu Industries|      2021|          2|3464.1233178609377|46.506422301920416| 51956.04631148328| 12.921544307761414|            outdoors|            c|21.744568393051882|(4,[2],[1.0])|(4,[2],[1.0])|\n",
       "|   A Arcu Industries|      2021|         12| 4631.073949176494| 43.00178251688292|45797.775562465315|  590.2452906166948|            outdoors|            c|1582.2315307816057|(4,[2],[1.0])|(4,[2],[1.0])|\n",
       "|   A Arcu Industries|      2022|          5| 4953.264665124492|41.985087824662386| 46570.62536428412|  839.7026423642426|            outdoors|            c|1203.3213130052611|(4,[2],[1.0])|(4,[2],[1.0])|\n",
       "|   A Arcu Industries|      2022|          6| 4770.525472823367| 44.13508031319623|46263.953992811774| 439.45201957696486|            outdoors|            c| 1488.332961841242|(4,[2],[1.0])|(4,[2],[1.0])|\n",
       "|  A Arcu Sed Company|      2022|          8| 4873.956983949013| 44.03634565497028| 46842.44706871208|   616.690762429152|fashion and acces...|            c| 202.0072445906398|(4,[3],[1.0])|(4,[2],[1.0])|\n",
       "|A Arcu Sed Corpor...|      2021|          7|            5023.5|              47.5|           43662.5|              14.95|     books and music|            c|21.978148597716995|(4,[1],[1.0])|(4,[2],[1.0])|\n",
       "|A Arcu Sed Corpor...|      2021|         10| 5349.034019515486| 46.94499080809525| 42227.33971980946| 1.4199603095297617|     books and music|            c|18.525218218704357|(4,[1],[1.0])|(4,[2],[1.0])|\n",
       "|A Arcu Sed Corpor...|      2022|          2| 1991.000002001133|              46.0| 53440.99999854395|0.10000000966965378|     books and music|            c| 6.192477552935265|(4,[1],[1.0])|(4,[2],[1.0])|\n",
       "|A Arcu Sed Corpor...|      2022|          5| 5233.999998360157| 48.00000000011362|41938.999999736334|  2.000000003477454|     books and music|            c|22.590067125541005|(4,[1],[1.0])|(4,[2],[1.0])|\n",
       "|A Arcu Sed Corpor...|      2022|          8|            3486.0|              53.0|           41140.0|                2.1|     books and music|            c|  28.8037844882498|(4,[1],[1.0])|(4,[2],[1.0])|\n",
       "|        A Associates|      2021|          3|4035.9999993720544| 47.79999999897406|  40354.6000001081|  2.920000027671273|fashion and acces...|            b| 78.95860752978314|(4,[3],[1.0])|(4,[1],[1.0])|\n",
       "|        A Associates|      2021|          6|            9168.0|              55.0|           38476.0|              143.2|fashion and acces...|            b|15.683284998150128|(4,[3],[1.0])|(4,[1],[1.0])|\n",
       "|        A Associates|      2021|          7| 7989.806454944793| 43.20363630960536| 55311.55687083746| 1210.7668326520588|fashion and acces...|            b|17.144569924080127|(4,[3],[1.0])|(4,[1],[1.0])|\n",
       "+--------------------+----------+-----------+------------------+------------------+------------------+-------------------+--------------------+-------------+------------------+-------------+-------------+\n",
       "only showing top 20 rows"
      ]
     },
     "execution_count": 15,
     "metadata": {},
     "output_type": "execute_result"
    }
   ],
   "source": [
    "train"
   ]
  },
  {
   "cell_type": "code",
   "execution_count": 16,
   "metadata": {},
   "outputs": [],
   "source": [
    "# vectorized the features for model training\n",
    "from pyspark.ml.feature import VectorAssembler\n",
    "\n",
    "features = 'features'\n",
    "internal_cols = [\"order_year\", \"order_month\", \"order_week\", \"category_vec\", \"revenue_vec\"]\n",
    "external_cols = [\"total_earners\", \"median_age\", \"income_median\", \"population_density\"]\n",
    "\n",
    "assembler = VectorAssembler(\n",
    "    # which column to combine\n",
    "    inputCols=internal_cols, \n",
    "    # How should the combined columns be named\n",
    "    outputCol=\"internal\"\n",
    ")\n",
    "train = assembler.transform(train.dropna('any'))\n",
    "test = assembler.transform(test.dropna('any'))\n",
    "\n",
    "assembler = VectorAssembler(\n",
    "    # which column to combine\n",
    "    inputCols=external_cols, \n",
    "    # How should the combined columns be named\n",
    "    outputCol=\"external\"\n",
    ")\n",
    "train = assembler.transform(train.dropna('any'))\n",
    "test = assembler.transform(test.dropna('any'))"
   ]
  },
  {
   "cell_type": "code",
   "execution_count": 17,
   "metadata": {},
   "outputs": [],
   "source": [
    "from pyspark.ml.feature import Interaction\n",
    "\n",
    "interaction1 = Interaction(inputCols=internal_cols, outputCol=\"internal_interact\")\n",
    "train = interaction1.transform(train)\n",
    "test = interaction1.transform(test)"
   ]
  },
  {
   "cell_type": "code",
   "execution_count": 18,
   "metadata": {},
   "outputs": [
    {
     "name": "stderr",
     "output_type": "stream",
     "text": [
      "[Stage 35:===========================================>              (3 + 1) / 4]\r"
     ]
    },
    {
     "name": "stdout",
     "output_type": "stream",
     "text": [
      "+-------------------+------------------------------------+\n",
      "|internal_interact  |internal                            |\n",
      "+-------------------+------------------------------------+\n",
      "|(16,[1],[6063.0])  |(10,[0,1,2,7],[2021.0,3.0,1.0,1.0]) |\n",
      "|(16,[1],[8084.0])  |(10,[0,1,2,7],[2021.0,4.0,1.0,1.0]) |\n",
      "|(16,[1],[14147.0]) |(10,[0,1,2,7],[2021.0,7.0,1.0,1.0]) |\n",
      "|(16,[1],[16168.0]) |(10,[0,1,2,7],[2021.0,8.0,1.0,1.0]) |\n",
      "|(16,[1],[24252.0]) |(10,[0,1,2,7],[2021.0,12.0,1.0,1.0])|\n",
      "|(16,[1],[12132.0]) |(10,[0,1,2,7],[2022.0,6.0,1.0,1.0]) |\n",
      "|(16,[1],[16176.0]) |(10,[0,1,2,7],[2022.0,8.0,1.0,1.0]) |\n",
      "|(16,[10],[4042.0]) |(10,[0,1,4,8],[2021.0,2.0,1.0,1.0]) |\n",
      "|(16,[10],[24252.0])|(10,[0,1,4,8],[2021.0,12.0,1.0,1.0])|\n",
      "|(16,[10],[10110.0])|(10,[0,1,4,8],[2022.0,5.0,1.0,1.0]) |\n",
      "|(16,[10],[12132.0])|(10,[0,1,4,8],[2022.0,6.0,1.0,1.0]) |\n",
      "|(16,[14],[16176.0])|(10,[0,1,5,8],[2022.0,8.0,1.0,1.0]) |\n",
      "|(16,[6],[14147.0]) |(10,[0,1,3,8],[2021.0,7.0,1.0,1.0]) |\n",
      "|(16,[6],[20210.0]) |(10,[0,1,3,8],[2021.0,10.0,1.0,1.0])|\n",
      "|(16,[6],[4044.0])  |(10,[0,1,3,8],[2022.0,2.0,1.0,1.0]) |\n",
      "|(16,[6],[10110.0]) |(10,[0,1,3,8],[2022.0,5.0,1.0,1.0]) |\n",
      "|(16,[6],[16176.0]) |(10,[0,1,3,8],[2022.0,8.0,1.0,1.0]) |\n",
      "|(16,[13],[6063.0]) |(10,[0,1,5,7],[2021.0,3.0,1.0,1.0]) |\n",
      "|(16,[13],[12126.0])|(10,[0,1,5,7],[2021.0,6.0,1.0,1.0]) |\n",
      "|(16,[13],[14147.0])|(10,[0,1,5,7],[2021.0,7.0,1.0,1.0]) |\n",
      "+-------------------+------------------------------------+\n",
      "only showing top 20 rows\n",
      "\n"
     ]
    },
    {
     "name": "stderr",
     "output_type": "stream",
     "text": [
      "                                                                                \r"
     ]
    }
   ],
   "source": [
    "train.select(\"internal_interact\", \"internal\").show(truncate=False)"
   ]
  },
  {
   "cell_type": "code",
   "execution_count": 19,
   "metadata": {},
   "outputs": [],
   "source": [
    "from pyspark.ml.feature import Interaction\n",
    "\n",
    "interaction2 = Interaction(inputCols=[\"internal\", \"external\"], outputCol=\"external_interact\")\n",
    "train = interaction2.transform(train)\n",
    "test = interaction2.transform(test)"
   ]
  },
  {
   "cell_type": "code",
   "execution_count": 20,
   "metadata": {},
   "outputs": [],
   "source": [
    "assembler1 = VectorAssembler(\n",
    "    # which column to combine\n",
    "    inputCols=external_cols + internal_cols, \n",
    "    # How should the combined columns be named\n",
    "    outputCol=\"feature_additive\"\n",
    ")\n",
    "\n",
    "train = assembler1.transform(train)\n",
    "test = assembler1.transform(test)"
   ]
  },
  {
   "cell_type": "code",
   "execution_count": 21,
   "metadata": {},
   "outputs": [],
   "source": [
    "\n",
    "assembler2 = VectorAssembler(\n",
    "    # which column to combine\n",
    "    inputCols=external_cols + internal_cols + [\"internal_interact\"], \n",
    "    # How should the combined columns be named\n",
    "    outputCol=\"feature_internal\"\n",
    ")\n",
    "\n",
    "train = assembler2.transform(train)\n",
    "test = assembler2.transform(test)"
   ]
  },
  {
   "cell_type": "code",
   "execution_count": 22,
   "metadata": {},
   "outputs": [],
   "source": [
    "assembler3 = VectorAssembler(\n",
    "    # which column to combine\n",
    "    inputCols=external_cols + internal_cols + [\"internal_interact\"] + [\"external_interact\"], \n",
    "    # How should the combined columns be named\n",
    "    outputCol=\"feature_all\"\n",
    ")\n",
    "\n",
    "train = assembler3.transform(train)\n",
    "test = assembler3.transform(test)"
   ]
  },
  {
   "cell_type": "code",
   "execution_count": 23,
   "metadata": {},
   "outputs": [],
   "source": [
    "import pandas as pd\n",
    "import matplotlib.pyplot as plt\n",
    "\n",
    "def plot_real_vs_pred(model_name, y_real, y_pred):\n",
    "    plt.style.use('ggplot')\n",
    "    reg_real_vs_pred = pd.concat([y_real, y_pred], axis = 1)\n",
    "    reg_real_vs_pred = reg_real_vs_pred.head(60)\n",
    "    reg_real_vs_pred.plot(kind='bar', title='MODEL: '+model_name, figsize=(16,5))\n",
    "    plt.show()"
   ]
  },
  {
   "cell_type": "markdown",
   "metadata": {},
   "source": [
    "## 3. Gradient Boost Tree"
   ]
  },
  {
   "cell_type": "code",
   "execution_count": 24,
   "metadata": {},
   "outputs": [
    {
     "name": "stderr",
     "output_type": "stream",
     "text": [
      "                                                                                \r"
     ]
    }
   ],
   "source": [
    "from pyspark.ml.regression import GBTRegressor\n",
    "\n",
    "# Define Gradient boosted tree regression algorithm\n",
    "rf_additive = GBTRegressor(maxDepth=6, \n",
    "                            featuresCol='feature_additive', \n",
    "                            labelCol='revenue_taken',\n",
    "                            ).fit(train)\n",
    "\n",
    "rf_internal = GBTRegressor(maxDepth=6, \n",
    "                  featuresCol='feature_internal', \n",
    "                  labelCol='revenue_taken',\n",
    "                  ).fit(train)\n",
    "\n",
    "rf_all = GBTRegressor(maxDepth=7, \n",
    "                  featuresCol='feature_all', \n",
    "                  labelCol='revenue_taken',\n",
    "                  ).fit(train)"
   ]
  },
  {
   "cell_type": "code",
   "execution_count": 25,
   "metadata": {},
   "outputs": [],
   "source": [
    "predictions_additive = rf_additive.transform(test)\n",
    "predictions_internal = rf_internal.transform(test)\n",
    "predictions_all = rf_all.transform(test)"
   ]
  },
  {
   "cell_type": "code",
   "execution_count": 26,
   "metadata": {},
   "outputs": [
    {
     "name": "stderr",
     "output_type": "stream",
     "text": [
      "[Stage 1205:==========================================>             (3 + 1) / 4]\r"
     ]
    },
    {
     "name": "stdout",
     "output_type": "stream",
     "text": [
      "22/10/06 18:43:18 WARN InstanceBuilder$NativeBLAS: Failed to load implementation from:dev.ludovic.netlib.blas.JNIBLAS\n",
      "22/10/06 18:43:18 WARN InstanceBuilder$NativeBLAS: Failed to load implementation from:dev.ludovic.netlib.blas.ForeignLinkerBLAS\n"
     ]
    },
    {
     "name": "stderr",
     "output_type": "stream",
     "text": [
      "[Stage 1211:==========================================>             (3 + 1) / 4]\r"
     ]
    },
    {
     "name": "stdout",
     "output_type": "stream",
     "text": [
      "Root Mean Squared Error (RMSE) for additive model = 1875.74\n",
      "Root Mean Squared Error (RMSE) for internal interaction model = 1885.05\n",
      "Root Mean Squared Error (RMSE) for full model = 1881.17\n"
     ]
    },
    {
     "name": "stderr",
     "output_type": "stream",
     "text": [
      "                                                                                \r"
     ]
    }
   ],
   "source": [
    "from pyspark.ml.evaluation import RegressionEvaluator\n",
    "# Select (prediction, true label) and compute test error\n",
    "evaluator = RegressionEvaluator(labelCol=\"revenue_taken\",\n",
    "                                predictionCol=\"prediction\",\n",
    "                                metricName=\"rmse\")\n",
    "\n",
    "\n",
    "rmse_addtive = evaluator.evaluate(predictions_additive)\n",
    "rmse_internal = evaluator.evaluate(predictions_internal)\n",
    "rmse_all = evaluator.evaluate(predictions_all)\n",
    "print(\"Root Mean Squared Error (RMSE) for additive model = %g\" % rmse_addtive)\n",
    "print(\"Root Mean Squared Error (RMSE) for internal interaction model = %g\" % rmse_internal)\n",
    "print(\"Root Mean Squared Error (RMSE) for full model = %g\" % rmse_all)"
   ]
  },
  {
   "cell_type": "code",
   "execution_count": 27,
   "metadata": {},
   "outputs": [
    {
     "name": "stderr",
     "output_type": "stream",
     "text": [
      "                                                                                \r"
     ]
    },
    {
     "name": "stdout",
     "output_type": "stream",
     "text": [
      "r2_score_additive: 0.382\n",
      "r2_score_internal: 0.376\n",
      "r2_score_all: 0.378\n"
     ]
    }
   ],
   "source": [
    "y_true_additive = predictions_additive.select(\"revenue_taken\").toPandas()\n",
    "y_pred_additive = predictions_additive.select(\"prediction\").toPandas()\n",
    "\n",
    "y_true_internal = predictions_internal.select(\"revenue_taken\").toPandas()\n",
    "y_pred_internal = predictions_internal.select(\"prediction\").toPandas()\n",
    "\n",
    "y_true_all = predictions_all.select(\"revenue_taken\").toPandas()\n",
    "y_pred_all = predictions_all.select(\"prediction\").toPandas()\n",
    "\n",
    "import sklearn.metrics\n",
    "r2_score_additive = sklearn.metrics.r2_score(y_true_additive, y_pred_additive)\n",
    "r2_score_internal = sklearn.metrics.r2_score(y_true_internal, y_pred_internal)\n",
    "r2_score_all = sklearn.metrics.r2_score(y_true_all, y_pred_all)\n",
    "print('r2_score_additive: {:4.3f}'.format(r2_score_additive))\n",
    "print('r2_score_internal: {:4.3f}'.format(r2_score_internal))\n",
    "print('r2_score_all: {:4.3f}'.format(r2_score_all))"
   ]
  },
  {
   "cell_type": "code",
   "execution_count": 28,
   "metadata": {},
   "outputs": [
    {
     "data": {
      "image/png": "[encoded data removed]",
      "text/plain": [
       "<Figure size 1152x360 with 1 Axes>"
      ]
     },
     "metadata": {
      "needs_background": "light"
     },
     "output_type": "display_data"
    }
   ],
   "source": [
    "plot_real_vs_pred(\"Gradient boost tree\", y_true_all, y_pred_all)"
   ]
  },
  {
   "cell_type": "markdown",
   "metadata": {},
   "source": [
    "## 4. Random Forest Regressor"
   ]
  },
  {
   "cell_type": "code",
   "execution_count": 29,
   "metadata": {},
   "outputs": [
    {
     "name": "stderr",
     "output_type": "stream",
     "text": [
      "                                                                                \r"
     ]
    }
   ],
   "source": [
    "# Import Random Forest Regressor\n",
    "from pyspark.ml.regression import RandomForestRegressor\n",
    "\n",
    "\n",
    "rfR_additive = RandomForestRegressor(maxDepth=6, \n",
    "                  featuresCol='feature_additive', \n",
    "                  labelCol='revenue_taken',\n",
    "                  ).fit(train)\n",
    "\n",
    "rfR_internal = RandomForestRegressor(maxDepth=6, \n",
    "                  featuresCol='feature_internal', \n",
    "                  labelCol='revenue_taken',\n",
    "                  ).fit(train)\n",
    "\n",
    "rfR_all = RandomForestRegressor(maxDepth=7, \n",
    "                  featuresCol='feature_all', \n",
    "                  labelCol='revenue_taken',\n",
    "                  ).fit(train)"
   ]
  },
  {
   "cell_type": "code",
   "execution_count": 30,
   "metadata": {},
   "outputs": [],
   "source": [
    "predictions_additive_R = rfR_additive.transform(test)\n",
    "predictions_internal_R = rfR_internal.transform(test)\n",
    "predictions_all_R = rfR_all.transform(test)"
   ]
  },
  {
   "cell_type": "code",
   "execution_count": 31,
   "metadata": {},
   "outputs": [
    {
     "name": "stderr",
     "output_type": "stream",
     "text": [
      "[Stage 1319:==========================================>             (3 + 1) / 4]\r"
     ]
    },
    {
     "name": "stdout",
     "output_type": "stream",
     "text": [
      "Root Mean Squared Error (RMSE) for additive model = 2065.82\n",
      "Root Mean Squared Error (RMSE) for internal interaction model = 2078.08\n",
      "Root Mean Squared Error (RMSE) for full model = 1970.3\n"
     ]
    },
    {
     "name": "stderr",
     "output_type": "stream",
     "text": [
      "                                                                                \r"
     ]
    }
   ],
   "source": [
    "rmse_addtive_R = evaluator.evaluate(predictions_additive_R)\n",
    "rmse_internal_R = evaluator.evaluate(predictions_internal_R)\n",
    "rmse_all_R = evaluator.evaluate(predictions_all_R)\n",
    "print(\"Root Mean Squared Error (RMSE) for additive model = %g\" % rmse_addtive_R)\n",
    "print(\"Root Mean Squared Error (RMSE) for internal interaction model = %g\" % rmse_internal_R)\n",
    "print(\"Root Mean Squared Error (RMSE) for full model = %g\" % rmse_all_R)"
   ]
  },
  {
   "cell_type": "code",
   "execution_count": 32,
   "metadata": {},
   "outputs": [
    {
     "name": "stderr",
     "output_type": "stream",
     "text": [
      "[Stage 1337:==========================================>             (3 + 1) / 4]\r"
     ]
    },
    {
     "name": "stdout",
     "output_type": "stream",
     "text": [
      "r2_score_additive: 0.250\n",
      "r2_score_internal: 0.242\n",
      "r2_score_all: 0.318\n"
     ]
    },
    {
     "name": "stderr",
     "output_type": "stream",
     "text": [
      "                                                                                \r"
     ]
    }
   ],
   "source": [
    "y_true_additive_R = predictions_additive_R.select(\"revenue_taken\").toPandas()\n",
    "y_pred_additive_R = predictions_additive_R.select(\"prediction\").toPandas()\n",
    "\n",
    "y_true_internal_R = predictions_internal_R.select(\"revenue_taken\").toPandas()\n",
    "y_pred_internal_R = predictions_internal_R.select(\"prediction\").toPandas()\n",
    "\n",
    "y_true_all_R = predictions_all_R.select(\"revenue_taken\").toPandas()\n",
    "y_pred_all_R = predictions_all_R.select(\"prediction\").toPandas()\n",
    "\n",
    "\n",
    "r2_score_additive_R = sklearn.metrics.r2_score(y_true_additive_R, y_pred_additive_R)\n",
    "r2_score_internal_R = sklearn.metrics.r2_score(y_true_internal_R, y_pred_internal_R)\n",
    "r2_score_all_R = sklearn.metrics.r2_score(y_true_all_R, y_pred_all_R)\n",
    "print('r2_score_additive: {:4.3f}'.format(r2_score_additive_R))\n",
    "print('r2_score_internal: {:4.3f}'.format(r2_score_internal_R))\n",
    "print('r2_score_all: {:4.3f}'.format(r2_score_all_R))"
   ]
  },
  {
   "cell_type": "markdown",
   "metadata": {},
   "source": [
    "## 5. Transform the total revenue to score"
   ]
  },
  {
   "cell_type": "code",
   "execution_count": 55,
   "metadata": {},
   "outputs": [
    {
     "name": "stderr",
     "output_type": "stream",
     "text": [
      "                                                                                \r"
     ]
    },
    {
     "data": {
      "text/html": [
       "<table border='1'>\n",
       "<tr><th>merchant_name</th><th>order_year</th><th>order_month</th><th>total_earners</th><th>median_age</th><th>income_median</th><th>population_density</th><th>category</th><th>revenue_level</th><th>revenue_taken</th></tr>\n",
       "<tr><td>A Aliquet Ltd</td><td>2021</td><td>3</td><td>4980.623604961794</td><td>45.955320262557386</td><td>44348.234836395015</td><td>446.43100140347246</td><td>home and technology</td><td>b</td><td>349.5484134530372</td></tr>\n",
       "<tr><td>A Aliquet Ltd</td><td>2021</td><td>4</td><td>5354.985464077088</td><td>44.957488804012904</td><td>47087.020093628846</td><td>661.3048628221844</td><td>home and technology</td><td>b</td><td>338.07536243758386</td></tr>\n",
       "<tr><td>A Aliquet Ltd</td><td>2021</td><td>7</td><td>4388.982031619088</td><td>44.56853448053012</td><td>44286.808317322975</td><td>322.56914352472995</td><td>home and technology</td><td>b</td><td>475.18502622308233</td></tr>\n",
       "<tr><td>A Aliquet Ltd</td><td>2021</td><td>8</td><td>5281.06502903092</td><td>41.808178897353294</td><td>44432.17706152081</td><td>674.1575473010176</td><td>home and technology</td><td>b</td><td>375.8536740741011</td></tr>\n",
       "<tr><td>A Aliquet Ltd</td><td>2021</td><td>12</td><td>4218.068045625177</td><td>44.00092016580645</td><td>45702.003770359916</td><td>633.7586224746047</td><td>home and technology</td><td>b</td><td>486.47663958043245</td></tr>\n",
       "<tr><td>A Aliquet Ltd</td><td>2022</td><td>6</td><td>4907.6821031588515</td><td>44.52282551974433</td><td>46859.1278088761</td><td>506.7066383636061</td><td>home and technology</td><td>b</td><td>383.8019227224976</td></tr>\n",
       "<tr><td>A Aliquet Ltd</td><td>2022</td><td>8</td><td>4587.962567801989</td><td>43.09698805802131</td><td>45936.13593995373</td><td>564.2479724970453</td><td>home and technology</td><td>b</td><td>537.5835117882583</td></tr>\n",
       "<tr><td>A Arcu Industries</td><td>2021</td><td>2</td><td>3464.1233178609377</td><td>46.506422301920416</td><td>51956.04631148328</td><td>12.921544307761414</td><td>outdoors</td><td>c</td><td>21.744568393051882</td></tr>\n",
       "<tr><td>A Arcu Industries</td><td>2021</td><td>12</td><td>4631.073949176494</td><td>43.00178251688292</td><td>45797.775562465315</td><td>590.2452906166948</td><td>outdoors</td><td>c</td><td>1582.2315307816057</td></tr>\n",
       "<tr><td>A Arcu Industries</td><td>2022</td><td>5</td><td>4953.264665124492</td><td>41.985087824662386</td><td>46570.62536428412</td><td>839.7026423642426</td><td>outdoors</td><td>c</td><td>1203.3213130052611</td></tr>\n",
       "<tr><td>A Arcu Industries</td><td>2022</td><td>6</td><td>4770.525472823367</td><td>44.13508031319623</td><td>46263.953992811774</td><td>439.45201957696486</td><td>outdoors</td><td>c</td><td>1488.332961841242</td></tr>\n",
       "<tr><td>A Arcu Sed Company</td><td>2022</td><td>8</td><td>4873.956983949013</td><td>44.03634565497028</td><td>46842.44706871208</td><td>616.690762429152</td><td>fashion and acces...</td><td>c</td><td>202.0072445906398</td></tr>\n",
       "<tr><td>A Arcu Sed Corpor...</td><td>2021</td><td>7</td><td>5023.5</td><td>47.5</td><td>43662.5</td><td>14.95</td><td>books and music</td><td>c</td><td>21.978148597716995</td></tr>\n",
       "<tr><td>A Arcu Sed Corpor...</td><td>2021</td><td>10</td><td>5349.034019515486</td><td>46.94499080809525</td><td>42227.33971980946</td><td>1.4199603095297617</td><td>books and music</td><td>c</td><td>18.525218218704357</td></tr>\n",
       "<tr><td>A Arcu Sed Corpor...</td><td>2022</td><td>2</td><td>1991.000002001133</td><td>46.0</td><td>53440.99999854395</td><td>0.10000000966965378</td><td>books and music</td><td>c</td><td>6.192477552935265</td></tr>\n",
       "<tr><td>A Arcu Sed Corpor...</td><td>2022</td><td>5</td><td>5233.999998360157</td><td>48.00000000011362</td><td>41938.999999736334</td><td>2.000000003477454</td><td>books and music</td><td>c</td><td>22.590067125541005</td></tr>\n",
       "<tr><td>A Arcu Sed Corpor...</td><td>2022</td><td>8</td><td>3486.0</td><td>53.0</td><td>41140.0</td><td>2.1</td><td>books and music</td><td>c</td><td>28.8037844882498</td></tr>\n",
       "<tr><td>A Associates</td><td>2021</td><td>3</td><td>4035.9999993720544</td><td>47.79999999897406</td><td>40354.6000001081</td><td>2.920000027671273</td><td>fashion and acces...</td><td>b</td><td>78.95860752978314</td></tr>\n",
       "<tr><td>A Associates</td><td>2021</td><td>6</td><td>9168.0</td><td>55.0</td><td>38476.0</td><td>143.2</td><td>fashion and acces...</td><td>b</td><td>15.683284998150128</td></tr>\n",
       "<tr><td>A Associates</td><td>2021</td><td>7</td><td>7989.806454944793</td><td>43.20363630960536</td><td>55311.55687083746</td><td>1210.7668326520588</td><td>fashion and acces...</td><td>b</td><td>17.144569924080127</td></tr>\n",
       "</table>\n",
       "only showing top 20 rows\n"
      ],
      "text/plain": [
       "DataFrame[merchant_name: string, order_year: int, order_month: int, total_earners: double, median_age: double, income_median: double, population_density: double, category: string, revenue_level: string, revenue_taken: double]"
      ]
     },
     "execution_count": 55,
     "metadata": {},
     "output_type": "execute_result"
    }
   ],
   "source": [
    "df_all"
   ]
  },
  {
   "cell_type": "code",
   "execution_count": 56,
   "metadata": {},
   "outputs": [],
   "source": [
    "revenue_score = df_all.groupBy([\"merchant_name\"]).agg(\n",
    "    sum(\"revenue_taken\").alias(\"total_revenue\")\n",
    "    )"
   ]
  },
  {
   "cell_type": "code",
   "execution_count": 57,
   "metadata": {},
   "outputs": [
    {
     "name": "stderr",
     "output_type": "stream",
     "text": [
      "                                                                                \r"
     ]
    },
    {
     "data": {
      "text/html": [
       "<table border='1'>\n",
       "<tr><th>merchant_name</th><th>total_revenue</th></tr>\n",
       "<tr><td>Consectetuer Ipsu...</td><td>3.250765585109828</td></tr>\n",
       "<tr><td>Faucibus Ltd</td><td>3.5512344419012583</td></tr>\n",
       "<tr><td>Ac Eleifend Vitae...</td><td>3.9167039023366743</td></tr>\n",
       "<tr><td>Velit Inc.</td><td>5.111416773814975</td></tr>\n",
       "<tr><td>Magna Sed Associates</td><td>6.039746046534802</td></tr>\n",
       "<tr><td>Egestas A Dui Corp.</td><td>6.268172996821954</td></tr>\n",
       "<tr><td>Nulla Limited</td><td>6.881752409537095</td></tr>\n",
       "<tr><td>Enim Etiam Institute</td><td>7.9729906258318834</td></tr>\n",
       "<tr><td>Lacus LLP</td><td>8.263656555885825</td></tr>\n",
       "<tr><td>Orci Ut Institute</td><td>9.0989169302811</td></tr>\n",
       "<tr><td>Hendrerit Id Ante...</td><td>10.781037338047874</td></tr>\n",
       "<tr><td>Aliquet Sem Corp.</td><td>11.007923666084915</td></tr>\n",
       "<tr><td>Nunc Institute</td><td>11.918503023081666</td></tr>\n",
       "<tr><td>Tellus Ltd</td><td>12.439154109101443</td></tr>\n",
       "<tr><td>Massa Vestibulum Ltd</td><td>12.499892879002422</td></tr>\n",
       "<tr><td>Sem Egestas Bland...</td><td>12.76577738778319</td></tr>\n",
       "<tr><td>Velit Eget Institute</td><td>13.4480926574094</td></tr>\n",
       "<tr><td>Magnis Dis Partur...</td><td>14.265110913776994</td></tr>\n",
       "<tr><td>Vel Est Tempor Ltd</td><td>14.570495582219056</td></tr>\n",
       "<tr><td>Nulla Ltd</td><td>14.589891036319774</td></tr>\n",
       "</table>\n",
       "only showing top 20 rows\n"
      ],
      "text/plain": [
       "+--------------------+------------------+\n",
       "|       merchant_name|     total_revenue|\n",
       "+--------------------+------------------+\n",
       "|Consectetuer Ipsu...| 3.250765585109828|\n",
       "|        Faucibus Ltd|3.5512344419012583|\n",
       "|Ac Eleifend Vitae...|3.9167039023366743|\n",
       "|          Velit Inc.| 5.111416773814975|\n",
       "|Magna Sed Associates| 6.039746046534802|\n",
       "| Egestas A Dui Corp.| 6.268172996821954|\n",
       "|       Nulla Limited| 6.881752409537095|\n",
       "|Enim Etiam Institute|7.9729906258318834|\n",
       "|           Lacus LLP| 8.263656555885825|\n",
       "|   Orci Ut Institute|   9.0989169302811|\n",
       "|Hendrerit Id Ante...|10.781037338047874|\n",
       "|   Aliquet Sem Corp.|11.007923666084915|\n",
       "|      Nunc Institute|11.918503023081666|\n",
       "|          Tellus Ltd|12.439154109101443|\n",
       "|Massa Vestibulum Ltd|12.499892879002422|\n",
       "|Sem Egestas Bland...| 12.76577738778319|\n",
       "|Velit Eget Institute|  13.4480926574094|\n",
       "|Magnis Dis Partur...|14.265110913776994|\n",
       "|  Vel Est Tempor Ltd|14.570495582219056|\n",
       "|           Nulla Ltd|14.589891036319774|\n",
       "+--------------------+------------------+\n",
       "only showing top 20 rows"
      ]
     },
     "execution_count": 57,
     "metadata": {},
     "output_type": "execute_result"
    }
   ],
   "source": [
    "revenue_score.orderBy(\"total_revenue\")"
   ]
  },
  {
   "cell_type": "code",
   "execution_count": 58,
   "metadata": {},
   "outputs": [],
   "source": [
    "revenue_score = revenue_score.withColumn(\"a\", lit(\"a\"))"
   ]
  },
  {
   "cell_type": "code",
   "execution_count": 59,
   "metadata": {},
   "outputs": [],
   "source": [
    "from pyspark.sql.window import Window\n",
    "from pyspark.sql.functions import percent_rank"
   ]
  },
  {
   "cell_type": "code",
   "execution_count": 60,
   "metadata": {},
   "outputs": [],
   "source": [
    "# Use the rank as the score\n",
    "Window_Spec  = Window.partitionBy(\"a\").orderBy(\"total_revenue\")\n",
    "revenue_score = revenue_score.withColumn(\"percent_rank\", percent_rank().over(Window_Spec)) \n"
   ]
  },
  {
   "cell_type": "code",
   "execution_count": 61,
   "metadata": {},
   "outputs": [
    {
     "name": "stderr",
     "output_type": "stream",
     "text": [
      "                                                                                \r"
     ]
    },
    {
     "data": {
      "text/html": [
       "<table border='1'>\n",
       "<tr><th>merchant_name</th><th>total_revenue</th><th>a</th><th>percent_rank</th></tr>\n",
       "<tr><td>Consectetuer Ipsu...</td><td>3.250765585109828</td><td>a</td><td>0.0</td></tr>\n",
       "<tr><td>Faucibus Ltd</td><td>3.5512344419012583</td><td>a</td><td>2.569373072970195...</td></tr>\n",
       "<tr><td>Ac Eleifend Vitae...</td><td>3.9167039023366743</td><td>a</td><td>5.138746145940391E-4</td></tr>\n",
       "<tr><td>Velit Inc.</td><td>5.111416773814975</td><td>a</td><td>7.708119218910585E-4</td></tr>\n",
       "<tr><td>Magna Sed Associates</td><td>6.039746046534802</td><td>a</td><td>0.001027749229188...</td></tr>\n",
       "<tr><td>Egestas A Dui Corp.</td><td>6.268172996821954</td><td>a</td><td>0.001284686536485...</td></tr>\n",
       "<tr><td>Nulla Limited</td><td>6.881752409537095</td><td>a</td><td>0.001541623843782117</td></tr>\n",
       "<tr><td>Enim Etiam Institute</td><td>7.9729906258318834</td><td>a</td><td>0.001798561151079...</td></tr>\n",
       "<tr><td>Lacus LLP</td><td>8.263656555885825</td><td>a</td><td>0.002055498458376...</td></tr>\n",
       "<tr><td>Orci Ut Institute</td><td>9.0989169302811</td><td>a</td><td>0.002312435765673...</td></tr>\n",
       "<tr><td>Hendrerit Id Ante...</td><td>10.781037338047874</td><td>a</td><td>0.002569373072970...</td></tr>\n",
       "<tr><td>Aliquet Sem Corp.</td><td>11.007923666084915</td><td>a</td><td>0.002826310380267...</td></tr>\n",
       "<tr><td>Nunc Institute</td><td>11.918503023081666</td><td>a</td><td>0.003083247687564234</td></tr>\n",
       "<tr><td>Tellus Ltd</td><td>12.439154109101443</td><td>a</td><td>0.003340184994861...</td></tr>\n",
       "<tr><td>Massa Vestibulum Ltd</td><td>12.499892879002422</td><td>a</td><td>0.003597122302158...</td></tr>\n",
       "<tr><td>Sem Egestas Bland...</td><td>12.76577738778319</td><td>a</td><td>0.003854059609455293</td></tr>\n",
       "<tr><td>Velit Eget Institute</td><td>13.4480926574094</td><td>a</td><td>0.004110996916752...</td></tr>\n",
       "<tr><td>Magnis Dis Partur...</td><td>14.265110913776994</td><td>a</td><td>0.004367934224049332</td></tr>\n",
       "<tr><td>Vel Est Tempor Ltd</td><td>14.570495582219056</td><td>a</td><td>0.004624871531346...</td></tr>\n",
       "<tr><td>Nulla Ltd</td><td>14.589891036319774</td><td>a</td><td>0.004881808838643371</td></tr>\n",
       "</table>\n",
       "only showing top 20 rows\n"
      ],
      "text/plain": [
       "+--------------------+------------------+---+--------------------+\n",
       "|       merchant_name|     total_revenue|  a|        percent_rank|\n",
       "+--------------------+------------------+---+--------------------+\n",
       "|Consectetuer Ipsu...| 3.250765585109828|  a|                 0.0|\n",
       "|        Faucibus Ltd|3.5512344419012583|  a|2.569373072970195...|\n",
       "|Ac Eleifend Vitae...|3.9167039023366743|  a|5.138746145940391E-4|\n",
       "|          Velit Inc.| 5.111416773814975|  a|7.708119218910585E-4|\n",
       "|Magna Sed Associates| 6.039746046534802|  a|0.001027749229188...|\n",
       "| Egestas A Dui Corp.| 6.268172996821954|  a|0.001284686536485...|\n",
       "|       Nulla Limited| 6.881752409537095|  a|0.001541623843782117|\n",
       "|Enim Etiam Institute|7.9729906258318834|  a|0.001798561151079...|\n",
       "|           Lacus LLP| 8.263656555885825|  a|0.002055498458376...|\n",
       "|   Orci Ut Institute|   9.0989169302811|  a|0.002312435765673...|\n",
       "|Hendrerit Id Ante...|10.781037338047874|  a|0.002569373072970...|\n",
       "|   Aliquet Sem Corp.|11.007923666084915|  a|0.002826310380267...|\n",
       "|      Nunc Institute|11.918503023081666|  a|0.003083247687564234|\n",
       "|          Tellus Ltd|12.439154109101443|  a|0.003340184994861...|\n",
       "|Massa Vestibulum Ltd|12.499892879002422|  a|0.003597122302158...|\n",
       "|Sem Egestas Bland...| 12.76577738778319|  a|0.003854059609455293|\n",
       "|Velit Eget Institute|  13.4480926574094|  a|0.004110996916752...|\n",
       "|Magnis Dis Partur...|14.265110913776994|  a|0.004367934224049332|\n",
       "|  Vel Est Tempor Ltd|14.570495582219056|  a|0.004624871531346...|\n",
       "|           Nulla Ltd|14.589891036319774|  a|0.004881808838643371|\n",
       "+--------------------+------------------+---+--------------------+\n",
       "only showing top 20 rows"
      ]
     },
     "execution_count": 61,
     "metadata": {},
     "output_type": "execute_result"
    }
   ],
   "source": [
    "revenue_score"
   ]
  },
  {
   "cell_type": "code",
   "execution_count": 62,
   "metadata": {},
   "outputs": [],
   "source": [
    "revenue_score = revenue_score.withColumn(\"revenue_score\", F.col(\"percent_rank\")).drop(\"a\",\"percent_rank\", \"total_revenue\")"
   ]
  },
  {
   "cell_type": "markdown",
   "metadata": {},
   "source": [
    "#### Add variance as one metrics"
   ]
  },
  {
   "cell_type": "code",
   "execution_count": 63,
   "metadata": {},
   "outputs": [],
   "source": [
    "df_variance = df.groupBy([\"merchant_name\"]).agg(\n",
    "    variance(\"dollar_value\").alias(\"variance\")\n",
    "    )"
   ]
  },
  {
   "cell_type": "code",
   "execution_count": 64,
   "metadata": {},
   "outputs": [],
   "source": [
    "df_variance = df_variance.fillna(value = 0)"
   ]
  },
  {
   "cell_type": "code",
   "execution_count": 65,
   "metadata": {},
   "outputs": [
    {
     "name": "stderr",
     "output_type": "stream",
     "text": [
      "                                                                                \r"
     ]
    }
   ],
   "source": [
    "from pyspark.ml.feature import StandardScaler\n",
    "\n",
    "\n",
    "# VectorAssembler Transformation - Converting column to vector type\n",
    "assembler_vec = VectorAssembler(inputCols=[\"variance\"],outputCol=\"variance_Vect\")\n",
    "variance_score = assembler_vec.transform(df_variance)\n",
    "\n",
    "scaler = StandardScaler(inputCol=\"variance_Vect\", outputCol=\"variance_score\",\n",
    "                        withStd=True, withMean=False)\n",
    "\n",
    "\n",
    "# Standardise the trend score (since it contain negative value) as score\n",
    "\n",
    "from pyspark.ml.functions import vector_to_array\n",
    "variance_score = scaler.fit(variance_score).transform(variance_score).drop(\"variance\",\"variance_Vect\").withColumn(\"variance_score\", vector_to_array(\"variance_score\")[0])\n"
   ]
  },
  {
   "cell_type": "code",
   "execution_count": 66,
   "metadata": {},
   "outputs": [],
   "source": [
    "variance_score = variance_score.withColumnRenamed(\"merchant_name\", \"name\")\n",
    "\n",
    "revenue_score = revenue_score.join(variance_score, variance_score.name ==  revenue_score.merchant_name,\"inner\").drop(\"name\")"
   ]
  },
  {
   "cell_type": "code",
   "execution_count": 68,
   "metadata": {},
   "outputs": [
    {
     "name": "stderr",
     "output_type": "stream",
     "text": [
      "Exception in thread \"serve-GetRows\" java.net.SocketTimeoutException: Accept timed out\n",
      "\tat java.net.PlainSocketImpl.socketAccept(Native Method)\n",
      "\tat java.net.AbstractPlainSocketImpl.accept(AbstractPlainSocketImpl.java:409)\n",
      "\tat java.net.ServerSocket.implAccept(ServerSocket.java:560)\n",
      "\tat java.net.ServerSocket.accept(ServerSocket.java:528)\n",
      "\tat org.apache.spark.security.SocketAuthServer$$anon$1.run(SocketAuthServer.scala:64)\n",
      "                                                                                \r"
     ]
    },
    {
     "data": {
      "text/html": [
       "<table border='1'>\n",
       "<tr><th>merchant_name</th><th>revenue_score</th><th>variance_score</th></tr>\n",
       "<tr><td>Consectetuer Ipsu...</td><td>0.0</td><td>0.0</td></tr>\n",
       "<tr><td>Faucibus Ltd</td><td>2.569373072970195...</td><td>0.0</td></tr>\n",
       "<tr><td>Ac Eleifend Vitae...</td><td>5.138746145940391E-4</td><td>0.0</td></tr>\n",
       "<tr><td>Velit Inc.</td><td>7.708119218910585E-4</td><td>0.0</td></tr>\n",
       "<tr><td>Magna Sed Associates</td><td>0.001027749229188...</td><td>0.0</td></tr>\n",
       "<tr><td>Egestas A Dui Corp.</td><td>0.001284686536485...</td><td>0.0</td></tr>\n",
       "<tr><td>Nulla Limited</td><td>0.001541623843782117</td><td>0.0</td></tr>\n",
       "<tr><td>Enim Etiam Institute</td><td>0.001798561151079...</td><td>1.9482026156202967</td></tr>\n",
       "<tr><td>Lacus LLP</td><td>0.002055498458376...</td><td>0.6381667845627906</td></tr>\n",
       "<tr><td>Orci Ut Institute</td><td>0.002312435765673...</td><td>1.4613814191387127</td></tr>\n",
       "<tr><td>Hendrerit Id Ante...</td><td>0.002569373072970...</td><td>0.0</td></tr>\n",
       "<tr><td>Aliquet Sem Corp.</td><td>0.002826310380267...</td><td>0.0</td></tr>\n",
       "<tr><td>Nunc Institute</td><td>0.003083247687564234</td><td>0.0</td></tr>\n",
       "<tr><td>Tellus Ltd</td><td>0.003340184994861...</td><td>0.0</td></tr>\n",
       "<tr><td>Massa Vestibulum Ltd</td><td>0.003597122302158...</td><td>0.04711821176880211</td></tr>\n",
       "<tr><td>Sem Egestas Bland...</td><td>0.003854059609455293</td><td>0.0</td></tr>\n",
       "<tr><td>Velit Eget Institute</td><td>0.004110996916752...</td><td>0.0</td></tr>\n",
       "<tr><td>Magnis Dis Partur...</td><td>0.004367934224049332</td><td>0.0</td></tr>\n",
       "<tr><td>Vel Est Tempor Ltd</td><td>0.004624871531346...</td><td>0.0</td></tr>\n",
       "<tr><td>Nulla Ltd</td><td>0.004881808838643371</td><td>0.0</td></tr>\n",
       "</table>\n",
       "only showing top 20 rows\n"
      ],
      "text/plain": [
       "+--------------------+--------------------+-------------------+\n",
       "|       merchant_name|       revenue_score|     variance_score|\n",
       "+--------------------+--------------------+-------------------+\n",
       "|Consectetuer Ipsu...|                 0.0|                0.0|\n",
       "|        Faucibus Ltd|2.569373072970195...|                0.0|\n",
       "|Ac Eleifend Vitae...|5.138746145940391E-4|                0.0|\n",
       "|          Velit Inc.|7.708119218910585E-4|                0.0|\n",
       "|Magna Sed Associates|0.001027749229188...|                0.0|\n",
       "| Egestas A Dui Corp.|0.001284686536485...|                0.0|\n",
       "|       Nulla Limited|0.001541623843782117|                0.0|\n",
       "|Enim Etiam Institute|0.001798561151079...| 1.9482026156202967|\n",
       "|           Lacus LLP|0.002055498458376...| 0.6381667845627906|\n",
       "|   Orci Ut Institute|0.002312435765673...| 1.4613814191387127|\n",
       "|Hendrerit Id Ante...|0.002569373072970...|                0.0|\n",
       "|   Aliquet Sem Corp.|0.002826310380267...|                0.0|\n",
       "|      Nunc Institute|0.003083247687564234|                0.0|\n",
       "|          Tellus Ltd|0.003340184994861...|                0.0|\n",
       "|Massa Vestibulum Ltd|0.003597122302158...|0.04711821176880211|\n",
       "|Sem Egestas Bland...|0.003854059609455293|                0.0|\n",
       "|Velit Eget Institute|0.004110996916752...|                0.0|\n",
       "|Magnis Dis Partur...|0.004367934224049332|                0.0|\n",
       "|  Vel Est Tempor Ltd|0.004624871531346...|                0.0|\n",
       "|           Nulla Ltd|0.004881808838643371|                0.0|\n",
       "+--------------------+--------------------+-------------------+\n",
       "only showing top 20 rows"
      ]
     },
     "execution_count": 68,
     "metadata": {},
     "output_type": "execute_result"
    }
   ],
   "source": [
    "revenue_score"
   ]
  },
  {
   "cell_type": "markdown",
   "metadata": {},
   "source": [
    "#### Combined with train score"
   ]
  },
  {
   "cell_type": "code",
   "execution_count": 69,
   "metadata": {},
   "outputs": [],
   "source": [
    "trend = spark.read.option(\"header\", \"true\").csv(\"../data/curated/increasing.csv\")"
   ]
  },
  {
   "cell_type": "code",
   "execution_count": 70,
   "metadata": {},
   "outputs": [],
   "source": [
    "trend = trend.withColumn(\"increasing\", F.col(\"increasing\").cast(\"double\"))"
   ]
  },
  {
   "cell_type": "code",
   "execution_count": 71,
   "metadata": {},
   "outputs": [
    {
     "data": {
      "text/html": [
       "<table border='1'>\n",
       "<tr><th>merchant_name</th><th>increasing</th></tr>\n",
       "<tr><td>Eros Non LLP</td><td>-980.0837015305178</td></tr>\n",
       "<tr><td>Tortor Integer Al...</td><td>-349.3538636710657</td></tr>\n",
       "<tr><td>Sodales Limited</td><td>-9654.404131067335</td></tr>\n",
       "<tr><td>Nulla At Sem Limited</td><td>-1190.5132491448949</td></tr>\n",
       "<tr><td>Elementum Dui Ass...</td><td>3655.7094516963953</td></tr>\n",
       "<tr><td>Duis Elementum Corp.</td><td>3651.7105101416964</td></tr>\n",
       "<tr><td>Vel Quam Industries</td><td>2727.648449189126</td></tr>\n",
       "<tr><td>Velit Institute</td><td>3164.4211675338756</td></tr>\n",
       "<tr><td>Dui Limited</td><td>1099.1811736678892</td></tr>\n",
       "<tr><td>Enim Mi Institute</td><td>-27943.28252906102</td></tr>\n",
       "<tr><td>Magna Sed Institute</td><td>-9045.475326606174</td></tr>\n",
       "<tr><td>Nullam Scelerisqu...</td><td>4093.144199274786</td></tr>\n",
       "<tr><td>Orci Ut Sagittis PC</td><td>-14750.204368528233</td></tr>\n",
       "<tr><td>Quam Curabitur Fo...</td><td>-841.6307011238059</td></tr>\n",
       "<tr><td>Quisque Ac Libero...</td><td>-4667.123937762633</td></tr>\n",
       "<tr><td>Tempus Associates</td><td>2813.783193728057</td></tr>\n",
       "<tr><td>Convallis Ligula ...</td><td>-1258.1440164585601</td></tr>\n",
       "<tr><td>Adipiscing Elit A...</td><td>-20115.378119673318</td></tr>\n",
       "<tr><td>Metus Eu LLP</td><td>-970.628095196007</td></tr>\n",
       "<tr><td>Congue Turpis Ins...</td><td>-342.39574921685926</td></tr>\n",
       "</table>\n",
       "only showing top 20 rows\n"
      ],
      "text/plain": [
       "+--------------------+-------------------+\n",
       "|       merchant_name|         increasing|\n",
       "+--------------------+-------------------+\n",
       "|        Eros Non LLP| -980.0837015305178|\n",
       "|Tortor Integer Al...| -349.3538636710657|\n",
       "|     Sodales Limited| -9654.404131067335|\n",
       "|Nulla At Sem Limited|-1190.5132491448949|\n",
       "|Elementum Dui Ass...| 3655.7094516963953|\n",
       "|Duis Elementum Corp.| 3651.7105101416964|\n",
       "| Vel Quam Industries|  2727.648449189126|\n",
       "|     Velit Institute| 3164.4211675338756|\n",
       "|         Dui Limited| 1099.1811736678892|\n",
       "|   Enim Mi Institute| -27943.28252906102|\n",
       "| Magna Sed Institute| -9045.475326606174|\n",
       "|Nullam Scelerisqu...|  4093.144199274786|\n",
       "| Orci Ut Sagittis PC|-14750.204368528233|\n",
       "|Quam Curabitur Fo...| -841.6307011238059|\n",
       "|Quisque Ac Libero...| -4667.123937762633|\n",
       "|   Tempus Associates|  2813.783193728057|\n",
       "|Convallis Ligula ...|-1258.1440164585601|\n",
       "|Adipiscing Elit A...|-20115.378119673318|\n",
       "|        Metus Eu LLP|  -970.628095196007|\n",
       "|Congue Turpis Ins...|-342.39574921685926|\n",
       "+--------------------+-------------------+\n",
       "only showing top 20 rows"
      ]
     },
     "execution_count": 71,
     "metadata": {},
     "output_type": "execute_result"
    }
   ],
   "source": [
    "trend"
   ]
  },
  {
   "cell_type": "code",
   "execution_count": 72,
   "metadata": {},
   "outputs": [],
   "source": [
    "from pyspark.ml.feature import StandardScaler\n",
    "\n",
    "\n",
    "# VectorAssembler Transformation - Converting column to vector type\n",
    "assembler_vec = VectorAssembler(inputCols=[\"increasing\"],outputCol=\"increasing_Vect\")\n",
    "trend_score = assembler_vec.transform(trend)\n",
    "\n",
    "scaler = StandardScaler(inputCol=\"increasing_Vect\", outputCol=\"trend_score\",\n",
    "                        withStd=True, withMean=False)\n",
    "\n",
    "\n",
    "# Standardise the trend score (since it contain negative value) as score\n",
    "\n",
    "from pyspark.ml.functions import vector_to_array\n",
    "trend_score = scaler.fit(trend_score).transform(trend_score).drop(\"increasing\",\"increasing_Vect\").withColumn(\"trend_score\", vector_to_array(\"trend_score\")[0])\n",
    "\n"
   ]
  },
  {
   "cell_type": "code",
   "execution_count": 73,
   "metadata": {},
   "outputs": [],
   "source": [
    "trend_score = trend_score.withColumnRenamed(\"merchant_name\", \"name\")"
   ]
  },
  {
   "cell_type": "code",
   "execution_count": 74,
   "metadata": {},
   "outputs": [],
   "source": [
    "trend_revenue_final = revenue_score.join(trend_score, trend_score.name ==  revenue_score.merchant_name,\"inner\").drop(\"name\")"
   ]
  },
  {
   "cell_type": "code",
   "execution_count": 75,
   "metadata": {},
   "outputs": [
    {
     "name": "stderr",
     "output_type": "stream",
     "text": [
      "                                                                                \r"
     ]
    },
    {
     "data": {
      "text/html": [
       "<table border='1'>\n",
       "<tr><th>merchant_name</th><th>revenue_score</th><th>variance_score</th><th>trend_score</th></tr>\n",
       "<tr><td>Consectetuer Ipsu...</td><td>0.0</td><td>0.0</td><td>0.012512970918944816</td></tr>\n",
       "<tr><td>Faucibus Ltd</td><td>2.569373072970195...</td><td>0.0</td><td>-0.01196818716621...</td></tr>\n",
       "<tr><td>Ac Eleifend Vitae...</td><td>5.138746145940391E-4</td><td>0.0</td><td>0.011023550264931004</td></tr>\n",
       "<tr><td>Velit Inc.</td><td>7.708119218910585E-4</td><td>0.0</td><td>-0.00796371495021574</td></tr>\n",
       "<tr><td>Magna Sed Associates</td><td>0.001027749229188...</td><td>0.0</td><td>0.013174105188561047</td></tr>\n",
       "<tr><td>Egestas A Dui Corp.</td><td>0.001284686536485...</td><td>0.0</td><td>-0.07457649838314082</td></tr>\n",
       "<tr><td>Nulla Limited</td><td>0.001541623843782117</td><td>0.0</td><td>-0.03087919316331...</td></tr>\n",
       "<tr><td>Enim Etiam Institute</td><td>0.001798561151079...</td><td>1.9482026156202967</td><td>-0.3129278634926591</td></tr>\n",
       "<tr><td>Lacus LLP</td><td>0.002055498458376...</td><td>0.6381667845627906</td><td>0.18884255396835822</td></tr>\n",
       "<tr><td>Orci Ut Institute</td><td>0.002312435765673...</td><td>1.4613814191387127</td><td>0.23816250779671555</td></tr>\n",
       "<tr><td>Hendrerit Id Ante...</td><td>0.002569373072970...</td><td>0.0</td><td>-0.05759014403164244</td></tr>\n",
       "<tr><td>Aliquet Sem Corp.</td><td>0.002826310380267...</td><td>0.0</td><td>-0.02862222659860...</td></tr>\n",
       "<tr><td>Nunc Institute</td><td>0.003083247687564234</td><td>0.0</td><td>-0.05672084812470...</td></tr>\n",
       "<tr><td>Tellus Ltd</td><td>0.003340184994861...</td><td>0.0</td><td>0.039706416201998135</td></tr>\n",
       "<tr><td>Massa Vestibulum Ltd</td><td>0.003597122302158...</td><td>0.04711821176880211</td><td>0.006856890682805187</td></tr>\n",
       "<tr><td>Sem Egestas Bland...</td><td>0.003854059609455293</td><td>0.0</td><td>0.10551850048499027</td></tr>\n",
       "<tr><td>Velit Eget Institute</td><td>0.004110996916752...</td><td>0.0</td><td>0.0681293026818616</td></tr>\n",
       "<tr><td>Magnis Dis Partur...</td><td>0.004367934224049332</td><td>0.0</td><td>0.044450797920648606</td></tr>\n",
       "<tr><td>Vel Est Tempor Ltd</td><td>0.004624871531346...</td><td>0.0</td><td>0.04253309566073337</td></tr>\n",
       "<tr><td>Nulla Ltd</td><td>0.004881808838643371</td><td>0.0</td><td>-0.17900988918768093</td></tr>\n",
       "</table>\n",
       "only showing top 20 rows\n"
      ],
      "text/plain": [
       "+--------------------+--------------------+-------------------+--------------------+\n",
       "|       merchant_name|       revenue_score|     variance_score|         trend_score|\n",
       "+--------------------+--------------------+-------------------+--------------------+\n",
       "|Consectetuer Ipsu...|                 0.0|                0.0|0.012512970918944816|\n",
       "|        Faucibus Ltd|2.569373072970195...|                0.0|-0.01196818716621...|\n",
       "|Ac Eleifend Vitae...|5.138746145940391E-4|                0.0|0.011023550264931004|\n",
       "|          Velit Inc.|7.708119218910585E-4|                0.0|-0.00796371495021574|\n",
       "|Magna Sed Associates|0.001027749229188...|                0.0|0.013174105188561047|\n",
       "| Egestas A Dui Corp.|0.001284686536485...|                0.0|-0.07457649838314082|\n",
       "|       Nulla Limited|0.001541623843782117|                0.0|-0.03087919316331...|\n",
       "|Enim Etiam Institute|0.001798561151079...| 1.9482026156202967| -0.3129278634926591|\n",
       "|           Lacus LLP|0.002055498458376...| 0.6381667845627906| 0.18884255396835822|\n",
       "|   Orci Ut Institute|0.002312435765673...| 1.4613814191387127| 0.23816250779671555|\n",
       "|Hendrerit Id Ante...|0.002569373072970...|                0.0|-0.05759014403164244|\n",
       "|   Aliquet Sem Corp.|0.002826310380267...|                0.0|-0.02862222659860...|\n",
       "|      Nunc Institute|0.003083247687564234|                0.0|-0.05672084812470...|\n",
       "|          Tellus Ltd|0.003340184994861...|                0.0|0.039706416201998135|\n",
       "|Massa Vestibulum Ltd|0.003597122302158...|0.04711821176880211|0.006856890682805187|\n",
       "|Sem Egestas Bland...|0.003854059609455293|                0.0| 0.10551850048499027|\n",
       "|Velit Eget Institute|0.004110996916752...|                0.0|  0.0681293026818616|\n",
       "|Magnis Dis Partur...|0.004367934224049332|                0.0|0.044450797920648606|\n",
       "|  Vel Est Tempor Ltd|0.004624871531346...|                0.0| 0.04253309566073337|\n",
       "|           Nulla Ltd|0.004881808838643371|                0.0|-0.17900988918768093|\n",
       "+--------------------+--------------------+-------------------+--------------------+\n",
       "only showing top 20 rows"
      ]
     },
     "execution_count": 75,
     "metadata": {},
     "output_type": "execute_result"
    }
   ],
   "source": [
    "trend_revenue_final"
   ]
  },
  {
   "cell_type": "code",
   "execution_count": 76,
   "metadata": {},
   "outputs": [
    {
     "name": "stderr",
     "output_type": "stream",
     "text": [
      "                                                                                \r"
     ]
    },
    {
     "data": {
      "text/plain": [
       "3893"
      ]
     },
     "execution_count": 76,
     "metadata": {},
     "output_type": "execute_result"
    }
   ],
   "source": [
    "trend_revenue_final.count()"
   ]
  },
  {
   "cell_type": "code",
   "execution_count": null,
   "metadata": {},
   "outputs": [],
   "source": [
    "trend_revenue_final.write.parquet(\"../data/curated/revenue_trend_score\")"
   ]
  },
  {
   "cell_type": "code",
   "execution_count": null,
   "metadata": {},
   "outputs": [],
   "source": []
  }
 ],
 "metadata": {
  "kernelspec": {
   "display_name": "Python 3.9.12 ('base')",
   "language": "python",
   "name": "python3"
  },
  "language_info": {
   "codemirror_mode": {
    "name": "ipython",
    "version": 3
   },
   "file_extension": ".py",
   "mimetype": "text/x-python",
   "name": "python",
   "nbconvert_exporter": "python",
   "pygments_lexer": "ipython3",
   "version": "3.9.12"
  },
  "orig_nbformat": 4,
  "vscode": {
   "interpreter": {
    "hash": "d2d7e6728612c8fd54cbd36f1913daefb7c7ed6b16dd726696ef300fa27e75d7"
   }
  }
 },
 "nbformat": 4,
 "nbformat_minor": 2
}
