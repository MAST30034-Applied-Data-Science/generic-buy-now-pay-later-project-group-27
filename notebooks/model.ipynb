{
 "cells": [
  {
   "cell_type": "code",
   "execution_count": 9,
   "metadata": {},
   "outputs": [],
   "source": [
    "from pyspark.sql import SparkSession, functions as F\n",
    "from pyspark.sql.functions import *\n",
    "from pyspark.ml.regression import GBTRegressor\n",
    "import numpy as np\n",
    "\n",
    "spark = (\n",
    "    SparkSession.builder.appName(\"ADS project 2\")\n",
    "    .config(\"spark.sql.repl.eagerEval.enabled\", True) \n",
    "    .config(\"spark.sql.parquet.cacheMetadata\", \"true\")\n",
    "    .config(\"spark.sql.session.timeZone\", \"Etc/UTC\")\n",
    "    .config(\"spark.executor.memory\", \"2g\")\n",
    "    .config(\"spark.driver.memory\", \"4g\")\n",
    "    .getOrCreate()\n",
    ")"
   ]
  },
  {
   "cell_type": "code",
   "execution_count": 10,
   "metadata": {},
   "outputs": [],
   "source": [
    "df = spark.read.parquet('../data/curated/merchant_consumer_abs')"
   ]
  },
  {
   "cell_type": "code",
   "execution_count": 11,
   "metadata": {},
   "outputs": [
    {
     "name": "stdout",
     "output_type": "stream",
     "text": [
      "22/10/05 23:07:33 WARN package: Truncated the string representation of a plan since it was too large. This behavior can be adjusted by setting 'spark.sql.debug.maxToStringFields'.\n"
     ]
    },
    {
     "name": "stderr",
     "output_type": "stream",
     "text": [
      "                                                                                \r"
     ]
    },
    {
     "data": {
      "text/html": [
       "<table border='1'>\n",
       "<tr><th>postcode</th><th>total_earners</th><th>median_age</th><th>income_sum</th><th>income_median</th><th>income_mean</th><th>2021_population</th><th>km2</th><th>persons/km2</th><th>merchant_name</th><th>revenue_level</th><th>user_id</th><th>order_datetime</th><th>products</th><th>take_rate</th><th>category</th><th>dollar_value</th><th>order_year</th><th>order_month</th><th>order_day</th><th>consumer</th><th>consumer_address</th><th>consumer_state</th><th>consumer_postcode</th><th>consumer_gender</th><th>fraud_group</th><th>__index_level_0__</th></tr>\n",
       "<tr><td>0800</td><td>5631.999973601934</td><td>33.00000004463053</td><td>4.20609029345557E8</td><td>57789.00008173299</td><td>74682.00012457666</td><td>7678.999968193022</td><td>3.199999994700948</td><td>2419.9999940679677</td><td>Elit Sed Consequa...</td><td>a</td><td>10413</td><td>2022-04-27</td><td>artist supply and...</td><td>5.89</td><td>art and gifts</td><td>375.16773164703153</td><td>2022</td><td>4</td><td>27</td><td>Kelly Clayton</td><td>4211 Rodney Tunne...</td><td>NT</td><td>0800</td><td>Female</td><td>0</td><td>0</td></tr>\n",
       "<tr><td>0800</td><td>5631.999973601934</td><td>33.00000004463053</td><td>4.20609029345557E8</td><td>57789.00008173299</td><td>74682.00012457666</td><td>7678.999968193022</td><td>3.199999994700948</td><td>2419.9999940679677</td><td>Elit Sed Consequa...</td><td>a</td><td>22246</td><td>2022-10-07</td><td>artist supply and...</td><td>5.89</td><td>art and gifts</td><td>617.8791313462011</td><td>2022</td><td>10</td><td>7</td><td>Corey Estrada</td><td>1703 Boyd Shore</td><td>NT</td><td>0800</td><td>Male</td><td>0</td><td>1</td></tr>\n",
       "<tr><td>0800</td><td>5631.999973601934</td><td>33.00000004463053</td><td>4.20609029345557E8</td><td>57789.00008173299</td><td>74682.00012457666</td><td>7678.999968193022</td><td>3.199999994700948</td><td>2419.9999940679677</td><td>Elit Sed Consequa...</td><td>a</td><td>2681</td><td>2022-02-28</td><td>artist supply and...</td><td>5.89</td><td>art and gifts</td><td>766.5077067424303</td><td>2022</td><td>2</td><td>28</td><td>Nicole Bishop</td><td>467 Robert Island...</td><td>NT</td><td>0800</td><td>Female</td><td>0</td><td>2</td></tr>\n",
       "<tr><td>0800</td><td>5631.999973601934</td><td>33.00000004463053</td><td>4.20609029345557E8</td><td>57789.00008173299</td><td>74682.00012457666</td><td>7678.999968193022</td><td>3.199999994700948</td><td>2419.9999940679677</td><td>Malesuada Vel Ltd</td><td>b</td><td>13454</td><td>2021-07-24</td><td>books periodicals...</td><td>3.56</td><td>books and music</td><td>258.86595899218753</td><td>2021</td><td>7</td><td>24</td><td>Natalie Herrera</td><td>88798 Saunders Hi...</td><td>NT</td><td>0800</td><td>Female</td><td>0</td><td>3</td></tr>\n",
       "<tr><td>0800</td><td>5631.999973601934</td><td>33.00000004463053</td><td>4.20609029345557E8</td><td>57789.00008173299</td><td>74682.00012457666</td><td>7678.999968193022</td><td>3.199999994700948</td><td>2419.9999940679677</td><td>Varius Orci Insti...</td><td>a</td><td>10146</td><td>2021-08-08</td><td>tent and awning s...</td><td>6.3</td><td>outdoors</td><td>4.159037931172075</td><td>2021</td><td>8</td><td>8</td><td>Shannon Mann</td><td>00817 Owens Circle</td><td>NT</td><td>0800</td><td>Female</td><td>0</td><td>4</td></tr>\n",
       "<tr><td>0800</td><td>5631.999973601934</td><td>33.00000004463053</td><td>4.20609029345557E8</td><td>57789.00008173299</td><td>74682.00012457666</td><td>7678.999968193022</td><td>3.199999994700948</td><td>2419.9999940679677</td><td>Volutpat Nulla In...</td><td>a</td><td>23093</td><td>2022-10-11</td><td>furniture home fu...</td><td>6.59</td><td>home and technology</td><td>8.26105405068297</td><td>2022</td><td>10</td><td>11</td><td>Robert Walker</td><td>646 Allison Ranch...</td><td>NT</td><td>0800</td><td>Male</td><td>0</td><td>5</td></tr>\n",
       "<tr><td>0800</td><td>5631.999973601934</td><td>33.00000004463053</td><td>4.20609029345557E8</td><td>57789.00008173299</td><td>74682.00012457666</td><td>7678.999968193022</td><td>3.199999994700948</td><td>2419.9999940679677</td><td>Mollis Integer Co...</td><td>b</td><td>13454</td><td>2022-05-02</td><td>digital goods boo...</td><td>3.96</td><td>books and music</td><td>83.63154755239155</td><td>2022</td><td>5</td><td>2</td><td>Natalie Herrera</td><td>88798 Saunders Hi...</td><td>NT</td><td>0800</td><td>Female</td><td>0</td><td>6</td></tr>\n",
       "<tr><td>0800</td><td>5631.999973601934</td><td>33.00000004463053</td><td>4.20609029345557E8</td><td>57789.00008173299</td><td>74682.00012457666</td><td>7678.999968193022</td><td>3.199999994700948</td><td>2419.9999940679677</td><td>Elit Sed Consequa...</td><td>a</td><td>13454</td><td>2021-04-08</td><td>artist supply and...</td><td>5.89</td><td>art and gifts</td><td>87.00495112586256</td><td>2021</td><td>4</td><td>8</td><td>Natalie Herrera</td><td>88798 Saunders Hi...</td><td>NT</td><td>0800</td><td>Female</td><td>0</td><td>7</td></tr>\n",
       "<tr><td>0800</td><td>5631.999973601934</td><td>33.00000004463053</td><td>4.20609029345557E8</td><td>57789.00008173299</td><td>74682.00012457666</td><td>7678.999968193022</td><td>3.199999994700948</td><td>2419.9999940679677</td><td>Eros Limited</td><td>c</td><td>8092</td><td>2021-12-18</td><td>digital goods boo...</td><td>2.52</td><td>books and music</td><td>8.26187754879106</td><td>2021</td><td>12</td><td>18</td><td>Rebecca Owens</td><td>92579 Keith Neck ...</td><td>NT</td><td>0800</td><td>Female</td><td>0</td><td>8</td></tr>\n",
       "<tr><td>0800</td><td>5631.999973601934</td><td>33.00000004463053</td><td>4.20609029345557E8</td><td>57789.00008173299</td><td>74682.00012457666</td><td>7678.999968193022</td><td>3.199999994700948</td><td>2419.9999940679677</td><td>Hendrerit A Corpo...</td><td>a</td><td>11203</td><td>2022-07-14</td><td>watch clock and j...</td><td>6.64</td><td>fashion and acces...</td><td>100.80643267043831</td><td>2022</td><td>7</td><td>14</td><td>John Rodriguez</td><td>563 Wallace Rue</td><td>NT</td><td>0800</td><td>Male</td><td>0</td><td>9</td></tr>\n",
       "<tr><td>0800</td><td>5631.999973601934</td><td>33.00000004463053</td><td>4.20609029345557E8</td><td>57789.00008173299</td><td>74682.00012457666</td><td>7678.999968193022</td><td>3.199999994700948</td><td>2419.9999940679677</td><td>Pede Cras Vulputa...</td><td>a</td><td>22246</td><td>2021-07-18</td><td>health and beauty...</td><td>6.2</td><td>fashion and acces...</td><td>326.46199407890373</td><td>2021</td><td>7</td><td>18</td><td>Corey Estrada</td><td>1703 Boyd Shore</td><td>NT</td><td>0800</td><td>Male</td><td>0</td><td>10</td></tr>\n",
       "<tr><td>0800</td><td>5631.999973601934</td><td>33.00000004463053</td><td>4.20609029345557E8</td><td>57789.00008173299</td><td>74682.00012457666</td><td>7678.999968193022</td><td>3.199999994700948</td><td>2419.9999940679677</td><td>Hendrerit A Corpo...</td><td>a</td><td>12972</td><td>2021-08-16</td><td>watch clock and j...</td><td>6.64</td><td>fashion and acces...</td><td>204.40538957685413</td><td>2021</td><td>8</td><td>16</td><td>Peter Brennan</td><td>13276 Vazquez Rap...</td><td>NT</td><td>0800</td><td>Undisclosed</td><td>0</td><td>11</td></tr>\n",
       "<tr><td>0800</td><td>5631.999973601934</td><td>33.00000004463053</td><td>4.20609029345557E8</td><td>57789.00008173299</td><td>74682.00012457666</td><td>7678.999968193022</td><td>3.199999994700948</td><td>2419.9999940679677</td><td>Eros Limited</td><td>c</td><td>12972</td><td>2021-06-14</td><td>digital goods boo...</td><td>2.52</td><td>books and music</td><td>31.204086659483615</td><td>2021</td><td>6</td><td>14</td><td>Peter Brennan</td><td>13276 Vazquez Rap...</td><td>NT</td><td>0800</td><td>Undisclosed</td><td>0</td><td>12</td></tr>\n",
       "<tr><td>0800</td><td>5631.999973601934</td><td>33.00000004463053</td><td>4.20609029345557E8</td><td>57789.00008173299</td><td>74682.00012457666</td><td>7678.999968193022</td><td>3.199999994700948</td><td>2419.9999940679677</td><td>Eros Limited</td><td>c</td><td>8092</td><td>2021-12-13</td><td>digital goods boo...</td><td>2.52</td><td>books and music</td><td>37.1880940325229</td><td>2021</td><td>12</td><td>13</td><td>Rebecca Owens</td><td>92579 Keith Neck ...</td><td>NT</td><td>0800</td><td>Female</td><td>0</td><td>13</td></tr>\n",
       "<tr><td>0800</td><td>5631.999973601934</td><td>33.00000004463053</td><td>4.20609029345557E8</td><td>57789.00008173299</td><td>74682.00012457666</td><td>7678.999968193022</td><td>3.199999994700948</td><td>2419.9999940679677</td><td>Eros Limited</td><td>c</td><td>10146</td><td>2022-10-10</td><td>digital goods boo...</td><td>2.52</td><td>books and music</td><td>5.247567221175345</td><td>2022</td><td>10</td><td>10</td><td>Shannon Mann</td><td>00817 Owens Circle</td><td>NT</td><td>0800</td><td>Female</td><td>0</td><td>14</td></tr>\n",
       "<tr><td>0800</td><td>5631.999973601934</td><td>33.00000004463053</td><td>4.20609029345557E8</td><td>57789.00008173299</td><td>74682.00012457666</td><td>7678.999968193022</td><td>3.199999994700948</td><td>2419.9999940679677</td><td>Eros Limited</td><td>c</td><td>10413</td><td>2021-11-27</td><td>digital goods boo...</td><td>2.52</td><td>books and music</td><td>12.918096138910116</td><td>2021</td><td>11</td><td>27</td><td>Kelly Clayton</td><td>4211 Rodney Tunne...</td><td>NT</td><td>0800</td><td>Female</td><td>0</td><td>15</td></tr>\n",
       "<tr><td>0800</td><td>5631.999973601934</td><td>33.00000004463053</td><td>4.20609029345557E8</td><td>57789.00008173299</td><td>74682.00012457666</td><td>7678.999968193022</td><td>3.199999994700948</td><td>2419.9999940679677</td><td>Hendrerit A Corpo...</td><td>a</td><td>2681</td><td>2022-05-19</td><td>watch clock and j...</td><td>6.64</td><td>fashion and acces...</td><td>276.12651679041534</td><td>2022</td><td>5</td><td>19</td><td>Nicole Bishop</td><td>467 Robert Island...</td><td>NT</td><td>0800</td><td>Female</td><td>0</td><td>16</td></tr>\n",
       "<tr><td>0800</td><td>5631.999973601934</td><td>33.00000004463053</td><td>4.20609029345557E8</td><td>57789.00008173299</td><td>74682.00012457666</td><td>7678.999968193022</td><td>3.199999994700948</td><td>2419.9999940679677</td><td>Hendrerit A Corpo...</td><td>a</td><td>12972</td><td>2022-03-29</td><td>watch clock and j...</td><td>6.64</td><td>fashion and acces...</td><td>169.4756116760845</td><td>2022</td><td>3</td><td>29</td><td>Peter Brennan</td><td>13276 Vazquez Rap...</td><td>NT</td><td>0800</td><td>Undisclosed</td><td>0</td><td>17</td></tr>\n",
       "<tr><td>0800</td><td>5631.999973601934</td><td>33.00000004463053</td><td>4.20609029345557E8</td><td>57789.00008173299</td><td>74682.00012457666</td><td>7678.999968193022</td><td>3.199999994700948</td><td>2419.9999940679677</td><td>Pede Cras Vulputa...</td><td>a</td><td>2681</td><td>2021-06-29</td><td>health and beauty...</td><td>6.2</td><td>fashion and acces...</td><td>400.61345601101743</td><td>2021</td><td>6</td><td>29</td><td>Nicole Bishop</td><td>467 Robert Island...</td><td>NT</td><td>0800</td><td>Female</td><td>0</td><td>18</td></tr>\n",
       "<tr><td>0800</td><td>5631.999973601934</td><td>33.00000004463053</td><td>4.20609029345557E8</td><td>57789.00008173299</td><td>74682.00012457666</td><td>7678.999968193022</td><td>3.199999994700948</td><td>2419.9999940679677</td><td>Pede Cras Vulputa...</td><td>a</td><td>4597</td><td>2021-04-03</td><td>health and beauty...</td><td>6.2</td><td>fashion and acces...</td><td>444.1022321713573</td><td>2021</td><td>4</td><td>3</td><td>Andre Chandler</td><td>5546 Joseph Plain...</td><td>NT</td><td>0800</td><td>Male</td><td>0</td><td>19</td></tr>\n",
       "</table>\n",
       "only showing top 20 rows\n"
      ],
      "text/plain": [
       "+--------+-----------------+-----------------+------------------+-----------------+-----------------+-----------------+-----------------+------------------+--------------------+-------------+-------+--------------+--------------------+---------+--------------------+------------------+----------+-----------+---------+---------------+--------------------+--------------+-----------------+---------------+-----------+-----------------+\n",
       "|postcode|    total_earners|       median_age|        income_sum|    income_median|      income_mean|  2021_population|              km2|       persons/km2|       merchant_name|revenue_level|user_id|order_datetime|            products|take_rate|            category|      dollar_value|order_year|order_month|order_day|       consumer|    consumer_address|consumer_state|consumer_postcode|consumer_gender|fraud_group|__index_level_0__|\n",
       "+--------+-----------------+-----------------+------------------+-----------------+-----------------+-----------------+-----------------+------------------+--------------------+-------------+-------+--------------+--------------------+---------+--------------------+------------------+----------+-----------+---------+---------------+--------------------+--------------+-----------------+---------------+-----------+-----------------+\n",
       "|    0800|5631.999973601934|33.00000004463053|4.20609029345557E8|57789.00008173299|74682.00012457666|7678.999968193022|3.199999994700948|2419.9999940679677|Elit Sed Consequa...|            a|  10413|    2022-04-27|artist supply and...|     5.89|       art and gifts|375.16773164703153|      2022|          4|       27|  Kelly Clayton|4211 Rodney Tunne...|            NT|             0800|         Female|          0|                0|\n",
       "|    0800|5631.999973601934|33.00000004463053|4.20609029345557E8|57789.00008173299|74682.00012457666|7678.999968193022|3.199999994700948|2419.9999940679677|Elit Sed Consequa...|            a|  22246|    2022-10-07|artist supply and...|     5.89|       art and gifts| 617.8791313462011|      2022|         10|        7|  Corey Estrada|     1703 Boyd Shore|            NT|             0800|           Male|          0|                1|\n",
       "|    0800|5631.999973601934|33.00000004463053|4.20609029345557E8|57789.00008173299|74682.00012457666|7678.999968193022|3.199999994700948|2419.9999940679677|Elit Sed Consequa...|            a|   2681|    2022-02-28|artist supply and...|     5.89|       art and gifts| 766.5077067424303|      2022|          2|       28|  Nicole Bishop|467 Robert Island...|            NT|             0800|         Female|          0|                2|\n",
       "|    0800|5631.999973601934|33.00000004463053|4.20609029345557E8|57789.00008173299|74682.00012457666|7678.999968193022|3.199999994700948|2419.9999940679677|   Malesuada Vel Ltd|            b|  13454|    2021-07-24|books periodicals...|     3.56|     books and music|258.86595899218753|      2021|          7|       24|Natalie Herrera|88798 Saunders Hi...|            NT|             0800|         Female|          0|                3|\n",
       "|    0800|5631.999973601934|33.00000004463053|4.20609029345557E8|57789.00008173299|74682.00012457666|7678.999968193022|3.199999994700948|2419.9999940679677|Varius Orci Insti...|            a|  10146|    2021-08-08|tent and awning s...|      6.3|            outdoors| 4.159037931172075|      2021|          8|        8|   Shannon Mann|  00817 Owens Circle|            NT|             0800|         Female|          0|                4|\n",
       "|    0800|5631.999973601934|33.00000004463053|4.20609029345557E8|57789.00008173299|74682.00012457666|7678.999968193022|3.199999994700948|2419.9999940679677|Volutpat Nulla In...|            a|  23093|    2022-10-11|furniture home fu...|     6.59| home and technology|  8.26105405068297|      2022|         10|       11|  Robert Walker|646 Allison Ranch...|            NT|             0800|           Male|          0|                5|\n",
       "|    0800|5631.999973601934|33.00000004463053|4.20609029345557E8|57789.00008173299|74682.00012457666|7678.999968193022|3.199999994700948|2419.9999940679677|Mollis Integer Co...|            b|  13454|    2022-05-02|digital goods boo...|     3.96|     books and music| 83.63154755239155|      2022|          5|        2|Natalie Herrera|88798 Saunders Hi...|            NT|             0800|         Female|          0|                6|\n",
       "|    0800|5631.999973601934|33.00000004463053|4.20609029345557E8|57789.00008173299|74682.00012457666|7678.999968193022|3.199999994700948|2419.9999940679677|Elit Sed Consequa...|            a|  13454|    2021-04-08|artist supply and...|     5.89|       art and gifts| 87.00495112586256|      2021|          4|        8|Natalie Herrera|88798 Saunders Hi...|            NT|             0800|         Female|          0|                7|\n",
       "|    0800|5631.999973601934|33.00000004463053|4.20609029345557E8|57789.00008173299|74682.00012457666|7678.999968193022|3.199999994700948|2419.9999940679677|        Eros Limited|            c|   8092|    2021-12-18|digital goods boo...|     2.52|     books and music|  8.26187754879106|      2021|         12|       18|  Rebecca Owens|92579 Keith Neck ...|            NT|             0800|         Female|          0|                8|\n",
       "|    0800|5631.999973601934|33.00000004463053|4.20609029345557E8|57789.00008173299|74682.00012457666|7678.999968193022|3.199999994700948|2419.9999940679677|Hendrerit A Corpo...|            a|  11203|    2022-07-14|watch clock and j...|     6.64|fashion and acces...|100.80643267043831|      2022|          7|       14| John Rodriguez|     563 Wallace Rue|            NT|             0800|           Male|          0|                9|\n",
       "|    0800|5631.999973601934|33.00000004463053|4.20609029345557E8|57789.00008173299|74682.00012457666|7678.999968193022|3.199999994700948|2419.9999940679677|Pede Cras Vulputa...|            a|  22246|    2021-07-18|health and beauty...|      6.2|fashion and acces...|326.46199407890373|      2021|          7|       18|  Corey Estrada|     1703 Boyd Shore|            NT|             0800|           Male|          0|               10|\n",
       "|    0800|5631.999973601934|33.00000004463053|4.20609029345557E8|57789.00008173299|74682.00012457666|7678.999968193022|3.199999994700948|2419.9999940679677|Hendrerit A Corpo...|            a|  12972|    2021-08-16|watch clock and j...|     6.64|fashion and acces...|204.40538957685413|      2021|          8|       16|  Peter Brennan|13276 Vazquez Rap...|            NT|             0800|    Undisclosed|          0|               11|\n",
       "|    0800|5631.999973601934|33.00000004463053|4.20609029345557E8|57789.00008173299|74682.00012457666|7678.999968193022|3.199999994700948|2419.9999940679677|        Eros Limited|            c|  12972|    2021-06-14|digital goods boo...|     2.52|     books and music|31.204086659483615|      2021|          6|       14|  Peter Brennan|13276 Vazquez Rap...|            NT|             0800|    Undisclosed|          0|               12|\n",
       "|    0800|5631.999973601934|33.00000004463053|4.20609029345557E8|57789.00008173299|74682.00012457666|7678.999968193022|3.199999994700948|2419.9999940679677|        Eros Limited|            c|   8092|    2021-12-13|digital goods boo...|     2.52|     books and music|  37.1880940325229|      2021|         12|       13|  Rebecca Owens|92579 Keith Neck ...|            NT|             0800|         Female|          0|               13|\n",
       "|    0800|5631.999973601934|33.00000004463053|4.20609029345557E8|57789.00008173299|74682.00012457666|7678.999968193022|3.199999994700948|2419.9999940679677|        Eros Limited|            c|  10146|    2022-10-10|digital goods boo...|     2.52|     books and music| 5.247567221175345|      2022|         10|       10|   Shannon Mann|  00817 Owens Circle|            NT|             0800|         Female|          0|               14|\n",
       "|    0800|5631.999973601934|33.00000004463053|4.20609029345557E8|57789.00008173299|74682.00012457666|7678.999968193022|3.199999994700948|2419.9999940679677|        Eros Limited|            c|  10413|    2021-11-27|digital goods boo...|     2.52|     books and music|12.918096138910116|      2021|         11|       27|  Kelly Clayton|4211 Rodney Tunne...|            NT|             0800|         Female|          0|               15|\n",
       "|    0800|5631.999973601934|33.00000004463053|4.20609029345557E8|57789.00008173299|74682.00012457666|7678.999968193022|3.199999994700948|2419.9999940679677|Hendrerit A Corpo...|            a|   2681|    2022-05-19|watch clock and j...|     6.64|fashion and acces...|276.12651679041534|      2022|          5|       19|  Nicole Bishop|467 Robert Island...|            NT|             0800|         Female|          0|               16|\n",
       "|    0800|5631.999973601934|33.00000004463053|4.20609029345557E8|57789.00008173299|74682.00012457666|7678.999968193022|3.199999994700948|2419.9999940679677|Hendrerit A Corpo...|            a|  12972|    2022-03-29|watch clock and j...|     6.64|fashion and acces...| 169.4756116760845|      2022|          3|       29|  Peter Brennan|13276 Vazquez Rap...|            NT|             0800|    Undisclosed|          0|               17|\n",
       "|    0800|5631.999973601934|33.00000004463053|4.20609029345557E8|57789.00008173299|74682.00012457666|7678.999968193022|3.199999994700948|2419.9999940679677|Pede Cras Vulputa...|            a|   2681|    2021-06-29|health and beauty...|      6.2|fashion and acces...|400.61345601101743|      2021|          6|       29|  Nicole Bishop|467 Robert Island...|            NT|             0800|         Female|          0|               18|\n",
       "|    0800|5631.999973601934|33.00000004463053|4.20609029345557E8|57789.00008173299|74682.00012457666|7678.999968193022|3.199999994700948|2419.9999940679677|Pede Cras Vulputa...|            a|   4597|    2021-04-03|health and beauty...|      6.2|fashion and acces...| 444.1022321713573|      2021|          4|        3| Andre Chandler|5546 Joseph Plain...|            NT|             0800|           Male|          0|               19|\n",
       "+--------+-----------------+-----------------+------------------+-----------------+-----------------+-----------------+-----------------+------------------+--------------------+-------------+-------+--------------+--------------------+---------+--------------------+------------------+----------+-----------+---------+---------------+--------------------+--------------+-----------------+---------------+-----------+-----------------+\n",
       "only showing top 20 rows"
      ]
     },
     "execution_count": 11,
     "metadata": {},
     "output_type": "execute_result"
    }
   ],
   "source": [
    "df"
   ]
  },
  {
   "cell_type": "markdown",
   "metadata": {},
   "source": [
    "<h2>1. Split dataset</h2>"
   ]
  },
  {
   "cell_type": "code",
   "execution_count": 12,
   "metadata": {},
   "outputs": [],
   "source": [
    "import time\n",
    "import datetime\n",
    "date = \"2022-08-31\"\n",
    "date_time = datetime.datetime.strptime(date, '%Y-%m-%d')"
   ]
  },
  {
   "cell_type": "code",
   "execution_count": 13,
   "metadata": {},
   "outputs": [
    {
     "name": "stderr",
     "output_type": "stream",
     "text": [
      "                                                                                \r"
     ]
    },
    {
     "data": {
      "text/plain": [
       "9873203"
      ]
     },
     "execution_count": 13,
     "metadata": {},
     "output_type": "execute_result"
    }
   ],
   "source": [
    "df_train = df.where((col(\"order_datetime\") <= date_time.date()))\n",
    "df_train.count()"
   ]
  },
  {
   "cell_type": "code",
   "execution_count": 14,
   "metadata": {},
   "outputs": [
    {
     "data": {
      "text/plain": [
       "1214722"
      ]
     },
     "execution_count": 14,
     "metadata": {},
     "output_type": "execute_result"
    }
   ],
   "source": [
    "df_test = df.where((col(\"order_datetime\") > date_time.date()))\n",
    "df_test.count()"
   ]
  },
  {
   "cell_type": "markdown",
   "metadata": {},
   "source": [
    "<h2>2. Aggregate dataset</h2>"
   ]
  },
  {
   "cell_type": "code",
   "execution_count": 116,
   "metadata": {},
   "outputs": [],
   "source": [
    "df_train_agg = df_train.groupBy([\"merchant_name\", \"order_year\", \"order_month\"]).agg(\n",
    "    sum(\"dollar_value\").alias(\"total_revenue\"), # response variable\n",
    "\n",
    "    max(\"take_rate\").alias(\"take_rate\"),\n",
    "    avg(\"total_earners\").alias(\"total_earners\"),\n",
    "    avg(\"median_age\").alias(\"median_age\"),\n",
    "    avg(\"income_median\").alias(\"income_median\"),\n",
    "    avg(\"persons/km2\").alias(\"population_density\"),\n",
    "    max(\"category\").alias(\"category\"),\n",
    "    max(\"revenue_level\").alias(\"revenue_level\")\n",
    "    )\n",
    "\n",
    "df_test_agg = df_test.groupBy([\"merchant_name\", \"order_year\", \"order_month\"]).agg(\n",
    "    sum(\"dollar_value\").alias(\"total_revenue\"), # response variable\n",
    "\n",
    "    max(\"take_rate\").alias(\"take_rate\"),\n",
    "    avg(\"total_earners\").alias(\"total_earners\"),\n",
    "    avg(\"median_age\").alias(\"median_age\"),\n",
    "    avg(\"income_median\").alias(\"income_median\"),\n",
    "    avg(\"persons/km2\").alias(\"population_density\"),\n",
    "    max(\"category\").alias(\"category\"),\n",
    "    max(\"revenue_level\").alias(\"revenue_level\")\n",
    "    )"
   ]
  },
  {
   "cell_type": "code",
   "execution_count": 117,
   "metadata": {},
   "outputs": [],
   "source": [
    "df_all = df.groupBy([\"merchant_name\", \"order_year\", \"order_month\"]).agg(\n",
    "    sum(\"dollar_value\").alias(\"total_revenue\"), # response variable\n",
    "\n",
    "    max(\"take_rate\").alias(\"take_rate\"),\n",
    "    avg(\"total_earners\").alias(\"total_earners\"),\n",
    "    avg(\"median_age\").alias(\"median_age\"),\n",
    "    avg(\"income_median\").alias(\"income_median\"),\n",
    "    avg(\"persons/km2\").alias(\"population_density\"),\n",
    "    max(\"category\").alias(\"category\"),\n",
    "    max(\"revenue_level\").alias(\"revenue_level\")\n",
    "    )"
   ]
  },
  {
   "cell_type": "code",
   "execution_count": 118,
   "metadata": {},
   "outputs": [],
   "source": [
    "df_train_agg = df_train_agg.withColumn(\"revenue_taken\", F.col(\"total_revenue\") * (F.col(\"take_rate\") / 100))\n",
    "df_test_agg = df_test_agg.withColumn(\"revenue_taken\", F.col(\"total_revenue\") * (F.col(\"take_rate\") / 100))\n",
    "df_all = df_all.withColumn(\"revenue_taken\", F.col(\"total_revenue\") * (F.col(\"take_rate\") / 100))"
   ]
  },
  {
   "cell_type": "code",
   "execution_count": 119,
   "metadata": {},
   "outputs": [],
   "source": [
    "df_train_agg = df_train_agg.drop(\"total_revenue\", \"take_rate\")\n",
    "df_test_agg = df_test_agg.drop(\"total_revenue\", \"take_rate\")\n",
    "df_all = df_all.drop(\"total_revenue\", \"take_rate\")"
   ]
  },
  {
   "cell_type": "code",
   "execution_count": 18,
   "metadata": {},
   "outputs": [
    {
     "name": "stderr",
     "output_type": "stream",
     "text": [
      "ERROR:root:KeyboardInterrupt while sending command.==>              (3 + 1) / 4]\n",
      "Traceback (most recent call last):\n",
      "  File \"/Users/dongmenghan/Library/Python/3.8/lib/python/site-packages/py4j/java_gateway.py\", line 1038, in send_command\n",
      "    response = connection.send_command(command)\n",
      "  File \"/Users/dongmenghan/Library/Python/3.8/lib/python/site-packages/py4j/clientserver.py\", line 511, in send_command\n",
      "    answer = smart_decode(self.stream.readline()[:-1])\n",
      "  File \"/Library/Developer/CommandLineTools/Library/Frameworks/Python3.framework/Versions/3.8/lib/python3.8/socket.py\", line 669, in readinto\n",
      "    return self._sock.recv_into(b)\n",
      "KeyboardInterrupt\n"
     ]
    },
    {
     "ename": "KeyboardInterrupt",
     "evalue": "",
     "output_type": "error",
     "traceback": [
      "\u001b[0;31m---------------------------------------------------------------------------\u001b[0m",
      "\u001b[0;31mKeyboardInterrupt\u001b[0m                         Traceback (most recent call last)",
      "\u001b[1;32m/Users/dongmenghan/Desktop/2022 yr3 s2/ads/project 2/generic-buy-now-pay-later-project-group-27/notebooks/model.ipynb Cell 12\u001b[0m in \u001b[0;36m<cell line: 1>\u001b[0;34m()\u001b[0m\n\u001b[0;32m----> <a href='vscode-notebook-cell:/Users/dongmenghan/Desktop/2022%20yr3%20s2/ads/project%202/generic-buy-now-pay-later-project-group-27/notebooks/model.ipynb#X14sZmlsZQ%3D%3D?line=0'>1</a>\u001b[0m df_train_agg\n",
      "File \u001b[0;32m~/Library/Python/3.8/lib/python/site-packages/IPython/core/displayhook.py:262\u001b[0m, in \u001b[0;36mDisplayHook.__call__\u001b[0;34m(self, result)\u001b[0m\n\u001b[1;32m    260\u001b[0m \u001b[39mself\u001b[39m\u001b[39m.\u001b[39mstart_displayhook()\n\u001b[1;32m    261\u001b[0m \u001b[39mself\u001b[39m\u001b[39m.\u001b[39mwrite_output_prompt()\n\u001b[0;32m--> 262\u001b[0m format_dict, md_dict \u001b[39m=\u001b[39m \u001b[39mself\u001b[39;49m\u001b[39m.\u001b[39;49mcompute_format_data(result)\n\u001b[1;32m    263\u001b[0m \u001b[39mself\u001b[39m\u001b[39m.\u001b[39mupdate_user_ns(result)\n\u001b[1;32m    264\u001b[0m \u001b[39mself\u001b[39m\u001b[39m.\u001b[39mfill_exec_result(result)\n",
      "File \u001b[0;32m~/Library/Python/3.8/lib/python/site-packages/IPython/core/displayhook.py:151\u001b[0m, in \u001b[0;36mDisplayHook.compute_format_data\u001b[0;34m(self, result)\u001b[0m\n\u001b[1;32m    121\u001b[0m \u001b[39mdef\u001b[39;00m \u001b[39mcompute_format_data\u001b[39m(\u001b[39mself\u001b[39m, result):\n\u001b[1;32m    122\u001b[0m     \u001b[39m\"\"\"Compute format data of the object to be displayed.\u001b[39;00m\n\u001b[1;32m    123\u001b[0m \n\u001b[1;32m    124\u001b[0m \u001b[39m    The format data is a generalization of the :func:`repr` of an object.\u001b[39;00m\n\u001b[0;32m   (...)\u001b[0m\n\u001b[1;32m    149\u001b[0m \n\u001b[1;32m    150\u001b[0m \u001b[39m    \"\"\"\u001b[39;00m\n\u001b[0;32m--> 151\u001b[0m     \u001b[39mreturn\u001b[39;00m \u001b[39mself\u001b[39;49m\u001b[39m.\u001b[39;49mshell\u001b[39m.\u001b[39;49mdisplay_formatter\u001b[39m.\u001b[39;49mformat(result)\n",
      "File \u001b[0;32m~/Library/Python/3.8/lib/python/site-packages/IPython/core/formatters.py:178\u001b[0m, in \u001b[0;36mDisplayFormatter.format\u001b[0;34m(self, obj, include, exclude)\u001b[0m\n\u001b[1;32m    176\u001b[0m md \u001b[39m=\u001b[39m \u001b[39mNone\u001b[39;00m\n\u001b[1;32m    177\u001b[0m \u001b[39mtry\u001b[39;00m:\n\u001b[0;32m--> 178\u001b[0m     data \u001b[39m=\u001b[39m formatter(obj)\n\u001b[1;32m    179\u001b[0m \u001b[39mexcept\u001b[39;00m:\n\u001b[1;32m    180\u001b[0m     \u001b[39m# FIXME: log the exception\u001b[39;00m\n\u001b[1;32m    181\u001b[0m     \u001b[39mraise\u001b[39;00m\n",
      "File \u001b[0;32m~/Library/Python/3.8/lib/python/site-packages/decorator.py:232\u001b[0m, in \u001b[0;36mdecorate.<locals>.fun\u001b[0;34m(*args, **kw)\u001b[0m\n\u001b[1;32m    230\u001b[0m \u001b[39mif\u001b[39;00m \u001b[39mnot\u001b[39;00m kwsyntax:\n\u001b[1;32m    231\u001b[0m     args, kw \u001b[39m=\u001b[39m fix(args, kw, sig)\n\u001b[0;32m--> 232\u001b[0m \u001b[39mreturn\u001b[39;00m caller(func, \u001b[39m*\u001b[39;49m(extras \u001b[39m+\u001b[39;49m args), \u001b[39m*\u001b[39;49m\u001b[39m*\u001b[39;49mkw)\n",
      "File \u001b[0;32m~/Library/Python/3.8/lib/python/site-packages/IPython/core/formatters.py:222\u001b[0m, in \u001b[0;36mcatch_format_error\u001b[0;34m(method, self, *args, **kwargs)\u001b[0m\n\u001b[1;32m    220\u001b[0m \u001b[39m\"\"\"show traceback on failed format call\"\"\"\u001b[39;00m\n\u001b[1;32m    221\u001b[0m \u001b[39mtry\u001b[39;00m:\n\u001b[0;32m--> 222\u001b[0m     r \u001b[39m=\u001b[39m method(\u001b[39mself\u001b[39;49m, \u001b[39m*\u001b[39;49margs, \u001b[39m*\u001b[39;49m\u001b[39m*\u001b[39;49mkwargs)\n\u001b[1;32m    223\u001b[0m \u001b[39mexcept\u001b[39;00m \u001b[39mNotImplementedError\u001b[39;00m:\n\u001b[1;32m    224\u001b[0m     \u001b[39m# don't warn on NotImplementedErrors\u001b[39;00m\n\u001b[1;32m    225\u001b[0m     \u001b[39mreturn\u001b[39;00m \u001b[39mself\u001b[39m\u001b[39m.\u001b[39m_check_return(\u001b[39mNone\u001b[39;00m, args[\u001b[39m0\u001b[39m])\n",
      "File \u001b[0;32m~/Library/Python/3.8/lib/python/site-packages/IPython/core/formatters.py:343\u001b[0m, in \u001b[0;36mBaseFormatter.__call__\u001b[0;34m(self, obj)\u001b[0m\n\u001b[1;32m    341\u001b[0m     method \u001b[39m=\u001b[39m get_real_method(obj, \u001b[39mself\u001b[39m\u001b[39m.\u001b[39mprint_method)\n\u001b[1;32m    342\u001b[0m     \u001b[39mif\u001b[39;00m method \u001b[39mis\u001b[39;00m \u001b[39mnot\u001b[39;00m \u001b[39mNone\u001b[39;00m:\n\u001b[0;32m--> 343\u001b[0m         \u001b[39mreturn\u001b[39;00m method()\n\u001b[1;32m    344\u001b[0m     \u001b[39mreturn\u001b[39;00m \u001b[39mNone\u001b[39;00m\n\u001b[1;32m    345\u001b[0m \u001b[39melse\u001b[39;00m:\n",
      "File \u001b[0;32m~/Library/Python/3.8/lib/python/site-packages/pyspark/sql/dataframe.py:637\u001b[0m, in \u001b[0;36mDataFrame._repr_html_\u001b[0;34m(self)\u001b[0m\n\u001b[1;32m    635\u001b[0m \u001b[39mif\u001b[39;00m \u001b[39mself\u001b[39m\u001b[39m.\u001b[39msparkSession\u001b[39m.\u001b[39m_jconf\u001b[39m.\u001b[39misReplEagerEvalEnabled():\n\u001b[1;32m    636\u001b[0m     max_num_rows \u001b[39m=\u001b[39m \u001b[39mmax\u001b[39m(\u001b[39mself\u001b[39m\u001b[39m.\u001b[39msparkSession\u001b[39m.\u001b[39m_jconf\u001b[39m.\u001b[39mreplEagerEvalMaxNumRows(), \u001b[39m0\u001b[39m)\n\u001b[0;32m--> 637\u001b[0m     sock_info \u001b[39m=\u001b[39m \u001b[39mself\u001b[39;49m\u001b[39m.\u001b[39;49m_jdf\u001b[39m.\u001b[39;49mgetRowsToPython(\n\u001b[1;32m    638\u001b[0m         max_num_rows,\n\u001b[1;32m    639\u001b[0m         \u001b[39mself\u001b[39;49m\u001b[39m.\u001b[39;49msparkSession\u001b[39m.\u001b[39;49m_jconf\u001b[39m.\u001b[39;49mreplEagerEvalTruncate(),\n\u001b[1;32m    640\u001b[0m     )\n\u001b[1;32m    641\u001b[0m     rows \u001b[39m=\u001b[39m \u001b[39mlist\u001b[39m(_load_from_socket(sock_info, BatchedSerializer(CPickleSerializer())))\n\u001b[1;32m    642\u001b[0m     head \u001b[39m=\u001b[39m rows[\u001b[39m0\u001b[39m]\n",
      "File \u001b[0;32m~/Library/Python/3.8/lib/python/site-packages/py4j/java_gateway.py:1320\u001b[0m, in \u001b[0;36mJavaMember.__call__\u001b[0;34m(self, *args)\u001b[0m\n\u001b[1;32m   1313\u001b[0m args_command, temp_args \u001b[39m=\u001b[39m \u001b[39mself\u001b[39m\u001b[39m.\u001b[39m_build_args(\u001b[39m*\u001b[39margs)\n\u001b[1;32m   1315\u001b[0m command \u001b[39m=\u001b[39m proto\u001b[39m.\u001b[39mCALL_COMMAND_NAME \u001b[39m+\u001b[39m\\\n\u001b[1;32m   1316\u001b[0m     \u001b[39mself\u001b[39m\u001b[39m.\u001b[39mcommand_header \u001b[39m+\u001b[39m\\\n\u001b[1;32m   1317\u001b[0m     args_command \u001b[39m+\u001b[39m\\\n\u001b[1;32m   1318\u001b[0m     proto\u001b[39m.\u001b[39mEND_COMMAND_PART\n\u001b[0;32m-> 1320\u001b[0m answer \u001b[39m=\u001b[39m \u001b[39mself\u001b[39;49m\u001b[39m.\u001b[39;49mgateway_client\u001b[39m.\u001b[39;49msend_command(command)\n\u001b[1;32m   1321\u001b[0m return_value \u001b[39m=\u001b[39m get_return_value(\n\u001b[1;32m   1322\u001b[0m     answer, \u001b[39mself\u001b[39m\u001b[39m.\u001b[39mgateway_client, \u001b[39mself\u001b[39m\u001b[39m.\u001b[39mtarget_id, \u001b[39mself\u001b[39m\u001b[39m.\u001b[39mname)\n\u001b[1;32m   1324\u001b[0m \u001b[39mfor\u001b[39;00m temp_arg \u001b[39min\u001b[39;00m temp_args:\n",
      "File \u001b[0;32m~/Library/Python/3.8/lib/python/site-packages/py4j/java_gateway.py:1038\u001b[0m, in \u001b[0;36mGatewayClient.send_command\u001b[0;34m(self, command, retry, binary)\u001b[0m\n\u001b[1;32m   1036\u001b[0m connection \u001b[39m=\u001b[39m \u001b[39mself\u001b[39m\u001b[39m.\u001b[39m_get_connection()\n\u001b[1;32m   1037\u001b[0m \u001b[39mtry\u001b[39;00m:\n\u001b[0;32m-> 1038\u001b[0m     response \u001b[39m=\u001b[39m connection\u001b[39m.\u001b[39;49msend_command(command)\n\u001b[1;32m   1039\u001b[0m     \u001b[39mif\u001b[39;00m binary:\n\u001b[1;32m   1040\u001b[0m         \u001b[39mreturn\u001b[39;00m response, \u001b[39mself\u001b[39m\u001b[39m.\u001b[39m_create_connection_guard(connection)\n",
      "File \u001b[0;32m~/Library/Python/3.8/lib/python/site-packages/py4j/clientserver.py:511\u001b[0m, in \u001b[0;36mClientServerConnection.send_command\u001b[0;34m(self, command)\u001b[0m\n\u001b[1;32m    509\u001b[0m \u001b[39mtry\u001b[39;00m:\n\u001b[1;32m    510\u001b[0m     \u001b[39mwhile\u001b[39;00m \u001b[39mTrue\u001b[39;00m:\n\u001b[0;32m--> 511\u001b[0m         answer \u001b[39m=\u001b[39m smart_decode(\u001b[39mself\u001b[39;49m\u001b[39m.\u001b[39;49mstream\u001b[39m.\u001b[39;49mreadline()[:\u001b[39m-\u001b[39m\u001b[39m1\u001b[39m])\n\u001b[1;32m    512\u001b[0m         logger\u001b[39m.\u001b[39mdebug(\u001b[39m\"\u001b[39m\u001b[39mAnswer received: \u001b[39m\u001b[39m{0}\u001b[39;00m\u001b[39m\"\u001b[39m\u001b[39m.\u001b[39mformat(answer))\n\u001b[1;32m    513\u001b[0m         \u001b[39m# Happens when a the other end is dead. There might be an empty\u001b[39;00m\n\u001b[1;32m    514\u001b[0m         \u001b[39m# answer before the socket raises an error.\u001b[39;00m\n",
      "File \u001b[0;32m/Library/Developer/CommandLineTools/Library/Frameworks/Python3.framework/Versions/3.8/lib/python3.8/socket.py:669\u001b[0m, in \u001b[0;36mSocketIO.readinto\u001b[0;34m(self, b)\u001b[0m\n\u001b[1;32m    667\u001b[0m \u001b[39mwhile\u001b[39;00m \u001b[39mTrue\u001b[39;00m:\n\u001b[1;32m    668\u001b[0m     \u001b[39mtry\u001b[39;00m:\n\u001b[0;32m--> 669\u001b[0m         \u001b[39mreturn\u001b[39;00m \u001b[39mself\u001b[39;49m\u001b[39m.\u001b[39;49m_sock\u001b[39m.\u001b[39;49mrecv_into(b)\n\u001b[1;32m    670\u001b[0m     \u001b[39mexcept\u001b[39;00m timeout:\n\u001b[1;32m    671\u001b[0m         \u001b[39mself\u001b[39m\u001b[39m.\u001b[39m_timeout_occurred \u001b[39m=\u001b[39m \u001b[39mTrue\u001b[39;00m\n",
      "\u001b[0;31mKeyboardInterrupt\u001b[0m: "
     ]
    }
   ],
   "source": [
    "df_train_agg"
   ]
  },
  {
   "cell_type": "code",
   "execution_count": null,
   "metadata": {},
   "outputs": [
    {
     "name": "stdout",
     "output_type": "stream",
     "text": [
      "root\n",
      " |-- merchant_name: string (nullable = true)\n",
      " |-- order_year: integer (nullable = true)\n",
      " |-- order_month: integer (nullable = true)\n",
      " |-- total_earners: double (nullable = true)\n",
      " |-- median_age: double (nullable = true)\n",
      " |-- income_median: double (nullable = true)\n",
      " |-- population_density: double (nullable = true)\n",
      " |-- category: string (nullable = true)\n",
      " |-- revenue_level: string (nullable = true)\n",
      " |-- revenue_taken: double (nullable = true)\n",
      "\n"
     ]
    }
   ],
   "source": [
    "df_train_agg.printSchema()"
   ]
  },
  {
   "cell_type": "code",
   "execution_count": 49,
   "metadata": {},
   "outputs": [
    {
     "name": "stderr",
     "output_type": "stream",
     "text": [
      "                                                                                \r"
     ]
    }
   ],
   "source": [
    "from xxlimited import Str\n",
    "from pyspark.ml.feature import OneHotEncoder, StringIndexer\n",
    "\n",
    "stringIndexer = StringIndexer(inputCols=[\"category\", \"revenue_level\"], outputCols=[\"category_num\", \"revenue_num\"])\n",
    "model = stringIndexer.fit(df_train_agg)\n",
    "train1 = model.transform(df_train_agg)\n",
    "\n",
    "model = stringIndexer.fit(df_test_agg)\n",
    "test1 = model.transform(df_test_agg)\n"
   ]
  },
  {
   "cell_type": "code",
   "execution_count": 50,
   "metadata": {},
   "outputs": [],
   "source": [
    "\n",
    "encoder = OneHotEncoder(inputCols=[\"category_num\", \"revenue_num\"], outputCols=[\"category_vec\", \"revenue_vec\"])\n",
    "train = encoder.fit(train1).transform(train1).drop(\"category_num\", \"revenue_num\")\n",
    "test = encoder.fit(test1).transform(test1).drop(\"category_num\", \"revenue_num\")\n"
   ]
  },
  {
   "cell_type": "code",
   "execution_count": 36,
   "metadata": {},
   "outputs": [
    {
     "name": "stderr",
     "output_type": "stream",
     "text": [
      "                                                                                \r"
     ]
    },
    {
     "data": {
      "text/html": [
       "<table border='1'>\n",
       "<tr><th>merchant_name</th><th>order_year</th><th>order_month</th><th>total_earners</th><th>median_age</th><th>income_median</th><th>population_density</th><th>category</th><th>revenue_level</th><th>revenue_taken</th><th>category_vec</th><th>revenue_vec</th></tr>\n",
       "<tr><td>A Aliquet Ltd</td><td>2021</td><td>3</td><td>4980.623604961794</td><td>45.955320262557386</td><td>44348.234836395015</td><td>446.43100140347246</td><td>home and technology</td><td>b</td><td>349.5484134530372</td><td>(4,[0],[1.0])</td><td>(4,[1],[1.0])</td></tr>\n",
       "<tr><td>A Aliquet Ltd</td><td>2021</td><td>4</td><td>5354.985464077088</td><td>44.957488804012904</td><td>47087.020093628846</td><td>661.3048628221844</td><td>home and technology</td><td>b</td><td>338.07536243758386</td><td>(4,[0],[1.0])</td><td>(4,[1],[1.0])</td></tr>\n",
       "<tr><td>A Aliquet Ltd</td><td>2021</td><td>7</td><td>4388.982031619088</td><td>44.56853448053012</td><td>44286.808317322975</td><td>322.56914352472995</td><td>home and technology</td><td>b</td><td>475.18502622308233</td><td>(4,[0],[1.0])</td><td>(4,[1],[1.0])</td></tr>\n",
       "<tr><td>A Aliquet Ltd</td><td>2021</td><td>8</td><td>5281.06502903092</td><td>41.808178897353294</td><td>44432.17706152081</td><td>674.1575473010176</td><td>home and technology</td><td>b</td><td>375.8536740741011</td><td>(4,[0],[1.0])</td><td>(4,[1],[1.0])</td></tr>\n",
       "<tr><td>A Aliquet Ltd</td><td>2021</td><td>12</td><td>4218.068045625177</td><td>44.00092016580645</td><td>45702.003770359916</td><td>633.7586224746047</td><td>home and technology</td><td>b</td><td>486.47663958043245</td><td>(4,[0],[1.0])</td><td>(4,[1],[1.0])</td></tr>\n",
       "<tr><td>A Aliquet Ltd</td><td>2022</td><td>6</td><td>4907.6821031588515</td><td>44.52282551974433</td><td>46859.1278088761</td><td>506.7066383636061</td><td>home and technology</td><td>b</td><td>383.8019227224976</td><td>(4,[0],[1.0])</td><td>(4,[1],[1.0])</td></tr>\n",
       "<tr><td>A Aliquet Ltd</td><td>2022</td><td>8</td><td>4587.962567801989</td><td>43.09698805802131</td><td>45936.13593995373</td><td>564.2479724970453</td><td>home and technology</td><td>b</td><td>537.5835117882583</td><td>(4,[0],[1.0])</td><td>(4,[1],[1.0])</td></tr>\n",
       "<tr><td>A Arcu Industries</td><td>2021</td><td>2</td><td>3464.1233178609377</td><td>46.506422301920416</td><td>51956.04631148328</td><td>12.921544307761414</td><td>outdoors</td><td>c</td><td>21.744568393051882</td><td>(4,[2],[1.0])</td><td>(4,[2],[1.0])</td></tr>\n",
       "<tr><td>A Arcu Industries</td><td>2021</td><td>12</td><td>4631.073949176494</td><td>43.00178251688292</td><td>45797.775562465315</td><td>590.2452906166948</td><td>outdoors</td><td>c</td><td>1582.2315307816057</td><td>(4,[2],[1.0])</td><td>(4,[2],[1.0])</td></tr>\n",
       "<tr><td>A Arcu Industries</td><td>2022</td><td>5</td><td>4953.264665124492</td><td>41.985087824662386</td><td>46570.62536428412</td><td>839.7026423642426</td><td>outdoors</td><td>c</td><td>1203.3213130052611</td><td>(4,[2],[1.0])</td><td>(4,[2],[1.0])</td></tr>\n",
       "<tr><td>A Arcu Industries</td><td>2022</td><td>6</td><td>4770.525472823367</td><td>44.13508031319623</td><td>46263.953992811774</td><td>439.45201957696486</td><td>outdoors</td><td>c</td><td>1488.332961841242</td><td>(4,[2],[1.0])</td><td>(4,[2],[1.0])</td></tr>\n",
       "<tr><td>A Arcu Sed Company</td><td>2022</td><td>8</td><td>4873.956983949013</td><td>44.03634565497028</td><td>46842.44706871208</td><td>616.690762429152</td><td>fashion and acces...</td><td>c</td><td>202.0072445906398</td><td>(4,[3],[1.0])</td><td>(4,[2],[1.0])</td></tr>\n",
       "<tr><td>A Arcu Sed Corpor...</td><td>2021</td><td>7</td><td>5023.5</td><td>47.5</td><td>43662.5</td><td>14.95</td><td>books and music</td><td>c</td><td>21.978148597716995</td><td>(4,[1],[1.0])</td><td>(4,[2],[1.0])</td></tr>\n",
       "<tr><td>A Arcu Sed Corpor...</td><td>2021</td><td>10</td><td>5349.034019515486</td><td>46.94499080809525</td><td>42227.33971980946</td><td>1.4199603095297617</td><td>books and music</td><td>c</td><td>18.525218218704357</td><td>(4,[1],[1.0])</td><td>(4,[2],[1.0])</td></tr>\n",
       "<tr><td>A Arcu Sed Corpor...</td><td>2022</td><td>2</td><td>1991.000002001133</td><td>46.0</td><td>53440.99999854395</td><td>0.10000000966965378</td><td>books and music</td><td>c</td><td>6.192477552935265</td><td>(4,[1],[1.0])</td><td>(4,[2],[1.0])</td></tr>\n",
       "<tr><td>A Arcu Sed Corpor...</td><td>2022</td><td>5</td><td>5233.999998360157</td><td>48.00000000011362</td><td>41938.999999736334</td><td>2.000000003477454</td><td>books and music</td><td>c</td><td>22.590067125541005</td><td>(4,[1],[1.0])</td><td>(4,[2],[1.0])</td></tr>\n",
       "<tr><td>A Arcu Sed Corpor...</td><td>2022</td><td>8</td><td>3486.0</td><td>53.0</td><td>41140.0</td><td>2.1</td><td>books and music</td><td>c</td><td>28.8037844882498</td><td>(4,[1],[1.0])</td><td>(4,[2],[1.0])</td></tr>\n",
       "<tr><td>A Associates</td><td>2021</td><td>3</td><td>4035.9999993720544</td><td>47.79999999897406</td><td>40354.6000001081</td><td>2.920000027671273</td><td>fashion and acces...</td><td>b</td><td>78.95860752978314</td><td>(4,[3],[1.0])</td><td>(4,[1],[1.0])</td></tr>\n",
       "<tr><td>A Associates</td><td>2021</td><td>6</td><td>9168.0</td><td>55.0</td><td>38476.0</td><td>143.2</td><td>fashion and acces...</td><td>b</td><td>15.683284998150128</td><td>(4,[3],[1.0])</td><td>(4,[1],[1.0])</td></tr>\n",
       "<tr><td>A Associates</td><td>2021</td><td>7</td><td>7989.806454944793</td><td>43.20363630960536</td><td>55311.55687083746</td><td>1210.7668326520588</td><td>fashion and acces...</td><td>b</td><td>17.144569924080127</td><td>(4,[3],[1.0])</td><td>(4,[1],[1.0])</td></tr>\n",
       "</table>\n",
       "only showing top 20 rows\n"
      ],
      "text/plain": [
       "+--------------------+----------+-----------+------------------+------------------+------------------+-------------------+--------------------+-------------+------------------+-------------+-------------+\n",
       "|       merchant_name|order_year|order_month|     total_earners|        median_age|     income_median| population_density|            category|revenue_level|     revenue_taken| category_vec|  revenue_vec|\n",
       "+--------------------+----------+-----------+------------------+------------------+------------------+-------------------+--------------------+-------------+------------------+-------------+-------------+\n",
       "|       A Aliquet Ltd|      2021|          3| 4980.623604961794|45.955320262557386|44348.234836395015| 446.43100140347246| home and technology|            b| 349.5484134530372|(4,[0],[1.0])|(4,[1],[1.0])|\n",
       "|       A Aliquet Ltd|      2021|          4| 5354.985464077088|44.957488804012904|47087.020093628846|  661.3048628221844| home and technology|            b|338.07536243758386|(4,[0],[1.0])|(4,[1],[1.0])|\n",
       "|       A Aliquet Ltd|      2021|          7| 4388.982031619088| 44.56853448053012|44286.808317322975| 322.56914352472995| home and technology|            b|475.18502622308233|(4,[0],[1.0])|(4,[1],[1.0])|\n",
       "|       A Aliquet Ltd|      2021|          8|  5281.06502903092|41.808178897353294| 44432.17706152081|  674.1575473010176| home and technology|            b| 375.8536740741011|(4,[0],[1.0])|(4,[1],[1.0])|\n",
       "|       A Aliquet Ltd|      2021|         12| 4218.068045625177| 44.00092016580645|45702.003770359916|  633.7586224746047| home and technology|            b|486.47663958043245|(4,[0],[1.0])|(4,[1],[1.0])|\n",
       "|       A Aliquet Ltd|      2022|          6|4907.6821031588515| 44.52282551974433|  46859.1278088761|  506.7066383636061| home and technology|            b| 383.8019227224976|(4,[0],[1.0])|(4,[1],[1.0])|\n",
       "|       A Aliquet Ltd|      2022|          8| 4587.962567801989| 43.09698805802131| 45936.13593995373|  564.2479724970453| home and technology|            b| 537.5835117882583|(4,[0],[1.0])|(4,[1],[1.0])|\n",
       "|   A Arcu Industries|      2021|          2|3464.1233178609377|46.506422301920416| 51956.04631148328| 12.921544307761414|            outdoors|            c|21.744568393051882|(4,[2],[1.0])|(4,[2],[1.0])|\n",
       "|   A Arcu Industries|      2021|         12| 4631.073949176494| 43.00178251688292|45797.775562465315|  590.2452906166948|            outdoors|            c|1582.2315307816057|(4,[2],[1.0])|(4,[2],[1.0])|\n",
       "|   A Arcu Industries|      2022|          5| 4953.264665124492|41.985087824662386| 46570.62536428412|  839.7026423642426|            outdoors|            c|1203.3213130052611|(4,[2],[1.0])|(4,[2],[1.0])|\n",
       "|   A Arcu Industries|      2022|          6| 4770.525472823367| 44.13508031319623|46263.953992811774| 439.45201957696486|            outdoors|            c| 1488.332961841242|(4,[2],[1.0])|(4,[2],[1.0])|\n",
       "|  A Arcu Sed Company|      2022|          8| 4873.956983949013| 44.03634565497028| 46842.44706871208|   616.690762429152|fashion and acces...|            c| 202.0072445906398|(4,[3],[1.0])|(4,[2],[1.0])|\n",
       "|A Arcu Sed Corpor...|      2021|          7|            5023.5|              47.5|           43662.5|              14.95|     books and music|            c|21.978148597716995|(4,[1],[1.0])|(4,[2],[1.0])|\n",
       "|A Arcu Sed Corpor...|      2021|         10| 5349.034019515486| 46.94499080809525| 42227.33971980946| 1.4199603095297617|     books and music|            c|18.525218218704357|(4,[1],[1.0])|(4,[2],[1.0])|\n",
       "|A Arcu Sed Corpor...|      2022|          2| 1991.000002001133|              46.0| 53440.99999854395|0.10000000966965378|     books and music|            c| 6.192477552935265|(4,[1],[1.0])|(4,[2],[1.0])|\n",
       "|A Arcu Sed Corpor...|      2022|          5| 5233.999998360157| 48.00000000011362|41938.999999736334|  2.000000003477454|     books and music|            c|22.590067125541005|(4,[1],[1.0])|(4,[2],[1.0])|\n",
       "|A Arcu Sed Corpor...|      2022|          8|            3486.0|              53.0|           41140.0|                2.1|     books and music|            c|  28.8037844882498|(4,[1],[1.0])|(4,[2],[1.0])|\n",
       "|        A Associates|      2021|          3|4035.9999993720544| 47.79999999897406|  40354.6000001081|  2.920000027671273|fashion and acces...|            b| 78.95860752978314|(4,[3],[1.0])|(4,[1],[1.0])|\n",
       "|        A Associates|      2021|          6|            9168.0|              55.0|           38476.0|              143.2|fashion and acces...|            b|15.683284998150128|(4,[3],[1.0])|(4,[1],[1.0])|\n",
       "|        A Associates|      2021|          7| 7989.806454944793| 43.20363630960536| 55311.55687083746| 1210.7668326520588|fashion and acces...|            b|17.144569924080127|(4,[3],[1.0])|(4,[1],[1.0])|\n",
       "+--------------------+----------+-----------+------------------+------------------+------------------+-------------------+--------------------+-------------+------------------+-------------+-------------+\n",
       "only showing top 20 rows"
      ]
     },
     "execution_count": 36,
     "metadata": {},
     "output_type": "execute_result"
    }
   ],
   "source": [
    "train"
   ]
  },
  {
   "cell_type": "code",
   "execution_count": 51,
   "metadata": {},
   "outputs": [],
   "source": [
    "# vectorized the features for model training\n",
    "from pyspark.ml.feature import VectorAssembler\n",
    "\n",
    "features = 'features'\n",
    "internal_cols = [\"order_year\", \"order_month\",  \"category_vec\", \"revenue_vec\"]\n",
    "external_cols = [\"total_earners\", \"median_age\", \"income_median\", \"population_density\"]\n",
    "\n",
    "assembler = VectorAssembler(\n",
    "    # which column to combine\n",
    "    inputCols=internal_cols, \n",
    "    # How should the combined columns be named\n",
    "    outputCol=\"internal\"\n",
    ")\n",
    "train = assembler.transform(train.dropna('any'))\n",
    "test = assembler.transform(test.dropna('any'))\n",
    "\n",
    "assembler = VectorAssembler(\n",
    "    # which column to combine\n",
    "    inputCols=external_cols, \n",
    "    # How should the combined columns be named\n",
    "    outputCol=\"external\"\n",
    ")\n",
    "train = assembler.transform(train.dropna('any'))\n",
    "test = assembler.transform(test.dropna('any'))"
   ]
  },
  {
   "cell_type": "code",
   "execution_count": 54,
   "metadata": {},
   "outputs": [],
   "source": [
    "from pyspark.ml.feature import Interaction\n",
    "\n",
    "interaction1 = Interaction(inputCols=internal_cols, outputCol=\"internal_interact\")\n",
    "train = interaction1.transform(train)\n",
    "test = interaction1.transform(test)"
   ]
  },
  {
   "cell_type": "code",
   "execution_count": 55,
   "metadata": {},
   "outputs": [
    {
     "name": "stdout",
     "output_type": "stream",
     "text": [
      "22/10/06 00:26:17 WARN MemoryStore: Failed to reserve initial memory threshold of 1024.0 KiB for computing block broadcast_114 in memory.\n",
      "22/10/06 00:26:17 WARN MemoryStore: Not enough space to cache broadcast_114 in memory! (computed 384.0 B so far)\n"
     ]
    },
    {
     "name": "stderr",
     "output_type": "stream",
     "text": [
      "[Stage 126:==========================================>              (3 + 1) / 4]\r"
     ]
    },
    {
     "name": "stdout",
     "output_type": "stream",
     "text": [
      "+-------------------+------------------------------------+\n",
      "|internal_interact  |internal                            |\n",
      "+-------------------+------------------------------------+\n",
      "|(16,[1],[6063.0])  |(10,[0,1,2,7],[2021.0,3.0,1.0,1.0]) |\n",
      "|(16,[1],[8084.0])  |(10,[0,1,2,7],[2021.0,4.0,1.0,1.0]) |\n",
      "|(16,[1],[14147.0]) |(10,[0,1,2,7],[2021.0,7.0,1.0,1.0]) |\n",
      "|(16,[1],[16168.0]) |(10,[0,1,2,7],[2021.0,8.0,1.0,1.0]) |\n",
      "|(16,[1],[24252.0]) |(10,[0,1,2,7],[2021.0,12.0,1.0,1.0])|\n",
      "|(16,[1],[12132.0]) |(10,[0,1,2,7],[2022.0,6.0,1.0,1.0]) |\n",
      "|(16,[1],[16176.0]) |(10,[0,1,2,7],[2022.0,8.0,1.0,1.0]) |\n",
      "|(16,[10],[4042.0]) |(10,[0,1,4,8],[2021.0,2.0,1.0,1.0]) |\n",
      "|(16,[10],[24252.0])|(10,[0,1,4,8],[2021.0,12.0,1.0,1.0])|\n",
      "|(16,[10],[10110.0])|(10,[0,1,4,8],[2022.0,5.0,1.0,1.0]) |\n",
      "|(16,[10],[12132.0])|(10,[0,1,4,8],[2022.0,6.0,1.0,1.0]) |\n",
      "|(16,[14],[16176.0])|(10,[0,1,5,8],[2022.0,8.0,1.0,1.0]) |\n",
      "|(16,[6],[14147.0]) |(10,[0,1,3,8],[2021.0,7.0,1.0,1.0]) |\n",
      "|(16,[6],[20210.0]) |(10,[0,1,3,8],[2021.0,10.0,1.0,1.0])|\n",
      "|(16,[6],[4044.0])  |(10,[0,1,3,8],[2022.0,2.0,1.0,1.0]) |\n",
      "|(16,[6],[10110.0]) |(10,[0,1,3,8],[2022.0,5.0,1.0,1.0]) |\n",
      "|(16,[6],[16176.0]) |(10,[0,1,3,8],[2022.0,8.0,1.0,1.0]) |\n",
      "|(16,[13],[6063.0]) |(10,[0,1,5,7],[2021.0,3.0,1.0,1.0]) |\n",
      "|(16,[13],[12126.0])|(10,[0,1,5,7],[2021.0,6.0,1.0,1.0]) |\n",
      "|(16,[13],[14147.0])|(10,[0,1,5,7],[2021.0,7.0,1.0,1.0]) |\n",
      "+-------------------+------------------------------------+\n",
      "only showing top 20 rows\n",
      "\n"
     ]
    },
    {
     "name": "stderr",
     "output_type": "stream",
     "text": [
      "                                                                                \r"
     ]
    }
   ],
   "source": [
    "train.select(\"internal_interact\", \"internal\").show(truncate=False)"
   ]
  },
  {
   "cell_type": "code",
   "execution_count": 56,
   "metadata": {},
   "outputs": [],
   "source": [
    "from pyspark.ml.feature import Interaction\n",
    "\n",
    "interaction2 = Interaction(inputCols=[\"internal\", \"external\"], outputCol=\"external_interact\")\n",
    "train = interaction2.transform(train)\n",
    "test = interaction2.transform(test)"
   ]
  },
  {
   "cell_type": "code",
   "execution_count": 58,
   "metadata": {},
   "outputs": [],
   "source": [
    "assembler1 = VectorAssembler(\n",
    "    # which column to combine\n",
    "    inputCols=external_cols + internal_cols, \n",
    "    # How should the combined columns be named\n",
    "    outputCol=\"feature_additive\"\n",
    ")\n",
    "\n",
    "train = assembler1.transform(train)\n",
    "test = assembler1.transform(test)"
   ]
  },
  {
   "cell_type": "code",
   "execution_count": 59,
   "metadata": {},
   "outputs": [],
   "source": [
    "\n",
    "assembler2 = VectorAssembler(\n",
    "    # which column to combine\n",
    "    inputCols=external_cols + internal_cols + [\"internal_interact\"], \n",
    "    # How should the combined columns be named\n",
    "    outputCol=\"feature_internal\"\n",
    ")\n",
    "\n",
    "train = assembler2.transform(train)\n",
    "test = assembler2.transform(test)"
   ]
  },
  {
   "cell_type": "code",
   "execution_count": 60,
   "metadata": {},
   "outputs": [],
   "source": [
    "assembler3 = VectorAssembler(\n",
    "    # which column to combine\n",
    "    inputCols=external_cols + internal_cols + [\"internal_interact\"] + [\"external_interact\"], \n",
    "    # How should the combined columns be named\n",
    "    outputCol=\"feature_all\"\n",
    ")\n",
    "\n",
    "train = assembler3.transform(train)\n",
    "test = assembler3.transform(test)"
   ]
  },
  {
   "cell_type": "code",
   "execution_count": 108,
   "metadata": {},
   "outputs": [],
   "source": [
    "import pandas as pd\n",
    "import matplotlib.pyplot as plt\n",
    "\n",
    "def plot_real_vs_pred(model_name, y_real, y_pred):\n",
    "    plt.style.use('ggplot')\n",
    "    reg_real_vs_pred = pd.concat([y_real, y_pred], axis = 1)\n",
    "    reg_real_vs_pred = reg_real_vs_pred.head(60)\n",
    "    reg_real_vs_pred.plot(kind='bar', title='MODEL: '+model_name, figsize=(16,5))\n",
    "    plt.show()"
   ]
  },
  {
   "cell_type": "markdown",
   "metadata": {},
   "source": [
    "## 3. Gradient Boost Tree"
   ]
  },
  {
   "cell_type": "code",
   "execution_count": 101,
   "metadata": {},
   "outputs": [
    {
     "name": "stderr",
     "output_type": "stream",
     "text": [
      "                                                                                \r"
     ]
    }
   ],
   "source": [
    "from pyspark.ml.regression import GBTRegressor\n",
    "\n",
    "# Define Gradient boosted tree regression algorithm\n",
    "rf_additive = GBTRegressor(maxDepth=6, \n",
    "                            featuresCol='feature_additive', \n",
    "                            labelCol='revenue_taken',\n",
    "                            ).fit(train)\n",
    "\n",
    "rf_internal = GBTRegressor(maxDepth=6, \n",
    "                  featuresCol='feature_internal', \n",
    "                  labelCol='revenue_taken',\n",
    "                  ).fit(train)\n",
    "\n",
    "rf_all = GBTRegressor(maxDepth=7, \n",
    "                  featuresCol='feature_all', \n",
    "                  labelCol='revenue_taken',\n",
    "                  ).fit(train)"
   ]
  },
  {
   "cell_type": "code",
   "execution_count": 102,
   "metadata": {},
   "outputs": [],
   "source": [
    "predictions_additive = rf_additive.transform(test)\n",
    "predictions_internal = rf_internal.transform(test)\n",
    "predictions_all = rf_all.transform(test)"
   ]
  },
  {
   "cell_type": "code",
   "execution_count": 103,
   "metadata": {},
   "outputs": [
    {
     "name": "stderr",
     "output_type": "stream",
     "text": [
      "[Stage 7375:==========================================>             (3 + 1) / 4]\r"
     ]
    },
    {
     "name": "stdout",
     "output_type": "stream",
     "text": [
      "Root Mean Squared Error (RMSE) for additive model = 1873.16\n",
      "Root Mean Squared Error (RMSE) for internal interaction model = 1879.14\n",
      "Root Mean Squared Error (RMSE) for full model = 1866.46\n"
     ]
    },
    {
     "name": "stderr",
     "output_type": "stream",
     "text": [
      "                                                                                \r"
     ]
    }
   ],
   "source": [
    "from pyspark.ml.evaluation import RegressionEvaluator\n",
    "# Select (prediction, true label) and compute test error\n",
    "evaluator = RegressionEvaluator(labelCol=\"revenue_taken\",\n",
    "                                predictionCol=\"prediction\",\n",
    "                                metricName=\"rmse\")\n",
    "\n",
    "\n",
    "rmse_addtive = evaluator.evaluate(predictions_additive)\n",
    "rmse_internal = evaluator.evaluate(predictions_internal)\n",
    "rmse_all = evaluator.evaluate(predictions_all)\n",
    "print(\"Root Mean Squared Error (RMSE) for additive model = %g\" % rmse_addtive)\n",
    "print(\"Root Mean Squared Error (RMSE) for internal interaction model = %g\" % rmse_internal)\n",
    "print(\"Root Mean Squared Error (RMSE) for full model = %g\" % rmse_all)"
   ]
  },
  {
   "cell_type": "code",
   "execution_count": 104,
   "metadata": {},
   "outputs": [
    {
     "name": "stderr",
     "output_type": "stream",
     "text": [
      "[Stage 7393:==========================================>             (3 + 1) / 4]\r"
     ]
    },
    {
     "name": "stdout",
     "output_type": "stream",
     "text": [
      "r2_score_additive: 0.384\n",
      "r2_score_internal: 0.380\n",
      "r2_score_all: 0.388\n"
     ]
    },
    {
     "name": "stderr",
     "output_type": "stream",
     "text": [
      "                                                                                \r"
     ]
    }
   ],
   "source": [
    "y_true_additive = predictions_additive.select(\"revenue_taken\").toPandas()\n",
    "y_pred_additive = predictions_additive.select(\"prediction\").toPandas()\n",
    "\n",
    "y_true_internal = predictions_internal.select(\"revenue_taken\").toPandas()\n",
    "y_pred_internal = predictions_internal.select(\"prediction\").toPandas()\n",
    "\n",
    "y_true_all = predictions_all.select(\"revenue_taken\").toPandas()\n",
    "y_pred_all = predictions_all.select(\"prediction\").toPandas()\n",
    "\n",
    "import sklearn.metrics\n",
    "r2_score_additive = sklearn.metrics.r2_score(y_true_additive, y_pred_additive)\n",
    "r2_score_internal = sklearn.metrics.r2_score(y_true_internal, y_pred_internal)\n",
    "r2_score_all = sklearn.metrics.r2_score(y_true_all, y_pred_all)\n",
    "print('r2_score_additive: {:4.3f}'.format(r2_score_additive))\n",
    "print('r2_score_internal: {:4.3f}'.format(r2_score_internal))\n",
    "print('r2_score_all: {:4.3f}'.format(r2_score_all))"
   ]
  },
  {
   "cell_type": "code",
   "execution_count": 109,
   "metadata": {},
   "outputs": [
    {
     "data": {
      "image/png": "[encoded data removed]",
      "text/plain": [
       "<Figure size 1152x360 with 1 Axes>"
      ]
     },
     "metadata": {},
     "output_type": "display_data"
    }
   ],
   "source": [
    "plot_real_vs_pred(\"Gradient boost tree\", y_true_all, y_pred_all)"
   ]
  },
  {
   "cell_type": "markdown",
   "metadata": {},
   "source": [
    "## 4. Random Forest Regressor"
   ]
  },
  {
   "cell_type": "code",
   "execution_count": 79,
   "metadata": {},
   "outputs": [
    {
     "name": "stderr",
     "output_type": "stream",
     "text": [
      "                                                                                \r"
     ]
    }
   ],
   "source": [
    "# Import Random Forest Regressor\n",
    "from pyspark.ml.regression import RandomForestRegressor\n",
    "\n",
    "\n",
    "rfR_additive = RandomForestRegressor(maxDepth=6, \n",
    "                  featuresCol='feature_additive', \n",
    "                  labelCol='revenue_taken',\n",
    "                  ).fit(train)\n",
    "\n",
    "rfR_internal = RandomForestRegressor(maxDepth=6, \n",
    "                  featuresCol='feature_internal', \n",
    "                  labelCol='revenue_taken',\n",
    "                  ).fit(train)\n",
    "\n",
    "rfR_all = RandomForestRegressor(maxDepth=7, \n",
    "                  featuresCol='feature_all', \n",
    "                  labelCol='revenue_taken',\n",
    "                  ).fit(train)"
   ]
  },
  {
   "cell_type": "code",
   "execution_count": 80,
   "metadata": {},
   "outputs": [],
   "source": [
    "predictions_additive_R = rfR_additive.transform(test)\n",
    "predictions_internal_R = rfR_internal.transform(test)\n",
    "predictions_all_R = rfR_all.transform(test)"
   ]
  },
  {
   "cell_type": "code",
   "execution_count": 81,
   "metadata": {},
   "outputs": [
    {
     "name": "stderr",
     "output_type": "stream",
     "text": [
      "[Stage 3946:==========================================>             (3 + 1) / 4]\r"
     ]
    },
    {
     "name": "stdout",
     "output_type": "stream",
     "text": [
      "Root Mean Squared Error (RMSE) for additive model = 2060.8\n",
      "Root Mean Squared Error (RMSE) for internal interaction model = 2067.08\n",
      "Root Mean Squared Error (RMSE) for full model = 1973.4\n"
     ]
    },
    {
     "name": "stderr",
     "output_type": "stream",
     "text": [
      "                                                                                \r"
     ]
    }
   ],
   "source": [
    "rmse_addtive_R = evaluator.evaluate(predictions_additive_R)\n",
    "rmse_internal_R = evaluator.evaluate(predictions_internal_R)\n",
    "rmse_all_R = evaluator.evaluate(predictions_all_R)\n",
    "print(\"Root Mean Squared Error (RMSE) for additive model = %g\" % rmse_addtive_R)\n",
    "print(\"Root Mean Squared Error (RMSE) for internal interaction model = %g\" % rmse_internal_R)\n",
    "print(\"Root Mean Squared Error (RMSE) for full model = %g\" % rmse_all_R)"
   ]
  },
  {
   "cell_type": "code",
   "execution_count": 82,
   "metadata": {},
   "outputs": [
    {
     "name": "stderr",
     "output_type": "stream",
     "text": [
      "[Stage 3964:==========================================>             (3 + 1) / 4]\r"
     ]
    },
    {
     "name": "stdout",
     "output_type": "stream",
     "text": [
      "r2_score_additive: 0.254\n",
      "r2_score_internal: 0.250\n",
      "r2_score_all: 0.316\n"
     ]
    },
    {
     "name": "stderr",
     "output_type": "stream",
     "text": [
      "                                                                                \r"
     ]
    }
   ],
   "source": [
    "y_true_additive_R = predictions_additive_R.select(\"revenue_taken\").toPandas()\n",
    "y_pred_additive_R = predictions_additive_R.select(\"prediction\").toPandas()\n",
    "\n",
    "y_true_internal_R = predictions_internal_R.select(\"revenue_taken\").toPandas()\n",
    "y_pred_internal_R = predictions_internal_R.select(\"prediction\").toPandas()\n",
    "\n",
    "y_true_all_R = predictions_all_R.select(\"revenue_taken\").toPandas()\n",
    "y_pred_all_R = predictions_all_R.select(\"prediction\").toPandas()\n",
    "\n",
    "\n",
    "r2_score_additive_R = sklearn.metrics.r2_score(y_true_additive_R, y_pred_additive_R)\n",
    "r2_score_internal_R = sklearn.metrics.r2_score(y_true_internal_R, y_pred_internal_R)\n",
    "r2_score_all_R = sklearn.metrics.r2_score(y_true_all_R, y_pred_all_R)\n",
    "print('r2_score_additive: {:4.3f}'.format(r2_score_additive_R))\n",
    "print('r2_score_internal: {:4.3f}'.format(r2_score_internal_R))\n",
    "print('r2_score_all: {:4.3f}'.format(r2_score_all_R))"
   ]
  },
  {
   "cell_type": "markdown",
   "metadata": {},
   "source": [
    "## 5. Transform the total revenue to score"
   ]
  },
  {
   "cell_type": "code",
   "execution_count": 120,
   "metadata": {},
   "outputs": [
    {
     "name": "stderr",
     "output_type": "stream",
     "text": [
      "                                                                                \r"
     ]
    },
    {
     "data": {
      "text/html": [
       "<table border='1'>\n",
       "<tr><th>merchant_name</th><th>order_year</th><th>order_month</th><th>total_earners</th><th>median_age</th><th>income_median</th><th>population_density</th><th>category</th><th>revenue_level</th><th>revenue_taken</th></tr>\n",
       "<tr><td>A Aliquet Ltd</td><td>2021</td><td>3</td><td>4980.623604961794</td><td>45.955320262557386</td><td>44348.234836395015</td><td>446.43100140347246</td><td>home and technology</td><td>b</td><td>349.5484134530372</td></tr>\n",
       "<tr><td>A Aliquet Ltd</td><td>2021</td><td>4</td><td>5354.985464077088</td><td>44.957488804012904</td><td>47087.020093628846</td><td>661.3048628221844</td><td>home and technology</td><td>b</td><td>338.07536243758386</td></tr>\n",
       "<tr><td>A Aliquet Ltd</td><td>2021</td><td>7</td><td>4388.982031619088</td><td>44.56853448053012</td><td>44286.808317322975</td><td>322.56914352472995</td><td>home and technology</td><td>b</td><td>475.18502622308233</td></tr>\n",
       "<tr><td>A Aliquet Ltd</td><td>2021</td><td>8</td><td>5281.06502903092</td><td>41.808178897353294</td><td>44432.17706152081</td><td>674.1575473010176</td><td>home and technology</td><td>b</td><td>375.8536740741011</td></tr>\n",
       "<tr><td>A Aliquet Ltd</td><td>2021</td><td>12</td><td>4218.068045625177</td><td>44.00092016580645</td><td>45702.003770359916</td><td>633.7586224746047</td><td>home and technology</td><td>b</td><td>486.47663958043245</td></tr>\n",
       "<tr><td>A Aliquet Ltd</td><td>2022</td><td>6</td><td>4907.6821031588515</td><td>44.52282551974433</td><td>46859.1278088761</td><td>506.7066383636061</td><td>home and technology</td><td>b</td><td>383.8019227224976</td></tr>\n",
       "<tr><td>A Aliquet Ltd</td><td>2022</td><td>8</td><td>4587.962567801989</td><td>43.09698805802131</td><td>45936.13593995373</td><td>564.2479724970453</td><td>home and technology</td><td>b</td><td>537.5835117882583</td></tr>\n",
       "<tr><td>A Arcu Industries</td><td>2021</td><td>2</td><td>3464.1233178609377</td><td>46.506422301920416</td><td>51956.04631148328</td><td>12.921544307761414</td><td>outdoors</td><td>c</td><td>21.744568393051882</td></tr>\n",
       "<tr><td>A Arcu Industries</td><td>2021</td><td>12</td><td>4631.073949176494</td><td>43.00178251688292</td><td>45797.775562465315</td><td>590.2452906166948</td><td>outdoors</td><td>c</td><td>1582.2315307816057</td></tr>\n",
       "<tr><td>A Arcu Industries</td><td>2022</td><td>5</td><td>4953.264665124492</td><td>41.985087824662386</td><td>46570.62536428412</td><td>839.7026423642426</td><td>outdoors</td><td>c</td><td>1203.3213130052611</td></tr>\n",
       "<tr><td>A Arcu Industries</td><td>2022</td><td>6</td><td>4770.525472823367</td><td>44.13508031319623</td><td>46263.953992811774</td><td>439.45201957696486</td><td>outdoors</td><td>c</td><td>1488.332961841242</td></tr>\n",
       "<tr><td>A Arcu Sed Company</td><td>2022</td><td>8</td><td>4873.956983949013</td><td>44.03634565497028</td><td>46842.44706871208</td><td>616.690762429152</td><td>fashion and acces...</td><td>c</td><td>202.0072445906398</td></tr>\n",
       "<tr><td>A Arcu Sed Corpor...</td><td>2021</td><td>7</td><td>5023.5</td><td>47.5</td><td>43662.5</td><td>14.95</td><td>books and music</td><td>c</td><td>21.978148597716995</td></tr>\n",
       "<tr><td>A Arcu Sed Corpor...</td><td>2021</td><td>10</td><td>5349.034019515486</td><td>46.94499080809525</td><td>42227.33971980946</td><td>1.4199603095297617</td><td>books and music</td><td>c</td><td>18.525218218704357</td></tr>\n",
       "<tr><td>A Arcu Sed Corpor...</td><td>2022</td><td>2</td><td>1991.000002001133</td><td>46.0</td><td>53440.99999854395</td><td>0.10000000966965378</td><td>books and music</td><td>c</td><td>6.192477552935265</td></tr>\n",
       "<tr><td>A Arcu Sed Corpor...</td><td>2022</td><td>5</td><td>5233.999998360157</td><td>48.00000000011362</td><td>41938.999999736334</td><td>2.000000003477454</td><td>books and music</td><td>c</td><td>22.590067125541005</td></tr>\n",
       "<tr><td>A Arcu Sed Corpor...</td><td>2022</td><td>8</td><td>3486.0</td><td>53.0</td><td>41140.0</td><td>2.1</td><td>books and music</td><td>c</td><td>28.8037844882498</td></tr>\n",
       "<tr><td>A Associates</td><td>2021</td><td>3</td><td>4035.9999993720544</td><td>47.79999999897406</td><td>40354.6000001081</td><td>2.920000027671273</td><td>fashion and acces...</td><td>b</td><td>78.95860752978314</td></tr>\n",
       "<tr><td>A Associates</td><td>2021</td><td>6</td><td>9168.0</td><td>55.0</td><td>38476.0</td><td>143.2</td><td>fashion and acces...</td><td>b</td><td>15.683284998150128</td></tr>\n",
       "<tr><td>A Associates</td><td>2021</td><td>7</td><td>7989.806454944793</td><td>43.20363630960536</td><td>55311.55687083746</td><td>1210.7668326520588</td><td>fashion and acces...</td><td>b</td><td>17.144569924080127</td></tr>\n",
       "</table>\n",
       "only showing top 20 rows\n"
      ],
      "text/plain": [
       "+--------------------+----------+-----------+------------------+------------------+------------------+-------------------+--------------------+-------------+------------------+\n",
       "|       merchant_name|order_year|order_month|     total_earners|        median_age|     income_median| population_density|            category|revenue_level|     revenue_taken|\n",
       "+--------------------+----------+-----------+------------------+------------------+------------------+-------------------+--------------------+-------------+------------------+\n",
       "|       A Aliquet Ltd|      2021|          3| 4980.623604961794|45.955320262557386|44348.234836395015| 446.43100140347246| home and technology|            b| 349.5484134530372|\n",
       "|       A Aliquet Ltd|      2021|          4| 5354.985464077088|44.957488804012904|47087.020093628846|  661.3048628221844| home and technology|            b|338.07536243758386|\n",
       "|       A Aliquet Ltd|      2021|          7| 4388.982031619088| 44.56853448053012|44286.808317322975| 322.56914352472995| home and technology|            b|475.18502622308233|\n",
       "|       A Aliquet Ltd|      2021|          8|  5281.06502903092|41.808178897353294| 44432.17706152081|  674.1575473010176| home and technology|            b| 375.8536740741011|\n",
       "|       A Aliquet Ltd|      2021|         12| 4218.068045625177| 44.00092016580645|45702.003770359916|  633.7586224746047| home and technology|            b|486.47663958043245|\n",
       "|       A Aliquet Ltd|      2022|          6|4907.6821031588515| 44.52282551974433|  46859.1278088761|  506.7066383636061| home and technology|            b| 383.8019227224976|\n",
       "|       A Aliquet Ltd|      2022|          8| 4587.962567801989| 43.09698805802131| 45936.13593995373|  564.2479724970453| home and technology|            b| 537.5835117882583|\n",
       "|   A Arcu Industries|      2021|          2|3464.1233178609377|46.506422301920416| 51956.04631148328| 12.921544307761414|            outdoors|            c|21.744568393051882|\n",
       "|   A Arcu Industries|      2021|         12| 4631.073949176494| 43.00178251688292|45797.775562465315|  590.2452906166948|            outdoors|            c|1582.2315307816057|\n",
       "|   A Arcu Industries|      2022|          5| 4953.264665124492|41.985087824662386| 46570.62536428412|  839.7026423642426|            outdoors|            c|1203.3213130052611|\n",
       "|   A Arcu Industries|      2022|          6| 4770.525472823367| 44.13508031319623|46263.953992811774| 439.45201957696486|            outdoors|            c| 1488.332961841242|\n",
       "|  A Arcu Sed Company|      2022|          8| 4873.956983949013| 44.03634565497028| 46842.44706871208|   616.690762429152|fashion and acces...|            c| 202.0072445906398|\n",
       "|A Arcu Sed Corpor...|      2021|          7|            5023.5|              47.5|           43662.5|              14.95|     books and music|            c|21.978148597716995|\n",
       "|A Arcu Sed Corpor...|      2021|         10| 5349.034019515486| 46.94499080809525| 42227.33971980946| 1.4199603095297617|     books and music|            c|18.525218218704357|\n",
       "|A Arcu Sed Corpor...|      2022|          2| 1991.000002001133|              46.0| 53440.99999854395|0.10000000966965378|     books and music|            c| 6.192477552935265|\n",
       "|A Arcu Sed Corpor...|      2022|          5| 5233.999998360157| 48.00000000011362|41938.999999736334|  2.000000003477454|     books and music|            c|22.590067125541005|\n",
       "|A Arcu Sed Corpor...|      2022|          8|            3486.0|              53.0|           41140.0|                2.1|     books and music|            c|  28.8037844882498|\n",
       "|        A Associates|      2021|          3|4035.9999993720544| 47.79999999897406|  40354.6000001081|  2.920000027671273|fashion and acces...|            b| 78.95860752978314|\n",
       "|        A Associates|      2021|          6|            9168.0|              55.0|           38476.0|              143.2|fashion and acces...|            b|15.683284998150128|\n",
       "|        A Associates|      2021|          7| 7989.806454944793| 43.20363630960536| 55311.55687083746| 1210.7668326520588|fashion and acces...|            b|17.144569924080127|\n",
       "+--------------------+----------+-----------+------------------+------------------+------------------+-------------------+--------------------+-------------+------------------+\n",
       "only showing top 20 rows"
      ]
     },
     "execution_count": 120,
     "metadata": {},
     "output_type": "execute_result"
    }
   ],
   "source": [
    "df_all"
   ]
  },
  {
   "cell_type": "code",
   "execution_count": 121,
   "metadata": {},
   "outputs": [],
   "source": [
    "revenue_score = df_all.groupBy([\"merchant_name\"]).agg(\n",
    "    sum(\"revenue_taken\").alias(\"total_revenue\"), # response variable\n",
    "    )"
   ]
  },
  {
   "cell_type": "code",
   "execution_count": 122,
   "metadata": {},
   "outputs": [
    {
     "name": "stderr",
     "output_type": "stream",
     "text": [
      "                                                                                \r"
     ]
    },
    {
     "data": {
      "text/html": [
       "<table border='1'>\n",
       "<tr><th>merchant_name</th><th>total_revenue</th></tr>\n",
       "<tr><td>At Augue Corporation</td><td>7962.7336540196875</td></tr>\n",
       "<tr><td>Vel Turpis Company</td><td>4249.252604672681</td></tr>\n",
       "<tr><td>Dictum Mi Limited</td><td>69734.58133110827</td></tr>\n",
       "<tr><td>Amet Nulla Ltd</td><td>784.128141246214</td></tr>\n",
       "<tr><td>Porttitor Eros In...</td><td>5076.1197956693895</td></tr>\n",
       "<tr><td>Malesuada PC</td><td>3830.114776275045</td></tr>\n",
       "<tr><td>Erat Semper Ltd</td><td>46434.13428138851</td></tr>\n",
       "<tr><td>Arcu Vestibulum C...</td><td>1487.7112936420851</td></tr>\n",
       "<tr><td>Varius Orci Insti...</td><td>17375.570683881582</td></tr>\n",
       "<tr><td>Volutpat Nulla In...</td><td>60690.059909955526</td></tr>\n",
       "<tr><td>Hendrerit Consect...</td><td>18981.205600946952</td></tr>\n",
       "<tr><td>Pede Praesent Ltd</td><td>13714.86864472103</td></tr>\n",
       "<tr><td>Malesuada Vel Ltd</td><td>6161.021306204121</td></tr>\n",
       "<tr><td>Donec Luctus Indu...</td><td>13401.048466888145</td></tr>\n",
       "<tr><td>Curabitur Vel LLC</td><td>489.32945875925134</td></tr>\n",
       "<tr><td>Semper Incorporated</td><td>3452.2922750608864</td></tr>\n",
       "<tr><td>Dictum Mi Incorpo...</td><td>17926.850430689094</td></tr>\n",
       "<tr><td>Vulputate Velit E...</td><td>999.4864666421479</td></tr>\n",
       "<tr><td>Elit Sed Consequa...</td><td>300999.88591052</td></tr>\n",
       "<tr><td>Montes Limited</td><td>14971.731510087136</td></tr>\n",
       "</table>\n",
       "only showing top 20 rows\n"
      ],
      "text/plain": [
       "+--------------------+------------------+\n",
       "|       merchant_name|     total_revenue|\n",
       "+--------------------+------------------+\n",
       "|At Augue Corporation|7962.7336540196875|\n",
       "|  Vel Turpis Company| 4249.252604672681|\n",
       "|   Dictum Mi Limited| 69734.58133110827|\n",
       "|      Amet Nulla Ltd|  784.128141246214|\n",
       "|Porttitor Eros In...|5076.1197956693895|\n",
       "|        Malesuada PC| 3830.114776275045|\n",
       "|     Erat Semper Ltd| 46434.13428138851|\n",
       "|Arcu Vestibulum C...|1487.7112936420851|\n",
       "|Varius Orci Insti...|17375.570683881582|\n",
       "|Volutpat Nulla In...|60690.059909955526|\n",
       "|Hendrerit Consect...|18981.205600946952|\n",
       "|   Pede Praesent Ltd| 13714.86864472103|\n",
       "|   Malesuada Vel Ltd| 6161.021306204121|\n",
       "|Donec Luctus Indu...|13401.048466888145|\n",
       "|   Curabitur Vel LLC|489.32945875925134|\n",
       "| Semper Incorporated|3452.2922750608864|\n",
       "|Dictum Mi Incorpo...|17926.850430689094|\n",
       "|Vulputate Velit E...| 999.4864666421479|\n",
       "|Elit Sed Consequa...|   300999.88591052|\n",
       "|      Montes Limited|14971.731510087136|\n",
       "+--------------------+------------------+\n",
       "only showing top 20 rows"
      ]
     },
     "execution_count": 122,
     "metadata": {},
     "output_type": "execute_result"
    }
   ],
   "source": [
    "revenue_score"
   ]
  },
  {
   "cell_type": "code",
   "execution_count": 123,
   "metadata": {},
   "outputs": [],
   "source": [
    "revenue_score = revenue_score.withColumn(\"a\", lit(\"a\"))"
   ]
  },
  {
   "cell_type": "code",
   "execution_count": 126,
   "metadata": {},
   "outputs": [],
   "source": [
    "from pyspark.sql.window import Window\n",
    "from pyspark.sql.functions import percent_rank"
   ]
  },
  {
   "cell_type": "code",
   "execution_count": 127,
   "metadata": {},
   "outputs": [],
   "source": [
    "Window_Spec  = Window.partitionBy(\"a\").orderBy(\"total_revenue\")\n",
    "revenue_score = revenue_score.withColumn(\"percent_rank\", percent_rank().over(Window_Spec)) "
   ]
  },
  {
   "cell_type": "code",
   "execution_count": 131,
   "metadata": {},
   "outputs": [],
   "source": [
    "revenue_score = revenue_score.withColumn(\"revenue_score\", 1-F.col(\"percent_rank\")).drop(\"a\",\"percent_rank\", \"total_revenue\")"
   ]
  },
  {
   "cell_type": "code",
   "execution_count": 164,
   "metadata": {},
   "outputs": [],
   "source": [
    "trend = spark.read.option(\"header\", \"true\").csv(\"../data/curated/increasing.csv\")"
   ]
  },
  {
   "cell_type": "code",
   "execution_count": 178,
   "metadata": {},
   "outputs": [],
   "source": [
    "trend = trend.withColumn(\"increasing\", F.col(\"increasing\").cast(\"double\"))"
   ]
  },
  {
   "cell_type": "code",
   "execution_count": 179,
   "metadata": {},
   "outputs": [
    {
     "data": {
      "text/html": [
       "<table border='1'>\n",
       "<tr><th>merchant_name</th><th>increasing</th></tr>\n",
       "<tr><td>Eros Non LLP</td><td>-980.0837015305178</td></tr>\n",
       "<tr><td>Tortor Integer Al...</td><td>-349.3538636710657</td></tr>\n",
       "<tr><td>Sodales Limited</td><td>-9654.404131067335</td></tr>\n",
       "<tr><td>Nulla At Sem Limited</td><td>-1190.5132491448949</td></tr>\n",
       "<tr><td>Elementum Dui Ass...</td><td>3655.7094516963953</td></tr>\n",
       "<tr><td>Duis Elementum Corp.</td><td>3651.7105101416964</td></tr>\n",
       "<tr><td>Vel Quam Industries</td><td>2727.648449189126</td></tr>\n",
       "<tr><td>Velit Institute</td><td>3164.4211675338756</td></tr>\n",
       "<tr><td>Dui Limited</td><td>1099.1811736678892</td></tr>\n",
       "<tr><td>Enim Mi Institute</td><td>-27943.28252906102</td></tr>\n",
       "<tr><td>Magna Sed Institute</td><td>-9045.475326606174</td></tr>\n",
       "<tr><td>Nullam Scelerisqu...</td><td>4093.144199274786</td></tr>\n",
       "<tr><td>Orci Ut Sagittis PC</td><td>-14750.204368528233</td></tr>\n",
       "<tr><td>Quam Curabitur Fo...</td><td>-841.6307011238059</td></tr>\n",
       "<tr><td>Quisque Ac Libero...</td><td>-4667.123937762633</td></tr>\n",
       "<tr><td>Tempus Associates</td><td>2813.783193728057</td></tr>\n",
       "<tr><td>Convallis Ligula ...</td><td>-1258.1440164585601</td></tr>\n",
       "<tr><td>Adipiscing Elit A...</td><td>-20115.378119673318</td></tr>\n",
       "<tr><td>Metus Eu LLP</td><td>-970.628095196007</td></tr>\n",
       "<tr><td>Congue Turpis Ins...</td><td>-342.39574921685926</td></tr>\n",
       "</table>\n",
       "only showing top 20 rows\n"
      ],
      "text/plain": [
       "+--------------------+-------------------+\n",
       "|       merchant_name|         increasing|\n",
       "+--------------------+-------------------+\n",
       "|        Eros Non LLP| -980.0837015305178|\n",
       "|Tortor Integer Al...| -349.3538636710657|\n",
       "|     Sodales Limited| -9654.404131067335|\n",
       "|Nulla At Sem Limited|-1190.5132491448949|\n",
       "|Elementum Dui Ass...| 3655.7094516963953|\n",
       "|Duis Elementum Corp.| 3651.7105101416964|\n",
       "| Vel Quam Industries|  2727.648449189126|\n",
       "|     Velit Institute| 3164.4211675338756|\n",
       "|         Dui Limited| 1099.1811736678892|\n",
       "|   Enim Mi Institute| -27943.28252906102|\n",
       "| Magna Sed Institute| -9045.475326606174|\n",
       "|Nullam Scelerisqu...|  4093.144199274786|\n",
       "| Orci Ut Sagittis PC|-14750.204368528233|\n",
       "|Quam Curabitur Fo...| -841.6307011238059|\n",
       "|Quisque Ac Libero...| -4667.123937762633|\n",
       "|   Tempus Associates|  2813.783193728057|\n",
       "|Convallis Ligula ...|-1258.1440164585601|\n",
       "|Adipiscing Elit A...|-20115.378119673318|\n",
       "|        Metus Eu LLP|  -970.628095196007|\n",
       "|Congue Turpis Ins...|-342.39574921685926|\n",
       "+--------------------+-------------------+\n",
       "only showing top 20 rows"
      ]
     },
     "execution_count": 179,
     "metadata": {},
     "output_type": "execute_result"
    }
   ],
   "source": [
    "trend"
   ]
  },
  {
   "cell_type": "code",
   "execution_count": 216,
   "metadata": {},
   "outputs": [],
   "source": [
    "from pyspark.ml.feature import StandardScaler\n",
    "\n",
    "\n",
    "# VectorAssembler Transformation - Converting column to vector type\n",
    "assembler_vec = VectorAssembler(inputCols=[\"increasing\"],outputCol=\"increasing_Vect\")\n",
    "trend_score = assembler_vec.transform(trend)\n",
    "\n",
    "scaler = StandardScaler(inputCol=\"increasing_Vect\", outputCol=\"trend_score\",\n",
    "                        withStd=True, withMean=False)\n",
    "\n"
   ]
  },
  {
   "cell_type": "code",
   "execution_count": 217,
   "metadata": {},
   "outputs": [],
   "source": [
    "from pyspark.ml.functions import vector_to_array\n",
    "trend_score = scaler.fit(trend_score).transform(trend_score).drop(\"increasing\",\"increasing_Vect\").withColumn(\"trend_score\", vector_to_array(\"trend_score\")[0])"
   ]
  },
  {
   "cell_type": "code",
   "execution_count": 234,
   "metadata": {},
   "outputs": [],
   "source": [
    "trend_score = trend_score.withColumnRenamed(\"merchant_name\", \"name\")"
   ]
  },
  {
   "cell_type": "code",
   "execution_count": 240,
   "metadata": {},
   "outputs": [],
   "source": [
    "trend_revenue_final = revenue_score.join(trend_score, trend_score.name ==  revenue_score.merchant_name,\"inner\").drop(\"name\")"
   ]
  },
  {
   "cell_type": "code",
   "execution_count": 241,
   "metadata": {},
   "outputs": [
    {
     "name": "stderr",
     "output_type": "stream",
     "text": [
      "                                                                                \r"
     ]
    },
    {
     "data": {
      "text/html": [
       "<table border='1'>\n",
       "<tr><th>merchant_name</th><th>revenue_score</th><th>trend_score</th></tr>\n",
       "<tr><td>Consectetuer Ipsu...</td><td>1.0</td><td>0.012512970918944816</td></tr>\n",
       "<tr><td>Faucibus Ltd</td><td>0.999743062692703</td><td>-0.01196818716621...</td></tr>\n",
       "<tr><td>Ac Eleifend Vitae...</td><td>0.9994861253854059</td><td>0.011023550264931004</td></tr>\n",
       "<tr><td>Velit Inc.</td><td>0.9992291880781089</td><td>-0.00796371495021574</td></tr>\n",
       "<tr><td>Magna Sed Associates</td><td>0.998972250770812</td><td>0.013174105188561047</td></tr>\n",
       "<tr><td>Egestas A Dui Corp.</td><td>0.9987153134635149</td><td>-0.07457649838314082</td></tr>\n",
       "<tr><td>Nulla Limited</td><td>0.9984583761562179</td><td>-0.03087919316331...</td></tr>\n",
       "<tr><td>Enim Etiam Institute</td><td>0.9982014388489209</td><td>-0.3129278634926591</td></tr>\n",
       "<tr><td>Lacus LLP</td><td>0.9979445015416238</td><td>0.18884255396835822</td></tr>\n",
       "<tr><td>Orci Ut Institute</td><td>0.9976875642343268</td><td>0.23816250779671555</td></tr>\n",
       "<tr><td>Hendrerit Id Ante...</td><td>0.9974306269270298</td><td>-0.05759014403164244</td></tr>\n",
       "<tr><td>Aliquet Sem Corp.</td><td>0.9971736896197327</td><td>-0.02862222659860...</td></tr>\n",
       "<tr><td>Nunc Institute</td><td>0.9969167523124358</td><td>-0.05672084812470...</td></tr>\n",
       "<tr><td>Tellus Ltd</td><td>0.9966598150051388</td><td>0.039706416201998135</td></tr>\n",
       "<tr><td>Massa Vestibulum Ltd</td><td>0.9964028776978417</td><td>0.006856890682805187</td></tr>\n",
       "<tr><td>Sem Egestas Bland...</td><td>0.9961459403905447</td><td>0.10551850048499027</td></tr>\n",
       "<tr><td>Velit Eget Institute</td><td>0.9958890030832477</td><td>0.0681293026818616</td></tr>\n",
       "<tr><td>Magnis Dis Partur...</td><td>0.9956320657759506</td><td>0.044450797920648606</td></tr>\n",
       "<tr><td>Vel Est Tempor Ltd</td><td>0.9953751284686536</td><td>0.04253309566073337</td></tr>\n",
       "<tr><td>Nulla Ltd</td><td>0.9951181911613566</td><td>-0.17900988918768093</td></tr>\n",
       "</table>\n",
       "only showing top 20 rows\n"
      ],
      "text/plain": [
       "+--------------------+------------------+--------------------+\n",
       "|       merchant_name|     revenue_score|         trend_score|\n",
       "+--------------------+------------------+--------------------+\n",
       "|Consectetuer Ipsu...|               1.0|0.012512970918944816|\n",
       "|        Faucibus Ltd| 0.999743062692703|-0.01196818716621...|\n",
       "|Ac Eleifend Vitae...|0.9994861253854059|0.011023550264931004|\n",
       "|          Velit Inc.|0.9992291880781089|-0.00796371495021574|\n",
       "|Magna Sed Associates| 0.998972250770812|0.013174105188561047|\n",
       "| Egestas A Dui Corp.|0.9987153134635149|-0.07457649838314082|\n",
       "|       Nulla Limited|0.9984583761562179|-0.03087919316331...|\n",
       "|Enim Etiam Institute|0.9982014388489209| -0.3129278634926591|\n",
       "|           Lacus LLP|0.9979445015416238| 0.18884255396835822|\n",
       "|   Orci Ut Institute|0.9976875642343268| 0.23816250779671555|\n",
       "|Hendrerit Id Ante...|0.9974306269270298|-0.05759014403164244|\n",
       "|   Aliquet Sem Corp.|0.9971736896197327|-0.02862222659860...|\n",
       "|      Nunc Institute|0.9969167523124358|-0.05672084812470...|\n",
       "|          Tellus Ltd|0.9966598150051388|0.039706416201998135|\n",
       "|Massa Vestibulum Ltd|0.9964028776978417|0.006856890682805187|\n",
       "|Sem Egestas Bland...|0.9961459403905447| 0.10551850048499027|\n",
       "|Velit Eget Institute|0.9958890030832477|  0.0681293026818616|\n",
       "|Magnis Dis Partur...|0.9956320657759506|0.044450797920648606|\n",
       "|  Vel Est Tempor Ltd|0.9953751284686536| 0.04253309566073337|\n",
       "|           Nulla Ltd|0.9951181911613566|-0.17900988918768093|\n",
       "+--------------------+------------------+--------------------+\n",
       "only showing top 20 rows"
      ]
     },
     "execution_count": 241,
     "metadata": {},
     "output_type": "execute_result"
    }
   ],
   "source": [
    "trend_revenue_final"
   ]
  },
  {
   "cell_type": "code",
   "execution_count": 242,
   "metadata": {},
   "outputs": [
    {
     "name": "stderr",
     "output_type": "stream",
     "text": [
      "                                                                                \r"
     ]
    },
    {
     "data": {
      "text/plain": [
       "3893"
      ]
     },
     "execution_count": 242,
     "metadata": {},
     "output_type": "execute_result"
    }
   ],
   "source": [
    "trend_revenue_final.count()"
   ]
  },
  {
   "cell_type": "code",
   "execution_count": 244,
   "metadata": {},
   "outputs": [
    {
     "name": "stderr",
     "output_type": "stream",
     "text": [
      "                                                                                \r"
     ]
    }
   ],
   "source": [
    "trend_revenue_final.write.parquet(\"../data/curated/revenue_trend_score\")"
   ]
  },
  {
   "cell_type": "code",
   "execution_count": null,
   "metadata": {},
   "outputs": [],
   "source": []
  }
 ],
 "metadata": {
  "kernelspec": {
   "display_name": "Python 3.8.9 64-bit",
   "language": "python",
   "name": "python3"
  },
  "language_info": {
   "codemirror_mode": {
    "name": "ipython",
    "version": 3
   },
   "file_extension": ".py",
   "mimetype": "text/x-python",
   "name": "python",
   "nbconvert_exporter": "python",
   "pygments_lexer": "ipython3",
   "version": "3.8.9"
  },
  "orig_nbformat": 4,
  "vscode": {
   "interpreter": {
    "hash": "31f2aee4e71d21fbe5cf8b01ff0e069b9275f58929596ceb00d14d90e3e16cd6"
   }
  }
 },
 "nbformat": 4,
 "nbformat_minor": 2
}
