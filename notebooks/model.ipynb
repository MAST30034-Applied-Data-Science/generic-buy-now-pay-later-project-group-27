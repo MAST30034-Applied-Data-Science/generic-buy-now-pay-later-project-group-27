{
 "cells": [
  {
   "cell_type": "code",
   "execution_count": 1,
   "metadata": {},
   "outputs": [
    {
     "name": "stderr",
     "output_type": "stream",
     "text": [
      "Setting default log level to \"WARN\".\n",
      "To adjust logging level use sc.setLogLevel(newLevel). For SparkR, use setLogLevel(newLevel).\n"
     ]
    },
    {
     "name": "stdout",
     "output_type": "stream",
     "text": [
      "22/10/05 02:45:03 WARN NativeCodeLoader: Unable to load native-hadoop library for your platform... using builtin-java classes where applicable\n",
      "22/10/05 02:45:05 WARN Utils: Service 'SparkUI' could not bind on port 4040. Attempting port 4041.\n",
      "22/10/05 02:45:05 WARN Utils: Service 'SparkUI' could not bind on port 4041. Attempting port 4042.\n",
      "22/10/05 02:45:05 WARN Utils: Service 'SparkUI' could not bind on port 4042. Attempting port 4043.\n"
     ]
    }
   ],
   "source": [
    "from pyspark.sql import SparkSession, functions as F\n",
    "from pyspark.sql.functions import *\n",
    "import numpy as np\n",
    "\n",
    "spark = (\n",
    "    SparkSession.builder.appName(\"ADS project 2\")\n",
    "    .config(\"spark.sql.repl.eagerEval.enabled\", True) \n",
    "    .config(\"spark.sql.parquet.cacheMetadata\", \"true\")\n",
    "    .config(\"spark.sql.session.timeZone\", \"Etc/UTC\")\n",
    "    .config(\"spark.executor.memory\", \"2g\")\n",
    "    .config(\"spark.driver.memory\", \"4g\")\n",
    "    .getOrCreate()\n",
    ")"
   ]
  },
  {
   "cell_type": "code",
   "execution_count": 2,
   "metadata": {},
   "outputs": [
    {
     "name": "stderr",
     "output_type": "stream",
     "text": [
      "                                                                                \r"
     ]
    }
   ],
   "source": [
    "df = spark.read.parquet('../data/curated/merchant_consumer_abs')"
   ]
  },
  {
   "cell_type": "code",
   "execution_count": 3,
   "metadata": {},
   "outputs": [
    {
     "name": "stdout",
     "output_type": "stream",
     "text": [
      "22/10/05 02:45:17 WARN package: Truncated the string representation of a plan since it was too large. This behavior can be adjusted by setting 'spark.sql.debug.maxToStringFields'.\n"
     ]
    },
    {
     "name": "stderr",
     "output_type": "stream",
     "text": [
      "                                                                                \r"
     ]
    },
    {
     "data": {
      "text/html": [
       "<table border='1'>\n",
       "<tr><th>postcode</th><th>total_earners</th><th>median_age</th><th>income_sum</th><th>income_median</th><th>income_mean</th><th>2021_population</th><th>km2</th><th>persons/km2</th><th>merchant_name</th><th>revenue_level</th><th>user_id</th><th>order_datetime</th><th>products</th><th>take_rate</th><th>category</th><th>dollar_value</th><th>order_year</th><th>order_month</th><th>order_day</th><th>consumer</th><th>consumer_address</th><th>consumer_state</th><th>consumer_postcode</th><th>consumer_gender</th><th>fraud_group</th><th>__index_level_0__</th></tr>\n",
       "<tr><td>0800</td><td>5631.999973601934</td><td>33.00000004463053</td><td>4.20609029345557E8</td><td>57789.00008173299</td><td>74682.00012457666</td><td>7678.999968193022</td><td>3.199999994700948</td><td>2419.9999940679677</td><td>Elit Sed Consequa...</td><td>a</td><td>10413</td><td>2022-04-27</td><td>artist supply and...</td><td>5.89</td><td>art and gifts</td><td>375.16773164703153</td><td>2022</td><td>4</td><td>27</td><td>Kelly Clayton</td><td>4211 Rodney Tunne...</td><td>NT</td><td>0800</td><td>Female</td><td>0</td><td>0</td></tr>\n",
       "<tr><td>0800</td><td>5631.999973601934</td><td>33.00000004463053</td><td>4.20609029345557E8</td><td>57789.00008173299</td><td>74682.00012457666</td><td>7678.999968193022</td><td>3.199999994700948</td><td>2419.9999940679677</td><td>Elit Sed Consequa...</td><td>a</td><td>22246</td><td>2022-10-07</td><td>artist supply and...</td><td>5.89</td><td>art and gifts</td><td>617.8791313462011</td><td>2022</td><td>10</td><td>7</td><td>Corey Estrada</td><td>1703 Boyd Shore</td><td>NT</td><td>0800</td><td>Male</td><td>0</td><td>1</td></tr>\n",
       "<tr><td>0800</td><td>5631.999973601934</td><td>33.00000004463053</td><td>4.20609029345557E8</td><td>57789.00008173299</td><td>74682.00012457666</td><td>7678.999968193022</td><td>3.199999994700948</td><td>2419.9999940679677</td><td>Elit Sed Consequa...</td><td>a</td><td>2681</td><td>2022-02-28</td><td>artist supply and...</td><td>5.89</td><td>art and gifts</td><td>766.5077067424303</td><td>2022</td><td>2</td><td>28</td><td>Nicole Bishop</td><td>467 Robert Island...</td><td>NT</td><td>0800</td><td>Female</td><td>0</td><td>2</td></tr>\n",
       "<tr><td>0800</td><td>5631.999973601934</td><td>33.00000004463053</td><td>4.20609029345557E8</td><td>57789.00008173299</td><td>74682.00012457666</td><td>7678.999968193022</td><td>3.199999994700948</td><td>2419.9999940679677</td><td>Malesuada Vel Ltd</td><td>b</td><td>13454</td><td>2021-07-24</td><td>books periodicals...</td><td>3.56</td><td>books and music</td><td>258.86595899218753</td><td>2021</td><td>7</td><td>24</td><td>Natalie Herrera</td><td>88798 Saunders Hi...</td><td>NT</td><td>0800</td><td>Female</td><td>0</td><td>3</td></tr>\n",
       "<tr><td>0800</td><td>5631.999973601934</td><td>33.00000004463053</td><td>4.20609029345557E8</td><td>57789.00008173299</td><td>74682.00012457666</td><td>7678.999968193022</td><td>3.199999994700948</td><td>2419.9999940679677</td><td>Varius Orci Insti...</td><td>a</td><td>10146</td><td>2021-08-08</td><td>tent and awning s...</td><td>6.3</td><td>outdoors</td><td>4.159037931172075</td><td>2021</td><td>8</td><td>8</td><td>Shannon Mann</td><td>00817 Owens Circle</td><td>NT</td><td>0800</td><td>Female</td><td>0</td><td>4</td></tr>\n",
       "<tr><td>0800</td><td>5631.999973601934</td><td>33.00000004463053</td><td>4.20609029345557E8</td><td>57789.00008173299</td><td>74682.00012457666</td><td>7678.999968193022</td><td>3.199999994700948</td><td>2419.9999940679677</td><td>Volutpat Nulla In...</td><td>a</td><td>23093</td><td>2022-10-11</td><td>furniture home fu...</td><td>6.59</td><td>home and technology</td><td>8.26105405068297</td><td>2022</td><td>10</td><td>11</td><td>Robert Walker</td><td>646 Allison Ranch...</td><td>NT</td><td>0800</td><td>Male</td><td>0</td><td>5</td></tr>\n",
       "<tr><td>0800</td><td>5631.999973601934</td><td>33.00000004463053</td><td>4.20609029345557E8</td><td>57789.00008173299</td><td>74682.00012457666</td><td>7678.999968193022</td><td>3.199999994700948</td><td>2419.9999940679677</td><td>Mollis Integer Co...</td><td>b</td><td>13454</td><td>2022-05-02</td><td>digital goods boo...</td><td>3.96</td><td>books and music</td><td>83.63154755239155</td><td>2022</td><td>5</td><td>2</td><td>Natalie Herrera</td><td>88798 Saunders Hi...</td><td>NT</td><td>0800</td><td>Female</td><td>0</td><td>6</td></tr>\n",
       "<tr><td>0800</td><td>5631.999973601934</td><td>33.00000004463053</td><td>4.20609029345557E8</td><td>57789.00008173299</td><td>74682.00012457666</td><td>7678.999968193022</td><td>3.199999994700948</td><td>2419.9999940679677</td><td>Elit Sed Consequa...</td><td>a</td><td>13454</td><td>2021-04-08</td><td>artist supply and...</td><td>5.89</td><td>art and gifts</td><td>87.00495112586256</td><td>2021</td><td>4</td><td>8</td><td>Natalie Herrera</td><td>88798 Saunders Hi...</td><td>NT</td><td>0800</td><td>Female</td><td>0</td><td>7</td></tr>\n",
       "<tr><td>0800</td><td>5631.999973601934</td><td>33.00000004463053</td><td>4.20609029345557E8</td><td>57789.00008173299</td><td>74682.00012457666</td><td>7678.999968193022</td><td>3.199999994700948</td><td>2419.9999940679677</td><td>Eros Limited</td><td>c</td><td>8092</td><td>2021-12-18</td><td>digital goods boo...</td><td>2.52</td><td>books and music</td><td>8.26187754879106</td><td>2021</td><td>12</td><td>18</td><td>Rebecca Owens</td><td>92579 Keith Neck ...</td><td>NT</td><td>0800</td><td>Female</td><td>0</td><td>8</td></tr>\n",
       "<tr><td>0800</td><td>5631.999973601934</td><td>33.00000004463053</td><td>4.20609029345557E8</td><td>57789.00008173299</td><td>74682.00012457666</td><td>7678.999968193022</td><td>3.199999994700948</td><td>2419.9999940679677</td><td>Hendrerit A Corpo...</td><td>a</td><td>11203</td><td>2022-07-14</td><td>watch clock and j...</td><td>6.64</td><td>fashion and acces...</td><td>100.80643267043831</td><td>2022</td><td>7</td><td>14</td><td>John Rodriguez</td><td>563 Wallace Rue</td><td>NT</td><td>0800</td><td>Male</td><td>0</td><td>9</td></tr>\n",
       "<tr><td>0800</td><td>5631.999973601934</td><td>33.00000004463053</td><td>4.20609029345557E8</td><td>57789.00008173299</td><td>74682.00012457666</td><td>7678.999968193022</td><td>3.199999994700948</td><td>2419.9999940679677</td><td>Pede Cras Vulputa...</td><td>a</td><td>22246</td><td>2021-07-18</td><td>health and beauty...</td><td>6.2</td><td>fashion and acces...</td><td>326.46199407890373</td><td>2021</td><td>7</td><td>18</td><td>Corey Estrada</td><td>1703 Boyd Shore</td><td>NT</td><td>0800</td><td>Male</td><td>0</td><td>10</td></tr>\n",
       "<tr><td>0800</td><td>5631.999973601934</td><td>33.00000004463053</td><td>4.20609029345557E8</td><td>57789.00008173299</td><td>74682.00012457666</td><td>7678.999968193022</td><td>3.199999994700948</td><td>2419.9999940679677</td><td>Hendrerit A Corpo...</td><td>a</td><td>12972</td><td>2021-08-16</td><td>watch clock and j...</td><td>6.64</td><td>fashion and acces...</td><td>204.40538957685413</td><td>2021</td><td>8</td><td>16</td><td>Peter Brennan</td><td>13276 Vazquez Rap...</td><td>NT</td><td>0800</td><td>Undisclosed</td><td>0</td><td>11</td></tr>\n",
       "<tr><td>0800</td><td>5631.999973601934</td><td>33.00000004463053</td><td>4.20609029345557E8</td><td>57789.00008173299</td><td>74682.00012457666</td><td>7678.999968193022</td><td>3.199999994700948</td><td>2419.9999940679677</td><td>Eros Limited</td><td>c</td><td>12972</td><td>2021-06-14</td><td>digital goods boo...</td><td>2.52</td><td>books and music</td><td>31.204086659483615</td><td>2021</td><td>6</td><td>14</td><td>Peter Brennan</td><td>13276 Vazquez Rap...</td><td>NT</td><td>0800</td><td>Undisclosed</td><td>0</td><td>12</td></tr>\n",
       "<tr><td>0800</td><td>5631.999973601934</td><td>33.00000004463053</td><td>4.20609029345557E8</td><td>57789.00008173299</td><td>74682.00012457666</td><td>7678.999968193022</td><td>3.199999994700948</td><td>2419.9999940679677</td><td>Eros Limited</td><td>c</td><td>8092</td><td>2021-12-13</td><td>digital goods boo...</td><td>2.52</td><td>books and music</td><td>37.1880940325229</td><td>2021</td><td>12</td><td>13</td><td>Rebecca Owens</td><td>92579 Keith Neck ...</td><td>NT</td><td>0800</td><td>Female</td><td>0</td><td>13</td></tr>\n",
       "<tr><td>0800</td><td>5631.999973601934</td><td>33.00000004463053</td><td>4.20609029345557E8</td><td>57789.00008173299</td><td>74682.00012457666</td><td>7678.999968193022</td><td>3.199999994700948</td><td>2419.9999940679677</td><td>Eros Limited</td><td>c</td><td>10146</td><td>2022-10-10</td><td>digital goods boo...</td><td>2.52</td><td>books and music</td><td>5.247567221175345</td><td>2022</td><td>10</td><td>10</td><td>Shannon Mann</td><td>00817 Owens Circle</td><td>NT</td><td>0800</td><td>Female</td><td>0</td><td>14</td></tr>\n",
       "<tr><td>0800</td><td>5631.999973601934</td><td>33.00000004463053</td><td>4.20609029345557E8</td><td>57789.00008173299</td><td>74682.00012457666</td><td>7678.999968193022</td><td>3.199999994700948</td><td>2419.9999940679677</td><td>Eros Limited</td><td>c</td><td>10413</td><td>2021-11-27</td><td>digital goods boo...</td><td>2.52</td><td>books and music</td><td>12.918096138910116</td><td>2021</td><td>11</td><td>27</td><td>Kelly Clayton</td><td>4211 Rodney Tunne...</td><td>NT</td><td>0800</td><td>Female</td><td>0</td><td>15</td></tr>\n",
       "<tr><td>0800</td><td>5631.999973601934</td><td>33.00000004463053</td><td>4.20609029345557E8</td><td>57789.00008173299</td><td>74682.00012457666</td><td>7678.999968193022</td><td>3.199999994700948</td><td>2419.9999940679677</td><td>Hendrerit A Corpo...</td><td>a</td><td>2681</td><td>2022-05-19</td><td>watch clock and j...</td><td>6.64</td><td>fashion and acces...</td><td>276.12651679041534</td><td>2022</td><td>5</td><td>19</td><td>Nicole Bishop</td><td>467 Robert Island...</td><td>NT</td><td>0800</td><td>Female</td><td>0</td><td>16</td></tr>\n",
       "<tr><td>0800</td><td>5631.999973601934</td><td>33.00000004463053</td><td>4.20609029345557E8</td><td>57789.00008173299</td><td>74682.00012457666</td><td>7678.999968193022</td><td>3.199999994700948</td><td>2419.9999940679677</td><td>Hendrerit A Corpo...</td><td>a</td><td>12972</td><td>2022-03-29</td><td>watch clock and j...</td><td>6.64</td><td>fashion and acces...</td><td>169.4756116760845</td><td>2022</td><td>3</td><td>29</td><td>Peter Brennan</td><td>13276 Vazquez Rap...</td><td>NT</td><td>0800</td><td>Undisclosed</td><td>0</td><td>17</td></tr>\n",
       "<tr><td>0800</td><td>5631.999973601934</td><td>33.00000004463053</td><td>4.20609029345557E8</td><td>57789.00008173299</td><td>74682.00012457666</td><td>7678.999968193022</td><td>3.199999994700948</td><td>2419.9999940679677</td><td>Pede Cras Vulputa...</td><td>a</td><td>2681</td><td>2021-06-29</td><td>health and beauty...</td><td>6.2</td><td>fashion and acces...</td><td>400.61345601101743</td><td>2021</td><td>6</td><td>29</td><td>Nicole Bishop</td><td>467 Robert Island...</td><td>NT</td><td>0800</td><td>Female</td><td>0</td><td>18</td></tr>\n",
       "<tr><td>0800</td><td>5631.999973601934</td><td>33.00000004463053</td><td>4.20609029345557E8</td><td>57789.00008173299</td><td>74682.00012457666</td><td>7678.999968193022</td><td>3.199999994700948</td><td>2419.9999940679677</td><td>Pede Cras Vulputa...</td><td>a</td><td>4597</td><td>2021-04-03</td><td>health and beauty...</td><td>6.2</td><td>fashion and acces...</td><td>444.1022321713573</td><td>2021</td><td>4</td><td>3</td><td>Andre Chandler</td><td>5546 Joseph Plain...</td><td>NT</td><td>0800</td><td>Male</td><td>0</td><td>19</td></tr>\n",
       "</table>\n",
       "only showing top 20 rows\n"
      ],
      "text/plain": [
       "+--------+-----------------+-----------------+------------------+-----------------+-----------------+-----------------+-----------------+------------------+--------------------+-------------+-------+--------------+--------------------+---------+--------------------+------------------+----------+-----------+---------+---------------+--------------------+--------------+-----------------+---------------+-----------+-----------------+\n",
       "|postcode|    total_earners|       median_age|        income_sum|    income_median|      income_mean|  2021_population|              km2|       persons/km2|       merchant_name|revenue_level|user_id|order_datetime|            products|take_rate|            category|      dollar_value|order_year|order_month|order_day|       consumer|    consumer_address|consumer_state|consumer_postcode|consumer_gender|fraud_group|__index_level_0__|\n",
       "+--------+-----------------+-----------------+------------------+-----------------+-----------------+-----------------+-----------------+------------------+--------------------+-------------+-------+--------------+--------------------+---------+--------------------+------------------+----------+-----------+---------+---------------+--------------------+--------------+-----------------+---------------+-----------+-----------------+\n",
       "|    0800|5631.999973601934|33.00000004463053|4.20609029345557E8|57789.00008173299|74682.00012457666|7678.999968193022|3.199999994700948|2419.9999940679677|Elit Sed Consequa...|            a|  10413|    2022-04-27|artist supply and...|     5.89|       art and gifts|375.16773164703153|      2022|          4|       27|  Kelly Clayton|4211 Rodney Tunne...|            NT|             0800|         Female|          0|                0|\n",
       "|    0800|5631.999973601934|33.00000004463053|4.20609029345557E8|57789.00008173299|74682.00012457666|7678.999968193022|3.199999994700948|2419.9999940679677|Elit Sed Consequa...|            a|  22246|    2022-10-07|artist supply and...|     5.89|       art and gifts| 617.8791313462011|      2022|         10|        7|  Corey Estrada|     1703 Boyd Shore|            NT|             0800|           Male|          0|                1|\n",
       "|    0800|5631.999973601934|33.00000004463053|4.20609029345557E8|57789.00008173299|74682.00012457666|7678.999968193022|3.199999994700948|2419.9999940679677|Elit Sed Consequa...|            a|   2681|    2022-02-28|artist supply and...|     5.89|       art and gifts| 766.5077067424303|      2022|          2|       28|  Nicole Bishop|467 Robert Island...|            NT|             0800|         Female|          0|                2|\n",
       "|    0800|5631.999973601934|33.00000004463053|4.20609029345557E8|57789.00008173299|74682.00012457666|7678.999968193022|3.199999994700948|2419.9999940679677|   Malesuada Vel Ltd|            b|  13454|    2021-07-24|books periodicals...|     3.56|     books and music|258.86595899218753|      2021|          7|       24|Natalie Herrera|88798 Saunders Hi...|            NT|             0800|         Female|          0|                3|\n",
       "|    0800|5631.999973601934|33.00000004463053|4.20609029345557E8|57789.00008173299|74682.00012457666|7678.999968193022|3.199999994700948|2419.9999940679677|Varius Orci Insti...|            a|  10146|    2021-08-08|tent and awning s...|      6.3|            outdoors| 4.159037931172075|      2021|          8|        8|   Shannon Mann|  00817 Owens Circle|            NT|             0800|         Female|          0|                4|\n",
       "|    0800|5631.999973601934|33.00000004463053|4.20609029345557E8|57789.00008173299|74682.00012457666|7678.999968193022|3.199999994700948|2419.9999940679677|Volutpat Nulla In...|            a|  23093|    2022-10-11|furniture home fu...|     6.59| home and technology|  8.26105405068297|      2022|         10|       11|  Robert Walker|646 Allison Ranch...|            NT|             0800|           Male|          0|                5|\n",
       "|    0800|5631.999973601934|33.00000004463053|4.20609029345557E8|57789.00008173299|74682.00012457666|7678.999968193022|3.199999994700948|2419.9999940679677|Mollis Integer Co...|            b|  13454|    2022-05-02|digital goods boo...|     3.96|     books and music| 83.63154755239155|      2022|          5|        2|Natalie Herrera|88798 Saunders Hi...|            NT|             0800|         Female|          0|                6|\n",
       "|    0800|5631.999973601934|33.00000004463053|4.20609029345557E8|57789.00008173299|74682.00012457666|7678.999968193022|3.199999994700948|2419.9999940679677|Elit Sed Consequa...|            a|  13454|    2021-04-08|artist supply and...|     5.89|       art and gifts| 87.00495112586256|      2021|          4|        8|Natalie Herrera|88798 Saunders Hi...|            NT|             0800|         Female|          0|                7|\n",
       "|    0800|5631.999973601934|33.00000004463053|4.20609029345557E8|57789.00008173299|74682.00012457666|7678.999968193022|3.199999994700948|2419.9999940679677|        Eros Limited|            c|   8092|    2021-12-18|digital goods boo...|     2.52|     books and music|  8.26187754879106|      2021|         12|       18|  Rebecca Owens|92579 Keith Neck ...|            NT|             0800|         Female|          0|                8|\n",
       "|    0800|5631.999973601934|33.00000004463053|4.20609029345557E8|57789.00008173299|74682.00012457666|7678.999968193022|3.199999994700948|2419.9999940679677|Hendrerit A Corpo...|            a|  11203|    2022-07-14|watch clock and j...|     6.64|fashion and acces...|100.80643267043831|      2022|          7|       14| John Rodriguez|     563 Wallace Rue|            NT|             0800|           Male|          0|                9|\n",
       "|    0800|5631.999973601934|33.00000004463053|4.20609029345557E8|57789.00008173299|74682.00012457666|7678.999968193022|3.199999994700948|2419.9999940679677|Pede Cras Vulputa...|            a|  22246|    2021-07-18|health and beauty...|      6.2|fashion and acces...|326.46199407890373|      2021|          7|       18|  Corey Estrada|     1703 Boyd Shore|            NT|             0800|           Male|          0|               10|\n",
       "|    0800|5631.999973601934|33.00000004463053|4.20609029345557E8|57789.00008173299|74682.00012457666|7678.999968193022|3.199999994700948|2419.9999940679677|Hendrerit A Corpo...|            a|  12972|    2021-08-16|watch clock and j...|     6.64|fashion and acces...|204.40538957685413|      2021|          8|       16|  Peter Brennan|13276 Vazquez Rap...|            NT|             0800|    Undisclosed|          0|               11|\n",
       "|    0800|5631.999973601934|33.00000004463053|4.20609029345557E8|57789.00008173299|74682.00012457666|7678.999968193022|3.199999994700948|2419.9999940679677|        Eros Limited|            c|  12972|    2021-06-14|digital goods boo...|     2.52|     books and music|31.204086659483615|      2021|          6|       14|  Peter Brennan|13276 Vazquez Rap...|            NT|             0800|    Undisclosed|          0|               12|\n",
       "|    0800|5631.999973601934|33.00000004463053|4.20609029345557E8|57789.00008173299|74682.00012457666|7678.999968193022|3.199999994700948|2419.9999940679677|        Eros Limited|            c|   8092|    2021-12-13|digital goods boo...|     2.52|     books and music|  37.1880940325229|      2021|         12|       13|  Rebecca Owens|92579 Keith Neck ...|            NT|             0800|         Female|          0|               13|\n",
       "|    0800|5631.999973601934|33.00000004463053|4.20609029345557E8|57789.00008173299|74682.00012457666|7678.999968193022|3.199999994700948|2419.9999940679677|        Eros Limited|            c|  10146|    2022-10-10|digital goods boo...|     2.52|     books and music| 5.247567221175345|      2022|         10|       10|   Shannon Mann|  00817 Owens Circle|            NT|             0800|         Female|          0|               14|\n",
       "|    0800|5631.999973601934|33.00000004463053|4.20609029345557E8|57789.00008173299|74682.00012457666|7678.999968193022|3.199999994700948|2419.9999940679677|        Eros Limited|            c|  10413|    2021-11-27|digital goods boo...|     2.52|     books and music|12.918096138910116|      2021|         11|       27|  Kelly Clayton|4211 Rodney Tunne...|            NT|             0800|         Female|          0|               15|\n",
       "|    0800|5631.999973601934|33.00000004463053|4.20609029345557E8|57789.00008173299|74682.00012457666|7678.999968193022|3.199999994700948|2419.9999940679677|Hendrerit A Corpo...|            a|   2681|    2022-05-19|watch clock and j...|     6.64|fashion and acces...|276.12651679041534|      2022|          5|       19|  Nicole Bishop|467 Robert Island...|            NT|             0800|         Female|          0|               16|\n",
       "|    0800|5631.999973601934|33.00000004463053|4.20609029345557E8|57789.00008173299|74682.00012457666|7678.999968193022|3.199999994700948|2419.9999940679677|Hendrerit A Corpo...|            a|  12972|    2022-03-29|watch clock and j...|     6.64|fashion and acces...| 169.4756116760845|      2022|          3|       29|  Peter Brennan|13276 Vazquez Rap...|            NT|             0800|    Undisclosed|          0|               17|\n",
       "|    0800|5631.999973601934|33.00000004463053|4.20609029345557E8|57789.00008173299|74682.00012457666|7678.999968193022|3.199999994700948|2419.9999940679677|Pede Cras Vulputa...|            a|   2681|    2021-06-29|health and beauty...|      6.2|fashion and acces...|400.61345601101743|      2021|          6|       29|  Nicole Bishop|467 Robert Island...|            NT|             0800|         Female|          0|               18|\n",
       "|    0800|5631.999973601934|33.00000004463053|4.20609029345557E8|57789.00008173299|74682.00012457666|7678.999968193022|3.199999994700948|2419.9999940679677|Pede Cras Vulputa...|            a|   4597|    2021-04-03|health and beauty...|      6.2|fashion and acces...| 444.1022321713573|      2021|          4|        3| Andre Chandler|5546 Joseph Plain...|            NT|             0800|           Male|          0|               19|\n",
       "+--------+-----------------+-----------------+------------------+-----------------+-----------------+-----------------+-----------------+------------------+--------------------+-------------+-------+--------------+--------------------+---------+--------------------+------------------+----------+-----------+---------+---------------+--------------------+--------------+-----------------+---------------+-----------+-----------------+\n",
       "only showing top 20 rows"
      ]
     },
     "execution_count": 3,
     "metadata": {},
     "output_type": "execute_result"
    }
   ],
   "source": [
    "df"
   ]
  },
  {
   "cell_type": "markdown",
   "metadata": {},
   "source": [
    "<h2>1. Split dataset</h2>"
   ]
  },
  {
   "cell_type": "code",
   "execution_count": 4,
   "metadata": {},
   "outputs": [],
   "source": [
    "import time\n",
    "import datetime\n",
    "date = \"2022-08-31\"\n",
    "date_time = datetime.datetime.strptime(date, '%Y-%m-%d')"
   ]
  },
  {
   "cell_type": "code",
   "execution_count": 5,
   "metadata": {},
   "outputs": [
    {
     "name": "stderr",
     "output_type": "stream",
     "text": [
      "                                                                                \r"
     ]
    },
    {
     "data": {
      "text/plain": [
       "9873203"
      ]
     },
     "execution_count": 5,
     "metadata": {},
     "output_type": "execute_result"
    }
   ],
   "source": [
    "df_train = df.where((col(\"order_datetime\") <= date_time.date()))\n",
    "df_train.count()"
   ]
  },
  {
   "cell_type": "code",
   "execution_count": 6,
   "metadata": {},
   "outputs": [
    {
     "data": {
      "text/plain": [
       "1214722"
      ]
     },
     "execution_count": 6,
     "metadata": {},
     "output_type": "execute_result"
    }
   ],
   "source": [
    "df_test = df.where((col(\"order_datetime\") > date_time.date()))\n",
    "df_test.count()"
   ]
  },
  {
   "cell_type": "markdown",
   "metadata": {},
   "source": [
    "<h2>2. Aggregate dataset</h2>"
   ]
  },
  {
   "cell_type": "code",
   "execution_count": 7,
   "metadata": {},
   "outputs": [],
   "source": [
    "df_train_agg = df_train.groupBy([\"merchant_name\", \"order_year\", \"order_month\"]).agg(\n",
    "    sum(\"dollar_value\").alias(\"total_revenue\"), # response variable\n",
    "\n",
    "    max(\"take_rate\").alias(\"take_rate\"),\n",
    "    avg(\"total_earners\").alias(\"total_earners\"),\n",
    "    avg(\"median_age\").alias(\"median_age\"),\n",
    "    avg(\"income_median\").alias(\"income_median\"),\n",
    "    avg(\"persons/km2\").alias(\"population_density\"),\n",
    "    max(\"category\").alias(\"category\"),\n",
    "    max(\"revenue_level\").alias(\"revenue_level\")\n",
    "    )\n",
    "\n",
    "df_test_agg = df_test.groupBy([\"merchant_name\", \"order_year\", \"order_month\"]).agg(\n",
    "    sum(\"dollar_value\").alias(\"total_revenue\"), # response variable\n",
    "\n",
    "    max(\"take_rate\").alias(\"take_rate\"),\n",
    "    avg(\"total_earners\").alias(\"total_earners\"),\n",
    "    avg(\"median_age\").alias(\"median_age\"),\n",
    "    avg(\"income_median\").alias(\"income_median\"),\n",
    "    avg(\"persons/km2\").alias(\"population_density\"),\n",
    "    max(\"category\").alias(\"category\"),\n",
    "    max(\"revenue_level\").alias(\"revenue_level\")\n",
    "    )"
   ]
  },
  {
   "cell_type": "code",
   "execution_count": 8,
   "metadata": {},
   "outputs": [],
   "source": [
    "df_train_agg = df_train_agg.withColumn(\"revenue_taken\", F.col(\"total_revenue\") * (F.col(\"take_rate\") / 100))\n",
    "df_test_agg = df_test_agg.withColumn(\"revenue_taken\", F.col(\"total_revenue\") * (F.col(\"take_rate\") / 100))"
   ]
  },
  {
   "cell_type": "code",
   "execution_count": 9,
   "metadata": {},
   "outputs": [],
   "source": [
    "df_train_agg = df_train_agg.drop(\"total_revenue\", \"take_rate\")\n",
    "df_test_agg = df_test_agg.drop(\"total_revenue\", \"take_rate\")"
   ]
  },
  {
   "cell_type": "code",
   "execution_count": 10,
   "metadata": {},
   "outputs": [
    {
     "name": "stderr",
     "output_type": "stream",
     "text": [
      "                                                                                \r"
     ]
    },
    {
     "data": {
      "text/html": [
       "<table border='1'>\n",
       "<tr><th>merchant_name</th><th>order_year</th><th>order_month</th><th>total_earners</th><th>median_age</th><th>income_median</th><th>population_density</th><th>category</th><th>revenue_level</th><th>revenue_taken</th></tr>\n",
       "<tr><td>A Aliquet Ltd</td><td>2021</td><td>3</td><td>4980.623604961794</td><td>45.955320262557386</td><td>44348.234836395015</td><td>446.43100140347246</td><td>home and technology</td><td>b</td><td>349.5484134530372</td></tr>\n",
       "<tr><td>A Aliquet Ltd</td><td>2021</td><td>4</td><td>5354.985464077088</td><td>44.957488804012904</td><td>47087.020093628846</td><td>661.3048628221844</td><td>home and technology</td><td>b</td><td>338.07536243758386</td></tr>\n",
       "<tr><td>A Aliquet Ltd</td><td>2021</td><td>7</td><td>4388.982031619088</td><td>44.56853448053012</td><td>44286.808317322975</td><td>322.56914352472995</td><td>home and technology</td><td>b</td><td>475.18502622308233</td></tr>\n",
       "<tr><td>A Aliquet Ltd</td><td>2021</td><td>8</td><td>5281.06502903092</td><td>41.808178897353294</td><td>44432.17706152081</td><td>674.1575473010176</td><td>home and technology</td><td>b</td><td>375.8536740741011</td></tr>\n",
       "<tr><td>A Aliquet Ltd</td><td>2021</td><td>12</td><td>4218.068045625177</td><td>44.00092016580645</td><td>45702.003770359916</td><td>633.7586224746047</td><td>home and technology</td><td>b</td><td>486.47663958043245</td></tr>\n",
       "<tr><td>A Aliquet Ltd</td><td>2022</td><td>6</td><td>4907.6821031588515</td><td>44.52282551974433</td><td>46859.1278088761</td><td>506.7066383636061</td><td>home and technology</td><td>b</td><td>383.8019227224976</td></tr>\n",
       "<tr><td>A Aliquet Ltd</td><td>2022</td><td>8</td><td>4587.962567801989</td><td>43.09698805802131</td><td>45936.13593995373</td><td>564.2479724970453</td><td>home and technology</td><td>b</td><td>537.5835117882583</td></tr>\n",
       "<tr><td>A Arcu Industries</td><td>2021</td><td>2</td><td>3464.1233178609377</td><td>46.506422301920416</td><td>51956.04631148328</td><td>12.921544307761414</td><td>outdoors</td><td>c</td><td>21.744568393051882</td></tr>\n",
       "<tr><td>A Arcu Industries</td><td>2021</td><td>12</td><td>4631.073949176494</td><td>43.00178251688292</td><td>45797.775562465315</td><td>590.2452906166948</td><td>outdoors</td><td>c</td><td>1582.2315307816057</td></tr>\n",
       "<tr><td>A Arcu Industries</td><td>2022</td><td>5</td><td>4953.264665124492</td><td>41.985087824662386</td><td>46570.62536428412</td><td>839.7026423642426</td><td>outdoors</td><td>c</td><td>1203.3213130052611</td></tr>\n",
       "<tr><td>A Arcu Industries</td><td>2022</td><td>6</td><td>4770.525472823367</td><td>44.13508031319623</td><td>46263.953992811774</td><td>439.45201957696486</td><td>outdoors</td><td>c</td><td>1488.332961841242</td></tr>\n",
       "<tr><td>A Arcu Sed Company</td><td>2022</td><td>8</td><td>4873.956983949013</td><td>44.03634565497028</td><td>46842.44706871208</td><td>616.690762429152</td><td>fashion and acces...</td><td>c</td><td>202.0072445906398</td></tr>\n",
       "<tr><td>A Arcu Sed Corpor...</td><td>2021</td><td>7</td><td>5023.5</td><td>47.5</td><td>43662.5</td><td>14.95</td><td>books and music</td><td>c</td><td>21.978148597716995</td></tr>\n",
       "<tr><td>A Arcu Sed Corpor...</td><td>2021</td><td>10</td><td>5349.034019515486</td><td>46.94499080809525</td><td>42227.33971980946</td><td>1.4199603095297617</td><td>books and music</td><td>c</td><td>18.525218218704357</td></tr>\n",
       "<tr><td>A Arcu Sed Corpor...</td><td>2022</td><td>2</td><td>1991.000002001133</td><td>46.0</td><td>53440.99999854395</td><td>0.10000000966965378</td><td>books and music</td><td>c</td><td>6.192477552935265</td></tr>\n",
       "<tr><td>A Arcu Sed Corpor...</td><td>2022</td><td>5</td><td>5233.999998360157</td><td>48.00000000011362</td><td>41938.999999736334</td><td>2.000000003477454</td><td>books and music</td><td>c</td><td>22.590067125541005</td></tr>\n",
       "<tr><td>A Arcu Sed Corpor...</td><td>2022</td><td>8</td><td>3486.0</td><td>53.0</td><td>41140.0</td><td>2.1</td><td>books and music</td><td>c</td><td>28.8037844882498</td></tr>\n",
       "<tr><td>A Associates</td><td>2021</td><td>3</td><td>4035.9999993720544</td><td>47.79999999897406</td><td>40354.6000001081</td><td>2.920000027671273</td><td>fashion and acces...</td><td>b</td><td>78.95860752978314</td></tr>\n",
       "<tr><td>A Associates</td><td>2021</td><td>6</td><td>9168.0</td><td>55.0</td><td>38476.0</td><td>143.2</td><td>fashion and acces...</td><td>b</td><td>15.683284998150128</td></tr>\n",
       "<tr><td>A Associates</td><td>2021</td><td>7</td><td>7989.806454944793</td><td>43.20363630960536</td><td>55311.55687083746</td><td>1210.7668326520588</td><td>fashion and acces...</td><td>b</td><td>17.144569924080127</td></tr>\n",
       "</table>\n",
       "only showing top 20 rows\n"
      ],
      "text/plain": [
       "+--------------------+----------+-----------+------------------+------------------+------------------+-------------------+--------------------+-------------+------------------+\n",
       "|       merchant_name|order_year|order_month|     total_earners|        median_age|     income_median| population_density|            category|revenue_level|     revenue_taken|\n",
       "+--------------------+----------+-----------+------------------+------------------+------------------+-------------------+--------------------+-------------+------------------+\n",
       "|       A Aliquet Ltd|      2021|          3| 4980.623604961794|45.955320262557386|44348.234836395015| 446.43100140347246| home and technology|            b| 349.5484134530372|\n",
       "|       A Aliquet Ltd|      2021|          4| 5354.985464077088|44.957488804012904|47087.020093628846|  661.3048628221844| home and technology|            b|338.07536243758386|\n",
       "|       A Aliquet Ltd|      2021|          7| 4388.982031619088| 44.56853448053012|44286.808317322975| 322.56914352472995| home and technology|            b|475.18502622308233|\n",
       "|       A Aliquet Ltd|      2021|          8|  5281.06502903092|41.808178897353294| 44432.17706152081|  674.1575473010176| home and technology|            b| 375.8536740741011|\n",
       "|       A Aliquet Ltd|      2021|         12| 4218.068045625177| 44.00092016580645|45702.003770359916|  633.7586224746047| home and technology|            b|486.47663958043245|\n",
       "|       A Aliquet Ltd|      2022|          6|4907.6821031588515| 44.52282551974433|  46859.1278088761|  506.7066383636061| home and technology|            b| 383.8019227224976|\n",
       "|       A Aliquet Ltd|      2022|          8| 4587.962567801989| 43.09698805802131| 45936.13593995373|  564.2479724970453| home and technology|            b| 537.5835117882583|\n",
       "|   A Arcu Industries|      2021|          2|3464.1233178609377|46.506422301920416| 51956.04631148328| 12.921544307761414|            outdoors|            c|21.744568393051882|\n",
       "|   A Arcu Industries|      2021|         12| 4631.073949176494| 43.00178251688292|45797.775562465315|  590.2452906166948|            outdoors|            c|1582.2315307816057|\n",
       "|   A Arcu Industries|      2022|          5| 4953.264665124492|41.985087824662386| 46570.62536428412|  839.7026423642426|            outdoors|            c|1203.3213130052611|\n",
       "|   A Arcu Industries|      2022|          6| 4770.525472823367| 44.13508031319623|46263.953992811774| 439.45201957696486|            outdoors|            c| 1488.332961841242|\n",
       "|  A Arcu Sed Company|      2022|          8| 4873.956983949013| 44.03634565497028| 46842.44706871208|   616.690762429152|fashion and acces...|            c| 202.0072445906398|\n",
       "|A Arcu Sed Corpor...|      2021|          7|            5023.5|              47.5|           43662.5|              14.95|     books and music|            c|21.978148597716995|\n",
       "|A Arcu Sed Corpor...|      2021|         10| 5349.034019515486| 46.94499080809525| 42227.33971980946| 1.4199603095297617|     books and music|            c|18.525218218704357|\n",
       "|A Arcu Sed Corpor...|      2022|          2| 1991.000002001133|              46.0| 53440.99999854395|0.10000000966965378|     books and music|            c| 6.192477552935265|\n",
       "|A Arcu Sed Corpor...|      2022|          5| 5233.999998360157| 48.00000000011362|41938.999999736334|  2.000000003477454|     books and music|            c|22.590067125541005|\n",
       "|A Arcu Sed Corpor...|      2022|          8|            3486.0|              53.0|           41140.0|                2.1|     books and music|            c|  28.8037844882498|\n",
       "|        A Associates|      2021|          3|4035.9999993720544| 47.79999999897406|  40354.6000001081|  2.920000027671273|fashion and acces...|            b| 78.95860752978314|\n",
       "|        A Associates|      2021|          6|            9168.0|              55.0|           38476.0|              143.2|fashion and acces...|            b|15.683284998150128|\n",
       "|        A Associates|      2021|          7| 7989.806454944793| 43.20363630960536| 55311.55687083746| 1210.7668326520588|fashion and acces...|            b|17.144569924080127|\n",
       "+--------------------+----------+-----------+------------------+------------------+------------------+-------------------+--------------------+-------------+------------------+\n",
       "only showing top 20 rows"
      ]
     },
     "execution_count": 10,
     "metadata": {},
     "output_type": "execute_result"
    }
   ],
   "source": [
    "df_train_agg"
   ]
  },
  {
   "cell_type": "code",
   "execution_count": 11,
   "metadata": {},
   "outputs": [
    {
     "name": "stdout",
     "output_type": "stream",
     "text": [
      "root\n",
      " |-- merchant_name: string (nullable = true)\n",
      " |-- order_year: integer (nullable = true)\n",
      " |-- order_month: integer (nullable = true)\n",
      " |-- total_earners: double (nullable = true)\n",
      " |-- median_age: double (nullable = true)\n",
      " |-- income_median: double (nullable = true)\n",
      " |-- population_density: double (nullable = true)\n",
      " |-- category: string (nullable = true)\n",
      " |-- revenue_level: string (nullable = true)\n",
      " |-- revenue_taken: double (nullable = true)\n",
      "\n"
     ]
    }
   ],
   "source": [
    "df_train_agg.printSchema()"
   ]
  }
 ],
 "metadata": {
  "kernelspec": {
   "display_name": "Python 3.9.12 64-bit",
   "language": "python",
   "name": "python3"
  },
  "language_info": {
   "codemirror_mode": {
    "name": "ipython",
    "version": 3
   },
   "file_extension": ".py",
   "mimetype": "text/x-python",
   "name": "python",
   "nbconvert_exporter": "python",
   "pygments_lexer": "ipython3",
   "version": "3.9.12"
  },
  "orig_nbformat": 4,
  "vscode": {
   "interpreter": {
    "hash": "949777d72b0d2535278d3dc13498b2535136f6dfe0678499012e853ee9abcab1"
   }
  }
 },
 "nbformat": 4,
 "nbformat_minor": 2
}
