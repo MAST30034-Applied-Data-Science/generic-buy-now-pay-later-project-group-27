{
 "cells": [
  {
   "cell_type": "code",
   "execution_count": 1,
   "metadata": {},
   "outputs": [
    {
     "name": "stderr",
     "output_type": "stream",
     "text": [
      "Setting default log level to \"WARN\".\n",
      "To adjust logging level use sc.setLogLevel(newLevel). For SparkR, use setLogLevel(newLevel).\n"
     ]
    },
    {
     "name": "stdout",
     "output_type": "stream",
     "text": [
      "22/10/06 03:29:30 WARN NativeCodeLoader: Unable to load native-hadoop library for your platform... using builtin-java classes where applicable\n",
      "22/10/06 03:29:39 WARN Utils: Service 'SparkUI' could not bind on port 4040. Attempting port 4041.\n",
      "22/10/06 03:29:39 WARN Utils: Service 'SparkUI' could not bind on port 4041. Attempting port 4042.\n",
      "22/10/06 03:29:39 WARN Utils: Service 'SparkUI' could not bind on port 4042. Attempting port 4043.\n",
      "22/10/06 03:29:39 WARN Utils: Service 'SparkUI' could not bind on port 4043. Attempting port 4044.\n"
     ]
    }
   ],
   "source": [
    "from pyspark.sql import SparkSession, functions as F\n",
    "from pyspark.sql.functions import *\n",
    "import matplotlib.pyplot as plt\n",
    "import numpy as np\n",
    "import pandas as pd\n",
    "\n",
    "spark = (\n",
    "    SparkSession.builder.appName(\"ADS project 2\")\n",
    "    .config(\"spark.sql.repl.eagerEval.enabled\", True) \n",
    "    .config(\"spark.sql.parquet.cacheMetadata\", \"true\")\n",
    "    .config(\"spark.sql.session.timeZone\", \"Etc/UTC\")\n",
    "    .config(\"spark.executor.memory\", \"2g\")\n",
    "    .config(\"spark.driver.memory\", \"4g\")\n",
    "    .getOrCreate()\n",
    ")"
   ]
  },
  {
   "cell_type": "code",
   "execution_count": 2,
   "metadata": {},
   "outputs": [
    {
     "name": "stderr",
     "output_type": "stream",
     "text": [
      "                                                                                \r"
     ]
    }
   ],
   "source": [
    "df = spark.read.parquet(\"../data/curated/merchant_consumer_abs\")"
   ]
  },
  {
   "cell_type": "code",
   "execution_count": 3,
   "metadata": {},
   "outputs": [],
   "source": [
    "revenue_monthly = df.groupBy([\"merchant_name\", \"order_year\", \"order_month\"]).agg(sum(\"dollar_value\").alias(\"total_dollar_value\"))\n",
    "revenue_annually = df.groupBy([\"merchant_name\", \"order_year\"]).agg(sum(\"dollar_value\").alias(\"total_dollar_value\"))"
   ]
  },
  {
   "cell_type": "code",
   "execution_count": 4,
   "metadata": {},
   "outputs": [
    {
     "name": "stderr",
     "output_type": "stream",
     "text": [
      "[Stage 3:=============================>                             (1 + 1) / 2]\r"
     ]
    },
    {
     "name": "stdout",
     "output_type": "stream",
     "text": [
      "22/10/06 03:30:16 WARN TransportClientFactory: DNS resolution succeed for dongmensmacbook/192.168.20.8:51795 took 5006 ms\n"
     ]
    },
    {
     "name": "stderr",
     "output_type": "stream",
     "text": [
      "                                                                                \r"
     ]
    }
   ],
   "source": [
    "revenue_monthly = revenue_monthly.toPandas()\n",
    "revenue_annually = revenue_annually.toPandas()"
   ]
  },
  {
   "cell_type": "code",
   "execution_count": 5,
   "metadata": {},
   "outputs": [],
   "source": [
    "revenue_monthly = revenue_monthly.sort_values([\"merchant_name\", \"order_year\", \"order_month\"])\n",
    "revenue_annually = revenue_annually.sort_values([\"merchant_name\", \"order_year\"])"
   ]
  },
  {
   "cell_type": "code",
   "execution_count": 6,
   "metadata": {},
   "outputs": [],
   "source": [
    "merchants = list(set(revenue_monthly[\"merchant_name\"].unique()))"
   ]
  },
  {
   "cell_type": "code",
   "execution_count": 7,
   "metadata": {},
   "outputs": [
    {
     "name": "stdout",
     "output_type": "stream",
     "text": [
      "Habitant Morbi Incorporated\n"
     ]
    },
    {
     "name": "stderr",
     "output_type": "stream",
     "text": [
      "/var/folders/jf/lpq30w0s4qv628ncd2qlm8nc0000gn/T/ipykernel_34871/2586366128.py:4: SettingWithCopyWarning: \n",
      "A value is trying to be set on a copy of a slice from a DataFrame.\n",
      "Try using .loc[row_indexer,col_indexer] = value instead\n",
      "\n",
      "See the caveats in the documentation: https://pandas.pydata.org/pandas-docs/stable/user_guide/indexing.html#returning-a-view-versus-a-copy\n",
      "  merchant[\"period\"] = merchant[\"order_year\"].astype(str) + \"-\" + merchant[\"order_month\"].astype(str)\n"
     ]
    },
    {
     "data": {
      "image/png": "[encoded data removed]",
      "text/plain": [
       "<Figure size 432x288 with 1 Axes>"
      ]
     },
     "metadata": {
      "needs_background": "light"
     },
     "output_type": "display_data"
    },
    {
     "name": "stdout",
     "output_type": "stream",
     "text": [
      "Orci Consectetuer Corporation\n"
     ]
    },
    {
     "name": "stderr",
     "output_type": "stream",
     "text": [
      "/var/folders/jf/lpq30w0s4qv628ncd2qlm8nc0000gn/T/ipykernel_34871/2586366128.py:4: SettingWithCopyWarning: \n",
      "A value is trying to be set on a copy of a slice from a DataFrame.\n",
      "Try using .loc[row_indexer,col_indexer] = value instead\n",
      "\n",
      "See the caveats in the documentation: https://pandas.pydata.org/pandas-docs/stable/user_guide/indexing.html#returning-a-view-versus-a-copy\n",
      "  merchant[\"period\"] = merchant[\"order_year\"].astype(str) + \"-\" + merchant[\"order_month\"].astype(str)\n"
     ]
    },
    {
     "data": {
      "image/png": "[encoded data removed]",
      "text/plain": [
       "<Figure size 432x288 with 1 Axes>"
      ]
     },
     "metadata": {
      "needs_background": "light"
     },
     "output_type": "display_data"
    },
    {
     "name": "stdout",
     "output_type": "stream",
     "text": [
      "Ipsum Suspendisse Foundation\n"
     ]
    },
    {
     "name": "stderr",
     "output_type": "stream",
     "text": [
      "/var/folders/jf/lpq30w0s4qv628ncd2qlm8nc0000gn/T/ipykernel_34871/2586366128.py:4: SettingWithCopyWarning: \n",
      "A value is trying to be set on a copy of a slice from a DataFrame.\n",
      "Try using .loc[row_indexer,col_indexer] = value instead\n",
      "\n",
      "See the caveats in the documentation: https://pandas.pydata.org/pandas-docs/stable/user_guide/indexing.html#returning-a-view-versus-a-copy\n",
      "  merchant[\"period\"] = merchant[\"order_year\"].astype(str) + \"-\" + merchant[\"order_month\"].astype(str)\n"
     ]
    },
    {
     "data": {
      "image/png": "[encoded data removed]",
      "text/plain": [
       "<Figure size 432x288 with 1 Axes>"
      ]
     },
     "metadata": {
      "needs_background": "light"
     },
     "output_type": "display_data"
    },
    {
     "name": "stdout",
     "output_type": "stream",
     "text": [
      "Commodo Auctor Incorporated\n"
     ]
    },
    {
     "name": "stderr",
     "output_type": "stream",
     "text": [
      "/var/folders/jf/lpq30w0s4qv628ncd2qlm8nc0000gn/T/ipykernel_34871/2586366128.py:4: SettingWithCopyWarning: \n",
      "A value is trying to be set on a copy of a slice from a DataFrame.\n",
      "Try using .loc[row_indexer,col_indexer] = value instead\n",
      "\n",
      "See the caveats in the documentation: https://pandas.pydata.org/pandas-docs/stable/user_guide/indexing.html#returning-a-view-versus-a-copy\n",
      "  merchant[\"period\"] = merchant[\"order_year\"].astype(str) + \"-\" + merchant[\"order_month\"].astype(str)\n"
     ]
    },
    {
     "data": {
      "image/png": "[encoded data removed]",
      "text/plain": [
       "<Figure size 432x288 with 1 Axes>"
      ]
     },
     "metadata": {
      "needs_background": "light"
     },
     "output_type": "display_data"
    }
   ],
   "source": [
    "for i in range(1000, 1004):\n",
    "    merchant = revenue_monthly[revenue_monthly[\"merchant_name\"] == merchants[i]]\n",
    "    print(merchants[i])\n",
    "    merchant[\"period\"] = merchant[\"order_year\"].astype(str) + \"-\" + merchant[\"order_month\"].astype(str)\n",
    "    year21 = len(merchant[merchant[\"order_year\"] == 2021])\n",
    "    x = merchant['period']\n",
    "    y = merchant['total_dollar_value']\n",
    "    plt.scatter(x, y)\n",
    "    xNum1 = np.array(range(1, year21+1))\n",
    "    xNum2 = np.array(range(year21+1, len(x)+1))\n",
    "    a1, b1 = np.polyfit(xNum1, y[:year21], 1)\n",
    "    a2, b2 = np.polyfit(xNum2, y[year21:len(x)], 1)\n",
    "    plt.plot(xNum1, a1*xNum1+b1)\n",
    "    plt.plot(xNum2, a2*xNum2+b2)\n",
    "    plt.xticks(rotation=45)\n",
    "    plt.show()"
   ]
  },
  {
   "cell_type": "code",
   "execution_count": 8,
   "metadata": {},
   "outputs": [],
   "source": [
    "revenue_increasing = []\n",
    "count = 0\n",
    "for i in range(len(merchants)):\n",
    "    merchant_increasing = []\n",
    "    merchant = revenue_annually[revenue_annually[\"merchant_name\"] == merchants[i]]\n",
    "    merchant_increasing.append(merchants[i])\n",
    "    if len(merchant) == 1:\n",
    "        count+=1\n",
    "        if ((merchant[\"order_year\"] == 2022).values):\n",
    "            merchant_increasing.append((merchant[\"total_dollar_value\"]).values[0])\n",
    "            revenue_increasing.append(merchant_increasing)\n",
    "        if ((merchant[\"order_year\"] == 2021).values):\n",
    "            merchant_increasing.append(-(merchant[\"total_dollar_value\"]).values[0])\n",
    "            revenue_increasing.append(merchant_increasing)\n",
    "    if len(merchant) == 2:\n",
    "        merchant_increasing.append(((merchant[merchant[\"order_year\"] == 2022][\"total_dollar_value\"]).values - (merchant[merchant[\"order_year\"] == 2021][\"total_dollar_value\"]).values)[0])\n",
    "        revenue_increasing.append(merchant_increasing)"
   ]
  },
  {
   "cell_type": "code",
   "execution_count": 9,
   "metadata": {},
   "outputs": [
    {
     "data": {
      "text/html": [
       "<div>\n",
       "<style scoped>\n",
       "    .dataframe tbody tr th:only-of-type {\n",
       "        vertical-align: middle;\n",
       "    }\n",
       "\n",
       "    .dataframe tbody tr th {\n",
       "        vertical-align: top;\n",
       "    }\n",
       "\n",
       "    .dataframe thead th {\n",
       "        text-align: right;\n",
       "    }\n",
       "</style>\n",
       "<table border=\"1\" class=\"dataframe\">\n",
       "  <thead>\n",
       "    <tr style=\"text-align: right;\">\n",
       "      <th></th>\n",
       "      <th>merchant_name</th>\n",
       "      <th>increasing</th>\n",
       "    </tr>\n",
       "  </thead>\n",
       "  <tbody>\n",
       "    <tr>\n",
       "      <th>0</th>\n",
       "      <td>Eros Non LLP</td>\n",
       "      <td>-980.083702</td>\n",
       "    </tr>\n",
       "    <tr>\n",
       "      <th>1</th>\n",
       "      <td>Tortor Integer Aliquam Incorporated</td>\n",
       "      <td>-349.353864</td>\n",
       "    </tr>\n",
       "    <tr>\n",
       "      <th>2</th>\n",
       "      <td>Sodales Limited</td>\n",
       "      <td>-9654.404131</td>\n",
       "    </tr>\n",
       "    <tr>\n",
       "      <th>3</th>\n",
       "      <td>Nulla At Sem Limited</td>\n",
       "      <td>-1190.513249</td>\n",
       "    </tr>\n",
       "    <tr>\n",
       "      <th>4</th>\n",
       "      <td>Elementum Dui Associates</td>\n",
       "      <td>3655.709452</td>\n",
       "    </tr>\n",
       "    <tr>\n",
       "      <th>...</th>\n",
       "      <td>...</td>\n",
       "      <td>...</td>\n",
       "    </tr>\n",
       "    <tr>\n",
       "      <th>3888</th>\n",
       "      <td>Velit Eu Sem Inc.</td>\n",
       "      <td>-3561.526668</td>\n",
       "    </tr>\n",
       "    <tr>\n",
       "      <th>3889</th>\n",
       "      <td>Non Hendrerit Id LLP</td>\n",
       "      <td>-2104.214513</td>\n",
       "    </tr>\n",
       "    <tr>\n",
       "      <th>3890</th>\n",
       "      <td>Magna Nam Ltd</td>\n",
       "      <td>-45967.775801</td>\n",
       "    </tr>\n",
       "    <tr>\n",
       "      <th>3891</th>\n",
       "      <td>Nunc In Industries</td>\n",
       "      <td>-3715.232700</td>\n",
       "    </tr>\n",
       "    <tr>\n",
       "      <th>3892</th>\n",
       "      <td>Dapibus Inc.</td>\n",
       "      <td>-3604.856376</td>\n",
       "    </tr>\n",
       "  </tbody>\n",
       "</table>\n",
       "<p>3893 rows × 2 columns</p>\n",
       "</div>"
      ],
      "text/plain": [
       "                            merchant_name    increasing\n",
       "0                            Eros Non LLP   -980.083702\n",
       "1     Tortor Integer Aliquam Incorporated   -349.353864\n",
       "2                         Sodales Limited  -9654.404131\n",
       "3                    Nulla At Sem Limited  -1190.513249\n",
       "4                Elementum Dui Associates   3655.709452\n",
       "...                                   ...           ...\n",
       "3888                    Velit Eu Sem Inc.  -3561.526668\n",
       "3889                 Non Hendrerit Id LLP  -2104.214513\n",
       "3890                        Magna Nam Ltd -45967.775801\n",
       "3891                   Nunc In Industries  -3715.232700\n",
       "3892                         Dapibus Inc.  -3604.856376\n",
       "\n",
       "[3893 rows x 2 columns]"
      ]
     },
     "execution_count": 9,
     "metadata": {},
     "output_type": "execute_result"
    }
   ],
   "source": [
    "result = pd.DataFrame(revenue_increasing, columns=[\"merchant_name\", \"increasing\"])\n",
    "result"
   ]
  },
  {
   "cell_type": "code",
   "execution_count": 11,
   "metadata": {},
   "outputs": [
    {
     "name": "stdout",
     "output_type": "stream",
     "text": [
      "22/10/06 08:14:03 WARN HeartbeatReceiver: Removing executor driver with no recent heartbeats: 999751 ms exceeds timeout 120000 ms\n",
      "22/10/06 08:14:03 WARN SparkContext: Killing executors is not supported by current scheduler.\n"
     ]
    }
   ],
   "source": [
    "result.to_csv(\"../data/curated/increasing.csv\", index = False)"
   ]
  }
 ],
 "metadata": {
  "kernelspec": {
   "display_name": "Python 3.8.9 64-bit",
   "language": "python",
   "name": "python3"
  },
  "language_info": {
   "codemirror_mode": {
    "name": "ipython",
    "version": 3
   },
   "file_extension": ".py",
   "mimetype": "text/x-python",
   "name": "python",
   "nbconvert_exporter": "python",
   "pygments_lexer": "ipython3",
   "version": "3.8.9"
  },
  "orig_nbformat": 4,
  "vscode": {
   "interpreter": {
    "hash": "31f2aee4e71d21fbe5cf8b01ff0e069b9275f58929596ceb00d14d90e3e16cd6"
   }
  }
 },
 "nbformat": 4,
 "nbformat_minor": 2
}
