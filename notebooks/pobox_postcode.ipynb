{
 "cells": [
  {
   "cell_type": "code",
   "execution_count": 17,
   "metadata": {},
   "outputs": [],
   "source": [
    "import geopandas as gpd\n",
    "import pandas as pd\n",
    "import requests\n",
    "from lxml import html\n",
    "import os\n",
    "import csv"
   ]
  },
  {
   "cell_type": "code",
   "execution_count": 2,
   "metadata": {},
   "outputs": [],
   "source": [
    "postcode = list(gpd.read_file(\"../data/ABS/post_shapefile/POA_2021_AUST_GDA2020.shp\")[\"POA_CODE21\"])\n",
    "consumer = list(pd.read_csv(\"../data/tables/tbl_consumer.csv\", delimiter=\"|\")[\"postcode\"].unique())\n",
    "consumer = [str(i).rjust(4, '0') for i in consumer]"
   ]
  },
  {
   "cell_type": "code",
   "execution_count": 43,
   "metadata": {},
   "outputs": [
    {
     "data": {
      "text/plain": [
       "527"
      ]
     },
     "execution_count": 43,
     "metadata": {},
     "output_type": "execute_result"
    }
   ],
   "source": [
    "to_do = [i for i in consumer if i not in postcode]\n",
    "len(to_do)"
   ]
  },
  {
   "cell_type": "code",
   "execution_count": 80,
   "metadata": {},
   "outputs": [],
   "source": [
    "def get_suburb(pobox: str):\n",
    "    r = requests.get(f\"https://auspost.com.au/postcode/{pobox}\")\n",
    "    tree = html.fromstring(r.content)\n",
    "    suburb = tree.xpath('//td[@class=\"second\"]//a[@class=\"result_1\"]/text()')\n",
    "    return suburb[0]\n",
    "\n",
    "def get_post(pobox: str,\n",
    "             sub: str):\n",
    "    r = requests.get(f\"https://auspost.com.au/postcode/{sub.split(', ')[0].lower()}\")\n",
    "    tree = html.fromstring(r.content)\n",
    "    postcode = tree.xpath('//td[@class=\"first\"]//a/text()')\n",
    "    suburb = tree.xpath('//td[@class=\"second\"]//a/text()')\n",
    "    type = tree.xpath('//td[@class=\"third\"]/text()')\n",
    "    cur = []\n",
    "    for i in range(len(postcode)):\n",
    "        if suburb[i] == sub and postcode[i] != pobox and type[i] != \"Post Office Boxes\":\n",
    "            cur += [postcode[i]]\n",
    "    return cur\n",
    "\n",
    "out = [['pobox', 'postcode']]\n",
    "for i in to_do:\n",
    "    try:\n",
    "        sub = get_suburb(i)\n",
    "        match = get_post(i, sub)\n",
    "        # use closest suburb by name if no other postcodes are found\n",
    "        # e.g. perth bc (business centre), wa -> perth, wa\n",
    "        # e.g. kent town dc, sa -> kent town, sa\n",
    "        # e.g. brisbane, qld -> brisbane city, qld\n",
    "        if not match and \", \" in sub:\n",
    "            cur_sub = f\"{' '.join(sub.split()[:-2])}, {sub.split()[-1]}\"\n",
    "            match = get_post(i, cur_sub)\n",
    "        # the rest are mostly universitiy or shopping centre po boxes and will be discarded\n",
    "        if match:\n",
    "            out += [[i] + match]\n",
    "    except Exception as e:\n",
    "        # large volume receivers have been discontinued so these will be treated as outliers and skipped\n",
    "        pass"
   ]
  },
  {
   "cell_type": "code",
   "execution_count": 82,
   "metadata": {},
   "outputs": [],
   "source": [
    "os.makedirs(\"../data/meta/\", exist_ok=True)\n",
    "with open(\"../data/meta/pobox.csv\", \"w\") as f:\n",
    "    csv.writer(f).writerows(out)"
   ]
  }
 ],
 "metadata": {
  "kernelspec": {
   "display_name": "Python 3.9.12 ('base')",
   "language": "python",
   "name": "python3"
  },
  "language_info": {
   "codemirror_mode": {
    "name": "ipython",
    "version": 3
   },
   "file_extension": ".py",
   "mimetype": "text/x-python",
   "name": "python",
   "nbconvert_exporter": "python",
   "pygments_lexer": "ipython3",
   "version": "3.9.12"
  },
  "orig_nbformat": 4,
  "vscode": {
   "interpreter": {
    "hash": "d2d7e6728612c8fd54cbd36f1913daefb7c7ed6b16dd726696ef300fa27e75d7"
   }
  }
 },
 "nbformat": 4,
 "nbformat_minor": 2
}
