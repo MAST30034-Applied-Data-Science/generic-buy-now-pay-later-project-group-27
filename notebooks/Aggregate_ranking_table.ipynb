{
 "cells": [
  {
   "cell_type": "code",
   "execution_count": 243,
   "metadata": {},
   "outputs": [],
   "source": [
    "from pyspark.sql import SparkSession, functions as F\n",
    "from pyspark.sql.functions import *\n",
    "from pyspark.ml.feature import MinMaxScaler\n",
    "from pyspark.ml.feature import StandardScaler\n",
    "from pyspark.sql.window import Window\n",
    "from pyspark.sql.functions import percent_rank\n",
    "from pyspark.ml.functions import vector_to_array\n",
    "from pyspark.ml.feature import VectorAssembler\n",
    "import numpy as np\n",
    "\n",
    "\n",
    "spark = (\n",
    "    SparkSession.builder.appName(\"ADS project 2\")\n",
    "    .config(\"spark.sql.repl.eagerEval.enabled\", True) \n",
    "    .config(\"spark.sql.parquet.cacheMetadata\", \"true\")\n",
    "    .config(\"spark.sql.session.timeZone\", \"Etc/UTC\")\n",
    "    .config(\"spark.executor.memory\", \"2g\")\n",
    "    .config(\"spark.driver.memory\", \"4g\")\n",
    "    .getOrCreate()\n",
    ")"
   ]
  },
  {
   "cell_type": "code",
   "execution_count": 244,
   "metadata": {},
   "outputs": [
    {
     "name": "stderr",
     "output_type": "stream",
     "text": [
      "                                                                                \r"
     ]
    }
   ],
   "source": [
    "df_old = spark.read.parquet('../data/curated/merchant_consumer_abs')"
   ]
  },
  {
   "cell_type": "code",
   "execution_count": 245,
   "metadata": {},
   "outputs": [
    {
     "name": "stderr",
     "output_type": "stream",
     "text": [
      "                                                                                \r"
     ]
    },
    {
     "data": {
      "text/html": [
       "<table border='1'>\n",
       "<tr><th>postcode</th><th>total_earners</th><th>median_age</th><th>income_sum</th><th>2021_population</th><th>km2</th><th>income_mean</th><th>persons/km2</th><th>merchant_name</th><th>revenue_level</th><th>user_id</th><th>order_datetime</th><th>products</th><th>take_rate</th><th>tag</th><th>category</th><th>dollar_value</th><th>order_year</th><th>order_month</th><th>order_day</th><th>consumer</th><th>consumer_address</th><th>consumer_state</th><th>consumer_postcode</th><th>consumer_gender</th><th>fraud_group</th><th>__index_level_0__</th></tr>\n",
       "<tr><td>0800</td><td>5631.999973601934</td><td>36.75</td><td>4.20609029345557E8</td><td>7678.999968193022</td><td>3.199999994700948</td><td>74682.00129918633</td><td>2399.687494034091</td><td>Elit Sed Consequa...</td><td>a</td><td>10413</td><td>2022-04-27</td><td>artist supply and...</td><td>5.89</td><td>artist supply craft</td><td>art and gifts</td><td>375.16773164703153</td><td>2022</td><td>4</td><td>27</td><td>Kelly Clayton</td><td>4211 Rodney Tunne...</td><td>NT</td><td>0800</td><td>Female</td><td>0</td><td>0</td></tr>\n",
       "<tr><td>0800</td><td>5631.999973601934</td><td>36.75</td><td>4.20609029345557E8</td><td>7678.999968193022</td><td>3.199999994700948</td><td>74682.00129918633</td><td>2399.687494034091</td><td>Elit Sed Consequa...</td><td>a</td><td>22246</td><td>2022-10-07</td><td>artist supply and...</td><td>5.89</td><td>artist supply craft</td><td>art and gifts</td><td>617.8791313462011</td><td>2022</td><td>10</td><td>7</td><td>Corey Estrada</td><td>1703 Boyd Shore</td><td>NT</td><td>0800</td><td>Male</td><td>0</td><td>1</td></tr>\n",
       "<tr><td>0800</td><td>5631.999973601934</td><td>36.75</td><td>4.20609029345557E8</td><td>7678.999968193022</td><td>3.199999994700948</td><td>74682.00129918633</td><td>2399.687494034091</td><td>Elit Sed Consequa...</td><td>a</td><td>2681</td><td>2022-02-28</td><td>artist supply and...</td><td>5.89</td><td>artist supply craft</td><td>art and gifts</td><td>766.5077067424303</td><td>2022</td><td>2</td><td>28</td><td>Nicole Bishop</td><td>467 Robert Island...</td><td>NT</td><td>0800</td><td>Female</td><td>0</td><td>2</td></tr>\n",
       "<tr><td>0800</td><td>5631.999973601934</td><td>36.75</td><td>4.20609029345557E8</td><td>7678.999968193022</td><td>3.199999994700948</td><td>74682.00129918633</td><td>2399.687494034091</td><td>Malesuada Vel Ltd</td><td>b</td><td>13454</td><td>2021-07-24</td><td>books periodicals...</td><td>3.56</td><td>books periodicals...</td><td>books and music</td><td>258.86595899218753</td><td>2021</td><td>7</td><td>24</td><td>Natalie Herrera</td><td>88798 Saunders Hi...</td><td>NT</td><td>0800</td><td>Female</td><td>0</td><td>3</td></tr>\n",
       "<tr><td>0800</td><td>5631.999973601934</td><td>36.75</td><td>4.20609029345557E8</td><td>7678.999968193022</td><td>3.199999994700948</td><td>74682.00129918633</td><td>2399.687494034091</td><td>Varius Orci Insti...</td><td>a</td><td>10146</td><td>2021-08-08</td><td>tent and awning s...</td><td>6.3</td><td>tent awning</td><td>outdoors</td><td>4.159037931172075</td><td>2021</td><td>8</td><td>8</td><td>Shannon Mann</td><td>00817 Owens Circle</td><td>NT</td><td>0800</td><td>Female</td><td>0</td><td>4</td></tr>\n",
       "<tr><td>0800</td><td>5631.999973601934</td><td>36.75</td><td>4.20609029345557E8</td><td>7678.999968193022</td><td>3.199999994700948</td><td>74682.00129918633</td><td>2399.687494034091</td><td>Volutpat Nulla In...</td><td>a</td><td>23093</td><td>2022-10-11</td><td>furniture home fu...</td><td>6.59</td><td>furniture home fu...</td><td>home and technology</td><td>8.26105405068297</td><td>2022</td><td>10</td><td>11</td><td>Robert Walker</td><td>646 Allison Ranch...</td><td>NT</td><td>0800</td><td>Male</td><td>0</td><td>5</td></tr>\n",
       "<tr><td>0800</td><td>5631.999973601934</td><td>36.75</td><td>4.20609029345557E8</td><td>7678.999968193022</td><td>3.199999994700948</td><td>74682.00129918633</td><td>2399.687494034091</td><td>Mollis Integer Co...</td><td>b</td><td>13454</td><td>2022-05-02</td><td>digital goods boo...</td><td>3.96</td><td>digital goods boo...</td><td>books and music</td><td>83.63154755239155</td><td>2022</td><td>5</td><td>2</td><td>Natalie Herrera</td><td>88798 Saunders Hi...</td><td>NT</td><td>0800</td><td>Female</td><td>0</td><td>6</td></tr>\n",
       "<tr><td>0800</td><td>5631.999973601934</td><td>36.75</td><td>4.20609029345557E8</td><td>7678.999968193022</td><td>3.199999994700948</td><td>74682.00129918633</td><td>2399.687494034091</td><td>Elit Sed Consequa...</td><td>a</td><td>13454</td><td>2021-04-08</td><td>artist supply and...</td><td>5.89</td><td>artist supply craft</td><td>art and gifts</td><td>87.00495112586256</td><td>2021</td><td>4</td><td>8</td><td>Natalie Herrera</td><td>88798 Saunders Hi...</td><td>NT</td><td>0800</td><td>Female</td><td>0</td><td>7</td></tr>\n",
       "<tr><td>0800</td><td>5631.999973601934</td><td>36.75</td><td>4.20609029345557E8</td><td>7678.999968193022</td><td>3.199999994700948</td><td>74682.00129918633</td><td>2399.687494034091</td><td>Eros Limited</td><td>c</td><td>8092</td><td>2021-12-18</td><td>digital goods boo...</td><td>2.52</td><td>digital goods boo...</td><td>books and music</td><td>8.26187754879106</td><td>2021</td><td>12</td><td>18</td><td>Rebecca Owens</td><td>92579 Keith Neck ...</td><td>NT</td><td>0800</td><td>Female</td><td>0</td><td>8</td></tr>\n",
       "<tr><td>0800</td><td>5631.999973601934</td><td>36.75</td><td>4.20609029345557E8</td><td>7678.999968193022</td><td>3.199999994700948</td><td>74682.00129918633</td><td>2399.687494034091</td><td>Hendrerit A Corpo...</td><td>a</td><td>11203</td><td>2022-07-14</td><td>watch clock and j...</td><td>6.64</td><td>watch clock jewel...</td><td>fashion and acces...</td><td>100.80643267043831</td><td>2022</td><td>7</td><td>14</td><td>John Rodriguez</td><td>563 Wallace Rue</td><td>NT</td><td>0800</td><td>Male</td><td>0</td><td>9</td></tr>\n",
       "<tr><td>0800</td><td>5631.999973601934</td><td>36.75</td><td>4.20609029345557E8</td><td>7678.999968193022</td><td>3.199999994700948</td><td>74682.00129918633</td><td>2399.687494034091</td><td>Pede Cras Vulputa...</td><td>a</td><td>22246</td><td>2021-07-18</td><td>health and beauty...</td><td>6.2</td><td>health beauty spas</td><td>fashion and acces...</td><td>326.46199407890373</td><td>2021</td><td>7</td><td>18</td><td>Corey Estrada</td><td>1703 Boyd Shore</td><td>NT</td><td>0800</td><td>Male</td><td>0</td><td>10</td></tr>\n",
       "<tr><td>0800</td><td>5631.999973601934</td><td>36.75</td><td>4.20609029345557E8</td><td>7678.999968193022</td><td>3.199999994700948</td><td>74682.00129918633</td><td>2399.687494034091</td><td>Hendrerit A Corpo...</td><td>a</td><td>12972</td><td>2021-08-16</td><td>watch clock and j...</td><td>6.64</td><td>watch clock jewel...</td><td>fashion and acces...</td><td>204.40538957685413</td><td>2021</td><td>8</td><td>16</td><td>Peter Brennan</td><td>13276 Vazquez Rap...</td><td>NT</td><td>0800</td><td>Undisclosed</td><td>0</td><td>11</td></tr>\n",
       "<tr><td>0800</td><td>5631.999973601934</td><td>36.75</td><td>4.20609029345557E8</td><td>7678.999968193022</td><td>3.199999994700948</td><td>74682.00129918633</td><td>2399.687494034091</td><td>Eros Limited</td><td>c</td><td>8092</td><td>2021-12-13</td><td>digital goods boo...</td><td>2.52</td><td>digital goods boo...</td><td>books and music</td><td>37.1880940325229</td><td>2021</td><td>12</td><td>13</td><td>Rebecca Owens</td><td>92579 Keith Neck ...</td><td>NT</td><td>0800</td><td>Female</td><td>0</td><td>12</td></tr>\n",
       "<tr><td>0800</td><td>5631.999973601934</td><td>36.75</td><td>4.20609029345557E8</td><td>7678.999968193022</td><td>3.199999994700948</td><td>74682.00129918633</td><td>2399.687494034091</td><td>Eros Limited</td><td>c</td><td>10146</td><td>2022-10-10</td><td>digital goods boo...</td><td>2.52</td><td>digital goods boo...</td><td>books and music</td><td>5.247567221175345</td><td>2022</td><td>10</td><td>10</td><td>Shannon Mann</td><td>00817 Owens Circle</td><td>NT</td><td>0800</td><td>Female</td><td>0</td><td>13</td></tr>\n",
       "<tr><td>0800</td><td>5631.999973601934</td><td>36.75</td><td>4.20609029345557E8</td><td>7678.999968193022</td><td>3.199999994700948</td><td>74682.00129918633</td><td>2399.687494034091</td><td>Eros Limited</td><td>c</td><td>12972</td><td>2021-06-14</td><td>digital goods boo...</td><td>2.52</td><td>digital goods boo...</td><td>books and music</td><td>31.204086659483615</td><td>2021</td><td>6</td><td>14</td><td>Peter Brennan</td><td>13276 Vazquez Rap...</td><td>NT</td><td>0800</td><td>Undisclosed</td><td>0</td><td>14</td></tr>\n",
       "<tr><td>0800</td><td>5631.999973601934</td><td>36.75</td><td>4.20609029345557E8</td><td>7678.999968193022</td><td>3.199999994700948</td><td>74682.00129918633</td><td>2399.687494034091</td><td>Eros Limited</td><td>c</td><td>10413</td><td>2021-11-27</td><td>digital goods boo...</td><td>2.52</td><td>digital goods boo...</td><td>books and music</td><td>12.918096138910116</td><td>2021</td><td>11</td><td>27</td><td>Kelly Clayton</td><td>4211 Rodney Tunne...</td><td>NT</td><td>0800</td><td>Female</td><td>0</td><td>15</td></tr>\n",
       "<tr><td>0800</td><td>5631.999973601934</td><td>36.75</td><td>4.20609029345557E8</td><td>7678.999968193022</td><td>3.199999994700948</td><td>74682.00129918633</td><td>2399.687494034091</td><td>Hendrerit A Corpo...</td><td>a</td><td>2681</td><td>2022-05-19</td><td>watch clock and j...</td><td>6.64</td><td>watch clock jewel...</td><td>fashion and acces...</td><td>276.12651679041534</td><td>2022</td><td>5</td><td>19</td><td>Nicole Bishop</td><td>467 Robert Island...</td><td>NT</td><td>0800</td><td>Female</td><td>0</td><td>16</td></tr>\n",
       "<tr><td>0800</td><td>5631.999973601934</td><td>36.75</td><td>4.20609029345557E8</td><td>7678.999968193022</td><td>3.199999994700948</td><td>74682.00129918633</td><td>2399.687494034091</td><td>Hendrerit A Corpo...</td><td>a</td><td>12972</td><td>2022-03-29</td><td>watch clock and j...</td><td>6.64</td><td>watch clock jewel...</td><td>fashion and acces...</td><td>169.4756116760845</td><td>2022</td><td>3</td><td>29</td><td>Peter Brennan</td><td>13276 Vazquez Rap...</td><td>NT</td><td>0800</td><td>Undisclosed</td><td>0</td><td>17</td></tr>\n",
       "<tr><td>0800</td><td>5631.999973601934</td><td>36.75</td><td>4.20609029345557E8</td><td>7678.999968193022</td><td>3.199999994700948</td><td>74682.00129918633</td><td>2399.687494034091</td><td>Pede Cras Vulputa...</td><td>a</td><td>2681</td><td>2021-06-29</td><td>health and beauty...</td><td>6.2</td><td>health beauty spas</td><td>fashion and acces...</td><td>400.61345601101743</td><td>2021</td><td>6</td><td>29</td><td>Nicole Bishop</td><td>467 Robert Island...</td><td>NT</td><td>0800</td><td>Female</td><td>0</td><td>18</td></tr>\n",
       "<tr><td>0800</td><td>5631.999973601934</td><td>36.75</td><td>4.20609029345557E8</td><td>7678.999968193022</td><td>3.199999994700948</td><td>74682.00129918633</td><td>2399.687494034091</td><td>Pede Cras Vulputa...</td><td>a</td><td>4597</td><td>2021-04-03</td><td>health and beauty...</td><td>6.2</td><td>health beauty spas</td><td>fashion and acces...</td><td>444.1022321713573</td><td>2021</td><td>4</td><td>3</td><td>Andre Chandler</td><td>5546 Joseph Plain...</td><td>NT</td><td>0800</td><td>Male</td><td>0</td><td>19</td></tr>\n",
       "</table>\n",
       "only showing top 20 rows\n"
      ],
      "text/plain": [
       "+--------+-----------------+----------+------------------+-----------------+-----------------+-----------------+-----------------+--------------------+-------------+-------+--------------+--------------------+---------+--------------------+--------------------+------------------+----------+-----------+---------+---------------+--------------------+--------------+-----------------+---------------+-----------+-----------------+\n",
       "|postcode|    total_earners|median_age|        income_sum|  2021_population|              km2|      income_mean|      persons/km2|       merchant_name|revenue_level|user_id|order_datetime|            products|take_rate|                 tag|            category|      dollar_value|order_year|order_month|order_day|       consumer|    consumer_address|consumer_state|consumer_postcode|consumer_gender|fraud_group|__index_level_0__|\n",
       "+--------+-----------------+----------+------------------+-----------------+-----------------+-----------------+-----------------+--------------------+-------------+-------+--------------+--------------------+---------+--------------------+--------------------+------------------+----------+-----------+---------+---------------+--------------------+--------------+-----------------+---------------+-----------+-----------------+\n",
       "|    0800|5631.999973601934|     36.75|4.20609029345557E8|7678.999968193022|3.199999994700948|74682.00129918633|2399.687494034091|Elit Sed Consequa...|            a|  10413|    2022-04-27|artist supply and...|     5.89| artist supply craft|       art and gifts|375.16773164703153|      2022|          4|       27|  Kelly Clayton|4211 Rodney Tunne...|            NT|             0800|         Female|          0|                0|\n",
       "|    0800|5631.999973601934|     36.75|4.20609029345557E8|7678.999968193022|3.199999994700948|74682.00129918633|2399.687494034091|Elit Sed Consequa...|            a|  22246|    2022-10-07|artist supply and...|     5.89| artist supply craft|       art and gifts| 617.8791313462011|      2022|         10|        7|  Corey Estrada|     1703 Boyd Shore|            NT|             0800|           Male|          0|                1|\n",
       "|    0800|5631.999973601934|     36.75|4.20609029345557E8|7678.999968193022|3.199999994700948|74682.00129918633|2399.687494034091|Elit Sed Consequa...|            a|   2681|    2022-02-28|artist supply and...|     5.89| artist supply craft|       art and gifts| 766.5077067424303|      2022|          2|       28|  Nicole Bishop|467 Robert Island...|            NT|             0800|         Female|          0|                2|\n",
       "|    0800|5631.999973601934|     36.75|4.20609029345557E8|7678.999968193022|3.199999994700948|74682.00129918633|2399.687494034091|   Malesuada Vel Ltd|            b|  13454|    2021-07-24|books periodicals...|     3.56|books periodicals...|     books and music|258.86595899218753|      2021|          7|       24|Natalie Herrera|88798 Saunders Hi...|            NT|             0800|         Female|          0|                3|\n",
       "|    0800|5631.999973601934|     36.75|4.20609029345557E8|7678.999968193022|3.199999994700948|74682.00129918633|2399.687494034091|Varius Orci Insti...|            a|  10146|    2021-08-08|tent and awning s...|      6.3|         tent awning|            outdoors| 4.159037931172075|      2021|          8|        8|   Shannon Mann|  00817 Owens Circle|            NT|             0800|         Female|          0|                4|\n",
       "|    0800|5631.999973601934|     36.75|4.20609029345557E8|7678.999968193022|3.199999994700948|74682.00129918633|2399.687494034091|Volutpat Nulla In...|            a|  23093|    2022-10-11|furniture home fu...|     6.59|furniture home fu...| home and technology|  8.26105405068297|      2022|         10|       11|  Robert Walker|646 Allison Ranch...|            NT|             0800|           Male|          0|                5|\n",
       "|    0800|5631.999973601934|     36.75|4.20609029345557E8|7678.999968193022|3.199999994700948|74682.00129918633|2399.687494034091|Mollis Integer Co...|            b|  13454|    2022-05-02|digital goods boo...|     3.96|digital goods boo...|     books and music| 83.63154755239155|      2022|          5|        2|Natalie Herrera|88798 Saunders Hi...|            NT|             0800|         Female|          0|                6|\n",
       "|    0800|5631.999973601934|     36.75|4.20609029345557E8|7678.999968193022|3.199999994700948|74682.00129918633|2399.687494034091|Elit Sed Consequa...|            a|  13454|    2021-04-08|artist supply and...|     5.89| artist supply craft|       art and gifts| 87.00495112586256|      2021|          4|        8|Natalie Herrera|88798 Saunders Hi...|            NT|             0800|         Female|          0|                7|\n",
       "|    0800|5631.999973601934|     36.75|4.20609029345557E8|7678.999968193022|3.199999994700948|74682.00129918633|2399.687494034091|        Eros Limited|            c|   8092|    2021-12-18|digital goods boo...|     2.52|digital goods boo...|     books and music|  8.26187754879106|      2021|         12|       18|  Rebecca Owens|92579 Keith Neck ...|            NT|             0800|         Female|          0|                8|\n",
       "|    0800|5631.999973601934|     36.75|4.20609029345557E8|7678.999968193022|3.199999994700948|74682.00129918633|2399.687494034091|Hendrerit A Corpo...|            a|  11203|    2022-07-14|watch clock and j...|     6.64|watch clock jewel...|fashion and acces...|100.80643267043831|      2022|          7|       14| John Rodriguez|     563 Wallace Rue|            NT|             0800|           Male|          0|                9|\n",
       "|    0800|5631.999973601934|     36.75|4.20609029345557E8|7678.999968193022|3.199999994700948|74682.00129918633|2399.687494034091|Pede Cras Vulputa...|            a|  22246|    2021-07-18|health and beauty...|      6.2|  health beauty spas|fashion and acces...|326.46199407890373|      2021|          7|       18|  Corey Estrada|     1703 Boyd Shore|            NT|             0800|           Male|          0|               10|\n",
       "|    0800|5631.999973601934|     36.75|4.20609029345557E8|7678.999968193022|3.199999994700948|74682.00129918633|2399.687494034091|Hendrerit A Corpo...|            a|  12972|    2021-08-16|watch clock and j...|     6.64|watch clock jewel...|fashion and acces...|204.40538957685413|      2021|          8|       16|  Peter Brennan|13276 Vazquez Rap...|            NT|             0800|    Undisclosed|          0|               11|\n",
       "|    0800|5631.999973601934|     36.75|4.20609029345557E8|7678.999968193022|3.199999994700948|74682.00129918633|2399.687494034091|        Eros Limited|            c|   8092|    2021-12-13|digital goods boo...|     2.52|digital goods boo...|     books and music|  37.1880940325229|      2021|         12|       13|  Rebecca Owens|92579 Keith Neck ...|            NT|             0800|         Female|          0|               12|\n",
       "|    0800|5631.999973601934|     36.75|4.20609029345557E8|7678.999968193022|3.199999994700948|74682.00129918633|2399.687494034091|        Eros Limited|            c|  10146|    2022-10-10|digital goods boo...|     2.52|digital goods boo...|     books and music| 5.247567221175345|      2022|         10|       10|   Shannon Mann|  00817 Owens Circle|            NT|             0800|         Female|          0|               13|\n",
       "|    0800|5631.999973601934|     36.75|4.20609029345557E8|7678.999968193022|3.199999994700948|74682.00129918633|2399.687494034091|        Eros Limited|            c|  12972|    2021-06-14|digital goods boo...|     2.52|digital goods boo...|     books and music|31.204086659483615|      2021|          6|       14|  Peter Brennan|13276 Vazquez Rap...|            NT|             0800|    Undisclosed|          0|               14|\n",
       "|    0800|5631.999973601934|     36.75|4.20609029345557E8|7678.999968193022|3.199999994700948|74682.00129918633|2399.687494034091|        Eros Limited|            c|  10413|    2021-11-27|digital goods boo...|     2.52|digital goods boo...|     books and music|12.918096138910116|      2021|         11|       27|  Kelly Clayton|4211 Rodney Tunne...|            NT|             0800|         Female|          0|               15|\n",
       "|    0800|5631.999973601934|     36.75|4.20609029345557E8|7678.999968193022|3.199999994700948|74682.00129918633|2399.687494034091|Hendrerit A Corpo...|            a|   2681|    2022-05-19|watch clock and j...|     6.64|watch clock jewel...|fashion and acces...|276.12651679041534|      2022|          5|       19|  Nicole Bishop|467 Robert Island...|            NT|             0800|         Female|          0|               16|\n",
       "|    0800|5631.999973601934|     36.75|4.20609029345557E8|7678.999968193022|3.199999994700948|74682.00129918633|2399.687494034091|Hendrerit A Corpo...|            a|  12972|    2022-03-29|watch clock and j...|     6.64|watch clock jewel...|fashion and acces...| 169.4756116760845|      2022|          3|       29|  Peter Brennan|13276 Vazquez Rap...|            NT|             0800|    Undisclosed|          0|               17|\n",
       "|    0800|5631.999973601934|     36.75|4.20609029345557E8|7678.999968193022|3.199999994700948|74682.00129918633|2399.687494034091|Pede Cras Vulputa...|            a|   2681|    2021-06-29|health and beauty...|      6.2|  health beauty spas|fashion and acces...|400.61345601101743|      2021|          6|       29|  Nicole Bishop|467 Robert Island...|            NT|             0800|         Female|          0|               18|\n",
       "|    0800|5631.999973601934|     36.75|4.20609029345557E8|7678.999968193022|3.199999994700948|74682.00129918633|2399.687494034091|Pede Cras Vulputa...|            a|   4597|    2021-04-03|health and beauty...|      6.2|  health beauty spas|fashion and acces...| 444.1022321713573|      2021|          4|        3| Andre Chandler|5546 Joseph Plain...|            NT|             0800|           Male|          0|               19|\n",
       "+--------+-----------------+----------+------------------+-----------------+-----------------+-----------------+-----------------+--------------------+-------------+-------+--------------+--------------------+---------+--------------------+--------------------+------------------+----------+-----------+---------+---------------+--------------------+--------------+-----------------+---------------+-----------+-----------------+\n",
       "only showing top 20 rows"
      ]
     },
     "execution_count": 245,
     "metadata": {},
     "output_type": "execute_result"
    }
   ],
   "source": [
    "df_old"
   ]
  },
  {
   "cell_type": "code",
   "execution_count": 246,
   "metadata": {},
   "outputs": [
    {
     "data": {
      "text/plain": [
       "11920453"
      ]
     },
     "execution_count": 246,
     "metadata": {},
     "output_type": "execute_result"
    }
   ],
   "source": [
    "df_old.select(F.col(\"fraud_group\") == 2).count()"
   ]
  },
  {
   "cell_type": "markdown",
   "metadata": {},
   "source": [
    "## 1. Calculate the fraud score for each merchants"
   ]
  },
  {
   "cell_type": "code",
   "execution_count": 247,
   "metadata": {},
   "outputs": [],
   "source": [
    "# The highest possible mean value of fraud is 2\n",
    "# Therefore we divide the mean value by two to keep it within [-1, 1]\n",
    "df_fraud = df_old.groupBy([\"merchant_name\"]).agg((1-(mean(\"fraud_group\")/2)).alias(\"fraud_score\"))"
   ]
  },
  {
   "cell_type": "code",
   "execution_count": 248,
   "metadata": {},
   "outputs": [
    {
     "name": "stdout",
     "output_type": "stream",
     "text": [
      "root\n",
      " |-- merchant_name: string (nullable = true)\n",
      " |-- fraud_score: double (nullable = true)\n",
      "\n"
     ]
    }
   ],
   "source": [
    "df_fraud.printSchema()"
   ]
  },
  {
   "cell_type": "code",
   "execution_count": 249,
   "metadata": {},
   "outputs": [
    {
     "name": "stderr",
     "output_type": "stream",
     "text": [
      "                                                                                \r"
     ]
    },
    {
     "data": {
      "text/html": [
       "<table border='1'>\n",
       "<tr><th>merchant_name</th><th>fraud_score</th></tr>\n",
       "<tr><td>Nulla Ltd</td><td>0.5</td></tr>\n",
       "<tr><td>Mauris Ipsum Port...</td><td>0.5</td></tr>\n",
       "<tr><td>At Lacus LLP</td><td>0.75</td></tr>\n",
       "<tr><td>Eu Accumsan Sed I...</td><td>0.875</td></tr>\n",
       "<tr><td>Augue Limited</td><td>0.875</td></tr>\n",
       "<tr><td>Sem Magna Nec Ind...</td><td>0.9</td></tr>\n",
       "<tr><td>Velit Cras Lorem ...</td><td>0.9117647058823529</td></tr>\n",
       "<tr><td>Ut Ipsum Incorpor...</td><td>0.9210526315789473</td></tr>\n",
       "<tr><td>Faucibus Leo Corp.</td><td>0.9444444444444444</td></tr>\n",
       "<tr><td>In Mi PC</td><td>0.9444444444444444</td></tr>\n",
       "<tr><td>Nec Imperdiet Com...</td><td>0.9444444444444444</td></tr>\n",
       "<tr><td>Malesuada Fames L...</td><td>0.9444444444444444</td></tr>\n",
       "<tr><td>Ipsum LLC</td><td>0.9444444444444444</td></tr>\n",
       "<tr><td>Elementum At Ltd</td><td>0.9444444444444444</td></tr>\n",
       "<tr><td>Ut Nisi A Corp.</td><td>0.9464285714285714</td></tr>\n",
       "<tr><td>Risus Donec Corp.</td><td>0.95</td></tr>\n",
       "<tr><td>Fusce Incorporated</td><td>0.9516129032258065</td></tr>\n",
       "<tr><td>Ut Dolor Corporation</td><td>0.953125</td></tr>\n",
       "<tr><td>Ipsum Non Industries</td><td>0.9545454545454546</td></tr>\n",
       "<tr><td>Pede Praesent Cor...</td><td>0.9545454545454546</td></tr>\n",
       "</table>\n",
       "only showing top 20 rows\n"
      ],
      "text/plain": [
       "+--------------------+------------------+\n",
       "|       merchant_name|       fraud_score|\n",
       "+--------------------+------------------+\n",
       "|           Nulla Ltd|               0.5|\n",
       "|Mauris Ipsum Port...|               0.5|\n",
       "|        At Lacus LLP|              0.75|\n",
       "|Eu Accumsan Sed I...|             0.875|\n",
       "|       Augue Limited|             0.875|\n",
       "|Sem Magna Nec Ind...|               0.9|\n",
       "|Velit Cras Lorem ...|0.9117647058823529|\n",
       "|Ut Ipsum Incorpor...|0.9210526315789473|\n",
       "|  Faucibus Leo Corp.|0.9444444444444444|\n",
       "|            In Mi PC|0.9444444444444444|\n",
       "|Nec Imperdiet Com...|0.9444444444444444|\n",
       "|Malesuada Fames L...|0.9444444444444444|\n",
       "|           Ipsum LLC|0.9444444444444444|\n",
       "|    Elementum At Ltd|0.9444444444444444|\n",
       "|     Ut Nisi A Corp.|0.9464285714285714|\n",
       "|   Risus Donec Corp.|              0.95|\n",
       "|  Fusce Incorporated|0.9516129032258065|\n",
       "|Ut Dolor Corporation|          0.953125|\n",
       "|Ipsum Non Industries|0.9545454545454546|\n",
       "|Pede Praesent Cor...|0.9545454545454546|\n",
       "+--------------------+------------------+\n",
       "only showing top 20 rows"
      ]
     },
     "execution_count": 249,
     "metadata": {},
     "output_type": "execute_result"
    }
   ],
   "source": [
    "df_fraud.orderBy(F.col(\"fraud_score\"))"
   ]
  },
  {
   "cell_type": "markdown",
   "metadata": {},
   "source": [
    "## 2. Calculate the revenue score\n"
   ]
  },
  {
   "cell_type": "code",
   "execution_count": 250,
   "metadata": {},
   "outputs": [
    {
     "ename": "AnalysisException",
     "evalue": "Path does not exist: file:/Users/dongmenghan/Desktop/2022 yr3 s2/ads/project 2/generic-buy-now-pay-later-project-group-27/data/meta/predictions.parquet",
     "output_type": "error",
     "traceback": [
      "\u001b[0;31m---------------------------------------------------------------------------\u001b[0m",
      "\u001b[0;31mAnalysisException\u001b[0m                         Traceback (most recent call last)",
      "\u001b[1;32m/Users/dongmenghan/Desktop/2022 yr3 s2/ads/project 2/generic-buy-now-pay-later-project-group-27/notebooks/Aggregate_ranking_table.ipynb Cell 10\u001b[0m in \u001b[0;36m<cell line: 1>\u001b[0;34m()\u001b[0m\n\u001b[0;32m----> <a href='vscode-notebook-cell:/Users/dongmenghan/Desktop/2022%20yr3%20s2/ads/project%202/generic-buy-now-pay-later-project-group-27/notebooks/Aggregate_ranking_table.ipynb#Y126sZmlsZQ%3D%3D?line=0'>1</a>\u001b[0m df_predict \u001b[39m=\u001b[39m spark\u001b[39m.\u001b[39;49mread\u001b[39m.\u001b[39;49mparquet(\u001b[39m\"\u001b[39;49m\u001b[39m../data/meta/predictions.parquet\u001b[39;49m\u001b[39m\"\u001b[39;49m)\n\u001b[1;32m      <a href='vscode-notebook-cell:/Users/dongmenghan/Desktop/2022%20yr3%20s2/ads/project%202/generic-buy-now-pay-later-project-group-27/notebooks/Aggregate_ranking_table.ipynb#Y126sZmlsZQ%3D%3D?line=1'>2</a>\u001b[0m df_info \u001b[39m=\u001b[39m spark\u001b[39m.\u001b[39mread\u001b[39m.\u001b[39mparquet(\u001b[39m'\u001b[39m\u001b[39m../data/meta/merchant_metadata.parquet\u001b[39m\u001b[39m'\u001b[39m)\n",
      "File \u001b[0;32m~/Library/Python/3.8/lib/python/site-packages/pyspark/sql/readwriter.py:364\u001b[0m, in \u001b[0;36mDataFrameReader.parquet\u001b[0;34m(self, *paths, **options)\u001b[0m\n\u001b[1;32m    353\u001b[0m int96RebaseMode \u001b[39m=\u001b[39m options\u001b[39m.\u001b[39mget(\u001b[39m\"\u001b[39m\u001b[39mint96RebaseMode\u001b[39m\u001b[39m\"\u001b[39m, \u001b[39mNone\u001b[39;00m)\n\u001b[1;32m    354\u001b[0m \u001b[39mself\u001b[39m\u001b[39m.\u001b[39m_set_opts(\n\u001b[1;32m    355\u001b[0m     mergeSchema\u001b[39m=\u001b[39mmergeSchema,\n\u001b[1;32m    356\u001b[0m     pathGlobFilter\u001b[39m=\u001b[39mpathGlobFilter,\n\u001b[0;32m   (...)\u001b[0m\n\u001b[1;32m    361\u001b[0m     int96RebaseMode\u001b[39m=\u001b[39mint96RebaseMode,\n\u001b[1;32m    362\u001b[0m )\n\u001b[0;32m--> 364\u001b[0m \u001b[39mreturn\u001b[39;00m \u001b[39mself\u001b[39m\u001b[39m.\u001b[39m_df(\u001b[39mself\u001b[39;49m\u001b[39m.\u001b[39;49m_jreader\u001b[39m.\u001b[39;49mparquet(_to_seq(\u001b[39mself\u001b[39;49m\u001b[39m.\u001b[39;49m_spark\u001b[39m.\u001b[39;49m_sc, paths)))\n",
      "File \u001b[0;32m~/Library/Python/3.8/lib/python/site-packages/py4j/java_gateway.py:1321\u001b[0m, in \u001b[0;36mJavaMember.__call__\u001b[0;34m(self, *args)\u001b[0m\n\u001b[1;32m   1315\u001b[0m command \u001b[39m=\u001b[39m proto\u001b[39m.\u001b[39mCALL_COMMAND_NAME \u001b[39m+\u001b[39m\\\n\u001b[1;32m   1316\u001b[0m     \u001b[39mself\u001b[39m\u001b[39m.\u001b[39mcommand_header \u001b[39m+\u001b[39m\\\n\u001b[1;32m   1317\u001b[0m     args_command \u001b[39m+\u001b[39m\\\n\u001b[1;32m   1318\u001b[0m     proto\u001b[39m.\u001b[39mEND_COMMAND_PART\n\u001b[1;32m   1320\u001b[0m answer \u001b[39m=\u001b[39m \u001b[39mself\u001b[39m\u001b[39m.\u001b[39mgateway_client\u001b[39m.\u001b[39msend_command(command)\n\u001b[0;32m-> 1321\u001b[0m return_value \u001b[39m=\u001b[39m get_return_value(\n\u001b[1;32m   1322\u001b[0m     answer, \u001b[39mself\u001b[39;49m\u001b[39m.\u001b[39;49mgateway_client, \u001b[39mself\u001b[39;49m\u001b[39m.\u001b[39;49mtarget_id, \u001b[39mself\u001b[39;49m\u001b[39m.\u001b[39;49mname)\n\u001b[1;32m   1324\u001b[0m \u001b[39mfor\u001b[39;00m temp_arg \u001b[39min\u001b[39;00m temp_args:\n\u001b[1;32m   1325\u001b[0m     temp_arg\u001b[39m.\u001b[39m_detach()\n",
      "File \u001b[0;32m~/Library/Python/3.8/lib/python/site-packages/pyspark/sql/utils.py:196\u001b[0m, in \u001b[0;36mcapture_sql_exception.<locals>.deco\u001b[0;34m(*a, **kw)\u001b[0m\n\u001b[1;32m    192\u001b[0m converted \u001b[39m=\u001b[39m convert_exception(e\u001b[39m.\u001b[39mjava_exception)\n\u001b[1;32m    193\u001b[0m \u001b[39mif\u001b[39;00m \u001b[39mnot\u001b[39;00m \u001b[39misinstance\u001b[39m(converted, UnknownException):\n\u001b[1;32m    194\u001b[0m     \u001b[39m# Hide where the exception came from that shows a non-Pythonic\u001b[39;00m\n\u001b[1;32m    195\u001b[0m     \u001b[39m# JVM exception message.\u001b[39;00m\n\u001b[0;32m--> 196\u001b[0m     \u001b[39mraise\u001b[39;00m converted \u001b[39mfrom\u001b[39;00m \u001b[39mNone\u001b[39m\n\u001b[1;32m    197\u001b[0m \u001b[39melse\u001b[39;00m:\n\u001b[1;32m    198\u001b[0m     \u001b[39mraise\u001b[39;00m\n",
      "\u001b[0;31mAnalysisException\u001b[0m: Path does not exist: file:/Users/dongmenghan/Desktop/2022 yr3 s2/ads/project 2/generic-buy-now-pay-later-project-group-27/data/meta/predictions.parquet"
     ]
    }
   ],
   "source": [
    "df_predict = spark.read.parquet(\"../data/meta/predictions.parquet\")\n",
    "df_info = spark.read.parquet('../data/meta/merchant_metadata.parquet')"
   ]
  },
  {
   "cell_type": "code",
   "execution_count": null,
   "metadata": {},
   "outputs": [],
   "source": [
    "df_category = (df_old.groupBy(\"merchant_name\", \"category\").agg(max(\"take_rate\").alias(\"take_rate\"))).withColumnRenamed(\"merchant_name\", \"key\")\n",
    "df_revenue  = df_predict.groupBy([\"merchant_name\"]).agg(sum(\"prediction\").alias(\"total_revenue\"))\n",
    "df_revenue = df_revenue.join(df_category, df_category.key ==  df_revenue.merchant_name,\"inner\").drop(\"key\")"
   ]
  },
  {
   "cell_type": "code",
   "execution_count": null,
   "metadata": {},
   "outputs": [
    {
     "name": "stderr",
     "output_type": "stream",
     "text": [
      "                                                                                \r"
     ]
    },
    {
     "data": {
      "text/html": [
       "<table border='1'>\n",
       "<tr><th>merchant_name</th><th>total_revenue</th><th>category</th><th>take_rate</th></tr>\n",
       "<tr><td>Aliquam Auctor Ve...</td><td>187581.1319837608</td><td>outdoors</td><td>3.09</td></tr>\n",
       "<tr><td>Accumsan Convalli...</td><td>1821808.2016016326</td><td>books and music</td><td>6.09</td></tr>\n",
       "<tr><td>Lobortis Risus LLP</td><td>198914.5436484481</td><td>outdoors</td><td>4.53</td></tr>\n",
       "<tr><td>Risus Odio Auctor...</td><td>614975.8978014218</td><td>fashion and acces...</td><td>5.99</td></tr>\n",
       "<tr><td>Pellentesque Indu...</td><td>91228.16134131033</td><td>outdoors</td><td>2.66</td></tr>\n",
       "<tr><td>Sodales Mauris Co...</td><td>190058.95977413544</td><td>fashion and acces...</td><td>1.5</td></tr>\n",
       "<tr><td>Maecenas Iaculis ...</td><td>102660.30914673851</td><td>home and technology</td><td>1.5</td></tr>\n",
       "<tr><td>Sit LLP</td><td>61322.97518850584</td><td>art and gifts</td><td>5.65</td></tr>\n",
       "<tr><td>Curabitur Massa LLC</td><td>28413.476302695544</td><td>outdoors</td><td>3.61</td></tr>\n",
       "<tr><td>Congue A Aliquet LLC</td><td>48167.49225988937</td><td>books and music</td><td>4.07</td></tr>\n",
       "<tr><td>Vestibulum Mauris...</td><td>45322.54431764799</td><td>home and technology</td><td>6.45</td></tr>\n",
       "<tr><td>Ac Mattis Velit LLP</td><td>23735.21018749007</td><td>home and technology</td><td>4.57</td></tr>\n",
       "<tr><td>Luctus Institute</td><td>32827.852593708</td><td>books and music</td><td>4.24</td></tr>\n",
       "<tr><td>Sagittis Semper N...</td><td>45322.54431764799</td><td>books and music</td><td>1.33</td></tr>\n",
       "<tr><td>Morbi Neque Inc.</td><td>991516.3091862483</td><td>home and technology</td><td>3.4</td></tr>\n",
       "<tr><td>Ullamcorper Velit...</td><td>160882.76724688633</td><td>outdoors</td><td>6.46</td></tr>\n",
       "<tr><td>Ultricies Ltd</td><td>166504.25316551406</td><td>outdoors</td><td>6.3</td></tr>\n",
       "<tr><td>Non Consulting</td><td>25298.04944066236</td><td>art and gifts</td><td>4.54</td></tr>\n",
       "<tr><td>Arcu Vel Associates</td><td>20947.254930790812</td><td>books and music</td><td>5.97</td></tr>\n",
       "<tr><td>Risus Donec Nibh LLC</td><td>15539.730400750275</td><td>fashion and acces...</td><td>6.37</td></tr>\n",
       "</table>\n",
       "only showing top 20 rows\n"
      ],
      "text/plain": [
       "+--------------------+------------------+--------------------+---------+\n",
       "|       merchant_name|     total_revenue|            category|take_rate|\n",
       "+--------------------+------------------+--------------------+---------+\n",
       "|Aliquam Auctor Ve...| 187581.1319837608|            outdoors|     3.09|\n",
       "|Accumsan Convalli...|1821808.2016016326|     books and music|     6.09|\n",
       "|  Lobortis Risus LLP| 198914.5436484481|            outdoors|     4.53|\n",
       "|Risus Odio Auctor...| 614975.8978014218|fashion and acces...|     5.99|\n",
       "|Pellentesque Indu...| 91228.16134131033|            outdoors|     2.66|\n",
       "|Sodales Mauris Co...|190058.95977413544|fashion and acces...|      1.5|\n",
       "|Maecenas Iaculis ...|102660.30914673851| home and technology|      1.5|\n",
       "|             Sit LLP| 61322.97518850584|       art and gifts|     5.65|\n",
       "| Curabitur Massa LLC|28413.476302695544|            outdoors|     3.61|\n",
       "|Congue A Aliquet LLC| 48167.49225988937|     books and music|     4.07|\n",
       "|Vestibulum Mauris...| 45322.54431764799| home and technology|     6.45|\n",
       "| Ac Mattis Velit LLP| 23735.21018749007| home and technology|     4.57|\n",
       "|    Luctus Institute|   32827.852593708|     books and music|     4.24|\n",
       "|Sagittis Semper N...| 45322.54431764799|     books and music|     1.33|\n",
       "|    Morbi Neque Inc.| 991516.3091862483| home and technology|      3.4|\n",
       "|Ullamcorper Velit...|160882.76724688633|            outdoors|     6.46|\n",
       "|       Ultricies Ltd|166504.25316551406|            outdoors|      6.3|\n",
       "|      Non Consulting| 25298.04944066236|       art and gifts|     4.54|\n",
       "| Arcu Vel Associates|20947.254930790812|     books and music|     5.97|\n",
       "|Risus Donec Nibh LLC|15539.730400750275|fashion and acces...|     6.37|\n",
       "+--------------------+------------------+--------------------+---------+\n",
       "only showing top 20 rows"
      ]
     },
     "execution_count": 222,
     "metadata": {},
     "output_type": "execute_result"
    }
   ],
   "source": [
    "df_revenue"
   ]
  },
  {
   "cell_type": "code",
   "execution_count": null,
   "metadata": {},
   "outputs": [
    {
     "name": "stderr",
     "output_type": "stream",
     "text": [
      "                                                                                \r"
     ]
    },
    {
     "data": {
      "text/html": [
       "<table border='1'>\n",
       "<tr><th>merchant_name</th><th>category</th><th>revenue_taken</th></tr>\n",
       "<tr><td>Aliquam Auctor Ve...</td><td>outdoors</td><td>5796.256978298208</td></tr>\n",
       "<tr><td>Accumsan Convalli...</td><td>books and music</td><td>110948.11947753943</td></tr>\n",
       "<tr><td>Lobortis Risus LLP</td><td>outdoors</td><td>9010.8288272747</td></tr>\n",
       "<tr><td>Risus Odio Auctor...</td><td>fashion and acces...</td><td>36837.056278305165</td></tr>\n",
       "<tr><td>Pellentesque Indu...</td><td>outdoors</td><td>2426.6690916788552</td></tr>\n",
       "<tr><td>Sodales Mauris Co...</td><td>fashion and acces...</td><td>2850.8843966120317</td></tr>\n",
       "<tr><td>Maecenas Iaculis ...</td><td>home and technology</td><td>1539.9046372010775</td></tr>\n",
       "<tr><td>Sit LLP</td><td>art and gifts</td><td>3464.74809815058</td></tr>\n",
       "<tr><td>Curabitur Massa LLC</td><td>outdoors</td><td>1025.7264945273091</td></tr>\n",
       "<tr><td>Congue A Aliquet LLC</td><td>books and music</td><td>1960.4169349774972</td></tr>\n",
       "<tr><td>Vestibulum Mauris...</td><td>home and technology</td><td>2923.3041084882952</td></tr>\n",
       "<tr><td>Ac Mattis Velit LLP</td><td>home and technology</td><td>1084.6991055682963</td></tr>\n",
       "<tr><td>Luctus Institute</td><td>books and music</td><td>1391.9009499732192</td></tr>\n",
       "<tr><td>Sagittis Semper N...</td><td>books and music</td><td>602.7898394247183</td></tr>\n",
       "<tr><td>Morbi Neque Inc.</td><td>home and technology</td><td>33711.55451233245</td></tr>\n",
       "<tr><td>Ullamcorper Velit...</td><td>outdoors</td><td>10393.026764148857</td></tr>\n",
       "<tr><td>Ultricies Ltd</td><td>outdoors</td><td>10489.767949427385</td></tr>\n",
       "<tr><td>Non Consulting</td><td>art and gifts</td><td>1148.531444606071</td></tr>\n",
       "<tr><td>Arcu Vel Associates</td><td>books and music</td><td>1250.5511193682114</td></tr>\n",
       "<tr><td>Risus Donec Nibh LLC</td><td>fashion and acces...</td><td>989.8808265277927</td></tr>\n",
       "</table>\n",
       "only showing top 20 rows\n"
      ],
      "text/plain": [
       "+--------------------+--------------------+------------------+\n",
       "|       merchant_name|            category|     revenue_taken|\n",
       "+--------------------+--------------------+------------------+\n",
       "|Aliquam Auctor Ve...|            outdoors| 5796.256978298208|\n",
       "|Accumsan Convalli...|     books and music|110948.11947753943|\n",
       "|  Lobortis Risus LLP|            outdoors|   9010.8288272747|\n",
       "|Risus Odio Auctor...|fashion and acces...|36837.056278305165|\n",
       "|Pellentesque Indu...|            outdoors|2426.6690916788552|\n",
       "|Sodales Mauris Co...|fashion and acces...|2850.8843966120317|\n",
       "|Maecenas Iaculis ...| home and technology|1539.9046372010775|\n",
       "|             Sit LLP|       art and gifts|  3464.74809815058|\n",
       "| Curabitur Massa LLC|            outdoors|1025.7264945273091|\n",
       "|Congue A Aliquet LLC|     books and music|1960.4169349774972|\n",
       "|Vestibulum Mauris...| home and technology|2923.3041084882952|\n",
       "| Ac Mattis Velit LLP| home and technology|1084.6991055682963|\n",
       "|    Luctus Institute|     books and music|1391.9009499732192|\n",
       "|Sagittis Semper N...|     books and music| 602.7898394247183|\n",
       "|    Morbi Neque Inc.| home and technology| 33711.55451233245|\n",
       "|Ullamcorper Velit...|            outdoors|10393.026764148857|\n",
       "|       Ultricies Ltd|            outdoors|10489.767949427385|\n",
       "|      Non Consulting|       art and gifts| 1148.531444606071|\n",
       "| Arcu Vel Associates|     books and music|1250.5511193682114|\n",
       "|Risus Donec Nibh LLC|fashion and acces...| 989.8808265277927|\n",
       "+--------------------+--------------------+------------------+\n",
       "only showing top 20 rows"
      ]
     },
     "execution_count": 223,
     "metadata": {},
     "output_type": "execute_result"
    }
   ],
   "source": [
    "df_revenue = df_revenue.withColumn(\"revenue_taken\", F.col(\"total_revenue\") * (F.col(\"take_rate\") / 100)).drop(\"total_revenue\", \"take_rate\")\n",
    "df_revenue"
   ]
  },
  {
   "cell_type": "code",
   "execution_count": null,
   "metadata": {},
   "outputs": [],
   "source": [
    "revenue_score = df_revenue.withColumn(\"a\", lit(\"a\"))\n",
    "\n",
    "# Use the rank as the score\n",
    "Window_merchant = Window.partitionBy(\"a\").orderBy(\"revenue_taken\")\n",
    "Window_category = Window.partitionBy(\"category\").orderBy(\"revenue_taken\")\n",
    "revenue_score = revenue_score.withColumn(\"merchant_rev_score\", percent_rank().over(Window_merchant)) \n",
    "revenue_score = revenue_score.withColumn(\"category_rev_score\", percent_rank().over(Window_category)) \n",
    "revenue_score = revenue_score.drop(\"a\", \"revenue_taken\")"
   ]
  },
  {
   "cell_type": "code",
   "execution_count": null,
   "metadata": {},
   "outputs": [
    {
     "name": "stderr",
     "output_type": "stream",
     "text": [
      "                                                                                \r"
     ]
    },
    {
     "data": {
      "text/html": [
       "<table border='1'>\n",
       "<tr><th>merchant_name</th><th>category</th><th>merchant_rev_score</th><th>category_rev_score</th></tr>\n",
       "<tr><td>Amet Lorem Consul...</td><td>art and gifts</td><td>0.0</td><td>0.0</td></tr>\n",
       "<tr><td>Tincidunt Aliquam...</td><td>art and gifts</td><td>2.568053415511042...</td><td>0.001821493624772...</td></tr>\n",
       "<tr><td>Amet Ultricies Se...</td><td>art and gifts</td><td>2.568053415511042...</td><td>0.001821493624772...</td></tr>\n",
       "<tr><td>Vulputate Company</td><td>art and gifts</td><td>7.704160246533128E-4</td><td>0.00546448087431694</td></tr>\n",
       "<tr><td>Eleifend Nunc LLP</td><td>art and gifts</td><td>0.001027221366204417</td><td>0.007285974499089253</td></tr>\n",
       "<tr><td>Vehicula Pellente...</td><td>art and gifts</td><td>0.001284026707755...</td><td>0.009107468123861567</td></tr>\n",
       "<tr><td>Interdum Curabitu...</td><td>art and gifts</td><td>0.001540832049306...</td><td>0.01092896174863388</td></tr>\n",
       "<tr><td>Libero Integer PC</td><td>art and gifts</td><td>0.001797637390857...</td><td>0.012750455373406194</td></tr>\n",
       "<tr><td>Nisl Arcu Iaculis...</td><td>art and gifts</td><td>0.002054442732408834</td><td>0.014571948998178506</td></tr>\n",
       "<tr><td>Penatibus Et Magn...</td><td>art and gifts</td><td>0.002311248073959...</td><td>0.01639344262295082</td></tr>\n",
       "<tr><td>Eget Volutpat Orn...</td><td>art and gifts</td><td>0.002568053415511...</td><td>0.018214936247723135</td></tr>\n",
       "<tr><td>Vel Nisl Incorpor...</td><td>art and gifts</td><td>0.002824858757062147</td><td>0.020036429872495445</td></tr>\n",
       "<tr><td>Nulla Semper LLP</td><td>art and gifts</td><td>0.003081664098613...</td><td>0.02185792349726776</td></tr>\n",
       "<tr><td>In Lorem LLP</td><td>art and gifts</td><td>0.003338469440164355</td><td>0.023679417122040074</td></tr>\n",
       "<tr><td>Sem Limited</td><td>art and gifts</td><td>0.003595274781715...</td><td>0.025500910746812388</td></tr>\n",
       "<tr><td>Semper Et Lacinia...</td><td>art and gifts</td><td>0.003852080123266564</td><td>0.0273224043715847</td></tr>\n",
       "<tr><td>Volutpat Ornare LLP</td><td>art and gifts</td><td>0.00667693888032871</td><td>0.029143897996357013</td></tr>\n",
       "<tr><td>Euismod Ac Corpor...</td><td>art and gifts</td><td>0.008731381612737545</td><td>0.030965391621129327</td></tr>\n",
       "<tr><td>Mauris Ut Mi Corp...</td><td>art and gifts</td><td>0.01078582434514638</td><td>0.03278688524590164</td></tr>\n",
       "<tr><td>Velit Corp.</td><td>art and gifts</td><td>0.011042629686697484</td><td>0.03460837887067395</td></tr>\n",
       "</table>\n",
       "only showing top 20 rows\n"
      ],
      "text/plain": [
       "+--------------------+-------------+--------------------+--------------------+\n",
       "|       merchant_name|     category|  merchant_rev_score|  category_rev_score|\n",
       "+--------------------+-------------+--------------------+--------------------+\n",
       "|Amet Lorem Consul...|art and gifts|                 0.0|                 0.0|\n",
       "|Tincidunt Aliquam...|art and gifts|2.568053415511042...|0.001821493624772...|\n",
       "|Amet Ultricies Se...|art and gifts|2.568053415511042...|0.001821493624772...|\n",
       "|   Vulputate Company|art and gifts|7.704160246533128E-4| 0.00546448087431694|\n",
       "|   Eleifend Nunc LLP|art and gifts|0.001027221366204417|0.007285974499089253|\n",
       "|Vehicula Pellente...|art and gifts|0.001284026707755...|0.009107468123861567|\n",
       "|Interdum Curabitu...|art and gifts|0.001540832049306...| 0.01092896174863388|\n",
       "|   Libero Integer PC|art and gifts|0.001797637390857...|0.012750455373406194|\n",
       "|Nisl Arcu Iaculis...|art and gifts|0.002054442732408834|0.014571948998178506|\n",
       "|Penatibus Et Magn...|art and gifts|0.002311248073959...| 0.01639344262295082|\n",
       "|Eget Volutpat Orn...|art and gifts|0.002568053415511...|0.018214936247723135|\n",
       "|Vel Nisl Incorpor...|art and gifts|0.002824858757062147|0.020036429872495445|\n",
       "|    Nulla Semper LLP|art and gifts|0.003081664098613...| 0.02185792349726776|\n",
       "|        In Lorem LLP|art and gifts|0.003338469440164355|0.023679417122040074|\n",
       "|         Sem Limited|art and gifts|0.003595274781715...|0.025500910746812388|\n",
       "|Semper Et Lacinia...|art and gifts|0.003852080123266564|  0.0273224043715847|\n",
       "| Volutpat Ornare LLP|art and gifts| 0.00667693888032871|0.029143897996357013|\n",
       "|Euismod Ac Corpor...|art and gifts|0.008731381612737545|0.030965391621129327|\n",
       "|Mauris Ut Mi Corp...|art and gifts| 0.01078582434514638| 0.03278688524590164|\n",
       "|         Velit Corp.|art and gifts|0.011042629686697484| 0.03460837887067395|\n",
       "+--------------------+-------------+--------------------+--------------------+\n",
       "only showing top 20 rows"
      ]
     },
     "execution_count": 225,
     "metadata": {},
     "output_type": "execute_result"
    }
   ],
   "source": [
    "revenue_score"
   ]
  },
  {
   "cell_type": "markdown",
   "metadata": {},
   "source": [
    "Union the the fraud and revenue"
   ]
  },
  {
   "cell_type": "code",
   "execution_count": null,
   "metadata": {},
   "outputs": [
    {
     "name": "stderr",
     "output_type": "stream",
     "text": [
      "                                                                                \r"
     ]
    },
    {
     "data": {
      "text/html": [
       "<table border='1'>\n",
       "<tr><th>merchant_name</th><th>category</th><th>merchant_rev_score</th><th>category_rev_score</th><th>fraud_score</th></tr>\n",
       "<tr><td>Amet Lorem Consul...</td><td>art and gifts</td><td>0.0</td><td>0.0</td><td>1.0</td></tr>\n",
       "<tr><td>Tincidunt Aliquam...</td><td>art and gifts</td><td>2.568053415511042...</td><td>0.001821493624772...</td><td>1.0</td></tr>\n",
       "<tr><td>Amet Ultricies Se...</td><td>art and gifts</td><td>2.568053415511042...</td><td>0.001821493624772...</td><td>0.9966666666666667</td></tr>\n",
       "<tr><td>Vulputate Company</td><td>art and gifts</td><td>7.704160246533128E-4</td><td>0.00546448087431694</td><td>1.0</td></tr>\n",
       "<tr><td>Eleifend Nunc LLP</td><td>art and gifts</td><td>0.001027221366204417</td><td>0.007285974499089253</td><td>1.0</td></tr>\n",
       "<tr><td>Vehicula Pellente...</td><td>art and gifts</td><td>0.001284026707755...</td><td>0.009107468123861567</td><td>0.9923076923076923</td></tr>\n",
       "<tr><td>Interdum Curabitu...</td><td>art and gifts</td><td>0.001540832049306...</td><td>0.01092896174863388</td><td>1.0</td></tr>\n",
       "<tr><td>Libero Integer PC</td><td>art and gifts</td><td>0.001797637390857...</td><td>0.012750455373406194</td><td>0.9978540772532188</td></tr>\n",
       "<tr><td>Nisl Arcu Iaculis...</td><td>art and gifts</td><td>0.002054442732408834</td><td>0.014571948998178506</td><td>0.9974226804123711</td></tr>\n",
       "<tr><td>Penatibus Et Magn...</td><td>art and gifts</td><td>0.002311248073959...</td><td>0.01639344262295082</td><td>1.0</td></tr>\n",
       "<tr><td>Eget Volutpat Orn...</td><td>art and gifts</td><td>0.002568053415511...</td><td>0.018214936247723135</td><td>1.0</td></tr>\n",
       "<tr><td>Vel Nisl Incorpor...</td><td>art and gifts</td><td>0.002824858757062147</td><td>0.020036429872495445</td><td>0.9970588235294118</td></tr>\n",
       "<tr><td>Nulla Semper LLP</td><td>art and gifts</td><td>0.003081664098613...</td><td>0.02185792349726776</td><td>1.0</td></tr>\n",
       "<tr><td>In Lorem LLP</td><td>art and gifts</td><td>0.003338469440164355</td><td>0.023679417122040074</td><td>0.9962406015037594</td></tr>\n",
       "<tr><td>Sem Limited</td><td>art and gifts</td><td>0.003595274781715...</td><td>0.025500910746812388</td><td>0.9948453608247423</td></tr>\n",
       "<tr><td>Semper Et Lacinia...</td><td>art and gifts</td><td>0.003852080123266564</td><td>0.0273224043715847</td><td>1.0</td></tr>\n",
       "<tr><td>Volutpat Ornare LLP</td><td>art and gifts</td><td>0.00667693888032871</td><td>0.029143897996357013</td><td>1.0</td></tr>\n",
       "<tr><td>Euismod Ac Corpor...</td><td>art and gifts</td><td>0.008731381612737545</td><td>0.030965391621129327</td><td>1.0</td></tr>\n",
       "<tr><td>Mauris Ut Mi Corp...</td><td>art and gifts</td><td>0.01078582434514638</td><td>0.03278688524590164</td><td>0.9964539007092199</td></tr>\n",
       "<tr><td>Velit Corp.</td><td>art and gifts</td><td>0.011042629686697484</td><td>0.03460837887067395</td><td>0.9947368421052631</td></tr>\n",
       "</table>\n",
       "only showing top 20 rows\n"
      ],
      "text/plain": [
       "+--------------------+-------------+--------------------+--------------------+------------------+\n",
       "|       merchant_name|     category|  merchant_rev_score|  category_rev_score|       fraud_score|\n",
       "+--------------------+-------------+--------------------+--------------------+------------------+\n",
       "|Amet Lorem Consul...|art and gifts|                 0.0|                 0.0|               1.0|\n",
       "|Tincidunt Aliquam...|art and gifts|2.568053415511042...|0.001821493624772...|               1.0|\n",
       "|Amet Ultricies Se...|art and gifts|2.568053415511042...|0.001821493624772...|0.9966666666666667|\n",
       "|   Vulputate Company|art and gifts|7.704160246533128E-4| 0.00546448087431694|               1.0|\n",
       "|   Eleifend Nunc LLP|art and gifts|0.001027221366204417|0.007285974499089253|               1.0|\n",
       "|Vehicula Pellente...|art and gifts|0.001284026707755...|0.009107468123861567|0.9923076923076923|\n",
       "|Interdum Curabitu...|art and gifts|0.001540832049306...| 0.01092896174863388|               1.0|\n",
       "|   Libero Integer PC|art and gifts|0.001797637390857...|0.012750455373406194|0.9978540772532188|\n",
       "|Nisl Arcu Iaculis...|art and gifts|0.002054442732408834|0.014571948998178506|0.9974226804123711|\n",
       "|Penatibus Et Magn...|art and gifts|0.002311248073959...| 0.01639344262295082|               1.0|\n",
       "|Eget Volutpat Orn...|art and gifts|0.002568053415511...|0.018214936247723135|               1.0|\n",
       "|Vel Nisl Incorpor...|art and gifts|0.002824858757062147|0.020036429872495445|0.9970588235294118|\n",
       "|    Nulla Semper LLP|art and gifts|0.003081664098613...| 0.02185792349726776|               1.0|\n",
       "|        In Lorem LLP|art and gifts|0.003338469440164355|0.023679417122040074|0.9962406015037594|\n",
       "|         Sem Limited|art and gifts|0.003595274781715...|0.025500910746812388|0.9948453608247423|\n",
       "|Semper Et Lacinia...|art and gifts|0.003852080123266564|  0.0273224043715847|               1.0|\n",
       "| Volutpat Ornare LLP|art and gifts| 0.00667693888032871|0.029143897996357013|               1.0|\n",
       "|Euismod Ac Corpor...|art and gifts|0.008731381612737545|0.030965391621129327|               1.0|\n",
       "|Mauris Ut Mi Corp...|art and gifts| 0.01078582434514638| 0.03278688524590164|0.9964539007092199|\n",
       "|         Velit Corp.|art and gifts|0.011042629686697484| 0.03460837887067395|0.9947368421052631|\n",
       "+--------------------+-------------+--------------------+--------------------+------------------+\n",
       "only showing top 20 rows"
      ]
     },
     "execution_count": 226,
     "metadata": {},
     "output_type": "execute_result"
    }
   ],
   "source": [
    "df_fraud = df_fraud.withColumnRenamed(\"merchant_name\", \"key\")\n",
    "final_score = revenue_score.join(df_fraud, df_fraud.key ==  revenue_score.merchant_name,\"inner\").drop(\"key\")\n",
    "final_score"
   ]
  },
  {
   "cell_type": "markdown",
   "metadata": {},
   "source": [
    "### 3. Potential ability"
   ]
  },
  {
   "cell_type": "code",
   "execution_count": null,
   "metadata": {},
   "outputs": [],
   "source": [
    "trend = spark.read.option(\"header\", \"true\").csv(\"../data/curated/increasing.csv\")\n",
    "trend = trend.withColumn(\"monthly_increase_rate\", F.col(\"monthly_increase_rate\").cast(\"double\"))"
   ]
  },
  {
   "cell_type": "code",
   "execution_count": null,
   "metadata": {},
   "outputs": [],
   "source": [
    "trend_positive = trend.filter(F.col(\"monthly_increase_rate\") >= 0)\n",
    "trend_negative = trend.filter(F.col(\"monthly_increase_rate\") < 0)"
   ]
  },
  {
   "cell_type": "code",
   "execution_count": null,
   "metadata": {},
   "outputs": [],
   "source": [
    "\n",
    "# VectorAssembler Transformation - Converting column to vector type\n",
    "assembler_trend = VectorAssembler(inputCols=[\"monthly_increase_rate\"],outputCol=\"increasing_Vect\")\n",
    "df_trend = assembler_trend.transform(trend)\n",
    "scaler = MinMaxScaler(inputCol=\"increasing_Vect\", outputCol=\"trend_score\")\n",
    "\n",
    "# Standardise the trend score (since it contain negative value) as score\n",
    "df_trend = scaler.fit(df_trend).transform(df_trend).drop(\"monthly_increase_rate\",\"increasing_Vect\").withColumn(\"trend_score\", (2*(vector_to_array(\"trend_score\")[0])-1))\n",
    "\n",
    "\n"
   ]
  },
  {
   "cell_type": "code",
   "execution_count": null,
   "metadata": {},
   "outputs": [
    {
     "name": "stderr",
     "output_type": "stream",
     "text": [
      "                                                                                \r"
     ]
    },
    {
     "data": {
      "text/html": [
       "<table border='1'>\n",
       "<tr><th>merchant_name</th><th>category</th><th>merchant_rev_score</th><th>category_rev_score</th><th>fraud_score</th><th>trend_score</th></tr>\n",
       "<tr><td>Amet Lorem Consul...</td><td>art and gifts</td><td>0.0</td><td>0.0</td><td>1.0</td><td>-0.2851362918686249</td></tr>\n",
       "<tr><td>Tincidunt Aliquam...</td><td>art and gifts</td><td>2.568053415511042...</td><td>0.001821493624772...</td><td>1.0</td><td>-0.29196876218275214</td></tr>\n",
       "<tr><td>Amet Ultricies Se...</td><td>art and gifts</td><td>2.568053415511042...</td><td>0.001821493624772...</td><td>0.9966666666666667</td><td>-0.2870785906746487</td></tr>\n",
       "<tr><td>Vulputate Company</td><td>art and gifts</td><td>7.704160246533128E-4</td><td>0.00546448087431694</td><td>1.0</td><td>-0.27468849669917395</td></tr>\n",
       "<tr><td>Eleifend Nunc LLP</td><td>art and gifts</td><td>0.001027221366204417</td><td>0.007285974499089253</td><td>1.0</td><td>-0.2850052340899205</td></tr>\n",
       "<tr><td>Vehicula Pellente...</td><td>art and gifts</td><td>0.001284026707755...</td><td>0.009107468123861567</td><td>0.9923076923076923</td><td>-0.2787480220618894</td></tr>\n",
       "<tr><td>Interdum Curabitu...</td><td>art and gifts</td><td>0.001540832049306...</td><td>0.01092896174863388</td><td>1.0</td><td>-0.2854461689839598</td></tr>\n",
       "<tr><td>Libero Integer PC</td><td>art and gifts</td><td>0.001797637390857...</td><td>0.012750455373406194</td><td>0.9978540772532188</td><td>-0.27464153278234094</td></tr>\n",
       "<tr><td>Nisl Arcu Iaculis...</td><td>art and gifts</td><td>0.002054442732408834</td><td>0.014571948998178506</td><td>0.9974226804123711</td><td>-0.28134030252108566</td></tr>\n",
       "<tr><td>Penatibus Et Magn...</td><td>art and gifts</td><td>0.002311248073959...</td><td>0.01639344262295082</td><td>1.0</td><td>-0.27400122250493186</td></tr>\n",
       "<tr><td>Eget Volutpat Orn...</td><td>art and gifts</td><td>0.002568053415511...</td><td>0.018214936247723135</td><td>1.0</td><td>-0.2951705163690119</td></tr>\n",
       "<tr><td>Vel Nisl Incorpor...</td><td>art and gifts</td><td>0.002824858757062147</td><td>0.020036429872495445</td><td>0.9970588235294118</td><td>-0.27740917670801746</td></tr>\n",
       "<tr><td>Nulla Semper LLP</td><td>art and gifts</td><td>0.003081664098613...</td><td>0.02185792349726776</td><td>1.0</td><td>-0.28928102865155325</td></tr>\n",
       "<tr><td>In Lorem LLP</td><td>art and gifts</td><td>0.003338469440164355</td><td>0.023679417122040074</td><td>0.9962406015037594</td><td>-0.29661931434770994</td></tr>\n",
       "<tr><td>Sem Limited</td><td>art and gifts</td><td>0.003595274781715...</td><td>0.025500910746812388</td><td>0.9948453608247423</td><td>-0.28817737775780294</td></tr>\n",
       "<tr><td>Semper Et Lacinia...</td><td>art and gifts</td><td>0.003852080123266564</td><td>0.0273224043715847</td><td>1.0</td><td>-0.28365574961294104</td></tr>\n",
       "<tr><td>Volutpat Ornare LLP</td><td>art and gifts</td><td>0.00667693888032871</td><td>0.029143897996357013</td><td>1.0</td><td>-0.2851980847309472</td></tr>\n",
       "<tr><td>Euismod Ac Corpor...</td><td>art and gifts</td><td>0.008731381612737545</td><td>0.030965391621129327</td><td>1.0</td><td>-0.2786295627938915</td></tr>\n",
       "<tr><td>Mauris Ut Mi Corp...</td><td>art and gifts</td><td>0.01078582434514638</td><td>0.03278688524590164</td><td>0.9964539007092199</td><td>-0.285547626723213</td></tr>\n",
       "<tr><td>Velit Corp.</td><td>art and gifts</td><td>0.011042629686697484</td><td>0.03460837887067395</td><td>0.9947368421052631</td><td>-0.28307089012440123</td></tr>\n",
       "</table>\n",
       "only showing top 20 rows\n"
      ],
      "text/plain": [
       "+--------------------+-------------+--------------------+--------------------+------------------+--------------------+\n",
       "|       merchant_name|     category|  merchant_rev_score|  category_rev_score|       fraud_score|         trend_score|\n",
       "+--------------------+-------------+--------------------+--------------------+------------------+--------------------+\n",
       "|Amet Lorem Consul...|art and gifts|                 0.0|                 0.0|               1.0| -0.2851362918686249|\n",
       "|Tincidunt Aliquam...|art and gifts|2.568053415511042...|0.001821493624772...|               1.0|-0.29196876218275214|\n",
       "|Amet Ultricies Se...|art and gifts|2.568053415511042...|0.001821493624772...|0.9966666666666667| -0.2870785906746487|\n",
       "|   Vulputate Company|art and gifts|7.704160246533128E-4| 0.00546448087431694|               1.0|-0.27468849669917395|\n",
       "|   Eleifend Nunc LLP|art and gifts|0.001027221366204417|0.007285974499089253|               1.0| -0.2850052340899205|\n",
       "|Vehicula Pellente...|art and gifts|0.001284026707755...|0.009107468123861567|0.9923076923076923| -0.2787480220618894|\n",
       "|Interdum Curabitu...|art and gifts|0.001540832049306...| 0.01092896174863388|               1.0| -0.2854461689839598|\n",
       "|   Libero Integer PC|art and gifts|0.001797637390857...|0.012750455373406194|0.9978540772532188|-0.27464153278234094|\n",
       "|Nisl Arcu Iaculis...|art and gifts|0.002054442732408834|0.014571948998178506|0.9974226804123711|-0.28134030252108566|\n",
       "|Penatibus Et Magn...|art and gifts|0.002311248073959...| 0.01639344262295082|               1.0|-0.27400122250493186|\n",
       "|Eget Volutpat Orn...|art and gifts|0.002568053415511...|0.018214936247723135|               1.0| -0.2951705163690119|\n",
       "|Vel Nisl Incorpor...|art and gifts|0.002824858757062147|0.020036429872495445|0.9970588235294118|-0.27740917670801746|\n",
       "|    Nulla Semper LLP|art and gifts|0.003081664098613...| 0.02185792349726776|               1.0|-0.28928102865155325|\n",
       "|        In Lorem LLP|art and gifts|0.003338469440164355|0.023679417122040074|0.9962406015037594|-0.29661931434770994|\n",
       "|         Sem Limited|art and gifts|0.003595274781715...|0.025500910746812388|0.9948453608247423|-0.28817737775780294|\n",
       "|Semper Et Lacinia...|art and gifts|0.003852080123266564|  0.0273224043715847|               1.0|-0.28365574961294104|\n",
       "| Volutpat Ornare LLP|art and gifts| 0.00667693888032871|0.029143897996357013|               1.0| -0.2851980847309472|\n",
       "|Euismod Ac Corpor...|art and gifts|0.008731381612737545|0.030965391621129327|               1.0| -0.2786295627938915|\n",
       "|Mauris Ut Mi Corp...|art and gifts| 0.01078582434514638| 0.03278688524590164|0.9964539007092199|  -0.285547626723213|\n",
       "|         Velit Corp.|art and gifts|0.011042629686697484| 0.03460837887067395|0.9947368421052631|-0.28307089012440123|\n",
       "+--------------------+-------------+--------------------+--------------------+------------------+--------------------+\n",
       "only showing top 20 rows"
      ]
     },
     "execution_count": 230,
     "metadata": {},
     "output_type": "execute_result"
    }
   ],
   "source": [
    "df_trend = df_trend.withColumnRenamed(\"merchant_name\",\"key\")\n",
    "final_score = final_score.join(df_trend, df_trend.key ==  revenue_score.merchant_name,\"inner\").drop(\"key\")\n",
    "final_score"
   ]
  },
  {
   "cell_type": "code",
   "execution_count": null,
   "metadata": {},
   "outputs": [
    {
     "data": {
      "text/html": [
       "<table border='1'>\n",
       "<tr><th>key</th><th>trend_score</th></tr>\n",
       "<tr><td>Rutrum Magna Cras...</td><td>-1.0</td></tr>\n",
       "<tr><td>Sed Nec Inc.</td><td>-0.91774036166771</td></tr>\n",
       "<tr><td>Pharetra Corp.</td><td>-0.8334200386655441</td></tr>\n",
       "<tr><td>Fames Ac Turpis LLC</td><td>-0.6752184490530835</td></tr>\n",
       "<tr><td>Amet Risus Inc.</td><td>-0.6596795683980416</td></tr>\n",
       "<tr><td>Dignissim Lacus PC</td><td>-0.6399996588754957</td></tr>\n",
       "<tr><td>In Lobortis Tellu...</td><td>-0.6257353623479553</td></tr>\n",
       "<tr><td>Id Enim Inc.</td><td>-0.625085997402387</td></tr>\n",
       "<tr><td>Ut Ipsum LLC</td><td>-0.6037409750782243</td></tr>\n",
       "<tr><td>At Pede Inc.</td><td>-0.5833355926027</td></tr>\n",
       "<tr><td>Placerat Orci Ins...</td><td>-0.5820769701189038</td></tr>\n",
       "<tr><td>Sodales At LLC</td><td>-0.5705612257657482</td></tr>\n",
       "<tr><td>Praesent Interdum...</td><td>-0.5336903827581951</td></tr>\n",
       "<tr><td>Enim Nec Tempus I...</td><td>-0.5327167398170514</td></tr>\n",
       "<tr><td>Arcu Vel Institute</td><td>-0.531234553552094</td></tr>\n",
       "<tr><td>Aliquet Libero In...</td><td>-0.5311240140214395</td></tr>\n",
       "<tr><td>Lacinia Vitae Sod...</td><td>-0.5221560270596246</td></tr>\n",
       "<tr><td>Est Associates</td><td>-0.5212068331613529</td></tr>\n",
       "<tr><td>Magna Praesent PC</td><td>-0.5134759425255733</td></tr>\n",
       "<tr><td>Arcu Consulting</td><td>-0.4995052497299298</td></tr>\n",
       "</table>\n",
       "only showing top 20 rows\n"
      ],
      "text/plain": [
       "+--------------------+-------------------+\n",
       "|                 key|        trend_score|\n",
       "+--------------------+-------------------+\n",
       "|Rutrum Magna Cras...|               -1.0|\n",
       "|        Sed Nec Inc.|  -0.91774036166771|\n",
       "|      Pharetra Corp.|-0.8334200386655441|\n",
       "| Fames Ac Turpis LLC|-0.6752184490530835|\n",
       "|     Amet Risus Inc.|-0.6596795683980416|\n",
       "|  Dignissim Lacus PC|-0.6399996588754957|\n",
       "|In Lobortis Tellu...|-0.6257353623479553|\n",
       "|        Id Enim Inc.| -0.625085997402387|\n",
       "|        Ut Ipsum LLC|-0.6037409750782243|\n",
       "|        At Pede Inc.|   -0.5833355926027|\n",
       "|Placerat Orci Ins...|-0.5820769701189038|\n",
       "|      Sodales At LLC|-0.5705612257657482|\n",
       "|Praesent Interdum...|-0.5336903827581951|\n",
       "|Enim Nec Tempus I...|-0.5327167398170514|\n",
       "|  Arcu Vel Institute| -0.531234553552094|\n",
       "|Aliquet Libero In...|-0.5311240140214395|\n",
       "|Lacinia Vitae Sod...|-0.5221560270596246|\n",
       "|      Est Associates|-0.5212068331613529|\n",
       "|   Magna Praesent PC|-0.5134759425255733|\n",
       "|     Arcu Consulting|-0.4995052497299298|\n",
       "+--------------------+-------------------+\n",
       "only showing top 20 rows"
      ]
     },
     "execution_count": 231,
     "metadata": {},
     "output_type": "execute_result"
    }
   ],
   "source": [
    "df_trend.sort(F.col(\"trend_score\"))"
   ]
  },
  {
   "cell_type": "markdown",
   "metadata": {},
   "source": [
    "### 4. Stability"
   ]
  },
  {
   "cell_type": "code",
   "execution_count": null,
   "metadata": {},
   "outputs": [],
   "source": [
    "df_variance = df_old.groupBy([\"merchant_name\", \"order_year\", \"order_month\"]).agg(\n",
    "    sum(\"dollar_value\").alias(\"dollar_value\")\n",
    "    )"
   ]
  },
  {
   "cell_type": "code",
   "execution_count": null,
   "metadata": {},
   "outputs": [],
   "source": [
    "fill = {'2021': range(3,13),\n",
    "        '2022': range(1,11)}\n",
    "merchs = df_variance.select(\"merchant_name\").distinct()\n",
    "cols = [\"order_year\", \"order_month\", \"dollar_value\"]\n",
    "vals = [(int(year), month, 0) for year in fill for month in fill[year]]\n",
    "months = spark.createDataFrame(vals, cols)\n",
    "months = merchs.join(months).select(df_variance.columns)\n",
    "variance_score = df_variance.union(months)"
   ]
  },
  {
   "cell_type": "code",
   "execution_count": null,
   "metadata": {},
   "outputs": [
    {
     "name": "stderr",
     "output_type": "stream",
     "text": [
      "                                                                                \r"
     ]
    },
    {
     "data": {
      "text/html": [
       "<table border='1'>\n",
       "<tr><th>merchant_name</th><th>order_year</th><th>order_month</th><th>dollar_value</th></tr>\n",
       "<tr><td>Lacinia At Institute</td><td>2022</td><td>8</td><td>11473.893084260102</td></tr>\n",
       "<tr><td>Phasellus At Limited</td><td>2021</td><td>6</td><td>365871.4302617312</td></tr>\n",
       "<tr><td>Eget Laoreet Posu...</td><td>2022</td><td>8</td><td>179542.76522072856</td></tr>\n",
       "<tr><td>Eu Tempor Ltd</td><td>2021</td><td>4</td><td>5001.601112401771</td></tr>\n",
       "<tr><td>Tempor LLC</td><td>2021</td><td>12</td><td>10105.609794197258</td></tr>\n",
       "<tr><td>Semper Tellus PC</td><td>2022</td><td>6</td><td>36826.62851667091</td></tr>\n",
       "<tr><td>Ac Institute</td><td>2021</td><td>6</td><td>34412.903467209915</td></tr>\n",
       "<tr><td>Mattis Velit Just...</td><td>2021</td><td>3</td><td>98927.17618829764</td></tr>\n",
       "<tr><td>Lacinia Mattis LLC</td><td>2022</td><td>5</td><td>55866.78480219141</td></tr>\n",
       "<tr><td>Aliquam Gravida M...</td><td>2021</td><td>12</td><td>50557.11317859411</td></tr>\n",
       "<tr><td>Eu Dolor Egestas PC</td><td>2021</td><td>12</td><td>76231.49895820562</td></tr>\n",
       "<tr><td>Amet Associates</td><td>2022</td><td>3</td><td>19082.003075284556</td></tr>\n",
       "<tr><td>Scelerisque LLP</td><td>2022</td><td>10</td><td>56640.143038203845</td></tr>\n",
       "<tr><td>Semper Cursus Int...</td><td>2022</td><td>4</td><td>57917.837286943024</td></tr>\n",
       "<tr><td>Nec Ante Ltd</td><td>2021</td><td>9</td><td>61838.5685273975</td></tr>\n",
       "<tr><td>A Facilisis PC</td><td>2021</td><td>4</td><td>7963.166288391646</td></tr>\n",
       "<tr><td>Donec Egestas Ins...</td><td>2021</td><td>9</td><td>5019.799326231522</td></tr>\n",
       "<tr><td>Magna Associates</td><td>2021</td><td>5</td><td>24090.758048769418</td></tr>\n",
       "<tr><td>Nisi Dictum Company</td><td>2022</td><td>2</td><td>3092.8618992855186</td></tr>\n",
       "<tr><td>Lacinia At Institute</td><td>2021</td><td>11</td><td>15453.270890980997</td></tr>\n",
       "</table>\n",
       "only showing top 20 rows\n"
      ],
      "text/plain": [
       "+--------------------+----------+-----------+------------------+\n",
       "|       merchant_name|order_year|order_month|      dollar_value|\n",
       "+--------------------+----------+-----------+------------------+\n",
       "|Lacinia At Institute|      2022|          8|11473.893084260102|\n",
       "|Phasellus At Limited|      2021|          6| 365871.4302617312|\n",
       "|Eget Laoreet Posu...|      2022|          8|179542.76522072856|\n",
       "|       Eu Tempor Ltd|      2021|          4| 5001.601112401771|\n",
       "|          Tempor LLC|      2021|         12|10105.609794197258|\n",
       "|    Semper Tellus PC|      2022|          6| 36826.62851667091|\n",
       "|        Ac Institute|      2021|          6|34412.903467209915|\n",
       "|Mattis Velit Just...|      2021|          3| 98927.17618829764|\n",
       "|  Lacinia Mattis LLC|      2022|          5| 55866.78480219141|\n",
       "|Aliquam Gravida M...|      2021|         12| 50557.11317859411|\n",
       "| Eu Dolor Egestas PC|      2021|         12| 76231.49895820562|\n",
       "|     Amet Associates|      2022|          3|19082.003075284556|\n",
       "|     Scelerisque LLP|      2022|         10|56640.143038203845|\n",
       "|Semper Cursus Int...|      2022|          4|57917.837286943024|\n",
       "|        Nec Ante Ltd|      2021|          9|  61838.5685273975|\n",
       "|      A Facilisis PC|      2021|          4| 7963.166288391646|\n",
       "|Donec Egestas Ins...|      2021|          9| 5019.799326231522|\n",
       "|    Magna Associates|      2021|          5|24090.758048769418|\n",
       "| Nisi Dictum Company|      2022|          2|3092.8618992855186|\n",
       "|Lacinia At Institute|      2021|         11|15453.270890980997|\n",
       "+--------------------+----------+-----------+------------------+\n",
       "only showing top 20 rows"
      ]
     },
     "execution_count": 234,
     "metadata": {},
     "output_type": "execute_result"
    }
   ],
   "source": [
    "variance_score"
   ]
  },
  {
   "cell_type": "code",
   "execution_count": null,
   "metadata": {},
   "outputs": [],
   "source": [
    "variance_score = variance_score.groupBy([\"merchant_name\", \"order_year\", \"order_month\"]).agg(\n",
    "    sum(\"dollar_value\").alias(\"dollar_value\")\n",
    "    )"
   ]
  },
  {
   "cell_type": "code",
   "execution_count": null,
   "metadata": {},
   "outputs": [],
   "source": [
    "variance_score = variance_score.groupBy([\"merchant_name\"]).agg(\n",
    "    variance(\"dollar_value\").alias(\"variance\")\n",
    "    )"
   ]
  },
  {
   "cell_type": "code",
   "execution_count": null,
   "metadata": {},
   "outputs": [
    {
     "name": "stderr",
     "output_type": "stream",
     "text": [
      "                                                                                \r"
     ]
    },
    {
     "data": {
      "text/html": [
       "<table border='1'>\n",
       "<tr><th>merchant_name</th><th>variance</th></tr>\n",
       "<tr><td>Malesuada Vel Ltd</td><td>4456926.807088791</td></tr>\n",
       "<tr><td>Mollis Integer Co...</td><td>4.582009408526634E7</td></tr>\n",
       "<tr><td>Volutpat Nulla In...</td><td>1.9624456909507588E8</td></tr>\n",
       "<tr><td>Donec Luctus Indu...</td><td>3.323628064942223E8</td></tr>\n",
       "<tr><td>Vulputate Velit E...</td><td>725151.9694819615</td></tr>\n",
       "<tr><td>Erat Semper Ltd</td><td>1.2301800075294748E8</td></tr>\n",
       "<tr><td>Hendrerit Consect...</td><td>1.7210253143555377E7</td></tr>\n",
       "<tr><td>Vel Turpis Company</td><td>4287985.3046595715</td></tr>\n",
       "<tr><td>Curabitur Vel LLC</td><td>333323.39801631885</td></tr>\n",
       "<tr><td>Malesuada PC</td><td>1973086.758359104</td></tr>\n",
       "<tr><td>Dictum Mi Incorpo...</td><td>9.69962606368789E7</td></tr>\n",
       "<tr><td>Pede Praesent Ltd</td><td>1.5824754281197332E7</td></tr>\n",
       "<tr><td>Elit Sed Consequa...</td><td>5.63248458592709E9</td></tr>\n",
       "<tr><td>Amet Nulla Ltd</td><td>475672.0012469037</td></tr>\n",
       "<tr><td>Dictum Mi Limited</td><td>2.3332146435011348E8</td></tr>\n",
       "<tr><td>Varius Orci Insti...</td><td>1.6617548851262603E7</td></tr>\n",
       "<tr><td>Porttitor Eros In...</td><td>4764727.686582085</td></tr>\n",
       "<tr><td>At Augue Corporation</td><td>5781464.032630463</td></tr>\n",
       "<tr><td>Montes Limited</td><td>4.97165555951268E7</td></tr>\n",
       "<tr><td>Arcu Vestibulum C...</td><td>1023282.1727541462</td></tr>\n",
       "</table>\n",
       "only showing top 20 rows\n"
      ],
      "text/plain": [
       "+--------------------+--------------------+\n",
       "|       merchant_name|            variance|\n",
       "+--------------------+--------------------+\n",
       "|   Malesuada Vel Ltd|   4456926.807088791|\n",
       "|Mollis Integer Co...| 4.582009408526634E7|\n",
       "|Volutpat Nulla In...|1.9624456909507588E8|\n",
       "|Donec Luctus Indu...| 3.323628064942223E8|\n",
       "|Vulputate Velit E...|   725151.9694819615|\n",
       "|     Erat Semper Ltd|1.2301800075294748E8|\n",
       "|Hendrerit Consect...|1.7210253143555377E7|\n",
       "|  Vel Turpis Company|  4287985.3046595715|\n",
       "|   Curabitur Vel LLC|  333323.39801631885|\n",
       "|        Malesuada PC|   1973086.758359104|\n",
       "|Dictum Mi Incorpo...|  9.69962606368789E7|\n",
       "|   Pede Praesent Ltd|1.5824754281197332E7|\n",
       "|Elit Sed Consequa...|  5.63248458592709E9|\n",
       "|      Amet Nulla Ltd|   475672.0012469037|\n",
       "|   Dictum Mi Limited|2.3332146435011348E8|\n",
       "|Varius Orci Insti...|1.6617548851262603E7|\n",
       "|Porttitor Eros In...|   4764727.686582085|\n",
       "|At Augue Corporation|   5781464.032630463|\n",
       "|      Montes Limited|  4.97165555951268E7|\n",
       "|Arcu Vestibulum C...|  1023282.1727541462|\n",
       "+--------------------+--------------------+\n",
       "only showing top 20 rows"
      ]
     },
     "execution_count": 237,
     "metadata": {},
     "output_type": "execute_result"
    }
   ],
   "source": [
    "variance_score"
   ]
  },
  {
   "cell_type": "code",
   "execution_count": null,
   "metadata": {},
   "outputs": [],
   "source": [
    "variance_score = variance_score.fillna(value = 0)"
   ]
  },
  {
   "cell_type": "code",
   "execution_count": null,
   "metadata": {},
   "outputs": [
    {
     "name": "stderr",
     "output_type": "stream",
     "text": [
      "                                                                                \r"
     ]
    }
   ],
   "source": [
    "# VectorAssembler Transformation - Converting column to vector type\n",
    "assembler_vec = VectorAssembler(inputCols=[\"variance\"],outputCol=\"variance_Vect\")\n",
    "variance_score = assembler_vec.transform(variance_score)\n",
    "\n",
    "scaler = MinMaxScaler(inputCol=\"variance_Vect\", outputCol=\"variance_score\")\n",
    "\n",
    "\n",
    "# Standardise the trend score (since it contain negative value) as score\n",
    "from pyspark.ml.functions import vector_to_array\n",
    "variance_score = scaler.fit(variance_score).transform(variance_score).drop(\"variance\",\"variance_Vect\").withColumn(\"variance_score\", vector_to_array(\"variance_score\")[0])\n"
   ]
  },
  {
   "cell_type": "code",
   "execution_count": null,
   "metadata": {},
   "outputs": [
    {
     "name": "stderr",
     "output_type": "stream",
     "text": [
      "                                                                                \r"
     ]
    },
    {
     "data": {
      "text/html": [
       "<table border='1'>\n",
       "<tr><th>merchant_name</th><th>category</th><th>merchant_rev_score</th><th>category_rev_score</th><th>fraud_score</th><th>trend_score</th><th>variance_score</th></tr>\n",
       "<tr><td>Malesuada Vel Ltd</td><td>books and music</td><td>0.6782229070364664</td><td>0.6928657799274486</td><td>0.9968982630272953</td><td>-0.2659155054587914</td><td>3.298045669878045E-4</td></tr>\n",
       "<tr><td>Mollis Integer Co...</td><td>books and music</td><td>0.886748844375963</td><td>0.8887545344619106</td><td>0.9988385598141696</td><td>-0.22634669382732775</td><td>0.003390957761643...</td></tr>\n",
       "<tr><td>Volutpat Nulla In...</td><td>home and technology</td><td>0.9119157678479712</td><td>0.9227600411946447</td><td>0.9984037034080933</td><td>-0.24845221461810907</td><td>0.014523382876334779</td></tr>\n",
       "<tr><td>Donec Luctus Indu...</td><td>fashion and acces...</td><td>0.6599897277863379</td><td>0.5835654596100278</td><td>0.9975812953507122</td><td>-0.2821378659840347</td><td>0.02459704997399887</td></tr>\n",
       "<tr><td>Vulputate Velit E...</td><td>fashion and acces...</td><td>0.2894196199280945</td><td>0.20055710306406685</td><td>1.0</td><td>-0.28624214187783215</td><td>5.362807428715451...</td></tr>\n",
       "<tr><td>Erat Semper Ltd</td><td>outdoors</td><td>0.8877760657421674</td><td>0.8921212121212121</td><td>0.9973759541984732</td><td>-0.2705380856818037</td><td>0.009104123221804636</td></tr>\n",
       "<tr><td>Hendrerit Consect...</td><td>books and music</td><td>0.8002054442732409</td><td>0.8234582829504232</td><td>0.9981889105600446</td><td>-0.3230723102625034</td><td>0.001273636682038701</td></tr>\n",
       "<tr><td>Vel Turpis Company</td><td>home and technology</td><td>0.47406266050333845</td><td>0.518022657054583</td><td>0.9953416149068323</td><td>-0.3488128370442415</td><td>3.173017570266328...</td></tr>\n",
       "<tr><td>Curabitur Vel LLC</td><td>books and music</td><td>0.2570621468926554</td><td>0.21644498186215236</td><td>1.0</td><td>-0.27967123028464425</td><td>2.463011880582002E-5</td></tr>\n",
       "<tr><td>Malesuada PC</td><td>outdoors</td><td>0.5192604006163328</td><td>0.5212121212121212</td><td>0.997093023255814</td><td>-0.31026056064007324</td><td>1.459836605990655...</td></tr>\n",
       "<tr><td>Dictum Mi Incorpo...</td><td>outdoors</td><td>0.6789933230611197</td><td>0.6836363636363636</td><td>0.9981259370314842</td><td>-0.2225887610855588</td><td>0.007178339048868748</td></tr>\n",
       "<tr><td>Pede Praesent Ltd</td><td>outdoors</td><td>0.7216230097586029</td><td>0.7272727272727273</td><td>0.9964488636363636</td><td>-0.24547479786102444</td><td>0.001171100427013...</td></tr>\n",
       "<tr><td>Elit Sed Consequa...</td><td>art and gifts</td><td>0.9822804314329738</td><td>0.9744990892531876</td><td>0.9966527196652719</td><td>-0.319967897892773</td><td>0.41684178810209166</td></tr>\n",
       "<tr><td>Amet Nulla Ltd</td><td>books and music</td><td>0.12352336928608115</td><td>0.08948004836759371</td><td>0.9976708074534162</td><td>-0.26112804367744535</td><td>3.516487497194251E-5</td></tr>\n",
       "<tr><td>Dictum Mi Limited</td><td>home and technology</td><td>0.9699537750385208</td><td>0.976313079299691</td><td>0.9982905982905983</td><td>-0.2563656929057262</td><td>0.017267323048870048</td></tr>\n",
       "<tr><td>Varius Orci Insti...</td><td>outdoors</td><td>0.8846944016435542</td><td>0.8896969696969697</td><td>0.9978900228222021</td><td>-0.2782892897457009</td><td>0.001229772569176...</td></tr>\n",
       "<tr><td>Porttitor Eros In...</td><td>home and technology</td><td>0.7175141242937854</td><td>0.7312049433573635</td><td>0.997946611909651</td><td>-0.32688238631760447</td><td>3.525839068590031...</td></tr>\n",
       "<tr><td>At Augue Corporation</td><td>fashion and acces...</td><td>0.775808936825886</td><td>0.7270194986072424</td><td>0.9989112683723462</td><td>-0.2405098584144305</td><td>4.278292499657674E-4</td></tr>\n",
       "<tr><td>Montes Limited</td><td>outdoors</td><td>0.6890087313816128</td><td>0.6945454545454546</td><td>0.9993638676844784</td><td>-0.48205869930584055</td><td>0.003679322178192...</td></tr>\n",
       "<tr><td>Arcu Vestibulum C...</td><td>outdoors</td><td>0.40318438623523367</td><td>0.41454545454545455</td><td>0.9966216216216216</td><td>-0.2701670284081905</td><td>7.56917189310114E-5</td></tr>\n",
       "</table>\n",
       "only showing top 20 rows\n"
      ],
      "text/plain": [
       "+--------------------+--------------------+-------------------+-------------------+------------------+--------------------+--------------------+\n",
       "|       merchant_name|            category| merchant_rev_score| category_rev_score|       fraud_score|         trend_score|      variance_score|\n",
       "+--------------------+--------------------+-------------------+-------------------+------------------+--------------------+--------------------+\n",
       "|   Malesuada Vel Ltd|     books and music| 0.6782229070364664| 0.6928657799274486|0.9968982630272953| -0.2659155054587914|3.298045669878045E-4|\n",
       "|Mollis Integer Co...|     books and music|  0.886748844375963| 0.8887545344619106|0.9988385598141696|-0.22634669382732775|0.003390957761643...|\n",
       "|Volutpat Nulla In...| home and technology| 0.9119157678479712| 0.9227600411946447|0.9984037034080933|-0.24845221461810907|0.014523382876334779|\n",
       "|Donec Luctus Indu...|fashion and acces...| 0.6599897277863379| 0.5835654596100278|0.9975812953507122| -0.2821378659840347| 0.02459704997399887|\n",
       "|Vulputate Velit E...|fashion and acces...| 0.2894196199280945|0.20055710306406685|               1.0|-0.28624214187783215|5.362807428715451...|\n",
       "|     Erat Semper Ltd|            outdoors| 0.8877760657421674| 0.8921212121212121|0.9973759541984732| -0.2705380856818037|0.009104123221804636|\n",
       "|Hendrerit Consect...|     books and music| 0.8002054442732409| 0.8234582829504232|0.9981889105600446| -0.3230723102625034|0.001273636682038701|\n",
       "|  Vel Turpis Company| home and technology|0.47406266050333845|  0.518022657054583|0.9953416149068323| -0.3488128370442415|3.173017570266328...|\n",
       "|   Curabitur Vel LLC|     books and music| 0.2570621468926554|0.21644498186215236|               1.0|-0.27967123028464425|2.463011880582002E-5|\n",
       "|        Malesuada PC|            outdoors| 0.5192604006163328| 0.5212121212121212| 0.997093023255814|-0.31026056064007324|1.459836605990655...|\n",
       "|Dictum Mi Incorpo...|            outdoors| 0.6789933230611197| 0.6836363636363636|0.9981259370314842| -0.2225887610855588|0.007178339048868748|\n",
       "|   Pede Praesent Ltd|            outdoors| 0.7216230097586029| 0.7272727272727273|0.9964488636363636|-0.24547479786102444|0.001171100427013...|\n",
       "|Elit Sed Consequa...|       art and gifts| 0.9822804314329738| 0.9744990892531876|0.9966527196652719|  -0.319967897892773| 0.41684178810209166|\n",
       "|      Amet Nulla Ltd|     books and music|0.12352336928608115|0.08948004836759371|0.9976708074534162|-0.26112804367744535|3.516487497194251E-5|\n",
       "|   Dictum Mi Limited| home and technology| 0.9699537750385208|  0.976313079299691|0.9982905982905983| -0.2563656929057262|0.017267323048870048|\n",
       "|Varius Orci Insti...|            outdoors| 0.8846944016435542| 0.8896969696969697|0.9978900228222021| -0.2782892897457009|0.001229772569176...|\n",
       "|Porttitor Eros In...| home and technology| 0.7175141242937854| 0.7312049433573635| 0.997946611909651|-0.32688238631760447|3.525839068590031...|\n",
       "|At Augue Corporation|fashion and acces...|  0.775808936825886| 0.7270194986072424|0.9989112683723462| -0.2405098584144305|4.278292499657674E-4|\n",
       "|      Montes Limited|            outdoors| 0.6890087313816128| 0.6945454545454546|0.9993638676844784|-0.48205869930584055|0.003679322178192...|\n",
       "|Arcu Vestibulum C...|            outdoors|0.40318438623523367|0.41454545454545455|0.9966216216216216| -0.2701670284081905| 7.56917189310114E-5|\n",
       "+--------------------+--------------------+-------------------+-------------------+------------------+--------------------+--------------------+\n",
       "only showing top 20 rows"
      ]
     },
     "execution_count": 240,
     "metadata": {},
     "output_type": "execute_result"
    }
   ],
   "source": [
    "variance_score = variance_score.withColumnRenamed(\"merchant_name\",\"key\")\n",
    "final_score = final_score.join(variance_score, variance_score.key ==  revenue_score.merchant_name,\"inner\").drop(\"key\")\n",
    "final_score"
   ]
  },
  {
   "cell_type": "code",
   "execution_count": null,
   "metadata": {},
   "outputs": [
    {
     "name": "stderr",
     "output_type": "stream",
     "text": [
      "                                                                                \r"
     ]
    },
    {
     "data": {
      "text/plain": [
       "3895"
      ]
     },
     "execution_count": 241,
     "metadata": {},
     "output_type": "execute_result"
    }
   ],
   "source": [
    "final_score.count()"
   ]
  },
  {
   "cell_type": "code",
   "execution_count": null,
   "metadata": {},
   "outputs": [
    {
     "name": "stderr",
     "output_type": "stream",
     "text": [
      "                                                                                \r"
     ]
    }
   ],
   "source": [
    "final_score.write.parquet(\"../data/curated/score_table\")"
   ]
  }
 ],
 "metadata": {
  "kernelspec": {
   "display_name": "Python 3.8.9 64-bit",
   "language": "python",
   "name": "python3"
  },
  "language_info": {
   "codemirror_mode": {
    "name": "ipython",
    "version": 3
   },
   "file_extension": ".py",
   "mimetype": "text/x-python",
   "name": "python",
   "nbconvert_exporter": "python",
   "pygments_lexer": "ipython3",
   "version": "3.8.9"
  },
  "orig_nbformat": 4,
  "vscode": {
   "interpreter": {
    "hash": "31f2aee4e71d21fbe5cf8b01ff0e069b9275f58929596ceb00d14d90e3e16cd6"
   }
  }
 },
 "nbformat": 4,
 "nbformat_minor": 2
}
