{
 "cells": [
  {
   "cell_type": "code",
   "execution_count": 46,
   "metadata": {},
   "outputs": [],
   "source": [
    "from pyspark.sql import SparkSession, functions as F\n",
    "from pyspark.sql.functions import *\n",
    "\n",
    "spark = (\n",
    "    SparkSession.builder.appName(\"ADS project 2\")\n",
    "    .config(\"spark.sql.repl.eagerEval.enabled\", True) \n",
    "    .config(\"spark.sql.parquet.cacheMetadata\", \"true\")\n",
    "    .config(\"spark.sql.session.timeZone\", \"Etc/UTC\")\n",
    "    .config(\"spark.executor.memory\", \"2g\")\n",
    "    .config(\"spark.driver.memory\", \"4g\")\n",
    "    .getOrCreate()\n",
    ")"
   ]
  },
  {
   "cell_type": "code",
   "execution_count": 47,
   "metadata": {},
   "outputs": [],
   "source": [
    "data_loc = \"../data/tables/\"\n",
    "\n",
    "consumer_fraud = spark.read.option(\"header\", \"true\").csv(data_loc+\"consumer_fraud_probability.csv\")\n",
    "merchant_fraud = spark.read.option(\"header\", \"true\").csv(data_loc+\"merchant_fraud_probability.csv\")\n",
    "raw_join = spark.read.parquet(\"../data/curated/raw_join_internal_table/\")"
   ]
  },
  {
   "cell_type": "markdown",
   "metadata": {},
   "source": [
    "<h2>1. Unsupervised Learning: to classify each instance into low, medium and high level of fraud probability</h2>"
   ]
  },
  {
   "cell_type": "markdown",
   "metadata": {},
   "source": [
    "<h3>1.1 Determine whether an instance is an outlier based on dollor value (assumption: an outlier may be a fraud instance)</h3>"
   ]
  },
  {
   "cell_type": "markdown",
   "metadata": {},
   "source": [
    "<h4>1.1.1 Extract and aggregate the dollar value for each user </h4>"
   ]
  },
  {
   "cell_type": "code",
   "execution_count": 48,
   "metadata": {},
   "outputs": [],
   "source": [
    "# find the average dollor value for each user on each date\n",
    "raw_join_date = (raw_join.groupBy(\"user_id\", \"order_datetime\")\n",
    "                        .agg(avg(\"dollar_value\").alias(\"dollar_value_average\"))\n",
    "                        .orderBy(\"user_id\"))"
   ]
  },
  {
   "cell_type": "code",
   "execution_count": 49,
   "metadata": {},
   "outputs": [],
   "source": [
    "# find the average and standard deviation of dollor value for each user\n",
    "join_std = (raw_join_date.groupBy(\"user_id\")\\\n",
    "                         .agg(stddev_pop(\"dollar_value_average\").alias(\"dollar_std\"),\n",
    "                              avg(\"dollar_value_average\").alias(\"dollar_mean\")))"
   ]
  },
  {
   "cell_type": "markdown",
   "metadata": {},
   "source": [
    "<h4>1.1.2 Determine whether an instance is an outlier for corresponding user (0 is not outlier; 1 is outlier) </h4>"
   ]
  },
  {
   "cell_type": "code",
   "execution_count": 50,
   "metadata": {},
   "outputs": [],
   "source": [
    "raw_join_outlier = (raw_join_date.join(join_std, \"user_id\", \"left\")\n",
    "                   .withColumn(\"isOutlier\",\n",
    "                                F.when((abs(col(\"dollar_value_average\") - col(\"dollar_mean\")) <= 3 * col(\"dollar_std\")), 0).otherwise(1))\n",
    "                   .drop(\"dollar_mean\")\n",
    "                   .drop(\"dollar_std\")\n",
    "                   .drop(\"dollar_value_average\"))"
   ]
  },
  {
   "cell_type": "code",
   "execution_count": 39,
   "metadata": {},
   "outputs": [
    {
     "name": "stderr",
     "output_type": "stream",
     "text": [
      "[Stage 919:====>            (1 + 3) / 4][Stage 920:>                (0 + 1) / 4]\r"
     ]
    },
    {
     "name": "stdout",
     "output_type": "stream",
     "text": [
      "22/10/09 01:36:55 WARN RowBasedKeyValueBatch: Calling spill() on RowBasedKeyValueBatch. Will not spill but return 0.\n"
     ]
    },
    {
     "name": "stderr",
     "output_type": "stream",
     "text": [
      "[Stage 919:============>    (3 + 1) / 4][Stage 920:========>        (2 + 2) / 4]\r"
     ]
    },
    {
     "name": "stdout",
     "output_type": "stream",
     "text": [
      "22/10/09 01:37:04 WARN RowBasedKeyValueBatch: Calling spill() on RowBasedKeyValueBatch. Will not spill but return 0.\n"
     ]
    },
    {
     "name": "stderr",
     "output_type": "stream",
     "text": [
      "[Stage 942:====>            (1 + 3) / 4][Stage 943:>                (0 + 1) / 4]\r"
     ]
    },
    {
     "name": "stdout",
     "output_type": "stream",
     "text": [
      "22/10/09 01:38:00 WARN RowBasedKeyValueBatch: Calling spill() on RowBasedKeyValueBatch. Will not spill but return 0.\n"
     ]
    },
    {
     "name": "stderr",
     "output_type": "stream",
     "text": [
      "[Stage 942:============>    (3 + 1) / 4][Stage 943:========>        (2 + 2) / 4]\r"
     ]
    },
    {
     "name": "stdout",
     "output_type": "stream",
     "text": [
      "22/10/09 01:38:06 WARN RowBasedKeyValueBatch: Calling spill() on RowBasedKeyValueBatch. Will not spill but return 0.\n"
     ]
    },
    {
     "name": "stderr",
     "output_type": "stream",
     "text": [
      "                                                                                \r"
     ]
    },
    {
     "data": {
      "text/html": [
       "<table border='1'>\n",
       "<tr><th>user_id</th><th>order_datetime</th><th>isOutlier</th></tr>\n",
       "<tr><td>1</td><td>2022-05-23</td><td>0</td></tr>\n",
       "<tr><td>1</td><td>2021-07-30</td><td>0</td></tr>\n",
       "<tr><td>1</td><td>2022-08-21</td><td>0</td></tr>\n",
       "<tr><td>1</td><td>2021-09-12</td><td>0</td></tr>\n",
       "<tr><td>1</td><td>2022-10-25</td><td>0</td></tr>\n",
       "<tr><td>1</td><td>2021-08-21</td><td>0</td></tr>\n",
       "<tr><td>1</td><td>2022-02-06</td><td>0</td></tr>\n",
       "<tr><td>1</td><td>2021-05-30</td><td>0</td></tr>\n",
       "<tr><td>1</td><td>2021-07-13</td><td>0</td></tr>\n",
       "<tr><td>1</td><td>2021-05-20</td><td>0</td></tr>\n",
       "<tr><td>1</td><td>2021-11-13</td><td>0</td></tr>\n",
       "<tr><td>1</td><td>2021-09-17</td><td>0</td></tr>\n",
       "<tr><td>1</td><td>2022-07-25</td><td>0</td></tr>\n",
       "<tr><td>1</td><td>2021-09-15</td><td>0</td></tr>\n",
       "<tr><td>1</td><td>2021-08-24</td><td>0</td></tr>\n",
       "<tr><td>1</td><td>2021-08-12</td><td>0</td></tr>\n",
       "<tr><td>1</td><td>2022-08-09</td><td>0</td></tr>\n",
       "<tr><td>1</td><td>2022-03-31</td><td>0</td></tr>\n",
       "<tr><td>1</td><td>2022-07-06</td><td>0</td></tr>\n",
       "<tr><td>1</td><td>2021-12-10</td><td>0</td></tr>\n",
       "</table>\n",
       "only showing top 20 rows\n"
      ],
      "text/plain": [
       "+-------+--------------+---------+\n",
       "|user_id|order_datetime|isOutlier|\n",
       "+-------+--------------+---------+\n",
       "|      1|    2022-05-23|        0|\n",
       "|      1|    2021-07-30|        0|\n",
       "|      1|    2022-08-21|        0|\n",
       "|      1|    2021-09-12|        0|\n",
       "|      1|    2022-10-25|        0|\n",
       "|      1|    2021-08-21|        0|\n",
       "|      1|    2022-02-06|        0|\n",
       "|      1|    2021-05-30|        0|\n",
       "|      1|    2021-07-13|        0|\n",
       "|      1|    2021-05-20|        0|\n",
       "|      1|    2021-11-13|        0|\n",
       "|      1|    2021-09-17|        0|\n",
       "|      1|    2022-07-25|        0|\n",
       "|      1|    2021-09-15|        0|\n",
       "|      1|    2021-08-24|        0|\n",
       "|      1|    2021-08-12|        0|\n",
       "|      1|    2022-08-09|        0|\n",
       "|      1|    2022-03-31|        0|\n",
       "|      1|    2022-07-06|        0|\n",
       "|      1|    2021-12-10|        0|\n",
       "+-------+--------------+---------+\n",
       "only showing top 20 rows"
      ]
     },
     "execution_count": 39,
     "metadata": {},
     "output_type": "execute_result"
    }
   ],
   "source": [
    "raw_join_outlier"
   ]
  },
  {
   "cell_type": "markdown",
   "metadata": {},
   "source": [
    "<h3>1.2. Join with consumer fraud probability</h3>"
   ]
  },
  {
   "cell_type": "code",
   "execution_count": 40,
   "metadata": {},
   "outputs": [],
   "source": [
    "consumer_fraud = consumer_fraud.withColumnRenamed(\"user_id\", \"user_id_alt\")\n",
    "consumer_fraud = consumer_fraud.withColumnRenamed(\"order_datetime\", \"order_datetime_alt\")"
   ]
  },
  {
   "cell_type": "code",
   "execution_count": 41,
   "metadata": {},
   "outputs": [],
   "source": [
    "raw_join_outlier.createOrReplaceTempView(\"consumer\")\n",
    "consumer_fraud.createOrReplaceTempView(\"probability\")\n",
    "\n",
    "consumer_prob = spark.sql(\"\"\"\n",
    "SELECT \n",
    "    user_id, order_datetime, fraud_probability, isOutlier\n",
    "FROM \n",
    "    consumer\n",
    "LEFT JOIN \n",
    "    probability\n",
    "ON \n",
    "    consumer.user_id == probability.user_id_alt\n",
    "AND \n",
    "    consumer.order_datetime == probability.order_datetime_alt\n",
    "\"\"\")\n"
   ]
  },
  {
   "cell_type": "code",
   "execution_count": 42,
   "metadata": {},
   "outputs": [],
   "source": [
    "# fill the non exists probability with 0.1\n",
    "consumer_prob = consumer_prob.withColumn(\"fraud_probability\", \n",
    "                            F.when((col(\"fraud_probability\").isNull()), 0.1).otherwise(F.col(\"fraud_probability\")))"
   ]
  },
  {
   "cell_type": "code",
   "execution_count": 43,
   "metadata": {},
   "outputs": [],
   "source": [
    "# convert data type of features to ensure they can be vectorize\n",
    "consumer_prob = consumer_prob.withColumn(\"fraud_probability\", F.col(\"fraud_probability\").cast(\"float\"))"
   ]
  },
  {
   "cell_type": "markdown",
   "metadata": {},
   "source": [
    "<h3>1.3. Vectorize and standardize the features to ensure they are suitible for the clustering model (k-means)</h3>"
   ]
  },
  {
   "cell_type": "code",
   "execution_count": 44,
   "metadata": {},
   "outputs": [],
   "source": [
    "# vectorized the features for model training\n",
    "from pyspark.ml.feature import VectorAssembler\n",
    "\n",
    "features = 'features'\n",
    "input_cols = [\"fraud_probability\", \"isOutlier\"]\n",
    "\n",
    "assembler = VectorAssembler(\n",
    "    # which column to combine\n",
    "    inputCols=input_cols, \n",
    "    # How should the combined columns be named\n",
    "    outputCol=features\n",
    ")\n",
    "\n",
    "consumer_transformed = assembler.transform(consumer_prob.dropna('any'))"
   ]
  },
  {
   "cell_type": "code",
   "execution_count": 45,
   "metadata": {},
   "outputs": [
    {
     "name": "stderr",
     "output_type": "stream",
     "text": [
      "[Stage 966:====>            (1 + 3) / 4][Stage 967:>                (0 + 1) / 4]\r"
     ]
    },
    {
     "name": "stdout",
     "output_type": "stream",
     "text": [
      "22/10/09 01:38:46 WARN RowBasedKeyValueBatch: Calling spill() on RowBasedKeyValueBatch. Will not spill but return 0.\n"
     ]
    },
    {
     "name": "stderr",
     "output_type": "stream",
     "text": [
      "[Stage 966:============>    (3 + 1) / 4][Stage 967:========>        (2 + 2) / 4]\r"
     ]
    },
    {
     "name": "stdout",
     "output_type": "stream",
     "text": [
      "22/10/09 01:38:51 WARN RowBasedKeyValueBatch: Calling spill() on RowBasedKeyValueBatch. Will not spill but return 0.\n"
     ]
    },
    {
     "name": "stderr",
     "output_type": "stream",
     "text": [
      "                                                                                \r"
     ]
    }
   ],
   "source": [
    "from pyspark.ml.feature import StandardScaler\n",
    "\n",
    "scaler = StandardScaler(inputCol=\"features\", outputCol=\"scaledFeatures\",\n",
    "                        withStd=True, withMean=False)\n",
    "\n",
    "# Compute summary statistics by fitting the StandardScaler\n",
    "scalerModel = scaler.fit(consumer_transformed)\n",
    "\n",
    "consumer_transformed = scalerModel.transform(consumer_transformed)"
   ]
  },
  {
   "cell_type": "code",
   "execution_count": 51,
   "metadata": {},
   "outputs": [
    {
     "name": "stderr",
     "output_type": "stream",
     "text": [
      "[Stage 992:====>            (1 + 3) / 4][Stage 993:>                (0 + 1) / 4]\r"
     ]
    },
    {
     "name": "stdout",
     "output_type": "stream",
     "text": [
      "22/10/09 01:39:30 WARN RowBasedKeyValueBatch: Calling spill() on RowBasedKeyValueBatch. Will not spill but return 0.\n"
     ]
    },
    {
     "name": "stderr",
     "output_type": "stream",
     "text": [
      "[Stage 992:============>    (3 + 1) / 4][Stage 993:========>        (2 + 2) / 4]\r"
     ]
    },
    {
     "name": "stdout",
     "output_type": "stream",
     "text": [
      "22/10/09 01:39:36 WARN RowBasedKeyValueBatch: Calling spill() on RowBasedKeyValueBatch. Will not spill but return 0.\n"
     ]
    },
    {
     "name": "stderr",
     "output_type": "stream",
     "text": [
      "                                                                                \r"
     ]
    }
   ],
   "source": [
    "from pyspark.ml.feature import VectorIndexer\n",
    "\n",
    "featureIndexer = VectorIndexer(inputCol=\"scaledFeatures\", \\\n",
    "                               outputCol=\"indexedFeatures\",\\\n",
    "                               maxCategories=3165\n",
    ").fit(consumer_transformed)\n",
    "\n",
    "consumer_transformed = featureIndexer.transform(consumer_transformed)"
   ]
  },
  {
   "cell_type": "markdown",
   "metadata": {},
   "source": [
    "<h3>1.4. Modelling using k-means and clustering </h3>"
   ]
  },
  {
   "cell_type": "code",
   "execution_count": 52,
   "metadata": {},
   "outputs": [
    {
     "name": "stderr",
     "output_type": "stream",
     "text": [
      "[Stage 1011:====>           (1 + 3) / 4][Stage 1012:>               (0 + 1) / 4]\r"
     ]
    },
    {
     "name": "stdout",
     "output_type": "stream",
     "text": [
      "22/10/09 01:40:21 WARN RowBasedKeyValueBatch: Calling spill() on RowBasedKeyValueBatch. Will not spill but return 0.\n"
     ]
    },
    {
     "name": "stderr",
     "output_type": "stream",
     "text": [
      "[Stage 1011:============>   (3 + 1) / 4][Stage 1012:========>       (2 + 2) / 4]\r"
     ]
    },
    {
     "name": "stdout",
     "output_type": "stream",
     "text": [
      "22/10/09 01:40:27 WARN RowBasedKeyValueBatch: Calling spill() on RowBasedKeyValueBatch. Will not spill but return 0.\n"
     ]
    },
    {
     "name": "stderr",
     "output_type": "stream",
     "text": [
      "[Stage 1027:====>           (1 + 3) / 4][Stage 1028:>               (0 + 1) / 4]\r"
     ]
    },
    {
     "name": "stdout",
     "output_type": "stream",
     "text": [
      "22/10/09 01:40:59 WARN RowBasedKeyValueBatch: Calling spill() on RowBasedKeyValueBatch. Will not spill but return 0.\n"
     ]
    },
    {
     "name": "stderr",
     "output_type": "stream",
     "text": [
      "[Stage 1027:============>   (3 + 1) / 4][Stage 1028:========>       (2 + 2) / 4]\r"
     ]
    },
    {
     "name": "stdout",
     "output_type": "stream",
     "text": [
      "22/10/09 01:41:05 WARN RowBasedKeyValueBatch: Calling spill() on RowBasedKeyValueBatch. Will not spill but return 0.\n"
     ]
    },
    {
     "name": "stderr",
     "output_type": "stream",
     "text": [
      "[Stage 1108:====>           (1 + 3) / 4][Stage 1110:>               (0 + 1) / 4]\r"
     ]
    },
    {
     "name": "stdout",
     "output_type": "stream",
     "text": [
      "22/10/09 01:42:39 WARN RowBasedKeyValueBatch: Calling spill() on RowBasedKeyValueBatch. Will not spill but return 0.\n"
     ]
    },
    {
     "name": "stderr",
     "output_type": "stream",
     "text": [
      "[Stage 1108:============>   (3 + 1) / 4][Stage 1110:========>       (2 + 2) / 4]\r"
     ]
    },
    {
     "name": "stdout",
     "output_type": "stream",
     "text": [
      "22/10/09 01:42:45 WARN RowBasedKeyValueBatch: Calling spill() on RowBasedKeyValueBatch. Will not spill but return 0.\n"
     ]
    },
    {
     "name": "stderr",
     "output_type": "stream",
     "text": [
      "                                                                                \r"
     ]
    }
   ],
   "source": [
    "from pyspark.ml.clustering import KMeans\n",
    "\n",
    "kmeans = KMeans(featuresCol='indexedFeatures', k=3)\n",
    "model = kmeans.fit(consumer_transformed.select(\"indexedFeatures\"))\n",
    "consumer_kmean = model.transform(consumer_transformed)\n",
    "consumer_kmean = consumer_kmean.withColumnRenamed(\"prediction\", \"fraud_group\")"
   ]
  },
  {
   "cell_type": "markdown",
   "metadata": {},
   "source": [
    "<h3>1.5. Check the clustering is followed by the assumption </h3>"
   ]
  },
  {
   "cell_type": "code",
   "execution_count": 53,
   "metadata": {},
   "outputs": [],
   "source": [
    "consumer_check = consumer_kmean.groupBy(\"fraud_group\").agg(mean(\"fraud_probability\").alias(\"mean_prob\"), \n",
    "                                          sum(\"isOutlier\").alias(\"outlier_amount\"), \n",
    "                                          count(\"isOutlier\").alias(\"total_instance\"))"
   ]
  },
  {
   "cell_type": "code",
   "execution_count": 54,
   "metadata": {},
   "outputs": [],
   "source": [
    "consumer_check = (consumer_check.withColumn(\"outlier_rate\", F.col(\"outlier_amount\")/F.col(\"total_instance\"))\n",
    "                               .drop(col(\"outlier_amount\"))\n",
    "                               .drop(col(\"total_instance\")))"
   ]
  },
  {
   "cell_type": "code",
   "execution_count": 55,
   "metadata": {},
   "outputs": [
    {
     "name": "stderr",
     "output_type": "stream",
     "text": [
      "[Stage 1132:====>           (1 + 3) / 4][Stage 1133:>               (0 + 1) / 4]\r"
     ]
    },
    {
     "name": "stdout",
     "output_type": "stream",
     "text": [
      "22/10/09 01:43:40 WARN RowBasedKeyValueBatch: Calling spill() on RowBasedKeyValueBatch. Will not spill but return 0.\n"
     ]
    },
    {
     "name": "stderr",
     "output_type": "stream",
     "text": [
      "[Stage 1132:============>   (3 + 1) / 4][Stage 1133:========>       (2 + 2) / 4]\r"
     ]
    },
    {
     "name": "stdout",
     "output_type": "stream",
     "text": [
      "22/10/09 01:43:46 WARN RowBasedKeyValueBatch: Calling spill() on RowBasedKeyValueBatch. Will not spill but return 0.\n"
     ]
    },
    {
     "name": "stderr",
     "output_type": "stream",
     "text": [
      "[Stage 1154:====>           (1 + 3) / 4][Stage 1156:>               (0 + 1) / 4]\r"
     ]
    },
    {
     "name": "stdout",
     "output_type": "stream",
     "text": [
      "22/10/09 01:44:40 WARN RowBasedKeyValueBatch: Calling spill() on RowBasedKeyValueBatch. Will not spill but return 0.\n"
     ]
    },
    {
     "name": "stderr",
     "output_type": "stream",
     "text": [
      "[Stage 1154:============>   (3 + 1) / 4][Stage 1156:========>       (2 + 2) / 4]\r"
     ]
    },
    {
     "name": "stdout",
     "output_type": "stream",
     "text": [
      "22/10/09 01:44:46 WARN RowBasedKeyValueBatch: Calling spill() on RowBasedKeyValueBatch. Will not spill but return 0.\n"
     ]
    },
    {
     "name": "stderr",
     "output_type": "stream",
     "text": [
      "                                                                                \r"
     ]
    },
    {
     "data": {
      "text/html": [
       "<table border='1'>\n",
       "<tr><th>fraud_group</th><th>mean_prob</th><th>outlier_rate</th></tr>\n",
       "<tr><td>1</td><td>12.78110882133088</td><td>0.6509337972232251</td></tr>\n",
       "<tr><td>2</td><td>43.71548542520274</td><td>0.7804347826086957</td></tr>\n",
       "<tr><td>0</td><td>0.10000000149011612</td><td>0.014182568866228954</td></tr>\n",
       "</table>\n"
      ],
      "text/plain": [
       "+-----------+-------------------+--------------------+\n",
       "|fraud_group|          mean_prob|        outlier_rate|\n",
       "+-----------+-------------------+--------------------+\n",
       "|          1|  12.78110882133088|  0.6509337972232251|\n",
       "|          2|  43.71548542520274|  0.7804347826086957|\n",
       "|          0|0.10000000149011612|0.014182568866228954|\n",
       "+-----------+-------------------+--------------------+"
      ]
     },
     "execution_count": 55,
     "metadata": {},
     "output_type": "execute_result"
    }
   ],
   "source": [
    "consumer_check"
   ]
  },
  {
   "cell_type": "code",
   "execution_count": 56,
   "metadata": {},
   "outputs": [
    {
     "name": "stderr",
     "output_type": "stream",
     "text": [
      "[Stage 1178:====>           (1 + 3) / 4][Stage 1179:>               (0 + 1) / 4]\r"
     ]
    },
    {
     "name": "stdout",
     "output_type": "stream",
     "text": [
      "22/10/09 01:45:47 WARN RowBasedKeyValueBatch: Calling spill() on RowBasedKeyValueBatch. Will not spill but return 0.\n"
     ]
    },
    {
     "name": "stderr",
     "output_type": "stream",
     "text": [
      "[Stage 1178:============>   (3 + 1) / 4][Stage 1179:========>       (2 + 2) / 4]\r"
     ]
    },
    {
     "name": "stdout",
     "output_type": "stream",
     "text": [
      "22/10/09 01:45:56 WARN RowBasedKeyValueBatch: Calling spill() on RowBasedKeyValueBatch. Will not spill but return 0.\n"
     ]
    },
    {
     "name": "stderr",
     "output_type": "stream",
     "text": [
      "[Stage 1200:====>           (1 + 3) / 4][Stage 1202:>               (0 + 1) / 4]\r"
     ]
    },
    {
     "name": "stdout",
     "output_type": "stream",
     "text": [
      "22/10/09 01:47:04 WARN RowBasedKeyValueBatch: Calling spill() on RowBasedKeyValueBatch. Will not spill but return 0.\n"
     ]
    },
    {
     "name": "stderr",
     "output_type": "stream",
     "text": [
      "[Stage 1200:============>   (3 + 1) / 4][Stage 1202:========>       (2 + 2) / 4]\r"
     ]
    },
    {
     "name": "stdout",
     "output_type": "stream",
     "text": [
      "22/10/09 01:47:11 WARN RowBasedKeyValueBatch: Calling spill() on RowBasedKeyValueBatch. Will not spill but return 0.\n"
     ]
    },
    {
     "name": "stderr",
     "output_type": "stream",
     "text": [
      "[Stage 1223:====>           (1 + 3) / 4][Stage 1225:>               (0 + 1) / 4]\r"
     ]
    },
    {
     "name": "stdout",
     "output_type": "stream",
     "text": [
      "22/10/09 01:48:02 WARN RowBasedKeyValueBatch: Calling spill() on RowBasedKeyValueBatch. Will not spill but return 0.\n"
     ]
    },
    {
     "name": "stderr",
     "output_type": "stream",
     "text": [
      "[Stage 1223:============>   (3 + 1) / 4][Stage 1225:========>       (2 + 2) / 4]\r"
     ]
    },
    {
     "name": "stdout",
     "output_type": "stream",
     "text": [
      "22/10/09 01:48:08 WARN RowBasedKeyValueBatch: Calling spill() on RowBasedKeyValueBatch. Will not spill but return 0.\n"
     ]
    },
    {
     "name": "stderr",
     "output_type": "stream",
     "text": [
      "                                                                                \r"
     ]
    }
   ],
   "source": [
    "prob_group0 = (consumer_check.where(col(\"fraud_group\") == 0).collect())[0].mean_prob\n",
    "prob_group1 = (consumer_check.where(col(\"fraud_group\") == 1).collect())[0].mean_prob\n",
    "prob_group2 = (consumer_check.where(col(\"fraud_group\") == 2).collect())[0].mean_prob"
   ]
  },
  {
   "cell_type": "code",
   "execution_count": 57,
   "metadata": {},
   "outputs": [],
   "source": [
    "if prob_group0 > prob_group1:\n",
    "    consumer_kmean = consumer_kmean.withColumn(\"fraud_group\", F.when(F.col(\"fraud_group\") == 0, 1).otherwise(F.when(F.col(\"fraud_group\") == 1, 0).otherwise(F.col(\"fraud_group\"))))\n",
    "if prob_group1 > prob_group2:\n",
    "    consumer_kmean = consumer_kmean.withColumn(\"fraud_group\", F.when(F.col(\"fraud_group\") == 1, 2).otherwise(F.when(F.col(\"fraud_group\") == 2, 1).otherwise(F.col(\"fraud_group\"))))"
   ]
  },
  {
   "cell_type": "markdown",
   "metadata": {},
   "source": [
    "<h3>1.6. Add the fraud_group feature to the internal joined dataset</h3>"
   ]
  },
  {
   "cell_type": "code",
   "execution_count": 58,
   "metadata": {},
   "outputs": [],
   "source": [
    "add_fraud = raw_join.join(consumer_kmean, [\"user_id\", \"order_datetime\"], \"left\")"
   ]
  },
  {
   "cell_type": "code",
   "execution_count": 59,
   "metadata": {},
   "outputs": [],
   "source": [
    "add_fraud = add_fraud.drop(\"fraud_probability\", \"isOutlier\", \"features\", \"scaledFeatures\", \"indexedFeatures\")"
   ]
  },
  {
   "cell_type": "markdown",
   "metadata": {},
   "source": [
    "<h2>2. Outlier removal</h2>"
   ]
  },
  {
   "cell_type": "markdown",
   "metadata": {},
   "source": [
    "<h3>2.1 Get distribution for each revenue level</h3>"
   ]
  },
  {
   "cell_type": "code",
   "execution_count": 22,
   "metadata": {},
   "outputs": [],
   "source": [
    "import seaborn as sns\n",
    "sns.set(style = 'whitegrid')\n",
    "my_order = [\"a\", \"b\", \"c\", \"d\", \"e\"]"
   ]
  },
  {
   "cell_type": "code",
   "execution_count": 23,
   "metadata": {},
   "outputs": [
    {
     "name": "stderr",
     "output_type": "stream",
     "text": [
      "                                                                                \r"
     ]
    },
    {
     "data": {
      "text/plain": [
       "<AxesSubplot:xlabel='dollar_value', ylabel='revenue_level'>"
      ]
     },
     "execution_count": 23,
     "metadata": {},
     "output_type": "execute_result"
    },
    {
     "data": {
      "image/png": "[encoded data removed]",
      "text/plain": [
       "<Figure size 432x288 with 1 Axes>"
      ]
     },
     "metadata": {
      "needs_background": "light"
     },
     "output_type": "display_data"
    }
   ],
   "source": [
    "sns.violinplot(data=add_fraud.sample(False, 0.1).toPandas(), x=\"dollar_value\", y=\"revenue_level\", order=my_order)"
   ]
  },
  {
   "cell_type": "code",
   "execution_count": 24,
   "metadata": {},
   "outputs": [
    {
     "name": "stderr",
     "output_type": "stream",
     "text": [
      "                                                                                \r"
     ]
    },
    {
     "data": {
      "text/plain": [
       "<AxesSubplot:xlabel='dollar_value', ylabel='revenue_level'>"
      ]
     },
     "execution_count": 24,
     "metadata": {},
     "output_type": "execute_result"
    },
    {
     "data": {
      "image/png": "[encoded data removed]",
      "text/plain": [
       "<Figure size 432x288 with 1 Axes>"
      ]
     },
     "metadata": {
      "needs_background": "light"
     },
     "output_type": "display_data"
    }
   ],
   "source": [
    "sns.boxplot(data=add_fraud.sample(False, 0.1).toPandas(), x=\"dollar_value\", y=\"revenue_level\", order=my_order)"
   ]
  },
  {
   "cell_type": "markdown",
   "metadata": {},
   "source": [
    "<h4>2.1.1 Remove outliers based on standard deviation</h4>"
   ]
  },
  {
   "cell_type": "code",
   "execution_count": 60,
   "metadata": {},
   "outputs": [
    {
     "name": "stderr",
     "output_type": "stream",
     "text": [
      "[Stage 1248:========>       (2 + 2) / 4][Stage 1249:>               (0 + 2) / 4]\r"
     ]
    },
    {
     "name": "stdout",
     "output_type": "stream",
     "text": [
      "22/10/09 01:49:14 WARN RowBasedKeyValueBatch: Calling spill() on RowBasedKeyValueBatch. Will not spill but return 0.\n"
     ]
    },
    {
     "name": "stderr",
     "output_type": "stream",
     "text": [
      "[Stage 1248:============>   (3 + 1) / 4][Stage 1249:>               (0 + 3) / 4]\r"
     ]
    },
    {
     "name": "stdout",
     "output_type": "stream",
     "text": [
      "22/10/09 01:49:22 WARN RowBasedKeyValueBatch: Calling spill() on RowBasedKeyValueBatch. Will not spill but return 0.\n"
     ]
    },
    {
     "name": "stderr",
     "output_type": "stream",
     "text": [
      "[Stage 1279:========>       (2 + 2) / 4][Stage 1280:>               (0 + 2) / 4]\r"
     ]
    },
    {
     "name": "stdout",
     "output_type": "stream",
     "text": [
      "22/10/09 01:50:46 WARN RowBasedKeyValueBatch: Calling spill() on RowBasedKeyValueBatch. Will not spill but return 0.\n"
     ]
    },
    {
     "name": "stderr",
     "output_type": "stream",
     "text": [
      "[Stage 1279:============>   (3 + 1) / 4][Stage 1280:>               (0 + 3) / 4]\r"
     ]
    },
    {
     "name": "stdout",
     "output_type": "stream",
     "text": [
      "22/10/09 01:50:50 WARN RowBasedKeyValueBatch: Calling spill() on RowBasedKeyValueBatch. Will not spill but return 0.\n"
     ]
    },
    {
     "name": "stderr",
     "output_type": "stream",
     "text": [
      "                                                                                \r"
     ]
    },
    {
     "data": {
      "text/html": [
       "<table border='1'>\n",
       "<tr><th>revenue_level</th><th>dollar_value_std</th><th>dollar_value_mean</th></tr>\n",
       "<tr><td>e</td><td>399.0600030109279</td><td>205.81060473911995</td></tr>\n",
       "<tr><td>d</td><td>681.0178374382822</td><td>272.261558375609</td></tr>\n",
       "<tr><td>c</td><td>439.15886606318264</td><td>136.61671509843808</td></tr>\n",
       "<tr><td>b</td><td>607.8880371974757</td><td>197.4955404638425</td></tr>\n",
       "<tr><td>a</td><td>366.0590821739542</td><td>142.19102393900536</td></tr>\n",
       "</table>\n"
      ],
      "text/plain": [
       "+-------------+------------------+------------------+\n",
       "|revenue_level|  dollar_value_std| dollar_value_mean|\n",
       "+-------------+------------------+------------------+\n",
       "|            e| 399.0600030109279|205.81060473911995|\n",
       "|            d| 681.0178374382822|  272.261558375609|\n",
       "|            c|439.15886606318264|136.61671509843808|\n",
       "|            b| 607.8880371974757| 197.4955404638425|\n",
       "|            a| 366.0590821739542|142.19102393900536|\n",
       "+-------------+------------------+------------------+"
      ]
     },
     "execution_count": 60,
     "metadata": {},
     "output_type": "execute_result"
    }
   ],
   "source": [
    "rev_std = (add_fraud.groupBy(\"revenue_level\").agg(stddev_pop(\"dollar_value\").alias(\"dollar_value_std\"),\n",
    "                                             avg(\"dollar_value\").alias(\"dollar_value_mean\")))\n",
    "rev_std"
   ]
  },
  {
   "cell_type": "code",
   "execution_count": 61,
   "metadata": {},
   "outputs": [
    {
     "name": "stderr",
     "output_type": "stream",
     "text": [
      "[Stage 1310:====>           (1 + 3) / 4][Stage 1311:>               (0 + 1) / 4]\r"
     ]
    },
    {
     "name": "stdout",
     "output_type": "stream",
     "text": [
      "22/10/09 01:52:06 WARN RowBasedKeyValueBatch: Calling spill() on RowBasedKeyValueBatch. Will not spill but return 0.\n"
     ]
    },
    {
     "name": "stderr",
     "output_type": "stream",
     "text": [
      "[Stage 1310:============>   (3 + 1) / 4][Stage 1311:>               (0 + 3) / 4]\r"
     ]
    },
    {
     "name": "stdout",
     "output_type": "stream",
     "text": [
      "22/10/09 01:52:14 WARN RowBasedKeyValueBatch: Calling spill() on RowBasedKeyValueBatch. Will not spill but return 0.\n"
     ]
    },
    {
     "name": "stderr",
     "output_type": "stream",
     "text": [
      "[Stage 1341:> (1 + 3) / 4][Stage 1342:> (0 + 1) / 4][Stage 1343:> (0 + 0) / 4]  \r"
     ]
    },
    {
     "name": "stdout",
     "output_type": "stream",
     "text": [
      "22/10/09 01:53:21 WARN RowBasedKeyValueBatch: Calling spill() on RowBasedKeyValueBatch. Will not spill but return 0.\n"
     ]
    },
    {
     "name": "stderr",
     "output_type": "stream",
     "text": [
      "[Stage 1341:=>(3 + 1) / 4][Stage 1342:> (0 + 3) / 4][Stage 1343:> (0 + 0) / 4]\r"
     ]
    },
    {
     "name": "stdout",
     "output_type": "stream",
     "text": [
      "22/10/09 01:53:25 WARN RowBasedKeyValueBatch: Calling spill() on RowBasedKeyValueBatch. Will not spill but return 0.\n"
     ]
    },
    {
     "name": "stderr",
     "output_type": "stream",
     "text": [
      "[Stage 1378:==========================================>             (3 + 1) / 4]\r"
     ]
    },
    {
     "name": "stdout",
     "output_type": "stream",
     "text": [
      "Outliers based on revenue band removed: 133177\n"
     ]
    },
    {
     "name": "stderr",
     "output_type": "stream",
     "text": [
      "                                                                                \r"
     ]
    }
   ],
   "source": [
    "total = add_fraud.count()\n",
    "rev_sdf = (add_fraud.join(rev_std, \"revenue_level\", \"left\")\n",
    "               .filter(abs(col(\"dollar_value\") - col(\"dollar_value_mean\")) <= 3 * col(\"dollar_value_std\"))\n",
    "               .drop(\"dollar_value_mean\")\n",
    "               .drop(\"dollar_value_std\"))\n",
    "print(f\"Outliers based on revenue band removed: {total - rev_sdf.count()}\")"
   ]
  },
  {
   "cell_type": "markdown",
   "metadata": {},
   "source": [
    "<h4>2.1.2 Check distribution</h4>"
   ]
  },
  {
   "cell_type": "code",
   "execution_count": 27,
   "metadata": {},
   "outputs": [
    {
     "name": "stderr",
     "output_type": "stream",
     "text": [
      "[Stage 547:>  (1 + 3) / 4][Stage 549:>  (0 + 1) / 5][Stage 551:>  (0 + 0) / 5]\r"
     ]
    },
    {
     "name": "stdout",
     "output_type": "stream",
     "text": [
      "22/10/08 22:34:03 WARN RowBasedKeyValueBatch: Calling spill() on RowBasedKeyValueBatch. Will not spill but return 0.\n"
     ]
    },
    {
     "name": "stderr",
     "output_type": "stream",
     "text": [
      "                                                                                \r"
     ]
    },
    {
     "data": {
      "text/plain": [
       "<AxesSubplot:xlabel='dollar_value', ylabel='revenue_level'>"
      ]
     },
     "execution_count": 27,
     "metadata": {},
     "output_type": "execute_result"
    },
    {
     "data": {
      "image/png": "[encoded data removed]",
      "text/plain": [
       "<Figure size 432x288 with 1 Axes>"
      ]
     },
     "metadata": {
      "needs_background": "light"
     },
     "output_type": "display_data"
    }
   ],
   "source": [
    "sns.violinplot(data=rev_sdf.sample(False, 0.1).toPandas(), x=\"dollar_value\", y=\"revenue_level\", order=my_order)"
   ]
  },
  {
   "cell_type": "code",
   "execution_count": 28,
   "metadata": {},
   "outputs": [
    {
     "name": "stderr",
     "output_type": "stream",
     "text": [
      "[Stage 592:==>(3 + 1) / 4][Stage 596:>  (0 + 3) / 4][Stage 598:>  (0 + 0) / 5]  \r"
     ]
    },
    {
     "name": "stdout",
     "output_type": "stream",
     "text": [
      "22/10/08 22:38:33 WARN RowBasedKeyValueBatch: Calling spill() on RowBasedKeyValueBatch. Will not spill but return 0.\n"
     ]
    },
    {
     "name": "stderr",
     "output_type": "stream",
     "text": [
      "                                                                                \r"
     ]
    },
    {
     "data": {
      "text/plain": [
       "<AxesSubplot:xlabel='dollar_value', ylabel='revenue_level'>"
      ]
     },
     "execution_count": 28,
     "metadata": {},
     "output_type": "execute_result"
    },
    {
     "data": {
      "image/png": "[encoded data removed]",
      "text/plain": [
       "<Figure size 432x288 with 1 Axes>"
      ]
     },
     "metadata": {
      "needs_background": "light"
     },
     "output_type": "display_data"
    }
   ],
   "source": [
    "sns.boxplot(data=rev_sdf.sample(False, 0.1).toPandas(), x=\"dollar_value\", y=\"revenue_level\", order=my_order)"
   ]
  },
  {
   "cell_type": "markdown",
   "metadata": {},
   "source": [
    "<h3>2.2 Get distribution of each merchant</h3>"
   ]
  },
  {
   "cell_type": "code",
   "execution_count": 62,
   "metadata": {},
   "outputs": [
    {
     "name": "stderr",
     "output_type": "stream",
     "text": [
      "[Stage 1387:=>(3 + 1) / 4][Stage 1388:=>(2 + 2) / 4][Stage 1389:> (0 + 1) / 4]4]\r"
     ]
    },
    {
     "name": "stdout",
     "output_type": "stream",
     "text": [
      "22/10/09 01:55:10 WARN RowBasedKeyValueBatch: Calling spill() on RowBasedKeyValueBatch. Will not spill but return 0.\n"
     ]
    },
    {
     "name": "stderr",
     "output_type": "stream",
     "text": [
      "[Stage 1388:=>(3 + 1) / 4][Stage 1389:> (1 + 3) / 4][Stage 1390:> (0 + 0) / 4]\r"
     ]
    },
    {
     "name": "stdout",
     "output_type": "stream",
     "text": [
      "22/10/09 01:55:17 WARN RowBasedKeyValueBatch: Calling spill() on RowBasedKeyValueBatch. Will not spill but return 0.\n"
     ]
    },
    {
     "name": "stderr",
     "output_type": "stream",
     "text": [
      "[Stage 1433:=>(3 + 1) / 4][Stage 1435:=>(2 + 2) / 4][Stage 1436:> (0 + 1) / 4]  \r"
     ]
    },
    {
     "name": "stdout",
     "output_type": "stream",
     "text": [
      "22/10/09 01:56:59 WARN RowBasedKeyValueBatch: Calling spill() on RowBasedKeyValueBatch. Will not spill but return 0.\n"
     ]
    },
    {
     "name": "stderr",
     "output_type": "stream",
     "text": [
      "[Stage 1435:=>(3 + 1) / 4][Stage 1436:> (1 + 3) / 4][Stage 1437:> (0 + 0) / 4]\r"
     ]
    },
    {
     "name": "stdout",
     "output_type": "stream",
     "text": [
      "22/10/09 01:57:06 WARN RowBasedKeyValueBatch: Calling spill() on RowBasedKeyValueBatch. Will not spill but return 0.\n"
     ]
    },
    {
     "name": "stderr",
     "output_type": "stream",
     "text": [
      "                                                                                \r"
     ]
    },
    {
     "data": {
      "text/html": [
       "<table border='1'>\n",
       "<tr><th>merchant_name</th><th>dollar_value_std</th><th>dollar_value_mean</th></tr>\n",
       "<tr><td>Donec Luctus Indu...</td><td>130.55650157165087</td><td>343.7164090501806</td></tr>\n",
       "<tr><td>Dictum Mi Incorpo...</td><td>368.6617885233332</td><td>471.07965026653414</td></tr>\n",
       "<tr><td>Amet Nulla Ltd</td><td>54.82924410856011</td><td>86.38047478621884</td></tr>\n",
       "<tr><td>Vel Turpis Company</td><td>206.33110261321298</td><td>464.72620295222833</td></tr>\n",
       "<tr><td>Montes Limited</td><td>439.1076561117737</td><td>605.259061619393</td></tr>\n",
       "<tr><td>Semper Incorporated</td><td>60.33157881454652</td><td>103.80269405622981</td></tr>\n",
       "<tr><td>Mollis Integer Co...</td><td>35.72032434616903</td><td>35.39825775749802</td></tr>\n",
       "<tr><td>Porttitor Eros In...</td><td>64.63472631463996</td><td>99.96567570503576</td></tr>\n",
       "<tr><td>Malesuada Vel Ltd</td><td>201.89377133366608</td><td>242.1083337475958</td></tr>\n",
       "<tr><td>Arcu Vestibulum C...</td><td>193.4276467747397</td><td>301.19744865722646</td></tr>\n",
       "<tr><td>Vulputate Velit E...</td><td>296.2158306928357</td><td>469.2849099176433</td></tr>\n",
       "<tr><td>Pede Praesent Ltd</td><td>298.7858456267883</td><td>359.1037904293478</td></tr>\n",
       "<tr><td>Varius Orci Insti...</td><td>13.842929475102732</td><td>13.823153591912405</td></tr>\n",
       "<tr><td>Dictum Mi Limited</td><td>61.71435702084645</td><td>97.62745345966259</td></tr>\n",
       "<tr><td>Hendrerit Consect...</td><td>54.43009814802007</td><td>86.26936784085804</td></tr>\n",
       "<tr><td>Elit Sed Consequa...</td><td>297.1708887001186</td><td>510.1525327171998</td></tr>\n",
       "<tr><td>Volutpat Nulla In...</td><td>85.02390857454995</td><td>85.2896076697905</td></tr>\n",
       "<tr><td>At Augue Corporation</td><td>48.74566295321242</td><td>87.09400269565276</td></tr>\n",
       "<tr><td>Erat Semper Ltd</td><td>209.58028692353798</td><td>367.74919604945296</td></tr>\n",
       "<tr><td>Malesuada PC</td><td>240.7047153763031</td><td>364.4080468005989</td></tr>\n",
       "</table>\n",
       "only showing top 20 rows\n"
      ],
      "text/plain": [
       "+--------------------+------------------+------------------+\n",
       "|       merchant_name|  dollar_value_std| dollar_value_mean|\n",
       "+--------------------+------------------+------------------+\n",
       "|Donec Luctus Indu...|130.55650157165087| 343.7164090501806|\n",
       "|Dictum Mi Incorpo...| 368.6617885233332|471.07965026653414|\n",
       "|      Amet Nulla Ltd| 54.82924410856011| 86.38047478621884|\n",
       "|  Vel Turpis Company|206.33110261321298|464.72620295222833|\n",
       "|      Montes Limited| 439.1076561117737|  605.259061619393|\n",
       "| Semper Incorporated| 60.33157881454652|103.80269405622981|\n",
       "|Mollis Integer Co...| 35.72032434616903| 35.39825775749802|\n",
       "|Porttitor Eros In...| 64.63472631463996| 99.96567570503576|\n",
       "|   Malesuada Vel Ltd|201.89377133366608| 242.1083337475958|\n",
       "|Arcu Vestibulum C...| 193.4276467747397|301.19744865722646|\n",
       "|Vulputate Velit E...| 296.2158306928357| 469.2849099176433|\n",
       "|   Pede Praesent Ltd| 298.7858456267883| 359.1037904293478|\n",
       "|Varius Orci Insti...|13.842929475102732|13.823153591912405|\n",
       "|   Dictum Mi Limited| 61.71435702084645| 97.62745345966259|\n",
       "|Hendrerit Consect...| 54.43009814802007| 86.26936784085804|\n",
       "|Elit Sed Consequa...| 297.1708887001186| 510.1525327171998|\n",
       "|Volutpat Nulla In...| 85.02390857454995|  85.2896076697905|\n",
       "|At Augue Corporation| 48.74566295321242| 87.09400269565276|\n",
       "|     Erat Semper Ltd|209.58028692353798|367.74919604945296|\n",
       "|        Malesuada PC| 240.7047153763031| 364.4080468005989|\n",
       "+--------------------+------------------+------------------+\n",
       "only showing top 20 rows"
      ]
     },
     "execution_count": 62,
     "metadata": {},
     "output_type": "execute_result"
    }
   ],
   "source": [
    "merch_std = (rev_sdf.groupBy(\"merchant_name\").agg(stddev_pop(\"dollar_value\").alias(\"dollar_value_std\"),\n",
    "                                                  avg(\"dollar_value\").alias(\"dollar_value_mean\")))\n",
    "merch_std"
   ]
  },
  {
   "cell_type": "code",
   "execution_count": 63,
   "metadata": {},
   "outputs": [
    {
     "name": "stderr",
     "output_type": "stream",
     "text": [
      "[Stage 1482:=>(3 + 1) / 4][Stage 1483:> (0 + 3) / 4][Stage 1484:> (0 + 0) / 4]\r"
     ]
    },
    {
     "name": "stdout",
     "output_type": "stream",
     "text": [
      "22/10/09 01:59:03 WARN RowBasedKeyValueBatch: Calling spill() on RowBasedKeyValueBatch. Will not spill but return 0.\n"
     ]
    },
    {
     "name": "stderr",
     "output_type": "stream",
     "text": [
      "[Stage 1507:>                                                       (0 + 4) / 5]\r"
     ]
    },
    {
     "name": "stdout",
     "output_type": "stream",
     "text": [
      "22/10/09 02:00:13 WARN RowBasedKeyValueBatch: Calling spill() on RowBasedKeyValueBatch. Will not spill but return 0.\n",
      "22/10/09 02:00:13 WARN RowBasedKeyValueBatch: Calling spill() on RowBasedKeyValueBatch. Will not spill but return 0.\n",
      "22/10/09 02:00:14 WARN RowBasedKeyValueBatch: Calling spill() on RowBasedKeyValueBatch. Will not spill but return 0.\n",
      "22/10/09 02:00:25 WARN RowBasedKeyValueBatch: Calling spill() on RowBasedKeyValueBatch. Will not spill but return 0.\n"
     ]
    },
    {
     "name": "stderr",
     "output_type": "stream",
     "text": [
      "[Stage 1528:=>(3 + 1) / 4][Stage 1529:=>(2 + 2) / 4][Stage 1530:> (0 + 1) / 4]  \r"
     ]
    },
    {
     "name": "stdout",
     "output_type": "stream",
     "text": [
      "22/10/09 02:00:48 WARN RowBasedKeyValueBatch: Calling spill() on RowBasedKeyValueBatch. Will not spill but return 0.\n"
     ]
    },
    {
     "name": "stderr",
     "output_type": "stream",
     "text": [
      "[Stage 1529:=>(3 + 1) / 4][Stage 1530:> (0 + 3) / 4][Stage 1531:> (0 + 0) / 4]\r"
     ]
    },
    {
     "name": "stdout",
     "output_type": "stream",
     "text": [
      "22/10/09 02:00:55 WARN RowBasedKeyValueBatch: Calling spill() on RowBasedKeyValueBatch. Will not spill but return 0.\n"
     ]
    },
    {
     "name": "stderr",
     "output_type": "stream",
     "text": [
      "[Stage 1554:>                                                       (0 + 4) / 5]\r"
     ]
    },
    {
     "name": "stdout",
     "output_type": "stream",
     "text": [
      "22/10/09 02:02:13 WARN RowBasedKeyValueBatch: Calling spill() on RowBasedKeyValueBatch. Will not spill but return 0.\n",
      "22/10/09 02:02:15 WARN RowBasedKeyValueBatch: Calling spill() on RowBasedKeyValueBatch. Will not spill but return 0.\n",
      "22/10/09 02:02:16 WARN RowBasedKeyValueBatch: Calling spill() on RowBasedKeyValueBatch. Will not spill but return 0.\n",
      "22/10/09 02:02:17 WARN RowBasedKeyValueBatch: Calling spill() on RowBasedKeyValueBatch. Will not spill but return 0.\n"
     ]
    },
    {
     "name": "stderr",
     "output_type": "stream",
     "text": [
      "[Stage 1581:>                                                       (0 + 4) / 4]\r"
     ]
    },
    {
     "name": "stdout",
     "output_type": "stream",
     "text": [
      "Outliers based on merchant removed: 175313\n"
     ]
    },
    {
     "name": "stderr",
     "output_type": "stream",
     "text": [
      "                                                                                \r"
     ]
    }
   ],
   "source": [
    "total = rev_sdf.count()\n",
    "merch_sdf = (rev_sdf.join(merch_std, \"merchant_name\", \"left\")\n",
    "                   .filter(abs(col(\"dollar_value\") - col(\"dollar_value_mean\")) <= 3 * col(\"dollar_value_std\"))\n",
    "                   .drop(\"dollar_value_mean\")\n",
    "                   .drop(\"dollar_value_std\"))\n",
    "print(f\"Outliers based on merchant removed: {total - merch_sdf.count()}\")"
   ]
  },
  {
   "cell_type": "code",
   "execution_count": 64,
   "metadata": {},
   "outputs": [
    {
     "name": "stderr",
     "output_type": "stream",
     "text": [
      "                                                                                \r"
     ]
    }
   ],
   "source": [
    "merch_sdf.write.parquet(\"../data/curated/merchant_consumer_info\")"
   ]
  }
 ],
 "metadata": {
  "kernelspec": {
   "display_name": "Python 3.8.9 64-bit",
   "language": "python",
   "name": "python3"
  },
  "language_info": {
   "codemirror_mode": {
    "name": "ipython",
    "version": 3
   },
   "file_extension": ".py",
   "mimetype": "text/x-python",
   "name": "python",
   "nbconvert_exporter": "python",
   "pygments_lexer": "ipython3",
   "version": "3.8.9"
  },
  "orig_nbformat": 4,
  "vscode": {
   "interpreter": {
    "hash": "31f2aee4e71d21fbe5cf8b01ff0e069b9275f58929596ceb00d14d90e3e16cd6"
   }
  }
 },
 "nbformat": 4,
 "nbformat_minor": 2
}
