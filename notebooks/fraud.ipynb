{
 "cells": [
  {
   "cell_type": "code",
   "execution_count": 1,
   "metadata": {},
   "outputs": [
    {
     "name": "stderr",
     "output_type": "stream",
     "text": [
      "Setting default log level to \"WARN\".\n",
      "To adjust logging level use sc.setLogLevel(newLevel). For SparkR, use setLogLevel(newLevel).\n"
     ]
    },
    {
     "name": "stdout",
     "output_type": "stream",
     "text": [
      "22/09/19 12:01:08 WARN NativeCodeLoader: Unable to load native-hadoop library for your platform... using builtin-java classes where applicable\n"
     ]
    }
   ],
   "source": [
    "from pyspark.sql import SparkSession, functions as F\n",
    "from pyspark.sql.functions import *\n",
    "\n",
    "spark = (\n",
    "    SparkSession.builder.appName(\"ADS project 2\")\n",
    "    .config(\"spark.sql.repl.eagerEval.enabled\", True) \n",
    "    .config(\"spark.sql.parquet.cacheMetadata\", \"true\")\n",
    "    .config(\"spark.sql.session.timeZone\", \"Etc/UTC\")\n",
    "    .config(\"spark.executor.memory\", \"2g\")\n",
    "    .config(\"spark.driver.memory\", \"4g\")\n",
    "    .getOrCreate()\n",
    ")"
   ]
  },
  {
   "cell_type": "code",
   "execution_count": 2,
   "metadata": {},
   "outputs": [
    {
     "name": "stderr",
     "output_type": "stream",
     "text": [
      "                                                                                \r"
     ]
    }
   ],
   "source": [
    "data_loc = \"../data/tables/\"\n",
    "\n",
    "consumer_fraud = spark.read.option(\"header\", \"true\").csv(data_loc+\"consumer_fraud_probability.csv\")\n",
    "merchant_fraud = spark.read.option(\"header\", \"true\").csv(data_loc+\"merchant_fraud_probability.csv\")\n",
    "raw_join = spark.read.parquet(\"../data/curated/raw_join_internal_table/\")\n",
    "merchant_consumer_info = spark.read.parquet(\"../data/curated/merchant_consumer_info/\")"
   ]
  },
  {
   "cell_type": "markdown",
   "metadata": {},
   "source": [
    "<h2>Unsupervised Learning: to classify each instance into low, medium and high level of fraud probability</h2>"
   ]
  },
  {
   "cell_type": "markdown",
   "metadata": {},
   "source": [
    "<h3>1. Determine whether an instance is an outlier based on dollor value (assumption: an outlier may be a fraud instance)</h3>"
   ]
  },
  {
   "cell_type": "markdown",
   "metadata": {},
   "source": [
    "<h4>1.1 Extract and aggregate the dollar value for each user </h4>"
   ]
  },
  {
   "cell_type": "code",
   "execution_count": 3,
   "metadata": {},
   "outputs": [],
   "source": [
    "# find the average dollor value for each user on each date\n",
    "raw_join_date = (raw_join.groupBy(\"user_id\", \"order_datetime\")\n",
    "                        .agg(avg(\"dollar_value\").alias(\"dollar_value_average\"))\n",
    "                        .orderBy(\"user_id\"))"
   ]
  },
  {
   "cell_type": "code",
   "execution_count": 4,
   "metadata": {},
   "outputs": [],
   "source": [
    "# find the average and standard deviation of dollor value for each user\n",
    "join_std = (raw_join_date.groupBy(\"user_id\")\\\n",
    "                         .agg(stddev_pop(\"dollar_value_average\").alias(\"dollar_std\"),\n",
    "                              avg(\"dollar_value_average\").alias(\"dollar_mean\")))"
   ]
  },
  {
   "cell_type": "markdown",
   "metadata": {},
   "source": [
    "<h4>1.2 Determine whether an instance is an outlier for corresponding user (0 is not outlier; 1 is outlier) </h4>"
   ]
  },
  {
   "cell_type": "code",
   "execution_count": 5,
   "metadata": {},
   "outputs": [],
   "source": [
    "raw_join_outlier = (raw_join_date.join(join_std, \"user_id\", \"left\")\n",
    "                   .withColumn(\"isOutlier\",\n",
    "                                F.when((abs(col(\"dollar_value_average\") - col(\"dollar_mean\")) <= 3 * col(\"dollar_std\")), 0).otherwise(1))\n",
    "                   .drop(\"dollar_mean\")\n",
    "                   .drop(\"dollar_std\")\n",
    "                   .drop(\"dollar_value_average\"))"
   ]
  },
  {
   "cell_type": "code",
   "execution_count": 6,
   "metadata": {},
   "outputs": [
    {
     "name": "stderr",
     "output_type": "stream",
     "text": [
      "[Stage 4:====>              (1 + 3) / 4][Stage 5:>                  (0 + 1) / 4]\r"
     ]
    },
    {
     "name": "stdout",
     "output_type": "stream",
     "text": [
      "22/09/19 12:01:28 WARN RowBasedKeyValueBatch: Calling spill() on RowBasedKeyValueBatch. Will not spill but return 0.\n"
     ]
    },
    {
     "name": "stderr",
     "output_type": "stream",
     "text": [
      "[Stage 4:=========>         (2 + 2) / 4][Stage 5:>                  (0 + 2) / 4]\r"
     ]
    },
    {
     "name": "stdout",
     "output_type": "stream",
     "text": [
      "22/09/19 12:01:30 WARN RowBasedKeyValueBatch: Calling spill() on RowBasedKeyValueBatch. Will not spill but return 0.\n"
     ]
    },
    {
     "name": "stderr",
     "output_type": "stream",
     "text": [
      "[Stage 27:====>             (1 + 3) / 4][Stage 28:>                 (0 + 1) / 4]\r"
     ]
    },
    {
     "name": "stdout",
     "output_type": "stream",
     "text": [
      "22/09/19 12:02:10 WARN RowBasedKeyValueBatch: Calling spill() on RowBasedKeyValueBatch. Will not spill but return 0.\n",
      "22/09/19 12:02:11 WARN RowBasedKeyValueBatch: Calling spill() on RowBasedKeyValueBatch. Will not spill but return 0.\n"
     ]
    },
    {
     "name": "stderr",
     "output_type": "stream",
     "text": [
      "                                                                                \r"
     ]
    },
    {
     "data": {
      "text/html": [
       "<table border='1'>\n",
       "<tr><th>user_id</th><th>order_datetime</th><th>isOutlier</th></tr>\n",
       "<tr><td>1</td><td>2021-03-21</td><td>0</td></tr>\n",
       "<tr><td>1</td><td>2021-09-07</td><td>0</td></tr>\n",
       "<tr><td>1</td><td>2021-05-23</td><td>0</td></tr>\n",
       "<tr><td>1</td><td>2021-06-12</td><td>0</td></tr>\n",
       "<tr><td>1</td><td>2021-09-06</td><td>0</td></tr>\n",
       "<tr><td>1</td><td>2022-04-15</td><td>0</td></tr>\n",
       "<tr><td>1</td><td>2022-04-02</td><td>0</td></tr>\n",
       "<tr><td>1</td><td>2022-02-06</td><td>0</td></tr>\n",
       "<tr><td>1</td><td>2021-03-11</td><td>0</td></tr>\n",
       "<tr><td>1</td><td>2021-10-31</td><td>0</td></tr>\n",
       "<tr><td>1</td><td>2021-11-13</td><td>0</td></tr>\n",
       "<tr><td>1</td><td>2022-01-28</td><td>0</td></tr>\n",
       "<tr><td>1</td><td>2022-06-14</td><td>0</td></tr>\n",
       "<tr><td>1</td><td>2022-07-25</td><td>0</td></tr>\n",
       "<tr><td>1</td><td>2022-05-24</td><td>0</td></tr>\n",
       "<tr><td>1</td><td>2022-05-13</td><td>0</td></tr>\n",
       "<tr><td>1</td><td>2022-03-31</td><td>0</td></tr>\n",
       "<tr><td>1</td><td>2022-08-09</td><td>0</td></tr>\n",
       "<tr><td>1</td><td>2022-10-09</td><td>0</td></tr>\n",
       "<tr><td>1</td><td>2022-10-19</td><td>0</td></tr>\n",
       "</table>\n",
       "only showing top 20 rows\n"
      ],
      "text/plain": [
       "+-------+--------------+---------+\n",
       "|user_id|order_datetime|isOutlier|\n",
       "+-------+--------------+---------+\n",
       "|      1|    2021-03-21|        0|\n",
       "|      1|    2021-09-07|        0|\n",
       "|      1|    2021-05-23|        0|\n",
       "|      1|    2021-06-12|        0|\n",
       "|      1|    2021-09-06|        0|\n",
       "|      1|    2022-04-15|        0|\n",
       "|      1|    2022-04-02|        0|\n",
       "|      1|    2022-02-06|        0|\n",
       "|      1|    2021-03-11|        0|\n",
       "|      1|    2021-10-31|        0|\n",
       "|      1|    2021-11-13|        0|\n",
       "|      1|    2022-01-28|        0|\n",
       "|      1|    2022-06-14|        0|\n",
       "|      1|    2022-07-25|        0|\n",
       "|      1|    2022-05-24|        0|\n",
       "|      1|    2022-05-13|        0|\n",
       "|      1|    2022-03-31|        0|\n",
       "|      1|    2022-08-09|        0|\n",
       "|      1|    2022-10-09|        0|\n",
       "|      1|    2022-10-19|        0|\n",
       "+-------+--------------+---------+\n",
       "only showing top 20 rows"
      ]
     },
     "execution_count": 6,
     "metadata": {},
     "output_type": "execute_result"
    }
   ],
   "source": [
    "raw_join_outlier"
   ]
  },
  {
   "cell_type": "markdown",
   "metadata": {},
   "source": [
    "<h3>2. Join with consumer fraud probability</h3>"
   ]
  },
  {
   "cell_type": "code",
   "execution_count": 7,
   "metadata": {},
   "outputs": [],
   "source": [
    "consumer_fraud = consumer_fraud.withColumnRenamed(\"user_id\", \"user_id_alt\")\n",
    "consumer_fraud = consumer_fraud.withColumnRenamed(\"order_datetime\", \"order_datetime_alt\")"
   ]
  },
  {
   "cell_type": "code",
   "execution_count": 8,
   "metadata": {},
   "outputs": [],
   "source": [
    "raw_join_outlier.createOrReplaceTempView(\"consumer\")\n",
    "consumer_fraud.createOrReplaceTempView(\"probability\")\n",
    "\n",
    "consumer_prob = spark.sql(\"\"\"\n",
    "SELECT \n",
    "    user_id, order_datetime, fraud_probability, isOutlier\n",
    "FROM \n",
    "    consumer\n",
    "LEFT JOIN \n",
    "    probability\n",
    "ON \n",
    "    consumer.user_id == probability.user_id_alt\n",
    "AND \n",
    "    consumer.order_datetime == probability.order_datetime_alt\n",
    "\"\"\")\n"
   ]
  },
  {
   "cell_type": "code",
   "execution_count": 9,
   "metadata": {},
   "outputs": [],
   "source": [
    "# fill the non exists probability with 0.1\n",
    "consumer_prob = consumer_prob.withColumn(\"fraud_probability\", \n",
    "                            F.when((col(\"fraud_probability\").isNull()), 0.1).otherwise(F.col(\"fraud_probability\")))"
   ]
  },
  {
   "cell_type": "code",
   "execution_count": 10,
   "metadata": {},
   "outputs": [],
   "source": [
    "# convert data type of features to ensure they can be vectorize\n",
    "consumer_prob = consumer_prob.withColumn(\"fraud_probability\", F.col(\"fraud_probability\").cast(\"float\"))"
   ]
  },
  {
   "cell_type": "markdown",
   "metadata": {},
   "source": [
    "<h3>3. Vectorize and standardize the features to ensure they are suitible for the clustering model (k-means)</h3>"
   ]
  },
  {
   "cell_type": "code",
   "execution_count": 11,
   "metadata": {},
   "outputs": [],
   "source": [
    "# vectorized the features for model training\n",
    "from pyspark.ml.feature import VectorAssembler\n",
    "\n",
    "features = 'features'\n",
    "input_cols = [\"fraud_probability\", \"isOutlier\"]\n",
    "\n",
    "assembler = VectorAssembler(\n",
    "    # which column to combine\n",
    "    inputCols=input_cols, \n",
    "    # How should the combined columns be named\n",
    "    outputCol=features\n",
    ")\n",
    "\n",
    "consumer_transformed = assembler.transform(consumer_prob.dropna('any'))"
   ]
  },
  {
   "cell_type": "code",
   "execution_count": 12,
   "metadata": {},
   "outputs": [
    {
     "name": "stderr",
     "output_type": "stream",
     "text": [
      "[Stage 51:====>             (1 + 3) / 4][Stage 52:>                 (0 + 1) / 4]\r"
     ]
    },
    {
     "name": "stdout",
     "output_type": "stream",
     "text": [
      "22/09/19 12:02:49 WARN RowBasedKeyValueBatch: Calling spill() on RowBasedKeyValueBatch. Will not spill but return 0.\n",
      "22/09/19 12:02:51 WARN RowBasedKeyValueBatch: Calling spill() on RowBasedKeyValueBatch. Will not spill but return 0.\n"
     ]
    },
    {
     "name": "stderr",
     "output_type": "stream",
     "text": [
      "                                                                                \r"
     ]
    }
   ],
   "source": [
    "from pyspark.ml.feature import StandardScaler\n",
    "\n",
    "scaler = StandardScaler(inputCol=\"features\", outputCol=\"scaledFeatures\",\n",
    "                        withStd=True, withMean=False)\n",
    "\n",
    "# Compute summary statistics by fitting the StandardScaler\n",
    "scalerModel = scaler.fit(consumer_transformed)\n",
    "\n",
    "consumer_transformed = scalerModel.transform(consumer_transformed)"
   ]
  },
  {
   "cell_type": "code",
   "execution_count": 13,
   "metadata": {},
   "outputs": [
    {
     "name": "stderr",
     "output_type": "stream",
     "text": [
      "[Stage 74:====>             (1 + 3) / 4][Stage 75:>                 (0 + 1) / 4]\r"
     ]
    },
    {
     "name": "stdout",
     "output_type": "stream",
     "text": [
      "22/09/19 12:03:31 WARN RowBasedKeyValueBatch: Calling spill() on RowBasedKeyValueBatch. Will not spill but return 0.\n",
      "22/09/19 12:03:32 WARN RowBasedKeyValueBatch: Calling spill() on RowBasedKeyValueBatch. Will not spill but return 0.\n"
     ]
    },
    {
     "name": "stderr",
     "output_type": "stream",
     "text": [
      "                                                                                \r"
     ]
    }
   ],
   "source": [
    "from pyspark.ml.feature import VectorIndexer\n",
    "\n",
    "featureIndexer = VectorIndexer(inputCol=\"scaledFeatures\", \\\n",
    "                               outputCol=\"indexedFeatures\",\\\n",
    "                               maxCategories=3165\n",
    ").fit(consumer_transformed)\n",
    "\n",
    "consumer_transformed = featureIndexer.transform(consumer_transformed)"
   ]
  },
  {
   "cell_type": "markdown",
   "metadata": {},
   "source": [
    "<h3>4. Modelling using k-means and clustering </h3>"
   ]
  },
  {
   "cell_type": "code",
   "execution_count": 14,
   "metadata": {},
   "outputs": [
    {
     "name": "stderr",
     "output_type": "stream",
     "text": [
      "[Stage 93:====>             (1 + 3) / 4][Stage 94:>                 (0 + 1) / 4]\r"
     ]
    },
    {
     "name": "stdout",
     "output_type": "stream",
     "text": [
      "22/09/19 12:04:21 WARN RowBasedKeyValueBatch: Calling spill() on RowBasedKeyValueBatch. Will not spill but return 0.\n",
      "22/09/19 12:04:22 WARN RowBasedKeyValueBatch: Calling spill() on RowBasedKeyValueBatch. Will not spill but return 0.\n"
     ]
    },
    {
     "name": "stderr",
     "output_type": "stream",
     "text": [
      "[Stage 109:====>            (1 + 3) / 4][Stage 110:>                (0 + 1) / 4]\r"
     ]
    },
    {
     "name": "stdout",
     "output_type": "stream",
     "text": [
      "22/09/19 12:04:53 WARN RowBasedKeyValueBatch: Calling spill() on RowBasedKeyValueBatch. Will not spill but return 0.\n",
      "22/09/19 12:04:54 WARN RowBasedKeyValueBatch: Calling spill() on RowBasedKeyValueBatch. Will not spill but return 0.\n"
     ]
    },
    {
     "name": "stderr",
     "output_type": "stream",
     "text": [
      "[Stage 206:====>            (1 + 3) / 4][Stage 208:>                (0 + 1) / 4]\r"
     ]
    },
    {
     "name": "stdout",
     "output_type": "stream",
     "text": [
      "22/09/19 12:06:29 WARN RowBasedKeyValueBatch: Calling spill() on RowBasedKeyValueBatch. Will not spill but return 0.\n",
      "22/09/19 12:06:30 WARN RowBasedKeyValueBatch: Calling spill() on RowBasedKeyValueBatch. Will not spill but return 0.\n"
     ]
    },
    {
     "name": "stderr",
     "output_type": "stream",
     "text": [
      "                                                                                \r"
     ]
    }
   ],
   "source": [
    "from pyspark.ml.clustering import KMeans\n",
    "\n",
    "kmeans = KMeans(featuresCol='indexedFeatures', k=3)\n",
    "model = kmeans.fit(consumer_transformed.select(\"indexedFeatures\"))\n",
    "consumer_kmean = model.transform(consumer_transformed)\n",
    "consumer_kmean = consumer_kmean.withColumnRenamed(\"prediction\", \"fraud_group\")\n"
   ]
  },
  {
   "cell_type": "code",
   "execution_count": 15,
   "metadata": {},
   "outputs": [
    {
     "name": "stderr",
     "output_type": "stream",
     "text": [
      "[Stage 230:====>            (1 + 3) / 4][Stage 231:>                (0 + 1) / 4]\r"
     ]
    },
    {
     "name": "stdout",
     "output_type": "stream",
     "text": [
      "22/09/19 12:07:18 WARN RowBasedKeyValueBatch: Calling spill() on RowBasedKeyValueBatch. Will not spill but return 0.\n",
      "22/09/19 12:07:19 WARN RowBasedKeyValueBatch: Calling spill() on RowBasedKeyValueBatch. Will not spill but return 0.\n"
     ]
    },
    {
     "name": "stderr",
     "output_type": "stream",
     "text": [
      "[Stage 248:====>            (1 + 3) / 4][Stage 250:>                (0 + 1) / 4]\r"
     ]
    },
    {
     "name": "stdout",
     "output_type": "stream",
     "text": [
      "22/09/19 12:07:50 WARN RowBasedKeyValueBatch: Calling spill() on RowBasedKeyValueBatch. Will not spill but return 0.\n",
      "22/09/19 12:07:51 WARN RowBasedKeyValueBatch: Calling spill() on RowBasedKeyValueBatch. Will not spill but return 0.\n"
     ]
    },
    {
     "name": "stderr",
     "output_type": "stream",
     "text": [
      "                                                                                \r"
     ]
    },
    {
     "data": {
      "text/html": [
       "<table border='1'>\n",
       "<tr><th>user_id</th><th>order_datetime</th><th>fraud_probability</th><th>isOutlier</th><th>features</th><th>scaledFeatures</th><th>indexedFeatures</th><th>fraud_group</th></tr>\n",
       "<tr><td>15432</td><td>2021-07-10</td><td>0.1</td><td>0</td><td>[0.10000000149011...</td><td>[0.09229378721488...</td><td>[0.09229378721488...</td><td>0</td></tr>\n",
       "<tr><td>29</td><td>2021-05-11</td><td>0.1</td><td>0</td><td>[0.10000000149011...</td><td>[0.09229378721488...</td><td>[0.09229378721488...</td><td>0</td></tr>\n",
       "<tr><td>474</td><td>2021-05-14</td><td>0.1</td><td>0</td><td>[0.10000000149011...</td><td>[0.09229378721488...</td><td>[0.09229378721488...</td><td>0</td></tr>\n",
       "<tr><td>474</td><td>2022-04-09</td><td>0.1</td><td>0</td><td>[0.10000000149011...</td><td>[0.09229378721488...</td><td>[0.09229378721488...</td><td>0</td></tr>\n",
       "<tr><td>964</td><td>2022-09-07</td><td>0.1</td><td>0</td><td>[0.10000000149011...</td><td>[0.09229378721488...</td><td>[0.09229378721488...</td><td>0</td></tr>\n",
       "<tr><td>1677</td><td>2021-03-11</td><td>0.1</td><td>0</td><td>[0.10000000149011...</td><td>[0.09229378721488...</td><td>[0.09229378721488...</td><td>0</td></tr>\n",
       "<tr><td>1677</td><td>2022-08-02</td><td>0.1</td><td>0</td><td>[0.10000000149011...</td><td>[0.09229378721488...</td><td>[0.09229378721488...</td><td>0</td></tr>\n",
       "<tr><td>1697</td><td>2021-07-29</td><td>0.1</td><td>0</td><td>[0.10000000149011...</td><td>[0.09229378721488...</td><td>[0.09229378721488...</td><td>0</td></tr>\n",
       "<tr><td>1806</td><td>2021-11-11</td><td>0.1</td><td>0</td><td>[0.10000000149011...</td><td>[0.09229378721488...</td><td>[0.09229378721488...</td><td>0</td></tr>\n",
       "<tr><td>1950</td><td>2022-09-18</td><td>0.1</td><td>0</td><td>[0.10000000149011...</td><td>[0.09229378721488...</td><td>[0.09229378721488...</td><td>0</td></tr>\n",
       "<tr><td>2040</td><td>2021-06-10</td><td>0.1</td><td>0</td><td>[0.10000000149011...</td><td>[0.09229378721488...</td><td>[0.09229378721488...</td><td>0</td></tr>\n",
       "<tr><td>2040</td><td>2022-06-12</td><td>0.1</td><td>0</td><td>[0.10000000149011...</td><td>[0.09229378721488...</td><td>[0.09229378721488...</td><td>0</td></tr>\n",
       "<tr><td>2214</td><td>2022-01-15</td><td>0.1</td><td>1</td><td>[0.10000000149011...</td><td>[0.09229378721488...</td><td>[0.09229378721488...</td><td>0</td></tr>\n",
       "<tr><td>2509</td><td>2022-05-09</td><td>0.1</td><td>0</td><td>[0.10000000149011...</td><td>[0.09229378721488...</td><td>[0.09229378721488...</td><td>0</td></tr>\n",
       "<tr><td>2509</td><td>2022-08-27</td><td>0.1</td><td>0</td><td>[0.10000000149011...</td><td>[0.09229378721488...</td><td>[0.09229378721488...</td><td>0</td></tr>\n",
       "<tr><td>2529</td><td>2021-08-13</td><td>0.1</td><td>0</td><td>[0.10000000149011...</td><td>[0.09229378721488...</td><td>[0.09229378721488...</td><td>0</td></tr>\n",
       "<tr><td>3764</td><td>2022-05-29</td><td>0.1</td><td>0</td><td>[0.10000000149011...</td><td>[0.09229378721488...</td><td>[0.09229378721488...</td><td>0</td></tr>\n",
       "<tr><td>4590</td><td>2022-10-18</td><td>0.1</td><td>0</td><td>[0.10000000149011...</td><td>[0.09229378721488...</td><td>[0.09229378721488...</td><td>0</td></tr>\n",
       "<tr><td>4823</td><td>2021-03-10</td><td>0.1</td><td>0</td><td>[0.10000000149011...</td><td>[0.09229378721488...</td><td>[0.09229378721488...</td><td>0</td></tr>\n",
       "<tr><td>4823</td><td>2021-09-15</td><td>0.1</td><td>0</td><td>[0.10000000149011...</td><td>[0.09229378721488...</td><td>[0.09229378721488...</td><td>0</td></tr>\n",
       "</table>\n",
       "only showing top 20 rows\n"
      ],
      "text/plain": [
       "+-------+--------------+-----------------+---------+--------------------+--------------------+--------------------+-----------+\n",
       "|user_id|order_datetime|fraud_probability|isOutlier|            features|      scaledFeatures|     indexedFeatures|fraud_group|\n",
       "+-------+--------------+-----------------+---------+--------------------+--------------------+--------------------+-----------+\n",
       "|  15432|    2021-07-10|              0.1|        0|[0.10000000149011...|[0.09229378721488...|[0.09229378721488...|          0|\n",
       "|     29|    2021-05-11|              0.1|        0|[0.10000000149011...|[0.09229378721488...|[0.09229378721488...|          0|\n",
       "|    474|    2021-05-14|              0.1|        0|[0.10000000149011...|[0.09229378721488...|[0.09229378721488...|          0|\n",
       "|    474|    2022-04-09|              0.1|        0|[0.10000000149011...|[0.09229378721488...|[0.09229378721488...|          0|\n",
       "|    964|    2022-09-07|              0.1|        0|[0.10000000149011...|[0.09229378721488...|[0.09229378721488...|          0|\n",
       "|   1677|    2021-03-11|              0.1|        0|[0.10000000149011...|[0.09229378721488...|[0.09229378721488...|          0|\n",
       "|   1677|    2022-08-02|              0.1|        0|[0.10000000149011...|[0.09229378721488...|[0.09229378721488...|          0|\n",
       "|   1697|    2021-07-29|              0.1|        0|[0.10000000149011...|[0.09229378721488...|[0.09229378721488...|          0|\n",
       "|   1806|    2021-11-11|              0.1|        0|[0.10000000149011...|[0.09229378721488...|[0.09229378721488...|          0|\n",
       "|   1950|    2022-09-18|              0.1|        0|[0.10000000149011...|[0.09229378721488...|[0.09229378721488...|          0|\n",
       "|   2040|    2021-06-10|              0.1|        0|[0.10000000149011...|[0.09229378721488...|[0.09229378721488...|          0|\n",
       "|   2040|    2022-06-12|              0.1|        0|[0.10000000149011...|[0.09229378721488...|[0.09229378721488...|          0|\n",
       "|   2214|    2022-01-15|              0.1|        1|[0.10000000149011...|[0.09229378721488...|[0.09229378721488...|          0|\n",
       "|   2509|    2022-05-09|              0.1|        0|[0.10000000149011...|[0.09229378721488...|[0.09229378721488...|          0|\n",
       "|   2509|    2022-08-27|              0.1|        0|[0.10000000149011...|[0.09229378721488...|[0.09229378721488...|          0|\n",
       "|   2529|    2021-08-13|              0.1|        0|[0.10000000149011...|[0.09229378721488...|[0.09229378721488...|          0|\n",
       "|   3764|    2022-05-29|              0.1|        0|[0.10000000149011...|[0.09229378721488...|[0.09229378721488...|          0|\n",
       "|   4590|    2022-10-18|              0.1|        0|[0.10000000149011...|[0.09229378721488...|[0.09229378721488...|          0|\n",
       "|   4823|    2021-03-10|              0.1|        0|[0.10000000149011...|[0.09229378721488...|[0.09229378721488...|          0|\n",
       "|   4823|    2021-09-15|              0.1|        0|[0.10000000149011...|[0.09229378721488...|[0.09229378721488...|          0|\n",
       "+-------+--------------+-----------------+---------+--------------------+--------------------+--------------------+-----------+\n",
       "only showing top 20 rows"
      ]
     },
     "execution_count": 15,
     "metadata": {},
     "output_type": "execute_result"
    }
   ],
   "source": [
    "consumer_kmean"
   ]
  },
  {
   "cell_type": "markdown",
   "metadata": {},
   "source": [
    "<h3>5. Check the clustering is followed by the assumption </h3>"
   ]
  },
  {
   "cell_type": "code",
   "execution_count": 16,
   "metadata": {},
   "outputs": [
    {
     "name": "stderr",
     "output_type": "stream",
     "text": [
      "[Stage 268:====>            (1 + 3) / 4][Stage 269:>                (0 + 1) / 4]\r"
     ]
    },
    {
     "name": "stdout",
     "output_type": "stream",
     "text": [
      "22/09/19 12:08:19 WARN RowBasedKeyValueBatch: Calling spill() on RowBasedKeyValueBatch. Will not spill but return 0.\n",
      "22/09/19 12:08:21 WARN RowBasedKeyValueBatch: Calling spill() on RowBasedKeyValueBatch. Will not spill but return 0.\n"
     ]
    },
    {
     "name": "stderr",
     "output_type": "stream",
     "text": [
      "[Stage 291:====>            (1 + 3) / 4][Stage 292:>                (0 + 1) / 4]\r"
     ]
    },
    {
     "name": "stdout",
     "output_type": "stream",
     "text": [
      "22/09/19 12:09:02 WARN RowBasedKeyValueBatch: Calling spill() on RowBasedKeyValueBatch. Will not spill but return 0.\n",
      "22/09/19 12:09:03 WARN RowBasedKeyValueBatch: Calling spill() on RowBasedKeyValueBatch. Will not spill but return 0.\n"
     ]
    },
    {
     "name": "stderr",
     "output_type": "stream",
     "text": [
      "                                                                                \r"
     ]
    },
    {
     "data": {
      "text/html": [
       "<table border='1'>\n",
       "<tr><th>fraud_group</th><th>mean_prob</th><th>outlier_amount</th><th>total_instance</th></tr>\n",
       "<tr><td>1</td><td>43.71548542520274</td><td>1795</td><td>2300</td></tr>\n",
       "<tr><td>2</td><td>12.78110882133088</td><td>19832</td><td>30467</td></tr>\n",
       "<tr><td>0</td><td>0.10000000149011612</td><td>123731</td><td>8724160</td></tr>\n",
       "</table>\n"
      ],
      "text/plain": [
       "+-----------+-------------------+--------------+--------------+\n",
       "|fraud_group|          mean_prob|outlier_amount|total_instance|\n",
       "+-----------+-------------------+--------------+--------------+\n",
       "|          1|  43.71548542520274|          1795|          2300|\n",
       "|          2|  12.78110882133088|         19832|         30467|\n",
       "|          0|0.10000000149011612|        123731|       8724160|\n",
       "+-----------+-------------------+--------------+--------------+"
      ]
     },
     "execution_count": 16,
     "metadata": {},
     "output_type": "execute_result"
    }
   ],
   "source": [
    "consumer_check = consumer_kmean.groupBy(\"fraud_group\").agg(mean(\"fraud_probability\").alias(\"mean_prob\"), \n",
    "                                          sum(\"isOutlier\").alias(\"outlier_amount\"), \n",
    "                                          count(\"isOutlier\").alias(\"total_instance\"))\n",
    "consumer_check                                         "
   ]
  },
  {
   "cell_type": "code",
   "execution_count": 18,
   "metadata": {},
   "outputs": [],
   "source": [
    "consumer_check = (consumer_check.withColumn(\"outlier_rate\", F.col(\"outlier_amount\")/F.col(\"total_instance\"))\n",
    "                               .drop(col(\"outlier_amount\"))\n",
    "                               .drop(col(\"total_instance\")))"
   ]
  },
  {
   "cell_type": "code",
   "execution_count": 19,
   "metadata": {},
   "outputs": [
    {
     "name": "stderr",
     "output_type": "stream",
     "text": [
      "[Stage 314:====>            (1 + 3) / 4][Stage 315:>                (0 + 1) / 4]\r"
     ]
    },
    {
     "name": "stdout",
     "output_type": "stream",
     "text": [
      "22/09/19 12:11:15 WARN RowBasedKeyValueBatch: Calling spill() on RowBasedKeyValueBatch. Will not spill but return 0.\n",
      "22/09/19 12:11:15 WARN RowBasedKeyValueBatch: Calling spill() on RowBasedKeyValueBatch. Will not spill but return 0.\n"
     ]
    },
    {
     "name": "stderr",
     "output_type": "stream",
     "text": [
      "[Stage 336:====>            (1 + 3) / 4][Stage 338:>                (0 + 1) / 4]\r"
     ]
    },
    {
     "name": "stdout",
     "output_type": "stream",
     "text": [
      "22/09/19 12:11:56 WARN RowBasedKeyValueBatch: Calling spill() on RowBasedKeyValueBatch. Will not spill but return 0.\n",
      "22/09/19 12:11:58 WARN RowBasedKeyValueBatch: Calling spill() on RowBasedKeyValueBatch. Will not spill but return 0.\n"
     ]
    },
    {
     "name": "stderr",
     "output_type": "stream",
     "text": [
      "                                                                                \r"
     ]
    },
    {
     "data": {
      "text/html": [
       "<table border='1'>\n",
       "<tr><th>fraud_group</th><th>mean_prob</th><th>outlier_rate</th></tr>\n",
       "<tr><td>1</td><td>43.71548542520274</td><td>0.7804347826086957</td></tr>\n",
       "<tr><td>2</td><td>12.78110882133088</td><td>0.6509337972232251</td></tr>\n",
       "<tr><td>0</td><td>0.10000000149011612</td><td>0.014182568866228954</td></tr>\n",
       "</table>\n"
      ],
      "text/plain": [
       "+-----------+-------------------+--------------------+\n",
       "|fraud_group|          mean_prob|        outlier_rate|\n",
       "+-----------+-------------------+--------------------+\n",
       "|          1|  43.71548542520274|  0.7804347826086957|\n",
       "|          2|  12.78110882133088|  0.6509337972232251|\n",
       "|          0|0.10000000149011612|0.014182568866228954|\n",
       "+-----------+-------------------+--------------------+"
      ]
     },
     "execution_count": 19,
     "metadata": {},
     "output_type": "execute_result"
    }
   ],
   "source": [
    "consumer_check"
   ]
  },
  {
   "cell_type": "markdown",
   "metadata": {},
   "source": [
    "Summary:\n",
    "1. According to mean_prob, we can know that 0 represents low fraud probability, 2 represents medum one and 1 represents high one for fraud_group.\n",
    "2. The level of fraud probability increases as the outlier_rate increases as well."
   ]
  },
  {
   "cell_type": "markdown",
   "metadata": {},
   "source": [
    "<h3>6. Add the fraud_group feature to the internal joined dataset</h3>"
   ]
  },
  {
   "cell_type": "code",
   "execution_count": 20,
   "metadata": {},
   "outputs": [],
   "source": [
    "add_fraud = raw_join.join(consumer_kmean, [\"user_id\", \"order_datetime\"], \"left\")"
   ]
  },
  {
   "cell_type": "code",
   "execution_count": 21,
   "metadata": {},
   "outputs": [
    {
     "name": "stderr",
     "output_type": "stream",
     "text": [
      "[Stage 361:====>            (1 + 3) / 4][Stage 362:>                (0 + 1) / 4]\r"
     ]
    },
    {
     "name": "stdout",
     "output_type": "stream",
     "text": [
      "22/09/19 12:12:44 WARN RowBasedKeyValueBatch: Calling spill() on RowBasedKeyValueBatch. Will not spill but return 0.\n",
      "22/09/19 12:12:45 WARN RowBasedKeyValueBatch: Calling spill() on RowBasedKeyValueBatch. Will not spill but return 0.\n"
     ]
    },
    {
     "name": "stderr",
     "output_type": "stream",
     "text": [
      "[Stage 386:====>            (1 + 3) / 4][Stage 387:>                (0 + 1) / 4]\r"
     ]
    },
    {
     "name": "stdout",
     "output_type": "stream",
     "text": [
      "22/09/19 12:13:39 WARN RowBasedKeyValueBatch: Calling spill() on RowBasedKeyValueBatch. Will not spill but return 0.\n",
      "22/09/19 12:13:40 WARN RowBasedKeyValueBatch: Calling spill() on RowBasedKeyValueBatch. Will not spill but return 0.\n"
     ]
    },
    {
     "name": "stderr",
     "output_type": "stream",
     "text": [
      "                                                                                \r"
     ]
    },
    {
     "data": {
      "text/html": [
       "<table border='1'>\n",
       "<tr><th>user_id</th><th>order_datetime</th><th>merchant_name</th><th>products</th><th>revenue_level</th><th>take_rate</th><th>category</th><th>dollar_value</th><th>consumer</th><th>consumer_address</th><th>consumer_state</th><th>consumer_postcode</th><th>consumer_gender</th><th>fraud_group</th></tr>\n",
       "<tr><td>3471</td><td>2021-04-30</td><td>Pede Nonummy Corp.</td><td>tent and awning s...</td><td>c</td><td>2.86</td><td>3</td><td>20.151265837231254</td><td>Todd Long</td><td>883 Patty Mountai...</td><td>NSW</td><td>2021</td><td>Male</td><td>0</td></tr>\n",
       "<tr><td>3471</td><td>2021-07-14</td><td>Orci Corp.</td><td>florists supplies...</td><td>b</td><td>4.88</td><td>2</td><td>20.770724592395197</td><td>Todd Long</td><td>883 Patty Mountai...</td><td>NSW</td><td>2021</td><td>Male</td><td>0</td></tr>\n",
       "<tr><td>3471</td><td>2021-07-14</td><td>Pede Nonummy Corp.</td><td>tent and awning s...</td><td>c</td><td>2.86</td><td>3</td><td>32.18355598940389</td><td>Todd Long</td><td>883 Patty Mountai...</td><td>NSW</td><td>2021</td><td>Male</td><td>0</td></tr>\n",
       "<tr><td>3471</td><td>2021-07-31</td><td>Turpis In Incorpo...</td><td>gift card novelty...</td><td>c</td><td>2.48</td><td>1</td><td>16.421398817128605</td><td>Todd Long</td><td>883 Patty Mountai...</td><td>NSW</td><td>2021</td><td>Male</td><td>0</td></tr>\n",
       "<tr><td>3471</td><td>2021-08-08</td><td>Euismod Urna Inst...</td><td>tent and awning s...</td><td>b</td><td>5.05</td><td>3</td><td>25.973922708404825</td><td>Todd Long</td><td>883 Patty Mountai...</td><td>NSW</td><td>2021</td><td>Male</td><td>0</td></tr>\n",
       "<tr><td>3471</td><td>2021-08-08</td><td>Rhoncus Donec Ass...</td><td>tent and awning s...</td><td>b</td><td>4.45</td><td>3</td><td>18.23658677863049</td><td>Todd Long</td><td>883 Patty Mountai...</td><td>NSW</td><td>2021</td><td>Male</td><td>0</td></tr>\n",
       "<tr><td>3471</td><td>2021-08-26</td><td>Est Nunc Consulting</td><td>tent and awning s...</td><td>a</td><td>6.01</td><td>3</td><td>35.35344876130378</td><td>Todd Long</td><td>883 Patty Mountai...</td><td>NSW</td><td>2021</td><td>Male</td><td>0</td></tr>\n",
       "<tr><td>3471</td><td>2021-10-20</td><td>Et Nunc Consulting</td><td>books periodicals...</td><td>e</td><td>0.16</td><td>0</td><td>155.4258076824775</td><td>Todd Long</td><td>883 Patty Mountai...</td><td>NSW</td><td>2021</td><td>Male</td><td>0</td></tr>\n",
       "<tr><td>3471</td><td>2022-08-27</td><td>Et Nunc Consulting</td><td>books periodicals...</td><td>e</td><td>0.16</td><td>0</td><td>439.9426271986114</td><td>Todd Long</td><td>883 Patty Mountai...</td><td>NSW</td><td>2021</td><td>Male</td><td>0</td></tr>\n",
       "<tr><td>3471</td><td>2022-10-01</td><td>Augue Eu Tempor A...</td><td>cable satellite a...</td><td>e</td><td>0.38</td><td>0</td><td>72.97005061998118</td><td>Todd Long</td><td>883 Patty Mountai...</td><td>NSW</td><td>2021</td><td>Male</td><td>0</td></tr>\n",
       "<tr><td>3698</td><td>2021-07-02</td><td>Eget Metus Eu Ins...</td><td>shoe shops</td><td>e</td><td>0.42</td><td>0</td><td>328.2580328433202</td><td>Christopher Rodri...</td><td>30554 Evans Strea...</td><td>NSW</td><td>2299</td><td>Male</td><td>0</td></tr>\n",
       "<tr><td>3815</td><td>2021-06-19</td><td>Neque LLC</td><td>music shops music...</td><td>c</td><td>1.83</td><td>3</td><td>1.414433839003253</td><td>Alexander Mccullough</td><td>6768 Maria Meadow...</td><td>NSW</td><td>2380</td><td>Male</td><td>0</td></tr>\n",
       "<tr><td>3815</td><td>2021-06-19</td><td>Est Mollis Non Inc.</td><td>watch clock and j...</td><td>c</td><td>2.37</td><td>0</td><td>67.53322675708274</td><td>Alexander Mccullough</td><td>6768 Maria Meadow...</td><td>NSW</td><td>2380</td><td>Male</td><td>0</td></tr>\n",
       "<tr><td>5487</td><td>2022-10-02</td><td>Lobortis Augue In...</td><td>gift card novelty...</td><td>a</td><td>6.47</td><td>1</td><td>44.53446967777206</td><td>William Poole</td><td>6634 Porter Rapid...</td><td>NSW</td><td>2409</td><td>Male</td><td>0</td></tr>\n",
       "<tr><td>5487</td><td>2022-10-02</td><td>Dignissim Maecena...</td><td>opticians optical...</td><td>a</td><td>6.64</td><td>0</td><td>248.97905639386667</td><td>William Poole</td><td>6634 Porter Rapid...</td><td>NSW</td><td>2409</td><td>Male</td><td>0</td></tr>\n",
       "<tr><td>5487</td><td>2022-10-17</td><td>Magna Praesent PC</td><td>motor vehicle sup...</td><td>a</td><td>6.78</td><td>0</td><td>104.46575270337404</td><td>William Poole</td><td>6634 Porter Rapid...</td><td>NSW</td><td>2409</td><td>Male</td><td>0</td></tr>\n",
       "<tr><td>16437</td><td>2022-05-05</td><td>Neque Sed Dictum ...</td><td>computers compute...</td><td>b</td><td>3.49</td><td>2</td><td>387.6085641277924</td><td>Lisa Potter</td><td>54973 Cruz Bypass...</td><td>NSW</td><td>2343</td><td>Female</td><td>0</td></tr>\n",
       "<tr><td>16437</td><td>2022-05-05</td><td>Nullam Nisl Insti...</td><td>shoe shops</td><td>b</td><td>3.72</td><td>0</td><td>71.16071362159603</td><td>Lisa Potter</td><td>54973 Cruz Bypass...</td><td>NSW</td><td>2343</td><td>Female</td><td>0</td></tr>\n",
       "<tr><td>16437</td><td>2022-05-17</td><td>Scelerisque Corpo...</td><td>computer programm...</td><td>b</td><td>4.51</td><td>4</td><td>143.91481917382708</td><td>Lisa Potter</td><td>54973 Cruz Bypass...</td><td>NSW</td><td>2343</td><td>Female</td><td>0</td></tr>\n",
       "<tr><td>21178</td><td>2021-03-17</td><td>Dis Parturient Co...</td><td>gift card novelty...</td><td>e</td><td>0.24</td><td>1</td><td>70.86678398255475</td><td>John Mcclain</td><td>200 Melissa Lock ...</td><td>NSW</td><td>2388</td><td>Male</td><td>0</td></tr>\n",
       "</table>\n",
       "only showing top 20 rows\n"
      ],
      "text/plain": [
       "+-------+--------------+--------------------+--------------------+-------------+---------+--------+------------------+--------------------+--------------------+--------------+-----------------+---------------+-----------+\n",
       "|user_id|order_datetime|       merchant_name|            products|revenue_level|take_rate|category|      dollar_value|            consumer|    consumer_address|consumer_state|consumer_postcode|consumer_gender|fraud_group|\n",
       "+-------+--------------+--------------------+--------------------+-------------+---------+--------+------------------+--------------------+--------------------+--------------+-----------------+---------------+-----------+\n",
       "|   3471|    2021-04-30|  Pede Nonummy Corp.|tent and awning s...|            c|     2.86|       3|20.151265837231254|           Todd Long|883 Patty Mountai...|           NSW|             2021|           Male|          0|\n",
       "|   3471|    2021-07-14|          Orci Corp.|florists supplies...|            b|     4.88|       2|20.770724592395197|           Todd Long|883 Patty Mountai...|           NSW|             2021|           Male|          0|\n",
       "|   3471|    2021-07-14|  Pede Nonummy Corp.|tent and awning s...|            c|     2.86|       3| 32.18355598940389|           Todd Long|883 Patty Mountai...|           NSW|             2021|           Male|          0|\n",
       "|   3471|    2021-07-31|Turpis In Incorpo...|gift card novelty...|            c|     2.48|       1|16.421398817128605|           Todd Long|883 Patty Mountai...|           NSW|             2021|           Male|          0|\n",
       "|   3471|    2021-08-08|Euismod Urna Inst...|tent and awning s...|            b|     5.05|       3|25.973922708404825|           Todd Long|883 Patty Mountai...|           NSW|             2021|           Male|          0|\n",
       "|   3471|    2021-08-08|Rhoncus Donec Ass...|tent and awning s...|            b|     4.45|       3| 18.23658677863049|           Todd Long|883 Patty Mountai...|           NSW|             2021|           Male|          0|\n",
       "|   3471|    2021-08-26| Est Nunc Consulting|tent and awning s...|            a|     6.01|       3| 35.35344876130378|           Todd Long|883 Patty Mountai...|           NSW|             2021|           Male|          0|\n",
       "|   3471|    2021-10-20|  Et Nunc Consulting|books periodicals...|            e|     0.16|       0| 155.4258076824775|           Todd Long|883 Patty Mountai...|           NSW|             2021|           Male|          0|\n",
       "|   3471|    2022-08-27|  Et Nunc Consulting|books periodicals...|            e|     0.16|       0| 439.9426271986114|           Todd Long|883 Patty Mountai...|           NSW|             2021|           Male|          0|\n",
       "|   3471|    2022-10-01|Augue Eu Tempor A...|cable satellite a...|            e|     0.38|       0| 72.97005061998118|           Todd Long|883 Patty Mountai...|           NSW|             2021|           Male|          0|\n",
       "|   3698|    2021-07-02|Eget Metus Eu Ins...|          shoe shops|            e|     0.42|       0| 328.2580328433202|Christopher Rodri...|30554 Evans Strea...|           NSW|             2299|           Male|          0|\n",
       "|   3815|    2021-06-19|           Neque LLC|music shops music...|            c|     1.83|       3| 1.414433839003253|Alexander Mccullough|6768 Maria Meadow...|           NSW|             2380|           Male|          0|\n",
       "|   3815|    2021-06-19| Est Mollis Non Inc.|watch clock and j...|            c|     2.37|       0| 67.53322675708274|Alexander Mccullough|6768 Maria Meadow...|           NSW|             2380|           Male|          0|\n",
       "|   5487|    2022-10-02|Lobortis Augue In...|gift card novelty...|            a|     6.47|       1| 44.53446967777206|       William Poole|6634 Porter Rapid...|           NSW|             2409|           Male|          0|\n",
       "|   5487|    2022-10-02|Dignissim Maecena...|opticians optical...|            a|     6.64|       0|248.97905639386667|       William Poole|6634 Porter Rapid...|           NSW|             2409|           Male|          0|\n",
       "|   5487|    2022-10-17|   Magna Praesent PC|motor vehicle sup...|            a|     6.78|       0|104.46575270337404|       William Poole|6634 Porter Rapid...|           NSW|             2409|           Male|          0|\n",
       "|  16437|    2022-05-05|Neque Sed Dictum ...|computers compute...|            b|     3.49|       2| 387.6085641277924|         Lisa Potter|54973 Cruz Bypass...|           NSW|             2343|         Female|          0|\n",
       "|  16437|    2022-05-05|Nullam Nisl Insti...|          shoe shops|            b|     3.72|       0| 71.16071362159603|         Lisa Potter|54973 Cruz Bypass...|           NSW|             2343|         Female|          0|\n",
       "|  16437|    2022-05-17|Scelerisque Corpo...|computer programm...|            b|     4.51|       4|143.91481917382708|         Lisa Potter|54973 Cruz Bypass...|           NSW|             2343|         Female|          0|\n",
       "|  21178|    2021-03-17|Dis Parturient Co...|gift card novelty...|            e|     0.24|       1| 70.86678398255475|        John Mcclain|200 Melissa Lock ...|           NSW|             2388|           Male|          0|\n",
       "+-------+--------------+--------------------+--------------------+-------------+---------+--------+------------------+--------------------+--------------------+--------------+-----------------+---------------+-----------+\n",
       "only showing top 20 rows"
      ]
     },
     "execution_count": 21,
     "metadata": {},
     "output_type": "execute_result"
    }
   ],
   "source": [
    "add_fraud.drop(\"fraud_probability\", \"isOutlier\", \"features\", \"scaledFeatures\", \"indexedFeatures\")"
   ]
  },
  {
   "cell_type": "code",
   "execution_count": null,
   "metadata": {},
   "outputs": [],
   "source": [
    "# import time\n",
    "# import datetime\n",
    "# date = \"2021-02-01\"\n",
    "# date_time = datetime.datetime.strptime(date, '%Y-%m-%d')\n",
    "\n",
    "# user = 20984"
   ]
  },
  {
   "cell_type": "code",
   "execution_count": null,
   "metadata": {},
   "outputs": [],
   "source": [
    "# raw_join.where((col(\"order_datetime\") == date_time.date()) & (col(\"user_id\") == user))"
   ]
  },
  {
   "cell_type": "code",
   "execution_count": null,
   "metadata": {},
   "outputs": [],
   "source": [
    "# merchant_consumer_info.where((col(\"order_datetime\") == date_time.date()) & (col(\"user_id\") == user))"
   ]
  }
 ],
 "metadata": {
  "kernelspec": {
   "display_name": "Python 3.9.12 64-bit",
   "language": "python",
   "name": "python3"
  },
  "language_info": {
   "codemirror_mode": {
    "name": "ipython",
    "version": 3
   },
   "file_extension": ".py",
   "mimetype": "text/x-python",
   "name": "python",
   "nbconvert_exporter": "python",
   "pygments_lexer": "ipython3",
   "version": "3.9.12"
  },
  "orig_nbformat": 4,
  "vscode": {
   "interpreter": {
    "hash": "949777d72b0d2535278d3dc13498b2535136f6dfe0678499012e853ee9abcab1"
   }
  }
 },
 "nbformat": 4,
 "nbformat_minor": 2
}
