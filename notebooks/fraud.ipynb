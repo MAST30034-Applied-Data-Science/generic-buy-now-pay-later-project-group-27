{
 "cells": [
  {
   "cell_type": "code",
   "execution_count": 1,
   "metadata": {},
   "outputs": [
    {
     "name": "stderr",
     "output_type": "stream",
     "text": [
      "Setting default log level to \"WARN\".\n",
      "To adjust logging level use sc.setLogLevel(newLevel). For SparkR, use setLogLevel(newLevel).\n"
     ]
    },
    {
     "name": "stdout",
     "output_type": "stream",
     "text": [
      "22/10/03 20:46:29 WARN NativeCodeLoader: Unable to load native-hadoop library for your platform... using builtin-java classes where applicable\n",
      "22/10/03 20:46:30 WARN Utils: Service 'SparkUI' could not bind on port 4040. Attempting port 4041.\n"
     ]
    }
   ],
   "source": [
    "from pyspark.sql import SparkSession, functions as F\n",
    "from pyspark.sql.functions import *\n",
    "\n",
    "spark = (\n",
    "    SparkSession.builder.appName(\"ADS project 2\")\n",
    "    .config(\"spark.sql.repl.eagerEval.enabled\", True) \n",
    "    .config(\"spark.sql.parquet.cacheMetadata\", \"true\")\n",
    "    .config(\"spark.sql.session.timeZone\", \"Etc/UTC\")\n",
    "    .config(\"spark.executor.memory\", \"2g\")\n",
    "    .config(\"spark.driver.memory\", \"4g\")\n",
    "    .getOrCreate()\n",
    ")"
   ]
  },
  {
   "cell_type": "code",
   "execution_count": 2,
   "metadata": {},
   "outputs": [
    {
     "name": "stderr",
     "output_type": "stream",
     "text": [
      "                                                                                \r"
     ]
    }
   ],
   "source": [
    "data_loc = \"../data/tables/\"\n",
    "\n",
    "consumer_fraud = spark.read.option(\"header\", \"true\").csv(data_loc+\"consumer_fraud_probability.csv\")\n",
    "merchant_fraud = spark.read.option(\"header\", \"true\").csv(data_loc+\"merchant_fraud_probability.csv\")\n",
    "raw_join = spark.read.parquet(\"../data/curated/raw_join_internal_table/\")"
   ]
  },
  {
   "cell_type": "markdown",
   "metadata": {},
   "source": [
    "<h2>1. Unsupervised Learning: to classify each instance into low, medium and high level of fraud probability</h2>"
   ]
  },
  {
   "cell_type": "markdown",
   "metadata": {},
   "source": [
    "<h3>1.1 Determine whether an instance is an outlier based on dollor value (assumption: an outlier may be a fraud instance)</h3>"
   ]
  },
  {
   "cell_type": "markdown",
   "metadata": {},
   "source": [
    "<h4>1.1.1 Extract and aggregate the dollar value for each user </h4>"
   ]
  },
  {
   "cell_type": "code",
   "execution_count": 3,
   "metadata": {},
   "outputs": [],
   "source": [
    "# find the average dollor value for each user on each date\n",
    "raw_join_date = (raw_join.groupBy(\"user_id\", \"order_datetime\")\n",
    "                        .agg(avg(\"dollar_value\").alias(\"dollar_value_average\"))\n",
    "                        .orderBy(\"user_id\"))"
   ]
  },
  {
   "cell_type": "code",
   "execution_count": 4,
   "metadata": {},
   "outputs": [],
   "source": [
    "# find the average and standard deviation of dollor value for each user\n",
    "join_std = (raw_join_date.groupBy(\"user_id\")\\\n",
    "                         .agg(stddev_pop(\"dollar_value_average\").alias(\"dollar_std\"),\n",
    "                              avg(\"dollar_value_average\").alias(\"dollar_mean\")))"
   ]
  },
  {
   "cell_type": "markdown",
   "metadata": {},
   "source": [
    "<h4>1.1.2 Determine whether an instance is an outlier for corresponding user (0 is not outlier; 1 is outlier) </h4>"
   ]
  },
  {
   "cell_type": "code",
   "execution_count": 5,
   "metadata": {},
   "outputs": [],
   "source": [
    "raw_join_outlier = (raw_join_date.join(join_std, \"user_id\", \"left\")\n",
    "                   .withColumn(\"isOutlier\",\n",
    "                                F.when((abs(col(\"dollar_value_average\") - col(\"dollar_mean\")) <= 3 * col(\"dollar_std\")), 0).otherwise(1))\n",
    "                   .drop(\"dollar_mean\")\n",
    "                   .drop(\"dollar_std\")\n",
    "                   .drop(\"dollar_value_average\"))"
   ]
  },
  {
   "cell_type": "code",
   "execution_count": 6,
   "metadata": {},
   "outputs": [
    {
     "name": "stderr",
     "output_type": "stream",
     "text": [
      "[Stage 3:=========>         (4 + 4) / 8][Stage 4:=========>         (4 + 4) / 8]\r"
     ]
    },
    {
     "name": "stdout",
     "output_type": "stream",
     "text": [
      "22/10/03 20:46:44 WARN RowBasedKeyValueBatch: Calling spill() on RowBasedKeyValueBatch. Will not spill but return 0.\n",
      "22/10/03 20:46:44 WARN RowBasedKeyValueBatch: Calling spill() on RowBasedKeyValueBatch. Will not spill but return 0.\n",
      "22/10/03 20:46:44 WARN RowBasedKeyValueBatch: Calling spill() on RowBasedKeyValueBatch. Will not spill but return 0.\n",
      "22/10/03 20:46:44 WARN RowBasedKeyValueBatch: Calling spill() on RowBasedKeyValueBatch. Will not spill but return 0.\n",
      "22/10/03 20:46:44 WARN RowBasedKeyValueBatch: Calling spill() on RowBasedKeyValueBatch. Will not spill but return 0.\n",
      "22/10/03 20:46:44 WARN RowBasedKeyValueBatch: Calling spill() on RowBasedKeyValueBatch. Will not spill but return 0.\n"
     ]
    },
    {
     "name": "stderr",
     "output_type": "stream",
     "text": [
      "[Stage 3:===========>       (5 + 3) / 8][Stage 4:===========>       (5 + 3) / 8]\r"
     ]
    },
    {
     "name": "stdout",
     "output_type": "stream",
     "text": [
      "22/10/03 20:46:48 WARN RowBasedKeyValueBatch: Calling spill() on RowBasedKeyValueBatch. Will not spill but return 0.\n",
      "22/10/03 20:46:48 WARN RowBasedKeyValueBatch: Calling spill() on RowBasedKeyValueBatch. Will not spill but return 0.\n"
     ]
    },
    {
     "name": "stderr",
     "output_type": "stream",
     "text": [
      "[Stage 27:===========>      (5 + 3) / 8][Stage 28:===========>      (5 + 3) / 8]\r"
     ]
    },
    {
     "name": "stdout",
     "output_type": "stream",
     "text": [
      "22/10/03 20:47:05 WARN RowBasedKeyValueBatch: Calling spill() on RowBasedKeyValueBatch. Will not spill but return 0.\n",
      "22/10/03 20:47:05 WARN RowBasedKeyValueBatch: Calling spill() on RowBasedKeyValueBatch. Will not spill but return 0.\n",
      "22/10/03 20:47:05 WARN RowBasedKeyValueBatch: Calling spill() on RowBasedKeyValueBatch. Will not spill but return 0.\n",
      "22/10/03 20:47:05 WARN RowBasedKeyValueBatch: Calling spill() on RowBasedKeyValueBatch. Will not spill but return 0.\n",
      "22/10/03 20:47:05 WARN RowBasedKeyValueBatch: Calling spill() on RowBasedKeyValueBatch. Will not spill but return 0.\n",
      "22/10/03 20:47:05 WARN RowBasedKeyValueBatch: Calling spill() on RowBasedKeyValueBatch. Will not spill but return 0.\n"
     ]
    },
    {
     "name": "stderr",
     "output_type": "stream",
     "text": [
      "                                                                                \r"
     ]
    },
    {
     "data": {
      "text/html": [
       "<table border='1'>\n",
       "<tr><th>user_id</th><th>order_datetime</th><th>isOutlier</th></tr>\n",
       "<tr><td>1</td><td>2021-03-21</td><td>0</td></tr>\n",
       "<tr><td>1</td><td>2021-05-12</td><td>0</td></tr>\n",
       "<tr><td>1</td><td>2021-05-16</td><td>0</td></tr>\n",
       "<tr><td>1</td><td>2021-07-30</td><td>0</td></tr>\n",
       "<tr><td>1</td><td>2022-08-21</td><td>0</td></tr>\n",
       "<tr><td>1</td><td>2021-05-03</td><td>0</td></tr>\n",
       "<tr><td>1</td><td>2022-04-02</td><td>0</td></tr>\n",
       "<tr><td>1</td><td>2021-10-31</td><td>0</td></tr>\n",
       "<tr><td>1</td><td>2022-05-21</td><td>0</td></tr>\n",
       "<tr><td>1</td><td>2021-11-13</td><td>0</td></tr>\n",
       "<tr><td>1</td><td>2022-01-28</td><td>0</td></tr>\n",
       "<tr><td>1</td><td>2022-06-14</td><td>0</td></tr>\n",
       "<tr><td>1</td><td>2022-07-25</td><td>0</td></tr>\n",
       "<tr><td>1</td><td>2021-08-24</td><td>0</td></tr>\n",
       "<tr><td>1</td><td>2022-06-11</td><td>0</td></tr>\n",
       "<tr><td>1</td><td>2022-05-13</td><td>0</td></tr>\n",
       "<tr><td>1</td><td>2022-10-09</td><td>0</td></tr>\n",
       "<tr><td>1</td><td>2022-09-20</td><td>0</td></tr>\n",
       "<tr><td>1</td><td>2021-05-06</td><td>0</td></tr>\n",
       "<tr><td>1</td><td>2022-05-23</td><td>0</td></tr>\n",
       "</table>\n",
       "only showing top 20 rows\n"
      ],
      "text/plain": [
       "+-------+--------------+---------+\n",
       "|user_id|order_datetime|isOutlier|\n",
       "+-------+--------------+---------+\n",
       "|      1|    2021-03-21|        0|\n",
       "|      1|    2021-05-12|        0|\n",
       "|      1|    2021-05-16|        0|\n",
       "|      1|    2021-07-30|        0|\n",
       "|      1|    2022-08-21|        0|\n",
       "|      1|    2021-05-03|        0|\n",
       "|      1|    2022-04-02|        0|\n",
       "|      1|    2021-10-31|        0|\n",
       "|      1|    2022-05-21|        0|\n",
       "|      1|    2021-11-13|        0|\n",
       "|      1|    2022-01-28|        0|\n",
       "|      1|    2022-06-14|        0|\n",
       "|      1|    2022-07-25|        0|\n",
       "|      1|    2021-08-24|        0|\n",
       "|      1|    2022-06-11|        0|\n",
       "|      1|    2022-05-13|        0|\n",
       "|      1|    2022-10-09|        0|\n",
       "|      1|    2022-09-20|        0|\n",
       "|      1|    2021-05-06|        0|\n",
       "|      1|    2022-05-23|        0|\n",
       "+-------+--------------+---------+\n",
       "only showing top 20 rows"
      ]
     },
     "execution_count": 6,
     "metadata": {},
     "output_type": "execute_result"
    }
   ],
   "source": [
    "raw_join_outlier"
   ]
  },
  {
   "cell_type": "markdown",
   "metadata": {},
   "source": [
    "<h3>1.2. Join with consumer fraud probability</h3>"
   ]
  },
  {
   "cell_type": "code",
   "execution_count": 7,
   "metadata": {},
   "outputs": [],
   "source": [
    "consumer_fraud = consumer_fraud.withColumnRenamed(\"user_id\", \"user_id_alt\")\n",
    "consumer_fraud = consumer_fraud.withColumnRenamed(\"order_datetime\", \"order_datetime_alt\")"
   ]
  },
  {
   "cell_type": "code",
   "execution_count": 8,
   "metadata": {},
   "outputs": [],
   "source": [
    "raw_join_outlier.createOrReplaceTempView(\"consumer\")\n",
    "consumer_fraud.createOrReplaceTempView(\"probability\")\n",
    "\n",
    "consumer_prob = spark.sql(\"\"\"\n",
    "SELECT \n",
    "    user_id, order_datetime, fraud_probability, isOutlier\n",
    "FROM \n",
    "    consumer\n",
    "LEFT JOIN \n",
    "    probability\n",
    "ON \n",
    "    consumer.user_id == probability.user_id_alt\n",
    "AND \n",
    "    consumer.order_datetime == probability.order_datetime_alt\n",
    "\"\"\")\n"
   ]
  },
  {
   "cell_type": "code",
   "execution_count": 9,
   "metadata": {},
   "outputs": [],
   "source": [
    "# fill the non exists probability with 0.1\n",
    "consumer_prob = consumer_prob.withColumn(\"fraud_probability\", \n",
    "                            F.when((col(\"fraud_probability\").isNull()), 0.1).otherwise(F.col(\"fraud_probability\")))"
   ]
  },
  {
   "cell_type": "code",
   "execution_count": 10,
   "metadata": {},
   "outputs": [],
   "source": [
    "# convert data type of features to ensure they can be vectorize\n",
    "consumer_prob = consumer_prob.withColumn(\"fraud_probability\", F.col(\"fraud_probability\").cast(\"float\"))"
   ]
  },
  {
   "cell_type": "markdown",
   "metadata": {},
   "source": [
    "<h3>1.3. Vectorize and standardize the features to ensure they are suitible for the clustering model (k-means)</h3>"
   ]
  },
  {
   "cell_type": "code",
   "execution_count": 11,
   "metadata": {},
   "outputs": [],
   "source": [
    "# vectorized the features for model training\n",
    "from pyspark.ml.feature import VectorAssembler\n",
    "\n",
    "features = 'features'\n",
    "input_cols = [\"fraud_probability\", \"isOutlier\"]\n",
    "\n",
    "assembler = VectorAssembler(\n",
    "    # which column to combine\n",
    "    inputCols=input_cols, \n",
    "    # How should the combined columns be named\n",
    "    outputCol=features\n",
    ")\n",
    "\n",
    "consumer_transformed = assembler.transform(consumer_prob.dropna('any'))"
   ]
  },
  {
   "cell_type": "code",
   "execution_count": 12,
   "metadata": {},
   "outputs": [
    {
     "name": "stderr",
     "output_type": "stream",
     "text": [
      "[Stage 51:==> (5 + 3) / 8][Stage 52:==> (5 + 3) / 8][Stage 53:>   (0 + 1) / 1]8]\r"
     ]
    },
    {
     "name": "stdout",
     "output_type": "stream",
     "text": [
      "22/10/03 20:47:21 WARN RowBasedKeyValueBatch: Calling spill() on RowBasedKeyValueBatch. Will not spill but return 0.\n",
      "22/10/03 20:47:21 WARN RowBasedKeyValueBatch: Calling spill() on RowBasedKeyValueBatch. Will not spill but return 0.\n",
      "22/10/03 20:47:21 WARN RowBasedKeyValueBatch: Calling spill() on RowBasedKeyValueBatch. Will not spill but return 0.\n",
      "22/10/03 20:47:21 WARN RowBasedKeyValueBatch: Calling spill() on RowBasedKeyValueBatch. Will not spill but return 0.\n",
      "22/10/03 20:47:22 WARN RowBasedKeyValueBatch: Calling spill() on RowBasedKeyValueBatch. Will not spill but return 0.\n",
      "22/10/03 20:47:22 WARN RowBasedKeyValueBatch: Calling spill() on RowBasedKeyValueBatch. Will not spill but return 0.\n"
     ]
    },
    {
     "name": "stderr",
     "output_type": "stream",
     "text": [
      "                                                                                \r"
     ]
    }
   ],
   "source": [
    "from pyspark.ml.feature import StandardScaler\n",
    "\n",
    "scaler = StandardScaler(inputCol=\"features\", outputCol=\"scaledFeatures\",\n",
    "                        withStd=True, withMean=False)\n",
    "\n",
    "# Compute summary statistics by fitting the StandardScaler\n",
    "scalerModel = scaler.fit(consumer_transformed)\n",
    "\n",
    "consumer_transformed = scalerModel.transform(consumer_transformed)"
   ]
  },
  {
   "cell_type": "code",
   "execution_count": 13,
   "metadata": {},
   "outputs": [
    {
     "name": "stderr",
     "output_type": "stream",
     "text": [
      "[Stage 74:===========>      (5 + 3) / 8][Stage 76:=========>        (4 + 4) / 8]\r"
     ]
    },
    {
     "name": "stdout",
     "output_type": "stream",
     "text": [
      "22/10/03 20:47:41 WARN RowBasedKeyValueBatch: Calling spill() on RowBasedKeyValueBatch. Will not spill but return 0.\n",
      "22/10/03 20:47:41 WARN RowBasedKeyValueBatch: Calling spill() on RowBasedKeyValueBatch. Will not spill but return 0.\n",
      "22/10/03 20:47:41 WARN RowBasedKeyValueBatch: Calling spill() on RowBasedKeyValueBatch. Will not spill but return 0.\n",
      "22/10/03 20:47:41 WARN RowBasedKeyValueBatch: Calling spill() on RowBasedKeyValueBatch. Will not spill but return 0.\n",
      "22/10/03 20:47:41 WARN RowBasedKeyValueBatch: Calling spill() on RowBasedKeyValueBatch. Will not spill but return 0.\n",
      "22/10/03 20:47:41 WARN RowBasedKeyValueBatch: Calling spill() on RowBasedKeyValueBatch. Will not spill but return 0.\n"
     ]
    },
    {
     "name": "stderr",
     "output_type": "stream",
     "text": [
      "                                                                                \r"
     ]
    }
   ],
   "source": [
    "from pyspark.ml.feature import VectorIndexer\n",
    "\n",
    "featureIndexer = VectorIndexer(inputCol=\"scaledFeatures\", \\\n",
    "                               outputCol=\"indexedFeatures\",\\\n",
    "                               maxCategories=3165\n",
    ").fit(consumer_transformed)\n",
    "\n",
    "consumer_transformed = featureIndexer.transform(consumer_transformed)"
   ]
  },
  {
   "cell_type": "markdown",
   "metadata": {},
   "source": [
    "<h3>1.4. Modelling using k-means and clustering </h3>"
   ]
  },
  {
   "cell_type": "code",
   "execution_count": 14,
   "metadata": {},
   "outputs": [
    {
     "name": "stderr",
     "output_type": "stream",
     "text": [
      "[Stage 94:===========>      (5 + 3) / 8][Stage 96:===========>      (5 + 3) / 8]\r"
     ]
    },
    {
     "name": "stdout",
     "output_type": "stream",
     "text": [
      "22/10/03 20:48:02 WARN RowBasedKeyValueBatch: Calling spill() on RowBasedKeyValueBatch. Will not spill but return 0.\n",
      "22/10/03 20:48:02 WARN RowBasedKeyValueBatch: Calling spill() on RowBasedKeyValueBatch. Will not spill but return 0.\n",
      "22/10/03 20:48:02 WARN RowBasedKeyValueBatch: Calling spill() on RowBasedKeyValueBatch. Will not spill but return 0.\n",
      "22/10/03 20:48:02 WARN RowBasedKeyValueBatch: Calling spill() on RowBasedKeyValueBatch. Will not spill but return 0.\n",
      "22/10/03 20:48:02 WARN RowBasedKeyValueBatch: Calling spill() on RowBasedKeyValueBatch. Will not spill but return 0.\n",
      "22/10/03 20:48:02 WARN RowBasedKeyValueBatch: Calling spill() on RowBasedKeyValueBatch. Will not spill but return 0.\n"
     ]
    },
    {
     "name": "stderr",
     "output_type": "stream",
     "text": [
      "[Stage 110:==========>      (5 + 3) / 8][Stage 112:========>        (4 + 4) / 8]\r"
     ]
    },
    {
     "name": "stdout",
     "output_type": "stream",
     "text": [
      "22/10/03 20:48:15 WARN RowBasedKeyValueBatch: Calling spill() on RowBasedKeyValueBatch. Will not spill but return 0.\n",
      "22/10/03 20:48:16 WARN RowBasedKeyValueBatch: Calling spill() on RowBasedKeyValueBatch. Will not spill but return 0.\n"
     ]
    },
    {
     "name": "stderr",
     "output_type": "stream",
     "text": [
      "[Stage 110:==========>      (5 + 3) / 8][Stage 112:==========>      (5 + 3) / 8]\r"
     ]
    },
    {
     "name": "stdout",
     "output_type": "stream",
     "text": [
      "22/10/03 20:48:16 WARN RowBasedKeyValueBatch: Calling spill() on RowBasedKeyValueBatch. Will not spill but return 0.\n",
      "22/10/03 20:48:16 WARN RowBasedKeyValueBatch: Calling spill() on RowBasedKeyValueBatch. Will not spill but return 0.\n",
      "22/10/03 20:48:16 WARN RowBasedKeyValueBatch: Calling spill() on RowBasedKeyValueBatch. Will not spill but return 0.\n",
      "22/10/03 20:48:16 WARN RowBasedKeyValueBatch: Calling spill() on RowBasedKeyValueBatch. Will not spill but return 0.\n"
     ]
    },
    {
     "name": "stderr",
     "output_type": "stream",
     "text": [
      "[Stage 204:==========>      (5 + 3) / 8][Stage 206:========>        (4 + 4) / 8]\r"
     ]
    },
    {
     "name": "stdout",
     "output_type": "stream",
     "text": [
      "22/10/03 20:48:50 WARN RowBasedKeyValueBatch: Calling spill() on RowBasedKeyValueBatch. Will not spill but return 0.\n",
      "22/10/03 20:48:50 WARN RowBasedKeyValueBatch: Calling spill() on RowBasedKeyValueBatch. Will not spill but return 0.\n",
      "22/10/03 20:48:50 WARN RowBasedKeyValueBatch: Calling spill() on RowBasedKeyValueBatch. Will not spill but return 0.\n",
      "22/10/03 20:48:50 WARN RowBasedKeyValueBatch: Calling spill() on RowBasedKeyValueBatch. Will not spill but return 0.\n",
      "22/10/03 20:48:50 WARN RowBasedKeyValueBatch: Calling spill() on RowBasedKeyValueBatch. Will not spill but return 0.\n",
      "22/10/03 20:48:51 WARN RowBasedKeyValueBatch: Calling spill() on RowBasedKeyValueBatch. Will not spill but return 0.\n"
     ]
    },
    {
     "name": "stderr",
     "output_type": "stream",
     "text": [
      "                                                                                \r"
     ]
    }
   ],
   "source": [
    "from pyspark.ml.clustering import KMeans\n",
    "\n",
    "kmeans = KMeans(featuresCol='indexedFeatures', k=3)\n",
    "model = kmeans.fit(consumer_transformed.select(\"indexedFeatures\"))\n",
    "consumer_kmean = model.transform(consumer_transformed)\n",
    "consumer_kmean = consumer_kmean.withColumnRenamed(\"prediction\", \"fraud_group\")"
   ]
  },
  {
   "cell_type": "code",
   "execution_count": 15,
   "metadata": {},
   "outputs": [
    {
     "name": "stderr",
     "output_type": "stream",
     "text": [
      "[Stage 227:==========>      (5 + 3) / 8][Stage 229:==========>      (5 + 3) / 8]\r"
     ]
    },
    {
     "name": "stdout",
     "output_type": "stream",
     "text": [
      "22/10/03 20:49:08 WARN RowBasedKeyValueBatch: Calling spill() on RowBasedKeyValueBatch. Will not spill but return 0.\n",
      "22/10/03 20:49:08 WARN RowBasedKeyValueBatch: Calling spill() on RowBasedKeyValueBatch. Will not spill but return 0.\n",
      "22/10/03 20:49:09 WARN RowBasedKeyValueBatch: Calling spill() on RowBasedKeyValueBatch. Will not spill but return 0.\n",
      "22/10/03 20:49:09 WARN RowBasedKeyValueBatch: Calling spill() on RowBasedKeyValueBatch. Will not spill but return 0.\n",
      "22/10/03 20:49:09 WARN RowBasedKeyValueBatch: Calling spill() on RowBasedKeyValueBatch. Will not spill but return 0.\n",
      "22/10/03 20:49:09 WARN RowBasedKeyValueBatch: Calling spill() on RowBasedKeyValueBatch. Will not spill but return 0.\n"
     ]
    },
    {
     "name": "stderr",
     "output_type": "stream",
     "text": [
      "[Stage 246:==========>      (5 + 3) / 8][Stage 248:==========>      (5 + 3) / 8]\r"
     ]
    },
    {
     "name": "stdout",
     "output_type": "stream",
     "text": [
      "22/10/03 20:49:23 WARN RowBasedKeyValueBatch: Calling spill() on RowBasedKeyValueBatch. Will not spill but return 0.\n",
      "22/10/03 20:49:23 WARN RowBasedKeyValueBatch: Calling spill() on RowBasedKeyValueBatch. Will not spill but return 0.\n",
      "22/10/03 20:49:23 WARN RowBasedKeyValueBatch: Calling spill() on RowBasedKeyValueBatch. Will not spill but return 0.\n",
      "22/10/03 20:49:23 WARN RowBasedKeyValueBatch: Calling spill() on RowBasedKeyValueBatch. Will not spill but return 0.\n",
      "22/10/03 20:49:23 WARN RowBasedKeyValueBatch: Calling spill() on RowBasedKeyValueBatch. Will not spill but return 0.\n",
      "22/10/03 20:49:24 WARN RowBasedKeyValueBatch: Calling spill() on RowBasedKeyValueBatch. Will not spill but return 0.\n",
      "22/10/03 20:49:26 WARN RowBasedKeyValueBatch: Calling spill() on RowBasedKeyValueBatch. Will not spill but return 0.\n"
     ]
    },
    {
     "name": "stderr",
     "output_type": "stream",
     "text": [
      "                                                                                \r"
     ]
    },
    {
     "data": {
      "text/html": [
       "<table border='1'>\n",
       "<tr><th>user_id</th><th>order_datetime</th><th>fraud_probability</th><th>isOutlier</th><th>features</th><th>scaledFeatures</th><th>indexedFeatures</th><th>fraud_group</th></tr>\n",
       "<tr><td>19979</td><td>2022-10-09</td><td>0.1</td><td>0</td><td>[0.10000000149011...</td><td>[0.09229378721488...</td><td>[0.09229378721488...</td><td>0</td></tr>\n",
       "<tr><td>29</td><td>2021-04-28</td><td>0.1</td><td>0</td><td>[0.10000000149011...</td><td>[0.09229378721488...</td><td>[0.09229378721488...</td><td>0</td></tr>\n",
       "<tr><td>474</td><td>2021-05-04</td><td>0.1</td><td>0</td><td>[0.10000000149011...</td><td>[0.09229378721488...</td><td>[0.09229378721488...</td><td>0</td></tr>\n",
       "<tr><td>1677</td><td>2021-03-11</td><td>0.1</td><td>0</td><td>[0.10000000149011...</td><td>[0.09229378721488...</td><td>[0.09229378721488...</td><td>0</td></tr>\n",
       "<tr><td>1697</td><td>2022-01-10</td><td>0.1</td><td>0</td><td>[0.10000000149011...</td><td>[0.09229378721488...</td><td>[0.09229378721488...</td><td>0</td></tr>\n",
       "<tr><td>1806</td><td>2021-11-11</td><td>0.1</td><td>0</td><td>[0.10000000149011...</td><td>[0.09229378721488...</td><td>[0.09229378721488...</td><td>0</td></tr>\n",
       "<tr><td>1950</td><td>2021-07-01</td><td>0.1</td><td>0</td><td>[0.10000000149011...</td><td>[0.09229378721488...</td><td>[0.09229378721488...</td><td>0</td></tr>\n",
       "<tr><td>2040</td><td>2021-06-10</td><td>0.1</td><td>0</td><td>[0.10000000149011...</td><td>[0.09229378721488...</td><td>[0.09229378721488...</td><td>0</td></tr>\n",
       "<tr><td>2509</td><td>2022-07-10</td><td>0.1</td><td>0</td><td>[0.10000000149011...</td><td>[0.09229378721488...</td><td>[0.09229378721488...</td><td>0</td></tr>\n",
       "<tr><td>2509</td><td>2022-08-27</td><td>0.1</td><td>0</td><td>[0.10000000149011...</td><td>[0.09229378721488...</td><td>[0.09229378721488...</td><td>0</td></tr>\n",
       "<tr><td>2529</td><td>2022-03-10</td><td>0.1</td><td>0</td><td>[0.10000000149011...</td><td>[0.09229378721488...</td><td>[0.09229378721488...</td><td>0</td></tr>\n",
       "<tr><td>3764</td><td>2022-05-29</td><td>0.1</td><td>0</td><td>[0.10000000149011...</td><td>[0.09229378721488...</td><td>[0.09229378721488...</td><td>0</td></tr>\n",
       "<tr><td>4823</td><td>2021-09-15</td><td>0.1</td><td>0</td><td>[0.10000000149011...</td><td>[0.09229378721488...</td><td>[0.09229378721488...</td><td>0</td></tr>\n",
       "<tr><td>4823</td><td>2021-11-17</td><td>0.1</td><td>0</td><td>[0.10000000149011...</td><td>[0.09229378721488...</td><td>[0.09229378721488...</td><td>0</td></tr>\n",
       "<tr><td>4823</td><td>2022-09-22</td><td>0.1</td><td>0</td><td>[0.10000000149011...</td><td>[0.09229378721488...</td><td>[0.09229378721488...</td><td>0</td></tr>\n",
       "<tr><td>5385</td><td>2021-03-21</td><td>0.1</td><td>0</td><td>[0.10000000149011...</td><td>[0.09229378721488...</td><td>[0.09229378721488...</td><td>0</td></tr>\n",
       "<tr><td>5409</td><td>2022-03-25</td><td>0.1</td><td>0</td><td>[0.10000000149011...</td><td>[0.09229378721488...</td><td>[0.09229378721488...</td><td>0</td></tr>\n",
       "<tr><td>7747</td><td>2021-12-19</td><td>0.1</td><td>0</td><td>[0.10000000149011...</td><td>[0.09229378721488...</td><td>[0.09229378721488...</td><td>0</td></tr>\n",
       "<tr><td>8484</td><td>2022-10-24</td><td>0.1</td><td>0</td><td>[0.10000000149011...</td><td>[0.09229378721488...</td><td>[0.09229378721488...</td><td>0</td></tr>\n",
       "<tr><td>9968</td><td>2022-10-25</td><td>0.1</td><td>0</td><td>[0.10000000149011...</td><td>[0.09229378721488...</td><td>[0.09229378721488...</td><td>0</td></tr>\n",
       "</table>\n",
       "only showing top 20 rows\n"
      ],
      "text/plain": [
       "+-------+--------------+-----------------+---------+--------------------+--------------------+--------------------+-----------+\n",
       "|user_id|order_datetime|fraud_probability|isOutlier|            features|      scaledFeatures|     indexedFeatures|fraud_group|\n",
       "+-------+--------------+-----------------+---------+--------------------+--------------------+--------------------+-----------+\n",
       "|  19979|    2022-10-09|              0.1|        0|[0.10000000149011...|[0.09229378721488...|[0.09229378721488...|          0|\n",
       "|     29|    2021-04-28|              0.1|        0|[0.10000000149011...|[0.09229378721488...|[0.09229378721488...|          0|\n",
       "|    474|    2021-05-04|              0.1|        0|[0.10000000149011...|[0.09229378721488...|[0.09229378721488...|          0|\n",
       "|   1677|    2021-03-11|              0.1|        0|[0.10000000149011...|[0.09229378721488...|[0.09229378721488...|          0|\n",
       "|   1697|    2022-01-10|              0.1|        0|[0.10000000149011...|[0.09229378721488...|[0.09229378721488...|          0|\n",
       "|   1806|    2021-11-11|              0.1|        0|[0.10000000149011...|[0.09229378721488...|[0.09229378721488...|          0|\n",
       "|   1950|    2021-07-01|              0.1|        0|[0.10000000149011...|[0.09229378721488...|[0.09229378721488...|          0|\n",
       "|   2040|    2021-06-10|              0.1|        0|[0.10000000149011...|[0.09229378721488...|[0.09229378721488...|          0|\n",
       "|   2509|    2022-07-10|              0.1|        0|[0.10000000149011...|[0.09229378721488...|[0.09229378721488...|          0|\n",
       "|   2509|    2022-08-27|              0.1|        0|[0.10000000149011...|[0.09229378721488...|[0.09229378721488...|          0|\n",
       "|   2529|    2022-03-10|              0.1|        0|[0.10000000149011...|[0.09229378721488...|[0.09229378721488...|          0|\n",
       "|   3764|    2022-05-29|              0.1|        0|[0.10000000149011...|[0.09229378721488...|[0.09229378721488...|          0|\n",
       "|   4823|    2021-09-15|              0.1|        0|[0.10000000149011...|[0.09229378721488...|[0.09229378721488...|          0|\n",
       "|   4823|    2021-11-17|              0.1|        0|[0.10000000149011...|[0.09229378721488...|[0.09229378721488...|          0|\n",
       "|   4823|    2022-09-22|              0.1|        0|[0.10000000149011...|[0.09229378721488...|[0.09229378721488...|          0|\n",
       "|   5385|    2021-03-21|              0.1|        0|[0.10000000149011...|[0.09229378721488...|[0.09229378721488...|          0|\n",
       "|   5409|    2022-03-25|              0.1|        0|[0.10000000149011...|[0.09229378721488...|[0.09229378721488...|          0|\n",
       "|   7747|    2021-12-19|              0.1|        0|[0.10000000149011...|[0.09229378721488...|[0.09229378721488...|          0|\n",
       "|   8484|    2022-10-24|              0.1|        0|[0.10000000149011...|[0.09229378721488...|[0.09229378721488...|          0|\n",
       "|   9968|    2022-10-25|              0.1|        0|[0.10000000149011...|[0.09229378721488...|[0.09229378721488...|          0|\n",
       "+-------+--------------+-----------------+---------+--------------------+--------------------+--------------------+-----------+\n",
       "only showing top 20 rows"
      ]
     },
     "execution_count": 15,
     "metadata": {},
     "output_type": "execute_result"
    }
   ],
   "source": [
    "consumer_kmean"
   ]
  },
  {
   "cell_type": "markdown",
   "metadata": {},
   "source": [
    "<h3>1.5. Check the clustering is followed by the assumption </h3>"
   ]
  },
  {
   "cell_type": "code",
   "execution_count": 16,
   "metadata": {},
   "outputs": [
    {
     "name": "stderr",
     "output_type": "stream",
     "text": [
      "[Stage 265:==========>      (5 + 3) / 8][Stage 267:======>          (3 + 5) / 8]\r"
     ]
    },
    {
     "name": "stdout",
     "output_type": "stream",
     "text": [
      "22/10/03 20:49:38 WARN RowBasedKeyValueBatch: Calling spill() on RowBasedKeyValueBatch. Will not spill but return 0.\n",
      "22/10/03 20:49:38 WARN RowBasedKeyValueBatch: Calling spill() on RowBasedKeyValueBatch. Will not spill but return 0.\n",
      "22/10/03 20:49:38 WARN RowBasedKeyValueBatch: Calling spill() on RowBasedKeyValueBatch. Will not spill but return 0.\n",
      "22/10/03 20:49:38 WARN RowBasedKeyValueBatch: Calling spill() on RowBasedKeyValueBatch. Will not spill but return 0.\n",
      "22/10/03 20:49:39 WARN RowBasedKeyValueBatch: Calling spill() on RowBasedKeyValueBatch. Will not spill but return 0.\n",
      "22/10/03 20:49:39 WARN RowBasedKeyValueBatch: Calling spill() on RowBasedKeyValueBatch. Will not spill but return 0.\n"
     ]
    },
    {
     "name": "stderr",
     "output_type": "stream",
     "text": [
      "[Stage 288:==========>      (5 + 3) / 8][Stage 290:==========>      (5 + 3) / 8]\r"
     ]
    },
    {
     "name": "stdout",
     "output_type": "stream",
     "text": [
      "22/10/03 20:49:57 WARN RowBasedKeyValueBatch: Calling spill() on RowBasedKeyValueBatch. Will not spill but return 0.\n",
      "22/10/03 20:49:57 WARN RowBasedKeyValueBatch: Calling spill() on RowBasedKeyValueBatch. Will not spill but return 0.\n",
      "22/10/03 20:49:57 WARN RowBasedKeyValueBatch: Calling spill() on RowBasedKeyValueBatch. Will not spill but return 0.\n",
      "22/10/03 20:49:57 WARN RowBasedKeyValueBatch: Calling spill() on RowBasedKeyValueBatch. Will not spill but return 0.\n",
      "22/10/03 20:49:57 WARN RowBasedKeyValueBatch: Calling spill() on RowBasedKeyValueBatch. Will not spill but return 0.\n",
      "22/10/03 20:49:57 WARN RowBasedKeyValueBatch: Calling spill() on RowBasedKeyValueBatch. Will not spill but return 0.\n"
     ]
    },
    {
     "name": "stderr",
     "output_type": "stream",
     "text": [
      "                                                                                \r"
     ]
    },
    {
     "data": {
      "text/html": [
       "<table border='1'>\n",
       "<tr><th>fraud_group</th><th>mean_prob</th><th>outlier_amount</th><th>total_instance</th></tr>\n",
       "<tr><td>1</td><td>43.71548542520274</td><td>1795</td><td>2300</td></tr>\n",
       "<tr><td>2</td><td>12.78110882133088</td><td>19832</td><td>30467</td></tr>\n",
       "<tr><td>0</td><td>0.10000000149011612</td><td>123731</td><td>8724160</td></tr>\n",
       "</table>\n"
      ],
      "text/plain": [
       "+-----------+-------------------+--------------+--------------+\n",
       "|fraud_group|          mean_prob|outlier_amount|total_instance|\n",
       "+-----------+-------------------+--------------+--------------+\n",
       "|          1|  43.71548542520274|          1795|          2300|\n",
       "|          2|  12.78110882133088|         19832|         30467|\n",
       "|          0|0.10000000149011612|        123731|       8724160|\n",
       "+-----------+-------------------+--------------+--------------+"
      ]
     },
     "execution_count": 16,
     "metadata": {},
     "output_type": "execute_result"
    }
   ],
   "source": [
    "consumer_check = consumer_kmean.groupBy(\"fraud_group\").agg(mean(\"fraud_probability\").alias(\"mean_prob\"), \n",
    "                                          sum(\"isOutlier\").alias(\"outlier_amount\"), \n",
    "                                          count(\"isOutlier\").alias(\"total_instance\"))\n",
    "consumer_check                                         "
   ]
  },
  {
   "cell_type": "code",
   "execution_count": 17,
   "metadata": {},
   "outputs": [],
   "source": [
    "consumer_check = (consumer_check.withColumn(\"outlier_rate\", F.col(\"outlier_amount\")/F.col(\"total_instance\"))\n",
    "                               .drop(col(\"outlier_amount\"))\n",
    "                               .drop(col(\"total_instance\")))"
   ]
  },
  {
   "cell_type": "code",
   "execution_count": 18,
   "metadata": {},
   "outputs": [
    {
     "name": "stderr",
     "output_type": "stream",
     "text": [
      "[Stage 311:==========>      (5 + 3) / 8][Stage 313:==========>      (5 + 3) / 8]\r"
     ]
    },
    {
     "name": "stdout",
     "output_type": "stream",
     "text": [
      "22/10/03 20:50:15 WARN RowBasedKeyValueBatch: Calling spill() on RowBasedKeyValueBatch. Will not spill but return 0.\n",
      "22/10/03 20:50:15 WARN RowBasedKeyValueBatch: Calling spill() on RowBasedKeyValueBatch. Will not spill but return 0.\n",
      "22/10/03 20:50:15 WARN RowBasedKeyValueBatch: Calling spill() on RowBasedKeyValueBatch. Will not spill but return 0.\n",
      "22/10/03 20:50:15 WARN RowBasedKeyValueBatch: Calling spill() on RowBasedKeyValueBatch. Will not spill but return 0.\n",
      "22/10/03 20:50:15 WARN RowBasedKeyValueBatch: Calling spill() on RowBasedKeyValueBatch. Will not spill but return 0.\n",
      "22/10/03 20:50:15 WARN RowBasedKeyValueBatch: Calling spill() on RowBasedKeyValueBatch. Will not spill but return 0.\n"
     ]
    },
    {
     "name": "stderr",
     "output_type": "stream",
     "text": [
      "[Stage 334:==========>      (5 + 3) / 8][Stage 336:==========>      (5 + 3) / 8]\r"
     ]
    },
    {
     "name": "stdout",
     "output_type": "stream",
     "text": [
      "22/10/03 20:50:33 WARN RowBasedKeyValueBatch: Calling spill() on RowBasedKeyValueBatch. Will not spill but return 0.\n",
      "22/10/03 20:50:33 WARN RowBasedKeyValueBatch: Calling spill() on RowBasedKeyValueBatch. Will not spill but return 0.\n",
      "22/10/03 20:50:33 WARN RowBasedKeyValueBatch: Calling spill() on RowBasedKeyValueBatch. Will not spill but return 0.\n",
      "22/10/03 20:50:33 WARN RowBasedKeyValueBatch: Calling spill() on RowBasedKeyValueBatch. Will not spill but return 0.\n",
      "22/10/03 20:50:33 WARN RowBasedKeyValueBatch: Calling spill() on RowBasedKeyValueBatch. Will not spill but return 0.\n",
      "22/10/03 20:50:33 WARN RowBasedKeyValueBatch: Calling spill() on RowBasedKeyValueBatch. Will not spill but return 0.\n"
     ]
    },
    {
     "name": "stderr",
     "output_type": "stream",
     "text": [
      "                                                                                \r"
     ]
    },
    {
     "data": {
      "text/html": [
       "<table border='1'>\n",
       "<tr><th>fraud_group</th><th>mean_prob</th><th>outlier_rate</th></tr>\n",
       "<tr><td>1</td><td>43.71548542520274</td><td>0.7804347826086957</td></tr>\n",
       "<tr><td>2</td><td>12.78110882133088</td><td>0.6509337972232251</td></tr>\n",
       "<tr><td>0</td><td>0.10000000149011612</td><td>0.014182568866228954</td></tr>\n",
       "</table>\n"
      ],
      "text/plain": [
       "+-----------+-------------------+--------------------+\n",
       "|fraud_group|          mean_prob|        outlier_rate|\n",
       "+-----------+-------------------+--------------------+\n",
       "|          1|  43.71548542520274|  0.7804347826086957|\n",
       "|          2|  12.78110882133088|  0.6509337972232251|\n",
       "|          0|0.10000000149011612|0.014182568866228954|\n",
       "+-----------+-------------------+--------------------+"
      ]
     },
     "execution_count": 18,
     "metadata": {},
     "output_type": "execute_result"
    }
   ],
   "source": [
    "consumer_check"
   ]
  },
  {
   "cell_type": "markdown",
   "metadata": {},
   "source": [
    "Summary:\n",
    "1. According to mean_prob, we can know that 0 represents low fraud probability, 2 represents medum one and 1 represents high one for fraud_group.\n",
    "2. The level of fraud probability increases as the outlier_rate increases as well."
   ]
  },
  {
   "cell_type": "markdown",
   "metadata": {},
   "source": [
    "<h3>1.6. Add the fraud_group feature to the internal joined dataset</h3>"
   ]
  },
  {
   "cell_type": "code",
   "execution_count": 19,
   "metadata": {},
   "outputs": [],
   "source": [
    "add_fraud = raw_join.join(consumer_kmean, [\"user_id\", \"order_datetime\"], \"left\")"
   ]
  },
  {
   "cell_type": "code",
   "execution_count": 20,
   "metadata": {},
   "outputs": [],
   "source": [
    "add_fraud = add_fraud.drop(\"fraud_probability\", \"isOutlier\", \"features\", \"scaledFeatures\", \"indexedFeatures\")"
   ]
  },
  {
   "cell_type": "code",
   "execution_count": 21,
   "metadata": {},
   "outputs": [],
   "source": [
    "# import time\n",
    "# import datetime\n",
    "# date = \"2021-02-01\"\n",
    "# date_time = datetime.datetime.strptime(date, '%Y-%m-%d')\n",
    "\n",
    "# user = 20984"
   ]
  },
  {
   "cell_type": "code",
   "execution_count": 22,
   "metadata": {},
   "outputs": [],
   "source": [
    "# raw_join.where((col(\"order_datetime\") == date_time.date()) & (col(\"user_id\") == user))"
   ]
  },
  {
   "cell_type": "code",
   "execution_count": 23,
   "metadata": {},
   "outputs": [],
   "source": [
    "# merchant_consumer_info.where((col(\"order_datetime\") == date_time.date()) & (col(\"user_id\") == user))"
   ]
  },
  {
   "cell_type": "markdown",
   "metadata": {},
   "source": [
    "<h2>2. Outlier removal</h2>"
   ]
  },
  {
   "cell_type": "markdown",
   "metadata": {},
   "source": [
    "<h3>2.1 Get distribution for each revenue level</h3>"
   ]
  },
  {
   "cell_type": "code",
   "execution_count": 24,
   "metadata": {},
   "outputs": [
    {
     "name": "stderr",
     "output_type": "stream",
     "text": [
      "[Stage 357:=> (4 + 4) / 8][Stage 359:=> (5 + 3) / 8][Stage 360:>  (0 + 1) / 8]8]\r"
     ]
    },
    {
     "name": "stdout",
     "output_type": "stream",
     "text": [
      "22/10/03 20:50:56 WARN RowBasedKeyValueBatch: Calling spill() on RowBasedKeyValueBatch. Will not spill but return 0.\n"
     ]
    },
    {
     "name": "stderr",
     "output_type": "stream",
     "text": [
      "                                                                                \r"
     ]
    },
    {
     "data": {
      "text/plain": [
       "<AxesSubplot:xlabel='dollar_value', ylabel='revenue_level'>"
      ]
     },
     "execution_count": 24,
     "metadata": {},
     "output_type": "execute_result"
    },
    {
     "data": {
      "image/png": "[encoded data removed]",
      "text/plain": [
       "<Figure size 432x288 with 1 Axes>"
      ]
     },
     "metadata": {
      "needs_background": "light"
     },
     "output_type": "display_data"
    }
   ],
   "source": [
    "import seaborn as sns\n",
    "sns.violinplot(data=add_fraud.sample(False, 0.1).toPandas(), x=\"dollar_value\", y=\"revenue_level\")"
   ]
  },
  {
   "cell_type": "code",
   "execution_count": 25,
   "metadata": {},
   "outputs": [
    {
     "name": "stderr",
     "output_type": "stream",
     "text": [
      "[Stage 382:=> (5 + 3) / 8][Stage 384:=> (5 + 3) / 8][Stage 385:>  (1 + 2) / 8]  \r"
     ]
    },
    {
     "name": "stdout",
     "output_type": "stream",
     "text": [
      "22/10/03 20:51:46 WARN RowBasedKeyValueBatch: Calling spill() on RowBasedKeyValueBatch. Will not spill but return 0.\n",
      "22/10/03 20:51:46 WARN RowBasedKeyValueBatch: Calling spill() on RowBasedKeyValueBatch. Will not spill but return 0.\n"
     ]
    },
    {
     "name": "stderr",
     "output_type": "stream",
     "text": [
      "                                                                                \r"
     ]
    },
    {
     "data": {
      "text/plain": [
       "<AxesSubplot:xlabel='dollar_value', ylabel='revenue_level'>"
      ]
     },
     "execution_count": 25,
     "metadata": {},
     "output_type": "execute_result"
    },
    {
     "data": {
      "image/png": "[encoded data removed]",
      "text/plain": [
       "<Figure size 432x288 with 1 Axes>"
      ]
     },
     "metadata": {
      "needs_background": "light"
     },
     "output_type": "display_data"
    }
   ],
   "source": [
    "sns.boxplot(data=add_fraud.sample(False, 0.1).toPandas(), x=\"dollar_value\", y=\"revenue_level\")"
   ]
  },
  {
   "cell_type": "markdown",
   "metadata": {},
   "source": [
    "<h4>2.1.1 Remove outliers based on standard deviation</h4>"
   ]
  },
  {
   "cell_type": "code",
   "execution_count": 26,
   "metadata": {},
   "outputs": [
    {
     "name": "stderr",
     "output_type": "stream",
     "text": [
      "[Stage 408:==>(6 + 2) / 8][Stage 409:=> (5 + 3) / 8][Stage 410:>  (1 + 3) / 8]8]\r"
     ]
    },
    {
     "name": "stdout",
     "output_type": "stream",
     "text": [
      "22/10/03 20:52:32 WARN RowBasedKeyValueBatch: Calling spill() on RowBasedKeyValueBatch. Will not spill but return 0.\n",
      "22/10/03 20:52:32 WARN RowBasedKeyValueBatch: Calling spill() on RowBasedKeyValueBatch. Will not spill but return 0.\n"
     ]
    },
    {
     "name": "stderr",
     "output_type": "stream",
     "text": [
      "[Stage 408:==>(7 + 1) / 8][Stage 409:=> (5 + 3) / 8][Stage 410:>  (1 + 4) / 8]\r"
     ]
    },
    {
     "name": "stdout",
     "output_type": "stream",
     "text": [
      "22/10/03 20:52:32 WARN RowBasedKeyValueBatch: Calling spill() on RowBasedKeyValueBatch. Will not spill but return 0.\n"
     ]
    },
    {
     "name": "stderr",
     "output_type": "stream",
     "text": [
      "[Stage 438:==>(6 + 2) / 8][Stage 440:=> (5 + 3) / 8][Stage 441:>  (1 + 3) / 8]  \r"
     ]
    },
    {
     "name": "stdout",
     "output_type": "stream",
     "text": [
      "22/10/03 20:52:55 WARN RowBasedKeyValueBatch: Calling spill() on RowBasedKeyValueBatch. Will not spill but return 0.\n",
      "22/10/03 20:52:55 WARN RowBasedKeyValueBatch: Calling spill() on RowBasedKeyValueBatch. Will not spill but return 0.\n"
     ]
    },
    {
     "name": "stderr",
     "output_type": "stream",
     "text": [
      "[Stage 438:==>(7 + 1) / 8][Stage 440:=> (5 + 3) / 8][Stage 441:>  (1 + 4) / 8]\r"
     ]
    },
    {
     "name": "stdout",
     "output_type": "stream",
     "text": [
      "22/10/03 20:52:56 WARN RowBasedKeyValueBatch: Calling spill() on RowBasedKeyValueBatch. Will not spill but return 0.\n"
     ]
    },
    {
     "name": "stderr",
     "output_type": "stream",
     "text": [
      "                                                                                \r"
     ]
    },
    {
     "data": {
      "text/html": [
       "<table border='1'>\n",
       "<tr><th>revenue_level</th><th>dollar_value_std</th><th>dollar_value_mean</th></tr>\n",
       "<tr><td>e</td><td>399.0600030109279</td><td>205.81060473911967</td></tr>\n",
       "<tr><td>d</td><td>681.0178374382818</td><td>272.2615583756089</td></tr>\n",
       "<tr><td>c</td><td>439.15886606318327</td><td>136.61671509843887</td></tr>\n",
       "<tr><td>b</td><td>607.8880371974792</td><td>197.49554046383884</td></tr>\n",
       "<tr><td>a</td><td>366.05908217395506</td><td>142.1910239390063</td></tr>\n",
       "</table>\n"
      ],
      "text/plain": [
       "+-------------+------------------+------------------+\n",
       "|revenue_level|  dollar_value_std| dollar_value_mean|\n",
       "+-------------+------------------+------------------+\n",
       "|            e| 399.0600030109279|205.81060473911967|\n",
       "|            d| 681.0178374382818| 272.2615583756089|\n",
       "|            c|439.15886606318327|136.61671509843887|\n",
       "|            b| 607.8880371974792|197.49554046383884|\n",
       "|            a|366.05908217395506| 142.1910239390063|\n",
       "+-------------+------------------+------------------+"
      ]
     },
     "execution_count": 26,
     "metadata": {},
     "output_type": "execute_result"
    }
   ],
   "source": [
    "rev_std = (add_fraud.groupBy(\"revenue_level\").agg(stddev_pop(\"dollar_value\").alias(\"dollar_value_std\"),\n",
    "                                             avg(\"dollar_value\").alias(\"dollar_value_mean\")))\n",
    "rev_std"
   ]
  },
  {
   "cell_type": "code",
   "execution_count": 27,
   "metadata": {},
   "outputs": [
    {
     "name": "stderr",
     "output_type": "stream",
     "text": [
      "[Stage 470:==>(7 + 1) / 8][Stage 471:=> (5 + 3) / 8][Stage 472:>  (1 + 4) / 8]8]\r"
     ]
    },
    {
     "name": "stdout",
     "output_type": "stream",
     "text": [
      "22/10/03 20:53:16 WARN RowBasedKeyValueBatch: Calling spill() on RowBasedKeyValueBatch. Will not spill but return 0.\n",
      "22/10/03 20:53:16 WARN RowBasedKeyValueBatch: Calling spill() on RowBasedKeyValueBatch. Will not spill but return 0.\n"
     ]
    },
    {
     "name": "stderr",
     "output_type": "stream",
     "text": [
      "[Stage 501:=> (5 + 3) / 8][Stage 502:=> (5 + 3) / 8][Stage 503:>  (1 + 2) / 8]  \r"
     ]
    },
    {
     "name": "stdout",
     "output_type": "stream",
     "text": [
      "22/10/03 20:53:38 WARN RowBasedKeyValueBatch: Calling spill() on RowBasedKeyValueBatch. Will not spill but return 0.\n",
      "22/10/03 20:53:38 WARN RowBasedKeyValueBatch: Calling spill() on RowBasedKeyValueBatch. Will not spill but return 0.\n"
     ]
    },
    {
     "name": "stderr",
     "output_type": "stream",
     "text": [
      "[Stage 539:==========================================>              (3 + 1) / 4]\r"
     ]
    },
    {
     "name": "stdout",
     "output_type": "stream",
     "text": [
      "Outliers based on revenue band removed: 133177\n"
     ]
    },
    {
     "name": "stderr",
     "output_type": "stream",
     "text": [
      "                                                                                \r"
     ]
    }
   ],
   "source": [
    "total = add_fraud.count()\n",
    "rev_sdf = (add_fraud.join(rev_std, \"revenue_level\", \"left\")\n",
    "               .filter(abs(col(\"dollar_value\") - col(\"dollar_value_mean\")) <= 3 * col(\"dollar_value_std\"))\n",
    "               .drop(\"dollar_value_mean\")\n",
    "               .drop(\"dollar_value_std\"))\n",
    "print(f\"Outliers based on revenue band removed: {total - rev_sdf.count()}\")"
   ]
  },
  {
   "cell_type": "markdown",
   "metadata": {},
   "source": [
    "<h4>2.1.2 Check distribution</h4>"
   ]
  },
  {
   "cell_type": "code",
   "execution_count": 28,
   "metadata": {},
   "outputs": [
    {
     "name": "stderr",
     "output_type": "stream",
     "text": [
      "[Stage 547:=> (5 + 3) / 8][Stage 549:=> (5 + 3) / 8][Stage 550:>  (1 + 2) / 8]  \r"
     ]
    },
    {
     "name": "stdout",
     "output_type": "stream",
     "text": [
      "22/10/03 20:54:11 WARN RowBasedKeyValueBatch: Calling spill() on RowBasedKeyValueBatch. Will not spill but return 0.\n",
      "22/10/03 20:54:12 WARN RowBasedKeyValueBatch: Calling spill() on RowBasedKeyValueBatch. Will not spill but return 0.\n"
     ]
    },
    {
     "name": "stderr",
     "output_type": "stream",
     "text": [
      "                                                                                \r"
     ]
    },
    {
     "data": {
      "text/plain": [
       "<AxesSubplot:xlabel='dollar_value', ylabel='revenue_level'>"
      ]
     },
     "execution_count": 28,
     "metadata": {},
     "output_type": "execute_result"
    },
    {
     "data": {
      "image/png": "[encoded data removed]",
      "text/plain": [
       "<Figure size 432x288 with 1 Axes>"
      ]
     },
     "metadata": {
      "needs_background": "light"
     },
     "output_type": "display_data"
    }
   ],
   "source": [
    "sns.violinplot(data=rev_sdf.sample(False, 0.1).toPandas(), x=\"dollar_value\", y=\"revenue_level\")"
   ]
  },
  {
   "cell_type": "code",
   "execution_count": 29,
   "metadata": {},
   "outputs": [
    {
     "name": "stderr",
     "output_type": "stream",
     "text": [
      "[Stage 596:=> (5 + 3) / 8][Stage 598:=> (5 + 3) / 8][Stage 599:>  (0 + 2) / 8]  \r"
     ]
    },
    {
     "name": "stdout",
     "output_type": "stream",
     "text": [
      "22/10/03 20:55:18 WARN RowBasedKeyValueBatch: Calling spill() on RowBasedKeyValueBatch. Will not spill but return 0.\n",
      "22/10/03 20:55:18 WARN RowBasedKeyValueBatch: Calling spill() on RowBasedKeyValueBatch. Will not spill but return 0.\n"
     ]
    },
    {
     "name": "stderr",
     "output_type": "stream",
     "text": [
      "[Stage 596:=> (5 + 3) / 8][Stage 598:==>(7 + 1) / 8][Stage 599:=> (5 + 3) / 8]\r"
     ]
    },
    {
     "name": "stdout",
     "output_type": "stream",
     "text": [
      "22/10/03 20:55:21 WARN RowBasedKeyValueBatch: Calling spill() on RowBasedKeyValueBatch. Will not spill but return 0.\n"
     ]
    },
    {
     "name": "stderr",
     "output_type": "stream",
     "text": [
      "[Stage 596:=> (5 + 3) / 8][Stage 599:==>(7 + 1) / 8][Stage 601:==>(6 + 2) / 8]\r"
     ]
    },
    {
     "name": "stdout",
     "output_type": "stream",
     "text": [
      "22/10/03 20:55:28 WARN RowBasedKeyValueBatch: Calling spill() on RowBasedKeyValueBatch. Will not spill but return 0.\n"
     ]
    },
    {
     "name": "stderr",
     "output_type": "stream",
     "text": [
      "                                                                                \r"
     ]
    },
    {
     "data": {
      "text/plain": [
       "<AxesSubplot:xlabel='dollar_value', ylabel='revenue_level'>"
      ]
     },
     "execution_count": 29,
     "metadata": {},
     "output_type": "execute_result"
    },
    {
     "data": {
      "image/png": "[encoded data removed]",
      "text/plain": [
       "<Figure size 432x288 with 1 Axes>"
      ]
     },
     "metadata": {
      "needs_background": "light"
     },
     "output_type": "display_data"
    }
   ],
   "source": [
    "sns.boxplot(data=rev_sdf.sample(False, 0.1).toPandas(), x=\"dollar_value\", y=\"revenue_level\")"
   ]
  },
  {
   "cell_type": "markdown",
   "metadata": {},
   "source": [
    "<h3>2.2 Get distribution of each merchant</h3>"
   ]
  },
  {
   "cell_type": "code",
   "execution_count": 30,
   "metadata": {},
   "outputs": [
    {
     "name": "stderr",
     "output_type": "stream",
     "text": [
      "[Stage 646:=> (5 + 3) / 8][Stage 647:=> (5 + 3) / 8][Stage 648:>  (1 + 2) / 8]8]\r"
     ]
    },
    {
     "name": "stdout",
     "output_type": "stream",
     "text": [
      "22/10/03 20:56:21 WARN RowBasedKeyValueBatch: Calling spill() on RowBasedKeyValueBatch. Will not spill but return 0.\n",
      "22/10/03 20:56:21 WARN RowBasedKeyValueBatch: Calling spill() on RowBasedKeyValueBatch. Will not spill but return 0.\n"
     ]
    },
    {
     "name": "stderr",
     "output_type": "stream",
     "text": [
      "[Stage 692:=> (5 + 3) / 8][Stage 694:=> (5 + 3) / 8][Stage 695:>  (1 + 2) / 8]  \r"
     ]
    },
    {
     "name": "stdout",
     "output_type": "stream",
     "text": [
      "22/10/03 20:56:51 WARN RowBasedKeyValueBatch: Calling spill() on RowBasedKeyValueBatch. Will not spill but return 0.\n",
      "22/10/03 20:56:51 WARN RowBasedKeyValueBatch: Calling spill() on RowBasedKeyValueBatch. Will not spill but return 0.\n"
     ]
    },
    {
     "name": "stderr",
     "output_type": "stream",
     "text": [
      "                                                                                \r"
     ]
    },
    {
     "data": {
      "text/html": [
       "<table border='1'>\n",
       "<tr><th>merchant_name</th><th>dollar_value_std</th><th>dollar_value_mean</th></tr>\n",
       "<tr><td>Donec Luctus Indu...</td><td>130.55650157165087</td><td>343.7164090501804</td></tr>\n",
       "<tr><td>Dictum Mi Incorpo...</td><td>368.6617885233332</td><td>471.0796502665339</td></tr>\n",
       "<tr><td>Amet Nulla Ltd</td><td>54.829244108560125</td><td>86.38047478621885</td></tr>\n",
       "<tr><td>Vel Turpis Company</td><td>206.33110261321298</td><td>464.72620295222833</td></tr>\n",
       "<tr><td>Montes Limited</td><td>439.10765611177374</td><td>605.2590616193932</td></tr>\n",
       "<tr><td>Semper Incorporated</td><td>60.331578814546525</td><td>103.80269405622981</td></tr>\n",
       "<tr><td>Mollis Integer Co...</td><td>35.72032434616897</td><td>35.398257757498065</td></tr>\n",
       "<tr><td>Porttitor Eros In...</td><td>64.63472631463996</td><td>99.9656757050358</td></tr>\n",
       "<tr><td>Malesuada Vel Ltd</td><td>201.89377133366614</td><td>242.10833374759574</td></tr>\n",
       "<tr><td>Arcu Vestibulum C...</td><td>193.42764677473969</td><td>301.1974486572265</td></tr>\n",
       "<tr><td>Vulputate Velit E...</td><td>296.2158306928357</td><td>469.2849099176433</td></tr>\n",
       "<tr><td>Pede Praesent Ltd</td><td>298.7858456267883</td><td>359.10379042934784</td></tr>\n",
       "<tr><td>Varius Orci Insti...</td><td>13.84292947510272</td><td>13.823153591912405</td></tr>\n",
       "<tr><td>Dictum Mi Limited</td><td>61.71435702084648</td><td>97.6274534596626</td></tr>\n",
       "<tr><td>Elit Sed Consequa...</td><td>297.17088870011855</td><td>510.1525327171997</td></tr>\n",
       "<tr><td>Volutpat Nulla In...</td><td>85.02390857454996</td><td>85.28960766979063</td></tr>\n",
       "<tr><td>Hendrerit Consect...</td><td>54.43009814802006</td><td>86.26936784085805</td></tr>\n",
       "<tr><td>At Augue Corporation</td><td>48.74566295321243</td><td>87.09400269565276</td></tr>\n",
       "<tr><td>Erat Semper Ltd</td><td>209.58028692353804</td><td>367.7491960494529</td></tr>\n",
       "<tr><td>Malesuada PC</td><td>240.70471537630306</td><td>364.4080468005989</td></tr>\n",
       "</table>\n",
       "only showing top 20 rows\n"
      ],
      "text/plain": [
       "+--------------------+------------------+------------------+\n",
       "|       merchant_name|  dollar_value_std| dollar_value_mean|\n",
       "+--------------------+------------------+------------------+\n",
       "|Donec Luctus Indu...|130.55650157165087| 343.7164090501804|\n",
       "|Dictum Mi Incorpo...| 368.6617885233332| 471.0796502665339|\n",
       "|      Amet Nulla Ltd|54.829244108560125| 86.38047478621885|\n",
       "|  Vel Turpis Company|206.33110261321298|464.72620295222833|\n",
       "|      Montes Limited|439.10765611177374| 605.2590616193932|\n",
       "| Semper Incorporated|60.331578814546525|103.80269405622981|\n",
       "|Mollis Integer Co...| 35.72032434616897|35.398257757498065|\n",
       "|Porttitor Eros In...| 64.63472631463996|  99.9656757050358|\n",
       "|   Malesuada Vel Ltd|201.89377133366614|242.10833374759574|\n",
       "|Arcu Vestibulum C...|193.42764677473969| 301.1974486572265|\n",
       "|Vulputate Velit E...| 296.2158306928357| 469.2849099176433|\n",
       "|   Pede Praesent Ltd| 298.7858456267883|359.10379042934784|\n",
       "|Varius Orci Insti...| 13.84292947510272|13.823153591912405|\n",
       "|   Dictum Mi Limited| 61.71435702084648|  97.6274534596626|\n",
       "|Elit Sed Consequa...|297.17088870011855| 510.1525327171997|\n",
       "|Volutpat Nulla In...| 85.02390857454996| 85.28960766979063|\n",
       "|Hendrerit Consect...| 54.43009814802006| 86.26936784085805|\n",
       "|At Augue Corporation| 48.74566295321243| 87.09400269565276|\n",
       "|     Erat Semper Ltd|209.58028692353804| 367.7491960494529|\n",
       "|        Malesuada PC|240.70471537630306| 364.4080468005989|\n",
       "+--------------------+------------------+------------------+\n",
       "only showing top 20 rows"
      ]
     },
     "execution_count": 30,
     "metadata": {},
     "output_type": "execute_result"
    }
   ],
   "source": [
    "merch_std = (rev_sdf.groupBy(\"merchant_name\").agg(stddev_pop(\"dollar_value\").alias(\"dollar_value_std\"),\n",
    "                                                  avg(\"dollar_value\").alias(\"dollar_value_mean\")))\n",
    "merch_std"
   ]
  },
  {
   "cell_type": "code",
   "execution_count": 31,
   "metadata": {},
   "outputs": [
    {
     "name": "stderr",
     "output_type": "stream",
     "text": [
      "[Stage 739:==>(7 + 1) / 8][Stage 741:=> (5 + 3) / 8][Stage 742:>  (1 + 4) / 8]\r"
     ]
    },
    {
     "name": "stdout",
     "output_type": "stream",
     "text": [
      "22/10/03 20:57:20 WARN RowBasedKeyValueBatch: Calling spill() on RowBasedKeyValueBatch. Will not spill but return 0.\n",
      "22/10/03 20:57:20 WARN RowBasedKeyValueBatch: Calling spill() on RowBasedKeyValueBatch. Will not spill but return 0.\n"
     ]
    },
    {
     "name": "stderr",
     "output_type": "stream",
     "text": [
      "[Stage 787:=> (5 + 3) / 8][Stage 788:=> (5 + 3) / 8][Stage 789:>  (1 + 2) / 8]8]\r"
     ]
    },
    {
     "name": "stdout",
     "output_type": "stream",
     "text": [
      "22/10/03 20:57:47 WARN RowBasedKeyValueBatch: Calling spill() on RowBasedKeyValueBatch. Will not spill but return 0.\n",
      "22/10/03 20:57:47 WARN RowBasedKeyValueBatch: Calling spill() on RowBasedKeyValueBatch. Will not spill but return 0.\n"
     ]
    },
    {
     "name": "stderr",
     "output_type": "stream",
     "text": [
      "[Stage 835:=================================================>       (7 + 1) / 8]\r"
     ]
    },
    {
     "name": "stdout",
     "output_type": "stream",
     "text": [
      "Outliers based on merchant removed: 175313\n"
     ]
    },
    {
     "name": "stderr",
     "output_type": "stream",
     "text": [
      "                                                                                \r"
     ]
    }
   ],
   "source": [
    "total = rev_sdf.count()\n",
    "merch_sdf = (rev_sdf.join(merch_std, \"merchant_name\", \"left\")\n",
    "                   .filter(abs(col(\"dollar_value\") - col(\"dollar_value_mean\")) <= 3 * col(\"dollar_value_std\"))\n",
    "                   .drop(\"dollar_value_mean\")\n",
    "                   .drop(\"dollar_value_std\"))\n",
    "print(f\"Outliers based on merchant removed: {total - merch_sdf.count()}\")"
   ]
  },
  {
   "cell_type": "code",
   "execution_count": 32,
   "metadata": {},
   "outputs": [
    {
     "name": "stderr",
     "output_type": "stream",
     "text": [
      "[Stage 845:=> (5 + 3) / 8][Stage 846:=> (5 + 3) / 8][Stage 847:>  (1 + 2) / 8]\r"
     ]
    },
    {
     "name": "stdout",
     "output_type": "stream",
     "text": [
      "22/10/03 20:58:24 WARN RowBasedKeyValueBatch: Calling spill() on RowBasedKeyValueBatch. Will not spill but return 0.\n",
      "22/10/03 20:58:24 WARN RowBasedKeyValueBatch: Calling spill() on RowBasedKeyValueBatch. Will not spill but return 0.\n"
     ]
    },
    {
     "name": "stderr",
     "output_type": "stream",
     "text": [
      "                                                                                \r"
     ]
    }
   ],
   "source": [
    "merch_sdf.write.parquet(\"../data/curated/merchant_consumer_info\")"
   ]
  }
 ],
 "metadata": {
  "kernelspec": {
   "display_name": "Python 3.9.7 ('base')",
   "language": "python",
   "name": "python3"
  },
  "language_info": {
   "codemirror_mode": {
    "name": "ipython",
    "version": 3
   },
   "file_extension": ".py",
   "mimetype": "text/x-python",
   "name": "python",
   "nbconvert_exporter": "python",
   "pygments_lexer": "ipython3",
   "version": "3.9.7"
  },
  "orig_nbformat": 4,
  "vscode": {
   "interpreter": {
    "hash": "e1394973462801f9f845eb81bd9170baada0d64ff0c26785e5572d6b7ebed440"
   }
  }
 },
 "nbformat": 4,
 "nbformat_minor": 2
}
