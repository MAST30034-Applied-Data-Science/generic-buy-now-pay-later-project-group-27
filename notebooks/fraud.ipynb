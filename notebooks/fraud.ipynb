{
 "cells": [
  {
   "cell_type": "code",
   "execution_count": 1,
   "metadata": {},
   "outputs": [
    {
     "name": "stderr",
     "output_type": "stream",
     "text": [
      "Setting default log level to \"WARN\".\n",
      "To adjust logging level use sc.setLogLevel(newLevel). For SparkR, use setLogLevel(newLevel).\n"
     ]
    },
    {
     "name": "stdout",
     "output_type": "stream",
     "text": [
      "22/09/22 00:22:53 WARN NativeCodeLoader: Unable to load native-hadoop library for your platform... using builtin-java classes where applicable\n",
      "22/09/22 00:22:55 WARN Utils: Service 'SparkUI' could not bind on port 4040. Attempting port 4041.\n",
      "22/09/22 00:22:55 WARN Utils: Service 'SparkUI' could not bind on port 4041. Attempting port 4042.\n",
      "22/09/22 00:22:55 WARN Utils: Service 'SparkUI' could not bind on port 4042. Attempting port 4043.\n"
     ]
    }
   ],
   "source": [
    "from pyspark.sql import SparkSession, functions as F\n",
    "from pyspark.sql.functions import *\n",
    "\n",
    "spark = (\n",
    "    SparkSession.builder.appName(\"ADS project 2\")\n",
    "    .config(\"spark.sql.repl.eagerEval.enabled\", True) \n",
    "    .config(\"spark.sql.parquet.cacheMetadata\", \"true\")\n",
    "    .config(\"spark.sql.session.timeZone\", \"Etc/UTC\")\n",
    "    .config(\"spark.executor.memory\", \"2g\")\n",
    "    .config(\"spark.driver.memory\", \"4g\")\n",
    "    .getOrCreate()\n",
    ")"
   ]
  },
  {
   "cell_type": "code",
   "execution_count": 2,
   "metadata": {},
   "outputs": [
    {
     "name": "stderr",
     "output_type": "stream",
     "text": [
      "                                                                                \r"
     ]
    }
   ],
   "source": [
    "data_loc = \"../data/tables/\"\n",
    "\n",
    "consumer_fraud = spark.read.option(\"header\", \"true\").csv(data_loc+\"consumer_fraud_probability.csv\")\n",
    "merchant_fraud = spark.read.option(\"header\", \"true\").csv(data_loc+\"merchant_fraud_probability.csv\")\n",
    "raw_join = spark.read.parquet(\"../data/curated/raw_join_internal_table/\")"
   ]
  },
  {
   "cell_type": "markdown",
   "metadata": {},
   "source": [
    "<h2>1. Unsupervised Learning: to classify each instance into low, medium and high level of fraud probability</h2>"
   ]
  },
  {
   "cell_type": "markdown",
   "metadata": {},
   "source": [
    "<h3>1.1 Determine whether an instance is an outlier based on dollor value (assumption: an outlier may be a fraud instance)</h3>"
   ]
  },
  {
   "cell_type": "markdown",
   "metadata": {},
   "source": [
    "<h4>1.1.1 Extract and aggregate the dollar value for each user </h4>"
   ]
  },
  {
   "cell_type": "code",
   "execution_count": 3,
   "metadata": {},
   "outputs": [],
   "source": [
    "# find the average dollor value for each user on each date\n",
    "raw_join_date = (raw_join.groupBy(\"user_id\", \"order_datetime\")\n",
    "                        .agg(avg(\"dollar_value\").alias(\"dollar_value_average\"))\n",
    "                        .orderBy(\"user_id\"))"
   ]
  },
  {
   "cell_type": "code",
   "execution_count": 4,
   "metadata": {},
   "outputs": [],
   "source": [
    "# find the average and standard deviation of dollor value for each user\n",
    "join_std = (raw_join_date.groupBy(\"user_id\")\\\n",
    "                         .agg(stddev_pop(\"dollar_value_average\").alias(\"dollar_std\"),\n",
    "                              avg(\"dollar_value_average\").alias(\"dollar_mean\")))"
   ]
  },
  {
   "cell_type": "markdown",
   "metadata": {},
   "source": [
    "<h4>1.1.2 Determine whether an instance is an outlier for corresponding user (0 is not outlier; 1 is outlier) </h4>"
   ]
  },
  {
   "cell_type": "code",
   "execution_count": 5,
   "metadata": {},
   "outputs": [],
   "source": [
    "raw_join_outlier = (raw_join_date.join(join_std, \"user_id\", \"left\")\n",
    "                   .withColumn(\"isOutlier\",\n",
    "                                F.when((abs(col(\"dollar_value_average\") - col(\"dollar_mean\")) <= 3 * col(\"dollar_std\")), 0).otherwise(1))\n",
    "                   .drop(\"dollar_mean\")\n",
    "                   .drop(\"dollar_std\")\n",
    "                   .drop(\"dollar_value_average\"))"
   ]
  },
  {
   "cell_type": "code",
   "execution_count": 6,
   "metadata": {},
   "outputs": [
    {
     "name": "stderr",
     "output_type": "stream",
     "text": [
      "[Stage 3:====>              (1 + 3) / 4][Stage 4:>                  (0 + 1) / 4]\r"
     ]
    },
    {
     "name": "stdout",
     "output_type": "stream",
     "text": [
      "22/09/22 00:23:15 WARN RowBasedKeyValueBatch: Calling spill() on RowBasedKeyValueBatch. Will not spill but return 0.\n"
     ]
    },
    {
     "name": "stderr",
     "output_type": "stream",
     "text": [
      "[Stage 3:==============>    (3 + 1) / 4][Stage 4:=========>         (2 + 2) / 4]\r"
     ]
    },
    {
     "name": "stdout",
     "output_type": "stream",
     "text": [
      "22/09/22 00:23:21 WARN RowBasedKeyValueBatch: Calling spill() on RowBasedKeyValueBatch. Will not spill but return 0.\n"
     ]
    },
    {
     "name": "stderr",
     "output_type": "stream",
     "text": [
      "[Stage 26:====>             (1 + 3) / 4][Stage 27:>                 (0 + 1) / 4]\r"
     ]
    },
    {
     "name": "stdout",
     "output_type": "stream",
     "text": [
      "22/09/22 00:23:59 WARN RowBasedKeyValueBatch: Calling spill() on RowBasedKeyValueBatch. Will not spill but return 0.\n"
     ]
    },
    {
     "name": "stderr",
     "output_type": "stream",
     "text": [
      "[Stage 26:=============>    (3 + 1) / 4][Stage 27:=========>        (2 + 2) / 4]\r"
     ]
    },
    {
     "name": "stdout",
     "output_type": "stream",
     "text": [
      "22/09/22 00:24:04 WARN RowBasedKeyValueBatch: Calling spill() on RowBasedKeyValueBatch. Will not spill but return 0.\n"
     ]
    },
    {
     "name": "stderr",
     "output_type": "stream",
     "text": [
      "                                                                                \r"
     ]
    },
    {
     "data": {
      "text/html": [
       "<table border='1'>\n",
       "<tr><th>user_id</th><th>order_datetime</th><th>isOutlier</th></tr>\n",
       "<tr><td>1</td><td>2022-05-23</td><td>0</td></tr>\n",
       "<tr><td>1</td><td>2021-07-30</td><td>0</td></tr>\n",
       "<tr><td>1</td><td>2022-08-21</td><td>0</td></tr>\n",
       "<tr><td>1</td><td>2021-09-12</td><td>0</td></tr>\n",
       "<tr><td>1</td><td>2022-10-25</td><td>0</td></tr>\n",
       "<tr><td>1</td><td>2021-08-21</td><td>0</td></tr>\n",
       "<tr><td>1</td><td>2022-02-06</td><td>0</td></tr>\n",
       "<tr><td>1</td><td>2021-05-30</td><td>0</td></tr>\n",
       "<tr><td>1</td><td>2021-07-13</td><td>0</td></tr>\n",
       "<tr><td>1</td><td>2021-05-20</td><td>0</td></tr>\n",
       "<tr><td>1</td><td>2021-11-13</td><td>0</td></tr>\n",
       "<tr><td>1</td><td>2021-09-17</td><td>0</td></tr>\n",
       "<tr><td>1</td><td>2022-07-25</td><td>0</td></tr>\n",
       "<tr><td>1</td><td>2021-09-15</td><td>0</td></tr>\n",
       "<tr><td>1</td><td>2021-08-24</td><td>0</td></tr>\n",
       "<tr><td>1</td><td>2021-08-12</td><td>0</td></tr>\n",
       "<tr><td>1</td><td>2022-08-09</td><td>0</td></tr>\n",
       "<tr><td>1</td><td>2022-03-31</td><td>0</td></tr>\n",
       "<tr><td>1</td><td>2022-07-06</td><td>0</td></tr>\n",
       "<tr><td>1</td><td>2021-12-10</td><td>0</td></tr>\n",
       "</table>\n",
       "only showing top 20 rows\n"
      ],
      "text/plain": [
       "+-------+--------------+---------+\n",
       "|user_id|order_datetime|isOutlier|\n",
       "+-------+--------------+---------+\n",
       "|      1|    2022-05-23|        0|\n",
       "|      1|    2021-07-30|        0|\n",
       "|      1|    2022-08-21|        0|\n",
       "|      1|    2021-09-12|        0|\n",
       "|      1|    2022-10-25|        0|\n",
       "|      1|    2021-08-21|        0|\n",
       "|      1|    2022-02-06|        0|\n",
       "|      1|    2021-05-30|        0|\n",
       "|      1|    2021-07-13|        0|\n",
       "|      1|    2021-05-20|        0|\n",
       "|      1|    2021-11-13|        0|\n",
       "|      1|    2021-09-17|        0|\n",
       "|      1|    2022-07-25|        0|\n",
       "|      1|    2021-09-15|        0|\n",
       "|      1|    2021-08-24|        0|\n",
       "|      1|    2021-08-12|        0|\n",
       "|      1|    2022-08-09|        0|\n",
       "|      1|    2022-03-31|        0|\n",
       "|      1|    2022-07-06|        0|\n",
       "|      1|    2021-12-10|        0|\n",
       "+-------+--------------+---------+\n",
       "only showing top 20 rows"
      ]
     },
     "execution_count": 6,
     "metadata": {},
     "output_type": "execute_result"
    }
   ],
   "source": [
    "raw_join_outlier"
   ]
  },
  {
   "cell_type": "markdown",
   "metadata": {},
   "source": [
    "<h3>1.2. Join with consumer fraud probability</h3>"
   ]
  },
  {
   "cell_type": "code",
   "execution_count": 7,
   "metadata": {},
   "outputs": [],
   "source": [
    "consumer_fraud = consumer_fraud.withColumnRenamed(\"user_id\", \"user_id_alt\")\n",
    "consumer_fraud = consumer_fraud.withColumnRenamed(\"order_datetime\", \"order_datetime_alt\")"
   ]
  },
  {
   "cell_type": "code",
   "execution_count": 8,
   "metadata": {},
   "outputs": [],
   "source": [
    "raw_join_outlier.createOrReplaceTempView(\"consumer\")\n",
    "consumer_fraud.createOrReplaceTempView(\"probability\")\n",
    "\n",
    "consumer_prob = spark.sql(\"\"\"\n",
    "SELECT \n",
    "    user_id, order_datetime, fraud_probability, isOutlier\n",
    "FROM \n",
    "    consumer\n",
    "LEFT JOIN \n",
    "    probability\n",
    "ON \n",
    "    consumer.user_id == probability.user_id_alt\n",
    "AND \n",
    "    consumer.order_datetime == probability.order_datetime_alt\n",
    "\"\"\")\n"
   ]
  },
  {
   "cell_type": "code",
   "execution_count": 9,
   "metadata": {},
   "outputs": [],
   "source": [
    "# fill the non exists probability with 0.1\n",
    "consumer_prob = consumer_prob.withColumn(\"fraud_probability\", \n",
    "                            F.when((col(\"fraud_probability\").isNull()), 0.1).otherwise(F.col(\"fraud_probability\")))"
   ]
  },
  {
   "cell_type": "code",
   "execution_count": 10,
   "metadata": {},
   "outputs": [],
   "source": [
    "# convert data type of features to ensure they can be vectorize\n",
    "consumer_prob = consumer_prob.withColumn(\"fraud_probability\", F.col(\"fraud_probability\").cast(\"float\"))"
   ]
  },
  {
   "cell_type": "markdown",
   "metadata": {},
   "source": [
    "<h3>1.3. Vectorize and standardize the features to ensure they are suitible for the clustering model (k-means)</h3>"
   ]
  },
  {
   "cell_type": "code",
   "execution_count": 11,
   "metadata": {},
   "outputs": [],
   "source": [
    "# vectorized the features for model training\n",
    "from pyspark.ml.feature import VectorAssembler\n",
    "\n",
    "features = 'features'\n",
    "input_cols = [\"fraud_probability\", \"isOutlier\"]\n",
    "\n",
    "assembler = VectorAssembler(\n",
    "    # which column to combine\n",
    "    inputCols=input_cols, \n",
    "    # How should the combined columns be named\n",
    "    outputCol=features\n",
    ")\n",
    "\n",
    "consumer_transformed = assembler.transform(consumer_prob.dropna('any'))"
   ]
  },
  {
   "cell_type": "code",
   "execution_count": 12,
   "metadata": {},
   "outputs": [
    {
     "name": "stderr",
     "output_type": "stream",
     "text": [
      "[Stage 50:====>             (1 + 3) / 4][Stage 51:>                 (0 + 1) / 4]\r"
     ]
    },
    {
     "name": "stdout",
     "output_type": "stream",
     "text": [
      "22/09/22 00:24:40 WARN RowBasedKeyValueBatch: Calling spill() on RowBasedKeyValueBatch. Will not spill but return 0.\n"
     ]
    },
    {
     "name": "stderr",
     "output_type": "stream",
     "text": [
      "[Stage 50:=============>    (3 + 1) / 4][Stage 51:=========>        (2 + 2) / 4]\r"
     ]
    },
    {
     "name": "stdout",
     "output_type": "stream",
     "text": [
      "22/09/22 00:24:45 WARN RowBasedKeyValueBatch: Calling spill() on RowBasedKeyValueBatch. Will not spill but return 0.\n"
     ]
    },
    {
     "name": "stderr",
     "output_type": "stream",
     "text": [
      "                                                                                \r"
     ]
    }
   ],
   "source": [
    "from pyspark.ml.feature import StandardScaler\n",
    "\n",
    "scaler = StandardScaler(inputCol=\"features\", outputCol=\"scaledFeatures\",\n",
    "                        withStd=True, withMean=False)\n",
    "\n",
    "# Compute summary statistics by fitting the StandardScaler\n",
    "scalerModel = scaler.fit(consumer_transformed)\n",
    "\n",
    "consumer_transformed = scalerModel.transform(consumer_transformed)"
   ]
  },
  {
   "cell_type": "code",
   "execution_count": 13,
   "metadata": {},
   "outputs": [
    {
     "name": "stderr",
     "output_type": "stream",
     "text": [
      "[Stage 73:====>             (1 + 3) / 4][Stage 74:>                 (0 + 1) / 4]\r"
     ]
    },
    {
     "name": "stdout",
     "output_type": "stream",
     "text": [
      "22/09/22 00:25:22 WARN RowBasedKeyValueBatch: Calling spill() on RowBasedKeyValueBatch. Will not spill but return 0.\n"
     ]
    },
    {
     "name": "stderr",
     "output_type": "stream",
     "text": [
      "[Stage 73:=============>    (3 + 1) / 4][Stage 74:=========>        (2 + 2) / 4]\r"
     ]
    },
    {
     "name": "stdout",
     "output_type": "stream",
     "text": [
      "22/09/22 00:25:28 WARN RowBasedKeyValueBatch: Calling spill() on RowBasedKeyValueBatch. Will not spill but return 0.\n"
     ]
    },
    {
     "name": "stderr",
     "output_type": "stream",
     "text": [
      "                                                                                \r"
     ]
    }
   ],
   "source": [
    "from pyspark.ml.feature import VectorIndexer\n",
    "\n",
    "featureIndexer = VectorIndexer(inputCol=\"scaledFeatures\", \\\n",
    "                               outputCol=\"indexedFeatures\",\\\n",
    "                               maxCategories=3165\n",
    ").fit(consumer_transformed)\n",
    "\n",
    "consumer_transformed = featureIndexer.transform(consumer_transformed)"
   ]
  },
  {
   "cell_type": "markdown",
   "metadata": {},
   "source": [
    "<h3>1.4. Modelling using k-means and clustering </h3>"
   ]
  },
  {
   "cell_type": "code",
   "execution_count": 14,
   "metadata": {},
   "outputs": [
    {
     "name": "stderr",
     "output_type": "stream",
     "text": [
      "[Stage 92:====>             (1 + 3) / 4][Stage 93:>                 (0 + 1) / 4]\r"
     ]
    },
    {
     "name": "stdout",
     "output_type": "stream",
     "text": [
      "22/09/22 00:26:10 WARN RowBasedKeyValueBatch: Calling spill() on RowBasedKeyValueBatch. Will not spill but return 0.\n"
     ]
    },
    {
     "name": "stderr",
     "output_type": "stream",
     "text": [
      "[Stage 92:=============>    (3 + 1) / 4][Stage 93:=========>        (2 + 2) / 4]\r"
     ]
    },
    {
     "name": "stdout",
     "output_type": "stream",
     "text": [
      "22/09/22 00:26:15 WARN RowBasedKeyValueBatch: Calling spill() on RowBasedKeyValueBatch. Will not spill but return 0.\n"
     ]
    },
    {
     "name": "stderr",
     "output_type": "stream",
     "text": [
      "[Stage 108:====>            (1 + 3) / 4][Stage 109:>                (0 + 1) / 4]\r"
     ]
    },
    {
     "name": "stdout",
     "output_type": "stream",
     "text": [
      "22/09/22 00:26:40 WARN RowBasedKeyValueBatch: Calling spill() on RowBasedKeyValueBatch. Will not spill but return 0.\n"
     ]
    },
    {
     "name": "stderr",
     "output_type": "stream",
     "text": [
      "[Stage 108:============>    (3 + 1) / 4][Stage 109:========>        (2 + 2) / 4]\r"
     ]
    },
    {
     "name": "stdout",
     "output_type": "stream",
     "text": [
      "22/09/22 00:26:44 WARN RowBasedKeyValueBatch: Calling spill() on RowBasedKeyValueBatch. Will not spill but return 0.\n"
     ]
    },
    {
     "name": "stderr",
     "output_type": "stream",
     "text": [
      "[Stage 162:====>            (1 + 3) / 4][Stage 163:>                (0 + 1) / 4]\r"
     ]
    },
    {
     "name": "stdout",
     "output_type": "stream",
     "text": [
      "22/09/22 00:28:08 WARN RowBasedKeyValueBatch: Calling spill() on RowBasedKeyValueBatch. Will not spill but return 0.\n"
     ]
    },
    {
     "name": "stderr",
     "output_type": "stream",
     "text": [
      "[Stage 162:============>    (3 + 1) / 4][Stage 163:========>        (2 + 2) / 4]\r"
     ]
    },
    {
     "name": "stdout",
     "output_type": "stream",
     "text": [
      "22/09/22 00:28:13 WARN RowBasedKeyValueBatch: Calling spill() on RowBasedKeyValueBatch. Will not spill but return 0.\n"
     ]
    },
    {
     "name": "stderr",
     "output_type": "stream",
     "text": [
      "                                                                                \r"
     ]
    }
   ],
   "source": [
    "from pyspark.ml.clustering import KMeans\n",
    "\n",
    "kmeans = KMeans(featuresCol='indexedFeatures', k=3)\n",
    "model = kmeans.fit(consumer_transformed.select(\"indexedFeatures\"))\n",
    "consumer_kmean = model.transform(consumer_transformed)\n",
    "consumer_kmean = consumer_kmean.withColumnRenamed(\"prediction\", \"fraud_group\")"
   ]
  },
  {
   "cell_type": "code",
   "execution_count": 15,
   "metadata": {},
   "outputs": [
    {
     "name": "stderr",
     "output_type": "stream",
     "text": [
      "[Stage 185:====>            (1 + 3) / 4][Stage 186:>                (0 + 1) / 4]\r"
     ]
    },
    {
     "name": "stdout",
     "output_type": "stream",
     "text": [
      "22/09/22 00:28:53 WARN RowBasedKeyValueBatch: Calling spill() on RowBasedKeyValueBatch. Will not spill but return 0.\n"
     ]
    },
    {
     "name": "stderr",
     "output_type": "stream",
     "text": [
      "[Stage 185:============>    (3 + 1) / 4][Stage 186:========>        (2 + 2) / 4]\r"
     ]
    },
    {
     "name": "stdout",
     "output_type": "stream",
     "text": [
      "22/09/22 00:28:58 WARN RowBasedKeyValueBatch: Calling spill() on RowBasedKeyValueBatch. Will not spill but return 0.\n"
     ]
    },
    {
     "name": "stderr",
     "output_type": "stream",
     "text": [
      "[Stage 204:====>            (1 + 3) / 4][Stage 205:>                (0 + 1) / 4]\r"
     ]
    },
    {
     "name": "stdout",
     "output_type": "stream",
     "text": [
      "22/09/22 00:29:23 WARN RowBasedKeyValueBatch: Calling spill() on RowBasedKeyValueBatch. Will not spill but return 0.\n"
     ]
    },
    {
     "name": "stderr",
     "output_type": "stream",
     "text": [
      "[Stage 204:============>    (3 + 1) / 4][Stage 205:========>        (2 + 2) / 4]\r"
     ]
    },
    {
     "name": "stdout",
     "output_type": "stream",
     "text": [
      "22/09/22 00:29:28 WARN RowBasedKeyValueBatch: Calling spill() on RowBasedKeyValueBatch. Will not spill but return 0.\n"
     ]
    },
    {
     "name": "stderr",
     "output_type": "stream",
     "text": [
      "                                                                                \r"
     ]
    },
    {
     "data": {
      "text/html": [
       "<table border='1'>\n",
       "<tr><th>user_id</th><th>order_datetime</th><th>fraud_probability</th><th>isOutlier</th><th>features</th><th>scaledFeatures</th><th>indexedFeatures</th><th>fraud_group</th></tr>\n",
       "<tr><td>18730</td><td>2021-06-29</td><td>0.1</td><td>0</td><td>[0.10000000149011...</td><td>[0.09229378721489...</td><td>[0.09229378721489...</td><td>0</td></tr>\n",
       "<tr><td>18730</td><td>2022-10-16</td><td>0.1</td><td>0</td><td>[0.10000000149011...</td><td>[0.09229378721489...</td><td>[0.09229378721489...</td><td>0</td></tr>\n",
       "<tr><td>8484</td><td>2022-10-24</td><td>0.1</td><td>0</td><td>[0.10000000149011...</td><td>[0.09229378721489...</td><td>[0.09229378721489...</td><td>0</td></tr>\n",
       "<tr><td>2509</td><td>2022-07-10</td><td>0.1</td><td>0</td><td>[0.10000000149011...</td><td>[0.09229378721489...</td><td>[0.09229378721489...</td><td>0</td></tr>\n",
       "<tr><td>12568</td><td>2021-08-25</td><td>0.1</td><td>0</td><td>[0.10000000149011...</td><td>[0.09229378721489...</td><td>[0.09229378721489...</td><td>0</td></tr>\n",
       "<tr><td>12568</td><td>2021-11-12</td><td>0.1</td><td>0</td><td>[0.10000000149011...</td><td>[0.09229378721489...</td><td>[0.09229378721489...</td><td>0</td></tr>\n",
       "<tr><td>13401</td><td>2022-08-30</td><td>0.1</td><td>0</td><td>[0.10000000149011...</td><td>[0.09229378721489...</td><td>[0.09229378721489...</td><td>0</td></tr>\n",
       "<tr><td>13401</td><td>2022-04-04</td><td>0.1</td><td>0</td><td>[0.10000000149011...</td><td>[0.09229378721489...</td><td>[0.09229378721489...</td><td>0</td></tr>\n",
       "<tr><td>13401</td><td>2021-09-26</td><td>0.1</td><td>0</td><td>[0.10000000149011...</td><td>[0.09229378721489...</td><td>[0.09229378721489...</td><td>0</td></tr>\n",
       "<tr><td>14117</td><td>2021-05-01</td><td>0.1</td><td>0</td><td>[0.10000000149011...</td><td>[0.09229378721489...</td><td>[0.09229378721489...</td><td>0</td></tr>\n",
       "<tr><td>16597</td><td>2022-03-14</td><td>0.1</td><td>0</td><td>[0.10000000149011...</td><td>[0.09229378721489...</td><td>[0.09229378721489...</td><td>0</td></tr>\n",
       "<tr><td>19771</td><td>2022-08-18</td><td>0.1</td><td>0</td><td>[0.10000000149011...</td><td>[0.09229378721489...</td><td>[0.09229378721489...</td><td>0</td></tr>\n",
       "<tr><td>19141</td><td>2021-11-28</td><td>0.1</td><td>0</td><td>[0.10000000149011...</td><td>[0.09229378721489...</td><td>[0.09229378721489...</td><td>0</td></tr>\n",
       "<tr><td>19141</td><td>2021-10-21</td><td>0.1</td><td>0</td><td>[0.10000000149011...</td><td>[0.09229378721489...</td><td>[0.09229378721489...</td><td>0</td></tr>\n",
       "<tr><td>21899</td><td>2022-10-12</td><td>0.1</td><td>0</td><td>[0.10000000149011...</td><td>[0.09229378721489...</td><td>[0.09229378721489...</td><td>0</td></tr>\n",
       "<tr><td>21899</td><td>2022-04-15</td><td>0.1</td><td>0</td><td>[0.10000000149011...</td><td>[0.09229378721489...</td><td>[0.09229378721489...</td><td>0</td></tr>\n",
       "<tr><td>7747</td><td>2022-06-26</td><td>0.1</td><td>0</td><td>[0.10000000149011...</td><td>[0.09229378721489...</td><td>[0.09229378721489...</td><td>0</td></tr>\n",
       "<tr><td>7747</td><td>2021-12-03</td><td>0.1</td><td>0</td><td>[0.10000000149011...</td><td>[0.09229378721489...</td><td>[0.09229378721489...</td><td>0</td></tr>\n",
       "<tr><td>7747</td><td>2022-02-10</td><td>0.1</td><td>0</td><td>[0.10000000149011...</td><td>[0.09229378721489...</td><td>[0.09229378721489...</td><td>0</td></tr>\n",
       "<tr><td>15375</td><td>2021-10-11</td><td>0.1</td><td>0</td><td>[0.10000000149011...</td><td>[0.09229378721489...</td><td>[0.09229378721489...</td><td>0</td></tr>\n",
       "</table>\n",
       "only showing top 20 rows\n"
      ],
      "text/plain": [
       "+-------+--------------+-----------------+---------+--------------------+--------------------+--------------------+-----------+\n",
       "|user_id|order_datetime|fraud_probability|isOutlier|            features|      scaledFeatures|     indexedFeatures|fraud_group|\n",
       "+-------+--------------+-----------------+---------+--------------------+--------------------+--------------------+-----------+\n",
       "|  18730|    2021-06-29|              0.1|        0|[0.10000000149011...|[0.09229378721489...|[0.09229378721489...|          0|\n",
       "|  18730|    2022-10-16|              0.1|        0|[0.10000000149011...|[0.09229378721489...|[0.09229378721489...|          0|\n",
       "|   8484|    2022-10-24|              0.1|        0|[0.10000000149011...|[0.09229378721489...|[0.09229378721489...|          0|\n",
       "|   2509|    2022-07-10|              0.1|        0|[0.10000000149011...|[0.09229378721489...|[0.09229378721489...|          0|\n",
       "|  12568|    2021-08-25|              0.1|        0|[0.10000000149011...|[0.09229378721489...|[0.09229378721489...|          0|\n",
       "|  12568|    2021-11-12|              0.1|        0|[0.10000000149011...|[0.09229378721489...|[0.09229378721489...|          0|\n",
       "|  13401|    2022-08-30|              0.1|        0|[0.10000000149011...|[0.09229378721489...|[0.09229378721489...|          0|\n",
       "|  13401|    2022-04-04|              0.1|        0|[0.10000000149011...|[0.09229378721489...|[0.09229378721489...|          0|\n",
       "|  13401|    2021-09-26|              0.1|        0|[0.10000000149011...|[0.09229378721489...|[0.09229378721489...|          0|\n",
       "|  14117|    2021-05-01|              0.1|        0|[0.10000000149011...|[0.09229378721489...|[0.09229378721489...|          0|\n",
       "|  16597|    2022-03-14|              0.1|        0|[0.10000000149011...|[0.09229378721489...|[0.09229378721489...|          0|\n",
       "|  19771|    2022-08-18|              0.1|        0|[0.10000000149011...|[0.09229378721489...|[0.09229378721489...|          0|\n",
       "|  19141|    2021-11-28|              0.1|        0|[0.10000000149011...|[0.09229378721489...|[0.09229378721489...|          0|\n",
       "|  19141|    2021-10-21|              0.1|        0|[0.10000000149011...|[0.09229378721489...|[0.09229378721489...|          0|\n",
       "|  21899|    2022-10-12|              0.1|        0|[0.10000000149011...|[0.09229378721489...|[0.09229378721489...|          0|\n",
       "|  21899|    2022-04-15|              0.1|        0|[0.10000000149011...|[0.09229378721489...|[0.09229378721489...|          0|\n",
       "|   7747|    2022-06-26|              0.1|        0|[0.10000000149011...|[0.09229378721489...|[0.09229378721489...|          0|\n",
       "|   7747|    2021-12-03|              0.1|        0|[0.10000000149011...|[0.09229378721489...|[0.09229378721489...|          0|\n",
       "|   7747|    2022-02-10|              0.1|        0|[0.10000000149011...|[0.09229378721489...|[0.09229378721489...|          0|\n",
       "|  15375|    2021-10-11|              0.1|        0|[0.10000000149011...|[0.09229378721489...|[0.09229378721489...|          0|\n",
       "+-------+--------------+-----------------+---------+--------------------+--------------------+--------------------+-----------+\n",
       "only showing top 20 rows"
      ]
     },
     "execution_count": 15,
     "metadata": {},
     "output_type": "execute_result"
    }
   ],
   "source": [
    "consumer_kmean"
   ]
  },
  {
   "cell_type": "markdown",
   "metadata": {},
   "source": [
    "<h3>1.5. Check the clustering is followed by the assumption </h3>"
   ]
  },
  {
   "cell_type": "code",
   "execution_count": 16,
   "metadata": {},
   "outputs": [
    {
     "name": "stderr",
     "output_type": "stream",
     "text": [
      "[Stage 223:====>            (1 + 3) / 4][Stage 224:>                (0 + 1) / 4]\r"
     ]
    },
    {
     "name": "stdout",
     "output_type": "stream",
     "text": [
      "22/09/22 00:29:54 WARN RowBasedKeyValueBatch: Calling spill() on RowBasedKeyValueBatch. Will not spill but return 0.\n"
     ]
    },
    {
     "name": "stderr",
     "output_type": "stream",
     "text": [
      "[Stage 223:============>    (3 + 1) / 4][Stage 224:========>        (2 + 2) / 4]\r"
     ]
    },
    {
     "name": "stdout",
     "output_type": "stream",
     "text": [
      "22/09/22 00:29:58 WARN RowBasedKeyValueBatch: Calling spill() on RowBasedKeyValueBatch. Will not spill but return 0.\n"
     ]
    },
    {
     "name": "stderr",
     "output_type": "stream",
     "text": [
      "[Stage 245:====>            (1 + 3) / 4][Stage 247:>                (0 + 1) / 4]\r"
     ]
    },
    {
     "name": "stdout",
     "output_type": "stream",
     "text": [
      "22/09/22 00:30:37 WARN RowBasedKeyValueBatch: Calling spill() on RowBasedKeyValueBatch. Will not spill but return 0.\n"
     ]
    },
    {
     "name": "stderr",
     "output_type": "stream",
     "text": [
      "[Stage 245:============>    (3 + 1) / 4][Stage 247:========>        (2 + 2) / 4]\r"
     ]
    },
    {
     "name": "stdout",
     "output_type": "stream",
     "text": [
      "22/09/22 00:30:42 WARN RowBasedKeyValueBatch: Calling spill() on RowBasedKeyValueBatch. Will not spill but return 0.\n"
     ]
    },
    {
     "name": "stderr",
     "output_type": "stream",
     "text": [
      "                                                                                \r"
     ]
    },
    {
     "data": {
      "text/html": [
       "<table border='1'>\n",
       "<tr><th>fraud_group</th><th>mean_prob</th><th>outlier_amount</th><th>total_instance</th></tr>\n",
       "<tr><td>1</td><td>12.78110882133088</td><td>19832</td><td>30467</td></tr>\n",
       "<tr><td>2</td><td>43.71548542520274</td><td>1795</td><td>2300</td></tr>\n",
       "<tr><td>0</td><td>0.10000000149011612</td><td>123731</td><td>8724160</td></tr>\n",
       "</table>\n"
      ],
      "text/plain": [
       "+-----------+-------------------+--------------+--------------+\n",
       "|fraud_group|          mean_prob|outlier_amount|total_instance|\n",
       "+-----------+-------------------+--------------+--------------+\n",
       "|          1|  12.78110882133088|         19832|         30467|\n",
       "|          2|  43.71548542520274|          1795|          2300|\n",
       "|          0|0.10000000149011612|        123731|       8724160|\n",
       "+-----------+-------------------+--------------+--------------+"
      ]
     },
     "execution_count": 16,
     "metadata": {},
     "output_type": "execute_result"
    }
   ],
   "source": [
    "consumer_check = consumer_kmean.groupBy(\"fraud_group\").agg(mean(\"fraud_probability\").alias(\"mean_prob\"), \n",
    "                                          sum(\"isOutlier\").alias(\"outlier_amount\"), \n",
    "                                          count(\"isOutlier\").alias(\"total_instance\"))\n",
    "consumer_check                                         "
   ]
  },
  {
   "cell_type": "code",
   "execution_count": 17,
   "metadata": {},
   "outputs": [],
   "source": [
    "consumer_check = (consumer_check.withColumn(\"outlier_rate\", F.col(\"outlier_amount\")/F.col(\"total_instance\"))\n",
    "                               .drop(col(\"outlier_amount\"))\n",
    "                               .drop(col(\"total_instance\")))"
   ]
  },
  {
   "cell_type": "code",
   "execution_count": 18,
   "metadata": {},
   "outputs": [
    {
     "name": "stderr",
     "output_type": "stream",
     "text": [
      "[Stage 269:====>            (1 + 3) / 4][Stage 270:>                (0 + 1) / 4]\r"
     ]
    },
    {
     "name": "stdout",
     "output_type": "stream",
     "text": [
      "22/09/22 00:31:18 WARN RowBasedKeyValueBatch: Calling spill() on RowBasedKeyValueBatch. Will not spill but return 0.\n"
     ]
    },
    {
     "name": "stderr",
     "output_type": "stream",
     "text": [
      "[Stage 269:============>    (3 + 1) / 4][Stage 270:========>        (2 + 2) / 4]\r"
     ]
    },
    {
     "name": "stdout",
     "output_type": "stream",
     "text": [
      "22/09/22 00:31:23 WARN RowBasedKeyValueBatch: Calling spill() on RowBasedKeyValueBatch. Will not spill but return 0.\n"
     ]
    },
    {
     "name": "stderr",
     "output_type": "stream",
     "text": [
      "[Stage 292:====>            (1 + 3) / 4][Stage 293:>                (0 + 1) / 4]\r"
     ]
    },
    {
     "name": "stdout",
     "output_type": "stream",
     "text": [
      "22/09/22 00:32:00 WARN RowBasedKeyValueBatch: Calling spill() on RowBasedKeyValueBatch. Will not spill but return 0.\n"
     ]
    },
    {
     "name": "stderr",
     "output_type": "stream",
     "text": [
      "[Stage 292:============>    (3 + 1) / 4][Stage 293:========>        (2 + 2) / 4]\r"
     ]
    },
    {
     "name": "stdout",
     "output_type": "stream",
     "text": [
      "22/09/22 00:32:05 WARN RowBasedKeyValueBatch: Calling spill() on RowBasedKeyValueBatch. Will not spill but return 0.\n"
     ]
    },
    {
     "name": "stderr",
     "output_type": "stream",
     "text": [
      "                                                                                \r"
     ]
    },
    {
     "data": {
      "text/html": [
       "<table border='1'>\n",
       "<tr><th>fraud_group</th><th>mean_prob</th><th>outlier_rate</th></tr>\n",
       "<tr><td>1</td><td>12.78110882133088</td><td>0.6509337972232251</td></tr>\n",
       "<tr><td>2</td><td>43.71548542520274</td><td>0.7804347826086957</td></tr>\n",
       "<tr><td>0</td><td>0.10000000149011612</td><td>0.014182568866228954</td></tr>\n",
       "</table>\n"
      ],
      "text/plain": [
       "+-----------+-------------------+--------------------+\n",
       "|fraud_group|          mean_prob|        outlier_rate|\n",
       "+-----------+-------------------+--------------------+\n",
       "|          1|  12.78110882133088|  0.6509337972232251|\n",
       "|          2|  43.71548542520274|  0.7804347826086957|\n",
       "|          0|0.10000000149011612|0.014182568866228954|\n",
       "+-----------+-------------------+--------------------+"
      ]
     },
     "execution_count": 18,
     "metadata": {},
     "output_type": "execute_result"
    }
   ],
   "source": [
    "consumer_check"
   ]
  },
  {
   "cell_type": "markdown",
   "metadata": {},
   "source": [
    "Summary:\n",
    "1. According to mean_prob, we can know that 0 represents low fraud probability, 2 represents medum one and 1 represents high one for fraud_group.\n",
    "2. The level of fraud probability increases as the outlier_rate increases as well."
   ]
  },
  {
   "cell_type": "markdown",
   "metadata": {},
   "source": [
    "<h3>1.6. Add the fraud_group feature to the internal joined dataset</h3>"
   ]
  },
  {
   "cell_type": "code",
   "execution_count": 19,
   "metadata": {},
   "outputs": [],
   "source": [
    "add_fraud = raw_join.join(consumer_kmean, [\"user_id\", \"order_datetime\"], \"left\")"
   ]
  },
  {
   "cell_type": "code",
   "execution_count": 20,
   "metadata": {},
   "outputs": [],
   "source": [
    "add_fraud = add_fraud.drop(\"fraud_probability\", \"isOutlier\", \"features\", \"scaledFeatures\", \"indexedFeatures\")"
   ]
  },
  {
   "cell_type": "code",
   "execution_count": 21,
   "metadata": {},
   "outputs": [],
   "source": [
    "# import time\n",
    "# import datetime\n",
    "# date = \"2021-02-01\"\n",
    "# date_time = datetime.datetime.strptime(date, '%Y-%m-%d')\n",
    "\n",
    "# user = 20984"
   ]
  },
  {
   "cell_type": "code",
   "execution_count": 22,
   "metadata": {},
   "outputs": [],
   "source": [
    "# raw_join.where((col(\"order_datetime\") == date_time.date()) & (col(\"user_id\") == user))"
   ]
  },
  {
   "cell_type": "code",
   "execution_count": 23,
   "metadata": {},
   "outputs": [],
   "source": [
    "# merchant_consumer_info.where((col(\"order_datetime\") == date_time.date()) & (col(\"user_id\") == user))"
   ]
  },
  {
   "cell_type": "markdown",
   "metadata": {},
   "source": [
    "<h2>2. Outlier removal</h2>"
   ]
  },
  {
   "cell_type": "markdown",
   "metadata": {},
   "source": [
    "<h3>2.1 Get distribution for each revenue level</h3>"
   ]
  },
  {
   "cell_type": "code",
   "execution_count": 24,
   "metadata": {},
   "outputs": [
    {
     "name": "stderr",
     "output_type": "stream",
     "text": [
      "[Stage 314:==>(3 + 1) / 4][Stage 317:>  (0 + 3) / 4][Stage 319:>  (0 + 0) / 5]4]\r"
     ]
    },
    {
     "name": "stdout",
     "output_type": "stream",
     "text": [
      "22/09/22 00:33:19 WARN RowBasedKeyValueBatch: Calling spill() on RowBasedKeyValueBatch. Will not spill but return 0.\n"
     ]
    },
    {
     "name": "stderr",
     "output_type": "stream",
     "text": [
      "                                                                                \r"
     ]
    },
    {
     "data": {
      "text/plain": [
       "<AxesSubplot:xlabel='dollar_value', ylabel='revenue_level'>"
      ]
     },
     "execution_count": 24,
     "metadata": {},
     "output_type": "execute_result"
    },
    {
     "data": {
      "image/png": "[encoded data removed]",
      "text/plain": [
       "<Figure size 432x288 with 1 Axes>"
      ]
     },
     "metadata": {
      "needs_background": "light"
     },
     "output_type": "display_data"
    }
   ],
   "source": [
    "import seaborn as sns\n",
    "sns.violinplot(data=add_fraud.sample(False, 0.1).toPandas(), x=\"dollar_value\", y=\"revenue_level\")"
   ]
  },
  {
   "cell_type": "code",
   "execution_count": 25,
   "metadata": {},
   "outputs": [
    {
     "name": "stderr",
     "output_type": "stream",
     "text": [
      "                                                                                \r"
     ]
    },
    {
     "data": {
      "text/plain": [
       "<AxesSubplot:xlabel='dollar_value', ylabel='revenue_level'>"
      ]
     },
     "execution_count": 25,
     "metadata": {},
     "output_type": "execute_result"
    },
    {
     "data": {
      "image/png": "[encoded data removed]",
      "text/plain": [
       "<Figure size 432x288 with 1 Axes>"
      ]
     },
     "metadata": {
      "needs_background": "light"
     },
     "output_type": "display_data"
    }
   ],
   "source": [
    "sns.boxplot(data=add_fraud.sample(False, 0.1).toPandas(), x=\"dollar_value\", y=\"revenue_level\")"
   ]
  },
  {
   "cell_type": "markdown",
   "metadata": {},
   "source": [
    "<h4>2.1.1 Remove outliers based on standard deviation</h4>"
   ]
  },
  {
   "cell_type": "code",
   "execution_count": 26,
   "metadata": {},
   "outputs": [
    {
     "name": "stderr",
     "output_type": "stream",
     "text": [
      "[Stage 366:========>        (2 + 2) / 4][Stage 367:>                (0 + 2) / 4]\r"
     ]
    },
    {
     "name": "stdout",
     "output_type": "stream",
     "text": [
      "22/09/22 00:36:37 WARN RowBasedKeyValueBatch: Calling spill() on RowBasedKeyValueBatch. Will not spill but return 0.\n"
     ]
    },
    {
     "name": "stderr",
     "output_type": "stream",
     "text": [
      "[Stage 366:============>    (3 + 1) / 4][Stage 367:>                (0 + 3) / 4]\r"
     ]
    },
    {
     "name": "stdout",
     "output_type": "stream",
     "text": [
      "22/09/22 00:36:40 WARN RowBasedKeyValueBatch: Calling spill() on RowBasedKeyValueBatch. Will not spill but return 0.\n"
     ]
    },
    {
     "name": "stderr",
     "output_type": "stream",
     "text": [
      "[Stage 396:==>(3 + 1) / 4][Stage 397:>  (1 + 3) / 4][Stage 398:>  (0 + 0) / 4]  \r"
     ]
    },
    {
     "name": "stdout",
     "output_type": "stream",
     "text": [
      "22/09/22 00:37:32 WARN RowBasedKeyValueBatch: Calling spill() on RowBasedKeyValueBatch. Will not spill but return 0.\n"
     ]
    },
    {
     "name": "stderr",
     "output_type": "stream",
     "text": [
      "[Stage 397:============>    (3 + 1) / 4][Stage 398:>                (0 + 3) / 4]\r"
     ]
    },
    {
     "name": "stdout",
     "output_type": "stream",
     "text": [
      "22/09/22 00:37:36 WARN RowBasedKeyValueBatch: Calling spill() on RowBasedKeyValueBatch. Will not spill but return 0.\n"
     ]
    },
    {
     "name": "stderr",
     "output_type": "stream",
     "text": [
      "                                                                                \r"
     ]
    },
    {
     "data": {
      "text/html": [
       "<table border='1'>\n",
       "<tr><th>revenue_level</th><th>dollar_value_std</th><th>dollar_value_mean</th></tr>\n",
       "<tr><td>e</td><td>399.0600030109279</td><td>205.81060473911995</td></tr>\n",
       "<tr><td>d</td><td>681.0178374382822</td><td>272.261558375609</td></tr>\n",
       "<tr><td>c</td><td>439.15886606318264</td><td>136.61671509843808</td></tr>\n",
       "<tr><td>b</td><td>607.8880371974757</td><td>197.4955404638425</td></tr>\n",
       "<tr><td>a</td><td>366.0590821739542</td><td>142.19102393900536</td></tr>\n",
       "</table>\n"
      ],
      "text/plain": [
       "+-------------+------------------+------------------+\n",
       "|revenue_level|  dollar_value_std| dollar_value_mean|\n",
       "+-------------+------------------+------------------+\n",
       "|            e| 399.0600030109279|205.81060473911995|\n",
       "|            d| 681.0178374382822|  272.261558375609|\n",
       "|            c|439.15886606318264|136.61671509843808|\n",
       "|            b| 607.8880371974757| 197.4955404638425|\n",
       "|            a| 366.0590821739542|142.19102393900536|\n",
       "+-------------+------------------+------------------+"
      ]
     },
     "execution_count": 26,
     "metadata": {},
     "output_type": "execute_result"
    }
   ],
   "source": [
    "rev_std = (add_fraud.groupBy(\"revenue_level\").agg(stddev_pop(\"dollar_value\").alias(\"dollar_value_std\"),\n",
    "                                             avg(\"dollar_value\").alias(\"dollar_value_mean\")))\n",
    "rev_std"
   ]
  },
  {
   "cell_type": "code",
   "execution_count": 27,
   "metadata": {},
   "outputs": [
    {
     "name": "stderr",
     "output_type": "stream",
     "text": [
      "[Stage 428:====>            (1 + 3) / 4][Stage 429:>                (0 + 1) / 4]\r"
     ]
    },
    {
     "name": "stdout",
     "output_type": "stream",
     "text": [
      "22/09/22 00:38:29 WARN RowBasedKeyValueBatch: Calling spill() on RowBasedKeyValueBatch. Will not spill but return 0.\n"
     ]
    },
    {
     "name": "stderr",
     "output_type": "stream",
     "text": [
      "[Stage 428:============>    (3 + 1) / 4][Stage 429:>                (0 + 3) / 4]\r"
     ]
    },
    {
     "name": "stdout",
     "output_type": "stream",
     "text": [
      "22/09/22 00:38:32 WARN RowBasedKeyValueBatch: Calling spill() on RowBasedKeyValueBatch. Will not spill but return 0.\n"
     ]
    },
    {
     "name": "stderr",
     "output_type": "stream",
     "text": [
      "[Stage 459:=> (2 + 2) / 4][Stage 460:>  (0 + 2) / 4][Stage 461:>  (0 + 0) / 4]  \r"
     ]
    },
    {
     "name": "stdout",
     "output_type": "stream",
     "text": [
      "22/09/22 00:58:20 WARN RowBasedKeyValueBatch: Calling spill() on RowBasedKeyValueBatch. Will not spill but return 0.\n"
     ]
    },
    {
     "name": "stderr",
     "output_type": "stream",
     "text": [
      "[Stage 459:==>(3 + 1) / 4][Stage 460:>  (0 + 3) / 4][Stage 461:>  (0 + 0) / 4]\r"
     ]
    },
    {
     "name": "stdout",
     "output_type": "stream",
     "text": [
      "22/09/22 00:58:23 WARN RowBasedKeyValueBatch: Calling spill() on RowBasedKeyValueBatch. Will not spill but return 0.\n"
     ]
    },
    {
     "name": "stderr",
     "output_type": "stream",
     "text": [
      "[Stage 496:==========================================>              (3 + 1) / 4]\r"
     ]
    },
    {
     "name": "stdout",
     "output_type": "stream",
     "text": [
      "Outliers based on revenue band removed: 133177\n"
     ]
    },
    {
     "name": "stderr",
     "output_type": "stream",
     "text": [
      "                                                                                \r"
     ]
    }
   ],
   "source": [
    "total = add_fraud.count()\n",
    "rev_sdf = (add_fraud.join(rev_std, \"revenue_level\", \"left\")\n",
    "               .filter(abs(col(\"dollar_value\") - col(\"dollar_value_mean\")) <= 3 * col(\"dollar_value_std\"))\n",
    "               .drop(\"dollar_value_mean\")\n",
    "               .drop(\"dollar_value_std\"))\n",
    "print(f\"Outliers based on revenue band removed: {total - rev_sdf.count()}\")"
   ]
  },
  {
   "cell_type": "markdown",
   "metadata": {},
   "source": [
    "<h4>2.1.2 Check distribution</h4>"
   ]
  },
  {
   "cell_type": "code",
   "execution_count": 28,
   "metadata": {},
   "outputs": [
    {
     "name": "stderr",
     "output_type": "stream",
     "text": [
      "[Stage 505:==>(3 + 1) / 4][Stage 507:>  (0 + 3) / 4][Stage 508:>  (0 + 0) / 4]\r"
     ]
    },
    {
     "name": "stdout",
     "output_type": "stream",
     "text": [
      "22/09/22 01:00:04 WARN RowBasedKeyValueBatch: Calling spill() on RowBasedKeyValueBatch. Will not spill but return 0.\n"
     ]
    },
    {
     "name": "stderr",
     "output_type": "stream",
     "text": [
      "[Stage 509:>  (1 + 3) / 4][Stage 511:>  (0 + 1) / 5][Stage 513:>  (0 + 0) / 5]5]\r"
     ]
    },
    {
     "name": "stdout",
     "output_type": "stream",
     "text": [
      "22/09/22 01:00:19 WARN RowBasedKeyValueBatch: Calling spill() on RowBasedKeyValueBatch. Will not spill but return 0.\n"
     ]
    },
    {
     "name": "stderr",
     "output_type": "stream",
     "text": [
      "                                                                                \r"
     ]
    },
    {
     "data": {
      "text/plain": [
       "<AxesSubplot:xlabel='dollar_value', ylabel='revenue_level'>"
      ]
     },
     "execution_count": 28,
     "metadata": {},
     "output_type": "execute_result"
    },
    {
     "data": {
      "image/png": "[encoded data removed]",
      "text/plain": [
       "<Figure size 432x288 with 1 Axes>"
      ]
     },
     "metadata": {
      "needs_background": "light"
     },
     "output_type": "display_data"
    }
   ],
   "source": [
    "sns.violinplot(data=rev_sdf.sample(False, 0.1).toPandas(), x=\"dollar_value\", y=\"revenue_level\")"
   ]
  },
  {
   "cell_type": "code",
   "execution_count": 29,
   "metadata": {},
   "outputs": [
    {
     "name": "stderr",
     "output_type": "stream",
     "text": [
      "[Stage 553:==>(3 + 1) / 4][Stage 558:>  (0 + 3) / 4][Stage 560:>  (0 + 0) / 5]  \r"
     ]
    },
    {
     "name": "stdout",
     "output_type": "stream",
     "text": [
      "22/09/22 01:03:31 WARN RowBasedKeyValueBatch: Calling spill() on RowBasedKeyValueBatch. Will not spill but return 0.\n"
     ]
    },
    {
     "name": "stderr",
     "output_type": "stream",
     "text": [
      "                                                                                \r"
     ]
    },
    {
     "data": {
      "text/plain": [
       "<AxesSubplot:xlabel='dollar_value', ylabel='revenue_level'>"
      ]
     },
     "execution_count": 29,
     "metadata": {},
     "output_type": "execute_result"
    },
    {
     "data": {
      "image/png": "[encoded data removed]",
      "text/plain": [
       "<Figure size 432x288 with 1 Axes>"
      ]
     },
     "metadata": {
      "needs_background": "light"
     },
     "output_type": "display_data"
    }
   ],
   "source": [
    "sns.boxplot(data=rev_sdf.sample(False, 0.1).toPandas(), x=\"dollar_value\", y=\"revenue_level\")"
   ]
  },
  {
   "cell_type": "markdown",
   "metadata": {},
   "source": [
    "<h3>2.2 Get distribution of each merchant</h3>"
   ]
  },
  {
   "cell_type": "code",
   "execution_count": 30,
   "metadata": {},
   "outputs": [
    {
     "name": "stderr",
     "output_type": "stream",
     "text": [
      "[Stage 603:==>(3 + 1) / 4][Stage 604:=> (2 + 2) / 4][Stage 605:>  (0 + 1) / 4]4]\r"
     ]
    },
    {
     "name": "stdout",
     "output_type": "stream",
     "text": [
      "22/09/22 01:06:00 WARN RowBasedKeyValueBatch: Calling spill() on RowBasedKeyValueBatch. Will not spill but return 0.\n"
     ]
    },
    {
     "name": "stderr",
     "output_type": "stream",
     "text": [
      "[Stage 604:==>(3 + 1) / 4][Stage 605:=> (2 + 2) / 4][Stage 606:>  (0 + 1) / 4]\r"
     ]
    },
    {
     "name": "stdout",
     "output_type": "stream",
     "text": [
      "22/09/22 01:06:12 WARN RowBasedKeyValueBatch: Calling spill() on RowBasedKeyValueBatch. Will not spill but return 0.\n"
     ]
    },
    {
     "name": "stderr",
     "output_type": "stream",
     "text": [
      "[Stage 649:==>(3 + 1) / 4][Stage 651:=> (2 + 2) / 4][Stage 652:>  (0 + 1) / 4]  \r"
     ]
    },
    {
     "name": "stdout",
     "output_type": "stream",
     "text": [
      "22/09/22 01:07:40 WARN RowBasedKeyValueBatch: Calling spill() on RowBasedKeyValueBatch. Will not spill but return 0.\n"
     ]
    },
    {
     "name": "stderr",
     "output_type": "stream",
     "text": [
      "[Stage 651:==>(3 + 1) / 4][Stage 652:>  (1 + 3) / 4][Stage 653:>  (0 + 0) / 4]\r"
     ]
    },
    {
     "name": "stdout",
     "output_type": "stream",
     "text": [
      "22/09/22 01:07:45 WARN RowBasedKeyValueBatch: Calling spill() on RowBasedKeyValueBatch. Will not spill but return 0.\n"
     ]
    },
    {
     "name": "stderr",
     "output_type": "stream",
     "text": [
      "                                                                                \r"
     ]
    },
    {
     "data": {
      "text/html": [
       "<table border='1'>\n",
       "<tr><th>merchant_name</th><th>dollar_value_std</th><th>dollar_value_mean</th></tr>\n",
       "<tr><td>Donec Luctus Indu...</td><td>130.55650157165087</td><td>343.7164090501806</td></tr>\n",
       "<tr><td>Dictum Mi Incorpo...</td><td>368.6617885233332</td><td>471.07965026653414</td></tr>\n",
       "<tr><td>Amet Nulla Ltd</td><td>54.82924410856011</td><td>86.38047478621884</td></tr>\n",
       "<tr><td>Vel Turpis Company</td><td>206.33110261321298</td><td>464.72620295222833</td></tr>\n",
       "<tr><td>Montes Limited</td><td>439.1076561117737</td><td>605.259061619393</td></tr>\n",
       "<tr><td>Semper Incorporated</td><td>60.33157881454652</td><td>103.80269405622981</td></tr>\n",
       "<tr><td>Mollis Integer Co...</td><td>35.72032434616903</td><td>35.39825775749802</td></tr>\n",
       "<tr><td>Porttitor Eros In...</td><td>64.63472631463996</td><td>99.96567570503576</td></tr>\n",
       "<tr><td>Malesuada Vel Ltd</td><td>201.89377133366608</td><td>242.1083337475958</td></tr>\n",
       "<tr><td>Arcu Vestibulum C...</td><td>193.4276467747397</td><td>301.19744865722646</td></tr>\n",
       "<tr><td>Vulputate Velit E...</td><td>296.2158306928357</td><td>469.2849099176433</td></tr>\n",
       "<tr><td>Pede Praesent Ltd</td><td>298.7858456267883</td><td>359.1037904293478</td></tr>\n",
       "<tr><td>Varius Orci Insti...</td><td>13.842929475102732</td><td>13.823153591912405</td></tr>\n",
       "<tr><td>Dictum Mi Limited</td><td>61.71435702084645</td><td>97.62745345966259</td></tr>\n",
       "<tr><td>Hendrerit Consect...</td><td>54.43009814802007</td><td>86.26936784085804</td></tr>\n",
       "<tr><td>Elit Sed Consequa...</td><td>297.1708887001186</td><td>510.1525327171998</td></tr>\n",
       "<tr><td>Volutpat Nulla In...</td><td>85.02390857454995</td><td>85.2896076697905</td></tr>\n",
       "<tr><td>At Augue Corporation</td><td>48.74566295321242</td><td>87.09400269565276</td></tr>\n",
       "<tr><td>Erat Semper Ltd</td><td>209.58028692353798</td><td>367.74919604945296</td></tr>\n",
       "<tr><td>Malesuada PC</td><td>240.7047153763031</td><td>364.4080468005989</td></tr>\n",
       "</table>\n",
       "only showing top 20 rows\n"
      ],
      "text/plain": [
       "+--------------------+------------------+------------------+\n",
       "|       merchant_name|  dollar_value_std| dollar_value_mean|\n",
       "+--------------------+------------------+------------------+\n",
       "|Donec Luctus Indu...|130.55650157165087| 343.7164090501806|\n",
       "|Dictum Mi Incorpo...| 368.6617885233332|471.07965026653414|\n",
       "|      Amet Nulla Ltd| 54.82924410856011| 86.38047478621884|\n",
       "|  Vel Turpis Company|206.33110261321298|464.72620295222833|\n",
       "|      Montes Limited| 439.1076561117737|  605.259061619393|\n",
       "| Semper Incorporated| 60.33157881454652|103.80269405622981|\n",
       "|Mollis Integer Co...| 35.72032434616903| 35.39825775749802|\n",
       "|Porttitor Eros In...| 64.63472631463996| 99.96567570503576|\n",
       "|   Malesuada Vel Ltd|201.89377133366608| 242.1083337475958|\n",
       "|Arcu Vestibulum C...| 193.4276467747397|301.19744865722646|\n",
       "|Vulputate Velit E...| 296.2158306928357| 469.2849099176433|\n",
       "|   Pede Praesent Ltd| 298.7858456267883| 359.1037904293478|\n",
       "|Varius Orci Insti...|13.842929475102732|13.823153591912405|\n",
       "|   Dictum Mi Limited| 61.71435702084645| 97.62745345966259|\n",
       "|Hendrerit Consect...| 54.43009814802007| 86.26936784085804|\n",
       "|Elit Sed Consequa...| 297.1708887001186| 510.1525327171998|\n",
       "|Volutpat Nulla In...| 85.02390857454995|  85.2896076697905|\n",
       "|At Augue Corporation| 48.74566295321242| 87.09400269565276|\n",
       "|     Erat Semper Ltd|209.58028692353798|367.74919604945296|\n",
       "|        Malesuada PC| 240.7047153763031| 364.4080468005989|\n",
       "+--------------------+------------------+------------------+\n",
       "only showing top 20 rows"
      ]
     },
     "execution_count": 30,
     "metadata": {},
     "output_type": "execute_result"
    }
   ],
   "source": [
    "merch_std = (rev_sdf.groupBy(\"merchant_name\").agg(stddev_pop(\"dollar_value\").alias(\"dollar_value_std\"),\n",
    "                                                  avg(\"dollar_value\").alias(\"dollar_value_mean\")))\n",
    "merch_std"
   ]
  },
  {
   "cell_type": "code",
   "execution_count": 31,
   "metadata": {},
   "outputs": [
    {
     "name": "stderr",
     "output_type": "stream",
     "text": [
      "[Stage 698:=> (2 + 2) / 4][Stage 699:>  (0 + 2) / 4][Stage 700:>  (0 + 0) / 4]\r"
     ]
    },
    {
     "name": "stdout",
     "output_type": "stream",
     "text": [
      "22/09/22 01:09:05 WARN RowBasedKeyValueBatch: Calling spill() on RowBasedKeyValueBatch. Will not spill but return 0.\n"
     ]
    },
    {
     "name": "stderr",
     "output_type": "stream",
     "text": [
      "[Stage 698:==>(3 + 1) / 4][Stage 699:>  (0 + 3) / 4][Stage 700:>  (0 + 0) / 4]\r"
     ]
    },
    {
     "name": "stdout",
     "output_type": "stream",
     "text": [
      "22/09/22 01:09:09 WARN RowBasedKeyValueBatch: Calling spill() on RowBasedKeyValueBatch. Will not spill but return 0.\n"
     ]
    },
    {
     "name": "stderr",
     "output_type": "stream",
     "text": [
      "[Stage 744:==>(3 + 1) / 4][Stage 745:=> (2 + 2) / 4][Stage 746:>  (0 + 1) / 4]4]\r"
     ]
    },
    {
     "name": "stdout",
     "output_type": "stream",
     "text": [
      "22/09/22 01:10:30 WARN RowBasedKeyValueBatch: Calling spill() on RowBasedKeyValueBatch. Will not spill but return 0.\n"
     ]
    },
    {
     "name": "stderr",
     "output_type": "stream",
     "text": [
      "[Stage 745:==>(3 + 1) / 4][Stage 746:=> (2 + 2) / 4][Stage 747:>  (0 + 1) / 4]\r"
     ]
    },
    {
     "name": "stdout",
     "output_type": "stream",
     "text": [
      "22/09/22 01:10:35 WARN RowBasedKeyValueBatch: Calling spill() on RowBasedKeyValueBatch. Will not spill but return 0.\n"
     ]
    },
    {
     "name": "stderr",
     "output_type": "stream",
     "text": [
      "[Stage 797:>                                                        (0 + 4) / 4]\r"
     ]
    },
    {
     "name": "stdout",
     "output_type": "stream",
     "text": [
      "Outliers based on merchant removed: 175313\n"
     ]
    },
    {
     "name": "stderr",
     "output_type": "stream",
     "text": [
      "                                                                                \r"
     ]
    }
   ],
   "source": [
    "total = rev_sdf.count()\n",
    "merch_sdf = (rev_sdf.join(merch_std, \"merchant_name\", \"left\")\n",
    "                   .filter(abs(col(\"dollar_value\") - col(\"dollar_value_mean\")) <= 3 * col(\"dollar_value_std\"))\n",
    "                   .drop(\"dollar_value_mean\")\n",
    "                   .drop(\"dollar_value_std\"))\n",
    "print(f\"Outliers based on merchant removed: {total - merch_sdf.count()}\")"
   ]
  },
  {
   "cell_type": "code",
   "execution_count": 32,
   "metadata": {},
   "outputs": [
    {
     "name": "stderr",
     "output_type": "stream",
     "text": [
      "[Stage 807:==>(3 + 1) / 4][Stage 809:>  (0 + 3) / 4][Stage 810:>  (0 + 0) / 4]  \r"
     ]
    },
    {
     "name": "stdout",
     "output_type": "stream",
     "text": [
      "22/09/22 01:12:26 WARN RowBasedKeyValueBatch: Calling spill() on RowBasedKeyValueBatch. Will not spill but return 0.\n"
     ]
    },
    {
     "name": "stderr",
     "output_type": "stream",
     "text": [
      "[Stage 811:>  (1 + 3) / 4][Stage 812:>  (0 + 1) / 4][Stage 814:>  (0 + 0) / 5]\r"
     ]
    },
    {
     "name": "stdout",
     "output_type": "stream",
     "text": [
      "22/09/22 01:12:42 WARN RowBasedKeyValueBatch: Calling spill() on RowBasedKeyValueBatch. Will not spill but return 0.\n"
     ]
    },
    {
     "name": "stderr",
     "output_type": "stream",
     "text": [
      "                                                                                \r"
     ]
    }
   ],
   "source": [
    "merch_sdf.write.parquet(\"../data/curated/merchant_consumer_info\")"
   ]
  }
 ],
 "metadata": {
  "kernelspec": {
   "display_name": "Python 3.9.12 64-bit",
   "language": "python",
   "name": "python3"
  },
  "language_info": {
   "codemirror_mode": {
    "name": "ipython",
    "version": 3
   },
   "file_extension": ".py",
   "mimetype": "text/x-python",
   "name": "python",
   "nbconvert_exporter": "python",
   "pygments_lexer": "ipython3",
   "version": "3.9.12"
  },
  "orig_nbformat": 4,
  "vscode": {
   "interpreter": {
    "hash": "949777d72b0d2535278d3dc13498b2535136f6dfe0678499012e853ee9abcab1"
   }
  }
 },
 "nbformat": 4,
 "nbformat_minor": 2
}
