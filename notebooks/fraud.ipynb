{
 "cells": [
  {
   "cell_type": "code",
   "execution_count": 119,
   "metadata": {},
   "outputs": [],
   "source": [
    "from pyspark.sql import SparkSession, functions as F\n",
    "from pyspark.sql.functions import *\n",
    "\n",
    "spark = (\n",
    "    SparkSession.builder.appName(\"ADS project 2\")\n",
    "    .config(\"spark.sql.repl.eagerEval.enabled\", True) \n",
    "    .config(\"spark.sql.parquet.cacheMetadata\", \"true\")\n",
    "    .config(\"spark.sql.session.timeZone\", \"Etc/UTC\")\n",
    "    .config(\"spark.executor.memory\", \"2g\")\n",
    "    .config(\"spark.driver.memory\", \"4g\")\n",
    "    .getOrCreate()\n",
    ")"
   ]
  },
  {
   "cell_type": "code",
   "execution_count": 120,
   "metadata": {},
   "outputs": [],
   "source": [
    "data_loc = \"../data/tables/\"\n",
    "\n",
    "consumer_fraud = spark.read.option(\"header\", \"true\").csv(data_loc+\"consumer_fraud_probability.csv\")\n",
    "merchant_fraud = spark.read.option(\"header\", \"true\").csv(data_loc+\"merchant_fraud_probability.csv\")\n",
    "raw_join = spark.read.parquet(\"../data/curated/raw_join_internal_table/\")\n",
    "merchant_consumer_info = spark.read.parquet(\"../data/curated/merchant_consumer_info/\")"
   ]
  },
  {
   "cell_type": "code",
   "execution_count": 121,
   "metadata": {},
   "outputs": [],
   "source": [
    "# Group by date and find the average dollor value for that date\n",
    "\n",
    "raw_join_date = raw_join.groupBy(\"user_id\", \"order_datetime\", \"consumer_postcode\").agg(avg(\"dollar_value\").alias(\"dollar_value_average\")).orderBy(\"user_id\")"
   ]
  },
  {
   "cell_type": "code",
   "execution_count": 122,
   "metadata": {},
   "outputs": [],
   "source": [
    "join_std = (raw_join_date.groupBy(\"user_id\").agg(stddev_pop(\"dollar_value_average\").alias(\"dollar_std\"),\n",
    "                                                  avg(\"dollar_value_average\").alias(\"dollar_mean\")))"
   ]
  },
  {
   "cell_type": "code",
   "execution_count": 123,
   "metadata": {},
   "outputs": [
    {
     "name": "stderr",
     "output_type": "stream",
     "text": [
      "[Stage 1658:==============>                                         (1 + 3) / 4]\r"
     ]
    },
    {
     "name": "stdout",
     "output_type": "stream",
     "text": [
      "22/09/19 09:12:47 WARN RowBasedKeyValueBatch: Calling spill() on RowBasedKeyValueBatch. Will not spill but return 0.\n"
     ]
    },
    {
     "name": "stderr",
     "output_type": "stream",
     "text": [
      "[Stage 1666:==============>                                         (1 + 3) / 4]\r"
     ]
    },
    {
     "name": "stdout",
     "output_type": "stream",
     "text": [
      "22/09/19 09:13:19 WARN RowBasedKeyValueBatch: Calling spill() on RowBasedKeyValueBatch. Will not spill but return 0.\n"
     ]
    },
    {
     "name": "stderr",
     "output_type": "stream",
     "text": [
      "                                                                                \r"
     ]
    },
    {
     "data": {
      "text/html": [
       "<table border='1'>\n",
       "<tr><th>user_id</th><th>dollar_std</th><th>dollar_mean</th></tr>\n",
       "<tr><td>1</td><td>276.34106357216945</td><td>143.06770514707347</td></tr>\n",
       "<tr><td>2</td><td>618.4888288908787</td><td>170.6740096673979</td></tr>\n",
       "<tr><td>3</td><td>361.7242539083343</td><td>170.0343625299024</td></tr>\n",
       "<tr><td>4</td><td>195.03151495771866</td><td>139.98975771645502</td></tr>\n",
       "<tr><td>5</td><td>428.2641502511229</td><td>154.27354975582938</td></tr>\n",
       "<tr><td>6</td><td>201.29518506926212</td><td>129.4561571074095</td></tr>\n",
       "<tr><td>7</td><td>330.1345837970235</td><td>173.06704305749295</td></tr>\n",
       "<tr><td>8</td><td>229.43947734781872</td><td>149.48877244544494</td></tr>\n",
       "<tr><td>9</td><td>177.67132924982852</td><td>129.33443867267525</td></tr>\n",
       "<tr><td>10</td><td>781.6769053450531</td><td>187.0199511680986</td></tr>\n",
       "<tr><td>11</td><td>350.20344889939685</td><td>174.81107071153463</td></tr>\n",
       "<tr><td>12</td><td>191.87111823475132</td><td>151.41125289405105</td></tr>\n",
       "<tr><td>13</td><td>287.5653683378158</td><td>143.96012966036213</td></tr>\n",
       "<tr><td>14</td><td>379.6044633800537</td><td>163.2148432445399</td></tr>\n",
       "<tr><td>15</td><td>279.4227853691315</td><td>155.6048161927826</td></tr>\n",
       "<tr><td>16</td><td>244.6397777422732</td><td>136.2389986976655</td></tr>\n",
       "<tr><td>17</td><td>369.9105713330397</td><td>171.0174596810918</td></tr>\n",
       "<tr><td>18</td><td>259.1784492601381</td><td>155.45238775056464</td></tr>\n",
       "<tr><td>19</td><td>286.4514233205437</td><td>157.9274267800172</td></tr>\n",
       "<tr><td>20</td><td>186.18584875163083</td><td>128.2830097557124</td></tr>\n",
       "</table>\n",
       "only showing top 20 rows\n"
      ],
      "text/plain": [
       "+-------+------------------+------------------+\n",
       "|user_id|        dollar_std|       dollar_mean|\n",
       "+-------+------------------+------------------+\n",
       "|      1|276.34106357216945|143.06770514707347|\n",
       "|      2| 618.4888288908787| 170.6740096673979|\n",
       "|      3| 361.7242539083343| 170.0343625299024|\n",
       "|      4|195.03151495771866|139.98975771645502|\n",
       "|      5| 428.2641502511229|154.27354975582938|\n",
       "|      6|201.29518506926212| 129.4561571074095|\n",
       "|      7| 330.1345837970235|173.06704305749295|\n",
       "|      8|229.43947734781872|149.48877244544494|\n",
       "|      9|177.67132924982852|129.33443867267525|\n",
       "|     10| 781.6769053450531| 187.0199511680986|\n",
       "|     11|350.20344889939685|174.81107071153463|\n",
       "|     12|191.87111823475132|151.41125289405105|\n",
       "|     13| 287.5653683378158|143.96012966036213|\n",
       "|     14| 379.6044633800537| 163.2148432445399|\n",
       "|     15| 279.4227853691315| 155.6048161927826|\n",
       "|     16| 244.6397777422732| 136.2389986976655|\n",
       "|     17| 369.9105713330397| 171.0174596810918|\n",
       "|     18| 259.1784492601381|155.45238775056464|\n",
       "|     19| 286.4514233205437| 157.9274267800172|\n",
       "|     20|186.18584875163083| 128.2830097557124|\n",
       "+-------+------------------+------------------+\n",
       "only showing top 20 rows"
      ]
     },
     "execution_count": 123,
     "metadata": {},
     "output_type": "execute_result"
    }
   ],
   "source": [
    "join_std"
   ]
  },
  {
   "cell_type": "code",
   "execution_count": 124,
   "metadata": {},
   "outputs": [],
   "source": [
    "raw_join_outlier = (raw_join_date.join(join_std, \"user_id\", \"left\")\n",
    "                   .withColumn(\"isOutlier\",\n",
    "                                F.when((abs(col(\"dollar_value_average\") - col(\"dollar_mean\")) <= 3 * col(\"dollar_std\")), 0).otherwise(1))\n",
    "                   .drop(\"dollar_mean\")\n",
    "                   .drop(\"dollar_std\")\n",
    "                   .drop(\"dollar_value_average\"))"
   ]
  },
  {
   "cell_type": "code",
   "execution_count": 125,
   "metadata": {},
   "outputs": [
    {
     "data": {
      "text/plain": [
       "['user_id', 'order_datetime', 'consumer_postcode', 'isOutlier']"
      ]
     },
     "execution_count": 125,
     "metadata": {},
     "output_type": "execute_result"
    }
   ],
   "source": [
    "raw_join_outlier.columns"
   ]
  },
  {
   "cell_type": "code",
   "execution_count": 126,
   "metadata": {},
   "outputs": [
    {
     "name": "stderr",
     "output_type": "stream",
     "text": [
      "[Stage 1674:====>           (1 + 3) / 4][Stage 1675:>               (0 + 1) / 4]\r"
     ]
    },
    {
     "name": "stdout",
     "output_type": "stream",
     "text": [
      "22/09/19 09:13:51 WARN RowBasedKeyValueBatch: Calling spill() on RowBasedKeyValueBatch. Will not spill but return 0.\n",
      "22/09/19 09:13:52 WARN RowBasedKeyValueBatch: Calling spill() on RowBasedKeyValueBatch. Will not spill but return 0.\n"
     ]
    },
    {
     "name": "stderr",
     "output_type": "stream",
     "text": [
      "[Stage 1692:====>           (1 + 3) / 4][Stage 1693:>               (0 + 1) / 4]\r"
     ]
    },
    {
     "name": "stdout",
     "output_type": "stream",
     "text": [
      "22/09/19 09:14:51 WARN RowBasedKeyValueBatch: Calling spill() on RowBasedKeyValueBatch. Will not spill but return 0.\n",
      "22/09/19 09:14:52 WARN RowBasedKeyValueBatch: Calling spill() on RowBasedKeyValueBatch. Will not spill but return 0.\n"
     ]
    },
    {
     "name": "stderr",
     "output_type": "stream",
     "text": [
      "                                                                                \r"
     ]
    },
    {
     "data": {
      "text/html": [
       "<table border='1'>\n",
       "<tr><th>user_id</th><th>order_datetime</th><th>consumer_postcode</th><th>isOutlier</th></tr>\n",
       "<tr><td>964</td><td>2022-02-27</td><td>6028</td><td>1</td></tr>\n",
       "<tr><td>2927</td><td>2021-03-27</td><td>6798</td><td>1</td></tr>\n",
       "<tr><td>11619</td><td>2021-08-18</td><td>5071</td><td>1</td></tr>\n",
       "<tr><td>11745</td><td>2021-07-28</td><td>1232</td><td>1</td></tr>\n",
       "<tr><td>18730</td><td>2022-05-02</td><td>2076</td><td>1</td></tr>\n",
       "<tr><td>19907</td><td>2021-08-13</td><td>3844</td><td>1</td></tr>\n",
       "<tr><td>2927</td><td>2022-06-11</td><td>6798</td><td>1</td></tr>\n",
       "<tr><td>15194</td><td>2022-01-31</td><td>5580</td><td>1</td></tr>\n",
       "<tr><td>16742</td><td>2021-06-15</td><td>4382</td><td>1</td></tr>\n",
       "<tr><td>2214</td><td>2021-11-09</td><td>4505</td><td>1</td></tr>\n",
       "<tr><td>10422</td><td>2022-04-18</td><td>3194</td><td>1</td></tr>\n",
       "<tr><td>15322</td><td>2021-05-12</td><td>3760</td><td>1</td></tr>\n",
       "<tr><td>1677</td><td>2021-11-28</td><td>6837</td><td>1</td></tr>\n",
       "<tr><td>8484</td><td>2021-05-13</td><td>2474</td><td>1</td></tr>\n",
       "<tr><td>11567</td><td>2022-02-11</td><td>6849</td><td>1</td></tr>\n",
       "<tr><td>13460</td><td>2022-03-12</td><td>7173</td><td>1</td></tr>\n",
       "<tr><td>23766</td><td>2022-07-25</td><td>6419</td><td>1</td></tr>\n",
       "<tr><td>18295</td><td>2021-07-14</td><td>5061</td><td>1</td></tr>\n",
       "<tr><td>18628</td><td>2022-06-11</td><td>4869</td><td>1</td></tr>\n",
       "<tr><td>19141</td><td>2021-05-16</td><td>5237</td><td>1</td></tr>\n",
       "</table>\n",
       "only showing top 20 rows\n"
      ],
      "text/plain": [
       "+-------+--------------+-----------------+---------+\n",
       "|user_id|order_datetime|consumer_postcode|isOutlier|\n",
       "+-------+--------------+-----------------+---------+\n",
       "|    964|    2022-02-27|             6028|        1|\n",
       "|   2927|    2021-03-27|             6798|        1|\n",
       "|  11619|    2021-08-18|             5071|        1|\n",
       "|  11745|    2021-07-28|             1232|        1|\n",
       "|  18730|    2022-05-02|             2076|        1|\n",
       "|  19907|    2021-08-13|             3844|        1|\n",
       "|   2927|    2022-06-11|             6798|        1|\n",
       "|  15194|    2022-01-31|             5580|        1|\n",
       "|  16742|    2021-06-15|             4382|        1|\n",
       "|   2214|    2021-11-09|             4505|        1|\n",
       "|  10422|    2022-04-18|             3194|        1|\n",
       "|  15322|    2021-05-12|             3760|        1|\n",
       "|   1677|    2021-11-28|             6837|        1|\n",
       "|   8484|    2021-05-13|             2474|        1|\n",
       "|  11567|    2022-02-11|             6849|        1|\n",
       "|  13460|    2022-03-12|             7173|        1|\n",
       "|  23766|    2022-07-25|             6419|        1|\n",
       "|  18295|    2021-07-14|             5061|        1|\n",
       "|  18628|    2022-06-11|             4869|        1|\n",
       "|  19141|    2021-05-16|             5237|        1|\n",
       "+-------+--------------+-----------------+---------+\n",
       "only showing top 20 rows"
      ]
     },
     "execution_count": 126,
     "metadata": {},
     "output_type": "execute_result"
    }
   ],
   "source": [
    "raw_join_outlier.filter(F.col(\"isOutlier\") == 1)"
   ]
  },
  {
   "cell_type": "markdown",
   "metadata": {},
   "source": [
    "Join consumer fraud probability"
   ]
  },
  {
   "cell_type": "code",
   "execution_count": 127,
   "metadata": {},
   "outputs": [],
   "source": [
    "consumer_fraud = consumer_fraud.withColumnRenamed(\"user_id\", \"user_id_alt\")\n",
    "consumer_fraud = consumer_fraud.withColumnRenamed(\"order_datetime\", \"order_datetime_alt\")"
   ]
  },
  {
   "cell_type": "code",
   "execution_count": 128,
   "metadata": {},
   "outputs": [],
   "source": [
    "raw_join_outlier.createOrReplaceTempView(\"consumer\")\n",
    "consumer_fraud.createOrReplaceTempView(\"probability\")\n",
    "\n",
    "consumer_prob = spark.sql(\"\"\"\n",
    "SELECT \n",
    "    user_id, order_datetime, fraud_probability, consumer_postcode, isOutlier\n",
    "FROM \n",
    "    consumer\n",
    "LEFT JOIN \n",
    "    probability\n",
    "ON \n",
    "    consumer.user_id == probability.user_id_alt\n",
    "AND \n",
    "    consumer.order_datetime == probability.order_datetime_alt\n",
    "\"\"\")\n"
   ]
  },
  {
   "cell_type": "markdown",
   "metadata": {},
   "source": [
    "Fill the non exists probability with 0.1"
   ]
  },
  {
   "cell_type": "code",
   "execution_count": 129,
   "metadata": {},
   "outputs": [],
   "source": [
    "consumer_prob = consumer_prob.withColumn(\"fraud_probability\", \n",
    "                            F.when((col(\"fraud_probability\").isNull()), 0.1).otherwise(F.col(\"fraud_probability\")))"
   ]
  },
  {
   "cell_type": "code",
   "execution_count": 130,
   "metadata": {},
   "outputs": [
    {
     "name": "stderr",
     "output_type": "stream",
     "text": [
      "[Stage 1711:====>           (1 + 3) / 4][Stage 1712:>               (0 + 1) / 4]\r"
     ]
    },
    {
     "name": "stdout",
     "output_type": "stream",
     "text": [
      "22/09/19 09:16:12 WARN RowBasedKeyValueBatch: Calling spill() on RowBasedKeyValueBatch. Will not spill but return 0.\n",
      "22/09/19 09:16:15 WARN RowBasedKeyValueBatch: Calling spill() on RowBasedKeyValueBatch. Will not spill but return 0.\n"
     ]
    },
    {
     "name": "stderr",
     "output_type": "stream",
     "text": [
      "                                                                                \r"
     ]
    },
    {
     "data": {
      "text/plain": [
       "[Row(user_id=964, order_datetime=datetime.date(2022, 2, 27), fraud_probability='10.000639641611324', consumer_postcode='6028', isOutlier=1),\n",
       " Row(user_id=11619, order_datetime=datetime.date(2021, 8, 18), fraud_probability='10.604899415876009', consumer_postcode='5071', isOutlier=1),\n",
       " Row(user_id=15194, order_datetime=datetime.date(2022, 1, 31), fraud_probability='11.47165476467656', consumer_postcode='5580', isOutlier=1),\n",
       " Row(user_id=2214, order_datetime=datetime.date(2021, 11, 9), fraud_probability='9.06669796313919', consumer_postcode='4505', isOutlier=1),\n",
       " Row(user_id=15371, order_datetime=datetime.date(2021, 10, 13), fraud_probability='8.499010440619086', consumer_postcode='5572', isOutlier=0)]"
      ]
     },
     "execution_count": 130,
     "metadata": {},
     "output_type": "execute_result"
    }
   ],
   "source": [
    "consumer_prob.filter(F.col(\"fraud_probability\")>0.1).head(5)"
   ]
  },
  {
   "cell_type": "code",
   "execution_count": 131,
   "metadata": {},
   "outputs": [],
   "source": [
    "consumer_prob = consumer_prob.withColumn(\"fraud_probability\", F.col(\"fraud_probability\").cast(\"float\"))"
   ]
  },
  {
   "cell_type": "code",
   "execution_count": 132,
   "metadata": {},
   "outputs": [
    {
     "name": "stdout",
     "output_type": "stream",
     "text": [
      "root\n",
      " |-- user_id: long (nullable = true)\n",
      " |-- order_datetime: date (nullable = true)\n",
      " |-- fraud_probability: float (nullable = true)\n",
      " |-- consumer_postcode: string (nullable = true)\n",
      " |-- isOutlier: integer (nullable = false)\n",
      "\n"
     ]
    }
   ],
   "source": [
    "consumer_prob.printSchema()"
   ]
  },
  {
   "cell_type": "code",
   "execution_count": 133,
   "metadata": {},
   "outputs": [
    {
     "name": "stderr",
     "output_type": "stream",
     "text": [
      "                                                                                \r"
     ]
    },
    {
     "data": {
      "text/html": [
       "<table border='1'>\n",
       "<tr><th>count(DISTINCT consumer_postcode)</th></tr>\n",
       "<tr><td>3165</td></tr>\n",
       "</table>\n"
      ],
      "text/plain": [
       "+---------------------------------+\n",
       "|count(DISTINCT consumer_postcode)|\n",
       "+---------------------------------+\n",
       "|                             3165|\n",
       "+---------------------------------+"
      ]
     },
     "execution_count": 133,
     "metadata": {},
     "output_type": "execute_result"
    }
   ],
   "source": [
    "consumer_prob.select(countDistinct(\"consumer_postcode\"))"
   ]
  },
  {
   "cell_type": "code",
   "execution_count": 134,
   "metadata": {},
   "outputs": [],
   "source": [
    "consumer_prob = consumer_prob.withColumn(\"consumer_postcode\", F.col(\"consumer_postcode\").cast(\"Int\"))"
   ]
  },
  {
   "cell_type": "code",
   "execution_count": 135,
   "metadata": {},
   "outputs": [],
   "source": [
    "# vectorized the features for model training\n",
    "from pyspark.ml.feature import VectorAssembler\n",
    "\n",
    "features = 'features'\n",
    "input_cols = [\"fraud_probability\", \"isOutlier\"]\n",
    "\n",
    "assembler = VectorAssembler(\n",
    "    # which column to combine\n",
    "    inputCols=input_cols, \n",
    "    # How should the combined columns be named\n",
    "    outputCol=features\n",
    ")\n",
    "\n",
    "consumer_transformed = assembler.transform(consumer_prob.dropna('any'))"
   ]
  },
  {
   "cell_type": "code",
   "execution_count": 136,
   "metadata": {},
   "outputs": [
    {
     "name": "stderr",
     "output_type": "stream",
     "text": [
      "[Stage 1773:====>           (1 + 3) / 4][Stage 1775:>               (0 + 1) / 4]\r"
     ]
    },
    {
     "name": "stdout",
     "output_type": "stream",
     "text": [
      "22/09/19 09:19:05 WARN RowBasedKeyValueBatch: Calling spill() on RowBasedKeyValueBatch. Will not spill but return 0.\n",
      "22/09/19 09:19:08 WARN RowBasedKeyValueBatch: Calling spill() on RowBasedKeyValueBatch. Will not spill but return 0.\n"
     ]
    },
    {
     "name": "stderr",
     "output_type": "stream",
     "text": [
      "                                                                                \r"
     ]
    }
   ],
   "source": [
    "from pyspark.ml.feature import StandardScaler\n",
    "\n",
    "scaler = StandardScaler(inputCol=\"features\", outputCol=\"scaledFeatures\",\n",
    "                        withStd=True, withMean=False)\n",
    "\n",
    "# Compute summary statistics by fitting the StandardScaler\n",
    "scalerModel = scaler.fit(consumer_transformed)\n",
    "\n",
    "consumer_transformed = scalerModel.transform(consumer_transformed)"
   ]
  },
  {
   "cell_type": "code",
   "execution_count": 137,
   "metadata": {},
   "outputs": [
    {
     "name": "stderr",
     "output_type": "stream",
     "text": [
      "[Stage 1797:====>           (1 + 3) / 4][Stage 1798:>               (0 + 1) / 4]\r"
     ]
    },
    {
     "name": "stdout",
     "output_type": "stream",
     "text": [
      "22/09/19 09:20:30 WARN RowBasedKeyValueBatch: Calling spill() on RowBasedKeyValueBatch. Will not spill but return 0.\n",
      "22/09/19 09:20:32 WARN RowBasedKeyValueBatch: Calling spill() on RowBasedKeyValueBatch. Will not spill but return 0.\n"
     ]
    },
    {
     "name": "stderr",
     "output_type": "stream",
     "text": [
      "                                                                                \r"
     ]
    }
   ],
   "source": [
    "from pyspark.ml.feature import VectorIndexer\n",
    "\n",
    "featureIndexer = VectorIndexer(inputCol=\"scaledFeatures\", \\\n",
    "                               outputCol=\"indexedFeatures\",\\\n",
    "                               maxCategories=3165\n",
    ").fit(consumer_transformed)\n",
    "\n",
    "consumer_transformed = featureIndexer.transform(consumer_transformed)"
   ]
  },
  {
   "cell_type": "code",
   "execution_count": 138,
   "metadata": {},
   "outputs": [
    {
     "name": "stderr",
     "output_type": "stream",
     "text": [
      "[Stage 1815:====>           (1 + 3) / 4][Stage 1817:>               (0 + 1) / 4]\r"
     ]
    },
    {
     "name": "stdout",
     "output_type": "stream",
     "text": [
      "22/09/19 09:22:12 WARN RowBasedKeyValueBatch: Calling spill() on RowBasedKeyValueBatch. Will not spill but return 0.\n",
      "22/09/19 09:22:13 WARN RowBasedKeyValueBatch: Calling spill() on RowBasedKeyValueBatch. Will not spill but return 0.\n"
     ]
    },
    {
     "name": "stderr",
     "output_type": "stream",
     "text": [
      "[Stage 1831:====>           (1 + 3) / 4][Stage 1833:>               (0 + 1) / 4]\r"
     ]
    },
    {
     "name": "stdout",
     "output_type": "stream",
     "text": [
      "22/09/19 09:23:29 WARN RowBasedKeyValueBatch: Calling spill() on RowBasedKeyValueBatch. Will not spill but return 0.\n",
      "22/09/19 09:23:30 WARN RowBasedKeyValueBatch: Calling spill() on RowBasedKeyValueBatch. Will not spill but return 0.\n"
     ]
    },
    {
     "name": "stderr",
     "output_type": "stream",
     "text": [
      "[Stage 1909:====>           (1 + 3) / 4][Stage 1911:>               (0 + 1) / 4]\r"
     ]
    },
    {
     "name": "stdout",
     "output_type": "stream",
     "text": [
      "22/09/19 09:26:11 WARN RowBasedKeyValueBatch: Calling spill() on RowBasedKeyValueBatch. Will not spill but return 0.\n",
      "22/09/19 09:26:11 WARN RowBasedKeyValueBatch: Calling spill() on RowBasedKeyValueBatch. Will not spill but return 0.\n",
      "22/09/19 09:26:12 WARN RowBasedKeyValueBatch: Calling spill() on RowBasedKeyValueBatch. Will not spill but return 0.\n",
      "22/09/19 09:26:13 WARN RowBasedKeyValueBatch: Calling spill() on RowBasedKeyValueBatch. Will not spill but return 0.\n"
     ]
    },
    {
     "name": "stderr",
     "output_type": "stream",
     "text": [
      "                                                                                \r"
     ]
    }
   ],
   "source": [
    "from pyspark.ml.clustering import KMeans\n",
    "\n",
    "kmeans = KMeans(featuresCol='indexedFeatures', k=3)\n",
    "model = kmeans.fit(consumer_transformed.select(\"indexedFeatures\"))\n",
    "consumer_kmean = model.transform(consumer_transformed)\n",
    "consumer_kmean = consumer_kmean.withColumnRenamed(\"prediction\", \"fraud_group\")\n"
   ]
  },
  {
   "cell_type": "code",
   "execution_count": 139,
   "metadata": {},
   "outputs": [
    {
     "name": "stderr",
     "output_type": "stream",
     "text": [
      "[Stage 1933:====>           (1 + 3) / 4][Stage 1934:>               (0 + 1) / 4]\r"
     ]
    },
    {
     "name": "stdout",
     "output_type": "stream",
     "text": [
      "22/09/19 09:27:56 WARN RowBasedKeyValueBatch: Calling spill() on RowBasedKeyValueBatch. Will not spill but return 0.\n",
      "22/09/19 09:28:00 WARN RowBasedKeyValueBatch: Calling spill() on RowBasedKeyValueBatch. Will not spill but return 0.\n"
     ]
    },
    {
     "name": "stderr",
     "output_type": "stream",
     "text": [
      "                                                                                \r"
     ]
    },
    {
     "data": {
      "text/plain": [
       "8756927"
      ]
     },
     "execution_count": 139,
     "metadata": {},
     "output_type": "execute_result"
    }
   ],
   "source": [
    "consumer_kmean.count()"
   ]
  },
  {
   "cell_type": "code",
   "execution_count": 140,
   "metadata": {},
   "outputs": [
    {
     "name": "stderr",
     "output_type": "stream",
     "text": [
      "[Stage 1955:====>           (1 + 3) / 4][Stage 1957:>               (0 + 1) / 4]\r"
     ]
    },
    {
     "name": "stdout",
     "output_type": "stream",
     "text": [
      "22/09/19 09:29:18 WARN RowBasedKeyValueBatch: Calling spill() on RowBasedKeyValueBatch. Will not spill but return 0.\n",
      "22/09/19 09:29:18 WARN RowBasedKeyValueBatch: Calling spill() on RowBasedKeyValueBatch. Will not spill but return 0.\n",
      "22/09/19 09:29:20 WARN RowBasedKeyValueBatch: Calling spill() on RowBasedKeyValueBatch. Will not spill but return 0.\n",
      "22/09/19 09:29:20 WARN RowBasedKeyValueBatch: Calling spill() on RowBasedKeyValueBatch. Will not spill but return 0.\n"
     ]
    },
    {
     "name": "stderr",
     "output_type": "stream",
     "text": [
      "[Stage 1979:====>           (1 + 3) / 4][Stage 1980:>               (0 + 1) / 4]\r"
     ]
    },
    {
     "name": "stdout",
     "output_type": "stream",
     "text": [
      "22/09/19 09:31:20 WARN RowBasedKeyValueBatch: Calling spill() on RowBasedKeyValueBatch. Will not spill but return 0.\n",
      "22/09/19 09:31:22 WARN RowBasedKeyValueBatch: Calling spill() on RowBasedKeyValueBatch. Will not spill but return 0.\n"
     ]
    },
    {
     "name": "stderr",
     "output_type": "stream",
     "text": [
      "                                                                                \r"
     ]
    },
    {
     "data": {
      "text/html": [
       "<table border='1'>\n",
       "<tr><th>fraud_group</th><th>mean_prob</th><th>sum(isOutlier)</th><th>count(isOutlier)</th></tr>\n",
       "<tr><td>1</td><td>12.78110882133088</td><td>19832</td><td>30467</td></tr>\n",
       "<tr><td>2</td><td>43.71548542520274</td><td>1795</td><td>2300</td></tr>\n",
       "<tr><td>0</td><td>0.10000000149011612</td><td>123731</td><td>8724160</td></tr>\n",
       "</table>\n"
      ],
      "text/plain": [
       "+-----------+-------------------+--------------+----------------+\n",
       "|fraud_group|          mean_prob|sum(isOutlier)|count(isOutlier)|\n",
       "+-----------+-------------------+--------------+----------------+\n",
       "|          1|  12.78110882133088|         19832|           30467|\n",
       "|          2|  43.71548542520274|          1795|            2300|\n",
       "|          0|0.10000000149011612|        123731|         8724160|\n",
       "+-----------+-------------------+--------------+----------------+"
      ]
     },
     "execution_count": 140,
     "metadata": {},
     "output_type": "execute_result"
    }
   ],
   "source": [
    "consumer_check = consumer_kmean.groupBy(\"fraud_group\").agg(mean(\"fraud_probability\").alias(\"mean_prob\"), \n",
    "                                          sum(\"isOutlier\"), \n",
    "                                          count(\"isOutlier\"))\n",
    "consumer_check                                         "
   ]
  },
  {
   "cell_type": "code",
   "execution_count": 147,
   "metadata": {},
   "outputs": [],
   "source": [
    "consumer_check = consumer_check.withColumn(\"outlier_rate\", F.col(\"sum(isOutlier)\")/F.col(\"count(isOutlier)\")).drop(col(\"sum(isOutlier)\")).drop(col(\"count(isOutlier)\"))"
   ]
  },
  {
   "cell_type": "code",
   "execution_count": 148,
   "metadata": {},
   "outputs": [
    {
     "name": "stderr",
     "output_type": "stream",
     "text": [
      "[Stage 2048:====>           (1 + 3) / 4][Stage 2049:>               (0 + 1) / 4]\r"
     ]
    },
    {
     "name": "stdout",
     "output_type": "stream",
     "text": [
      "22/09/19 09:42:48 WARN RowBasedKeyValueBatch: Calling spill() on RowBasedKeyValueBatch. Will not spill but return 0.\n",
      "22/09/19 09:42:50 WARN RowBasedKeyValueBatch: Calling spill() on RowBasedKeyValueBatch. Will not spill but return 0.\n"
     ]
    },
    {
     "name": "stderr",
     "output_type": "stream",
     "text": [
      "[Stage 2071:====>           (1 + 3) / 4][Stage 2072:>               (0 + 1) / 4]\r"
     ]
    },
    {
     "name": "stdout",
     "output_type": "stream",
     "text": [
      "22/09/19 09:44:24 WARN RowBasedKeyValueBatch: Calling spill() on RowBasedKeyValueBatch. Will not spill but return 0.\n",
      "22/09/19 09:44:26 WARN RowBasedKeyValueBatch: Calling spill() on RowBasedKeyValueBatch. Will not spill but return 0.\n",
      "22/09/19 09:44:28 WARN RowBasedKeyValueBatch: Calling spill() on RowBasedKeyValueBatch. Will not spill but return 0.\n"
     ]
    },
    {
     "name": "stderr",
     "output_type": "stream",
     "text": [
      "                                                                                \r"
     ]
    },
    {
     "data": {
      "text/html": [
       "<table border='1'>\n",
       "<tr><th>fraud_group</th><th>mean_prob</th><th>outlier_rate</th></tr>\n",
       "<tr><td>1</td><td>12.78110882133088</td><td>0.6509337972232251</td></tr>\n",
       "<tr><td>2</td><td>43.71548542520274</td><td>0.7804347826086957</td></tr>\n",
       "<tr><td>0</td><td>0.10000000149011612</td><td>0.014182568866228954</td></tr>\n",
       "</table>\n"
      ],
      "text/plain": [
       "+-----------+-------------------+--------------------+\n",
       "|fraud_group|          mean_prob|        outlier_rate|\n",
       "+-----------+-------------------+--------------------+\n",
       "|          1|  12.78110882133088|  0.6509337972232251|\n",
       "|          2|  43.71548542520274|  0.7804347826086957|\n",
       "|          0|0.10000000149011612|0.014182568866228954|\n",
       "+-----------+-------------------+--------------------+"
      ]
     },
     "execution_count": 148,
     "metadata": {},
     "output_type": "execute_result"
    }
   ],
   "source": [
    "consumer_check"
   ]
  },
  {
   "cell_type": "code",
   "execution_count": 141,
   "metadata": {},
   "outputs": [],
   "source": [
    "# import time\n",
    "# import datetime\n",
    "# date = \"2021-02-01\"\n",
    "# date_time = datetime.datetime.strptime(date, '%Y-%m-%d')\n",
    "\n",
    "# user = 20984"
   ]
  },
  {
   "cell_type": "code",
   "execution_count": 142,
   "metadata": {},
   "outputs": [],
   "source": [
    "# raw_join.where((col(\"order_datetime\") == date_time.date()) & (col(\"user_id\") == user))"
   ]
  },
  {
   "cell_type": "code",
   "execution_count": 143,
   "metadata": {},
   "outputs": [],
   "source": [
    "# merchant_consumer_info.where((col(\"order_datetime\") == date_time.date()) & (col(\"user_id\") == user))"
   ]
  }
 ],
 "metadata": {
  "kernelspec": {
   "display_name": "Python 3.9.12 64-bit",
   "language": "python",
   "name": "python3"
  },
  "language_info": {
   "codemirror_mode": {
    "name": "ipython",
    "version": 3
   },
   "file_extension": ".py",
   "mimetype": "text/x-python",
   "name": "python",
   "nbconvert_exporter": "python",
   "pygments_lexer": "ipython3",
   "version": "3.9.12"
  },
  "orig_nbformat": 4,
  "vscode": {
   "interpreter": {
    "hash": "949777d72b0d2535278d3dc13498b2535136f6dfe0678499012e853ee9abcab1"
   }
  }
 },
 "nbformat": 4,
 "nbformat_minor": 2
}
