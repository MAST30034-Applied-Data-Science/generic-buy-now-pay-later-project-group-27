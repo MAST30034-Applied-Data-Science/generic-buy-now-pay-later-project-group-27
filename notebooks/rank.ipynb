{
 "cells": [
  {
   "cell_type": "code",
   "execution_count": 31,
   "metadata": {},
   "outputs": [],
   "source": [
    "from pyspark.sql import SparkSession, functions as F\n",
    "from pyspark.sql.functions import *\n",
    "import os\n",
    "import csv\n",
    "\n",
    "spark = (\n",
    "    SparkSession.builder.appName(\"ADS project 2\")\n",
    "    .config(\"spark.sql.repl.eagerEval.enabled\", True) \n",
    "    .config(\"spark.sql.parquet.cacheMetadata\", \"true\")\n",
    "    .config(\"spark.sql.session.timeZone\", \"Etc/UTC\")\n",
    "    .config(\"spark.executor.memory\", \"2g\")\n",
    "    .config(\"spark.driver.memory\", \"4g\")\n",
    "    .getOrCreate()\n",
    ")"
   ]
  },
  {
   "cell_type": "code",
   "execution_count": 32,
   "metadata": {},
   "outputs": [
    {
     "name": "stderr",
     "output_type": "stream",
     "text": [
      "                                                                                \r"
     ]
    }
   ],
   "source": [
    "\n",
    "score = spark.read.parquet(\"../data/curated/score_table\")"
   ]
  },
  {
   "cell_type": "code",
   "execution_count": 33,
   "metadata": {},
   "outputs": [
    {
     "name": "stdout",
     "output_type": "stream",
     "text": [
      "root\n",
      " |-- merchant_name: string (nullable = true)\n",
      " |-- category: string (nullable = true)\n",
      " |-- merchant_rev_score: double (nullable = true)\n",
      " |-- category_rev_score: double (nullable = true)\n",
      " |-- fraud_score: double (nullable = true)\n",
      " |-- trend_score: double (nullable = true)\n",
      " |-- variance_score: double (nullable = true)\n",
      "\n"
     ]
    }
   ],
   "source": [
    "score.printSchema()"
   ]
  },
  {
   "cell_type": "code",
   "execution_count": 34,
   "metadata": {},
   "outputs": [],
   "source": [
    "rank = score.withColumn(\"score_merchant\", \n",
    "        col(\"merchant_rev_score\")*col(\"fraud_score\")*0.7+\n",
    "        col(\"variance_score\")*0.3 + col(\"trend_score\")*0.2)\n",
    "rank = rank.withColumn(\"score_category\", \n",
    "        col(\"category_rev_score\")*col(\"fraud_score\")*0.7+\n",
    "        col(\"variance_score\")*0.3 + col(\"trend_score\")*0.2)"
   ]
  },
  {
   "cell_type": "code",
   "execution_count": 35,
   "metadata": {},
   "outputs": [],
   "source": [
    "rank = rank.select(\"merchant_name\",\"category\",\"score_merchant\", \"score_category\").sort(desc(\"score_merchant\"))"
   ]
  },
  {
   "cell_type": "code",
   "execution_count": 36,
   "metadata": {},
   "outputs": [
    {
     "name": "stderr",
     "output_type": "stream",
     "text": [
      "                                                                                \r"
     ]
    }
   ],
   "source": [
    "rank.write.csv(\"../data/result\")"
   ]
  },
  {
   "cell_type": "markdown",
   "metadata": {},
   "source": [
    "### Top 100 merchants"
   ]
  },
  {
   "cell_type": "code",
   "execution_count": 37,
   "metadata": {},
   "outputs": [
    {
     "data": {
      "text/html": [
       "<table border='1'>\n",
       "<tr><th>merchant_name</th><th>category</th><th>score_merchant</th><th>score_category</th></tr>\n",
       "<tr><td>Diam Eu Dolor LLC</td><td>outdoors</td><td>1.0875684407373454</td><td>1.0913805052755747</td></tr>\n",
       "<tr><td>Ornare Limited</td><td>outdoors</td><td>1.016399241920415</td><td>1.0171169529219695</td></tr>\n",
       "<tr><td>Arcu Morbi Institute</td><td>art and gifts</td><td>1.0163948048627653</td><td>1.014985265625849</td></tr>\n",
       "<tr><td>Iaculis Aliquet D...</td><td>outdoors</td><td>0.9628041727888778</td><td>0.961828672652549</td></tr>\n",
       "<tr><td>Leo In Consulting</td><td>fashion and acces...</td><td>0.9457595545679616</td><td>0.9454281204859143</td></tr>\n",
       "<tr><td>Nec Tellus Ltd</td><td>fashion and acces...</td><td>0.936717578076056</td><td>0.9350759692370749</td></tr>\n",
       "<tr><td>Dictum Phasellus ...</td><td>art and gifts</td><td>0.9341231889803059</td><td>0.9311681803167093</td></tr>\n",
       "<tr><td>Suspendisse Non L...</td><td>outdoors</td><td>0.9336441678833632</td><td>0.9319652989642738</td></tr>\n",
       "<tr><td>Arcu Sed Eu Incor...</td><td>home and technology</td><td>0.9335345770035204</td><td>0.9342284828626074</td></tr>\n",
       "<tr><td>Auctor Company</td><td>outdoors</td><td>0.9231643504938237</td><td>0.9235160497536962</td></tr>\n",
       "<tr><td>Mauris Non Institute</td><td>home and technology</td><td>0.9193203420897997</td><td>0.9211131949105829</td></tr>\n",
       "<tr><td>Aliquam Auctor As...</td><td>art and gifts</td><td>0.9173904597822056</td><td>0.9167353464454333</td></tr>\n",
       "<tr><td>Dignissim Maecena...</td><td>fashion and acces...</td><td>0.9107214920812337</td><td>0.9099276024196704</td></tr>\n",
       "<tr><td>Magna Malesuada C...</td><td>art and gifts</td><td>0.9080128762170309</td><td>0.9042423959190866</td></tr>\n",
       "<tr><td>Phasellus At Company</td><td>art and gifts</td><td>0.9070904242621666</td><td>0.9064187387447048</td></tr>\n",
       "<tr><td>Est Nunc Consulting</td><td>outdoors</td><td>0.9045235274496832</td><td>0.9030518223078445</td></tr>\n",
       "<tr><td>Interdum Feugiat ...</td><td>home and technology</td><td>0.9012295050358198</td><td>0.9038300670007298</td></tr>\n",
       "<tr><td>Lorem Ipsum Sodal...</td><td>outdoors</td><td>0.8996382947192149</td><td>0.899322413663958</td></tr>\n",
       "<tr><td>Lobortis Ultrices...</td><td>books and music</td><td>0.8995566368080294</td><td>0.900969572524783</td></tr>\n",
       "<tr><td>Orci In Consequat...</td><td>art and gifts</td><td>0.8979977583249472</td><td>0.8963490396053186</td></tr>\n",
       "</table>\n",
       "only showing top 20 rows\n"
      ],
      "text/plain": [
       "+--------------------+--------------------+------------------+------------------+\n",
       "|       merchant_name|            category|    score_merchant|    score_category|\n",
       "+--------------------+--------------------+------------------+------------------+\n",
       "|   Diam Eu Dolor LLC|            outdoors|1.0875684407373454|1.0913805052755747|\n",
       "|      Ornare Limited|            outdoors| 1.016399241920415|1.0171169529219695|\n",
       "|Arcu Morbi Institute|       art and gifts|1.0163948048627653| 1.014985265625849|\n",
       "|Iaculis Aliquet D...|            outdoors|0.9628041727888778| 0.961828672652549|\n",
       "|   Leo In Consulting|fashion and acces...|0.9457595545679616|0.9454281204859143|\n",
       "|      Nec Tellus Ltd|fashion and acces...| 0.936717578076056|0.9350759692370749|\n",
       "|Dictum Phasellus ...|       art and gifts|0.9341231889803059|0.9311681803167093|\n",
       "|Suspendisse Non L...|            outdoors|0.9336441678833632|0.9319652989642738|\n",
       "|Arcu Sed Eu Incor...| home and technology|0.9335345770035204|0.9342284828626074|\n",
       "|      Auctor Company|            outdoors|0.9231643504938237|0.9235160497536962|\n",
       "|Mauris Non Institute| home and technology|0.9193203420897997|0.9211131949105829|\n",
       "|Aliquam Auctor As...|       art and gifts|0.9173904597822056|0.9167353464454333|\n",
       "|Dignissim Maecena...|fashion and acces...|0.9107214920812337|0.9099276024196704|\n",
       "|Magna Malesuada C...|       art and gifts|0.9080128762170309|0.9042423959190866|\n",
       "|Phasellus At Company|       art and gifts|0.9070904242621666|0.9064187387447048|\n",
       "| Est Nunc Consulting|            outdoors|0.9045235274496832|0.9030518223078445|\n",
       "|Interdum Feugiat ...| home and technology|0.9012295050358198|0.9038300670007298|\n",
       "|Lorem Ipsum Sodal...|            outdoors|0.8996382947192149| 0.899322413663958|\n",
       "|Lobortis Ultrices...|     books and music|0.8995566368080294| 0.900969572524783|\n",
       "|Orci In Consequat...|       art and gifts|0.8979977583249472|0.8963490396053186|\n",
       "+--------------------+--------------------+------------------+------------------+\n",
       "only showing top 20 rows"
      ]
     },
     "execution_count": 37,
     "metadata": {},
     "output_type": "execute_result"
    }
   ],
   "source": [
    "rank.sort(desc(\"score_merchant\")).limit(100)"
   ]
  },
  {
   "cell_type": "markdown",
   "metadata": {},
   "source": [
    "### Top 10 for each category"
   ]
  },
  {
   "cell_type": "code",
   "execution_count": 38,
   "metadata": {},
   "outputs": [
    {
     "data": {
      "text/plain": [
       "['outdoors',\n",
       " 'home and technology',\n",
       " 'fashion and accessories',\n",
       " 'books and music',\n",
       " 'art and gifts']"
      ]
     },
     "execution_count": 38,
     "metadata": {},
     "output_type": "execute_result"
    }
   ],
   "source": [
    "cat = list(rank.select(\"category\").distinct().toPandas()[\"category\"])\n",
    "cat"
   ]
  },
  {
   "cell_type": "code",
   "execution_count": 39,
   "metadata": {},
   "outputs": [
    {
     "data": {
      "text/html": [
       "<table border='1'>\n",
       "<tr><th>merchant_name</th><th>category</th><th>score_merchant</th><th>score_category</th></tr>\n",
       "<tr><td>Diam Eu Dolor LLC</td><td>outdoors</td><td>1.0875684407373454</td><td>1.0913805052755747</td></tr>\n",
       "<tr><td>Ornare Limited</td><td>outdoors</td><td>1.016399241920415</td><td>1.0171169529219695</td></tr>\n",
       "<tr><td>Iaculis Aliquet D...</td><td>outdoors</td><td>0.9628041727888778</td><td>0.961828672652549</td></tr>\n",
       "<tr><td>Suspendisse Non L...</td><td>outdoors</td><td>0.9336441678833632</td><td>0.9319652989642738</td></tr>\n",
       "<tr><td>Auctor Company</td><td>outdoors</td><td>0.9231643504938237</td><td>0.9235160497536962</td></tr>\n",
       "<tr><td>Est Nunc Consulting</td><td>outdoors</td><td>0.9045235274496832</td><td>0.9030518223078445</td></tr>\n",
       "<tr><td>Lorem Ipsum Sodal...</td><td>outdoors</td><td>0.8996382947192149</td><td>0.899322413663958</td></tr>\n",
       "<tr><td>Erat Vitae LLP</td><td>outdoors</td><td>0.8703719643611981</td><td>0.871793390217532</td></tr>\n",
       "<tr><td>Pede Nonummy Corp.</td><td>outdoors</td><td>0.8295962503714107</td><td>0.832475246670172</td></tr>\n",
       "<tr><td>Non Vestibulum In...</td><td>outdoors</td><td>0.821570078941968</td><td>0.8196101014206156</td></tr>\n",
       "</table>\n"
      ],
      "text/plain": [
       "+--------------------+--------+------------------+------------------+\n",
       "|       merchant_name|category|    score_merchant|    score_category|\n",
       "+--------------------+--------+------------------+------------------+\n",
       "|   Diam Eu Dolor LLC|outdoors|1.0875684407373454|1.0913805052755747|\n",
       "|      Ornare Limited|outdoors| 1.016399241920415|1.0171169529219695|\n",
       "|Iaculis Aliquet D...|outdoors|0.9628041727888778| 0.961828672652549|\n",
       "|Suspendisse Non L...|outdoors|0.9336441678833632|0.9319652989642738|\n",
       "|      Auctor Company|outdoors|0.9231643504938237|0.9235160497536962|\n",
       "| Est Nunc Consulting|outdoors|0.9045235274496832|0.9030518223078445|\n",
       "|Lorem Ipsum Sodal...|outdoors|0.8996382947192149| 0.899322413663958|\n",
       "|      Erat Vitae LLP|outdoors|0.8703719643611981| 0.871793390217532|\n",
       "|  Pede Nonummy Corp.|outdoors|0.8295962503714107| 0.832475246670172|\n",
       "|Non Vestibulum In...|outdoors| 0.821570078941968|0.8196101014206156|\n",
       "+--------------------+--------+------------------+------------------+"
      ]
     },
     "execution_count": 39,
     "metadata": {},
     "output_type": "execute_result"
    }
   ],
   "source": [
    "outdoors = rank.filter(F.col(\"category\") == \"outdoors\")\n",
    "outdoors.sort(desc(\"score_category\")).limit(10)"
   ]
  },
  {
   "cell_type": "code",
   "execution_count": 40,
   "metadata": {},
   "outputs": [
    {
     "data": {
      "text/html": [
       "<table border='1'>\n",
       "<tr><th>merchant_name</th><th>category</th><th>score_merchant</th><th>score_category</th></tr>\n",
       "<tr><td>Arcu Sed Eu Incor...</td><td>home and technology</td><td>0.9335345770035204</td><td>0.9342284828626074</td></tr>\n",
       "<tr><td>Mauris Non Institute</td><td>home and technology</td><td>0.9193203420897997</td><td>0.9211131949105829</td></tr>\n",
       "<tr><td>Interdum Feugiat ...</td><td>home and technology</td><td>0.9012295050358198</td><td>0.9038300670007298</td></tr>\n",
       "<tr><td>Phasellus At Limited</td><td>home and technology</td><td>0.8919255048817771</td><td>0.894580167829437</td></tr>\n",
       "<tr><td>Phasellus Dapibus...</td><td>home and technology</td><td>0.8713316650265482</td><td>0.8733886773540367</td></tr>\n",
       "<tr><td>Neque Sed Dictum ...</td><td>home and technology</td><td>0.8706495142199309</td><td>0.8713413675185132</td></tr>\n",
       "<tr><td>Adipiscing Elit F...</td><td>home and technology</td><td>0.8031407336004195</td><td>0.8039689270529469</td></tr>\n",
       "<tr><td>Nullam Enim Ltd</td><td>home and technology</td><td>0.7902110677760092</td><td>0.7977387263053399</td></tr>\n",
       "<tr><td>Placerat Eget Ven...</td><td>home and technology</td><td>0.7898679636772492</td><td>0.7912741729397526</td></tr>\n",
       "<tr><td>Sed Diam Foundation</td><td>home and technology</td><td>0.7879870345075162</td><td>0.7890357179880334</td></tr>\n",
       "<tr><td>Diam At Foundation</td><td>home and technology</td><td>0.7608026189904484</td><td>0.7622199238326471</td></tr>\n",
       "<tr><td>Amet Consulting</td><td>home and technology</td><td>0.7400750194749379</td><td>0.7423692191029141</td></tr>\n",
       "<tr><td>Eu Placerat LLC</td><td>home and technology</td><td>0.7391425528583885</td><td>0.7398549638888182</td></tr>\n",
       "<tr><td>Libero Et Limited</td><td>home and technology</td><td>0.7201216539841389</td><td>0.7306567075204701</td></tr>\n",
       "<tr><td>Eleifend PC</td><td>home and technology</td><td>0.7078278822236082</td><td>0.7085384060522433</td></tr>\n",
       "<tr><td>Nibh Aliquam Corp.</td><td>home and technology</td><td>0.6885096192354685</td><td>0.7043195873318334</td></tr>\n",
       "<tr><td>Posuere Cubilia C...</td><td>home and technology</td><td>0.701438070111503</td><td>0.7035769597462106</td></tr>\n",
       "<tr><td>Eu Dolor Egestas PC</td><td>home and technology</td><td>0.6562857240977024</td><td>0.6584397523369299</td></tr>\n",
       "<tr><td>Proin Nisl Institute</td><td>home and technology</td><td>0.6541122657285939</td><td>0.6551760732797629</td></tr>\n",
       "<tr><td>Aliquet Phasellus...</td><td>home and technology</td><td>0.6465509621649301</td><td>0.6474167658164958</td></tr>\n",
       "</table>\n",
       "only showing top 20 rows\n"
      ],
      "text/plain": [
       "+--------------------+-------------------+------------------+------------------+\n",
       "|       merchant_name|           category|    score_merchant|    score_category|\n",
       "+--------------------+-------------------+------------------+------------------+\n",
       "|Arcu Sed Eu Incor...|home and technology|0.9335345770035204|0.9342284828626074|\n",
       "|Mauris Non Institute|home and technology|0.9193203420897997|0.9211131949105829|\n",
       "|Interdum Feugiat ...|home and technology|0.9012295050358198|0.9038300670007298|\n",
       "|Phasellus At Limited|home and technology|0.8919255048817771| 0.894580167829437|\n",
       "|Phasellus Dapibus...|home and technology|0.8713316650265482|0.8733886773540367|\n",
       "|Neque Sed Dictum ...|home and technology|0.8706495142199309|0.8713413675185132|\n",
       "|Adipiscing Elit F...|home and technology|0.8031407336004195|0.8039689270529469|\n",
       "|     Nullam Enim Ltd|home and technology|0.7902110677760092|0.7977387263053399|\n",
       "|Placerat Eget Ven...|home and technology|0.7898679636772492|0.7912741729397526|\n",
       "| Sed Diam Foundation|home and technology|0.7879870345075162|0.7890357179880334|\n",
       "|  Diam At Foundation|home and technology|0.7608026189904484|0.7622199238326471|\n",
       "|     Amet Consulting|home and technology|0.7400750194749379|0.7423692191029141|\n",
       "|     Eu Placerat LLC|home and technology|0.7391425528583885|0.7398549638888182|\n",
       "|   Libero Et Limited|home and technology|0.7201216539841389|0.7306567075204701|\n",
       "|         Eleifend PC|home and technology|0.7078278822236082|0.7085384060522433|\n",
       "|  Nibh Aliquam Corp.|home and technology|0.6885096192354685|0.7043195873318334|\n",
       "|Posuere Cubilia C...|home and technology| 0.701438070111503|0.7035769597462106|\n",
       "| Eu Dolor Egestas PC|home and technology|0.6562857240977024|0.6584397523369299|\n",
       "|Proin Nisl Institute|home and technology|0.6541122657285939|0.6551760732797629|\n",
       "|Aliquet Phasellus...|home and technology|0.6465509621649301|0.6474167658164958|\n",
       "+--------------------+-------------------+------------------+------------------+\n",
       "only showing top 20 rows"
      ]
     },
     "execution_count": 40,
     "metadata": {},
     "output_type": "execute_result"
    }
   ],
   "source": [
    "home = rank.filter(F.col(\"category\") == \"home and technology\")\n",
    "home.sort(desc(\"score_category\"))"
   ]
  },
  {
   "cell_type": "code",
   "execution_count": 41,
   "metadata": {},
   "outputs": [
    {
     "data": {
      "text/html": [
       "<table border='1'>\n",
       "<tr><th>merchant_name</th><th>category</th><th>score_merchant</th><th>score_category</th></tr>\n",
       "<tr><td>Leo In Consulting</td><td>fashion and acces...</td><td>0.9457595545679616</td><td>0.9454281204859143</td></tr>\n",
       "<tr><td>Nec Tellus Ltd</td><td>fashion and acces...</td><td>0.936717578076056</td><td>0.9350759692370749</td></tr>\n",
       "<tr><td>Dignissim Maecena...</td><td>fashion and acces...</td><td>0.9107214920812337</td><td>0.9099276024196704</td></tr>\n",
       "<tr><td>Gravida Mauris In...</td><td>fashion and acces...</td><td>0.8519567727687615</td><td>0.8497613800681746</td></tr>\n",
       "<tr><td>Dolor Quisque Inc.</td><td>fashion and acces...</td><td>0.8223619123004936</td><td>0.8192019071009945</td></tr>\n",
       "<tr><td>Suspendisse Dui C...</td><td>fashion and acces...</td><td>0.8024872501699538</td><td>0.8007814231834953</td></tr>\n",
       "<tr><td>Iaculis LLC</td><td>fashion and acces...</td><td>0.7471513190188319</td><td>0.7436027236684143</td></tr>\n",
       "<tr><td>Quam Elementum Corp.</td><td>fashion and acces...</td><td>0.7033251099161467</td><td>0.6994806840504677</td></tr>\n",
       "<tr><td>Blandit At LLC</td><td>fashion and acces...</td><td>0.6948290629667331</td><td>0.6954224158001463</td></tr>\n",
       "<tr><td>Magna Institute</td><td>fashion and acces...</td><td>0.6816326835341475</td><td>0.6712394009639159</td></tr>\n",
       "</table>\n"
      ],
      "text/plain": [
       "+--------------------+--------------------+------------------+------------------+\n",
       "|       merchant_name|            category|    score_merchant|    score_category|\n",
       "+--------------------+--------------------+------------------+------------------+\n",
       "|   Leo In Consulting|fashion and acces...|0.9457595545679616|0.9454281204859143|\n",
       "|      Nec Tellus Ltd|fashion and acces...| 0.936717578076056|0.9350759692370749|\n",
       "|Dignissim Maecena...|fashion and acces...|0.9107214920812337|0.9099276024196704|\n",
       "|Gravida Mauris In...|fashion and acces...|0.8519567727687615|0.8497613800681746|\n",
       "|  Dolor Quisque Inc.|fashion and acces...|0.8223619123004936|0.8192019071009945|\n",
       "|Suspendisse Dui C...|fashion and acces...|0.8024872501699538|0.8007814231834953|\n",
       "|         Iaculis LLC|fashion and acces...|0.7471513190188319|0.7436027236684143|\n",
       "|Quam Elementum Corp.|fashion and acces...|0.7033251099161467|0.6994806840504677|\n",
       "|      Blandit At LLC|fashion and acces...|0.6948290629667331|0.6954224158001463|\n",
       "|     Magna Institute|fashion and acces...|0.6816326835341475|0.6712394009639159|\n",
       "+--------------------+--------------------+------------------+------------------+"
      ]
     },
     "execution_count": 41,
     "metadata": {},
     "output_type": "execute_result"
    }
   ],
   "source": [
    "fashion = rank.filter(F.col(\"category\") == \"fashion and accessories\")\n",
    "fashion.sort(desc(\"score_category\")).limit(10)"
   ]
  },
  {
   "cell_type": "code",
   "execution_count": 42,
   "metadata": {},
   "outputs": [
    {
     "data": {
      "text/html": [
       "<table border='1'>\n",
       "<tr><th>merchant_name</th><th>category</th><th>score_merchant</th><th>score_category</th></tr>\n",
       "<tr><td>Lobortis Ultrices...</td><td>books and music</td><td>0.8995566368080294</td><td>0.900969572524783</td></tr>\n",
       "<tr><td>Placerat Orci Ins...</td><td>books and music</td><td>0.8564326670015582</td><td>0.8627186372207024</td></tr>\n",
       "<tr><td>Tempor Est Founda...</td><td>books and music</td><td>0.8312832957485824</td><td>0.8375081713853588</td></tr>\n",
       "<tr><td>Euismod In Corp.</td><td>books and music</td><td>0.7996355880834806</td><td>0.803904172722113</td></tr>\n",
       "<tr><td>Pretium Et LLC</td><td>books and music</td><td>0.7947301515240902</td><td>0.7965223960027754</td></tr>\n",
       "<tr><td>Ornare Fusce Inc.</td><td>books and music</td><td>0.7889271607616435</td><td>0.7934957984249835</td></tr>\n",
       "<tr><td>Dignissim Lacus PC</td><td>books and music</td><td>0.7945411447763896</td><td>0.7907881676108762</td></tr>\n",
       "<tr><td>Nullam Consulting</td><td>books and music</td><td>0.7810705085923072</td><td>0.7859535595680842</td></tr>\n",
       "<tr><td>Suspendisse Ac As...</td><td>books and music</td><td>0.7757301930334065</td><td>0.7765444302148056</td></tr>\n",
       "<tr><td>Sodales At LLC</td><td>books and music</td><td>0.745365414586944</td><td>0.7464940372308507</td></tr>\n",
       "</table>\n"
      ],
      "text/plain": [
       "+--------------------+---------------+------------------+------------------+\n",
       "|       merchant_name|       category|    score_merchant|    score_category|\n",
       "+--------------------+---------------+------------------+------------------+\n",
       "|Lobortis Ultrices...|books and music|0.8995566368080294| 0.900969572524783|\n",
       "|Placerat Orci Ins...|books and music|0.8564326670015582|0.8627186372207024|\n",
       "|Tempor Est Founda...|books and music|0.8312832957485824|0.8375081713853588|\n",
       "|    Euismod In Corp.|books and music|0.7996355880834806| 0.803904172722113|\n",
       "|      Pretium Et LLC|books and music|0.7947301515240902|0.7965223960027754|\n",
       "|   Ornare Fusce Inc.|books and music|0.7889271607616435|0.7934957984249835|\n",
       "|  Dignissim Lacus PC|books and music|0.7945411447763896|0.7907881676108762|\n",
       "|   Nullam Consulting|books and music|0.7810705085923072|0.7859535595680842|\n",
       "|Suspendisse Ac As...|books and music|0.7757301930334065|0.7765444302148056|\n",
       "|      Sodales At LLC|books and music| 0.745365414586944|0.7464940372308507|\n",
       "+--------------------+---------------+------------------+------------------+"
      ]
     },
     "execution_count": 42,
     "metadata": {},
     "output_type": "execute_result"
    }
   ],
   "source": [
    "books = rank.filter(F.col(\"category\") == \"books and music\")\n",
    "books.sort(desc(\"score_category\")).limit(10)"
   ]
  },
  {
   "cell_type": "code",
   "execution_count": 44,
   "metadata": {},
   "outputs": [
    {
     "data": {
      "text/html": [
       "<table border='1'>\n",
       "<tr><th>merchant_name</th><th>category</th><th>score_merchant</th><th>score_category</th></tr>\n",
       "<tr><td>Arcu Morbi Institute</td><td>art and gifts</td><td>1.0163948048627653</td><td>1.014985265625849</td></tr>\n",
       "<tr><td>Dictum Phasellus ...</td><td>art and gifts</td><td>0.9341231889803059</td><td>0.9311681803167093</td></tr>\n",
       "<tr><td>Aliquam Auctor As...</td><td>art and gifts</td><td>0.9173904597822056</td><td>0.9167353464454333</td></tr>\n",
       "<tr><td>Phasellus At Company</td><td>art and gifts</td><td>0.9070904242621666</td><td>0.9064187387447048</td></tr>\n",
       "<tr><td>Magna Malesuada C...</td><td>art and gifts</td><td>0.9080128762170309</td><td>0.9042423959190866</td></tr>\n",
       "<tr><td>Orci In Consequat...</td><td>art and gifts</td><td>0.8979977583249472</td><td>0.8963490396053186</td></tr>\n",
       "<tr><td>Ultricies Digniss...</td><td>art and gifts</td><td>0.8794747682068239</td><td>0.8768622438420528</td></tr>\n",
       "<tr><td>Lacus Consulting</td><td>art and gifts</td><td>0.8628623913307517</td><td>0.8621277306564481</td></tr>\n",
       "<tr><td>Odio Phasellus In...</td><td>art and gifts</td><td>0.7826305755945498</td><td>0.7777688312147572</td></tr>\n",
       "<tr><td>Ipsum Dolor Sit C...</td><td>art and gifts</td><td>0.7588789640452228</td><td>0.7601443459174498</td></tr>\n",
       "</table>\n"
      ],
      "text/plain": [
       "+--------------------+-------------+------------------+------------------+\n",
       "|       merchant_name|     category|    score_merchant|    score_category|\n",
       "+--------------------+-------------+------------------+------------------+\n",
       "|Arcu Morbi Institute|art and gifts|1.0163948048627653| 1.014985265625849|\n",
       "|Dictum Phasellus ...|art and gifts|0.9341231889803059|0.9311681803167093|\n",
       "|Aliquam Auctor As...|art and gifts|0.9173904597822056|0.9167353464454333|\n",
       "|Phasellus At Company|art and gifts|0.9070904242621666|0.9064187387447048|\n",
       "|Magna Malesuada C...|art and gifts|0.9080128762170309|0.9042423959190866|\n",
       "|Orci In Consequat...|art and gifts|0.8979977583249472|0.8963490396053186|\n",
       "|Ultricies Digniss...|art and gifts|0.8794747682068239|0.8768622438420528|\n",
       "|    Lacus Consulting|art and gifts|0.8628623913307517|0.8621277306564481|\n",
       "|Odio Phasellus In...|art and gifts|0.7826305755945498|0.7777688312147572|\n",
       "|Ipsum Dolor Sit C...|art and gifts|0.7588789640452228|0.7601443459174498|\n",
       "+--------------------+-------------+------------------+------------------+"
      ]
     },
     "execution_count": 44,
     "metadata": {},
     "output_type": "execute_result"
    }
   ],
   "source": [
    "art = rank.filter(F.col(\"category\") == \"art and gifts\")\n",
    "art.sort(desc(\"score_category\")).limit(10)"
   ]
  }
 ],
 "metadata": {
  "kernelspec": {
   "display_name": "Python 3.8.9 64-bit",
   "language": "python",
   "name": "python3"
  },
  "language_info": {
   "codemirror_mode": {
    "name": "ipython",
    "version": 3
   },
   "file_extension": ".py",
   "mimetype": "text/x-python",
   "name": "python",
   "nbconvert_exporter": "python",
   "pygments_lexer": "ipython3",
   "version": "3.8.9"
  },
  "orig_nbformat": 4,
  "vscode": {
   "interpreter": {
    "hash": "31f2aee4e71d21fbe5cf8b01ff0e069b9275f58929596ceb00d14d90e3e16cd6"
   }
  }
 },
 "nbformat": 4,
 "nbformat_minor": 2
}
