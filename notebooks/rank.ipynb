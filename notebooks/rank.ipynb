{
 "cells": [
  {
   "cell_type": "code",
   "execution_count": 69,
   "metadata": {},
   "outputs": [],
   "source": [
    "from pyspark.sql import SparkSession, functions as F\n",
    "from pyspark.sql.functions import *\n",
    "import os\n",
    "import csv\n",
    "\n",
    "spark = (\n",
    "    SparkSession.builder.appName(\"ADS project 2\")\n",
    "    .config(\"spark.sql.repl.eagerEval.enabled\", True) \n",
    "    .config(\"spark.sql.parquet.cacheMetadata\", \"true\")\n",
    "    .config(\"spark.sql.session.timeZone\", \"Etc/UTC\")\n",
    "    .config(\"spark.executor.memory\", \"2g\")\n",
    "    .config(\"spark.driver.memory\", \"4g\")\n",
    "    .getOrCreate()\n",
    ")"
   ]
  },
  {
   "cell_type": "code",
   "execution_count": 70,
   "metadata": {},
   "outputs": [],
   "source": [
    "\n",
    "score = spark.read.parquet(\"../data/curated/score_table\")"
   ]
  },
  {
   "cell_type": "code",
   "execution_count": 71,
   "metadata": {},
   "outputs": [
    {
     "name": "stdout",
     "output_type": "stream",
     "text": [
      "root\n",
      " |-- merchant_name: string (nullable = true)\n",
      " |-- category: string (nullable = true)\n",
      " |-- merchant_rev_score: double (nullable = true)\n",
      " |-- category_rev_score: double (nullable = true)\n",
      " |-- fraud_score: double (nullable = true)\n",
      " |-- trend_score: double (nullable = true)\n",
      " |-- variance_score: double (nullable = true)\n",
      "\n"
     ]
    }
   ],
   "source": [
    "score.printSchema()"
   ]
  },
  {
   "cell_type": "code",
   "execution_count": 72,
   "metadata": {},
   "outputs": [],
   "source": [
    "rank = score.withColumn(\"score_merchant\", \n",
    "        col(\"merchant_rev_score\")*col(\"fraud_score\")*0.7+\n",
    "        col(\"variance_score\")*0.3 + col(\"trend_score\")*0.2)\n",
    "rank = rank.withColumn(\"score_category\", \n",
    "        col(\"category_rev_score\")*col(\"fraud_score\")*0.7+\n",
    "        col(\"variance_score\")*0.3 + col(\"trend_score\")*0.2)"
   ]
  },
  {
   "cell_type": "code",
   "execution_count": 73,
   "metadata": {},
   "outputs": [],
   "source": [
    "rank = rank.select(\"merchant_name\",\"category\",\"score_merchant\", \"score_category\").sort(desc(\"score_merchant\"))"
   ]
  },
  {
   "cell_type": "code",
   "execution_count": 74,
   "metadata": {},
   "outputs": [
    {
     "name": "stderr",
     "output_type": "stream",
     "text": [
      "                                                                                \r"
     ]
    }
   ],
   "source": [
    "rank.write.csv(\"../data/result\")"
   ]
  },
  {
   "cell_type": "markdown",
   "metadata": {},
   "source": [
    "### Top 100 merchants"
   ]
  },
  {
   "cell_type": "code",
   "execution_count": 75,
   "metadata": {},
   "outputs": [
    {
     "name": "stdout",
     "output_type": "stream",
     "text": [
      "+------------------------------+-----------------------+------------------+------------------+\n",
      "|merchant_name                 |category               |score_merchant    |score_category    |\n",
      "+------------------------------+-----------------------+------------------+------------------+\n",
      "|Diam Eu Dolor LLC             |outdoors               |1.0834354600919873|1.074172225288055 |\n",
      "|Arcu Morbi Institute          |art and gifts          |1.0219391156856141|1.0193048666593856|\n",
      "|Ornare Limited                |outdoors               |1.0171169529219695|1.0171169529219695|\n",
      "|Iaculis Aliquet Diam LLC      |outdoors               |0.9616190164575718|0.9574315742977271|\n",
      "|Leo In Consulting             |fashion and accessories|0.9426120375801823|0.9404063030211498|\n",
      "|Arcu Sed Eu Incorporated      |home and technology    |0.9375400556211418|0.937612083212335 |\n",
      "|Dictum Phasellus In Institute |art and gifts          |0.9344189627350707|0.9309275343167138|\n",
      "|Suspendisse Non Leo PC        |outdoors               |0.9340002676580152|0.9353052751602505|\n",
      "|Nec Tellus Ltd                |fashion and accessories|0.9320620238502593|0.9315625800084967|\n",
      "|Interdum Feugiat Sed Inc.     |home and technology    |0.9280969717055055|0.9278886122582232|\n",
      "|Auctor Company                |outdoors               |0.9212027572083249|0.9226277859186572|\n",
      "|Mauris Non Institute          |home and technology    |0.9174364469087235|0.9188463569215075|\n",
      "|Aliquam Auctor Associates     |art and gifts          |0.916853132760181 |0.9084719366687065|\n",
      "|Magna Malesuada Corp.         |art and gifts          |0.9136595425354116|0.9103147193078454|\n",
      "|Phasellus At Company          |art and gifts          |0.9114724550583831|0.9073546701808198|\n",
      "|Dignissim Maecenas Foundation |fashion and accessories|0.9090690513649663|0.9099054174688489|\n",
      "|Phasellus At Limited          |home and technology    |0.9040272022614287|0.9052398370969218|\n",
      "|Lobortis Ultrices Company     |books and music        |0.9025884977628511|0.9035042646382836|\n",
      "|Lorem Ipsum Sodales Industries|outdoors               |0.89822213668196  |0.900133390996232 |\n",
      "|Orci In Consequat Corporation |art and gifts          |0.8981623770923127|0.8962527769433162|\n",
      "+------------------------------+-----------------------+------------------+------------------+\n",
      "only showing top 20 rows\n",
      "\n"
     ]
    }
   ],
   "source": [
    "rank.sort(desc(\"score_merchant\")).limit(100).show(truncate = False)"
   ]
  },
  {
   "cell_type": "code",
   "execution_count": 93,
   "metadata": {},
   "outputs": [],
   "source": [
    "cat_distribution = rank.limit(100).groupBy([\"category\"]).agg(count(F.col(\"score_merchant\")).alias(\"Number\"))"
   ]
  },
  {
   "cell_type": "markdown",
   "metadata": {},
   "source": [
    "#### Distribution of Category"
   ]
  },
  {
   "cell_type": "code",
   "execution_count": 94,
   "metadata": {},
   "outputs": [
    {
     "data": {
      "text/html": [
       "<table border='1'>\n",
       "<tr><th>category</th><th>Number</th></tr>\n",
       "<tr><td>outdoors</td><td>27</td></tr>\n",
       "<tr><td>home and technology</td><td>21</td></tr>\n",
       "<tr><td>art and gifts</td><td>19</td></tr>\n",
       "<tr><td>fashion and acces...</td><td>17</td></tr>\n",
       "<tr><td>books and music</td><td>16</td></tr>\n",
       "</table>\n"
      ],
      "text/plain": [
       "+--------------------+------+\n",
       "|            category|Number|\n",
       "+--------------------+------+\n",
       "|            outdoors|    27|\n",
       "| home and technology|    21|\n",
       "|       art and gifts|    19|\n",
       "|fashion and acces...|    17|\n",
       "|     books and music|    16|\n",
       "+--------------------+------+"
      ]
     },
     "execution_count": 94,
     "metadata": {},
     "output_type": "execute_result"
    }
   ],
   "source": [
    "cat_distribution.sort(desc(\"number\"))"
   ]
  },
  {
   "cell_type": "code",
   "execution_count": 114,
   "metadata": {},
   "outputs": [
    {
     "name": "stderr",
     "output_type": "stream",
     "text": [
      "                                                                                \r"
     ]
    },
    {
     "data": {
      "text/plain": [
       "['outdoors',\n",
       " 'art and gifts',\n",
       " 'fashion and accessories',\n",
       " 'home and technology',\n",
       " 'books and music']"
      ]
     },
     "execution_count": 114,
     "metadata": {},
     "output_type": "execute_result"
    }
   ],
   "source": [
    "cat = list(cat_distribution.select(\"category\").distinct().toPandas()[\"category\"])\n",
    "num = list(cat_distribution.select(\"Number\").distinct().toPandas()[\"Number\"])\n",
    "cat"
   ]
  },
  {
   "cell_type": "code",
   "execution_count": 127,
   "metadata": {},
   "outputs": [
    {
     "data": {
      "image/png": "[encoded data removed]",
      "text/plain": [
       "<Figure size 432x288 with 1 Axes>"
      ]
     },
     "metadata": {},
     "output_type": "display_data"
    }
   ],
   "source": [
    "import matplotlib.pyplot as plt\n",
    "labels = cat\n",
    "sizes = num\n",
    "explode = (0, 0, 0, 0, 0)  # only \"explode\" the 2nd slice (i.e. 'Hogs')\n",
    "\n",
    "fig1, ax1 = plt.subplots()\n",
    "ax1.pie(sizes, explode=explode, labels=labels, autopct='%1.1f%%', startangle=90, \n",
    "        colors = [\"#D58A94\", \"#E8ADAA\", \"#ECC5C0\", \"#FFCBA4\", \"#FA8072\"])\n",
    "ax1.axis('equal')  # Equal aspect ratio ensures that pie is drawn as a circle.\n",
    "\n",
    "plt.show()"
   ]
  },
  {
   "cell_type": "markdown",
   "metadata": {},
   "source": [
    "#### Information of the top 1"
   ]
  },
  {
   "cell_type": "code",
   "execution_count": 100,
   "metadata": {},
   "outputs": [],
   "source": [
    "top = rank.first()[\"merchant_name\"]"
   ]
  },
  {
   "cell_type": "code",
   "execution_count": 152,
   "metadata": {},
   "outputs": [],
   "source": [
    "df_old = spark.read.parquet('../data/curated/merchant_consumer_abs')\n",
    "df_info = spark.read.parquet('../data/meta/merchant_metadata.parquet')\n",
    "df_predict = spark.read.parquet(\"../data/curated/predictions.parquet\")"
   ]
  },
  {
   "cell_type": "code",
   "execution_count": 113,
   "metadata": {},
   "outputs": [
    {
     "data": {
      "text/html": [
       "<table border='1'>\n",
       "<tr><th>merchant_name</th><th>revenue_level</th><th>avg(median_age)</th><th>avg(sum(Undisclosed))</th><th>avg(sum(Female))</th><th>avg(sum(Male))</th><th>category</th><th>take_rate</th></tr>\n",
       "<tr><td>Diam Eu Dolor LLC</td><td>b</td><td>45.283464315269356</td><td>17.95</td><td>78.15</td><td>77.85</td><td>outdoors</td><td>4.1</td></tr>\n",
       "</table>\n"
      ],
      "text/plain": [
       "+-----------------+-------------+------------------+---------------------+----------------+--------------+--------+---------+\n",
       "|    merchant_name|revenue_level|   avg(median_age)|avg(sum(Undisclosed))|avg(sum(Female))|avg(sum(Male))|category|take_rate|\n",
       "+-----------------+-------------+------------------+---------------------+----------------+--------------+--------+---------+\n",
       "|Diam Eu Dolor LLC|            b|45.283464315269356|                17.95|           78.15|         77.85|outdoors|      4.1|\n",
       "+-----------------+-------------+------------------+---------------------+----------------+--------------+--------+---------+"
      ]
     },
     "execution_count": 113,
     "metadata": {},
     "output_type": "execute_result"
    }
   ],
   "source": [
    "df_info.filter(F.col(\"merchant_name\") == top)"
   ]
  },
  {
   "cell_type": "code",
   "execution_count": 157,
   "metadata": {},
   "outputs": [
    {
     "name": "stderr",
     "output_type": "stream",
     "text": [
      "                                                                                \r"
     ]
    },
    {
     "data": {
      "image/png": "[encoded data removed]",
      "text/plain": [
       "<Figure size 720x288 with 1 Axes>"
      ]
     },
     "metadata": {
      "needs_background": "light"
     },
     "output_type": "display_data"
    }
   ],
   "source": [
    "import numpy as np\n",
    "\n",
    "revenue_monthly = df_old[df_old[\"merchant_name\"] == top].groupBy([\"merchant_name\", \"order_year\", \"order_month\"]).agg(sum(\"dollar_value\").alias(\"total_dollar_value\"))\n",
    "revenue_monthly = revenue_monthly.toPandas()\n",
    "revenue_monthly = revenue_monthly.sort_values([\"order_year\", \"order_month\"])\n",
    "revenue_monthly[\"period\"] = revenue_monthly[\"order_year\"].astype(str) + \"-\" + revenue_monthly[\"order_month\"].astype(str)\n",
    "\n",
    "x1 = revenue_monthly['period']\n",
    "y1 = revenue_monthly['total_dollar_value']\n",
    "\n",
    "plt.figure(figsize=(10,4))\n",
    "plt.scatter(x1, y1, color=\"darkcyan\")\n",
    "plt.xticks(rotation=45)\n",
    "plt.title(top)\n",
    "plt.xlabel(\"time\")\n",
    "plt.ylabel(\"revenue\")\n",
    "plt.show()"
   ]
  },
  {
   "cell_type": "markdown",
   "metadata": {},
   "source": [
    "### Top 10 for each category"
   ]
  },
  {
   "cell_type": "code",
   "execution_count": 82,
   "metadata": {},
   "outputs": [
    {
     "name": "stdout",
     "output_type": "stream",
     "text": [
      "+------------------------------+--------+------------------+------------------+\n",
      "|merchant_name                 |category|score_merchant    |score_category    |\n",
      "+------------------------------+--------+------------------+------------------+\n",
      "|Diam Eu Dolor LLC             |outdoors|1.0834354600919873|1.074172225288055 |\n",
      "|Ornare Limited                |outdoors|1.0171169529219695|1.0171169529219695|\n",
      "|Iaculis Aliquet Diam LLC      |outdoors|0.9616190164575718|0.9574315742977271|\n",
      "|Suspendisse Non Leo PC        |outdoors|0.9340002676580152|0.9353052751602505|\n",
      "|Auctor Company                |outdoors|0.9212027572083249|0.9226277859186572|\n",
      "|Lorem Ipsum Sodales Industries|outdoors|0.89822213668196  |0.900133390996232 |\n",
      "|Est Nunc Consulting           |outdoors|0.8959517141527263|0.896181822160309 |\n",
      "|Erat Vitae LLP                |outdoors|0.8699137555416562|0.8725733534445631|\n",
      "|Sit Amet PC                   |outdoors|0.821920856954474 |0.8251699924398127|\n",
      "|Non Vestibulum Industries     |outdoors|0.8148224263837487|0.8169962727365073|\n",
      "+------------------------------+--------+------------------+------------------+\n",
      "\n"
     ]
    }
   ],
   "source": [
    "outdoors = rank.filter(F.col(\"category\") == \"outdoors\")\n",
    "outdoors.sort(desc(\"score_category\")).limit(10).show(truncate = False)"
   ]
  },
  {
   "cell_type": "code",
   "execution_count": 83,
   "metadata": {},
   "outputs": [
    {
     "name": "stdout",
     "output_type": "stream",
     "text": [
      "+------------------------------+-------------------+------------------+------------------+\n",
      "|merchant_name                 |category           |score_merchant    |score_category    |\n",
      "+------------------------------+-------------------+------------------+------------------+\n",
      "|Arcu Sed Eu Incorporated      |home and technology|0.9375400556211418|0.937612083212335 |\n",
      "|Interdum Feugiat Sed Inc.     |home and technology|0.9280969717055055|0.9278886122582232|\n",
      "|Mauris Non Institute          |home and technology|0.9174364469087235|0.9188463569215075|\n",
      "|Phasellus At Limited          |home and technology|0.9040272022614287|0.9052398370969218|\n",
      "|Phasellus Dapibus Incorporated|home and technology|0.8978021888736906|0.8966225372585616|\n",
      "|Neque Sed Dictum Incorporated |home and technology|0.8680456721807364|0.8664857955494034|\n",
      "|Nullam Enim Ltd               |home and technology|0.8253631173119247|0.8338501285990034|\n",
      "|Adipiscing Elit Foundation    |home and technology|0.8128215673386765|0.8126714000458563|\n",
      "|Libero Et Limited             |home and technology|0.8022897641552388|0.8019424449093727|\n",
      "|Sed Diam Foundation           |home and technology|0.7873756183810335|0.7863931387970787|\n",
      "+------------------------------+-------------------+------------------+------------------+\n",
      "\n"
     ]
    }
   ],
   "source": [
    "home = rank.filter(F.col(\"category\") == \"home and technology\")\n",
    "home.sort(desc(\"score_category\")).limit(10).show(truncate = False)"
   ]
  },
  {
   "cell_type": "code",
   "execution_count": 84,
   "metadata": {},
   "outputs": [
    {
     "name": "stdout",
     "output_type": "stream",
     "text": [
      "+-----------------------------+-----------------------+------------------+------------------+\n",
      "|merchant_name                |category               |score_merchant    |score_category    |\n",
      "+-----------------------------+-----------------------+------------------+------------------+\n",
      "|Leo In Consulting            |fashion and accessories|0.9426120375801823|0.9404063030211498|\n",
      "|Nec Tellus Ltd               |fashion and accessories|0.9320620238502593|0.9315625800084967|\n",
      "|Dignissim Maecenas Foundation|fashion and accessories|0.9090690513649663|0.9099054174688489|\n",
      "|Gravida Mauris Incorporated  |fashion and accessories|0.8591273551339685|0.8594936878733727|\n",
      "|Dolor Quisque Inc.           |fashion and accessories|0.8253596149608865|0.8257661176904908|\n",
      "|Suspendisse Dui Corporation  |fashion and accessories|0.7985965647041804|0.8004930079915684|\n",
      "|Iaculis LLC                  |fashion and accessories|0.7470855112867925|0.7472295426668849|\n",
      "|Blandit At LLC               |fashion and accessories|0.6956520180927837|0.6943382445312424|\n",
      "|Quam Elementum Corp.         |fashion and accessories|0.6873295320197695|0.6943274272709967|\n",
      "|Nulla Facilisis Institute    |fashion and accessories|0.6640489319562468|0.662289092948812 |\n",
      "+-----------------------------+-----------------------+------------------+------------------+\n",
      "\n"
     ]
    }
   ],
   "source": [
    "fashion = rank.filter(F.col(\"category\") == \"fashion and accessories\")\n",
    "fashion.sort(desc(\"score_category\")).limit(10).show(truncate = False)"
   ]
  },
  {
   "cell_type": "code",
   "execution_count": 85,
   "metadata": {},
   "outputs": [
    {
     "name": "stdout",
     "output_type": "stream",
     "text": [
      "+-------------------------+---------------+------------------+------------------+\n",
      "|merchant_name            |category       |score_merchant    |score_category    |\n",
      "+-------------------------+---------------+------------------+------------------+\n",
      "|Lobortis Ultrices Company|books and music|0.9025884977628511|0.9035042646382836|\n",
      "|Placerat Orci Institute  |books and music|0.8591098084560823|0.863544880021354 |\n",
      "|Tempor Est Foundation    |books and music|0.826844029195127 |0.8298706044953154|\n",
      "|Euismod In Corp.         |books and music|0.8077449037326345|0.8114960372673368|\n",
      "|Ornare Fusce Inc.        |books and music|0.7949732047843214|0.7960247151753428|\n",
      "|Pretium Et LLC           |books and music|0.7871926712321332|0.792287565905688 |\n",
      "|Nullam Consulting        |books and music|0.7846241675281344|0.7884643368552303|\n",
      "|Suspendisse Ac Associates|books and music|0.7775790942960039|0.7807266230857446|\n",
      "|Dignissim Lacus PC       |books and music|0.7407918303625433|0.7583364950720511|\n",
      "|Sodales At LLC           |books and music|0.7414793324582184|0.7447954565610465|\n",
      "+-------------------------+---------------+------------------+------------------+\n",
      "\n"
     ]
    }
   ],
   "source": [
    "books = rank.filter(F.col(\"category\") == \"books and music\")\n",
    "books.sort(desc(\"score_category\")).limit(10).show(truncate = False)"
   ]
  },
  {
   "cell_type": "code",
   "execution_count": 86,
   "metadata": {},
   "outputs": [
    {
     "name": "stdout",
     "output_type": "stream",
     "text": [
      "+-----------------------------+-------------+------------------+------------------+\n",
      "|merchant_name                |category     |score_merchant    |score_category    |\n",
      "+-----------------------------+-------------+------------------+------------------+\n",
      "|Arcu Morbi Institute         |art and gifts|1.0219391156856141|1.0193048666593856|\n",
      "|Dictum Phasellus In Institute|art and gifts|0.9344189627350707|0.9309275343167138|\n",
      "|Magna Malesuada Corp.        |art and gifts|0.9136595425354116|0.9103147193078454|\n",
      "|Aliquam Auctor Associates    |art and gifts|0.916853132760181 |0.9084719366687065|\n",
      "|Phasellus At Company         |art and gifts|0.9114724550583831|0.9073546701808198|\n",
      "|Orci In Consequat Corporation|art and gifts|0.8981623770923127|0.8962527769433162|\n",
      "|Ultricies Dignissim LLP      |art and gifts|0.877722089886378 |0.8726103569902597|\n",
      "|Lacus Consulting             |art and gifts|0.8628512404320943|0.8620795964305871|\n",
      "|Odio Phasellus Institute     |art and gifts|0.7860755344000911|0.7798315578151298|\n",
      "|Nulla Vulputate Company      |art and gifts|0.7758108138067543|0.7748526334429895|\n",
      "+-----------------------------+-------------+------------------+------------------+\n",
      "\n"
     ]
    }
   ],
   "source": [
    "art = rank.filter(F.col(\"category\") == \"art and gifts\")\n",
    "art.sort(desc(\"score_category\")).limit(10).show(truncate = False)"
   ]
  }
 ],
 "metadata": {
  "kernelspec": {
   "display_name": "Python 3.8.9 64-bit",
   "language": "python",
   "name": "python3"
  },
  "language_info": {
   "codemirror_mode": {
    "name": "ipython",
    "version": 3
   },
   "file_extension": ".py",
   "mimetype": "text/x-python",
   "name": "python",
   "nbconvert_exporter": "python",
   "pygments_lexer": "ipython3",
   "version": "3.8.9"
  },
  "orig_nbformat": 4,
  "vscode": {
   "interpreter": {
    "hash": "31f2aee4e71d21fbe5cf8b01ff0e069b9275f58929596ceb00d14d90e3e16cd6"
   }
  }
 },
 "nbformat": 4,
 "nbformat_minor": 2
}
