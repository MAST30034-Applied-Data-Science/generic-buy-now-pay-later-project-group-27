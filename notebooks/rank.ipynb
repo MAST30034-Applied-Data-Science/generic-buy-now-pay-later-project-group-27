{
 "cells": [
  {
   "cell_type": "code",
   "execution_count": 82,
   "metadata": {},
   "outputs": [],
   "source": [
    "from pyspark.sql import SparkSession, functions as F\n",
    "from pyspark.sql.functions import *\n",
    "\n",
    "spark = (\n",
    "    SparkSession.builder.appName(\"ADS project 2\")\n",
    "    .config(\"spark.sql.repl.eagerEval.enabled\", True) \n",
    "    .config(\"spark.sql.parquet.cacheMetadata\", \"true\")\n",
    "    .config(\"spark.sql.session.timeZone\", \"Etc/UTC\")\n",
    "    .config(\"spark.executor.memory\", \"2g\")\n",
    "    .config(\"spark.driver.memory\", \"4g\")\n",
    "    .getOrCreate()\n",
    ")"
   ]
  },
  {
   "cell_type": "code",
   "execution_count": 83,
   "metadata": {},
   "outputs": [],
   "source": [
    "data_loc = \"../data/scores/\"\n",
    "\n",
    "transact = spark.read.option(\"header\", \"true\").parquet(data_loc+\"transactions.parquet\").select(F.col(\"merchant_name\").alias(\"merch\"), \"score\")\n",
    "fraud = spark.read.option(\"header\", \"true\").parquet(data_loc+\"fraud.parquet\").select(\"merchant_name\", \"category\", \"fraud_group\")"
   ]
  },
  {
   "cell_type": "code",
   "execution_count": 84,
   "metadata": {},
   "outputs": [
    {
     "data": {
      "text/html": [
       "<table border='1'>\n",
       "<tr><th>merch</th><th>score</th></tr>\n",
       "<tr><td>A Aliquet Ltd</td><td>1.7056672760511884</td></tr>\n",
       "<tr><td>A Arcu Industries</td><td>4.206581352833638</td></tr>\n",
       "<tr><td>A Arcu Sed Company</td><td>2.1352833638025595</td></tr>\n",
       "<tr><td>A Arcu Sed Corpor...</td><td>0.03290676416819013</td></tr>\n",
       "<tr><td>A Associates</td><td>0.12614259597806216</td></tr>\n",
       "<tr><td>A Auctor Non Corp...</td><td>19.36197440585009</td></tr>\n",
       "<tr><td>A Auctor Non Inst...</td><td>1.323583180987203</td></tr>\n",
       "<tr><td>A Company</td><td>0.025594149908592323</td></tr>\n",
       "<tr><td>A Consulting</td><td>0.2303473491773309</td></tr>\n",
       "<tr><td>A Corp.</td><td>8.186471663619743</td></tr>\n",
       "<tr><td>A Corporation</td><td>0.08043875685557587</td></tr>\n",
       "<tr><td>A Dui Institute</td><td>5.312614259597806</td></tr>\n",
       "<tr><td>A Enim Institute</td><td>1.2614259597806217</td></tr>\n",
       "<tr><td>A Facilisis Limited</td><td>1.663619744058501</td></tr>\n",
       "<tr><td>A Facilisis Non Inc.</td><td>0.016453382084095063</td></tr>\n",
       "<tr><td>A Facilisis PC</td><td>21.62340036563071</td></tr>\n",
       "<tr><td>A Felis Company</td><td>0.1206581352833638</td></tr>\n",
       "<tr><td>A Felis Ullamcorp...</td><td>1.9945155393053016</td></tr>\n",
       "<tr><td>A Felis Ullamcorp...</td><td>10.279707495429616</td></tr>\n",
       "<tr><td>A Felis Ullamcorp...</td><td>0.2870201096892139</td></tr>\n",
       "</table>\n",
       "only showing top 20 rows\n"
      ],
      "text/plain": [
       "+--------------------+--------------------+\n",
       "|               merch|               score|\n",
       "+--------------------+--------------------+\n",
       "|       A Aliquet Ltd|  1.7056672760511884|\n",
       "|   A Arcu Industries|   4.206581352833638|\n",
       "|  A Arcu Sed Company|  2.1352833638025595|\n",
       "|A Arcu Sed Corpor...| 0.03290676416819013|\n",
       "|        A Associates| 0.12614259597806216|\n",
       "|A Auctor Non Corp...|   19.36197440585009|\n",
       "|A Auctor Non Inst...|   1.323583180987203|\n",
       "|           A Company|0.025594149908592323|\n",
       "|        A Consulting|  0.2303473491773309|\n",
       "|             A Corp.|   8.186471663619743|\n",
       "|       A Corporation| 0.08043875685557587|\n",
       "|     A Dui Institute|   5.312614259597806|\n",
       "|    A Enim Institute|  1.2614259597806217|\n",
       "| A Facilisis Limited|   1.663619744058501|\n",
       "|A Facilisis Non Inc.|0.016453382084095063|\n",
       "|      A Facilisis PC|   21.62340036563071|\n",
       "|     A Felis Company|  0.1206581352833638|\n",
       "|A Felis Ullamcorp...|  1.9945155393053016|\n",
       "|A Felis Ullamcorp...|  10.279707495429616|\n",
       "|A Felis Ullamcorp...|  0.2870201096892139|\n",
       "+--------------------+--------------------+\n",
       "only showing top 20 rows"
      ]
     },
     "execution_count": 84,
     "metadata": {},
     "output_type": "execute_result"
    }
   ],
   "source": [
    "transact"
   ]
  },
  {
   "cell_type": "code",
   "execution_count": 85,
   "metadata": {},
   "outputs": [
    {
     "name": "stderr",
     "output_type": "stream",
     "text": [
      "                                                                                \r"
     ]
    },
    {
     "data": {
      "text/html": [
       "<table border='1'>\n",
       "<tr><th>merchant_name</th><th>category</th><th>fraud</th></tr>\n",
       "<tr><td>Risus Odio Auctor...</td><td>fashion and acces...</td><td>0.993423329871928</td></tr>\n",
       "<tr><td>Sodales Mauris Co...</td><td>fashion and acces...</td><td>0.9972972972972973</td></tr>\n",
       "<tr><td>Accumsan Convalli...</td><td>books and music</td><td>0.994937563280459</td></tr>\n",
       "<tr><td>Aliquam Auctor Ve...</td><td>outdoors</td><td>0.9945553539019963</td></tr>\n",
       "<tr><td>Lobortis Risus LLP</td><td>outdoors</td><td>0.9951456310679612</td></tr>\n",
       "<tr><td>Pellentesque Indu...</td><td>outdoors</td><td>0.9926739926739927</td></tr>\n",
       "<tr><td>Vestibulum Mauris...</td><td>home and technology</td><td>0.6272040302267002</td></tr>\n",
       "<tr><td>Sit LLP</td><td>art and gifts</td><td>0.9919743178170144</td></tr>\n",
       "<tr><td>Luctus Institute</td><td>books and music</td><td>0.95</td></tr>\n",
       "<tr><td>Curabitur Massa LLC</td><td>outdoors</td><td>0.9845559845559846</td></tr>\n",
       "<tr><td>Maecenas Iaculis ...</td><td>home and technology</td><td>0.9961240310077519</td></tr>\n",
       "<tr><td>Sagittis Semper N...</td><td>books and music</td><td>0.7899159663865546</td></tr>\n",
       "<tr><td>Ac Mattis Velit LLP</td><td>home and technology</td><td>0.9487179487179487</td></tr>\n",
       "<tr><td>Congue A Aliquet LLC</td><td>books and music</td><td>0.9846153846153847</td></tr>\n",
       "<tr><td>Ullamcorper Velit...</td><td>outdoors</td><td>0.9975757575757576</td></tr>\n",
       "<tr><td>Morbi Neque Inc.</td><td>home and technology</td><td>0.9936491714723702</td></tr>\n",
       "<tr><td>Lacus Etiam Inc.</td><td>art and gifts</td><td>1.0</td></tr>\n",
       "<tr><td>Ultricies Ltd</td><td>outdoors</td><td>0.9953810623556582</td></tr>\n",
       "<tr><td>Pede Et LLC</td><td>home and technology</td><td>0.689795918367347</td></tr>\n",
       "<tr><td>Risus Morbi LLC</td><td>books and music</td><td>0.9821428571428571</td></tr>\n",
       "</table>\n",
       "only showing top 20 rows\n"
      ],
      "text/plain": [
       "+--------------------+--------------------+------------------+\n",
       "|       merchant_name|            category|             fraud|\n",
       "+--------------------+--------------------+------------------+\n",
       "|Risus Odio Auctor...|fashion and acces...| 0.993423329871928|\n",
       "|Sodales Mauris Co...|fashion and acces...|0.9972972972972973|\n",
       "|Accumsan Convalli...|     books and music| 0.994937563280459|\n",
       "|Aliquam Auctor Ve...|            outdoors|0.9945553539019963|\n",
       "|  Lobortis Risus LLP|            outdoors|0.9951456310679612|\n",
       "|Pellentesque Indu...|            outdoors|0.9926739926739927|\n",
       "|Vestibulum Mauris...| home and technology|0.6272040302267002|\n",
       "|             Sit LLP|       art and gifts|0.9919743178170144|\n",
       "|    Luctus Institute|     books and music|              0.95|\n",
       "| Curabitur Massa LLC|            outdoors|0.9845559845559846|\n",
       "|Maecenas Iaculis ...| home and technology|0.9961240310077519|\n",
       "|Sagittis Semper N...|     books and music|0.7899159663865546|\n",
       "| Ac Mattis Velit LLP| home and technology|0.9487179487179487|\n",
       "|Congue A Aliquet LLC|     books and music|0.9846153846153847|\n",
       "|Ullamcorper Velit...|            outdoors|0.9975757575757576|\n",
       "|    Morbi Neque Inc.| home and technology|0.9936491714723702|\n",
       "|    Lacus Etiam Inc.|       art and gifts|               1.0|\n",
       "|       Ultricies Ltd|            outdoors|0.9953810623556582|\n",
       "|         Pede Et LLC| home and technology| 0.689795918367347|\n",
       "|     Risus Morbi LLC|     books and music|0.9821428571428571|\n",
       "+--------------------+--------------------+------------------+\n",
       "only showing top 20 rows"
      ]
     },
     "execution_count": 85,
     "metadata": {},
     "output_type": "execute_result"
    }
   ],
   "source": [
    "fraud = fraud.groupBy(\"merchant_name\", \"category\").agg(F.mean(\"fraud_group\"))\n",
    "fraud = fraud.select(\"merchant_name\", \"category\", F.col(\"avg(fraud_group)\").alias(\"fraud\"))\n",
    "fraud = fraud.withColumn(\"fraud_score\", 1 - F.col(\"fraud\")).drop(\"fraud\").withColumnRenamed(\"fraud_score\", \"fraud\")\n",
    "fraud"
   ]
  },
  {
   "cell_type": "code",
   "execution_count": 86,
   "metadata": {},
   "outputs": [
    {
     "data": {
      "text/html": [
       "<table border='1'>\n",
       "<tr><th>merchant_name</th><th>category</th><th>fraud</th><th>transact</th><th>score</th></tr>\n",
       "<tr><td>Risus Odio Auctor...</td><td>fashion and acces...</td><td>0.993423329871928</td><td>8.86837294332724</td><td>8.810048579906258</td></tr>\n",
       "<tr><td>Sodales Mauris Co...</td><td>fashion and acces...</td><td>0.9972972972972973</td><td>2.2413162705667276</td><td>2.2352586590246553</td></tr>\n",
       "<tr><td>Accumsan Convalli...</td><td>books and music</td><td>0.994937563280459</td><td>17.97074954296161</td><td>17.879773760597647</td></tr>\n",
       "<tr><td>Aliquam Auctor Ve...</td><td>outdoors</td><td>0.9945553539019963</td><td>1.6837294332723949</td><td>1.6745621223834344</td></tr>\n",
       "<tr><td>Lobortis Risus LLP</td><td>outdoors</td><td>0.9951456310679612</td><td>1.2321755027422303</td><td>1.2261940682628991</td></tr>\n",
       "<tr><td>Pellentesque Indu...</td><td>outdoors</td><td>0.9926739926739927</td><td>0.4149908592321755</td><td>0.41195063315721453</td></tr>\n",
       "<tr><td>Vestibulum Mauris...</td><td>home and technology</td><td>0.6272040302267002</td><td>0.5923217550274223</td><td>0.37150659194415153</td></tr>\n",
       "<tr><td>Sit LLP</td><td>art and gifts</td><td>0.9919743178170144</td><td>1.9378427787934187</td><td>1.922290268530229</td></tr>\n",
       "<tr><td>Luctus Institute</td><td>books and music</td><td>0.95</td><td>0.0603290676416819</td><td>0.057312614259597806</td></tr>\n",
       "<tr><td>Curabitur Massa LLC</td><td>outdoors</td><td>0.9845559845559846</td><td>0.4076782449725777</td><td>0.4013820558610321</td></tr>\n",
       "<tr><td>Maecenas Iaculis ...</td><td>home and technology</td><td>0.9961240310077519</td><td>0.7696526508226691</td><td>0.7666695010132789</td></tr>\n",
       "<tr><td>Sagittis Semper N...</td><td>books and music</td><td>0.7899159663865546</td><td>0.16819012797074953</td><td>0.1328560674726929</td></tr>\n",
       "<tr><td>Ac Mattis Velit LLP</td><td>home and technology</td><td>0.9487179487179487</td><td>0.0603290676416819</td><td>0.05723526930108283</td></tr>\n",
       "<tr><td>Congue A Aliquet LLC</td><td>books and music</td><td>0.9846153846153847</td><td>0.19378427787934185</td><td>0.19080298129658277</td></tr>\n",
       "<tr><td>Ullamcorper Velit...</td><td>outdoors</td><td>0.9975757575757576</td><td>1.2815356489945156</td><td>1.278428895906044</td></tr>\n",
       "<tr><td>Morbi Neque Inc.</td><td>home and technology</td><td>0.9936491714723702</td><td>20.755027422303474</td><td>20.62321580205817</td></tr>\n",
       "<tr><td>Lacus Etiam Inc.</td><td>art and gifts</td><td>1.0</td><td>0.09689213893967093</td><td>0.09689213893967093</td></tr>\n",
       "<tr><td>Ultricies Ltd</td><td>outdoors</td><td>0.9953810623556582</td><td>1.9506398537477148</td><td>1.941629969896686</td></tr>\n",
       "<tr><td>Pede Et LLC</td><td>home and technology</td><td>0.689795918367347</td><td>0.37477148080438755</td><td>0.25851583777935305</td></tr>\n",
       "<tr><td>Risus Morbi LLC</td><td>books and music</td><td>0.9821428571428571</td><td>0.1773308957952468</td><td>0.17416427265604595</td></tr>\n",
       "</table>\n",
       "only showing top 20 rows\n"
      ],
      "text/plain": [
       "+--------------------+--------------------+------------------+-------------------+--------------------+\n",
       "|       merchant_name|            category|             fraud|           transact|               score|\n",
       "+--------------------+--------------------+------------------+-------------------+--------------------+\n",
       "|Risus Odio Auctor...|fashion and acces...| 0.993423329871928|   8.86837294332724|   8.810048579906258|\n",
       "|Sodales Mauris Co...|fashion and acces...|0.9972972972972973| 2.2413162705667276|  2.2352586590246553|\n",
       "|Accumsan Convalli...|     books and music| 0.994937563280459|  17.97074954296161|  17.879773760597647|\n",
       "|Aliquam Auctor Ve...|            outdoors|0.9945553539019963| 1.6837294332723949|  1.6745621223834344|\n",
       "|  Lobortis Risus LLP|            outdoors|0.9951456310679612| 1.2321755027422303|  1.2261940682628991|\n",
       "|Pellentesque Indu...|            outdoors|0.9926739926739927| 0.4149908592321755| 0.41195063315721453|\n",
       "|Vestibulum Mauris...| home and technology|0.6272040302267002| 0.5923217550274223| 0.37150659194415153|\n",
       "|             Sit LLP|       art and gifts|0.9919743178170144| 1.9378427787934187|   1.922290268530229|\n",
       "|    Luctus Institute|     books and music|              0.95| 0.0603290676416819|0.057312614259597806|\n",
       "| Curabitur Massa LLC|            outdoors|0.9845559845559846| 0.4076782449725777|  0.4013820558610321|\n",
       "|Maecenas Iaculis ...| home and technology|0.9961240310077519| 0.7696526508226691|  0.7666695010132789|\n",
       "|Sagittis Semper N...|     books and music|0.7899159663865546|0.16819012797074953|  0.1328560674726929|\n",
       "| Ac Mattis Velit LLP| home and technology|0.9487179487179487| 0.0603290676416819| 0.05723526930108283|\n",
       "|Congue A Aliquet LLC|     books and music|0.9846153846153847|0.19378427787934185| 0.19080298129658277|\n",
       "|Ullamcorper Velit...|            outdoors|0.9975757575757576| 1.2815356489945156|   1.278428895906044|\n",
       "|    Morbi Neque Inc.| home and technology|0.9936491714723702| 20.755027422303474|   20.62321580205817|\n",
       "|    Lacus Etiam Inc.|       art and gifts|               1.0|0.09689213893967093| 0.09689213893967093|\n",
       "|       Ultricies Ltd|            outdoors|0.9953810623556582| 1.9506398537477148|   1.941629969896686|\n",
       "|         Pede Et LLC| home and technology| 0.689795918367347|0.37477148080438755| 0.25851583777935305|\n",
       "|     Risus Morbi LLC|     books and music|0.9821428571428571| 0.1773308957952468| 0.17416427265604595|\n",
       "+--------------------+--------------------+------------------+-------------------+--------------------+\n",
       "only showing top 20 rows"
      ]
     },
     "execution_count": 86,
     "metadata": {},
     "output_type": "execute_result"
    }
   ],
   "source": [
    "join = fraud.join(transact, fraud.merchant_name == transact.merch).drop(\"merch\").withColumnRenamed(\"score\", \"transact\")\n",
    "join = join.withColumn(\"score\", F.col(\"fraud\") * F.col(\"transact\"))\n",
    "join"
   ]
  },
  {
   "cell_type": "code",
   "execution_count": 87,
   "metadata": {},
   "outputs": [
    {
     "data": {
      "text/plain": [
       "['outdoors',\n",
       " 'home and technology',\n",
       " 'fashion and accessories',\n",
       " 'books and music',\n",
       " 'art and gifts']"
      ]
     },
     "execution_count": 87,
     "metadata": {},
     "output_type": "execute_result"
    }
   ],
   "source": [
    "cat = list(join.select(\"category\").distinct().toPandas()[\"category\"])\n",
    "cat"
   ]
  },
  {
   "cell_type": "code",
   "execution_count": 88,
   "metadata": {},
   "outputs": [
    {
     "data": {
      "text/html": [
       "<table border='1'>\n",
       "<tr><th>merchant_name</th><th>category</th><th>fraud</th><th>transact</th><th>score</th></tr>\n",
       "<tr><td>Erat Vitae LLP</td><td>outdoors</td><td>0.9941454012904295</td><td>440.54478976234003</td><td>437.9655768046894</td></tr>\n",
       "<tr><td>Pede Nonummy Corp.</td><td>outdoors</td><td>0.9944359443364356</td><td>396.8976234003656</td><td>394.68926293102953</td></tr>\n",
       "<tr><td>Non Vestibulum In...</td><td>outdoors</td><td>0.994485427793444</td><td>377.34917733089577</td><td>375.26825804542</td></tr>\n",
       "<tr><td>Est Nunc Consulting</td><td>outdoors</td><td>0.9941842697461637</td><td>328.6563071297989</td><td>326.74493070131</td></tr>\n",
       "<tr><td>Lorem Ipsum Sodal...</td><td>outdoors</td><td>0.9942861409053579</td><td>306.15722120658137</td><td>304.4078819837998</td></tr>\n",
       "<tr><td>Euismod Urna Inst...</td><td>outdoors</td><td>0.9944866313572841</td><td>119.21206581352834</td><td>118.55480574803865</td></tr>\n",
       "<tr><td>Rhoncus Donec Ass...</td><td>outdoors</td><td>0.9948346955845452</td><td>103.43144424131627</td><td>102.89718934567973</td></tr>\n",
       "<tr><td>Dui Nec Corporation</td><td>outdoors</td><td>0.9940193153962019</td><td>103.3473491773309</td><td>102.7292612772627</td></tr>\n",
       "<tr><td>Porttitor Tellus ...</td><td>outdoors</td><td>0.9942621240573489</td><td>102.02925045703839</td><td>101.44381927539422</td></tr>\n",
       "<tr><td>Eget Metus In Cor...</td><td>outdoors</td><td>0.994040853939487</td><td>99.28153564899452</td><td>98.68990247695014</td></tr>\n",
       "</table>\n"
      ],
      "text/plain": [
       "+--------------------+--------+------------------+------------------+------------------+\n",
       "|       merchant_name|category|             fraud|          transact|             score|\n",
       "+--------------------+--------+------------------+------------------+------------------+\n",
       "|      Erat Vitae LLP|outdoors|0.9941454012904295|440.54478976234003| 437.9655768046894|\n",
       "|  Pede Nonummy Corp.|outdoors|0.9944359443364356| 396.8976234003656|394.68926293102953|\n",
       "|Non Vestibulum In...|outdoors| 0.994485427793444|377.34917733089577|   375.26825804542|\n",
       "| Est Nunc Consulting|outdoors|0.9941842697461637| 328.6563071297989|   326.74493070131|\n",
       "|Lorem Ipsum Sodal...|outdoors|0.9942861409053579|306.15722120658137| 304.4078819837998|\n",
       "|Euismod Urna Inst...|outdoors|0.9944866313572841|119.21206581352834|118.55480574803865|\n",
       "|Rhoncus Donec Ass...|outdoors|0.9948346955845452|103.43144424131627|102.89718934567973|\n",
       "| Dui Nec Corporation|outdoors|0.9940193153962019| 103.3473491773309| 102.7292612772627|\n",
       "|Porttitor Tellus ...|outdoors|0.9942621240573489|102.02925045703839|101.44381927539422|\n",
       "|Eget Metus In Cor...|outdoors| 0.994040853939487| 99.28153564899452| 98.68990247695014|\n",
       "+--------------------+--------+------------------+------------------+------------------+"
      ]
     },
     "execution_count": 88,
     "metadata": {},
     "output_type": "execute_result"
    }
   ],
   "source": [
    "outdoors = join.filter(F.col(\"category\") == \"outdoors\")\n",
    "outdoors.sort(desc(\"score\")).limit(10)"
   ]
  },
  {
   "cell_type": "code",
   "execution_count": 89,
   "metadata": {},
   "outputs": [
    {
     "data": {
      "text/html": [
       "<table border='1'>\n",
       "<tr><th>merchant_name</th><th>category</th><th>fraud</th><th>transact</th><th>score</th></tr>\n",
       "<tr><td>Placerat Eget Ven...</td><td>home and technology</td><td>0.9942652052249124</td><td>275.57404021937845</td><td>273.99367965337854</td></tr>\n",
       "<tr><td>Mauris Non Institute</td><td>home and technology</td><td>0.9941721173534946</td><td>183.78427787934186</td><td>182.71320467558832</td></tr>\n",
       "<tr><td>Interdum Feugiat ...</td><td>home and technology</td><td>0.9925698625907056</td><td>78.96709323583181</td><td>78.38035688227701</td></tr>\n",
       "<tr><td>Vel Est Tempor LLP</td><td>home and technology</td><td>0.9944164005356959</td><td>73.92870201096892</td><td>73.51591375002377</td></tr>\n",
       "<tr><td>Eget Laoreet Posu...</td><td>home and technology</td><td>0.9935382121656846</td><td>69.56672760511883</td><td>69.11720217100694</td></tr>\n",
       "<tr><td>Phasellus At Limited</td><td>home and technology</td><td>0.9938053503418529</td><td>66.22120658135283</td><td>65.81098940664157</td></tr>\n",
       "<tr><td>Libero Et Limited</td><td>home and technology</td><td>0.9933189046767668</td><td>64.81901279707495</td><td>64.38595079381982</td></tr>\n",
       "<tr><td>Amet Consulting</td><td>home and technology</td><td>0.9939879759519038</td><td>64.53016453382084</td><td>64.1422076328159</td></tr>\n",
       "<tr><td>Arcu Sed Eu Incor...</td><td>home and technology</td><td>0.9935764117414769</td><td>58.29798903107861</td><td>57.92350675324307</td></tr>\n",
       "<tr><td>Eleifend PC</td><td>home and technology</td><td>0.9941151408638228</td><td>57.44424131627056</td><td>57.10619004793974</td></tr>\n",
       "<tr><td>Phasellus Dapibus...</td><td>home and technology</td><td>0.9932937617715883</td><td>53.45338208409506</td><td>53.09491096972481</td></tr>\n",
       "<tr><td>Posuere Cubilia C...</td><td>home and technology</td><td>0.9939824783929677</td><td>51.623400365630715</td><td>51.31275543850205</td></tr>\n",
       "<tr><td>At Sem Corp.</td><td>home and technology</td><td>0.9936196980589505</td><td>50.80987202925046</td><td>50.48568970411775</td></tr>\n",
       "<tr><td>Eu Placerat LLC</td><td>home and technology</td><td>0.9934296558543042</td><td>47.89579524680073</td><td>47.58110338889747</td></tr>\n",
       "<tr><td>Neque Sed Dictum ...</td><td>home and technology</td><td>0.9926386554621849</td><td>45.46617915904936</td><td>45.131486949441566</td></tr>\n",
       "<tr><td>Suspendisse Incor...</td><td>home and technology</td><td>0.9938450398262129</td><td>42.13528336380256</td><td>41.875942372787115</td></tr>\n",
       "<tr><td>Diam At Foundation</td><td>home and technology</td><td>0.9936492427943332</td><td>40.62522851919561</td><td>40.367227556445464</td></tr>\n",
       "<tr><td>Nunc Sit LLC</td><td>home and technology</td><td>0.9944536051566482</td><td>40.53199268738574</td><td>40.30718625215365</td></tr>\n",
       "<tr><td>Quisque Fringilla...</td><td>home and technology</td><td>0.9948289730723561</td><td>39.81718464351005</td><td>39.611288909535496</td></tr>\n",
       "<tr><td>Eu LLC</td><td>home and technology</td><td>0.9945709902041779</td><td>38.910420475319924</td><td>38.69917542139986</td></tr>\n",
       "</table>\n",
       "only showing top 20 rows\n"
      ],
      "text/plain": [
       "+--------------------+-------------------+------------------+------------------+------------------+\n",
       "|       merchant_name|           category|             fraud|          transact|             score|\n",
       "+--------------------+-------------------+------------------+------------------+------------------+\n",
       "|Placerat Eget Ven...|home and technology|0.9942652052249124|275.57404021937845|273.99367965337854|\n",
       "|Mauris Non Institute|home and technology|0.9941721173534946|183.78427787934186|182.71320467558832|\n",
       "|Interdum Feugiat ...|home and technology|0.9925698625907056| 78.96709323583181| 78.38035688227701|\n",
       "|  Vel Est Tempor LLP|home and technology|0.9944164005356959| 73.92870201096892| 73.51591375002377|\n",
       "|Eget Laoreet Posu...|home and technology|0.9935382121656846| 69.56672760511883| 69.11720217100694|\n",
       "|Phasellus At Limited|home and technology|0.9938053503418529| 66.22120658135283| 65.81098940664157|\n",
       "|   Libero Et Limited|home and technology|0.9933189046767668| 64.81901279707495| 64.38595079381982|\n",
       "|     Amet Consulting|home and technology|0.9939879759519038| 64.53016453382084|  64.1422076328159|\n",
       "|Arcu Sed Eu Incor...|home and technology|0.9935764117414769| 58.29798903107861| 57.92350675324307|\n",
       "|         Eleifend PC|home and technology|0.9941151408638228| 57.44424131627056| 57.10619004793974|\n",
       "|Phasellus Dapibus...|home and technology|0.9932937617715883| 53.45338208409506| 53.09491096972481|\n",
       "|Posuere Cubilia C...|home and technology|0.9939824783929677|51.623400365630715| 51.31275543850205|\n",
       "|        At Sem Corp.|home and technology|0.9936196980589505| 50.80987202925046| 50.48568970411775|\n",
       "|     Eu Placerat LLC|home and technology|0.9934296558543042| 47.89579524680073| 47.58110338889747|\n",
       "|Neque Sed Dictum ...|home and technology|0.9926386554621849| 45.46617915904936|45.131486949441566|\n",
       "|Suspendisse Incor...|home and technology|0.9938450398262129| 42.13528336380256|41.875942372787115|\n",
       "|  Diam At Foundation|home and technology|0.9936492427943332| 40.62522851919561|40.367227556445464|\n",
       "|        Nunc Sit LLC|home and technology|0.9944536051566482| 40.53199268738574| 40.30718625215365|\n",
       "|Quisque Fringilla...|home and technology|0.9948289730723561| 39.81718464351005|39.611288909535496|\n",
       "|              Eu LLC|home and technology|0.9945709902041779|38.910420475319924| 38.69917542139986|\n",
       "+--------------------+-------------------+------------------+------------------+------------------+\n",
       "only showing top 20 rows"
      ]
     },
     "execution_count": 89,
     "metadata": {},
     "output_type": "execute_result"
    }
   ],
   "source": [
    "home = join.filter(F.col(\"category\") == \"home and technology\")\n",
    "home.sort(desc(\"score\"))"
   ]
  },
  {
   "cell_type": "code",
   "execution_count": 90,
   "metadata": {},
   "outputs": [
    {
     "data": {
      "text/html": [
       "<table border='1'>\n",
       "<tr><th>merchant_name</th><th>category</th><th>fraud</th><th>transact</th><th>score</th></tr>\n",
       "<tr><td>Leo In Consulting</td><td>fashion and acces...</td><td>0.9941873044862274</td><td>415.47897623400365</td><td>413.0639234527814</td></tr>\n",
       "<tr><td>Suspendisse Dui C...</td><td>fashion and acces...</td><td>0.9944462217672276</td><td>356.89945155393053</td><td>354.9173111486019</td></tr>\n",
       "<tr><td>Dignissim Maecena...</td><td>fashion and acces...</td><td>0.9940244141065973</td><td>101.54844606946983</td><td>100.94163460764014</td></tr>\n",
       "<tr><td>Gravida Mauris In...</td><td>fashion and acces...</td><td>0.9934301787916153</td><td>79.22303473491773</td><td>78.70255356112368</td></tr>\n",
       "<tr><td>Euismod Et Institute</td><td>fashion and acces...</td><td>0.9934775299787068</td><td>68.25045703839122</td><td>67.80529547841874</td></tr>\n",
       "<tr><td>Tellus Id LLC</td><td>fashion and acces...</td><td>0.9938012352610893</td><td>67.38574040219379</td><td>66.96803205068328</td></tr>\n",
       "<tr><td>Ultricies Sem Lim...</td><td>fashion and acces...</td><td>0.994281753595564</td><td>61.76782449725777</td><td>61.41462085691649</td></tr>\n",
       "<tr><td>Iaculis LLC</td><td>fashion and acces...</td><td>0.9937021362353889</td><td>60.57221206581353</td><td>60.190736526301905</td></tr>\n",
       "<tr><td>Euismod Enim LLC</td><td>fashion and acces...</td><td>0.9944288929139908</td><td>55.35100548446069</td><td>55.042639105588485</td></tr>\n",
       "<tr><td>Ipsum Primis Asso...</td><td>fashion and acces...</td><td>0.9944759906184422</td><td>49.50091407678245</td><td>49.227470563026614</td></tr>\n",
       "</table>\n"
      ],
      "text/plain": [
       "+--------------------+--------------------+------------------+------------------+------------------+\n",
       "|       merchant_name|            category|             fraud|          transact|             score|\n",
       "+--------------------+--------------------+------------------+------------------+------------------+\n",
       "|   Leo In Consulting|fashion and acces...|0.9941873044862274|415.47897623400365| 413.0639234527814|\n",
       "|Suspendisse Dui C...|fashion and acces...|0.9944462217672276|356.89945155393053| 354.9173111486019|\n",
       "|Dignissim Maecena...|fashion and acces...|0.9940244141065973|101.54844606946983|100.94163460764014|\n",
       "|Gravida Mauris In...|fashion and acces...|0.9934301787916153| 79.22303473491773| 78.70255356112368|\n",
       "|Euismod Et Institute|fashion and acces...|0.9934775299787068| 68.25045703839122| 67.80529547841874|\n",
       "|       Tellus Id LLC|fashion and acces...|0.9938012352610893| 67.38574040219379| 66.96803205068328|\n",
       "|Ultricies Sem Lim...|fashion and acces...| 0.994281753595564| 61.76782449725777| 61.41462085691649|\n",
       "|         Iaculis LLC|fashion and acces...|0.9937021362353889| 60.57221206581353|60.190736526301905|\n",
       "|    Euismod Enim LLC|fashion and acces...|0.9944288929139908| 55.35100548446069|55.042639105588485|\n",
       "|Ipsum Primis Asso...|fashion and acces...|0.9944759906184422| 49.50091407678245|49.227470563026614|\n",
       "+--------------------+--------------------+------------------+------------------+------------------+"
      ]
     },
     "execution_count": 90,
     "metadata": {},
     "output_type": "execute_result"
    }
   ],
   "source": [
    "fashion = join.filter(F.col(\"category\") == \"fashion and accessories\")\n",
    "fashion.sort(desc(\"score\")).limit(10)"
   ]
  },
  {
   "cell_type": "code",
   "execution_count": 91,
   "metadata": {},
   "outputs": [
    {
     "data": {
      "text/html": [
       "<table border='1'>\n",
       "<tr><th>merchant_name</th><th>category</th><th>fraud</th><th>transact</th><th>score</th></tr>\n",
       "<tr><td>Lobortis Ultrices...</td><td>books and music</td><td>0.9935354887575633</td><td>172.9908592321755</td><td>171.8725578778303</td></tr>\n",
       "<tr><td>Nullam Consulting</td><td>books and music</td><td>0.9942725781257675</td><td>155.42413162705668</td><td>154.5339520557923</td></tr>\n",
       "<tr><td>Suspendisse Ac As...</td><td>books and music</td><td>0.9942116060961314</td><td>104.06398537477148</td><td>103.46162203621587</td></tr>\n",
       "<tr><td>Ornare Fusce Inc.</td><td>books and music</td><td>0.9941222785783604</td><td>83.27056672760511</td><td>82.7811255337582</td></tr>\n",
       "<tr><td>Eros Limited</td><td>books and music</td><td>0.9934677700508266</td><td>83.308957952468</td><td>82.76476468229647</td></tr>\n",
       "<tr><td>Euismod In Corp.</td><td>books and music</td><td>0.993442987330518</td><td>68.29433272394881</td><td>67.84652591902406</td></tr>\n",
       "<tr><td>Feugiat Sed Nec I...</td><td>books and music</td><td>0.993625994440717</td><td>63.48628884826326</td><td>63.08162689020618</td></tr>\n",
       "<tr><td>Ac Eleifend Corp.</td><td>books and music</td><td>0.9935133194882445</td><td>59.341864716636195</td><td>58.95693299924756</td></tr>\n",
       "<tr><td>Vitae Odio Limited</td><td>books and music</td><td>0.9935686015831134</td><td>55.3382084095064</td><td>54.98230634354816</td></tr>\n",
       "<tr><td>Et Nunc Consulting</td><td>books and music</td><td>0.9932967702620353</td><td>52.49725776965265</td><td>52.145356590209516</td></tr>\n",
       "</table>\n"
      ],
      "text/plain": [
       "+--------------------+---------------+------------------+------------------+------------------+\n",
       "|       merchant_name|       category|             fraud|          transact|             score|\n",
       "+--------------------+---------------+------------------+------------------+------------------+\n",
       "|Lobortis Ultrices...|books and music|0.9935354887575633| 172.9908592321755| 171.8725578778303|\n",
       "|   Nullam Consulting|books and music|0.9942725781257675|155.42413162705668| 154.5339520557923|\n",
       "|Suspendisse Ac As...|books and music|0.9942116060961314|104.06398537477148|103.46162203621587|\n",
       "|   Ornare Fusce Inc.|books and music|0.9941222785783604| 83.27056672760511|  82.7811255337582|\n",
       "|        Eros Limited|books and music|0.9934677700508266|   83.308957952468| 82.76476468229647|\n",
       "|    Euismod In Corp.|books and music| 0.993442987330518| 68.29433272394881| 67.84652591902406|\n",
       "|Feugiat Sed Nec I...|books and music| 0.993625994440717| 63.48628884826326| 63.08162689020618|\n",
       "|   Ac Eleifend Corp.|books and music|0.9935133194882445|59.341864716636195| 58.95693299924756|\n",
       "|  Vitae Odio Limited|books and music|0.9935686015831134|  55.3382084095064| 54.98230634354816|\n",
       "|  Et Nunc Consulting|books and music|0.9932967702620353| 52.49725776965265|52.145356590209516|\n",
       "+--------------------+---------------+------------------+------------------+------------------+"
      ]
     },
     "execution_count": 91,
     "metadata": {},
     "output_type": "execute_result"
    }
   ],
   "source": [
    "books = join.filter(F.col(\"category\") == \"books and music\")\n",
    "books.sort(desc(\"score\")).limit(10)"
   ]
  },
  {
   "cell_type": "code",
   "execution_count": 92,
   "metadata": {},
   "outputs": [
    {
     "data": {
      "text/html": [
       "<table border='1'>\n",
       "<tr><th>merchant_name</th><th>category</th><th>fraud</th><th>transact</th><th>score</th></tr>\n",
       "<tr><td>Lacus Consulting</td><td>art and gifts</td><td>0.994663956295261</td><td>347.9232175502742</td><td>346.06668405553256</td></tr>\n",
       "<tr><td>Ipsum Dolor Sit C...</td><td>art and gifts</td><td>0.9947724039829303</td><td>299.87568555758685</td><td>298.30805661815</td></tr>\n",
       "<tr><td>Vehicula Pellente...</td><td>art and gifts</td><td>0.9942653236270866</td><td>277.2870201096892</td><td>275.69686878695063</td></tr>\n",
       "<tr><td>Dictum Phasellus ...</td><td>art and gifts</td><td>0.9942123094297007</td><td>151.20475319926874</td><td>150.3296268749929</td></tr>\n",
       "<tr><td>Phasellus At Company</td><td>art and gifts</td><td>0.9938221837018524</td><td>151.09140767824496</td><td>150.15799271738024</td></tr>\n",
       "<tr><td>Ultricies Digniss...</td><td>art and gifts</td><td>0.9941348973607038</td><td>138.3473491773309</td><td>137.5359277745313</td></tr>\n",
       "<tr><td>Orci In Consequat...</td><td>art and gifts</td><td>0.9943694481359726</td><td>130.80073126142597</td><td>130.0642509602058</td></tr>\n",
       "<tr><td>Faucibus Leo Ltd</td><td>art and gifts</td><td>0.9940760406553999</td><td>76.77879341864717</td><td>76.32395896790766</td></tr>\n",
       "<tr><td>Tristique Pellent...</td><td>art and gifts</td><td>0.993088071348941</td><td>54.60511882998172</td><td>54.227692144646284</td></tr>\n",
       "<tr><td>Id Erat Etiam Con...</td><td>art and gifts</td><td>0.9939752315073078</td><td>54.40585009140768</td><td>54.07806743995883</td></tr>\n",
       "</table>\n"
      ],
      "text/plain": [
       "+--------------------+-------------+------------------+------------------+------------------+\n",
       "|       merchant_name|     category|             fraud|          transact|             score|\n",
       "+--------------------+-------------+------------------+------------------+------------------+\n",
       "|    Lacus Consulting|art and gifts| 0.994663956295261| 347.9232175502742|346.06668405553256|\n",
       "|Ipsum Dolor Sit C...|art and gifts|0.9947724039829303|299.87568555758685|   298.30805661815|\n",
       "|Vehicula Pellente...|art and gifts|0.9942653236270866| 277.2870201096892|275.69686878695063|\n",
       "|Dictum Phasellus ...|art and gifts|0.9942123094297007|151.20475319926874| 150.3296268749929|\n",
       "|Phasellus At Company|art and gifts|0.9938221837018524|151.09140767824496|150.15799271738024|\n",
       "|Ultricies Digniss...|art and gifts|0.9941348973607038| 138.3473491773309| 137.5359277745313|\n",
       "|Orci In Consequat...|art and gifts|0.9943694481359726|130.80073126142597| 130.0642509602058|\n",
       "|    Faucibus Leo Ltd|art and gifts|0.9940760406553999| 76.77879341864717| 76.32395896790766|\n",
       "|Tristique Pellent...|art and gifts| 0.993088071348941| 54.60511882998172|54.227692144646284|\n",
       "|Id Erat Etiam Con...|art and gifts|0.9939752315073078| 54.40585009140768| 54.07806743995883|\n",
       "+--------------------+-------------+------------------+------------------+------------------+"
      ]
     },
     "execution_count": 92,
     "metadata": {},
     "output_type": "execute_result"
    }
   ],
   "source": [
    "art = join.filter(F.col(\"category\") == \"art and gifts\")\n",
    "art.sort(desc(\"score\")).limit(10)"
   ]
  }
 ],
 "metadata": {
  "kernelspec": {
   "display_name": "Python 3.9.12 ('base')",
   "language": "python",
   "name": "python3"
  },
  "language_info": {
   "codemirror_mode": {
    "name": "ipython",
    "version": 3
   },
   "file_extension": ".py",
   "mimetype": "text/x-python",
   "name": "python",
   "nbconvert_exporter": "python",
   "pygments_lexer": "ipython3",
   "version": "3.9.12"
  },
  "orig_nbformat": 4,
  "vscode": {
   "interpreter": {
    "hash": "d2d7e6728612c8fd54cbd36f1913daefb7c7ed6b16dd726696ef300fa27e75d7"
   }
  }
 },
 "nbformat": 4,
 "nbformat_minor": 2
}
