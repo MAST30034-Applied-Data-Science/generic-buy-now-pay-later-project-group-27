{
 "cells": [
  {
   "cell_type": "code",
   "execution_count": null,
   "metadata": {},
   "outputs": [],
   "source": [
    "import numpy as np\n",
    "import scipy as sp\n",
    "import pandas as pd\n",
    "import seaborn as sns\n",
    "import matplotlib.pyplot as plt\n",
    "import geopandas as gpd"
   ]
  },
  {
   "cell_type": "code",
   "execution_count": null,
   "metadata": {},
   "outputs": [],
   "source": [
    "sf = gpd.read_file(\"../data/ABS/SA2 shapefile/SA2_2021_AUST_GDA2020.shp\")\n",
    "sf = sf.drop(2472)\n",
    "sf"
   ]
  },
  {
   "cell_type": "code",
   "execution_count": null,
   "metadata": {},
   "outputs": [],
   "source": [
    "gdf = gpd.GeoDataFrame(sf)\n",
    "gdf['SA2_CODE21'] = gdf['SA2_CODE21'].astype('float')\n",
    "gdf.head()"
   ]
  },
  {
   "cell_type": "code",
   "execution_count": null,
   "metadata": {},
   "outputs": [],
   "source": [
    "# create a JSON \n",
    "geoJSON = gdf[['SA2_CODE21', 'geometry']].drop_duplicates('SA2_CODE21').to_json()"
   ]
  },
  {
   "cell_type": "code",
   "execution_count": null,
   "metadata": {},
   "outputs": [],
   "source": [
    "import folium"
   ]
  },
  {
   "cell_type": "markdown",
   "metadata": {},
   "source": [
    "<h2>1. Observe the distribution of population based on SA2</h2>"
   ]
  },
  {
   "cell_type": "code",
   "execution_count": null,
   "metadata": {},
   "outputs": [],
   "source": [
    "df = pd.read_csv('../data/curated/clean_population.csv')\n",
    "\n",
    "df_population = df[['sa2', '2021_population']]\n",
    "df_population = df_population[df_population['2021_population'] < 30000]\n",
    "df_population"
   ]
  },
  {
   "cell_type": "code",
   "execution_count": null,
   "metadata": {},
   "outputs": [],
   "source": [
    "_map = folium.Map(location=[25.2744, 133.7751], tiles=\"Stamen Terrain\", zoom_start=4)\n",
    "\n",
    "# refer to the folium documentations on more information on how to plot aggregated data.\n",
    "c = folium.Choropleth(\n",
    "    geo_data=geoJSON, # geoJSON \n",
    "    name='choropleth', # name of plot\n",
    "    data=df_population, # data source\n",
    "    columns=['sa2', '2021_population'], # the columns required\n",
    "    key_on='properties.SA2_CODE21', # this is from the geoJSON's properties\n",
    "    fill_color='YlOrRd', # color scheme\n",
    "    nan_fill_color='white',\n",
    "    legend_name='Population'\n",
    ")\n",
    "\n",
    "c.add_to(_map)\n",
    "_map"
   ]
  },
  {
   "cell_type": "markdown",
   "metadata": {},
   "source": [
    "<h2>2. Observe the distribution of personally income based on SA2</h2>"
   ]
  },
  {
   "cell_type": "code",
   "execution_count": null,
   "metadata": {},
   "outputs": [],
   "source": [
    "df_income = pd.read_csv(\"../data/curated/clean_annual.csv\")"
   ]
  },
  {
   "cell_type": "code",
   "execution_count": null,
   "metadata": {},
   "outputs": [],
   "source": [
    "df_income[\"sa2\"] = df_income[\"sa2\"].astype(int)"
   ]
  },
  {
   "cell_type": "code",
   "execution_count": null,
   "metadata": {},
   "outputs": [],
   "source": [
    "df_merge = df_income.merge(df_population, on='sa2', how='inner')\n",
    "df_merge = df_merge[df_merge[\"2021_population\"] != 0.0]\n",
    "df_merge"
   ]
  },
  {
   "cell_type": "code",
   "execution_count": null,
   "metadata": {},
   "outputs": [],
   "source": [
    "# 选择计算地区总年收入/总人口数\n",
    "df_merge['income_per_person'] = df_merge['income_sum'] / df_merge['2021_population']"
   ]
  },
  {
   "cell_type": "code",
   "execution_count": null,
   "metadata": {},
   "outputs": [],
   "source": [
    "df_merge = df_merge[df_merge[\"income_per_person\"] > 0]\n",
    "df_merge = df_merge[df_merge[\"income_per_person\"] < 80000]\n",
    "df_merge = df_merge[['sa2', 'income_per_person']]\n",
    "df_merge.describe()"
   ]
  },
  {
   "cell_type": "code",
   "execution_count": null,
   "metadata": {},
   "outputs": [],
   "source": [
    "_map = folium.Map(location=[25.2744, 133.7751], tiles=\"Stamen Terrain\", zoom_start=4)\n",
    "\n",
    "# refer to the folium documentations on more information on how to plot aggregated data.\n",
    "c = folium.Choropleth(\n",
    "    geo_data=geoJSON, # geoJSON \n",
    "    name='choropleth', # name of plot\n",
    "    data=df_merge, # data source\n",
    "    columns=['sa2', 'income_per_person'], # the columns required\n",
    "    key_on='properties.SA2_CODE21', # this is from the geoJSON's properties\n",
    "    fill_color='YlOrRd', # color scheme\n",
    "    nan_fill_color='white',\n",
    "    legend_name='Average Income'\n",
    ")\n",
    "\n",
    "c.add_to(_map)\n",
    "_map"
   ]
  }
 ],
 "metadata": {
  "kernelspec": {
   "display_name": "Python 3.9.12 64-bit",
   "language": "python",
   "name": "python3"
  },
  "language_info": {
   "codemirror_mode": {
    "name": "ipython",
    "version": 3
   },
   "file_extension": ".py",
   "mimetype": "text/x-python",
   "name": "python",
   "nbconvert_exporter": "python",
   "pygments_lexer": "ipython3",
   "version": "3.9.12"
  },
  "orig_nbformat": 4,
  "vscode": {
   "interpreter": {
    "hash": "949777d72b0d2535278d3dc13498b2535136f6dfe0678499012e853ee9abcab1"
   }
  }
 },
 "nbformat": 4,
 "nbformat_minor": 2
}
