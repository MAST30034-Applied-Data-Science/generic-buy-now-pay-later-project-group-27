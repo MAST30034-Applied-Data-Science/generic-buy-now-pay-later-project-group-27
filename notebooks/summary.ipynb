{
 "cells": [
  {
   "cell_type": "markdown",
   "metadata": {},
   "source": [
    "## Summary of the project"
   ]
  },
  {
   "cell_type": "markdown",
   "metadata": {},
   "source": [
    "\n",
    "<font color='#C6DEFF'><h2>1. Overview</h2></font> \n",
    "\n",
    "\n",
    "<font color='#98AFC7'><h3>Goal:</h3></font> \n",
    "The project is to built a ranking system for the merchants for BNPL company to partner up with.\n",
    "\n",
    "<font color='#98AFC7'><h3>Metrics: </h3></font> \n",
    "1. Credibility - Whether the transaction is fraud\n",
    "\n",
    "2. Predicted future Revenue \n",
    "\n",
    "3. Potential ability\n",
    "\n",
    "4. Stability - monthly based variance"
   ]
  },
  {
   "cell_type": "markdown",
   "metadata": {},
   "source": [
    "<font color='#C6DEFF'><h2>2. Preprocess</h2></font>\n",
    "\n",
    "<font color='#98AFC7'><h3>External data set:</h3></font> \n",
    "Income and population information in different location divided by SA2 \\\n",
    "\n",
    "Feature we used: SA2(for merging), total earners, median age, median income, population density\\\n",
    "\n",
    "\n",
    "<font color='#F0FFF0'> <b>A demonstrate photo: </b></font> \n",
    "\n",
    "<img src=\"../plots/annual_income.png\" alt=\"Geospatial of annual income\" style=\"width:330px;height:300px;\">"
   ]
  },
  {
   "cell_type": "markdown",
   "metadata": {},
   "source": [
    "<font color='#98AFC7'><h3>Primary data set:</h3></font> \n",
    "The information for merchants, consumers and transaction among them. \\\n",
    "\n",
    "Feature we used: merhcant name, revenue level, take rate, category(preprocessed), gender, postcode, order time and dollor value\n",
    "\n",
    "<font color='#FFE4B5'><h5>Category: </h5></font> \n",
    "The original dataset contain a feature called tag, it contains multiple meatures as a list, such as revenue level and products for the transaction. \\\n",
    "\\\n",
    "We seperated them into different features, and use the netral language process techniques to deal with the sentence that discribes the product (therefore implies the category). \\\n",
    "\\\n",
    "The stop words such as and, is are removed, the product behind the word \"except\" are removed. \\\n",
    "In the end five categories are obtained. \\\n",
    "They are: \"outdoor\", \"art and gifts\", \"music and books\", \"home and technology\" and \"fashion and accessories\".\n",
    "\n",
    "<br>\n",
    "\n",
    "<font color='#FFE4B5'><h5>Postcode: </h5></font> \n",
    "<font color='#FFDAB9'><b>Issue: </b></font> \n",
    "There are pobox mixed with postcode, which caused difficulty in merging external datasets. \\\n",
    "\n",
    "<b>Solution</b> \\\n",
    "Use the <a herf = https://auspost.com.au/postcode.>website </a> to find the corresponding postcode for each pobox. \\\n",
    "Some of the po box are not valid since 2006, they were treated as noise and droped"
   ]
  },
  {
   "cell_type": "markdown",
   "metadata": {},
   "source": [
    "<font color='#98AFC7'><h3>Merging: </h3></font> \n",
    "<b>Join Key:</b> \\\n",
    "External: SA2 \\\n",
    "Internal: Postcode \\\n",
    "</br>\n",
    "\n",
    "<font color='#FFDAB9'><b>Issue: </b></font> \n",
    "The SA2 and Postcode are two different unit for the location, they are not match. \\\n",
    "\\\n",
    "To achieve the most accurate match and lowest transaction lost, we overlayed the two keys one on top of the other to match their location. (shown in the graph, the red lines indicate postcode) \\\n",
    "\n",
    "\\\n",
    "Then the sitution of more than one postcodes match one SA2 and vice versa. \\\n",
    "We use the weighted (percentage of area of one key in the other key) average to calculate the value  of the feature values.\n",
    "\n",
    "<img src=\"../plots/overlay.png\" alt=\"overlay map\" style=\"width:330px;height:300px;\">"
   ]
  },
  {
   "cell_type": "markdown",
   "metadata": {},
   "source": [
    "<font color='#C6DEFF'><h2>3. Genetrate Ranking Criteria</h2></font>\n",
    "\n",
    "<font color='#98AFC7'><h3>1. Credibility: </h3></font> \n",
    "<b>Motivation: </b>  \\\n",
    "We were given the fraud probability for each consumer with daily guanularity, we want to utilize it as a ranking criteria. \\\n",
    "\\\n",
    "Moreover, there are many outliers, such as suddent jump in the dollar value of a particular day for one consumer. Instead of removing them, It is more useful to label them and includes in the ranking metric. \\\n",
    "\\\n",
    "The above two features were used to train a 3-mean clustering model. The result (as shown below) is very satisfiable,the two features are positively propotional to each other, the cluster with highest fraud probability also has the highed outlier rate. Then we labeled each group to high, median and low credibility to use as a factor for ranking system. \\\n",
    "\n",
    "<img src=\"../plots/fraud.png\" alt=\"clustering result\" style=\"width:330px;height:75px;\">\n",
    "\n"
   ]
  },
  {
   "cell_type": "markdown",
   "metadata": {},
   "source": [
    "<font color='#98AFC7'><h3>2. Revenue: </h3></font> "
   ]
  }
 ],
 "metadata": {
  "kernelspec": {
   "display_name": "Python 3.8.9 64-bit",
   "language": "python",
   "name": "python3"
  },
  "language_info": {
   "name": "python",
   "version": "3.8.9"
  },
  "orig_nbformat": 4,
  "vscode": {
   "interpreter": {
    "hash": "31f2aee4e71d21fbe5cf8b01ff0e069b9275f58929596ceb00d14d90e3e16cd6"
   }
  }
 },
 "nbformat": 4,
 "nbformat_minor": 2
}
